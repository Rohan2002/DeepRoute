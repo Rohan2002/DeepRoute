{
 "cells": [
  {
   "cell_type": "code",
   "execution_count": 28,
   "id": "2b8d1fc8",
   "metadata": {},
   "outputs": [],
   "source": [
    "import os\n",
    "import xml.etree.ElementTree as ET\n",
    "import glob"
   ]
  },
  {
   "cell_type": "code",
   "execution_count": 3,
   "id": "93381b5b",
   "metadata": {},
   "outputs": [],
   "source": [
    "parent_directory = os.path.dirname(os.getcwd())\n",
    "path_to_train = f'{parent_directory}/data/train'\n",
    "path_to_test = f'{parent_directory}/data/test'"
   ]
  },
  {
   "cell_type": "code",
   "execution_count": 38,
   "id": "7edce388",
   "metadata": {},
   "outputs": [
    {
     "name": "stdout",
     "output_type": "stream",
     "text": [
      "Path modified: /Users/user/Applications/machine-learning/deeproute/data/test/child_PrL-3-b7243972-e84b-40fa-a6cd-271b81c5ea8e.jpg\n",
      "Path modified: /Users/user/Applications/machine-learning/deeproute/data/test/parent_PrL-16-7d6b896b-1650-44ca-a481-d137f425b5d9.jpg\n",
      "Path modified: /Users/user/Applications/machine-learning/deeproute/data/test/child_PrL-3-d5335ea4-b56c-41b3-bf2a-36da8995f191.jpg\n",
      "Path modified: /Users/user/Applications/machine-learning/deeproute/data/test/parent_PrL-16-53ed2694-5ea2-46f7-944e-3894e1040dac.jpg\n",
      "Path modified: /Users/user/Applications/machine-learning/deeproute/data/test/parent_PrL-16-a851ed2b-ad84-4aea-8eee-cccc37ba33ca.jpg\n",
      "Path modified: /Users/user/Applications/machine-learning/deeproute/data/test/child_PrL-3-e56a8fc0-11cb-4661-96bb-5471f0e8705f.jpg\n",
      "Path modified: /Users/user/Applications/machine-learning/deeproute/data/test/child_PrL-3-65143920-ae1b-4856-baa5-ef4dd548d7ed.jpg\n",
      "Path modified: /Users/user/Applications/machine-learning/deeproute/data/test/child_PrL-3-95213449-e685-4a14-a64c-ce14c4dc9a37.jpg\n",
      "Path modified: /Users/user/Applications/machine-learning/deeproute/data/test/parent_PrL-16-58f0c90d-274f-4e52-aa87-5d3846e11b3f.jpg\n",
      "Path modified: /Users/user/Applications/machine-learning/deeproute/data/test/child_PrL-3-63d6ab38-8263-4afd-9091-81cc28d60dcc.jpg\n",
      "Path modified: /Users/user/Applications/machine-learning/deeproute/data/test/parent_PrL-16-f52acd0f-757e-4fe2-97a1-b95a09e318d1.jpg\n",
      "Path modified: /Users/user/Applications/machine-learning/deeproute/data/test/child_PrL-3-6c1bc0a9-8e9b-4cc6-9f60-ae67a4ee134e.jpg\n",
      "Path modified: /Users/user/Applications/machine-learning/deeproute/data/test/child_PrL-3-7a25c60c-216b-4193-9677-b7047fb25b45.jpg\n",
      "Path modified: /Users/user/Applications/machine-learning/deeproute/data/test/parent_PrL-16-147edb43-1d51-4248-8404-dade5151280d.jpg\n",
      "Path modified: /Users/user/Applications/machine-learning/deeproute/data/test/parent_PrL-16-d98daef0-3389-4643-9f7a-96b8ba00e039.jpg\n",
      "Path modified: /Users/user/Applications/machine-learning/deeproute/data/test/parent_PrL-16-bb760af5-d69d-4f6e-8e67-e070658edaf2.jpg\n"
     ]
    }
   ],
   "source": [
    "for xml_file in glob.glob(path_to_test + '/*.xml'):\n",
    "    tree = ET.parse(sample_xml_file)\n",
    "    root = tree.getroot()\n",
    "    xml_file_name = os.path.splitext(xml_file.split('/')[-1])[0]+'.jpg'\n",
    "    \n",
    "    root.find('folder').text= 'test'\n",
    "    root.find('filename').text= xml_file_name\n",
    "    root.find('path').text=f'{path_to_test}/{xml_file_name}'\n",
    "    \n",
    "    tree.write(xml_file)\n",
    "    print(f'Path modified: {root.find(\"path\").text}')"
   ]
  },
  {
   "cell_type": "code",
   "execution_count": 39,
   "id": "cc80458e",
   "metadata": {},
   "outputs": [
    {
     "name": "stdout",
     "output_type": "stream",
     "text": [
      "Path modified: /Users/user/Applications/machine-learning/deeproute/data/train/child_PrL-3-7f5cf0df-3d47-495d-bb1b-226138c47497.jpg\n",
      "Path modified: /Users/user/Applications/machine-learning/deeproute/data/train/child_PrL-3-7eac3f49-0759-4b1e-9a9a-ef9164e3dccb.jpg\n",
      "Path modified: /Users/user/Applications/machine-learning/deeproute/data/train/parent_PrL-16-4439d55f-9ac1-4d53-9be7-7a2c387d5d82.jpg\n",
      "Path modified: /Users/user/Applications/machine-learning/deeproute/data/train/child_PrL-3-e5382ec0-970d-4c64-88b0-33f1408c95b6.jpg\n",
      "Path modified: /Users/user/Applications/machine-learning/deeproute/data/train/parent_PrL-16-b8efbfb4-ea63-4fb2-838a-041bf0e87a25.jpg\n",
      "Path modified: /Users/user/Applications/machine-learning/deeproute/data/train/parent_PrL-16-0e1db5fa-1141-41b6-a6f4-407706afb43f.jpg\n",
      "Path modified: /Users/user/Applications/machine-learning/deeproute/data/train/parent_PrL-16-22557807-6d8e-47ff-a1e0-50ea42683763.jpg\n",
      "Path modified: /Users/user/Applications/machine-learning/deeproute/data/train/parent_PrL-16-9caba19a-0c2d-4455-835b-911882e54da6.jpg\n",
      "Path modified: /Users/user/Applications/machine-learning/deeproute/data/train/child_PrL-3-71ff4012-bcc5-4805-90c9-3e93202e08c6.jpg\n",
      "Path modified: /Users/user/Applications/machine-learning/deeproute/data/train/child_PrL-3-0c23843d-8d14-476f-8b23-4999ccae54d1.jpg\n",
      "Path modified: /Users/user/Applications/machine-learning/deeproute/data/train/parent_PrL-16-33023cd8-4ffe-4a65-ae60-1f4cc8c73232.jpg\n",
      "Path modified: /Users/user/Applications/machine-learning/deeproute/data/train/child_PrL-3-9e4fa86c-fcbb-4d06-a861-a20f1ac2d8a3.jpg\n",
      "Path modified: /Users/user/Applications/machine-learning/deeproute/data/train/parent_PrL-16-7fb33265-0709-4891-9f1f-c2cf6c958fba.jpg\n",
      "Path modified: /Users/user/Applications/machine-learning/deeproute/data/train/child_PrL-3-d99f9f63-1612-470f-b36d-9ec1e6ef9dc1.jpg\n",
      "Path modified: /Users/user/Applications/machine-learning/deeproute/data/train/child_PrL-3-c672272e-965b-4be2-bd85-7b6af60dd0d0.jpg\n",
      "Path modified: /Users/user/Applications/machine-learning/deeproute/data/train/parent_PrL-16-e8055fd4-a9a7-4287-9f4a-1260e9fc1dac.jpg\n",
      "Path modified: /Users/user/Applications/machine-learning/deeproute/data/train/parent_PrL-16-a7ec1d05-6d78-4c54-ae9d-28c370dbc395.jpg\n",
      "Path modified: /Users/user/Applications/machine-learning/deeproute/data/train/child_PrL-3-6aef7dbf-f443-41b4-aa39-ec8c6d7607db.jpg\n",
      "Path modified: /Users/user/Applications/machine-learning/deeproute/data/train/parent_PrL-16-20f4eaa4-25e8-4454-a9f9-14bebd20339a.jpg\n",
      "Path modified: /Users/user/Applications/machine-learning/deeproute/data/train/child_PrL-3-429fb940-1b91-4417-8525-290386b3a77a.jpg\n",
      "Path modified: /Users/user/Applications/machine-learning/deeproute/data/train/child_PrL-3-15fcce3d-3c19-47da-82c8-57b3e665d3bd.jpg\n",
      "Path modified: /Users/user/Applications/machine-learning/deeproute/data/train/child_PrL-3-f4f5f45f-c075-485c-8134-acb220bf4cc7.jpg\n",
      "Path modified: /Users/user/Applications/machine-learning/deeproute/data/train/parent_PrL-16-57e3508f-3c75-4a15-affe-ba07d74ef77e.jpg\n",
      "Path modified: /Users/user/Applications/machine-learning/deeproute/data/train/parent_PrL-16-5a96bdfa-b0aa-470a-920e-798d7352d357.jpg\n",
      "Path modified: /Users/user/Applications/machine-learning/deeproute/data/train/child_PrL-3-a8898f55-f67e-4e77-b872-d7a4e0a60a81.jpg\n",
      "Path modified: /Users/user/Applications/machine-learning/deeproute/data/train/parent_PrL-16-c543c537-33e2-4800-8902-cc9a67e4de89.jpg\n",
      "Path modified: /Users/user/Applications/machine-learning/deeproute/data/train/child_PrL-3-8fd06c02-f369-4867-a582-f630eb835424.jpg\n",
      "Path modified: /Users/user/Applications/machine-learning/deeproute/data/train/parent_PrL-16-272cb4b3-0d5e-4d99-aa90-7aadaa643dd9.jpg\n",
      "Path modified: /Users/user/Applications/machine-learning/deeproute/data/train/child_PrL-3-3dc46c29-5359-4126-a5c5-d5664412e7d2.jpg\n",
      "Path modified: /Users/user/Applications/machine-learning/deeproute/data/train/parent_PrL-16-1dc1f5df-cfa4-4622-aa80-b88534fa2b72.jpg\n",
      "Path modified: /Users/user/Applications/machine-learning/deeproute/data/train/parent_PrL-16-76d00b9d-4768-4f02-ad37-61b875304371.jpg\n",
      "Path modified: /Users/user/Applications/machine-learning/deeproute/data/train/child_PrL-3-83bd96d7-f326-4345-b6d4-f9c40db7b938.jpg\n",
      "Path modified: /Users/user/Applications/machine-learning/deeproute/data/train/child_PrL-3-9f5e1b49-5f18-4d36-8d52-9c555f0ae455.jpg\n",
      "Path modified: /Users/user/Applications/machine-learning/deeproute/data/train/child_PrL-3-2e7fefb3-fab4-4ab7-befc-45d6b9976232.jpg\n",
      "Path modified: /Users/user/Applications/machine-learning/deeproute/data/train/parent_PrL-16-0609f2f2-ae5c-42b1-a401-c5bd2c3544a3.jpg\n",
      "Path modified: /Users/user/Applications/machine-learning/deeproute/data/train/parent_PrL-16-33d5c49d-fd47-44cc-b425-7b2365a47832.jpg\n",
      "Path modified: /Users/user/Applications/machine-learning/deeproute/data/train/child_PrL-3-91f88344-039d-4b75-a5db-d007894d2087.jpg\n",
      "Path modified: /Users/user/Applications/machine-learning/deeproute/data/train/child_PrL-3-d6e79643-0041-4056-8581-8313e681d525.jpg\n",
      "Path modified: /Users/user/Applications/machine-learning/deeproute/data/train/child_PrL-3-c2557903-70ab-4940-a93b-32fea96c3a39.jpg\n",
      "Path modified: /Users/user/Applications/machine-learning/deeproute/data/train/parent_PrL-16-8702f1b2-d3c3-4849-b523-13d63c36fbe6.jpg\n",
      "Path modified: /Users/user/Applications/machine-learning/deeproute/data/train/child_PrL-3-4d4440d4-de78-404e-b05b-54772a7300b2.jpg\n",
      "Path modified: /Users/user/Applications/machine-learning/deeproute/data/train/child_PrL-3-a76b3b21-2b26-43c3-90b1-59278cb9ec91.jpg\n",
      "Path modified: /Users/user/Applications/machine-learning/deeproute/data/train/parent_PrL-16-041e58de-6b3b-46cd-ab30-ce30b5a96201.jpg\n",
      "Path modified: /Users/user/Applications/machine-learning/deeproute/data/train/parent_PrL-16-7e2c7e9a-6747-4d56-9eb5-dc3da2b8012b.jpg\n",
      "Path modified: /Users/user/Applications/machine-learning/deeproute/data/train/parent_PrL-16-5ffc3ab5-c9f7-408b-82e3-4b215e7be3a9.jpg\n",
      "Path modified: /Users/user/Applications/machine-learning/deeproute/data/train/parent_PrL-16-e915902d-5549-4a4f-a011-ca6f29077f89.jpg\n",
      "Path modified: /Users/user/Applications/machine-learning/deeproute/data/train/parent_PrL-16-46a6f054-7a1b-4db7-82a6-56effaa48b46.jpg\n",
      "Path modified: /Users/user/Applications/machine-learning/deeproute/data/train/child_PrL-3-ff336e70-f4a6-4bf8-a361-d560918dc779.jpg\n",
      "Path modified: /Users/user/Applications/machine-learning/deeproute/data/train/parent_PrL-16-acee501d-fe00-4c38-ab54-0aa867ce3f20.jpg\n",
      "Path modified: /Users/user/Applications/machine-learning/deeproute/data/train/parent_PrL-16-194dd8ee-c0cd-4220-8f6a-7956d0efb09d.jpg\n",
      "Path modified: /Users/user/Applications/machine-learning/deeproute/data/train/child_PrL-3-a05c5cb6-e01f-4277-abf6-981ad27f8866.jpg\n",
      "Path modified: /Users/user/Applications/machine-learning/deeproute/data/train/parent_PrL-16-1d509383-42c3-4ac9-a60b-5a145ad88f0d.jpg\n",
      "Path modified: /Users/user/Applications/machine-learning/deeproute/data/train/parent_PrL-16-e8369693-10ce-44f8-87d3-e235a8ef44d0.jpg\n",
      "Path modified: /Users/user/Applications/machine-learning/deeproute/data/train/parent_PrL-16-fdda7d12-5e64-4b4e-8b10-f1de83850873.jpg\n",
      "Path modified: /Users/user/Applications/machine-learning/deeproute/data/train/parent_PrL-16-5d76eb7e-b44e-430f-b858-732dc4eab5f0.jpg\n"
     ]
    }
   ],
   "source": [
    "for xml_file in glob.glob(path_to_train + '/*.xml'):\n",
    "    tree = ET.parse(sample_xml_file)\n",
    "    root = tree.getroot()\n",
    "    xml_file_name = os.path.splitext(xml_file.split('/')[-1])[0]+'.jpg'\n",
    "    \n",
    "    root.find('folder').text= 'train'\n",
    "    root.find('filename').text= xml_file_name\n",
    "    root.find('path').text=f'{path_to_train}/{xml_file_name}'\n",
    "  \n",
    "    tree.write(xml_file)\n",
    "    print(f'Path modified: {root.find(\"path\").text}')"
   ]
  }
 ],
 "metadata": {
  "kernelspec": {
   "display_name": "Python deep-route",
   "language": "python",
   "name": "deep-route"
  },
  "language_info": {
   "codemirror_mode": {
    "name": "ipython",
    "version": 3
   },
   "file_extension": ".py",
   "mimetype": "text/x-python",
   "name": "python",
   "nbconvert_exporter": "python",
   "pygments_lexer": "ipython3",
   "version": "3.8.10"
  }
 },
 "nbformat": 4,
 "nbformat_minor": 5
}
