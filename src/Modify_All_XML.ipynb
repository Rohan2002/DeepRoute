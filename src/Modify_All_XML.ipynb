{
 "cells": [
  {
   "cell_type": "code",
   "execution_count": 1,
   "metadata": {},
   "outputs": [],
   "source": [
    "import os\n",
    "import xml.etree.ElementTree as ET\n",
    "import glob"
   ]
  },
  {
   "cell_type": "code",
   "execution_count": 2,
   "metadata": {},
   "outputs": [],
   "source": [
    "parent_directory = os.path.dirname(os.getcwd())\n",
    "path_to_train = f'{parent_directory}/data/train'\n",
    "path_to_test = f'{parent_directory}/data/test'"
   ]
  },
  {
   "cell_type": "code",
   "execution_count": 19,
   "metadata": {},
   "outputs": [
    {
     "name": "stdout",
     "output_type": "stream",
     "text": [
      "child_PrL-4-68dd97f2-e66f-466e-ab86-32bb61f80e03.jpg\n",
      "parent_PrL-4-c97a801d-4703-4cab-b2c5-a13fd8c6483e.jpg\n",
      "parent_PrL-4-35bdd75c-dace-4319-8fc5-19970a21e421.jpg\n",
      "parent_PrL-4-d8fd1ed7-d7ac-4b7a-9df0-f7eabb8bf43f.jpg\n",
      "parent_PrL-4-96ef09be-00d9-4a86-a443-3ec18f932a8e.jpg\n",
      "child_PrL-4-07e730fb-03c2-4af4-ac3a-a808de5bab6a.jpg\n",
      "parent_PrL-4-c637395f-e544-4b44-8cd1-2c20b2e6f6d5.jpg\n",
      "parent_PrL-4-20273a49-8a2d-4d4a-a397-c87449d02da2.jpg\n",
      "parent_PrL-4-1c6dfc7c-6554-4f51-a518-1b403fbbaf4f.jpg\n",
      "child_PrL-4-6b4bfb89-a38a-4c83-92fd-888b3734c6a2.jpg\n",
      "parent_PrL-4-ad054426-b309-4399-8e2d-47d25ec000d0.jpg\n",
      "child_PrL-4-8d10025b-66f3-4cab-a0ec-5734afc6f3d6.jpg\n",
      "child_PrL-4-aa5480f1-2322-4b40-9bf6-171fe44b3180.jpg\n",
      "child_PrL-4-572fd2db-fa6a-4b05-b694-0acea9cfb79d.jpg\n",
      "child_PrL-4-628bced4-f246-479b-ba29-6d47b4f2547d.jpg\n",
      "child_PrL-4-4622dd41-59e6-4cd6-aa35-cd576445dfc2.jpg\n"
     ]
    }
   ],
   "source": [
    "for xml_file in glob.glob(path_to_test + '/*.xml'):\n",
    "    xml_file_name = os.path.splitext(xml_file.split('/')[-1])[0]+'.jpg'\n",
    "    print(xml_file_name)"
   ]
  },
  {
   "cell_type": "code",
   "execution_count": 22,
   "metadata": {},
   "outputs": [
    {
     "name": "stdout",
     "output_type": "stream",
     "text": [
      "Path modified: /Users/user/Applications/machine-learning/deeproute/data/test/child_PrL-4-68dd97f2-e66f-466e-ab86-32bb61f80e03.jpg\n",
      "Path modified: /Users/user/Applications/machine-learning/deeproute/data/test/parent_PrL-4-c97a801d-4703-4cab-b2c5-a13fd8c6483e.jpg\n",
      "Path modified: /Users/user/Applications/machine-learning/deeproute/data/test/parent_PrL-4-35bdd75c-dace-4319-8fc5-19970a21e421.jpg\n",
      "Path modified: /Users/user/Applications/machine-learning/deeproute/data/test/parent_PrL-4-d8fd1ed7-d7ac-4b7a-9df0-f7eabb8bf43f.jpg\n",
      "Path modified: /Users/user/Applications/machine-learning/deeproute/data/test/parent_PrL-4-96ef09be-00d9-4a86-a443-3ec18f932a8e.jpg\n",
      "Path modified: /Users/user/Applications/machine-learning/deeproute/data/test/child_PrL-4-07e730fb-03c2-4af4-ac3a-a808de5bab6a.jpg\n",
      "Path modified: /Users/user/Applications/machine-learning/deeproute/data/test/parent_PrL-4-c637395f-e544-4b44-8cd1-2c20b2e6f6d5.jpg\n",
      "Path modified: /Users/user/Applications/machine-learning/deeproute/data/test/parent_PrL-4-20273a49-8a2d-4d4a-a397-c87449d02da2.jpg\n",
      "Path modified: /Users/user/Applications/machine-learning/deeproute/data/test/parent_PrL-4-1c6dfc7c-6554-4f51-a518-1b403fbbaf4f.jpg\n",
      "Path modified: /Users/user/Applications/machine-learning/deeproute/data/test/child_PrL-4-6b4bfb89-a38a-4c83-92fd-888b3734c6a2.jpg\n",
      "Path modified: /Users/user/Applications/machine-learning/deeproute/data/test/parent_PrL-4-ad054426-b309-4399-8e2d-47d25ec000d0.jpg\n",
      "Path modified: /Users/user/Applications/machine-learning/deeproute/data/test/child_PrL-4-8d10025b-66f3-4cab-a0ec-5734afc6f3d6.jpg\n",
      "Path modified: /Users/user/Applications/machine-learning/deeproute/data/test/child_PrL-4-aa5480f1-2322-4b40-9bf6-171fe44b3180.jpg\n",
      "Path modified: /Users/user/Applications/machine-learning/deeproute/data/test/child_PrL-4-572fd2db-fa6a-4b05-b694-0acea9cfb79d.jpg\n",
      "Path modified: /Users/user/Applications/machine-learning/deeproute/data/test/child_PrL-4-628bced4-f246-479b-ba29-6d47b4f2547d.jpg\n",
      "Path modified: /Users/user/Applications/machine-learning/deeproute/data/test/child_PrL-4-4622dd41-59e6-4cd6-aa35-cd576445dfc2.jpg\n"
     ]
    }
   ],
   "source": [
    "for xml_file in glob.glob(path_to_test + '/*.xml'):\n",
    "    tree = ET.parse(xml_file)\n",
    "    root = tree.getroot()\n",
    "    xml_file_name = os.path.splitext(xml_file.split('/')[-1])[0]+'.jpg'\n",
    "    \n",
    "    root.find('folder').text= 'test'\n",
    "    root.find('filename').text= xml_file_name\n",
    "    root.find('path').text=f'{path_to_test}/{xml_file_name}'\n",
    "    \n",
    "    tree.write(xml_file)\n",
    "    print(f'Path modified: {root.find(\"path\").text}')"
   ]
  },
  {
   "cell_type": "code",
   "execution_count": 21,
   "metadata": {},
   "outputs": [
    {
     "name": "stdout",
     "output_type": "stream",
     "text": [
      "Path modified: /Users/user/Applications/machine-learning/deeproute/data/train/child_PrL-4-2e7ae5a2-b0c2-46cb-9591-f5de91587f29.jpg\n",
      "Path modified: /Users/user/Applications/machine-learning/deeproute/data/train/parent_PrL-4-0e2a1343-88d2-4db0-989d-02c1fe4d4bbd.jpg\n",
      "Path modified: /Users/user/Applications/machine-learning/deeproute/data/train/child_PrL-4-3e8882a4-1f85-495a-9e8a-30c3c73ef6a2.jpg\n",
      "Path modified: /Users/user/Applications/machine-learning/deeproute/data/train/child_PrL-4-5212744d-caec-44b5-a17a-390e346cf594.jpg\n",
      "Path modified: /Users/user/Applications/machine-learning/deeproute/data/train/child_PrL-4-572d620c-4671-437e-9bbd-344cb23ba32a.jpg\n",
      "Path modified: /Users/user/Applications/machine-learning/deeproute/data/train/parent_PrL-4-f1ef16a4-8153-4ec7-aa0d-7518a2d8d630.jpg\n",
      "Path modified: /Users/user/Applications/machine-learning/deeproute/data/train/parent_PrL-4-d422bb7e-eb96-45e9-a264-28b065bb00f1.jpg\n",
      "Path modified: /Users/user/Applications/machine-learning/deeproute/data/train/child_PrL-4-0d82901e-6e4f-49b5-bc11-3f43aaf7104d.jpg\n",
      "Path modified: /Users/user/Applications/machine-learning/deeproute/data/train/child_PrL-4-23e5b662-d32c-424f-9407-ed8442c7e3eb.jpg\n",
      "Path modified: /Users/user/Applications/machine-learning/deeproute/data/train/parent_PrL-4-fc10efc2-704e-45a7-a851-5f4509feb481.jpg\n",
      "Path modified: /Users/user/Applications/machine-learning/deeproute/data/train/parent_PrL-4-541dc046-be40-4a42-acde-9f3cc79154e8.jpg\n",
      "Path modified: /Users/user/Applications/machine-learning/deeproute/data/train/child_PrL-4-9460ed17-231e-4ee8-b39d-eb69001380d3.jpg\n",
      "Path modified: /Users/user/Applications/machine-learning/deeproute/data/train/parent_PrL-4-2c5dcf55-9f0e-4acf-a645-8c9966813503.jpg\n",
      "Path modified: /Users/user/Applications/machine-learning/deeproute/data/train/parent_PrL-4-0f93312b-0d14-4741-baa5-a82fe96d695f.jpg\n",
      "Path modified: /Users/user/Applications/machine-learning/deeproute/data/train/parent_PrL-4-48e876cc-0ab9-4230-8c31-2b39c10bc662.jpg\n",
      "Path modified: /Users/user/Applications/machine-learning/deeproute/data/train/parent_PrL-4-5cb4c947-f79b-4f7f-a633-2b828e65a9fe.jpg\n",
      "Path modified: /Users/user/Applications/machine-learning/deeproute/data/train/parent_PrL-4-e2c75291-4caa-45ea-b9ca-16c92e015c74.jpg\n",
      "Path modified: /Users/user/Applications/machine-learning/deeproute/data/train/parent_PrL-4-f64053e0-5924-4834-a8d1-d2c9718cef6c.jpg\n",
      "Path modified: /Users/user/Applications/machine-learning/deeproute/data/train/child_PrL-4-42636f09-63d8-4d95-8b50-f96112835447.jpg\n",
      "Path modified: /Users/user/Applications/machine-learning/deeproute/data/train/child_PrL-4-834cb1ed-93b0-4f49-923e-908464a70c75.jpg\n",
      "Path modified: /Users/user/Applications/machine-learning/deeproute/data/train/child_PrL-4-309251e8-a3da-4446-a5ba-3695b92a2c25.jpg\n",
      "Path modified: /Users/user/Applications/machine-learning/deeproute/data/train/parent_PrL-4-b0cd8e8b-6b0d-46d1-9853-410ff4e02481.jpg\n",
      "Path modified: /Users/user/Applications/machine-learning/deeproute/data/train/parent_PrL-4-5fc6873d-e81a-4361-a0fd-f85958409401.jpg\n",
      "Path modified: /Users/user/Applications/machine-learning/deeproute/data/train/parent_PrL-4-d742620e-691b-457d-a291-b2c45801d04d.jpg\n",
      "Path modified: /Users/user/Applications/machine-learning/deeproute/data/train/parent_PrL-4-f65a1cca-f24c-4fc7-8e6a-a37a68462736.jpg\n",
      "Path modified: /Users/user/Applications/machine-learning/deeproute/data/train/parent_PrL-4-5af9dc27-d53d-4e6c-a722-6e0feca71e0f.jpg\n",
      "Path modified: /Users/user/Applications/machine-learning/deeproute/data/train/parent_PrL-4-30388f8f-32d7-4b54-96a4-7a47e22f1087.jpg\n",
      "Path modified: /Users/user/Applications/machine-learning/deeproute/data/train/parent_PrL-4-539351db-999e-4e75-9853-b7a47d141a03.jpg\n",
      "Path modified: /Users/user/Applications/machine-learning/deeproute/data/train/child_PrL-4-fef9b833-f8d0-49b4-94d2-cb4eac400357.jpg\n",
      "Path modified: /Users/user/Applications/machine-learning/deeproute/data/train/child_PrL-4-cae2ae73-fe0d-4be5-84e7-4f2d8b37ff38.jpg\n",
      "Path modified: /Users/user/Applications/machine-learning/deeproute/data/train/parent_PrL-4-bccbcf0a-3153-4c95-a90b-d0101d474302.jpg\n",
      "Path modified: /Users/user/Applications/machine-learning/deeproute/data/train/parent_PrL-4-be7b74f2-71ea-4bb3-a908-f2f7a1aa8c84.jpg\n",
      "Path modified: /Users/user/Applications/machine-learning/deeproute/data/train/parent_PrL-4-76752131-7875-420c-8240-c6be0bdea365.jpg\n",
      "Path modified: /Users/user/Applications/machine-learning/deeproute/data/train/child_PrL-4-aa4e2e92-1050-464b-bfff-074afd394892.jpg\n",
      "Path modified: /Users/user/Applications/machine-learning/deeproute/data/train/child_PrL-4-ab398a6d-63a1-4737-8fb7-f9cea4cb1f59.jpg\n",
      "Path modified: /Users/user/Applications/machine-learning/deeproute/data/train/child_PrL-4-93f10ee4-8719-4b8b-97ca-50baee448756.jpg\n",
      "Path modified: /Users/user/Applications/machine-learning/deeproute/data/train/child_PrL-4-c342e9ae-7e1f-46d3-85d0-c16dd2cb7c25.jpg\n",
      "Path modified: /Users/user/Applications/machine-learning/deeproute/data/train/child_PrL-4-a05bda78-2687-4bb6-b4a9-a4a4a6f7a67a.jpg\n",
      "Path modified: /Users/user/Applications/machine-learning/deeproute/data/train/parent_PrL-4-f4e46f8e-9e1e-497c-97de-457e132e0219.jpg\n",
      "Path modified: /Users/user/Applications/machine-learning/deeproute/data/train/child_PrL-4-2cce7f1c-9581-44a0-bc18-a50754af8957.jpg\n",
      "Path modified: /Users/user/Applications/machine-learning/deeproute/data/train/parent_PrL-4-3d929c09-f6cb-4260-b00c-a910243a03cf.jpg\n",
      "Path modified: /Users/user/Applications/machine-learning/deeproute/data/train/parent_PrL-4-4e8478e3-188e-449d-b883-a0fc5a726f73.jpg\n",
      "Path modified: /Users/user/Applications/machine-learning/deeproute/data/train/child_PrL-4-a4cb3058-3bf3-4588-b17e-95b2364e8cb2.jpg\n",
      "Path modified: /Users/user/Applications/machine-learning/deeproute/data/train/child_PrL-4-eab445b2-b552-4b59-8616-85b7b1cada10.jpg\n",
      "Path modified: /Users/user/Applications/machine-learning/deeproute/data/train/parent_PrL-4-8f662199-de35-4074-addb-52c1a655709c.jpg\n",
      "Path modified: /Users/user/Applications/machine-learning/deeproute/data/train/child_PrL-4-4f862336-a2ac-47f7-be70-184c459da942.jpg\n",
      "Path modified: /Users/user/Applications/machine-learning/deeproute/data/train/parent_PrL-4-131fd2fc-1bd1-4896-aa02-c81886d1b19d.jpg\n",
      "Path modified: /Users/user/Applications/machine-learning/deeproute/data/train/parent_PrL-4-70d08ac8-5266-4d1b-8754-dddc10364300.jpg\n",
      "Path modified: /Users/user/Applications/machine-learning/deeproute/data/train/child_PrL-4-655312c3-476a-4496-94db-acd2cc692afa.jpg\n"
     ]
    }
   ],
   "source": [
    "for xml_file in glob.glob(path_to_train + '/*.xml'):\n",
    "    tree = ET.parse(xml_file)\n",
    "    root = tree.getroot()\n",
    "    xml_file_name = os.path.splitext(xml_file.split('/')[-1])[0]+'.jpg'\n",
    "    \n",
    "    root.find('folder').text= 'train'\n",
    "    root.find('filename').text= xml_file_name\n",
    "    root.find('path').text=f'{path_to_train}/{xml_file_name}'\n",
    "  \n",
    "    tree.write(xml_file)\n",
    "    print(f'Path modified: {root.find(\"path\").text}')"
   ]
  },
  {
   "cell_type": "code",
   "execution_count": null,
   "metadata": {},
   "outputs": [],
   "source": [
    "for xml_file in glob.glob(path_to_train + '/*.xml'):\n",
    "    tree = ET.parse(sample_xml_file)\n",
    "    root = tree.getroot()\n",
    "    xml_file_name = os.path.splitext(xml_file.split('/')[-1])[0]+'.jpg'\n",
    "    \n",
    "    root.find('folder').text= 'train'\n",
    "    root.find('filename').text= xml_file_name\n",
    "    root.find('path').text=f'{path_to_train}/{xml_file_name}'\n",
    "  \n",
    "    tree.write(xml_file)\n",
    "    print(f'Path modified: {root.find(\"path\").text}')"
   ]
  },
  {
   "cell_type": "code",
   "execution_count": 11,
   "metadata": {},
   "outputs": [
    {
     "name": "stdout",
     "output_type": "stream",
     "text": [
      "Path modified: /Users/user/Applications/machine-learning/deeproute/data/train/child_PrL-3-7f5cf0df-3d47-495d-bb1b-226138c47497.jpg\n",
      "Path modified: /Users/user/Applications/machine-learning/deeproute/data/train/child_PrL-3-7eac3f49-0759-4b1e-9a9a-ef9164e3dccb.jpg\n",
      "Path modified: /Users/user/Applications/machine-learning/deeproute/data/train/child_PrL-3-e5382ec0-970d-4c64-88b0-33f1408c95b6.jpg\n",
      "Path modified: /Users/user/Applications/machine-learning/deeproute/data/train/child_PrL-3-71ff4012-bcc5-4805-90c9-3e93202e08c6.jpg\n",
      "Path modified: /Users/user/Applications/machine-learning/deeproute/data/train/child_PrL-3-0c23843d-8d14-476f-8b23-4999ccae54d1.jpg\n",
      "Path modified: /Users/user/Applications/machine-learning/deeproute/data/train/child_PrL-3-9e4fa86c-fcbb-4d06-a861-a20f1ac2d8a3.jpg\n",
      "Path modified: /Users/user/Applications/machine-learning/deeproute/data/train/child_PrL-3-d99f9f63-1612-470f-b36d-9ec1e6ef9dc1.jpg\n",
      "Path modified: /Users/user/Applications/machine-learning/deeproute/data/train/child_PrL-3-c672272e-965b-4be2-bd85-7b6af60dd0d0.jpg\n",
      "Path modified: /Users/user/Applications/machine-learning/deeproute/data/train/child_PrL-3-6aef7dbf-f443-41b4-aa39-ec8c6d7607db.jpg\n",
      "Path modified: /Users/user/Applications/machine-learning/deeproute/data/train/child_PrL-3-429fb940-1b91-4417-8525-290386b3a77a.jpg\n",
      "Path modified: /Users/user/Applications/machine-learning/deeproute/data/train/child_PrL-3-15fcce3d-3c19-47da-82c8-57b3e665d3bd.jpg\n",
      "Path modified: /Users/user/Applications/machine-learning/deeproute/data/train/child_PrL-3-f4f5f45f-c075-485c-8134-acb220bf4cc7.jpg\n",
      "Path modified: /Users/user/Applications/machine-learning/deeproute/data/train/child_PrL-3-a8898f55-f67e-4e77-b872-d7a4e0a60a81.jpg\n",
      "Path modified: /Users/user/Applications/machine-learning/deeproute/data/train/child_PrL-3-8fd06c02-f369-4867-a582-f630eb835424.jpg\n",
      "Path modified: /Users/user/Applications/machine-learning/deeproute/data/train/child_PrL-3-3dc46c29-5359-4126-a5c5-d5664412e7d2.jpg\n",
      "Path modified: /Users/user/Applications/machine-learning/deeproute/data/train/child_PrL-3-83bd96d7-f326-4345-b6d4-f9c40db7b938.jpg\n",
      "Path modified: /Users/user/Applications/machine-learning/deeproute/data/train/child_PrL-3-9f5e1b49-5f18-4d36-8d52-9c555f0ae455.jpg\n",
      "Path modified: /Users/user/Applications/machine-learning/deeproute/data/train/child_PrL-3-2e7fefb3-fab4-4ab7-befc-45d6b9976232.jpg\n",
      "Path modified: /Users/user/Applications/machine-learning/deeproute/data/train/child_PrL-3-91f88344-039d-4b75-a5db-d007894d2087.jpg\n",
      "Path modified: /Users/user/Applications/machine-learning/deeproute/data/train/child_PrL-3-d6e79643-0041-4056-8581-8313e681d525.jpg\n",
      "Path modified: /Users/user/Applications/machine-learning/deeproute/data/train/child_PrL-3-c2557903-70ab-4940-a93b-32fea96c3a39.jpg\n",
      "Path modified: /Users/user/Applications/machine-learning/deeproute/data/train/child_PrL-3-4d4440d4-de78-404e-b05b-54772a7300b2.jpg\n",
      "Path modified: /Users/user/Applications/machine-learning/deeproute/data/train/child_PrL-3-a76b3b21-2b26-43c3-90b1-59278cb9ec91.jpg\n",
      "Path modified: /Users/user/Applications/machine-learning/deeproute/data/train/child_PrL-3-ff336e70-f4a6-4bf8-a361-d560918dc779.jpg\n",
      "Path modified: /Users/user/Applications/machine-learning/deeproute/data/train/child_PrL-3-a05c5cb6-e01f-4277-abf6-981ad27f8866.jpg\n"
     ]
    }
   ],
   "source": [
    "for xml_file in glob.glob(path_to_train + '/child*.xml'):\n",
    "    tree = ET.parse(xml_file) \n",
    "    root = tree.getroot()\n",
    "    \n",
    "    root.find('object').find('name').text = 'child-mice'\n",
    "    tree.write(xml_file)\n",
    "    print(f'Path modified: {root.find(\"path\").text}')"
   ]
  },
  {
   "cell_type": "code",
   "execution_count": 24,
   "metadata": {},
   "outputs": [
    {
     "name": "stdout",
     "output_type": "stream",
     "text": [
      "257 317 170 234\n",
      "306 485 344 554\n",
      "272 324 167 250\n",
      "289 326 232 305\n",
      "272 314 171 247\n",
      "224 378 183 450\n",
      "788 963 293 470\n",
      "276 344 188 285\n",
      "288 338 218 305\n",
      "672 907 399 536\n",
      "287 436 285 510\n",
      "247 307 165 227\n",
      "239 393 251 476\n",
      "465 647 434 567\n",
      "221 370 200 450\n",
      "799 973 212 365\n",
      "740 939 356 514\n",
      "838 971 208 371\n",
      "232 314 169 210\n",
      "277 328 179 268\n",
      "267 327 173 220\n",
      "281 393 193 467\n",
      "869 989 237 395\n",
      "794 972 291 473\n",
      "839 970 199 370\n",
      "296 462 297 520\n",
      "264 393 239 475\n",
      "839 965 200 370\n",
      "216 309 167 222\n",
      "265 344 175 243\n",
      "337 515 370 554\n",
      "299 462 291 538\n",
      "272 392 199 462\n",
      "281 321 135 225\n",
      "230 312 173 208\n",
      "278 326 164 239\n",
      "288 327 137 222\n",
      "263 309 170 259\n",
      "222 375 228 460\n",
      "257 297 157 244\n",
      "821 972 199 367\n",
      "359 601 460 572\n",
      "274 351 168 226\n",
      "287 348 226 317\n",
      "356 483 392 559\n",
      "288 348 199 304\n",
      "272 389 209 469\n",
      "215 386 308 475\n",
      "263 344 162 198\n"
     ]
    }
   ],
   "source": [
    "for xml_file in glob.glob(path_to_train + '/*.xml'):\n",
    "    tree = ET.parse(xml_file) \n",
    "    root = tree.getroot()\n",
    "    \n",
    "    bnb = root.find('object').find('bndbox')\n",
    "    print(bnb.find('xmin').text, bnb.find('xmax').text, bnb.find('ymin').text,bnb.find('ymax').text)"
   ]
  }
 ],
 "metadata": {
  "kernelspec": {
   "display_name": "Python3 deep-route",
   "language": "python",
   "name": "deep-route"
  },
  "language_info": {
   "codemirror_mode": {
    "name": "ipython",
    "version": 3
   },
   "file_extension": ".py",
   "mimetype": "text/x-python",
   "name": "python",
   "nbconvert_exporter": "python",
   "pygments_lexer": "ipython3",
   "version": "3.8.10"
  }
 },
 "nbformat": 4,
 "nbformat_minor": 5
}
