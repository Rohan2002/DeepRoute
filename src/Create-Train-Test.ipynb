{
 "cells": [
  {
   "cell_type": "code",
   "execution_count": 87,
   "metadata": {},
   "outputs": [
    {
     "data": {
      "application/javascript": [
       "\n",
       "            setTimeout(function() {\n",
       "                var nbb_cell_id = 87;\n",
       "                var nbb_unformatted_code = \"import warnings\\n\\nwarnings.filterwarnings(\\\"ignore\\\")\\n\\nimport os\\nimport shutil\\nimport platform\\nimport cv2\\nimport pandas as pd\\nimport random\\nimport math\\nimport uuid\\nimport sys\\nimport traceback\\n\\n%reload_ext nb_black\\n%config IPCompleter.greedy=True\";\n",
       "                var nbb_formatted_code = \"import warnings\\n\\nwarnings.filterwarnings(\\\"ignore\\\")\\n\\nimport os\\nimport shutil\\nimport platform\\nimport cv2\\nimport pandas as pd\\nimport random\\nimport math\\nimport uuid\\nimport sys\\nimport traceback\\n\\n%reload_ext nb_black\\n%config IPCompleter.greedy=True\";\n",
       "                var nbb_cells = Jupyter.notebook.get_cells();\n",
       "                for (var i = 0; i < nbb_cells.length; ++i) {\n",
       "                    if (nbb_cells[i].input_prompt_number == nbb_cell_id) {\n",
       "                        if (nbb_cells[i].get_text() == nbb_unformatted_code) {\n",
       "                             nbb_cells[i].set_text(nbb_formatted_code);\n",
       "                        }\n",
       "                        break;\n",
       "                    }\n",
       "                }\n",
       "            }, 500);\n",
       "            "
      ],
      "text/plain": [
       "<IPython.core.display.Javascript object>"
      ]
     },
     "metadata": {},
     "output_type": "display_data"
    },
    {
     "data": {
      "application/javascript": [
       "\n",
       "            setTimeout(function() {\n",
       "                var nbb_cell_id = 87;\n",
       "                var nbb_unformatted_code = \"import warnings\\n\\nwarnings.filterwarnings(\\\"ignore\\\")\\n\\nimport os\\nimport shutil\\nimport platform\\nimport cv2\\nimport pandas as pd\\nimport random\\nimport math\\nimport uuid\\nimport sys\\nimport traceback\\n\\n%reload_ext nb_black\\n%config IPCompleter.greedy=True\";\n",
       "                var nbb_formatted_code = \"import warnings\\n\\nwarnings.filterwarnings(\\\"ignore\\\")\\n\\nimport os\\nimport shutil\\nimport platform\\nimport cv2\\nimport pandas as pd\\nimport random\\nimport math\\nimport uuid\\nimport sys\\nimport traceback\\n\\n%reload_ext nb_black\\n%config IPCompleter.greedy=True\";\n",
       "                var nbb_cells = Jupyter.notebook.get_cells();\n",
       "                for (var i = 0; i < nbb_cells.length; ++i) {\n",
       "                    if (nbb_cells[i].input_prompt_number == nbb_cell_id) {\n",
       "                        if (nbb_cells[i].get_text() == nbb_unformatted_code) {\n",
       "                             nbb_cells[i].set_text(nbb_formatted_code);\n",
       "                        }\n",
       "                        break;\n",
       "                    }\n",
       "                }\n",
       "            }, 500);\n",
       "            "
      ],
      "text/plain": [
       "<IPython.core.display.Javascript object>"
      ]
     },
     "metadata": {},
     "output_type": "display_data"
    },
    {
     "data": {
      "application/javascript": [
       "\n",
       "            setTimeout(function() {\n",
       "                var nbb_cell_id = 87;\n",
       "                var nbb_unformatted_code = \"import warnings\\n\\nwarnings.filterwarnings(\\\"ignore\\\")\\n\\nimport os\\nimport shutil\\nimport platform\\nimport cv2\\nimport pandas as pd\\nimport random\\nimport math\\nimport uuid\\nimport sys\\nimport traceback\\n\\n%reload_ext nb_black\\n%config IPCompleter.greedy=True\";\n",
       "                var nbb_formatted_code = \"import warnings\\n\\nwarnings.filterwarnings(\\\"ignore\\\")\\n\\nimport os\\nimport shutil\\nimport platform\\nimport cv2\\nimport pandas as pd\\nimport random\\nimport math\\nimport uuid\\nimport sys\\nimport traceback\\n\\n%reload_ext nb_black\\n%config IPCompleter.greedy=True\";\n",
       "                var nbb_cells = Jupyter.notebook.get_cells();\n",
       "                for (var i = 0; i < nbb_cells.length; ++i) {\n",
       "                    if (nbb_cells[i].input_prompt_number == nbb_cell_id) {\n",
       "                        if (nbb_cells[i].get_text() == nbb_unformatted_code) {\n",
       "                             nbb_cells[i].set_text(nbb_formatted_code);\n",
       "                        }\n",
       "                        break;\n",
       "                    }\n",
       "                }\n",
       "            }, 500);\n",
       "            "
      ],
      "text/plain": [
       "<IPython.core.display.Javascript object>"
      ]
     },
     "metadata": {},
     "output_type": "display_data"
    },
    {
     "data": {
      "application/javascript": [
       "\n",
       "            setTimeout(function() {\n",
       "                var nbb_cell_id = 87;\n",
       "                var nbb_unformatted_code = \"import warnings\\n\\nwarnings.filterwarnings(\\\"ignore\\\")\\n\\nimport os\\nimport shutil\\nimport platform\\nimport cv2\\nimport pandas as pd\\nimport random\\nimport math\\nimport uuid\\nimport sys\\nimport traceback\\n\\n%reload_ext nb_black\\n%config IPCompleter.greedy=True\";\n",
       "                var nbb_formatted_code = \"import warnings\\n\\nwarnings.filterwarnings(\\\"ignore\\\")\\n\\nimport os\\nimport shutil\\nimport platform\\nimport cv2\\nimport pandas as pd\\nimport random\\nimport math\\nimport uuid\\nimport sys\\nimport traceback\\n\\n%reload_ext nb_black\\n%config IPCompleter.greedy=True\";\n",
       "                var nbb_cells = Jupyter.notebook.get_cells();\n",
       "                for (var i = 0; i < nbb_cells.length; ++i) {\n",
       "                    if (nbb_cells[i].input_prompt_number == nbb_cell_id) {\n",
       "                        if (nbb_cells[i].get_text() == nbb_unformatted_code) {\n",
       "                             nbb_cells[i].set_text(nbb_formatted_code);\n",
       "                        }\n",
       "                        break;\n",
       "                    }\n",
       "                }\n",
       "            }, 500);\n",
       "            "
      ],
      "text/plain": [
       "<IPython.core.display.Javascript object>"
      ]
     },
     "metadata": {},
     "output_type": "display_data"
    },
    {
     "data": {
      "application/javascript": [
       "\n",
       "            setTimeout(function() {\n",
       "                var nbb_cell_id = 87;\n",
       "                var nbb_unformatted_code = \"import warnings\\n\\nwarnings.filterwarnings(\\\"ignore\\\")\\n\\nimport os\\nimport shutil\\nimport platform\\nimport cv2\\nimport pandas as pd\\nimport random\\nimport math\\nimport uuid\\nimport sys\\nimport traceback\\n\\n%reload_ext nb_black\\n%config IPCompleter.greedy=True\";\n",
       "                var nbb_formatted_code = \"import warnings\\n\\nwarnings.filterwarnings(\\\"ignore\\\")\\n\\nimport os\\nimport shutil\\nimport platform\\nimport cv2\\nimport pandas as pd\\nimport random\\nimport math\\nimport uuid\\nimport sys\\nimport traceback\\n\\n%reload_ext nb_black\\n%config IPCompleter.greedy=True\";\n",
       "                var nbb_cells = Jupyter.notebook.get_cells();\n",
       "                for (var i = 0; i < nbb_cells.length; ++i) {\n",
       "                    if (nbb_cells[i].input_prompt_number == nbb_cell_id) {\n",
       "                        if (nbb_cells[i].get_text() == nbb_unformatted_code) {\n",
       "                             nbb_cells[i].set_text(nbb_formatted_code);\n",
       "                        }\n",
       "                        break;\n",
       "                    }\n",
       "                }\n",
       "            }, 500);\n",
       "            "
      ],
      "text/plain": [
       "<IPython.core.display.Javascript object>"
      ]
     },
     "metadata": {},
     "output_type": "display_data"
    },
    {
     "data": {
      "application/javascript": [
       "\n",
       "            setTimeout(function() {\n",
       "                var nbb_cell_id = 87;\n",
       "                var nbb_unformatted_code = \"import warnings\\n\\nwarnings.filterwarnings(\\\"ignore\\\")\\n\\nimport os\\nimport shutil\\nimport platform\\nimport cv2\\nimport pandas as pd\\nimport random\\nimport math\\nimport uuid\\nimport sys\\nimport traceback\\n\\n%reload_ext nb_black\\n%config IPCompleter.greedy=True\";\n",
       "                var nbb_formatted_code = \"import warnings\\n\\nwarnings.filterwarnings(\\\"ignore\\\")\\n\\nimport os\\nimport shutil\\nimport platform\\nimport cv2\\nimport pandas as pd\\nimport random\\nimport math\\nimport uuid\\nimport sys\\nimport traceback\\n\\n%reload_ext nb_black\\n%config IPCompleter.greedy=True\";\n",
       "                var nbb_cells = Jupyter.notebook.get_cells();\n",
       "                for (var i = 0; i < nbb_cells.length; ++i) {\n",
       "                    if (nbb_cells[i].input_prompt_number == nbb_cell_id) {\n",
       "                        if (nbb_cells[i].get_text() == nbb_unformatted_code) {\n",
       "                             nbb_cells[i].set_text(nbb_formatted_code);\n",
       "                        }\n",
       "                        break;\n",
       "                    }\n",
       "                }\n",
       "            }, 500);\n",
       "            "
      ],
      "text/plain": [
       "<IPython.core.display.Javascript object>"
      ]
     },
     "metadata": {},
     "output_type": "display_data"
    },
    {
     "data": {
      "application/javascript": [
       "\n",
       "            setTimeout(function() {\n",
       "                var nbb_cell_id = 87;\n",
       "                var nbb_unformatted_code = \"import warnings\\n\\nwarnings.filterwarnings(\\\"ignore\\\")\\n\\nimport os\\nimport shutil\\nimport platform\\nimport cv2\\nimport pandas as pd\\nimport random\\nimport math\\nimport uuid\\nimport sys\\nimport traceback\\n\\n%reload_ext nb_black\\n%config IPCompleter.greedy=True\";\n",
       "                var nbb_formatted_code = \"import warnings\\n\\nwarnings.filterwarnings(\\\"ignore\\\")\\n\\nimport os\\nimport shutil\\nimport platform\\nimport cv2\\nimport pandas as pd\\nimport random\\nimport math\\nimport uuid\\nimport sys\\nimport traceback\\n\\n%reload_ext nb_black\\n%config IPCompleter.greedy=True\";\n",
       "                var nbb_cells = Jupyter.notebook.get_cells();\n",
       "                for (var i = 0; i < nbb_cells.length; ++i) {\n",
       "                    if (nbb_cells[i].input_prompt_number == nbb_cell_id) {\n",
       "                        if (nbb_cells[i].get_text() == nbb_unformatted_code) {\n",
       "                             nbb_cells[i].set_text(nbb_formatted_code);\n",
       "                        }\n",
       "                        break;\n",
       "                    }\n",
       "                }\n",
       "            }, 500);\n",
       "            "
      ],
      "text/plain": [
       "<IPython.core.display.Javascript object>"
      ]
     },
     "metadata": {},
     "output_type": "display_data"
    },
    {
     "data": {
      "application/javascript": [
       "\n",
       "            setTimeout(function() {\n",
       "                var nbb_cell_id = 87;\n",
       "                var nbb_unformatted_code = \"import warnings\\n\\nwarnings.filterwarnings(\\\"ignore\\\")\\n\\nimport os\\nimport shutil\\nimport platform\\nimport cv2\\nimport pandas as pd\\nimport random\\nimport math\\nimport uuid\\nimport sys\\nimport traceback\\n\\n%reload_ext nb_black\\n%config IPCompleter.greedy=True\";\n",
       "                var nbb_formatted_code = \"import warnings\\n\\nwarnings.filterwarnings(\\\"ignore\\\")\\n\\nimport os\\nimport shutil\\nimport platform\\nimport cv2\\nimport pandas as pd\\nimport random\\nimport math\\nimport uuid\\nimport sys\\nimport traceback\\n\\n%reload_ext nb_black\\n%config IPCompleter.greedy=True\";\n",
       "                var nbb_cells = Jupyter.notebook.get_cells();\n",
       "                for (var i = 0; i < nbb_cells.length; ++i) {\n",
       "                    if (nbb_cells[i].input_prompt_number == nbb_cell_id) {\n",
       "                        if (nbb_cells[i].get_text() == nbb_unformatted_code) {\n",
       "                             nbb_cells[i].set_text(nbb_formatted_code);\n",
       "                        }\n",
       "                        break;\n",
       "                    }\n",
       "                }\n",
       "            }, 500);\n",
       "            "
      ],
      "text/plain": [
       "<IPython.core.display.Javascript object>"
      ]
     },
     "metadata": {},
     "output_type": "display_data"
    }
   ],
   "source": [
    "import warnings\n",
    "\n",
    "warnings.filterwarnings(\"ignore\")\n",
    "\n",
    "import os\n",
    "import shutil\n",
    "import platform\n",
    "import cv2\n",
    "import pandas as pd\n",
    "import random\n",
    "import math\n",
    "import uuid\n",
    "import sys\n",
    "import traceback\n",
    "\n",
    "%reload_ext nb_black\n",
    "%config IPCompleter.greedy=True"
   ]
  },
  {
   "cell_type": "code",
   "execution_count": 88,
   "metadata": {},
   "outputs": [
    {
     "name": "stdout",
     "output_type": "stream",
     "text": [
      "/Users/user/Applications/machine-learning/deeproute\n",
      "/Users/user/Applications/machine-learning/deeproute/videos\n",
      "/Users/user/Applications/machine-learning/deeproute/data\n"
     ]
    },
    {
     "data": {
      "application/javascript": [
       "\n",
       "            setTimeout(function() {\n",
       "                var nbb_cell_id = 88;\n",
       "                var nbb_unformatted_code = \"CURRENT_MICE = \\\"PrL-16\\\"\\nparent_directory = os.path.dirname(os.getcwd())\\npath_to_videos = os.path.join(parent_directory, \\\"videos\\\")\\npath_to_data = os.path.join(parent_directory, \\\"data\\\")\\n\\nprint(parent_directory)\\nprint(path_to_videos)\\nprint(path_to_data)\\n\\nmice = [\\n    \\\"PrL-2\\\",\\n    \\\"PrL-3\\\",\\n    \\\"PrL-4\\\",\\n    \\\"PrL-5\\\",\\n    \\\"PrL-8\\\",\\n    \\\"PrL-9\\\",\\n    \\\"PrL-10\\\",\\n    \\\"PrL-16\\\",\\n    \\\"PrL-19\\\",\\n]\\nlabels = [\\\"parent-mice\\\", \\\"child-mice\\\"]\";\n",
       "                var nbb_formatted_code = \"CURRENT_MICE = \\\"PrL-16\\\"\\nparent_directory = os.path.dirname(os.getcwd())\\npath_to_videos = os.path.join(parent_directory, \\\"videos\\\")\\npath_to_data = os.path.join(parent_directory, \\\"data\\\")\\n\\nprint(parent_directory)\\nprint(path_to_videos)\\nprint(path_to_data)\\n\\nmice = [\\n    \\\"PrL-2\\\",\\n    \\\"PrL-3\\\",\\n    \\\"PrL-4\\\",\\n    \\\"PrL-5\\\",\\n    \\\"PrL-8\\\",\\n    \\\"PrL-9\\\",\\n    \\\"PrL-10\\\",\\n    \\\"PrL-16\\\",\\n    \\\"PrL-19\\\",\\n]\\nlabels = [\\\"parent-mice\\\", \\\"child-mice\\\"]\";\n",
       "                var nbb_cells = Jupyter.notebook.get_cells();\n",
       "                for (var i = 0; i < nbb_cells.length; ++i) {\n",
       "                    if (nbb_cells[i].input_prompt_number == nbb_cell_id) {\n",
       "                        if (nbb_cells[i].get_text() == nbb_unformatted_code) {\n",
       "                             nbb_cells[i].set_text(nbb_formatted_code);\n",
       "                        }\n",
       "                        break;\n",
       "                    }\n",
       "                }\n",
       "            }, 500);\n",
       "            "
      ],
      "text/plain": [
       "<IPython.core.display.Javascript object>"
      ]
     },
     "metadata": {},
     "output_type": "display_data"
    },
    {
     "data": {
      "application/javascript": [
       "\n",
       "            setTimeout(function() {\n",
       "                var nbb_cell_id = 88;\n",
       "                var nbb_unformatted_code = \"CURRENT_MICE = \\\"PrL-16\\\"\\nparent_directory = os.path.dirname(os.getcwd())\\npath_to_videos = os.path.join(parent_directory, \\\"videos\\\")\\npath_to_data = os.path.join(parent_directory, \\\"data\\\")\\n\\nprint(parent_directory)\\nprint(path_to_videos)\\nprint(path_to_data)\\n\\nmice = [\\n    \\\"PrL-2\\\",\\n    \\\"PrL-3\\\",\\n    \\\"PrL-4\\\",\\n    \\\"PrL-5\\\",\\n    \\\"PrL-8\\\",\\n    \\\"PrL-9\\\",\\n    \\\"PrL-10\\\",\\n    \\\"PrL-16\\\",\\n    \\\"PrL-19\\\",\\n]\\nlabels = [\\\"parent-mice\\\", \\\"child-mice\\\"]\";\n",
       "                var nbb_formatted_code = \"CURRENT_MICE = \\\"PrL-16\\\"\\nparent_directory = os.path.dirname(os.getcwd())\\npath_to_videos = os.path.join(parent_directory, \\\"videos\\\")\\npath_to_data = os.path.join(parent_directory, \\\"data\\\")\\n\\nprint(parent_directory)\\nprint(path_to_videos)\\nprint(path_to_data)\\n\\nmice = [\\n    \\\"PrL-2\\\",\\n    \\\"PrL-3\\\",\\n    \\\"PrL-4\\\",\\n    \\\"PrL-5\\\",\\n    \\\"PrL-8\\\",\\n    \\\"PrL-9\\\",\\n    \\\"PrL-10\\\",\\n    \\\"PrL-16\\\",\\n    \\\"PrL-19\\\",\\n]\\nlabels = [\\\"parent-mice\\\", \\\"child-mice\\\"]\";\n",
       "                var nbb_cells = Jupyter.notebook.get_cells();\n",
       "                for (var i = 0; i < nbb_cells.length; ++i) {\n",
       "                    if (nbb_cells[i].input_prompt_number == nbb_cell_id) {\n",
       "                        if (nbb_cells[i].get_text() == nbb_unformatted_code) {\n",
       "                             nbb_cells[i].set_text(nbb_formatted_code);\n",
       "                        }\n",
       "                        break;\n",
       "                    }\n",
       "                }\n",
       "            }, 500);\n",
       "            "
      ],
      "text/plain": [
       "<IPython.core.display.Javascript object>"
      ]
     },
     "metadata": {},
     "output_type": "display_data"
    },
    {
     "data": {
      "application/javascript": [
       "\n",
       "            setTimeout(function() {\n",
       "                var nbb_cell_id = 88;\n",
       "                var nbb_unformatted_code = \"CURRENT_MICE = \\\"PrL-16\\\"\\nparent_directory = os.path.dirname(os.getcwd())\\npath_to_videos = os.path.join(parent_directory, \\\"videos\\\")\\npath_to_data = os.path.join(parent_directory, \\\"data\\\")\\n\\nprint(parent_directory)\\nprint(path_to_videos)\\nprint(path_to_data)\\n\\nmice = [\\n    \\\"PrL-2\\\",\\n    \\\"PrL-3\\\",\\n    \\\"PrL-4\\\",\\n    \\\"PrL-5\\\",\\n    \\\"PrL-8\\\",\\n    \\\"PrL-9\\\",\\n    \\\"PrL-10\\\",\\n    \\\"PrL-16\\\",\\n    \\\"PrL-19\\\",\\n]\\nlabels = [\\\"parent-mice\\\", \\\"child-mice\\\"]\";\n",
       "                var nbb_formatted_code = \"CURRENT_MICE = \\\"PrL-16\\\"\\nparent_directory = os.path.dirname(os.getcwd())\\npath_to_videos = os.path.join(parent_directory, \\\"videos\\\")\\npath_to_data = os.path.join(parent_directory, \\\"data\\\")\\n\\nprint(parent_directory)\\nprint(path_to_videos)\\nprint(path_to_data)\\n\\nmice = [\\n    \\\"PrL-2\\\",\\n    \\\"PrL-3\\\",\\n    \\\"PrL-4\\\",\\n    \\\"PrL-5\\\",\\n    \\\"PrL-8\\\",\\n    \\\"PrL-9\\\",\\n    \\\"PrL-10\\\",\\n    \\\"PrL-16\\\",\\n    \\\"PrL-19\\\",\\n]\\nlabels = [\\\"parent-mice\\\", \\\"child-mice\\\"]\";\n",
       "                var nbb_cells = Jupyter.notebook.get_cells();\n",
       "                for (var i = 0; i < nbb_cells.length; ++i) {\n",
       "                    if (nbb_cells[i].input_prompt_number == nbb_cell_id) {\n",
       "                        if (nbb_cells[i].get_text() == nbb_unformatted_code) {\n",
       "                             nbb_cells[i].set_text(nbb_formatted_code);\n",
       "                        }\n",
       "                        break;\n",
       "                    }\n",
       "                }\n",
       "            }, 500);\n",
       "            "
      ],
      "text/plain": [
       "<IPython.core.display.Javascript object>"
      ]
     },
     "metadata": {},
     "output_type": "display_data"
    },
    {
     "data": {
      "application/javascript": [
       "\n",
       "            setTimeout(function() {\n",
       "                var nbb_cell_id = 88;\n",
       "                var nbb_unformatted_code = \"CURRENT_MICE = \\\"PrL-16\\\"\\nparent_directory = os.path.dirname(os.getcwd())\\npath_to_videos = os.path.join(parent_directory, \\\"videos\\\")\\npath_to_data = os.path.join(parent_directory, \\\"data\\\")\\n\\nprint(parent_directory)\\nprint(path_to_videos)\\nprint(path_to_data)\\n\\nmice = [\\n    \\\"PrL-2\\\",\\n    \\\"PrL-3\\\",\\n    \\\"PrL-4\\\",\\n    \\\"PrL-5\\\",\\n    \\\"PrL-8\\\",\\n    \\\"PrL-9\\\",\\n    \\\"PrL-10\\\",\\n    \\\"PrL-16\\\",\\n    \\\"PrL-19\\\",\\n]\\nlabels = [\\\"parent-mice\\\", \\\"child-mice\\\"]\";\n",
       "                var nbb_formatted_code = \"CURRENT_MICE = \\\"PrL-16\\\"\\nparent_directory = os.path.dirname(os.getcwd())\\npath_to_videos = os.path.join(parent_directory, \\\"videos\\\")\\npath_to_data = os.path.join(parent_directory, \\\"data\\\")\\n\\nprint(parent_directory)\\nprint(path_to_videos)\\nprint(path_to_data)\\n\\nmice = [\\n    \\\"PrL-2\\\",\\n    \\\"PrL-3\\\",\\n    \\\"PrL-4\\\",\\n    \\\"PrL-5\\\",\\n    \\\"PrL-8\\\",\\n    \\\"PrL-9\\\",\\n    \\\"PrL-10\\\",\\n    \\\"PrL-16\\\",\\n    \\\"PrL-19\\\",\\n]\\nlabels = [\\\"parent-mice\\\", \\\"child-mice\\\"]\";\n",
       "                var nbb_cells = Jupyter.notebook.get_cells();\n",
       "                for (var i = 0; i < nbb_cells.length; ++i) {\n",
       "                    if (nbb_cells[i].input_prompt_number == nbb_cell_id) {\n",
       "                        if (nbb_cells[i].get_text() == nbb_unformatted_code) {\n",
       "                             nbb_cells[i].set_text(nbb_formatted_code);\n",
       "                        }\n",
       "                        break;\n",
       "                    }\n",
       "                }\n",
       "            }, 500);\n",
       "            "
      ],
      "text/plain": [
       "<IPython.core.display.Javascript object>"
      ]
     },
     "metadata": {},
     "output_type": "display_data"
    },
    {
     "data": {
      "application/javascript": [
       "\n",
       "            setTimeout(function() {\n",
       "                var nbb_cell_id = 88;\n",
       "                var nbb_unformatted_code = \"CURRENT_MICE = \\\"PrL-16\\\"\\nparent_directory = os.path.dirname(os.getcwd())\\npath_to_videos = os.path.join(parent_directory, \\\"videos\\\")\\npath_to_data = os.path.join(parent_directory, \\\"data\\\")\\n\\nprint(parent_directory)\\nprint(path_to_videos)\\nprint(path_to_data)\\n\\nmice = [\\n    \\\"PrL-2\\\",\\n    \\\"PrL-3\\\",\\n    \\\"PrL-4\\\",\\n    \\\"PrL-5\\\",\\n    \\\"PrL-8\\\",\\n    \\\"PrL-9\\\",\\n    \\\"PrL-10\\\",\\n    \\\"PrL-16\\\",\\n    \\\"PrL-19\\\",\\n]\\nlabels = [\\\"parent-mice\\\", \\\"child-mice\\\"]\";\n",
       "                var nbb_formatted_code = \"CURRENT_MICE = \\\"PrL-16\\\"\\nparent_directory = os.path.dirname(os.getcwd())\\npath_to_videos = os.path.join(parent_directory, \\\"videos\\\")\\npath_to_data = os.path.join(parent_directory, \\\"data\\\")\\n\\nprint(parent_directory)\\nprint(path_to_videos)\\nprint(path_to_data)\\n\\nmice = [\\n    \\\"PrL-2\\\",\\n    \\\"PrL-3\\\",\\n    \\\"PrL-4\\\",\\n    \\\"PrL-5\\\",\\n    \\\"PrL-8\\\",\\n    \\\"PrL-9\\\",\\n    \\\"PrL-10\\\",\\n    \\\"PrL-16\\\",\\n    \\\"PrL-19\\\",\\n]\\nlabels = [\\\"parent-mice\\\", \\\"child-mice\\\"]\";\n",
       "                var nbb_cells = Jupyter.notebook.get_cells();\n",
       "                for (var i = 0; i < nbb_cells.length; ++i) {\n",
       "                    if (nbb_cells[i].input_prompt_number == nbb_cell_id) {\n",
       "                        if (nbb_cells[i].get_text() == nbb_unformatted_code) {\n",
       "                             nbb_cells[i].set_text(nbb_formatted_code);\n",
       "                        }\n",
       "                        break;\n",
       "                    }\n",
       "                }\n",
       "            }, 500);\n",
       "            "
      ],
      "text/plain": [
       "<IPython.core.display.Javascript object>"
      ]
     },
     "metadata": {},
     "output_type": "display_data"
    },
    {
     "data": {
      "application/javascript": [
       "\n",
       "            setTimeout(function() {\n",
       "                var nbb_cell_id = 88;\n",
       "                var nbb_unformatted_code = \"CURRENT_MICE = \\\"PrL-16\\\"\\nparent_directory = os.path.dirname(os.getcwd())\\npath_to_videos = os.path.join(parent_directory, \\\"videos\\\")\\npath_to_data = os.path.join(parent_directory, \\\"data\\\")\\n\\nprint(parent_directory)\\nprint(path_to_videos)\\nprint(path_to_data)\\n\\nmice = [\\n    \\\"PrL-2\\\",\\n    \\\"PrL-3\\\",\\n    \\\"PrL-4\\\",\\n    \\\"PrL-5\\\",\\n    \\\"PrL-8\\\",\\n    \\\"PrL-9\\\",\\n    \\\"PrL-10\\\",\\n    \\\"PrL-16\\\",\\n    \\\"PrL-19\\\",\\n]\\nlabels = [\\\"parent-mice\\\", \\\"child-mice\\\"]\";\n",
       "                var nbb_formatted_code = \"CURRENT_MICE = \\\"PrL-16\\\"\\nparent_directory = os.path.dirname(os.getcwd())\\npath_to_videos = os.path.join(parent_directory, \\\"videos\\\")\\npath_to_data = os.path.join(parent_directory, \\\"data\\\")\\n\\nprint(parent_directory)\\nprint(path_to_videos)\\nprint(path_to_data)\\n\\nmice = [\\n    \\\"PrL-2\\\",\\n    \\\"PrL-3\\\",\\n    \\\"PrL-4\\\",\\n    \\\"PrL-5\\\",\\n    \\\"PrL-8\\\",\\n    \\\"PrL-9\\\",\\n    \\\"PrL-10\\\",\\n    \\\"PrL-16\\\",\\n    \\\"PrL-19\\\",\\n]\\nlabels = [\\\"parent-mice\\\", \\\"child-mice\\\"]\";\n",
       "                var nbb_cells = Jupyter.notebook.get_cells();\n",
       "                for (var i = 0; i < nbb_cells.length; ++i) {\n",
       "                    if (nbb_cells[i].input_prompt_number == nbb_cell_id) {\n",
       "                        if (nbb_cells[i].get_text() == nbb_unformatted_code) {\n",
       "                             nbb_cells[i].set_text(nbb_formatted_code);\n",
       "                        }\n",
       "                        break;\n",
       "                    }\n",
       "                }\n",
       "            }, 500);\n",
       "            "
      ],
      "text/plain": [
       "<IPython.core.display.Javascript object>"
      ]
     },
     "metadata": {},
     "output_type": "display_data"
    },
    {
     "data": {
      "application/javascript": [
       "\n",
       "            setTimeout(function() {\n",
       "                var nbb_cell_id = 88;\n",
       "                var nbb_unformatted_code = \"CURRENT_MICE = \\\"PrL-16\\\"\\nparent_directory = os.path.dirname(os.getcwd())\\npath_to_videos = os.path.join(parent_directory, \\\"videos\\\")\\npath_to_data = os.path.join(parent_directory, \\\"data\\\")\\n\\nprint(parent_directory)\\nprint(path_to_videos)\\nprint(path_to_data)\\n\\nmice = [\\n    \\\"PrL-2\\\",\\n    \\\"PrL-3\\\",\\n    \\\"PrL-4\\\",\\n    \\\"PrL-5\\\",\\n    \\\"PrL-8\\\",\\n    \\\"PrL-9\\\",\\n    \\\"PrL-10\\\",\\n    \\\"PrL-16\\\",\\n    \\\"PrL-19\\\",\\n]\\nlabels = [\\\"parent-mice\\\", \\\"child-mice\\\"]\";\n",
       "                var nbb_formatted_code = \"CURRENT_MICE = \\\"PrL-16\\\"\\nparent_directory = os.path.dirname(os.getcwd())\\npath_to_videos = os.path.join(parent_directory, \\\"videos\\\")\\npath_to_data = os.path.join(parent_directory, \\\"data\\\")\\n\\nprint(parent_directory)\\nprint(path_to_videos)\\nprint(path_to_data)\\n\\nmice = [\\n    \\\"PrL-2\\\",\\n    \\\"PrL-3\\\",\\n    \\\"PrL-4\\\",\\n    \\\"PrL-5\\\",\\n    \\\"PrL-8\\\",\\n    \\\"PrL-9\\\",\\n    \\\"PrL-10\\\",\\n    \\\"PrL-16\\\",\\n    \\\"PrL-19\\\",\\n]\\nlabels = [\\\"parent-mice\\\", \\\"child-mice\\\"]\";\n",
       "                var nbb_cells = Jupyter.notebook.get_cells();\n",
       "                for (var i = 0; i < nbb_cells.length; ++i) {\n",
       "                    if (nbb_cells[i].input_prompt_number == nbb_cell_id) {\n",
       "                        if (nbb_cells[i].get_text() == nbb_unformatted_code) {\n",
       "                             nbb_cells[i].set_text(nbb_formatted_code);\n",
       "                        }\n",
       "                        break;\n",
       "                    }\n",
       "                }\n",
       "            }, 500);\n",
       "            "
      ],
      "text/plain": [
       "<IPython.core.display.Javascript object>"
      ]
     },
     "metadata": {},
     "output_type": "display_data"
    },
    {
     "data": {
      "application/javascript": [
       "\n",
       "            setTimeout(function() {\n",
       "                var nbb_cell_id = 88;\n",
       "                var nbb_unformatted_code = \"CURRENT_MICE = \\\"PrL-16\\\"\\nparent_directory = os.path.dirname(os.getcwd())\\npath_to_videos = os.path.join(parent_directory, \\\"videos\\\")\\npath_to_data = os.path.join(parent_directory, \\\"data\\\")\\n\\nprint(parent_directory)\\nprint(path_to_videos)\\nprint(path_to_data)\\n\\nmice = [\\n    \\\"PrL-2\\\",\\n    \\\"PrL-3\\\",\\n    \\\"PrL-4\\\",\\n    \\\"PrL-5\\\",\\n    \\\"PrL-8\\\",\\n    \\\"PrL-9\\\",\\n    \\\"PrL-10\\\",\\n    \\\"PrL-16\\\",\\n    \\\"PrL-19\\\",\\n]\\nlabels = [\\\"parent-mice\\\", \\\"child-mice\\\"]\";\n",
       "                var nbb_formatted_code = \"CURRENT_MICE = \\\"PrL-16\\\"\\nparent_directory = os.path.dirname(os.getcwd())\\npath_to_videos = os.path.join(parent_directory, \\\"videos\\\")\\npath_to_data = os.path.join(parent_directory, \\\"data\\\")\\n\\nprint(parent_directory)\\nprint(path_to_videos)\\nprint(path_to_data)\\n\\nmice = [\\n    \\\"PrL-2\\\",\\n    \\\"PrL-3\\\",\\n    \\\"PrL-4\\\",\\n    \\\"PrL-5\\\",\\n    \\\"PrL-8\\\",\\n    \\\"PrL-9\\\",\\n    \\\"PrL-10\\\",\\n    \\\"PrL-16\\\",\\n    \\\"PrL-19\\\",\\n]\\nlabels = [\\\"parent-mice\\\", \\\"child-mice\\\"]\";\n",
       "                var nbb_cells = Jupyter.notebook.get_cells();\n",
       "                for (var i = 0; i < nbb_cells.length; ++i) {\n",
       "                    if (nbb_cells[i].input_prompt_number == nbb_cell_id) {\n",
       "                        if (nbb_cells[i].get_text() == nbb_unformatted_code) {\n",
       "                             nbb_cells[i].set_text(nbb_formatted_code);\n",
       "                        }\n",
       "                        break;\n",
       "                    }\n",
       "                }\n",
       "            }, 500);\n",
       "            "
      ],
      "text/plain": [
       "<IPython.core.display.Javascript object>"
      ]
     },
     "metadata": {},
     "output_type": "display_data"
    }
   ],
   "source": [
    "CURRENT_MICE = \"PrL-16\"\n",
    "parent_directory = os.path.dirname(os.getcwd())\n",
    "path_to_videos = os.path.join(parent_directory, \"videos\")\n",
    "path_to_data = os.path.join(parent_directory, \"data\")\n",
    "\n",
    "mice = [\n",
    "    \"PrL-2\",\n",
    "    \"PrL-3\",\n",
    "    \"PrL-4\",\n",
    "    \"PrL-5\",\n",
    "    \"PrL-8\",\n",
    "    \"PrL-9\",\n",
    "    \"PrL-10\",\n",
    "    \"PrL-16\",\n",
    "    \"PrL-19\",\n",
    "]\n",
    "labels = [\"parent-mice\", \"child-mice\"]"
   ]
  },
  {
   "cell_type": "code",
   "execution_count": 89,
   "metadata": {},
   "outputs": [
    {
     "data": {
      "application/javascript": [
       "\n",
       "            setTimeout(function() {\n",
       "                var nbb_cell_id = 89;\n",
       "                var nbb_unformatted_code = \"mice_df = pd.DataFrame(mice, columns=[\\\"Mice\\\"])\";\n",
       "                var nbb_formatted_code = \"mice_df = pd.DataFrame(mice, columns=[\\\"Mice\\\"])\";\n",
       "                var nbb_cells = Jupyter.notebook.get_cells();\n",
       "                for (var i = 0; i < nbb_cells.length; ++i) {\n",
       "                    if (nbb_cells[i].input_prompt_number == nbb_cell_id) {\n",
       "                        if (nbb_cells[i].get_text() == nbb_unformatted_code) {\n",
       "                             nbb_cells[i].set_text(nbb_formatted_code);\n",
       "                        }\n",
       "                        break;\n",
       "                    }\n",
       "                }\n",
       "            }, 500);\n",
       "            "
      ],
      "text/plain": [
       "<IPython.core.display.Javascript object>"
      ]
     },
     "metadata": {},
     "output_type": "display_data"
    },
    {
     "data": {
      "application/javascript": [
       "\n",
       "            setTimeout(function() {\n",
       "                var nbb_cell_id = 89;\n",
       "                var nbb_unformatted_code = \"mice_df = pd.DataFrame(mice, columns=[\\\"Mice\\\"])\";\n",
       "                var nbb_formatted_code = \"mice_df = pd.DataFrame(mice, columns=[\\\"Mice\\\"])\";\n",
       "                var nbb_cells = Jupyter.notebook.get_cells();\n",
       "                for (var i = 0; i < nbb_cells.length; ++i) {\n",
       "                    if (nbb_cells[i].input_prompt_number == nbb_cell_id) {\n",
       "                        if (nbb_cells[i].get_text() == nbb_unformatted_code) {\n",
       "                             nbb_cells[i].set_text(nbb_formatted_code);\n",
       "                        }\n",
       "                        break;\n",
       "                    }\n",
       "                }\n",
       "            }, 500);\n",
       "            "
      ],
      "text/plain": [
       "<IPython.core.display.Javascript object>"
      ]
     },
     "metadata": {},
     "output_type": "display_data"
    },
    {
     "data": {
      "application/javascript": [
       "\n",
       "            setTimeout(function() {\n",
       "                var nbb_cell_id = 89;\n",
       "                var nbb_unformatted_code = \"mice_df = pd.DataFrame(mice, columns=[\\\"Mice\\\"])\";\n",
       "                var nbb_formatted_code = \"mice_df = pd.DataFrame(mice, columns=[\\\"Mice\\\"])\";\n",
       "                var nbb_cells = Jupyter.notebook.get_cells();\n",
       "                for (var i = 0; i < nbb_cells.length; ++i) {\n",
       "                    if (nbb_cells[i].input_prompt_number == nbb_cell_id) {\n",
       "                        if (nbb_cells[i].get_text() == nbb_unformatted_code) {\n",
       "                             nbb_cells[i].set_text(nbb_formatted_code);\n",
       "                        }\n",
       "                        break;\n",
       "                    }\n",
       "                }\n",
       "            }, 500);\n",
       "            "
      ],
      "text/plain": [
       "<IPython.core.display.Javascript object>"
      ]
     },
     "metadata": {},
     "output_type": "display_data"
    },
    {
     "data": {
      "application/javascript": [
       "\n",
       "            setTimeout(function() {\n",
       "                var nbb_cell_id = 89;\n",
       "                var nbb_unformatted_code = \"mice_df = pd.DataFrame(mice, columns=[\\\"Mice\\\"])\";\n",
       "                var nbb_formatted_code = \"mice_df = pd.DataFrame(mice, columns=[\\\"Mice\\\"])\";\n",
       "                var nbb_cells = Jupyter.notebook.get_cells();\n",
       "                for (var i = 0; i < nbb_cells.length; ++i) {\n",
       "                    if (nbb_cells[i].input_prompt_number == nbb_cell_id) {\n",
       "                        if (nbb_cells[i].get_text() == nbb_unformatted_code) {\n",
       "                             nbb_cells[i].set_text(nbb_formatted_code);\n",
       "                        }\n",
       "                        break;\n",
       "                    }\n",
       "                }\n",
       "            }, 500);\n",
       "            "
      ],
      "text/plain": [
       "<IPython.core.display.Javascript object>"
      ]
     },
     "metadata": {},
     "output_type": "display_data"
    },
    {
     "data": {
      "application/javascript": [
       "\n",
       "            setTimeout(function() {\n",
       "                var nbb_cell_id = 89;\n",
       "                var nbb_unformatted_code = \"mice_df = pd.DataFrame(mice, columns=[\\\"Mice\\\"])\";\n",
       "                var nbb_formatted_code = \"mice_df = pd.DataFrame(mice, columns=[\\\"Mice\\\"])\";\n",
       "                var nbb_cells = Jupyter.notebook.get_cells();\n",
       "                for (var i = 0; i < nbb_cells.length; ++i) {\n",
       "                    if (nbb_cells[i].input_prompt_number == nbb_cell_id) {\n",
       "                        if (nbb_cells[i].get_text() == nbb_unformatted_code) {\n",
       "                             nbb_cells[i].set_text(nbb_formatted_code);\n",
       "                        }\n",
       "                        break;\n",
       "                    }\n",
       "                }\n",
       "            }, 500);\n",
       "            "
      ],
      "text/plain": [
       "<IPython.core.display.Javascript object>"
      ]
     },
     "metadata": {},
     "output_type": "display_data"
    },
    {
     "data": {
      "application/javascript": [
       "\n",
       "            setTimeout(function() {\n",
       "                var nbb_cell_id = 89;\n",
       "                var nbb_unformatted_code = \"mice_df = pd.DataFrame(mice, columns=[\\\"Mice\\\"])\";\n",
       "                var nbb_formatted_code = \"mice_df = pd.DataFrame(mice, columns=[\\\"Mice\\\"])\";\n",
       "                var nbb_cells = Jupyter.notebook.get_cells();\n",
       "                for (var i = 0; i < nbb_cells.length; ++i) {\n",
       "                    if (nbb_cells[i].input_prompt_number == nbb_cell_id) {\n",
       "                        if (nbb_cells[i].get_text() == nbb_unformatted_code) {\n",
       "                             nbb_cells[i].set_text(nbb_formatted_code);\n",
       "                        }\n",
       "                        break;\n",
       "                    }\n",
       "                }\n",
       "            }, 500);\n",
       "            "
      ],
      "text/plain": [
       "<IPython.core.display.Javascript object>"
      ]
     },
     "metadata": {},
     "output_type": "display_data"
    },
    {
     "data": {
      "application/javascript": [
       "\n",
       "            setTimeout(function() {\n",
       "                var nbb_cell_id = 89;\n",
       "                var nbb_unformatted_code = \"mice_df = pd.DataFrame(mice, columns=[\\\"Mice\\\"])\";\n",
       "                var nbb_formatted_code = \"mice_df = pd.DataFrame(mice, columns=[\\\"Mice\\\"])\";\n",
       "                var nbb_cells = Jupyter.notebook.get_cells();\n",
       "                for (var i = 0; i < nbb_cells.length; ++i) {\n",
       "                    if (nbb_cells[i].input_prompt_number == nbb_cell_id) {\n",
       "                        if (nbb_cells[i].get_text() == nbb_unformatted_code) {\n",
       "                             nbb_cells[i].set_text(nbb_formatted_code);\n",
       "                        }\n",
       "                        break;\n",
       "                    }\n",
       "                }\n",
       "            }, 500);\n",
       "            "
      ],
      "text/plain": [
       "<IPython.core.display.Javascript object>"
      ]
     },
     "metadata": {},
     "output_type": "display_data"
    },
    {
     "data": {
      "application/javascript": [
       "\n",
       "            setTimeout(function() {\n",
       "                var nbb_cell_id = 89;\n",
       "                var nbb_unformatted_code = \"mice_df = pd.DataFrame(mice, columns=[\\\"Mice\\\"])\";\n",
       "                var nbb_formatted_code = \"mice_df = pd.DataFrame(mice, columns=[\\\"Mice\\\"])\";\n",
       "                var nbb_cells = Jupyter.notebook.get_cells();\n",
       "                for (var i = 0; i < nbb_cells.length; ++i) {\n",
       "                    if (nbb_cells[i].input_prompt_number == nbb_cell_id) {\n",
       "                        if (nbb_cells[i].get_text() == nbb_unformatted_code) {\n",
       "                             nbb_cells[i].set_text(nbb_formatted_code);\n",
       "                        }\n",
       "                        break;\n",
       "                    }\n",
       "                }\n",
       "            }, 500);\n",
       "            "
      ],
      "text/plain": [
       "<IPython.core.display.Javascript object>"
      ]
     },
     "metadata": {},
     "output_type": "display_data"
    }
   ],
   "source": [
    "mice_df = pd.DataFrame(mice, columns=[\"Mice\"])"
   ]
  },
  {
   "cell_type": "code",
   "execution_count": 90,
   "metadata": {},
   "outputs": [
    {
     "data": {
      "application/javascript": [
       "\n",
       "            setTimeout(function() {\n",
       "                var nbb_cell_id = 90;\n",
       "                var nbb_unformatted_code = \"def get_video_data(mice: str):\\n    video_file_path = f\\\"{path_to_videos}/{mice}.mp4\\\"\\n\\n    if not os.path.isfile(video_file_path):\\n        raise FileNotFoundError(f\\\"{mice}.mp4 does not exist!\\\")\\n\\n    videoCaptureInstance = cv2.VideoCapture(video_file_path)\\n    fps = videoCaptureInstance.get(cv2.CAP_PROP_FPS)\\n    frames = videoCaptureInstance.get(cv2.CAP_PROP_FRAME_COUNT)\\n    return pd.Series([fps, frames])\";\n",
       "                var nbb_formatted_code = \"def get_video_data(mice: str):\\n    video_file_path = f\\\"{path_to_videos}/{mice}.mp4\\\"\\n\\n    if not os.path.isfile(video_file_path):\\n        raise FileNotFoundError(f\\\"{mice}.mp4 does not exist!\\\")\\n\\n    videoCaptureInstance = cv2.VideoCapture(video_file_path)\\n    fps = videoCaptureInstance.get(cv2.CAP_PROP_FPS)\\n    frames = videoCaptureInstance.get(cv2.CAP_PROP_FRAME_COUNT)\\n    return pd.Series([fps, frames])\";\n",
       "                var nbb_cells = Jupyter.notebook.get_cells();\n",
       "                for (var i = 0; i < nbb_cells.length; ++i) {\n",
       "                    if (nbb_cells[i].input_prompt_number == nbb_cell_id) {\n",
       "                        if (nbb_cells[i].get_text() == nbb_unformatted_code) {\n",
       "                             nbb_cells[i].set_text(nbb_formatted_code);\n",
       "                        }\n",
       "                        break;\n",
       "                    }\n",
       "                }\n",
       "            }, 500);\n",
       "            "
      ],
      "text/plain": [
       "<IPython.core.display.Javascript object>"
      ]
     },
     "metadata": {},
     "output_type": "display_data"
    },
    {
     "data": {
      "application/javascript": [
       "\n",
       "            setTimeout(function() {\n",
       "                var nbb_cell_id = 90;\n",
       "                var nbb_unformatted_code = \"def get_video_data(mice: str):\\n    video_file_path = f\\\"{path_to_videos}/{mice}.mp4\\\"\\n\\n    if not os.path.isfile(video_file_path):\\n        raise FileNotFoundError(f\\\"{mice}.mp4 does not exist!\\\")\\n\\n    videoCaptureInstance = cv2.VideoCapture(video_file_path)\\n    fps = videoCaptureInstance.get(cv2.CAP_PROP_FPS)\\n    frames = videoCaptureInstance.get(cv2.CAP_PROP_FRAME_COUNT)\\n    return pd.Series([fps, frames])\";\n",
       "                var nbb_formatted_code = \"def get_video_data(mice: str):\\n    video_file_path = f\\\"{path_to_videos}/{mice}.mp4\\\"\\n\\n    if not os.path.isfile(video_file_path):\\n        raise FileNotFoundError(f\\\"{mice}.mp4 does not exist!\\\")\\n\\n    videoCaptureInstance = cv2.VideoCapture(video_file_path)\\n    fps = videoCaptureInstance.get(cv2.CAP_PROP_FPS)\\n    frames = videoCaptureInstance.get(cv2.CAP_PROP_FRAME_COUNT)\\n    return pd.Series([fps, frames])\";\n",
       "                var nbb_cells = Jupyter.notebook.get_cells();\n",
       "                for (var i = 0; i < nbb_cells.length; ++i) {\n",
       "                    if (nbb_cells[i].input_prompt_number == nbb_cell_id) {\n",
       "                        if (nbb_cells[i].get_text() == nbb_unformatted_code) {\n",
       "                             nbb_cells[i].set_text(nbb_formatted_code);\n",
       "                        }\n",
       "                        break;\n",
       "                    }\n",
       "                }\n",
       "            }, 500);\n",
       "            "
      ],
      "text/plain": [
       "<IPython.core.display.Javascript object>"
      ]
     },
     "metadata": {},
     "output_type": "display_data"
    },
    {
     "data": {
      "application/javascript": [
       "\n",
       "            setTimeout(function() {\n",
       "                var nbb_cell_id = 90;\n",
       "                var nbb_unformatted_code = \"def get_video_data(mice: str):\\n    video_file_path = f\\\"{path_to_videos}/{mice}.mp4\\\"\\n\\n    if not os.path.isfile(video_file_path):\\n        raise FileNotFoundError(f\\\"{mice}.mp4 does not exist!\\\")\\n\\n    videoCaptureInstance = cv2.VideoCapture(video_file_path)\\n    fps = videoCaptureInstance.get(cv2.CAP_PROP_FPS)\\n    frames = videoCaptureInstance.get(cv2.CAP_PROP_FRAME_COUNT)\\n    return pd.Series([fps, frames])\";\n",
       "                var nbb_formatted_code = \"def get_video_data(mice: str):\\n    video_file_path = f\\\"{path_to_videos}/{mice}.mp4\\\"\\n\\n    if not os.path.isfile(video_file_path):\\n        raise FileNotFoundError(f\\\"{mice}.mp4 does not exist!\\\")\\n\\n    videoCaptureInstance = cv2.VideoCapture(video_file_path)\\n    fps = videoCaptureInstance.get(cv2.CAP_PROP_FPS)\\n    frames = videoCaptureInstance.get(cv2.CAP_PROP_FRAME_COUNT)\\n    return pd.Series([fps, frames])\";\n",
       "                var nbb_cells = Jupyter.notebook.get_cells();\n",
       "                for (var i = 0; i < nbb_cells.length; ++i) {\n",
       "                    if (nbb_cells[i].input_prompt_number == nbb_cell_id) {\n",
       "                        if (nbb_cells[i].get_text() == nbb_unformatted_code) {\n",
       "                             nbb_cells[i].set_text(nbb_formatted_code);\n",
       "                        }\n",
       "                        break;\n",
       "                    }\n",
       "                }\n",
       "            }, 500);\n",
       "            "
      ],
      "text/plain": [
       "<IPython.core.display.Javascript object>"
      ]
     },
     "metadata": {},
     "output_type": "display_data"
    },
    {
     "data": {
      "application/javascript": [
       "\n",
       "            setTimeout(function() {\n",
       "                var nbb_cell_id = 90;\n",
       "                var nbb_unformatted_code = \"def get_video_data(mice: str):\\n    video_file_path = f\\\"{path_to_videos}/{mice}.mp4\\\"\\n\\n    if not os.path.isfile(video_file_path):\\n        raise FileNotFoundError(f\\\"{mice}.mp4 does not exist!\\\")\\n\\n    videoCaptureInstance = cv2.VideoCapture(video_file_path)\\n    fps = videoCaptureInstance.get(cv2.CAP_PROP_FPS)\\n    frames = videoCaptureInstance.get(cv2.CAP_PROP_FRAME_COUNT)\\n    return pd.Series([fps, frames])\";\n",
       "                var nbb_formatted_code = \"def get_video_data(mice: str):\\n    video_file_path = f\\\"{path_to_videos}/{mice}.mp4\\\"\\n\\n    if not os.path.isfile(video_file_path):\\n        raise FileNotFoundError(f\\\"{mice}.mp4 does not exist!\\\")\\n\\n    videoCaptureInstance = cv2.VideoCapture(video_file_path)\\n    fps = videoCaptureInstance.get(cv2.CAP_PROP_FPS)\\n    frames = videoCaptureInstance.get(cv2.CAP_PROP_FRAME_COUNT)\\n    return pd.Series([fps, frames])\";\n",
       "                var nbb_cells = Jupyter.notebook.get_cells();\n",
       "                for (var i = 0; i < nbb_cells.length; ++i) {\n",
       "                    if (nbb_cells[i].input_prompt_number == nbb_cell_id) {\n",
       "                        if (nbb_cells[i].get_text() == nbb_unformatted_code) {\n",
       "                             nbb_cells[i].set_text(nbb_formatted_code);\n",
       "                        }\n",
       "                        break;\n",
       "                    }\n",
       "                }\n",
       "            }, 500);\n",
       "            "
      ],
      "text/plain": [
       "<IPython.core.display.Javascript object>"
      ]
     },
     "metadata": {},
     "output_type": "display_data"
    },
    {
     "data": {
      "application/javascript": [
       "\n",
       "            setTimeout(function() {\n",
       "                var nbb_cell_id = 90;\n",
       "                var nbb_unformatted_code = \"def get_video_data(mice: str):\\n    video_file_path = f\\\"{path_to_videos}/{mice}.mp4\\\"\\n\\n    if not os.path.isfile(video_file_path):\\n        raise FileNotFoundError(f\\\"{mice}.mp4 does not exist!\\\")\\n\\n    videoCaptureInstance = cv2.VideoCapture(video_file_path)\\n    fps = videoCaptureInstance.get(cv2.CAP_PROP_FPS)\\n    frames = videoCaptureInstance.get(cv2.CAP_PROP_FRAME_COUNT)\\n    return pd.Series([fps, frames])\";\n",
       "                var nbb_formatted_code = \"def get_video_data(mice: str):\\n    video_file_path = f\\\"{path_to_videos}/{mice}.mp4\\\"\\n\\n    if not os.path.isfile(video_file_path):\\n        raise FileNotFoundError(f\\\"{mice}.mp4 does not exist!\\\")\\n\\n    videoCaptureInstance = cv2.VideoCapture(video_file_path)\\n    fps = videoCaptureInstance.get(cv2.CAP_PROP_FPS)\\n    frames = videoCaptureInstance.get(cv2.CAP_PROP_FRAME_COUNT)\\n    return pd.Series([fps, frames])\";\n",
       "                var nbb_cells = Jupyter.notebook.get_cells();\n",
       "                for (var i = 0; i < nbb_cells.length; ++i) {\n",
       "                    if (nbb_cells[i].input_prompt_number == nbb_cell_id) {\n",
       "                        if (nbb_cells[i].get_text() == nbb_unformatted_code) {\n",
       "                             nbb_cells[i].set_text(nbb_formatted_code);\n",
       "                        }\n",
       "                        break;\n",
       "                    }\n",
       "                }\n",
       "            }, 500);\n",
       "            "
      ],
      "text/plain": [
       "<IPython.core.display.Javascript object>"
      ]
     },
     "metadata": {},
     "output_type": "display_data"
    },
    {
     "data": {
      "application/javascript": [
       "\n",
       "            setTimeout(function() {\n",
       "                var nbb_cell_id = 90;\n",
       "                var nbb_unformatted_code = \"def get_video_data(mice: str):\\n    video_file_path = f\\\"{path_to_videos}/{mice}.mp4\\\"\\n\\n    if not os.path.isfile(video_file_path):\\n        raise FileNotFoundError(f\\\"{mice}.mp4 does not exist!\\\")\\n\\n    videoCaptureInstance = cv2.VideoCapture(video_file_path)\\n    fps = videoCaptureInstance.get(cv2.CAP_PROP_FPS)\\n    frames = videoCaptureInstance.get(cv2.CAP_PROP_FRAME_COUNT)\\n    return pd.Series([fps, frames])\";\n",
       "                var nbb_formatted_code = \"def get_video_data(mice: str):\\n    video_file_path = f\\\"{path_to_videos}/{mice}.mp4\\\"\\n\\n    if not os.path.isfile(video_file_path):\\n        raise FileNotFoundError(f\\\"{mice}.mp4 does not exist!\\\")\\n\\n    videoCaptureInstance = cv2.VideoCapture(video_file_path)\\n    fps = videoCaptureInstance.get(cv2.CAP_PROP_FPS)\\n    frames = videoCaptureInstance.get(cv2.CAP_PROP_FRAME_COUNT)\\n    return pd.Series([fps, frames])\";\n",
       "                var nbb_cells = Jupyter.notebook.get_cells();\n",
       "                for (var i = 0; i < nbb_cells.length; ++i) {\n",
       "                    if (nbb_cells[i].input_prompt_number == nbb_cell_id) {\n",
       "                        if (nbb_cells[i].get_text() == nbb_unformatted_code) {\n",
       "                             nbb_cells[i].set_text(nbb_formatted_code);\n",
       "                        }\n",
       "                        break;\n",
       "                    }\n",
       "                }\n",
       "            }, 500);\n",
       "            "
      ],
      "text/plain": [
       "<IPython.core.display.Javascript object>"
      ]
     },
     "metadata": {},
     "output_type": "display_data"
    },
    {
     "data": {
      "application/javascript": [
       "\n",
       "            setTimeout(function() {\n",
       "                var nbb_cell_id = 90;\n",
       "                var nbb_unformatted_code = \"def get_video_data(mice: str):\\n    video_file_path = f\\\"{path_to_videos}/{mice}.mp4\\\"\\n\\n    if not os.path.isfile(video_file_path):\\n        raise FileNotFoundError(f\\\"{mice}.mp4 does not exist!\\\")\\n\\n    videoCaptureInstance = cv2.VideoCapture(video_file_path)\\n    fps = videoCaptureInstance.get(cv2.CAP_PROP_FPS)\\n    frames = videoCaptureInstance.get(cv2.CAP_PROP_FRAME_COUNT)\\n    return pd.Series([fps, frames])\";\n",
       "                var nbb_formatted_code = \"def get_video_data(mice: str):\\n    video_file_path = f\\\"{path_to_videos}/{mice}.mp4\\\"\\n\\n    if not os.path.isfile(video_file_path):\\n        raise FileNotFoundError(f\\\"{mice}.mp4 does not exist!\\\")\\n\\n    videoCaptureInstance = cv2.VideoCapture(video_file_path)\\n    fps = videoCaptureInstance.get(cv2.CAP_PROP_FPS)\\n    frames = videoCaptureInstance.get(cv2.CAP_PROP_FRAME_COUNT)\\n    return pd.Series([fps, frames])\";\n",
       "                var nbb_cells = Jupyter.notebook.get_cells();\n",
       "                for (var i = 0; i < nbb_cells.length; ++i) {\n",
       "                    if (nbb_cells[i].input_prompt_number == nbb_cell_id) {\n",
       "                        if (nbb_cells[i].get_text() == nbb_unformatted_code) {\n",
       "                             nbb_cells[i].set_text(nbb_formatted_code);\n",
       "                        }\n",
       "                        break;\n",
       "                    }\n",
       "                }\n",
       "            }, 500);\n",
       "            "
      ],
      "text/plain": [
       "<IPython.core.display.Javascript object>"
      ]
     },
     "metadata": {},
     "output_type": "display_data"
    },
    {
     "data": {
      "application/javascript": [
       "\n",
       "            setTimeout(function() {\n",
       "                var nbb_cell_id = 90;\n",
       "                var nbb_unformatted_code = \"def get_video_data(mice: str):\\n    video_file_path = f\\\"{path_to_videos}/{mice}.mp4\\\"\\n\\n    if not os.path.isfile(video_file_path):\\n        raise FileNotFoundError(f\\\"{mice}.mp4 does not exist!\\\")\\n\\n    videoCaptureInstance = cv2.VideoCapture(video_file_path)\\n    fps = videoCaptureInstance.get(cv2.CAP_PROP_FPS)\\n    frames = videoCaptureInstance.get(cv2.CAP_PROP_FRAME_COUNT)\\n    return pd.Series([fps, frames])\";\n",
       "                var nbb_formatted_code = \"def get_video_data(mice: str):\\n    video_file_path = f\\\"{path_to_videos}/{mice}.mp4\\\"\\n\\n    if not os.path.isfile(video_file_path):\\n        raise FileNotFoundError(f\\\"{mice}.mp4 does not exist!\\\")\\n\\n    videoCaptureInstance = cv2.VideoCapture(video_file_path)\\n    fps = videoCaptureInstance.get(cv2.CAP_PROP_FPS)\\n    frames = videoCaptureInstance.get(cv2.CAP_PROP_FRAME_COUNT)\\n    return pd.Series([fps, frames])\";\n",
       "                var nbb_cells = Jupyter.notebook.get_cells();\n",
       "                for (var i = 0; i < nbb_cells.length; ++i) {\n",
       "                    if (nbb_cells[i].input_prompt_number == nbb_cell_id) {\n",
       "                        if (nbb_cells[i].get_text() == nbb_unformatted_code) {\n",
       "                             nbb_cells[i].set_text(nbb_formatted_code);\n",
       "                        }\n",
       "                        break;\n",
       "                    }\n",
       "                }\n",
       "            }, 500);\n",
       "            "
      ],
      "text/plain": [
       "<IPython.core.display.Javascript object>"
      ]
     },
     "metadata": {},
     "output_type": "display_data"
    }
   ],
   "source": [
    "def get_video_data(mice: str):\n",
    "    video_file_path = f\"{path_to_videos}/{mice}.mp4\"\n",
    "\n",
    "    if not os.path.isfile(video_file_path):\n",
    "        raise FileNotFoundError(f\"{mice}.mp4 does not exist!\")\n",
    "\n",
    "    videoCaptureInstance = cv2.VideoCapture(video_file_path)\n",
    "    fps = videoCaptureInstance.get(cv2.CAP_PROP_FPS)\n",
    "    frames = videoCaptureInstance.get(cv2.CAP_PROP_FRAME_COUNT)\n",
    "    return pd.Series([fps, frames])"
   ]
  },
  {
   "cell_type": "code",
   "execution_count": 91,
   "metadata": {},
   "outputs": [
    {
     "data": {
      "text/html": [
       "<div>\n",
       "<style scoped>\n",
       "    .dataframe tbody tr th:only-of-type {\n",
       "        vertical-align: middle;\n",
       "    }\n",
       "\n",
       "    .dataframe tbody tr th {\n",
       "        vertical-align: top;\n",
       "    }\n",
       "\n",
       "    .dataframe thead th {\n",
       "        text-align: right;\n",
       "    }\n",
       "</style>\n",
       "<table border=\"1\" class=\"dataframe\">\n",
       "  <thead>\n",
       "    <tr style=\"text-align: right;\">\n",
       "      <th></th>\n",
       "      <th>Mice</th>\n",
       "      <th>video_fps</th>\n",
       "      <th>video_frames</th>\n",
       "    </tr>\n",
       "  </thead>\n",
       "  <tbody>\n",
       "    <tr>\n",
       "      <th>0</th>\n",
       "      <td>PrL-2</td>\n",
       "      <td>30.00003</td>\n",
       "      <td>83713.0</td>\n",
       "    </tr>\n",
       "    <tr>\n",
       "      <th>1</th>\n",
       "      <td>PrL-3</td>\n",
       "      <td>30.00003</td>\n",
       "      <td>40655.0</td>\n",
       "    </tr>\n",
       "    <tr>\n",
       "      <th>2</th>\n",
       "      <td>PrL-4</td>\n",
       "      <td>30.00003</td>\n",
       "      <td>48634.0</td>\n",
       "    </tr>\n",
       "    <tr>\n",
       "      <th>3</th>\n",
       "      <td>PrL-5</td>\n",
       "      <td>30.00003</td>\n",
       "      <td>46981.0</td>\n",
       "    </tr>\n",
       "    <tr>\n",
       "      <th>4</th>\n",
       "      <td>PrL-8</td>\n",
       "      <td>30.00003</td>\n",
       "      <td>48489.0</td>\n",
       "    </tr>\n",
       "  </tbody>\n",
       "</table>\n",
       "</div>"
      ],
      "text/plain": [
       "    Mice  video_fps  video_frames\n",
       "0  PrL-2   30.00003       83713.0\n",
       "1  PrL-3   30.00003       40655.0\n",
       "2  PrL-4   30.00003       48634.0\n",
       "3  PrL-5   30.00003       46981.0\n",
       "4  PrL-8   30.00003       48489.0"
      ]
     },
     "execution_count": 91,
     "metadata": {},
     "output_type": "execute_result"
    },
    {
     "data": {
      "application/javascript": [
       "\n",
       "            setTimeout(function() {\n",
       "                var nbb_cell_id = 91;\n",
       "                var nbb_unformatted_code = \"mice_df[[\\\"video_fps\\\", \\\"video_frames\\\"]] = mice_df[\\\"Mice\\\"].apply(\\n    lambda mice: get_video_data(mice)\\n)\\nmice_df.head()\";\n",
       "                var nbb_formatted_code = \"mice_df[[\\\"video_fps\\\", \\\"video_frames\\\"]] = mice_df[\\\"Mice\\\"].apply(\\n    lambda mice: get_video_data(mice)\\n)\\nmice_df.head()\";\n",
       "                var nbb_cells = Jupyter.notebook.get_cells();\n",
       "                for (var i = 0; i < nbb_cells.length; ++i) {\n",
       "                    if (nbb_cells[i].input_prompt_number == nbb_cell_id) {\n",
       "                        if (nbb_cells[i].get_text() == nbb_unformatted_code) {\n",
       "                             nbb_cells[i].set_text(nbb_formatted_code);\n",
       "                        }\n",
       "                        break;\n",
       "                    }\n",
       "                }\n",
       "            }, 500);\n",
       "            "
      ],
      "text/plain": [
       "<IPython.core.display.Javascript object>"
      ]
     },
     "metadata": {},
     "output_type": "display_data"
    },
    {
     "data": {
      "application/javascript": [
       "\n",
       "            setTimeout(function() {\n",
       "                var nbb_cell_id = 91;\n",
       "                var nbb_unformatted_code = \"mice_df[[\\\"video_fps\\\", \\\"video_frames\\\"]] = mice_df[\\\"Mice\\\"].apply(\\n    lambda mice: get_video_data(mice)\\n)\\nmice_df.head()\";\n",
       "                var nbb_formatted_code = \"mice_df[[\\\"video_fps\\\", \\\"video_frames\\\"]] = mice_df[\\\"Mice\\\"].apply(\\n    lambda mice: get_video_data(mice)\\n)\\nmice_df.head()\";\n",
       "                var nbb_cells = Jupyter.notebook.get_cells();\n",
       "                for (var i = 0; i < nbb_cells.length; ++i) {\n",
       "                    if (nbb_cells[i].input_prompt_number == nbb_cell_id) {\n",
       "                        if (nbb_cells[i].get_text() == nbb_unformatted_code) {\n",
       "                             nbb_cells[i].set_text(nbb_formatted_code);\n",
       "                        }\n",
       "                        break;\n",
       "                    }\n",
       "                }\n",
       "            }, 500);\n",
       "            "
      ],
      "text/plain": [
       "<IPython.core.display.Javascript object>"
      ]
     },
     "metadata": {},
     "output_type": "display_data"
    },
    {
     "data": {
      "application/javascript": [
       "\n",
       "            setTimeout(function() {\n",
       "                var nbb_cell_id = 91;\n",
       "                var nbb_unformatted_code = \"mice_df[[\\\"video_fps\\\", \\\"video_frames\\\"]] = mice_df[\\\"Mice\\\"].apply(\\n    lambda mice: get_video_data(mice)\\n)\\nmice_df.head()\";\n",
       "                var nbb_formatted_code = \"mice_df[[\\\"video_fps\\\", \\\"video_frames\\\"]] = mice_df[\\\"Mice\\\"].apply(\\n    lambda mice: get_video_data(mice)\\n)\\nmice_df.head()\";\n",
       "                var nbb_cells = Jupyter.notebook.get_cells();\n",
       "                for (var i = 0; i < nbb_cells.length; ++i) {\n",
       "                    if (nbb_cells[i].input_prompt_number == nbb_cell_id) {\n",
       "                        if (nbb_cells[i].get_text() == nbb_unformatted_code) {\n",
       "                             nbb_cells[i].set_text(nbb_formatted_code);\n",
       "                        }\n",
       "                        break;\n",
       "                    }\n",
       "                }\n",
       "            }, 500);\n",
       "            "
      ],
      "text/plain": [
       "<IPython.core.display.Javascript object>"
      ]
     },
     "metadata": {},
     "output_type": "display_data"
    },
    {
     "data": {
      "application/javascript": [
       "\n",
       "            setTimeout(function() {\n",
       "                var nbb_cell_id = 91;\n",
       "                var nbb_unformatted_code = \"mice_df[[\\\"video_fps\\\", \\\"video_frames\\\"]] = mice_df[\\\"Mice\\\"].apply(\\n    lambda mice: get_video_data(mice)\\n)\\nmice_df.head()\";\n",
       "                var nbb_formatted_code = \"mice_df[[\\\"video_fps\\\", \\\"video_frames\\\"]] = mice_df[\\\"Mice\\\"].apply(\\n    lambda mice: get_video_data(mice)\\n)\\nmice_df.head()\";\n",
       "                var nbb_cells = Jupyter.notebook.get_cells();\n",
       "                for (var i = 0; i < nbb_cells.length; ++i) {\n",
       "                    if (nbb_cells[i].input_prompt_number == nbb_cell_id) {\n",
       "                        if (nbb_cells[i].get_text() == nbb_unformatted_code) {\n",
       "                             nbb_cells[i].set_text(nbb_formatted_code);\n",
       "                        }\n",
       "                        break;\n",
       "                    }\n",
       "                }\n",
       "            }, 500);\n",
       "            "
      ],
      "text/plain": [
       "<IPython.core.display.Javascript object>"
      ]
     },
     "metadata": {},
     "output_type": "display_data"
    },
    {
     "data": {
      "application/javascript": [
       "\n",
       "            setTimeout(function() {\n",
       "                var nbb_cell_id = 91;\n",
       "                var nbb_unformatted_code = \"mice_df[[\\\"video_fps\\\", \\\"video_frames\\\"]] = mice_df[\\\"Mice\\\"].apply(\\n    lambda mice: get_video_data(mice)\\n)\\nmice_df.head()\";\n",
       "                var nbb_formatted_code = \"mice_df[[\\\"video_fps\\\", \\\"video_frames\\\"]] = mice_df[\\\"Mice\\\"].apply(\\n    lambda mice: get_video_data(mice)\\n)\\nmice_df.head()\";\n",
       "                var nbb_cells = Jupyter.notebook.get_cells();\n",
       "                for (var i = 0; i < nbb_cells.length; ++i) {\n",
       "                    if (nbb_cells[i].input_prompt_number == nbb_cell_id) {\n",
       "                        if (nbb_cells[i].get_text() == nbb_unformatted_code) {\n",
       "                             nbb_cells[i].set_text(nbb_formatted_code);\n",
       "                        }\n",
       "                        break;\n",
       "                    }\n",
       "                }\n",
       "            }, 500);\n",
       "            "
      ],
      "text/plain": [
       "<IPython.core.display.Javascript object>"
      ]
     },
     "metadata": {},
     "output_type": "display_data"
    },
    {
     "data": {
      "application/javascript": [
       "\n",
       "            setTimeout(function() {\n",
       "                var nbb_cell_id = 91;\n",
       "                var nbb_unformatted_code = \"mice_df[[\\\"video_fps\\\", \\\"video_frames\\\"]] = mice_df[\\\"Mice\\\"].apply(\\n    lambda mice: get_video_data(mice)\\n)\\nmice_df.head()\";\n",
       "                var nbb_formatted_code = \"mice_df[[\\\"video_fps\\\", \\\"video_frames\\\"]] = mice_df[\\\"Mice\\\"].apply(\\n    lambda mice: get_video_data(mice)\\n)\\nmice_df.head()\";\n",
       "                var nbb_cells = Jupyter.notebook.get_cells();\n",
       "                for (var i = 0; i < nbb_cells.length; ++i) {\n",
       "                    if (nbb_cells[i].input_prompt_number == nbb_cell_id) {\n",
       "                        if (nbb_cells[i].get_text() == nbb_unformatted_code) {\n",
       "                             nbb_cells[i].set_text(nbb_formatted_code);\n",
       "                        }\n",
       "                        break;\n",
       "                    }\n",
       "                }\n",
       "            }, 500);\n",
       "            "
      ],
      "text/plain": [
       "<IPython.core.display.Javascript object>"
      ]
     },
     "metadata": {},
     "output_type": "display_data"
    },
    {
     "data": {
      "application/javascript": [
       "\n",
       "            setTimeout(function() {\n",
       "                var nbb_cell_id = 91;\n",
       "                var nbb_unformatted_code = \"mice_df[[\\\"video_fps\\\", \\\"video_frames\\\"]] = mice_df[\\\"Mice\\\"].apply(\\n    lambda mice: get_video_data(mice)\\n)\\nmice_df.head()\";\n",
       "                var nbb_formatted_code = \"mice_df[[\\\"video_fps\\\", \\\"video_frames\\\"]] = mice_df[\\\"Mice\\\"].apply(\\n    lambda mice: get_video_data(mice)\\n)\\nmice_df.head()\";\n",
       "                var nbb_cells = Jupyter.notebook.get_cells();\n",
       "                for (var i = 0; i < nbb_cells.length; ++i) {\n",
       "                    if (nbb_cells[i].input_prompt_number == nbb_cell_id) {\n",
       "                        if (nbb_cells[i].get_text() == nbb_unformatted_code) {\n",
       "                             nbb_cells[i].set_text(nbb_formatted_code);\n",
       "                        }\n",
       "                        break;\n",
       "                    }\n",
       "                }\n",
       "            }, 500);\n",
       "            "
      ],
      "text/plain": [
       "<IPython.core.display.Javascript object>"
      ]
     },
     "metadata": {},
     "output_type": "display_data"
    },
    {
     "data": {
      "application/javascript": [
       "\n",
       "            setTimeout(function() {\n",
       "                var nbb_cell_id = 91;\n",
       "                var nbb_unformatted_code = \"mice_df[[\\\"video_fps\\\", \\\"video_frames\\\"]] = mice_df[\\\"Mice\\\"].apply(\\n    lambda mice: get_video_data(mice)\\n)\\nmice_df.head()\";\n",
       "                var nbb_formatted_code = \"mice_df[[\\\"video_fps\\\", \\\"video_frames\\\"]] = mice_df[\\\"Mice\\\"].apply(\\n    lambda mice: get_video_data(mice)\\n)\\nmice_df.head()\";\n",
       "                var nbb_cells = Jupyter.notebook.get_cells();\n",
       "                for (var i = 0; i < nbb_cells.length; ++i) {\n",
       "                    if (nbb_cells[i].input_prompt_number == nbb_cell_id) {\n",
       "                        if (nbb_cells[i].get_text() == nbb_unformatted_code) {\n",
       "                             nbb_cells[i].set_text(nbb_formatted_code);\n",
       "                        }\n",
       "                        break;\n",
       "                    }\n",
       "                }\n",
       "            }, 500);\n",
       "            "
      ],
      "text/plain": [
       "<IPython.core.display.Javascript object>"
      ]
     },
     "metadata": {},
     "output_type": "display_data"
    }
   ],
   "source": [
    "mice_df[[\"video_fps\", \"video_frames\"]] = mice_df[\"Mice\"].apply(\n",
    "    lambda mice: get_video_data(mice)\n",
    ")\n",
    "mice_df.head()"
   ]
  },
  {
   "cell_type": "code",
   "execution_count": 93,
   "metadata": {},
   "outputs": [
    {
     "data": {
      "application/javascript": [
       "\n",
       "            setTimeout(function() {\n",
       "                var nbb_cell_id = 93;\n",
       "                var nbb_unformatted_code = \"def create_images_from_video(time: int, class_label: str):\\n\\n    if class_label not in labels:\\n        raise ValueError(\\\"Enter a valid class label!\\\")\\n    if CURRENT_MICE not in mice:\\n        raise ValueError(\\\"Enter a valid mice!\\\")\\n    \\n    if not os.path.isdir(f\\\"{path_to_data}/{class_label}\\\"):\\n        os.mkdir(f\\\"{path_to_data}/{class_label}\\\")\\n    mice_row = mice_df[mice_df.Mice == CURRENT_MICE]\\n    frame_rate = math.floor(mice_row[\\\"video_fps\\\"].item())\\n\\n    video_file_path = f\\\"{path_to_videos}/{CURRENT_MICE}.mp4\\\"\\n    videoCaptureInstance = cv2.VideoCapture(video_file_path)\\n\\n    # ignore last trial + 30 second threshold\\n    start_frame = random.randint(\\n        0, mice_row[\\\"video_frames\\\"].item() - (150 * frame_rate)\\n    )\\n    seconds = time\\n    try:\\n        while seconds != 0:\\n            ret, frame = videoCaptureInstance.read()\\n            if not ret:\\n                raise BufferError(\\n                    \\\"Unexpected error occurred with reading image due to bad video file!\\\"\\n                )\\n                break\\n\\n            # Record frame every 1 second\\n            if start_frame % frame_rate == 0:\\n                filename = (\\n                    f\\\"{path_to_data}/{class_label}/{CURRENT_MICE}-{uuid.uuid4()}.jpg\\\"\\n                )\\n                cv2.imwrite(filename, frame)\\n                print(f\\\"Saved image at {filename} in {time - seconds} seconds\\\")\\n                seconds -= 1\\n            client_key_press = cv2.waitKey(1) & 0xFF\\n\\n            # end video stream by escape key\\n            if client_key_press == 27:\\n                break\\n            start_frame += 1\\n\\n        videoCaptureInstance.release()\\n\\n        if platform.system() == \\\"Darwin\\\":\\n            cv2.waitKey(1)\\n\\n    except cv2.error:\\n        print(\\n            \\\"Unexpected error occurred with reading image and error code is\\\",\\n            cv2.error.code,\\n        )\";\n",
       "                var nbb_formatted_code = \"def create_images_from_video(time: int, class_label: str):\\n\\n    if class_label not in labels:\\n        raise ValueError(\\\"Enter a valid class label!\\\")\\n    if CURRENT_MICE not in mice:\\n        raise ValueError(\\\"Enter a valid mice!\\\")\\n\\n    if not os.path.isdir(f\\\"{path_to_data}/{class_label}\\\"):\\n        os.mkdir(f\\\"{path_to_data}/{class_label}\\\")\\n    mice_row = mice_df[mice_df.Mice == CURRENT_MICE]\\n    frame_rate = math.floor(mice_row[\\\"video_fps\\\"].item())\\n\\n    video_file_path = f\\\"{path_to_videos}/{CURRENT_MICE}.mp4\\\"\\n    videoCaptureInstance = cv2.VideoCapture(video_file_path)\\n\\n    # ignore last trial + 30 second threshold\\n    start_frame = random.randint(\\n        0, mice_row[\\\"video_frames\\\"].item() - (150 * frame_rate)\\n    )\\n    seconds = time\\n    try:\\n        while seconds != 0:\\n            ret, frame = videoCaptureInstance.read()\\n            if not ret:\\n                raise BufferError(\\n                    \\\"Unexpected error occurred with reading image due to bad video file!\\\"\\n                )\\n                break\\n\\n            # Record frame every 1 second\\n            if start_frame % frame_rate == 0:\\n                filename = (\\n                    f\\\"{path_to_data}/{class_label}/{CURRENT_MICE}-{uuid.uuid4()}.jpg\\\"\\n                )\\n                cv2.imwrite(filename, frame)\\n                print(f\\\"Saved image at {filename} in {time - seconds} seconds\\\")\\n                seconds -= 1\\n            client_key_press = cv2.waitKey(1) & 0xFF\\n\\n            # end video stream by escape key\\n            if client_key_press == 27:\\n                break\\n            start_frame += 1\\n\\n        videoCaptureInstance.release()\\n\\n        if platform.system() == \\\"Darwin\\\":\\n            cv2.waitKey(1)\\n\\n    except cv2.error:\\n        print(\\n            \\\"Unexpected error occurred with reading image and error code is\\\",\\n            cv2.error.code,\\n        )\";\n",
       "                var nbb_cells = Jupyter.notebook.get_cells();\n",
       "                for (var i = 0; i < nbb_cells.length; ++i) {\n",
       "                    if (nbb_cells[i].input_prompt_number == nbb_cell_id) {\n",
       "                        if (nbb_cells[i].get_text() == nbb_unformatted_code) {\n",
       "                             nbb_cells[i].set_text(nbb_formatted_code);\n",
       "                        }\n",
       "                        break;\n",
       "                    }\n",
       "                }\n",
       "            }, 500);\n",
       "            "
      ],
      "text/plain": [
       "<IPython.core.display.Javascript object>"
      ]
     },
     "metadata": {},
     "output_type": "display_data"
    },
    {
     "data": {
      "application/javascript": [
       "\n",
       "            setTimeout(function() {\n",
       "                var nbb_cell_id = 93;\n",
       "                var nbb_unformatted_code = \"def create_images_from_video(time: int, class_label: str):\\n\\n    if class_label not in labels:\\n        raise ValueError(\\\"Enter a valid class label!\\\")\\n    if CURRENT_MICE not in mice:\\n        raise ValueError(\\\"Enter a valid mice!\\\")\\n    \\n    if not os.path.isdir(f\\\"{path_to_data}/{class_label}\\\"):\\n        os.mkdir(f\\\"{path_to_data}/{class_label}\\\")\\n    mice_row = mice_df[mice_df.Mice == CURRENT_MICE]\\n    frame_rate = math.floor(mice_row[\\\"video_fps\\\"].item())\\n\\n    video_file_path = f\\\"{path_to_videos}/{CURRENT_MICE}.mp4\\\"\\n    videoCaptureInstance = cv2.VideoCapture(video_file_path)\\n\\n    # ignore last trial + 30 second threshold\\n    start_frame = random.randint(\\n        0, mice_row[\\\"video_frames\\\"].item() - (150 * frame_rate)\\n    )\\n    seconds = time\\n    try:\\n        while seconds != 0:\\n            ret, frame = videoCaptureInstance.read()\\n            if not ret:\\n                raise BufferError(\\n                    \\\"Unexpected error occurred with reading image due to bad video file!\\\"\\n                )\\n                break\\n\\n            # Record frame every 1 second\\n            if start_frame % frame_rate == 0:\\n                filename = (\\n                    f\\\"{path_to_data}/{class_label}/{CURRENT_MICE}-{uuid.uuid4()}.jpg\\\"\\n                )\\n                cv2.imwrite(filename, frame)\\n                print(f\\\"Saved image at {filename} in {time - seconds} seconds\\\")\\n                seconds -= 1\\n            client_key_press = cv2.waitKey(1) & 0xFF\\n\\n            # end video stream by escape key\\n            if client_key_press == 27:\\n                break\\n            start_frame += 1\\n\\n        videoCaptureInstance.release()\\n\\n        if platform.system() == \\\"Darwin\\\":\\n            cv2.waitKey(1)\\n\\n    except cv2.error:\\n        print(\\n            \\\"Unexpected error occurred with reading image and error code is\\\",\\n            cv2.error.code,\\n        )\";\n",
       "                var nbb_formatted_code = \"def create_images_from_video(time: int, class_label: str):\\n\\n    if class_label not in labels:\\n        raise ValueError(\\\"Enter a valid class label!\\\")\\n    if CURRENT_MICE not in mice:\\n        raise ValueError(\\\"Enter a valid mice!\\\")\\n\\n    if not os.path.isdir(f\\\"{path_to_data}/{class_label}\\\"):\\n        os.mkdir(f\\\"{path_to_data}/{class_label}\\\")\\n    mice_row = mice_df[mice_df.Mice == CURRENT_MICE]\\n    frame_rate = math.floor(mice_row[\\\"video_fps\\\"].item())\\n\\n    video_file_path = f\\\"{path_to_videos}/{CURRENT_MICE}.mp4\\\"\\n    videoCaptureInstance = cv2.VideoCapture(video_file_path)\\n\\n    # ignore last trial + 30 second threshold\\n    start_frame = random.randint(\\n        0, mice_row[\\\"video_frames\\\"].item() - (150 * frame_rate)\\n    )\\n    seconds = time\\n    try:\\n        while seconds != 0:\\n            ret, frame = videoCaptureInstance.read()\\n            if not ret:\\n                raise BufferError(\\n                    \\\"Unexpected error occurred with reading image due to bad video file!\\\"\\n                )\\n                break\\n\\n            # Record frame every 1 second\\n            if start_frame % frame_rate == 0:\\n                filename = (\\n                    f\\\"{path_to_data}/{class_label}/{CURRENT_MICE}-{uuid.uuid4()}.jpg\\\"\\n                )\\n                cv2.imwrite(filename, frame)\\n                print(f\\\"Saved image at {filename} in {time - seconds} seconds\\\")\\n                seconds -= 1\\n            client_key_press = cv2.waitKey(1) & 0xFF\\n\\n            # end video stream by escape key\\n            if client_key_press == 27:\\n                break\\n            start_frame += 1\\n\\n        videoCaptureInstance.release()\\n\\n        if platform.system() == \\\"Darwin\\\":\\n            cv2.waitKey(1)\\n\\n    except cv2.error:\\n        print(\\n            \\\"Unexpected error occurred with reading image and error code is\\\",\\n            cv2.error.code,\\n        )\";\n",
       "                var nbb_cells = Jupyter.notebook.get_cells();\n",
       "                for (var i = 0; i < nbb_cells.length; ++i) {\n",
       "                    if (nbb_cells[i].input_prompt_number == nbb_cell_id) {\n",
       "                        if (nbb_cells[i].get_text() == nbb_unformatted_code) {\n",
       "                             nbb_cells[i].set_text(nbb_formatted_code);\n",
       "                        }\n",
       "                        break;\n",
       "                    }\n",
       "                }\n",
       "            }, 500);\n",
       "            "
      ],
      "text/plain": [
       "<IPython.core.display.Javascript object>"
      ]
     },
     "metadata": {},
     "output_type": "display_data"
    },
    {
     "data": {
      "application/javascript": [
       "\n",
       "            setTimeout(function() {\n",
       "                var nbb_cell_id = 93;\n",
       "                var nbb_unformatted_code = \"def create_images_from_video(time: int, class_label: str):\\n\\n    if class_label not in labels:\\n        raise ValueError(\\\"Enter a valid class label!\\\")\\n    if CURRENT_MICE not in mice:\\n        raise ValueError(\\\"Enter a valid mice!\\\")\\n    \\n    if not os.path.isdir(f\\\"{path_to_data}/{class_label}\\\"):\\n        os.mkdir(f\\\"{path_to_data}/{class_label}\\\")\\n    mice_row = mice_df[mice_df.Mice == CURRENT_MICE]\\n    frame_rate = math.floor(mice_row[\\\"video_fps\\\"].item())\\n\\n    video_file_path = f\\\"{path_to_videos}/{CURRENT_MICE}.mp4\\\"\\n    videoCaptureInstance = cv2.VideoCapture(video_file_path)\\n\\n    # ignore last trial + 30 second threshold\\n    start_frame = random.randint(\\n        0, mice_row[\\\"video_frames\\\"].item() - (150 * frame_rate)\\n    )\\n    seconds = time\\n    try:\\n        while seconds != 0:\\n            ret, frame = videoCaptureInstance.read()\\n            if not ret:\\n                raise BufferError(\\n                    \\\"Unexpected error occurred with reading image due to bad video file!\\\"\\n                )\\n                break\\n\\n            # Record frame every 1 second\\n            if start_frame % frame_rate == 0:\\n                filename = (\\n                    f\\\"{path_to_data}/{class_label}/{CURRENT_MICE}-{uuid.uuid4()}.jpg\\\"\\n                )\\n                cv2.imwrite(filename, frame)\\n                print(f\\\"Saved image at {filename} in {time - seconds} seconds\\\")\\n                seconds -= 1\\n            client_key_press = cv2.waitKey(1) & 0xFF\\n\\n            # end video stream by escape key\\n            if client_key_press == 27:\\n                break\\n            start_frame += 1\\n\\n        videoCaptureInstance.release()\\n\\n        if platform.system() == \\\"Darwin\\\":\\n            cv2.waitKey(1)\\n\\n    except cv2.error:\\n        print(\\n            \\\"Unexpected error occurred with reading image and error code is\\\",\\n            cv2.error.code,\\n        )\";\n",
       "                var nbb_formatted_code = \"def create_images_from_video(time: int, class_label: str):\\n\\n    if class_label not in labels:\\n        raise ValueError(\\\"Enter a valid class label!\\\")\\n    if CURRENT_MICE not in mice:\\n        raise ValueError(\\\"Enter a valid mice!\\\")\\n\\n    if not os.path.isdir(f\\\"{path_to_data}/{class_label}\\\"):\\n        os.mkdir(f\\\"{path_to_data}/{class_label}\\\")\\n    mice_row = mice_df[mice_df.Mice == CURRENT_MICE]\\n    frame_rate = math.floor(mice_row[\\\"video_fps\\\"].item())\\n\\n    video_file_path = f\\\"{path_to_videos}/{CURRENT_MICE}.mp4\\\"\\n    videoCaptureInstance = cv2.VideoCapture(video_file_path)\\n\\n    # ignore last trial + 30 second threshold\\n    start_frame = random.randint(\\n        0, mice_row[\\\"video_frames\\\"].item() - (150 * frame_rate)\\n    )\\n    seconds = time\\n    try:\\n        while seconds != 0:\\n            ret, frame = videoCaptureInstance.read()\\n            if not ret:\\n                raise BufferError(\\n                    \\\"Unexpected error occurred with reading image due to bad video file!\\\"\\n                )\\n                break\\n\\n            # Record frame every 1 second\\n            if start_frame % frame_rate == 0:\\n                filename = (\\n                    f\\\"{path_to_data}/{class_label}/{CURRENT_MICE}-{uuid.uuid4()}.jpg\\\"\\n                )\\n                cv2.imwrite(filename, frame)\\n                print(f\\\"Saved image at {filename} in {time - seconds} seconds\\\")\\n                seconds -= 1\\n            client_key_press = cv2.waitKey(1) & 0xFF\\n\\n            # end video stream by escape key\\n            if client_key_press == 27:\\n                break\\n            start_frame += 1\\n\\n        videoCaptureInstance.release()\\n\\n        if platform.system() == \\\"Darwin\\\":\\n            cv2.waitKey(1)\\n\\n    except cv2.error:\\n        print(\\n            \\\"Unexpected error occurred with reading image and error code is\\\",\\n            cv2.error.code,\\n        )\";\n",
       "                var nbb_cells = Jupyter.notebook.get_cells();\n",
       "                for (var i = 0; i < nbb_cells.length; ++i) {\n",
       "                    if (nbb_cells[i].input_prompt_number == nbb_cell_id) {\n",
       "                        if (nbb_cells[i].get_text() == nbb_unformatted_code) {\n",
       "                             nbb_cells[i].set_text(nbb_formatted_code);\n",
       "                        }\n",
       "                        break;\n",
       "                    }\n",
       "                }\n",
       "            }, 500);\n",
       "            "
      ],
      "text/plain": [
       "<IPython.core.display.Javascript object>"
      ]
     },
     "metadata": {},
     "output_type": "display_data"
    },
    {
     "data": {
      "application/javascript": [
       "\n",
       "            setTimeout(function() {\n",
       "                var nbb_cell_id = 93;\n",
       "                var nbb_unformatted_code = \"def create_images_from_video(time: int, class_label: str):\\n\\n    if class_label not in labels:\\n        raise ValueError(\\\"Enter a valid class label!\\\")\\n    if CURRENT_MICE not in mice:\\n        raise ValueError(\\\"Enter a valid mice!\\\")\\n    \\n    if not os.path.isdir(f\\\"{path_to_data}/{class_label}\\\"):\\n        os.mkdir(f\\\"{path_to_data}/{class_label}\\\")\\n    mice_row = mice_df[mice_df.Mice == CURRENT_MICE]\\n    frame_rate = math.floor(mice_row[\\\"video_fps\\\"].item())\\n\\n    video_file_path = f\\\"{path_to_videos}/{CURRENT_MICE}.mp4\\\"\\n    videoCaptureInstance = cv2.VideoCapture(video_file_path)\\n\\n    # ignore last trial + 30 second threshold\\n    start_frame = random.randint(\\n        0, mice_row[\\\"video_frames\\\"].item() - (150 * frame_rate)\\n    )\\n    seconds = time\\n    try:\\n        while seconds != 0:\\n            ret, frame = videoCaptureInstance.read()\\n            if not ret:\\n                raise BufferError(\\n                    \\\"Unexpected error occurred with reading image due to bad video file!\\\"\\n                )\\n                break\\n\\n            # Record frame every 1 second\\n            if start_frame % frame_rate == 0:\\n                filename = (\\n                    f\\\"{path_to_data}/{class_label}/{CURRENT_MICE}-{uuid.uuid4()}.jpg\\\"\\n                )\\n                cv2.imwrite(filename, frame)\\n                print(f\\\"Saved image at {filename} in {time - seconds} seconds\\\")\\n                seconds -= 1\\n            client_key_press = cv2.waitKey(1) & 0xFF\\n\\n            # end video stream by escape key\\n            if client_key_press == 27:\\n                break\\n            start_frame += 1\\n\\n        videoCaptureInstance.release()\\n\\n        if platform.system() == \\\"Darwin\\\":\\n            cv2.waitKey(1)\\n\\n    except cv2.error:\\n        print(\\n            \\\"Unexpected error occurred with reading image and error code is\\\",\\n            cv2.error.code,\\n        )\";\n",
       "                var nbb_formatted_code = \"def create_images_from_video(time: int, class_label: str):\\n\\n    if class_label not in labels:\\n        raise ValueError(\\\"Enter a valid class label!\\\")\\n    if CURRENT_MICE not in mice:\\n        raise ValueError(\\\"Enter a valid mice!\\\")\\n\\n    if not os.path.isdir(f\\\"{path_to_data}/{class_label}\\\"):\\n        os.mkdir(f\\\"{path_to_data}/{class_label}\\\")\\n    mice_row = mice_df[mice_df.Mice == CURRENT_MICE]\\n    frame_rate = math.floor(mice_row[\\\"video_fps\\\"].item())\\n\\n    video_file_path = f\\\"{path_to_videos}/{CURRENT_MICE}.mp4\\\"\\n    videoCaptureInstance = cv2.VideoCapture(video_file_path)\\n\\n    # ignore last trial + 30 second threshold\\n    start_frame = random.randint(\\n        0, mice_row[\\\"video_frames\\\"].item() - (150 * frame_rate)\\n    )\\n    seconds = time\\n    try:\\n        while seconds != 0:\\n            ret, frame = videoCaptureInstance.read()\\n            if not ret:\\n                raise BufferError(\\n                    \\\"Unexpected error occurred with reading image due to bad video file!\\\"\\n                )\\n                break\\n\\n            # Record frame every 1 second\\n            if start_frame % frame_rate == 0:\\n                filename = (\\n                    f\\\"{path_to_data}/{class_label}/{CURRENT_MICE}-{uuid.uuid4()}.jpg\\\"\\n                )\\n                cv2.imwrite(filename, frame)\\n                print(f\\\"Saved image at {filename} in {time - seconds} seconds\\\")\\n                seconds -= 1\\n            client_key_press = cv2.waitKey(1) & 0xFF\\n\\n            # end video stream by escape key\\n            if client_key_press == 27:\\n                break\\n            start_frame += 1\\n\\n        videoCaptureInstance.release()\\n\\n        if platform.system() == \\\"Darwin\\\":\\n            cv2.waitKey(1)\\n\\n    except cv2.error:\\n        print(\\n            \\\"Unexpected error occurred with reading image and error code is\\\",\\n            cv2.error.code,\\n        )\";\n",
       "                var nbb_cells = Jupyter.notebook.get_cells();\n",
       "                for (var i = 0; i < nbb_cells.length; ++i) {\n",
       "                    if (nbb_cells[i].input_prompt_number == nbb_cell_id) {\n",
       "                        if (nbb_cells[i].get_text() == nbb_unformatted_code) {\n",
       "                             nbb_cells[i].set_text(nbb_formatted_code);\n",
       "                        }\n",
       "                        break;\n",
       "                    }\n",
       "                }\n",
       "            }, 500);\n",
       "            "
      ],
      "text/plain": [
       "<IPython.core.display.Javascript object>"
      ]
     },
     "metadata": {},
     "output_type": "display_data"
    },
    {
     "data": {
      "application/javascript": [
       "\n",
       "            setTimeout(function() {\n",
       "                var nbb_cell_id = 93;\n",
       "                var nbb_unformatted_code = \"def create_images_from_video(time: int, class_label: str):\\n\\n    if class_label not in labels:\\n        raise ValueError(\\\"Enter a valid class label!\\\")\\n    if CURRENT_MICE not in mice:\\n        raise ValueError(\\\"Enter a valid mice!\\\")\\n    \\n    if not os.path.isdir(f\\\"{path_to_data}/{class_label}\\\"):\\n        os.mkdir(f\\\"{path_to_data}/{class_label}\\\")\\n    mice_row = mice_df[mice_df.Mice == CURRENT_MICE]\\n    frame_rate = math.floor(mice_row[\\\"video_fps\\\"].item())\\n\\n    video_file_path = f\\\"{path_to_videos}/{CURRENT_MICE}.mp4\\\"\\n    videoCaptureInstance = cv2.VideoCapture(video_file_path)\\n\\n    # ignore last trial + 30 second threshold\\n    start_frame = random.randint(\\n        0, mice_row[\\\"video_frames\\\"].item() - (150 * frame_rate)\\n    )\\n    seconds = time\\n    try:\\n        while seconds != 0:\\n            ret, frame = videoCaptureInstance.read()\\n            if not ret:\\n                raise BufferError(\\n                    \\\"Unexpected error occurred with reading image due to bad video file!\\\"\\n                )\\n                break\\n\\n            # Record frame every 1 second\\n            if start_frame % frame_rate == 0:\\n                filename = (\\n                    f\\\"{path_to_data}/{class_label}/{CURRENT_MICE}-{uuid.uuid4()}.jpg\\\"\\n                )\\n                cv2.imwrite(filename, frame)\\n                print(f\\\"Saved image at {filename} in {time - seconds} seconds\\\")\\n                seconds -= 1\\n            client_key_press = cv2.waitKey(1) & 0xFF\\n\\n            # end video stream by escape key\\n            if client_key_press == 27:\\n                break\\n            start_frame += 1\\n\\n        videoCaptureInstance.release()\\n\\n        if platform.system() == \\\"Darwin\\\":\\n            cv2.waitKey(1)\\n\\n    except cv2.error:\\n        print(\\n            \\\"Unexpected error occurred with reading image and error code is\\\",\\n            cv2.error.code,\\n        )\";\n",
       "                var nbb_formatted_code = \"def create_images_from_video(time: int, class_label: str):\\n\\n    if class_label not in labels:\\n        raise ValueError(\\\"Enter a valid class label!\\\")\\n    if CURRENT_MICE not in mice:\\n        raise ValueError(\\\"Enter a valid mice!\\\")\\n\\n    if not os.path.isdir(f\\\"{path_to_data}/{class_label}\\\"):\\n        os.mkdir(f\\\"{path_to_data}/{class_label}\\\")\\n    mice_row = mice_df[mice_df.Mice == CURRENT_MICE]\\n    frame_rate = math.floor(mice_row[\\\"video_fps\\\"].item())\\n\\n    video_file_path = f\\\"{path_to_videos}/{CURRENT_MICE}.mp4\\\"\\n    videoCaptureInstance = cv2.VideoCapture(video_file_path)\\n\\n    # ignore last trial + 30 second threshold\\n    start_frame = random.randint(\\n        0, mice_row[\\\"video_frames\\\"].item() - (150 * frame_rate)\\n    )\\n    seconds = time\\n    try:\\n        while seconds != 0:\\n            ret, frame = videoCaptureInstance.read()\\n            if not ret:\\n                raise BufferError(\\n                    \\\"Unexpected error occurred with reading image due to bad video file!\\\"\\n                )\\n                break\\n\\n            # Record frame every 1 second\\n            if start_frame % frame_rate == 0:\\n                filename = (\\n                    f\\\"{path_to_data}/{class_label}/{CURRENT_MICE}-{uuid.uuid4()}.jpg\\\"\\n                )\\n                cv2.imwrite(filename, frame)\\n                print(f\\\"Saved image at {filename} in {time - seconds} seconds\\\")\\n                seconds -= 1\\n            client_key_press = cv2.waitKey(1) & 0xFF\\n\\n            # end video stream by escape key\\n            if client_key_press == 27:\\n                break\\n            start_frame += 1\\n\\n        videoCaptureInstance.release()\\n\\n        if platform.system() == \\\"Darwin\\\":\\n            cv2.waitKey(1)\\n\\n    except cv2.error:\\n        print(\\n            \\\"Unexpected error occurred with reading image and error code is\\\",\\n            cv2.error.code,\\n        )\";\n",
       "                var nbb_cells = Jupyter.notebook.get_cells();\n",
       "                for (var i = 0; i < nbb_cells.length; ++i) {\n",
       "                    if (nbb_cells[i].input_prompt_number == nbb_cell_id) {\n",
       "                        if (nbb_cells[i].get_text() == nbb_unformatted_code) {\n",
       "                             nbb_cells[i].set_text(nbb_formatted_code);\n",
       "                        }\n",
       "                        break;\n",
       "                    }\n",
       "                }\n",
       "            }, 500);\n",
       "            "
      ],
      "text/plain": [
       "<IPython.core.display.Javascript object>"
      ]
     },
     "metadata": {},
     "output_type": "display_data"
    },
    {
     "data": {
      "application/javascript": [
       "\n",
       "            setTimeout(function() {\n",
       "                var nbb_cell_id = 93;\n",
       "                var nbb_unformatted_code = \"def create_images_from_video(time: int, class_label: str):\\n\\n    if class_label not in labels:\\n        raise ValueError(\\\"Enter a valid class label!\\\")\\n    if CURRENT_MICE not in mice:\\n        raise ValueError(\\\"Enter a valid mice!\\\")\\n    \\n    if not os.path.isdir(f\\\"{path_to_data}/{class_label}\\\"):\\n        os.mkdir(f\\\"{path_to_data}/{class_label}\\\")\\n    mice_row = mice_df[mice_df.Mice == CURRENT_MICE]\\n    frame_rate = math.floor(mice_row[\\\"video_fps\\\"].item())\\n\\n    video_file_path = f\\\"{path_to_videos}/{CURRENT_MICE}.mp4\\\"\\n    videoCaptureInstance = cv2.VideoCapture(video_file_path)\\n\\n    # ignore last trial + 30 second threshold\\n    start_frame = random.randint(\\n        0, mice_row[\\\"video_frames\\\"].item() - (150 * frame_rate)\\n    )\\n    seconds = time\\n    try:\\n        while seconds != 0:\\n            ret, frame = videoCaptureInstance.read()\\n            if not ret:\\n                raise BufferError(\\n                    \\\"Unexpected error occurred with reading image due to bad video file!\\\"\\n                )\\n                break\\n\\n            # Record frame every 1 second\\n            if start_frame % frame_rate == 0:\\n                filename = (\\n                    f\\\"{path_to_data}/{class_label}/{CURRENT_MICE}-{uuid.uuid4()}.jpg\\\"\\n                )\\n                cv2.imwrite(filename, frame)\\n                print(f\\\"Saved image at {filename} in {time - seconds} seconds\\\")\\n                seconds -= 1\\n            client_key_press = cv2.waitKey(1) & 0xFF\\n\\n            # end video stream by escape key\\n            if client_key_press == 27:\\n                break\\n            start_frame += 1\\n\\n        videoCaptureInstance.release()\\n\\n        if platform.system() == \\\"Darwin\\\":\\n            cv2.waitKey(1)\\n\\n    except cv2.error:\\n        print(\\n            \\\"Unexpected error occurred with reading image and error code is\\\",\\n            cv2.error.code,\\n        )\";\n",
       "                var nbb_formatted_code = \"def create_images_from_video(time: int, class_label: str):\\n\\n    if class_label not in labels:\\n        raise ValueError(\\\"Enter a valid class label!\\\")\\n    if CURRENT_MICE not in mice:\\n        raise ValueError(\\\"Enter a valid mice!\\\")\\n\\n    if not os.path.isdir(f\\\"{path_to_data}/{class_label}\\\"):\\n        os.mkdir(f\\\"{path_to_data}/{class_label}\\\")\\n    mice_row = mice_df[mice_df.Mice == CURRENT_MICE]\\n    frame_rate = math.floor(mice_row[\\\"video_fps\\\"].item())\\n\\n    video_file_path = f\\\"{path_to_videos}/{CURRENT_MICE}.mp4\\\"\\n    videoCaptureInstance = cv2.VideoCapture(video_file_path)\\n\\n    # ignore last trial + 30 second threshold\\n    start_frame = random.randint(\\n        0, mice_row[\\\"video_frames\\\"].item() - (150 * frame_rate)\\n    )\\n    seconds = time\\n    try:\\n        while seconds != 0:\\n            ret, frame = videoCaptureInstance.read()\\n            if not ret:\\n                raise BufferError(\\n                    \\\"Unexpected error occurred with reading image due to bad video file!\\\"\\n                )\\n                break\\n\\n            # Record frame every 1 second\\n            if start_frame % frame_rate == 0:\\n                filename = (\\n                    f\\\"{path_to_data}/{class_label}/{CURRENT_MICE}-{uuid.uuid4()}.jpg\\\"\\n                )\\n                cv2.imwrite(filename, frame)\\n                print(f\\\"Saved image at {filename} in {time - seconds} seconds\\\")\\n                seconds -= 1\\n            client_key_press = cv2.waitKey(1) & 0xFF\\n\\n            # end video stream by escape key\\n            if client_key_press == 27:\\n                break\\n            start_frame += 1\\n\\n        videoCaptureInstance.release()\\n\\n        if platform.system() == \\\"Darwin\\\":\\n            cv2.waitKey(1)\\n\\n    except cv2.error:\\n        print(\\n            \\\"Unexpected error occurred with reading image and error code is\\\",\\n            cv2.error.code,\\n        )\";\n",
       "                var nbb_cells = Jupyter.notebook.get_cells();\n",
       "                for (var i = 0; i < nbb_cells.length; ++i) {\n",
       "                    if (nbb_cells[i].input_prompt_number == nbb_cell_id) {\n",
       "                        if (nbb_cells[i].get_text() == nbb_unformatted_code) {\n",
       "                             nbb_cells[i].set_text(nbb_formatted_code);\n",
       "                        }\n",
       "                        break;\n",
       "                    }\n",
       "                }\n",
       "            }, 500);\n",
       "            "
      ],
      "text/plain": [
       "<IPython.core.display.Javascript object>"
      ]
     },
     "metadata": {},
     "output_type": "display_data"
    },
    {
     "data": {
      "application/javascript": [
       "\n",
       "            setTimeout(function() {\n",
       "                var nbb_cell_id = 93;\n",
       "                var nbb_unformatted_code = \"def create_images_from_video(time: int, class_label: str):\\n\\n    if class_label not in labels:\\n        raise ValueError(\\\"Enter a valid class label!\\\")\\n    if CURRENT_MICE not in mice:\\n        raise ValueError(\\\"Enter a valid mice!\\\")\\n    \\n    if not os.path.isdir(f\\\"{path_to_data}/{class_label}\\\"):\\n        os.mkdir(f\\\"{path_to_data}/{class_label}\\\")\\n    mice_row = mice_df[mice_df.Mice == CURRENT_MICE]\\n    frame_rate = math.floor(mice_row[\\\"video_fps\\\"].item())\\n\\n    video_file_path = f\\\"{path_to_videos}/{CURRENT_MICE}.mp4\\\"\\n    videoCaptureInstance = cv2.VideoCapture(video_file_path)\\n\\n    # ignore last trial + 30 second threshold\\n    start_frame = random.randint(\\n        0, mice_row[\\\"video_frames\\\"].item() - (150 * frame_rate)\\n    )\\n    seconds = time\\n    try:\\n        while seconds != 0:\\n            ret, frame = videoCaptureInstance.read()\\n            if not ret:\\n                raise BufferError(\\n                    \\\"Unexpected error occurred with reading image due to bad video file!\\\"\\n                )\\n                break\\n\\n            # Record frame every 1 second\\n            if start_frame % frame_rate == 0:\\n                filename = (\\n                    f\\\"{path_to_data}/{class_label}/{CURRENT_MICE}-{uuid.uuid4()}.jpg\\\"\\n                )\\n                cv2.imwrite(filename, frame)\\n                print(f\\\"Saved image at {filename} in {time - seconds} seconds\\\")\\n                seconds -= 1\\n            client_key_press = cv2.waitKey(1) & 0xFF\\n\\n            # end video stream by escape key\\n            if client_key_press == 27:\\n                break\\n            start_frame += 1\\n\\n        videoCaptureInstance.release()\\n\\n        if platform.system() == \\\"Darwin\\\":\\n            cv2.waitKey(1)\\n\\n    except cv2.error:\\n        print(\\n            \\\"Unexpected error occurred with reading image and error code is\\\",\\n            cv2.error.code,\\n        )\";\n",
       "                var nbb_formatted_code = \"def create_images_from_video(time: int, class_label: str):\\n\\n    if class_label not in labels:\\n        raise ValueError(\\\"Enter a valid class label!\\\")\\n    if CURRENT_MICE not in mice:\\n        raise ValueError(\\\"Enter a valid mice!\\\")\\n\\n    if not os.path.isdir(f\\\"{path_to_data}/{class_label}\\\"):\\n        os.mkdir(f\\\"{path_to_data}/{class_label}\\\")\\n    mice_row = mice_df[mice_df.Mice == CURRENT_MICE]\\n    frame_rate = math.floor(mice_row[\\\"video_fps\\\"].item())\\n\\n    video_file_path = f\\\"{path_to_videos}/{CURRENT_MICE}.mp4\\\"\\n    videoCaptureInstance = cv2.VideoCapture(video_file_path)\\n\\n    # ignore last trial + 30 second threshold\\n    start_frame = random.randint(\\n        0, mice_row[\\\"video_frames\\\"].item() - (150 * frame_rate)\\n    )\\n    seconds = time\\n    try:\\n        while seconds != 0:\\n            ret, frame = videoCaptureInstance.read()\\n            if not ret:\\n                raise BufferError(\\n                    \\\"Unexpected error occurred with reading image due to bad video file!\\\"\\n                )\\n                break\\n\\n            # Record frame every 1 second\\n            if start_frame % frame_rate == 0:\\n                filename = (\\n                    f\\\"{path_to_data}/{class_label}/{CURRENT_MICE}-{uuid.uuid4()}.jpg\\\"\\n                )\\n                cv2.imwrite(filename, frame)\\n                print(f\\\"Saved image at {filename} in {time - seconds} seconds\\\")\\n                seconds -= 1\\n            client_key_press = cv2.waitKey(1) & 0xFF\\n\\n            # end video stream by escape key\\n            if client_key_press == 27:\\n                break\\n            start_frame += 1\\n\\n        videoCaptureInstance.release()\\n\\n        if platform.system() == \\\"Darwin\\\":\\n            cv2.waitKey(1)\\n\\n    except cv2.error:\\n        print(\\n            \\\"Unexpected error occurred with reading image and error code is\\\",\\n            cv2.error.code,\\n        )\";\n",
       "                var nbb_cells = Jupyter.notebook.get_cells();\n",
       "                for (var i = 0; i < nbb_cells.length; ++i) {\n",
       "                    if (nbb_cells[i].input_prompt_number == nbb_cell_id) {\n",
       "                        if (nbb_cells[i].get_text() == nbb_unformatted_code) {\n",
       "                             nbb_cells[i].set_text(nbb_formatted_code);\n",
       "                        }\n",
       "                        break;\n",
       "                    }\n",
       "                }\n",
       "            }, 500);\n",
       "            "
      ],
      "text/plain": [
       "<IPython.core.display.Javascript object>"
      ]
     },
     "metadata": {},
     "output_type": "display_data"
    },
    {
     "data": {
      "application/javascript": [
       "\n",
       "            setTimeout(function() {\n",
       "                var nbb_cell_id = 93;\n",
       "                var nbb_unformatted_code = \"def create_images_from_video(time: int, class_label: str):\\n\\n    if class_label not in labels:\\n        raise ValueError(\\\"Enter a valid class label!\\\")\\n    if CURRENT_MICE not in mice:\\n        raise ValueError(\\\"Enter a valid mice!\\\")\\n    \\n    if not os.path.isdir(f\\\"{path_to_data}/{class_label}\\\"):\\n        os.mkdir(f\\\"{path_to_data}/{class_label}\\\")\\n    mice_row = mice_df[mice_df.Mice == CURRENT_MICE]\\n    frame_rate = math.floor(mice_row[\\\"video_fps\\\"].item())\\n\\n    video_file_path = f\\\"{path_to_videos}/{CURRENT_MICE}.mp4\\\"\\n    videoCaptureInstance = cv2.VideoCapture(video_file_path)\\n\\n    # ignore last trial + 30 second threshold\\n    start_frame = random.randint(\\n        0, mice_row[\\\"video_frames\\\"].item() - (150 * frame_rate)\\n    )\\n    seconds = time\\n    try:\\n        while seconds != 0:\\n            ret, frame = videoCaptureInstance.read()\\n            if not ret:\\n                raise BufferError(\\n                    \\\"Unexpected error occurred with reading image due to bad video file!\\\"\\n                )\\n                break\\n\\n            # Record frame every 1 second\\n            if start_frame % frame_rate == 0:\\n                filename = (\\n                    f\\\"{path_to_data}/{class_label}/{CURRENT_MICE}-{uuid.uuid4()}.jpg\\\"\\n                )\\n                cv2.imwrite(filename, frame)\\n                print(f\\\"Saved image at {filename} in {time - seconds} seconds\\\")\\n                seconds -= 1\\n            client_key_press = cv2.waitKey(1) & 0xFF\\n\\n            # end video stream by escape key\\n            if client_key_press == 27:\\n                break\\n            start_frame += 1\\n\\n        videoCaptureInstance.release()\\n\\n        if platform.system() == \\\"Darwin\\\":\\n            cv2.waitKey(1)\\n\\n    except cv2.error:\\n        print(\\n            \\\"Unexpected error occurred with reading image and error code is\\\",\\n            cv2.error.code,\\n        )\";\n",
       "                var nbb_formatted_code = \"def create_images_from_video(time: int, class_label: str):\\n\\n    if class_label not in labels:\\n        raise ValueError(\\\"Enter a valid class label!\\\")\\n    if CURRENT_MICE not in mice:\\n        raise ValueError(\\\"Enter a valid mice!\\\")\\n\\n    if not os.path.isdir(f\\\"{path_to_data}/{class_label}\\\"):\\n        os.mkdir(f\\\"{path_to_data}/{class_label}\\\")\\n    mice_row = mice_df[mice_df.Mice == CURRENT_MICE]\\n    frame_rate = math.floor(mice_row[\\\"video_fps\\\"].item())\\n\\n    video_file_path = f\\\"{path_to_videos}/{CURRENT_MICE}.mp4\\\"\\n    videoCaptureInstance = cv2.VideoCapture(video_file_path)\\n\\n    # ignore last trial + 30 second threshold\\n    start_frame = random.randint(\\n        0, mice_row[\\\"video_frames\\\"].item() - (150 * frame_rate)\\n    )\\n    seconds = time\\n    try:\\n        while seconds != 0:\\n            ret, frame = videoCaptureInstance.read()\\n            if not ret:\\n                raise BufferError(\\n                    \\\"Unexpected error occurred with reading image due to bad video file!\\\"\\n                )\\n                break\\n\\n            # Record frame every 1 second\\n            if start_frame % frame_rate == 0:\\n                filename = (\\n                    f\\\"{path_to_data}/{class_label}/{CURRENT_MICE}-{uuid.uuid4()}.jpg\\\"\\n                )\\n                cv2.imwrite(filename, frame)\\n                print(f\\\"Saved image at {filename} in {time - seconds} seconds\\\")\\n                seconds -= 1\\n            client_key_press = cv2.waitKey(1) & 0xFF\\n\\n            # end video stream by escape key\\n            if client_key_press == 27:\\n                break\\n            start_frame += 1\\n\\n        videoCaptureInstance.release()\\n\\n        if platform.system() == \\\"Darwin\\\":\\n            cv2.waitKey(1)\\n\\n    except cv2.error:\\n        print(\\n            \\\"Unexpected error occurred with reading image and error code is\\\",\\n            cv2.error.code,\\n        )\";\n",
       "                var nbb_cells = Jupyter.notebook.get_cells();\n",
       "                for (var i = 0; i < nbb_cells.length; ++i) {\n",
       "                    if (nbb_cells[i].input_prompt_number == nbb_cell_id) {\n",
       "                        if (nbb_cells[i].get_text() == nbb_unformatted_code) {\n",
       "                             nbb_cells[i].set_text(nbb_formatted_code);\n",
       "                        }\n",
       "                        break;\n",
       "                    }\n",
       "                }\n",
       "            }, 500);\n",
       "            "
      ],
      "text/plain": [
       "<IPython.core.display.Javascript object>"
      ]
     },
     "metadata": {},
     "output_type": "display_data"
    }
   ],
   "source": [
    "def create_images_from_video(time: int, class_label: str):\n",
    "\n",
    "    if class_label not in labels:\n",
    "        raise ValueError(\"Enter a valid class label!\")\n",
    "    if CURRENT_MICE not in mice:\n",
    "        raise ValueError(\"Enter a valid mice!\")\n",
    "\n",
    "    if not os.path.isdir(f\"{path_to_data}/{class_label}\"):\n",
    "        os.mkdir(f\"{path_to_data}/{class_label}\")\n",
    "    mice_row = mice_df[mice_df.Mice == CURRENT_MICE]\n",
    "    frame_rate = math.floor(mice_row[\"video_fps\"].item())\n",
    "\n",
    "    video_file_path = f\"{path_to_videos}/{CURRENT_MICE}.mp4\"\n",
    "    videoCaptureInstance = cv2.VideoCapture(video_file_path)\n",
    "\n",
    "    # ignore last trial + 30 second threshold\n",
    "    start_frame = random.randint(\n",
    "        0, mice_row[\"video_frames\"].item() - (150 * frame_rate)\n",
    "    )\n",
    "    seconds = time\n",
    "    try:\n",
    "        while seconds != 0:\n",
    "            ret, frame = videoCaptureInstance.read()\n",
    "            if not ret:\n",
    "                raise BufferError(\n",
    "                    \"Unexpected error occurred with reading image due to bad video file!\"\n",
    "                )\n",
    "                break\n",
    "\n",
    "            # Record frame every 1 second\n",
    "            if start_frame % frame_rate == 0:\n",
    "                filename = (\n",
    "                    f\"{path_to_data}/{class_label}/{CURRENT_MICE}-{uuid.uuid4()}.jpg\"\n",
    "                )\n",
    "                cv2.imwrite(filename, frame)\n",
    "                print(f\"Saved image at {filename} in {time - seconds} seconds\")\n",
    "                seconds -= 1\n",
    "            client_key_press = cv2.waitKey(1) & 0xFF\n",
    "\n",
    "            # end video stream by escape key\n",
    "            if client_key_press == 27:\n",
    "                break\n",
    "            start_frame += 1\n",
    "\n",
    "        videoCaptureInstance.release()\n",
    "\n",
    "        if platform.system() == \"Darwin\":\n",
    "            cv2.waitKey(1)\n",
    "\n",
    "    except cv2.error:\n",
    "        print(\n",
    "            \"Unexpected error occurred with reading image and error code is\",\n",
    "            cv2.error.code,\n",
    "        )"
   ]
  },
  {
   "cell_type": "code",
   "execution_count": 94,
   "metadata": {},
   "outputs": [
    {
     "data": {
      "application/javascript": [
       "\n",
       "            setTimeout(function() {\n",
       "                var nbb_cell_id = 94;\n",
       "                var nbb_unformatted_code = \"def split_train_test(class_label: str, split_ratio: float):\\n\\n    if class_label not in labels:\\n        raise ValueError(\\\"Enter a valid class label!\\\")\\n\\n    split_ratio = split_ratio\\n    all_mice_files = os.listdir(f\\\"{path_to_data}/{class_label}\\\")\\n    random.shuffle(all_mice_files)\\n    train_size = len(all_mice_files) * split_ratio\\n    files_moved = 0\\n\\n    for mice in all_mice_files:\\n        if files_moved < train_size:\\n            shutil.move(\\n                f\\\"{path_to_data}/{class_label}/{mice}\\\",\\n                f\\\"{path_to_data}/train/{class_label}\\\",\\n            )\\n        else:\\n            shutil.move(\\n                f\\\"{path_to_data}/{class_label}/{mice}\\\",\\n                f\\\"{path_to_data}/test/{class_label}\\\",\\n            )\\n        files_moved += 1\\n    if len(os.listdir(f\\\"{path_to_data}/{class_label}\\\")) == 0:\\n        shutil.rmtree(f\\\"{path_to_data}/{class_label}\\\")\";\n",
       "                var nbb_formatted_code = \"def split_train_test(class_label: str, split_ratio: float):\\n\\n    if class_label not in labels:\\n        raise ValueError(\\\"Enter a valid class label!\\\")\\n\\n    split_ratio = split_ratio\\n    all_mice_files = os.listdir(f\\\"{path_to_data}/{class_label}\\\")\\n    random.shuffle(all_mice_files)\\n    train_size = len(all_mice_files) * split_ratio\\n    files_moved = 0\\n\\n    for mice in all_mice_files:\\n        if files_moved < train_size:\\n            shutil.move(\\n                f\\\"{path_to_data}/{class_label}/{mice}\\\",\\n                f\\\"{path_to_data}/train/{class_label}\\\",\\n            )\\n        else:\\n            shutil.move(\\n                f\\\"{path_to_data}/{class_label}/{mice}\\\",\\n                f\\\"{path_to_data}/test/{class_label}\\\",\\n            )\\n        files_moved += 1\\n    if len(os.listdir(f\\\"{path_to_data}/{class_label}\\\")) == 0:\\n        shutil.rmtree(f\\\"{path_to_data}/{class_label}\\\")\";\n",
       "                var nbb_cells = Jupyter.notebook.get_cells();\n",
       "                for (var i = 0; i < nbb_cells.length; ++i) {\n",
       "                    if (nbb_cells[i].input_prompt_number == nbb_cell_id) {\n",
       "                        if (nbb_cells[i].get_text() == nbb_unformatted_code) {\n",
       "                             nbb_cells[i].set_text(nbb_formatted_code);\n",
       "                        }\n",
       "                        break;\n",
       "                    }\n",
       "                }\n",
       "            }, 500);\n",
       "            "
      ],
      "text/plain": [
       "<IPython.core.display.Javascript object>"
      ]
     },
     "metadata": {},
     "output_type": "display_data"
    },
    {
     "data": {
      "application/javascript": [
       "\n",
       "            setTimeout(function() {\n",
       "                var nbb_cell_id = 94;\n",
       "                var nbb_unformatted_code = \"def split_train_test(class_label: str, split_ratio: float):\\n\\n    if class_label not in labels:\\n        raise ValueError(\\\"Enter a valid class label!\\\")\\n\\n    split_ratio = split_ratio\\n    all_mice_files = os.listdir(f\\\"{path_to_data}/{class_label}\\\")\\n    random.shuffle(all_mice_files)\\n    train_size = len(all_mice_files) * split_ratio\\n    files_moved = 0\\n\\n    for mice in all_mice_files:\\n        if files_moved < train_size:\\n            shutil.move(\\n                f\\\"{path_to_data}/{class_label}/{mice}\\\",\\n                f\\\"{path_to_data}/train/{class_label}\\\",\\n            )\\n        else:\\n            shutil.move(\\n                f\\\"{path_to_data}/{class_label}/{mice}\\\",\\n                f\\\"{path_to_data}/test/{class_label}\\\",\\n            )\\n        files_moved += 1\\n    if len(os.listdir(f\\\"{path_to_data}/{class_label}\\\")) == 0:\\n        shutil.rmtree(f\\\"{path_to_data}/{class_label}\\\")\";\n",
       "                var nbb_formatted_code = \"def split_train_test(class_label: str, split_ratio: float):\\n\\n    if class_label not in labels:\\n        raise ValueError(\\\"Enter a valid class label!\\\")\\n\\n    split_ratio = split_ratio\\n    all_mice_files = os.listdir(f\\\"{path_to_data}/{class_label}\\\")\\n    random.shuffle(all_mice_files)\\n    train_size = len(all_mice_files) * split_ratio\\n    files_moved = 0\\n\\n    for mice in all_mice_files:\\n        if files_moved < train_size:\\n            shutil.move(\\n                f\\\"{path_to_data}/{class_label}/{mice}\\\",\\n                f\\\"{path_to_data}/train/{class_label}\\\",\\n            )\\n        else:\\n            shutil.move(\\n                f\\\"{path_to_data}/{class_label}/{mice}\\\",\\n                f\\\"{path_to_data}/test/{class_label}\\\",\\n            )\\n        files_moved += 1\\n    if len(os.listdir(f\\\"{path_to_data}/{class_label}\\\")) == 0:\\n        shutil.rmtree(f\\\"{path_to_data}/{class_label}\\\")\";\n",
       "                var nbb_cells = Jupyter.notebook.get_cells();\n",
       "                for (var i = 0; i < nbb_cells.length; ++i) {\n",
       "                    if (nbb_cells[i].input_prompt_number == nbb_cell_id) {\n",
       "                        if (nbb_cells[i].get_text() == nbb_unformatted_code) {\n",
       "                             nbb_cells[i].set_text(nbb_formatted_code);\n",
       "                        }\n",
       "                        break;\n",
       "                    }\n",
       "                }\n",
       "            }, 500);\n",
       "            "
      ],
      "text/plain": [
       "<IPython.core.display.Javascript object>"
      ]
     },
     "metadata": {},
     "output_type": "display_data"
    },
    {
     "data": {
      "application/javascript": [
       "\n",
       "            setTimeout(function() {\n",
       "                var nbb_cell_id = 94;\n",
       "                var nbb_unformatted_code = \"def split_train_test(class_label: str, split_ratio: float):\\n\\n    if class_label not in labels:\\n        raise ValueError(\\\"Enter a valid class label!\\\")\\n\\n    split_ratio = split_ratio\\n    all_mice_files = os.listdir(f\\\"{path_to_data}/{class_label}\\\")\\n    random.shuffle(all_mice_files)\\n    train_size = len(all_mice_files) * split_ratio\\n    files_moved = 0\\n\\n    for mice in all_mice_files:\\n        if files_moved < train_size:\\n            shutil.move(\\n                f\\\"{path_to_data}/{class_label}/{mice}\\\",\\n                f\\\"{path_to_data}/train/{class_label}\\\",\\n            )\\n        else:\\n            shutil.move(\\n                f\\\"{path_to_data}/{class_label}/{mice}\\\",\\n                f\\\"{path_to_data}/test/{class_label}\\\",\\n            )\\n        files_moved += 1\\n    if len(os.listdir(f\\\"{path_to_data}/{class_label}\\\")) == 0:\\n        shutil.rmtree(f\\\"{path_to_data}/{class_label}\\\")\";\n",
       "                var nbb_formatted_code = \"def split_train_test(class_label: str, split_ratio: float):\\n\\n    if class_label not in labels:\\n        raise ValueError(\\\"Enter a valid class label!\\\")\\n\\n    split_ratio = split_ratio\\n    all_mice_files = os.listdir(f\\\"{path_to_data}/{class_label}\\\")\\n    random.shuffle(all_mice_files)\\n    train_size = len(all_mice_files) * split_ratio\\n    files_moved = 0\\n\\n    for mice in all_mice_files:\\n        if files_moved < train_size:\\n            shutil.move(\\n                f\\\"{path_to_data}/{class_label}/{mice}\\\",\\n                f\\\"{path_to_data}/train/{class_label}\\\",\\n            )\\n        else:\\n            shutil.move(\\n                f\\\"{path_to_data}/{class_label}/{mice}\\\",\\n                f\\\"{path_to_data}/test/{class_label}\\\",\\n            )\\n        files_moved += 1\\n    if len(os.listdir(f\\\"{path_to_data}/{class_label}\\\")) == 0:\\n        shutil.rmtree(f\\\"{path_to_data}/{class_label}\\\")\";\n",
       "                var nbb_cells = Jupyter.notebook.get_cells();\n",
       "                for (var i = 0; i < nbb_cells.length; ++i) {\n",
       "                    if (nbb_cells[i].input_prompt_number == nbb_cell_id) {\n",
       "                        if (nbb_cells[i].get_text() == nbb_unformatted_code) {\n",
       "                             nbb_cells[i].set_text(nbb_formatted_code);\n",
       "                        }\n",
       "                        break;\n",
       "                    }\n",
       "                }\n",
       "            }, 500);\n",
       "            "
      ],
      "text/plain": [
       "<IPython.core.display.Javascript object>"
      ]
     },
     "metadata": {},
     "output_type": "display_data"
    },
    {
     "data": {
      "application/javascript": [
       "\n",
       "            setTimeout(function() {\n",
       "                var nbb_cell_id = 94;\n",
       "                var nbb_unformatted_code = \"def split_train_test(class_label: str, split_ratio: float):\\n\\n    if class_label not in labels:\\n        raise ValueError(\\\"Enter a valid class label!\\\")\\n\\n    split_ratio = split_ratio\\n    all_mice_files = os.listdir(f\\\"{path_to_data}/{class_label}\\\")\\n    random.shuffle(all_mice_files)\\n    train_size = len(all_mice_files) * split_ratio\\n    files_moved = 0\\n\\n    for mice in all_mice_files:\\n        if files_moved < train_size:\\n            shutil.move(\\n                f\\\"{path_to_data}/{class_label}/{mice}\\\",\\n                f\\\"{path_to_data}/train/{class_label}\\\",\\n            )\\n        else:\\n            shutil.move(\\n                f\\\"{path_to_data}/{class_label}/{mice}\\\",\\n                f\\\"{path_to_data}/test/{class_label}\\\",\\n            )\\n        files_moved += 1\\n    if len(os.listdir(f\\\"{path_to_data}/{class_label}\\\")) == 0:\\n        shutil.rmtree(f\\\"{path_to_data}/{class_label}\\\")\";\n",
       "                var nbb_formatted_code = \"def split_train_test(class_label: str, split_ratio: float):\\n\\n    if class_label not in labels:\\n        raise ValueError(\\\"Enter a valid class label!\\\")\\n\\n    split_ratio = split_ratio\\n    all_mice_files = os.listdir(f\\\"{path_to_data}/{class_label}\\\")\\n    random.shuffle(all_mice_files)\\n    train_size = len(all_mice_files) * split_ratio\\n    files_moved = 0\\n\\n    for mice in all_mice_files:\\n        if files_moved < train_size:\\n            shutil.move(\\n                f\\\"{path_to_data}/{class_label}/{mice}\\\",\\n                f\\\"{path_to_data}/train/{class_label}\\\",\\n            )\\n        else:\\n            shutil.move(\\n                f\\\"{path_to_data}/{class_label}/{mice}\\\",\\n                f\\\"{path_to_data}/test/{class_label}\\\",\\n            )\\n        files_moved += 1\\n    if len(os.listdir(f\\\"{path_to_data}/{class_label}\\\")) == 0:\\n        shutil.rmtree(f\\\"{path_to_data}/{class_label}\\\")\";\n",
       "                var nbb_cells = Jupyter.notebook.get_cells();\n",
       "                for (var i = 0; i < nbb_cells.length; ++i) {\n",
       "                    if (nbb_cells[i].input_prompt_number == nbb_cell_id) {\n",
       "                        if (nbb_cells[i].get_text() == nbb_unformatted_code) {\n",
       "                             nbb_cells[i].set_text(nbb_formatted_code);\n",
       "                        }\n",
       "                        break;\n",
       "                    }\n",
       "                }\n",
       "            }, 500);\n",
       "            "
      ],
      "text/plain": [
       "<IPython.core.display.Javascript object>"
      ]
     },
     "metadata": {},
     "output_type": "display_data"
    },
    {
     "data": {
      "application/javascript": [
       "\n",
       "            setTimeout(function() {\n",
       "                var nbb_cell_id = 94;\n",
       "                var nbb_unformatted_code = \"def split_train_test(class_label: str, split_ratio: float):\\n\\n    if class_label not in labels:\\n        raise ValueError(\\\"Enter a valid class label!\\\")\\n\\n    split_ratio = split_ratio\\n    all_mice_files = os.listdir(f\\\"{path_to_data}/{class_label}\\\")\\n    random.shuffle(all_mice_files)\\n    train_size = len(all_mice_files) * split_ratio\\n    files_moved = 0\\n\\n    for mice in all_mice_files:\\n        if files_moved < train_size:\\n            shutil.move(\\n                f\\\"{path_to_data}/{class_label}/{mice}\\\",\\n                f\\\"{path_to_data}/train/{class_label}\\\",\\n            )\\n        else:\\n            shutil.move(\\n                f\\\"{path_to_data}/{class_label}/{mice}\\\",\\n                f\\\"{path_to_data}/test/{class_label}\\\",\\n            )\\n        files_moved += 1\\n    if len(os.listdir(f\\\"{path_to_data}/{class_label}\\\")) == 0:\\n        shutil.rmtree(f\\\"{path_to_data}/{class_label}\\\")\";\n",
       "                var nbb_formatted_code = \"def split_train_test(class_label: str, split_ratio: float):\\n\\n    if class_label not in labels:\\n        raise ValueError(\\\"Enter a valid class label!\\\")\\n\\n    split_ratio = split_ratio\\n    all_mice_files = os.listdir(f\\\"{path_to_data}/{class_label}\\\")\\n    random.shuffle(all_mice_files)\\n    train_size = len(all_mice_files) * split_ratio\\n    files_moved = 0\\n\\n    for mice in all_mice_files:\\n        if files_moved < train_size:\\n            shutil.move(\\n                f\\\"{path_to_data}/{class_label}/{mice}\\\",\\n                f\\\"{path_to_data}/train/{class_label}\\\",\\n            )\\n        else:\\n            shutil.move(\\n                f\\\"{path_to_data}/{class_label}/{mice}\\\",\\n                f\\\"{path_to_data}/test/{class_label}\\\",\\n            )\\n        files_moved += 1\\n    if len(os.listdir(f\\\"{path_to_data}/{class_label}\\\")) == 0:\\n        shutil.rmtree(f\\\"{path_to_data}/{class_label}\\\")\";\n",
       "                var nbb_cells = Jupyter.notebook.get_cells();\n",
       "                for (var i = 0; i < nbb_cells.length; ++i) {\n",
       "                    if (nbb_cells[i].input_prompt_number == nbb_cell_id) {\n",
       "                        if (nbb_cells[i].get_text() == nbb_unformatted_code) {\n",
       "                             nbb_cells[i].set_text(nbb_formatted_code);\n",
       "                        }\n",
       "                        break;\n",
       "                    }\n",
       "                }\n",
       "            }, 500);\n",
       "            "
      ],
      "text/plain": [
       "<IPython.core.display.Javascript object>"
      ]
     },
     "metadata": {},
     "output_type": "display_data"
    },
    {
     "data": {
      "application/javascript": [
       "\n",
       "            setTimeout(function() {\n",
       "                var nbb_cell_id = 94;\n",
       "                var nbb_unformatted_code = \"def split_train_test(class_label: str, split_ratio: float):\\n\\n    if class_label not in labels:\\n        raise ValueError(\\\"Enter a valid class label!\\\")\\n\\n    split_ratio = split_ratio\\n    all_mice_files = os.listdir(f\\\"{path_to_data}/{class_label}\\\")\\n    random.shuffle(all_mice_files)\\n    train_size = len(all_mice_files) * split_ratio\\n    files_moved = 0\\n\\n    for mice in all_mice_files:\\n        if files_moved < train_size:\\n            shutil.move(\\n                f\\\"{path_to_data}/{class_label}/{mice}\\\",\\n                f\\\"{path_to_data}/train/{class_label}\\\",\\n            )\\n        else:\\n            shutil.move(\\n                f\\\"{path_to_data}/{class_label}/{mice}\\\",\\n                f\\\"{path_to_data}/test/{class_label}\\\",\\n            )\\n        files_moved += 1\\n    if len(os.listdir(f\\\"{path_to_data}/{class_label}\\\")) == 0:\\n        shutil.rmtree(f\\\"{path_to_data}/{class_label}\\\")\";\n",
       "                var nbb_formatted_code = \"def split_train_test(class_label: str, split_ratio: float):\\n\\n    if class_label not in labels:\\n        raise ValueError(\\\"Enter a valid class label!\\\")\\n\\n    split_ratio = split_ratio\\n    all_mice_files = os.listdir(f\\\"{path_to_data}/{class_label}\\\")\\n    random.shuffle(all_mice_files)\\n    train_size = len(all_mice_files) * split_ratio\\n    files_moved = 0\\n\\n    for mice in all_mice_files:\\n        if files_moved < train_size:\\n            shutil.move(\\n                f\\\"{path_to_data}/{class_label}/{mice}\\\",\\n                f\\\"{path_to_data}/train/{class_label}\\\",\\n            )\\n        else:\\n            shutil.move(\\n                f\\\"{path_to_data}/{class_label}/{mice}\\\",\\n                f\\\"{path_to_data}/test/{class_label}\\\",\\n            )\\n        files_moved += 1\\n    if len(os.listdir(f\\\"{path_to_data}/{class_label}\\\")) == 0:\\n        shutil.rmtree(f\\\"{path_to_data}/{class_label}\\\")\";\n",
       "                var nbb_cells = Jupyter.notebook.get_cells();\n",
       "                for (var i = 0; i < nbb_cells.length; ++i) {\n",
       "                    if (nbb_cells[i].input_prompt_number == nbb_cell_id) {\n",
       "                        if (nbb_cells[i].get_text() == nbb_unformatted_code) {\n",
       "                             nbb_cells[i].set_text(nbb_formatted_code);\n",
       "                        }\n",
       "                        break;\n",
       "                    }\n",
       "                }\n",
       "            }, 500);\n",
       "            "
      ],
      "text/plain": [
       "<IPython.core.display.Javascript object>"
      ]
     },
     "metadata": {},
     "output_type": "display_data"
    },
    {
     "data": {
      "application/javascript": [
       "\n",
       "            setTimeout(function() {\n",
       "                var nbb_cell_id = 94;\n",
       "                var nbb_unformatted_code = \"def split_train_test(class_label: str, split_ratio: float):\\n\\n    if class_label not in labels:\\n        raise ValueError(\\\"Enter a valid class label!\\\")\\n\\n    split_ratio = split_ratio\\n    all_mice_files = os.listdir(f\\\"{path_to_data}/{class_label}\\\")\\n    random.shuffle(all_mice_files)\\n    train_size = len(all_mice_files) * split_ratio\\n    files_moved = 0\\n\\n    for mice in all_mice_files:\\n        if files_moved < train_size:\\n            shutil.move(\\n                f\\\"{path_to_data}/{class_label}/{mice}\\\",\\n                f\\\"{path_to_data}/train/{class_label}\\\",\\n            )\\n        else:\\n            shutil.move(\\n                f\\\"{path_to_data}/{class_label}/{mice}\\\",\\n                f\\\"{path_to_data}/test/{class_label}\\\",\\n            )\\n        files_moved += 1\\n    if len(os.listdir(f\\\"{path_to_data}/{class_label}\\\")) == 0:\\n        shutil.rmtree(f\\\"{path_to_data}/{class_label}\\\")\";\n",
       "                var nbb_formatted_code = \"def split_train_test(class_label: str, split_ratio: float):\\n\\n    if class_label not in labels:\\n        raise ValueError(\\\"Enter a valid class label!\\\")\\n\\n    split_ratio = split_ratio\\n    all_mice_files = os.listdir(f\\\"{path_to_data}/{class_label}\\\")\\n    random.shuffle(all_mice_files)\\n    train_size = len(all_mice_files) * split_ratio\\n    files_moved = 0\\n\\n    for mice in all_mice_files:\\n        if files_moved < train_size:\\n            shutil.move(\\n                f\\\"{path_to_data}/{class_label}/{mice}\\\",\\n                f\\\"{path_to_data}/train/{class_label}\\\",\\n            )\\n        else:\\n            shutil.move(\\n                f\\\"{path_to_data}/{class_label}/{mice}\\\",\\n                f\\\"{path_to_data}/test/{class_label}\\\",\\n            )\\n        files_moved += 1\\n    if len(os.listdir(f\\\"{path_to_data}/{class_label}\\\")) == 0:\\n        shutil.rmtree(f\\\"{path_to_data}/{class_label}\\\")\";\n",
       "                var nbb_cells = Jupyter.notebook.get_cells();\n",
       "                for (var i = 0; i < nbb_cells.length; ++i) {\n",
       "                    if (nbb_cells[i].input_prompt_number == nbb_cell_id) {\n",
       "                        if (nbb_cells[i].get_text() == nbb_unformatted_code) {\n",
       "                             nbb_cells[i].set_text(nbb_formatted_code);\n",
       "                        }\n",
       "                        break;\n",
       "                    }\n",
       "                }\n",
       "            }, 500);\n",
       "            "
      ],
      "text/plain": [
       "<IPython.core.display.Javascript object>"
      ]
     },
     "metadata": {},
     "output_type": "display_data"
    },
    {
     "data": {
      "application/javascript": [
       "\n",
       "            setTimeout(function() {\n",
       "                var nbb_cell_id = 94;\n",
       "                var nbb_unformatted_code = \"def split_train_test(class_label: str, split_ratio: float):\\n\\n    if class_label not in labels:\\n        raise ValueError(\\\"Enter a valid class label!\\\")\\n\\n    split_ratio = split_ratio\\n    all_mice_files = os.listdir(f\\\"{path_to_data}/{class_label}\\\")\\n    random.shuffle(all_mice_files)\\n    train_size = len(all_mice_files) * split_ratio\\n    files_moved = 0\\n\\n    for mice in all_mice_files:\\n        if files_moved < train_size:\\n            shutil.move(\\n                f\\\"{path_to_data}/{class_label}/{mice}\\\",\\n                f\\\"{path_to_data}/train/{class_label}\\\",\\n            )\\n        else:\\n            shutil.move(\\n                f\\\"{path_to_data}/{class_label}/{mice}\\\",\\n                f\\\"{path_to_data}/test/{class_label}\\\",\\n            )\\n        files_moved += 1\\n    if len(os.listdir(f\\\"{path_to_data}/{class_label}\\\")) == 0:\\n        shutil.rmtree(f\\\"{path_to_data}/{class_label}\\\")\";\n",
       "                var nbb_formatted_code = \"def split_train_test(class_label: str, split_ratio: float):\\n\\n    if class_label not in labels:\\n        raise ValueError(\\\"Enter a valid class label!\\\")\\n\\n    split_ratio = split_ratio\\n    all_mice_files = os.listdir(f\\\"{path_to_data}/{class_label}\\\")\\n    random.shuffle(all_mice_files)\\n    train_size = len(all_mice_files) * split_ratio\\n    files_moved = 0\\n\\n    for mice in all_mice_files:\\n        if files_moved < train_size:\\n            shutil.move(\\n                f\\\"{path_to_data}/{class_label}/{mice}\\\",\\n                f\\\"{path_to_data}/train/{class_label}\\\",\\n            )\\n        else:\\n            shutil.move(\\n                f\\\"{path_to_data}/{class_label}/{mice}\\\",\\n                f\\\"{path_to_data}/test/{class_label}\\\",\\n            )\\n        files_moved += 1\\n    if len(os.listdir(f\\\"{path_to_data}/{class_label}\\\")) == 0:\\n        shutil.rmtree(f\\\"{path_to_data}/{class_label}\\\")\";\n",
       "                var nbb_cells = Jupyter.notebook.get_cells();\n",
       "                for (var i = 0; i < nbb_cells.length; ++i) {\n",
       "                    if (nbb_cells[i].input_prompt_number == nbb_cell_id) {\n",
       "                        if (nbb_cells[i].get_text() == nbb_unformatted_code) {\n",
       "                             nbb_cells[i].set_text(nbb_formatted_code);\n",
       "                        }\n",
       "                        break;\n",
       "                    }\n",
       "                }\n",
       "            }, 500);\n",
       "            "
      ],
      "text/plain": [
       "<IPython.core.display.Javascript object>"
      ]
     },
     "metadata": {},
     "output_type": "display_data"
    }
   ],
   "source": [
    "def split_train_test(class_label: str, split_ratio: float):\n",
    "\n",
    "    if class_label not in labels:\n",
    "        raise ValueError(\"Enter a valid class label!\")\n",
    "\n",
    "    split_ratio = split_ratio\n",
    "    all_mice_files = os.listdir(f\"{path_to_data}/{class_label}\")\n",
    "    random.shuffle(all_mice_files)\n",
    "    train_size = len(all_mice_files) * split_ratio\n",
    "    files_moved = 0\n",
    "\n",
    "    for mice in all_mice_files:\n",
    "        if files_moved < train_size:\n",
    "            shutil.move(\n",
    "                f\"{path_to_data}/{class_label}/{mice}\",\n",
    "                f\"{path_to_data}/train/{class_label}\",\n",
    "            )\n",
    "        else:\n",
    "            shutil.move(\n",
    "                f\"{path_to_data}/{class_label}/{mice}\",\n",
    "                f\"{path_to_data}/test/{class_label}\",\n",
    "            )\n",
    "        files_moved += 1\n",
    "    if len(os.listdir(f\"{path_to_data}/{class_label}\")) == 0:\n",
    "        shutil.rmtree(f\"{path_to_data}/{class_label}\")"
   ]
  },
  {
   "cell_type": "code",
   "execution_count": 95,
   "metadata": {},
   "outputs": [
    {
     "data": {
      "application/javascript": [
       "\n",
       "            setTimeout(function() {\n",
       "                var nbb_cell_id = 95;\n",
       "                var nbb_unformatted_code = \"def create_dataset_pipeline(time: int, class_label: str, split_ratio=0.8):\\n    try:\\n        create_images_from_video(time, class_label)\\n        if len(os.listdir(f\\\"{path_to_data}/{class_label}\\\")) != 0:\\n            split_train_test(class_label, split_ratio)\\n        else:\\n            sys.exit(\\n                f\\\"{path_to_data}/{class_label} is empty and that means frames from videos were not captured successfully!\\\"\\n            )\\n    except:\\n        var = traceback.format_exc()\\n        print(var)\";\n",
       "                var nbb_formatted_code = \"def create_dataset_pipeline(time: int, class_label: str, split_ratio=0.8):\\n    try:\\n        create_images_from_video(time, class_label)\\n        if len(os.listdir(f\\\"{path_to_data}/{class_label}\\\")) != 0:\\n            split_train_test(class_label, split_ratio)\\n        else:\\n            sys.exit(\\n                f\\\"{path_to_data}/{class_label} is empty and that means frames from videos were not captured successfully!\\\"\\n            )\\n    except:\\n        var = traceback.format_exc()\\n        print(var)\";\n",
       "                var nbb_cells = Jupyter.notebook.get_cells();\n",
       "                for (var i = 0; i < nbb_cells.length; ++i) {\n",
       "                    if (nbb_cells[i].input_prompt_number == nbb_cell_id) {\n",
       "                        if (nbb_cells[i].get_text() == nbb_unformatted_code) {\n",
       "                             nbb_cells[i].set_text(nbb_formatted_code);\n",
       "                        }\n",
       "                        break;\n",
       "                    }\n",
       "                }\n",
       "            }, 500);\n",
       "            "
      ],
      "text/plain": [
       "<IPython.core.display.Javascript object>"
      ]
     },
     "metadata": {},
     "output_type": "display_data"
    },
    {
     "data": {
      "application/javascript": [
       "\n",
       "            setTimeout(function() {\n",
       "                var nbb_cell_id = 95;\n",
       "                var nbb_unformatted_code = \"def create_dataset_pipeline(time: int, class_label: str, split_ratio=0.8):\\n    try:\\n        create_images_from_video(time, class_label)\\n        if len(os.listdir(f\\\"{path_to_data}/{class_label}\\\")) != 0:\\n            split_train_test(class_label, split_ratio)\\n        else:\\n            sys.exit(\\n                f\\\"{path_to_data}/{class_label} is empty and that means frames from videos were not captured successfully!\\\"\\n            )\\n    except:\\n        var = traceback.format_exc()\\n        print(var)\";\n",
       "                var nbb_formatted_code = \"def create_dataset_pipeline(time: int, class_label: str, split_ratio=0.8):\\n    try:\\n        create_images_from_video(time, class_label)\\n        if len(os.listdir(f\\\"{path_to_data}/{class_label}\\\")) != 0:\\n            split_train_test(class_label, split_ratio)\\n        else:\\n            sys.exit(\\n                f\\\"{path_to_data}/{class_label} is empty and that means frames from videos were not captured successfully!\\\"\\n            )\\n    except:\\n        var = traceback.format_exc()\\n        print(var)\";\n",
       "                var nbb_cells = Jupyter.notebook.get_cells();\n",
       "                for (var i = 0; i < nbb_cells.length; ++i) {\n",
       "                    if (nbb_cells[i].input_prompt_number == nbb_cell_id) {\n",
       "                        if (nbb_cells[i].get_text() == nbb_unformatted_code) {\n",
       "                             nbb_cells[i].set_text(nbb_formatted_code);\n",
       "                        }\n",
       "                        break;\n",
       "                    }\n",
       "                }\n",
       "            }, 500);\n",
       "            "
      ],
      "text/plain": [
       "<IPython.core.display.Javascript object>"
      ]
     },
     "metadata": {},
     "output_type": "display_data"
    },
    {
     "data": {
      "application/javascript": [
       "\n",
       "            setTimeout(function() {\n",
       "                var nbb_cell_id = 95;\n",
       "                var nbb_unformatted_code = \"def create_dataset_pipeline(time: int, class_label: str, split_ratio=0.8):\\n    try:\\n        create_images_from_video(time, class_label)\\n        if len(os.listdir(f\\\"{path_to_data}/{class_label}\\\")) != 0:\\n            split_train_test(class_label, split_ratio)\\n        else:\\n            sys.exit(\\n                f\\\"{path_to_data}/{class_label} is empty and that means frames from videos were not captured successfully!\\\"\\n            )\\n    except:\\n        var = traceback.format_exc()\\n        print(var)\";\n",
       "                var nbb_formatted_code = \"def create_dataset_pipeline(time: int, class_label: str, split_ratio=0.8):\\n    try:\\n        create_images_from_video(time, class_label)\\n        if len(os.listdir(f\\\"{path_to_data}/{class_label}\\\")) != 0:\\n            split_train_test(class_label, split_ratio)\\n        else:\\n            sys.exit(\\n                f\\\"{path_to_data}/{class_label} is empty and that means frames from videos were not captured successfully!\\\"\\n            )\\n    except:\\n        var = traceback.format_exc()\\n        print(var)\";\n",
       "                var nbb_cells = Jupyter.notebook.get_cells();\n",
       "                for (var i = 0; i < nbb_cells.length; ++i) {\n",
       "                    if (nbb_cells[i].input_prompt_number == nbb_cell_id) {\n",
       "                        if (nbb_cells[i].get_text() == nbb_unformatted_code) {\n",
       "                             nbb_cells[i].set_text(nbb_formatted_code);\n",
       "                        }\n",
       "                        break;\n",
       "                    }\n",
       "                }\n",
       "            }, 500);\n",
       "            "
      ],
      "text/plain": [
       "<IPython.core.display.Javascript object>"
      ]
     },
     "metadata": {},
     "output_type": "display_data"
    },
    {
     "data": {
      "application/javascript": [
       "\n",
       "            setTimeout(function() {\n",
       "                var nbb_cell_id = 95;\n",
       "                var nbb_unformatted_code = \"def create_dataset_pipeline(time: int, class_label: str, split_ratio=0.8):\\n    try:\\n        create_images_from_video(time, class_label)\\n        if len(os.listdir(f\\\"{path_to_data}/{class_label}\\\")) != 0:\\n            split_train_test(class_label, split_ratio)\\n        else:\\n            sys.exit(\\n                f\\\"{path_to_data}/{class_label} is empty and that means frames from videos were not captured successfully!\\\"\\n            )\\n    except:\\n        var = traceback.format_exc()\\n        print(var)\";\n",
       "                var nbb_formatted_code = \"def create_dataset_pipeline(time: int, class_label: str, split_ratio=0.8):\\n    try:\\n        create_images_from_video(time, class_label)\\n        if len(os.listdir(f\\\"{path_to_data}/{class_label}\\\")) != 0:\\n            split_train_test(class_label, split_ratio)\\n        else:\\n            sys.exit(\\n                f\\\"{path_to_data}/{class_label} is empty and that means frames from videos were not captured successfully!\\\"\\n            )\\n    except:\\n        var = traceback.format_exc()\\n        print(var)\";\n",
       "                var nbb_cells = Jupyter.notebook.get_cells();\n",
       "                for (var i = 0; i < nbb_cells.length; ++i) {\n",
       "                    if (nbb_cells[i].input_prompt_number == nbb_cell_id) {\n",
       "                        if (nbb_cells[i].get_text() == nbb_unformatted_code) {\n",
       "                             nbb_cells[i].set_text(nbb_formatted_code);\n",
       "                        }\n",
       "                        break;\n",
       "                    }\n",
       "                }\n",
       "            }, 500);\n",
       "            "
      ],
      "text/plain": [
       "<IPython.core.display.Javascript object>"
      ]
     },
     "metadata": {},
     "output_type": "display_data"
    },
    {
     "data": {
      "application/javascript": [
       "\n",
       "            setTimeout(function() {\n",
       "                var nbb_cell_id = 95;\n",
       "                var nbb_unformatted_code = \"def create_dataset_pipeline(time: int, class_label: str, split_ratio=0.8):\\n    try:\\n        create_images_from_video(time, class_label)\\n        if len(os.listdir(f\\\"{path_to_data}/{class_label}\\\")) != 0:\\n            split_train_test(class_label, split_ratio)\\n        else:\\n            sys.exit(\\n                f\\\"{path_to_data}/{class_label} is empty and that means frames from videos were not captured successfully!\\\"\\n            )\\n    except:\\n        var = traceback.format_exc()\\n        print(var)\";\n",
       "                var nbb_formatted_code = \"def create_dataset_pipeline(time: int, class_label: str, split_ratio=0.8):\\n    try:\\n        create_images_from_video(time, class_label)\\n        if len(os.listdir(f\\\"{path_to_data}/{class_label}\\\")) != 0:\\n            split_train_test(class_label, split_ratio)\\n        else:\\n            sys.exit(\\n                f\\\"{path_to_data}/{class_label} is empty and that means frames from videos were not captured successfully!\\\"\\n            )\\n    except:\\n        var = traceback.format_exc()\\n        print(var)\";\n",
       "                var nbb_cells = Jupyter.notebook.get_cells();\n",
       "                for (var i = 0; i < nbb_cells.length; ++i) {\n",
       "                    if (nbb_cells[i].input_prompt_number == nbb_cell_id) {\n",
       "                        if (nbb_cells[i].get_text() == nbb_unformatted_code) {\n",
       "                             nbb_cells[i].set_text(nbb_formatted_code);\n",
       "                        }\n",
       "                        break;\n",
       "                    }\n",
       "                }\n",
       "            }, 500);\n",
       "            "
      ],
      "text/plain": [
       "<IPython.core.display.Javascript object>"
      ]
     },
     "metadata": {},
     "output_type": "display_data"
    },
    {
     "data": {
      "application/javascript": [
       "\n",
       "            setTimeout(function() {\n",
       "                var nbb_cell_id = 95;\n",
       "                var nbb_unformatted_code = \"def create_dataset_pipeline(time: int, class_label: str, split_ratio=0.8):\\n    try:\\n        create_images_from_video(time, class_label)\\n        if len(os.listdir(f\\\"{path_to_data}/{class_label}\\\")) != 0:\\n            split_train_test(class_label, split_ratio)\\n        else:\\n            sys.exit(\\n                f\\\"{path_to_data}/{class_label} is empty and that means frames from videos were not captured successfully!\\\"\\n            )\\n    except:\\n        var = traceback.format_exc()\\n        print(var)\";\n",
       "                var nbb_formatted_code = \"def create_dataset_pipeline(time: int, class_label: str, split_ratio=0.8):\\n    try:\\n        create_images_from_video(time, class_label)\\n        if len(os.listdir(f\\\"{path_to_data}/{class_label}\\\")) != 0:\\n            split_train_test(class_label, split_ratio)\\n        else:\\n            sys.exit(\\n                f\\\"{path_to_data}/{class_label} is empty and that means frames from videos were not captured successfully!\\\"\\n            )\\n    except:\\n        var = traceback.format_exc()\\n        print(var)\";\n",
       "                var nbb_cells = Jupyter.notebook.get_cells();\n",
       "                for (var i = 0; i < nbb_cells.length; ++i) {\n",
       "                    if (nbb_cells[i].input_prompt_number == nbb_cell_id) {\n",
       "                        if (nbb_cells[i].get_text() == nbb_unformatted_code) {\n",
       "                             nbb_cells[i].set_text(nbb_formatted_code);\n",
       "                        }\n",
       "                        break;\n",
       "                    }\n",
       "                }\n",
       "            }, 500);\n",
       "            "
      ],
      "text/plain": [
       "<IPython.core.display.Javascript object>"
      ]
     },
     "metadata": {},
     "output_type": "display_data"
    },
    {
     "data": {
      "application/javascript": [
       "\n",
       "            setTimeout(function() {\n",
       "                var nbb_cell_id = 95;\n",
       "                var nbb_unformatted_code = \"def create_dataset_pipeline(time: int, class_label: str, split_ratio=0.8):\\n    try:\\n        create_images_from_video(time, class_label)\\n        if len(os.listdir(f\\\"{path_to_data}/{class_label}\\\")) != 0:\\n            split_train_test(class_label, split_ratio)\\n        else:\\n            sys.exit(\\n                f\\\"{path_to_data}/{class_label} is empty and that means frames from videos were not captured successfully!\\\"\\n            )\\n    except:\\n        var = traceback.format_exc()\\n        print(var)\";\n",
       "                var nbb_formatted_code = \"def create_dataset_pipeline(time: int, class_label: str, split_ratio=0.8):\\n    try:\\n        create_images_from_video(time, class_label)\\n        if len(os.listdir(f\\\"{path_to_data}/{class_label}\\\")) != 0:\\n            split_train_test(class_label, split_ratio)\\n        else:\\n            sys.exit(\\n                f\\\"{path_to_data}/{class_label} is empty and that means frames from videos were not captured successfully!\\\"\\n            )\\n    except:\\n        var = traceback.format_exc()\\n        print(var)\";\n",
       "                var nbb_cells = Jupyter.notebook.get_cells();\n",
       "                for (var i = 0; i < nbb_cells.length; ++i) {\n",
       "                    if (nbb_cells[i].input_prompt_number == nbb_cell_id) {\n",
       "                        if (nbb_cells[i].get_text() == nbb_unformatted_code) {\n",
       "                             nbb_cells[i].set_text(nbb_formatted_code);\n",
       "                        }\n",
       "                        break;\n",
       "                    }\n",
       "                }\n",
       "            }, 500);\n",
       "            "
      ],
      "text/plain": [
       "<IPython.core.display.Javascript object>"
      ]
     },
     "metadata": {},
     "output_type": "display_data"
    },
    {
     "data": {
      "application/javascript": [
       "\n",
       "            setTimeout(function() {\n",
       "                var nbb_cell_id = 95;\n",
       "                var nbb_unformatted_code = \"def create_dataset_pipeline(time: int, class_label: str, split_ratio=0.8):\\n    try:\\n        create_images_from_video(time, class_label)\\n        if len(os.listdir(f\\\"{path_to_data}/{class_label}\\\")) != 0:\\n            split_train_test(class_label, split_ratio)\\n        else:\\n            sys.exit(\\n                f\\\"{path_to_data}/{class_label} is empty and that means frames from videos were not captured successfully!\\\"\\n            )\\n    except:\\n        var = traceback.format_exc()\\n        print(var)\";\n",
       "                var nbb_formatted_code = \"def create_dataset_pipeline(time: int, class_label: str, split_ratio=0.8):\\n    try:\\n        create_images_from_video(time, class_label)\\n        if len(os.listdir(f\\\"{path_to_data}/{class_label}\\\")) != 0:\\n            split_train_test(class_label, split_ratio)\\n        else:\\n            sys.exit(\\n                f\\\"{path_to_data}/{class_label} is empty and that means frames from videos were not captured successfully!\\\"\\n            )\\n    except:\\n        var = traceback.format_exc()\\n        print(var)\";\n",
       "                var nbb_cells = Jupyter.notebook.get_cells();\n",
       "                for (var i = 0; i < nbb_cells.length; ++i) {\n",
       "                    if (nbb_cells[i].input_prompt_number == nbb_cell_id) {\n",
       "                        if (nbb_cells[i].get_text() == nbb_unformatted_code) {\n",
       "                             nbb_cells[i].set_text(nbb_formatted_code);\n",
       "                        }\n",
       "                        break;\n",
       "                    }\n",
       "                }\n",
       "            }, 500);\n",
       "            "
      ],
      "text/plain": [
       "<IPython.core.display.Javascript object>"
      ]
     },
     "metadata": {},
     "output_type": "display_data"
    }
   ],
   "source": [
    "def create_dataset_pipeline(time: int, class_label: str, split_ratio=0.8):\n",
    "    try:\n",
    "        create_images_from_video(time, class_label)\n",
    "        if len(os.listdir(f\"{path_to_data}/{class_label}\")) != 0:\n",
    "            split_train_test(class_label, split_ratio)\n",
    "        else:\n",
    "            sys.exit(\n",
    "                f\"{path_to_data}/{class_label} is empty and that means frames from videos were not captured successfully!\"\n",
    "            )\n",
    "    except:\n",
    "        var = traceback.format_exc()\n",
    "        print(var)"
   ]
  },
  {
   "cell_type": "code",
   "execution_count": 96,
   "metadata": {},
   "outputs": [
    {
     "name": "stdout",
     "output_type": "stream",
     "text": [
      "Saved image at /Users/user/Applications/machine-learning/deeproute/data/parent-mice/PrL-16-812a1bb8-c87c-4b02-ba58-f9cc3c8d67b1.jpg in 0 seconds\n",
      "Saved image at /Users/user/Applications/machine-learning/deeproute/data/parent-mice/PrL-16-d4726f94-28a8-4b01-a118-10e4b0cf3303.jpg in 1 seconds\n",
      "Saved image at /Users/user/Applications/machine-learning/deeproute/data/parent-mice/PrL-16-abba99ca-558e-4099-afb8-0bff7e4d272f.jpg in 2 seconds\n",
      "Saved image at /Users/user/Applications/machine-learning/deeproute/data/parent-mice/PrL-16-e7040654-5ab9-4816-8460-a263956acf16.jpg in 3 seconds\n",
      "Saved image at /Users/user/Applications/machine-learning/deeproute/data/parent-mice/PrL-16-edeff89a-2be5-40d8-9a20-fdfc4730d6b0.jpg in 4 seconds\n",
      "Saved image at /Users/user/Applications/machine-learning/deeproute/data/parent-mice/PrL-16-2951f6c6-9577-4c0b-a0f4-400ed0722b21.jpg in 5 seconds\n",
      "Saved image at /Users/user/Applications/machine-learning/deeproute/data/parent-mice/PrL-16-a77dbb67-c596-4802-8370-1a9108fadc28.jpg in 6 seconds\n",
      "Saved image at /Users/user/Applications/machine-learning/deeproute/data/parent-mice/PrL-16-cafc43ee-0190-495c-8587-104fa8fb5238.jpg in 7 seconds\n",
      "Saved image at /Users/user/Applications/machine-learning/deeproute/data/parent-mice/PrL-16-57661854-c2ed-40d1-9721-eed378ccfff3.jpg in 8 seconds\n",
      "Saved image at /Users/user/Applications/machine-learning/deeproute/data/parent-mice/PrL-16-c69a083e-a34a-4f09-b003-37afb1d66e6b.jpg in 9 seconds\n",
      "Saved image at /Users/user/Applications/machine-learning/deeproute/data/parent-mice/PrL-16-a06240e0-562d-49ab-b371-7356dc32cc25.jpg in 10 seconds\n",
      "Saved image at /Users/user/Applications/machine-learning/deeproute/data/parent-mice/PrL-16-40e37c93-edd9-4b86-b422-11b9d1b7b587.jpg in 11 seconds\n",
      "Saved image at /Users/user/Applications/machine-learning/deeproute/data/parent-mice/PrL-16-4b7299be-0878-42dd-a1ec-c116e32fac96.jpg in 12 seconds\n",
      "Saved image at /Users/user/Applications/machine-learning/deeproute/data/parent-mice/PrL-16-23a1bd03-b9c2-48be-9cd8-a6a40d669c86.jpg in 13 seconds\n",
      "Saved image at /Users/user/Applications/machine-learning/deeproute/data/parent-mice/PrL-16-95b3f06a-72b8-4a40-aa46-04385d018b74.jpg in 14 seconds\n",
      "Saved image at /Users/user/Applications/machine-learning/deeproute/data/parent-mice/PrL-16-dc4c72d0-2a5e-4071-9537-3568ec49070f.jpg in 15 seconds\n",
      "Saved image at /Users/user/Applications/machine-learning/deeproute/data/parent-mice/PrL-16-85c9ac5b-a339-4c43-a37d-83b48057b46f.jpg in 16 seconds\n",
      "Saved image at /Users/user/Applications/machine-learning/deeproute/data/parent-mice/PrL-16-54190786-d673-4540-a198-bcc5c15876a2.jpg in 17 seconds\n",
      "Saved image at /Users/user/Applications/machine-learning/deeproute/data/parent-mice/PrL-16-00eca60b-64db-4d5f-8156-ef8a73d59a3a.jpg in 18 seconds\n",
      "Saved image at /Users/user/Applications/machine-learning/deeproute/data/parent-mice/PrL-16-86308e75-7330-4df6-9a71-57f2822fae2b.jpg in 19 seconds\n"
     ]
    },
    {
     "data": {
      "application/javascript": [
       "\n",
       "            setTimeout(function() {\n",
       "                var nbb_cell_id = 96;\n",
       "                var nbb_unformatted_code = \"create_dataset_pipeline(20, \\\"parent-mice\\\")\";\n",
       "                var nbb_formatted_code = \"create_dataset_pipeline(20, \\\"parent-mice\\\")\";\n",
       "                var nbb_cells = Jupyter.notebook.get_cells();\n",
       "                for (var i = 0; i < nbb_cells.length; ++i) {\n",
       "                    if (nbb_cells[i].input_prompt_number == nbb_cell_id) {\n",
       "                        if (nbb_cells[i].get_text() == nbb_unformatted_code) {\n",
       "                             nbb_cells[i].set_text(nbb_formatted_code);\n",
       "                        }\n",
       "                        break;\n",
       "                    }\n",
       "                }\n",
       "            }, 500);\n",
       "            "
      ],
      "text/plain": [
       "<IPython.core.display.Javascript object>"
      ]
     },
     "metadata": {},
     "output_type": "display_data"
    },
    {
     "data": {
      "application/javascript": [
       "\n",
       "            setTimeout(function() {\n",
       "                var nbb_cell_id = 96;\n",
       "                var nbb_unformatted_code = \"create_dataset_pipeline(20, \\\"parent-mice\\\")\";\n",
       "                var nbb_formatted_code = \"create_dataset_pipeline(20, \\\"parent-mice\\\")\";\n",
       "                var nbb_cells = Jupyter.notebook.get_cells();\n",
       "                for (var i = 0; i < nbb_cells.length; ++i) {\n",
       "                    if (nbb_cells[i].input_prompt_number == nbb_cell_id) {\n",
       "                        if (nbb_cells[i].get_text() == nbb_unformatted_code) {\n",
       "                             nbb_cells[i].set_text(nbb_formatted_code);\n",
       "                        }\n",
       "                        break;\n",
       "                    }\n",
       "                }\n",
       "            }, 500);\n",
       "            "
      ],
      "text/plain": [
       "<IPython.core.display.Javascript object>"
      ]
     },
     "metadata": {},
     "output_type": "display_data"
    },
    {
     "data": {
      "application/javascript": [
       "\n",
       "            setTimeout(function() {\n",
       "                var nbb_cell_id = 96;\n",
       "                var nbb_unformatted_code = \"create_dataset_pipeline(20, \\\"parent-mice\\\")\";\n",
       "                var nbb_formatted_code = \"create_dataset_pipeline(20, \\\"parent-mice\\\")\";\n",
       "                var nbb_cells = Jupyter.notebook.get_cells();\n",
       "                for (var i = 0; i < nbb_cells.length; ++i) {\n",
       "                    if (nbb_cells[i].input_prompt_number == nbb_cell_id) {\n",
       "                        if (nbb_cells[i].get_text() == nbb_unformatted_code) {\n",
       "                             nbb_cells[i].set_text(nbb_formatted_code);\n",
       "                        }\n",
       "                        break;\n",
       "                    }\n",
       "                }\n",
       "            }, 500);\n",
       "            "
      ],
      "text/plain": [
       "<IPython.core.display.Javascript object>"
      ]
     },
     "metadata": {},
     "output_type": "display_data"
    },
    {
     "data": {
      "application/javascript": [
       "\n",
       "            setTimeout(function() {\n",
       "                var nbb_cell_id = 96;\n",
       "                var nbb_unformatted_code = \"create_dataset_pipeline(20, \\\"parent-mice\\\")\";\n",
       "                var nbb_formatted_code = \"create_dataset_pipeline(20, \\\"parent-mice\\\")\";\n",
       "                var nbb_cells = Jupyter.notebook.get_cells();\n",
       "                for (var i = 0; i < nbb_cells.length; ++i) {\n",
       "                    if (nbb_cells[i].input_prompt_number == nbb_cell_id) {\n",
       "                        if (nbb_cells[i].get_text() == nbb_unformatted_code) {\n",
       "                             nbb_cells[i].set_text(nbb_formatted_code);\n",
       "                        }\n",
       "                        break;\n",
       "                    }\n",
       "                }\n",
       "            }, 500);\n",
       "            "
      ],
      "text/plain": [
       "<IPython.core.display.Javascript object>"
      ]
     },
     "metadata": {},
     "output_type": "display_data"
    },
    {
     "data": {
      "application/javascript": [
       "\n",
       "            setTimeout(function() {\n",
       "                var nbb_cell_id = 96;\n",
       "                var nbb_unformatted_code = \"create_dataset_pipeline(20, \\\"parent-mice\\\")\";\n",
       "                var nbb_formatted_code = \"create_dataset_pipeline(20, \\\"parent-mice\\\")\";\n",
       "                var nbb_cells = Jupyter.notebook.get_cells();\n",
       "                for (var i = 0; i < nbb_cells.length; ++i) {\n",
       "                    if (nbb_cells[i].input_prompt_number == nbb_cell_id) {\n",
       "                        if (nbb_cells[i].get_text() == nbb_unformatted_code) {\n",
       "                             nbb_cells[i].set_text(nbb_formatted_code);\n",
       "                        }\n",
       "                        break;\n",
       "                    }\n",
       "                }\n",
       "            }, 500);\n",
       "            "
      ],
      "text/plain": [
       "<IPython.core.display.Javascript object>"
      ]
     },
     "metadata": {},
     "output_type": "display_data"
    },
    {
     "data": {
      "application/javascript": [
       "\n",
       "            setTimeout(function() {\n",
       "                var nbb_cell_id = 96;\n",
       "                var nbb_unformatted_code = \"create_dataset_pipeline(20, \\\"parent-mice\\\")\";\n",
       "                var nbb_formatted_code = \"create_dataset_pipeline(20, \\\"parent-mice\\\")\";\n",
       "                var nbb_cells = Jupyter.notebook.get_cells();\n",
       "                for (var i = 0; i < nbb_cells.length; ++i) {\n",
       "                    if (nbb_cells[i].input_prompt_number == nbb_cell_id) {\n",
       "                        if (nbb_cells[i].get_text() == nbb_unformatted_code) {\n",
       "                             nbb_cells[i].set_text(nbb_formatted_code);\n",
       "                        }\n",
       "                        break;\n",
       "                    }\n",
       "                }\n",
       "            }, 500);\n",
       "            "
      ],
      "text/plain": [
       "<IPython.core.display.Javascript object>"
      ]
     },
     "metadata": {},
     "output_type": "display_data"
    },
    {
     "data": {
      "application/javascript": [
       "\n",
       "            setTimeout(function() {\n",
       "                var nbb_cell_id = 96;\n",
       "                var nbb_unformatted_code = \"create_dataset_pipeline(20, \\\"parent-mice\\\")\";\n",
       "                var nbb_formatted_code = \"create_dataset_pipeline(20, \\\"parent-mice\\\")\";\n",
       "                var nbb_cells = Jupyter.notebook.get_cells();\n",
       "                for (var i = 0; i < nbb_cells.length; ++i) {\n",
       "                    if (nbb_cells[i].input_prompt_number == nbb_cell_id) {\n",
       "                        if (nbb_cells[i].get_text() == nbb_unformatted_code) {\n",
       "                             nbb_cells[i].set_text(nbb_formatted_code);\n",
       "                        }\n",
       "                        break;\n",
       "                    }\n",
       "                }\n",
       "            }, 500);\n",
       "            "
      ],
      "text/plain": [
       "<IPython.core.display.Javascript object>"
      ]
     },
     "metadata": {},
     "output_type": "display_data"
    },
    {
     "data": {
      "application/javascript": [
       "\n",
       "            setTimeout(function() {\n",
       "                var nbb_cell_id = 96;\n",
       "                var nbb_unformatted_code = \"create_dataset_pipeline(20, \\\"parent-mice\\\")\";\n",
       "                var nbb_formatted_code = \"create_dataset_pipeline(20, \\\"parent-mice\\\")\";\n",
       "                var nbb_cells = Jupyter.notebook.get_cells();\n",
       "                for (var i = 0; i < nbb_cells.length; ++i) {\n",
       "                    if (nbb_cells[i].input_prompt_number == nbb_cell_id) {\n",
       "                        if (nbb_cells[i].get_text() == nbb_unformatted_code) {\n",
       "                             nbb_cells[i].set_text(nbb_formatted_code);\n",
       "                        }\n",
       "                        break;\n",
       "                    }\n",
       "                }\n",
       "            }, 500);\n",
       "            "
      ],
      "text/plain": [
       "<IPython.core.display.Javascript object>"
      ]
     },
     "metadata": {},
     "output_type": "display_data"
    }
   ],
   "source": [
    "create = False\n",
    "if create:\n",
    "    create_dataset_pipeline(20, \"parent-mice\")"
   ]
  }
 ],
 "metadata": {
  "kernelspec": {
   "display_name": "Python deep-route",
   "language": "python",
   "name": "deep-route"
  },
  "language_info": {
   "codemirror_mode": {
    "name": "ipython",
    "version": 3
   },
   "file_extension": ".py",
   "mimetype": "text/x-python",
   "name": "python",
   "nbconvert_exporter": "python",
   "pygments_lexer": "ipython3",
   "version": "3.8.10"
  }
 },
 "nbformat": 4,
 "nbformat_minor": 4
}
