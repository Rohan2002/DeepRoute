{
 "cells": [
  {
   "cell_type": "code",
   "execution_count": 98,
   "metadata": {},
   "outputs": [
    {
     "name": "stdout",
     "output_type": "stream",
     "text": [
      "The autoreload extension is already loaded. To reload it, use:\n",
      "  %reload_ext autoreload\n"
     ]
    },
    {
     "data": {
      "application/javascript": [
       "\n",
       "            setTimeout(function() {\n",
       "                var nbb_cell_id = 98;\n",
       "                var nbb_unformatted_code = \"import warnings\\n\\nwarnings.filterwarnings(\\\"ignore\\\")\\n\\nimport os\\nimport shutil\\nimport platform\\nimport cv2\\nimport random\\nimport math\\nimport uuid\\nimport pandas as pd\\nimport sys\\nimport traceback\\nimport utils\\n\\n%load_ext autoreload\\n%autoreload 2\\n\\n%reload_ext nb_black\\n%config IPCompleter.greedy=True\";\n",
       "                var nbb_formatted_code = \"import warnings\\n\\nwarnings.filterwarnings(\\\"ignore\\\")\\n\\nimport os\\nimport shutil\\nimport platform\\nimport cv2\\nimport random\\nimport math\\nimport uuid\\nimport pandas as pd\\nimport sys\\nimport traceback\\nimport utils\\n\\n%load_ext autoreload\\n%autoreload 2\\n\\n%reload_ext nb_black\\n%config IPCompleter.greedy=True\";\n",
       "                var nbb_cells = Jupyter.notebook.get_cells();\n",
       "                for (var i = 0; i < nbb_cells.length; ++i) {\n",
       "                    if (nbb_cells[i].input_prompt_number == nbb_cell_id) {\n",
       "                        if (nbb_cells[i].get_text() == nbb_unformatted_code) {\n",
       "                             nbb_cells[i].set_text(nbb_formatted_code);\n",
       "                        }\n",
       "                        break;\n",
       "                    }\n",
       "                }\n",
       "            }, 500);\n",
       "            "
      ],
      "text/plain": [
       "<IPython.core.display.Javascript object>"
      ]
     },
     "metadata": {},
     "output_type": "display_data"
    },
    {
     "data": {
      "application/javascript": [
       "\n",
       "            setTimeout(function() {\n",
       "                var nbb_cell_id = 98;\n",
       "                var nbb_unformatted_code = \"import warnings\\n\\nwarnings.filterwarnings(\\\"ignore\\\")\\n\\nimport os\\nimport shutil\\nimport platform\\nimport cv2\\nimport random\\nimport math\\nimport uuid\\nimport pandas as pd\\nimport sys\\nimport traceback\\nimport utils\\n\\n%load_ext autoreload\\n%autoreload 2\\n\\n%reload_ext nb_black\\n%config IPCompleter.greedy=True\";\n",
       "                var nbb_formatted_code = \"import warnings\\n\\nwarnings.filterwarnings(\\\"ignore\\\")\\n\\nimport os\\nimport shutil\\nimport platform\\nimport cv2\\nimport random\\nimport math\\nimport uuid\\nimport pandas as pd\\nimport sys\\nimport traceback\\nimport utils\\n\\n%load_ext autoreload\\n%autoreload 2\\n\\n%reload_ext nb_black\\n%config IPCompleter.greedy=True\";\n",
       "                var nbb_cells = Jupyter.notebook.get_cells();\n",
       "                for (var i = 0; i < nbb_cells.length; ++i) {\n",
       "                    if (nbb_cells[i].input_prompt_number == nbb_cell_id) {\n",
       "                        if (nbb_cells[i].get_text() == nbb_unformatted_code) {\n",
       "                             nbb_cells[i].set_text(nbb_formatted_code);\n",
       "                        }\n",
       "                        break;\n",
       "                    }\n",
       "                }\n",
       "            }, 500);\n",
       "            "
      ],
      "text/plain": [
       "<IPython.core.display.Javascript object>"
      ]
     },
     "metadata": {},
     "output_type": "display_data"
    },
    {
     "data": {
      "application/javascript": [
       "\n",
       "            setTimeout(function() {\n",
       "                var nbb_cell_id = 98;\n",
       "                var nbb_unformatted_code = \"import warnings\\n\\nwarnings.filterwarnings(\\\"ignore\\\")\\n\\nimport os\\nimport shutil\\nimport platform\\nimport cv2\\nimport random\\nimport math\\nimport uuid\\nimport pandas as pd\\nimport sys\\nimport traceback\\nimport utils\\n\\n%load_ext autoreload\\n%autoreload 2\\n\\n%reload_ext nb_black\\n%config IPCompleter.greedy=True\";\n",
       "                var nbb_formatted_code = \"import warnings\\n\\nwarnings.filterwarnings(\\\"ignore\\\")\\n\\nimport os\\nimport shutil\\nimport platform\\nimport cv2\\nimport random\\nimport math\\nimport uuid\\nimport pandas as pd\\nimport sys\\nimport traceback\\nimport utils\\n\\n%load_ext autoreload\\n%autoreload 2\\n\\n%reload_ext nb_black\\n%config IPCompleter.greedy=True\";\n",
       "                var nbb_cells = Jupyter.notebook.get_cells();\n",
       "                for (var i = 0; i < nbb_cells.length; ++i) {\n",
       "                    if (nbb_cells[i].input_prompt_number == nbb_cell_id) {\n",
       "                        if (nbb_cells[i].get_text() == nbb_unformatted_code) {\n",
       "                             nbb_cells[i].set_text(nbb_formatted_code);\n",
       "                        }\n",
       "                        break;\n",
       "                    }\n",
       "                }\n",
       "            }, 500);\n",
       "            "
      ],
      "text/plain": [
       "<IPython.core.display.Javascript object>"
      ]
     },
     "metadata": {},
     "output_type": "display_data"
    },
    {
     "data": {
      "application/javascript": [
       "\n",
       "            setTimeout(function() {\n",
       "                var nbb_cell_id = 98;\n",
       "                var nbb_unformatted_code = \"import warnings\\n\\nwarnings.filterwarnings(\\\"ignore\\\")\\n\\nimport os\\nimport shutil\\nimport platform\\nimport cv2\\nimport random\\nimport math\\nimport uuid\\nimport pandas as pd\\nimport sys\\nimport traceback\\nimport utils\\n\\n%load_ext autoreload\\n%autoreload 2\\n\\n%reload_ext nb_black\\n%config IPCompleter.greedy=True\";\n",
       "                var nbb_formatted_code = \"import warnings\\n\\nwarnings.filterwarnings(\\\"ignore\\\")\\n\\nimport os\\nimport shutil\\nimport platform\\nimport cv2\\nimport random\\nimport math\\nimport uuid\\nimport pandas as pd\\nimport sys\\nimport traceback\\nimport utils\\n\\n%load_ext autoreload\\n%autoreload 2\\n\\n%reload_ext nb_black\\n%config IPCompleter.greedy=True\";\n",
       "                var nbb_cells = Jupyter.notebook.get_cells();\n",
       "                for (var i = 0; i < nbb_cells.length; ++i) {\n",
       "                    if (nbb_cells[i].input_prompt_number == nbb_cell_id) {\n",
       "                        if (nbb_cells[i].get_text() == nbb_unformatted_code) {\n",
       "                             nbb_cells[i].set_text(nbb_formatted_code);\n",
       "                        }\n",
       "                        break;\n",
       "                    }\n",
       "                }\n",
       "            }, 500);\n",
       "            "
      ],
      "text/plain": [
       "<IPython.core.display.Javascript object>"
      ]
     },
     "metadata": {},
     "output_type": "display_data"
    },
    {
     "data": {
      "application/javascript": [
       "\n",
       "            setTimeout(function() {\n",
       "                var nbb_cell_id = 98;\n",
       "                var nbb_unformatted_code = \"import warnings\\n\\nwarnings.filterwarnings(\\\"ignore\\\")\\n\\nimport os\\nimport shutil\\nimport platform\\nimport cv2\\nimport random\\nimport math\\nimport uuid\\nimport pandas as pd\\nimport sys\\nimport traceback\\nimport utils\\n\\n%load_ext autoreload\\n%autoreload 2\\n\\n%reload_ext nb_black\\n%config IPCompleter.greedy=True\";\n",
       "                var nbb_formatted_code = \"import warnings\\n\\nwarnings.filterwarnings(\\\"ignore\\\")\\n\\nimport os\\nimport shutil\\nimport platform\\nimport cv2\\nimport random\\nimport math\\nimport uuid\\nimport pandas as pd\\nimport sys\\nimport traceback\\nimport utils\\n\\n%load_ext autoreload\\n%autoreload 2\\n\\n%reload_ext nb_black\\n%config IPCompleter.greedy=True\";\n",
       "                var nbb_cells = Jupyter.notebook.get_cells();\n",
       "                for (var i = 0; i < nbb_cells.length; ++i) {\n",
       "                    if (nbb_cells[i].input_prompt_number == nbb_cell_id) {\n",
       "                        if (nbb_cells[i].get_text() == nbb_unformatted_code) {\n",
       "                             nbb_cells[i].set_text(nbb_formatted_code);\n",
       "                        }\n",
       "                        break;\n",
       "                    }\n",
       "                }\n",
       "            }, 500);\n",
       "            "
      ],
      "text/plain": [
       "<IPython.core.display.Javascript object>"
      ]
     },
     "metadata": {},
     "output_type": "display_data"
    },
    {
     "data": {
      "application/javascript": [
       "\n",
       "            setTimeout(function() {\n",
       "                var nbb_cell_id = 98;\n",
       "                var nbb_unformatted_code = \"import warnings\\n\\nwarnings.filterwarnings(\\\"ignore\\\")\\n\\nimport os\\nimport shutil\\nimport platform\\nimport cv2\\nimport random\\nimport math\\nimport uuid\\nimport pandas as pd\\nimport sys\\nimport traceback\\nimport utils\\n\\n%load_ext autoreload\\n%autoreload 2\\n\\n%reload_ext nb_black\\n%config IPCompleter.greedy=True\";\n",
       "                var nbb_formatted_code = \"import warnings\\n\\nwarnings.filterwarnings(\\\"ignore\\\")\\n\\nimport os\\nimport shutil\\nimport platform\\nimport cv2\\nimport random\\nimport math\\nimport uuid\\nimport pandas as pd\\nimport sys\\nimport traceback\\nimport utils\\n\\n%load_ext autoreload\\n%autoreload 2\\n\\n%reload_ext nb_black\\n%config IPCompleter.greedy=True\";\n",
       "                var nbb_cells = Jupyter.notebook.get_cells();\n",
       "                for (var i = 0; i < nbb_cells.length; ++i) {\n",
       "                    if (nbb_cells[i].input_prompt_number == nbb_cell_id) {\n",
       "                        if (nbb_cells[i].get_text() == nbb_unformatted_code) {\n",
       "                             nbb_cells[i].set_text(nbb_formatted_code);\n",
       "                        }\n",
       "                        break;\n",
       "                    }\n",
       "                }\n",
       "            }, 500);\n",
       "            "
      ],
      "text/plain": [
       "<IPython.core.display.Javascript object>"
      ]
     },
     "metadata": {},
     "output_type": "display_data"
    },
    {
     "data": {
      "application/javascript": [
       "\n",
       "            setTimeout(function() {\n",
       "                var nbb_cell_id = 98;\n",
       "                var nbb_unformatted_code = \"import warnings\\n\\nwarnings.filterwarnings(\\\"ignore\\\")\\n\\nimport os\\nimport shutil\\nimport platform\\nimport cv2\\nimport random\\nimport math\\nimport uuid\\nimport pandas as pd\\nimport sys\\nimport traceback\\nimport utils\\n\\n%load_ext autoreload\\n%autoreload 2\\n\\n%reload_ext nb_black\\n%config IPCompleter.greedy=True\";\n",
       "                var nbb_formatted_code = \"import warnings\\n\\nwarnings.filterwarnings(\\\"ignore\\\")\\n\\nimport os\\nimport shutil\\nimport platform\\nimport cv2\\nimport random\\nimport math\\nimport uuid\\nimport pandas as pd\\nimport sys\\nimport traceback\\nimport utils\\n\\n%load_ext autoreload\\n%autoreload 2\\n\\n%reload_ext nb_black\\n%config IPCompleter.greedy=True\";\n",
       "                var nbb_cells = Jupyter.notebook.get_cells();\n",
       "                for (var i = 0; i < nbb_cells.length; ++i) {\n",
       "                    if (nbb_cells[i].input_prompt_number == nbb_cell_id) {\n",
       "                        if (nbb_cells[i].get_text() == nbb_unformatted_code) {\n",
       "                             nbb_cells[i].set_text(nbb_formatted_code);\n",
       "                        }\n",
       "                        break;\n",
       "                    }\n",
       "                }\n",
       "            }, 500);\n",
       "            "
      ],
      "text/plain": [
       "<IPython.core.display.Javascript object>"
      ]
     },
     "metadata": {},
     "output_type": "display_data"
    },
    {
     "data": {
      "application/javascript": [
       "\n",
       "            setTimeout(function() {\n",
       "                var nbb_cell_id = 98;\n",
       "                var nbb_unformatted_code = \"import warnings\\n\\nwarnings.filterwarnings(\\\"ignore\\\")\\n\\nimport os\\nimport shutil\\nimport platform\\nimport cv2\\nimport random\\nimport math\\nimport uuid\\nimport pandas as pd\\nimport sys\\nimport traceback\\nimport utils\\n\\n%load_ext autoreload\\n%autoreload 2\\n\\n%reload_ext nb_black\\n%config IPCompleter.greedy=True\";\n",
       "                var nbb_formatted_code = \"import warnings\\n\\nwarnings.filterwarnings(\\\"ignore\\\")\\n\\nimport os\\nimport shutil\\nimport platform\\nimport cv2\\nimport random\\nimport math\\nimport uuid\\nimport pandas as pd\\nimport sys\\nimport traceback\\nimport utils\\n\\n%load_ext autoreload\\n%autoreload 2\\n\\n%reload_ext nb_black\\n%config IPCompleter.greedy=True\";\n",
       "                var nbb_cells = Jupyter.notebook.get_cells();\n",
       "                for (var i = 0; i < nbb_cells.length; ++i) {\n",
       "                    if (nbb_cells[i].input_prompt_number == nbb_cell_id) {\n",
       "                        if (nbb_cells[i].get_text() == nbb_unformatted_code) {\n",
       "                             nbb_cells[i].set_text(nbb_formatted_code);\n",
       "                        }\n",
       "                        break;\n",
       "                    }\n",
       "                }\n",
       "            }, 500);\n",
       "            "
      ],
      "text/plain": [
       "<IPython.core.display.Javascript object>"
      ]
     },
     "metadata": {},
     "output_type": "display_data"
    }
   ],
   "source": [
    "import warnings\n",
    "\n",
    "warnings.filterwarnings(\"ignore\")\n",
    "\n",
    "import os\n",
    "import shutil\n",
    "import platform\n",
    "import cv2\n",
    "import random\n",
    "import math\n",
    "import uuid\n",
    "import pandas as pd\n",
    "import sys\n",
    "import traceback\n",
    "import utils\n",
    "\n",
    "%load_ext autoreload\n",
    "%autoreload 2\n",
    "\n",
    "%reload_ext nb_black\n",
    "%config IPCompleter.greedy=True"
   ]
  },
  {
   "cell_type": "code",
   "execution_count": 99,
   "metadata": {},
   "outputs": [
    {
     "data": {
      "application/javascript": [
       "\n",
       "            setTimeout(function() {\n",
       "                var nbb_cell_id = 99;\n",
       "                var nbb_unformatted_code = \"CURRENT_MICE = \\\"PrL-4\\\"\\nparent_directory = os.path.dirname(os.getcwd())\\npath_to_videos = os.path.join(parent_directory, \\\"videos\\\")\\npath_to_data = os.path.join(parent_directory, \\\"data\\\")\\n\\nmice = [\\n    \\\"PrL-2\\\",\\n    \\\"PrL-3\\\",\\n    \\\"PrL-4\\\",\\n    \\\"PrL-5\\\",\\n    \\\"PrL-8\\\",\\n    \\\"PrL-9\\\",\\n    \\\"PrL-10\\\",\\n    \\\"PrL-16\\\",\\n    \\\"PrL-19\\\",\\n]\\nlabels = [\\\"parent-mice\\\", \\\"child-mice\\\"]\";\n",
       "                var nbb_formatted_code = \"CURRENT_MICE = \\\"PrL-4\\\"\\nparent_directory = os.path.dirname(os.getcwd())\\npath_to_videos = os.path.join(parent_directory, \\\"videos\\\")\\npath_to_data = os.path.join(parent_directory, \\\"data\\\")\\n\\nmice = [\\n    \\\"PrL-2\\\",\\n    \\\"PrL-3\\\",\\n    \\\"PrL-4\\\",\\n    \\\"PrL-5\\\",\\n    \\\"PrL-8\\\",\\n    \\\"PrL-9\\\",\\n    \\\"PrL-10\\\",\\n    \\\"PrL-16\\\",\\n    \\\"PrL-19\\\",\\n]\\nlabels = [\\\"parent-mice\\\", \\\"child-mice\\\"]\";\n",
       "                var nbb_cells = Jupyter.notebook.get_cells();\n",
       "                for (var i = 0; i < nbb_cells.length; ++i) {\n",
       "                    if (nbb_cells[i].input_prompt_number == nbb_cell_id) {\n",
       "                        if (nbb_cells[i].get_text() == nbb_unformatted_code) {\n",
       "                             nbb_cells[i].set_text(nbb_formatted_code);\n",
       "                        }\n",
       "                        break;\n",
       "                    }\n",
       "                }\n",
       "            }, 500);\n",
       "            "
      ],
      "text/plain": [
       "<IPython.core.display.Javascript object>"
      ]
     },
     "metadata": {},
     "output_type": "display_data"
    },
    {
     "data": {
      "application/javascript": [
       "\n",
       "            setTimeout(function() {\n",
       "                var nbb_cell_id = 99;\n",
       "                var nbb_unformatted_code = \"CURRENT_MICE = \\\"PrL-4\\\"\\nparent_directory = os.path.dirname(os.getcwd())\\npath_to_videos = os.path.join(parent_directory, \\\"videos\\\")\\npath_to_data = os.path.join(parent_directory, \\\"data\\\")\\n\\nmice = [\\n    \\\"PrL-2\\\",\\n    \\\"PrL-3\\\",\\n    \\\"PrL-4\\\",\\n    \\\"PrL-5\\\",\\n    \\\"PrL-8\\\",\\n    \\\"PrL-9\\\",\\n    \\\"PrL-10\\\",\\n    \\\"PrL-16\\\",\\n    \\\"PrL-19\\\",\\n]\\nlabels = [\\\"parent-mice\\\", \\\"child-mice\\\"]\";\n",
       "                var nbb_formatted_code = \"CURRENT_MICE = \\\"PrL-4\\\"\\nparent_directory = os.path.dirname(os.getcwd())\\npath_to_videos = os.path.join(parent_directory, \\\"videos\\\")\\npath_to_data = os.path.join(parent_directory, \\\"data\\\")\\n\\nmice = [\\n    \\\"PrL-2\\\",\\n    \\\"PrL-3\\\",\\n    \\\"PrL-4\\\",\\n    \\\"PrL-5\\\",\\n    \\\"PrL-8\\\",\\n    \\\"PrL-9\\\",\\n    \\\"PrL-10\\\",\\n    \\\"PrL-16\\\",\\n    \\\"PrL-19\\\",\\n]\\nlabels = [\\\"parent-mice\\\", \\\"child-mice\\\"]\";\n",
       "                var nbb_cells = Jupyter.notebook.get_cells();\n",
       "                for (var i = 0; i < nbb_cells.length; ++i) {\n",
       "                    if (nbb_cells[i].input_prompt_number == nbb_cell_id) {\n",
       "                        if (nbb_cells[i].get_text() == nbb_unformatted_code) {\n",
       "                             nbb_cells[i].set_text(nbb_formatted_code);\n",
       "                        }\n",
       "                        break;\n",
       "                    }\n",
       "                }\n",
       "            }, 500);\n",
       "            "
      ],
      "text/plain": [
       "<IPython.core.display.Javascript object>"
      ]
     },
     "metadata": {},
     "output_type": "display_data"
    },
    {
     "data": {
      "application/javascript": [
       "\n",
       "            setTimeout(function() {\n",
       "                var nbb_cell_id = 99;\n",
       "                var nbb_unformatted_code = \"CURRENT_MICE = \\\"PrL-4\\\"\\nparent_directory = os.path.dirname(os.getcwd())\\npath_to_videos = os.path.join(parent_directory, \\\"videos\\\")\\npath_to_data = os.path.join(parent_directory, \\\"data\\\")\\n\\nmice = [\\n    \\\"PrL-2\\\",\\n    \\\"PrL-3\\\",\\n    \\\"PrL-4\\\",\\n    \\\"PrL-5\\\",\\n    \\\"PrL-8\\\",\\n    \\\"PrL-9\\\",\\n    \\\"PrL-10\\\",\\n    \\\"PrL-16\\\",\\n    \\\"PrL-19\\\",\\n]\\nlabels = [\\\"parent-mice\\\", \\\"child-mice\\\"]\";\n",
       "                var nbb_formatted_code = \"CURRENT_MICE = \\\"PrL-4\\\"\\nparent_directory = os.path.dirname(os.getcwd())\\npath_to_videos = os.path.join(parent_directory, \\\"videos\\\")\\npath_to_data = os.path.join(parent_directory, \\\"data\\\")\\n\\nmice = [\\n    \\\"PrL-2\\\",\\n    \\\"PrL-3\\\",\\n    \\\"PrL-4\\\",\\n    \\\"PrL-5\\\",\\n    \\\"PrL-8\\\",\\n    \\\"PrL-9\\\",\\n    \\\"PrL-10\\\",\\n    \\\"PrL-16\\\",\\n    \\\"PrL-19\\\",\\n]\\nlabels = [\\\"parent-mice\\\", \\\"child-mice\\\"]\";\n",
       "                var nbb_cells = Jupyter.notebook.get_cells();\n",
       "                for (var i = 0; i < nbb_cells.length; ++i) {\n",
       "                    if (nbb_cells[i].input_prompt_number == nbb_cell_id) {\n",
       "                        if (nbb_cells[i].get_text() == nbb_unformatted_code) {\n",
       "                             nbb_cells[i].set_text(nbb_formatted_code);\n",
       "                        }\n",
       "                        break;\n",
       "                    }\n",
       "                }\n",
       "            }, 500);\n",
       "            "
      ],
      "text/plain": [
       "<IPython.core.display.Javascript object>"
      ]
     },
     "metadata": {},
     "output_type": "display_data"
    },
    {
     "data": {
      "application/javascript": [
       "\n",
       "            setTimeout(function() {\n",
       "                var nbb_cell_id = 99;\n",
       "                var nbb_unformatted_code = \"CURRENT_MICE = \\\"PrL-4\\\"\\nparent_directory = os.path.dirname(os.getcwd())\\npath_to_videos = os.path.join(parent_directory, \\\"videos\\\")\\npath_to_data = os.path.join(parent_directory, \\\"data\\\")\\n\\nmice = [\\n    \\\"PrL-2\\\",\\n    \\\"PrL-3\\\",\\n    \\\"PrL-4\\\",\\n    \\\"PrL-5\\\",\\n    \\\"PrL-8\\\",\\n    \\\"PrL-9\\\",\\n    \\\"PrL-10\\\",\\n    \\\"PrL-16\\\",\\n    \\\"PrL-19\\\",\\n]\\nlabels = [\\\"parent-mice\\\", \\\"child-mice\\\"]\";\n",
       "                var nbb_formatted_code = \"CURRENT_MICE = \\\"PrL-4\\\"\\nparent_directory = os.path.dirname(os.getcwd())\\npath_to_videos = os.path.join(parent_directory, \\\"videos\\\")\\npath_to_data = os.path.join(parent_directory, \\\"data\\\")\\n\\nmice = [\\n    \\\"PrL-2\\\",\\n    \\\"PrL-3\\\",\\n    \\\"PrL-4\\\",\\n    \\\"PrL-5\\\",\\n    \\\"PrL-8\\\",\\n    \\\"PrL-9\\\",\\n    \\\"PrL-10\\\",\\n    \\\"PrL-16\\\",\\n    \\\"PrL-19\\\",\\n]\\nlabels = [\\\"parent-mice\\\", \\\"child-mice\\\"]\";\n",
       "                var nbb_cells = Jupyter.notebook.get_cells();\n",
       "                for (var i = 0; i < nbb_cells.length; ++i) {\n",
       "                    if (nbb_cells[i].input_prompt_number == nbb_cell_id) {\n",
       "                        if (nbb_cells[i].get_text() == nbb_unformatted_code) {\n",
       "                             nbb_cells[i].set_text(nbb_formatted_code);\n",
       "                        }\n",
       "                        break;\n",
       "                    }\n",
       "                }\n",
       "            }, 500);\n",
       "            "
      ],
      "text/plain": [
       "<IPython.core.display.Javascript object>"
      ]
     },
     "metadata": {},
     "output_type": "display_data"
    },
    {
     "data": {
      "application/javascript": [
       "\n",
       "            setTimeout(function() {\n",
       "                var nbb_cell_id = 99;\n",
       "                var nbb_unformatted_code = \"CURRENT_MICE = \\\"PrL-4\\\"\\nparent_directory = os.path.dirname(os.getcwd())\\npath_to_videos = os.path.join(parent_directory, \\\"videos\\\")\\npath_to_data = os.path.join(parent_directory, \\\"data\\\")\\n\\nmice = [\\n    \\\"PrL-2\\\",\\n    \\\"PrL-3\\\",\\n    \\\"PrL-4\\\",\\n    \\\"PrL-5\\\",\\n    \\\"PrL-8\\\",\\n    \\\"PrL-9\\\",\\n    \\\"PrL-10\\\",\\n    \\\"PrL-16\\\",\\n    \\\"PrL-19\\\",\\n]\\nlabels = [\\\"parent-mice\\\", \\\"child-mice\\\"]\";\n",
       "                var nbb_formatted_code = \"CURRENT_MICE = \\\"PrL-4\\\"\\nparent_directory = os.path.dirname(os.getcwd())\\npath_to_videos = os.path.join(parent_directory, \\\"videos\\\")\\npath_to_data = os.path.join(parent_directory, \\\"data\\\")\\n\\nmice = [\\n    \\\"PrL-2\\\",\\n    \\\"PrL-3\\\",\\n    \\\"PrL-4\\\",\\n    \\\"PrL-5\\\",\\n    \\\"PrL-8\\\",\\n    \\\"PrL-9\\\",\\n    \\\"PrL-10\\\",\\n    \\\"PrL-16\\\",\\n    \\\"PrL-19\\\",\\n]\\nlabels = [\\\"parent-mice\\\", \\\"child-mice\\\"]\";\n",
       "                var nbb_cells = Jupyter.notebook.get_cells();\n",
       "                for (var i = 0; i < nbb_cells.length; ++i) {\n",
       "                    if (nbb_cells[i].input_prompt_number == nbb_cell_id) {\n",
       "                        if (nbb_cells[i].get_text() == nbb_unformatted_code) {\n",
       "                             nbb_cells[i].set_text(nbb_formatted_code);\n",
       "                        }\n",
       "                        break;\n",
       "                    }\n",
       "                }\n",
       "            }, 500);\n",
       "            "
      ],
      "text/plain": [
       "<IPython.core.display.Javascript object>"
      ]
     },
     "metadata": {},
     "output_type": "display_data"
    },
    {
     "data": {
      "application/javascript": [
       "\n",
       "            setTimeout(function() {\n",
       "                var nbb_cell_id = 99;\n",
       "                var nbb_unformatted_code = \"CURRENT_MICE = \\\"PrL-4\\\"\\nparent_directory = os.path.dirname(os.getcwd())\\npath_to_videos = os.path.join(parent_directory, \\\"videos\\\")\\npath_to_data = os.path.join(parent_directory, \\\"data\\\")\\n\\nmice = [\\n    \\\"PrL-2\\\",\\n    \\\"PrL-3\\\",\\n    \\\"PrL-4\\\",\\n    \\\"PrL-5\\\",\\n    \\\"PrL-8\\\",\\n    \\\"PrL-9\\\",\\n    \\\"PrL-10\\\",\\n    \\\"PrL-16\\\",\\n    \\\"PrL-19\\\",\\n]\\nlabels = [\\\"parent-mice\\\", \\\"child-mice\\\"]\";\n",
       "                var nbb_formatted_code = \"CURRENT_MICE = \\\"PrL-4\\\"\\nparent_directory = os.path.dirname(os.getcwd())\\npath_to_videos = os.path.join(parent_directory, \\\"videos\\\")\\npath_to_data = os.path.join(parent_directory, \\\"data\\\")\\n\\nmice = [\\n    \\\"PrL-2\\\",\\n    \\\"PrL-3\\\",\\n    \\\"PrL-4\\\",\\n    \\\"PrL-5\\\",\\n    \\\"PrL-8\\\",\\n    \\\"PrL-9\\\",\\n    \\\"PrL-10\\\",\\n    \\\"PrL-16\\\",\\n    \\\"PrL-19\\\",\\n]\\nlabels = [\\\"parent-mice\\\", \\\"child-mice\\\"]\";\n",
       "                var nbb_cells = Jupyter.notebook.get_cells();\n",
       "                for (var i = 0; i < nbb_cells.length; ++i) {\n",
       "                    if (nbb_cells[i].input_prompt_number == nbb_cell_id) {\n",
       "                        if (nbb_cells[i].get_text() == nbb_unformatted_code) {\n",
       "                             nbb_cells[i].set_text(nbb_formatted_code);\n",
       "                        }\n",
       "                        break;\n",
       "                    }\n",
       "                }\n",
       "            }, 500);\n",
       "            "
      ],
      "text/plain": [
       "<IPython.core.display.Javascript object>"
      ]
     },
     "metadata": {},
     "output_type": "display_data"
    },
    {
     "data": {
      "application/javascript": [
       "\n",
       "            setTimeout(function() {\n",
       "                var nbb_cell_id = 99;\n",
       "                var nbb_unformatted_code = \"CURRENT_MICE = \\\"PrL-4\\\"\\nparent_directory = os.path.dirname(os.getcwd())\\npath_to_videos = os.path.join(parent_directory, \\\"videos\\\")\\npath_to_data = os.path.join(parent_directory, \\\"data\\\")\\n\\nmice = [\\n    \\\"PrL-2\\\",\\n    \\\"PrL-3\\\",\\n    \\\"PrL-4\\\",\\n    \\\"PrL-5\\\",\\n    \\\"PrL-8\\\",\\n    \\\"PrL-9\\\",\\n    \\\"PrL-10\\\",\\n    \\\"PrL-16\\\",\\n    \\\"PrL-19\\\",\\n]\\nlabels = [\\\"parent-mice\\\", \\\"child-mice\\\"]\";\n",
       "                var nbb_formatted_code = \"CURRENT_MICE = \\\"PrL-4\\\"\\nparent_directory = os.path.dirname(os.getcwd())\\npath_to_videos = os.path.join(parent_directory, \\\"videos\\\")\\npath_to_data = os.path.join(parent_directory, \\\"data\\\")\\n\\nmice = [\\n    \\\"PrL-2\\\",\\n    \\\"PrL-3\\\",\\n    \\\"PrL-4\\\",\\n    \\\"PrL-5\\\",\\n    \\\"PrL-8\\\",\\n    \\\"PrL-9\\\",\\n    \\\"PrL-10\\\",\\n    \\\"PrL-16\\\",\\n    \\\"PrL-19\\\",\\n]\\nlabels = [\\\"parent-mice\\\", \\\"child-mice\\\"]\";\n",
       "                var nbb_cells = Jupyter.notebook.get_cells();\n",
       "                for (var i = 0; i < nbb_cells.length; ++i) {\n",
       "                    if (nbb_cells[i].input_prompt_number == nbb_cell_id) {\n",
       "                        if (nbb_cells[i].get_text() == nbb_unformatted_code) {\n",
       "                             nbb_cells[i].set_text(nbb_formatted_code);\n",
       "                        }\n",
       "                        break;\n",
       "                    }\n",
       "                }\n",
       "            }, 500);\n",
       "            "
      ],
      "text/plain": [
       "<IPython.core.display.Javascript object>"
      ]
     },
     "metadata": {},
     "output_type": "display_data"
    },
    {
     "data": {
      "application/javascript": [
       "\n",
       "            setTimeout(function() {\n",
       "                var nbb_cell_id = 99;\n",
       "                var nbb_unformatted_code = \"CURRENT_MICE = \\\"PrL-4\\\"\\nparent_directory = os.path.dirname(os.getcwd())\\npath_to_videos = os.path.join(parent_directory, \\\"videos\\\")\\npath_to_data = os.path.join(parent_directory, \\\"data\\\")\\n\\nmice = [\\n    \\\"PrL-2\\\",\\n    \\\"PrL-3\\\",\\n    \\\"PrL-4\\\",\\n    \\\"PrL-5\\\",\\n    \\\"PrL-8\\\",\\n    \\\"PrL-9\\\",\\n    \\\"PrL-10\\\",\\n    \\\"PrL-16\\\",\\n    \\\"PrL-19\\\",\\n]\\nlabels = [\\\"parent-mice\\\", \\\"child-mice\\\"]\";\n",
       "                var nbb_formatted_code = \"CURRENT_MICE = \\\"PrL-4\\\"\\nparent_directory = os.path.dirname(os.getcwd())\\npath_to_videos = os.path.join(parent_directory, \\\"videos\\\")\\npath_to_data = os.path.join(parent_directory, \\\"data\\\")\\n\\nmice = [\\n    \\\"PrL-2\\\",\\n    \\\"PrL-3\\\",\\n    \\\"PrL-4\\\",\\n    \\\"PrL-5\\\",\\n    \\\"PrL-8\\\",\\n    \\\"PrL-9\\\",\\n    \\\"PrL-10\\\",\\n    \\\"PrL-16\\\",\\n    \\\"PrL-19\\\",\\n]\\nlabels = [\\\"parent-mice\\\", \\\"child-mice\\\"]\";\n",
       "                var nbb_cells = Jupyter.notebook.get_cells();\n",
       "                for (var i = 0; i < nbb_cells.length; ++i) {\n",
       "                    if (nbb_cells[i].input_prompt_number == nbb_cell_id) {\n",
       "                        if (nbb_cells[i].get_text() == nbb_unformatted_code) {\n",
       "                             nbb_cells[i].set_text(nbb_formatted_code);\n",
       "                        }\n",
       "                        break;\n",
       "                    }\n",
       "                }\n",
       "            }, 500);\n",
       "            "
      ],
      "text/plain": [
       "<IPython.core.display.Javascript object>"
      ]
     },
     "metadata": {},
     "output_type": "display_data"
    }
   ],
   "source": [
    "CURRENT_MICE = \"PrL-4\"\n",
    "parent_directory = os.path.dirname(os.getcwd())\n",
    "path_to_videos = os.path.join(parent_directory, \"videos\")\n",
    "path_to_data = os.path.join(parent_directory, \"data\")\n",
    "\n",
    "mice = [\n",
    "    \"PrL-2\",\n",
    "    \"PrL-3\",\n",
    "    \"PrL-4\",\n",
    "    \"PrL-5\",\n",
    "    \"PrL-8\",\n",
    "    \"PrL-9\",\n",
    "    \"PrL-10\",\n",
    "    \"PrL-16\",\n",
    "    \"PrL-19\",\n",
    "]\n",
    "labels = [\"parent-mice\", \"child-mice\"]"
   ]
  },
  {
   "cell_type": "code",
   "execution_count": 100,
   "metadata": {},
   "outputs": [
    {
     "data": {
      "application/javascript": [
       "\n",
       "            setTimeout(function() {\n",
       "                var nbb_cell_id = 100;\n",
       "                var nbb_unformatted_code = \"mice_df = pd.DataFrame(mice, columns=[\\\"Mice\\\"])\";\n",
       "                var nbb_formatted_code = \"mice_df = pd.DataFrame(mice, columns=[\\\"Mice\\\"])\";\n",
       "                var nbb_cells = Jupyter.notebook.get_cells();\n",
       "                for (var i = 0; i < nbb_cells.length; ++i) {\n",
       "                    if (nbb_cells[i].input_prompt_number == nbb_cell_id) {\n",
       "                        if (nbb_cells[i].get_text() == nbb_unformatted_code) {\n",
       "                             nbb_cells[i].set_text(nbb_formatted_code);\n",
       "                        }\n",
       "                        break;\n",
       "                    }\n",
       "                }\n",
       "            }, 500);\n",
       "            "
      ],
      "text/plain": [
       "<IPython.core.display.Javascript object>"
      ]
     },
     "metadata": {},
     "output_type": "display_data"
    },
    {
     "data": {
      "application/javascript": [
       "\n",
       "            setTimeout(function() {\n",
       "                var nbb_cell_id = 100;\n",
       "                var nbb_unformatted_code = \"mice_df = pd.DataFrame(mice, columns=[\\\"Mice\\\"])\";\n",
       "                var nbb_formatted_code = \"mice_df = pd.DataFrame(mice, columns=[\\\"Mice\\\"])\";\n",
       "                var nbb_cells = Jupyter.notebook.get_cells();\n",
       "                for (var i = 0; i < nbb_cells.length; ++i) {\n",
       "                    if (nbb_cells[i].input_prompt_number == nbb_cell_id) {\n",
       "                        if (nbb_cells[i].get_text() == nbb_unformatted_code) {\n",
       "                             nbb_cells[i].set_text(nbb_formatted_code);\n",
       "                        }\n",
       "                        break;\n",
       "                    }\n",
       "                }\n",
       "            }, 500);\n",
       "            "
      ],
      "text/plain": [
       "<IPython.core.display.Javascript object>"
      ]
     },
     "metadata": {},
     "output_type": "display_data"
    },
    {
     "data": {
      "application/javascript": [
       "\n",
       "            setTimeout(function() {\n",
       "                var nbb_cell_id = 100;\n",
       "                var nbb_unformatted_code = \"mice_df = pd.DataFrame(mice, columns=[\\\"Mice\\\"])\";\n",
       "                var nbb_formatted_code = \"mice_df = pd.DataFrame(mice, columns=[\\\"Mice\\\"])\";\n",
       "                var nbb_cells = Jupyter.notebook.get_cells();\n",
       "                for (var i = 0; i < nbb_cells.length; ++i) {\n",
       "                    if (nbb_cells[i].input_prompt_number == nbb_cell_id) {\n",
       "                        if (nbb_cells[i].get_text() == nbb_unformatted_code) {\n",
       "                             nbb_cells[i].set_text(nbb_formatted_code);\n",
       "                        }\n",
       "                        break;\n",
       "                    }\n",
       "                }\n",
       "            }, 500);\n",
       "            "
      ],
      "text/plain": [
       "<IPython.core.display.Javascript object>"
      ]
     },
     "metadata": {},
     "output_type": "display_data"
    },
    {
     "data": {
      "application/javascript": [
       "\n",
       "            setTimeout(function() {\n",
       "                var nbb_cell_id = 100;\n",
       "                var nbb_unformatted_code = \"mice_df = pd.DataFrame(mice, columns=[\\\"Mice\\\"])\";\n",
       "                var nbb_formatted_code = \"mice_df = pd.DataFrame(mice, columns=[\\\"Mice\\\"])\";\n",
       "                var nbb_cells = Jupyter.notebook.get_cells();\n",
       "                for (var i = 0; i < nbb_cells.length; ++i) {\n",
       "                    if (nbb_cells[i].input_prompt_number == nbb_cell_id) {\n",
       "                        if (nbb_cells[i].get_text() == nbb_unformatted_code) {\n",
       "                             nbb_cells[i].set_text(nbb_formatted_code);\n",
       "                        }\n",
       "                        break;\n",
       "                    }\n",
       "                }\n",
       "            }, 500);\n",
       "            "
      ],
      "text/plain": [
       "<IPython.core.display.Javascript object>"
      ]
     },
     "metadata": {},
     "output_type": "display_data"
    },
    {
     "data": {
      "application/javascript": [
       "\n",
       "            setTimeout(function() {\n",
       "                var nbb_cell_id = 100;\n",
       "                var nbb_unformatted_code = \"mice_df = pd.DataFrame(mice, columns=[\\\"Mice\\\"])\";\n",
       "                var nbb_formatted_code = \"mice_df = pd.DataFrame(mice, columns=[\\\"Mice\\\"])\";\n",
       "                var nbb_cells = Jupyter.notebook.get_cells();\n",
       "                for (var i = 0; i < nbb_cells.length; ++i) {\n",
       "                    if (nbb_cells[i].input_prompt_number == nbb_cell_id) {\n",
       "                        if (nbb_cells[i].get_text() == nbb_unformatted_code) {\n",
       "                             nbb_cells[i].set_text(nbb_formatted_code);\n",
       "                        }\n",
       "                        break;\n",
       "                    }\n",
       "                }\n",
       "            }, 500);\n",
       "            "
      ],
      "text/plain": [
       "<IPython.core.display.Javascript object>"
      ]
     },
     "metadata": {},
     "output_type": "display_data"
    },
    {
     "data": {
      "application/javascript": [
       "\n",
       "            setTimeout(function() {\n",
       "                var nbb_cell_id = 100;\n",
       "                var nbb_unformatted_code = \"mice_df = pd.DataFrame(mice, columns=[\\\"Mice\\\"])\";\n",
       "                var nbb_formatted_code = \"mice_df = pd.DataFrame(mice, columns=[\\\"Mice\\\"])\";\n",
       "                var nbb_cells = Jupyter.notebook.get_cells();\n",
       "                for (var i = 0; i < nbb_cells.length; ++i) {\n",
       "                    if (nbb_cells[i].input_prompt_number == nbb_cell_id) {\n",
       "                        if (nbb_cells[i].get_text() == nbb_unformatted_code) {\n",
       "                             nbb_cells[i].set_text(nbb_formatted_code);\n",
       "                        }\n",
       "                        break;\n",
       "                    }\n",
       "                }\n",
       "            }, 500);\n",
       "            "
      ],
      "text/plain": [
       "<IPython.core.display.Javascript object>"
      ]
     },
     "metadata": {},
     "output_type": "display_data"
    },
    {
     "data": {
      "application/javascript": [
       "\n",
       "            setTimeout(function() {\n",
       "                var nbb_cell_id = 100;\n",
       "                var nbb_unformatted_code = \"mice_df = pd.DataFrame(mice, columns=[\\\"Mice\\\"])\";\n",
       "                var nbb_formatted_code = \"mice_df = pd.DataFrame(mice, columns=[\\\"Mice\\\"])\";\n",
       "                var nbb_cells = Jupyter.notebook.get_cells();\n",
       "                for (var i = 0; i < nbb_cells.length; ++i) {\n",
       "                    if (nbb_cells[i].input_prompt_number == nbb_cell_id) {\n",
       "                        if (nbb_cells[i].get_text() == nbb_unformatted_code) {\n",
       "                             nbb_cells[i].set_text(nbb_formatted_code);\n",
       "                        }\n",
       "                        break;\n",
       "                    }\n",
       "                }\n",
       "            }, 500);\n",
       "            "
      ],
      "text/plain": [
       "<IPython.core.display.Javascript object>"
      ]
     },
     "metadata": {},
     "output_type": "display_data"
    },
    {
     "data": {
      "application/javascript": [
       "\n",
       "            setTimeout(function() {\n",
       "                var nbb_cell_id = 100;\n",
       "                var nbb_unformatted_code = \"mice_df = pd.DataFrame(mice, columns=[\\\"Mice\\\"])\";\n",
       "                var nbb_formatted_code = \"mice_df = pd.DataFrame(mice, columns=[\\\"Mice\\\"])\";\n",
       "                var nbb_cells = Jupyter.notebook.get_cells();\n",
       "                for (var i = 0; i < nbb_cells.length; ++i) {\n",
       "                    if (nbb_cells[i].input_prompt_number == nbb_cell_id) {\n",
       "                        if (nbb_cells[i].get_text() == nbb_unformatted_code) {\n",
       "                             nbb_cells[i].set_text(nbb_formatted_code);\n",
       "                        }\n",
       "                        break;\n",
       "                    }\n",
       "                }\n",
       "            }, 500);\n",
       "            "
      ],
      "text/plain": [
       "<IPython.core.display.Javascript object>"
      ]
     },
     "metadata": {},
     "output_type": "display_data"
    }
   ],
   "source": [
    "mice_df = pd.DataFrame(mice, columns=[\"Mice\"])"
   ]
  },
  {
   "cell_type": "code",
   "execution_count": 101,
   "metadata": {},
   "outputs": [
    {
     "data": {
      "application/javascript": [
       "\n",
       "            setTimeout(function() {\n",
       "                var nbb_cell_id = 101;\n",
       "                var nbb_unformatted_code = \"def get_video_data(mice: str):\\n    video_file_path = f\\\"{path_to_videos}/{mice}.mp4\\\"\\n\\n    if not os.path.isfile(video_file_path):\\n        raise FileNotFoundError(f\\\"{mice}.mp4 does not exist!\\\")\\n\\n    videoCaptureInstance = cv2.VideoCapture(video_file_path)\\n    fps = videoCaptureInstance.get(cv2.CAP_PROP_FPS)\\n    frames = videoCaptureInstance.get(cv2.CAP_PROP_FRAME_COUNT)\\n    return pd.Series([fps, frames])\";\n",
       "                var nbb_formatted_code = \"def get_video_data(mice: str):\\n    video_file_path = f\\\"{path_to_videos}/{mice}.mp4\\\"\\n\\n    if not os.path.isfile(video_file_path):\\n        raise FileNotFoundError(f\\\"{mice}.mp4 does not exist!\\\")\\n\\n    videoCaptureInstance = cv2.VideoCapture(video_file_path)\\n    fps = videoCaptureInstance.get(cv2.CAP_PROP_FPS)\\n    frames = videoCaptureInstance.get(cv2.CAP_PROP_FRAME_COUNT)\\n    return pd.Series([fps, frames])\";\n",
       "                var nbb_cells = Jupyter.notebook.get_cells();\n",
       "                for (var i = 0; i < nbb_cells.length; ++i) {\n",
       "                    if (nbb_cells[i].input_prompt_number == nbb_cell_id) {\n",
       "                        if (nbb_cells[i].get_text() == nbb_unformatted_code) {\n",
       "                             nbb_cells[i].set_text(nbb_formatted_code);\n",
       "                        }\n",
       "                        break;\n",
       "                    }\n",
       "                }\n",
       "            }, 500);\n",
       "            "
      ],
      "text/plain": [
       "<IPython.core.display.Javascript object>"
      ]
     },
     "metadata": {},
     "output_type": "display_data"
    },
    {
     "data": {
      "application/javascript": [
       "\n",
       "            setTimeout(function() {\n",
       "                var nbb_cell_id = 101;\n",
       "                var nbb_unformatted_code = \"def get_video_data(mice: str):\\n    video_file_path = f\\\"{path_to_videos}/{mice}.mp4\\\"\\n\\n    if not os.path.isfile(video_file_path):\\n        raise FileNotFoundError(f\\\"{mice}.mp4 does not exist!\\\")\\n\\n    videoCaptureInstance = cv2.VideoCapture(video_file_path)\\n    fps = videoCaptureInstance.get(cv2.CAP_PROP_FPS)\\n    frames = videoCaptureInstance.get(cv2.CAP_PROP_FRAME_COUNT)\\n    return pd.Series([fps, frames])\";\n",
       "                var nbb_formatted_code = \"def get_video_data(mice: str):\\n    video_file_path = f\\\"{path_to_videos}/{mice}.mp4\\\"\\n\\n    if not os.path.isfile(video_file_path):\\n        raise FileNotFoundError(f\\\"{mice}.mp4 does not exist!\\\")\\n\\n    videoCaptureInstance = cv2.VideoCapture(video_file_path)\\n    fps = videoCaptureInstance.get(cv2.CAP_PROP_FPS)\\n    frames = videoCaptureInstance.get(cv2.CAP_PROP_FRAME_COUNT)\\n    return pd.Series([fps, frames])\";\n",
       "                var nbb_cells = Jupyter.notebook.get_cells();\n",
       "                for (var i = 0; i < nbb_cells.length; ++i) {\n",
       "                    if (nbb_cells[i].input_prompt_number == nbb_cell_id) {\n",
       "                        if (nbb_cells[i].get_text() == nbb_unformatted_code) {\n",
       "                             nbb_cells[i].set_text(nbb_formatted_code);\n",
       "                        }\n",
       "                        break;\n",
       "                    }\n",
       "                }\n",
       "            }, 500);\n",
       "            "
      ],
      "text/plain": [
       "<IPython.core.display.Javascript object>"
      ]
     },
     "metadata": {},
     "output_type": "display_data"
    },
    {
     "data": {
      "application/javascript": [
       "\n",
       "            setTimeout(function() {\n",
       "                var nbb_cell_id = 101;\n",
       "                var nbb_unformatted_code = \"def get_video_data(mice: str):\\n    video_file_path = f\\\"{path_to_videos}/{mice}.mp4\\\"\\n\\n    if not os.path.isfile(video_file_path):\\n        raise FileNotFoundError(f\\\"{mice}.mp4 does not exist!\\\")\\n\\n    videoCaptureInstance = cv2.VideoCapture(video_file_path)\\n    fps = videoCaptureInstance.get(cv2.CAP_PROP_FPS)\\n    frames = videoCaptureInstance.get(cv2.CAP_PROP_FRAME_COUNT)\\n    return pd.Series([fps, frames])\";\n",
       "                var nbb_formatted_code = \"def get_video_data(mice: str):\\n    video_file_path = f\\\"{path_to_videos}/{mice}.mp4\\\"\\n\\n    if not os.path.isfile(video_file_path):\\n        raise FileNotFoundError(f\\\"{mice}.mp4 does not exist!\\\")\\n\\n    videoCaptureInstance = cv2.VideoCapture(video_file_path)\\n    fps = videoCaptureInstance.get(cv2.CAP_PROP_FPS)\\n    frames = videoCaptureInstance.get(cv2.CAP_PROP_FRAME_COUNT)\\n    return pd.Series([fps, frames])\";\n",
       "                var nbb_cells = Jupyter.notebook.get_cells();\n",
       "                for (var i = 0; i < nbb_cells.length; ++i) {\n",
       "                    if (nbb_cells[i].input_prompt_number == nbb_cell_id) {\n",
       "                        if (nbb_cells[i].get_text() == nbb_unformatted_code) {\n",
       "                             nbb_cells[i].set_text(nbb_formatted_code);\n",
       "                        }\n",
       "                        break;\n",
       "                    }\n",
       "                }\n",
       "            }, 500);\n",
       "            "
      ],
      "text/plain": [
       "<IPython.core.display.Javascript object>"
      ]
     },
     "metadata": {},
     "output_type": "display_data"
    },
    {
     "data": {
      "application/javascript": [
       "\n",
       "            setTimeout(function() {\n",
       "                var nbb_cell_id = 101;\n",
       "                var nbb_unformatted_code = \"def get_video_data(mice: str):\\n    video_file_path = f\\\"{path_to_videos}/{mice}.mp4\\\"\\n\\n    if not os.path.isfile(video_file_path):\\n        raise FileNotFoundError(f\\\"{mice}.mp4 does not exist!\\\")\\n\\n    videoCaptureInstance = cv2.VideoCapture(video_file_path)\\n    fps = videoCaptureInstance.get(cv2.CAP_PROP_FPS)\\n    frames = videoCaptureInstance.get(cv2.CAP_PROP_FRAME_COUNT)\\n    return pd.Series([fps, frames])\";\n",
       "                var nbb_formatted_code = \"def get_video_data(mice: str):\\n    video_file_path = f\\\"{path_to_videos}/{mice}.mp4\\\"\\n\\n    if not os.path.isfile(video_file_path):\\n        raise FileNotFoundError(f\\\"{mice}.mp4 does not exist!\\\")\\n\\n    videoCaptureInstance = cv2.VideoCapture(video_file_path)\\n    fps = videoCaptureInstance.get(cv2.CAP_PROP_FPS)\\n    frames = videoCaptureInstance.get(cv2.CAP_PROP_FRAME_COUNT)\\n    return pd.Series([fps, frames])\";\n",
       "                var nbb_cells = Jupyter.notebook.get_cells();\n",
       "                for (var i = 0; i < nbb_cells.length; ++i) {\n",
       "                    if (nbb_cells[i].input_prompt_number == nbb_cell_id) {\n",
       "                        if (nbb_cells[i].get_text() == nbb_unformatted_code) {\n",
       "                             nbb_cells[i].set_text(nbb_formatted_code);\n",
       "                        }\n",
       "                        break;\n",
       "                    }\n",
       "                }\n",
       "            }, 500);\n",
       "            "
      ],
      "text/plain": [
       "<IPython.core.display.Javascript object>"
      ]
     },
     "metadata": {},
     "output_type": "display_data"
    },
    {
     "data": {
      "application/javascript": [
       "\n",
       "            setTimeout(function() {\n",
       "                var nbb_cell_id = 101;\n",
       "                var nbb_unformatted_code = \"def get_video_data(mice: str):\\n    video_file_path = f\\\"{path_to_videos}/{mice}.mp4\\\"\\n\\n    if not os.path.isfile(video_file_path):\\n        raise FileNotFoundError(f\\\"{mice}.mp4 does not exist!\\\")\\n\\n    videoCaptureInstance = cv2.VideoCapture(video_file_path)\\n    fps = videoCaptureInstance.get(cv2.CAP_PROP_FPS)\\n    frames = videoCaptureInstance.get(cv2.CAP_PROP_FRAME_COUNT)\\n    return pd.Series([fps, frames])\";\n",
       "                var nbb_formatted_code = \"def get_video_data(mice: str):\\n    video_file_path = f\\\"{path_to_videos}/{mice}.mp4\\\"\\n\\n    if not os.path.isfile(video_file_path):\\n        raise FileNotFoundError(f\\\"{mice}.mp4 does not exist!\\\")\\n\\n    videoCaptureInstance = cv2.VideoCapture(video_file_path)\\n    fps = videoCaptureInstance.get(cv2.CAP_PROP_FPS)\\n    frames = videoCaptureInstance.get(cv2.CAP_PROP_FRAME_COUNT)\\n    return pd.Series([fps, frames])\";\n",
       "                var nbb_cells = Jupyter.notebook.get_cells();\n",
       "                for (var i = 0; i < nbb_cells.length; ++i) {\n",
       "                    if (nbb_cells[i].input_prompt_number == nbb_cell_id) {\n",
       "                        if (nbb_cells[i].get_text() == nbb_unformatted_code) {\n",
       "                             nbb_cells[i].set_text(nbb_formatted_code);\n",
       "                        }\n",
       "                        break;\n",
       "                    }\n",
       "                }\n",
       "            }, 500);\n",
       "            "
      ],
      "text/plain": [
       "<IPython.core.display.Javascript object>"
      ]
     },
     "metadata": {},
     "output_type": "display_data"
    },
    {
     "data": {
      "application/javascript": [
       "\n",
       "            setTimeout(function() {\n",
       "                var nbb_cell_id = 101;\n",
       "                var nbb_unformatted_code = \"def get_video_data(mice: str):\\n    video_file_path = f\\\"{path_to_videos}/{mice}.mp4\\\"\\n\\n    if not os.path.isfile(video_file_path):\\n        raise FileNotFoundError(f\\\"{mice}.mp4 does not exist!\\\")\\n\\n    videoCaptureInstance = cv2.VideoCapture(video_file_path)\\n    fps = videoCaptureInstance.get(cv2.CAP_PROP_FPS)\\n    frames = videoCaptureInstance.get(cv2.CAP_PROP_FRAME_COUNT)\\n    return pd.Series([fps, frames])\";\n",
       "                var nbb_formatted_code = \"def get_video_data(mice: str):\\n    video_file_path = f\\\"{path_to_videos}/{mice}.mp4\\\"\\n\\n    if not os.path.isfile(video_file_path):\\n        raise FileNotFoundError(f\\\"{mice}.mp4 does not exist!\\\")\\n\\n    videoCaptureInstance = cv2.VideoCapture(video_file_path)\\n    fps = videoCaptureInstance.get(cv2.CAP_PROP_FPS)\\n    frames = videoCaptureInstance.get(cv2.CAP_PROP_FRAME_COUNT)\\n    return pd.Series([fps, frames])\";\n",
       "                var nbb_cells = Jupyter.notebook.get_cells();\n",
       "                for (var i = 0; i < nbb_cells.length; ++i) {\n",
       "                    if (nbb_cells[i].input_prompt_number == nbb_cell_id) {\n",
       "                        if (nbb_cells[i].get_text() == nbb_unformatted_code) {\n",
       "                             nbb_cells[i].set_text(nbb_formatted_code);\n",
       "                        }\n",
       "                        break;\n",
       "                    }\n",
       "                }\n",
       "            }, 500);\n",
       "            "
      ],
      "text/plain": [
       "<IPython.core.display.Javascript object>"
      ]
     },
     "metadata": {},
     "output_type": "display_data"
    },
    {
     "data": {
      "application/javascript": [
       "\n",
       "            setTimeout(function() {\n",
       "                var nbb_cell_id = 101;\n",
       "                var nbb_unformatted_code = \"def get_video_data(mice: str):\\n    video_file_path = f\\\"{path_to_videos}/{mice}.mp4\\\"\\n\\n    if not os.path.isfile(video_file_path):\\n        raise FileNotFoundError(f\\\"{mice}.mp4 does not exist!\\\")\\n\\n    videoCaptureInstance = cv2.VideoCapture(video_file_path)\\n    fps = videoCaptureInstance.get(cv2.CAP_PROP_FPS)\\n    frames = videoCaptureInstance.get(cv2.CAP_PROP_FRAME_COUNT)\\n    return pd.Series([fps, frames])\";\n",
       "                var nbb_formatted_code = \"def get_video_data(mice: str):\\n    video_file_path = f\\\"{path_to_videos}/{mice}.mp4\\\"\\n\\n    if not os.path.isfile(video_file_path):\\n        raise FileNotFoundError(f\\\"{mice}.mp4 does not exist!\\\")\\n\\n    videoCaptureInstance = cv2.VideoCapture(video_file_path)\\n    fps = videoCaptureInstance.get(cv2.CAP_PROP_FPS)\\n    frames = videoCaptureInstance.get(cv2.CAP_PROP_FRAME_COUNT)\\n    return pd.Series([fps, frames])\";\n",
       "                var nbb_cells = Jupyter.notebook.get_cells();\n",
       "                for (var i = 0; i < nbb_cells.length; ++i) {\n",
       "                    if (nbb_cells[i].input_prompt_number == nbb_cell_id) {\n",
       "                        if (nbb_cells[i].get_text() == nbb_unformatted_code) {\n",
       "                             nbb_cells[i].set_text(nbb_formatted_code);\n",
       "                        }\n",
       "                        break;\n",
       "                    }\n",
       "                }\n",
       "            }, 500);\n",
       "            "
      ],
      "text/plain": [
       "<IPython.core.display.Javascript object>"
      ]
     },
     "metadata": {},
     "output_type": "display_data"
    },
    {
     "data": {
      "application/javascript": [
       "\n",
       "            setTimeout(function() {\n",
       "                var nbb_cell_id = 101;\n",
       "                var nbb_unformatted_code = \"def get_video_data(mice: str):\\n    video_file_path = f\\\"{path_to_videos}/{mice}.mp4\\\"\\n\\n    if not os.path.isfile(video_file_path):\\n        raise FileNotFoundError(f\\\"{mice}.mp4 does not exist!\\\")\\n\\n    videoCaptureInstance = cv2.VideoCapture(video_file_path)\\n    fps = videoCaptureInstance.get(cv2.CAP_PROP_FPS)\\n    frames = videoCaptureInstance.get(cv2.CAP_PROP_FRAME_COUNT)\\n    return pd.Series([fps, frames])\";\n",
       "                var nbb_formatted_code = \"def get_video_data(mice: str):\\n    video_file_path = f\\\"{path_to_videos}/{mice}.mp4\\\"\\n\\n    if not os.path.isfile(video_file_path):\\n        raise FileNotFoundError(f\\\"{mice}.mp4 does not exist!\\\")\\n\\n    videoCaptureInstance = cv2.VideoCapture(video_file_path)\\n    fps = videoCaptureInstance.get(cv2.CAP_PROP_FPS)\\n    frames = videoCaptureInstance.get(cv2.CAP_PROP_FRAME_COUNT)\\n    return pd.Series([fps, frames])\";\n",
       "                var nbb_cells = Jupyter.notebook.get_cells();\n",
       "                for (var i = 0; i < nbb_cells.length; ++i) {\n",
       "                    if (nbb_cells[i].input_prompt_number == nbb_cell_id) {\n",
       "                        if (nbb_cells[i].get_text() == nbb_unformatted_code) {\n",
       "                             nbb_cells[i].set_text(nbb_formatted_code);\n",
       "                        }\n",
       "                        break;\n",
       "                    }\n",
       "                }\n",
       "            }, 500);\n",
       "            "
      ],
      "text/plain": [
       "<IPython.core.display.Javascript object>"
      ]
     },
     "metadata": {},
     "output_type": "display_data"
    }
   ],
   "source": [
    "def get_video_data(mice: str):\n",
    "    video_file_path = f\"{path_to_videos}/{mice}.mp4\"\n",
    "\n",
    "    if not os.path.isfile(video_file_path):\n",
    "        raise FileNotFoundError(f\"{mice}.mp4 does not exist!\")\n",
    "\n",
    "    videoCaptureInstance = cv2.VideoCapture(video_file_path)\n",
    "    fps = videoCaptureInstance.get(cv2.CAP_PROP_FPS)\n",
    "    frames = videoCaptureInstance.get(cv2.CAP_PROP_FRAME_COUNT)\n",
    "    return pd.Series([fps, frames])"
   ]
  },
  {
   "cell_type": "code",
   "execution_count": 102,
   "metadata": {},
   "outputs": [
    {
     "data": {
      "text/html": [
       "<div>\n",
       "<style scoped>\n",
       "    .dataframe tbody tr th:only-of-type {\n",
       "        vertical-align: middle;\n",
       "    }\n",
       "\n",
       "    .dataframe tbody tr th {\n",
       "        vertical-align: top;\n",
       "    }\n",
       "\n",
       "    .dataframe thead th {\n",
       "        text-align: right;\n",
       "    }\n",
       "</style>\n",
       "<table border=\"1\" class=\"dataframe\">\n",
       "  <thead>\n",
       "    <tr style=\"text-align: right;\">\n",
       "      <th></th>\n",
       "      <th>Mice</th>\n",
       "      <th>video_fps</th>\n",
       "      <th>total_video_frames</th>\n",
       "    </tr>\n",
       "  </thead>\n",
       "  <tbody>\n",
       "    <tr>\n",
       "      <th>0</th>\n",
       "      <td>PrL-2</td>\n",
       "      <td>30.00003</td>\n",
       "      <td>83713.0</td>\n",
       "    </tr>\n",
       "    <tr>\n",
       "      <th>1</th>\n",
       "      <td>PrL-3</td>\n",
       "      <td>30.00003</td>\n",
       "      <td>40655.0</td>\n",
       "    </tr>\n",
       "    <tr>\n",
       "      <th>2</th>\n",
       "      <td>PrL-4</td>\n",
       "      <td>30.00003</td>\n",
       "      <td>48634.0</td>\n",
       "    </tr>\n",
       "    <tr>\n",
       "      <th>3</th>\n",
       "      <td>PrL-5</td>\n",
       "      <td>30.00003</td>\n",
       "      <td>46981.0</td>\n",
       "    </tr>\n",
       "    <tr>\n",
       "      <th>4</th>\n",
       "      <td>PrL-8</td>\n",
       "      <td>30.00003</td>\n",
       "      <td>48489.0</td>\n",
       "    </tr>\n",
       "  </tbody>\n",
       "</table>\n",
       "</div>"
      ],
      "text/plain": [
       "    Mice  video_fps  total_video_frames\n",
       "0  PrL-2   30.00003             83713.0\n",
       "1  PrL-3   30.00003             40655.0\n",
       "2  PrL-4   30.00003             48634.0\n",
       "3  PrL-5   30.00003             46981.0\n",
       "4  PrL-8   30.00003             48489.0"
      ]
     },
     "execution_count": 102,
     "metadata": {},
     "output_type": "execute_result"
    },
    {
     "data": {
      "application/javascript": [
       "\n",
       "            setTimeout(function() {\n",
       "                var nbb_cell_id = 102;\n",
       "                var nbb_unformatted_code = \"mice_df[[\\\"video_fps\\\", \\\"total_video_frames\\\"]] = mice_df[\\\"Mice\\\"].apply(\\n    lambda mice: get_video_data(mice)\\n)\\nmice_df.head()\";\n",
       "                var nbb_formatted_code = \"mice_df[[\\\"video_fps\\\", \\\"total_video_frames\\\"]] = mice_df[\\\"Mice\\\"].apply(\\n    lambda mice: get_video_data(mice)\\n)\\nmice_df.head()\";\n",
       "                var nbb_cells = Jupyter.notebook.get_cells();\n",
       "                for (var i = 0; i < nbb_cells.length; ++i) {\n",
       "                    if (nbb_cells[i].input_prompt_number == nbb_cell_id) {\n",
       "                        if (nbb_cells[i].get_text() == nbb_unformatted_code) {\n",
       "                             nbb_cells[i].set_text(nbb_formatted_code);\n",
       "                        }\n",
       "                        break;\n",
       "                    }\n",
       "                }\n",
       "            }, 500);\n",
       "            "
      ],
      "text/plain": [
       "<IPython.core.display.Javascript object>"
      ]
     },
     "metadata": {},
     "output_type": "display_data"
    },
    {
     "data": {
      "application/javascript": [
       "\n",
       "            setTimeout(function() {\n",
       "                var nbb_cell_id = 102;\n",
       "                var nbb_unformatted_code = \"mice_df[[\\\"video_fps\\\", \\\"total_video_frames\\\"]] = mice_df[\\\"Mice\\\"].apply(\\n    lambda mice: get_video_data(mice)\\n)\\nmice_df.head()\";\n",
       "                var nbb_formatted_code = \"mice_df[[\\\"video_fps\\\", \\\"total_video_frames\\\"]] = mice_df[\\\"Mice\\\"].apply(\\n    lambda mice: get_video_data(mice)\\n)\\nmice_df.head()\";\n",
       "                var nbb_cells = Jupyter.notebook.get_cells();\n",
       "                for (var i = 0; i < nbb_cells.length; ++i) {\n",
       "                    if (nbb_cells[i].input_prompt_number == nbb_cell_id) {\n",
       "                        if (nbb_cells[i].get_text() == nbb_unformatted_code) {\n",
       "                             nbb_cells[i].set_text(nbb_formatted_code);\n",
       "                        }\n",
       "                        break;\n",
       "                    }\n",
       "                }\n",
       "            }, 500);\n",
       "            "
      ],
      "text/plain": [
       "<IPython.core.display.Javascript object>"
      ]
     },
     "metadata": {},
     "output_type": "display_data"
    },
    {
     "data": {
      "application/javascript": [
       "\n",
       "            setTimeout(function() {\n",
       "                var nbb_cell_id = 102;\n",
       "                var nbb_unformatted_code = \"mice_df[[\\\"video_fps\\\", \\\"total_video_frames\\\"]] = mice_df[\\\"Mice\\\"].apply(\\n    lambda mice: get_video_data(mice)\\n)\\nmice_df.head()\";\n",
       "                var nbb_formatted_code = \"mice_df[[\\\"video_fps\\\", \\\"total_video_frames\\\"]] = mice_df[\\\"Mice\\\"].apply(\\n    lambda mice: get_video_data(mice)\\n)\\nmice_df.head()\";\n",
       "                var nbb_cells = Jupyter.notebook.get_cells();\n",
       "                for (var i = 0; i < nbb_cells.length; ++i) {\n",
       "                    if (nbb_cells[i].input_prompt_number == nbb_cell_id) {\n",
       "                        if (nbb_cells[i].get_text() == nbb_unformatted_code) {\n",
       "                             nbb_cells[i].set_text(nbb_formatted_code);\n",
       "                        }\n",
       "                        break;\n",
       "                    }\n",
       "                }\n",
       "            }, 500);\n",
       "            "
      ],
      "text/plain": [
       "<IPython.core.display.Javascript object>"
      ]
     },
     "metadata": {},
     "output_type": "display_data"
    },
    {
     "data": {
      "application/javascript": [
       "\n",
       "            setTimeout(function() {\n",
       "                var nbb_cell_id = 102;\n",
       "                var nbb_unformatted_code = \"mice_df[[\\\"video_fps\\\", \\\"total_video_frames\\\"]] = mice_df[\\\"Mice\\\"].apply(\\n    lambda mice: get_video_data(mice)\\n)\\nmice_df.head()\";\n",
       "                var nbb_formatted_code = \"mice_df[[\\\"video_fps\\\", \\\"total_video_frames\\\"]] = mice_df[\\\"Mice\\\"].apply(\\n    lambda mice: get_video_data(mice)\\n)\\nmice_df.head()\";\n",
       "                var nbb_cells = Jupyter.notebook.get_cells();\n",
       "                for (var i = 0; i < nbb_cells.length; ++i) {\n",
       "                    if (nbb_cells[i].input_prompt_number == nbb_cell_id) {\n",
       "                        if (nbb_cells[i].get_text() == nbb_unformatted_code) {\n",
       "                             nbb_cells[i].set_text(nbb_formatted_code);\n",
       "                        }\n",
       "                        break;\n",
       "                    }\n",
       "                }\n",
       "            }, 500);\n",
       "            "
      ],
      "text/plain": [
       "<IPython.core.display.Javascript object>"
      ]
     },
     "metadata": {},
     "output_type": "display_data"
    },
    {
     "data": {
      "application/javascript": [
       "\n",
       "            setTimeout(function() {\n",
       "                var nbb_cell_id = 102;\n",
       "                var nbb_unformatted_code = \"mice_df[[\\\"video_fps\\\", \\\"total_video_frames\\\"]] = mice_df[\\\"Mice\\\"].apply(\\n    lambda mice: get_video_data(mice)\\n)\\nmice_df.head()\";\n",
       "                var nbb_formatted_code = \"mice_df[[\\\"video_fps\\\", \\\"total_video_frames\\\"]] = mice_df[\\\"Mice\\\"].apply(\\n    lambda mice: get_video_data(mice)\\n)\\nmice_df.head()\";\n",
       "                var nbb_cells = Jupyter.notebook.get_cells();\n",
       "                for (var i = 0; i < nbb_cells.length; ++i) {\n",
       "                    if (nbb_cells[i].input_prompt_number == nbb_cell_id) {\n",
       "                        if (nbb_cells[i].get_text() == nbb_unformatted_code) {\n",
       "                             nbb_cells[i].set_text(nbb_formatted_code);\n",
       "                        }\n",
       "                        break;\n",
       "                    }\n",
       "                }\n",
       "            }, 500);\n",
       "            "
      ],
      "text/plain": [
       "<IPython.core.display.Javascript object>"
      ]
     },
     "metadata": {},
     "output_type": "display_data"
    },
    {
     "data": {
      "application/javascript": [
       "\n",
       "            setTimeout(function() {\n",
       "                var nbb_cell_id = 102;\n",
       "                var nbb_unformatted_code = \"mice_df[[\\\"video_fps\\\", \\\"total_video_frames\\\"]] = mice_df[\\\"Mice\\\"].apply(\\n    lambda mice: get_video_data(mice)\\n)\\nmice_df.head()\";\n",
       "                var nbb_formatted_code = \"mice_df[[\\\"video_fps\\\", \\\"total_video_frames\\\"]] = mice_df[\\\"Mice\\\"].apply(\\n    lambda mice: get_video_data(mice)\\n)\\nmice_df.head()\";\n",
       "                var nbb_cells = Jupyter.notebook.get_cells();\n",
       "                for (var i = 0; i < nbb_cells.length; ++i) {\n",
       "                    if (nbb_cells[i].input_prompt_number == nbb_cell_id) {\n",
       "                        if (nbb_cells[i].get_text() == nbb_unformatted_code) {\n",
       "                             nbb_cells[i].set_text(nbb_formatted_code);\n",
       "                        }\n",
       "                        break;\n",
       "                    }\n",
       "                }\n",
       "            }, 500);\n",
       "            "
      ],
      "text/plain": [
       "<IPython.core.display.Javascript object>"
      ]
     },
     "metadata": {},
     "output_type": "display_data"
    },
    {
     "data": {
      "application/javascript": [
       "\n",
       "            setTimeout(function() {\n",
       "                var nbb_cell_id = 102;\n",
       "                var nbb_unformatted_code = \"mice_df[[\\\"video_fps\\\", \\\"total_video_frames\\\"]] = mice_df[\\\"Mice\\\"].apply(\\n    lambda mice: get_video_data(mice)\\n)\\nmice_df.head()\";\n",
       "                var nbb_formatted_code = \"mice_df[[\\\"video_fps\\\", \\\"total_video_frames\\\"]] = mice_df[\\\"Mice\\\"].apply(\\n    lambda mice: get_video_data(mice)\\n)\\nmice_df.head()\";\n",
       "                var nbb_cells = Jupyter.notebook.get_cells();\n",
       "                for (var i = 0; i < nbb_cells.length; ++i) {\n",
       "                    if (nbb_cells[i].input_prompt_number == nbb_cell_id) {\n",
       "                        if (nbb_cells[i].get_text() == nbb_unformatted_code) {\n",
       "                             nbb_cells[i].set_text(nbb_formatted_code);\n",
       "                        }\n",
       "                        break;\n",
       "                    }\n",
       "                }\n",
       "            }, 500);\n",
       "            "
      ],
      "text/plain": [
       "<IPython.core.display.Javascript object>"
      ]
     },
     "metadata": {},
     "output_type": "display_data"
    },
    {
     "data": {
      "application/javascript": [
       "\n",
       "            setTimeout(function() {\n",
       "                var nbb_cell_id = 102;\n",
       "                var nbb_unformatted_code = \"mice_df[[\\\"video_fps\\\", \\\"total_video_frames\\\"]] = mice_df[\\\"Mice\\\"].apply(\\n    lambda mice: get_video_data(mice)\\n)\\nmice_df.head()\";\n",
       "                var nbb_formatted_code = \"mice_df[[\\\"video_fps\\\", \\\"total_video_frames\\\"]] = mice_df[\\\"Mice\\\"].apply(\\n    lambda mice: get_video_data(mice)\\n)\\nmice_df.head()\";\n",
       "                var nbb_cells = Jupyter.notebook.get_cells();\n",
       "                for (var i = 0; i < nbb_cells.length; ++i) {\n",
       "                    if (nbb_cells[i].input_prompt_number == nbb_cell_id) {\n",
       "                        if (nbb_cells[i].get_text() == nbb_unformatted_code) {\n",
       "                             nbb_cells[i].set_text(nbb_formatted_code);\n",
       "                        }\n",
       "                        break;\n",
       "                    }\n",
       "                }\n",
       "            }, 500);\n",
       "            "
      ],
      "text/plain": [
       "<IPython.core.display.Javascript object>"
      ]
     },
     "metadata": {},
     "output_type": "display_data"
    }
   ],
   "source": [
    "mice_df[[\"video_fps\", \"total_video_frames\"]] = mice_df[\"Mice\"].apply(\n",
    "    lambda mice: get_video_data(mice)\n",
    ")\n",
    "mice_df.head()"
   ]
  },
  {
   "cell_type": "code",
   "execution_count": 103,
   "metadata": {},
   "outputs": [
    {
     "data": {
      "text/html": [
       "<div>\n",
       "<style scoped>\n",
       "    .dataframe tbody tr th:only-of-type {\n",
       "        vertical-align: middle;\n",
       "    }\n",
       "\n",
       "    .dataframe tbody tr th {\n",
       "        vertical-align: top;\n",
       "    }\n",
       "\n",
       "    .dataframe thead th {\n",
       "        text-align: right;\n",
       "    }\n",
       "</style>\n",
       "<table border=\"1\" class=\"dataframe\">\n",
       "  <thead>\n",
       "    <tr style=\"text-align: right;\">\n",
       "      <th></th>\n",
       "      <th>Mice</th>\n",
       "      <th>video_fps</th>\n",
       "      <th>total_video_frames</th>\n",
       "    </tr>\n",
       "  </thead>\n",
       "  <tbody>\n",
       "    <tr>\n",
       "      <th>2</th>\n",
       "      <td>PrL-4</td>\n",
       "      <td>30.00003</td>\n",
       "      <td>48634.0</td>\n",
       "    </tr>\n",
       "  </tbody>\n",
       "</table>\n",
       "</div>"
      ],
      "text/plain": [
       "    Mice  video_fps  total_video_frames\n",
       "2  PrL-4   30.00003             48634.0"
      ]
     },
     "execution_count": 103,
     "metadata": {},
     "output_type": "execute_result"
    },
    {
     "data": {
      "application/javascript": [
       "\n",
       "            setTimeout(function() {\n",
       "                var nbb_cell_id = 103;\n",
       "                var nbb_unformatted_code = \"mice_row = mice_df[mice_df.Mice == CURRENT_MICE]\\nmice_row\";\n",
       "                var nbb_formatted_code = \"mice_row = mice_df[mice_df.Mice == CURRENT_MICE]\\nmice_row\";\n",
       "                var nbb_cells = Jupyter.notebook.get_cells();\n",
       "                for (var i = 0; i < nbb_cells.length; ++i) {\n",
       "                    if (nbb_cells[i].input_prompt_number == nbb_cell_id) {\n",
       "                        if (nbb_cells[i].get_text() == nbb_unformatted_code) {\n",
       "                             nbb_cells[i].set_text(nbb_formatted_code);\n",
       "                        }\n",
       "                        break;\n",
       "                    }\n",
       "                }\n",
       "            }, 500);\n",
       "            "
      ],
      "text/plain": [
       "<IPython.core.display.Javascript object>"
      ]
     },
     "metadata": {},
     "output_type": "display_data"
    },
    {
     "data": {
      "application/javascript": [
       "\n",
       "            setTimeout(function() {\n",
       "                var nbb_cell_id = 103;\n",
       "                var nbb_unformatted_code = \"mice_row = mice_df[mice_df.Mice == CURRENT_MICE]\\nmice_row\";\n",
       "                var nbb_formatted_code = \"mice_row = mice_df[mice_df.Mice == CURRENT_MICE]\\nmice_row\";\n",
       "                var nbb_cells = Jupyter.notebook.get_cells();\n",
       "                for (var i = 0; i < nbb_cells.length; ++i) {\n",
       "                    if (nbb_cells[i].input_prompt_number == nbb_cell_id) {\n",
       "                        if (nbb_cells[i].get_text() == nbb_unformatted_code) {\n",
       "                             nbb_cells[i].set_text(nbb_formatted_code);\n",
       "                        }\n",
       "                        break;\n",
       "                    }\n",
       "                }\n",
       "            }, 500);\n",
       "            "
      ],
      "text/plain": [
       "<IPython.core.display.Javascript object>"
      ]
     },
     "metadata": {},
     "output_type": "display_data"
    },
    {
     "data": {
      "application/javascript": [
       "\n",
       "            setTimeout(function() {\n",
       "                var nbb_cell_id = 103;\n",
       "                var nbb_unformatted_code = \"mice_row = mice_df[mice_df.Mice == CURRENT_MICE]\\nmice_row\";\n",
       "                var nbb_formatted_code = \"mice_row = mice_df[mice_df.Mice == CURRENT_MICE]\\nmice_row\";\n",
       "                var nbb_cells = Jupyter.notebook.get_cells();\n",
       "                for (var i = 0; i < nbb_cells.length; ++i) {\n",
       "                    if (nbb_cells[i].input_prompt_number == nbb_cell_id) {\n",
       "                        if (nbb_cells[i].get_text() == nbb_unformatted_code) {\n",
       "                             nbb_cells[i].set_text(nbb_formatted_code);\n",
       "                        }\n",
       "                        break;\n",
       "                    }\n",
       "                }\n",
       "            }, 500);\n",
       "            "
      ],
      "text/plain": [
       "<IPython.core.display.Javascript object>"
      ]
     },
     "metadata": {},
     "output_type": "display_data"
    },
    {
     "data": {
      "application/javascript": [
       "\n",
       "            setTimeout(function() {\n",
       "                var nbb_cell_id = 103;\n",
       "                var nbb_unformatted_code = \"mice_row = mice_df[mice_df.Mice == CURRENT_MICE]\\nmice_row\";\n",
       "                var nbb_formatted_code = \"mice_row = mice_df[mice_df.Mice == CURRENT_MICE]\\nmice_row\";\n",
       "                var nbb_cells = Jupyter.notebook.get_cells();\n",
       "                for (var i = 0; i < nbb_cells.length; ++i) {\n",
       "                    if (nbb_cells[i].input_prompt_number == nbb_cell_id) {\n",
       "                        if (nbb_cells[i].get_text() == nbb_unformatted_code) {\n",
       "                             nbb_cells[i].set_text(nbb_formatted_code);\n",
       "                        }\n",
       "                        break;\n",
       "                    }\n",
       "                }\n",
       "            }, 500);\n",
       "            "
      ],
      "text/plain": [
       "<IPython.core.display.Javascript object>"
      ]
     },
     "metadata": {},
     "output_type": "display_data"
    },
    {
     "data": {
      "application/javascript": [
       "\n",
       "            setTimeout(function() {\n",
       "                var nbb_cell_id = 103;\n",
       "                var nbb_unformatted_code = \"mice_row = mice_df[mice_df.Mice == CURRENT_MICE]\\nmice_row\";\n",
       "                var nbb_formatted_code = \"mice_row = mice_df[mice_df.Mice == CURRENT_MICE]\\nmice_row\";\n",
       "                var nbb_cells = Jupyter.notebook.get_cells();\n",
       "                for (var i = 0; i < nbb_cells.length; ++i) {\n",
       "                    if (nbb_cells[i].input_prompt_number == nbb_cell_id) {\n",
       "                        if (nbb_cells[i].get_text() == nbb_unformatted_code) {\n",
       "                             nbb_cells[i].set_text(nbb_formatted_code);\n",
       "                        }\n",
       "                        break;\n",
       "                    }\n",
       "                }\n",
       "            }, 500);\n",
       "            "
      ],
      "text/plain": [
       "<IPython.core.display.Javascript object>"
      ]
     },
     "metadata": {},
     "output_type": "display_data"
    },
    {
     "data": {
      "application/javascript": [
       "\n",
       "            setTimeout(function() {\n",
       "                var nbb_cell_id = 103;\n",
       "                var nbb_unformatted_code = \"mice_row = mice_df[mice_df.Mice == CURRENT_MICE]\\nmice_row\";\n",
       "                var nbb_formatted_code = \"mice_row = mice_df[mice_df.Mice == CURRENT_MICE]\\nmice_row\";\n",
       "                var nbb_cells = Jupyter.notebook.get_cells();\n",
       "                for (var i = 0; i < nbb_cells.length; ++i) {\n",
       "                    if (nbb_cells[i].input_prompt_number == nbb_cell_id) {\n",
       "                        if (nbb_cells[i].get_text() == nbb_unformatted_code) {\n",
       "                             nbb_cells[i].set_text(nbb_formatted_code);\n",
       "                        }\n",
       "                        break;\n",
       "                    }\n",
       "                }\n",
       "            }, 500);\n",
       "            "
      ],
      "text/plain": [
       "<IPython.core.display.Javascript object>"
      ]
     },
     "metadata": {},
     "output_type": "display_data"
    },
    {
     "data": {
      "application/javascript": [
       "\n",
       "            setTimeout(function() {\n",
       "                var nbb_cell_id = 103;\n",
       "                var nbb_unformatted_code = \"mice_row = mice_df[mice_df.Mice == CURRENT_MICE]\\nmice_row\";\n",
       "                var nbb_formatted_code = \"mice_row = mice_df[mice_df.Mice == CURRENT_MICE]\\nmice_row\";\n",
       "                var nbb_cells = Jupyter.notebook.get_cells();\n",
       "                for (var i = 0; i < nbb_cells.length; ++i) {\n",
       "                    if (nbb_cells[i].input_prompt_number == nbb_cell_id) {\n",
       "                        if (nbb_cells[i].get_text() == nbb_unformatted_code) {\n",
       "                             nbb_cells[i].set_text(nbb_formatted_code);\n",
       "                        }\n",
       "                        break;\n",
       "                    }\n",
       "                }\n",
       "            }, 500);\n",
       "            "
      ],
      "text/plain": [
       "<IPython.core.display.Javascript object>"
      ]
     },
     "metadata": {},
     "output_type": "display_data"
    },
    {
     "data": {
      "application/javascript": [
       "\n",
       "            setTimeout(function() {\n",
       "                var nbb_cell_id = 103;\n",
       "                var nbb_unformatted_code = \"mice_row = mice_df[mice_df.Mice == CURRENT_MICE]\\nmice_row\";\n",
       "                var nbb_formatted_code = \"mice_row = mice_df[mice_df.Mice == CURRENT_MICE]\\nmice_row\";\n",
       "                var nbb_cells = Jupyter.notebook.get_cells();\n",
       "                for (var i = 0; i < nbb_cells.length; ++i) {\n",
       "                    if (nbb_cells[i].input_prompt_number == nbb_cell_id) {\n",
       "                        if (nbb_cells[i].get_text() == nbb_unformatted_code) {\n",
       "                             nbb_cells[i].set_text(nbb_formatted_code);\n",
       "                        }\n",
       "                        break;\n",
       "                    }\n",
       "                }\n",
       "            }, 500);\n",
       "            "
      ],
      "text/plain": [
       "<IPython.core.display.Javascript object>"
      ]
     },
     "metadata": {},
     "output_type": "display_data"
    }
   ],
   "source": [
    "mice_row = mice_df[mice_df.Mice == CURRENT_MICE]\n",
    "mice_row"
   ]
  },
  {
   "cell_type": "code",
   "execution_count": 104,
   "metadata": {},
   "outputs": [
    {
     "data": {
      "application/javascript": [
       "\n",
       "            setTimeout(function() {\n",
       "                var nbb_cell_id = 104;\n",
       "                var nbb_unformatted_code = \"def create_images_from_video(start_seconds: int, end_seconds: int, class_label: str):\\n\\n    if class_label not in labels:\\n        raise ValueError(\\\"Enter a valid class label!\\\")\\n    if CURRENT_MICE not in mice:\\n        raise ValueError(\\\"Enter a valid mice!\\\")\\n\\n    if not os.path.isdir(f\\\"{path_to_data}/{class_label}\\\"):\\n        os.mkdir(f\\\"{path_to_data}/{class_label}\\\")\\n        print(f\\\"made directory... at {path_to_data}/{class_label}\\\")\\n\\n    frame_rate = math.floor(mice_row[\\\"video_fps\\\"].item())\\n\\n    video_file_path = f\\\"{path_to_videos}/{CURRENT_MICE}.mp4\\\"\\n    videoCaptureInstance = cv2.VideoCapture(video_file_path)\\n\\n    start_frame = start_seconds * frame_rate\\n    seconds = start_seconds\\n    try:\\n        while seconds != end_seconds:\\n            ret, frame = videoCaptureInstance.read()\\n            if not ret:\\n                raise BufferError(\\n                    \\\"Unexpected error occurred with reading image due to bad video file!\\\"\\n                )\\n                break\\n\\n            # Record frame every 1 second\\n            if start_frame % frame_rate == 0:\\n                filename = f\\\"{CURRENT_MICE}-{uuid.uuid4()}\\\"\\n                filepath = f\\\"{path_to_data}/{class_label}/{filename}.jpg\\\"\\n                cv2.imwrite(filepath, frame)\\n\\n                print(\\n                    f\\\"Saved image as {filename} at timestamp {utils.sec_to_time(seconds)}\\\"\\n                )\\n                seconds += 1\\n            client_key_press = cv2.waitKey(1) & 0xFF\\n\\n            # end video stream by escape key\\n            if client_key_press == 27:\\n                break\\n            start_frame += 1\\n\\n        videoCaptureInstance.release()\\n\\n        if platform.system() == \\\"Darwin\\\":\\n            cv2.waitKey(1)\\n\\n    except cv2.error:\\n        print(\\n            \\\"Unexpected error occurred with reading image and error code is\\\",\\n            cv2.error.code,\\n        )\";\n",
       "                var nbb_formatted_code = \"def create_images_from_video(start_seconds: int, end_seconds: int, class_label: str):\\n\\n    if class_label not in labels:\\n        raise ValueError(\\\"Enter a valid class label!\\\")\\n    if CURRENT_MICE not in mice:\\n        raise ValueError(\\\"Enter a valid mice!\\\")\\n\\n    if not os.path.isdir(f\\\"{path_to_data}/{class_label}\\\"):\\n        os.mkdir(f\\\"{path_to_data}/{class_label}\\\")\\n        print(f\\\"made directory... at {path_to_data}/{class_label}\\\")\\n\\n    frame_rate = math.floor(mice_row[\\\"video_fps\\\"].item())\\n\\n    video_file_path = f\\\"{path_to_videos}/{CURRENT_MICE}.mp4\\\"\\n    videoCaptureInstance = cv2.VideoCapture(video_file_path)\\n\\n    start_frame = start_seconds * frame_rate\\n    seconds = start_seconds\\n    try:\\n        while seconds != end_seconds:\\n            ret, frame = videoCaptureInstance.read()\\n            if not ret:\\n                raise BufferError(\\n                    \\\"Unexpected error occurred with reading image due to bad video file!\\\"\\n                )\\n                break\\n\\n            # Record frame every 1 second\\n            if start_frame % frame_rate == 0:\\n                filename = f\\\"{CURRENT_MICE}-{uuid.uuid4()}\\\"\\n                filepath = f\\\"{path_to_data}/{class_label}/{filename}.jpg\\\"\\n                cv2.imwrite(filepath, frame)\\n\\n                print(\\n                    f\\\"Saved image as {filename} at timestamp {utils.sec_to_time(seconds)}\\\"\\n                )\\n                seconds += 1\\n            client_key_press = cv2.waitKey(1) & 0xFF\\n\\n            # end video stream by escape key\\n            if client_key_press == 27:\\n                break\\n            start_frame += 1\\n\\n        videoCaptureInstance.release()\\n\\n        if platform.system() == \\\"Darwin\\\":\\n            cv2.waitKey(1)\\n\\n    except cv2.error:\\n        print(\\n            \\\"Unexpected error occurred with reading image and error code is\\\",\\n            cv2.error.code,\\n        )\";\n",
       "                var nbb_cells = Jupyter.notebook.get_cells();\n",
       "                for (var i = 0; i < nbb_cells.length; ++i) {\n",
       "                    if (nbb_cells[i].input_prompt_number == nbb_cell_id) {\n",
       "                        if (nbb_cells[i].get_text() == nbb_unformatted_code) {\n",
       "                             nbb_cells[i].set_text(nbb_formatted_code);\n",
       "                        }\n",
       "                        break;\n",
       "                    }\n",
       "                }\n",
       "            }, 500);\n",
       "            "
      ],
      "text/plain": [
       "<IPython.core.display.Javascript object>"
      ]
     },
     "metadata": {},
     "output_type": "display_data"
    },
    {
     "data": {
      "application/javascript": [
       "\n",
       "            setTimeout(function() {\n",
       "                var nbb_cell_id = 104;\n",
       "                var nbb_unformatted_code = \"def create_images_from_video(start_seconds: int, end_seconds: int, class_label: str):\\n\\n    if class_label not in labels:\\n        raise ValueError(\\\"Enter a valid class label!\\\")\\n    if CURRENT_MICE not in mice:\\n        raise ValueError(\\\"Enter a valid mice!\\\")\\n\\n    if not os.path.isdir(f\\\"{path_to_data}/{class_label}\\\"):\\n        os.mkdir(f\\\"{path_to_data}/{class_label}\\\")\\n        print(f\\\"made directory... at {path_to_data}/{class_label}\\\")\\n\\n    frame_rate = math.floor(mice_row[\\\"video_fps\\\"].item())\\n\\n    video_file_path = f\\\"{path_to_videos}/{CURRENT_MICE}.mp4\\\"\\n    videoCaptureInstance = cv2.VideoCapture(video_file_path)\\n\\n    start_frame = start_seconds * frame_rate\\n    seconds = start_seconds\\n    try:\\n        while seconds != end_seconds:\\n            ret, frame = videoCaptureInstance.read()\\n            if not ret:\\n                raise BufferError(\\n                    \\\"Unexpected error occurred with reading image due to bad video file!\\\"\\n                )\\n                break\\n\\n            # Record frame every 1 second\\n            if start_frame % frame_rate == 0:\\n                filename = f\\\"{CURRENT_MICE}-{uuid.uuid4()}\\\"\\n                filepath = f\\\"{path_to_data}/{class_label}/{filename}.jpg\\\"\\n                cv2.imwrite(filepath, frame)\\n\\n                print(\\n                    f\\\"Saved image as {filename} at timestamp {utils.sec_to_time(seconds)}\\\"\\n                )\\n                seconds += 1\\n            client_key_press = cv2.waitKey(1) & 0xFF\\n\\n            # end video stream by escape key\\n            if client_key_press == 27:\\n                break\\n            start_frame += 1\\n\\n        videoCaptureInstance.release()\\n\\n        if platform.system() == \\\"Darwin\\\":\\n            cv2.waitKey(1)\\n\\n    except cv2.error:\\n        print(\\n            \\\"Unexpected error occurred with reading image and error code is\\\",\\n            cv2.error.code,\\n        )\";\n",
       "                var nbb_formatted_code = \"def create_images_from_video(start_seconds: int, end_seconds: int, class_label: str):\\n\\n    if class_label not in labels:\\n        raise ValueError(\\\"Enter a valid class label!\\\")\\n    if CURRENT_MICE not in mice:\\n        raise ValueError(\\\"Enter a valid mice!\\\")\\n\\n    if not os.path.isdir(f\\\"{path_to_data}/{class_label}\\\"):\\n        os.mkdir(f\\\"{path_to_data}/{class_label}\\\")\\n        print(f\\\"made directory... at {path_to_data}/{class_label}\\\")\\n\\n    frame_rate = math.floor(mice_row[\\\"video_fps\\\"].item())\\n\\n    video_file_path = f\\\"{path_to_videos}/{CURRENT_MICE}.mp4\\\"\\n    videoCaptureInstance = cv2.VideoCapture(video_file_path)\\n\\n    start_frame = start_seconds * frame_rate\\n    seconds = start_seconds\\n    try:\\n        while seconds != end_seconds:\\n            ret, frame = videoCaptureInstance.read()\\n            if not ret:\\n                raise BufferError(\\n                    \\\"Unexpected error occurred with reading image due to bad video file!\\\"\\n                )\\n                break\\n\\n            # Record frame every 1 second\\n            if start_frame % frame_rate == 0:\\n                filename = f\\\"{CURRENT_MICE}-{uuid.uuid4()}\\\"\\n                filepath = f\\\"{path_to_data}/{class_label}/{filename}.jpg\\\"\\n                cv2.imwrite(filepath, frame)\\n\\n                print(\\n                    f\\\"Saved image as {filename} at timestamp {utils.sec_to_time(seconds)}\\\"\\n                )\\n                seconds += 1\\n            client_key_press = cv2.waitKey(1) & 0xFF\\n\\n            # end video stream by escape key\\n            if client_key_press == 27:\\n                break\\n            start_frame += 1\\n\\n        videoCaptureInstance.release()\\n\\n        if platform.system() == \\\"Darwin\\\":\\n            cv2.waitKey(1)\\n\\n    except cv2.error:\\n        print(\\n            \\\"Unexpected error occurred with reading image and error code is\\\",\\n            cv2.error.code,\\n        )\";\n",
       "                var nbb_cells = Jupyter.notebook.get_cells();\n",
       "                for (var i = 0; i < nbb_cells.length; ++i) {\n",
       "                    if (nbb_cells[i].input_prompt_number == nbb_cell_id) {\n",
       "                        if (nbb_cells[i].get_text() == nbb_unformatted_code) {\n",
       "                             nbb_cells[i].set_text(nbb_formatted_code);\n",
       "                        }\n",
       "                        break;\n",
       "                    }\n",
       "                }\n",
       "            }, 500);\n",
       "            "
      ],
      "text/plain": [
       "<IPython.core.display.Javascript object>"
      ]
     },
     "metadata": {},
     "output_type": "display_data"
    },
    {
     "data": {
      "application/javascript": [
       "\n",
       "            setTimeout(function() {\n",
       "                var nbb_cell_id = 104;\n",
       "                var nbb_unformatted_code = \"def create_images_from_video(start_seconds: int, end_seconds: int, class_label: str):\\n\\n    if class_label not in labels:\\n        raise ValueError(\\\"Enter a valid class label!\\\")\\n    if CURRENT_MICE not in mice:\\n        raise ValueError(\\\"Enter a valid mice!\\\")\\n\\n    if not os.path.isdir(f\\\"{path_to_data}/{class_label}\\\"):\\n        os.mkdir(f\\\"{path_to_data}/{class_label}\\\")\\n        print(f\\\"made directory... at {path_to_data}/{class_label}\\\")\\n\\n    frame_rate = math.floor(mice_row[\\\"video_fps\\\"].item())\\n\\n    video_file_path = f\\\"{path_to_videos}/{CURRENT_MICE}.mp4\\\"\\n    videoCaptureInstance = cv2.VideoCapture(video_file_path)\\n\\n    start_frame = start_seconds * frame_rate\\n    seconds = start_seconds\\n    try:\\n        while seconds != end_seconds:\\n            ret, frame = videoCaptureInstance.read()\\n            if not ret:\\n                raise BufferError(\\n                    \\\"Unexpected error occurred with reading image due to bad video file!\\\"\\n                )\\n                break\\n\\n            # Record frame every 1 second\\n            if start_frame % frame_rate == 0:\\n                filename = f\\\"{CURRENT_MICE}-{uuid.uuid4()}\\\"\\n                filepath = f\\\"{path_to_data}/{class_label}/{filename}.jpg\\\"\\n                cv2.imwrite(filepath, frame)\\n\\n                print(\\n                    f\\\"Saved image as {filename} at timestamp {utils.sec_to_time(seconds)}\\\"\\n                )\\n                seconds += 1\\n            client_key_press = cv2.waitKey(1) & 0xFF\\n\\n            # end video stream by escape key\\n            if client_key_press == 27:\\n                break\\n            start_frame += 1\\n\\n        videoCaptureInstance.release()\\n\\n        if platform.system() == \\\"Darwin\\\":\\n            cv2.waitKey(1)\\n\\n    except cv2.error:\\n        print(\\n            \\\"Unexpected error occurred with reading image and error code is\\\",\\n            cv2.error.code,\\n        )\";\n",
       "                var nbb_formatted_code = \"def create_images_from_video(start_seconds: int, end_seconds: int, class_label: str):\\n\\n    if class_label not in labels:\\n        raise ValueError(\\\"Enter a valid class label!\\\")\\n    if CURRENT_MICE not in mice:\\n        raise ValueError(\\\"Enter a valid mice!\\\")\\n\\n    if not os.path.isdir(f\\\"{path_to_data}/{class_label}\\\"):\\n        os.mkdir(f\\\"{path_to_data}/{class_label}\\\")\\n        print(f\\\"made directory... at {path_to_data}/{class_label}\\\")\\n\\n    frame_rate = math.floor(mice_row[\\\"video_fps\\\"].item())\\n\\n    video_file_path = f\\\"{path_to_videos}/{CURRENT_MICE}.mp4\\\"\\n    videoCaptureInstance = cv2.VideoCapture(video_file_path)\\n\\n    start_frame = start_seconds * frame_rate\\n    seconds = start_seconds\\n    try:\\n        while seconds != end_seconds:\\n            ret, frame = videoCaptureInstance.read()\\n            if not ret:\\n                raise BufferError(\\n                    \\\"Unexpected error occurred with reading image due to bad video file!\\\"\\n                )\\n                break\\n\\n            # Record frame every 1 second\\n            if start_frame % frame_rate == 0:\\n                filename = f\\\"{CURRENT_MICE}-{uuid.uuid4()}\\\"\\n                filepath = f\\\"{path_to_data}/{class_label}/{filename}.jpg\\\"\\n                cv2.imwrite(filepath, frame)\\n\\n                print(\\n                    f\\\"Saved image as {filename} at timestamp {utils.sec_to_time(seconds)}\\\"\\n                )\\n                seconds += 1\\n            client_key_press = cv2.waitKey(1) & 0xFF\\n\\n            # end video stream by escape key\\n            if client_key_press == 27:\\n                break\\n            start_frame += 1\\n\\n        videoCaptureInstance.release()\\n\\n        if platform.system() == \\\"Darwin\\\":\\n            cv2.waitKey(1)\\n\\n    except cv2.error:\\n        print(\\n            \\\"Unexpected error occurred with reading image and error code is\\\",\\n            cv2.error.code,\\n        )\";\n",
       "                var nbb_cells = Jupyter.notebook.get_cells();\n",
       "                for (var i = 0; i < nbb_cells.length; ++i) {\n",
       "                    if (nbb_cells[i].input_prompt_number == nbb_cell_id) {\n",
       "                        if (nbb_cells[i].get_text() == nbb_unformatted_code) {\n",
       "                             nbb_cells[i].set_text(nbb_formatted_code);\n",
       "                        }\n",
       "                        break;\n",
       "                    }\n",
       "                }\n",
       "            }, 500);\n",
       "            "
      ],
      "text/plain": [
       "<IPython.core.display.Javascript object>"
      ]
     },
     "metadata": {},
     "output_type": "display_data"
    },
    {
     "data": {
      "application/javascript": [
       "\n",
       "            setTimeout(function() {\n",
       "                var nbb_cell_id = 104;\n",
       "                var nbb_unformatted_code = \"def create_images_from_video(start_seconds: int, end_seconds: int, class_label: str):\\n\\n    if class_label not in labels:\\n        raise ValueError(\\\"Enter a valid class label!\\\")\\n    if CURRENT_MICE not in mice:\\n        raise ValueError(\\\"Enter a valid mice!\\\")\\n\\n    if not os.path.isdir(f\\\"{path_to_data}/{class_label}\\\"):\\n        os.mkdir(f\\\"{path_to_data}/{class_label}\\\")\\n        print(f\\\"made directory... at {path_to_data}/{class_label}\\\")\\n\\n    frame_rate = math.floor(mice_row[\\\"video_fps\\\"].item())\\n\\n    video_file_path = f\\\"{path_to_videos}/{CURRENT_MICE}.mp4\\\"\\n    videoCaptureInstance = cv2.VideoCapture(video_file_path)\\n\\n    start_frame = start_seconds * frame_rate\\n    seconds = start_seconds\\n    try:\\n        while seconds != end_seconds:\\n            ret, frame = videoCaptureInstance.read()\\n            if not ret:\\n                raise BufferError(\\n                    \\\"Unexpected error occurred with reading image due to bad video file!\\\"\\n                )\\n                break\\n\\n            # Record frame every 1 second\\n            if start_frame % frame_rate == 0:\\n                filename = f\\\"{CURRENT_MICE}-{uuid.uuid4()}\\\"\\n                filepath = f\\\"{path_to_data}/{class_label}/{filename}.jpg\\\"\\n                cv2.imwrite(filepath, frame)\\n\\n                print(\\n                    f\\\"Saved image as {filename} at timestamp {utils.sec_to_time(seconds)}\\\"\\n                )\\n                seconds += 1\\n            client_key_press = cv2.waitKey(1) & 0xFF\\n\\n            # end video stream by escape key\\n            if client_key_press == 27:\\n                break\\n            start_frame += 1\\n\\n        videoCaptureInstance.release()\\n\\n        if platform.system() == \\\"Darwin\\\":\\n            cv2.waitKey(1)\\n\\n    except cv2.error:\\n        print(\\n            \\\"Unexpected error occurred with reading image and error code is\\\",\\n            cv2.error.code,\\n        )\";\n",
       "                var nbb_formatted_code = \"def create_images_from_video(start_seconds: int, end_seconds: int, class_label: str):\\n\\n    if class_label not in labels:\\n        raise ValueError(\\\"Enter a valid class label!\\\")\\n    if CURRENT_MICE not in mice:\\n        raise ValueError(\\\"Enter a valid mice!\\\")\\n\\n    if not os.path.isdir(f\\\"{path_to_data}/{class_label}\\\"):\\n        os.mkdir(f\\\"{path_to_data}/{class_label}\\\")\\n        print(f\\\"made directory... at {path_to_data}/{class_label}\\\")\\n\\n    frame_rate = math.floor(mice_row[\\\"video_fps\\\"].item())\\n\\n    video_file_path = f\\\"{path_to_videos}/{CURRENT_MICE}.mp4\\\"\\n    videoCaptureInstance = cv2.VideoCapture(video_file_path)\\n\\n    start_frame = start_seconds * frame_rate\\n    seconds = start_seconds\\n    try:\\n        while seconds != end_seconds:\\n            ret, frame = videoCaptureInstance.read()\\n            if not ret:\\n                raise BufferError(\\n                    \\\"Unexpected error occurred with reading image due to bad video file!\\\"\\n                )\\n                break\\n\\n            # Record frame every 1 second\\n            if start_frame % frame_rate == 0:\\n                filename = f\\\"{CURRENT_MICE}-{uuid.uuid4()}\\\"\\n                filepath = f\\\"{path_to_data}/{class_label}/{filename}.jpg\\\"\\n                cv2.imwrite(filepath, frame)\\n\\n                print(\\n                    f\\\"Saved image as {filename} at timestamp {utils.sec_to_time(seconds)}\\\"\\n                )\\n                seconds += 1\\n            client_key_press = cv2.waitKey(1) & 0xFF\\n\\n            # end video stream by escape key\\n            if client_key_press == 27:\\n                break\\n            start_frame += 1\\n\\n        videoCaptureInstance.release()\\n\\n        if platform.system() == \\\"Darwin\\\":\\n            cv2.waitKey(1)\\n\\n    except cv2.error:\\n        print(\\n            \\\"Unexpected error occurred with reading image and error code is\\\",\\n            cv2.error.code,\\n        )\";\n",
       "                var nbb_cells = Jupyter.notebook.get_cells();\n",
       "                for (var i = 0; i < nbb_cells.length; ++i) {\n",
       "                    if (nbb_cells[i].input_prompt_number == nbb_cell_id) {\n",
       "                        if (nbb_cells[i].get_text() == nbb_unformatted_code) {\n",
       "                             nbb_cells[i].set_text(nbb_formatted_code);\n",
       "                        }\n",
       "                        break;\n",
       "                    }\n",
       "                }\n",
       "            }, 500);\n",
       "            "
      ],
      "text/plain": [
       "<IPython.core.display.Javascript object>"
      ]
     },
     "metadata": {},
     "output_type": "display_data"
    },
    {
     "data": {
      "application/javascript": [
       "\n",
       "            setTimeout(function() {\n",
       "                var nbb_cell_id = 104;\n",
       "                var nbb_unformatted_code = \"def create_images_from_video(start_seconds: int, end_seconds: int, class_label: str):\\n\\n    if class_label not in labels:\\n        raise ValueError(\\\"Enter a valid class label!\\\")\\n    if CURRENT_MICE not in mice:\\n        raise ValueError(\\\"Enter a valid mice!\\\")\\n\\n    if not os.path.isdir(f\\\"{path_to_data}/{class_label}\\\"):\\n        os.mkdir(f\\\"{path_to_data}/{class_label}\\\")\\n        print(f\\\"made directory... at {path_to_data}/{class_label}\\\")\\n\\n    frame_rate = math.floor(mice_row[\\\"video_fps\\\"].item())\\n\\n    video_file_path = f\\\"{path_to_videos}/{CURRENT_MICE}.mp4\\\"\\n    videoCaptureInstance = cv2.VideoCapture(video_file_path)\\n\\n    start_frame = start_seconds * frame_rate\\n    seconds = start_seconds\\n    try:\\n        while seconds != end_seconds:\\n            ret, frame = videoCaptureInstance.read()\\n            if not ret:\\n                raise BufferError(\\n                    \\\"Unexpected error occurred with reading image due to bad video file!\\\"\\n                )\\n                break\\n\\n            # Record frame every 1 second\\n            if start_frame % frame_rate == 0:\\n                filename = f\\\"{CURRENT_MICE}-{uuid.uuid4()}\\\"\\n                filepath = f\\\"{path_to_data}/{class_label}/{filename}.jpg\\\"\\n                cv2.imwrite(filepath, frame)\\n\\n                print(\\n                    f\\\"Saved image as {filename} at timestamp {utils.sec_to_time(seconds)}\\\"\\n                )\\n                seconds += 1\\n            client_key_press = cv2.waitKey(1) & 0xFF\\n\\n            # end video stream by escape key\\n            if client_key_press == 27:\\n                break\\n            start_frame += 1\\n\\n        videoCaptureInstance.release()\\n\\n        if platform.system() == \\\"Darwin\\\":\\n            cv2.waitKey(1)\\n\\n    except cv2.error:\\n        print(\\n            \\\"Unexpected error occurred with reading image and error code is\\\",\\n            cv2.error.code,\\n        )\";\n",
       "                var nbb_formatted_code = \"def create_images_from_video(start_seconds: int, end_seconds: int, class_label: str):\\n\\n    if class_label not in labels:\\n        raise ValueError(\\\"Enter a valid class label!\\\")\\n    if CURRENT_MICE not in mice:\\n        raise ValueError(\\\"Enter a valid mice!\\\")\\n\\n    if not os.path.isdir(f\\\"{path_to_data}/{class_label}\\\"):\\n        os.mkdir(f\\\"{path_to_data}/{class_label}\\\")\\n        print(f\\\"made directory... at {path_to_data}/{class_label}\\\")\\n\\n    frame_rate = math.floor(mice_row[\\\"video_fps\\\"].item())\\n\\n    video_file_path = f\\\"{path_to_videos}/{CURRENT_MICE}.mp4\\\"\\n    videoCaptureInstance = cv2.VideoCapture(video_file_path)\\n\\n    start_frame = start_seconds * frame_rate\\n    seconds = start_seconds\\n    try:\\n        while seconds != end_seconds:\\n            ret, frame = videoCaptureInstance.read()\\n            if not ret:\\n                raise BufferError(\\n                    \\\"Unexpected error occurred with reading image due to bad video file!\\\"\\n                )\\n                break\\n\\n            # Record frame every 1 second\\n            if start_frame % frame_rate == 0:\\n                filename = f\\\"{CURRENT_MICE}-{uuid.uuid4()}\\\"\\n                filepath = f\\\"{path_to_data}/{class_label}/{filename}.jpg\\\"\\n                cv2.imwrite(filepath, frame)\\n\\n                print(\\n                    f\\\"Saved image as {filename} at timestamp {utils.sec_to_time(seconds)}\\\"\\n                )\\n                seconds += 1\\n            client_key_press = cv2.waitKey(1) & 0xFF\\n\\n            # end video stream by escape key\\n            if client_key_press == 27:\\n                break\\n            start_frame += 1\\n\\n        videoCaptureInstance.release()\\n\\n        if platform.system() == \\\"Darwin\\\":\\n            cv2.waitKey(1)\\n\\n    except cv2.error:\\n        print(\\n            \\\"Unexpected error occurred with reading image and error code is\\\",\\n            cv2.error.code,\\n        )\";\n",
       "                var nbb_cells = Jupyter.notebook.get_cells();\n",
       "                for (var i = 0; i < nbb_cells.length; ++i) {\n",
       "                    if (nbb_cells[i].input_prompt_number == nbb_cell_id) {\n",
       "                        if (nbb_cells[i].get_text() == nbb_unformatted_code) {\n",
       "                             nbb_cells[i].set_text(nbb_formatted_code);\n",
       "                        }\n",
       "                        break;\n",
       "                    }\n",
       "                }\n",
       "            }, 500);\n",
       "            "
      ],
      "text/plain": [
       "<IPython.core.display.Javascript object>"
      ]
     },
     "metadata": {},
     "output_type": "display_data"
    },
    {
     "data": {
      "application/javascript": [
       "\n",
       "            setTimeout(function() {\n",
       "                var nbb_cell_id = 104;\n",
       "                var nbb_unformatted_code = \"def create_images_from_video(start_seconds: int, end_seconds: int, class_label: str):\\n\\n    if class_label not in labels:\\n        raise ValueError(\\\"Enter a valid class label!\\\")\\n    if CURRENT_MICE not in mice:\\n        raise ValueError(\\\"Enter a valid mice!\\\")\\n\\n    if not os.path.isdir(f\\\"{path_to_data}/{class_label}\\\"):\\n        os.mkdir(f\\\"{path_to_data}/{class_label}\\\")\\n        print(f\\\"made directory... at {path_to_data}/{class_label}\\\")\\n\\n    frame_rate = math.floor(mice_row[\\\"video_fps\\\"].item())\\n\\n    video_file_path = f\\\"{path_to_videos}/{CURRENT_MICE}.mp4\\\"\\n    videoCaptureInstance = cv2.VideoCapture(video_file_path)\\n\\n    start_frame = start_seconds * frame_rate\\n    seconds = start_seconds\\n    try:\\n        while seconds != end_seconds:\\n            ret, frame = videoCaptureInstance.read()\\n            if not ret:\\n                raise BufferError(\\n                    \\\"Unexpected error occurred with reading image due to bad video file!\\\"\\n                )\\n                break\\n\\n            # Record frame every 1 second\\n            if start_frame % frame_rate == 0:\\n                filename = f\\\"{CURRENT_MICE}-{uuid.uuid4()}\\\"\\n                filepath = f\\\"{path_to_data}/{class_label}/{filename}.jpg\\\"\\n                cv2.imwrite(filepath, frame)\\n\\n                print(\\n                    f\\\"Saved image as {filename} at timestamp {utils.sec_to_time(seconds)}\\\"\\n                )\\n                seconds += 1\\n            client_key_press = cv2.waitKey(1) & 0xFF\\n\\n            # end video stream by escape key\\n            if client_key_press == 27:\\n                break\\n            start_frame += 1\\n\\n        videoCaptureInstance.release()\\n\\n        if platform.system() == \\\"Darwin\\\":\\n            cv2.waitKey(1)\\n\\n    except cv2.error:\\n        print(\\n            \\\"Unexpected error occurred with reading image and error code is\\\",\\n            cv2.error.code,\\n        )\";\n",
       "                var nbb_formatted_code = \"def create_images_from_video(start_seconds: int, end_seconds: int, class_label: str):\\n\\n    if class_label not in labels:\\n        raise ValueError(\\\"Enter a valid class label!\\\")\\n    if CURRENT_MICE not in mice:\\n        raise ValueError(\\\"Enter a valid mice!\\\")\\n\\n    if not os.path.isdir(f\\\"{path_to_data}/{class_label}\\\"):\\n        os.mkdir(f\\\"{path_to_data}/{class_label}\\\")\\n        print(f\\\"made directory... at {path_to_data}/{class_label}\\\")\\n\\n    frame_rate = math.floor(mice_row[\\\"video_fps\\\"].item())\\n\\n    video_file_path = f\\\"{path_to_videos}/{CURRENT_MICE}.mp4\\\"\\n    videoCaptureInstance = cv2.VideoCapture(video_file_path)\\n\\n    start_frame = start_seconds * frame_rate\\n    seconds = start_seconds\\n    try:\\n        while seconds != end_seconds:\\n            ret, frame = videoCaptureInstance.read()\\n            if not ret:\\n                raise BufferError(\\n                    \\\"Unexpected error occurred with reading image due to bad video file!\\\"\\n                )\\n                break\\n\\n            # Record frame every 1 second\\n            if start_frame % frame_rate == 0:\\n                filename = f\\\"{CURRENT_MICE}-{uuid.uuid4()}\\\"\\n                filepath = f\\\"{path_to_data}/{class_label}/{filename}.jpg\\\"\\n                cv2.imwrite(filepath, frame)\\n\\n                print(\\n                    f\\\"Saved image as {filename} at timestamp {utils.sec_to_time(seconds)}\\\"\\n                )\\n                seconds += 1\\n            client_key_press = cv2.waitKey(1) & 0xFF\\n\\n            # end video stream by escape key\\n            if client_key_press == 27:\\n                break\\n            start_frame += 1\\n\\n        videoCaptureInstance.release()\\n\\n        if platform.system() == \\\"Darwin\\\":\\n            cv2.waitKey(1)\\n\\n    except cv2.error:\\n        print(\\n            \\\"Unexpected error occurred with reading image and error code is\\\",\\n            cv2.error.code,\\n        )\";\n",
       "                var nbb_cells = Jupyter.notebook.get_cells();\n",
       "                for (var i = 0; i < nbb_cells.length; ++i) {\n",
       "                    if (nbb_cells[i].input_prompt_number == nbb_cell_id) {\n",
       "                        if (nbb_cells[i].get_text() == nbb_unformatted_code) {\n",
       "                             nbb_cells[i].set_text(nbb_formatted_code);\n",
       "                        }\n",
       "                        break;\n",
       "                    }\n",
       "                }\n",
       "            }, 500);\n",
       "            "
      ],
      "text/plain": [
       "<IPython.core.display.Javascript object>"
      ]
     },
     "metadata": {},
     "output_type": "display_data"
    },
    {
     "data": {
      "application/javascript": [
       "\n",
       "            setTimeout(function() {\n",
       "                var nbb_cell_id = 104;\n",
       "                var nbb_unformatted_code = \"def create_images_from_video(start_seconds: int, end_seconds: int, class_label: str):\\n\\n    if class_label not in labels:\\n        raise ValueError(\\\"Enter a valid class label!\\\")\\n    if CURRENT_MICE not in mice:\\n        raise ValueError(\\\"Enter a valid mice!\\\")\\n\\n    if not os.path.isdir(f\\\"{path_to_data}/{class_label}\\\"):\\n        os.mkdir(f\\\"{path_to_data}/{class_label}\\\")\\n        print(f\\\"made directory... at {path_to_data}/{class_label}\\\")\\n\\n    frame_rate = math.floor(mice_row[\\\"video_fps\\\"].item())\\n\\n    video_file_path = f\\\"{path_to_videos}/{CURRENT_MICE}.mp4\\\"\\n    videoCaptureInstance = cv2.VideoCapture(video_file_path)\\n\\n    start_frame = start_seconds * frame_rate\\n    seconds = start_seconds\\n    try:\\n        while seconds != end_seconds:\\n            ret, frame = videoCaptureInstance.read()\\n            if not ret:\\n                raise BufferError(\\n                    \\\"Unexpected error occurred with reading image due to bad video file!\\\"\\n                )\\n                break\\n\\n            # Record frame every 1 second\\n            if start_frame % frame_rate == 0:\\n                filename = f\\\"{CURRENT_MICE}-{uuid.uuid4()}\\\"\\n                filepath = f\\\"{path_to_data}/{class_label}/{filename}.jpg\\\"\\n                cv2.imwrite(filepath, frame)\\n\\n                print(\\n                    f\\\"Saved image as {filename} at timestamp {utils.sec_to_time(seconds)}\\\"\\n                )\\n                seconds += 1\\n            client_key_press = cv2.waitKey(1) & 0xFF\\n\\n            # end video stream by escape key\\n            if client_key_press == 27:\\n                break\\n            start_frame += 1\\n\\n        videoCaptureInstance.release()\\n\\n        if platform.system() == \\\"Darwin\\\":\\n            cv2.waitKey(1)\\n\\n    except cv2.error:\\n        print(\\n            \\\"Unexpected error occurred with reading image and error code is\\\",\\n            cv2.error.code,\\n        )\";\n",
       "                var nbb_formatted_code = \"def create_images_from_video(start_seconds: int, end_seconds: int, class_label: str):\\n\\n    if class_label not in labels:\\n        raise ValueError(\\\"Enter a valid class label!\\\")\\n    if CURRENT_MICE not in mice:\\n        raise ValueError(\\\"Enter a valid mice!\\\")\\n\\n    if not os.path.isdir(f\\\"{path_to_data}/{class_label}\\\"):\\n        os.mkdir(f\\\"{path_to_data}/{class_label}\\\")\\n        print(f\\\"made directory... at {path_to_data}/{class_label}\\\")\\n\\n    frame_rate = math.floor(mice_row[\\\"video_fps\\\"].item())\\n\\n    video_file_path = f\\\"{path_to_videos}/{CURRENT_MICE}.mp4\\\"\\n    videoCaptureInstance = cv2.VideoCapture(video_file_path)\\n\\n    start_frame = start_seconds * frame_rate\\n    seconds = start_seconds\\n    try:\\n        while seconds != end_seconds:\\n            ret, frame = videoCaptureInstance.read()\\n            if not ret:\\n                raise BufferError(\\n                    \\\"Unexpected error occurred with reading image due to bad video file!\\\"\\n                )\\n                break\\n\\n            # Record frame every 1 second\\n            if start_frame % frame_rate == 0:\\n                filename = f\\\"{CURRENT_MICE}-{uuid.uuid4()}\\\"\\n                filepath = f\\\"{path_to_data}/{class_label}/{filename}.jpg\\\"\\n                cv2.imwrite(filepath, frame)\\n\\n                print(\\n                    f\\\"Saved image as {filename} at timestamp {utils.sec_to_time(seconds)}\\\"\\n                )\\n                seconds += 1\\n            client_key_press = cv2.waitKey(1) & 0xFF\\n\\n            # end video stream by escape key\\n            if client_key_press == 27:\\n                break\\n            start_frame += 1\\n\\n        videoCaptureInstance.release()\\n\\n        if platform.system() == \\\"Darwin\\\":\\n            cv2.waitKey(1)\\n\\n    except cv2.error:\\n        print(\\n            \\\"Unexpected error occurred with reading image and error code is\\\",\\n            cv2.error.code,\\n        )\";\n",
       "                var nbb_cells = Jupyter.notebook.get_cells();\n",
       "                for (var i = 0; i < nbb_cells.length; ++i) {\n",
       "                    if (nbb_cells[i].input_prompt_number == nbb_cell_id) {\n",
       "                        if (nbb_cells[i].get_text() == nbb_unformatted_code) {\n",
       "                             nbb_cells[i].set_text(nbb_formatted_code);\n",
       "                        }\n",
       "                        break;\n",
       "                    }\n",
       "                }\n",
       "            }, 500);\n",
       "            "
      ],
      "text/plain": [
       "<IPython.core.display.Javascript object>"
      ]
     },
     "metadata": {},
     "output_type": "display_data"
    },
    {
     "data": {
      "application/javascript": [
       "\n",
       "            setTimeout(function() {\n",
       "                var nbb_cell_id = 104;\n",
       "                var nbb_unformatted_code = \"def create_images_from_video(start_seconds: int, end_seconds: int, class_label: str):\\n\\n    if class_label not in labels:\\n        raise ValueError(\\\"Enter a valid class label!\\\")\\n    if CURRENT_MICE not in mice:\\n        raise ValueError(\\\"Enter a valid mice!\\\")\\n\\n    if not os.path.isdir(f\\\"{path_to_data}/{class_label}\\\"):\\n        os.mkdir(f\\\"{path_to_data}/{class_label}\\\")\\n        print(f\\\"made directory... at {path_to_data}/{class_label}\\\")\\n\\n    frame_rate = math.floor(mice_row[\\\"video_fps\\\"].item())\\n\\n    video_file_path = f\\\"{path_to_videos}/{CURRENT_MICE}.mp4\\\"\\n    videoCaptureInstance = cv2.VideoCapture(video_file_path)\\n\\n    start_frame = start_seconds * frame_rate\\n    seconds = start_seconds\\n    try:\\n        while seconds != end_seconds:\\n            ret, frame = videoCaptureInstance.read()\\n            if not ret:\\n                raise BufferError(\\n                    \\\"Unexpected error occurred with reading image due to bad video file!\\\"\\n                )\\n                break\\n\\n            # Record frame every 1 second\\n            if start_frame % frame_rate == 0:\\n                filename = f\\\"{CURRENT_MICE}-{uuid.uuid4()}\\\"\\n                filepath = f\\\"{path_to_data}/{class_label}/{filename}.jpg\\\"\\n                cv2.imwrite(filepath, frame)\\n\\n                print(\\n                    f\\\"Saved image as {filename} at timestamp {utils.sec_to_time(seconds)}\\\"\\n                )\\n                seconds += 1\\n            client_key_press = cv2.waitKey(1) & 0xFF\\n\\n            # end video stream by escape key\\n            if client_key_press == 27:\\n                break\\n            start_frame += 1\\n\\n        videoCaptureInstance.release()\\n\\n        if platform.system() == \\\"Darwin\\\":\\n            cv2.waitKey(1)\\n\\n    except cv2.error:\\n        print(\\n            \\\"Unexpected error occurred with reading image and error code is\\\",\\n            cv2.error.code,\\n        )\";\n",
       "                var nbb_formatted_code = \"def create_images_from_video(start_seconds: int, end_seconds: int, class_label: str):\\n\\n    if class_label not in labels:\\n        raise ValueError(\\\"Enter a valid class label!\\\")\\n    if CURRENT_MICE not in mice:\\n        raise ValueError(\\\"Enter a valid mice!\\\")\\n\\n    if not os.path.isdir(f\\\"{path_to_data}/{class_label}\\\"):\\n        os.mkdir(f\\\"{path_to_data}/{class_label}\\\")\\n        print(f\\\"made directory... at {path_to_data}/{class_label}\\\")\\n\\n    frame_rate = math.floor(mice_row[\\\"video_fps\\\"].item())\\n\\n    video_file_path = f\\\"{path_to_videos}/{CURRENT_MICE}.mp4\\\"\\n    videoCaptureInstance = cv2.VideoCapture(video_file_path)\\n\\n    start_frame = start_seconds * frame_rate\\n    seconds = start_seconds\\n    try:\\n        while seconds != end_seconds:\\n            ret, frame = videoCaptureInstance.read()\\n            if not ret:\\n                raise BufferError(\\n                    \\\"Unexpected error occurred with reading image due to bad video file!\\\"\\n                )\\n                break\\n\\n            # Record frame every 1 second\\n            if start_frame % frame_rate == 0:\\n                filename = f\\\"{CURRENT_MICE}-{uuid.uuid4()}\\\"\\n                filepath = f\\\"{path_to_data}/{class_label}/{filename}.jpg\\\"\\n                cv2.imwrite(filepath, frame)\\n\\n                print(\\n                    f\\\"Saved image as {filename} at timestamp {utils.sec_to_time(seconds)}\\\"\\n                )\\n                seconds += 1\\n            client_key_press = cv2.waitKey(1) & 0xFF\\n\\n            # end video stream by escape key\\n            if client_key_press == 27:\\n                break\\n            start_frame += 1\\n\\n        videoCaptureInstance.release()\\n\\n        if platform.system() == \\\"Darwin\\\":\\n            cv2.waitKey(1)\\n\\n    except cv2.error:\\n        print(\\n            \\\"Unexpected error occurred with reading image and error code is\\\",\\n            cv2.error.code,\\n        )\";\n",
       "                var nbb_cells = Jupyter.notebook.get_cells();\n",
       "                for (var i = 0; i < nbb_cells.length; ++i) {\n",
       "                    if (nbb_cells[i].input_prompt_number == nbb_cell_id) {\n",
       "                        if (nbb_cells[i].get_text() == nbb_unformatted_code) {\n",
       "                             nbb_cells[i].set_text(nbb_formatted_code);\n",
       "                        }\n",
       "                        break;\n",
       "                    }\n",
       "                }\n",
       "            }, 500);\n",
       "            "
      ],
      "text/plain": [
       "<IPython.core.display.Javascript object>"
      ]
     },
     "metadata": {},
     "output_type": "display_data"
    }
   ],
   "source": [
    "def create_images_from_video(start_seconds: int, end_seconds: int, class_label: str):\n",
    "\n",
    "    if class_label not in labels:\n",
    "        raise ValueError(\"Enter a valid class label!\")\n",
    "    if CURRENT_MICE not in mice:\n",
    "        raise ValueError(\"Enter a valid mice!\")\n",
    "\n",
    "    if not os.path.isdir(f\"{path_to_data}/{class_label}\"):\n",
    "        os.mkdir(f\"{path_to_data}/{class_label}\")\n",
    "        print(f\"made directory... at {path_to_data}/{class_label}\")\n",
    "\n",
    "    frame_rate = math.floor(mice_row[\"video_fps\"].item())\n",
    "\n",
    "    video_file_path = f\"{path_to_videos}/{CURRENT_MICE}.mp4\"\n",
    "    videoCaptureInstance = cv2.VideoCapture(video_file_path)\n",
    "\n",
    "    start_frame = start_seconds * frame_rate\n",
    "    seconds = start_seconds\n",
    "    try:\n",
    "        while seconds != end_seconds:\n",
    "            ret, frame = videoCaptureInstance.read()\n",
    "            if not ret:\n",
    "                raise BufferError(\n",
    "                    \"Unexpected error occurred with reading image due to bad video file!\"\n",
    "                )\n",
    "                break\n",
    "\n",
    "            # Record frame every 1 second\n",
    "            if start_frame % frame_rate == 0:\n",
    "                filename = f\"{CURRENT_MICE}-{uuid.uuid4()}\"\n",
    "                filepath = f\"{path_to_data}/{class_label}/{filename}.jpg\"\n",
    "                cv2.imwrite(filepath, frame)\n",
    "\n",
    "                print(\n",
    "                    f\"Saved image as {filename} at timestamp {utils.sec_to_time(seconds)}\"\n",
    "                )\n",
    "                seconds += 1\n",
    "            client_key_press = cv2.waitKey(1) & 0xFF\n",
    "\n",
    "            # end video stream by escape key\n",
    "            if client_key_press == 27:\n",
    "                break\n",
    "            start_frame += 1\n",
    "\n",
    "        videoCaptureInstance.release()\n",
    "\n",
    "        if platform.system() == \"Darwin\":\n",
    "            cv2.waitKey(1)\n",
    "\n",
    "    except cv2.error:\n",
    "        print(\n",
    "            \"Unexpected error occurred with reading image and error code is\",\n",
    "            cv2.error.code,\n",
    "        )"
   ]
  },
  {
   "cell_type": "code",
   "execution_count": 105,
   "metadata": {},
   "outputs": [
    {
     "data": {
      "application/javascript": [
       "\n",
       "            setTimeout(function() {\n",
       "                var nbb_cell_id = 105;\n",
       "                var nbb_unformatted_code = \"def split_train_test(class_label: str, split_ratio: float):\\n\\n    if class_label not in labels:\\n        raise ValueError(\\\"Enter a valid class label!\\\")\\n\\n    split_ratio = split_ratio\\n    all_mice_files = os.listdir(f\\\"{path_to_data}/{class_label}\\\")\\n    random.shuffle(all_mice_files)\\n    train_size = len(all_mice_files) * split_ratio\\n    files_moved = 0\\n\\n    for mice in all_mice_files:\\n        if files_moved < train_size:\\n            shutil.move(\\n                f\\\"{path_to_data}/{class_label}/{mice}\\\",\\n                f\\\"{path_to_data}/train/{class_label}\\\",\\n            )\\n        else:\\n            shutil.move(\\n                f\\\"{path_to_data}/{class_label}/{mice}\\\",\\n                f\\\"{path_to_data}/test/{class_label}\\\",\\n            )\\n        files_moved += 1\\n    if len(os.listdir(f\\\"{path_to_data}/{class_label}\\\")) == 0:\\n        shutil.rmtree(f\\\"{path_to_data}/{class_label}\\\")\\n        print('removed directory')\";\n",
       "                var nbb_formatted_code = \"def split_train_test(class_label: str, split_ratio: float):\\n\\n    if class_label not in labels:\\n        raise ValueError(\\\"Enter a valid class label!\\\")\\n\\n    split_ratio = split_ratio\\n    all_mice_files = os.listdir(f\\\"{path_to_data}/{class_label}\\\")\\n    random.shuffle(all_mice_files)\\n    train_size = len(all_mice_files) * split_ratio\\n    files_moved = 0\\n\\n    for mice in all_mice_files:\\n        if files_moved < train_size:\\n            shutil.move(\\n                f\\\"{path_to_data}/{class_label}/{mice}\\\",\\n                f\\\"{path_to_data}/train/{class_label}\\\",\\n            )\\n        else:\\n            shutil.move(\\n                f\\\"{path_to_data}/{class_label}/{mice}\\\",\\n                f\\\"{path_to_data}/test/{class_label}\\\",\\n            )\\n        files_moved += 1\\n    if len(os.listdir(f\\\"{path_to_data}/{class_label}\\\")) == 0:\\n        shutil.rmtree(f\\\"{path_to_data}/{class_label}\\\")\\n        print(\\\"removed directory\\\")\";\n",
       "                var nbb_cells = Jupyter.notebook.get_cells();\n",
       "                for (var i = 0; i < nbb_cells.length; ++i) {\n",
       "                    if (nbb_cells[i].input_prompt_number == nbb_cell_id) {\n",
       "                        if (nbb_cells[i].get_text() == nbb_unformatted_code) {\n",
       "                             nbb_cells[i].set_text(nbb_formatted_code);\n",
       "                        }\n",
       "                        break;\n",
       "                    }\n",
       "                }\n",
       "            }, 500);\n",
       "            "
      ],
      "text/plain": [
       "<IPython.core.display.Javascript object>"
      ]
     },
     "metadata": {},
     "output_type": "display_data"
    },
    {
     "data": {
      "application/javascript": [
       "\n",
       "            setTimeout(function() {\n",
       "                var nbb_cell_id = 105;\n",
       "                var nbb_unformatted_code = \"def split_train_test(class_label: str, split_ratio: float):\\n\\n    if class_label not in labels:\\n        raise ValueError(\\\"Enter a valid class label!\\\")\\n\\n    split_ratio = split_ratio\\n    all_mice_files = os.listdir(f\\\"{path_to_data}/{class_label}\\\")\\n    random.shuffle(all_mice_files)\\n    train_size = len(all_mice_files) * split_ratio\\n    files_moved = 0\\n\\n    for mice in all_mice_files:\\n        if files_moved < train_size:\\n            shutil.move(\\n                f\\\"{path_to_data}/{class_label}/{mice}\\\",\\n                f\\\"{path_to_data}/train/{class_label}\\\",\\n            )\\n        else:\\n            shutil.move(\\n                f\\\"{path_to_data}/{class_label}/{mice}\\\",\\n                f\\\"{path_to_data}/test/{class_label}\\\",\\n            )\\n        files_moved += 1\\n    if len(os.listdir(f\\\"{path_to_data}/{class_label}\\\")) == 0:\\n        shutil.rmtree(f\\\"{path_to_data}/{class_label}\\\")\\n        print('removed directory')\";\n",
       "                var nbb_formatted_code = \"def split_train_test(class_label: str, split_ratio: float):\\n\\n    if class_label not in labels:\\n        raise ValueError(\\\"Enter a valid class label!\\\")\\n\\n    split_ratio = split_ratio\\n    all_mice_files = os.listdir(f\\\"{path_to_data}/{class_label}\\\")\\n    random.shuffle(all_mice_files)\\n    train_size = len(all_mice_files) * split_ratio\\n    files_moved = 0\\n\\n    for mice in all_mice_files:\\n        if files_moved < train_size:\\n            shutil.move(\\n                f\\\"{path_to_data}/{class_label}/{mice}\\\",\\n                f\\\"{path_to_data}/train/{class_label}\\\",\\n            )\\n        else:\\n            shutil.move(\\n                f\\\"{path_to_data}/{class_label}/{mice}\\\",\\n                f\\\"{path_to_data}/test/{class_label}\\\",\\n            )\\n        files_moved += 1\\n    if len(os.listdir(f\\\"{path_to_data}/{class_label}\\\")) == 0:\\n        shutil.rmtree(f\\\"{path_to_data}/{class_label}\\\")\\n        print(\\\"removed directory\\\")\";\n",
       "                var nbb_cells = Jupyter.notebook.get_cells();\n",
       "                for (var i = 0; i < nbb_cells.length; ++i) {\n",
       "                    if (nbb_cells[i].input_prompt_number == nbb_cell_id) {\n",
       "                        if (nbb_cells[i].get_text() == nbb_unformatted_code) {\n",
       "                             nbb_cells[i].set_text(nbb_formatted_code);\n",
       "                        }\n",
       "                        break;\n",
       "                    }\n",
       "                }\n",
       "            }, 500);\n",
       "            "
      ],
      "text/plain": [
       "<IPython.core.display.Javascript object>"
      ]
     },
     "metadata": {},
     "output_type": "display_data"
    },
    {
     "data": {
      "application/javascript": [
       "\n",
       "            setTimeout(function() {\n",
       "                var nbb_cell_id = 105;\n",
       "                var nbb_unformatted_code = \"def split_train_test(class_label: str, split_ratio: float):\\n\\n    if class_label not in labels:\\n        raise ValueError(\\\"Enter a valid class label!\\\")\\n\\n    split_ratio = split_ratio\\n    all_mice_files = os.listdir(f\\\"{path_to_data}/{class_label}\\\")\\n    random.shuffle(all_mice_files)\\n    train_size = len(all_mice_files) * split_ratio\\n    files_moved = 0\\n\\n    for mice in all_mice_files:\\n        if files_moved < train_size:\\n            shutil.move(\\n                f\\\"{path_to_data}/{class_label}/{mice}\\\",\\n                f\\\"{path_to_data}/train/{class_label}\\\",\\n            )\\n        else:\\n            shutil.move(\\n                f\\\"{path_to_data}/{class_label}/{mice}\\\",\\n                f\\\"{path_to_data}/test/{class_label}\\\",\\n            )\\n        files_moved += 1\\n    if len(os.listdir(f\\\"{path_to_data}/{class_label}\\\")) == 0:\\n        shutil.rmtree(f\\\"{path_to_data}/{class_label}\\\")\\n        print('removed directory')\";\n",
       "                var nbb_formatted_code = \"def split_train_test(class_label: str, split_ratio: float):\\n\\n    if class_label not in labels:\\n        raise ValueError(\\\"Enter a valid class label!\\\")\\n\\n    split_ratio = split_ratio\\n    all_mice_files = os.listdir(f\\\"{path_to_data}/{class_label}\\\")\\n    random.shuffle(all_mice_files)\\n    train_size = len(all_mice_files) * split_ratio\\n    files_moved = 0\\n\\n    for mice in all_mice_files:\\n        if files_moved < train_size:\\n            shutil.move(\\n                f\\\"{path_to_data}/{class_label}/{mice}\\\",\\n                f\\\"{path_to_data}/train/{class_label}\\\",\\n            )\\n        else:\\n            shutil.move(\\n                f\\\"{path_to_data}/{class_label}/{mice}\\\",\\n                f\\\"{path_to_data}/test/{class_label}\\\",\\n            )\\n        files_moved += 1\\n    if len(os.listdir(f\\\"{path_to_data}/{class_label}\\\")) == 0:\\n        shutil.rmtree(f\\\"{path_to_data}/{class_label}\\\")\\n        print(\\\"removed directory\\\")\";\n",
       "                var nbb_cells = Jupyter.notebook.get_cells();\n",
       "                for (var i = 0; i < nbb_cells.length; ++i) {\n",
       "                    if (nbb_cells[i].input_prompt_number == nbb_cell_id) {\n",
       "                        if (nbb_cells[i].get_text() == nbb_unformatted_code) {\n",
       "                             nbb_cells[i].set_text(nbb_formatted_code);\n",
       "                        }\n",
       "                        break;\n",
       "                    }\n",
       "                }\n",
       "            }, 500);\n",
       "            "
      ],
      "text/plain": [
       "<IPython.core.display.Javascript object>"
      ]
     },
     "metadata": {},
     "output_type": "display_data"
    },
    {
     "data": {
      "application/javascript": [
       "\n",
       "            setTimeout(function() {\n",
       "                var nbb_cell_id = 105;\n",
       "                var nbb_unformatted_code = \"def split_train_test(class_label: str, split_ratio: float):\\n\\n    if class_label not in labels:\\n        raise ValueError(\\\"Enter a valid class label!\\\")\\n\\n    split_ratio = split_ratio\\n    all_mice_files = os.listdir(f\\\"{path_to_data}/{class_label}\\\")\\n    random.shuffle(all_mice_files)\\n    train_size = len(all_mice_files) * split_ratio\\n    files_moved = 0\\n\\n    for mice in all_mice_files:\\n        if files_moved < train_size:\\n            shutil.move(\\n                f\\\"{path_to_data}/{class_label}/{mice}\\\",\\n                f\\\"{path_to_data}/train/{class_label}\\\",\\n            )\\n        else:\\n            shutil.move(\\n                f\\\"{path_to_data}/{class_label}/{mice}\\\",\\n                f\\\"{path_to_data}/test/{class_label}\\\",\\n            )\\n        files_moved += 1\\n    if len(os.listdir(f\\\"{path_to_data}/{class_label}\\\")) == 0:\\n        shutil.rmtree(f\\\"{path_to_data}/{class_label}\\\")\\n        print('removed directory')\";\n",
       "                var nbb_formatted_code = \"def split_train_test(class_label: str, split_ratio: float):\\n\\n    if class_label not in labels:\\n        raise ValueError(\\\"Enter a valid class label!\\\")\\n\\n    split_ratio = split_ratio\\n    all_mice_files = os.listdir(f\\\"{path_to_data}/{class_label}\\\")\\n    random.shuffle(all_mice_files)\\n    train_size = len(all_mice_files) * split_ratio\\n    files_moved = 0\\n\\n    for mice in all_mice_files:\\n        if files_moved < train_size:\\n            shutil.move(\\n                f\\\"{path_to_data}/{class_label}/{mice}\\\",\\n                f\\\"{path_to_data}/train/{class_label}\\\",\\n            )\\n        else:\\n            shutil.move(\\n                f\\\"{path_to_data}/{class_label}/{mice}\\\",\\n                f\\\"{path_to_data}/test/{class_label}\\\",\\n            )\\n        files_moved += 1\\n    if len(os.listdir(f\\\"{path_to_data}/{class_label}\\\")) == 0:\\n        shutil.rmtree(f\\\"{path_to_data}/{class_label}\\\")\\n        print(\\\"removed directory\\\")\";\n",
       "                var nbb_cells = Jupyter.notebook.get_cells();\n",
       "                for (var i = 0; i < nbb_cells.length; ++i) {\n",
       "                    if (nbb_cells[i].input_prompt_number == nbb_cell_id) {\n",
       "                        if (nbb_cells[i].get_text() == nbb_unformatted_code) {\n",
       "                             nbb_cells[i].set_text(nbb_formatted_code);\n",
       "                        }\n",
       "                        break;\n",
       "                    }\n",
       "                }\n",
       "            }, 500);\n",
       "            "
      ],
      "text/plain": [
       "<IPython.core.display.Javascript object>"
      ]
     },
     "metadata": {},
     "output_type": "display_data"
    },
    {
     "data": {
      "application/javascript": [
       "\n",
       "            setTimeout(function() {\n",
       "                var nbb_cell_id = 105;\n",
       "                var nbb_unformatted_code = \"def split_train_test(class_label: str, split_ratio: float):\\n\\n    if class_label not in labels:\\n        raise ValueError(\\\"Enter a valid class label!\\\")\\n\\n    split_ratio = split_ratio\\n    all_mice_files = os.listdir(f\\\"{path_to_data}/{class_label}\\\")\\n    random.shuffle(all_mice_files)\\n    train_size = len(all_mice_files) * split_ratio\\n    files_moved = 0\\n\\n    for mice in all_mice_files:\\n        if files_moved < train_size:\\n            shutil.move(\\n                f\\\"{path_to_data}/{class_label}/{mice}\\\",\\n                f\\\"{path_to_data}/train/{class_label}\\\",\\n            )\\n        else:\\n            shutil.move(\\n                f\\\"{path_to_data}/{class_label}/{mice}\\\",\\n                f\\\"{path_to_data}/test/{class_label}\\\",\\n            )\\n        files_moved += 1\\n    if len(os.listdir(f\\\"{path_to_data}/{class_label}\\\")) == 0:\\n        shutil.rmtree(f\\\"{path_to_data}/{class_label}\\\")\\n        print('removed directory')\";\n",
       "                var nbb_formatted_code = \"def split_train_test(class_label: str, split_ratio: float):\\n\\n    if class_label not in labels:\\n        raise ValueError(\\\"Enter a valid class label!\\\")\\n\\n    split_ratio = split_ratio\\n    all_mice_files = os.listdir(f\\\"{path_to_data}/{class_label}\\\")\\n    random.shuffle(all_mice_files)\\n    train_size = len(all_mice_files) * split_ratio\\n    files_moved = 0\\n\\n    for mice in all_mice_files:\\n        if files_moved < train_size:\\n            shutil.move(\\n                f\\\"{path_to_data}/{class_label}/{mice}\\\",\\n                f\\\"{path_to_data}/train/{class_label}\\\",\\n            )\\n        else:\\n            shutil.move(\\n                f\\\"{path_to_data}/{class_label}/{mice}\\\",\\n                f\\\"{path_to_data}/test/{class_label}\\\",\\n            )\\n        files_moved += 1\\n    if len(os.listdir(f\\\"{path_to_data}/{class_label}\\\")) == 0:\\n        shutil.rmtree(f\\\"{path_to_data}/{class_label}\\\")\\n        print(\\\"removed directory\\\")\";\n",
       "                var nbb_cells = Jupyter.notebook.get_cells();\n",
       "                for (var i = 0; i < nbb_cells.length; ++i) {\n",
       "                    if (nbb_cells[i].input_prompt_number == nbb_cell_id) {\n",
       "                        if (nbb_cells[i].get_text() == nbb_unformatted_code) {\n",
       "                             nbb_cells[i].set_text(nbb_formatted_code);\n",
       "                        }\n",
       "                        break;\n",
       "                    }\n",
       "                }\n",
       "            }, 500);\n",
       "            "
      ],
      "text/plain": [
       "<IPython.core.display.Javascript object>"
      ]
     },
     "metadata": {},
     "output_type": "display_data"
    },
    {
     "data": {
      "application/javascript": [
       "\n",
       "            setTimeout(function() {\n",
       "                var nbb_cell_id = 105;\n",
       "                var nbb_unformatted_code = \"def split_train_test(class_label: str, split_ratio: float):\\n\\n    if class_label not in labels:\\n        raise ValueError(\\\"Enter a valid class label!\\\")\\n\\n    split_ratio = split_ratio\\n    all_mice_files = os.listdir(f\\\"{path_to_data}/{class_label}\\\")\\n    random.shuffle(all_mice_files)\\n    train_size = len(all_mice_files) * split_ratio\\n    files_moved = 0\\n\\n    for mice in all_mice_files:\\n        if files_moved < train_size:\\n            shutil.move(\\n                f\\\"{path_to_data}/{class_label}/{mice}\\\",\\n                f\\\"{path_to_data}/train/{class_label}\\\",\\n            )\\n        else:\\n            shutil.move(\\n                f\\\"{path_to_data}/{class_label}/{mice}\\\",\\n                f\\\"{path_to_data}/test/{class_label}\\\",\\n            )\\n        files_moved += 1\\n    if len(os.listdir(f\\\"{path_to_data}/{class_label}\\\")) == 0:\\n        shutil.rmtree(f\\\"{path_to_data}/{class_label}\\\")\\n        print('removed directory')\";\n",
       "                var nbb_formatted_code = \"def split_train_test(class_label: str, split_ratio: float):\\n\\n    if class_label not in labels:\\n        raise ValueError(\\\"Enter a valid class label!\\\")\\n\\n    split_ratio = split_ratio\\n    all_mice_files = os.listdir(f\\\"{path_to_data}/{class_label}\\\")\\n    random.shuffle(all_mice_files)\\n    train_size = len(all_mice_files) * split_ratio\\n    files_moved = 0\\n\\n    for mice in all_mice_files:\\n        if files_moved < train_size:\\n            shutil.move(\\n                f\\\"{path_to_data}/{class_label}/{mice}\\\",\\n                f\\\"{path_to_data}/train/{class_label}\\\",\\n            )\\n        else:\\n            shutil.move(\\n                f\\\"{path_to_data}/{class_label}/{mice}\\\",\\n                f\\\"{path_to_data}/test/{class_label}\\\",\\n            )\\n        files_moved += 1\\n    if len(os.listdir(f\\\"{path_to_data}/{class_label}\\\")) == 0:\\n        shutil.rmtree(f\\\"{path_to_data}/{class_label}\\\")\\n        print(\\\"removed directory\\\")\";\n",
       "                var nbb_cells = Jupyter.notebook.get_cells();\n",
       "                for (var i = 0; i < nbb_cells.length; ++i) {\n",
       "                    if (nbb_cells[i].input_prompt_number == nbb_cell_id) {\n",
       "                        if (nbb_cells[i].get_text() == nbb_unformatted_code) {\n",
       "                             nbb_cells[i].set_text(nbb_formatted_code);\n",
       "                        }\n",
       "                        break;\n",
       "                    }\n",
       "                }\n",
       "            }, 500);\n",
       "            "
      ],
      "text/plain": [
       "<IPython.core.display.Javascript object>"
      ]
     },
     "metadata": {},
     "output_type": "display_data"
    },
    {
     "data": {
      "application/javascript": [
       "\n",
       "            setTimeout(function() {\n",
       "                var nbb_cell_id = 105;\n",
       "                var nbb_unformatted_code = \"def split_train_test(class_label: str, split_ratio: float):\\n\\n    if class_label not in labels:\\n        raise ValueError(\\\"Enter a valid class label!\\\")\\n\\n    split_ratio = split_ratio\\n    all_mice_files = os.listdir(f\\\"{path_to_data}/{class_label}\\\")\\n    random.shuffle(all_mice_files)\\n    train_size = len(all_mice_files) * split_ratio\\n    files_moved = 0\\n\\n    for mice in all_mice_files:\\n        if files_moved < train_size:\\n            shutil.move(\\n                f\\\"{path_to_data}/{class_label}/{mice}\\\",\\n                f\\\"{path_to_data}/train/{class_label}\\\",\\n            )\\n        else:\\n            shutil.move(\\n                f\\\"{path_to_data}/{class_label}/{mice}\\\",\\n                f\\\"{path_to_data}/test/{class_label}\\\",\\n            )\\n        files_moved += 1\\n    if len(os.listdir(f\\\"{path_to_data}/{class_label}\\\")) == 0:\\n        shutil.rmtree(f\\\"{path_to_data}/{class_label}\\\")\\n        print('removed directory')\";\n",
       "                var nbb_formatted_code = \"def split_train_test(class_label: str, split_ratio: float):\\n\\n    if class_label not in labels:\\n        raise ValueError(\\\"Enter a valid class label!\\\")\\n\\n    split_ratio = split_ratio\\n    all_mice_files = os.listdir(f\\\"{path_to_data}/{class_label}\\\")\\n    random.shuffle(all_mice_files)\\n    train_size = len(all_mice_files) * split_ratio\\n    files_moved = 0\\n\\n    for mice in all_mice_files:\\n        if files_moved < train_size:\\n            shutil.move(\\n                f\\\"{path_to_data}/{class_label}/{mice}\\\",\\n                f\\\"{path_to_data}/train/{class_label}\\\",\\n            )\\n        else:\\n            shutil.move(\\n                f\\\"{path_to_data}/{class_label}/{mice}\\\",\\n                f\\\"{path_to_data}/test/{class_label}\\\",\\n            )\\n        files_moved += 1\\n    if len(os.listdir(f\\\"{path_to_data}/{class_label}\\\")) == 0:\\n        shutil.rmtree(f\\\"{path_to_data}/{class_label}\\\")\\n        print(\\\"removed directory\\\")\";\n",
       "                var nbb_cells = Jupyter.notebook.get_cells();\n",
       "                for (var i = 0; i < nbb_cells.length; ++i) {\n",
       "                    if (nbb_cells[i].input_prompt_number == nbb_cell_id) {\n",
       "                        if (nbb_cells[i].get_text() == nbb_unformatted_code) {\n",
       "                             nbb_cells[i].set_text(nbb_formatted_code);\n",
       "                        }\n",
       "                        break;\n",
       "                    }\n",
       "                }\n",
       "            }, 500);\n",
       "            "
      ],
      "text/plain": [
       "<IPython.core.display.Javascript object>"
      ]
     },
     "metadata": {},
     "output_type": "display_data"
    },
    {
     "data": {
      "application/javascript": [
       "\n",
       "            setTimeout(function() {\n",
       "                var nbb_cell_id = 105;\n",
       "                var nbb_unformatted_code = \"def split_train_test(class_label: str, split_ratio: float):\\n\\n    if class_label not in labels:\\n        raise ValueError(\\\"Enter a valid class label!\\\")\\n\\n    split_ratio = split_ratio\\n    all_mice_files = os.listdir(f\\\"{path_to_data}/{class_label}\\\")\\n    random.shuffle(all_mice_files)\\n    train_size = len(all_mice_files) * split_ratio\\n    files_moved = 0\\n\\n    for mice in all_mice_files:\\n        if files_moved < train_size:\\n            shutil.move(\\n                f\\\"{path_to_data}/{class_label}/{mice}\\\",\\n                f\\\"{path_to_data}/train/{class_label}\\\",\\n            )\\n        else:\\n            shutil.move(\\n                f\\\"{path_to_data}/{class_label}/{mice}\\\",\\n                f\\\"{path_to_data}/test/{class_label}\\\",\\n            )\\n        files_moved += 1\\n    if len(os.listdir(f\\\"{path_to_data}/{class_label}\\\")) == 0:\\n        shutil.rmtree(f\\\"{path_to_data}/{class_label}\\\")\\n        print('removed directory')\";\n",
       "                var nbb_formatted_code = \"def split_train_test(class_label: str, split_ratio: float):\\n\\n    if class_label not in labels:\\n        raise ValueError(\\\"Enter a valid class label!\\\")\\n\\n    split_ratio = split_ratio\\n    all_mice_files = os.listdir(f\\\"{path_to_data}/{class_label}\\\")\\n    random.shuffle(all_mice_files)\\n    train_size = len(all_mice_files) * split_ratio\\n    files_moved = 0\\n\\n    for mice in all_mice_files:\\n        if files_moved < train_size:\\n            shutil.move(\\n                f\\\"{path_to_data}/{class_label}/{mice}\\\",\\n                f\\\"{path_to_data}/train/{class_label}\\\",\\n            )\\n        else:\\n            shutil.move(\\n                f\\\"{path_to_data}/{class_label}/{mice}\\\",\\n                f\\\"{path_to_data}/test/{class_label}\\\",\\n            )\\n        files_moved += 1\\n    if len(os.listdir(f\\\"{path_to_data}/{class_label}\\\")) == 0:\\n        shutil.rmtree(f\\\"{path_to_data}/{class_label}\\\")\\n        print(\\\"removed directory\\\")\";\n",
       "                var nbb_cells = Jupyter.notebook.get_cells();\n",
       "                for (var i = 0; i < nbb_cells.length; ++i) {\n",
       "                    if (nbb_cells[i].input_prompt_number == nbb_cell_id) {\n",
       "                        if (nbb_cells[i].get_text() == nbb_unformatted_code) {\n",
       "                             nbb_cells[i].set_text(nbb_formatted_code);\n",
       "                        }\n",
       "                        break;\n",
       "                    }\n",
       "                }\n",
       "            }, 500);\n",
       "            "
      ],
      "text/plain": [
       "<IPython.core.display.Javascript object>"
      ]
     },
     "metadata": {},
     "output_type": "display_data"
    }
   ],
   "source": [
    "def split_train_test(class_label: str, split_ratio: float):\n",
    "\n",
    "    if class_label not in labels:\n",
    "        raise ValueError(\"Enter a valid class label!\")\n",
    "\n",
    "    split_ratio = split_ratio\n",
    "    all_mice_files = os.listdir(f\"{path_to_data}/{class_label}\")\n",
    "    random.shuffle(all_mice_files)\n",
    "    train_size = len(all_mice_files) * split_ratio\n",
    "    files_moved = 0\n",
    "\n",
    "    for mice in all_mice_files:\n",
    "        if files_moved < train_size:\n",
    "            shutil.move(\n",
    "                f\"{path_to_data}/{class_label}/{mice}\",\n",
    "                f\"{path_to_data}/train/{class_label}\",\n",
    "            )\n",
    "        else:\n",
    "            shutil.move(\n",
    "                f\"{path_to_data}/{class_label}/{mice}\",\n",
    "                f\"{path_to_data}/test/{class_label}\",\n",
    "            )\n",
    "        files_moved += 1\n",
    "    if len(os.listdir(f\"{path_to_data}/{class_label}\")) == 0:\n",
    "        shutil.rmtree(f\"{path_to_data}/{class_label}\")\n",
    "        print(\"removed directory\")"
   ]
  },
  {
   "cell_type": "code",
   "execution_count": 106,
   "metadata": {},
   "outputs": [
    {
     "data": {
      "application/javascript": [
       "\n",
       "            setTimeout(function() {\n",
       "                var nbb_cell_id = 106;\n",
       "                var nbb_unformatted_code = \"def create_dataset_pipeline(\\n    start_seconds, end_seconds, class_label: str, split=True, split_ratio=0.8\\n):\\n    try:\\n        create_images_from_video(start_seconds, end_seconds, class_label)\\n        if split:\\n            if len(os.listdir(f\\\"{path_to_data}/{class_label}\\\")) != 0:\\n                split_train_test(class_label, split_ratio)\\n            else:\\n                sys.exit(\\n                    f\\\"{path_to_data}/{class_label} is empty and that means frames from videos were not captured successfully!\\\"\\n                )\\n        else:\\n            pass\\n    except:\\n        var = traceback.format_exc()\\n        print(var)\";\n",
       "                var nbb_formatted_code = \"def create_dataset_pipeline(\\n    start_seconds, end_seconds, class_label: str, split=True, split_ratio=0.8\\n):\\n    try:\\n        create_images_from_video(start_seconds, end_seconds, class_label)\\n        if split:\\n            if len(os.listdir(f\\\"{path_to_data}/{class_label}\\\")) != 0:\\n                split_train_test(class_label, split_ratio)\\n            else:\\n                sys.exit(\\n                    f\\\"{path_to_data}/{class_label} is empty and that means frames from videos were not captured successfully!\\\"\\n                )\\n        else:\\n            pass\\n    except:\\n        var = traceback.format_exc()\\n        print(var)\";\n",
       "                var nbb_cells = Jupyter.notebook.get_cells();\n",
       "                for (var i = 0; i < nbb_cells.length; ++i) {\n",
       "                    if (nbb_cells[i].input_prompt_number == nbb_cell_id) {\n",
       "                        if (nbb_cells[i].get_text() == nbb_unformatted_code) {\n",
       "                             nbb_cells[i].set_text(nbb_formatted_code);\n",
       "                        }\n",
       "                        break;\n",
       "                    }\n",
       "                }\n",
       "            }, 500);\n",
       "            "
      ],
      "text/plain": [
       "<IPython.core.display.Javascript object>"
      ]
     },
     "metadata": {},
     "output_type": "display_data"
    },
    {
     "data": {
      "application/javascript": [
       "\n",
       "            setTimeout(function() {\n",
       "                var nbb_cell_id = 106;\n",
       "                var nbb_unformatted_code = \"def create_dataset_pipeline(\\n    start_seconds, end_seconds, class_label: str, split=True, split_ratio=0.8\\n):\\n    try:\\n        create_images_from_video(start_seconds, end_seconds, class_label)\\n        if split:\\n            if len(os.listdir(f\\\"{path_to_data}/{class_label}\\\")) != 0:\\n                split_train_test(class_label, split_ratio)\\n            else:\\n                sys.exit(\\n                    f\\\"{path_to_data}/{class_label} is empty and that means frames from videos were not captured successfully!\\\"\\n                )\\n        else:\\n            pass\\n    except:\\n        var = traceback.format_exc()\\n        print(var)\";\n",
       "                var nbb_formatted_code = \"def create_dataset_pipeline(\\n    start_seconds, end_seconds, class_label: str, split=True, split_ratio=0.8\\n):\\n    try:\\n        create_images_from_video(start_seconds, end_seconds, class_label)\\n        if split:\\n            if len(os.listdir(f\\\"{path_to_data}/{class_label}\\\")) != 0:\\n                split_train_test(class_label, split_ratio)\\n            else:\\n                sys.exit(\\n                    f\\\"{path_to_data}/{class_label} is empty and that means frames from videos were not captured successfully!\\\"\\n                )\\n        else:\\n            pass\\n    except:\\n        var = traceback.format_exc()\\n        print(var)\";\n",
       "                var nbb_cells = Jupyter.notebook.get_cells();\n",
       "                for (var i = 0; i < nbb_cells.length; ++i) {\n",
       "                    if (nbb_cells[i].input_prompt_number == nbb_cell_id) {\n",
       "                        if (nbb_cells[i].get_text() == nbb_unformatted_code) {\n",
       "                             nbb_cells[i].set_text(nbb_formatted_code);\n",
       "                        }\n",
       "                        break;\n",
       "                    }\n",
       "                }\n",
       "            }, 500);\n",
       "            "
      ],
      "text/plain": [
       "<IPython.core.display.Javascript object>"
      ]
     },
     "metadata": {},
     "output_type": "display_data"
    },
    {
     "data": {
      "application/javascript": [
       "\n",
       "            setTimeout(function() {\n",
       "                var nbb_cell_id = 106;\n",
       "                var nbb_unformatted_code = \"def create_dataset_pipeline(\\n    start_seconds, end_seconds, class_label: str, split=True, split_ratio=0.8\\n):\\n    try:\\n        create_images_from_video(start_seconds, end_seconds, class_label)\\n        if split:\\n            if len(os.listdir(f\\\"{path_to_data}/{class_label}\\\")) != 0:\\n                split_train_test(class_label, split_ratio)\\n            else:\\n                sys.exit(\\n                    f\\\"{path_to_data}/{class_label} is empty and that means frames from videos were not captured successfully!\\\"\\n                )\\n        else:\\n            pass\\n    except:\\n        var = traceback.format_exc()\\n        print(var)\";\n",
       "                var nbb_formatted_code = \"def create_dataset_pipeline(\\n    start_seconds, end_seconds, class_label: str, split=True, split_ratio=0.8\\n):\\n    try:\\n        create_images_from_video(start_seconds, end_seconds, class_label)\\n        if split:\\n            if len(os.listdir(f\\\"{path_to_data}/{class_label}\\\")) != 0:\\n                split_train_test(class_label, split_ratio)\\n            else:\\n                sys.exit(\\n                    f\\\"{path_to_data}/{class_label} is empty and that means frames from videos were not captured successfully!\\\"\\n                )\\n        else:\\n            pass\\n    except:\\n        var = traceback.format_exc()\\n        print(var)\";\n",
       "                var nbb_cells = Jupyter.notebook.get_cells();\n",
       "                for (var i = 0; i < nbb_cells.length; ++i) {\n",
       "                    if (nbb_cells[i].input_prompt_number == nbb_cell_id) {\n",
       "                        if (nbb_cells[i].get_text() == nbb_unformatted_code) {\n",
       "                             nbb_cells[i].set_text(nbb_formatted_code);\n",
       "                        }\n",
       "                        break;\n",
       "                    }\n",
       "                }\n",
       "            }, 500);\n",
       "            "
      ],
      "text/plain": [
       "<IPython.core.display.Javascript object>"
      ]
     },
     "metadata": {},
     "output_type": "display_data"
    },
    {
     "data": {
      "application/javascript": [
       "\n",
       "            setTimeout(function() {\n",
       "                var nbb_cell_id = 106;\n",
       "                var nbb_unformatted_code = \"def create_dataset_pipeline(\\n    start_seconds, end_seconds, class_label: str, split=True, split_ratio=0.8\\n):\\n    try:\\n        create_images_from_video(start_seconds, end_seconds, class_label)\\n        if split:\\n            if len(os.listdir(f\\\"{path_to_data}/{class_label}\\\")) != 0:\\n                split_train_test(class_label, split_ratio)\\n            else:\\n                sys.exit(\\n                    f\\\"{path_to_data}/{class_label} is empty and that means frames from videos were not captured successfully!\\\"\\n                )\\n        else:\\n            pass\\n    except:\\n        var = traceback.format_exc()\\n        print(var)\";\n",
       "                var nbb_formatted_code = \"def create_dataset_pipeline(\\n    start_seconds, end_seconds, class_label: str, split=True, split_ratio=0.8\\n):\\n    try:\\n        create_images_from_video(start_seconds, end_seconds, class_label)\\n        if split:\\n            if len(os.listdir(f\\\"{path_to_data}/{class_label}\\\")) != 0:\\n                split_train_test(class_label, split_ratio)\\n            else:\\n                sys.exit(\\n                    f\\\"{path_to_data}/{class_label} is empty and that means frames from videos were not captured successfully!\\\"\\n                )\\n        else:\\n            pass\\n    except:\\n        var = traceback.format_exc()\\n        print(var)\";\n",
       "                var nbb_cells = Jupyter.notebook.get_cells();\n",
       "                for (var i = 0; i < nbb_cells.length; ++i) {\n",
       "                    if (nbb_cells[i].input_prompt_number == nbb_cell_id) {\n",
       "                        if (nbb_cells[i].get_text() == nbb_unformatted_code) {\n",
       "                             nbb_cells[i].set_text(nbb_formatted_code);\n",
       "                        }\n",
       "                        break;\n",
       "                    }\n",
       "                }\n",
       "            }, 500);\n",
       "            "
      ],
      "text/plain": [
       "<IPython.core.display.Javascript object>"
      ]
     },
     "metadata": {},
     "output_type": "display_data"
    },
    {
     "data": {
      "application/javascript": [
       "\n",
       "            setTimeout(function() {\n",
       "                var nbb_cell_id = 106;\n",
       "                var nbb_unformatted_code = \"def create_dataset_pipeline(\\n    start_seconds, end_seconds, class_label: str, split=True, split_ratio=0.8\\n):\\n    try:\\n        create_images_from_video(start_seconds, end_seconds, class_label)\\n        if split:\\n            if len(os.listdir(f\\\"{path_to_data}/{class_label}\\\")) != 0:\\n                split_train_test(class_label, split_ratio)\\n            else:\\n                sys.exit(\\n                    f\\\"{path_to_data}/{class_label} is empty and that means frames from videos were not captured successfully!\\\"\\n                )\\n        else:\\n            pass\\n    except:\\n        var = traceback.format_exc()\\n        print(var)\";\n",
       "                var nbb_formatted_code = \"def create_dataset_pipeline(\\n    start_seconds, end_seconds, class_label: str, split=True, split_ratio=0.8\\n):\\n    try:\\n        create_images_from_video(start_seconds, end_seconds, class_label)\\n        if split:\\n            if len(os.listdir(f\\\"{path_to_data}/{class_label}\\\")) != 0:\\n                split_train_test(class_label, split_ratio)\\n            else:\\n                sys.exit(\\n                    f\\\"{path_to_data}/{class_label} is empty and that means frames from videos were not captured successfully!\\\"\\n                )\\n        else:\\n            pass\\n    except:\\n        var = traceback.format_exc()\\n        print(var)\";\n",
       "                var nbb_cells = Jupyter.notebook.get_cells();\n",
       "                for (var i = 0; i < nbb_cells.length; ++i) {\n",
       "                    if (nbb_cells[i].input_prompt_number == nbb_cell_id) {\n",
       "                        if (nbb_cells[i].get_text() == nbb_unformatted_code) {\n",
       "                             nbb_cells[i].set_text(nbb_formatted_code);\n",
       "                        }\n",
       "                        break;\n",
       "                    }\n",
       "                }\n",
       "            }, 500);\n",
       "            "
      ],
      "text/plain": [
       "<IPython.core.display.Javascript object>"
      ]
     },
     "metadata": {},
     "output_type": "display_data"
    },
    {
     "data": {
      "application/javascript": [
       "\n",
       "            setTimeout(function() {\n",
       "                var nbb_cell_id = 106;\n",
       "                var nbb_unformatted_code = \"def create_dataset_pipeline(\\n    start_seconds, end_seconds, class_label: str, split=True, split_ratio=0.8\\n):\\n    try:\\n        create_images_from_video(start_seconds, end_seconds, class_label)\\n        if split:\\n            if len(os.listdir(f\\\"{path_to_data}/{class_label}\\\")) != 0:\\n                split_train_test(class_label, split_ratio)\\n            else:\\n                sys.exit(\\n                    f\\\"{path_to_data}/{class_label} is empty and that means frames from videos were not captured successfully!\\\"\\n                )\\n        else:\\n            pass\\n    except:\\n        var = traceback.format_exc()\\n        print(var)\";\n",
       "                var nbb_formatted_code = \"def create_dataset_pipeline(\\n    start_seconds, end_seconds, class_label: str, split=True, split_ratio=0.8\\n):\\n    try:\\n        create_images_from_video(start_seconds, end_seconds, class_label)\\n        if split:\\n            if len(os.listdir(f\\\"{path_to_data}/{class_label}\\\")) != 0:\\n                split_train_test(class_label, split_ratio)\\n            else:\\n                sys.exit(\\n                    f\\\"{path_to_data}/{class_label} is empty and that means frames from videos were not captured successfully!\\\"\\n                )\\n        else:\\n            pass\\n    except:\\n        var = traceback.format_exc()\\n        print(var)\";\n",
       "                var nbb_cells = Jupyter.notebook.get_cells();\n",
       "                for (var i = 0; i < nbb_cells.length; ++i) {\n",
       "                    if (nbb_cells[i].input_prompt_number == nbb_cell_id) {\n",
       "                        if (nbb_cells[i].get_text() == nbb_unformatted_code) {\n",
       "                             nbb_cells[i].set_text(nbb_formatted_code);\n",
       "                        }\n",
       "                        break;\n",
       "                    }\n",
       "                }\n",
       "            }, 500);\n",
       "            "
      ],
      "text/plain": [
       "<IPython.core.display.Javascript object>"
      ]
     },
     "metadata": {},
     "output_type": "display_data"
    },
    {
     "data": {
      "application/javascript": [
       "\n",
       "            setTimeout(function() {\n",
       "                var nbb_cell_id = 106;\n",
       "                var nbb_unformatted_code = \"def create_dataset_pipeline(\\n    start_seconds, end_seconds, class_label: str, split=True, split_ratio=0.8\\n):\\n    try:\\n        create_images_from_video(start_seconds, end_seconds, class_label)\\n        if split:\\n            if len(os.listdir(f\\\"{path_to_data}/{class_label}\\\")) != 0:\\n                split_train_test(class_label, split_ratio)\\n            else:\\n                sys.exit(\\n                    f\\\"{path_to_data}/{class_label} is empty and that means frames from videos were not captured successfully!\\\"\\n                )\\n        else:\\n            pass\\n    except:\\n        var = traceback.format_exc()\\n        print(var)\";\n",
       "                var nbb_formatted_code = \"def create_dataset_pipeline(\\n    start_seconds, end_seconds, class_label: str, split=True, split_ratio=0.8\\n):\\n    try:\\n        create_images_from_video(start_seconds, end_seconds, class_label)\\n        if split:\\n            if len(os.listdir(f\\\"{path_to_data}/{class_label}\\\")) != 0:\\n                split_train_test(class_label, split_ratio)\\n            else:\\n                sys.exit(\\n                    f\\\"{path_to_data}/{class_label} is empty and that means frames from videos were not captured successfully!\\\"\\n                )\\n        else:\\n            pass\\n    except:\\n        var = traceback.format_exc()\\n        print(var)\";\n",
       "                var nbb_cells = Jupyter.notebook.get_cells();\n",
       "                for (var i = 0; i < nbb_cells.length; ++i) {\n",
       "                    if (nbb_cells[i].input_prompt_number == nbb_cell_id) {\n",
       "                        if (nbb_cells[i].get_text() == nbb_unformatted_code) {\n",
       "                             nbb_cells[i].set_text(nbb_formatted_code);\n",
       "                        }\n",
       "                        break;\n",
       "                    }\n",
       "                }\n",
       "            }, 500);\n",
       "            "
      ],
      "text/plain": [
       "<IPython.core.display.Javascript object>"
      ]
     },
     "metadata": {},
     "output_type": "display_data"
    },
    {
     "data": {
      "application/javascript": [
       "\n",
       "            setTimeout(function() {\n",
       "                var nbb_cell_id = 106;\n",
       "                var nbb_unformatted_code = \"def create_dataset_pipeline(\\n    start_seconds, end_seconds, class_label: str, split=True, split_ratio=0.8\\n):\\n    try:\\n        create_images_from_video(start_seconds, end_seconds, class_label)\\n        if split:\\n            if len(os.listdir(f\\\"{path_to_data}/{class_label}\\\")) != 0:\\n                split_train_test(class_label, split_ratio)\\n            else:\\n                sys.exit(\\n                    f\\\"{path_to_data}/{class_label} is empty and that means frames from videos were not captured successfully!\\\"\\n                )\\n        else:\\n            pass\\n    except:\\n        var = traceback.format_exc()\\n        print(var)\";\n",
       "                var nbb_formatted_code = \"def create_dataset_pipeline(\\n    start_seconds, end_seconds, class_label: str, split=True, split_ratio=0.8\\n):\\n    try:\\n        create_images_from_video(start_seconds, end_seconds, class_label)\\n        if split:\\n            if len(os.listdir(f\\\"{path_to_data}/{class_label}\\\")) != 0:\\n                split_train_test(class_label, split_ratio)\\n            else:\\n                sys.exit(\\n                    f\\\"{path_to_data}/{class_label} is empty and that means frames from videos were not captured successfully!\\\"\\n                )\\n        else:\\n            pass\\n    except:\\n        var = traceback.format_exc()\\n        print(var)\";\n",
       "                var nbb_cells = Jupyter.notebook.get_cells();\n",
       "                for (var i = 0; i < nbb_cells.length; ++i) {\n",
       "                    if (nbb_cells[i].input_prompt_number == nbb_cell_id) {\n",
       "                        if (nbb_cells[i].get_text() == nbb_unformatted_code) {\n",
       "                             nbb_cells[i].set_text(nbb_formatted_code);\n",
       "                        }\n",
       "                        break;\n",
       "                    }\n",
       "                }\n",
       "            }, 500);\n",
       "            "
      ],
      "text/plain": [
       "<IPython.core.display.Javascript object>"
      ]
     },
     "metadata": {},
     "output_type": "display_data"
    }
   ],
   "source": [
    "def create_dataset_pipeline(\n",
    "    start_seconds, end_seconds, class_label: str, split=True, split_ratio=0.8\n",
    "):\n",
    "    try:\n",
    "        create_images_from_video(start_seconds, end_seconds, class_label)\n",
    "        if split:\n",
    "            if len(os.listdir(f\"{path_to_data}/{class_label}\")) != 0:\n",
    "                split_train_test(class_label, split_ratio)\n",
    "            else:\n",
    "                sys.exit(\n",
    "                    f\"{path_to_data}/{class_label} is empty and that means frames from videos were not captured successfully!\"\n",
    "                )\n",
    "        else:\n",
    "            pass\n",
    "    except:\n",
    "        var = traceback.format_exc()\n",
    "        print(var)"
   ]
  },
  {
   "cell_type": "code",
   "execution_count": 107,
   "metadata": {},
   "outputs": [
    {
     "data": {
      "application/javascript": [
       "\n",
       "            setTimeout(function() {\n",
       "                var nbb_cell_id = 107;\n",
       "                var nbb_unformatted_code = \"# start = floor(Total frames / frame_rate) - (ignore last trial(120 seconds) + 30 second threshold)\\ndef create_parent_dataset(parent_images):\\n    frame_rate = math.floor(mice_row[\\\"video_fps\\\"].item())\\n    start_seconds = random.randint(\\n        0, (mice_row[\\\"total_video_frames\\\"].item() // frame_rate) - 150\\n    )\\n    end_seconds = start_seconds + parent_images\\n    create_dataset_pipeline(start_seconds, end_seconds, \\\"parent-mice\\\")\\n\\n    train_size = len(os.listdir(f\\\"{path_to_data}/train/parent-mice\\\"))\\n    test_size = len(os.listdir(f\\\"{path_to_data}/test/parent-mice\\\"))\\n\\n    print(\\n        f\\\"Saved all {parent_images} parent image files and train has {train_size} pictures and test has {test_size} pictures!\\\"\\n    )\";\n",
       "                var nbb_formatted_code = \"# start = floor(Total frames / frame_rate) - (ignore last trial(120 seconds) + 30 second threshold)\\ndef create_parent_dataset(parent_images):\\n    frame_rate = math.floor(mice_row[\\\"video_fps\\\"].item())\\n    start_seconds = random.randint(\\n        0, (mice_row[\\\"total_video_frames\\\"].item() // frame_rate) - 150\\n    )\\n    end_seconds = start_seconds + parent_images\\n    create_dataset_pipeline(start_seconds, end_seconds, \\\"parent-mice\\\")\\n\\n    train_size = len(os.listdir(f\\\"{path_to_data}/train/parent-mice\\\"))\\n    test_size = len(os.listdir(f\\\"{path_to_data}/test/parent-mice\\\"))\\n\\n    print(\\n        f\\\"Saved all {parent_images} parent image files and train has {train_size} pictures and test has {test_size} pictures!\\\"\\n    )\";\n",
       "                var nbb_cells = Jupyter.notebook.get_cells();\n",
       "                for (var i = 0; i < nbb_cells.length; ++i) {\n",
       "                    if (nbb_cells[i].input_prompt_number == nbb_cell_id) {\n",
       "                        if (nbb_cells[i].get_text() == nbb_unformatted_code) {\n",
       "                             nbb_cells[i].set_text(nbb_formatted_code);\n",
       "                        }\n",
       "                        break;\n",
       "                    }\n",
       "                }\n",
       "            }, 500);\n",
       "            "
      ],
      "text/plain": [
       "<IPython.core.display.Javascript object>"
      ]
     },
     "metadata": {},
     "output_type": "display_data"
    },
    {
     "data": {
      "application/javascript": [
       "\n",
       "            setTimeout(function() {\n",
       "                var nbb_cell_id = 107;\n",
       "                var nbb_unformatted_code = \"# start = floor(Total frames / frame_rate) - (ignore last trial(120 seconds) + 30 second threshold)\\ndef create_parent_dataset(parent_images):\\n    frame_rate = math.floor(mice_row[\\\"video_fps\\\"].item())\\n    start_seconds = random.randint(\\n        0, (mice_row[\\\"total_video_frames\\\"].item() // frame_rate) - 150\\n    )\\n    end_seconds = start_seconds + parent_images\\n    create_dataset_pipeline(start_seconds, end_seconds, \\\"parent-mice\\\")\\n\\n    train_size = len(os.listdir(f\\\"{path_to_data}/train/parent-mice\\\"))\\n    test_size = len(os.listdir(f\\\"{path_to_data}/test/parent-mice\\\"))\\n\\n    print(\\n        f\\\"Saved all {parent_images} parent image files and train has {train_size} pictures and test has {test_size} pictures!\\\"\\n    )\";\n",
       "                var nbb_formatted_code = \"# start = floor(Total frames / frame_rate) - (ignore last trial(120 seconds) + 30 second threshold)\\ndef create_parent_dataset(parent_images):\\n    frame_rate = math.floor(mice_row[\\\"video_fps\\\"].item())\\n    start_seconds = random.randint(\\n        0, (mice_row[\\\"total_video_frames\\\"].item() // frame_rate) - 150\\n    )\\n    end_seconds = start_seconds + parent_images\\n    create_dataset_pipeline(start_seconds, end_seconds, \\\"parent-mice\\\")\\n\\n    train_size = len(os.listdir(f\\\"{path_to_data}/train/parent-mice\\\"))\\n    test_size = len(os.listdir(f\\\"{path_to_data}/test/parent-mice\\\"))\\n\\n    print(\\n        f\\\"Saved all {parent_images} parent image files and train has {train_size} pictures and test has {test_size} pictures!\\\"\\n    )\";\n",
       "                var nbb_cells = Jupyter.notebook.get_cells();\n",
       "                for (var i = 0; i < nbb_cells.length; ++i) {\n",
       "                    if (nbb_cells[i].input_prompt_number == nbb_cell_id) {\n",
       "                        if (nbb_cells[i].get_text() == nbb_unformatted_code) {\n",
       "                             nbb_cells[i].set_text(nbb_formatted_code);\n",
       "                        }\n",
       "                        break;\n",
       "                    }\n",
       "                }\n",
       "            }, 500);\n",
       "            "
      ],
      "text/plain": [
       "<IPython.core.display.Javascript object>"
      ]
     },
     "metadata": {},
     "output_type": "display_data"
    },
    {
     "data": {
      "application/javascript": [
       "\n",
       "            setTimeout(function() {\n",
       "                var nbb_cell_id = 107;\n",
       "                var nbb_unformatted_code = \"# start = floor(Total frames / frame_rate) - (ignore last trial(120 seconds) + 30 second threshold)\\ndef create_parent_dataset(parent_images):\\n    frame_rate = math.floor(mice_row[\\\"video_fps\\\"].item())\\n    start_seconds = random.randint(\\n        0, (mice_row[\\\"total_video_frames\\\"].item() // frame_rate) - 150\\n    )\\n    end_seconds = start_seconds + parent_images\\n    create_dataset_pipeline(start_seconds, end_seconds, \\\"parent-mice\\\")\\n\\n    train_size = len(os.listdir(f\\\"{path_to_data}/train/parent-mice\\\"))\\n    test_size = len(os.listdir(f\\\"{path_to_data}/test/parent-mice\\\"))\\n\\n    print(\\n        f\\\"Saved all {parent_images} parent image files and train has {train_size} pictures and test has {test_size} pictures!\\\"\\n    )\";\n",
       "                var nbb_formatted_code = \"# start = floor(Total frames / frame_rate) - (ignore last trial(120 seconds) + 30 second threshold)\\ndef create_parent_dataset(parent_images):\\n    frame_rate = math.floor(mice_row[\\\"video_fps\\\"].item())\\n    start_seconds = random.randint(\\n        0, (mice_row[\\\"total_video_frames\\\"].item() // frame_rate) - 150\\n    )\\n    end_seconds = start_seconds + parent_images\\n    create_dataset_pipeline(start_seconds, end_seconds, \\\"parent-mice\\\")\\n\\n    train_size = len(os.listdir(f\\\"{path_to_data}/train/parent-mice\\\"))\\n    test_size = len(os.listdir(f\\\"{path_to_data}/test/parent-mice\\\"))\\n\\n    print(\\n        f\\\"Saved all {parent_images} parent image files and train has {train_size} pictures and test has {test_size} pictures!\\\"\\n    )\";\n",
       "                var nbb_cells = Jupyter.notebook.get_cells();\n",
       "                for (var i = 0; i < nbb_cells.length; ++i) {\n",
       "                    if (nbb_cells[i].input_prompt_number == nbb_cell_id) {\n",
       "                        if (nbb_cells[i].get_text() == nbb_unformatted_code) {\n",
       "                             nbb_cells[i].set_text(nbb_formatted_code);\n",
       "                        }\n",
       "                        break;\n",
       "                    }\n",
       "                }\n",
       "            }, 500);\n",
       "            "
      ],
      "text/plain": [
       "<IPython.core.display.Javascript object>"
      ]
     },
     "metadata": {},
     "output_type": "display_data"
    },
    {
     "data": {
      "application/javascript": [
       "\n",
       "            setTimeout(function() {\n",
       "                var nbb_cell_id = 107;\n",
       "                var nbb_unformatted_code = \"# start = floor(Total frames / frame_rate) - (ignore last trial(120 seconds) + 30 second threshold)\\ndef create_parent_dataset(parent_images):\\n    frame_rate = math.floor(mice_row[\\\"video_fps\\\"].item())\\n    start_seconds = random.randint(\\n        0, (mice_row[\\\"total_video_frames\\\"].item() // frame_rate) - 150\\n    )\\n    end_seconds = start_seconds + parent_images\\n    create_dataset_pipeline(start_seconds, end_seconds, \\\"parent-mice\\\")\\n\\n    train_size = len(os.listdir(f\\\"{path_to_data}/train/parent-mice\\\"))\\n    test_size = len(os.listdir(f\\\"{path_to_data}/test/parent-mice\\\"))\\n\\n    print(\\n        f\\\"Saved all {parent_images} parent image files and train has {train_size} pictures and test has {test_size} pictures!\\\"\\n    )\";\n",
       "                var nbb_formatted_code = \"# start = floor(Total frames / frame_rate) - (ignore last trial(120 seconds) + 30 second threshold)\\ndef create_parent_dataset(parent_images):\\n    frame_rate = math.floor(mice_row[\\\"video_fps\\\"].item())\\n    start_seconds = random.randint(\\n        0, (mice_row[\\\"total_video_frames\\\"].item() // frame_rate) - 150\\n    )\\n    end_seconds = start_seconds + parent_images\\n    create_dataset_pipeline(start_seconds, end_seconds, \\\"parent-mice\\\")\\n\\n    train_size = len(os.listdir(f\\\"{path_to_data}/train/parent-mice\\\"))\\n    test_size = len(os.listdir(f\\\"{path_to_data}/test/parent-mice\\\"))\\n\\n    print(\\n        f\\\"Saved all {parent_images} parent image files and train has {train_size} pictures and test has {test_size} pictures!\\\"\\n    )\";\n",
       "                var nbb_cells = Jupyter.notebook.get_cells();\n",
       "                for (var i = 0; i < nbb_cells.length; ++i) {\n",
       "                    if (nbb_cells[i].input_prompt_number == nbb_cell_id) {\n",
       "                        if (nbb_cells[i].get_text() == nbb_unformatted_code) {\n",
       "                             nbb_cells[i].set_text(nbb_formatted_code);\n",
       "                        }\n",
       "                        break;\n",
       "                    }\n",
       "                }\n",
       "            }, 500);\n",
       "            "
      ],
      "text/plain": [
       "<IPython.core.display.Javascript object>"
      ]
     },
     "metadata": {},
     "output_type": "display_data"
    },
    {
     "data": {
      "application/javascript": [
       "\n",
       "            setTimeout(function() {\n",
       "                var nbb_cell_id = 107;\n",
       "                var nbb_unformatted_code = \"# start = floor(Total frames / frame_rate) - (ignore last trial(120 seconds) + 30 second threshold)\\ndef create_parent_dataset(parent_images):\\n    frame_rate = math.floor(mice_row[\\\"video_fps\\\"].item())\\n    start_seconds = random.randint(\\n        0, (mice_row[\\\"total_video_frames\\\"].item() // frame_rate) - 150\\n    )\\n    end_seconds = start_seconds + parent_images\\n    create_dataset_pipeline(start_seconds, end_seconds, \\\"parent-mice\\\")\\n\\n    train_size = len(os.listdir(f\\\"{path_to_data}/train/parent-mice\\\"))\\n    test_size = len(os.listdir(f\\\"{path_to_data}/test/parent-mice\\\"))\\n\\n    print(\\n        f\\\"Saved all {parent_images} parent image files and train has {train_size} pictures and test has {test_size} pictures!\\\"\\n    )\";\n",
       "                var nbb_formatted_code = \"# start = floor(Total frames / frame_rate) - (ignore last trial(120 seconds) + 30 second threshold)\\ndef create_parent_dataset(parent_images):\\n    frame_rate = math.floor(mice_row[\\\"video_fps\\\"].item())\\n    start_seconds = random.randint(\\n        0, (mice_row[\\\"total_video_frames\\\"].item() // frame_rate) - 150\\n    )\\n    end_seconds = start_seconds + parent_images\\n    create_dataset_pipeline(start_seconds, end_seconds, \\\"parent-mice\\\")\\n\\n    train_size = len(os.listdir(f\\\"{path_to_data}/train/parent-mice\\\"))\\n    test_size = len(os.listdir(f\\\"{path_to_data}/test/parent-mice\\\"))\\n\\n    print(\\n        f\\\"Saved all {parent_images} parent image files and train has {train_size} pictures and test has {test_size} pictures!\\\"\\n    )\";\n",
       "                var nbb_cells = Jupyter.notebook.get_cells();\n",
       "                for (var i = 0; i < nbb_cells.length; ++i) {\n",
       "                    if (nbb_cells[i].input_prompt_number == nbb_cell_id) {\n",
       "                        if (nbb_cells[i].get_text() == nbb_unformatted_code) {\n",
       "                             nbb_cells[i].set_text(nbb_formatted_code);\n",
       "                        }\n",
       "                        break;\n",
       "                    }\n",
       "                }\n",
       "            }, 500);\n",
       "            "
      ],
      "text/plain": [
       "<IPython.core.display.Javascript object>"
      ]
     },
     "metadata": {},
     "output_type": "display_data"
    },
    {
     "data": {
      "application/javascript": [
       "\n",
       "            setTimeout(function() {\n",
       "                var nbb_cell_id = 107;\n",
       "                var nbb_unformatted_code = \"# start = floor(Total frames / frame_rate) - (ignore last trial(120 seconds) + 30 second threshold)\\ndef create_parent_dataset(parent_images):\\n    frame_rate = math.floor(mice_row[\\\"video_fps\\\"].item())\\n    start_seconds = random.randint(\\n        0, (mice_row[\\\"total_video_frames\\\"].item() // frame_rate) - 150\\n    )\\n    end_seconds = start_seconds + parent_images\\n    create_dataset_pipeline(start_seconds, end_seconds, \\\"parent-mice\\\")\\n\\n    train_size = len(os.listdir(f\\\"{path_to_data}/train/parent-mice\\\"))\\n    test_size = len(os.listdir(f\\\"{path_to_data}/test/parent-mice\\\"))\\n\\n    print(\\n        f\\\"Saved all {parent_images} parent image files and train has {train_size} pictures and test has {test_size} pictures!\\\"\\n    )\";\n",
       "                var nbb_formatted_code = \"# start = floor(Total frames / frame_rate) - (ignore last trial(120 seconds) + 30 second threshold)\\ndef create_parent_dataset(parent_images):\\n    frame_rate = math.floor(mice_row[\\\"video_fps\\\"].item())\\n    start_seconds = random.randint(\\n        0, (mice_row[\\\"total_video_frames\\\"].item() // frame_rate) - 150\\n    )\\n    end_seconds = start_seconds + parent_images\\n    create_dataset_pipeline(start_seconds, end_seconds, \\\"parent-mice\\\")\\n\\n    train_size = len(os.listdir(f\\\"{path_to_data}/train/parent-mice\\\"))\\n    test_size = len(os.listdir(f\\\"{path_to_data}/test/parent-mice\\\"))\\n\\n    print(\\n        f\\\"Saved all {parent_images} parent image files and train has {train_size} pictures and test has {test_size} pictures!\\\"\\n    )\";\n",
       "                var nbb_cells = Jupyter.notebook.get_cells();\n",
       "                for (var i = 0; i < nbb_cells.length; ++i) {\n",
       "                    if (nbb_cells[i].input_prompt_number == nbb_cell_id) {\n",
       "                        if (nbb_cells[i].get_text() == nbb_unformatted_code) {\n",
       "                             nbb_cells[i].set_text(nbb_formatted_code);\n",
       "                        }\n",
       "                        break;\n",
       "                    }\n",
       "                }\n",
       "            }, 500);\n",
       "            "
      ],
      "text/plain": [
       "<IPython.core.display.Javascript object>"
      ]
     },
     "metadata": {},
     "output_type": "display_data"
    },
    {
     "data": {
      "application/javascript": [
       "\n",
       "            setTimeout(function() {\n",
       "                var nbb_cell_id = 107;\n",
       "                var nbb_unformatted_code = \"# start = floor(Total frames / frame_rate) - (ignore last trial(120 seconds) + 30 second threshold)\\ndef create_parent_dataset(parent_images):\\n    frame_rate = math.floor(mice_row[\\\"video_fps\\\"].item())\\n    start_seconds = random.randint(\\n        0, (mice_row[\\\"total_video_frames\\\"].item() // frame_rate) - 150\\n    )\\n    end_seconds = start_seconds + parent_images\\n    create_dataset_pipeline(start_seconds, end_seconds, \\\"parent-mice\\\")\\n\\n    train_size = len(os.listdir(f\\\"{path_to_data}/train/parent-mice\\\"))\\n    test_size = len(os.listdir(f\\\"{path_to_data}/test/parent-mice\\\"))\\n\\n    print(\\n        f\\\"Saved all {parent_images} parent image files and train has {train_size} pictures and test has {test_size} pictures!\\\"\\n    )\";\n",
       "                var nbb_formatted_code = \"# start = floor(Total frames / frame_rate) - (ignore last trial(120 seconds) + 30 second threshold)\\ndef create_parent_dataset(parent_images):\\n    frame_rate = math.floor(mice_row[\\\"video_fps\\\"].item())\\n    start_seconds = random.randint(\\n        0, (mice_row[\\\"total_video_frames\\\"].item() // frame_rate) - 150\\n    )\\n    end_seconds = start_seconds + parent_images\\n    create_dataset_pipeline(start_seconds, end_seconds, \\\"parent-mice\\\")\\n\\n    train_size = len(os.listdir(f\\\"{path_to_data}/train/parent-mice\\\"))\\n    test_size = len(os.listdir(f\\\"{path_to_data}/test/parent-mice\\\"))\\n\\n    print(\\n        f\\\"Saved all {parent_images} parent image files and train has {train_size} pictures and test has {test_size} pictures!\\\"\\n    )\";\n",
       "                var nbb_cells = Jupyter.notebook.get_cells();\n",
       "                for (var i = 0; i < nbb_cells.length; ++i) {\n",
       "                    if (nbb_cells[i].input_prompt_number == nbb_cell_id) {\n",
       "                        if (nbb_cells[i].get_text() == nbb_unformatted_code) {\n",
       "                             nbb_cells[i].set_text(nbb_formatted_code);\n",
       "                        }\n",
       "                        break;\n",
       "                    }\n",
       "                }\n",
       "            }, 500);\n",
       "            "
      ],
      "text/plain": [
       "<IPython.core.display.Javascript object>"
      ]
     },
     "metadata": {},
     "output_type": "display_data"
    },
    {
     "data": {
      "application/javascript": [
       "\n",
       "            setTimeout(function() {\n",
       "                var nbb_cell_id = 107;\n",
       "                var nbb_unformatted_code = \"# start = floor(Total frames / frame_rate) - (ignore last trial(120 seconds) + 30 second threshold)\\ndef create_parent_dataset(parent_images):\\n    frame_rate = math.floor(mice_row[\\\"video_fps\\\"].item())\\n    start_seconds = random.randint(\\n        0, (mice_row[\\\"total_video_frames\\\"].item() // frame_rate) - 150\\n    )\\n    end_seconds = start_seconds + parent_images\\n    create_dataset_pipeline(start_seconds, end_seconds, \\\"parent-mice\\\")\\n\\n    train_size = len(os.listdir(f\\\"{path_to_data}/train/parent-mice\\\"))\\n    test_size = len(os.listdir(f\\\"{path_to_data}/test/parent-mice\\\"))\\n\\n    print(\\n        f\\\"Saved all {parent_images} parent image files and train has {train_size} pictures and test has {test_size} pictures!\\\"\\n    )\";\n",
       "                var nbb_formatted_code = \"# start = floor(Total frames / frame_rate) - (ignore last trial(120 seconds) + 30 second threshold)\\ndef create_parent_dataset(parent_images):\\n    frame_rate = math.floor(mice_row[\\\"video_fps\\\"].item())\\n    start_seconds = random.randint(\\n        0, (mice_row[\\\"total_video_frames\\\"].item() // frame_rate) - 150\\n    )\\n    end_seconds = start_seconds + parent_images\\n    create_dataset_pipeline(start_seconds, end_seconds, \\\"parent-mice\\\")\\n\\n    train_size = len(os.listdir(f\\\"{path_to_data}/train/parent-mice\\\"))\\n    test_size = len(os.listdir(f\\\"{path_to_data}/test/parent-mice\\\"))\\n\\n    print(\\n        f\\\"Saved all {parent_images} parent image files and train has {train_size} pictures and test has {test_size} pictures!\\\"\\n    )\";\n",
       "                var nbb_cells = Jupyter.notebook.get_cells();\n",
       "                for (var i = 0; i < nbb_cells.length; ++i) {\n",
       "                    if (nbb_cells[i].input_prompt_number == nbb_cell_id) {\n",
       "                        if (nbb_cells[i].get_text() == nbb_unformatted_code) {\n",
       "                             nbb_cells[i].set_text(nbb_formatted_code);\n",
       "                        }\n",
       "                        break;\n",
       "                    }\n",
       "                }\n",
       "            }, 500);\n",
       "            "
      ],
      "text/plain": [
       "<IPython.core.display.Javascript object>"
      ]
     },
     "metadata": {},
     "output_type": "display_data"
    }
   ],
   "source": [
    "# start = floor(Total frames / frame_rate) - (ignore last trial(120 seconds) + 30 second threshold)\n",
    "def create_parent_dataset(parent_images):\n",
    "    frame_rate = math.floor(mice_row[\"video_fps\"].item())\n",
    "    start_seconds = random.randint(\n",
    "        0, (mice_row[\"total_video_frames\"].item() // frame_rate) - 150\n",
    "    )\n",
    "    end_seconds = start_seconds + parent_images\n",
    "    create_dataset_pipeline(start_seconds, end_seconds, \"parent-mice\")\n",
    "\n",
    "    train_size = len(os.listdir(f\"{path_to_data}/train/parent-mice\"))\n",
    "    test_size = len(os.listdir(f\"{path_to_data}/test/parent-mice\"))\n",
    "\n",
    "    print(\n",
    "        f\"Saved all {parent_images} parent image files and train has {train_size} pictures and test has {test_size} pictures!\"\n",
    "    )"
   ]
  },
  {
   "cell_type": "code",
   "execution_count": 108,
   "metadata": {},
   "outputs": [
    {
     "data": {
      "text/html": [
       "<div>\n",
       "<style scoped>\n",
       "    .dataframe tbody tr th:only-of-type {\n",
       "        vertical-align: middle;\n",
       "    }\n",
       "\n",
       "    .dataframe tbody tr th {\n",
       "        vertical-align: top;\n",
       "    }\n",
       "\n",
       "    .dataframe thead th {\n",
       "        text-align: right;\n",
       "    }\n",
       "</style>\n",
       "<table border=\"1\" class=\"dataframe\">\n",
       "  <thead>\n",
       "    <tr style=\"text-align: right;\">\n",
       "      <th></th>\n",
       "      <th>Group</th>\n",
       "      <th>Cohort</th>\n",
       "      <th>MouseID</th>\n",
       "      <th>Virus</th>\n",
       "      <th>Trial</th>\n",
       "      <th>Laser</th>\n",
       "      <th>Start</th>\n",
       "      <th>Time_Latency_Contact_s</th>\n",
       "      <th>Latency_Contact_s</th>\n",
       "      <th>Time_Latency_Retrieve_s</th>\n",
       "      <th>Latency_Retrieve_s</th>\n",
       "      <th>Retrieved</th>\n",
       "    </tr>\n",
       "  </thead>\n",
       "  <tbody>\n",
       "    <tr>\n",
       "      <th>0</th>\n",
       "      <td>Control</td>\n",
       "      <td>1</td>\n",
       "      <td>PrL-10</td>\n",
       "      <td>mCherry</td>\n",
       "      <td>1</td>\n",
       "      <td>OFF</td>\n",
       "      <td>0:13</td>\n",
       "      <td>0:27</td>\n",
       "      <td>14.0</td>\n",
       "      <td>NO</td>\n",
       "      <td>120</td>\n",
       "      <td>0</td>\n",
       "    </tr>\n",
       "    <tr>\n",
       "      <th>1</th>\n",
       "      <td>Control</td>\n",
       "      <td>1</td>\n",
       "      <td>PrL-10</td>\n",
       "      <td>mCherry</td>\n",
       "      <td>2</td>\n",
       "      <td>ON</td>\n",
       "      <td>2:38</td>\n",
       "      <td>2:57</td>\n",
       "      <td>19.0</td>\n",
       "      <td>NO</td>\n",
       "      <td>120</td>\n",
       "      <td>0</td>\n",
       "    </tr>\n",
       "    <tr>\n",
       "      <th>2</th>\n",
       "      <td>Control</td>\n",
       "      <td>1</td>\n",
       "      <td>PrL-10</td>\n",
       "      <td>mCherry</td>\n",
       "      <td>3</td>\n",
       "      <td>OFF</td>\n",
       "      <td>5:00</td>\n",
       "      <td>6:11</td>\n",
       "      <td>71.0</td>\n",
       "      <td>NO</td>\n",
       "      <td>120</td>\n",
       "      <td>0</td>\n",
       "    </tr>\n",
       "    <tr>\n",
       "      <th>3</th>\n",
       "      <td>Control</td>\n",
       "      <td>1</td>\n",
       "      <td>PrL-10</td>\n",
       "      <td>mCherry</td>\n",
       "      <td>4</td>\n",
       "      <td>ON</td>\n",
       "      <td>7:19</td>\n",
       "      <td>8:27</td>\n",
       "      <td>68.0</td>\n",
       "      <td>NO</td>\n",
       "      <td>120</td>\n",
       "      <td>0</td>\n",
       "    </tr>\n",
       "    <tr>\n",
       "      <th>4</th>\n",
       "      <td>Control</td>\n",
       "      <td>1</td>\n",
       "      <td>PrL-10</td>\n",
       "      <td>mCherry</td>\n",
       "      <td>5</td>\n",
       "      <td>OFF</td>\n",
       "      <td>9:37</td>\n",
       "      <td>NO</td>\n",
       "      <td>120.0</td>\n",
       "      <td>NO</td>\n",
       "      <td>120</td>\n",
       "      <td>0</td>\n",
       "    </tr>\n",
       "  </tbody>\n",
       "</table>\n",
       "</div>"
      ],
      "text/plain": [
       "     Group  Cohort MouseID    Virus  Trial Laser Start Time_Latency_Contact_s  \\\n",
       "0  Control       1  PrL-10  mCherry      1   OFF  0:13                   0:27   \n",
       "1  Control       1  PrL-10  mCherry      2    ON  2:38                   2:57   \n",
       "2  Control       1  PrL-10  mCherry      3   OFF  5:00                   6:11   \n",
       "3  Control       1  PrL-10  mCherry      4    ON  7:19                   8:27   \n",
       "4  Control       1  PrL-10  mCherry      5   OFF  9:37                     NO   \n",
       "\n",
       "   Latency_Contact_s Time_Latency_Retrieve_s  Latency_Retrieve_s  Retrieved  \n",
       "0               14.0                      NO                 120          0  \n",
       "1               19.0                      NO                 120          0  \n",
       "2               71.0                      NO                 120          0  \n",
       "3               68.0                      NO                 120          0  \n",
       "4              120.0                      NO                 120          0  "
      ]
     },
     "execution_count": 108,
     "metadata": {},
     "output_type": "execute_result"
    },
    {
     "data": {
      "application/javascript": [
       "\n",
       "            setTimeout(function() {\n",
       "                var nbb_cell_id = 108;\n",
       "                var nbb_unformatted_code = \"experiment = pd.read_csv(f\\\"{parent_directory}/experiment_new.csv\\\")\\nexperiment.head()\";\n",
       "                var nbb_formatted_code = \"experiment = pd.read_csv(f\\\"{parent_directory}/experiment_new.csv\\\")\\nexperiment.head()\";\n",
       "                var nbb_cells = Jupyter.notebook.get_cells();\n",
       "                for (var i = 0; i < nbb_cells.length; ++i) {\n",
       "                    if (nbb_cells[i].input_prompt_number == nbb_cell_id) {\n",
       "                        if (nbb_cells[i].get_text() == nbb_unformatted_code) {\n",
       "                             nbb_cells[i].set_text(nbb_formatted_code);\n",
       "                        }\n",
       "                        break;\n",
       "                    }\n",
       "                }\n",
       "            }, 500);\n",
       "            "
      ],
      "text/plain": [
       "<IPython.core.display.Javascript object>"
      ]
     },
     "metadata": {},
     "output_type": "display_data"
    },
    {
     "data": {
      "application/javascript": [
       "\n",
       "            setTimeout(function() {\n",
       "                var nbb_cell_id = 108;\n",
       "                var nbb_unformatted_code = \"experiment = pd.read_csv(f\\\"{parent_directory}/experiment_new.csv\\\")\\nexperiment.head()\";\n",
       "                var nbb_formatted_code = \"experiment = pd.read_csv(f\\\"{parent_directory}/experiment_new.csv\\\")\\nexperiment.head()\";\n",
       "                var nbb_cells = Jupyter.notebook.get_cells();\n",
       "                for (var i = 0; i < nbb_cells.length; ++i) {\n",
       "                    if (nbb_cells[i].input_prompt_number == nbb_cell_id) {\n",
       "                        if (nbb_cells[i].get_text() == nbb_unformatted_code) {\n",
       "                             nbb_cells[i].set_text(nbb_formatted_code);\n",
       "                        }\n",
       "                        break;\n",
       "                    }\n",
       "                }\n",
       "            }, 500);\n",
       "            "
      ],
      "text/plain": [
       "<IPython.core.display.Javascript object>"
      ]
     },
     "metadata": {},
     "output_type": "display_data"
    },
    {
     "data": {
      "application/javascript": [
       "\n",
       "            setTimeout(function() {\n",
       "                var nbb_cell_id = 108;\n",
       "                var nbb_unformatted_code = \"experiment = pd.read_csv(f\\\"{parent_directory}/experiment_new.csv\\\")\\nexperiment.head()\";\n",
       "                var nbb_formatted_code = \"experiment = pd.read_csv(f\\\"{parent_directory}/experiment_new.csv\\\")\\nexperiment.head()\";\n",
       "                var nbb_cells = Jupyter.notebook.get_cells();\n",
       "                for (var i = 0; i < nbb_cells.length; ++i) {\n",
       "                    if (nbb_cells[i].input_prompt_number == nbb_cell_id) {\n",
       "                        if (nbb_cells[i].get_text() == nbb_unformatted_code) {\n",
       "                             nbb_cells[i].set_text(nbb_formatted_code);\n",
       "                        }\n",
       "                        break;\n",
       "                    }\n",
       "                }\n",
       "            }, 500);\n",
       "            "
      ],
      "text/plain": [
       "<IPython.core.display.Javascript object>"
      ]
     },
     "metadata": {},
     "output_type": "display_data"
    },
    {
     "data": {
      "application/javascript": [
       "\n",
       "            setTimeout(function() {\n",
       "                var nbb_cell_id = 108;\n",
       "                var nbb_unformatted_code = \"experiment = pd.read_csv(f\\\"{parent_directory}/experiment_new.csv\\\")\\nexperiment.head()\";\n",
       "                var nbb_formatted_code = \"experiment = pd.read_csv(f\\\"{parent_directory}/experiment_new.csv\\\")\\nexperiment.head()\";\n",
       "                var nbb_cells = Jupyter.notebook.get_cells();\n",
       "                for (var i = 0; i < nbb_cells.length; ++i) {\n",
       "                    if (nbb_cells[i].input_prompt_number == nbb_cell_id) {\n",
       "                        if (nbb_cells[i].get_text() == nbb_unformatted_code) {\n",
       "                             nbb_cells[i].set_text(nbb_formatted_code);\n",
       "                        }\n",
       "                        break;\n",
       "                    }\n",
       "                }\n",
       "            }, 500);\n",
       "            "
      ],
      "text/plain": [
       "<IPython.core.display.Javascript object>"
      ]
     },
     "metadata": {},
     "output_type": "display_data"
    },
    {
     "data": {
      "application/javascript": [
       "\n",
       "            setTimeout(function() {\n",
       "                var nbb_cell_id = 108;\n",
       "                var nbb_unformatted_code = \"experiment = pd.read_csv(f\\\"{parent_directory}/experiment_new.csv\\\")\\nexperiment.head()\";\n",
       "                var nbb_formatted_code = \"experiment = pd.read_csv(f\\\"{parent_directory}/experiment_new.csv\\\")\\nexperiment.head()\";\n",
       "                var nbb_cells = Jupyter.notebook.get_cells();\n",
       "                for (var i = 0; i < nbb_cells.length; ++i) {\n",
       "                    if (nbb_cells[i].input_prompt_number == nbb_cell_id) {\n",
       "                        if (nbb_cells[i].get_text() == nbb_unformatted_code) {\n",
       "                             nbb_cells[i].set_text(nbb_formatted_code);\n",
       "                        }\n",
       "                        break;\n",
       "                    }\n",
       "                }\n",
       "            }, 500);\n",
       "            "
      ],
      "text/plain": [
       "<IPython.core.display.Javascript object>"
      ]
     },
     "metadata": {},
     "output_type": "display_data"
    },
    {
     "data": {
      "application/javascript": [
       "\n",
       "            setTimeout(function() {\n",
       "                var nbb_cell_id = 108;\n",
       "                var nbb_unformatted_code = \"experiment = pd.read_csv(f\\\"{parent_directory}/experiment_new.csv\\\")\\nexperiment.head()\";\n",
       "                var nbb_formatted_code = \"experiment = pd.read_csv(f\\\"{parent_directory}/experiment_new.csv\\\")\\nexperiment.head()\";\n",
       "                var nbb_cells = Jupyter.notebook.get_cells();\n",
       "                for (var i = 0; i < nbb_cells.length; ++i) {\n",
       "                    if (nbb_cells[i].input_prompt_number == nbb_cell_id) {\n",
       "                        if (nbb_cells[i].get_text() == nbb_unformatted_code) {\n",
       "                             nbb_cells[i].set_text(nbb_formatted_code);\n",
       "                        }\n",
       "                        break;\n",
       "                    }\n",
       "                }\n",
       "            }, 500);\n",
       "            "
      ],
      "text/plain": [
       "<IPython.core.display.Javascript object>"
      ]
     },
     "metadata": {},
     "output_type": "display_data"
    },
    {
     "data": {
      "application/javascript": [
       "\n",
       "            setTimeout(function() {\n",
       "                var nbb_cell_id = 108;\n",
       "                var nbb_unformatted_code = \"experiment = pd.read_csv(f\\\"{parent_directory}/experiment_new.csv\\\")\\nexperiment.head()\";\n",
       "                var nbb_formatted_code = \"experiment = pd.read_csv(f\\\"{parent_directory}/experiment_new.csv\\\")\\nexperiment.head()\";\n",
       "                var nbb_cells = Jupyter.notebook.get_cells();\n",
       "                for (var i = 0; i < nbb_cells.length; ++i) {\n",
       "                    if (nbb_cells[i].input_prompt_number == nbb_cell_id) {\n",
       "                        if (nbb_cells[i].get_text() == nbb_unformatted_code) {\n",
       "                             nbb_cells[i].set_text(nbb_formatted_code);\n",
       "                        }\n",
       "                        break;\n",
       "                    }\n",
       "                }\n",
       "            }, 500);\n",
       "            "
      ],
      "text/plain": [
       "<IPython.core.display.Javascript object>"
      ]
     },
     "metadata": {},
     "output_type": "display_data"
    },
    {
     "data": {
      "application/javascript": [
       "\n",
       "            setTimeout(function() {\n",
       "                var nbb_cell_id = 108;\n",
       "                var nbb_unformatted_code = \"experiment = pd.read_csv(f\\\"{parent_directory}/experiment_new.csv\\\")\\nexperiment.head()\";\n",
       "                var nbb_formatted_code = \"experiment = pd.read_csv(f\\\"{parent_directory}/experiment_new.csv\\\")\\nexperiment.head()\";\n",
       "                var nbb_cells = Jupyter.notebook.get_cells();\n",
       "                for (var i = 0; i < nbb_cells.length; ++i) {\n",
       "                    if (nbb_cells[i].input_prompt_number == nbb_cell_id) {\n",
       "                        if (nbb_cells[i].get_text() == nbb_unformatted_code) {\n",
       "                             nbb_cells[i].set_text(nbb_formatted_code);\n",
       "                        }\n",
       "                        break;\n",
       "                    }\n",
       "                }\n",
       "            }, 500);\n",
       "            "
      ],
      "text/plain": [
       "<IPython.core.display.Javascript object>"
      ]
     },
     "metadata": {},
     "output_type": "display_data"
    }
   ],
   "source": [
    "experiment = pd.read_csv(f\"{parent_directory}/experiment_new.csv\")\n",
    "experiment.head()"
   ]
  },
  {
   "cell_type": "code",
   "execution_count": 109,
   "metadata": {},
   "outputs": [
    {
     "data": {
      "text/html": [
       "<div>\n",
       "<style scoped>\n",
       "    .dataframe tbody tr th:only-of-type {\n",
       "        vertical-align: middle;\n",
       "    }\n",
       "\n",
       "    .dataframe tbody tr th {\n",
       "        vertical-align: top;\n",
       "    }\n",
       "\n",
       "    .dataframe thead th {\n",
       "        text-align: right;\n",
       "    }\n",
       "</style>\n",
       "<table border=\"1\" class=\"dataframe\">\n",
       "  <thead>\n",
       "    <tr style=\"text-align: right;\">\n",
       "      <th></th>\n",
       "      <th>Group</th>\n",
       "      <th>Cohort</th>\n",
       "      <th>MouseID</th>\n",
       "      <th>Virus</th>\n",
       "      <th>Trial</th>\n",
       "      <th>Laser</th>\n",
       "      <th>Start</th>\n",
       "      <th>Time_Latency_Contact_s</th>\n",
       "      <th>Latency_Contact_s</th>\n",
       "      <th>Time_Latency_Retrieve_s</th>\n",
       "      <th>Latency_Retrieve_s</th>\n",
       "      <th>Retrieved</th>\n",
       "    </tr>\n",
       "  </thead>\n",
       "  <tbody>\n",
       "    <tr>\n",
       "      <th>26</th>\n",
       "      <td>PrL-1</td>\n",
       "      <td>1</td>\n",
       "      <td>PrL-4</td>\n",
       "      <td>ChR2</td>\n",
       "      <td>1</td>\n",
       "      <td>OFF</td>\n",
       "      <td>0:06</td>\n",
       "      <td>0:18</td>\n",
       "      <td>12.0</td>\n",
       "      <td>0:43</td>\n",
       "      <td>37</td>\n",
       "      <td>1</td>\n",
       "    </tr>\n",
       "    <tr>\n",
       "      <th>27</th>\n",
       "      <td>PrL-1</td>\n",
       "      <td>1</td>\n",
       "      <td>PrL-4</td>\n",
       "      <td>ChR2</td>\n",
       "      <td>2</td>\n",
       "      <td>ON</td>\n",
       "      <td>2:15</td>\n",
       "      <td>2:19</td>\n",
       "      <td>4.0</td>\n",
       "      <td>2:24</td>\n",
       "      <td>9</td>\n",
       "      <td>1</td>\n",
       "    </tr>\n",
       "    <tr>\n",
       "      <th>28</th>\n",
       "      <td>PrL-1</td>\n",
       "      <td>1</td>\n",
       "      <td>PrL-4</td>\n",
       "      <td>ChR2</td>\n",
       "      <td>3</td>\n",
       "      <td>OFF</td>\n",
       "      <td>4:25</td>\n",
       "      <td>4:35</td>\n",
       "      <td>10.0</td>\n",
       "      <td>4:41</td>\n",
       "      <td>16</td>\n",
       "      <td>1</td>\n",
       "    </tr>\n",
       "    <tr>\n",
       "      <th>29</th>\n",
       "      <td>PrL-1</td>\n",
       "      <td>1</td>\n",
       "      <td>PrL-4</td>\n",
       "      <td>ChR2</td>\n",
       "      <td>4</td>\n",
       "      <td>ON</td>\n",
       "      <td>6:33</td>\n",
       "      <td>6:41</td>\n",
       "      <td>8.0</td>\n",
       "      <td>6:46</td>\n",
       "      <td>13</td>\n",
       "      <td>1</td>\n",
       "    </tr>\n",
       "    <tr>\n",
       "      <th>30</th>\n",
       "      <td>PrL-1</td>\n",
       "      <td>1</td>\n",
       "      <td>PrL-4</td>\n",
       "      <td>ChR2</td>\n",
       "      <td>5</td>\n",
       "      <td>OFF</td>\n",
       "      <td>9:06</td>\n",
       "      <td>9:36</td>\n",
       "      <td>30.0</td>\n",
       "      <td>9:42</td>\n",
       "      <td>36</td>\n",
       "      <td>1</td>\n",
       "    </tr>\n",
       "    <tr>\n",
       "      <th>31</th>\n",
       "      <td>PrL-1</td>\n",
       "      <td>1</td>\n",
       "      <td>PrL-4</td>\n",
       "      <td>ChR2</td>\n",
       "      <td>6</td>\n",
       "      <td>ON</td>\n",
       "      <td>11:15</td>\n",
       "      <td>12:01</td>\n",
       "      <td>46.0</td>\n",
       "      <td>12:05</td>\n",
       "      <td>50</td>\n",
       "      <td>1</td>\n",
       "    </tr>\n",
       "    <tr>\n",
       "      <th>33</th>\n",
       "      <td>PrL-1</td>\n",
       "      <td>1</td>\n",
       "      <td>PrL-4</td>\n",
       "      <td>ChR2</td>\n",
       "      <td>8</td>\n",
       "      <td>ON</td>\n",
       "      <td>16:07</td>\n",
       "      <td>16:13</td>\n",
       "      <td>5.0</td>\n",
       "      <td>16:17</td>\n",
       "      <td>10</td>\n",
       "      <td>1</td>\n",
       "    </tr>\n",
       "    <tr>\n",
       "      <th>35</th>\n",
       "      <td>PrL-1</td>\n",
       "      <td>1</td>\n",
       "      <td>PrL-4</td>\n",
       "      <td>ChR2</td>\n",
       "      <td>10</td>\n",
       "      <td>ON</td>\n",
       "      <td>20:32</td>\n",
       "      <td>20:37</td>\n",
       "      <td>5.0</td>\n",
       "      <td>20:40</td>\n",
       "      <td>8</td>\n",
       "      <td>1</td>\n",
       "    </tr>\n",
       "  </tbody>\n",
       "</table>\n",
       "</div>"
      ],
      "text/plain": [
       "    Group  Cohort MouseID Virus  Trial Laser  Start Time_Latency_Contact_s  \\\n",
       "26  PrL-1       1   PrL-4  ChR2      1   OFF   0:06                   0:18   \n",
       "27  PrL-1       1   PrL-4  ChR2      2    ON   2:15                   2:19   \n",
       "28  PrL-1       1   PrL-4  ChR2      3   OFF   4:25                   4:35   \n",
       "29  PrL-1       1   PrL-4  ChR2      4    ON   6:33                   6:41   \n",
       "30  PrL-1       1   PrL-4  ChR2      5   OFF   9:06                   9:36   \n",
       "31  PrL-1       1   PrL-4  ChR2      6    ON  11:15                  12:01   \n",
       "33  PrL-1       1   PrL-4  ChR2      8    ON  16:07                  16:13   \n",
       "35  PrL-1       1   PrL-4  ChR2     10    ON  20:32                  20:37   \n",
       "\n",
       "    Latency_Contact_s Time_Latency_Retrieve_s  Latency_Retrieve_s  Retrieved  \n",
       "26               12.0                    0:43                  37          1  \n",
       "27                4.0                    2:24                   9          1  \n",
       "28               10.0                    4:41                  16          1  \n",
       "29                8.0                    6:46                  13          1  \n",
       "30               30.0                    9:42                  36          1  \n",
       "31               46.0                   12:05                  50          1  \n",
       "33                5.0                   16:17                  10          1  \n",
       "35                5.0                   20:40                   8          1  "
      ]
     },
     "execution_count": 109,
     "metadata": {},
     "output_type": "execute_result"
    },
    {
     "data": {
      "application/javascript": [
       "\n",
       "            setTimeout(function() {\n",
       "                var nbb_cell_id = 109;\n",
       "                var nbb_unformatted_code = \"curr_mouse_df = experiment[\\n    (experiment.MouseID == CURRENT_MICE)\\n    & (experiment.Time_Latency_Contact_s != \\\"NO\\\")\\n    & (experiment.Time_Latency_Retrieve_s != \\\"NO\\\")\\n]\\ncurr_mouse_df\";\n",
       "                var nbb_formatted_code = \"curr_mouse_df = experiment[\\n    (experiment.MouseID == CURRENT_MICE)\\n    & (experiment.Time_Latency_Contact_s != \\\"NO\\\")\\n    & (experiment.Time_Latency_Retrieve_s != \\\"NO\\\")\\n]\\ncurr_mouse_df\";\n",
       "                var nbb_cells = Jupyter.notebook.get_cells();\n",
       "                for (var i = 0; i < nbb_cells.length; ++i) {\n",
       "                    if (nbb_cells[i].input_prompt_number == nbb_cell_id) {\n",
       "                        if (nbb_cells[i].get_text() == nbb_unformatted_code) {\n",
       "                             nbb_cells[i].set_text(nbb_formatted_code);\n",
       "                        }\n",
       "                        break;\n",
       "                    }\n",
       "                }\n",
       "            }, 500);\n",
       "            "
      ],
      "text/plain": [
       "<IPython.core.display.Javascript object>"
      ]
     },
     "metadata": {},
     "output_type": "display_data"
    },
    {
     "data": {
      "application/javascript": [
       "\n",
       "            setTimeout(function() {\n",
       "                var nbb_cell_id = 109;\n",
       "                var nbb_unformatted_code = \"curr_mouse_df = experiment[\\n    (experiment.MouseID == CURRENT_MICE)\\n    & (experiment.Time_Latency_Contact_s != \\\"NO\\\")\\n    & (experiment.Time_Latency_Retrieve_s != \\\"NO\\\")\\n]\\ncurr_mouse_df\";\n",
       "                var nbb_formatted_code = \"curr_mouse_df = experiment[\\n    (experiment.MouseID == CURRENT_MICE)\\n    & (experiment.Time_Latency_Contact_s != \\\"NO\\\")\\n    & (experiment.Time_Latency_Retrieve_s != \\\"NO\\\")\\n]\\ncurr_mouse_df\";\n",
       "                var nbb_cells = Jupyter.notebook.get_cells();\n",
       "                for (var i = 0; i < nbb_cells.length; ++i) {\n",
       "                    if (nbb_cells[i].input_prompt_number == nbb_cell_id) {\n",
       "                        if (nbb_cells[i].get_text() == nbb_unformatted_code) {\n",
       "                             nbb_cells[i].set_text(nbb_formatted_code);\n",
       "                        }\n",
       "                        break;\n",
       "                    }\n",
       "                }\n",
       "            }, 500);\n",
       "            "
      ],
      "text/plain": [
       "<IPython.core.display.Javascript object>"
      ]
     },
     "metadata": {},
     "output_type": "display_data"
    },
    {
     "data": {
      "application/javascript": [
       "\n",
       "            setTimeout(function() {\n",
       "                var nbb_cell_id = 109;\n",
       "                var nbb_unformatted_code = \"curr_mouse_df = experiment[\\n    (experiment.MouseID == CURRENT_MICE)\\n    & (experiment.Time_Latency_Contact_s != \\\"NO\\\")\\n    & (experiment.Time_Latency_Retrieve_s != \\\"NO\\\")\\n]\\ncurr_mouse_df\";\n",
       "                var nbb_formatted_code = \"curr_mouse_df = experiment[\\n    (experiment.MouseID == CURRENT_MICE)\\n    & (experiment.Time_Latency_Contact_s != \\\"NO\\\")\\n    & (experiment.Time_Latency_Retrieve_s != \\\"NO\\\")\\n]\\ncurr_mouse_df\";\n",
       "                var nbb_cells = Jupyter.notebook.get_cells();\n",
       "                for (var i = 0; i < nbb_cells.length; ++i) {\n",
       "                    if (nbb_cells[i].input_prompt_number == nbb_cell_id) {\n",
       "                        if (nbb_cells[i].get_text() == nbb_unformatted_code) {\n",
       "                             nbb_cells[i].set_text(nbb_formatted_code);\n",
       "                        }\n",
       "                        break;\n",
       "                    }\n",
       "                }\n",
       "            }, 500);\n",
       "            "
      ],
      "text/plain": [
       "<IPython.core.display.Javascript object>"
      ]
     },
     "metadata": {},
     "output_type": "display_data"
    },
    {
     "data": {
      "application/javascript": [
       "\n",
       "            setTimeout(function() {\n",
       "                var nbb_cell_id = 109;\n",
       "                var nbb_unformatted_code = \"curr_mouse_df = experiment[\\n    (experiment.MouseID == CURRENT_MICE)\\n    & (experiment.Time_Latency_Contact_s != \\\"NO\\\")\\n    & (experiment.Time_Latency_Retrieve_s != \\\"NO\\\")\\n]\\ncurr_mouse_df\";\n",
       "                var nbb_formatted_code = \"curr_mouse_df = experiment[\\n    (experiment.MouseID == CURRENT_MICE)\\n    & (experiment.Time_Latency_Contact_s != \\\"NO\\\")\\n    & (experiment.Time_Latency_Retrieve_s != \\\"NO\\\")\\n]\\ncurr_mouse_df\";\n",
       "                var nbb_cells = Jupyter.notebook.get_cells();\n",
       "                for (var i = 0; i < nbb_cells.length; ++i) {\n",
       "                    if (nbb_cells[i].input_prompt_number == nbb_cell_id) {\n",
       "                        if (nbb_cells[i].get_text() == nbb_unformatted_code) {\n",
       "                             nbb_cells[i].set_text(nbb_formatted_code);\n",
       "                        }\n",
       "                        break;\n",
       "                    }\n",
       "                }\n",
       "            }, 500);\n",
       "            "
      ],
      "text/plain": [
       "<IPython.core.display.Javascript object>"
      ]
     },
     "metadata": {},
     "output_type": "display_data"
    },
    {
     "data": {
      "application/javascript": [
       "\n",
       "            setTimeout(function() {\n",
       "                var nbb_cell_id = 109;\n",
       "                var nbb_unformatted_code = \"curr_mouse_df = experiment[\\n    (experiment.MouseID == CURRENT_MICE)\\n    & (experiment.Time_Latency_Contact_s != \\\"NO\\\")\\n    & (experiment.Time_Latency_Retrieve_s != \\\"NO\\\")\\n]\\ncurr_mouse_df\";\n",
       "                var nbb_formatted_code = \"curr_mouse_df = experiment[\\n    (experiment.MouseID == CURRENT_MICE)\\n    & (experiment.Time_Latency_Contact_s != \\\"NO\\\")\\n    & (experiment.Time_Latency_Retrieve_s != \\\"NO\\\")\\n]\\ncurr_mouse_df\";\n",
       "                var nbb_cells = Jupyter.notebook.get_cells();\n",
       "                for (var i = 0; i < nbb_cells.length; ++i) {\n",
       "                    if (nbb_cells[i].input_prompt_number == nbb_cell_id) {\n",
       "                        if (nbb_cells[i].get_text() == nbb_unformatted_code) {\n",
       "                             nbb_cells[i].set_text(nbb_formatted_code);\n",
       "                        }\n",
       "                        break;\n",
       "                    }\n",
       "                }\n",
       "            }, 500);\n",
       "            "
      ],
      "text/plain": [
       "<IPython.core.display.Javascript object>"
      ]
     },
     "metadata": {},
     "output_type": "display_data"
    },
    {
     "data": {
      "application/javascript": [
       "\n",
       "            setTimeout(function() {\n",
       "                var nbb_cell_id = 109;\n",
       "                var nbb_unformatted_code = \"curr_mouse_df = experiment[\\n    (experiment.MouseID == CURRENT_MICE)\\n    & (experiment.Time_Latency_Contact_s != \\\"NO\\\")\\n    & (experiment.Time_Latency_Retrieve_s != \\\"NO\\\")\\n]\\ncurr_mouse_df\";\n",
       "                var nbb_formatted_code = \"curr_mouse_df = experiment[\\n    (experiment.MouseID == CURRENT_MICE)\\n    & (experiment.Time_Latency_Contact_s != \\\"NO\\\")\\n    & (experiment.Time_Latency_Retrieve_s != \\\"NO\\\")\\n]\\ncurr_mouse_df\";\n",
       "                var nbb_cells = Jupyter.notebook.get_cells();\n",
       "                for (var i = 0; i < nbb_cells.length; ++i) {\n",
       "                    if (nbb_cells[i].input_prompt_number == nbb_cell_id) {\n",
       "                        if (nbb_cells[i].get_text() == nbb_unformatted_code) {\n",
       "                             nbb_cells[i].set_text(nbb_formatted_code);\n",
       "                        }\n",
       "                        break;\n",
       "                    }\n",
       "                }\n",
       "            }, 500);\n",
       "            "
      ],
      "text/plain": [
       "<IPython.core.display.Javascript object>"
      ]
     },
     "metadata": {},
     "output_type": "display_data"
    },
    {
     "data": {
      "application/javascript": [
       "\n",
       "            setTimeout(function() {\n",
       "                var nbb_cell_id = 109;\n",
       "                var nbb_unformatted_code = \"curr_mouse_df = experiment[\\n    (experiment.MouseID == CURRENT_MICE)\\n    & (experiment.Time_Latency_Contact_s != \\\"NO\\\")\\n    & (experiment.Time_Latency_Retrieve_s != \\\"NO\\\")\\n]\\ncurr_mouse_df\";\n",
       "                var nbb_formatted_code = \"curr_mouse_df = experiment[\\n    (experiment.MouseID == CURRENT_MICE)\\n    & (experiment.Time_Latency_Contact_s != \\\"NO\\\")\\n    & (experiment.Time_Latency_Retrieve_s != \\\"NO\\\")\\n]\\ncurr_mouse_df\";\n",
       "                var nbb_cells = Jupyter.notebook.get_cells();\n",
       "                for (var i = 0; i < nbb_cells.length; ++i) {\n",
       "                    if (nbb_cells[i].input_prompt_number == nbb_cell_id) {\n",
       "                        if (nbb_cells[i].get_text() == nbb_unformatted_code) {\n",
       "                             nbb_cells[i].set_text(nbb_formatted_code);\n",
       "                        }\n",
       "                        break;\n",
       "                    }\n",
       "                }\n",
       "            }, 500);\n",
       "            "
      ],
      "text/plain": [
       "<IPython.core.display.Javascript object>"
      ]
     },
     "metadata": {},
     "output_type": "display_data"
    },
    {
     "data": {
      "application/javascript": [
       "\n",
       "            setTimeout(function() {\n",
       "                var nbb_cell_id = 109;\n",
       "                var nbb_unformatted_code = \"curr_mouse_df = experiment[\\n    (experiment.MouseID == CURRENT_MICE)\\n    & (experiment.Time_Latency_Contact_s != \\\"NO\\\")\\n    & (experiment.Time_Latency_Retrieve_s != \\\"NO\\\")\\n]\\ncurr_mouse_df\";\n",
       "                var nbb_formatted_code = \"curr_mouse_df = experiment[\\n    (experiment.MouseID == CURRENT_MICE)\\n    & (experiment.Time_Latency_Contact_s != \\\"NO\\\")\\n    & (experiment.Time_Latency_Retrieve_s != \\\"NO\\\")\\n]\\ncurr_mouse_df\";\n",
       "                var nbb_cells = Jupyter.notebook.get_cells();\n",
       "                for (var i = 0; i < nbb_cells.length; ++i) {\n",
       "                    if (nbb_cells[i].input_prompt_number == nbb_cell_id) {\n",
       "                        if (nbb_cells[i].get_text() == nbb_unformatted_code) {\n",
       "                             nbb_cells[i].set_text(nbb_formatted_code);\n",
       "                        }\n",
       "                        break;\n",
       "                    }\n",
       "                }\n",
       "            }, 500);\n",
       "            "
      ],
      "text/plain": [
       "<IPython.core.display.Javascript object>"
      ]
     },
     "metadata": {},
     "output_type": "display_data"
    }
   ],
   "source": [
    "curr_mouse_df = experiment[\n",
    "    (experiment.MouseID == CURRENT_MICE)\n",
    "    & (experiment.Time_Latency_Contact_s != \"NO\")\n",
    "    & (experiment.Time_Latency_Retrieve_s != \"NO\")\n",
    "]\n",
    "curr_mouse_df"
   ]
  },
  {
   "cell_type": "code",
   "execution_count": 110,
   "metadata": {},
   "outputs": [
    {
     "data": {
      "application/javascript": [
       "\n",
       "            setTimeout(function() {\n",
       "                var nbb_cell_id = 110;\n",
       "                var nbb_unformatted_code = \"def create_pup_dataset(pup_images: int):\\n    START_PUP_CAPTURE_THRESH = 1\\n    END_PUP_CAPTURE_THRESH = 1\\n\\n    min_trial = curr_mouse_df.head(1).Trial.item()\\n    max_trial = curr_mouse_df.tail(1).Trial.item()\\n\\n    trials_done = []\\n    all_possible_trials = list(curr_mouse_df.Trial)\\n    images_recorded = 0\\n\\n    while images_recorded < pup_images:\\n\\n        trial = random.randint(min_trial, max_trial)\\n        trial_row = curr_mouse_df.loc[curr_mouse_df.Trial == trial]\\n\\n        if len(trials_done) == len(curr_mouse_df):\\n            print(\\\"Insufficient contact group images...\\\")\\n            break\\n        if (trial not in trials_done) and (trial in all_possible_trials):\\n            trial_row = curr_mouse_df[curr_mouse_df.Trial == trial]\\n\\n            start_time = str(trial_row.Start.item())\\n            end_time = str(trial_row.Time_Latency_Contact_s.item())\\n\\n            start_seconds = utils.time_to_sec(start_time) + START_PUP_CAPTURE_THRESH\\n            end_seconds = utils.time_to_sec(end_time) - END_PUP_CAPTURE_THRESH\\n            diff_seconds = end_seconds - start_seconds\\n\\n            future_number_of_images = images_recorded + diff_seconds\\n            # Stop recording excess number of images.\\n            if future_number_of_images > pup_images:\\n                end_seconds = start_seconds + (pup_images - images_recorded)\\n                diff_seconds = end_seconds - start_seconds\\n\\n            print(\\n                f\\\"Starts at {start_seconds} seconds and end at {end_seconds} seconds of interval {diff_seconds} seconds\\\"\\n            )\\n            create_dataset_pipeline(start_seconds, end_seconds, \\\"child-mice\\\", False)\\n\\n            images_recorded += diff_seconds\\n\\n            trials_done.append(trial)  # append unique trials\\n    split_train_test(\\\"child-mice\\\", 0.8)\\n\\n    train_size = len(os.listdir(f\\\"{path_to_data}/train/child-mice\\\"))\\n    test_size = len(os.listdir(f\\\"{path_to_data}/test/child-mice\\\"))\\n\\n    print(\\n        f\\\"Saved all {images_recorded} child image files and train has {train_size} pictures and test has {test_size} pictures!\\\"\\n    )\";\n",
       "                var nbb_formatted_code = \"def create_pup_dataset(pup_images: int):\\n    START_PUP_CAPTURE_THRESH = 1\\n    END_PUP_CAPTURE_THRESH = 1\\n\\n    min_trial = curr_mouse_df.head(1).Trial.item()\\n    max_trial = curr_mouse_df.tail(1).Trial.item()\\n\\n    trials_done = []\\n    all_possible_trials = list(curr_mouse_df.Trial)\\n    images_recorded = 0\\n\\n    while images_recorded < pup_images:\\n\\n        trial = random.randint(min_trial, max_trial)\\n        trial_row = curr_mouse_df.loc[curr_mouse_df.Trial == trial]\\n\\n        if len(trials_done) == len(curr_mouse_df):\\n            print(\\\"Insufficient contact group images...\\\")\\n            break\\n        if (trial not in trials_done) and (trial in all_possible_trials):\\n            trial_row = curr_mouse_df[curr_mouse_df.Trial == trial]\\n\\n            start_time = str(trial_row.Start.item())\\n            end_time = str(trial_row.Time_Latency_Contact_s.item())\\n\\n            start_seconds = utils.time_to_sec(start_time) + START_PUP_CAPTURE_THRESH\\n            end_seconds = utils.time_to_sec(end_time) - END_PUP_CAPTURE_THRESH\\n            diff_seconds = end_seconds - start_seconds\\n\\n            future_number_of_images = images_recorded + diff_seconds\\n            # Stop recording excess number of images.\\n            if future_number_of_images > pup_images:\\n                end_seconds = start_seconds + (pup_images - images_recorded)\\n                diff_seconds = end_seconds - start_seconds\\n\\n            print(\\n                f\\\"Starts at {start_seconds} seconds and end at {end_seconds} seconds of interval {diff_seconds} seconds\\\"\\n            )\\n            create_dataset_pipeline(start_seconds, end_seconds, \\\"child-mice\\\", False)\\n\\n            images_recorded += diff_seconds\\n\\n            trials_done.append(trial)  # append unique trials\\n    split_train_test(\\\"child-mice\\\", 0.8)\\n\\n    train_size = len(os.listdir(f\\\"{path_to_data}/train/child-mice\\\"))\\n    test_size = len(os.listdir(f\\\"{path_to_data}/test/child-mice\\\"))\\n\\n    print(\\n        f\\\"Saved all {images_recorded} child image files and train has {train_size} pictures and test has {test_size} pictures!\\\"\\n    )\";\n",
       "                var nbb_cells = Jupyter.notebook.get_cells();\n",
       "                for (var i = 0; i < nbb_cells.length; ++i) {\n",
       "                    if (nbb_cells[i].input_prompt_number == nbb_cell_id) {\n",
       "                        if (nbb_cells[i].get_text() == nbb_unformatted_code) {\n",
       "                             nbb_cells[i].set_text(nbb_formatted_code);\n",
       "                        }\n",
       "                        break;\n",
       "                    }\n",
       "                }\n",
       "            }, 500);\n",
       "            "
      ],
      "text/plain": [
       "<IPython.core.display.Javascript object>"
      ]
     },
     "metadata": {},
     "output_type": "display_data"
    },
    {
     "data": {
      "application/javascript": [
       "\n",
       "            setTimeout(function() {\n",
       "                var nbb_cell_id = 110;\n",
       "                var nbb_unformatted_code = \"def create_pup_dataset(pup_images: int):\\n    START_PUP_CAPTURE_THRESH = 1\\n    END_PUP_CAPTURE_THRESH = 1\\n\\n    min_trial = curr_mouse_df.head(1).Trial.item()\\n    max_trial = curr_mouse_df.tail(1).Trial.item()\\n\\n    trials_done = []\\n    all_possible_trials = list(curr_mouse_df.Trial)\\n    images_recorded = 0\\n\\n    while images_recorded < pup_images:\\n\\n        trial = random.randint(min_trial, max_trial)\\n        trial_row = curr_mouse_df.loc[curr_mouse_df.Trial == trial]\\n\\n        if len(trials_done) == len(curr_mouse_df):\\n            print(\\\"Insufficient contact group images...\\\")\\n            break\\n        if (trial not in trials_done) and (trial in all_possible_trials):\\n            trial_row = curr_mouse_df[curr_mouse_df.Trial == trial]\\n\\n            start_time = str(trial_row.Start.item())\\n            end_time = str(trial_row.Time_Latency_Contact_s.item())\\n\\n            start_seconds = utils.time_to_sec(start_time) + START_PUP_CAPTURE_THRESH\\n            end_seconds = utils.time_to_sec(end_time) - END_PUP_CAPTURE_THRESH\\n            diff_seconds = end_seconds - start_seconds\\n\\n            future_number_of_images = images_recorded + diff_seconds\\n            # Stop recording excess number of images.\\n            if future_number_of_images > pup_images:\\n                end_seconds = start_seconds + (pup_images - images_recorded)\\n                diff_seconds = end_seconds - start_seconds\\n\\n            print(\\n                f\\\"Starts at {start_seconds} seconds and end at {end_seconds} seconds of interval {diff_seconds} seconds\\\"\\n            )\\n            create_dataset_pipeline(start_seconds, end_seconds, \\\"child-mice\\\", False)\\n\\n            images_recorded += diff_seconds\\n\\n            trials_done.append(trial)  # append unique trials\\n    split_train_test(\\\"child-mice\\\", 0.8)\\n\\n    train_size = len(os.listdir(f\\\"{path_to_data}/train/child-mice\\\"))\\n    test_size = len(os.listdir(f\\\"{path_to_data}/test/child-mice\\\"))\\n\\n    print(\\n        f\\\"Saved all {images_recorded} child image files and train has {train_size} pictures and test has {test_size} pictures!\\\"\\n    )\";\n",
       "                var nbb_formatted_code = \"def create_pup_dataset(pup_images: int):\\n    START_PUP_CAPTURE_THRESH = 1\\n    END_PUP_CAPTURE_THRESH = 1\\n\\n    min_trial = curr_mouse_df.head(1).Trial.item()\\n    max_trial = curr_mouse_df.tail(1).Trial.item()\\n\\n    trials_done = []\\n    all_possible_trials = list(curr_mouse_df.Trial)\\n    images_recorded = 0\\n\\n    while images_recorded < pup_images:\\n\\n        trial = random.randint(min_trial, max_trial)\\n        trial_row = curr_mouse_df.loc[curr_mouse_df.Trial == trial]\\n\\n        if len(trials_done) == len(curr_mouse_df):\\n            print(\\\"Insufficient contact group images...\\\")\\n            break\\n        if (trial not in trials_done) and (trial in all_possible_trials):\\n            trial_row = curr_mouse_df[curr_mouse_df.Trial == trial]\\n\\n            start_time = str(trial_row.Start.item())\\n            end_time = str(trial_row.Time_Latency_Contact_s.item())\\n\\n            start_seconds = utils.time_to_sec(start_time) + START_PUP_CAPTURE_THRESH\\n            end_seconds = utils.time_to_sec(end_time) - END_PUP_CAPTURE_THRESH\\n            diff_seconds = end_seconds - start_seconds\\n\\n            future_number_of_images = images_recorded + diff_seconds\\n            # Stop recording excess number of images.\\n            if future_number_of_images > pup_images:\\n                end_seconds = start_seconds + (pup_images - images_recorded)\\n                diff_seconds = end_seconds - start_seconds\\n\\n            print(\\n                f\\\"Starts at {start_seconds} seconds and end at {end_seconds} seconds of interval {diff_seconds} seconds\\\"\\n            )\\n            create_dataset_pipeline(start_seconds, end_seconds, \\\"child-mice\\\", False)\\n\\n            images_recorded += diff_seconds\\n\\n            trials_done.append(trial)  # append unique trials\\n    split_train_test(\\\"child-mice\\\", 0.8)\\n\\n    train_size = len(os.listdir(f\\\"{path_to_data}/train/child-mice\\\"))\\n    test_size = len(os.listdir(f\\\"{path_to_data}/test/child-mice\\\"))\\n\\n    print(\\n        f\\\"Saved all {images_recorded} child image files and train has {train_size} pictures and test has {test_size} pictures!\\\"\\n    )\";\n",
       "                var nbb_cells = Jupyter.notebook.get_cells();\n",
       "                for (var i = 0; i < nbb_cells.length; ++i) {\n",
       "                    if (nbb_cells[i].input_prompt_number == nbb_cell_id) {\n",
       "                        if (nbb_cells[i].get_text() == nbb_unformatted_code) {\n",
       "                             nbb_cells[i].set_text(nbb_formatted_code);\n",
       "                        }\n",
       "                        break;\n",
       "                    }\n",
       "                }\n",
       "            }, 500);\n",
       "            "
      ],
      "text/plain": [
       "<IPython.core.display.Javascript object>"
      ]
     },
     "metadata": {},
     "output_type": "display_data"
    },
    {
     "data": {
      "application/javascript": [
       "\n",
       "            setTimeout(function() {\n",
       "                var nbb_cell_id = 110;\n",
       "                var nbb_unformatted_code = \"def create_pup_dataset(pup_images: int):\\n    START_PUP_CAPTURE_THRESH = 1\\n    END_PUP_CAPTURE_THRESH = 1\\n\\n    min_trial = curr_mouse_df.head(1).Trial.item()\\n    max_trial = curr_mouse_df.tail(1).Trial.item()\\n\\n    trials_done = []\\n    all_possible_trials = list(curr_mouse_df.Trial)\\n    images_recorded = 0\\n\\n    while images_recorded < pup_images:\\n\\n        trial = random.randint(min_trial, max_trial)\\n        trial_row = curr_mouse_df.loc[curr_mouse_df.Trial == trial]\\n\\n        if len(trials_done) == len(curr_mouse_df):\\n            print(\\\"Insufficient contact group images...\\\")\\n            break\\n        if (trial not in trials_done) and (trial in all_possible_trials):\\n            trial_row = curr_mouse_df[curr_mouse_df.Trial == trial]\\n\\n            start_time = str(trial_row.Start.item())\\n            end_time = str(trial_row.Time_Latency_Contact_s.item())\\n\\n            start_seconds = utils.time_to_sec(start_time) + START_PUP_CAPTURE_THRESH\\n            end_seconds = utils.time_to_sec(end_time) - END_PUP_CAPTURE_THRESH\\n            diff_seconds = end_seconds - start_seconds\\n\\n            future_number_of_images = images_recorded + diff_seconds\\n            # Stop recording excess number of images.\\n            if future_number_of_images > pup_images:\\n                end_seconds = start_seconds + (pup_images - images_recorded)\\n                diff_seconds = end_seconds - start_seconds\\n\\n            print(\\n                f\\\"Starts at {start_seconds} seconds and end at {end_seconds} seconds of interval {diff_seconds} seconds\\\"\\n            )\\n            create_dataset_pipeline(start_seconds, end_seconds, \\\"child-mice\\\", False)\\n\\n            images_recorded += diff_seconds\\n\\n            trials_done.append(trial)  # append unique trials\\n    split_train_test(\\\"child-mice\\\", 0.8)\\n\\n    train_size = len(os.listdir(f\\\"{path_to_data}/train/child-mice\\\"))\\n    test_size = len(os.listdir(f\\\"{path_to_data}/test/child-mice\\\"))\\n\\n    print(\\n        f\\\"Saved all {images_recorded} child image files and train has {train_size} pictures and test has {test_size} pictures!\\\"\\n    )\";\n",
       "                var nbb_formatted_code = \"def create_pup_dataset(pup_images: int):\\n    START_PUP_CAPTURE_THRESH = 1\\n    END_PUP_CAPTURE_THRESH = 1\\n\\n    min_trial = curr_mouse_df.head(1).Trial.item()\\n    max_trial = curr_mouse_df.tail(1).Trial.item()\\n\\n    trials_done = []\\n    all_possible_trials = list(curr_mouse_df.Trial)\\n    images_recorded = 0\\n\\n    while images_recorded < pup_images:\\n\\n        trial = random.randint(min_trial, max_trial)\\n        trial_row = curr_mouse_df.loc[curr_mouse_df.Trial == trial]\\n\\n        if len(trials_done) == len(curr_mouse_df):\\n            print(\\\"Insufficient contact group images...\\\")\\n            break\\n        if (trial not in trials_done) and (trial in all_possible_trials):\\n            trial_row = curr_mouse_df[curr_mouse_df.Trial == trial]\\n\\n            start_time = str(trial_row.Start.item())\\n            end_time = str(trial_row.Time_Latency_Contact_s.item())\\n\\n            start_seconds = utils.time_to_sec(start_time) + START_PUP_CAPTURE_THRESH\\n            end_seconds = utils.time_to_sec(end_time) - END_PUP_CAPTURE_THRESH\\n            diff_seconds = end_seconds - start_seconds\\n\\n            future_number_of_images = images_recorded + diff_seconds\\n            # Stop recording excess number of images.\\n            if future_number_of_images > pup_images:\\n                end_seconds = start_seconds + (pup_images - images_recorded)\\n                diff_seconds = end_seconds - start_seconds\\n\\n            print(\\n                f\\\"Starts at {start_seconds} seconds and end at {end_seconds} seconds of interval {diff_seconds} seconds\\\"\\n            )\\n            create_dataset_pipeline(start_seconds, end_seconds, \\\"child-mice\\\", False)\\n\\n            images_recorded += diff_seconds\\n\\n            trials_done.append(trial)  # append unique trials\\n    split_train_test(\\\"child-mice\\\", 0.8)\\n\\n    train_size = len(os.listdir(f\\\"{path_to_data}/train/child-mice\\\"))\\n    test_size = len(os.listdir(f\\\"{path_to_data}/test/child-mice\\\"))\\n\\n    print(\\n        f\\\"Saved all {images_recorded} child image files and train has {train_size} pictures and test has {test_size} pictures!\\\"\\n    )\";\n",
       "                var nbb_cells = Jupyter.notebook.get_cells();\n",
       "                for (var i = 0; i < nbb_cells.length; ++i) {\n",
       "                    if (nbb_cells[i].input_prompt_number == nbb_cell_id) {\n",
       "                        if (nbb_cells[i].get_text() == nbb_unformatted_code) {\n",
       "                             nbb_cells[i].set_text(nbb_formatted_code);\n",
       "                        }\n",
       "                        break;\n",
       "                    }\n",
       "                }\n",
       "            }, 500);\n",
       "            "
      ],
      "text/plain": [
       "<IPython.core.display.Javascript object>"
      ]
     },
     "metadata": {},
     "output_type": "display_data"
    },
    {
     "data": {
      "application/javascript": [
       "\n",
       "            setTimeout(function() {\n",
       "                var nbb_cell_id = 110;\n",
       "                var nbb_unformatted_code = \"def create_pup_dataset(pup_images: int):\\n    START_PUP_CAPTURE_THRESH = 1\\n    END_PUP_CAPTURE_THRESH = 1\\n\\n    min_trial = curr_mouse_df.head(1).Trial.item()\\n    max_trial = curr_mouse_df.tail(1).Trial.item()\\n\\n    trials_done = []\\n    all_possible_trials = list(curr_mouse_df.Trial)\\n    images_recorded = 0\\n\\n    while images_recorded < pup_images:\\n\\n        trial = random.randint(min_trial, max_trial)\\n        trial_row = curr_mouse_df.loc[curr_mouse_df.Trial == trial]\\n\\n        if len(trials_done) == len(curr_mouse_df):\\n            print(\\\"Insufficient contact group images...\\\")\\n            break\\n        if (trial not in trials_done) and (trial in all_possible_trials):\\n            trial_row = curr_mouse_df[curr_mouse_df.Trial == trial]\\n\\n            start_time = str(trial_row.Start.item())\\n            end_time = str(trial_row.Time_Latency_Contact_s.item())\\n\\n            start_seconds = utils.time_to_sec(start_time) + START_PUP_CAPTURE_THRESH\\n            end_seconds = utils.time_to_sec(end_time) - END_PUP_CAPTURE_THRESH\\n            diff_seconds = end_seconds - start_seconds\\n\\n            future_number_of_images = images_recorded + diff_seconds\\n            # Stop recording excess number of images.\\n            if future_number_of_images > pup_images:\\n                end_seconds = start_seconds + (pup_images - images_recorded)\\n                diff_seconds = end_seconds - start_seconds\\n\\n            print(\\n                f\\\"Starts at {start_seconds} seconds and end at {end_seconds} seconds of interval {diff_seconds} seconds\\\"\\n            )\\n            create_dataset_pipeline(start_seconds, end_seconds, \\\"child-mice\\\", False)\\n\\n            images_recorded += diff_seconds\\n\\n            trials_done.append(trial)  # append unique trials\\n    split_train_test(\\\"child-mice\\\", 0.8)\\n\\n    train_size = len(os.listdir(f\\\"{path_to_data}/train/child-mice\\\"))\\n    test_size = len(os.listdir(f\\\"{path_to_data}/test/child-mice\\\"))\\n\\n    print(\\n        f\\\"Saved all {images_recorded} child image files and train has {train_size} pictures and test has {test_size} pictures!\\\"\\n    )\";\n",
       "                var nbb_formatted_code = \"def create_pup_dataset(pup_images: int):\\n    START_PUP_CAPTURE_THRESH = 1\\n    END_PUP_CAPTURE_THRESH = 1\\n\\n    min_trial = curr_mouse_df.head(1).Trial.item()\\n    max_trial = curr_mouse_df.tail(1).Trial.item()\\n\\n    trials_done = []\\n    all_possible_trials = list(curr_mouse_df.Trial)\\n    images_recorded = 0\\n\\n    while images_recorded < pup_images:\\n\\n        trial = random.randint(min_trial, max_trial)\\n        trial_row = curr_mouse_df.loc[curr_mouse_df.Trial == trial]\\n\\n        if len(trials_done) == len(curr_mouse_df):\\n            print(\\\"Insufficient contact group images...\\\")\\n            break\\n        if (trial not in trials_done) and (trial in all_possible_trials):\\n            trial_row = curr_mouse_df[curr_mouse_df.Trial == trial]\\n\\n            start_time = str(trial_row.Start.item())\\n            end_time = str(trial_row.Time_Latency_Contact_s.item())\\n\\n            start_seconds = utils.time_to_sec(start_time) + START_PUP_CAPTURE_THRESH\\n            end_seconds = utils.time_to_sec(end_time) - END_PUP_CAPTURE_THRESH\\n            diff_seconds = end_seconds - start_seconds\\n\\n            future_number_of_images = images_recorded + diff_seconds\\n            # Stop recording excess number of images.\\n            if future_number_of_images > pup_images:\\n                end_seconds = start_seconds + (pup_images - images_recorded)\\n                diff_seconds = end_seconds - start_seconds\\n\\n            print(\\n                f\\\"Starts at {start_seconds} seconds and end at {end_seconds} seconds of interval {diff_seconds} seconds\\\"\\n            )\\n            create_dataset_pipeline(start_seconds, end_seconds, \\\"child-mice\\\", False)\\n\\n            images_recorded += diff_seconds\\n\\n            trials_done.append(trial)  # append unique trials\\n    split_train_test(\\\"child-mice\\\", 0.8)\\n\\n    train_size = len(os.listdir(f\\\"{path_to_data}/train/child-mice\\\"))\\n    test_size = len(os.listdir(f\\\"{path_to_data}/test/child-mice\\\"))\\n\\n    print(\\n        f\\\"Saved all {images_recorded} child image files and train has {train_size} pictures and test has {test_size} pictures!\\\"\\n    )\";\n",
       "                var nbb_cells = Jupyter.notebook.get_cells();\n",
       "                for (var i = 0; i < nbb_cells.length; ++i) {\n",
       "                    if (nbb_cells[i].input_prompt_number == nbb_cell_id) {\n",
       "                        if (nbb_cells[i].get_text() == nbb_unformatted_code) {\n",
       "                             nbb_cells[i].set_text(nbb_formatted_code);\n",
       "                        }\n",
       "                        break;\n",
       "                    }\n",
       "                }\n",
       "            }, 500);\n",
       "            "
      ],
      "text/plain": [
       "<IPython.core.display.Javascript object>"
      ]
     },
     "metadata": {},
     "output_type": "display_data"
    },
    {
     "data": {
      "application/javascript": [
       "\n",
       "            setTimeout(function() {\n",
       "                var nbb_cell_id = 110;\n",
       "                var nbb_unformatted_code = \"def create_pup_dataset(pup_images: int):\\n    START_PUP_CAPTURE_THRESH = 1\\n    END_PUP_CAPTURE_THRESH = 1\\n\\n    min_trial = curr_mouse_df.head(1).Trial.item()\\n    max_trial = curr_mouse_df.tail(1).Trial.item()\\n\\n    trials_done = []\\n    all_possible_trials = list(curr_mouse_df.Trial)\\n    images_recorded = 0\\n\\n    while images_recorded < pup_images:\\n\\n        trial = random.randint(min_trial, max_trial)\\n        trial_row = curr_mouse_df.loc[curr_mouse_df.Trial == trial]\\n\\n        if len(trials_done) == len(curr_mouse_df):\\n            print(\\\"Insufficient contact group images...\\\")\\n            break\\n        if (trial not in trials_done) and (trial in all_possible_trials):\\n            trial_row = curr_mouse_df[curr_mouse_df.Trial == trial]\\n\\n            start_time = str(trial_row.Start.item())\\n            end_time = str(trial_row.Time_Latency_Contact_s.item())\\n\\n            start_seconds = utils.time_to_sec(start_time) + START_PUP_CAPTURE_THRESH\\n            end_seconds = utils.time_to_sec(end_time) - END_PUP_CAPTURE_THRESH\\n            diff_seconds = end_seconds - start_seconds\\n\\n            future_number_of_images = images_recorded + diff_seconds\\n            # Stop recording excess number of images.\\n            if future_number_of_images > pup_images:\\n                end_seconds = start_seconds + (pup_images - images_recorded)\\n                diff_seconds = end_seconds - start_seconds\\n\\n            print(\\n                f\\\"Starts at {start_seconds} seconds and end at {end_seconds} seconds of interval {diff_seconds} seconds\\\"\\n            )\\n            create_dataset_pipeline(start_seconds, end_seconds, \\\"child-mice\\\", False)\\n\\n            images_recorded += diff_seconds\\n\\n            trials_done.append(trial)  # append unique trials\\n    split_train_test(\\\"child-mice\\\", 0.8)\\n\\n    train_size = len(os.listdir(f\\\"{path_to_data}/train/child-mice\\\"))\\n    test_size = len(os.listdir(f\\\"{path_to_data}/test/child-mice\\\"))\\n\\n    print(\\n        f\\\"Saved all {images_recorded} child image files and train has {train_size} pictures and test has {test_size} pictures!\\\"\\n    )\";\n",
       "                var nbb_formatted_code = \"def create_pup_dataset(pup_images: int):\\n    START_PUP_CAPTURE_THRESH = 1\\n    END_PUP_CAPTURE_THRESH = 1\\n\\n    min_trial = curr_mouse_df.head(1).Trial.item()\\n    max_trial = curr_mouse_df.tail(1).Trial.item()\\n\\n    trials_done = []\\n    all_possible_trials = list(curr_mouse_df.Trial)\\n    images_recorded = 0\\n\\n    while images_recorded < pup_images:\\n\\n        trial = random.randint(min_trial, max_trial)\\n        trial_row = curr_mouse_df.loc[curr_mouse_df.Trial == trial]\\n\\n        if len(trials_done) == len(curr_mouse_df):\\n            print(\\\"Insufficient contact group images...\\\")\\n            break\\n        if (trial not in trials_done) and (trial in all_possible_trials):\\n            trial_row = curr_mouse_df[curr_mouse_df.Trial == trial]\\n\\n            start_time = str(trial_row.Start.item())\\n            end_time = str(trial_row.Time_Latency_Contact_s.item())\\n\\n            start_seconds = utils.time_to_sec(start_time) + START_PUP_CAPTURE_THRESH\\n            end_seconds = utils.time_to_sec(end_time) - END_PUP_CAPTURE_THRESH\\n            diff_seconds = end_seconds - start_seconds\\n\\n            future_number_of_images = images_recorded + diff_seconds\\n            # Stop recording excess number of images.\\n            if future_number_of_images > pup_images:\\n                end_seconds = start_seconds + (pup_images - images_recorded)\\n                diff_seconds = end_seconds - start_seconds\\n\\n            print(\\n                f\\\"Starts at {start_seconds} seconds and end at {end_seconds} seconds of interval {diff_seconds} seconds\\\"\\n            )\\n            create_dataset_pipeline(start_seconds, end_seconds, \\\"child-mice\\\", False)\\n\\n            images_recorded += diff_seconds\\n\\n            trials_done.append(trial)  # append unique trials\\n    split_train_test(\\\"child-mice\\\", 0.8)\\n\\n    train_size = len(os.listdir(f\\\"{path_to_data}/train/child-mice\\\"))\\n    test_size = len(os.listdir(f\\\"{path_to_data}/test/child-mice\\\"))\\n\\n    print(\\n        f\\\"Saved all {images_recorded} child image files and train has {train_size} pictures and test has {test_size} pictures!\\\"\\n    )\";\n",
       "                var nbb_cells = Jupyter.notebook.get_cells();\n",
       "                for (var i = 0; i < nbb_cells.length; ++i) {\n",
       "                    if (nbb_cells[i].input_prompt_number == nbb_cell_id) {\n",
       "                        if (nbb_cells[i].get_text() == nbb_unformatted_code) {\n",
       "                             nbb_cells[i].set_text(nbb_formatted_code);\n",
       "                        }\n",
       "                        break;\n",
       "                    }\n",
       "                }\n",
       "            }, 500);\n",
       "            "
      ],
      "text/plain": [
       "<IPython.core.display.Javascript object>"
      ]
     },
     "metadata": {},
     "output_type": "display_data"
    },
    {
     "data": {
      "application/javascript": [
       "\n",
       "            setTimeout(function() {\n",
       "                var nbb_cell_id = 110;\n",
       "                var nbb_unformatted_code = \"def create_pup_dataset(pup_images: int):\\n    START_PUP_CAPTURE_THRESH = 1\\n    END_PUP_CAPTURE_THRESH = 1\\n\\n    min_trial = curr_mouse_df.head(1).Trial.item()\\n    max_trial = curr_mouse_df.tail(1).Trial.item()\\n\\n    trials_done = []\\n    all_possible_trials = list(curr_mouse_df.Trial)\\n    images_recorded = 0\\n\\n    while images_recorded < pup_images:\\n\\n        trial = random.randint(min_trial, max_trial)\\n        trial_row = curr_mouse_df.loc[curr_mouse_df.Trial == trial]\\n\\n        if len(trials_done) == len(curr_mouse_df):\\n            print(\\\"Insufficient contact group images...\\\")\\n            break\\n        if (trial not in trials_done) and (trial in all_possible_trials):\\n            trial_row = curr_mouse_df[curr_mouse_df.Trial == trial]\\n\\n            start_time = str(trial_row.Start.item())\\n            end_time = str(trial_row.Time_Latency_Contact_s.item())\\n\\n            start_seconds = utils.time_to_sec(start_time) + START_PUP_CAPTURE_THRESH\\n            end_seconds = utils.time_to_sec(end_time) - END_PUP_CAPTURE_THRESH\\n            diff_seconds = end_seconds - start_seconds\\n\\n            future_number_of_images = images_recorded + diff_seconds\\n            # Stop recording excess number of images.\\n            if future_number_of_images > pup_images:\\n                end_seconds = start_seconds + (pup_images - images_recorded)\\n                diff_seconds = end_seconds - start_seconds\\n\\n            print(\\n                f\\\"Starts at {start_seconds} seconds and end at {end_seconds} seconds of interval {diff_seconds} seconds\\\"\\n            )\\n            create_dataset_pipeline(start_seconds, end_seconds, \\\"child-mice\\\", False)\\n\\n            images_recorded += diff_seconds\\n\\n            trials_done.append(trial)  # append unique trials\\n    split_train_test(\\\"child-mice\\\", 0.8)\\n\\n    train_size = len(os.listdir(f\\\"{path_to_data}/train/child-mice\\\"))\\n    test_size = len(os.listdir(f\\\"{path_to_data}/test/child-mice\\\"))\\n\\n    print(\\n        f\\\"Saved all {images_recorded} child image files and train has {train_size} pictures and test has {test_size} pictures!\\\"\\n    )\";\n",
       "                var nbb_formatted_code = \"def create_pup_dataset(pup_images: int):\\n    START_PUP_CAPTURE_THRESH = 1\\n    END_PUP_CAPTURE_THRESH = 1\\n\\n    min_trial = curr_mouse_df.head(1).Trial.item()\\n    max_trial = curr_mouse_df.tail(1).Trial.item()\\n\\n    trials_done = []\\n    all_possible_trials = list(curr_mouse_df.Trial)\\n    images_recorded = 0\\n\\n    while images_recorded < pup_images:\\n\\n        trial = random.randint(min_trial, max_trial)\\n        trial_row = curr_mouse_df.loc[curr_mouse_df.Trial == trial]\\n\\n        if len(trials_done) == len(curr_mouse_df):\\n            print(\\\"Insufficient contact group images...\\\")\\n            break\\n        if (trial not in trials_done) and (trial in all_possible_trials):\\n            trial_row = curr_mouse_df[curr_mouse_df.Trial == trial]\\n\\n            start_time = str(trial_row.Start.item())\\n            end_time = str(trial_row.Time_Latency_Contact_s.item())\\n\\n            start_seconds = utils.time_to_sec(start_time) + START_PUP_CAPTURE_THRESH\\n            end_seconds = utils.time_to_sec(end_time) - END_PUP_CAPTURE_THRESH\\n            diff_seconds = end_seconds - start_seconds\\n\\n            future_number_of_images = images_recorded + diff_seconds\\n            # Stop recording excess number of images.\\n            if future_number_of_images > pup_images:\\n                end_seconds = start_seconds + (pup_images - images_recorded)\\n                diff_seconds = end_seconds - start_seconds\\n\\n            print(\\n                f\\\"Starts at {start_seconds} seconds and end at {end_seconds} seconds of interval {diff_seconds} seconds\\\"\\n            )\\n            create_dataset_pipeline(start_seconds, end_seconds, \\\"child-mice\\\", False)\\n\\n            images_recorded += diff_seconds\\n\\n            trials_done.append(trial)  # append unique trials\\n    split_train_test(\\\"child-mice\\\", 0.8)\\n\\n    train_size = len(os.listdir(f\\\"{path_to_data}/train/child-mice\\\"))\\n    test_size = len(os.listdir(f\\\"{path_to_data}/test/child-mice\\\"))\\n\\n    print(\\n        f\\\"Saved all {images_recorded} child image files and train has {train_size} pictures and test has {test_size} pictures!\\\"\\n    )\";\n",
       "                var nbb_cells = Jupyter.notebook.get_cells();\n",
       "                for (var i = 0; i < nbb_cells.length; ++i) {\n",
       "                    if (nbb_cells[i].input_prompt_number == nbb_cell_id) {\n",
       "                        if (nbb_cells[i].get_text() == nbb_unformatted_code) {\n",
       "                             nbb_cells[i].set_text(nbb_formatted_code);\n",
       "                        }\n",
       "                        break;\n",
       "                    }\n",
       "                }\n",
       "            }, 500);\n",
       "            "
      ],
      "text/plain": [
       "<IPython.core.display.Javascript object>"
      ]
     },
     "metadata": {},
     "output_type": "display_data"
    },
    {
     "data": {
      "application/javascript": [
       "\n",
       "            setTimeout(function() {\n",
       "                var nbb_cell_id = 110;\n",
       "                var nbb_unformatted_code = \"def create_pup_dataset(pup_images: int):\\n    START_PUP_CAPTURE_THRESH = 1\\n    END_PUP_CAPTURE_THRESH = 1\\n\\n    min_trial = curr_mouse_df.head(1).Trial.item()\\n    max_trial = curr_mouse_df.tail(1).Trial.item()\\n\\n    trials_done = []\\n    all_possible_trials = list(curr_mouse_df.Trial)\\n    images_recorded = 0\\n\\n    while images_recorded < pup_images:\\n\\n        trial = random.randint(min_trial, max_trial)\\n        trial_row = curr_mouse_df.loc[curr_mouse_df.Trial == trial]\\n\\n        if len(trials_done) == len(curr_mouse_df):\\n            print(\\\"Insufficient contact group images...\\\")\\n            break\\n        if (trial not in trials_done) and (trial in all_possible_trials):\\n            trial_row = curr_mouse_df[curr_mouse_df.Trial == trial]\\n\\n            start_time = str(trial_row.Start.item())\\n            end_time = str(trial_row.Time_Latency_Contact_s.item())\\n\\n            start_seconds = utils.time_to_sec(start_time) + START_PUP_CAPTURE_THRESH\\n            end_seconds = utils.time_to_sec(end_time) - END_PUP_CAPTURE_THRESH\\n            diff_seconds = end_seconds - start_seconds\\n\\n            future_number_of_images = images_recorded + diff_seconds\\n            # Stop recording excess number of images.\\n            if future_number_of_images > pup_images:\\n                end_seconds = start_seconds + (pup_images - images_recorded)\\n                diff_seconds = end_seconds - start_seconds\\n\\n            print(\\n                f\\\"Starts at {start_seconds} seconds and end at {end_seconds} seconds of interval {diff_seconds} seconds\\\"\\n            )\\n            create_dataset_pipeline(start_seconds, end_seconds, \\\"child-mice\\\", False)\\n\\n            images_recorded += diff_seconds\\n\\n            trials_done.append(trial)  # append unique trials\\n    split_train_test(\\\"child-mice\\\", 0.8)\\n\\n    train_size = len(os.listdir(f\\\"{path_to_data}/train/child-mice\\\"))\\n    test_size = len(os.listdir(f\\\"{path_to_data}/test/child-mice\\\"))\\n\\n    print(\\n        f\\\"Saved all {images_recorded} child image files and train has {train_size} pictures and test has {test_size} pictures!\\\"\\n    )\";\n",
       "                var nbb_formatted_code = \"def create_pup_dataset(pup_images: int):\\n    START_PUP_CAPTURE_THRESH = 1\\n    END_PUP_CAPTURE_THRESH = 1\\n\\n    min_trial = curr_mouse_df.head(1).Trial.item()\\n    max_trial = curr_mouse_df.tail(1).Trial.item()\\n\\n    trials_done = []\\n    all_possible_trials = list(curr_mouse_df.Trial)\\n    images_recorded = 0\\n\\n    while images_recorded < pup_images:\\n\\n        trial = random.randint(min_trial, max_trial)\\n        trial_row = curr_mouse_df.loc[curr_mouse_df.Trial == trial]\\n\\n        if len(trials_done) == len(curr_mouse_df):\\n            print(\\\"Insufficient contact group images...\\\")\\n            break\\n        if (trial not in trials_done) and (trial in all_possible_trials):\\n            trial_row = curr_mouse_df[curr_mouse_df.Trial == trial]\\n\\n            start_time = str(trial_row.Start.item())\\n            end_time = str(trial_row.Time_Latency_Contact_s.item())\\n\\n            start_seconds = utils.time_to_sec(start_time) + START_PUP_CAPTURE_THRESH\\n            end_seconds = utils.time_to_sec(end_time) - END_PUP_CAPTURE_THRESH\\n            diff_seconds = end_seconds - start_seconds\\n\\n            future_number_of_images = images_recorded + diff_seconds\\n            # Stop recording excess number of images.\\n            if future_number_of_images > pup_images:\\n                end_seconds = start_seconds + (pup_images - images_recorded)\\n                diff_seconds = end_seconds - start_seconds\\n\\n            print(\\n                f\\\"Starts at {start_seconds} seconds and end at {end_seconds} seconds of interval {diff_seconds} seconds\\\"\\n            )\\n            create_dataset_pipeline(start_seconds, end_seconds, \\\"child-mice\\\", False)\\n\\n            images_recorded += diff_seconds\\n\\n            trials_done.append(trial)  # append unique trials\\n    split_train_test(\\\"child-mice\\\", 0.8)\\n\\n    train_size = len(os.listdir(f\\\"{path_to_data}/train/child-mice\\\"))\\n    test_size = len(os.listdir(f\\\"{path_to_data}/test/child-mice\\\"))\\n\\n    print(\\n        f\\\"Saved all {images_recorded} child image files and train has {train_size} pictures and test has {test_size} pictures!\\\"\\n    )\";\n",
       "                var nbb_cells = Jupyter.notebook.get_cells();\n",
       "                for (var i = 0; i < nbb_cells.length; ++i) {\n",
       "                    if (nbb_cells[i].input_prompt_number == nbb_cell_id) {\n",
       "                        if (nbb_cells[i].get_text() == nbb_unformatted_code) {\n",
       "                             nbb_cells[i].set_text(nbb_formatted_code);\n",
       "                        }\n",
       "                        break;\n",
       "                    }\n",
       "                }\n",
       "            }, 500);\n",
       "            "
      ],
      "text/plain": [
       "<IPython.core.display.Javascript object>"
      ]
     },
     "metadata": {},
     "output_type": "display_data"
    },
    {
     "data": {
      "application/javascript": [
       "\n",
       "            setTimeout(function() {\n",
       "                var nbb_cell_id = 110;\n",
       "                var nbb_unformatted_code = \"def create_pup_dataset(pup_images: int):\\n    START_PUP_CAPTURE_THRESH = 1\\n    END_PUP_CAPTURE_THRESH = 1\\n\\n    min_trial = curr_mouse_df.head(1).Trial.item()\\n    max_trial = curr_mouse_df.tail(1).Trial.item()\\n\\n    trials_done = []\\n    all_possible_trials = list(curr_mouse_df.Trial)\\n    images_recorded = 0\\n\\n    while images_recorded < pup_images:\\n\\n        trial = random.randint(min_trial, max_trial)\\n        trial_row = curr_mouse_df.loc[curr_mouse_df.Trial == trial]\\n\\n        if len(trials_done) == len(curr_mouse_df):\\n            print(\\\"Insufficient contact group images...\\\")\\n            break\\n        if (trial not in trials_done) and (trial in all_possible_trials):\\n            trial_row = curr_mouse_df[curr_mouse_df.Trial == trial]\\n\\n            start_time = str(trial_row.Start.item())\\n            end_time = str(trial_row.Time_Latency_Contact_s.item())\\n\\n            start_seconds = utils.time_to_sec(start_time) + START_PUP_CAPTURE_THRESH\\n            end_seconds = utils.time_to_sec(end_time) - END_PUP_CAPTURE_THRESH\\n            diff_seconds = end_seconds - start_seconds\\n\\n            future_number_of_images = images_recorded + diff_seconds\\n            # Stop recording excess number of images.\\n            if future_number_of_images > pup_images:\\n                end_seconds = start_seconds + (pup_images - images_recorded)\\n                diff_seconds = end_seconds - start_seconds\\n\\n            print(\\n                f\\\"Starts at {start_seconds} seconds and end at {end_seconds} seconds of interval {diff_seconds} seconds\\\"\\n            )\\n            create_dataset_pipeline(start_seconds, end_seconds, \\\"child-mice\\\", False)\\n\\n            images_recorded += diff_seconds\\n\\n            trials_done.append(trial)  # append unique trials\\n    split_train_test(\\\"child-mice\\\", 0.8)\\n\\n    train_size = len(os.listdir(f\\\"{path_to_data}/train/child-mice\\\"))\\n    test_size = len(os.listdir(f\\\"{path_to_data}/test/child-mice\\\"))\\n\\n    print(\\n        f\\\"Saved all {images_recorded} child image files and train has {train_size} pictures and test has {test_size} pictures!\\\"\\n    )\";\n",
       "                var nbb_formatted_code = \"def create_pup_dataset(pup_images: int):\\n    START_PUP_CAPTURE_THRESH = 1\\n    END_PUP_CAPTURE_THRESH = 1\\n\\n    min_trial = curr_mouse_df.head(1).Trial.item()\\n    max_trial = curr_mouse_df.tail(1).Trial.item()\\n\\n    trials_done = []\\n    all_possible_trials = list(curr_mouse_df.Trial)\\n    images_recorded = 0\\n\\n    while images_recorded < pup_images:\\n\\n        trial = random.randint(min_trial, max_trial)\\n        trial_row = curr_mouse_df.loc[curr_mouse_df.Trial == trial]\\n\\n        if len(trials_done) == len(curr_mouse_df):\\n            print(\\\"Insufficient contact group images...\\\")\\n            break\\n        if (trial not in trials_done) and (trial in all_possible_trials):\\n            trial_row = curr_mouse_df[curr_mouse_df.Trial == trial]\\n\\n            start_time = str(trial_row.Start.item())\\n            end_time = str(trial_row.Time_Latency_Contact_s.item())\\n\\n            start_seconds = utils.time_to_sec(start_time) + START_PUP_CAPTURE_THRESH\\n            end_seconds = utils.time_to_sec(end_time) - END_PUP_CAPTURE_THRESH\\n            diff_seconds = end_seconds - start_seconds\\n\\n            future_number_of_images = images_recorded + diff_seconds\\n            # Stop recording excess number of images.\\n            if future_number_of_images > pup_images:\\n                end_seconds = start_seconds + (pup_images - images_recorded)\\n                diff_seconds = end_seconds - start_seconds\\n\\n            print(\\n                f\\\"Starts at {start_seconds} seconds and end at {end_seconds} seconds of interval {diff_seconds} seconds\\\"\\n            )\\n            create_dataset_pipeline(start_seconds, end_seconds, \\\"child-mice\\\", False)\\n\\n            images_recorded += diff_seconds\\n\\n            trials_done.append(trial)  # append unique trials\\n    split_train_test(\\\"child-mice\\\", 0.8)\\n\\n    train_size = len(os.listdir(f\\\"{path_to_data}/train/child-mice\\\"))\\n    test_size = len(os.listdir(f\\\"{path_to_data}/test/child-mice\\\"))\\n\\n    print(\\n        f\\\"Saved all {images_recorded} child image files and train has {train_size} pictures and test has {test_size} pictures!\\\"\\n    )\";\n",
       "                var nbb_cells = Jupyter.notebook.get_cells();\n",
       "                for (var i = 0; i < nbb_cells.length; ++i) {\n",
       "                    if (nbb_cells[i].input_prompt_number == nbb_cell_id) {\n",
       "                        if (nbb_cells[i].get_text() == nbb_unformatted_code) {\n",
       "                             nbb_cells[i].set_text(nbb_formatted_code);\n",
       "                        }\n",
       "                        break;\n",
       "                    }\n",
       "                }\n",
       "            }, 500);\n",
       "            "
      ],
      "text/plain": [
       "<IPython.core.display.Javascript object>"
      ]
     },
     "metadata": {},
     "output_type": "display_data"
    }
   ],
   "source": [
    "def create_pup_dataset(pup_images: int):\n",
    "    START_PUP_CAPTURE_THRESH = 1\n",
    "    END_PUP_CAPTURE_THRESH = 1\n",
    "\n",
    "    min_trial = curr_mouse_df.head(1).Trial.item()\n",
    "    max_trial = curr_mouse_df.tail(1).Trial.item()\n",
    "\n",
    "    trials_done = []\n",
    "    all_possible_trials = list(curr_mouse_df.Trial)\n",
    "    images_recorded = 0\n",
    "\n",
    "    while images_recorded < pup_images:\n",
    "\n",
    "        trial = random.randint(min_trial, max_trial)\n",
    "        trial_row = curr_mouse_df.loc[curr_mouse_df.Trial == trial]\n",
    "\n",
    "        if len(trials_done) == len(curr_mouse_df):\n",
    "            print(\"Insufficient contact group images...\")\n",
    "            break\n",
    "        if (trial not in trials_done) and (trial in all_possible_trials):\n",
    "            trial_row = curr_mouse_df[curr_mouse_df.Trial == trial]\n",
    "\n",
    "            start_time = str(trial_row.Start.item())\n",
    "            end_time = str(trial_row.Time_Latency_Contact_s.item())\n",
    "\n",
    "            start_seconds = utils.time_to_sec(start_time) + START_PUP_CAPTURE_THRESH\n",
    "            end_seconds = utils.time_to_sec(end_time) - END_PUP_CAPTURE_THRESH\n",
    "            diff_seconds = end_seconds - start_seconds\n",
    "\n",
    "            future_number_of_images = images_recorded + diff_seconds\n",
    "            # Stop recording excess number of images.\n",
    "            if future_number_of_images > pup_images:\n",
    "                end_seconds = start_seconds + (pup_images - images_recorded)\n",
    "                diff_seconds = end_seconds - start_seconds\n",
    "\n",
    "            print(\n",
    "                f\"Starts at {start_seconds} seconds and end at {end_seconds} seconds of interval {diff_seconds} seconds\"\n",
    "            )\n",
    "            create_dataset_pipeline(start_seconds, end_seconds, \"child-mice\", False)\n",
    "\n",
    "            images_recorded += diff_seconds\n",
    "\n",
    "            trials_done.append(trial)  # append unique trials\n",
    "    split_train_test(\"child-mice\", 0.8)\n",
    "\n",
    "    train_size = len(os.listdir(f\"{path_to_data}/train/child-mice\"))\n",
    "    test_size = len(os.listdir(f\"{path_to_data}/test/child-mice\"))\n",
    "\n",
    "    print(\n",
    "        f\"Saved all {images_recorded} child image files and train has {train_size} pictures and test has {test_size} pictures!\"\n",
    "    )"
   ]
  },
  {
   "cell_type": "code",
   "execution_count": 111,
   "metadata": {},
   "outputs": [
    {
     "data": {
      "application/javascript": [
       "\n",
       "            setTimeout(function() {\n",
       "                var nbb_cell_id = 111;\n",
       "                var nbb_unformatted_code = \"def create_final_parent_pup_dataset(images: int, create_parent: bool, create_child: bool):\\n    try:\\n        if create_child:\\n            utils.remove_all_files(f\\\"{path_to_data}/train/child-mice\\\")\\n            utils.remove_all_files(f\\\"{path_to_data}/test/child-mice\\\")\\n            create_pup_dataset(images)\\n        if create_parent:\\n            utils.remove_all_files(f\\\"{path_to_data}/train/parent-mice\\\")\\n            utils.remove_all_files(f\\\"{path_to_data}/test/parent-mice\\\")\\n            create_parent_dataset(images)\\n    except:\\n        var = traceback.format_exc()\\n        print(var)\";\n",
       "                var nbb_formatted_code = \"def create_final_parent_pup_dataset(\\n    images: int, create_parent: bool, create_child: bool\\n):\\n    try:\\n        if create_child:\\n            utils.remove_all_files(f\\\"{path_to_data}/train/child-mice\\\")\\n            utils.remove_all_files(f\\\"{path_to_data}/test/child-mice\\\")\\n            create_pup_dataset(images)\\n        if create_parent:\\n            utils.remove_all_files(f\\\"{path_to_data}/train/parent-mice\\\")\\n            utils.remove_all_files(f\\\"{path_to_data}/test/parent-mice\\\")\\n            create_parent_dataset(images)\\n    except:\\n        var = traceback.format_exc()\\n        print(var)\";\n",
       "                var nbb_cells = Jupyter.notebook.get_cells();\n",
       "                for (var i = 0; i < nbb_cells.length; ++i) {\n",
       "                    if (nbb_cells[i].input_prompt_number == nbb_cell_id) {\n",
       "                        if (nbb_cells[i].get_text() == nbb_unformatted_code) {\n",
       "                             nbb_cells[i].set_text(nbb_formatted_code);\n",
       "                        }\n",
       "                        break;\n",
       "                    }\n",
       "                }\n",
       "            }, 500);\n",
       "            "
      ],
      "text/plain": [
       "<IPython.core.display.Javascript object>"
      ]
     },
     "metadata": {},
     "output_type": "display_data"
    },
    {
     "data": {
      "application/javascript": [
       "\n",
       "            setTimeout(function() {\n",
       "                var nbb_cell_id = 111;\n",
       "                var nbb_unformatted_code = \"def create_final_parent_pup_dataset(images: int, create_parent: bool, create_child: bool):\\n    try:\\n        if create_child:\\n            utils.remove_all_files(f\\\"{path_to_data}/train/child-mice\\\")\\n            utils.remove_all_files(f\\\"{path_to_data}/test/child-mice\\\")\\n            create_pup_dataset(images)\\n        if create_parent:\\n            utils.remove_all_files(f\\\"{path_to_data}/train/parent-mice\\\")\\n            utils.remove_all_files(f\\\"{path_to_data}/test/parent-mice\\\")\\n            create_parent_dataset(images)\\n    except:\\n        var = traceback.format_exc()\\n        print(var)\";\n",
       "                var nbb_formatted_code = \"def create_final_parent_pup_dataset(\\n    images: int, create_parent: bool, create_child: bool\\n):\\n    try:\\n        if create_child:\\n            utils.remove_all_files(f\\\"{path_to_data}/train/child-mice\\\")\\n            utils.remove_all_files(f\\\"{path_to_data}/test/child-mice\\\")\\n            create_pup_dataset(images)\\n        if create_parent:\\n            utils.remove_all_files(f\\\"{path_to_data}/train/parent-mice\\\")\\n            utils.remove_all_files(f\\\"{path_to_data}/test/parent-mice\\\")\\n            create_parent_dataset(images)\\n    except:\\n        var = traceback.format_exc()\\n        print(var)\";\n",
       "                var nbb_cells = Jupyter.notebook.get_cells();\n",
       "                for (var i = 0; i < nbb_cells.length; ++i) {\n",
       "                    if (nbb_cells[i].input_prompt_number == nbb_cell_id) {\n",
       "                        if (nbb_cells[i].get_text() == nbb_unformatted_code) {\n",
       "                             nbb_cells[i].set_text(nbb_formatted_code);\n",
       "                        }\n",
       "                        break;\n",
       "                    }\n",
       "                }\n",
       "            }, 500);\n",
       "            "
      ],
      "text/plain": [
       "<IPython.core.display.Javascript object>"
      ]
     },
     "metadata": {},
     "output_type": "display_data"
    },
    {
     "data": {
      "application/javascript": [
       "\n",
       "            setTimeout(function() {\n",
       "                var nbb_cell_id = 111;\n",
       "                var nbb_unformatted_code = \"def create_final_parent_pup_dataset(images: int, create_parent: bool, create_child: bool):\\n    try:\\n        if create_child:\\n            utils.remove_all_files(f\\\"{path_to_data}/train/child-mice\\\")\\n            utils.remove_all_files(f\\\"{path_to_data}/test/child-mice\\\")\\n            create_pup_dataset(images)\\n        if create_parent:\\n            utils.remove_all_files(f\\\"{path_to_data}/train/parent-mice\\\")\\n            utils.remove_all_files(f\\\"{path_to_data}/test/parent-mice\\\")\\n            create_parent_dataset(images)\\n    except:\\n        var = traceback.format_exc()\\n        print(var)\";\n",
       "                var nbb_formatted_code = \"def create_final_parent_pup_dataset(\\n    images: int, create_parent: bool, create_child: bool\\n):\\n    try:\\n        if create_child:\\n            utils.remove_all_files(f\\\"{path_to_data}/train/child-mice\\\")\\n            utils.remove_all_files(f\\\"{path_to_data}/test/child-mice\\\")\\n            create_pup_dataset(images)\\n        if create_parent:\\n            utils.remove_all_files(f\\\"{path_to_data}/train/parent-mice\\\")\\n            utils.remove_all_files(f\\\"{path_to_data}/test/parent-mice\\\")\\n            create_parent_dataset(images)\\n    except:\\n        var = traceback.format_exc()\\n        print(var)\";\n",
       "                var nbb_cells = Jupyter.notebook.get_cells();\n",
       "                for (var i = 0; i < nbb_cells.length; ++i) {\n",
       "                    if (nbb_cells[i].input_prompt_number == nbb_cell_id) {\n",
       "                        if (nbb_cells[i].get_text() == nbb_unformatted_code) {\n",
       "                             nbb_cells[i].set_text(nbb_formatted_code);\n",
       "                        }\n",
       "                        break;\n",
       "                    }\n",
       "                }\n",
       "            }, 500);\n",
       "            "
      ],
      "text/plain": [
       "<IPython.core.display.Javascript object>"
      ]
     },
     "metadata": {},
     "output_type": "display_data"
    },
    {
     "data": {
      "application/javascript": [
       "\n",
       "            setTimeout(function() {\n",
       "                var nbb_cell_id = 111;\n",
       "                var nbb_unformatted_code = \"def create_final_parent_pup_dataset(images: int, create_parent: bool, create_child: bool):\\n    try:\\n        if create_child:\\n            utils.remove_all_files(f\\\"{path_to_data}/train/child-mice\\\")\\n            utils.remove_all_files(f\\\"{path_to_data}/test/child-mice\\\")\\n            create_pup_dataset(images)\\n        if create_parent:\\n            utils.remove_all_files(f\\\"{path_to_data}/train/parent-mice\\\")\\n            utils.remove_all_files(f\\\"{path_to_data}/test/parent-mice\\\")\\n            create_parent_dataset(images)\\n    except:\\n        var = traceback.format_exc()\\n        print(var)\";\n",
       "                var nbb_formatted_code = \"def create_final_parent_pup_dataset(\\n    images: int, create_parent: bool, create_child: bool\\n):\\n    try:\\n        if create_child:\\n            utils.remove_all_files(f\\\"{path_to_data}/train/child-mice\\\")\\n            utils.remove_all_files(f\\\"{path_to_data}/test/child-mice\\\")\\n            create_pup_dataset(images)\\n        if create_parent:\\n            utils.remove_all_files(f\\\"{path_to_data}/train/parent-mice\\\")\\n            utils.remove_all_files(f\\\"{path_to_data}/test/parent-mice\\\")\\n            create_parent_dataset(images)\\n    except:\\n        var = traceback.format_exc()\\n        print(var)\";\n",
       "                var nbb_cells = Jupyter.notebook.get_cells();\n",
       "                for (var i = 0; i < nbb_cells.length; ++i) {\n",
       "                    if (nbb_cells[i].input_prompt_number == nbb_cell_id) {\n",
       "                        if (nbb_cells[i].get_text() == nbb_unformatted_code) {\n",
       "                             nbb_cells[i].set_text(nbb_formatted_code);\n",
       "                        }\n",
       "                        break;\n",
       "                    }\n",
       "                }\n",
       "            }, 500);\n",
       "            "
      ],
      "text/plain": [
       "<IPython.core.display.Javascript object>"
      ]
     },
     "metadata": {},
     "output_type": "display_data"
    },
    {
     "data": {
      "application/javascript": [
       "\n",
       "            setTimeout(function() {\n",
       "                var nbb_cell_id = 111;\n",
       "                var nbb_unformatted_code = \"def create_final_parent_pup_dataset(images: int, create_parent: bool, create_child: bool):\\n    try:\\n        if create_child:\\n            utils.remove_all_files(f\\\"{path_to_data}/train/child-mice\\\")\\n            utils.remove_all_files(f\\\"{path_to_data}/test/child-mice\\\")\\n            create_pup_dataset(images)\\n        if create_parent:\\n            utils.remove_all_files(f\\\"{path_to_data}/train/parent-mice\\\")\\n            utils.remove_all_files(f\\\"{path_to_data}/test/parent-mice\\\")\\n            create_parent_dataset(images)\\n    except:\\n        var = traceback.format_exc()\\n        print(var)\";\n",
       "                var nbb_formatted_code = \"def create_final_parent_pup_dataset(\\n    images: int, create_parent: bool, create_child: bool\\n):\\n    try:\\n        if create_child:\\n            utils.remove_all_files(f\\\"{path_to_data}/train/child-mice\\\")\\n            utils.remove_all_files(f\\\"{path_to_data}/test/child-mice\\\")\\n            create_pup_dataset(images)\\n        if create_parent:\\n            utils.remove_all_files(f\\\"{path_to_data}/train/parent-mice\\\")\\n            utils.remove_all_files(f\\\"{path_to_data}/test/parent-mice\\\")\\n            create_parent_dataset(images)\\n    except:\\n        var = traceback.format_exc()\\n        print(var)\";\n",
       "                var nbb_cells = Jupyter.notebook.get_cells();\n",
       "                for (var i = 0; i < nbb_cells.length; ++i) {\n",
       "                    if (nbb_cells[i].input_prompt_number == nbb_cell_id) {\n",
       "                        if (nbb_cells[i].get_text() == nbb_unformatted_code) {\n",
       "                             nbb_cells[i].set_text(nbb_formatted_code);\n",
       "                        }\n",
       "                        break;\n",
       "                    }\n",
       "                }\n",
       "            }, 500);\n",
       "            "
      ],
      "text/plain": [
       "<IPython.core.display.Javascript object>"
      ]
     },
     "metadata": {},
     "output_type": "display_data"
    },
    {
     "data": {
      "application/javascript": [
       "\n",
       "            setTimeout(function() {\n",
       "                var nbb_cell_id = 111;\n",
       "                var nbb_unformatted_code = \"def create_final_parent_pup_dataset(images: int, create_parent: bool, create_child: bool):\\n    try:\\n        if create_child:\\n            utils.remove_all_files(f\\\"{path_to_data}/train/child-mice\\\")\\n            utils.remove_all_files(f\\\"{path_to_data}/test/child-mice\\\")\\n            create_pup_dataset(images)\\n        if create_parent:\\n            utils.remove_all_files(f\\\"{path_to_data}/train/parent-mice\\\")\\n            utils.remove_all_files(f\\\"{path_to_data}/test/parent-mice\\\")\\n            create_parent_dataset(images)\\n    except:\\n        var = traceback.format_exc()\\n        print(var)\";\n",
       "                var nbb_formatted_code = \"def create_final_parent_pup_dataset(\\n    images: int, create_parent: bool, create_child: bool\\n):\\n    try:\\n        if create_child:\\n            utils.remove_all_files(f\\\"{path_to_data}/train/child-mice\\\")\\n            utils.remove_all_files(f\\\"{path_to_data}/test/child-mice\\\")\\n            create_pup_dataset(images)\\n        if create_parent:\\n            utils.remove_all_files(f\\\"{path_to_data}/train/parent-mice\\\")\\n            utils.remove_all_files(f\\\"{path_to_data}/test/parent-mice\\\")\\n            create_parent_dataset(images)\\n    except:\\n        var = traceback.format_exc()\\n        print(var)\";\n",
       "                var nbb_cells = Jupyter.notebook.get_cells();\n",
       "                for (var i = 0; i < nbb_cells.length; ++i) {\n",
       "                    if (nbb_cells[i].input_prompt_number == nbb_cell_id) {\n",
       "                        if (nbb_cells[i].get_text() == nbb_unformatted_code) {\n",
       "                             nbb_cells[i].set_text(nbb_formatted_code);\n",
       "                        }\n",
       "                        break;\n",
       "                    }\n",
       "                }\n",
       "            }, 500);\n",
       "            "
      ],
      "text/plain": [
       "<IPython.core.display.Javascript object>"
      ]
     },
     "metadata": {},
     "output_type": "display_data"
    },
    {
     "data": {
      "application/javascript": [
       "\n",
       "            setTimeout(function() {\n",
       "                var nbb_cell_id = 111;\n",
       "                var nbb_unformatted_code = \"def create_final_parent_pup_dataset(images: int, create_parent: bool, create_child: bool):\\n    try:\\n        if create_child:\\n            utils.remove_all_files(f\\\"{path_to_data}/train/child-mice\\\")\\n            utils.remove_all_files(f\\\"{path_to_data}/test/child-mice\\\")\\n            create_pup_dataset(images)\\n        if create_parent:\\n            utils.remove_all_files(f\\\"{path_to_data}/train/parent-mice\\\")\\n            utils.remove_all_files(f\\\"{path_to_data}/test/parent-mice\\\")\\n            create_parent_dataset(images)\\n    except:\\n        var = traceback.format_exc()\\n        print(var)\";\n",
       "                var nbb_formatted_code = \"def create_final_parent_pup_dataset(\\n    images: int, create_parent: bool, create_child: bool\\n):\\n    try:\\n        if create_child:\\n            utils.remove_all_files(f\\\"{path_to_data}/train/child-mice\\\")\\n            utils.remove_all_files(f\\\"{path_to_data}/test/child-mice\\\")\\n            create_pup_dataset(images)\\n        if create_parent:\\n            utils.remove_all_files(f\\\"{path_to_data}/train/parent-mice\\\")\\n            utils.remove_all_files(f\\\"{path_to_data}/test/parent-mice\\\")\\n            create_parent_dataset(images)\\n    except:\\n        var = traceback.format_exc()\\n        print(var)\";\n",
       "                var nbb_cells = Jupyter.notebook.get_cells();\n",
       "                for (var i = 0; i < nbb_cells.length; ++i) {\n",
       "                    if (nbb_cells[i].input_prompt_number == nbb_cell_id) {\n",
       "                        if (nbb_cells[i].get_text() == nbb_unformatted_code) {\n",
       "                             nbb_cells[i].set_text(nbb_formatted_code);\n",
       "                        }\n",
       "                        break;\n",
       "                    }\n",
       "                }\n",
       "            }, 500);\n",
       "            "
      ],
      "text/plain": [
       "<IPython.core.display.Javascript object>"
      ]
     },
     "metadata": {},
     "output_type": "display_data"
    },
    {
     "data": {
      "application/javascript": [
       "\n",
       "            setTimeout(function() {\n",
       "                var nbb_cell_id = 111;\n",
       "                var nbb_unformatted_code = \"def create_final_parent_pup_dataset(images: int, create_parent: bool, create_child: bool):\\n    try:\\n        if create_child:\\n            utils.remove_all_files(f\\\"{path_to_data}/train/child-mice\\\")\\n            utils.remove_all_files(f\\\"{path_to_data}/test/child-mice\\\")\\n            create_pup_dataset(images)\\n        if create_parent:\\n            utils.remove_all_files(f\\\"{path_to_data}/train/parent-mice\\\")\\n            utils.remove_all_files(f\\\"{path_to_data}/test/parent-mice\\\")\\n            create_parent_dataset(images)\\n    except:\\n        var = traceback.format_exc()\\n        print(var)\";\n",
       "                var nbb_formatted_code = \"def create_final_parent_pup_dataset(\\n    images: int, create_parent: bool, create_child: bool\\n):\\n    try:\\n        if create_child:\\n            utils.remove_all_files(f\\\"{path_to_data}/train/child-mice\\\")\\n            utils.remove_all_files(f\\\"{path_to_data}/test/child-mice\\\")\\n            create_pup_dataset(images)\\n        if create_parent:\\n            utils.remove_all_files(f\\\"{path_to_data}/train/parent-mice\\\")\\n            utils.remove_all_files(f\\\"{path_to_data}/test/parent-mice\\\")\\n            create_parent_dataset(images)\\n    except:\\n        var = traceback.format_exc()\\n        print(var)\";\n",
       "                var nbb_cells = Jupyter.notebook.get_cells();\n",
       "                for (var i = 0; i < nbb_cells.length; ++i) {\n",
       "                    if (nbb_cells[i].input_prompt_number == nbb_cell_id) {\n",
       "                        if (nbb_cells[i].get_text() == nbb_unformatted_code) {\n",
       "                             nbb_cells[i].set_text(nbb_formatted_code);\n",
       "                        }\n",
       "                        break;\n",
       "                    }\n",
       "                }\n",
       "            }, 500);\n",
       "            "
      ],
      "text/plain": [
       "<IPython.core.display.Javascript object>"
      ]
     },
     "metadata": {},
     "output_type": "display_data"
    }
   ],
   "source": [
    "def create_final_parent_pup_dataset(images: int, create_parent: bool, create_child: bool):\n",
    "    try:\n",
    "        if create_child:\n",
    "            utils.remove_all_files(f\"{path_to_data}/train/child-mice\")\n",
    "            utils.remove_all_files(f\"{path_to_data}/test/child-mice\")\n",
    "            create_pup_dataset(images)\n",
    "        if create_parent:\n",
    "            utils.remove_all_files(f\"{path_to_data}/train/parent-mice\")\n",
    "            utils.remove_all_files(f\"{path_to_data}/test/parent-mice\")\n",
    "            create_parent_dataset(images)\n",
    "    except:\n",
    "        var = traceback.format_exc()\n",
    "        print(var)\n"
   ]
  },
  {
   "cell_type": "code",
   "execution_count": 114,
   "metadata": {},
   "outputs": [
    {
     "name": "stdout",
     "output_type": "stream",
     "text": [
      "made directory... at /Users/user/Applications/machine-learning/deeproute/data/parent-mice\n",
      "Saved image as PrL-4-f64053e0-5924-4834-a8d1-d2c9718cef6c at timestamp 19:43\n",
      "Saved image as PrL-4-539351db-999e-4e75-9853-b7a47d141a03 at timestamp 19:44\n",
      "Saved image as PrL-4-f65a1cca-f24c-4fc7-8e6a-a37a68462736 at timestamp 19:45\n",
      "Saved image as PrL-4-3d929c09-f6cb-4260-b00c-a910243a03cf at timestamp 19:46\n",
      "Saved image as PrL-4-5f3337eb-974e-4eae-9e88-be1223c045df at timestamp 19:47\n",
      "Saved image as PrL-4-96ef09be-00d9-4a86-a443-3ec18f932a8e at timestamp 19:48\n",
      "Saved image as PrL-4-5cb4c947-f79b-4f7f-a633-2b828e65a9fe at timestamp 19:49\n",
      "Saved image as PrL-4-5fc6873d-e81a-4361-a0fd-f85958409401 at timestamp 19:50\n",
      "Saved image as PrL-4-833dc9ec-abfa-4456-8089-75a33064172d at timestamp 19:51\n",
      "Saved image as PrL-4-20273a49-8a2d-4d4a-a397-c87449d02da2 at timestamp 19:52\n",
      "Saved image as PrL-4-e2c75291-4caa-45ea-b9ca-16c92e015c74 at timestamp 19:53\n",
      "Saved image as PrL-4-fc10efc2-704e-45a7-a851-5f4509feb481 at timestamp 19:54\n",
      "Saved image as PrL-4-ad054426-b309-4399-8e2d-47d25ec000d0 at timestamp 19:55\n",
      "Saved image as PrL-4-4e8478e3-188e-449d-b883-a0fc5a726f73 at timestamp 19:56\n",
      "Saved image as PrL-4-1c6dfc7c-6554-4f51-a518-1b403fbbaf4f at timestamp 19:57\n",
      "Saved image as PrL-4-bccbcf0a-3153-4c95-a90b-d0101d474302 at timestamp 19:58\n",
      "Saved image as PrL-4-0e2a1343-88d2-4db0-989d-02c1fe4d4bbd at timestamp 19:59\n",
      "Saved image as PrL-4-541dc046-be40-4a42-acde-9f3cc79154e8 at timestamp 20:00\n",
      "Saved image as PrL-4-35bdd75c-dace-4319-8fc5-19970a21e421 at timestamp 20:01\n",
      "Saved image as PrL-4-b0cd8e8b-6b0d-46d1-9853-410ff4e02481 at timestamp 20:02\n",
      "Saved image as PrL-4-131fd2fc-1bd1-4896-aa02-c81886d1b19d at timestamp 20:03\n",
      "Saved image as PrL-4-76752131-7875-420c-8240-c6be0bdea365 at timestamp 20:04\n",
      "Saved image as PrL-4-30388f8f-32d7-4b54-96a4-7a47e22f1087 at timestamp 20:05\n",
      "Saved image as PrL-4-2c5dcf55-9f0e-4acf-a645-8c9966813503 at timestamp 20:06\n",
      "Saved image as PrL-4-f1ef16a4-8153-4ec7-aa0d-7518a2d8d630 at timestamp 20:07\n",
      "Saved image as PrL-4-70d08ac8-5266-4d1b-8754-dddc10364300 at timestamp 20:08\n",
      "Saved image as PrL-4-f4e46f8e-9e1e-497c-97de-457e132e0219 at timestamp 20:09\n",
      "Saved image as PrL-4-48e876cc-0ab9-4230-8c31-2b39c10bc662 at timestamp 20:10\n",
      "Saved image as PrL-4-4b96d3a0-1c98-4bde-95d1-55d837c6db97 at timestamp 20:11\n",
      "Saved image as PrL-4-d422bb7e-eb96-45e9-a264-28b065bb00f1 at timestamp 20:12\n",
      "Saved image as PrL-4-1c694753-c58b-46f1-94d6-bce561e2263d at timestamp 20:13\n",
      "Saved image as PrL-4-d8fd1ed7-d7ac-4b7a-9df0-f7eabb8bf43f at timestamp 20:14\n",
      "Saved image as PrL-4-c637395f-e544-4b44-8cd1-2c20b2e6f6d5 at timestamp 20:15\n",
      "Saved image as PrL-4-05757d77-2d9d-4fe5-b2ef-7a68b03ba848 at timestamp 20:16\n",
      "Saved image as PrL-4-d742620e-691b-457d-a291-b2c45801d04d at timestamp 20:17\n",
      "Saved image as PrL-4-0f93312b-0d14-4741-baa5-a82fe96d695f at timestamp 20:18\n",
      "Saved image as PrL-4-c97a801d-4703-4cab-b2c5-a13fd8c6483e at timestamp 20:19\n",
      "Saved image as PrL-4-5af9dc27-d53d-4e6c-a722-6e0feca71e0f at timestamp 20:20\n",
      "Saved image as PrL-4-be7b74f2-71ea-4bb3-a908-f2f7a1aa8c84 at timestamp 20:21\n",
      "Saved image as PrL-4-8f662199-de35-4074-addb-52c1a655709c at timestamp 20:22\n",
      "removed directory\n",
      "Saved all 40 parent image files and train has 32 pictures and test has 8 pictures!\n"
     ]
    },
    {
     "data": {
      "application/javascript": [
       "\n",
       "            setTimeout(function() {\n",
       "                var nbb_cell_id = 114;\n",
       "                var nbb_unformatted_code = \"create_final_parent_pup_dataset(40, create_parent=True, create_child=False)\";\n",
       "                var nbb_formatted_code = \"create_final_parent_pup_dataset(40, create_parent=True, create_child=False)\";\n",
       "                var nbb_cells = Jupyter.notebook.get_cells();\n",
       "                for (var i = 0; i < nbb_cells.length; ++i) {\n",
       "                    if (nbb_cells[i].input_prompt_number == nbb_cell_id) {\n",
       "                        if (nbb_cells[i].get_text() == nbb_unformatted_code) {\n",
       "                             nbb_cells[i].set_text(nbb_formatted_code);\n",
       "                        }\n",
       "                        break;\n",
       "                    }\n",
       "                }\n",
       "            }, 500);\n",
       "            "
      ],
      "text/plain": [
       "<IPython.core.display.Javascript object>"
      ]
     },
     "metadata": {},
     "output_type": "display_data"
    },
    {
     "data": {
      "application/javascript": [
       "\n",
       "            setTimeout(function() {\n",
       "                var nbb_cell_id = 114;\n",
       "                var nbb_unformatted_code = \"create_final_parent_pup_dataset(40, create_parent=True, create_child=False)\";\n",
       "                var nbb_formatted_code = \"create_final_parent_pup_dataset(40, create_parent=True, create_child=False)\";\n",
       "                var nbb_cells = Jupyter.notebook.get_cells();\n",
       "                for (var i = 0; i < nbb_cells.length; ++i) {\n",
       "                    if (nbb_cells[i].input_prompt_number == nbb_cell_id) {\n",
       "                        if (nbb_cells[i].get_text() == nbb_unformatted_code) {\n",
       "                             nbb_cells[i].set_text(nbb_formatted_code);\n",
       "                        }\n",
       "                        break;\n",
       "                    }\n",
       "                }\n",
       "            }, 500);\n",
       "            "
      ],
      "text/plain": [
       "<IPython.core.display.Javascript object>"
      ]
     },
     "metadata": {},
     "output_type": "display_data"
    },
    {
     "data": {
      "application/javascript": [
       "\n",
       "            setTimeout(function() {\n",
       "                var nbb_cell_id = 114;\n",
       "                var nbb_unformatted_code = \"create_final_parent_pup_dataset(40, create_parent=True, create_child=False)\";\n",
       "                var nbb_formatted_code = \"create_final_parent_pup_dataset(40, create_parent=True, create_child=False)\";\n",
       "                var nbb_cells = Jupyter.notebook.get_cells();\n",
       "                for (var i = 0; i < nbb_cells.length; ++i) {\n",
       "                    if (nbb_cells[i].input_prompt_number == nbb_cell_id) {\n",
       "                        if (nbb_cells[i].get_text() == nbb_unformatted_code) {\n",
       "                             nbb_cells[i].set_text(nbb_formatted_code);\n",
       "                        }\n",
       "                        break;\n",
       "                    }\n",
       "                }\n",
       "            }, 500);\n",
       "            "
      ],
      "text/plain": [
       "<IPython.core.display.Javascript object>"
      ]
     },
     "metadata": {},
     "output_type": "display_data"
    },
    {
     "data": {
      "application/javascript": [
       "\n",
       "            setTimeout(function() {\n",
       "                var nbb_cell_id = 114;\n",
       "                var nbb_unformatted_code = \"create_final_parent_pup_dataset(40, create_parent=True, create_child=False)\";\n",
       "                var nbb_formatted_code = \"create_final_parent_pup_dataset(40, create_parent=True, create_child=False)\";\n",
       "                var nbb_cells = Jupyter.notebook.get_cells();\n",
       "                for (var i = 0; i < nbb_cells.length; ++i) {\n",
       "                    if (nbb_cells[i].input_prompt_number == nbb_cell_id) {\n",
       "                        if (nbb_cells[i].get_text() == nbb_unformatted_code) {\n",
       "                             nbb_cells[i].set_text(nbb_formatted_code);\n",
       "                        }\n",
       "                        break;\n",
       "                    }\n",
       "                }\n",
       "            }, 500);\n",
       "            "
      ],
      "text/plain": [
       "<IPython.core.display.Javascript object>"
      ]
     },
     "metadata": {},
     "output_type": "display_data"
    },
    {
     "data": {
      "application/javascript": [
       "\n",
       "            setTimeout(function() {\n",
       "                var nbb_cell_id = 114;\n",
       "                var nbb_unformatted_code = \"create_final_parent_pup_dataset(40, create_parent=True, create_child=False)\";\n",
       "                var nbb_formatted_code = \"create_final_parent_pup_dataset(40, create_parent=True, create_child=False)\";\n",
       "                var nbb_cells = Jupyter.notebook.get_cells();\n",
       "                for (var i = 0; i < nbb_cells.length; ++i) {\n",
       "                    if (nbb_cells[i].input_prompt_number == nbb_cell_id) {\n",
       "                        if (nbb_cells[i].get_text() == nbb_unformatted_code) {\n",
       "                             nbb_cells[i].set_text(nbb_formatted_code);\n",
       "                        }\n",
       "                        break;\n",
       "                    }\n",
       "                }\n",
       "            }, 500);\n",
       "            "
      ],
      "text/plain": [
       "<IPython.core.display.Javascript object>"
      ]
     },
     "metadata": {},
     "output_type": "display_data"
    },
    {
     "data": {
      "application/javascript": [
       "\n",
       "            setTimeout(function() {\n",
       "                var nbb_cell_id = 114;\n",
       "                var nbb_unformatted_code = \"create_final_parent_pup_dataset(40, create_parent=True, create_child=False)\";\n",
       "                var nbb_formatted_code = \"create_final_parent_pup_dataset(40, create_parent=True, create_child=False)\";\n",
       "                var nbb_cells = Jupyter.notebook.get_cells();\n",
       "                for (var i = 0; i < nbb_cells.length; ++i) {\n",
       "                    if (nbb_cells[i].input_prompt_number == nbb_cell_id) {\n",
       "                        if (nbb_cells[i].get_text() == nbb_unformatted_code) {\n",
       "                             nbb_cells[i].set_text(nbb_formatted_code);\n",
       "                        }\n",
       "                        break;\n",
       "                    }\n",
       "                }\n",
       "            }, 500);\n",
       "            "
      ],
      "text/plain": [
       "<IPython.core.display.Javascript object>"
      ]
     },
     "metadata": {},
     "output_type": "display_data"
    },
    {
     "data": {
      "application/javascript": [
       "\n",
       "            setTimeout(function() {\n",
       "                var nbb_cell_id = 114;\n",
       "                var nbb_unformatted_code = \"create_final_parent_pup_dataset(40, create_parent=True, create_child=False)\";\n",
       "                var nbb_formatted_code = \"create_final_parent_pup_dataset(40, create_parent=True, create_child=False)\";\n",
       "                var nbb_cells = Jupyter.notebook.get_cells();\n",
       "                for (var i = 0; i < nbb_cells.length; ++i) {\n",
       "                    if (nbb_cells[i].input_prompt_number == nbb_cell_id) {\n",
       "                        if (nbb_cells[i].get_text() == nbb_unformatted_code) {\n",
       "                             nbb_cells[i].set_text(nbb_formatted_code);\n",
       "                        }\n",
       "                        break;\n",
       "                    }\n",
       "                }\n",
       "            }, 500);\n",
       "            "
      ],
      "text/plain": [
       "<IPython.core.display.Javascript object>"
      ]
     },
     "metadata": {},
     "output_type": "display_data"
    },
    {
     "data": {
      "application/javascript": [
       "\n",
       "            setTimeout(function() {\n",
       "                var nbb_cell_id = 114;\n",
       "                var nbb_unformatted_code = \"create_final_parent_pup_dataset(40, create_parent=True, create_child=False)\";\n",
       "                var nbb_formatted_code = \"create_final_parent_pup_dataset(40, create_parent=True, create_child=False)\";\n",
       "                var nbb_cells = Jupyter.notebook.get_cells();\n",
       "                for (var i = 0; i < nbb_cells.length; ++i) {\n",
       "                    if (nbb_cells[i].input_prompt_number == nbb_cell_id) {\n",
       "                        if (nbb_cells[i].get_text() == nbb_unformatted_code) {\n",
       "                             nbb_cells[i].set_text(nbb_formatted_code);\n",
       "                        }\n",
       "                        break;\n",
       "                    }\n",
       "                }\n",
       "            }, 500);\n",
       "            "
      ],
      "text/plain": [
       "<IPython.core.display.Javascript object>"
      ]
     },
     "metadata": {},
     "output_type": "display_data"
    }
   ],
   "source": [
    "create_final_parent_pup_dataset(40, create_parent=True, create_child=False)"
   ]
  }
 ],
 "metadata": {
  "kernelspec": {
   "display_name": "Python3 dr",
   "language": "python",
   "name": "dr"
  },
  "language_info": {
   "codemirror_mode": {
    "name": "ipython",
    "version": 3
   },
   "file_extension": ".py",
   "mimetype": "text/x-python",
   "name": "python",
   "nbconvert_exporter": "python",
   "pygments_lexer": "ipython3",
   "version": "3.8.10"
  }
 },
 "nbformat": 4,
 "nbformat_minor": 4
}
