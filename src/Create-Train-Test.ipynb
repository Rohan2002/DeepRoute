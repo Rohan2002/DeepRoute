{
 "cells": [
  {
   "cell_type": "code",
   "execution_count": 154,
   "metadata": {},
   "outputs": [
    {
     "name": "stdout",
     "output_type": "stream",
     "text": [
      "The autoreload extension is already loaded. To reload it, use:\n",
      "  %reload_ext autoreload\n"
     ]
    },
    {
     "data": {
      "application/javascript": [
       "\n",
       "            setTimeout(function() {\n",
       "                var nbb_cell_id = 154;\n",
       "                var nbb_unformatted_code = \"import warnings\\n\\nwarnings.filterwarnings(\\\"ignore\\\")\\n\\nimport os\\nimport shutil\\nimport platform\\nimport cv2\\nimport pandas as pd\\nimport random\\nimport math\\nimport uuid\\nimport sys\\nimport traceback\\nimport utils\\n\\n%load_ext autoreload\\n%autoreload 2\\n\\n%reload_ext nb_black\\n%config IPCompleter.greedy=True\";\n",
       "                var nbb_formatted_code = \"import warnings\\n\\nwarnings.filterwarnings(\\\"ignore\\\")\\n\\nimport os\\nimport shutil\\nimport platform\\nimport cv2\\nimport pandas as pd\\nimport random\\nimport math\\nimport uuid\\nimport sys\\nimport traceback\\nimport utils\\n\\n%load_ext autoreload\\n%autoreload 2\\n\\n%reload_ext nb_black\\n%config IPCompleter.greedy=True\";\n",
       "                var nbb_cells = Jupyter.notebook.get_cells();\n",
       "                for (var i = 0; i < nbb_cells.length; ++i) {\n",
       "                    if (nbb_cells[i].input_prompt_number == nbb_cell_id) {\n",
       "                        if (nbb_cells[i].get_text() == nbb_unformatted_code) {\n",
       "                             nbb_cells[i].set_text(nbb_formatted_code);\n",
       "                        }\n",
       "                        break;\n",
       "                    }\n",
       "                }\n",
       "            }, 500);\n",
       "            "
      ],
      "text/plain": [
       "<IPython.core.display.Javascript object>"
      ]
     },
     "metadata": {},
     "output_type": "display_data"
    },
    {
     "data": {
      "application/javascript": [
       "\n",
       "            setTimeout(function() {\n",
       "                var nbb_cell_id = 154;\n",
       "                var nbb_unformatted_code = \"import warnings\\n\\nwarnings.filterwarnings(\\\"ignore\\\")\\n\\nimport os\\nimport shutil\\nimport platform\\nimport cv2\\nimport pandas as pd\\nimport random\\nimport math\\nimport uuid\\nimport sys\\nimport traceback\\nimport utils\\n\\n%load_ext autoreload\\n%autoreload 2\\n\\n%reload_ext nb_black\\n%config IPCompleter.greedy=True\";\n",
       "                var nbb_formatted_code = \"import warnings\\n\\nwarnings.filterwarnings(\\\"ignore\\\")\\n\\nimport os\\nimport shutil\\nimport platform\\nimport cv2\\nimport pandas as pd\\nimport random\\nimport math\\nimport uuid\\nimport sys\\nimport traceback\\nimport utils\\n\\n%load_ext autoreload\\n%autoreload 2\\n\\n%reload_ext nb_black\\n%config IPCompleter.greedy=True\";\n",
       "                var nbb_cells = Jupyter.notebook.get_cells();\n",
       "                for (var i = 0; i < nbb_cells.length; ++i) {\n",
       "                    if (nbb_cells[i].input_prompt_number == nbb_cell_id) {\n",
       "                        if (nbb_cells[i].get_text() == nbb_unformatted_code) {\n",
       "                             nbb_cells[i].set_text(nbb_formatted_code);\n",
       "                        }\n",
       "                        break;\n",
       "                    }\n",
       "                }\n",
       "            }, 500);\n",
       "            "
      ],
      "text/plain": [
       "<IPython.core.display.Javascript object>"
      ]
     },
     "metadata": {},
     "output_type": "display_data"
    },
    {
     "data": {
      "application/javascript": [
       "\n",
       "            setTimeout(function() {\n",
       "                var nbb_cell_id = 154;\n",
       "                var nbb_unformatted_code = \"import warnings\\n\\nwarnings.filterwarnings(\\\"ignore\\\")\\n\\nimport os\\nimport shutil\\nimport platform\\nimport cv2\\nimport pandas as pd\\nimport random\\nimport math\\nimport uuid\\nimport sys\\nimport traceback\\nimport utils\\n\\n%load_ext autoreload\\n%autoreload 2\\n\\n%reload_ext nb_black\\n%config IPCompleter.greedy=True\";\n",
       "                var nbb_formatted_code = \"import warnings\\n\\nwarnings.filterwarnings(\\\"ignore\\\")\\n\\nimport os\\nimport shutil\\nimport platform\\nimport cv2\\nimport pandas as pd\\nimport random\\nimport math\\nimport uuid\\nimport sys\\nimport traceback\\nimport utils\\n\\n%load_ext autoreload\\n%autoreload 2\\n\\n%reload_ext nb_black\\n%config IPCompleter.greedy=True\";\n",
       "                var nbb_cells = Jupyter.notebook.get_cells();\n",
       "                for (var i = 0; i < nbb_cells.length; ++i) {\n",
       "                    if (nbb_cells[i].input_prompt_number == nbb_cell_id) {\n",
       "                        if (nbb_cells[i].get_text() == nbb_unformatted_code) {\n",
       "                             nbb_cells[i].set_text(nbb_formatted_code);\n",
       "                        }\n",
       "                        break;\n",
       "                    }\n",
       "                }\n",
       "            }, 500);\n",
       "            "
      ],
      "text/plain": [
       "<IPython.core.display.Javascript object>"
      ]
     },
     "metadata": {},
     "output_type": "display_data"
    },
    {
     "data": {
      "application/javascript": [
       "\n",
       "            setTimeout(function() {\n",
       "                var nbb_cell_id = 154;\n",
       "                var nbb_unformatted_code = \"import warnings\\n\\nwarnings.filterwarnings(\\\"ignore\\\")\\n\\nimport os\\nimport shutil\\nimport platform\\nimport cv2\\nimport pandas as pd\\nimport random\\nimport math\\nimport uuid\\nimport sys\\nimport traceback\\nimport utils\\n\\n%load_ext autoreload\\n%autoreload 2\\n\\n%reload_ext nb_black\\n%config IPCompleter.greedy=True\";\n",
       "                var nbb_formatted_code = \"import warnings\\n\\nwarnings.filterwarnings(\\\"ignore\\\")\\n\\nimport os\\nimport shutil\\nimport platform\\nimport cv2\\nimport pandas as pd\\nimport random\\nimport math\\nimport uuid\\nimport sys\\nimport traceback\\nimport utils\\n\\n%load_ext autoreload\\n%autoreload 2\\n\\n%reload_ext nb_black\\n%config IPCompleter.greedy=True\";\n",
       "                var nbb_cells = Jupyter.notebook.get_cells();\n",
       "                for (var i = 0; i < nbb_cells.length; ++i) {\n",
       "                    if (nbb_cells[i].input_prompt_number == nbb_cell_id) {\n",
       "                        if (nbb_cells[i].get_text() == nbb_unformatted_code) {\n",
       "                             nbb_cells[i].set_text(nbb_formatted_code);\n",
       "                        }\n",
       "                        break;\n",
       "                    }\n",
       "                }\n",
       "            }, 500);\n",
       "            "
      ],
      "text/plain": [
       "<IPython.core.display.Javascript object>"
      ]
     },
     "metadata": {},
     "output_type": "display_data"
    },
    {
     "data": {
      "application/javascript": [
       "\n",
       "            setTimeout(function() {\n",
       "                var nbb_cell_id = 154;\n",
       "                var nbb_unformatted_code = \"import warnings\\n\\nwarnings.filterwarnings(\\\"ignore\\\")\\n\\nimport os\\nimport shutil\\nimport platform\\nimport cv2\\nimport pandas as pd\\nimport random\\nimport math\\nimport uuid\\nimport sys\\nimport traceback\\nimport utils\\n\\n%load_ext autoreload\\n%autoreload 2\\n\\n%reload_ext nb_black\\n%config IPCompleter.greedy=True\";\n",
       "                var nbb_formatted_code = \"import warnings\\n\\nwarnings.filterwarnings(\\\"ignore\\\")\\n\\nimport os\\nimport shutil\\nimport platform\\nimport cv2\\nimport pandas as pd\\nimport random\\nimport math\\nimport uuid\\nimport sys\\nimport traceback\\nimport utils\\n\\n%load_ext autoreload\\n%autoreload 2\\n\\n%reload_ext nb_black\\n%config IPCompleter.greedy=True\";\n",
       "                var nbb_cells = Jupyter.notebook.get_cells();\n",
       "                for (var i = 0; i < nbb_cells.length; ++i) {\n",
       "                    if (nbb_cells[i].input_prompt_number == nbb_cell_id) {\n",
       "                        if (nbb_cells[i].get_text() == nbb_unformatted_code) {\n",
       "                             nbb_cells[i].set_text(nbb_formatted_code);\n",
       "                        }\n",
       "                        break;\n",
       "                    }\n",
       "                }\n",
       "            }, 500);\n",
       "            "
      ],
      "text/plain": [
       "<IPython.core.display.Javascript object>"
      ]
     },
     "metadata": {},
     "output_type": "display_data"
    }
   ],
   "source": [
    "import warnings\n",
    "\n",
    "warnings.filterwarnings(\"ignore\")\n",
    "\n",
    "import os\n",
    "import shutil\n",
    "import platform\n",
    "import cv2\n",
    "import pandas as pd\n",
    "import random\n",
    "import math\n",
    "import uuid\n",
    "import sys\n",
    "import traceback\n",
    "import utils\n",
    "\n",
    "%load_ext autoreload\n",
    "%autoreload 2\n",
    "\n",
    "%reload_ext nb_black\n",
    "%config IPCompleter.greedy=True"
   ]
  },
  {
   "cell_type": "code",
   "execution_count": 125,
   "metadata": {},
   "outputs": [
    {
     "data": {
      "application/javascript": [
       "\n",
       "            setTimeout(function() {\n",
       "                var nbb_cell_id = 125;\n",
       "                var nbb_unformatted_code = \"CURRENT_MICE = \\\"PrL-16\\\"\\nparent_directory = os.path.dirname(os.getcwd())\\npath_to_videos = os.path.join(parent_directory, \\\"videos\\\")\\npath_to_data = os.path.join(parent_directory, \\\"data\\\")\\n\\nmice = [\\n    \\\"PrL-2\\\",\\n    \\\"PrL-3\\\",\\n    \\\"PrL-4\\\",\\n    \\\"PrL-5\\\",\\n    \\\"PrL-8\\\",\\n    \\\"PrL-9\\\",\\n    \\\"PrL-10\\\",\\n    \\\"PrL-16\\\",\\n    \\\"PrL-19\\\",\\n]\\nlabels = [\\\"parent-mice\\\", \\\"child-mice\\\"]\";\n",
       "                var nbb_formatted_code = \"CURRENT_MICE = \\\"PrL-16\\\"\\nparent_directory = os.path.dirname(os.getcwd())\\npath_to_videos = os.path.join(parent_directory, \\\"videos\\\")\\npath_to_data = os.path.join(parent_directory, \\\"data\\\")\\n\\nmice = [\\n    \\\"PrL-2\\\",\\n    \\\"PrL-3\\\",\\n    \\\"PrL-4\\\",\\n    \\\"PrL-5\\\",\\n    \\\"PrL-8\\\",\\n    \\\"PrL-9\\\",\\n    \\\"PrL-10\\\",\\n    \\\"PrL-16\\\",\\n    \\\"PrL-19\\\",\\n]\\nlabels = [\\\"parent-mice\\\", \\\"child-mice\\\"]\";\n",
       "                var nbb_cells = Jupyter.notebook.get_cells();\n",
       "                for (var i = 0; i < nbb_cells.length; ++i) {\n",
       "                    if (nbb_cells[i].input_prompt_number == nbb_cell_id) {\n",
       "                        if (nbb_cells[i].get_text() == nbb_unformatted_code) {\n",
       "                             nbb_cells[i].set_text(nbb_formatted_code);\n",
       "                        }\n",
       "                        break;\n",
       "                    }\n",
       "                }\n",
       "            }, 500);\n",
       "            "
      ],
      "text/plain": [
       "<IPython.core.display.Javascript object>"
      ]
     },
     "metadata": {},
     "output_type": "display_data"
    },
    {
     "data": {
      "application/javascript": [
       "\n",
       "            setTimeout(function() {\n",
       "                var nbb_cell_id = 125;\n",
       "                var nbb_unformatted_code = \"CURRENT_MICE = \\\"PrL-16\\\"\\nparent_directory = os.path.dirname(os.getcwd())\\npath_to_videos = os.path.join(parent_directory, \\\"videos\\\")\\npath_to_data = os.path.join(parent_directory, \\\"data\\\")\\n\\nmice = [\\n    \\\"PrL-2\\\",\\n    \\\"PrL-3\\\",\\n    \\\"PrL-4\\\",\\n    \\\"PrL-5\\\",\\n    \\\"PrL-8\\\",\\n    \\\"PrL-9\\\",\\n    \\\"PrL-10\\\",\\n    \\\"PrL-16\\\",\\n    \\\"PrL-19\\\",\\n]\\nlabels = [\\\"parent-mice\\\", \\\"child-mice\\\"]\";\n",
       "                var nbb_formatted_code = \"CURRENT_MICE = \\\"PrL-16\\\"\\nparent_directory = os.path.dirname(os.getcwd())\\npath_to_videos = os.path.join(parent_directory, \\\"videos\\\")\\npath_to_data = os.path.join(parent_directory, \\\"data\\\")\\n\\nmice = [\\n    \\\"PrL-2\\\",\\n    \\\"PrL-3\\\",\\n    \\\"PrL-4\\\",\\n    \\\"PrL-5\\\",\\n    \\\"PrL-8\\\",\\n    \\\"PrL-9\\\",\\n    \\\"PrL-10\\\",\\n    \\\"PrL-16\\\",\\n    \\\"PrL-19\\\",\\n]\\nlabels = [\\\"parent-mice\\\", \\\"child-mice\\\"]\";\n",
       "                var nbb_cells = Jupyter.notebook.get_cells();\n",
       "                for (var i = 0; i < nbb_cells.length; ++i) {\n",
       "                    if (nbb_cells[i].input_prompt_number == nbb_cell_id) {\n",
       "                        if (nbb_cells[i].get_text() == nbb_unformatted_code) {\n",
       "                             nbb_cells[i].set_text(nbb_formatted_code);\n",
       "                        }\n",
       "                        break;\n",
       "                    }\n",
       "                }\n",
       "            }, 500);\n",
       "            "
      ],
      "text/plain": [
       "<IPython.core.display.Javascript object>"
      ]
     },
     "metadata": {},
     "output_type": "display_data"
    },
    {
     "data": {
      "application/javascript": [
       "\n",
       "            setTimeout(function() {\n",
       "                var nbb_cell_id = 125;\n",
       "                var nbb_unformatted_code = \"CURRENT_MICE = \\\"PrL-16\\\"\\nparent_directory = os.path.dirname(os.getcwd())\\npath_to_videos = os.path.join(parent_directory, \\\"videos\\\")\\npath_to_data = os.path.join(parent_directory, \\\"data\\\")\\n\\nmice = [\\n    \\\"PrL-2\\\",\\n    \\\"PrL-3\\\",\\n    \\\"PrL-4\\\",\\n    \\\"PrL-5\\\",\\n    \\\"PrL-8\\\",\\n    \\\"PrL-9\\\",\\n    \\\"PrL-10\\\",\\n    \\\"PrL-16\\\",\\n    \\\"PrL-19\\\",\\n]\\nlabels = [\\\"parent-mice\\\", \\\"child-mice\\\"]\";\n",
       "                var nbb_formatted_code = \"CURRENT_MICE = \\\"PrL-16\\\"\\nparent_directory = os.path.dirname(os.getcwd())\\npath_to_videos = os.path.join(parent_directory, \\\"videos\\\")\\npath_to_data = os.path.join(parent_directory, \\\"data\\\")\\n\\nmice = [\\n    \\\"PrL-2\\\",\\n    \\\"PrL-3\\\",\\n    \\\"PrL-4\\\",\\n    \\\"PrL-5\\\",\\n    \\\"PrL-8\\\",\\n    \\\"PrL-9\\\",\\n    \\\"PrL-10\\\",\\n    \\\"PrL-16\\\",\\n    \\\"PrL-19\\\",\\n]\\nlabels = [\\\"parent-mice\\\", \\\"child-mice\\\"]\";\n",
       "                var nbb_cells = Jupyter.notebook.get_cells();\n",
       "                for (var i = 0; i < nbb_cells.length; ++i) {\n",
       "                    if (nbb_cells[i].input_prompt_number == nbb_cell_id) {\n",
       "                        if (nbb_cells[i].get_text() == nbb_unformatted_code) {\n",
       "                             nbb_cells[i].set_text(nbb_formatted_code);\n",
       "                        }\n",
       "                        break;\n",
       "                    }\n",
       "                }\n",
       "            }, 500);\n",
       "            "
      ],
      "text/plain": [
       "<IPython.core.display.Javascript object>"
      ]
     },
     "metadata": {},
     "output_type": "display_data"
    }
   ],
   "source": [
    "CURRENT_MICE = \"PrL-16\"\n",
    "parent_directory = os.path.dirname(os.getcwd())\n",
    "path_to_videos = os.path.join(parent_directory, \"videos\")\n",
    "path_to_data = os.path.join(parent_directory, \"data\")\n",
    "\n",
    "mice = [\n",
    "    \"PrL-2\",\n",
    "    \"PrL-3\",\n",
    "    \"PrL-4\",\n",
    "    \"PrL-5\",\n",
    "    \"PrL-8\",\n",
    "    \"PrL-9\",\n",
    "    \"PrL-10\",\n",
    "    \"PrL-16\",\n",
    "    \"PrL-19\",\n",
    "]\n",
    "labels = [\"parent-mice\", \"child-mice\"]"
   ]
  },
  {
   "cell_type": "code",
   "execution_count": 126,
   "metadata": {},
   "outputs": [
    {
     "data": {
      "application/javascript": [
       "\n",
       "            setTimeout(function() {\n",
       "                var nbb_cell_id = 126;\n",
       "                var nbb_unformatted_code = \"mice_df = pd.DataFrame(mice, columns=[\\\"Mice\\\"])\";\n",
       "                var nbb_formatted_code = \"mice_df = pd.DataFrame(mice, columns=[\\\"Mice\\\"])\";\n",
       "                var nbb_cells = Jupyter.notebook.get_cells();\n",
       "                for (var i = 0; i < nbb_cells.length; ++i) {\n",
       "                    if (nbb_cells[i].input_prompt_number == nbb_cell_id) {\n",
       "                        if (nbb_cells[i].get_text() == nbb_unformatted_code) {\n",
       "                             nbb_cells[i].set_text(nbb_formatted_code);\n",
       "                        }\n",
       "                        break;\n",
       "                    }\n",
       "                }\n",
       "            }, 500);\n",
       "            "
      ],
      "text/plain": [
       "<IPython.core.display.Javascript object>"
      ]
     },
     "metadata": {},
     "output_type": "display_data"
    },
    {
     "data": {
      "application/javascript": [
       "\n",
       "            setTimeout(function() {\n",
       "                var nbb_cell_id = 126;\n",
       "                var nbb_unformatted_code = \"mice_df = pd.DataFrame(mice, columns=[\\\"Mice\\\"])\";\n",
       "                var nbb_formatted_code = \"mice_df = pd.DataFrame(mice, columns=[\\\"Mice\\\"])\";\n",
       "                var nbb_cells = Jupyter.notebook.get_cells();\n",
       "                for (var i = 0; i < nbb_cells.length; ++i) {\n",
       "                    if (nbb_cells[i].input_prompt_number == nbb_cell_id) {\n",
       "                        if (nbb_cells[i].get_text() == nbb_unformatted_code) {\n",
       "                             nbb_cells[i].set_text(nbb_formatted_code);\n",
       "                        }\n",
       "                        break;\n",
       "                    }\n",
       "                }\n",
       "            }, 500);\n",
       "            "
      ],
      "text/plain": [
       "<IPython.core.display.Javascript object>"
      ]
     },
     "metadata": {},
     "output_type": "display_data"
    },
    {
     "data": {
      "application/javascript": [
       "\n",
       "            setTimeout(function() {\n",
       "                var nbb_cell_id = 126;\n",
       "                var nbb_unformatted_code = \"mice_df = pd.DataFrame(mice, columns=[\\\"Mice\\\"])\";\n",
       "                var nbb_formatted_code = \"mice_df = pd.DataFrame(mice, columns=[\\\"Mice\\\"])\";\n",
       "                var nbb_cells = Jupyter.notebook.get_cells();\n",
       "                for (var i = 0; i < nbb_cells.length; ++i) {\n",
       "                    if (nbb_cells[i].input_prompt_number == nbb_cell_id) {\n",
       "                        if (nbb_cells[i].get_text() == nbb_unformatted_code) {\n",
       "                             nbb_cells[i].set_text(nbb_formatted_code);\n",
       "                        }\n",
       "                        break;\n",
       "                    }\n",
       "                }\n",
       "            }, 500);\n",
       "            "
      ],
      "text/plain": [
       "<IPython.core.display.Javascript object>"
      ]
     },
     "metadata": {},
     "output_type": "display_data"
    }
   ],
   "source": [
    "mice_df = pd.DataFrame(mice, columns=[\"Mice\"])"
   ]
  },
  {
   "cell_type": "code",
   "execution_count": 127,
   "metadata": {},
   "outputs": [
    {
     "data": {
      "application/javascript": [
       "\n",
       "            setTimeout(function() {\n",
       "                var nbb_cell_id = 127;\n",
       "                var nbb_unformatted_code = \"def get_video_data(mice: str):\\n    video_file_path = f\\\"{path_to_videos}/{mice}.mp4\\\"\\n\\n    if not os.path.isfile(video_file_path):\\n        raise FileNotFoundError(f\\\"{mice}.mp4 does not exist!\\\")\\n\\n    videoCaptureInstance = cv2.VideoCapture(video_file_path)\\n    fps = videoCaptureInstance.get(cv2.CAP_PROP_FPS)\\n    frames = videoCaptureInstance.get(cv2.CAP_PROP_FRAME_COUNT)\\n    return pd.Series([fps, frames])\";\n",
       "                var nbb_formatted_code = \"def get_video_data(mice: str):\\n    video_file_path = f\\\"{path_to_videos}/{mice}.mp4\\\"\\n\\n    if not os.path.isfile(video_file_path):\\n        raise FileNotFoundError(f\\\"{mice}.mp4 does not exist!\\\")\\n\\n    videoCaptureInstance = cv2.VideoCapture(video_file_path)\\n    fps = videoCaptureInstance.get(cv2.CAP_PROP_FPS)\\n    frames = videoCaptureInstance.get(cv2.CAP_PROP_FRAME_COUNT)\\n    return pd.Series([fps, frames])\";\n",
       "                var nbb_cells = Jupyter.notebook.get_cells();\n",
       "                for (var i = 0; i < nbb_cells.length; ++i) {\n",
       "                    if (nbb_cells[i].input_prompt_number == nbb_cell_id) {\n",
       "                        if (nbb_cells[i].get_text() == nbb_unformatted_code) {\n",
       "                             nbb_cells[i].set_text(nbb_formatted_code);\n",
       "                        }\n",
       "                        break;\n",
       "                    }\n",
       "                }\n",
       "            }, 500);\n",
       "            "
      ],
      "text/plain": [
       "<IPython.core.display.Javascript object>"
      ]
     },
     "metadata": {},
     "output_type": "display_data"
    },
    {
     "data": {
      "application/javascript": [
       "\n",
       "            setTimeout(function() {\n",
       "                var nbb_cell_id = 127;\n",
       "                var nbb_unformatted_code = \"def get_video_data(mice: str):\\n    video_file_path = f\\\"{path_to_videos}/{mice}.mp4\\\"\\n\\n    if not os.path.isfile(video_file_path):\\n        raise FileNotFoundError(f\\\"{mice}.mp4 does not exist!\\\")\\n\\n    videoCaptureInstance = cv2.VideoCapture(video_file_path)\\n    fps = videoCaptureInstance.get(cv2.CAP_PROP_FPS)\\n    frames = videoCaptureInstance.get(cv2.CAP_PROP_FRAME_COUNT)\\n    return pd.Series([fps, frames])\";\n",
       "                var nbb_formatted_code = \"def get_video_data(mice: str):\\n    video_file_path = f\\\"{path_to_videos}/{mice}.mp4\\\"\\n\\n    if not os.path.isfile(video_file_path):\\n        raise FileNotFoundError(f\\\"{mice}.mp4 does not exist!\\\")\\n\\n    videoCaptureInstance = cv2.VideoCapture(video_file_path)\\n    fps = videoCaptureInstance.get(cv2.CAP_PROP_FPS)\\n    frames = videoCaptureInstance.get(cv2.CAP_PROP_FRAME_COUNT)\\n    return pd.Series([fps, frames])\";\n",
       "                var nbb_cells = Jupyter.notebook.get_cells();\n",
       "                for (var i = 0; i < nbb_cells.length; ++i) {\n",
       "                    if (nbb_cells[i].input_prompt_number == nbb_cell_id) {\n",
       "                        if (nbb_cells[i].get_text() == nbb_unformatted_code) {\n",
       "                             nbb_cells[i].set_text(nbb_formatted_code);\n",
       "                        }\n",
       "                        break;\n",
       "                    }\n",
       "                }\n",
       "            }, 500);\n",
       "            "
      ],
      "text/plain": [
       "<IPython.core.display.Javascript object>"
      ]
     },
     "metadata": {},
     "output_type": "display_data"
    },
    {
     "data": {
      "application/javascript": [
       "\n",
       "            setTimeout(function() {\n",
       "                var nbb_cell_id = 127;\n",
       "                var nbb_unformatted_code = \"def get_video_data(mice: str):\\n    video_file_path = f\\\"{path_to_videos}/{mice}.mp4\\\"\\n\\n    if not os.path.isfile(video_file_path):\\n        raise FileNotFoundError(f\\\"{mice}.mp4 does not exist!\\\")\\n\\n    videoCaptureInstance = cv2.VideoCapture(video_file_path)\\n    fps = videoCaptureInstance.get(cv2.CAP_PROP_FPS)\\n    frames = videoCaptureInstance.get(cv2.CAP_PROP_FRAME_COUNT)\\n    return pd.Series([fps, frames])\";\n",
       "                var nbb_formatted_code = \"def get_video_data(mice: str):\\n    video_file_path = f\\\"{path_to_videos}/{mice}.mp4\\\"\\n\\n    if not os.path.isfile(video_file_path):\\n        raise FileNotFoundError(f\\\"{mice}.mp4 does not exist!\\\")\\n\\n    videoCaptureInstance = cv2.VideoCapture(video_file_path)\\n    fps = videoCaptureInstance.get(cv2.CAP_PROP_FPS)\\n    frames = videoCaptureInstance.get(cv2.CAP_PROP_FRAME_COUNT)\\n    return pd.Series([fps, frames])\";\n",
       "                var nbb_cells = Jupyter.notebook.get_cells();\n",
       "                for (var i = 0; i < nbb_cells.length; ++i) {\n",
       "                    if (nbb_cells[i].input_prompt_number == nbb_cell_id) {\n",
       "                        if (nbb_cells[i].get_text() == nbb_unformatted_code) {\n",
       "                             nbb_cells[i].set_text(nbb_formatted_code);\n",
       "                        }\n",
       "                        break;\n",
       "                    }\n",
       "                }\n",
       "            }, 500);\n",
       "            "
      ],
      "text/plain": [
       "<IPython.core.display.Javascript object>"
      ]
     },
     "metadata": {},
     "output_type": "display_data"
    }
   ],
   "source": [
    "def get_video_data(mice: str):\n",
    "    video_file_path = f\"{path_to_videos}/{mice}.mp4\"\n",
    "\n",
    "    if not os.path.isfile(video_file_path):\n",
    "        raise FileNotFoundError(f\"{mice}.mp4 does not exist!\")\n",
    "\n",
    "    videoCaptureInstance = cv2.VideoCapture(video_file_path)\n",
    "    fps = videoCaptureInstance.get(cv2.CAP_PROP_FPS)\n",
    "    frames = videoCaptureInstance.get(cv2.CAP_PROP_FRAME_COUNT)\n",
    "    return pd.Series([fps, frames])"
   ]
  },
  {
   "cell_type": "code",
   "execution_count": 128,
   "metadata": {},
   "outputs": [
    {
     "data": {
      "text/html": [
       "<div>\n",
       "<style scoped>\n",
       "    .dataframe tbody tr th:only-of-type {\n",
       "        vertical-align: middle;\n",
       "    }\n",
       "\n",
       "    .dataframe tbody tr th {\n",
       "        vertical-align: top;\n",
       "    }\n",
       "\n",
       "    .dataframe thead th {\n",
       "        text-align: right;\n",
       "    }\n",
       "</style>\n",
       "<table border=\"1\" class=\"dataframe\">\n",
       "  <thead>\n",
       "    <tr style=\"text-align: right;\">\n",
       "      <th></th>\n",
       "      <th>Mice</th>\n",
       "      <th>video_fps</th>\n",
       "      <th>total_video_frames</th>\n",
       "    </tr>\n",
       "  </thead>\n",
       "  <tbody>\n",
       "    <tr>\n",
       "      <th>0</th>\n",
       "      <td>PrL-2</td>\n",
       "      <td>30.00003</td>\n",
       "      <td>83713.0</td>\n",
       "    </tr>\n",
       "    <tr>\n",
       "      <th>1</th>\n",
       "      <td>PrL-3</td>\n",
       "      <td>30.00003</td>\n",
       "      <td>40655.0</td>\n",
       "    </tr>\n",
       "    <tr>\n",
       "      <th>2</th>\n",
       "      <td>PrL-4</td>\n",
       "      <td>30.00003</td>\n",
       "      <td>48634.0</td>\n",
       "    </tr>\n",
       "    <tr>\n",
       "      <th>3</th>\n",
       "      <td>PrL-5</td>\n",
       "      <td>30.00003</td>\n",
       "      <td>46981.0</td>\n",
       "    </tr>\n",
       "    <tr>\n",
       "      <th>4</th>\n",
       "      <td>PrL-8</td>\n",
       "      <td>30.00003</td>\n",
       "      <td>48489.0</td>\n",
       "    </tr>\n",
       "  </tbody>\n",
       "</table>\n",
       "</div>"
      ],
      "text/plain": [
       "    Mice  video_fps  total_video_frames\n",
       "0  PrL-2   30.00003             83713.0\n",
       "1  PrL-3   30.00003             40655.0\n",
       "2  PrL-4   30.00003             48634.0\n",
       "3  PrL-5   30.00003             46981.0\n",
       "4  PrL-8   30.00003             48489.0"
      ]
     },
     "execution_count": 128,
     "metadata": {},
     "output_type": "execute_result"
    },
    {
     "data": {
      "application/javascript": [
       "\n",
       "            setTimeout(function() {\n",
       "                var nbb_cell_id = 128;\n",
       "                var nbb_unformatted_code = \"mice_df[[\\\"video_fps\\\", \\\"total_video_frames\\\"]] = mice_df[\\\"Mice\\\"].apply(\\n    lambda mice: get_video_data(mice)\\n)\\nmice_df.head()\";\n",
       "                var nbb_formatted_code = \"mice_df[[\\\"video_fps\\\", \\\"total_video_frames\\\"]] = mice_df[\\\"Mice\\\"].apply(\\n    lambda mice: get_video_data(mice)\\n)\\nmice_df.head()\";\n",
       "                var nbb_cells = Jupyter.notebook.get_cells();\n",
       "                for (var i = 0; i < nbb_cells.length; ++i) {\n",
       "                    if (nbb_cells[i].input_prompt_number == nbb_cell_id) {\n",
       "                        if (nbb_cells[i].get_text() == nbb_unformatted_code) {\n",
       "                             nbb_cells[i].set_text(nbb_formatted_code);\n",
       "                        }\n",
       "                        break;\n",
       "                    }\n",
       "                }\n",
       "            }, 500);\n",
       "            "
      ],
      "text/plain": [
       "<IPython.core.display.Javascript object>"
      ]
     },
     "metadata": {},
     "output_type": "display_data"
    },
    {
     "data": {
      "application/javascript": [
       "\n",
       "            setTimeout(function() {\n",
       "                var nbb_cell_id = 128;\n",
       "                var nbb_unformatted_code = \"mice_df[[\\\"video_fps\\\", \\\"total_video_frames\\\"]] = mice_df[\\\"Mice\\\"].apply(\\n    lambda mice: get_video_data(mice)\\n)\\nmice_df.head()\";\n",
       "                var nbb_formatted_code = \"mice_df[[\\\"video_fps\\\", \\\"total_video_frames\\\"]] = mice_df[\\\"Mice\\\"].apply(\\n    lambda mice: get_video_data(mice)\\n)\\nmice_df.head()\";\n",
       "                var nbb_cells = Jupyter.notebook.get_cells();\n",
       "                for (var i = 0; i < nbb_cells.length; ++i) {\n",
       "                    if (nbb_cells[i].input_prompt_number == nbb_cell_id) {\n",
       "                        if (nbb_cells[i].get_text() == nbb_unformatted_code) {\n",
       "                             nbb_cells[i].set_text(nbb_formatted_code);\n",
       "                        }\n",
       "                        break;\n",
       "                    }\n",
       "                }\n",
       "            }, 500);\n",
       "            "
      ],
      "text/plain": [
       "<IPython.core.display.Javascript object>"
      ]
     },
     "metadata": {},
     "output_type": "display_data"
    },
    {
     "data": {
      "application/javascript": [
       "\n",
       "            setTimeout(function() {\n",
       "                var nbb_cell_id = 128;\n",
       "                var nbb_unformatted_code = \"mice_df[[\\\"video_fps\\\", \\\"total_video_frames\\\"]] = mice_df[\\\"Mice\\\"].apply(\\n    lambda mice: get_video_data(mice)\\n)\\nmice_df.head()\";\n",
       "                var nbb_formatted_code = \"mice_df[[\\\"video_fps\\\", \\\"total_video_frames\\\"]] = mice_df[\\\"Mice\\\"].apply(\\n    lambda mice: get_video_data(mice)\\n)\\nmice_df.head()\";\n",
       "                var nbb_cells = Jupyter.notebook.get_cells();\n",
       "                for (var i = 0; i < nbb_cells.length; ++i) {\n",
       "                    if (nbb_cells[i].input_prompt_number == nbb_cell_id) {\n",
       "                        if (nbb_cells[i].get_text() == nbb_unformatted_code) {\n",
       "                             nbb_cells[i].set_text(nbb_formatted_code);\n",
       "                        }\n",
       "                        break;\n",
       "                    }\n",
       "                }\n",
       "            }, 500);\n",
       "            "
      ],
      "text/plain": [
       "<IPython.core.display.Javascript object>"
      ]
     },
     "metadata": {},
     "output_type": "display_data"
    }
   ],
   "source": [
    "mice_df[[\"video_fps\", \"total_video_frames\"]] = mice_df[\"Mice\"].apply(\n",
    "    lambda mice: get_video_data(mice)\n",
    ")\n",
    "mice_df.head()"
   ]
  },
  {
   "cell_type": "code",
   "execution_count": 129,
   "metadata": {},
   "outputs": [
    {
     "data": {
      "text/html": [
       "<div>\n",
       "<style scoped>\n",
       "    .dataframe tbody tr th:only-of-type {\n",
       "        vertical-align: middle;\n",
       "    }\n",
       "\n",
       "    .dataframe tbody tr th {\n",
       "        vertical-align: top;\n",
       "    }\n",
       "\n",
       "    .dataframe thead th {\n",
       "        text-align: right;\n",
       "    }\n",
       "</style>\n",
       "<table border=\"1\" class=\"dataframe\">\n",
       "  <thead>\n",
       "    <tr style=\"text-align: right;\">\n",
       "      <th></th>\n",
       "      <th>Mice</th>\n",
       "      <th>video_fps</th>\n",
       "      <th>total_video_frames</th>\n",
       "    </tr>\n",
       "  </thead>\n",
       "  <tbody>\n",
       "    <tr>\n",
       "      <th>7</th>\n",
       "      <td>PrL-16</td>\n",
       "      <td>30.00003</td>\n",
       "      <td>41131.0</td>\n",
       "    </tr>\n",
       "  </tbody>\n",
       "</table>\n",
       "</div>"
      ],
      "text/plain": [
       "     Mice  video_fps  total_video_frames\n",
       "7  PrL-16   30.00003             41131.0"
      ]
     },
     "execution_count": 129,
     "metadata": {},
     "output_type": "execute_result"
    },
    {
     "data": {
      "application/javascript": [
       "\n",
       "            setTimeout(function() {\n",
       "                var nbb_cell_id = 129;\n",
       "                var nbb_unformatted_code = \"mice_row = mice_df[mice_df.Mice == CURRENT_MICE]\\nmice_row\";\n",
       "                var nbb_formatted_code = \"mice_row = mice_df[mice_df.Mice == CURRENT_MICE]\\nmice_row\";\n",
       "                var nbb_cells = Jupyter.notebook.get_cells();\n",
       "                for (var i = 0; i < nbb_cells.length; ++i) {\n",
       "                    if (nbb_cells[i].input_prompt_number == nbb_cell_id) {\n",
       "                        if (nbb_cells[i].get_text() == nbb_unformatted_code) {\n",
       "                             nbb_cells[i].set_text(nbb_formatted_code);\n",
       "                        }\n",
       "                        break;\n",
       "                    }\n",
       "                }\n",
       "            }, 500);\n",
       "            "
      ],
      "text/plain": [
       "<IPython.core.display.Javascript object>"
      ]
     },
     "metadata": {},
     "output_type": "display_data"
    },
    {
     "data": {
      "application/javascript": [
       "\n",
       "            setTimeout(function() {\n",
       "                var nbb_cell_id = 129;\n",
       "                var nbb_unformatted_code = \"mice_row = mice_df[mice_df.Mice == CURRENT_MICE]\\nmice_row\";\n",
       "                var nbb_formatted_code = \"mice_row = mice_df[mice_df.Mice == CURRENT_MICE]\\nmice_row\";\n",
       "                var nbb_cells = Jupyter.notebook.get_cells();\n",
       "                for (var i = 0; i < nbb_cells.length; ++i) {\n",
       "                    if (nbb_cells[i].input_prompt_number == nbb_cell_id) {\n",
       "                        if (nbb_cells[i].get_text() == nbb_unformatted_code) {\n",
       "                             nbb_cells[i].set_text(nbb_formatted_code);\n",
       "                        }\n",
       "                        break;\n",
       "                    }\n",
       "                }\n",
       "            }, 500);\n",
       "            "
      ],
      "text/plain": [
       "<IPython.core.display.Javascript object>"
      ]
     },
     "metadata": {},
     "output_type": "display_data"
    },
    {
     "data": {
      "application/javascript": [
       "\n",
       "            setTimeout(function() {\n",
       "                var nbb_cell_id = 129;\n",
       "                var nbb_unformatted_code = \"mice_row = mice_df[mice_df.Mice == CURRENT_MICE]\\nmice_row\";\n",
       "                var nbb_formatted_code = \"mice_row = mice_df[mice_df.Mice == CURRENT_MICE]\\nmice_row\";\n",
       "                var nbb_cells = Jupyter.notebook.get_cells();\n",
       "                for (var i = 0; i < nbb_cells.length; ++i) {\n",
       "                    if (nbb_cells[i].input_prompt_number == nbb_cell_id) {\n",
       "                        if (nbb_cells[i].get_text() == nbb_unformatted_code) {\n",
       "                             nbb_cells[i].set_text(nbb_formatted_code);\n",
       "                        }\n",
       "                        break;\n",
       "                    }\n",
       "                }\n",
       "            }, 500);\n",
       "            "
      ],
      "text/plain": [
       "<IPython.core.display.Javascript object>"
      ]
     },
     "metadata": {},
     "output_type": "display_data"
    }
   ],
   "source": [
    "mice_row = mice_df[mice_df.Mice == CURRENT_MICE]\n",
    "mice_row"
   ]
  },
  {
   "cell_type": "code",
   "execution_count": 130,
   "metadata": {},
   "outputs": [
    {
     "data": {
      "application/javascript": [
       "\n",
       "            setTimeout(function() {\n",
       "                var nbb_cell_id = 130;\n",
       "                var nbb_unformatted_code = \"def create_images_from_video(start_seconds: int, end_seconds: int, class_label: str):\\n\\n    if class_label not in labels:\\n        raise ValueError(\\\"Enter a valid class label!\\\")\\n    if CURRENT_MICE not in mice:\\n        raise ValueError(\\\"Enter a valid mice!\\\")\\n\\n    if not os.path.isdir(f\\\"{path_to_data}/{class_label}\\\"):\\n        os.mkdir(f\\\"{path_to_data}/{class_label}\\\")\\n\\n    frame_rate = math.floor(mice_row[\\\"video_fps\\\"].item())\\n\\n    video_file_path = f\\\"{path_to_videos}/{CURRENT_MICE}.mp4\\\"\\n    videoCaptureInstance = cv2.VideoCapture(video_file_path)\\n\\n    start_frame = start_seconds * frame_rate\\n    seconds = start_seconds\\n    try:\\n        while seconds != end_seconds:\\n            ret, frame = videoCaptureInstance.read()\\n            if not ret:\\n                raise BufferError(\\n                    \\\"Unexpected error occurred with reading image due to bad video file!\\\"\\n                )\\n                break\\n\\n            # Record frame every 1 second\\n            if start_frame % frame_rate == 0:\\n                filename = f\\\"{CURRENT_MICE}-{uuid.uuid4()}\\\"\\n                filepath = f\\\"{path_to_data}/{class_label}/{filename}.jpg\\\"\\n                cv2.imwrite(filepath, frame)\\n\\n                print(\\n                    f\\\"Saved image as {filename} at timestamp {utils.sec_to_time(seconds)}\\\"\\n                )\\n                seconds += 1\\n            client_key_press = cv2.waitKey(1) & 0xFF\\n\\n            # end video stream by escape key\\n            if client_key_press == 27:\\n                break\\n            start_frame += 1\\n\\n        videoCaptureInstance.release()\\n\\n        if platform.system() == \\\"Darwin\\\":\\n            cv2.waitKey(1)\\n\\n    except cv2.error:\\n        print(\\n            \\\"Unexpected error occurred with reading image and error code is\\\",\\n            cv2.error.code,\\n        )\";\n",
       "                var nbb_formatted_code = \"def create_images_from_video(start_seconds: int, end_seconds: int, class_label: str):\\n\\n    if class_label not in labels:\\n        raise ValueError(\\\"Enter a valid class label!\\\")\\n    if CURRENT_MICE not in mice:\\n        raise ValueError(\\\"Enter a valid mice!\\\")\\n\\n    if not os.path.isdir(f\\\"{path_to_data}/{class_label}\\\"):\\n        os.mkdir(f\\\"{path_to_data}/{class_label}\\\")\\n\\n    frame_rate = math.floor(mice_row[\\\"video_fps\\\"].item())\\n\\n    video_file_path = f\\\"{path_to_videos}/{CURRENT_MICE}.mp4\\\"\\n    videoCaptureInstance = cv2.VideoCapture(video_file_path)\\n\\n    start_frame = start_seconds * frame_rate\\n    seconds = start_seconds\\n    try:\\n        while seconds != end_seconds:\\n            ret, frame = videoCaptureInstance.read()\\n            if not ret:\\n                raise BufferError(\\n                    \\\"Unexpected error occurred with reading image due to bad video file!\\\"\\n                )\\n                break\\n\\n            # Record frame every 1 second\\n            if start_frame % frame_rate == 0:\\n                filename = f\\\"{CURRENT_MICE}-{uuid.uuid4()}\\\"\\n                filepath = f\\\"{path_to_data}/{class_label}/{filename}.jpg\\\"\\n                cv2.imwrite(filepath, frame)\\n\\n                print(\\n                    f\\\"Saved image as {filename} at timestamp {utils.sec_to_time(seconds)}\\\"\\n                )\\n                seconds += 1\\n            client_key_press = cv2.waitKey(1) & 0xFF\\n\\n            # end video stream by escape key\\n            if client_key_press == 27:\\n                break\\n            start_frame += 1\\n\\n        videoCaptureInstance.release()\\n\\n        if platform.system() == \\\"Darwin\\\":\\n            cv2.waitKey(1)\\n\\n    except cv2.error:\\n        print(\\n            \\\"Unexpected error occurred with reading image and error code is\\\",\\n            cv2.error.code,\\n        )\";\n",
       "                var nbb_cells = Jupyter.notebook.get_cells();\n",
       "                for (var i = 0; i < nbb_cells.length; ++i) {\n",
       "                    if (nbb_cells[i].input_prompt_number == nbb_cell_id) {\n",
       "                        if (nbb_cells[i].get_text() == nbb_unformatted_code) {\n",
       "                             nbb_cells[i].set_text(nbb_formatted_code);\n",
       "                        }\n",
       "                        break;\n",
       "                    }\n",
       "                }\n",
       "            }, 500);\n",
       "            "
      ],
      "text/plain": [
       "<IPython.core.display.Javascript object>"
      ]
     },
     "metadata": {},
     "output_type": "display_data"
    },
    {
     "data": {
      "application/javascript": [
       "\n",
       "            setTimeout(function() {\n",
       "                var nbb_cell_id = 130;\n",
       "                var nbb_unformatted_code = \"def create_images_from_video(start_seconds: int, end_seconds: int, class_label: str):\\n\\n    if class_label not in labels:\\n        raise ValueError(\\\"Enter a valid class label!\\\")\\n    if CURRENT_MICE not in mice:\\n        raise ValueError(\\\"Enter a valid mice!\\\")\\n\\n    if not os.path.isdir(f\\\"{path_to_data}/{class_label}\\\"):\\n        os.mkdir(f\\\"{path_to_data}/{class_label}\\\")\\n\\n    frame_rate = math.floor(mice_row[\\\"video_fps\\\"].item())\\n\\n    video_file_path = f\\\"{path_to_videos}/{CURRENT_MICE}.mp4\\\"\\n    videoCaptureInstance = cv2.VideoCapture(video_file_path)\\n\\n    start_frame = start_seconds * frame_rate\\n    seconds = start_seconds\\n    try:\\n        while seconds != end_seconds:\\n            ret, frame = videoCaptureInstance.read()\\n            if not ret:\\n                raise BufferError(\\n                    \\\"Unexpected error occurred with reading image due to bad video file!\\\"\\n                )\\n                break\\n\\n            # Record frame every 1 second\\n            if start_frame % frame_rate == 0:\\n                filename = f\\\"{CURRENT_MICE}-{uuid.uuid4()}\\\"\\n                filepath = f\\\"{path_to_data}/{class_label}/{filename}.jpg\\\"\\n                cv2.imwrite(filepath, frame)\\n\\n                print(\\n                    f\\\"Saved image as {filename} at timestamp {utils.sec_to_time(seconds)}\\\"\\n                )\\n                seconds += 1\\n            client_key_press = cv2.waitKey(1) & 0xFF\\n\\n            # end video stream by escape key\\n            if client_key_press == 27:\\n                break\\n            start_frame += 1\\n\\n        videoCaptureInstance.release()\\n\\n        if platform.system() == \\\"Darwin\\\":\\n            cv2.waitKey(1)\\n\\n    except cv2.error:\\n        print(\\n            \\\"Unexpected error occurred with reading image and error code is\\\",\\n            cv2.error.code,\\n        )\";\n",
       "                var nbb_formatted_code = \"def create_images_from_video(start_seconds: int, end_seconds: int, class_label: str):\\n\\n    if class_label not in labels:\\n        raise ValueError(\\\"Enter a valid class label!\\\")\\n    if CURRENT_MICE not in mice:\\n        raise ValueError(\\\"Enter a valid mice!\\\")\\n\\n    if not os.path.isdir(f\\\"{path_to_data}/{class_label}\\\"):\\n        os.mkdir(f\\\"{path_to_data}/{class_label}\\\")\\n\\n    frame_rate = math.floor(mice_row[\\\"video_fps\\\"].item())\\n\\n    video_file_path = f\\\"{path_to_videos}/{CURRENT_MICE}.mp4\\\"\\n    videoCaptureInstance = cv2.VideoCapture(video_file_path)\\n\\n    start_frame = start_seconds * frame_rate\\n    seconds = start_seconds\\n    try:\\n        while seconds != end_seconds:\\n            ret, frame = videoCaptureInstance.read()\\n            if not ret:\\n                raise BufferError(\\n                    \\\"Unexpected error occurred with reading image due to bad video file!\\\"\\n                )\\n                break\\n\\n            # Record frame every 1 second\\n            if start_frame % frame_rate == 0:\\n                filename = f\\\"{CURRENT_MICE}-{uuid.uuid4()}\\\"\\n                filepath = f\\\"{path_to_data}/{class_label}/{filename}.jpg\\\"\\n                cv2.imwrite(filepath, frame)\\n\\n                print(\\n                    f\\\"Saved image as {filename} at timestamp {utils.sec_to_time(seconds)}\\\"\\n                )\\n                seconds += 1\\n            client_key_press = cv2.waitKey(1) & 0xFF\\n\\n            # end video stream by escape key\\n            if client_key_press == 27:\\n                break\\n            start_frame += 1\\n\\n        videoCaptureInstance.release()\\n\\n        if platform.system() == \\\"Darwin\\\":\\n            cv2.waitKey(1)\\n\\n    except cv2.error:\\n        print(\\n            \\\"Unexpected error occurred with reading image and error code is\\\",\\n            cv2.error.code,\\n        )\";\n",
       "                var nbb_cells = Jupyter.notebook.get_cells();\n",
       "                for (var i = 0; i < nbb_cells.length; ++i) {\n",
       "                    if (nbb_cells[i].input_prompt_number == nbb_cell_id) {\n",
       "                        if (nbb_cells[i].get_text() == nbb_unformatted_code) {\n",
       "                             nbb_cells[i].set_text(nbb_formatted_code);\n",
       "                        }\n",
       "                        break;\n",
       "                    }\n",
       "                }\n",
       "            }, 500);\n",
       "            "
      ],
      "text/plain": [
       "<IPython.core.display.Javascript object>"
      ]
     },
     "metadata": {},
     "output_type": "display_data"
    },
    {
     "data": {
      "application/javascript": [
       "\n",
       "            setTimeout(function() {\n",
       "                var nbb_cell_id = 130;\n",
       "                var nbb_unformatted_code = \"def create_images_from_video(start_seconds: int, end_seconds: int, class_label: str):\\n\\n    if class_label not in labels:\\n        raise ValueError(\\\"Enter a valid class label!\\\")\\n    if CURRENT_MICE not in mice:\\n        raise ValueError(\\\"Enter a valid mice!\\\")\\n\\n    if not os.path.isdir(f\\\"{path_to_data}/{class_label}\\\"):\\n        os.mkdir(f\\\"{path_to_data}/{class_label}\\\")\\n\\n    frame_rate = math.floor(mice_row[\\\"video_fps\\\"].item())\\n\\n    video_file_path = f\\\"{path_to_videos}/{CURRENT_MICE}.mp4\\\"\\n    videoCaptureInstance = cv2.VideoCapture(video_file_path)\\n\\n    start_frame = start_seconds * frame_rate\\n    seconds = start_seconds\\n    try:\\n        while seconds != end_seconds:\\n            ret, frame = videoCaptureInstance.read()\\n            if not ret:\\n                raise BufferError(\\n                    \\\"Unexpected error occurred with reading image due to bad video file!\\\"\\n                )\\n                break\\n\\n            # Record frame every 1 second\\n            if start_frame % frame_rate == 0:\\n                filename = f\\\"{CURRENT_MICE}-{uuid.uuid4()}\\\"\\n                filepath = f\\\"{path_to_data}/{class_label}/{filename}.jpg\\\"\\n                cv2.imwrite(filepath, frame)\\n\\n                print(\\n                    f\\\"Saved image as {filename} at timestamp {utils.sec_to_time(seconds)}\\\"\\n                )\\n                seconds += 1\\n            client_key_press = cv2.waitKey(1) & 0xFF\\n\\n            # end video stream by escape key\\n            if client_key_press == 27:\\n                break\\n            start_frame += 1\\n\\n        videoCaptureInstance.release()\\n\\n        if platform.system() == \\\"Darwin\\\":\\n            cv2.waitKey(1)\\n\\n    except cv2.error:\\n        print(\\n            \\\"Unexpected error occurred with reading image and error code is\\\",\\n            cv2.error.code,\\n        )\";\n",
       "                var nbb_formatted_code = \"def create_images_from_video(start_seconds: int, end_seconds: int, class_label: str):\\n\\n    if class_label not in labels:\\n        raise ValueError(\\\"Enter a valid class label!\\\")\\n    if CURRENT_MICE not in mice:\\n        raise ValueError(\\\"Enter a valid mice!\\\")\\n\\n    if not os.path.isdir(f\\\"{path_to_data}/{class_label}\\\"):\\n        os.mkdir(f\\\"{path_to_data}/{class_label}\\\")\\n\\n    frame_rate = math.floor(mice_row[\\\"video_fps\\\"].item())\\n\\n    video_file_path = f\\\"{path_to_videos}/{CURRENT_MICE}.mp4\\\"\\n    videoCaptureInstance = cv2.VideoCapture(video_file_path)\\n\\n    start_frame = start_seconds * frame_rate\\n    seconds = start_seconds\\n    try:\\n        while seconds != end_seconds:\\n            ret, frame = videoCaptureInstance.read()\\n            if not ret:\\n                raise BufferError(\\n                    \\\"Unexpected error occurred with reading image due to bad video file!\\\"\\n                )\\n                break\\n\\n            # Record frame every 1 second\\n            if start_frame % frame_rate == 0:\\n                filename = f\\\"{CURRENT_MICE}-{uuid.uuid4()}\\\"\\n                filepath = f\\\"{path_to_data}/{class_label}/{filename}.jpg\\\"\\n                cv2.imwrite(filepath, frame)\\n\\n                print(\\n                    f\\\"Saved image as {filename} at timestamp {utils.sec_to_time(seconds)}\\\"\\n                )\\n                seconds += 1\\n            client_key_press = cv2.waitKey(1) & 0xFF\\n\\n            # end video stream by escape key\\n            if client_key_press == 27:\\n                break\\n            start_frame += 1\\n\\n        videoCaptureInstance.release()\\n\\n        if platform.system() == \\\"Darwin\\\":\\n            cv2.waitKey(1)\\n\\n    except cv2.error:\\n        print(\\n            \\\"Unexpected error occurred with reading image and error code is\\\",\\n            cv2.error.code,\\n        )\";\n",
       "                var nbb_cells = Jupyter.notebook.get_cells();\n",
       "                for (var i = 0; i < nbb_cells.length; ++i) {\n",
       "                    if (nbb_cells[i].input_prompt_number == nbb_cell_id) {\n",
       "                        if (nbb_cells[i].get_text() == nbb_unformatted_code) {\n",
       "                             nbb_cells[i].set_text(nbb_formatted_code);\n",
       "                        }\n",
       "                        break;\n",
       "                    }\n",
       "                }\n",
       "            }, 500);\n",
       "            "
      ],
      "text/plain": [
       "<IPython.core.display.Javascript object>"
      ]
     },
     "metadata": {},
     "output_type": "display_data"
    }
   ],
   "source": [
    "def create_images_from_video(start_seconds: int, end_seconds: int, class_label: str):\n",
    "\n",
    "    if class_label not in labels:\n",
    "        raise ValueError(\"Enter a valid class label!\")\n",
    "    if CURRENT_MICE not in mice:\n",
    "        raise ValueError(\"Enter a valid mice!\")\n",
    "\n",
    "    if not os.path.isdir(f\"{path_to_data}/{class_label}\"):\n",
    "        os.mkdir(f\"{path_to_data}/{class_label}\")\n",
    "\n",
    "    frame_rate = math.floor(mice_row[\"video_fps\"].item())\n",
    "\n",
    "    video_file_path = f\"{path_to_videos}/{CURRENT_MICE}.mp4\"\n",
    "    videoCaptureInstance = cv2.VideoCapture(video_file_path)\n",
    "\n",
    "    start_frame = start_seconds * frame_rate\n",
    "    seconds = start_seconds\n",
    "    try:\n",
    "        while seconds != end_seconds:\n",
    "            ret, frame = videoCaptureInstance.read()\n",
    "            if not ret:\n",
    "                raise BufferError(\n",
    "                    \"Unexpected error occurred with reading image due to bad video file!\"\n",
    "                )\n",
    "                break\n",
    "\n",
    "            # Record frame every 1 second\n",
    "            if start_frame % frame_rate == 0:\n",
    "                filename = f\"{CURRENT_MICE}-{uuid.uuid4()}\"\n",
    "                filepath = f\"{path_to_data}/{class_label}/{filename}.jpg\"\n",
    "                cv2.imwrite(filepath, frame)\n",
    "\n",
    "                print(\n",
    "                    f\"Saved image as {filename} at timestamp {utils.sec_to_time(seconds)}\"\n",
    "                )\n",
    "                seconds += 1\n",
    "            client_key_press = cv2.waitKey(1) & 0xFF\n",
    "\n",
    "            # end video stream by escape key\n",
    "            if client_key_press == 27:\n",
    "                break\n",
    "            start_frame += 1\n",
    "\n",
    "        videoCaptureInstance.release()\n",
    "\n",
    "        if platform.system() == \"Darwin\":\n",
    "            cv2.waitKey(1)\n",
    "\n",
    "    except cv2.error:\n",
    "        print(\n",
    "            \"Unexpected error occurred with reading image and error code is\",\n",
    "            cv2.error.code,\n",
    "        )"
   ]
  },
  {
   "cell_type": "code",
   "execution_count": 133,
   "metadata": {},
   "outputs": [
    {
     "data": {
      "application/javascript": [
       "\n",
       "            setTimeout(function() {\n",
       "                var nbb_cell_id = 133;\n",
       "                var nbb_unformatted_code = \"def split_train_test(class_label: str, split_ratio: float):\\n\\n    if class_label not in labels:\\n        raise ValueError(\\\"Enter a valid class label!\\\")\\n\\n    split_ratio = split_ratio\\n    all_mice_files = os.listdir(f\\\"{path_to_data}/{class_label}\\\")\\n    random.shuffle(all_mice_files)\\n    train_size = len(all_mice_files) * split_ratio\\n    files_moved = 0\\n\\n    for mice in all_mice_files:\\n        if files_moved < train_size:\\n            shutil.move(\\n                f\\\"{path_to_data}/{class_label}/{mice}\\\",\\n                f\\\"{path_to_data}/train/{class_label}\\\",\\n            )\\n        else:\\n            shutil.move(\\n                f\\\"{path_to_data}/{class_label}/{mice}\\\",\\n                f\\\"{path_to_data}/test/{class_label}\\\",\\n            )\\n        files_moved += 1\\n    if len(os.listdir(f\\\"{path_to_data}/{class_label}\\\")) == 0:\\n        shutil.rmtree(f\\\"{path_to_data}/{class_label}\\\")\";\n",
       "                var nbb_formatted_code = \"def split_train_test(class_label: str, split_ratio: float):\\n\\n    if class_label not in labels:\\n        raise ValueError(\\\"Enter a valid class label!\\\")\\n\\n    split_ratio = split_ratio\\n    all_mice_files = os.listdir(f\\\"{path_to_data}/{class_label}\\\")\\n    random.shuffle(all_mice_files)\\n    train_size = len(all_mice_files) * split_ratio\\n    files_moved = 0\\n\\n    for mice in all_mice_files:\\n        if files_moved < train_size:\\n            shutil.move(\\n                f\\\"{path_to_data}/{class_label}/{mice}\\\",\\n                f\\\"{path_to_data}/train/{class_label}\\\",\\n            )\\n        else:\\n            shutil.move(\\n                f\\\"{path_to_data}/{class_label}/{mice}\\\",\\n                f\\\"{path_to_data}/test/{class_label}\\\",\\n            )\\n        files_moved += 1\\n    if len(os.listdir(f\\\"{path_to_data}/{class_label}\\\")) == 0:\\n        shutil.rmtree(f\\\"{path_to_data}/{class_label}\\\")\";\n",
       "                var nbb_cells = Jupyter.notebook.get_cells();\n",
       "                for (var i = 0; i < nbb_cells.length; ++i) {\n",
       "                    if (nbb_cells[i].input_prompt_number == nbb_cell_id) {\n",
       "                        if (nbb_cells[i].get_text() == nbb_unformatted_code) {\n",
       "                             nbb_cells[i].set_text(nbb_formatted_code);\n",
       "                        }\n",
       "                        break;\n",
       "                    }\n",
       "                }\n",
       "            }, 500);\n",
       "            "
      ],
      "text/plain": [
       "<IPython.core.display.Javascript object>"
      ]
     },
     "metadata": {},
     "output_type": "display_data"
    },
    {
     "data": {
      "application/javascript": [
       "\n",
       "            setTimeout(function() {\n",
       "                var nbb_cell_id = 133;\n",
       "                var nbb_unformatted_code = \"def split_train_test(class_label: str, split_ratio: float):\\n\\n    if class_label not in labels:\\n        raise ValueError(\\\"Enter a valid class label!\\\")\\n\\n    split_ratio = split_ratio\\n    all_mice_files = os.listdir(f\\\"{path_to_data}/{class_label}\\\")\\n    random.shuffle(all_mice_files)\\n    train_size = len(all_mice_files) * split_ratio\\n    files_moved = 0\\n\\n    for mice in all_mice_files:\\n        if files_moved < train_size:\\n            shutil.move(\\n                f\\\"{path_to_data}/{class_label}/{mice}\\\",\\n                f\\\"{path_to_data}/train/{class_label}\\\",\\n            )\\n        else:\\n            shutil.move(\\n                f\\\"{path_to_data}/{class_label}/{mice}\\\",\\n                f\\\"{path_to_data}/test/{class_label}\\\",\\n            )\\n        files_moved += 1\\n    if len(os.listdir(f\\\"{path_to_data}/{class_label}\\\")) == 0:\\n        shutil.rmtree(f\\\"{path_to_data}/{class_label}\\\")\";\n",
       "                var nbb_formatted_code = \"def split_train_test(class_label: str, split_ratio: float):\\n\\n    if class_label not in labels:\\n        raise ValueError(\\\"Enter a valid class label!\\\")\\n\\n    split_ratio = split_ratio\\n    all_mice_files = os.listdir(f\\\"{path_to_data}/{class_label}\\\")\\n    random.shuffle(all_mice_files)\\n    train_size = len(all_mice_files) * split_ratio\\n    files_moved = 0\\n\\n    for mice in all_mice_files:\\n        if files_moved < train_size:\\n            shutil.move(\\n                f\\\"{path_to_data}/{class_label}/{mice}\\\",\\n                f\\\"{path_to_data}/train/{class_label}\\\",\\n            )\\n        else:\\n            shutil.move(\\n                f\\\"{path_to_data}/{class_label}/{mice}\\\",\\n                f\\\"{path_to_data}/test/{class_label}\\\",\\n            )\\n        files_moved += 1\\n    if len(os.listdir(f\\\"{path_to_data}/{class_label}\\\")) == 0:\\n        shutil.rmtree(f\\\"{path_to_data}/{class_label}\\\")\";\n",
       "                var nbb_cells = Jupyter.notebook.get_cells();\n",
       "                for (var i = 0; i < nbb_cells.length; ++i) {\n",
       "                    if (nbb_cells[i].input_prompt_number == nbb_cell_id) {\n",
       "                        if (nbb_cells[i].get_text() == nbb_unformatted_code) {\n",
       "                             nbb_cells[i].set_text(nbb_formatted_code);\n",
       "                        }\n",
       "                        break;\n",
       "                    }\n",
       "                }\n",
       "            }, 500);\n",
       "            "
      ],
      "text/plain": [
       "<IPython.core.display.Javascript object>"
      ]
     },
     "metadata": {},
     "output_type": "display_data"
    },
    {
     "data": {
      "application/javascript": [
       "\n",
       "            setTimeout(function() {\n",
       "                var nbb_cell_id = 133;\n",
       "                var nbb_unformatted_code = \"def split_train_test(class_label: str, split_ratio: float):\\n\\n    if class_label not in labels:\\n        raise ValueError(\\\"Enter a valid class label!\\\")\\n\\n    split_ratio = split_ratio\\n    all_mice_files = os.listdir(f\\\"{path_to_data}/{class_label}\\\")\\n    random.shuffle(all_mice_files)\\n    train_size = len(all_mice_files) * split_ratio\\n    files_moved = 0\\n\\n    for mice in all_mice_files:\\n        if files_moved < train_size:\\n            shutil.move(\\n                f\\\"{path_to_data}/{class_label}/{mice}\\\",\\n                f\\\"{path_to_data}/train/{class_label}\\\",\\n            )\\n        else:\\n            shutil.move(\\n                f\\\"{path_to_data}/{class_label}/{mice}\\\",\\n                f\\\"{path_to_data}/test/{class_label}\\\",\\n            )\\n        files_moved += 1\\n    if len(os.listdir(f\\\"{path_to_data}/{class_label}\\\")) == 0:\\n        shutil.rmtree(f\\\"{path_to_data}/{class_label}\\\")\";\n",
       "                var nbb_formatted_code = \"def split_train_test(class_label: str, split_ratio: float):\\n\\n    if class_label not in labels:\\n        raise ValueError(\\\"Enter a valid class label!\\\")\\n\\n    split_ratio = split_ratio\\n    all_mice_files = os.listdir(f\\\"{path_to_data}/{class_label}\\\")\\n    random.shuffle(all_mice_files)\\n    train_size = len(all_mice_files) * split_ratio\\n    files_moved = 0\\n\\n    for mice in all_mice_files:\\n        if files_moved < train_size:\\n            shutil.move(\\n                f\\\"{path_to_data}/{class_label}/{mice}\\\",\\n                f\\\"{path_to_data}/train/{class_label}\\\",\\n            )\\n        else:\\n            shutil.move(\\n                f\\\"{path_to_data}/{class_label}/{mice}\\\",\\n                f\\\"{path_to_data}/test/{class_label}\\\",\\n            )\\n        files_moved += 1\\n    if len(os.listdir(f\\\"{path_to_data}/{class_label}\\\")) == 0:\\n        shutil.rmtree(f\\\"{path_to_data}/{class_label}\\\")\";\n",
       "                var nbb_cells = Jupyter.notebook.get_cells();\n",
       "                for (var i = 0; i < nbb_cells.length; ++i) {\n",
       "                    if (nbb_cells[i].input_prompt_number == nbb_cell_id) {\n",
       "                        if (nbb_cells[i].get_text() == nbb_unformatted_code) {\n",
       "                             nbb_cells[i].set_text(nbb_formatted_code);\n",
       "                        }\n",
       "                        break;\n",
       "                    }\n",
       "                }\n",
       "            }, 500);\n",
       "            "
      ],
      "text/plain": [
       "<IPython.core.display.Javascript object>"
      ]
     },
     "metadata": {},
     "output_type": "display_data"
    }
   ],
   "source": [
    "def split_train_test(class_label: str, split_ratio: float):\n",
    "\n",
    "    if class_label not in labels:\n",
    "        raise ValueError(\"Enter a valid class label!\")\n",
    "\n",
    "    split_ratio = split_ratio\n",
    "    all_mice_files = os.listdir(f\"{path_to_data}/{class_label}\")\n",
    "    random.shuffle(all_mice_files)\n",
    "    train_size = len(all_mice_files) * split_ratio\n",
    "    files_moved = 0\n",
    "\n",
    "    for mice in all_mice_files:\n",
    "        if files_moved < train_size:\n",
    "            shutil.move(\n",
    "                f\"{path_to_data}/{class_label}/{mice}\",\n",
    "                f\"{path_to_data}/train/{class_label}\",\n",
    "            )\n",
    "        else:\n",
    "            shutil.move(\n",
    "                f\"{path_to_data}/{class_label}/{mice}\",\n",
    "                f\"{path_to_data}/test/{class_label}\",\n",
    "            )\n",
    "        files_moved += 1\n",
    "    if len(os.listdir(f\"{path_to_data}/{class_label}\")) == 0:\n",
    "        shutil.rmtree(f\"{path_to_data}/{class_label}\")"
   ]
  },
  {
   "cell_type": "code",
   "execution_count": 148,
   "metadata": {},
   "outputs": [
    {
     "data": {
      "application/javascript": [
       "\n",
       "            setTimeout(function() {\n",
       "                var nbb_cell_id = 148;\n",
       "                var nbb_unformatted_code = \"def create_dataset_pipeline(\\n    start_seconds, end_seconds, class_label: str, split=True, split_ratio=0.8\\n):\\n    try:\\n        create_images_from_video(start_seconds, end_seconds, class_label)\\n        if split:\\n            if len(os.listdir(f\\\"{path_to_data}/{class_label}\\\")) != 0:\\n                split_train_test(class_label, split_ratio)\\n            else:\\n                sys.exit(\\n                    f\\\"{path_to_data}/{class_label} is empty and that means frames from videos were not captured successfully!\\\"\\n                )\\n        else:\\n            pass\\n    except:\\n        var = traceback.format_exc()\\n        print(var)\";\n",
       "                var nbb_formatted_code = \"def create_dataset_pipeline(\\n    start_seconds, end_seconds, class_label: str, split=True, split_ratio=0.8\\n):\\n    try:\\n        create_images_from_video(start_seconds, end_seconds, class_label)\\n        if split:\\n            if len(os.listdir(f\\\"{path_to_data}/{class_label}\\\")) != 0:\\n                split_train_test(class_label, split_ratio)\\n            else:\\n                sys.exit(\\n                    f\\\"{path_to_data}/{class_label} is empty and that means frames from videos were not captured successfully!\\\"\\n                )\\n        else:\\n            pass\\n    except:\\n        var = traceback.format_exc()\\n        print(var)\";\n",
       "                var nbb_cells = Jupyter.notebook.get_cells();\n",
       "                for (var i = 0; i < nbb_cells.length; ++i) {\n",
       "                    if (nbb_cells[i].input_prompt_number == nbb_cell_id) {\n",
       "                        if (nbb_cells[i].get_text() == nbb_unformatted_code) {\n",
       "                             nbb_cells[i].set_text(nbb_formatted_code);\n",
       "                        }\n",
       "                        break;\n",
       "                    }\n",
       "                }\n",
       "            }, 500);\n",
       "            "
      ],
      "text/plain": [
       "<IPython.core.display.Javascript object>"
      ]
     },
     "metadata": {},
     "output_type": "display_data"
    },
    {
     "data": {
      "application/javascript": [
       "\n",
       "            setTimeout(function() {\n",
       "                var nbb_cell_id = 148;\n",
       "                var nbb_unformatted_code = \"def create_dataset_pipeline(\\n    start_seconds, end_seconds, class_label: str, split=True, split_ratio=0.8\\n):\\n    try:\\n        create_images_from_video(start_seconds, end_seconds, class_label)\\n        if split:\\n            if len(os.listdir(f\\\"{path_to_data}/{class_label}\\\")) != 0:\\n                split_train_test(class_label, split_ratio)\\n            else:\\n                sys.exit(\\n                    f\\\"{path_to_data}/{class_label} is empty and that means frames from videos were not captured successfully!\\\"\\n                )\\n        else:\\n            pass\\n    except:\\n        var = traceback.format_exc()\\n        print(var)\";\n",
       "                var nbb_formatted_code = \"def create_dataset_pipeline(\\n    start_seconds, end_seconds, class_label: str, split=True, split_ratio=0.8\\n):\\n    try:\\n        create_images_from_video(start_seconds, end_seconds, class_label)\\n        if split:\\n            if len(os.listdir(f\\\"{path_to_data}/{class_label}\\\")) != 0:\\n                split_train_test(class_label, split_ratio)\\n            else:\\n                sys.exit(\\n                    f\\\"{path_to_data}/{class_label} is empty and that means frames from videos were not captured successfully!\\\"\\n                )\\n        else:\\n            pass\\n    except:\\n        var = traceback.format_exc()\\n        print(var)\";\n",
       "                var nbb_cells = Jupyter.notebook.get_cells();\n",
       "                for (var i = 0; i < nbb_cells.length; ++i) {\n",
       "                    if (nbb_cells[i].input_prompt_number == nbb_cell_id) {\n",
       "                        if (nbb_cells[i].get_text() == nbb_unformatted_code) {\n",
       "                             nbb_cells[i].set_text(nbb_formatted_code);\n",
       "                        }\n",
       "                        break;\n",
       "                    }\n",
       "                }\n",
       "            }, 500);\n",
       "            "
      ],
      "text/plain": [
       "<IPython.core.display.Javascript object>"
      ]
     },
     "metadata": {},
     "output_type": "display_data"
    },
    {
     "data": {
      "application/javascript": [
       "\n",
       "            setTimeout(function() {\n",
       "                var nbb_cell_id = 148;\n",
       "                var nbb_unformatted_code = \"def create_dataset_pipeline(\\n    start_seconds, end_seconds, class_label: str, split=True, split_ratio=0.8\\n):\\n    try:\\n        create_images_from_video(start_seconds, end_seconds, class_label)\\n        if split:\\n            if len(os.listdir(f\\\"{path_to_data}/{class_label}\\\")) != 0:\\n                split_train_test(class_label, split_ratio)\\n            else:\\n                sys.exit(\\n                    f\\\"{path_to_data}/{class_label} is empty and that means frames from videos were not captured successfully!\\\"\\n                )\\n        else:\\n            pass\\n    except:\\n        var = traceback.format_exc()\\n        print(var)\";\n",
       "                var nbb_formatted_code = \"def create_dataset_pipeline(\\n    start_seconds, end_seconds, class_label: str, split=True, split_ratio=0.8\\n):\\n    try:\\n        create_images_from_video(start_seconds, end_seconds, class_label)\\n        if split:\\n            if len(os.listdir(f\\\"{path_to_data}/{class_label}\\\")) != 0:\\n                split_train_test(class_label, split_ratio)\\n            else:\\n                sys.exit(\\n                    f\\\"{path_to_data}/{class_label} is empty and that means frames from videos were not captured successfully!\\\"\\n                )\\n        else:\\n            pass\\n    except:\\n        var = traceback.format_exc()\\n        print(var)\";\n",
       "                var nbb_cells = Jupyter.notebook.get_cells();\n",
       "                for (var i = 0; i < nbb_cells.length; ++i) {\n",
       "                    if (nbb_cells[i].input_prompt_number == nbb_cell_id) {\n",
       "                        if (nbb_cells[i].get_text() == nbb_unformatted_code) {\n",
       "                             nbb_cells[i].set_text(nbb_formatted_code);\n",
       "                        }\n",
       "                        break;\n",
       "                    }\n",
       "                }\n",
       "            }, 500);\n",
       "            "
      ],
      "text/plain": [
       "<IPython.core.display.Javascript object>"
      ]
     },
     "metadata": {},
     "output_type": "display_data"
    }
   ],
   "source": [
    "def create_dataset_pipeline(\n",
    "    start_seconds, end_seconds, class_label: str, split=True, split_ratio=0.8\n",
    "):\n",
    "    try:\n",
    "        create_images_from_video(start_seconds, end_seconds, class_label)\n",
    "        if split:\n",
    "            if len(os.listdir(f\"{path_to_data}/{class_label}\")) != 0:\n",
    "                split_train_test(class_label, split_ratio)\n",
    "            else:\n",
    "                sys.exit(\n",
    "                    f\"{path_to_data}/{class_label} is empty and that means frames from videos were not captured successfully!\"\n",
    "                )\n",
    "        else:\n",
    "            pass\n",
    "    except:\n",
    "        var = traceback.format_exc()\n",
    "        print(var)"
   ]
  },
  {
   "cell_type": "code",
   "execution_count": 149,
   "metadata": {},
   "outputs": [
    {
     "data": {
      "application/javascript": [
       "\n",
       "            setTimeout(function() {\n",
       "                var nbb_cell_id = 149;\n",
       "                var nbb_unformatted_code = \"# start = floor(Total frames / frame_rate) - (ignore last trial(120 seconds) + 30 second threshold)\\ndef create_parent_dataset(parent_images):\\n    frame_rate = math.floor(mice_row[\\\"video_fps\\\"].item())\\n    start_seconds = random.randint(\\n        0, (mice_row[\\\"total_video_frames\\\"].item() // frame_rate) - 150\\n    )\\n    end_seconds = start_seconds + parent_images\\n    create_dataset_pipeline(start_seconds, end_seconds, \\\"parent-mice\\\")\\n\\n    train_size = len(os.listdir(f\\\"{path_to_data}/train/parent-mice\\\"))\\n    test_size = len(os.listdir(f\\\"{path_to_data}/test/parent-mice\\\"))\\n\\n    print(\\n        f\\\"Saved all {parent_images} parent image files and train has {train_size} pictures and test has {test_size} pictures!\\\"\\n    )\";\n",
       "                var nbb_formatted_code = \"# start = floor(Total frames / frame_rate) - (ignore last trial(120 seconds) + 30 second threshold)\\ndef create_parent_dataset(parent_images):\\n    frame_rate = math.floor(mice_row[\\\"video_fps\\\"].item())\\n    start_seconds = random.randint(\\n        0, (mice_row[\\\"total_video_frames\\\"].item() // frame_rate) - 150\\n    )\\n    end_seconds = start_seconds + parent_images\\n    create_dataset_pipeline(start_seconds, end_seconds, \\\"parent-mice\\\")\\n\\n    train_size = len(os.listdir(f\\\"{path_to_data}/train/parent-mice\\\"))\\n    test_size = len(os.listdir(f\\\"{path_to_data}/test/parent-mice\\\"))\\n\\n    print(\\n        f\\\"Saved all {parent_images} parent image files and train has {train_size} pictures and test has {test_size} pictures!\\\"\\n    )\";\n",
       "                var nbb_cells = Jupyter.notebook.get_cells();\n",
       "                for (var i = 0; i < nbb_cells.length; ++i) {\n",
       "                    if (nbb_cells[i].input_prompt_number == nbb_cell_id) {\n",
       "                        if (nbb_cells[i].get_text() == nbb_unformatted_code) {\n",
       "                             nbb_cells[i].set_text(nbb_formatted_code);\n",
       "                        }\n",
       "                        break;\n",
       "                    }\n",
       "                }\n",
       "            }, 500);\n",
       "            "
      ],
      "text/plain": [
       "<IPython.core.display.Javascript object>"
      ]
     },
     "metadata": {},
     "output_type": "display_data"
    },
    {
     "data": {
      "application/javascript": [
       "\n",
       "            setTimeout(function() {\n",
       "                var nbb_cell_id = 149;\n",
       "                var nbb_unformatted_code = \"# start = floor(Total frames / frame_rate) - (ignore last trial(120 seconds) + 30 second threshold)\\ndef create_parent_dataset(parent_images):\\n    frame_rate = math.floor(mice_row[\\\"video_fps\\\"].item())\\n    start_seconds = random.randint(\\n        0, (mice_row[\\\"total_video_frames\\\"].item() // frame_rate) - 150\\n    )\\n    end_seconds = start_seconds + parent_images\\n    create_dataset_pipeline(start_seconds, end_seconds, \\\"parent-mice\\\")\\n\\n    train_size = len(os.listdir(f\\\"{path_to_data}/train/parent-mice\\\"))\\n    test_size = len(os.listdir(f\\\"{path_to_data}/test/parent-mice\\\"))\\n\\n    print(\\n        f\\\"Saved all {parent_images} parent image files and train has {train_size} pictures and test has {test_size} pictures!\\\"\\n    )\";\n",
       "                var nbb_formatted_code = \"# start = floor(Total frames / frame_rate) - (ignore last trial(120 seconds) + 30 second threshold)\\ndef create_parent_dataset(parent_images):\\n    frame_rate = math.floor(mice_row[\\\"video_fps\\\"].item())\\n    start_seconds = random.randint(\\n        0, (mice_row[\\\"total_video_frames\\\"].item() // frame_rate) - 150\\n    )\\n    end_seconds = start_seconds + parent_images\\n    create_dataset_pipeline(start_seconds, end_seconds, \\\"parent-mice\\\")\\n\\n    train_size = len(os.listdir(f\\\"{path_to_data}/train/parent-mice\\\"))\\n    test_size = len(os.listdir(f\\\"{path_to_data}/test/parent-mice\\\"))\\n\\n    print(\\n        f\\\"Saved all {parent_images} parent image files and train has {train_size} pictures and test has {test_size} pictures!\\\"\\n    )\";\n",
       "                var nbb_cells = Jupyter.notebook.get_cells();\n",
       "                for (var i = 0; i < nbb_cells.length; ++i) {\n",
       "                    if (nbb_cells[i].input_prompt_number == nbb_cell_id) {\n",
       "                        if (nbb_cells[i].get_text() == nbb_unformatted_code) {\n",
       "                             nbb_cells[i].set_text(nbb_formatted_code);\n",
       "                        }\n",
       "                        break;\n",
       "                    }\n",
       "                }\n",
       "            }, 500);\n",
       "            "
      ],
      "text/plain": [
       "<IPython.core.display.Javascript object>"
      ]
     },
     "metadata": {},
     "output_type": "display_data"
    },
    {
     "data": {
      "application/javascript": [
       "\n",
       "            setTimeout(function() {\n",
       "                var nbb_cell_id = 149;\n",
       "                var nbb_unformatted_code = \"# start = floor(Total frames / frame_rate) - (ignore last trial(120 seconds) + 30 second threshold)\\ndef create_parent_dataset(parent_images):\\n    frame_rate = math.floor(mice_row[\\\"video_fps\\\"].item())\\n    start_seconds = random.randint(\\n        0, (mice_row[\\\"total_video_frames\\\"].item() // frame_rate) - 150\\n    )\\n    end_seconds = start_seconds + parent_images\\n    create_dataset_pipeline(start_seconds, end_seconds, \\\"parent-mice\\\")\\n\\n    train_size = len(os.listdir(f\\\"{path_to_data}/train/parent-mice\\\"))\\n    test_size = len(os.listdir(f\\\"{path_to_data}/test/parent-mice\\\"))\\n\\n    print(\\n        f\\\"Saved all {parent_images} parent image files and train has {train_size} pictures and test has {test_size} pictures!\\\"\\n    )\";\n",
       "                var nbb_formatted_code = \"# start = floor(Total frames / frame_rate) - (ignore last trial(120 seconds) + 30 second threshold)\\ndef create_parent_dataset(parent_images):\\n    frame_rate = math.floor(mice_row[\\\"video_fps\\\"].item())\\n    start_seconds = random.randint(\\n        0, (mice_row[\\\"total_video_frames\\\"].item() // frame_rate) - 150\\n    )\\n    end_seconds = start_seconds + parent_images\\n    create_dataset_pipeline(start_seconds, end_seconds, \\\"parent-mice\\\")\\n\\n    train_size = len(os.listdir(f\\\"{path_to_data}/train/parent-mice\\\"))\\n    test_size = len(os.listdir(f\\\"{path_to_data}/test/parent-mice\\\"))\\n\\n    print(\\n        f\\\"Saved all {parent_images} parent image files and train has {train_size} pictures and test has {test_size} pictures!\\\"\\n    )\";\n",
       "                var nbb_cells = Jupyter.notebook.get_cells();\n",
       "                for (var i = 0; i < nbb_cells.length; ++i) {\n",
       "                    if (nbb_cells[i].input_prompt_number == nbb_cell_id) {\n",
       "                        if (nbb_cells[i].get_text() == nbb_unformatted_code) {\n",
       "                             nbb_cells[i].set_text(nbb_formatted_code);\n",
       "                        }\n",
       "                        break;\n",
       "                    }\n",
       "                }\n",
       "            }, 500);\n",
       "            "
      ],
      "text/plain": [
       "<IPython.core.display.Javascript object>"
      ]
     },
     "metadata": {},
     "output_type": "display_data"
    }
   ],
   "source": [
    "# start = floor(Total frames / frame_rate) - (ignore last trial(120 seconds) + 30 second threshold)\n",
    "def create_parent_dataset(parent_images):\n",
    "    frame_rate = math.floor(mice_row[\"video_fps\"].item())\n",
    "    start_seconds = random.randint(\n",
    "        0, (mice_row[\"total_video_frames\"].item() // frame_rate) - 150\n",
    "    )\n",
    "    end_seconds = start_seconds + parent_images\n",
    "    create_dataset_pipeline(start_seconds, end_seconds, \"parent-mice\")\n",
    "\n",
    "    train_size = len(os.listdir(f\"{path_to_data}/train/parent-mice\"))\n",
    "    test_size = len(os.listdir(f\"{path_to_data}/test/parent-mice\"))\n",
    "\n",
    "    print(\n",
    "        f\"Saved all {parent_images} parent image files and train has {train_size} pictures and test has {test_size} pictures!\"\n",
    "    )"
   ]
  },
  {
   "cell_type": "code",
   "execution_count": 136,
   "metadata": {},
   "outputs": [
    {
     "data": {
      "text/html": [
       "<div>\n",
       "<style scoped>\n",
       "    .dataframe tbody tr th:only-of-type {\n",
       "        vertical-align: middle;\n",
       "    }\n",
       "\n",
       "    .dataframe tbody tr th {\n",
       "        vertical-align: top;\n",
       "    }\n",
       "\n",
       "    .dataframe thead th {\n",
       "        text-align: right;\n",
       "    }\n",
       "</style>\n",
       "<table border=\"1\" class=\"dataframe\">\n",
       "  <thead>\n",
       "    <tr style=\"text-align: right;\">\n",
       "      <th></th>\n",
       "      <th>Group</th>\n",
       "      <th>Cohort</th>\n",
       "      <th>MouseID</th>\n",
       "      <th>Virus</th>\n",
       "      <th>Trial</th>\n",
       "      <th>Laser</th>\n",
       "      <th>Start</th>\n",
       "      <th>Time_Latency_Contact_s</th>\n",
       "      <th>Latency_Contact_s</th>\n",
       "      <th>Time_Latency_Retrieve_s</th>\n",
       "      <th>Latency_Retrieve_s</th>\n",
       "      <th>Retrieved</th>\n",
       "    </tr>\n",
       "  </thead>\n",
       "  <tbody>\n",
       "    <tr>\n",
       "      <th>0</th>\n",
       "      <td>Control</td>\n",
       "      <td>1</td>\n",
       "      <td>PrL-10</td>\n",
       "      <td>mCherry</td>\n",
       "      <td>1</td>\n",
       "      <td>OFF</td>\n",
       "      <td>0:13</td>\n",
       "      <td>0:27</td>\n",
       "      <td>14.0</td>\n",
       "      <td>NO</td>\n",
       "      <td>120</td>\n",
       "      <td>0</td>\n",
       "    </tr>\n",
       "    <tr>\n",
       "      <th>1</th>\n",
       "      <td>Control</td>\n",
       "      <td>1</td>\n",
       "      <td>PrL-10</td>\n",
       "      <td>mCherry</td>\n",
       "      <td>2</td>\n",
       "      <td>ON</td>\n",
       "      <td>2:38</td>\n",
       "      <td>2:57</td>\n",
       "      <td>19.0</td>\n",
       "      <td>NO</td>\n",
       "      <td>120</td>\n",
       "      <td>0</td>\n",
       "    </tr>\n",
       "    <tr>\n",
       "      <th>2</th>\n",
       "      <td>Control</td>\n",
       "      <td>1</td>\n",
       "      <td>PrL-10</td>\n",
       "      <td>mCherry</td>\n",
       "      <td>3</td>\n",
       "      <td>OFF</td>\n",
       "      <td>5:00</td>\n",
       "      <td>6:11</td>\n",
       "      <td>71.0</td>\n",
       "      <td>NO</td>\n",
       "      <td>120</td>\n",
       "      <td>0</td>\n",
       "    </tr>\n",
       "    <tr>\n",
       "      <th>3</th>\n",
       "      <td>Control</td>\n",
       "      <td>1</td>\n",
       "      <td>PrL-10</td>\n",
       "      <td>mCherry</td>\n",
       "      <td>4</td>\n",
       "      <td>ON</td>\n",
       "      <td>7:19</td>\n",
       "      <td>8:27</td>\n",
       "      <td>68.0</td>\n",
       "      <td>NO</td>\n",
       "      <td>120</td>\n",
       "      <td>0</td>\n",
       "    </tr>\n",
       "    <tr>\n",
       "      <th>4</th>\n",
       "      <td>Control</td>\n",
       "      <td>1</td>\n",
       "      <td>PrL-10</td>\n",
       "      <td>mCherry</td>\n",
       "      <td>5</td>\n",
       "      <td>OFF</td>\n",
       "      <td>9:37</td>\n",
       "      <td>NO</td>\n",
       "      <td>120.0</td>\n",
       "      <td>NO</td>\n",
       "      <td>120</td>\n",
       "      <td>0</td>\n",
       "    </tr>\n",
       "  </tbody>\n",
       "</table>\n",
       "</div>"
      ],
      "text/plain": [
       "     Group  Cohort MouseID    Virus  Trial Laser Start Time_Latency_Contact_s  \\\n",
       "0  Control       1  PrL-10  mCherry      1   OFF  0:13                   0:27   \n",
       "1  Control       1  PrL-10  mCherry      2    ON  2:38                   2:57   \n",
       "2  Control       1  PrL-10  mCherry      3   OFF  5:00                   6:11   \n",
       "3  Control       1  PrL-10  mCherry      4    ON  7:19                   8:27   \n",
       "4  Control       1  PrL-10  mCherry      5   OFF  9:37                     NO   \n",
       "\n",
       "   Latency_Contact_s Time_Latency_Retrieve_s  Latency_Retrieve_s  Retrieved  \n",
       "0               14.0                      NO                 120          0  \n",
       "1               19.0                      NO                 120          0  \n",
       "2               71.0                      NO                 120          0  \n",
       "3               68.0                      NO                 120          0  \n",
       "4              120.0                      NO                 120          0  "
      ]
     },
     "execution_count": 136,
     "metadata": {},
     "output_type": "execute_result"
    },
    {
     "data": {
      "application/javascript": [
       "\n",
       "            setTimeout(function() {\n",
       "                var nbb_cell_id = 136;\n",
       "                var nbb_unformatted_code = \"experiment = pd.read_csv(f\\\"{parent_directory}/experiment_new.csv\\\")\\nexperiment.head()\";\n",
       "                var nbb_formatted_code = \"experiment = pd.read_csv(f\\\"{parent_directory}/experiment_new.csv\\\")\\nexperiment.head()\";\n",
       "                var nbb_cells = Jupyter.notebook.get_cells();\n",
       "                for (var i = 0; i < nbb_cells.length; ++i) {\n",
       "                    if (nbb_cells[i].input_prompt_number == nbb_cell_id) {\n",
       "                        if (nbb_cells[i].get_text() == nbb_unformatted_code) {\n",
       "                             nbb_cells[i].set_text(nbb_formatted_code);\n",
       "                        }\n",
       "                        break;\n",
       "                    }\n",
       "                }\n",
       "            }, 500);\n",
       "            "
      ],
      "text/plain": [
       "<IPython.core.display.Javascript object>"
      ]
     },
     "metadata": {},
     "output_type": "display_data"
    },
    {
     "data": {
      "application/javascript": [
       "\n",
       "            setTimeout(function() {\n",
       "                var nbb_cell_id = 136;\n",
       "                var nbb_unformatted_code = \"experiment = pd.read_csv(f\\\"{parent_directory}/experiment_new.csv\\\")\\nexperiment.head()\";\n",
       "                var nbb_formatted_code = \"experiment = pd.read_csv(f\\\"{parent_directory}/experiment_new.csv\\\")\\nexperiment.head()\";\n",
       "                var nbb_cells = Jupyter.notebook.get_cells();\n",
       "                for (var i = 0; i < nbb_cells.length; ++i) {\n",
       "                    if (nbb_cells[i].input_prompt_number == nbb_cell_id) {\n",
       "                        if (nbb_cells[i].get_text() == nbb_unformatted_code) {\n",
       "                             nbb_cells[i].set_text(nbb_formatted_code);\n",
       "                        }\n",
       "                        break;\n",
       "                    }\n",
       "                }\n",
       "            }, 500);\n",
       "            "
      ],
      "text/plain": [
       "<IPython.core.display.Javascript object>"
      ]
     },
     "metadata": {},
     "output_type": "display_data"
    },
    {
     "data": {
      "application/javascript": [
       "\n",
       "            setTimeout(function() {\n",
       "                var nbb_cell_id = 136;\n",
       "                var nbb_unformatted_code = \"experiment = pd.read_csv(f\\\"{parent_directory}/experiment_new.csv\\\")\\nexperiment.head()\";\n",
       "                var nbb_formatted_code = \"experiment = pd.read_csv(f\\\"{parent_directory}/experiment_new.csv\\\")\\nexperiment.head()\";\n",
       "                var nbb_cells = Jupyter.notebook.get_cells();\n",
       "                for (var i = 0; i < nbb_cells.length; ++i) {\n",
       "                    if (nbb_cells[i].input_prompt_number == nbb_cell_id) {\n",
       "                        if (nbb_cells[i].get_text() == nbb_unformatted_code) {\n",
       "                             nbb_cells[i].set_text(nbb_formatted_code);\n",
       "                        }\n",
       "                        break;\n",
       "                    }\n",
       "                }\n",
       "            }, 500);\n",
       "            "
      ],
      "text/plain": [
       "<IPython.core.display.Javascript object>"
      ]
     },
     "metadata": {},
     "output_type": "display_data"
    }
   ],
   "source": [
    "experiment = pd.read_csv(f\"{parent_directory}/experiment_new.csv\")\n",
    "experiment.head()"
   ]
  },
  {
   "cell_type": "code",
   "execution_count": 137,
   "metadata": {},
   "outputs": [
    {
     "data": {
      "text/html": [
       "<div>\n",
       "<style scoped>\n",
       "    .dataframe tbody tr th:only-of-type {\n",
       "        vertical-align: middle;\n",
       "    }\n",
       "\n",
       "    .dataframe tbody tr th {\n",
       "        vertical-align: top;\n",
       "    }\n",
       "\n",
       "    .dataframe thead th {\n",
       "        text-align: right;\n",
       "    }\n",
       "</style>\n",
       "<table border=\"1\" class=\"dataframe\">\n",
       "  <thead>\n",
       "    <tr style=\"text-align: right;\">\n",
       "      <th></th>\n",
       "      <th>Group</th>\n",
       "      <th>Cohort</th>\n",
       "      <th>MouseID</th>\n",
       "      <th>Virus</th>\n",
       "      <th>Trial</th>\n",
       "      <th>Laser</th>\n",
       "      <th>Start</th>\n",
       "      <th>Time_Latency_Contact_s</th>\n",
       "      <th>Latency_Contact_s</th>\n",
       "      <th>Time_Latency_Retrieve_s</th>\n",
       "      <th>Latency_Retrieve_s</th>\n",
       "      <th>Retrieved</th>\n",
       "    </tr>\n",
       "  </thead>\n",
       "  <tbody>\n",
       "    <tr>\n",
       "      <th>67</th>\n",
       "      <td>Control</td>\n",
       "      <td>2</td>\n",
       "      <td>PrL-16</td>\n",
       "      <td>mCherry</td>\n",
       "      <td>2</td>\n",
       "      <td>ON</td>\n",
       "      <td>2:18</td>\n",
       "      <td>2:40</td>\n",
       "      <td>22.0</td>\n",
       "      <td>2:48</td>\n",
       "      <td>30</td>\n",
       "      <td>1</td>\n",
       "    </tr>\n",
       "    <tr>\n",
       "      <th>68</th>\n",
       "      <td>Control</td>\n",
       "      <td>2</td>\n",
       "      <td>PrL-16</td>\n",
       "      <td>mCherry</td>\n",
       "      <td>3</td>\n",
       "      <td>OFF</td>\n",
       "      <td>4:33</td>\n",
       "      <td>4:40</td>\n",
       "      <td>7.0</td>\n",
       "      <td>4:45</td>\n",
       "      <td>12</td>\n",
       "      <td>1</td>\n",
       "    </tr>\n",
       "    <tr>\n",
       "      <th>69</th>\n",
       "      <td>Control</td>\n",
       "      <td>2</td>\n",
       "      <td>PrL-16</td>\n",
       "      <td>mCherry</td>\n",
       "      <td>4</td>\n",
       "      <td>ON</td>\n",
       "      <td>6:41</td>\n",
       "      <td>6:54</td>\n",
       "      <td>13.0</td>\n",
       "      <td>6:59</td>\n",
       "      <td>18</td>\n",
       "      <td>1</td>\n",
       "    </tr>\n",
       "    <tr>\n",
       "      <th>70</th>\n",
       "      <td>Control</td>\n",
       "      <td>2</td>\n",
       "      <td>PrL-16</td>\n",
       "      <td>mCherry</td>\n",
       "      <td>5</td>\n",
       "      <td>OFF</td>\n",
       "      <td>9:06</td>\n",
       "      <td>9:24</td>\n",
       "      <td>18.0</td>\n",
       "      <td>9:29</td>\n",
       "      <td>13</td>\n",
       "      <td>1</td>\n",
       "    </tr>\n",
       "    <tr>\n",
       "      <th>71</th>\n",
       "      <td>Control</td>\n",
       "      <td>2</td>\n",
       "      <td>PrL-16</td>\n",
       "      <td>mCherry</td>\n",
       "      <td>6</td>\n",
       "      <td>ON</td>\n",
       "      <td>11:15</td>\n",
       "      <td>12:00</td>\n",
       "      <td>45.0</td>\n",
       "      <td>12:08</td>\n",
       "      <td>53</td>\n",
       "      <td>1</td>\n",
       "    </tr>\n",
       "    <tr>\n",
       "      <th>73</th>\n",
       "      <td>Control</td>\n",
       "      <td>2</td>\n",
       "      <td>PrL-16</td>\n",
       "      <td>mCherry</td>\n",
       "      <td>8</td>\n",
       "      <td>ON</td>\n",
       "      <td>15:38</td>\n",
       "      <td>15:45</td>\n",
       "      <td>7.0</td>\n",
       "      <td>15:48</td>\n",
       "      <td>10</td>\n",
       "      <td>1</td>\n",
       "    </tr>\n",
       "    <tr>\n",
       "      <th>74</th>\n",
       "      <td>Control</td>\n",
       "      <td>2</td>\n",
       "      <td>PrL-16</td>\n",
       "      <td>mCherry</td>\n",
       "      <td>9</td>\n",
       "      <td>OFF</td>\n",
       "      <td>17:53</td>\n",
       "      <td>18:08</td>\n",
       "      <td>15.0</td>\n",
       "      <td>18:17</td>\n",
       "      <td>24</td>\n",
       "      <td>1</td>\n",
       "    </tr>\n",
       "    <tr>\n",
       "      <th>75</th>\n",
       "      <td>Control</td>\n",
       "      <td>2</td>\n",
       "      <td>PrL-16</td>\n",
       "      <td>mCherry</td>\n",
       "      <td>10</td>\n",
       "      <td>ON</td>\n",
       "      <td>20:03</td>\n",
       "      <td>20:20</td>\n",
       "      <td>17.0</td>\n",
       "      <td>20:27</td>\n",
       "      <td>24</td>\n",
       "      <td>1</td>\n",
       "    </tr>\n",
       "  </tbody>\n",
       "</table>\n",
       "</div>"
      ],
      "text/plain": [
       "      Group  Cohort MouseID    Virus  Trial Laser  Start  \\\n",
       "67  Control       2  PrL-16  mCherry      2    ON   2:18   \n",
       "68  Control       2  PrL-16  mCherry      3   OFF   4:33   \n",
       "69  Control       2  PrL-16  mCherry      4    ON   6:41   \n",
       "70  Control       2  PrL-16  mCherry      5   OFF   9:06   \n",
       "71  Control       2  PrL-16  mCherry      6    ON  11:15   \n",
       "73  Control       2  PrL-16  mCherry      8    ON  15:38   \n",
       "74  Control       2  PrL-16  mCherry      9   OFF  17:53   \n",
       "75  Control       2  PrL-16  mCherry     10    ON  20:03   \n",
       "\n",
       "   Time_Latency_Contact_s  Latency_Contact_s Time_Latency_Retrieve_s  \\\n",
       "67                   2:40               22.0                    2:48   \n",
       "68                   4:40                7.0                    4:45   \n",
       "69                   6:54               13.0                    6:59   \n",
       "70                   9:24               18.0                    9:29   \n",
       "71                  12:00               45.0                   12:08   \n",
       "73                  15:45                7.0                   15:48   \n",
       "74                  18:08               15.0                   18:17   \n",
       "75                  20:20               17.0                   20:27   \n",
       "\n",
       "    Latency_Retrieve_s  Retrieved  \n",
       "67                  30          1  \n",
       "68                  12          1  \n",
       "69                  18          1  \n",
       "70                  13          1  \n",
       "71                  53          1  \n",
       "73                  10          1  \n",
       "74                  24          1  \n",
       "75                  24          1  "
      ]
     },
     "execution_count": 137,
     "metadata": {},
     "output_type": "execute_result"
    },
    {
     "data": {
      "application/javascript": [
       "\n",
       "            setTimeout(function() {\n",
       "                var nbb_cell_id = 137;\n",
       "                var nbb_unformatted_code = \"curr_mouse_df = experiment[\\n    (experiment.MouseID == CURRENT_MICE)\\n    & (experiment.Time_Latency_Contact_s != \\\"NO\\\")\\n    & (experiment.Time_Latency_Retrieve_s != \\\"NO\\\")\\n]\\ncurr_mouse_df\";\n",
       "                var nbb_formatted_code = \"curr_mouse_df = experiment[\\n    (experiment.MouseID == CURRENT_MICE)\\n    & (experiment.Time_Latency_Contact_s != \\\"NO\\\")\\n    & (experiment.Time_Latency_Retrieve_s != \\\"NO\\\")\\n]\\ncurr_mouse_df\";\n",
       "                var nbb_cells = Jupyter.notebook.get_cells();\n",
       "                for (var i = 0; i < nbb_cells.length; ++i) {\n",
       "                    if (nbb_cells[i].input_prompt_number == nbb_cell_id) {\n",
       "                        if (nbb_cells[i].get_text() == nbb_unformatted_code) {\n",
       "                             nbb_cells[i].set_text(nbb_formatted_code);\n",
       "                        }\n",
       "                        break;\n",
       "                    }\n",
       "                }\n",
       "            }, 500);\n",
       "            "
      ],
      "text/plain": [
       "<IPython.core.display.Javascript object>"
      ]
     },
     "metadata": {},
     "output_type": "display_data"
    },
    {
     "data": {
      "application/javascript": [
       "\n",
       "            setTimeout(function() {\n",
       "                var nbb_cell_id = 137;\n",
       "                var nbb_unformatted_code = \"curr_mouse_df = experiment[\\n    (experiment.MouseID == CURRENT_MICE)\\n    & (experiment.Time_Latency_Contact_s != \\\"NO\\\")\\n    & (experiment.Time_Latency_Retrieve_s != \\\"NO\\\")\\n]\\ncurr_mouse_df\";\n",
       "                var nbb_formatted_code = \"curr_mouse_df = experiment[\\n    (experiment.MouseID == CURRENT_MICE)\\n    & (experiment.Time_Latency_Contact_s != \\\"NO\\\")\\n    & (experiment.Time_Latency_Retrieve_s != \\\"NO\\\")\\n]\\ncurr_mouse_df\";\n",
       "                var nbb_cells = Jupyter.notebook.get_cells();\n",
       "                for (var i = 0; i < nbb_cells.length; ++i) {\n",
       "                    if (nbb_cells[i].input_prompt_number == nbb_cell_id) {\n",
       "                        if (nbb_cells[i].get_text() == nbb_unformatted_code) {\n",
       "                             nbb_cells[i].set_text(nbb_formatted_code);\n",
       "                        }\n",
       "                        break;\n",
       "                    }\n",
       "                }\n",
       "            }, 500);\n",
       "            "
      ],
      "text/plain": [
       "<IPython.core.display.Javascript object>"
      ]
     },
     "metadata": {},
     "output_type": "display_data"
    },
    {
     "data": {
      "application/javascript": [
       "\n",
       "            setTimeout(function() {\n",
       "                var nbb_cell_id = 137;\n",
       "                var nbb_unformatted_code = \"curr_mouse_df = experiment[\\n    (experiment.MouseID == CURRENT_MICE)\\n    & (experiment.Time_Latency_Contact_s != \\\"NO\\\")\\n    & (experiment.Time_Latency_Retrieve_s != \\\"NO\\\")\\n]\\ncurr_mouse_df\";\n",
       "                var nbb_formatted_code = \"curr_mouse_df = experiment[\\n    (experiment.MouseID == CURRENT_MICE)\\n    & (experiment.Time_Latency_Contact_s != \\\"NO\\\")\\n    & (experiment.Time_Latency_Retrieve_s != \\\"NO\\\")\\n]\\ncurr_mouse_df\";\n",
       "                var nbb_cells = Jupyter.notebook.get_cells();\n",
       "                for (var i = 0; i < nbb_cells.length; ++i) {\n",
       "                    if (nbb_cells[i].input_prompt_number == nbb_cell_id) {\n",
       "                        if (nbb_cells[i].get_text() == nbb_unformatted_code) {\n",
       "                             nbb_cells[i].set_text(nbb_formatted_code);\n",
       "                        }\n",
       "                        break;\n",
       "                    }\n",
       "                }\n",
       "            }, 500);\n",
       "            "
      ],
      "text/plain": [
       "<IPython.core.display.Javascript object>"
      ]
     },
     "metadata": {},
     "output_type": "display_data"
    }
   ],
   "source": [
    "curr_mouse_df = experiment[\n",
    "    (experiment.MouseID == CURRENT_MICE)\n",
    "    & (experiment.Time_Latency_Contact_s != \"NO\")\n",
    "    & (experiment.Time_Latency_Retrieve_s != \"NO\")\n",
    "]\n",
    "curr_mouse_df"
   ]
  },
  {
   "cell_type": "code",
   "execution_count": 152,
   "metadata": {},
   "outputs": [
    {
     "data": {
      "application/javascript": [
       "\n",
       "            setTimeout(function() {\n",
       "                var nbb_cell_id = 152;\n",
       "                var nbb_unformatted_code = \"def create_pup_dataset(pup_images: int):\\n    START_PUP_CAPTURE_THRESH = 1\\n    END_PUP_CAPTURE_THRESH = 2\\n\\n    min_trial = curr_mouse_df.head(1).Trial.item()\\n    max_trial = curr_mouse_df.tail(1).Trial.item()\\n\\n    trials_done = []\\n    all_possible_trials = list(curr_mouse_df.Trial)\\n    images_recorded = 0\\n\\n    while images_recorded < pup_images:\\n\\n        trial = random.randint(min_trial, max_trial)\\n        trial_row = curr_mouse_df.loc[curr_mouse_df.Trial == trial]\\n\\n        if len(trials_done) == len(curr_mouse_df):\\n            print(\\\"Insufficient contact group images...\\\")\\n            break\\n        if (trial not in trials_done) and (trial in all_possible_trials):\\n            trial_row = curr_mouse_df[curr_mouse_df.Trial == trial]\\n\\n            start_time = str(trial_row.Start.item())\\n            end_time = str(trial_row.Time_Latency_Contact_s.item())\\n\\n            start_seconds = utils.time_to_sec(start_time) + START_PUP_CAPTURE_THRESH\\n            end_seconds = utils.time_to_sec(end_time) - END_PUP_CAPTURE_THRESH\\n            diff_seconds = end_seconds - start_seconds\\n\\n            future_number_of_images = images_recorded + diff_seconds\\n            # Stop recording excess number of images.\\n            if future_number_of_images > pup_images:\\n                end_seconds = start_seconds + (pup_images - images_recorded)\\n                diff_seconds = end_seconds - start_seconds\\n\\n            print(\\n                f\\\"Starts at {start_seconds} seconds and end at {end_seconds} seconds of interval {diff_seconds} seconds\\\"\\n            )\\n            create_dataset_pipeline(start_seconds, end_seconds, \\\"child-mice\\\", False)\\n\\n            images_recorded += diff_seconds\\n\\n            trials_done.append(trial)  # append unique trials\\n    split_train_test(\\\"child-mice\\\", 0.8)\\n\\n    train_size = len(os.listdir(f\\\"{path_to_data}/train/child-mice\\\"))\\n    test_size = len(os.listdir(f\\\"{path_to_data}/test/child-mice\\\"))\\n\\n    print(\\n        f\\\"Saved all {images_recorded} child image files and train has {train_size} pictures and test has {test_size} pictures!\\\"\\n    )\";\n",
       "                var nbb_formatted_code = \"def create_pup_dataset(pup_images: int):\\n    START_PUP_CAPTURE_THRESH = 1\\n    END_PUP_CAPTURE_THRESH = 2\\n\\n    min_trial = curr_mouse_df.head(1).Trial.item()\\n    max_trial = curr_mouse_df.tail(1).Trial.item()\\n\\n    trials_done = []\\n    all_possible_trials = list(curr_mouse_df.Trial)\\n    images_recorded = 0\\n\\n    while images_recorded < pup_images:\\n\\n        trial = random.randint(min_trial, max_trial)\\n        trial_row = curr_mouse_df.loc[curr_mouse_df.Trial == trial]\\n\\n        if len(trials_done) == len(curr_mouse_df):\\n            print(\\\"Insufficient contact group images...\\\")\\n            break\\n        if (trial not in trials_done) and (trial in all_possible_trials):\\n            trial_row = curr_mouse_df[curr_mouse_df.Trial == trial]\\n\\n            start_time = str(trial_row.Start.item())\\n            end_time = str(trial_row.Time_Latency_Contact_s.item())\\n\\n            start_seconds = utils.time_to_sec(start_time) + START_PUP_CAPTURE_THRESH\\n            end_seconds = utils.time_to_sec(end_time) - END_PUP_CAPTURE_THRESH\\n            diff_seconds = end_seconds - start_seconds\\n\\n            future_number_of_images = images_recorded + diff_seconds\\n            # Stop recording excess number of images.\\n            if future_number_of_images > pup_images:\\n                end_seconds = start_seconds + (pup_images - images_recorded)\\n                diff_seconds = end_seconds - start_seconds\\n\\n            print(\\n                f\\\"Starts at {start_seconds} seconds and end at {end_seconds} seconds of interval {diff_seconds} seconds\\\"\\n            )\\n            create_dataset_pipeline(start_seconds, end_seconds, \\\"child-mice\\\", False)\\n\\n            images_recorded += diff_seconds\\n\\n            trials_done.append(trial)  # append unique trials\\n    split_train_test(\\\"child-mice\\\", 0.8)\\n\\n    train_size = len(os.listdir(f\\\"{path_to_data}/train/child-mice\\\"))\\n    test_size = len(os.listdir(f\\\"{path_to_data}/test/child-mice\\\"))\\n\\n    print(\\n        f\\\"Saved all {images_recorded} child image files and train has {train_size} pictures and test has {test_size} pictures!\\\"\\n    )\";\n",
       "                var nbb_cells = Jupyter.notebook.get_cells();\n",
       "                for (var i = 0; i < nbb_cells.length; ++i) {\n",
       "                    if (nbb_cells[i].input_prompt_number == nbb_cell_id) {\n",
       "                        if (nbb_cells[i].get_text() == nbb_unformatted_code) {\n",
       "                             nbb_cells[i].set_text(nbb_formatted_code);\n",
       "                        }\n",
       "                        break;\n",
       "                    }\n",
       "                }\n",
       "            }, 500);\n",
       "            "
      ],
      "text/plain": [
       "<IPython.core.display.Javascript object>"
      ]
     },
     "metadata": {},
     "output_type": "display_data"
    },
    {
     "data": {
      "application/javascript": [
       "\n",
       "            setTimeout(function() {\n",
       "                var nbb_cell_id = 152;\n",
       "                var nbb_unformatted_code = \"def create_pup_dataset(pup_images: int):\\n    START_PUP_CAPTURE_THRESH = 1\\n    END_PUP_CAPTURE_THRESH = 2\\n\\n    min_trial = curr_mouse_df.head(1).Trial.item()\\n    max_trial = curr_mouse_df.tail(1).Trial.item()\\n\\n    trials_done = []\\n    all_possible_trials = list(curr_mouse_df.Trial)\\n    images_recorded = 0\\n\\n    while images_recorded < pup_images:\\n\\n        trial = random.randint(min_trial, max_trial)\\n        trial_row = curr_mouse_df.loc[curr_mouse_df.Trial == trial]\\n\\n        if len(trials_done) == len(curr_mouse_df):\\n            print(\\\"Insufficient contact group images...\\\")\\n            break\\n        if (trial not in trials_done) and (trial in all_possible_trials):\\n            trial_row = curr_mouse_df[curr_mouse_df.Trial == trial]\\n\\n            start_time = str(trial_row.Start.item())\\n            end_time = str(trial_row.Time_Latency_Contact_s.item())\\n\\n            start_seconds = utils.time_to_sec(start_time) + START_PUP_CAPTURE_THRESH\\n            end_seconds = utils.time_to_sec(end_time) - END_PUP_CAPTURE_THRESH\\n            diff_seconds = end_seconds - start_seconds\\n\\n            future_number_of_images = images_recorded + diff_seconds\\n            # Stop recording excess number of images.\\n            if future_number_of_images > pup_images:\\n                end_seconds = start_seconds + (pup_images - images_recorded)\\n                diff_seconds = end_seconds - start_seconds\\n\\n            print(\\n                f\\\"Starts at {start_seconds} seconds and end at {end_seconds} seconds of interval {diff_seconds} seconds\\\"\\n            )\\n            create_dataset_pipeline(start_seconds, end_seconds, \\\"child-mice\\\", False)\\n\\n            images_recorded += diff_seconds\\n\\n            trials_done.append(trial)  # append unique trials\\n    split_train_test(\\\"child-mice\\\", 0.8)\\n\\n    train_size = len(os.listdir(f\\\"{path_to_data}/train/child-mice\\\"))\\n    test_size = len(os.listdir(f\\\"{path_to_data}/test/child-mice\\\"))\\n\\n    print(\\n        f\\\"Saved all {images_recorded} child image files and train has {train_size} pictures and test has {test_size} pictures!\\\"\\n    )\";\n",
       "                var nbb_formatted_code = \"def create_pup_dataset(pup_images: int):\\n    START_PUP_CAPTURE_THRESH = 1\\n    END_PUP_CAPTURE_THRESH = 2\\n\\n    min_trial = curr_mouse_df.head(1).Trial.item()\\n    max_trial = curr_mouse_df.tail(1).Trial.item()\\n\\n    trials_done = []\\n    all_possible_trials = list(curr_mouse_df.Trial)\\n    images_recorded = 0\\n\\n    while images_recorded < pup_images:\\n\\n        trial = random.randint(min_trial, max_trial)\\n        trial_row = curr_mouse_df.loc[curr_mouse_df.Trial == trial]\\n\\n        if len(trials_done) == len(curr_mouse_df):\\n            print(\\\"Insufficient contact group images...\\\")\\n            break\\n        if (trial not in trials_done) and (trial in all_possible_trials):\\n            trial_row = curr_mouse_df[curr_mouse_df.Trial == trial]\\n\\n            start_time = str(trial_row.Start.item())\\n            end_time = str(trial_row.Time_Latency_Contact_s.item())\\n\\n            start_seconds = utils.time_to_sec(start_time) + START_PUP_CAPTURE_THRESH\\n            end_seconds = utils.time_to_sec(end_time) - END_PUP_CAPTURE_THRESH\\n            diff_seconds = end_seconds - start_seconds\\n\\n            future_number_of_images = images_recorded + diff_seconds\\n            # Stop recording excess number of images.\\n            if future_number_of_images > pup_images:\\n                end_seconds = start_seconds + (pup_images - images_recorded)\\n                diff_seconds = end_seconds - start_seconds\\n\\n            print(\\n                f\\\"Starts at {start_seconds} seconds and end at {end_seconds} seconds of interval {diff_seconds} seconds\\\"\\n            )\\n            create_dataset_pipeline(start_seconds, end_seconds, \\\"child-mice\\\", False)\\n\\n            images_recorded += diff_seconds\\n\\n            trials_done.append(trial)  # append unique trials\\n    split_train_test(\\\"child-mice\\\", 0.8)\\n\\n    train_size = len(os.listdir(f\\\"{path_to_data}/train/child-mice\\\"))\\n    test_size = len(os.listdir(f\\\"{path_to_data}/test/child-mice\\\"))\\n\\n    print(\\n        f\\\"Saved all {images_recorded} child image files and train has {train_size} pictures and test has {test_size} pictures!\\\"\\n    )\";\n",
       "                var nbb_cells = Jupyter.notebook.get_cells();\n",
       "                for (var i = 0; i < nbb_cells.length; ++i) {\n",
       "                    if (nbb_cells[i].input_prompt_number == nbb_cell_id) {\n",
       "                        if (nbb_cells[i].get_text() == nbb_unformatted_code) {\n",
       "                             nbb_cells[i].set_text(nbb_formatted_code);\n",
       "                        }\n",
       "                        break;\n",
       "                    }\n",
       "                }\n",
       "            }, 500);\n",
       "            "
      ],
      "text/plain": [
       "<IPython.core.display.Javascript object>"
      ]
     },
     "metadata": {},
     "output_type": "display_data"
    },
    {
     "data": {
      "application/javascript": [
       "\n",
       "            setTimeout(function() {\n",
       "                var nbb_cell_id = 152;\n",
       "                var nbb_unformatted_code = \"def create_pup_dataset(pup_images: int):\\n    START_PUP_CAPTURE_THRESH = 1\\n    END_PUP_CAPTURE_THRESH = 2\\n\\n    min_trial = curr_mouse_df.head(1).Trial.item()\\n    max_trial = curr_mouse_df.tail(1).Trial.item()\\n\\n    trials_done = []\\n    all_possible_trials = list(curr_mouse_df.Trial)\\n    images_recorded = 0\\n\\n    while images_recorded < pup_images:\\n\\n        trial = random.randint(min_trial, max_trial)\\n        trial_row = curr_mouse_df.loc[curr_mouse_df.Trial == trial]\\n\\n        if len(trials_done) == len(curr_mouse_df):\\n            print(\\\"Insufficient contact group images...\\\")\\n            break\\n        if (trial not in trials_done) and (trial in all_possible_trials):\\n            trial_row = curr_mouse_df[curr_mouse_df.Trial == trial]\\n\\n            start_time = str(trial_row.Start.item())\\n            end_time = str(trial_row.Time_Latency_Contact_s.item())\\n\\n            start_seconds = utils.time_to_sec(start_time) + START_PUP_CAPTURE_THRESH\\n            end_seconds = utils.time_to_sec(end_time) - END_PUP_CAPTURE_THRESH\\n            diff_seconds = end_seconds - start_seconds\\n\\n            future_number_of_images = images_recorded + diff_seconds\\n            # Stop recording excess number of images.\\n            if future_number_of_images > pup_images:\\n                end_seconds = start_seconds + (pup_images - images_recorded)\\n                diff_seconds = end_seconds - start_seconds\\n\\n            print(\\n                f\\\"Starts at {start_seconds} seconds and end at {end_seconds} seconds of interval {diff_seconds} seconds\\\"\\n            )\\n            create_dataset_pipeline(start_seconds, end_seconds, \\\"child-mice\\\", False)\\n\\n            images_recorded += diff_seconds\\n\\n            trials_done.append(trial)  # append unique trials\\n    split_train_test(\\\"child-mice\\\", 0.8)\\n\\n    train_size = len(os.listdir(f\\\"{path_to_data}/train/child-mice\\\"))\\n    test_size = len(os.listdir(f\\\"{path_to_data}/test/child-mice\\\"))\\n\\n    print(\\n        f\\\"Saved all {images_recorded} child image files and train has {train_size} pictures and test has {test_size} pictures!\\\"\\n    )\";\n",
       "                var nbb_formatted_code = \"def create_pup_dataset(pup_images: int):\\n    START_PUP_CAPTURE_THRESH = 1\\n    END_PUP_CAPTURE_THRESH = 2\\n\\n    min_trial = curr_mouse_df.head(1).Trial.item()\\n    max_trial = curr_mouse_df.tail(1).Trial.item()\\n\\n    trials_done = []\\n    all_possible_trials = list(curr_mouse_df.Trial)\\n    images_recorded = 0\\n\\n    while images_recorded < pup_images:\\n\\n        trial = random.randint(min_trial, max_trial)\\n        trial_row = curr_mouse_df.loc[curr_mouse_df.Trial == trial]\\n\\n        if len(trials_done) == len(curr_mouse_df):\\n            print(\\\"Insufficient contact group images...\\\")\\n            break\\n        if (trial not in trials_done) and (trial in all_possible_trials):\\n            trial_row = curr_mouse_df[curr_mouse_df.Trial == trial]\\n\\n            start_time = str(trial_row.Start.item())\\n            end_time = str(trial_row.Time_Latency_Contact_s.item())\\n\\n            start_seconds = utils.time_to_sec(start_time) + START_PUP_CAPTURE_THRESH\\n            end_seconds = utils.time_to_sec(end_time) - END_PUP_CAPTURE_THRESH\\n            diff_seconds = end_seconds - start_seconds\\n\\n            future_number_of_images = images_recorded + diff_seconds\\n            # Stop recording excess number of images.\\n            if future_number_of_images > pup_images:\\n                end_seconds = start_seconds + (pup_images - images_recorded)\\n                diff_seconds = end_seconds - start_seconds\\n\\n            print(\\n                f\\\"Starts at {start_seconds} seconds and end at {end_seconds} seconds of interval {diff_seconds} seconds\\\"\\n            )\\n            create_dataset_pipeline(start_seconds, end_seconds, \\\"child-mice\\\", False)\\n\\n            images_recorded += diff_seconds\\n\\n            trials_done.append(trial)  # append unique trials\\n    split_train_test(\\\"child-mice\\\", 0.8)\\n\\n    train_size = len(os.listdir(f\\\"{path_to_data}/train/child-mice\\\"))\\n    test_size = len(os.listdir(f\\\"{path_to_data}/test/child-mice\\\"))\\n\\n    print(\\n        f\\\"Saved all {images_recorded} child image files and train has {train_size} pictures and test has {test_size} pictures!\\\"\\n    )\";\n",
       "                var nbb_cells = Jupyter.notebook.get_cells();\n",
       "                for (var i = 0; i < nbb_cells.length; ++i) {\n",
       "                    if (nbb_cells[i].input_prompt_number == nbb_cell_id) {\n",
       "                        if (nbb_cells[i].get_text() == nbb_unformatted_code) {\n",
       "                             nbb_cells[i].set_text(nbb_formatted_code);\n",
       "                        }\n",
       "                        break;\n",
       "                    }\n",
       "                }\n",
       "            }, 500);\n",
       "            "
      ],
      "text/plain": [
       "<IPython.core.display.Javascript object>"
      ]
     },
     "metadata": {},
     "output_type": "display_data"
    }
   ],
   "source": [
    "def create_pup_dataset(pup_images: int):\n",
    "    START_PUP_CAPTURE_THRESH = 2\n",
    "    END_PUP_CAPTURE_THRESH = 3\n",
    "\n",
    "    min_trial = curr_mouse_df.head(1).Trial.item()\n",
    "    max_trial = curr_mouse_df.tail(1).Trial.item()\n",
    "\n",
    "    trials_done = []\n",
    "    all_possible_trials = list(curr_mouse_df.Trial)\n",
    "    images_recorded = 0\n",
    "\n",
    "    while images_recorded < pup_images:\n",
    "\n",
    "        trial = random.randint(min_trial, max_trial)\n",
    "        trial_row = curr_mouse_df.loc[curr_mouse_df.Trial == trial]\n",
    "\n",
    "        if len(trials_done) == len(curr_mouse_df):\n",
    "            print(\"Insufficient contact group images...\")\n",
    "            break\n",
    "        if (trial not in trials_done) and (trial in all_possible_trials):\n",
    "            trial_row = curr_mouse_df[curr_mouse_df.Trial == trial]\n",
    "\n",
    "            start_time = str(trial_row.Start.item())\n",
    "            end_time = str(trial_row.Time_Latency_Contact_s.item())\n",
    "\n",
    "            start_seconds = utils.time_to_sec(start_time) + START_PUP_CAPTURE_THRESH\n",
    "            end_seconds = utils.time_to_sec(end_time) - END_PUP_CAPTURE_THRESH\n",
    "            diff_seconds = end_seconds - start_seconds\n",
    "\n",
    "            future_number_of_images = images_recorded + diff_seconds\n",
    "            # Stop recording excess number of images.\n",
    "            if future_number_of_images > pup_images:\n",
    "                end_seconds = start_seconds + (pup_images - images_recorded)\n",
    "                diff_seconds = end_seconds - start_seconds\n",
    "\n",
    "            print(\n",
    "                f\"Starts at {start_seconds} seconds and end at {end_seconds} seconds of interval {diff_seconds} seconds\"\n",
    "            )\n",
    "            create_dataset_pipeline(start_seconds, end_seconds, \"child-mice\", False)\n",
    "\n",
    "            images_recorded += diff_seconds\n",
    "\n",
    "            trials_done.append(trial)  # append unique trials\n",
    "    split_train_test(\"child-mice\", 0.8)\n",
    "\n",
    "    train_size = len(os.listdir(f\"{path_to_data}/train/child-mice\"))\n",
    "    test_size = len(os.listdir(f\"{path_to_data}/test/child-mice\"))\n",
    "\n",
    "    print(\n",
    "        f\"Saved all {images_recorded} child image files and train has {train_size} pictures and test has {test_size} pictures!\"\n",
    "    )"
   ]
  },
  {
   "cell_type": "code",
   "execution_count": 156,
   "metadata": {},
   "outputs": [
    {
     "data": {
      "application/javascript": [
       "\n",
       "            setTimeout(function() {\n",
       "                var nbb_cell_id = 156;\n",
       "                var nbb_unformatted_code = \"def create_final_parent_pup_dataset(images: int, create_parent: bool, create_child: bool):\\n    try:\\n        if create_child:\\n            utils.remove_all_files(f\\\"{path_to_data}/train/child-mice\\\")\\n            utils.remove_all_files(f\\\"{path_to_data}/test/child-mice\\\")\\n            create_pup_dataset(images)\\n        if create_parent:\\n            utils.remove_all_files(f\\\"{path_to_data}/train/parent-mice\\\")\\n            utils.remove_all_files(f\\\"{path_to_data}/test/parent-mice\\\")\\n            create_parent_dataset(images)\\n    except:\\n        var = traceback.format_exc()\\n        print(var)\";\n",
       "                var nbb_formatted_code = \"def create_final_parent_pup_dataset(\\n    images: int, create_parent: bool, create_child: bool\\n):\\n    try:\\n        if create_child:\\n            utils.remove_all_files(f\\\"{path_to_data}/train/child-mice\\\")\\n            utils.remove_all_files(f\\\"{path_to_data}/test/child-mice\\\")\\n            create_pup_dataset(images)\\n        if create_parent:\\n            utils.remove_all_files(f\\\"{path_to_data}/train/parent-mice\\\")\\n            utils.remove_all_files(f\\\"{path_to_data}/test/parent-mice\\\")\\n            create_parent_dataset(images)\\n    except:\\n        var = traceback.format_exc()\\n        print(var)\";\n",
       "                var nbb_cells = Jupyter.notebook.get_cells();\n",
       "                for (var i = 0; i < nbb_cells.length; ++i) {\n",
       "                    if (nbb_cells[i].input_prompt_number == nbb_cell_id) {\n",
       "                        if (nbb_cells[i].get_text() == nbb_unformatted_code) {\n",
       "                             nbb_cells[i].set_text(nbb_formatted_code);\n",
       "                        }\n",
       "                        break;\n",
       "                    }\n",
       "                }\n",
       "            }, 500);\n",
       "            "
      ],
      "text/plain": [
       "<IPython.core.display.Javascript object>"
      ]
     },
     "metadata": {},
     "output_type": "display_data"
    },
    {
     "data": {
      "application/javascript": [
       "\n",
       "            setTimeout(function() {\n",
       "                var nbb_cell_id = 156;\n",
       "                var nbb_unformatted_code = \"def create_final_parent_pup_dataset(images: int, create_parent: bool, create_child: bool):\\n    try:\\n        if create_child:\\n            utils.remove_all_files(f\\\"{path_to_data}/train/child-mice\\\")\\n            utils.remove_all_files(f\\\"{path_to_data}/test/child-mice\\\")\\n            create_pup_dataset(images)\\n        if create_parent:\\n            utils.remove_all_files(f\\\"{path_to_data}/train/parent-mice\\\")\\n            utils.remove_all_files(f\\\"{path_to_data}/test/parent-mice\\\")\\n            create_parent_dataset(images)\\n    except:\\n        var = traceback.format_exc()\\n        print(var)\";\n",
       "                var nbb_formatted_code = \"def create_final_parent_pup_dataset(\\n    images: int, create_parent: bool, create_child: bool\\n):\\n    try:\\n        if create_child:\\n            utils.remove_all_files(f\\\"{path_to_data}/train/child-mice\\\")\\n            utils.remove_all_files(f\\\"{path_to_data}/test/child-mice\\\")\\n            create_pup_dataset(images)\\n        if create_parent:\\n            utils.remove_all_files(f\\\"{path_to_data}/train/parent-mice\\\")\\n            utils.remove_all_files(f\\\"{path_to_data}/test/parent-mice\\\")\\n            create_parent_dataset(images)\\n    except:\\n        var = traceback.format_exc()\\n        print(var)\";\n",
       "                var nbb_cells = Jupyter.notebook.get_cells();\n",
       "                for (var i = 0; i < nbb_cells.length; ++i) {\n",
       "                    if (nbb_cells[i].input_prompt_number == nbb_cell_id) {\n",
       "                        if (nbb_cells[i].get_text() == nbb_unformatted_code) {\n",
       "                             nbb_cells[i].set_text(nbb_formatted_code);\n",
       "                        }\n",
       "                        break;\n",
       "                    }\n",
       "                }\n",
       "            }, 500);\n",
       "            "
      ],
      "text/plain": [
       "<IPython.core.display.Javascript object>"
      ]
     },
     "metadata": {},
     "output_type": "display_data"
    },
    {
     "data": {
      "application/javascript": [
       "\n",
       "            setTimeout(function() {\n",
       "                var nbb_cell_id = 156;\n",
       "                var nbb_unformatted_code = \"def create_final_parent_pup_dataset(images: int, create_parent: bool, create_child: bool):\\n    try:\\n        if create_child:\\n            utils.remove_all_files(f\\\"{path_to_data}/train/child-mice\\\")\\n            utils.remove_all_files(f\\\"{path_to_data}/test/child-mice\\\")\\n            create_pup_dataset(images)\\n        if create_parent:\\n            utils.remove_all_files(f\\\"{path_to_data}/train/parent-mice\\\")\\n            utils.remove_all_files(f\\\"{path_to_data}/test/parent-mice\\\")\\n            create_parent_dataset(images)\\n    except:\\n        var = traceback.format_exc()\\n        print(var)\";\n",
       "                var nbb_formatted_code = \"def create_final_parent_pup_dataset(\\n    images: int, create_parent: bool, create_child: bool\\n):\\n    try:\\n        if create_child:\\n            utils.remove_all_files(f\\\"{path_to_data}/train/child-mice\\\")\\n            utils.remove_all_files(f\\\"{path_to_data}/test/child-mice\\\")\\n            create_pup_dataset(images)\\n        if create_parent:\\n            utils.remove_all_files(f\\\"{path_to_data}/train/parent-mice\\\")\\n            utils.remove_all_files(f\\\"{path_to_data}/test/parent-mice\\\")\\n            create_parent_dataset(images)\\n    except:\\n        var = traceback.format_exc()\\n        print(var)\";\n",
       "                var nbb_cells = Jupyter.notebook.get_cells();\n",
       "                for (var i = 0; i < nbb_cells.length; ++i) {\n",
       "                    if (nbb_cells[i].input_prompt_number == nbb_cell_id) {\n",
       "                        if (nbb_cells[i].get_text() == nbb_unformatted_code) {\n",
       "                             nbb_cells[i].set_text(nbb_formatted_code);\n",
       "                        }\n",
       "                        break;\n",
       "                    }\n",
       "                }\n",
       "            }, 500);\n",
       "            "
      ],
      "text/plain": [
       "<IPython.core.display.Javascript object>"
      ]
     },
     "metadata": {},
     "output_type": "display_data"
    },
    {
     "data": {
      "application/javascript": [
       "\n",
       "            setTimeout(function() {\n",
       "                var nbb_cell_id = 156;\n",
       "                var nbb_unformatted_code = \"def create_final_parent_pup_dataset(images: int, create_parent: bool, create_child: bool):\\n    try:\\n        if create_child:\\n            utils.remove_all_files(f\\\"{path_to_data}/train/child-mice\\\")\\n            utils.remove_all_files(f\\\"{path_to_data}/test/child-mice\\\")\\n            create_pup_dataset(images)\\n        if create_parent:\\n            utils.remove_all_files(f\\\"{path_to_data}/train/parent-mice\\\")\\n            utils.remove_all_files(f\\\"{path_to_data}/test/parent-mice\\\")\\n            create_parent_dataset(images)\\n    except:\\n        var = traceback.format_exc()\\n        print(var)\";\n",
       "                var nbb_formatted_code = \"def create_final_parent_pup_dataset(\\n    images: int, create_parent: bool, create_child: bool\\n):\\n    try:\\n        if create_child:\\n            utils.remove_all_files(f\\\"{path_to_data}/train/child-mice\\\")\\n            utils.remove_all_files(f\\\"{path_to_data}/test/child-mice\\\")\\n            create_pup_dataset(images)\\n        if create_parent:\\n            utils.remove_all_files(f\\\"{path_to_data}/train/parent-mice\\\")\\n            utils.remove_all_files(f\\\"{path_to_data}/test/parent-mice\\\")\\n            create_parent_dataset(images)\\n    except:\\n        var = traceback.format_exc()\\n        print(var)\";\n",
       "                var nbb_cells = Jupyter.notebook.get_cells();\n",
       "                for (var i = 0; i < nbb_cells.length; ++i) {\n",
       "                    if (nbb_cells[i].input_prompt_number == nbb_cell_id) {\n",
       "                        if (nbb_cells[i].get_text() == nbb_unformatted_code) {\n",
       "                             nbb_cells[i].set_text(nbb_formatted_code);\n",
       "                        }\n",
       "                        break;\n",
       "                    }\n",
       "                }\n",
       "            }, 500);\n",
       "            "
      ],
      "text/plain": [
       "<IPython.core.display.Javascript object>"
      ]
     },
     "metadata": {},
     "output_type": "display_data"
    },
    {
     "data": {
      "application/javascript": [
       "\n",
       "            setTimeout(function() {\n",
       "                var nbb_cell_id = 156;\n",
       "                var nbb_unformatted_code = \"def create_final_parent_pup_dataset(images: int, create_parent: bool, create_child: bool):\\n    try:\\n        if create_child:\\n            utils.remove_all_files(f\\\"{path_to_data}/train/child-mice\\\")\\n            utils.remove_all_files(f\\\"{path_to_data}/test/child-mice\\\")\\n            create_pup_dataset(images)\\n        if create_parent:\\n            utils.remove_all_files(f\\\"{path_to_data}/train/parent-mice\\\")\\n            utils.remove_all_files(f\\\"{path_to_data}/test/parent-mice\\\")\\n            create_parent_dataset(images)\\n    except:\\n        var = traceback.format_exc()\\n        print(var)\";\n",
       "                var nbb_formatted_code = \"def create_final_parent_pup_dataset(\\n    images: int, create_parent: bool, create_child: bool\\n):\\n    try:\\n        if create_child:\\n            utils.remove_all_files(f\\\"{path_to_data}/train/child-mice\\\")\\n            utils.remove_all_files(f\\\"{path_to_data}/test/child-mice\\\")\\n            create_pup_dataset(images)\\n        if create_parent:\\n            utils.remove_all_files(f\\\"{path_to_data}/train/parent-mice\\\")\\n            utils.remove_all_files(f\\\"{path_to_data}/test/parent-mice\\\")\\n            create_parent_dataset(images)\\n    except:\\n        var = traceback.format_exc()\\n        print(var)\";\n",
       "                var nbb_cells = Jupyter.notebook.get_cells();\n",
       "                for (var i = 0; i < nbb_cells.length; ++i) {\n",
       "                    if (nbb_cells[i].input_prompt_number == nbb_cell_id) {\n",
       "                        if (nbb_cells[i].get_text() == nbb_unformatted_code) {\n",
       "                             nbb_cells[i].set_text(nbb_formatted_code);\n",
       "                        }\n",
       "                        break;\n",
       "                    }\n",
       "                }\n",
       "            }, 500);\n",
       "            "
      ],
      "text/plain": [
       "<IPython.core.display.Javascript object>"
      ]
     },
     "metadata": {},
     "output_type": "display_data"
    }
   ],
   "source": [
    "def create_final_parent_pup_dataset(images: int, create_parent: bool, create_child: bool):\n",
    "    try:\n",
    "        if create_child:\n",
    "            utils.remove_all_files(f\"{path_to_data}/train/child-mice\")\n",
    "            utils.remove_all_files(f\"{path_to_data}/test/child-mice\")\n",
    "            create_pup_dataset(images)\n",
    "        if create_parent:\n",
    "            utils.remove_all_files(f\"{path_to_data}/train/parent-mice\")\n",
    "            utils.remove_all_files(f\"{path_to_data}/test/parent-mice\")\n",
    "            create_parent_dataset(images)\n",
    "    except:\n",
    "        var = traceback.format_exc()\n",
    "        print(var)\n"
   ]
  },
  {
   "cell_type": "code",
   "execution_count": 157,
   "metadata": {},
   "outputs": [
    {
     "name": "stdout",
     "output_type": "stream",
     "text": [
      "Starts at 547 seconds and end at 562 seconds of interval 15 seconds\n",
      "Saved image as PrL-16-f53c4bb3-a1b6-4eb0-853d-bd7c1faf7240 at timestamp 09:07\n",
      "Saved image as PrL-16-14b578cf-a09f-4bf3-ab37-a02ec0dcbd21 at timestamp 09:08\n",
      "Saved image as PrL-16-617e9cc5-ea1b-497c-8841-11ab5b3b8173 at timestamp 09:09\n",
      "Saved image as PrL-16-4504af9a-6f6b-4e7b-a34c-2957e0c0e606 at timestamp 09:10\n",
      "Saved image as PrL-16-b0ddb07e-71ca-4779-9484-bfa677022e4a at timestamp 09:11\n",
      "Saved image as PrL-16-672145d3-57e8-4ca6-b01b-e6362719ae0d at timestamp 09:12\n",
      "Saved image as PrL-16-8eb32417-7108-4bd2-aae7-b77dc1b5d44b at timestamp 09:13\n",
      "Saved image as PrL-16-16816d7a-b134-4cd4-9a95-67d26a1611b9 at timestamp 09:14\n",
      "Saved image as PrL-16-25a656bb-06ab-4102-adac-0a4238125ac5 at timestamp 09:15\n",
      "Saved image as PrL-16-4d2066ff-de63-439b-a0cd-b622e8ad9caa at timestamp 09:16\n",
      "Saved image as PrL-16-9d16f9bd-fda4-4afa-9125-6c3d835c7342 at timestamp 09:17\n",
      "Saved image as PrL-16-3eeeb4d9-4813-4a10-a5d5-08817dd5c484 at timestamp 09:18\n",
      "Saved image as PrL-16-840ae75c-9476-4470-a503-d6e459af7b36 at timestamp 09:19\n",
      "Saved image as PrL-16-62588749-d514-4f52-9d35-011d262c9558 at timestamp 09:20\n",
      "Saved image as PrL-16-42eff972-0f94-40bf-bff7-3263d6bbb2bd at timestamp 09:21\n",
      "Starts at 939 seconds and end at 943 seconds of interval 4 seconds\n",
      "Saved image as PrL-16-5a6d6efa-fff1-45a0-ae8d-95d840e014dc at timestamp 15:39\n",
      "Saved image as PrL-16-a55474c5-16ac-4dc4-b24c-7e9039f96840 at timestamp 15:40\n",
      "Saved image as PrL-16-ec6ac3ac-a530-4e7a-96f0-bf99c92e4dc0 at timestamp 15:41\n",
      "Saved image as PrL-16-284c42f0-8c45-4221-88b9-0a2257212077 at timestamp 15:42\n",
      "Starts at 1204 seconds and end at 1218 seconds of interval 14 seconds\n",
      "Saved image as PrL-16-1a89eded-96ba-452e-807a-081e2e3bd9be at timestamp 20:04\n",
      "Saved image as PrL-16-5cf20f0f-745d-436f-a2b8-1248f122e6ba at timestamp 20:05\n",
      "Saved image as PrL-16-6411c695-c95b-499b-b50e-2d5e1bb8eea5 at timestamp 20:06\n",
      "Saved image as PrL-16-d02c49c2-9d83-4737-abd1-33abc1abc00c at timestamp 20:07\n",
      "Saved image as PrL-16-240733fe-c3a2-4953-bca0-de994925fa4b at timestamp 20:08\n",
      "Saved image as PrL-16-4c48af96-12ef-4340-8df8-40b93b7a07e0 at timestamp 20:09\n",
      "Saved image as PrL-16-294e65b3-61c8-4500-a3f6-57d48d871544 at timestamp 20:10\n",
      "Saved image as PrL-16-aefac641-6676-4e98-a270-7f326078fc11 at timestamp 20:11\n",
      "Saved image as PrL-16-acc718f7-d6bc-4a78-9a95-5da4ecf87a75 at timestamp 20:12\n",
      "Saved image as PrL-16-639e6c7a-60f0-4913-8cef-d87f68555e5e at timestamp 20:13\n",
      "Saved image as PrL-16-a988740e-5c71-4dfb-a333-318a402b2c22 at timestamp 20:14\n",
      "Saved image as PrL-16-3abfac43-68fd-480b-b124-655ac36b5248 at timestamp 20:15\n",
      "Saved image as PrL-16-d6eb1268-6623-4de7-9caf-c23b9df1ab83 at timestamp 20:16\n",
      "Saved image as PrL-16-74f6e341-9be5-458c-a496-677fc127d370 at timestamp 20:17\n",
      "Starts at 274 seconds and end at 278 seconds of interval 4 seconds\n",
      "Saved image as PrL-16-a0622e71-217e-41f8-95c9-0e58220ecf67 at timestamp 04:34\n",
      "Saved image as PrL-16-2c52b14c-dbe3-46a3-996f-92e19acb5bce at timestamp 04:35\n",
      "Saved image as PrL-16-bab32404-18e2-4717-9e67-d7fbdd412df0 at timestamp 04:36\n",
      "Saved image as PrL-16-b83bacb8-de84-435d-b503-883f3afc66eb at timestamp 04:37\n",
      "Starts at 402 seconds and end at 405 seconds of interval 3 seconds\n",
      "Saved image as PrL-16-c7f2cf22-6b58-4b8d-8eaf-aea7ff495ad3 at timestamp 06:42\n",
      "Saved image as PrL-16-a99b9bd0-ab23-4977-9bdd-032c09b87034 at timestamp 06:43\n",
      "Saved image as PrL-16-7782dc67-51f7-41e4-9c08-9190157330b3 at timestamp 06:44\n",
      "Saved all 40 child image files and train has 32 pictures and test has 8 pictures!\n"
     ]
    },
    {
     "data": {
      "application/javascript": [
       "\n",
       "            setTimeout(function() {\n",
       "                var nbb_cell_id = 157;\n",
       "                var nbb_unformatted_code = \"create_final_parent_pup_dataset(40, create_parent=False,create_child=True)\";\n",
       "                var nbb_formatted_code = \"create_final_parent_pup_dataset(40, create_parent=False, create_child=True)\";\n",
       "                var nbb_cells = Jupyter.notebook.get_cells();\n",
       "                for (var i = 0; i < nbb_cells.length; ++i) {\n",
       "                    if (nbb_cells[i].input_prompt_number == nbb_cell_id) {\n",
       "                        if (nbb_cells[i].get_text() == nbb_unformatted_code) {\n",
       "                             nbb_cells[i].set_text(nbb_formatted_code);\n",
       "                        }\n",
       "                        break;\n",
       "                    }\n",
       "                }\n",
       "            }, 500);\n",
       "            "
      ],
      "text/plain": [
       "<IPython.core.display.Javascript object>"
      ]
     },
     "metadata": {},
     "output_type": "display_data"
    },
    {
     "data": {
      "application/javascript": [
       "\n",
       "            setTimeout(function() {\n",
       "                var nbb_cell_id = 157;\n",
       "                var nbb_unformatted_code = \"create_final_parent_pup_dataset(40, create_parent=False,create_child=True)\";\n",
       "                var nbb_formatted_code = \"create_final_parent_pup_dataset(40, create_parent=False, create_child=True)\";\n",
       "                var nbb_cells = Jupyter.notebook.get_cells();\n",
       "                for (var i = 0; i < nbb_cells.length; ++i) {\n",
       "                    if (nbb_cells[i].input_prompt_number == nbb_cell_id) {\n",
       "                        if (nbb_cells[i].get_text() == nbb_unformatted_code) {\n",
       "                             nbb_cells[i].set_text(nbb_formatted_code);\n",
       "                        }\n",
       "                        break;\n",
       "                    }\n",
       "                }\n",
       "            }, 500);\n",
       "            "
      ],
      "text/plain": [
       "<IPython.core.display.Javascript object>"
      ]
     },
     "metadata": {},
     "output_type": "display_data"
    },
    {
     "data": {
      "application/javascript": [
       "\n",
       "            setTimeout(function() {\n",
       "                var nbb_cell_id = 157;\n",
       "                var nbb_unformatted_code = \"create_final_parent_pup_dataset(40, create_parent=False,create_child=True)\";\n",
       "                var nbb_formatted_code = \"create_final_parent_pup_dataset(40, create_parent=False, create_child=True)\";\n",
       "                var nbb_cells = Jupyter.notebook.get_cells();\n",
       "                for (var i = 0; i < nbb_cells.length; ++i) {\n",
       "                    if (nbb_cells[i].input_prompt_number == nbb_cell_id) {\n",
       "                        if (nbb_cells[i].get_text() == nbb_unformatted_code) {\n",
       "                             nbb_cells[i].set_text(nbb_formatted_code);\n",
       "                        }\n",
       "                        break;\n",
       "                    }\n",
       "                }\n",
       "            }, 500);\n",
       "            "
      ],
      "text/plain": [
       "<IPython.core.display.Javascript object>"
      ]
     },
     "metadata": {},
     "output_type": "display_data"
    },
    {
     "data": {
      "application/javascript": [
       "\n",
       "            setTimeout(function() {\n",
       "                var nbb_cell_id = 157;\n",
       "                var nbb_unformatted_code = \"create_final_parent_pup_dataset(40, create_parent=False,create_child=True)\";\n",
       "                var nbb_formatted_code = \"create_final_parent_pup_dataset(40, create_parent=False, create_child=True)\";\n",
       "                var nbb_cells = Jupyter.notebook.get_cells();\n",
       "                for (var i = 0; i < nbb_cells.length; ++i) {\n",
       "                    if (nbb_cells[i].input_prompt_number == nbb_cell_id) {\n",
       "                        if (nbb_cells[i].get_text() == nbb_unformatted_code) {\n",
       "                             nbb_cells[i].set_text(nbb_formatted_code);\n",
       "                        }\n",
       "                        break;\n",
       "                    }\n",
       "                }\n",
       "            }, 500);\n",
       "            "
      ],
      "text/plain": [
       "<IPython.core.display.Javascript object>"
      ]
     },
     "metadata": {},
     "output_type": "display_data"
    },
    {
     "data": {
      "application/javascript": [
       "\n",
       "            setTimeout(function() {\n",
       "                var nbb_cell_id = 157;\n",
       "                var nbb_unformatted_code = \"create_final_parent_pup_dataset(40, create_parent=False,create_child=True)\";\n",
       "                var nbb_formatted_code = \"create_final_parent_pup_dataset(40, create_parent=False, create_child=True)\";\n",
       "                var nbb_cells = Jupyter.notebook.get_cells();\n",
       "                for (var i = 0; i < nbb_cells.length; ++i) {\n",
       "                    if (nbb_cells[i].input_prompt_number == nbb_cell_id) {\n",
       "                        if (nbb_cells[i].get_text() == nbb_unformatted_code) {\n",
       "                             nbb_cells[i].set_text(nbb_formatted_code);\n",
       "                        }\n",
       "                        break;\n",
       "                    }\n",
       "                }\n",
       "            }, 500);\n",
       "            "
      ],
      "text/plain": [
       "<IPython.core.display.Javascript object>"
      ]
     },
     "metadata": {},
     "output_type": "display_data"
    }
   ],
   "source": [
    "create_final_parent_pup_dataset(40, create_parent=False, create_child=True)"
   ]
  }
 ],
 "metadata": {
  "kernelspec": {
   "display_name": "Python deep-route",
   "language": "python",
   "name": "deep-route"
  },
  "language_info": {
   "codemirror_mode": {
    "name": "ipython",
    "version": 3
   },
   "file_extension": ".py",
   "mimetype": "text/x-python",
   "name": "python",
   "nbconvert_exporter": "python",
   "pygments_lexer": "ipython3",
   "version": "3.8.10"
  }
 },
 "nbformat": 4,
 "nbformat_minor": 4
}
