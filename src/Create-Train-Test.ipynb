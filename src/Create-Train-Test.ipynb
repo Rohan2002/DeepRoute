{
 "cells": [
  {
   "cell_type": "code",
   "execution_count": 158,
   "metadata": {},
   "outputs": [
    {
     "name": "stdout",
     "output_type": "stream",
     "text": [
      "The autoreload extension is already loaded. To reload it, use:\n",
      "  %reload_ext autoreload\n"
     ]
    },
    {
     "data": {
      "application/javascript": [
       "\n",
       "            setTimeout(function() {\n",
       "                var nbb_cell_id = 158;\n",
       "                var nbb_unformatted_code = \"import warnings\\n\\nwarnings.filterwarnings(\\\"ignore\\\")\\n\\nimport os\\nimport shutil\\nimport platform\\nimport cv2\\nimport pandas as pd\\nimport random\\nimport math\\nimport uuid\\nimport sys\\nimport traceback\\nimport utils\\n\\n%load_ext autoreload\\n%autoreload 2\\n\\n%reload_ext nb_black\\n%config IPCompleter.greedy=True\";\n",
       "                var nbb_formatted_code = \"import warnings\\n\\nwarnings.filterwarnings(\\\"ignore\\\")\\n\\nimport os\\nimport shutil\\nimport platform\\nimport cv2\\nimport pandas as pd\\nimport random\\nimport math\\nimport uuid\\nimport sys\\nimport traceback\\nimport utils\\n\\n%load_ext autoreload\\n%autoreload 2\\n\\n%reload_ext nb_black\\n%config IPCompleter.greedy=True\";\n",
       "                var nbb_cells = Jupyter.notebook.get_cells();\n",
       "                for (var i = 0; i < nbb_cells.length; ++i) {\n",
       "                    if (nbb_cells[i].input_prompt_number == nbb_cell_id) {\n",
       "                        if (nbb_cells[i].get_text() == nbb_unformatted_code) {\n",
       "                             nbb_cells[i].set_text(nbb_formatted_code);\n",
       "                        }\n",
       "                        break;\n",
       "                    }\n",
       "                }\n",
       "            }, 500);\n",
       "            "
      ],
      "text/plain": [
       "<IPython.core.display.Javascript object>"
      ]
     },
     "metadata": {},
     "output_type": "display_data"
    },
    {
     "data": {
      "application/javascript": [
       "\n",
       "            setTimeout(function() {\n",
       "                var nbb_cell_id = 158;\n",
       "                var nbb_unformatted_code = \"import warnings\\n\\nwarnings.filterwarnings(\\\"ignore\\\")\\n\\nimport os\\nimport shutil\\nimport platform\\nimport cv2\\nimport pandas as pd\\nimport random\\nimport math\\nimport uuid\\nimport sys\\nimport traceback\\nimport utils\\n\\n%load_ext autoreload\\n%autoreload 2\\n\\n%reload_ext nb_black\\n%config IPCompleter.greedy=True\";\n",
       "                var nbb_formatted_code = \"import warnings\\n\\nwarnings.filterwarnings(\\\"ignore\\\")\\n\\nimport os\\nimport shutil\\nimport platform\\nimport cv2\\nimport pandas as pd\\nimport random\\nimport math\\nimport uuid\\nimport sys\\nimport traceback\\nimport utils\\n\\n%load_ext autoreload\\n%autoreload 2\\n\\n%reload_ext nb_black\\n%config IPCompleter.greedy=True\";\n",
       "                var nbb_cells = Jupyter.notebook.get_cells();\n",
       "                for (var i = 0; i < nbb_cells.length; ++i) {\n",
       "                    if (nbb_cells[i].input_prompt_number == nbb_cell_id) {\n",
       "                        if (nbb_cells[i].get_text() == nbb_unformatted_code) {\n",
       "                             nbb_cells[i].set_text(nbb_formatted_code);\n",
       "                        }\n",
       "                        break;\n",
       "                    }\n",
       "                }\n",
       "            }, 500);\n",
       "            "
      ],
      "text/plain": [
       "<IPython.core.display.Javascript object>"
      ]
     },
     "metadata": {},
     "output_type": "display_data"
    },
    {
     "data": {
      "application/javascript": [
       "\n",
       "            setTimeout(function() {\n",
       "                var nbb_cell_id = 158;\n",
       "                var nbb_unformatted_code = \"import warnings\\n\\nwarnings.filterwarnings(\\\"ignore\\\")\\n\\nimport os\\nimport shutil\\nimport platform\\nimport cv2\\nimport pandas as pd\\nimport random\\nimport math\\nimport uuid\\nimport sys\\nimport traceback\\nimport utils\\n\\n%load_ext autoreload\\n%autoreload 2\\n\\n%reload_ext nb_black\\n%config IPCompleter.greedy=True\";\n",
       "                var nbb_formatted_code = \"import warnings\\n\\nwarnings.filterwarnings(\\\"ignore\\\")\\n\\nimport os\\nimport shutil\\nimport platform\\nimport cv2\\nimport pandas as pd\\nimport random\\nimport math\\nimport uuid\\nimport sys\\nimport traceback\\nimport utils\\n\\n%load_ext autoreload\\n%autoreload 2\\n\\n%reload_ext nb_black\\n%config IPCompleter.greedy=True\";\n",
       "                var nbb_cells = Jupyter.notebook.get_cells();\n",
       "                for (var i = 0; i < nbb_cells.length; ++i) {\n",
       "                    if (nbb_cells[i].input_prompt_number == nbb_cell_id) {\n",
       "                        if (nbb_cells[i].get_text() == nbb_unformatted_code) {\n",
       "                             nbb_cells[i].set_text(nbb_formatted_code);\n",
       "                        }\n",
       "                        break;\n",
       "                    }\n",
       "                }\n",
       "            }, 500);\n",
       "            "
      ],
      "text/plain": [
       "<IPython.core.display.Javascript object>"
      ]
     },
     "metadata": {},
     "output_type": "display_data"
    },
    {
     "data": {
      "application/javascript": [
       "\n",
       "            setTimeout(function() {\n",
       "                var nbb_cell_id = 158;\n",
       "                var nbb_unformatted_code = \"import warnings\\n\\nwarnings.filterwarnings(\\\"ignore\\\")\\n\\nimport os\\nimport shutil\\nimport platform\\nimport cv2\\nimport pandas as pd\\nimport random\\nimport math\\nimport uuid\\nimport sys\\nimport traceback\\nimport utils\\n\\n%load_ext autoreload\\n%autoreload 2\\n\\n%reload_ext nb_black\\n%config IPCompleter.greedy=True\";\n",
       "                var nbb_formatted_code = \"import warnings\\n\\nwarnings.filterwarnings(\\\"ignore\\\")\\n\\nimport os\\nimport shutil\\nimport platform\\nimport cv2\\nimport pandas as pd\\nimport random\\nimport math\\nimport uuid\\nimport sys\\nimport traceback\\nimport utils\\n\\n%load_ext autoreload\\n%autoreload 2\\n\\n%reload_ext nb_black\\n%config IPCompleter.greedy=True\";\n",
       "                var nbb_cells = Jupyter.notebook.get_cells();\n",
       "                for (var i = 0; i < nbb_cells.length; ++i) {\n",
       "                    if (nbb_cells[i].input_prompt_number == nbb_cell_id) {\n",
       "                        if (nbb_cells[i].get_text() == nbb_unformatted_code) {\n",
       "                             nbb_cells[i].set_text(nbb_formatted_code);\n",
       "                        }\n",
       "                        break;\n",
       "                    }\n",
       "                }\n",
       "            }, 500);\n",
       "            "
      ],
      "text/plain": [
       "<IPython.core.display.Javascript object>"
      ]
     },
     "metadata": {},
     "output_type": "display_data"
    },
    {
     "data": {
      "application/javascript": [
       "\n",
       "            setTimeout(function() {\n",
       "                var nbb_cell_id = 158;\n",
       "                var nbb_unformatted_code = \"import warnings\\n\\nwarnings.filterwarnings(\\\"ignore\\\")\\n\\nimport os\\nimport shutil\\nimport platform\\nimport cv2\\nimport pandas as pd\\nimport random\\nimport math\\nimport uuid\\nimport sys\\nimport traceback\\nimport utils\\n\\n%load_ext autoreload\\n%autoreload 2\\n\\n%reload_ext nb_black\\n%config IPCompleter.greedy=True\";\n",
       "                var nbb_formatted_code = \"import warnings\\n\\nwarnings.filterwarnings(\\\"ignore\\\")\\n\\nimport os\\nimport shutil\\nimport platform\\nimport cv2\\nimport pandas as pd\\nimport random\\nimport math\\nimport uuid\\nimport sys\\nimport traceback\\nimport utils\\n\\n%load_ext autoreload\\n%autoreload 2\\n\\n%reload_ext nb_black\\n%config IPCompleter.greedy=True\";\n",
       "                var nbb_cells = Jupyter.notebook.get_cells();\n",
       "                for (var i = 0; i < nbb_cells.length; ++i) {\n",
       "                    if (nbb_cells[i].input_prompt_number == nbb_cell_id) {\n",
       "                        if (nbb_cells[i].get_text() == nbb_unformatted_code) {\n",
       "                             nbb_cells[i].set_text(nbb_formatted_code);\n",
       "                        }\n",
       "                        break;\n",
       "                    }\n",
       "                }\n",
       "            }, 500);\n",
       "            "
      ],
      "text/plain": [
       "<IPython.core.display.Javascript object>"
      ]
     },
     "metadata": {},
     "output_type": "display_data"
    },
    {
     "data": {
      "application/javascript": [
       "\n",
       "            setTimeout(function() {\n",
       "                var nbb_cell_id = 158;\n",
       "                var nbb_unformatted_code = \"import warnings\\n\\nwarnings.filterwarnings(\\\"ignore\\\")\\n\\nimport os\\nimport shutil\\nimport platform\\nimport cv2\\nimport pandas as pd\\nimport random\\nimport math\\nimport uuid\\nimport sys\\nimport traceback\\nimport utils\\n\\n%load_ext autoreload\\n%autoreload 2\\n\\n%reload_ext nb_black\\n%config IPCompleter.greedy=True\";\n",
       "                var nbb_formatted_code = \"import warnings\\n\\nwarnings.filterwarnings(\\\"ignore\\\")\\n\\nimport os\\nimport shutil\\nimport platform\\nimport cv2\\nimport pandas as pd\\nimport random\\nimport math\\nimport uuid\\nimport sys\\nimport traceback\\nimport utils\\n\\n%load_ext autoreload\\n%autoreload 2\\n\\n%reload_ext nb_black\\n%config IPCompleter.greedy=True\";\n",
       "                var nbb_cells = Jupyter.notebook.get_cells();\n",
       "                for (var i = 0; i < nbb_cells.length; ++i) {\n",
       "                    if (nbb_cells[i].input_prompt_number == nbb_cell_id) {\n",
       "                        if (nbb_cells[i].get_text() == nbb_unformatted_code) {\n",
       "                             nbb_cells[i].set_text(nbb_formatted_code);\n",
       "                        }\n",
       "                        break;\n",
       "                    }\n",
       "                }\n",
       "            }, 500);\n",
       "            "
      ],
      "text/plain": [
       "<IPython.core.display.Javascript object>"
      ]
     },
     "metadata": {},
     "output_type": "display_data"
    }
   ],
   "source": [
    "import warnings\n",
    "\n",
    "warnings.filterwarnings(\"ignore\")\n",
    "\n",
    "import os\n",
    "import shutil\n",
    "import platform\n",
    "import cv2\n",
    "import pandas as pd\n",
    "import random\n",
    "import math\n",
    "import uuid\n",
    "import sys\n",
    "import traceback\n",
    "import utils\n",
    "\n",
    "%load_ext autoreload\n",
    "%autoreload 2\n",
    "\n",
    "%reload_ext nb_black\n",
    "%config IPCompleter.greedy=True"
   ]
  },
  {
   "cell_type": "code",
   "execution_count": 159,
   "metadata": {},
   "outputs": [
    {
     "data": {
      "application/javascript": [
       "\n",
       "            setTimeout(function() {\n",
       "                var nbb_cell_id = 159;\n",
       "                var nbb_unformatted_code = \"CURRENT_MICE = \\\"PrL-3\\\"\\nparent_directory = os.path.dirname(os.getcwd())\\npath_to_videos = os.path.join(parent_directory, \\\"videos\\\")\\npath_to_data = os.path.join(parent_directory, \\\"data\\\")\\n\\nmice = [\\n    \\\"PrL-2\\\",\\n    \\\"PrL-3\\\",\\n    \\\"PrL-4\\\",\\n    \\\"PrL-5\\\",\\n    \\\"PrL-8\\\",\\n    \\\"PrL-9\\\",\\n    \\\"PrL-10\\\",\\n    \\\"PrL-16\\\",\\n    \\\"PrL-19\\\",\\n]\\nlabels = [\\\"parent-mice\\\", \\\"child-mice\\\"]\";\n",
       "                var nbb_formatted_code = \"CURRENT_MICE = \\\"PrL-3\\\"\\nparent_directory = os.path.dirname(os.getcwd())\\npath_to_videos = os.path.join(parent_directory, \\\"videos\\\")\\npath_to_data = os.path.join(parent_directory, \\\"data\\\")\\n\\nmice = [\\n    \\\"PrL-2\\\",\\n    \\\"PrL-3\\\",\\n    \\\"PrL-4\\\",\\n    \\\"PrL-5\\\",\\n    \\\"PrL-8\\\",\\n    \\\"PrL-9\\\",\\n    \\\"PrL-10\\\",\\n    \\\"PrL-16\\\",\\n    \\\"PrL-19\\\",\\n]\\nlabels = [\\\"parent-mice\\\", \\\"child-mice\\\"]\";\n",
       "                var nbb_cells = Jupyter.notebook.get_cells();\n",
       "                for (var i = 0; i < nbb_cells.length; ++i) {\n",
       "                    if (nbb_cells[i].input_prompt_number == nbb_cell_id) {\n",
       "                        if (nbb_cells[i].get_text() == nbb_unformatted_code) {\n",
       "                             nbb_cells[i].set_text(nbb_formatted_code);\n",
       "                        }\n",
       "                        break;\n",
       "                    }\n",
       "                }\n",
       "            }, 500);\n",
       "            "
      ],
      "text/plain": [
       "<IPython.core.display.Javascript object>"
      ]
     },
     "metadata": {},
     "output_type": "display_data"
    },
    {
     "data": {
      "application/javascript": [
       "\n",
       "            setTimeout(function() {\n",
       "                var nbb_cell_id = 159;\n",
       "                var nbb_unformatted_code = \"CURRENT_MICE = \\\"PrL-3\\\"\\nparent_directory = os.path.dirname(os.getcwd())\\npath_to_videos = os.path.join(parent_directory, \\\"videos\\\")\\npath_to_data = os.path.join(parent_directory, \\\"data\\\")\\n\\nmice = [\\n    \\\"PrL-2\\\",\\n    \\\"PrL-3\\\",\\n    \\\"PrL-4\\\",\\n    \\\"PrL-5\\\",\\n    \\\"PrL-8\\\",\\n    \\\"PrL-9\\\",\\n    \\\"PrL-10\\\",\\n    \\\"PrL-16\\\",\\n    \\\"PrL-19\\\",\\n]\\nlabels = [\\\"parent-mice\\\", \\\"child-mice\\\"]\";\n",
       "                var nbb_formatted_code = \"CURRENT_MICE = \\\"PrL-3\\\"\\nparent_directory = os.path.dirname(os.getcwd())\\npath_to_videos = os.path.join(parent_directory, \\\"videos\\\")\\npath_to_data = os.path.join(parent_directory, \\\"data\\\")\\n\\nmice = [\\n    \\\"PrL-2\\\",\\n    \\\"PrL-3\\\",\\n    \\\"PrL-4\\\",\\n    \\\"PrL-5\\\",\\n    \\\"PrL-8\\\",\\n    \\\"PrL-9\\\",\\n    \\\"PrL-10\\\",\\n    \\\"PrL-16\\\",\\n    \\\"PrL-19\\\",\\n]\\nlabels = [\\\"parent-mice\\\", \\\"child-mice\\\"]\";\n",
       "                var nbb_cells = Jupyter.notebook.get_cells();\n",
       "                for (var i = 0; i < nbb_cells.length; ++i) {\n",
       "                    if (nbb_cells[i].input_prompt_number == nbb_cell_id) {\n",
       "                        if (nbb_cells[i].get_text() == nbb_unformatted_code) {\n",
       "                             nbb_cells[i].set_text(nbb_formatted_code);\n",
       "                        }\n",
       "                        break;\n",
       "                    }\n",
       "                }\n",
       "            }, 500);\n",
       "            "
      ],
      "text/plain": [
       "<IPython.core.display.Javascript object>"
      ]
     },
     "metadata": {},
     "output_type": "display_data"
    },
    {
     "data": {
      "application/javascript": [
       "\n",
       "            setTimeout(function() {\n",
       "                var nbb_cell_id = 159;\n",
       "                var nbb_unformatted_code = \"CURRENT_MICE = \\\"PrL-3\\\"\\nparent_directory = os.path.dirname(os.getcwd())\\npath_to_videos = os.path.join(parent_directory, \\\"videos\\\")\\npath_to_data = os.path.join(parent_directory, \\\"data\\\")\\n\\nmice = [\\n    \\\"PrL-2\\\",\\n    \\\"PrL-3\\\",\\n    \\\"PrL-4\\\",\\n    \\\"PrL-5\\\",\\n    \\\"PrL-8\\\",\\n    \\\"PrL-9\\\",\\n    \\\"PrL-10\\\",\\n    \\\"PrL-16\\\",\\n    \\\"PrL-19\\\",\\n]\\nlabels = [\\\"parent-mice\\\", \\\"child-mice\\\"]\";\n",
       "                var nbb_formatted_code = \"CURRENT_MICE = \\\"PrL-3\\\"\\nparent_directory = os.path.dirname(os.getcwd())\\npath_to_videos = os.path.join(parent_directory, \\\"videos\\\")\\npath_to_data = os.path.join(parent_directory, \\\"data\\\")\\n\\nmice = [\\n    \\\"PrL-2\\\",\\n    \\\"PrL-3\\\",\\n    \\\"PrL-4\\\",\\n    \\\"PrL-5\\\",\\n    \\\"PrL-8\\\",\\n    \\\"PrL-9\\\",\\n    \\\"PrL-10\\\",\\n    \\\"PrL-16\\\",\\n    \\\"PrL-19\\\",\\n]\\nlabels = [\\\"parent-mice\\\", \\\"child-mice\\\"]\";\n",
       "                var nbb_cells = Jupyter.notebook.get_cells();\n",
       "                for (var i = 0; i < nbb_cells.length; ++i) {\n",
       "                    if (nbb_cells[i].input_prompt_number == nbb_cell_id) {\n",
       "                        if (nbb_cells[i].get_text() == nbb_unformatted_code) {\n",
       "                             nbb_cells[i].set_text(nbb_formatted_code);\n",
       "                        }\n",
       "                        break;\n",
       "                    }\n",
       "                }\n",
       "            }, 500);\n",
       "            "
      ],
      "text/plain": [
       "<IPython.core.display.Javascript object>"
      ]
     },
     "metadata": {},
     "output_type": "display_data"
    },
    {
     "data": {
      "application/javascript": [
       "\n",
       "            setTimeout(function() {\n",
       "                var nbb_cell_id = 159;\n",
       "                var nbb_unformatted_code = \"CURRENT_MICE = \\\"PrL-3\\\"\\nparent_directory = os.path.dirname(os.getcwd())\\npath_to_videos = os.path.join(parent_directory, \\\"videos\\\")\\npath_to_data = os.path.join(parent_directory, \\\"data\\\")\\n\\nmice = [\\n    \\\"PrL-2\\\",\\n    \\\"PrL-3\\\",\\n    \\\"PrL-4\\\",\\n    \\\"PrL-5\\\",\\n    \\\"PrL-8\\\",\\n    \\\"PrL-9\\\",\\n    \\\"PrL-10\\\",\\n    \\\"PrL-16\\\",\\n    \\\"PrL-19\\\",\\n]\\nlabels = [\\\"parent-mice\\\", \\\"child-mice\\\"]\";\n",
       "                var nbb_formatted_code = \"CURRENT_MICE = \\\"PrL-3\\\"\\nparent_directory = os.path.dirname(os.getcwd())\\npath_to_videos = os.path.join(parent_directory, \\\"videos\\\")\\npath_to_data = os.path.join(parent_directory, \\\"data\\\")\\n\\nmice = [\\n    \\\"PrL-2\\\",\\n    \\\"PrL-3\\\",\\n    \\\"PrL-4\\\",\\n    \\\"PrL-5\\\",\\n    \\\"PrL-8\\\",\\n    \\\"PrL-9\\\",\\n    \\\"PrL-10\\\",\\n    \\\"PrL-16\\\",\\n    \\\"PrL-19\\\",\\n]\\nlabels = [\\\"parent-mice\\\", \\\"child-mice\\\"]\";\n",
       "                var nbb_cells = Jupyter.notebook.get_cells();\n",
       "                for (var i = 0; i < nbb_cells.length; ++i) {\n",
       "                    if (nbb_cells[i].input_prompt_number == nbb_cell_id) {\n",
       "                        if (nbb_cells[i].get_text() == nbb_unformatted_code) {\n",
       "                             nbb_cells[i].set_text(nbb_formatted_code);\n",
       "                        }\n",
       "                        break;\n",
       "                    }\n",
       "                }\n",
       "            }, 500);\n",
       "            "
      ],
      "text/plain": [
       "<IPython.core.display.Javascript object>"
      ]
     },
     "metadata": {},
     "output_type": "display_data"
    },
    {
     "data": {
      "application/javascript": [
       "\n",
       "            setTimeout(function() {\n",
       "                var nbb_cell_id = 159;\n",
       "                var nbb_unformatted_code = \"CURRENT_MICE = \\\"PrL-3\\\"\\nparent_directory = os.path.dirname(os.getcwd())\\npath_to_videos = os.path.join(parent_directory, \\\"videos\\\")\\npath_to_data = os.path.join(parent_directory, \\\"data\\\")\\n\\nmice = [\\n    \\\"PrL-2\\\",\\n    \\\"PrL-3\\\",\\n    \\\"PrL-4\\\",\\n    \\\"PrL-5\\\",\\n    \\\"PrL-8\\\",\\n    \\\"PrL-9\\\",\\n    \\\"PrL-10\\\",\\n    \\\"PrL-16\\\",\\n    \\\"PrL-19\\\",\\n]\\nlabels = [\\\"parent-mice\\\", \\\"child-mice\\\"]\";\n",
       "                var nbb_formatted_code = \"CURRENT_MICE = \\\"PrL-3\\\"\\nparent_directory = os.path.dirname(os.getcwd())\\npath_to_videos = os.path.join(parent_directory, \\\"videos\\\")\\npath_to_data = os.path.join(parent_directory, \\\"data\\\")\\n\\nmice = [\\n    \\\"PrL-2\\\",\\n    \\\"PrL-3\\\",\\n    \\\"PrL-4\\\",\\n    \\\"PrL-5\\\",\\n    \\\"PrL-8\\\",\\n    \\\"PrL-9\\\",\\n    \\\"PrL-10\\\",\\n    \\\"PrL-16\\\",\\n    \\\"PrL-19\\\",\\n]\\nlabels = [\\\"parent-mice\\\", \\\"child-mice\\\"]\";\n",
       "                var nbb_cells = Jupyter.notebook.get_cells();\n",
       "                for (var i = 0; i < nbb_cells.length; ++i) {\n",
       "                    if (nbb_cells[i].input_prompt_number == nbb_cell_id) {\n",
       "                        if (nbb_cells[i].get_text() == nbb_unformatted_code) {\n",
       "                             nbb_cells[i].set_text(nbb_formatted_code);\n",
       "                        }\n",
       "                        break;\n",
       "                    }\n",
       "                }\n",
       "            }, 500);\n",
       "            "
      ],
      "text/plain": [
       "<IPython.core.display.Javascript object>"
      ]
     },
     "metadata": {},
     "output_type": "display_data"
    },
    {
     "data": {
      "application/javascript": [
       "\n",
       "            setTimeout(function() {\n",
       "                var nbb_cell_id = 159;\n",
       "                var nbb_unformatted_code = \"CURRENT_MICE = \\\"PrL-3\\\"\\nparent_directory = os.path.dirname(os.getcwd())\\npath_to_videos = os.path.join(parent_directory, \\\"videos\\\")\\npath_to_data = os.path.join(parent_directory, \\\"data\\\")\\n\\nmice = [\\n    \\\"PrL-2\\\",\\n    \\\"PrL-3\\\",\\n    \\\"PrL-4\\\",\\n    \\\"PrL-5\\\",\\n    \\\"PrL-8\\\",\\n    \\\"PrL-9\\\",\\n    \\\"PrL-10\\\",\\n    \\\"PrL-16\\\",\\n    \\\"PrL-19\\\",\\n]\\nlabels = [\\\"parent-mice\\\", \\\"child-mice\\\"]\";\n",
       "                var nbb_formatted_code = \"CURRENT_MICE = \\\"PrL-3\\\"\\nparent_directory = os.path.dirname(os.getcwd())\\npath_to_videos = os.path.join(parent_directory, \\\"videos\\\")\\npath_to_data = os.path.join(parent_directory, \\\"data\\\")\\n\\nmice = [\\n    \\\"PrL-2\\\",\\n    \\\"PrL-3\\\",\\n    \\\"PrL-4\\\",\\n    \\\"PrL-5\\\",\\n    \\\"PrL-8\\\",\\n    \\\"PrL-9\\\",\\n    \\\"PrL-10\\\",\\n    \\\"PrL-16\\\",\\n    \\\"PrL-19\\\",\\n]\\nlabels = [\\\"parent-mice\\\", \\\"child-mice\\\"]\";\n",
       "                var nbb_cells = Jupyter.notebook.get_cells();\n",
       "                for (var i = 0; i < nbb_cells.length; ++i) {\n",
       "                    if (nbb_cells[i].input_prompt_number == nbb_cell_id) {\n",
       "                        if (nbb_cells[i].get_text() == nbb_unformatted_code) {\n",
       "                             nbb_cells[i].set_text(nbb_formatted_code);\n",
       "                        }\n",
       "                        break;\n",
       "                    }\n",
       "                }\n",
       "            }, 500);\n",
       "            "
      ],
      "text/plain": [
       "<IPython.core.display.Javascript object>"
      ]
     },
     "metadata": {},
     "output_type": "display_data"
    }
   ],
   "source": [
    "CURRENT_MICE = \"PrL-3\"\n",
    "parent_directory = os.path.dirname(os.getcwd())\n",
    "path_to_videos = os.path.join(parent_directory, \"videos\")\n",
    "path_to_data = os.path.join(parent_directory, \"data\")\n",
    "\n",
    "mice = [\n",
    "    \"PrL-2\",\n",
    "    \"PrL-3\",\n",
    "    \"PrL-4\",\n",
    "    \"PrL-5\",\n",
    "    \"PrL-8\",\n",
    "    \"PrL-9\",\n",
    "    \"PrL-10\",\n",
    "    \"PrL-16\",\n",
    "    \"PrL-19\",\n",
    "]\n",
    "labels = [\"parent-mice\", \"child-mice\"]"
   ]
  },
  {
   "cell_type": "code",
   "execution_count": 160,
   "metadata": {},
   "outputs": [
    {
     "data": {
      "application/javascript": [
       "\n",
       "            setTimeout(function() {\n",
       "                var nbb_cell_id = 160;\n",
       "                var nbb_unformatted_code = \"mice_df = pd.DataFrame(mice, columns=[\\\"Mice\\\"])\";\n",
       "                var nbb_formatted_code = \"mice_df = pd.DataFrame(mice, columns=[\\\"Mice\\\"])\";\n",
       "                var nbb_cells = Jupyter.notebook.get_cells();\n",
       "                for (var i = 0; i < nbb_cells.length; ++i) {\n",
       "                    if (nbb_cells[i].input_prompt_number == nbb_cell_id) {\n",
       "                        if (nbb_cells[i].get_text() == nbb_unformatted_code) {\n",
       "                             nbb_cells[i].set_text(nbb_formatted_code);\n",
       "                        }\n",
       "                        break;\n",
       "                    }\n",
       "                }\n",
       "            }, 500);\n",
       "            "
      ],
      "text/plain": [
       "<IPython.core.display.Javascript object>"
      ]
     },
     "metadata": {},
     "output_type": "display_data"
    },
    {
     "data": {
      "application/javascript": [
       "\n",
       "            setTimeout(function() {\n",
       "                var nbb_cell_id = 160;\n",
       "                var nbb_unformatted_code = \"mice_df = pd.DataFrame(mice, columns=[\\\"Mice\\\"])\";\n",
       "                var nbb_formatted_code = \"mice_df = pd.DataFrame(mice, columns=[\\\"Mice\\\"])\";\n",
       "                var nbb_cells = Jupyter.notebook.get_cells();\n",
       "                for (var i = 0; i < nbb_cells.length; ++i) {\n",
       "                    if (nbb_cells[i].input_prompt_number == nbb_cell_id) {\n",
       "                        if (nbb_cells[i].get_text() == nbb_unformatted_code) {\n",
       "                             nbb_cells[i].set_text(nbb_formatted_code);\n",
       "                        }\n",
       "                        break;\n",
       "                    }\n",
       "                }\n",
       "            }, 500);\n",
       "            "
      ],
      "text/plain": [
       "<IPython.core.display.Javascript object>"
      ]
     },
     "metadata": {},
     "output_type": "display_data"
    },
    {
     "data": {
      "application/javascript": [
       "\n",
       "            setTimeout(function() {\n",
       "                var nbb_cell_id = 160;\n",
       "                var nbb_unformatted_code = \"mice_df = pd.DataFrame(mice, columns=[\\\"Mice\\\"])\";\n",
       "                var nbb_formatted_code = \"mice_df = pd.DataFrame(mice, columns=[\\\"Mice\\\"])\";\n",
       "                var nbb_cells = Jupyter.notebook.get_cells();\n",
       "                for (var i = 0; i < nbb_cells.length; ++i) {\n",
       "                    if (nbb_cells[i].input_prompt_number == nbb_cell_id) {\n",
       "                        if (nbb_cells[i].get_text() == nbb_unformatted_code) {\n",
       "                             nbb_cells[i].set_text(nbb_formatted_code);\n",
       "                        }\n",
       "                        break;\n",
       "                    }\n",
       "                }\n",
       "            }, 500);\n",
       "            "
      ],
      "text/plain": [
       "<IPython.core.display.Javascript object>"
      ]
     },
     "metadata": {},
     "output_type": "display_data"
    },
    {
     "data": {
      "application/javascript": [
       "\n",
       "            setTimeout(function() {\n",
       "                var nbb_cell_id = 160;\n",
       "                var nbb_unformatted_code = \"mice_df = pd.DataFrame(mice, columns=[\\\"Mice\\\"])\";\n",
       "                var nbb_formatted_code = \"mice_df = pd.DataFrame(mice, columns=[\\\"Mice\\\"])\";\n",
       "                var nbb_cells = Jupyter.notebook.get_cells();\n",
       "                for (var i = 0; i < nbb_cells.length; ++i) {\n",
       "                    if (nbb_cells[i].input_prompt_number == nbb_cell_id) {\n",
       "                        if (nbb_cells[i].get_text() == nbb_unformatted_code) {\n",
       "                             nbb_cells[i].set_text(nbb_formatted_code);\n",
       "                        }\n",
       "                        break;\n",
       "                    }\n",
       "                }\n",
       "            }, 500);\n",
       "            "
      ],
      "text/plain": [
       "<IPython.core.display.Javascript object>"
      ]
     },
     "metadata": {},
     "output_type": "display_data"
    },
    {
     "data": {
      "application/javascript": [
       "\n",
       "            setTimeout(function() {\n",
       "                var nbb_cell_id = 160;\n",
       "                var nbb_unformatted_code = \"mice_df = pd.DataFrame(mice, columns=[\\\"Mice\\\"])\";\n",
       "                var nbb_formatted_code = \"mice_df = pd.DataFrame(mice, columns=[\\\"Mice\\\"])\";\n",
       "                var nbb_cells = Jupyter.notebook.get_cells();\n",
       "                for (var i = 0; i < nbb_cells.length; ++i) {\n",
       "                    if (nbb_cells[i].input_prompt_number == nbb_cell_id) {\n",
       "                        if (nbb_cells[i].get_text() == nbb_unformatted_code) {\n",
       "                             nbb_cells[i].set_text(nbb_formatted_code);\n",
       "                        }\n",
       "                        break;\n",
       "                    }\n",
       "                }\n",
       "            }, 500);\n",
       "            "
      ],
      "text/plain": [
       "<IPython.core.display.Javascript object>"
      ]
     },
     "metadata": {},
     "output_type": "display_data"
    },
    {
     "data": {
      "application/javascript": [
       "\n",
       "            setTimeout(function() {\n",
       "                var nbb_cell_id = 160;\n",
       "                var nbb_unformatted_code = \"mice_df = pd.DataFrame(mice, columns=[\\\"Mice\\\"])\";\n",
       "                var nbb_formatted_code = \"mice_df = pd.DataFrame(mice, columns=[\\\"Mice\\\"])\";\n",
       "                var nbb_cells = Jupyter.notebook.get_cells();\n",
       "                for (var i = 0; i < nbb_cells.length; ++i) {\n",
       "                    if (nbb_cells[i].input_prompt_number == nbb_cell_id) {\n",
       "                        if (nbb_cells[i].get_text() == nbb_unformatted_code) {\n",
       "                             nbb_cells[i].set_text(nbb_formatted_code);\n",
       "                        }\n",
       "                        break;\n",
       "                    }\n",
       "                }\n",
       "            }, 500);\n",
       "            "
      ],
      "text/plain": [
       "<IPython.core.display.Javascript object>"
      ]
     },
     "metadata": {},
     "output_type": "display_data"
    }
   ],
   "source": [
    "mice_df = pd.DataFrame(mice, columns=[\"Mice\"])"
   ]
  },
  {
   "cell_type": "code",
   "execution_count": 161,
   "metadata": {},
   "outputs": [
    {
     "data": {
      "application/javascript": [
       "\n",
       "            setTimeout(function() {\n",
       "                var nbb_cell_id = 161;\n",
       "                var nbb_unformatted_code = \"def get_video_data(mice: str):\\n    video_file_path = f\\\"{path_to_videos}/{mice}.mp4\\\"\\n\\n    if not os.path.isfile(video_file_path):\\n        raise FileNotFoundError(f\\\"{mice}.mp4 does not exist!\\\")\\n\\n    videoCaptureInstance = cv2.VideoCapture(video_file_path)\\n    fps = videoCaptureInstance.get(cv2.CAP_PROP_FPS)\\n    frames = videoCaptureInstance.get(cv2.CAP_PROP_FRAME_COUNT)\\n    return pd.Series([fps, frames])\";\n",
       "                var nbb_formatted_code = \"def get_video_data(mice: str):\\n    video_file_path = f\\\"{path_to_videos}/{mice}.mp4\\\"\\n\\n    if not os.path.isfile(video_file_path):\\n        raise FileNotFoundError(f\\\"{mice}.mp4 does not exist!\\\")\\n\\n    videoCaptureInstance = cv2.VideoCapture(video_file_path)\\n    fps = videoCaptureInstance.get(cv2.CAP_PROP_FPS)\\n    frames = videoCaptureInstance.get(cv2.CAP_PROP_FRAME_COUNT)\\n    return pd.Series([fps, frames])\";\n",
       "                var nbb_cells = Jupyter.notebook.get_cells();\n",
       "                for (var i = 0; i < nbb_cells.length; ++i) {\n",
       "                    if (nbb_cells[i].input_prompt_number == nbb_cell_id) {\n",
       "                        if (nbb_cells[i].get_text() == nbb_unformatted_code) {\n",
       "                             nbb_cells[i].set_text(nbb_formatted_code);\n",
       "                        }\n",
       "                        break;\n",
       "                    }\n",
       "                }\n",
       "            }, 500);\n",
       "            "
      ],
      "text/plain": [
       "<IPython.core.display.Javascript object>"
      ]
     },
     "metadata": {},
     "output_type": "display_data"
    },
    {
     "data": {
      "application/javascript": [
       "\n",
       "            setTimeout(function() {\n",
       "                var nbb_cell_id = 161;\n",
       "                var nbb_unformatted_code = \"def get_video_data(mice: str):\\n    video_file_path = f\\\"{path_to_videos}/{mice}.mp4\\\"\\n\\n    if not os.path.isfile(video_file_path):\\n        raise FileNotFoundError(f\\\"{mice}.mp4 does not exist!\\\")\\n\\n    videoCaptureInstance = cv2.VideoCapture(video_file_path)\\n    fps = videoCaptureInstance.get(cv2.CAP_PROP_FPS)\\n    frames = videoCaptureInstance.get(cv2.CAP_PROP_FRAME_COUNT)\\n    return pd.Series([fps, frames])\";\n",
       "                var nbb_formatted_code = \"def get_video_data(mice: str):\\n    video_file_path = f\\\"{path_to_videos}/{mice}.mp4\\\"\\n\\n    if not os.path.isfile(video_file_path):\\n        raise FileNotFoundError(f\\\"{mice}.mp4 does not exist!\\\")\\n\\n    videoCaptureInstance = cv2.VideoCapture(video_file_path)\\n    fps = videoCaptureInstance.get(cv2.CAP_PROP_FPS)\\n    frames = videoCaptureInstance.get(cv2.CAP_PROP_FRAME_COUNT)\\n    return pd.Series([fps, frames])\";\n",
       "                var nbb_cells = Jupyter.notebook.get_cells();\n",
       "                for (var i = 0; i < nbb_cells.length; ++i) {\n",
       "                    if (nbb_cells[i].input_prompt_number == nbb_cell_id) {\n",
       "                        if (nbb_cells[i].get_text() == nbb_unformatted_code) {\n",
       "                             nbb_cells[i].set_text(nbb_formatted_code);\n",
       "                        }\n",
       "                        break;\n",
       "                    }\n",
       "                }\n",
       "            }, 500);\n",
       "            "
      ],
      "text/plain": [
       "<IPython.core.display.Javascript object>"
      ]
     },
     "metadata": {},
     "output_type": "display_data"
    },
    {
     "data": {
      "application/javascript": [
       "\n",
       "            setTimeout(function() {\n",
       "                var nbb_cell_id = 161;\n",
       "                var nbb_unformatted_code = \"def get_video_data(mice: str):\\n    video_file_path = f\\\"{path_to_videos}/{mice}.mp4\\\"\\n\\n    if not os.path.isfile(video_file_path):\\n        raise FileNotFoundError(f\\\"{mice}.mp4 does not exist!\\\")\\n\\n    videoCaptureInstance = cv2.VideoCapture(video_file_path)\\n    fps = videoCaptureInstance.get(cv2.CAP_PROP_FPS)\\n    frames = videoCaptureInstance.get(cv2.CAP_PROP_FRAME_COUNT)\\n    return pd.Series([fps, frames])\";\n",
       "                var nbb_formatted_code = \"def get_video_data(mice: str):\\n    video_file_path = f\\\"{path_to_videos}/{mice}.mp4\\\"\\n\\n    if not os.path.isfile(video_file_path):\\n        raise FileNotFoundError(f\\\"{mice}.mp4 does not exist!\\\")\\n\\n    videoCaptureInstance = cv2.VideoCapture(video_file_path)\\n    fps = videoCaptureInstance.get(cv2.CAP_PROP_FPS)\\n    frames = videoCaptureInstance.get(cv2.CAP_PROP_FRAME_COUNT)\\n    return pd.Series([fps, frames])\";\n",
       "                var nbb_cells = Jupyter.notebook.get_cells();\n",
       "                for (var i = 0; i < nbb_cells.length; ++i) {\n",
       "                    if (nbb_cells[i].input_prompt_number == nbb_cell_id) {\n",
       "                        if (nbb_cells[i].get_text() == nbb_unformatted_code) {\n",
       "                             nbb_cells[i].set_text(nbb_formatted_code);\n",
       "                        }\n",
       "                        break;\n",
       "                    }\n",
       "                }\n",
       "            }, 500);\n",
       "            "
      ],
      "text/plain": [
       "<IPython.core.display.Javascript object>"
      ]
     },
     "metadata": {},
     "output_type": "display_data"
    },
    {
     "data": {
      "application/javascript": [
       "\n",
       "            setTimeout(function() {\n",
       "                var nbb_cell_id = 161;\n",
       "                var nbb_unformatted_code = \"def get_video_data(mice: str):\\n    video_file_path = f\\\"{path_to_videos}/{mice}.mp4\\\"\\n\\n    if not os.path.isfile(video_file_path):\\n        raise FileNotFoundError(f\\\"{mice}.mp4 does not exist!\\\")\\n\\n    videoCaptureInstance = cv2.VideoCapture(video_file_path)\\n    fps = videoCaptureInstance.get(cv2.CAP_PROP_FPS)\\n    frames = videoCaptureInstance.get(cv2.CAP_PROP_FRAME_COUNT)\\n    return pd.Series([fps, frames])\";\n",
       "                var nbb_formatted_code = \"def get_video_data(mice: str):\\n    video_file_path = f\\\"{path_to_videos}/{mice}.mp4\\\"\\n\\n    if not os.path.isfile(video_file_path):\\n        raise FileNotFoundError(f\\\"{mice}.mp4 does not exist!\\\")\\n\\n    videoCaptureInstance = cv2.VideoCapture(video_file_path)\\n    fps = videoCaptureInstance.get(cv2.CAP_PROP_FPS)\\n    frames = videoCaptureInstance.get(cv2.CAP_PROP_FRAME_COUNT)\\n    return pd.Series([fps, frames])\";\n",
       "                var nbb_cells = Jupyter.notebook.get_cells();\n",
       "                for (var i = 0; i < nbb_cells.length; ++i) {\n",
       "                    if (nbb_cells[i].input_prompt_number == nbb_cell_id) {\n",
       "                        if (nbb_cells[i].get_text() == nbb_unformatted_code) {\n",
       "                             nbb_cells[i].set_text(nbb_formatted_code);\n",
       "                        }\n",
       "                        break;\n",
       "                    }\n",
       "                }\n",
       "            }, 500);\n",
       "            "
      ],
      "text/plain": [
       "<IPython.core.display.Javascript object>"
      ]
     },
     "metadata": {},
     "output_type": "display_data"
    },
    {
     "data": {
      "application/javascript": [
       "\n",
       "            setTimeout(function() {\n",
       "                var nbb_cell_id = 161;\n",
       "                var nbb_unformatted_code = \"def get_video_data(mice: str):\\n    video_file_path = f\\\"{path_to_videos}/{mice}.mp4\\\"\\n\\n    if not os.path.isfile(video_file_path):\\n        raise FileNotFoundError(f\\\"{mice}.mp4 does not exist!\\\")\\n\\n    videoCaptureInstance = cv2.VideoCapture(video_file_path)\\n    fps = videoCaptureInstance.get(cv2.CAP_PROP_FPS)\\n    frames = videoCaptureInstance.get(cv2.CAP_PROP_FRAME_COUNT)\\n    return pd.Series([fps, frames])\";\n",
       "                var nbb_formatted_code = \"def get_video_data(mice: str):\\n    video_file_path = f\\\"{path_to_videos}/{mice}.mp4\\\"\\n\\n    if not os.path.isfile(video_file_path):\\n        raise FileNotFoundError(f\\\"{mice}.mp4 does not exist!\\\")\\n\\n    videoCaptureInstance = cv2.VideoCapture(video_file_path)\\n    fps = videoCaptureInstance.get(cv2.CAP_PROP_FPS)\\n    frames = videoCaptureInstance.get(cv2.CAP_PROP_FRAME_COUNT)\\n    return pd.Series([fps, frames])\";\n",
       "                var nbb_cells = Jupyter.notebook.get_cells();\n",
       "                for (var i = 0; i < nbb_cells.length; ++i) {\n",
       "                    if (nbb_cells[i].input_prompt_number == nbb_cell_id) {\n",
       "                        if (nbb_cells[i].get_text() == nbb_unformatted_code) {\n",
       "                             nbb_cells[i].set_text(nbb_formatted_code);\n",
       "                        }\n",
       "                        break;\n",
       "                    }\n",
       "                }\n",
       "            }, 500);\n",
       "            "
      ],
      "text/plain": [
       "<IPython.core.display.Javascript object>"
      ]
     },
     "metadata": {},
     "output_type": "display_data"
    },
    {
     "data": {
      "application/javascript": [
       "\n",
       "            setTimeout(function() {\n",
       "                var nbb_cell_id = 161;\n",
       "                var nbb_unformatted_code = \"def get_video_data(mice: str):\\n    video_file_path = f\\\"{path_to_videos}/{mice}.mp4\\\"\\n\\n    if not os.path.isfile(video_file_path):\\n        raise FileNotFoundError(f\\\"{mice}.mp4 does not exist!\\\")\\n\\n    videoCaptureInstance = cv2.VideoCapture(video_file_path)\\n    fps = videoCaptureInstance.get(cv2.CAP_PROP_FPS)\\n    frames = videoCaptureInstance.get(cv2.CAP_PROP_FRAME_COUNT)\\n    return pd.Series([fps, frames])\";\n",
       "                var nbb_formatted_code = \"def get_video_data(mice: str):\\n    video_file_path = f\\\"{path_to_videos}/{mice}.mp4\\\"\\n\\n    if not os.path.isfile(video_file_path):\\n        raise FileNotFoundError(f\\\"{mice}.mp4 does not exist!\\\")\\n\\n    videoCaptureInstance = cv2.VideoCapture(video_file_path)\\n    fps = videoCaptureInstance.get(cv2.CAP_PROP_FPS)\\n    frames = videoCaptureInstance.get(cv2.CAP_PROP_FRAME_COUNT)\\n    return pd.Series([fps, frames])\";\n",
       "                var nbb_cells = Jupyter.notebook.get_cells();\n",
       "                for (var i = 0; i < nbb_cells.length; ++i) {\n",
       "                    if (nbb_cells[i].input_prompt_number == nbb_cell_id) {\n",
       "                        if (nbb_cells[i].get_text() == nbb_unformatted_code) {\n",
       "                             nbb_cells[i].set_text(nbb_formatted_code);\n",
       "                        }\n",
       "                        break;\n",
       "                    }\n",
       "                }\n",
       "            }, 500);\n",
       "            "
      ],
      "text/plain": [
       "<IPython.core.display.Javascript object>"
      ]
     },
     "metadata": {},
     "output_type": "display_data"
    }
   ],
   "source": [
    "def get_video_data(mice: str):\n",
    "    video_file_path = f\"{path_to_videos}/{mice}.mp4\"\n",
    "\n",
    "    if not os.path.isfile(video_file_path):\n",
    "        raise FileNotFoundError(f\"{mice}.mp4 does not exist!\")\n",
    "\n",
    "    videoCaptureInstance = cv2.VideoCapture(video_file_path)\n",
    "    fps = videoCaptureInstance.get(cv2.CAP_PROP_FPS)\n",
    "    frames = videoCaptureInstance.get(cv2.CAP_PROP_FRAME_COUNT)\n",
    "    return pd.Series([fps, frames])"
   ]
  },
  {
   "cell_type": "code",
   "execution_count": 162,
   "metadata": {},
   "outputs": [
    {
     "data": {
      "text/html": [
       "<div>\n",
       "<style scoped>\n",
       "    .dataframe tbody tr th:only-of-type {\n",
       "        vertical-align: middle;\n",
       "    }\n",
       "\n",
       "    .dataframe tbody tr th {\n",
       "        vertical-align: top;\n",
       "    }\n",
       "\n",
       "    .dataframe thead th {\n",
       "        text-align: right;\n",
       "    }\n",
       "</style>\n",
       "<table border=\"1\" class=\"dataframe\">\n",
       "  <thead>\n",
       "    <tr style=\"text-align: right;\">\n",
       "      <th></th>\n",
       "      <th>Mice</th>\n",
       "      <th>video_fps</th>\n",
       "      <th>total_video_frames</th>\n",
       "    </tr>\n",
       "  </thead>\n",
       "  <tbody>\n",
       "    <tr>\n",
       "      <th>0</th>\n",
       "      <td>PrL-2</td>\n",
       "      <td>30.00003</td>\n",
       "      <td>83713.0</td>\n",
       "    </tr>\n",
       "    <tr>\n",
       "      <th>1</th>\n",
       "      <td>PrL-3</td>\n",
       "      <td>30.00003</td>\n",
       "      <td>40655.0</td>\n",
       "    </tr>\n",
       "    <tr>\n",
       "      <th>2</th>\n",
       "      <td>PrL-4</td>\n",
       "      <td>30.00003</td>\n",
       "      <td>48634.0</td>\n",
       "    </tr>\n",
       "    <tr>\n",
       "      <th>3</th>\n",
       "      <td>PrL-5</td>\n",
       "      <td>30.00003</td>\n",
       "      <td>46981.0</td>\n",
       "    </tr>\n",
       "    <tr>\n",
       "      <th>4</th>\n",
       "      <td>PrL-8</td>\n",
       "      <td>30.00003</td>\n",
       "      <td>48489.0</td>\n",
       "    </tr>\n",
       "  </tbody>\n",
       "</table>\n",
       "</div>"
      ],
      "text/plain": [
       "    Mice  video_fps  total_video_frames\n",
       "0  PrL-2   30.00003             83713.0\n",
       "1  PrL-3   30.00003             40655.0\n",
       "2  PrL-4   30.00003             48634.0\n",
       "3  PrL-5   30.00003             46981.0\n",
       "4  PrL-8   30.00003             48489.0"
      ]
     },
     "execution_count": 162,
     "metadata": {},
     "output_type": "execute_result"
    },
    {
     "data": {
      "application/javascript": [
       "\n",
       "            setTimeout(function() {\n",
       "                var nbb_cell_id = 162;\n",
       "                var nbb_unformatted_code = \"mice_df[[\\\"video_fps\\\", \\\"total_video_frames\\\"]] = mice_df[\\\"Mice\\\"].apply(\\n    lambda mice: get_video_data(mice)\\n)\\nmice_df.head()\";\n",
       "                var nbb_formatted_code = \"mice_df[[\\\"video_fps\\\", \\\"total_video_frames\\\"]] = mice_df[\\\"Mice\\\"].apply(\\n    lambda mice: get_video_data(mice)\\n)\\nmice_df.head()\";\n",
       "                var nbb_cells = Jupyter.notebook.get_cells();\n",
       "                for (var i = 0; i < nbb_cells.length; ++i) {\n",
       "                    if (nbb_cells[i].input_prompt_number == nbb_cell_id) {\n",
       "                        if (nbb_cells[i].get_text() == nbb_unformatted_code) {\n",
       "                             nbb_cells[i].set_text(nbb_formatted_code);\n",
       "                        }\n",
       "                        break;\n",
       "                    }\n",
       "                }\n",
       "            }, 500);\n",
       "            "
      ],
      "text/plain": [
       "<IPython.core.display.Javascript object>"
      ]
     },
     "metadata": {},
     "output_type": "display_data"
    },
    {
     "data": {
      "application/javascript": [
       "\n",
       "            setTimeout(function() {\n",
       "                var nbb_cell_id = 162;\n",
       "                var nbb_unformatted_code = \"mice_df[[\\\"video_fps\\\", \\\"total_video_frames\\\"]] = mice_df[\\\"Mice\\\"].apply(\\n    lambda mice: get_video_data(mice)\\n)\\nmice_df.head()\";\n",
       "                var nbb_formatted_code = \"mice_df[[\\\"video_fps\\\", \\\"total_video_frames\\\"]] = mice_df[\\\"Mice\\\"].apply(\\n    lambda mice: get_video_data(mice)\\n)\\nmice_df.head()\";\n",
       "                var nbb_cells = Jupyter.notebook.get_cells();\n",
       "                for (var i = 0; i < nbb_cells.length; ++i) {\n",
       "                    if (nbb_cells[i].input_prompt_number == nbb_cell_id) {\n",
       "                        if (nbb_cells[i].get_text() == nbb_unformatted_code) {\n",
       "                             nbb_cells[i].set_text(nbb_formatted_code);\n",
       "                        }\n",
       "                        break;\n",
       "                    }\n",
       "                }\n",
       "            }, 500);\n",
       "            "
      ],
      "text/plain": [
       "<IPython.core.display.Javascript object>"
      ]
     },
     "metadata": {},
     "output_type": "display_data"
    },
    {
     "data": {
      "application/javascript": [
       "\n",
       "            setTimeout(function() {\n",
       "                var nbb_cell_id = 162;\n",
       "                var nbb_unformatted_code = \"mice_df[[\\\"video_fps\\\", \\\"total_video_frames\\\"]] = mice_df[\\\"Mice\\\"].apply(\\n    lambda mice: get_video_data(mice)\\n)\\nmice_df.head()\";\n",
       "                var nbb_formatted_code = \"mice_df[[\\\"video_fps\\\", \\\"total_video_frames\\\"]] = mice_df[\\\"Mice\\\"].apply(\\n    lambda mice: get_video_data(mice)\\n)\\nmice_df.head()\";\n",
       "                var nbb_cells = Jupyter.notebook.get_cells();\n",
       "                for (var i = 0; i < nbb_cells.length; ++i) {\n",
       "                    if (nbb_cells[i].input_prompt_number == nbb_cell_id) {\n",
       "                        if (nbb_cells[i].get_text() == nbb_unformatted_code) {\n",
       "                             nbb_cells[i].set_text(nbb_formatted_code);\n",
       "                        }\n",
       "                        break;\n",
       "                    }\n",
       "                }\n",
       "            }, 500);\n",
       "            "
      ],
      "text/plain": [
       "<IPython.core.display.Javascript object>"
      ]
     },
     "metadata": {},
     "output_type": "display_data"
    },
    {
     "data": {
      "application/javascript": [
       "\n",
       "            setTimeout(function() {\n",
       "                var nbb_cell_id = 162;\n",
       "                var nbb_unformatted_code = \"mice_df[[\\\"video_fps\\\", \\\"total_video_frames\\\"]] = mice_df[\\\"Mice\\\"].apply(\\n    lambda mice: get_video_data(mice)\\n)\\nmice_df.head()\";\n",
       "                var nbb_formatted_code = \"mice_df[[\\\"video_fps\\\", \\\"total_video_frames\\\"]] = mice_df[\\\"Mice\\\"].apply(\\n    lambda mice: get_video_data(mice)\\n)\\nmice_df.head()\";\n",
       "                var nbb_cells = Jupyter.notebook.get_cells();\n",
       "                for (var i = 0; i < nbb_cells.length; ++i) {\n",
       "                    if (nbb_cells[i].input_prompt_number == nbb_cell_id) {\n",
       "                        if (nbb_cells[i].get_text() == nbb_unformatted_code) {\n",
       "                             nbb_cells[i].set_text(nbb_formatted_code);\n",
       "                        }\n",
       "                        break;\n",
       "                    }\n",
       "                }\n",
       "            }, 500);\n",
       "            "
      ],
      "text/plain": [
       "<IPython.core.display.Javascript object>"
      ]
     },
     "metadata": {},
     "output_type": "display_data"
    },
    {
     "data": {
      "application/javascript": [
       "\n",
       "            setTimeout(function() {\n",
       "                var nbb_cell_id = 162;\n",
       "                var nbb_unformatted_code = \"mice_df[[\\\"video_fps\\\", \\\"total_video_frames\\\"]] = mice_df[\\\"Mice\\\"].apply(\\n    lambda mice: get_video_data(mice)\\n)\\nmice_df.head()\";\n",
       "                var nbb_formatted_code = \"mice_df[[\\\"video_fps\\\", \\\"total_video_frames\\\"]] = mice_df[\\\"Mice\\\"].apply(\\n    lambda mice: get_video_data(mice)\\n)\\nmice_df.head()\";\n",
       "                var nbb_cells = Jupyter.notebook.get_cells();\n",
       "                for (var i = 0; i < nbb_cells.length; ++i) {\n",
       "                    if (nbb_cells[i].input_prompt_number == nbb_cell_id) {\n",
       "                        if (nbb_cells[i].get_text() == nbb_unformatted_code) {\n",
       "                             nbb_cells[i].set_text(nbb_formatted_code);\n",
       "                        }\n",
       "                        break;\n",
       "                    }\n",
       "                }\n",
       "            }, 500);\n",
       "            "
      ],
      "text/plain": [
       "<IPython.core.display.Javascript object>"
      ]
     },
     "metadata": {},
     "output_type": "display_data"
    },
    {
     "data": {
      "application/javascript": [
       "\n",
       "            setTimeout(function() {\n",
       "                var nbb_cell_id = 162;\n",
       "                var nbb_unformatted_code = \"mice_df[[\\\"video_fps\\\", \\\"total_video_frames\\\"]] = mice_df[\\\"Mice\\\"].apply(\\n    lambda mice: get_video_data(mice)\\n)\\nmice_df.head()\";\n",
       "                var nbb_formatted_code = \"mice_df[[\\\"video_fps\\\", \\\"total_video_frames\\\"]] = mice_df[\\\"Mice\\\"].apply(\\n    lambda mice: get_video_data(mice)\\n)\\nmice_df.head()\";\n",
       "                var nbb_cells = Jupyter.notebook.get_cells();\n",
       "                for (var i = 0; i < nbb_cells.length; ++i) {\n",
       "                    if (nbb_cells[i].input_prompt_number == nbb_cell_id) {\n",
       "                        if (nbb_cells[i].get_text() == nbb_unformatted_code) {\n",
       "                             nbb_cells[i].set_text(nbb_formatted_code);\n",
       "                        }\n",
       "                        break;\n",
       "                    }\n",
       "                }\n",
       "            }, 500);\n",
       "            "
      ],
      "text/plain": [
       "<IPython.core.display.Javascript object>"
      ]
     },
     "metadata": {},
     "output_type": "display_data"
    }
   ],
   "source": [
    "mice_df[[\"video_fps\", \"total_video_frames\"]] = mice_df[\"Mice\"].apply(\n",
    "    lambda mice: get_video_data(mice)\n",
    ")\n",
    "mice_df.head()"
   ]
  },
  {
   "cell_type": "code",
   "execution_count": 163,
   "metadata": {},
   "outputs": [
    {
     "data": {
      "text/html": [
       "<div>\n",
       "<style scoped>\n",
       "    .dataframe tbody tr th:only-of-type {\n",
       "        vertical-align: middle;\n",
       "    }\n",
       "\n",
       "    .dataframe tbody tr th {\n",
       "        vertical-align: top;\n",
       "    }\n",
       "\n",
       "    .dataframe thead th {\n",
       "        text-align: right;\n",
       "    }\n",
       "</style>\n",
       "<table border=\"1\" class=\"dataframe\">\n",
       "  <thead>\n",
       "    <tr style=\"text-align: right;\">\n",
       "      <th></th>\n",
       "      <th>Mice</th>\n",
       "      <th>video_fps</th>\n",
       "      <th>total_video_frames</th>\n",
       "    </tr>\n",
       "  </thead>\n",
       "  <tbody>\n",
       "    <tr>\n",
       "      <th>1</th>\n",
       "      <td>PrL-3</td>\n",
       "      <td>30.00003</td>\n",
       "      <td>40655.0</td>\n",
       "    </tr>\n",
       "  </tbody>\n",
       "</table>\n",
       "</div>"
      ],
      "text/plain": [
       "    Mice  video_fps  total_video_frames\n",
       "1  PrL-3   30.00003             40655.0"
      ]
     },
     "execution_count": 163,
     "metadata": {},
     "output_type": "execute_result"
    },
    {
     "data": {
      "application/javascript": [
       "\n",
       "            setTimeout(function() {\n",
       "                var nbb_cell_id = 163;\n",
       "                var nbb_unformatted_code = \"mice_row = mice_df[mice_df.Mice == CURRENT_MICE]\\nmice_row\";\n",
       "                var nbb_formatted_code = \"mice_row = mice_df[mice_df.Mice == CURRENT_MICE]\\nmice_row\";\n",
       "                var nbb_cells = Jupyter.notebook.get_cells();\n",
       "                for (var i = 0; i < nbb_cells.length; ++i) {\n",
       "                    if (nbb_cells[i].input_prompt_number == nbb_cell_id) {\n",
       "                        if (nbb_cells[i].get_text() == nbb_unformatted_code) {\n",
       "                             nbb_cells[i].set_text(nbb_formatted_code);\n",
       "                        }\n",
       "                        break;\n",
       "                    }\n",
       "                }\n",
       "            }, 500);\n",
       "            "
      ],
      "text/plain": [
       "<IPython.core.display.Javascript object>"
      ]
     },
     "metadata": {},
     "output_type": "display_data"
    },
    {
     "data": {
      "application/javascript": [
       "\n",
       "            setTimeout(function() {\n",
       "                var nbb_cell_id = 163;\n",
       "                var nbb_unformatted_code = \"mice_row = mice_df[mice_df.Mice == CURRENT_MICE]\\nmice_row\";\n",
       "                var nbb_formatted_code = \"mice_row = mice_df[mice_df.Mice == CURRENT_MICE]\\nmice_row\";\n",
       "                var nbb_cells = Jupyter.notebook.get_cells();\n",
       "                for (var i = 0; i < nbb_cells.length; ++i) {\n",
       "                    if (nbb_cells[i].input_prompt_number == nbb_cell_id) {\n",
       "                        if (nbb_cells[i].get_text() == nbb_unformatted_code) {\n",
       "                             nbb_cells[i].set_text(nbb_formatted_code);\n",
       "                        }\n",
       "                        break;\n",
       "                    }\n",
       "                }\n",
       "            }, 500);\n",
       "            "
      ],
      "text/plain": [
       "<IPython.core.display.Javascript object>"
      ]
     },
     "metadata": {},
     "output_type": "display_data"
    },
    {
     "data": {
      "application/javascript": [
       "\n",
       "            setTimeout(function() {\n",
       "                var nbb_cell_id = 163;\n",
       "                var nbb_unformatted_code = \"mice_row = mice_df[mice_df.Mice == CURRENT_MICE]\\nmice_row\";\n",
       "                var nbb_formatted_code = \"mice_row = mice_df[mice_df.Mice == CURRENT_MICE]\\nmice_row\";\n",
       "                var nbb_cells = Jupyter.notebook.get_cells();\n",
       "                for (var i = 0; i < nbb_cells.length; ++i) {\n",
       "                    if (nbb_cells[i].input_prompt_number == nbb_cell_id) {\n",
       "                        if (nbb_cells[i].get_text() == nbb_unformatted_code) {\n",
       "                             nbb_cells[i].set_text(nbb_formatted_code);\n",
       "                        }\n",
       "                        break;\n",
       "                    }\n",
       "                }\n",
       "            }, 500);\n",
       "            "
      ],
      "text/plain": [
       "<IPython.core.display.Javascript object>"
      ]
     },
     "metadata": {},
     "output_type": "display_data"
    },
    {
     "data": {
      "application/javascript": [
       "\n",
       "            setTimeout(function() {\n",
       "                var nbb_cell_id = 163;\n",
       "                var nbb_unformatted_code = \"mice_row = mice_df[mice_df.Mice == CURRENT_MICE]\\nmice_row\";\n",
       "                var nbb_formatted_code = \"mice_row = mice_df[mice_df.Mice == CURRENT_MICE]\\nmice_row\";\n",
       "                var nbb_cells = Jupyter.notebook.get_cells();\n",
       "                for (var i = 0; i < nbb_cells.length; ++i) {\n",
       "                    if (nbb_cells[i].input_prompt_number == nbb_cell_id) {\n",
       "                        if (nbb_cells[i].get_text() == nbb_unformatted_code) {\n",
       "                             nbb_cells[i].set_text(nbb_formatted_code);\n",
       "                        }\n",
       "                        break;\n",
       "                    }\n",
       "                }\n",
       "            }, 500);\n",
       "            "
      ],
      "text/plain": [
       "<IPython.core.display.Javascript object>"
      ]
     },
     "metadata": {},
     "output_type": "display_data"
    },
    {
     "data": {
      "application/javascript": [
       "\n",
       "            setTimeout(function() {\n",
       "                var nbb_cell_id = 163;\n",
       "                var nbb_unformatted_code = \"mice_row = mice_df[mice_df.Mice == CURRENT_MICE]\\nmice_row\";\n",
       "                var nbb_formatted_code = \"mice_row = mice_df[mice_df.Mice == CURRENT_MICE]\\nmice_row\";\n",
       "                var nbb_cells = Jupyter.notebook.get_cells();\n",
       "                for (var i = 0; i < nbb_cells.length; ++i) {\n",
       "                    if (nbb_cells[i].input_prompt_number == nbb_cell_id) {\n",
       "                        if (nbb_cells[i].get_text() == nbb_unformatted_code) {\n",
       "                             nbb_cells[i].set_text(nbb_formatted_code);\n",
       "                        }\n",
       "                        break;\n",
       "                    }\n",
       "                }\n",
       "            }, 500);\n",
       "            "
      ],
      "text/plain": [
       "<IPython.core.display.Javascript object>"
      ]
     },
     "metadata": {},
     "output_type": "display_data"
    },
    {
     "data": {
      "application/javascript": [
       "\n",
       "            setTimeout(function() {\n",
       "                var nbb_cell_id = 163;\n",
       "                var nbb_unformatted_code = \"mice_row = mice_df[mice_df.Mice == CURRENT_MICE]\\nmice_row\";\n",
       "                var nbb_formatted_code = \"mice_row = mice_df[mice_df.Mice == CURRENT_MICE]\\nmice_row\";\n",
       "                var nbb_cells = Jupyter.notebook.get_cells();\n",
       "                for (var i = 0; i < nbb_cells.length; ++i) {\n",
       "                    if (nbb_cells[i].input_prompt_number == nbb_cell_id) {\n",
       "                        if (nbb_cells[i].get_text() == nbb_unformatted_code) {\n",
       "                             nbb_cells[i].set_text(nbb_formatted_code);\n",
       "                        }\n",
       "                        break;\n",
       "                    }\n",
       "                }\n",
       "            }, 500);\n",
       "            "
      ],
      "text/plain": [
       "<IPython.core.display.Javascript object>"
      ]
     },
     "metadata": {},
     "output_type": "display_data"
    }
   ],
   "source": [
    "mice_row = mice_df[mice_df.Mice == CURRENT_MICE]\n",
    "mice_row"
   ]
  },
  {
   "cell_type": "code",
   "execution_count": 164,
   "metadata": {},
   "outputs": [
    {
     "data": {
      "application/javascript": [
       "\n",
       "            setTimeout(function() {\n",
       "                var nbb_cell_id = 164;\n",
       "                var nbb_unformatted_code = \"def create_images_from_video(start_seconds: int, end_seconds: int, class_label: str):\\n\\n    if class_label not in labels:\\n        raise ValueError(\\\"Enter a valid class label!\\\")\\n    if CURRENT_MICE not in mice:\\n        raise ValueError(\\\"Enter a valid mice!\\\")\\n\\n    if not os.path.isdir(f\\\"{path_to_data}/{class_label}\\\"):\\n        os.mkdir(f\\\"{path_to_data}/{class_label}\\\")\\n\\n    frame_rate = math.floor(mice_row[\\\"video_fps\\\"].item())\\n\\n    video_file_path = f\\\"{path_to_videos}/{CURRENT_MICE}.mp4\\\"\\n    videoCaptureInstance = cv2.VideoCapture(video_file_path)\\n\\n    start_frame = start_seconds * frame_rate\\n    seconds = start_seconds\\n    try:\\n        while seconds != end_seconds:\\n            ret, frame = videoCaptureInstance.read()\\n            if not ret:\\n                raise BufferError(\\n                    \\\"Unexpected error occurred with reading image due to bad video file!\\\"\\n                )\\n                break\\n\\n            # Record frame every 1 second\\n            if start_frame % frame_rate == 0:\\n                filename = f\\\"{CURRENT_MICE}-{uuid.uuid4()}\\\"\\n                filepath = f\\\"{path_to_data}/{class_label}/{filename}.jpg\\\"\\n                cv2.imwrite(filepath, frame)\\n\\n                print(\\n                    f\\\"Saved image as {filename} at timestamp {utils.sec_to_time(seconds)}\\\"\\n                )\\n                seconds += 1\\n            client_key_press = cv2.waitKey(1) & 0xFF\\n\\n            # end video stream by escape key\\n            if client_key_press == 27:\\n                break\\n            start_frame += 1\\n\\n        videoCaptureInstance.release()\\n\\n        if platform.system() == \\\"Darwin\\\":\\n            cv2.waitKey(1)\\n\\n    except cv2.error:\\n        print(\\n            \\\"Unexpected error occurred with reading image and error code is\\\",\\n            cv2.error.code,\\n        )\";\n",
       "                var nbb_formatted_code = \"def create_images_from_video(start_seconds: int, end_seconds: int, class_label: str):\\n\\n    if class_label not in labels:\\n        raise ValueError(\\\"Enter a valid class label!\\\")\\n    if CURRENT_MICE not in mice:\\n        raise ValueError(\\\"Enter a valid mice!\\\")\\n\\n    if not os.path.isdir(f\\\"{path_to_data}/{class_label}\\\"):\\n        os.mkdir(f\\\"{path_to_data}/{class_label}\\\")\\n\\n    frame_rate = math.floor(mice_row[\\\"video_fps\\\"].item())\\n\\n    video_file_path = f\\\"{path_to_videos}/{CURRENT_MICE}.mp4\\\"\\n    videoCaptureInstance = cv2.VideoCapture(video_file_path)\\n\\n    start_frame = start_seconds * frame_rate\\n    seconds = start_seconds\\n    try:\\n        while seconds != end_seconds:\\n            ret, frame = videoCaptureInstance.read()\\n            if not ret:\\n                raise BufferError(\\n                    \\\"Unexpected error occurred with reading image due to bad video file!\\\"\\n                )\\n                break\\n\\n            # Record frame every 1 second\\n            if start_frame % frame_rate == 0:\\n                filename = f\\\"{CURRENT_MICE}-{uuid.uuid4()}\\\"\\n                filepath = f\\\"{path_to_data}/{class_label}/{filename}.jpg\\\"\\n                cv2.imwrite(filepath, frame)\\n\\n                print(\\n                    f\\\"Saved image as {filename} at timestamp {utils.sec_to_time(seconds)}\\\"\\n                )\\n                seconds += 1\\n            client_key_press = cv2.waitKey(1) & 0xFF\\n\\n            # end video stream by escape key\\n            if client_key_press == 27:\\n                break\\n            start_frame += 1\\n\\n        videoCaptureInstance.release()\\n\\n        if platform.system() == \\\"Darwin\\\":\\n            cv2.waitKey(1)\\n\\n    except cv2.error:\\n        print(\\n            \\\"Unexpected error occurred with reading image and error code is\\\",\\n            cv2.error.code,\\n        )\";\n",
       "                var nbb_cells = Jupyter.notebook.get_cells();\n",
       "                for (var i = 0; i < nbb_cells.length; ++i) {\n",
       "                    if (nbb_cells[i].input_prompt_number == nbb_cell_id) {\n",
       "                        if (nbb_cells[i].get_text() == nbb_unformatted_code) {\n",
       "                             nbb_cells[i].set_text(nbb_formatted_code);\n",
       "                        }\n",
       "                        break;\n",
       "                    }\n",
       "                }\n",
       "            }, 500);\n",
       "            "
      ],
      "text/plain": [
       "<IPython.core.display.Javascript object>"
      ]
     },
     "metadata": {},
     "output_type": "display_data"
    },
    {
     "data": {
      "application/javascript": [
       "\n",
       "            setTimeout(function() {\n",
       "                var nbb_cell_id = 164;\n",
       "                var nbb_unformatted_code = \"def create_images_from_video(start_seconds: int, end_seconds: int, class_label: str):\\n\\n    if class_label not in labels:\\n        raise ValueError(\\\"Enter a valid class label!\\\")\\n    if CURRENT_MICE not in mice:\\n        raise ValueError(\\\"Enter a valid mice!\\\")\\n\\n    if not os.path.isdir(f\\\"{path_to_data}/{class_label}\\\"):\\n        os.mkdir(f\\\"{path_to_data}/{class_label}\\\")\\n\\n    frame_rate = math.floor(mice_row[\\\"video_fps\\\"].item())\\n\\n    video_file_path = f\\\"{path_to_videos}/{CURRENT_MICE}.mp4\\\"\\n    videoCaptureInstance = cv2.VideoCapture(video_file_path)\\n\\n    start_frame = start_seconds * frame_rate\\n    seconds = start_seconds\\n    try:\\n        while seconds != end_seconds:\\n            ret, frame = videoCaptureInstance.read()\\n            if not ret:\\n                raise BufferError(\\n                    \\\"Unexpected error occurred with reading image due to bad video file!\\\"\\n                )\\n                break\\n\\n            # Record frame every 1 second\\n            if start_frame % frame_rate == 0:\\n                filename = f\\\"{CURRENT_MICE}-{uuid.uuid4()}\\\"\\n                filepath = f\\\"{path_to_data}/{class_label}/{filename}.jpg\\\"\\n                cv2.imwrite(filepath, frame)\\n\\n                print(\\n                    f\\\"Saved image as {filename} at timestamp {utils.sec_to_time(seconds)}\\\"\\n                )\\n                seconds += 1\\n            client_key_press = cv2.waitKey(1) & 0xFF\\n\\n            # end video stream by escape key\\n            if client_key_press == 27:\\n                break\\n            start_frame += 1\\n\\n        videoCaptureInstance.release()\\n\\n        if platform.system() == \\\"Darwin\\\":\\n            cv2.waitKey(1)\\n\\n    except cv2.error:\\n        print(\\n            \\\"Unexpected error occurred with reading image and error code is\\\",\\n            cv2.error.code,\\n        )\";\n",
       "                var nbb_formatted_code = \"def create_images_from_video(start_seconds: int, end_seconds: int, class_label: str):\\n\\n    if class_label not in labels:\\n        raise ValueError(\\\"Enter a valid class label!\\\")\\n    if CURRENT_MICE not in mice:\\n        raise ValueError(\\\"Enter a valid mice!\\\")\\n\\n    if not os.path.isdir(f\\\"{path_to_data}/{class_label}\\\"):\\n        os.mkdir(f\\\"{path_to_data}/{class_label}\\\")\\n\\n    frame_rate = math.floor(mice_row[\\\"video_fps\\\"].item())\\n\\n    video_file_path = f\\\"{path_to_videos}/{CURRENT_MICE}.mp4\\\"\\n    videoCaptureInstance = cv2.VideoCapture(video_file_path)\\n\\n    start_frame = start_seconds * frame_rate\\n    seconds = start_seconds\\n    try:\\n        while seconds != end_seconds:\\n            ret, frame = videoCaptureInstance.read()\\n            if not ret:\\n                raise BufferError(\\n                    \\\"Unexpected error occurred with reading image due to bad video file!\\\"\\n                )\\n                break\\n\\n            # Record frame every 1 second\\n            if start_frame % frame_rate == 0:\\n                filename = f\\\"{CURRENT_MICE}-{uuid.uuid4()}\\\"\\n                filepath = f\\\"{path_to_data}/{class_label}/{filename}.jpg\\\"\\n                cv2.imwrite(filepath, frame)\\n\\n                print(\\n                    f\\\"Saved image as {filename} at timestamp {utils.sec_to_time(seconds)}\\\"\\n                )\\n                seconds += 1\\n            client_key_press = cv2.waitKey(1) & 0xFF\\n\\n            # end video stream by escape key\\n            if client_key_press == 27:\\n                break\\n            start_frame += 1\\n\\n        videoCaptureInstance.release()\\n\\n        if platform.system() == \\\"Darwin\\\":\\n            cv2.waitKey(1)\\n\\n    except cv2.error:\\n        print(\\n            \\\"Unexpected error occurred with reading image and error code is\\\",\\n            cv2.error.code,\\n        )\";\n",
       "                var nbb_cells = Jupyter.notebook.get_cells();\n",
       "                for (var i = 0; i < nbb_cells.length; ++i) {\n",
       "                    if (nbb_cells[i].input_prompt_number == nbb_cell_id) {\n",
       "                        if (nbb_cells[i].get_text() == nbb_unformatted_code) {\n",
       "                             nbb_cells[i].set_text(nbb_formatted_code);\n",
       "                        }\n",
       "                        break;\n",
       "                    }\n",
       "                }\n",
       "            }, 500);\n",
       "            "
      ],
      "text/plain": [
       "<IPython.core.display.Javascript object>"
      ]
     },
     "metadata": {},
     "output_type": "display_data"
    },
    {
     "data": {
      "application/javascript": [
       "\n",
       "            setTimeout(function() {\n",
       "                var nbb_cell_id = 164;\n",
       "                var nbb_unformatted_code = \"def create_images_from_video(start_seconds: int, end_seconds: int, class_label: str):\\n\\n    if class_label not in labels:\\n        raise ValueError(\\\"Enter a valid class label!\\\")\\n    if CURRENT_MICE not in mice:\\n        raise ValueError(\\\"Enter a valid mice!\\\")\\n\\n    if not os.path.isdir(f\\\"{path_to_data}/{class_label}\\\"):\\n        os.mkdir(f\\\"{path_to_data}/{class_label}\\\")\\n\\n    frame_rate = math.floor(mice_row[\\\"video_fps\\\"].item())\\n\\n    video_file_path = f\\\"{path_to_videos}/{CURRENT_MICE}.mp4\\\"\\n    videoCaptureInstance = cv2.VideoCapture(video_file_path)\\n\\n    start_frame = start_seconds * frame_rate\\n    seconds = start_seconds\\n    try:\\n        while seconds != end_seconds:\\n            ret, frame = videoCaptureInstance.read()\\n            if not ret:\\n                raise BufferError(\\n                    \\\"Unexpected error occurred with reading image due to bad video file!\\\"\\n                )\\n                break\\n\\n            # Record frame every 1 second\\n            if start_frame % frame_rate == 0:\\n                filename = f\\\"{CURRENT_MICE}-{uuid.uuid4()}\\\"\\n                filepath = f\\\"{path_to_data}/{class_label}/{filename}.jpg\\\"\\n                cv2.imwrite(filepath, frame)\\n\\n                print(\\n                    f\\\"Saved image as {filename} at timestamp {utils.sec_to_time(seconds)}\\\"\\n                )\\n                seconds += 1\\n            client_key_press = cv2.waitKey(1) & 0xFF\\n\\n            # end video stream by escape key\\n            if client_key_press == 27:\\n                break\\n            start_frame += 1\\n\\n        videoCaptureInstance.release()\\n\\n        if platform.system() == \\\"Darwin\\\":\\n            cv2.waitKey(1)\\n\\n    except cv2.error:\\n        print(\\n            \\\"Unexpected error occurred with reading image and error code is\\\",\\n            cv2.error.code,\\n        )\";\n",
       "                var nbb_formatted_code = \"def create_images_from_video(start_seconds: int, end_seconds: int, class_label: str):\\n\\n    if class_label not in labels:\\n        raise ValueError(\\\"Enter a valid class label!\\\")\\n    if CURRENT_MICE not in mice:\\n        raise ValueError(\\\"Enter a valid mice!\\\")\\n\\n    if not os.path.isdir(f\\\"{path_to_data}/{class_label}\\\"):\\n        os.mkdir(f\\\"{path_to_data}/{class_label}\\\")\\n\\n    frame_rate = math.floor(mice_row[\\\"video_fps\\\"].item())\\n\\n    video_file_path = f\\\"{path_to_videos}/{CURRENT_MICE}.mp4\\\"\\n    videoCaptureInstance = cv2.VideoCapture(video_file_path)\\n\\n    start_frame = start_seconds * frame_rate\\n    seconds = start_seconds\\n    try:\\n        while seconds != end_seconds:\\n            ret, frame = videoCaptureInstance.read()\\n            if not ret:\\n                raise BufferError(\\n                    \\\"Unexpected error occurred with reading image due to bad video file!\\\"\\n                )\\n                break\\n\\n            # Record frame every 1 second\\n            if start_frame % frame_rate == 0:\\n                filename = f\\\"{CURRENT_MICE}-{uuid.uuid4()}\\\"\\n                filepath = f\\\"{path_to_data}/{class_label}/{filename}.jpg\\\"\\n                cv2.imwrite(filepath, frame)\\n\\n                print(\\n                    f\\\"Saved image as {filename} at timestamp {utils.sec_to_time(seconds)}\\\"\\n                )\\n                seconds += 1\\n            client_key_press = cv2.waitKey(1) & 0xFF\\n\\n            # end video stream by escape key\\n            if client_key_press == 27:\\n                break\\n            start_frame += 1\\n\\n        videoCaptureInstance.release()\\n\\n        if platform.system() == \\\"Darwin\\\":\\n            cv2.waitKey(1)\\n\\n    except cv2.error:\\n        print(\\n            \\\"Unexpected error occurred with reading image and error code is\\\",\\n            cv2.error.code,\\n        )\";\n",
       "                var nbb_cells = Jupyter.notebook.get_cells();\n",
       "                for (var i = 0; i < nbb_cells.length; ++i) {\n",
       "                    if (nbb_cells[i].input_prompt_number == nbb_cell_id) {\n",
       "                        if (nbb_cells[i].get_text() == nbb_unformatted_code) {\n",
       "                             nbb_cells[i].set_text(nbb_formatted_code);\n",
       "                        }\n",
       "                        break;\n",
       "                    }\n",
       "                }\n",
       "            }, 500);\n",
       "            "
      ],
      "text/plain": [
       "<IPython.core.display.Javascript object>"
      ]
     },
     "metadata": {},
     "output_type": "display_data"
    },
    {
     "data": {
      "application/javascript": [
       "\n",
       "            setTimeout(function() {\n",
       "                var nbb_cell_id = 164;\n",
       "                var nbb_unformatted_code = \"def create_images_from_video(start_seconds: int, end_seconds: int, class_label: str):\\n\\n    if class_label not in labels:\\n        raise ValueError(\\\"Enter a valid class label!\\\")\\n    if CURRENT_MICE not in mice:\\n        raise ValueError(\\\"Enter a valid mice!\\\")\\n\\n    if not os.path.isdir(f\\\"{path_to_data}/{class_label}\\\"):\\n        os.mkdir(f\\\"{path_to_data}/{class_label}\\\")\\n\\n    frame_rate = math.floor(mice_row[\\\"video_fps\\\"].item())\\n\\n    video_file_path = f\\\"{path_to_videos}/{CURRENT_MICE}.mp4\\\"\\n    videoCaptureInstance = cv2.VideoCapture(video_file_path)\\n\\n    start_frame = start_seconds * frame_rate\\n    seconds = start_seconds\\n    try:\\n        while seconds != end_seconds:\\n            ret, frame = videoCaptureInstance.read()\\n            if not ret:\\n                raise BufferError(\\n                    \\\"Unexpected error occurred with reading image due to bad video file!\\\"\\n                )\\n                break\\n\\n            # Record frame every 1 second\\n            if start_frame % frame_rate == 0:\\n                filename = f\\\"{CURRENT_MICE}-{uuid.uuid4()}\\\"\\n                filepath = f\\\"{path_to_data}/{class_label}/{filename}.jpg\\\"\\n                cv2.imwrite(filepath, frame)\\n\\n                print(\\n                    f\\\"Saved image as {filename} at timestamp {utils.sec_to_time(seconds)}\\\"\\n                )\\n                seconds += 1\\n            client_key_press = cv2.waitKey(1) & 0xFF\\n\\n            # end video stream by escape key\\n            if client_key_press == 27:\\n                break\\n            start_frame += 1\\n\\n        videoCaptureInstance.release()\\n\\n        if platform.system() == \\\"Darwin\\\":\\n            cv2.waitKey(1)\\n\\n    except cv2.error:\\n        print(\\n            \\\"Unexpected error occurred with reading image and error code is\\\",\\n            cv2.error.code,\\n        )\";\n",
       "                var nbb_formatted_code = \"def create_images_from_video(start_seconds: int, end_seconds: int, class_label: str):\\n\\n    if class_label not in labels:\\n        raise ValueError(\\\"Enter a valid class label!\\\")\\n    if CURRENT_MICE not in mice:\\n        raise ValueError(\\\"Enter a valid mice!\\\")\\n\\n    if not os.path.isdir(f\\\"{path_to_data}/{class_label}\\\"):\\n        os.mkdir(f\\\"{path_to_data}/{class_label}\\\")\\n\\n    frame_rate = math.floor(mice_row[\\\"video_fps\\\"].item())\\n\\n    video_file_path = f\\\"{path_to_videos}/{CURRENT_MICE}.mp4\\\"\\n    videoCaptureInstance = cv2.VideoCapture(video_file_path)\\n\\n    start_frame = start_seconds * frame_rate\\n    seconds = start_seconds\\n    try:\\n        while seconds != end_seconds:\\n            ret, frame = videoCaptureInstance.read()\\n            if not ret:\\n                raise BufferError(\\n                    \\\"Unexpected error occurred with reading image due to bad video file!\\\"\\n                )\\n                break\\n\\n            # Record frame every 1 second\\n            if start_frame % frame_rate == 0:\\n                filename = f\\\"{CURRENT_MICE}-{uuid.uuid4()}\\\"\\n                filepath = f\\\"{path_to_data}/{class_label}/{filename}.jpg\\\"\\n                cv2.imwrite(filepath, frame)\\n\\n                print(\\n                    f\\\"Saved image as {filename} at timestamp {utils.sec_to_time(seconds)}\\\"\\n                )\\n                seconds += 1\\n            client_key_press = cv2.waitKey(1) & 0xFF\\n\\n            # end video stream by escape key\\n            if client_key_press == 27:\\n                break\\n            start_frame += 1\\n\\n        videoCaptureInstance.release()\\n\\n        if platform.system() == \\\"Darwin\\\":\\n            cv2.waitKey(1)\\n\\n    except cv2.error:\\n        print(\\n            \\\"Unexpected error occurred with reading image and error code is\\\",\\n            cv2.error.code,\\n        )\";\n",
       "                var nbb_cells = Jupyter.notebook.get_cells();\n",
       "                for (var i = 0; i < nbb_cells.length; ++i) {\n",
       "                    if (nbb_cells[i].input_prompt_number == nbb_cell_id) {\n",
       "                        if (nbb_cells[i].get_text() == nbb_unformatted_code) {\n",
       "                             nbb_cells[i].set_text(nbb_formatted_code);\n",
       "                        }\n",
       "                        break;\n",
       "                    }\n",
       "                }\n",
       "            }, 500);\n",
       "            "
      ],
      "text/plain": [
       "<IPython.core.display.Javascript object>"
      ]
     },
     "metadata": {},
     "output_type": "display_data"
    },
    {
     "data": {
      "application/javascript": [
       "\n",
       "            setTimeout(function() {\n",
       "                var nbb_cell_id = 164;\n",
       "                var nbb_unformatted_code = \"def create_images_from_video(start_seconds: int, end_seconds: int, class_label: str):\\n\\n    if class_label not in labels:\\n        raise ValueError(\\\"Enter a valid class label!\\\")\\n    if CURRENT_MICE not in mice:\\n        raise ValueError(\\\"Enter a valid mice!\\\")\\n\\n    if not os.path.isdir(f\\\"{path_to_data}/{class_label}\\\"):\\n        os.mkdir(f\\\"{path_to_data}/{class_label}\\\")\\n\\n    frame_rate = math.floor(mice_row[\\\"video_fps\\\"].item())\\n\\n    video_file_path = f\\\"{path_to_videos}/{CURRENT_MICE}.mp4\\\"\\n    videoCaptureInstance = cv2.VideoCapture(video_file_path)\\n\\n    start_frame = start_seconds * frame_rate\\n    seconds = start_seconds\\n    try:\\n        while seconds != end_seconds:\\n            ret, frame = videoCaptureInstance.read()\\n            if not ret:\\n                raise BufferError(\\n                    \\\"Unexpected error occurred with reading image due to bad video file!\\\"\\n                )\\n                break\\n\\n            # Record frame every 1 second\\n            if start_frame % frame_rate == 0:\\n                filename = f\\\"{CURRENT_MICE}-{uuid.uuid4()}\\\"\\n                filepath = f\\\"{path_to_data}/{class_label}/{filename}.jpg\\\"\\n                cv2.imwrite(filepath, frame)\\n\\n                print(\\n                    f\\\"Saved image as {filename} at timestamp {utils.sec_to_time(seconds)}\\\"\\n                )\\n                seconds += 1\\n            client_key_press = cv2.waitKey(1) & 0xFF\\n\\n            # end video stream by escape key\\n            if client_key_press == 27:\\n                break\\n            start_frame += 1\\n\\n        videoCaptureInstance.release()\\n\\n        if platform.system() == \\\"Darwin\\\":\\n            cv2.waitKey(1)\\n\\n    except cv2.error:\\n        print(\\n            \\\"Unexpected error occurred with reading image and error code is\\\",\\n            cv2.error.code,\\n        )\";\n",
       "                var nbb_formatted_code = \"def create_images_from_video(start_seconds: int, end_seconds: int, class_label: str):\\n\\n    if class_label not in labels:\\n        raise ValueError(\\\"Enter a valid class label!\\\")\\n    if CURRENT_MICE not in mice:\\n        raise ValueError(\\\"Enter a valid mice!\\\")\\n\\n    if not os.path.isdir(f\\\"{path_to_data}/{class_label}\\\"):\\n        os.mkdir(f\\\"{path_to_data}/{class_label}\\\")\\n\\n    frame_rate = math.floor(mice_row[\\\"video_fps\\\"].item())\\n\\n    video_file_path = f\\\"{path_to_videos}/{CURRENT_MICE}.mp4\\\"\\n    videoCaptureInstance = cv2.VideoCapture(video_file_path)\\n\\n    start_frame = start_seconds * frame_rate\\n    seconds = start_seconds\\n    try:\\n        while seconds != end_seconds:\\n            ret, frame = videoCaptureInstance.read()\\n            if not ret:\\n                raise BufferError(\\n                    \\\"Unexpected error occurred with reading image due to bad video file!\\\"\\n                )\\n                break\\n\\n            # Record frame every 1 second\\n            if start_frame % frame_rate == 0:\\n                filename = f\\\"{CURRENT_MICE}-{uuid.uuid4()}\\\"\\n                filepath = f\\\"{path_to_data}/{class_label}/{filename}.jpg\\\"\\n                cv2.imwrite(filepath, frame)\\n\\n                print(\\n                    f\\\"Saved image as {filename} at timestamp {utils.sec_to_time(seconds)}\\\"\\n                )\\n                seconds += 1\\n            client_key_press = cv2.waitKey(1) & 0xFF\\n\\n            # end video stream by escape key\\n            if client_key_press == 27:\\n                break\\n            start_frame += 1\\n\\n        videoCaptureInstance.release()\\n\\n        if platform.system() == \\\"Darwin\\\":\\n            cv2.waitKey(1)\\n\\n    except cv2.error:\\n        print(\\n            \\\"Unexpected error occurred with reading image and error code is\\\",\\n            cv2.error.code,\\n        )\";\n",
       "                var nbb_cells = Jupyter.notebook.get_cells();\n",
       "                for (var i = 0; i < nbb_cells.length; ++i) {\n",
       "                    if (nbb_cells[i].input_prompt_number == nbb_cell_id) {\n",
       "                        if (nbb_cells[i].get_text() == nbb_unformatted_code) {\n",
       "                             nbb_cells[i].set_text(nbb_formatted_code);\n",
       "                        }\n",
       "                        break;\n",
       "                    }\n",
       "                }\n",
       "            }, 500);\n",
       "            "
      ],
      "text/plain": [
       "<IPython.core.display.Javascript object>"
      ]
     },
     "metadata": {},
     "output_type": "display_data"
    },
    {
     "data": {
      "application/javascript": [
       "\n",
       "            setTimeout(function() {\n",
       "                var nbb_cell_id = 164;\n",
       "                var nbb_unformatted_code = \"def create_images_from_video(start_seconds: int, end_seconds: int, class_label: str):\\n\\n    if class_label not in labels:\\n        raise ValueError(\\\"Enter a valid class label!\\\")\\n    if CURRENT_MICE not in mice:\\n        raise ValueError(\\\"Enter a valid mice!\\\")\\n\\n    if not os.path.isdir(f\\\"{path_to_data}/{class_label}\\\"):\\n        os.mkdir(f\\\"{path_to_data}/{class_label}\\\")\\n\\n    frame_rate = math.floor(mice_row[\\\"video_fps\\\"].item())\\n\\n    video_file_path = f\\\"{path_to_videos}/{CURRENT_MICE}.mp4\\\"\\n    videoCaptureInstance = cv2.VideoCapture(video_file_path)\\n\\n    start_frame = start_seconds * frame_rate\\n    seconds = start_seconds\\n    try:\\n        while seconds != end_seconds:\\n            ret, frame = videoCaptureInstance.read()\\n            if not ret:\\n                raise BufferError(\\n                    \\\"Unexpected error occurred with reading image due to bad video file!\\\"\\n                )\\n                break\\n\\n            # Record frame every 1 second\\n            if start_frame % frame_rate == 0:\\n                filename = f\\\"{CURRENT_MICE}-{uuid.uuid4()}\\\"\\n                filepath = f\\\"{path_to_data}/{class_label}/{filename}.jpg\\\"\\n                cv2.imwrite(filepath, frame)\\n\\n                print(\\n                    f\\\"Saved image as {filename} at timestamp {utils.sec_to_time(seconds)}\\\"\\n                )\\n                seconds += 1\\n            client_key_press = cv2.waitKey(1) & 0xFF\\n\\n            # end video stream by escape key\\n            if client_key_press == 27:\\n                break\\n            start_frame += 1\\n\\n        videoCaptureInstance.release()\\n\\n        if platform.system() == \\\"Darwin\\\":\\n            cv2.waitKey(1)\\n\\n    except cv2.error:\\n        print(\\n            \\\"Unexpected error occurred with reading image and error code is\\\",\\n            cv2.error.code,\\n        )\";\n",
       "                var nbb_formatted_code = \"def create_images_from_video(start_seconds: int, end_seconds: int, class_label: str):\\n\\n    if class_label not in labels:\\n        raise ValueError(\\\"Enter a valid class label!\\\")\\n    if CURRENT_MICE not in mice:\\n        raise ValueError(\\\"Enter a valid mice!\\\")\\n\\n    if not os.path.isdir(f\\\"{path_to_data}/{class_label}\\\"):\\n        os.mkdir(f\\\"{path_to_data}/{class_label}\\\")\\n\\n    frame_rate = math.floor(mice_row[\\\"video_fps\\\"].item())\\n\\n    video_file_path = f\\\"{path_to_videos}/{CURRENT_MICE}.mp4\\\"\\n    videoCaptureInstance = cv2.VideoCapture(video_file_path)\\n\\n    start_frame = start_seconds * frame_rate\\n    seconds = start_seconds\\n    try:\\n        while seconds != end_seconds:\\n            ret, frame = videoCaptureInstance.read()\\n            if not ret:\\n                raise BufferError(\\n                    \\\"Unexpected error occurred with reading image due to bad video file!\\\"\\n                )\\n                break\\n\\n            # Record frame every 1 second\\n            if start_frame % frame_rate == 0:\\n                filename = f\\\"{CURRENT_MICE}-{uuid.uuid4()}\\\"\\n                filepath = f\\\"{path_to_data}/{class_label}/{filename}.jpg\\\"\\n                cv2.imwrite(filepath, frame)\\n\\n                print(\\n                    f\\\"Saved image as {filename} at timestamp {utils.sec_to_time(seconds)}\\\"\\n                )\\n                seconds += 1\\n            client_key_press = cv2.waitKey(1) & 0xFF\\n\\n            # end video stream by escape key\\n            if client_key_press == 27:\\n                break\\n            start_frame += 1\\n\\n        videoCaptureInstance.release()\\n\\n        if platform.system() == \\\"Darwin\\\":\\n            cv2.waitKey(1)\\n\\n    except cv2.error:\\n        print(\\n            \\\"Unexpected error occurred with reading image and error code is\\\",\\n            cv2.error.code,\\n        )\";\n",
       "                var nbb_cells = Jupyter.notebook.get_cells();\n",
       "                for (var i = 0; i < nbb_cells.length; ++i) {\n",
       "                    if (nbb_cells[i].input_prompt_number == nbb_cell_id) {\n",
       "                        if (nbb_cells[i].get_text() == nbb_unformatted_code) {\n",
       "                             nbb_cells[i].set_text(nbb_formatted_code);\n",
       "                        }\n",
       "                        break;\n",
       "                    }\n",
       "                }\n",
       "            }, 500);\n",
       "            "
      ],
      "text/plain": [
       "<IPython.core.display.Javascript object>"
      ]
     },
     "metadata": {},
     "output_type": "display_data"
    }
   ],
   "source": [
    "def create_images_from_video(start_seconds: int, end_seconds: int, class_label: str):\n",
    "\n",
    "    if class_label not in labels:\n",
    "        raise ValueError(\"Enter a valid class label!\")\n",
    "    if CURRENT_MICE not in mice:\n",
    "        raise ValueError(\"Enter a valid mice!\")\n",
    "\n",
    "    if not os.path.isdir(f\"{path_to_data}/{class_label}\"):\n",
    "        os.mkdir(f\"{path_to_data}/{class_label}\")\n",
    "\n",
    "    frame_rate = math.floor(mice_row[\"video_fps\"].item())\n",
    "\n",
    "    video_file_path = f\"{path_to_videos}/{CURRENT_MICE}.mp4\"\n",
    "    videoCaptureInstance = cv2.VideoCapture(video_file_path)\n",
    "\n",
    "    start_frame = start_seconds * frame_rate\n",
    "    seconds = start_seconds\n",
    "    try:\n",
    "        while seconds != end_seconds:\n",
    "            ret, frame = videoCaptureInstance.read()\n",
    "            if not ret:\n",
    "                raise BufferError(\n",
    "                    \"Unexpected error occurred with reading image due to bad video file!\"\n",
    "                )\n",
    "                break\n",
    "\n",
    "            # Record frame every 1 second\n",
    "            if start_frame % frame_rate == 0:\n",
    "                filename = f\"{CURRENT_MICE}-{uuid.uuid4()}\"\n",
    "                filepath = f\"{path_to_data}/{class_label}/{filename}.jpg\"\n",
    "                cv2.imwrite(filepath, frame)\n",
    "\n",
    "                print(\n",
    "                    f\"Saved image as {filename} at timestamp {utils.sec_to_time(seconds)}\"\n",
    "                )\n",
    "                seconds += 1\n",
    "            client_key_press = cv2.waitKey(1) & 0xFF\n",
    "\n",
    "            # end video stream by escape key\n",
    "            if client_key_press == 27:\n",
    "                break\n",
    "            start_frame += 1\n",
    "\n",
    "        videoCaptureInstance.release()\n",
    "\n",
    "        if platform.system() == \"Darwin\":\n",
    "            cv2.waitKey(1)\n",
    "\n",
    "    except cv2.error:\n",
    "        print(\n",
    "            \"Unexpected error occurred with reading image and error code is\",\n",
    "            cv2.error.code,\n",
    "        )"
   ]
  },
  {
   "cell_type": "code",
   "execution_count": 165,
   "metadata": {},
   "outputs": [
    {
     "data": {
      "application/javascript": [
       "\n",
       "            setTimeout(function() {\n",
       "                var nbb_cell_id = 165;\n",
       "                var nbb_unformatted_code = \"def split_train_test(class_label: str, split_ratio: float):\\n\\n    if class_label not in labels:\\n        raise ValueError(\\\"Enter a valid class label!\\\")\\n\\n    split_ratio = split_ratio\\n    all_mice_files = os.listdir(f\\\"{path_to_data}/{class_label}\\\")\\n    random.shuffle(all_mice_files)\\n    train_size = len(all_mice_files) * split_ratio\\n    files_moved = 0\\n\\n    for mice in all_mice_files:\\n        if files_moved < train_size:\\n            shutil.move(\\n                f\\\"{path_to_data}/{class_label}/{mice}\\\",\\n                f\\\"{path_to_data}/train/{class_label}\\\",\\n            )\\n        else:\\n            shutil.move(\\n                f\\\"{path_to_data}/{class_label}/{mice}\\\",\\n                f\\\"{path_to_data}/test/{class_label}\\\",\\n            )\\n        files_moved += 1\\n    if len(os.listdir(f\\\"{path_to_data}/{class_label}\\\")) == 0:\\n        shutil.rmtree(f\\\"{path_to_data}/{class_label}\\\")\";\n",
       "                var nbb_formatted_code = \"def split_train_test(class_label: str, split_ratio: float):\\n\\n    if class_label not in labels:\\n        raise ValueError(\\\"Enter a valid class label!\\\")\\n\\n    split_ratio = split_ratio\\n    all_mice_files = os.listdir(f\\\"{path_to_data}/{class_label}\\\")\\n    random.shuffle(all_mice_files)\\n    train_size = len(all_mice_files) * split_ratio\\n    files_moved = 0\\n\\n    for mice in all_mice_files:\\n        if files_moved < train_size:\\n            shutil.move(\\n                f\\\"{path_to_data}/{class_label}/{mice}\\\",\\n                f\\\"{path_to_data}/train/{class_label}\\\",\\n            )\\n        else:\\n            shutil.move(\\n                f\\\"{path_to_data}/{class_label}/{mice}\\\",\\n                f\\\"{path_to_data}/test/{class_label}\\\",\\n            )\\n        files_moved += 1\\n    if len(os.listdir(f\\\"{path_to_data}/{class_label}\\\")) == 0:\\n        shutil.rmtree(f\\\"{path_to_data}/{class_label}\\\")\";\n",
       "                var nbb_cells = Jupyter.notebook.get_cells();\n",
       "                for (var i = 0; i < nbb_cells.length; ++i) {\n",
       "                    if (nbb_cells[i].input_prompt_number == nbb_cell_id) {\n",
       "                        if (nbb_cells[i].get_text() == nbb_unformatted_code) {\n",
       "                             nbb_cells[i].set_text(nbb_formatted_code);\n",
       "                        }\n",
       "                        break;\n",
       "                    }\n",
       "                }\n",
       "            }, 500);\n",
       "            "
      ],
      "text/plain": [
       "<IPython.core.display.Javascript object>"
      ]
     },
     "metadata": {},
     "output_type": "display_data"
    },
    {
     "data": {
      "application/javascript": [
       "\n",
       "            setTimeout(function() {\n",
       "                var nbb_cell_id = 165;\n",
       "                var nbb_unformatted_code = \"def split_train_test(class_label: str, split_ratio: float):\\n\\n    if class_label not in labels:\\n        raise ValueError(\\\"Enter a valid class label!\\\")\\n\\n    split_ratio = split_ratio\\n    all_mice_files = os.listdir(f\\\"{path_to_data}/{class_label}\\\")\\n    random.shuffle(all_mice_files)\\n    train_size = len(all_mice_files) * split_ratio\\n    files_moved = 0\\n\\n    for mice in all_mice_files:\\n        if files_moved < train_size:\\n            shutil.move(\\n                f\\\"{path_to_data}/{class_label}/{mice}\\\",\\n                f\\\"{path_to_data}/train/{class_label}\\\",\\n            )\\n        else:\\n            shutil.move(\\n                f\\\"{path_to_data}/{class_label}/{mice}\\\",\\n                f\\\"{path_to_data}/test/{class_label}\\\",\\n            )\\n        files_moved += 1\\n    if len(os.listdir(f\\\"{path_to_data}/{class_label}\\\")) == 0:\\n        shutil.rmtree(f\\\"{path_to_data}/{class_label}\\\")\";\n",
       "                var nbb_formatted_code = \"def split_train_test(class_label: str, split_ratio: float):\\n\\n    if class_label not in labels:\\n        raise ValueError(\\\"Enter a valid class label!\\\")\\n\\n    split_ratio = split_ratio\\n    all_mice_files = os.listdir(f\\\"{path_to_data}/{class_label}\\\")\\n    random.shuffle(all_mice_files)\\n    train_size = len(all_mice_files) * split_ratio\\n    files_moved = 0\\n\\n    for mice in all_mice_files:\\n        if files_moved < train_size:\\n            shutil.move(\\n                f\\\"{path_to_data}/{class_label}/{mice}\\\",\\n                f\\\"{path_to_data}/train/{class_label}\\\",\\n            )\\n        else:\\n            shutil.move(\\n                f\\\"{path_to_data}/{class_label}/{mice}\\\",\\n                f\\\"{path_to_data}/test/{class_label}\\\",\\n            )\\n        files_moved += 1\\n    if len(os.listdir(f\\\"{path_to_data}/{class_label}\\\")) == 0:\\n        shutil.rmtree(f\\\"{path_to_data}/{class_label}\\\")\";\n",
       "                var nbb_cells = Jupyter.notebook.get_cells();\n",
       "                for (var i = 0; i < nbb_cells.length; ++i) {\n",
       "                    if (nbb_cells[i].input_prompt_number == nbb_cell_id) {\n",
       "                        if (nbb_cells[i].get_text() == nbb_unformatted_code) {\n",
       "                             nbb_cells[i].set_text(nbb_formatted_code);\n",
       "                        }\n",
       "                        break;\n",
       "                    }\n",
       "                }\n",
       "            }, 500);\n",
       "            "
      ],
      "text/plain": [
       "<IPython.core.display.Javascript object>"
      ]
     },
     "metadata": {},
     "output_type": "display_data"
    },
    {
     "data": {
      "application/javascript": [
       "\n",
       "            setTimeout(function() {\n",
       "                var nbb_cell_id = 165;\n",
       "                var nbb_unformatted_code = \"def split_train_test(class_label: str, split_ratio: float):\\n\\n    if class_label not in labels:\\n        raise ValueError(\\\"Enter a valid class label!\\\")\\n\\n    split_ratio = split_ratio\\n    all_mice_files = os.listdir(f\\\"{path_to_data}/{class_label}\\\")\\n    random.shuffle(all_mice_files)\\n    train_size = len(all_mice_files) * split_ratio\\n    files_moved = 0\\n\\n    for mice in all_mice_files:\\n        if files_moved < train_size:\\n            shutil.move(\\n                f\\\"{path_to_data}/{class_label}/{mice}\\\",\\n                f\\\"{path_to_data}/train/{class_label}\\\",\\n            )\\n        else:\\n            shutil.move(\\n                f\\\"{path_to_data}/{class_label}/{mice}\\\",\\n                f\\\"{path_to_data}/test/{class_label}\\\",\\n            )\\n        files_moved += 1\\n    if len(os.listdir(f\\\"{path_to_data}/{class_label}\\\")) == 0:\\n        shutil.rmtree(f\\\"{path_to_data}/{class_label}\\\")\";\n",
       "                var nbb_formatted_code = \"def split_train_test(class_label: str, split_ratio: float):\\n\\n    if class_label not in labels:\\n        raise ValueError(\\\"Enter a valid class label!\\\")\\n\\n    split_ratio = split_ratio\\n    all_mice_files = os.listdir(f\\\"{path_to_data}/{class_label}\\\")\\n    random.shuffle(all_mice_files)\\n    train_size = len(all_mice_files) * split_ratio\\n    files_moved = 0\\n\\n    for mice in all_mice_files:\\n        if files_moved < train_size:\\n            shutil.move(\\n                f\\\"{path_to_data}/{class_label}/{mice}\\\",\\n                f\\\"{path_to_data}/train/{class_label}\\\",\\n            )\\n        else:\\n            shutil.move(\\n                f\\\"{path_to_data}/{class_label}/{mice}\\\",\\n                f\\\"{path_to_data}/test/{class_label}\\\",\\n            )\\n        files_moved += 1\\n    if len(os.listdir(f\\\"{path_to_data}/{class_label}\\\")) == 0:\\n        shutil.rmtree(f\\\"{path_to_data}/{class_label}\\\")\";\n",
       "                var nbb_cells = Jupyter.notebook.get_cells();\n",
       "                for (var i = 0; i < nbb_cells.length; ++i) {\n",
       "                    if (nbb_cells[i].input_prompt_number == nbb_cell_id) {\n",
       "                        if (nbb_cells[i].get_text() == nbb_unformatted_code) {\n",
       "                             nbb_cells[i].set_text(nbb_formatted_code);\n",
       "                        }\n",
       "                        break;\n",
       "                    }\n",
       "                }\n",
       "            }, 500);\n",
       "            "
      ],
      "text/plain": [
       "<IPython.core.display.Javascript object>"
      ]
     },
     "metadata": {},
     "output_type": "display_data"
    },
    {
     "data": {
      "application/javascript": [
       "\n",
       "            setTimeout(function() {\n",
       "                var nbb_cell_id = 165;\n",
       "                var nbb_unformatted_code = \"def split_train_test(class_label: str, split_ratio: float):\\n\\n    if class_label not in labels:\\n        raise ValueError(\\\"Enter a valid class label!\\\")\\n\\n    split_ratio = split_ratio\\n    all_mice_files = os.listdir(f\\\"{path_to_data}/{class_label}\\\")\\n    random.shuffle(all_mice_files)\\n    train_size = len(all_mice_files) * split_ratio\\n    files_moved = 0\\n\\n    for mice in all_mice_files:\\n        if files_moved < train_size:\\n            shutil.move(\\n                f\\\"{path_to_data}/{class_label}/{mice}\\\",\\n                f\\\"{path_to_data}/train/{class_label}\\\",\\n            )\\n        else:\\n            shutil.move(\\n                f\\\"{path_to_data}/{class_label}/{mice}\\\",\\n                f\\\"{path_to_data}/test/{class_label}\\\",\\n            )\\n        files_moved += 1\\n    if len(os.listdir(f\\\"{path_to_data}/{class_label}\\\")) == 0:\\n        shutil.rmtree(f\\\"{path_to_data}/{class_label}\\\")\";\n",
       "                var nbb_formatted_code = \"def split_train_test(class_label: str, split_ratio: float):\\n\\n    if class_label not in labels:\\n        raise ValueError(\\\"Enter a valid class label!\\\")\\n\\n    split_ratio = split_ratio\\n    all_mice_files = os.listdir(f\\\"{path_to_data}/{class_label}\\\")\\n    random.shuffle(all_mice_files)\\n    train_size = len(all_mice_files) * split_ratio\\n    files_moved = 0\\n\\n    for mice in all_mice_files:\\n        if files_moved < train_size:\\n            shutil.move(\\n                f\\\"{path_to_data}/{class_label}/{mice}\\\",\\n                f\\\"{path_to_data}/train/{class_label}\\\",\\n            )\\n        else:\\n            shutil.move(\\n                f\\\"{path_to_data}/{class_label}/{mice}\\\",\\n                f\\\"{path_to_data}/test/{class_label}\\\",\\n            )\\n        files_moved += 1\\n    if len(os.listdir(f\\\"{path_to_data}/{class_label}\\\")) == 0:\\n        shutil.rmtree(f\\\"{path_to_data}/{class_label}\\\")\";\n",
       "                var nbb_cells = Jupyter.notebook.get_cells();\n",
       "                for (var i = 0; i < nbb_cells.length; ++i) {\n",
       "                    if (nbb_cells[i].input_prompt_number == nbb_cell_id) {\n",
       "                        if (nbb_cells[i].get_text() == nbb_unformatted_code) {\n",
       "                             nbb_cells[i].set_text(nbb_formatted_code);\n",
       "                        }\n",
       "                        break;\n",
       "                    }\n",
       "                }\n",
       "            }, 500);\n",
       "            "
      ],
      "text/plain": [
       "<IPython.core.display.Javascript object>"
      ]
     },
     "metadata": {},
     "output_type": "display_data"
    },
    {
     "data": {
      "application/javascript": [
       "\n",
       "            setTimeout(function() {\n",
       "                var nbb_cell_id = 165;\n",
       "                var nbb_unformatted_code = \"def split_train_test(class_label: str, split_ratio: float):\\n\\n    if class_label not in labels:\\n        raise ValueError(\\\"Enter a valid class label!\\\")\\n\\n    split_ratio = split_ratio\\n    all_mice_files = os.listdir(f\\\"{path_to_data}/{class_label}\\\")\\n    random.shuffle(all_mice_files)\\n    train_size = len(all_mice_files) * split_ratio\\n    files_moved = 0\\n\\n    for mice in all_mice_files:\\n        if files_moved < train_size:\\n            shutil.move(\\n                f\\\"{path_to_data}/{class_label}/{mice}\\\",\\n                f\\\"{path_to_data}/train/{class_label}\\\",\\n            )\\n        else:\\n            shutil.move(\\n                f\\\"{path_to_data}/{class_label}/{mice}\\\",\\n                f\\\"{path_to_data}/test/{class_label}\\\",\\n            )\\n        files_moved += 1\\n    if len(os.listdir(f\\\"{path_to_data}/{class_label}\\\")) == 0:\\n        shutil.rmtree(f\\\"{path_to_data}/{class_label}\\\")\";\n",
       "                var nbb_formatted_code = \"def split_train_test(class_label: str, split_ratio: float):\\n\\n    if class_label not in labels:\\n        raise ValueError(\\\"Enter a valid class label!\\\")\\n\\n    split_ratio = split_ratio\\n    all_mice_files = os.listdir(f\\\"{path_to_data}/{class_label}\\\")\\n    random.shuffle(all_mice_files)\\n    train_size = len(all_mice_files) * split_ratio\\n    files_moved = 0\\n\\n    for mice in all_mice_files:\\n        if files_moved < train_size:\\n            shutil.move(\\n                f\\\"{path_to_data}/{class_label}/{mice}\\\",\\n                f\\\"{path_to_data}/train/{class_label}\\\",\\n            )\\n        else:\\n            shutil.move(\\n                f\\\"{path_to_data}/{class_label}/{mice}\\\",\\n                f\\\"{path_to_data}/test/{class_label}\\\",\\n            )\\n        files_moved += 1\\n    if len(os.listdir(f\\\"{path_to_data}/{class_label}\\\")) == 0:\\n        shutil.rmtree(f\\\"{path_to_data}/{class_label}\\\")\";\n",
       "                var nbb_cells = Jupyter.notebook.get_cells();\n",
       "                for (var i = 0; i < nbb_cells.length; ++i) {\n",
       "                    if (nbb_cells[i].input_prompt_number == nbb_cell_id) {\n",
       "                        if (nbb_cells[i].get_text() == nbb_unformatted_code) {\n",
       "                             nbb_cells[i].set_text(nbb_formatted_code);\n",
       "                        }\n",
       "                        break;\n",
       "                    }\n",
       "                }\n",
       "            }, 500);\n",
       "            "
      ],
      "text/plain": [
       "<IPython.core.display.Javascript object>"
      ]
     },
     "metadata": {},
     "output_type": "display_data"
    },
    {
     "data": {
      "application/javascript": [
       "\n",
       "            setTimeout(function() {\n",
       "                var nbb_cell_id = 165;\n",
       "                var nbb_unformatted_code = \"def split_train_test(class_label: str, split_ratio: float):\\n\\n    if class_label not in labels:\\n        raise ValueError(\\\"Enter a valid class label!\\\")\\n\\n    split_ratio = split_ratio\\n    all_mice_files = os.listdir(f\\\"{path_to_data}/{class_label}\\\")\\n    random.shuffle(all_mice_files)\\n    train_size = len(all_mice_files) * split_ratio\\n    files_moved = 0\\n\\n    for mice in all_mice_files:\\n        if files_moved < train_size:\\n            shutil.move(\\n                f\\\"{path_to_data}/{class_label}/{mice}\\\",\\n                f\\\"{path_to_data}/train/{class_label}\\\",\\n            )\\n        else:\\n            shutil.move(\\n                f\\\"{path_to_data}/{class_label}/{mice}\\\",\\n                f\\\"{path_to_data}/test/{class_label}\\\",\\n            )\\n        files_moved += 1\\n    if len(os.listdir(f\\\"{path_to_data}/{class_label}\\\")) == 0:\\n        shutil.rmtree(f\\\"{path_to_data}/{class_label}\\\")\";\n",
       "                var nbb_formatted_code = \"def split_train_test(class_label: str, split_ratio: float):\\n\\n    if class_label not in labels:\\n        raise ValueError(\\\"Enter a valid class label!\\\")\\n\\n    split_ratio = split_ratio\\n    all_mice_files = os.listdir(f\\\"{path_to_data}/{class_label}\\\")\\n    random.shuffle(all_mice_files)\\n    train_size = len(all_mice_files) * split_ratio\\n    files_moved = 0\\n\\n    for mice in all_mice_files:\\n        if files_moved < train_size:\\n            shutil.move(\\n                f\\\"{path_to_data}/{class_label}/{mice}\\\",\\n                f\\\"{path_to_data}/train/{class_label}\\\",\\n            )\\n        else:\\n            shutil.move(\\n                f\\\"{path_to_data}/{class_label}/{mice}\\\",\\n                f\\\"{path_to_data}/test/{class_label}\\\",\\n            )\\n        files_moved += 1\\n    if len(os.listdir(f\\\"{path_to_data}/{class_label}\\\")) == 0:\\n        shutil.rmtree(f\\\"{path_to_data}/{class_label}\\\")\";\n",
       "                var nbb_cells = Jupyter.notebook.get_cells();\n",
       "                for (var i = 0; i < nbb_cells.length; ++i) {\n",
       "                    if (nbb_cells[i].input_prompt_number == nbb_cell_id) {\n",
       "                        if (nbb_cells[i].get_text() == nbb_unformatted_code) {\n",
       "                             nbb_cells[i].set_text(nbb_formatted_code);\n",
       "                        }\n",
       "                        break;\n",
       "                    }\n",
       "                }\n",
       "            }, 500);\n",
       "            "
      ],
      "text/plain": [
       "<IPython.core.display.Javascript object>"
      ]
     },
     "metadata": {},
     "output_type": "display_data"
    }
   ],
   "source": [
    "def split_train_test(class_label: str, split_ratio: float):\n",
    "\n",
    "    if class_label not in labels:\n",
    "        raise ValueError(\"Enter a valid class label!\")\n",
    "\n",
    "    split_ratio = split_ratio\n",
    "    all_mice_files = os.listdir(f\"{path_to_data}/{class_label}\")\n",
    "    random.shuffle(all_mice_files)\n",
    "    train_size = len(all_mice_files) * split_ratio\n",
    "    files_moved = 0\n",
    "\n",
    "    for mice in all_mice_files:\n",
    "        if files_moved < train_size:\n",
    "            shutil.move(\n",
    "                f\"{path_to_data}/{class_label}/{mice}\",\n",
    "                f\"{path_to_data}/train/{class_label}\",\n",
    "            )\n",
    "        else:\n",
    "            shutil.move(\n",
    "                f\"{path_to_data}/{class_label}/{mice}\",\n",
    "                f\"{path_to_data}/test/{class_label}\",\n",
    "            )\n",
    "        files_moved += 1\n",
    "    if len(os.listdir(f\"{path_to_data}/{class_label}\")) == 0:\n",
    "        shutil.rmtree(f\"{path_to_data}/{class_label}\")"
   ]
  },
  {
   "cell_type": "code",
   "execution_count": 166,
   "metadata": {},
   "outputs": [
    {
     "data": {
      "application/javascript": [
       "\n",
       "            setTimeout(function() {\n",
       "                var nbb_cell_id = 166;\n",
       "                var nbb_unformatted_code = \"def create_dataset_pipeline(\\n    start_seconds, end_seconds, class_label: str, split=True, split_ratio=0.8\\n):\\n    try:\\n        create_images_from_video(start_seconds, end_seconds, class_label)\\n        if split:\\n            if len(os.listdir(f\\\"{path_to_data}/{class_label}\\\")) != 0:\\n                split_train_test(class_label, split_ratio)\\n            else:\\n                sys.exit(\\n                    f\\\"{path_to_data}/{class_label} is empty and that means frames from videos were not captured successfully!\\\"\\n                )\\n        else:\\n            pass\\n    except:\\n        var = traceback.format_exc()\\n        print(var)\";\n",
       "                var nbb_formatted_code = \"def create_dataset_pipeline(\\n    start_seconds, end_seconds, class_label: str, split=True, split_ratio=0.8\\n):\\n    try:\\n        create_images_from_video(start_seconds, end_seconds, class_label)\\n        if split:\\n            if len(os.listdir(f\\\"{path_to_data}/{class_label}\\\")) != 0:\\n                split_train_test(class_label, split_ratio)\\n            else:\\n                sys.exit(\\n                    f\\\"{path_to_data}/{class_label} is empty and that means frames from videos were not captured successfully!\\\"\\n                )\\n        else:\\n            pass\\n    except:\\n        var = traceback.format_exc()\\n        print(var)\";\n",
       "                var nbb_cells = Jupyter.notebook.get_cells();\n",
       "                for (var i = 0; i < nbb_cells.length; ++i) {\n",
       "                    if (nbb_cells[i].input_prompt_number == nbb_cell_id) {\n",
       "                        if (nbb_cells[i].get_text() == nbb_unformatted_code) {\n",
       "                             nbb_cells[i].set_text(nbb_formatted_code);\n",
       "                        }\n",
       "                        break;\n",
       "                    }\n",
       "                }\n",
       "            }, 500);\n",
       "            "
      ],
      "text/plain": [
       "<IPython.core.display.Javascript object>"
      ]
     },
     "metadata": {},
     "output_type": "display_data"
    },
    {
     "data": {
      "application/javascript": [
       "\n",
       "            setTimeout(function() {\n",
       "                var nbb_cell_id = 166;\n",
       "                var nbb_unformatted_code = \"def create_dataset_pipeline(\\n    start_seconds, end_seconds, class_label: str, split=True, split_ratio=0.8\\n):\\n    try:\\n        create_images_from_video(start_seconds, end_seconds, class_label)\\n        if split:\\n            if len(os.listdir(f\\\"{path_to_data}/{class_label}\\\")) != 0:\\n                split_train_test(class_label, split_ratio)\\n            else:\\n                sys.exit(\\n                    f\\\"{path_to_data}/{class_label} is empty and that means frames from videos were not captured successfully!\\\"\\n                )\\n        else:\\n            pass\\n    except:\\n        var = traceback.format_exc()\\n        print(var)\";\n",
       "                var nbb_formatted_code = \"def create_dataset_pipeline(\\n    start_seconds, end_seconds, class_label: str, split=True, split_ratio=0.8\\n):\\n    try:\\n        create_images_from_video(start_seconds, end_seconds, class_label)\\n        if split:\\n            if len(os.listdir(f\\\"{path_to_data}/{class_label}\\\")) != 0:\\n                split_train_test(class_label, split_ratio)\\n            else:\\n                sys.exit(\\n                    f\\\"{path_to_data}/{class_label} is empty and that means frames from videos were not captured successfully!\\\"\\n                )\\n        else:\\n            pass\\n    except:\\n        var = traceback.format_exc()\\n        print(var)\";\n",
       "                var nbb_cells = Jupyter.notebook.get_cells();\n",
       "                for (var i = 0; i < nbb_cells.length; ++i) {\n",
       "                    if (nbb_cells[i].input_prompt_number == nbb_cell_id) {\n",
       "                        if (nbb_cells[i].get_text() == nbb_unformatted_code) {\n",
       "                             nbb_cells[i].set_text(nbb_formatted_code);\n",
       "                        }\n",
       "                        break;\n",
       "                    }\n",
       "                }\n",
       "            }, 500);\n",
       "            "
      ],
      "text/plain": [
       "<IPython.core.display.Javascript object>"
      ]
     },
     "metadata": {},
     "output_type": "display_data"
    },
    {
     "data": {
      "application/javascript": [
       "\n",
       "            setTimeout(function() {\n",
       "                var nbb_cell_id = 166;\n",
       "                var nbb_unformatted_code = \"def create_dataset_pipeline(\\n    start_seconds, end_seconds, class_label: str, split=True, split_ratio=0.8\\n):\\n    try:\\n        create_images_from_video(start_seconds, end_seconds, class_label)\\n        if split:\\n            if len(os.listdir(f\\\"{path_to_data}/{class_label}\\\")) != 0:\\n                split_train_test(class_label, split_ratio)\\n            else:\\n                sys.exit(\\n                    f\\\"{path_to_data}/{class_label} is empty and that means frames from videos were not captured successfully!\\\"\\n                )\\n        else:\\n            pass\\n    except:\\n        var = traceback.format_exc()\\n        print(var)\";\n",
       "                var nbb_formatted_code = \"def create_dataset_pipeline(\\n    start_seconds, end_seconds, class_label: str, split=True, split_ratio=0.8\\n):\\n    try:\\n        create_images_from_video(start_seconds, end_seconds, class_label)\\n        if split:\\n            if len(os.listdir(f\\\"{path_to_data}/{class_label}\\\")) != 0:\\n                split_train_test(class_label, split_ratio)\\n            else:\\n                sys.exit(\\n                    f\\\"{path_to_data}/{class_label} is empty and that means frames from videos were not captured successfully!\\\"\\n                )\\n        else:\\n            pass\\n    except:\\n        var = traceback.format_exc()\\n        print(var)\";\n",
       "                var nbb_cells = Jupyter.notebook.get_cells();\n",
       "                for (var i = 0; i < nbb_cells.length; ++i) {\n",
       "                    if (nbb_cells[i].input_prompt_number == nbb_cell_id) {\n",
       "                        if (nbb_cells[i].get_text() == nbb_unformatted_code) {\n",
       "                             nbb_cells[i].set_text(nbb_formatted_code);\n",
       "                        }\n",
       "                        break;\n",
       "                    }\n",
       "                }\n",
       "            }, 500);\n",
       "            "
      ],
      "text/plain": [
       "<IPython.core.display.Javascript object>"
      ]
     },
     "metadata": {},
     "output_type": "display_data"
    },
    {
     "data": {
      "application/javascript": [
       "\n",
       "            setTimeout(function() {\n",
       "                var nbb_cell_id = 166;\n",
       "                var nbb_unformatted_code = \"def create_dataset_pipeline(\\n    start_seconds, end_seconds, class_label: str, split=True, split_ratio=0.8\\n):\\n    try:\\n        create_images_from_video(start_seconds, end_seconds, class_label)\\n        if split:\\n            if len(os.listdir(f\\\"{path_to_data}/{class_label}\\\")) != 0:\\n                split_train_test(class_label, split_ratio)\\n            else:\\n                sys.exit(\\n                    f\\\"{path_to_data}/{class_label} is empty and that means frames from videos were not captured successfully!\\\"\\n                )\\n        else:\\n            pass\\n    except:\\n        var = traceback.format_exc()\\n        print(var)\";\n",
       "                var nbb_formatted_code = \"def create_dataset_pipeline(\\n    start_seconds, end_seconds, class_label: str, split=True, split_ratio=0.8\\n):\\n    try:\\n        create_images_from_video(start_seconds, end_seconds, class_label)\\n        if split:\\n            if len(os.listdir(f\\\"{path_to_data}/{class_label}\\\")) != 0:\\n                split_train_test(class_label, split_ratio)\\n            else:\\n                sys.exit(\\n                    f\\\"{path_to_data}/{class_label} is empty and that means frames from videos were not captured successfully!\\\"\\n                )\\n        else:\\n            pass\\n    except:\\n        var = traceback.format_exc()\\n        print(var)\";\n",
       "                var nbb_cells = Jupyter.notebook.get_cells();\n",
       "                for (var i = 0; i < nbb_cells.length; ++i) {\n",
       "                    if (nbb_cells[i].input_prompt_number == nbb_cell_id) {\n",
       "                        if (nbb_cells[i].get_text() == nbb_unformatted_code) {\n",
       "                             nbb_cells[i].set_text(nbb_formatted_code);\n",
       "                        }\n",
       "                        break;\n",
       "                    }\n",
       "                }\n",
       "            }, 500);\n",
       "            "
      ],
      "text/plain": [
       "<IPython.core.display.Javascript object>"
      ]
     },
     "metadata": {},
     "output_type": "display_data"
    },
    {
     "data": {
      "application/javascript": [
       "\n",
       "            setTimeout(function() {\n",
       "                var nbb_cell_id = 166;\n",
       "                var nbb_unformatted_code = \"def create_dataset_pipeline(\\n    start_seconds, end_seconds, class_label: str, split=True, split_ratio=0.8\\n):\\n    try:\\n        create_images_from_video(start_seconds, end_seconds, class_label)\\n        if split:\\n            if len(os.listdir(f\\\"{path_to_data}/{class_label}\\\")) != 0:\\n                split_train_test(class_label, split_ratio)\\n            else:\\n                sys.exit(\\n                    f\\\"{path_to_data}/{class_label} is empty and that means frames from videos were not captured successfully!\\\"\\n                )\\n        else:\\n            pass\\n    except:\\n        var = traceback.format_exc()\\n        print(var)\";\n",
       "                var nbb_formatted_code = \"def create_dataset_pipeline(\\n    start_seconds, end_seconds, class_label: str, split=True, split_ratio=0.8\\n):\\n    try:\\n        create_images_from_video(start_seconds, end_seconds, class_label)\\n        if split:\\n            if len(os.listdir(f\\\"{path_to_data}/{class_label}\\\")) != 0:\\n                split_train_test(class_label, split_ratio)\\n            else:\\n                sys.exit(\\n                    f\\\"{path_to_data}/{class_label} is empty and that means frames from videos were not captured successfully!\\\"\\n                )\\n        else:\\n            pass\\n    except:\\n        var = traceback.format_exc()\\n        print(var)\";\n",
       "                var nbb_cells = Jupyter.notebook.get_cells();\n",
       "                for (var i = 0; i < nbb_cells.length; ++i) {\n",
       "                    if (nbb_cells[i].input_prompt_number == nbb_cell_id) {\n",
       "                        if (nbb_cells[i].get_text() == nbb_unformatted_code) {\n",
       "                             nbb_cells[i].set_text(nbb_formatted_code);\n",
       "                        }\n",
       "                        break;\n",
       "                    }\n",
       "                }\n",
       "            }, 500);\n",
       "            "
      ],
      "text/plain": [
       "<IPython.core.display.Javascript object>"
      ]
     },
     "metadata": {},
     "output_type": "display_data"
    },
    {
     "data": {
      "application/javascript": [
       "\n",
       "            setTimeout(function() {\n",
       "                var nbb_cell_id = 166;\n",
       "                var nbb_unformatted_code = \"def create_dataset_pipeline(\\n    start_seconds, end_seconds, class_label: str, split=True, split_ratio=0.8\\n):\\n    try:\\n        create_images_from_video(start_seconds, end_seconds, class_label)\\n        if split:\\n            if len(os.listdir(f\\\"{path_to_data}/{class_label}\\\")) != 0:\\n                split_train_test(class_label, split_ratio)\\n            else:\\n                sys.exit(\\n                    f\\\"{path_to_data}/{class_label} is empty and that means frames from videos were not captured successfully!\\\"\\n                )\\n        else:\\n            pass\\n    except:\\n        var = traceback.format_exc()\\n        print(var)\";\n",
       "                var nbb_formatted_code = \"def create_dataset_pipeline(\\n    start_seconds, end_seconds, class_label: str, split=True, split_ratio=0.8\\n):\\n    try:\\n        create_images_from_video(start_seconds, end_seconds, class_label)\\n        if split:\\n            if len(os.listdir(f\\\"{path_to_data}/{class_label}\\\")) != 0:\\n                split_train_test(class_label, split_ratio)\\n            else:\\n                sys.exit(\\n                    f\\\"{path_to_data}/{class_label} is empty and that means frames from videos were not captured successfully!\\\"\\n                )\\n        else:\\n            pass\\n    except:\\n        var = traceback.format_exc()\\n        print(var)\";\n",
       "                var nbb_cells = Jupyter.notebook.get_cells();\n",
       "                for (var i = 0; i < nbb_cells.length; ++i) {\n",
       "                    if (nbb_cells[i].input_prompt_number == nbb_cell_id) {\n",
       "                        if (nbb_cells[i].get_text() == nbb_unformatted_code) {\n",
       "                             nbb_cells[i].set_text(nbb_formatted_code);\n",
       "                        }\n",
       "                        break;\n",
       "                    }\n",
       "                }\n",
       "            }, 500);\n",
       "            "
      ],
      "text/plain": [
       "<IPython.core.display.Javascript object>"
      ]
     },
     "metadata": {},
     "output_type": "display_data"
    }
   ],
   "source": [
    "def create_dataset_pipeline(\n",
    "    start_seconds, end_seconds, class_label: str, split=True, split_ratio=0.8\n",
    "):\n",
    "    try:\n",
    "        create_images_from_video(start_seconds, end_seconds, class_label)\n",
    "        if split:\n",
    "            if len(os.listdir(f\"{path_to_data}/{class_label}\")) != 0:\n",
    "                split_train_test(class_label, split_ratio)\n",
    "            else:\n",
    "                sys.exit(\n",
    "                    f\"{path_to_data}/{class_label} is empty and that means frames from videos were not captured successfully!\"\n",
    "                )\n",
    "        else:\n",
    "            pass\n",
    "    except:\n",
    "        var = traceback.format_exc()\n",
    "        print(var)"
   ]
  },
  {
   "cell_type": "code",
   "execution_count": 167,
   "metadata": {},
   "outputs": [
    {
     "data": {
      "application/javascript": [
       "\n",
       "            setTimeout(function() {\n",
       "                var nbb_cell_id = 167;\n",
       "                var nbb_unformatted_code = \"# start = floor(Total frames / frame_rate) - (ignore last trial(120 seconds) + 30 second threshold)\\ndef create_parent_dataset(parent_images):\\n    frame_rate = math.floor(mice_row[\\\"video_fps\\\"].item())\\n    start_seconds = random.randint(\\n        0, (mice_row[\\\"total_video_frames\\\"].item() // frame_rate) - 150\\n    )\\n    end_seconds = start_seconds + parent_images\\n    create_dataset_pipeline(start_seconds, end_seconds, \\\"parent-mice\\\")\\n\\n    train_size = len(os.listdir(f\\\"{path_to_data}/train/parent-mice\\\"))\\n    test_size = len(os.listdir(f\\\"{path_to_data}/test/parent-mice\\\"))\\n\\n    print(\\n        f\\\"Saved all {parent_images} parent image files and train has {train_size} pictures and test has {test_size} pictures!\\\"\\n    )\";\n",
       "                var nbb_formatted_code = \"# start = floor(Total frames / frame_rate) - (ignore last trial(120 seconds) + 30 second threshold)\\ndef create_parent_dataset(parent_images):\\n    frame_rate = math.floor(mice_row[\\\"video_fps\\\"].item())\\n    start_seconds = random.randint(\\n        0, (mice_row[\\\"total_video_frames\\\"].item() // frame_rate) - 150\\n    )\\n    end_seconds = start_seconds + parent_images\\n    create_dataset_pipeline(start_seconds, end_seconds, \\\"parent-mice\\\")\\n\\n    train_size = len(os.listdir(f\\\"{path_to_data}/train/parent-mice\\\"))\\n    test_size = len(os.listdir(f\\\"{path_to_data}/test/parent-mice\\\"))\\n\\n    print(\\n        f\\\"Saved all {parent_images} parent image files and train has {train_size} pictures and test has {test_size} pictures!\\\"\\n    )\";\n",
       "                var nbb_cells = Jupyter.notebook.get_cells();\n",
       "                for (var i = 0; i < nbb_cells.length; ++i) {\n",
       "                    if (nbb_cells[i].input_prompt_number == nbb_cell_id) {\n",
       "                        if (nbb_cells[i].get_text() == nbb_unformatted_code) {\n",
       "                             nbb_cells[i].set_text(nbb_formatted_code);\n",
       "                        }\n",
       "                        break;\n",
       "                    }\n",
       "                }\n",
       "            }, 500);\n",
       "            "
      ],
      "text/plain": [
       "<IPython.core.display.Javascript object>"
      ]
     },
     "metadata": {},
     "output_type": "display_data"
    },
    {
     "data": {
      "application/javascript": [
       "\n",
       "            setTimeout(function() {\n",
       "                var nbb_cell_id = 167;\n",
       "                var nbb_unformatted_code = \"# start = floor(Total frames / frame_rate) - (ignore last trial(120 seconds) + 30 second threshold)\\ndef create_parent_dataset(parent_images):\\n    frame_rate = math.floor(mice_row[\\\"video_fps\\\"].item())\\n    start_seconds = random.randint(\\n        0, (mice_row[\\\"total_video_frames\\\"].item() // frame_rate) - 150\\n    )\\n    end_seconds = start_seconds + parent_images\\n    create_dataset_pipeline(start_seconds, end_seconds, \\\"parent-mice\\\")\\n\\n    train_size = len(os.listdir(f\\\"{path_to_data}/train/parent-mice\\\"))\\n    test_size = len(os.listdir(f\\\"{path_to_data}/test/parent-mice\\\"))\\n\\n    print(\\n        f\\\"Saved all {parent_images} parent image files and train has {train_size} pictures and test has {test_size} pictures!\\\"\\n    )\";\n",
       "                var nbb_formatted_code = \"# start = floor(Total frames / frame_rate) - (ignore last trial(120 seconds) + 30 second threshold)\\ndef create_parent_dataset(parent_images):\\n    frame_rate = math.floor(mice_row[\\\"video_fps\\\"].item())\\n    start_seconds = random.randint(\\n        0, (mice_row[\\\"total_video_frames\\\"].item() // frame_rate) - 150\\n    )\\n    end_seconds = start_seconds + parent_images\\n    create_dataset_pipeline(start_seconds, end_seconds, \\\"parent-mice\\\")\\n\\n    train_size = len(os.listdir(f\\\"{path_to_data}/train/parent-mice\\\"))\\n    test_size = len(os.listdir(f\\\"{path_to_data}/test/parent-mice\\\"))\\n\\n    print(\\n        f\\\"Saved all {parent_images} parent image files and train has {train_size} pictures and test has {test_size} pictures!\\\"\\n    )\";\n",
       "                var nbb_cells = Jupyter.notebook.get_cells();\n",
       "                for (var i = 0; i < nbb_cells.length; ++i) {\n",
       "                    if (nbb_cells[i].input_prompt_number == nbb_cell_id) {\n",
       "                        if (nbb_cells[i].get_text() == nbb_unformatted_code) {\n",
       "                             nbb_cells[i].set_text(nbb_formatted_code);\n",
       "                        }\n",
       "                        break;\n",
       "                    }\n",
       "                }\n",
       "            }, 500);\n",
       "            "
      ],
      "text/plain": [
       "<IPython.core.display.Javascript object>"
      ]
     },
     "metadata": {},
     "output_type": "display_data"
    },
    {
     "data": {
      "application/javascript": [
       "\n",
       "            setTimeout(function() {\n",
       "                var nbb_cell_id = 167;\n",
       "                var nbb_unformatted_code = \"# start = floor(Total frames / frame_rate) - (ignore last trial(120 seconds) + 30 second threshold)\\ndef create_parent_dataset(parent_images):\\n    frame_rate = math.floor(mice_row[\\\"video_fps\\\"].item())\\n    start_seconds = random.randint(\\n        0, (mice_row[\\\"total_video_frames\\\"].item() // frame_rate) - 150\\n    )\\n    end_seconds = start_seconds + parent_images\\n    create_dataset_pipeline(start_seconds, end_seconds, \\\"parent-mice\\\")\\n\\n    train_size = len(os.listdir(f\\\"{path_to_data}/train/parent-mice\\\"))\\n    test_size = len(os.listdir(f\\\"{path_to_data}/test/parent-mice\\\"))\\n\\n    print(\\n        f\\\"Saved all {parent_images} parent image files and train has {train_size} pictures and test has {test_size} pictures!\\\"\\n    )\";\n",
       "                var nbb_formatted_code = \"# start = floor(Total frames / frame_rate) - (ignore last trial(120 seconds) + 30 second threshold)\\ndef create_parent_dataset(parent_images):\\n    frame_rate = math.floor(mice_row[\\\"video_fps\\\"].item())\\n    start_seconds = random.randint(\\n        0, (mice_row[\\\"total_video_frames\\\"].item() // frame_rate) - 150\\n    )\\n    end_seconds = start_seconds + parent_images\\n    create_dataset_pipeline(start_seconds, end_seconds, \\\"parent-mice\\\")\\n\\n    train_size = len(os.listdir(f\\\"{path_to_data}/train/parent-mice\\\"))\\n    test_size = len(os.listdir(f\\\"{path_to_data}/test/parent-mice\\\"))\\n\\n    print(\\n        f\\\"Saved all {parent_images} parent image files and train has {train_size} pictures and test has {test_size} pictures!\\\"\\n    )\";\n",
       "                var nbb_cells = Jupyter.notebook.get_cells();\n",
       "                for (var i = 0; i < nbb_cells.length; ++i) {\n",
       "                    if (nbb_cells[i].input_prompt_number == nbb_cell_id) {\n",
       "                        if (nbb_cells[i].get_text() == nbb_unformatted_code) {\n",
       "                             nbb_cells[i].set_text(nbb_formatted_code);\n",
       "                        }\n",
       "                        break;\n",
       "                    }\n",
       "                }\n",
       "            }, 500);\n",
       "            "
      ],
      "text/plain": [
       "<IPython.core.display.Javascript object>"
      ]
     },
     "metadata": {},
     "output_type": "display_data"
    },
    {
     "data": {
      "application/javascript": [
       "\n",
       "            setTimeout(function() {\n",
       "                var nbb_cell_id = 167;\n",
       "                var nbb_unformatted_code = \"# start = floor(Total frames / frame_rate) - (ignore last trial(120 seconds) + 30 second threshold)\\ndef create_parent_dataset(parent_images):\\n    frame_rate = math.floor(mice_row[\\\"video_fps\\\"].item())\\n    start_seconds = random.randint(\\n        0, (mice_row[\\\"total_video_frames\\\"].item() // frame_rate) - 150\\n    )\\n    end_seconds = start_seconds + parent_images\\n    create_dataset_pipeline(start_seconds, end_seconds, \\\"parent-mice\\\")\\n\\n    train_size = len(os.listdir(f\\\"{path_to_data}/train/parent-mice\\\"))\\n    test_size = len(os.listdir(f\\\"{path_to_data}/test/parent-mice\\\"))\\n\\n    print(\\n        f\\\"Saved all {parent_images} parent image files and train has {train_size} pictures and test has {test_size} pictures!\\\"\\n    )\";\n",
       "                var nbb_formatted_code = \"# start = floor(Total frames / frame_rate) - (ignore last trial(120 seconds) + 30 second threshold)\\ndef create_parent_dataset(parent_images):\\n    frame_rate = math.floor(mice_row[\\\"video_fps\\\"].item())\\n    start_seconds = random.randint(\\n        0, (mice_row[\\\"total_video_frames\\\"].item() // frame_rate) - 150\\n    )\\n    end_seconds = start_seconds + parent_images\\n    create_dataset_pipeline(start_seconds, end_seconds, \\\"parent-mice\\\")\\n\\n    train_size = len(os.listdir(f\\\"{path_to_data}/train/parent-mice\\\"))\\n    test_size = len(os.listdir(f\\\"{path_to_data}/test/parent-mice\\\"))\\n\\n    print(\\n        f\\\"Saved all {parent_images} parent image files and train has {train_size} pictures and test has {test_size} pictures!\\\"\\n    )\";\n",
       "                var nbb_cells = Jupyter.notebook.get_cells();\n",
       "                for (var i = 0; i < nbb_cells.length; ++i) {\n",
       "                    if (nbb_cells[i].input_prompt_number == nbb_cell_id) {\n",
       "                        if (nbb_cells[i].get_text() == nbb_unformatted_code) {\n",
       "                             nbb_cells[i].set_text(nbb_formatted_code);\n",
       "                        }\n",
       "                        break;\n",
       "                    }\n",
       "                }\n",
       "            }, 500);\n",
       "            "
      ],
      "text/plain": [
       "<IPython.core.display.Javascript object>"
      ]
     },
     "metadata": {},
     "output_type": "display_data"
    },
    {
     "data": {
      "application/javascript": [
       "\n",
       "            setTimeout(function() {\n",
       "                var nbb_cell_id = 167;\n",
       "                var nbb_unformatted_code = \"# start = floor(Total frames / frame_rate) - (ignore last trial(120 seconds) + 30 second threshold)\\ndef create_parent_dataset(parent_images):\\n    frame_rate = math.floor(mice_row[\\\"video_fps\\\"].item())\\n    start_seconds = random.randint(\\n        0, (mice_row[\\\"total_video_frames\\\"].item() // frame_rate) - 150\\n    )\\n    end_seconds = start_seconds + parent_images\\n    create_dataset_pipeline(start_seconds, end_seconds, \\\"parent-mice\\\")\\n\\n    train_size = len(os.listdir(f\\\"{path_to_data}/train/parent-mice\\\"))\\n    test_size = len(os.listdir(f\\\"{path_to_data}/test/parent-mice\\\"))\\n\\n    print(\\n        f\\\"Saved all {parent_images} parent image files and train has {train_size} pictures and test has {test_size} pictures!\\\"\\n    )\";\n",
       "                var nbb_formatted_code = \"# start = floor(Total frames / frame_rate) - (ignore last trial(120 seconds) + 30 second threshold)\\ndef create_parent_dataset(parent_images):\\n    frame_rate = math.floor(mice_row[\\\"video_fps\\\"].item())\\n    start_seconds = random.randint(\\n        0, (mice_row[\\\"total_video_frames\\\"].item() // frame_rate) - 150\\n    )\\n    end_seconds = start_seconds + parent_images\\n    create_dataset_pipeline(start_seconds, end_seconds, \\\"parent-mice\\\")\\n\\n    train_size = len(os.listdir(f\\\"{path_to_data}/train/parent-mice\\\"))\\n    test_size = len(os.listdir(f\\\"{path_to_data}/test/parent-mice\\\"))\\n\\n    print(\\n        f\\\"Saved all {parent_images} parent image files and train has {train_size} pictures and test has {test_size} pictures!\\\"\\n    )\";\n",
       "                var nbb_cells = Jupyter.notebook.get_cells();\n",
       "                for (var i = 0; i < nbb_cells.length; ++i) {\n",
       "                    if (nbb_cells[i].input_prompt_number == nbb_cell_id) {\n",
       "                        if (nbb_cells[i].get_text() == nbb_unformatted_code) {\n",
       "                             nbb_cells[i].set_text(nbb_formatted_code);\n",
       "                        }\n",
       "                        break;\n",
       "                    }\n",
       "                }\n",
       "            }, 500);\n",
       "            "
      ],
      "text/plain": [
       "<IPython.core.display.Javascript object>"
      ]
     },
     "metadata": {},
     "output_type": "display_data"
    },
    {
     "data": {
      "application/javascript": [
       "\n",
       "            setTimeout(function() {\n",
       "                var nbb_cell_id = 167;\n",
       "                var nbb_unformatted_code = \"# start = floor(Total frames / frame_rate) - (ignore last trial(120 seconds) + 30 second threshold)\\ndef create_parent_dataset(parent_images):\\n    frame_rate = math.floor(mice_row[\\\"video_fps\\\"].item())\\n    start_seconds = random.randint(\\n        0, (mice_row[\\\"total_video_frames\\\"].item() // frame_rate) - 150\\n    )\\n    end_seconds = start_seconds + parent_images\\n    create_dataset_pipeline(start_seconds, end_seconds, \\\"parent-mice\\\")\\n\\n    train_size = len(os.listdir(f\\\"{path_to_data}/train/parent-mice\\\"))\\n    test_size = len(os.listdir(f\\\"{path_to_data}/test/parent-mice\\\"))\\n\\n    print(\\n        f\\\"Saved all {parent_images} parent image files and train has {train_size} pictures and test has {test_size} pictures!\\\"\\n    )\";\n",
       "                var nbb_formatted_code = \"# start = floor(Total frames / frame_rate) - (ignore last trial(120 seconds) + 30 second threshold)\\ndef create_parent_dataset(parent_images):\\n    frame_rate = math.floor(mice_row[\\\"video_fps\\\"].item())\\n    start_seconds = random.randint(\\n        0, (mice_row[\\\"total_video_frames\\\"].item() // frame_rate) - 150\\n    )\\n    end_seconds = start_seconds + parent_images\\n    create_dataset_pipeline(start_seconds, end_seconds, \\\"parent-mice\\\")\\n\\n    train_size = len(os.listdir(f\\\"{path_to_data}/train/parent-mice\\\"))\\n    test_size = len(os.listdir(f\\\"{path_to_data}/test/parent-mice\\\"))\\n\\n    print(\\n        f\\\"Saved all {parent_images} parent image files and train has {train_size} pictures and test has {test_size} pictures!\\\"\\n    )\";\n",
       "                var nbb_cells = Jupyter.notebook.get_cells();\n",
       "                for (var i = 0; i < nbb_cells.length; ++i) {\n",
       "                    if (nbb_cells[i].input_prompt_number == nbb_cell_id) {\n",
       "                        if (nbb_cells[i].get_text() == nbb_unformatted_code) {\n",
       "                             nbb_cells[i].set_text(nbb_formatted_code);\n",
       "                        }\n",
       "                        break;\n",
       "                    }\n",
       "                }\n",
       "            }, 500);\n",
       "            "
      ],
      "text/plain": [
       "<IPython.core.display.Javascript object>"
      ]
     },
     "metadata": {},
     "output_type": "display_data"
    }
   ],
   "source": [
    "# start = floor(Total frames / frame_rate) - (ignore last trial(120 seconds) + 30 second threshold)\n",
    "def create_parent_dataset(parent_images):\n",
    "    frame_rate = math.floor(mice_row[\"video_fps\"].item())\n",
    "    start_seconds = random.randint(\n",
    "        0, (mice_row[\"total_video_frames\"].item() // frame_rate) - 150\n",
    "    )\n",
    "    end_seconds = start_seconds + parent_images\n",
    "    create_dataset_pipeline(start_seconds, end_seconds, \"parent-mice\")\n",
    "\n",
    "    train_size = len(os.listdir(f\"{path_to_data}/train/parent-mice\"))\n",
    "    test_size = len(os.listdir(f\"{path_to_data}/test/parent-mice\"))\n",
    "\n",
    "    print(\n",
    "        f\"Saved all {parent_images} parent image files and train has {train_size} pictures and test has {test_size} pictures!\"\n",
    "    )"
   ]
  },
  {
   "cell_type": "code",
   "execution_count": 168,
   "metadata": {},
   "outputs": [
    {
     "data": {
      "text/html": [
       "<div>\n",
       "<style scoped>\n",
       "    .dataframe tbody tr th:only-of-type {\n",
       "        vertical-align: middle;\n",
       "    }\n",
       "\n",
       "    .dataframe tbody tr th {\n",
       "        vertical-align: top;\n",
       "    }\n",
       "\n",
       "    .dataframe thead th {\n",
       "        text-align: right;\n",
       "    }\n",
       "</style>\n",
       "<table border=\"1\" class=\"dataframe\">\n",
       "  <thead>\n",
       "    <tr style=\"text-align: right;\">\n",
       "      <th></th>\n",
       "      <th>Group</th>\n",
       "      <th>Cohort</th>\n",
       "      <th>MouseID</th>\n",
       "      <th>Virus</th>\n",
       "      <th>Trial</th>\n",
       "      <th>Laser</th>\n",
       "      <th>Start</th>\n",
       "      <th>Time_Latency_Contact_s</th>\n",
       "      <th>Latency_Contact_s</th>\n",
       "      <th>Time_Latency_Retrieve_s</th>\n",
       "      <th>Latency_Retrieve_s</th>\n",
       "      <th>Retrieved</th>\n",
       "    </tr>\n",
       "  </thead>\n",
       "  <tbody>\n",
       "    <tr>\n",
       "      <th>0</th>\n",
       "      <td>Control</td>\n",
       "      <td>1</td>\n",
       "      <td>PrL-10</td>\n",
       "      <td>mCherry</td>\n",
       "      <td>1</td>\n",
       "      <td>OFF</td>\n",
       "      <td>0:13</td>\n",
       "      <td>0:27</td>\n",
       "      <td>14.0</td>\n",
       "      <td>NO</td>\n",
       "      <td>120</td>\n",
       "      <td>0</td>\n",
       "    </tr>\n",
       "    <tr>\n",
       "      <th>1</th>\n",
       "      <td>Control</td>\n",
       "      <td>1</td>\n",
       "      <td>PrL-10</td>\n",
       "      <td>mCherry</td>\n",
       "      <td>2</td>\n",
       "      <td>ON</td>\n",
       "      <td>2:38</td>\n",
       "      <td>2:57</td>\n",
       "      <td>19.0</td>\n",
       "      <td>NO</td>\n",
       "      <td>120</td>\n",
       "      <td>0</td>\n",
       "    </tr>\n",
       "    <tr>\n",
       "      <th>2</th>\n",
       "      <td>Control</td>\n",
       "      <td>1</td>\n",
       "      <td>PrL-10</td>\n",
       "      <td>mCherry</td>\n",
       "      <td>3</td>\n",
       "      <td>OFF</td>\n",
       "      <td>5:00</td>\n",
       "      <td>6:11</td>\n",
       "      <td>71.0</td>\n",
       "      <td>NO</td>\n",
       "      <td>120</td>\n",
       "      <td>0</td>\n",
       "    </tr>\n",
       "    <tr>\n",
       "      <th>3</th>\n",
       "      <td>Control</td>\n",
       "      <td>1</td>\n",
       "      <td>PrL-10</td>\n",
       "      <td>mCherry</td>\n",
       "      <td>4</td>\n",
       "      <td>ON</td>\n",
       "      <td>7:19</td>\n",
       "      <td>8:27</td>\n",
       "      <td>68.0</td>\n",
       "      <td>NO</td>\n",
       "      <td>120</td>\n",
       "      <td>0</td>\n",
       "    </tr>\n",
       "    <tr>\n",
       "      <th>4</th>\n",
       "      <td>Control</td>\n",
       "      <td>1</td>\n",
       "      <td>PrL-10</td>\n",
       "      <td>mCherry</td>\n",
       "      <td>5</td>\n",
       "      <td>OFF</td>\n",
       "      <td>9:37</td>\n",
       "      <td>NO</td>\n",
       "      <td>120.0</td>\n",
       "      <td>NO</td>\n",
       "      <td>120</td>\n",
       "      <td>0</td>\n",
       "    </tr>\n",
       "  </tbody>\n",
       "</table>\n",
       "</div>"
      ],
      "text/plain": [
       "     Group  Cohort MouseID    Virus  Trial Laser Start Time_Latency_Contact_s  \\\n",
       "0  Control       1  PrL-10  mCherry      1   OFF  0:13                   0:27   \n",
       "1  Control       1  PrL-10  mCherry      2    ON  2:38                   2:57   \n",
       "2  Control       1  PrL-10  mCherry      3   OFF  5:00                   6:11   \n",
       "3  Control       1  PrL-10  mCherry      4    ON  7:19                   8:27   \n",
       "4  Control       1  PrL-10  mCherry      5   OFF  9:37                     NO   \n",
       "\n",
       "   Latency_Contact_s Time_Latency_Retrieve_s  Latency_Retrieve_s  Retrieved  \n",
       "0               14.0                      NO                 120          0  \n",
       "1               19.0                      NO                 120          0  \n",
       "2               71.0                      NO                 120          0  \n",
       "3               68.0                      NO                 120          0  \n",
       "4              120.0                      NO                 120          0  "
      ]
     },
     "execution_count": 168,
     "metadata": {},
     "output_type": "execute_result"
    },
    {
     "data": {
      "application/javascript": [
       "\n",
       "            setTimeout(function() {\n",
       "                var nbb_cell_id = 168;\n",
       "                var nbb_unformatted_code = \"experiment = pd.read_csv(f\\\"{parent_directory}/experiment_new.csv\\\")\\nexperiment.head()\";\n",
       "                var nbb_formatted_code = \"experiment = pd.read_csv(f\\\"{parent_directory}/experiment_new.csv\\\")\\nexperiment.head()\";\n",
       "                var nbb_cells = Jupyter.notebook.get_cells();\n",
       "                for (var i = 0; i < nbb_cells.length; ++i) {\n",
       "                    if (nbb_cells[i].input_prompt_number == nbb_cell_id) {\n",
       "                        if (nbb_cells[i].get_text() == nbb_unformatted_code) {\n",
       "                             nbb_cells[i].set_text(nbb_formatted_code);\n",
       "                        }\n",
       "                        break;\n",
       "                    }\n",
       "                }\n",
       "            }, 500);\n",
       "            "
      ],
      "text/plain": [
       "<IPython.core.display.Javascript object>"
      ]
     },
     "metadata": {},
     "output_type": "display_data"
    },
    {
     "data": {
      "application/javascript": [
       "\n",
       "            setTimeout(function() {\n",
       "                var nbb_cell_id = 168;\n",
       "                var nbb_unformatted_code = \"experiment = pd.read_csv(f\\\"{parent_directory}/experiment_new.csv\\\")\\nexperiment.head()\";\n",
       "                var nbb_formatted_code = \"experiment = pd.read_csv(f\\\"{parent_directory}/experiment_new.csv\\\")\\nexperiment.head()\";\n",
       "                var nbb_cells = Jupyter.notebook.get_cells();\n",
       "                for (var i = 0; i < nbb_cells.length; ++i) {\n",
       "                    if (nbb_cells[i].input_prompt_number == nbb_cell_id) {\n",
       "                        if (nbb_cells[i].get_text() == nbb_unformatted_code) {\n",
       "                             nbb_cells[i].set_text(nbb_formatted_code);\n",
       "                        }\n",
       "                        break;\n",
       "                    }\n",
       "                }\n",
       "            }, 500);\n",
       "            "
      ],
      "text/plain": [
       "<IPython.core.display.Javascript object>"
      ]
     },
     "metadata": {},
     "output_type": "display_data"
    },
    {
     "data": {
      "application/javascript": [
       "\n",
       "            setTimeout(function() {\n",
       "                var nbb_cell_id = 168;\n",
       "                var nbb_unformatted_code = \"experiment = pd.read_csv(f\\\"{parent_directory}/experiment_new.csv\\\")\\nexperiment.head()\";\n",
       "                var nbb_formatted_code = \"experiment = pd.read_csv(f\\\"{parent_directory}/experiment_new.csv\\\")\\nexperiment.head()\";\n",
       "                var nbb_cells = Jupyter.notebook.get_cells();\n",
       "                for (var i = 0; i < nbb_cells.length; ++i) {\n",
       "                    if (nbb_cells[i].input_prompt_number == nbb_cell_id) {\n",
       "                        if (nbb_cells[i].get_text() == nbb_unformatted_code) {\n",
       "                             nbb_cells[i].set_text(nbb_formatted_code);\n",
       "                        }\n",
       "                        break;\n",
       "                    }\n",
       "                }\n",
       "            }, 500);\n",
       "            "
      ],
      "text/plain": [
       "<IPython.core.display.Javascript object>"
      ]
     },
     "metadata": {},
     "output_type": "display_data"
    },
    {
     "data": {
      "application/javascript": [
       "\n",
       "            setTimeout(function() {\n",
       "                var nbb_cell_id = 168;\n",
       "                var nbb_unformatted_code = \"experiment = pd.read_csv(f\\\"{parent_directory}/experiment_new.csv\\\")\\nexperiment.head()\";\n",
       "                var nbb_formatted_code = \"experiment = pd.read_csv(f\\\"{parent_directory}/experiment_new.csv\\\")\\nexperiment.head()\";\n",
       "                var nbb_cells = Jupyter.notebook.get_cells();\n",
       "                for (var i = 0; i < nbb_cells.length; ++i) {\n",
       "                    if (nbb_cells[i].input_prompt_number == nbb_cell_id) {\n",
       "                        if (nbb_cells[i].get_text() == nbb_unformatted_code) {\n",
       "                             nbb_cells[i].set_text(nbb_formatted_code);\n",
       "                        }\n",
       "                        break;\n",
       "                    }\n",
       "                }\n",
       "            }, 500);\n",
       "            "
      ],
      "text/plain": [
       "<IPython.core.display.Javascript object>"
      ]
     },
     "metadata": {},
     "output_type": "display_data"
    },
    {
     "data": {
      "application/javascript": [
       "\n",
       "            setTimeout(function() {\n",
       "                var nbb_cell_id = 168;\n",
       "                var nbb_unformatted_code = \"experiment = pd.read_csv(f\\\"{parent_directory}/experiment_new.csv\\\")\\nexperiment.head()\";\n",
       "                var nbb_formatted_code = \"experiment = pd.read_csv(f\\\"{parent_directory}/experiment_new.csv\\\")\\nexperiment.head()\";\n",
       "                var nbb_cells = Jupyter.notebook.get_cells();\n",
       "                for (var i = 0; i < nbb_cells.length; ++i) {\n",
       "                    if (nbb_cells[i].input_prompt_number == nbb_cell_id) {\n",
       "                        if (nbb_cells[i].get_text() == nbb_unformatted_code) {\n",
       "                             nbb_cells[i].set_text(nbb_formatted_code);\n",
       "                        }\n",
       "                        break;\n",
       "                    }\n",
       "                }\n",
       "            }, 500);\n",
       "            "
      ],
      "text/plain": [
       "<IPython.core.display.Javascript object>"
      ]
     },
     "metadata": {},
     "output_type": "display_data"
    },
    {
     "data": {
      "application/javascript": [
       "\n",
       "            setTimeout(function() {\n",
       "                var nbb_cell_id = 168;\n",
       "                var nbb_unformatted_code = \"experiment = pd.read_csv(f\\\"{parent_directory}/experiment_new.csv\\\")\\nexperiment.head()\";\n",
       "                var nbb_formatted_code = \"experiment = pd.read_csv(f\\\"{parent_directory}/experiment_new.csv\\\")\\nexperiment.head()\";\n",
       "                var nbb_cells = Jupyter.notebook.get_cells();\n",
       "                for (var i = 0; i < nbb_cells.length; ++i) {\n",
       "                    if (nbb_cells[i].input_prompt_number == nbb_cell_id) {\n",
       "                        if (nbb_cells[i].get_text() == nbb_unformatted_code) {\n",
       "                             nbb_cells[i].set_text(nbb_formatted_code);\n",
       "                        }\n",
       "                        break;\n",
       "                    }\n",
       "                }\n",
       "            }, 500);\n",
       "            "
      ],
      "text/plain": [
       "<IPython.core.display.Javascript object>"
      ]
     },
     "metadata": {},
     "output_type": "display_data"
    }
   ],
   "source": [
    "experiment = pd.read_csv(f\"{parent_directory}/experiment_new.csv\")\n",
    "experiment.head()"
   ]
  },
  {
   "cell_type": "code",
   "execution_count": 169,
   "metadata": {},
   "outputs": [
    {
     "data": {
      "text/html": [
       "<div>\n",
       "<style scoped>\n",
       "    .dataframe tbody tr th:only-of-type {\n",
       "        vertical-align: middle;\n",
       "    }\n",
       "\n",
       "    .dataframe tbody tr th {\n",
       "        vertical-align: top;\n",
       "    }\n",
       "\n",
       "    .dataframe thead th {\n",
       "        text-align: right;\n",
       "    }\n",
       "</style>\n",
       "<table border=\"1\" class=\"dataframe\">\n",
       "  <thead>\n",
       "    <tr style=\"text-align: right;\">\n",
       "      <th></th>\n",
       "      <th>Group</th>\n",
       "      <th>Cohort</th>\n",
       "      <th>MouseID</th>\n",
       "      <th>Virus</th>\n",
       "      <th>Trial</th>\n",
       "      <th>Laser</th>\n",
       "      <th>Start</th>\n",
       "      <th>Time_Latency_Contact_s</th>\n",
       "      <th>Latency_Contact_s</th>\n",
       "      <th>Time_Latency_Retrieve_s</th>\n",
       "      <th>Latency_Retrieve_s</th>\n",
       "      <th>Retrieved</th>\n",
       "    </tr>\n",
       "  </thead>\n",
       "  <tbody>\n",
       "    <tr>\n",
       "      <th>18</th>\n",
       "      <td>PrL-1</td>\n",
       "      <td>1</td>\n",
       "      <td>PrL-3</td>\n",
       "      <td>ChR2</td>\n",
       "      <td>1</td>\n",
       "      <td>OFF</td>\n",
       "      <td>0:06</td>\n",
       "      <td>1:23</td>\n",
       "      <td>77.0</td>\n",
       "      <td>2:13</td>\n",
       "      <td>120</td>\n",
       "      <td>0</td>\n",
       "    </tr>\n",
       "    <tr>\n",
       "      <th>19</th>\n",
       "      <td>PrL-1</td>\n",
       "      <td>1</td>\n",
       "      <td>PrL-3</td>\n",
       "      <td>ChR2</td>\n",
       "      <td>2</td>\n",
       "      <td>ON</td>\n",
       "      <td>2:21</td>\n",
       "      <td>2:40</td>\n",
       "      <td>19.0</td>\n",
       "      <td>2:53</td>\n",
       "      <td>32</td>\n",
       "      <td>1</td>\n",
       "    </tr>\n",
       "    <tr>\n",
       "      <th>21</th>\n",
       "      <td>PrL-1</td>\n",
       "      <td>1</td>\n",
       "      <td>PrL-3</td>\n",
       "      <td>ChR2</td>\n",
       "      <td>4</td>\n",
       "      <td>ON</td>\n",
       "      <td>6:44</td>\n",
       "      <td>6:51</td>\n",
       "      <td>7.0</td>\n",
       "      <td>6:58</td>\n",
       "      <td>14</td>\n",
       "      <td>1</td>\n",
       "    </tr>\n",
       "    <tr>\n",
       "      <th>22</th>\n",
       "      <td>PrL-1</td>\n",
       "      <td>1</td>\n",
       "      <td>PrL-3</td>\n",
       "      <td>ChR2</td>\n",
       "      <td>5</td>\n",
       "      <td>OFF</td>\n",
       "      <td>8:57</td>\n",
       "      <td>9:05</td>\n",
       "      <td>8.0</td>\n",
       "      <td>9:11</td>\n",
       "      <td>14</td>\n",
       "      <td>1</td>\n",
       "    </tr>\n",
       "    <tr>\n",
       "      <th>23</th>\n",
       "      <td>PrL-1</td>\n",
       "      <td>1</td>\n",
       "      <td>PrL-3</td>\n",
       "      <td>ChR2</td>\n",
       "      <td>6</td>\n",
       "      <td>ON</td>\n",
       "      <td>11:04</td>\n",
       "      <td>11:11</td>\n",
       "      <td>7.0</td>\n",
       "      <td>11:14</td>\n",
       "      <td>10</td>\n",
       "      <td>1</td>\n",
       "    </tr>\n",
       "    <tr>\n",
       "      <th>24</th>\n",
       "      <td>PrL-1</td>\n",
       "      <td>1</td>\n",
       "      <td>PrL-3</td>\n",
       "      <td>ChR2</td>\n",
       "      <td>7</td>\n",
       "      <td>OFF</td>\n",
       "      <td>13:13</td>\n",
       "      <td>13:24</td>\n",
       "      <td>11.0</td>\n",
       "      <td>13:27</td>\n",
       "      <td>14</td>\n",
       "      <td>1</td>\n",
       "    </tr>\n",
       "    <tr>\n",
       "      <th>25</th>\n",
       "      <td>PrL-1</td>\n",
       "      <td>1</td>\n",
       "      <td>PrL-3</td>\n",
       "      <td>ChR2</td>\n",
       "      <td>8</td>\n",
       "      <td>ON</td>\n",
       "      <td>15:24</td>\n",
       "      <td>15:27</td>\n",
       "      <td>3.0</td>\n",
       "      <td>15:34</td>\n",
       "      <td>10</td>\n",
       "      <td>1</td>\n",
       "    </tr>\n",
       "  </tbody>\n",
       "</table>\n",
       "</div>"
      ],
      "text/plain": [
       "    Group  Cohort MouseID Virus  Trial Laser  Start Time_Latency_Contact_s  \\\n",
       "18  PrL-1       1   PrL-3  ChR2      1   OFF   0:06                   1:23   \n",
       "19  PrL-1       1   PrL-3  ChR2      2    ON   2:21                   2:40   \n",
       "21  PrL-1       1   PrL-3  ChR2      4    ON   6:44                   6:51   \n",
       "22  PrL-1       1   PrL-3  ChR2      5   OFF   8:57                   9:05   \n",
       "23  PrL-1       1   PrL-3  ChR2      6    ON  11:04                  11:11   \n",
       "24  PrL-1       1   PrL-3  ChR2      7   OFF  13:13                  13:24   \n",
       "25  PrL-1       1   PrL-3  ChR2      8    ON  15:24                  15:27   \n",
       "\n",
       "    Latency_Contact_s Time_Latency_Retrieve_s  Latency_Retrieve_s  Retrieved  \n",
       "18               77.0                    2:13                 120          0  \n",
       "19               19.0                    2:53                  32          1  \n",
       "21                7.0                    6:58                  14          1  \n",
       "22                8.0                    9:11                  14          1  \n",
       "23                7.0                   11:14                  10          1  \n",
       "24               11.0                   13:27                  14          1  \n",
       "25                3.0                   15:34                  10          1  "
      ]
     },
     "execution_count": 169,
     "metadata": {},
     "output_type": "execute_result"
    },
    {
     "data": {
      "application/javascript": [
       "\n",
       "            setTimeout(function() {\n",
       "                var nbb_cell_id = 169;\n",
       "                var nbb_unformatted_code = \"curr_mouse_df = experiment[\\n    (experiment.MouseID == CURRENT_MICE)\\n    & (experiment.Time_Latency_Contact_s != \\\"NO\\\")\\n    & (experiment.Time_Latency_Retrieve_s != \\\"NO\\\")\\n]\\ncurr_mouse_df\";\n",
       "                var nbb_formatted_code = \"curr_mouse_df = experiment[\\n    (experiment.MouseID == CURRENT_MICE)\\n    & (experiment.Time_Latency_Contact_s != \\\"NO\\\")\\n    & (experiment.Time_Latency_Retrieve_s != \\\"NO\\\")\\n]\\ncurr_mouse_df\";\n",
       "                var nbb_cells = Jupyter.notebook.get_cells();\n",
       "                for (var i = 0; i < nbb_cells.length; ++i) {\n",
       "                    if (nbb_cells[i].input_prompt_number == nbb_cell_id) {\n",
       "                        if (nbb_cells[i].get_text() == nbb_unformatted_code) {\n",
       "                             nbb_cells[i].set_text(nbb_formatted_code);\n",
       "                        }\n",
       "                        break;\n",
       "                    }\n",
       "                }\n",
       "            }, 500);\n",
       "            "
      ],
      "text/plain": [
       "<IPython.core.display.Javascript object>"
      ]
     },
     "metadata": {},
     "output_type": "display_data"
    },
    {
     "data": {
      "application/javascript": [
       "\n",
       "            setTimeout(function() {\n",
       "                var nbb_cell_id = 169;\n",
       "                var nbb_unformatted_code = \"curr_mouse_df = experiment[\\n    (experiment.MouseID == CURRENT_MICE)\\n    & (experiment.Time_Latency_Contact_s != \\\"NO\\\")\\n    & (experiment.Time_Latency_Retrieve_s != \\\"NO\\\")\\n]\\ncurr_mouse_df\";\n",
       "                var nbb_formatted_code = \"curr_mouse_df = experiment[\\n    (experiment.MouseID == CURRENT_MICE)\\n    & (experiment.Time_Latency_Contact_s != \\\"NO\\\")\\n    & (experiment.Time_Latency_Retrieve_s != \\\"NO\\\")\\n]\\ncurr_mouse_df\";\n",
       "                var nbb_cells = Jupyter.notebook.get_cells();\n",
       "                for (var i = 0; i < nbb_cells.length; ++i) {\n",
       "                    if (nbb_cells[i].input_prompt_number == nbb_cell_id) {\n",
       "                        if (nbb_cells[i].get_text() == nbb_unformatted_code) {\n",
       "                             nbb_cells[i].set_text(nbb_formatted_code);\n",
       "                        }\n",
       "                        break;\n",
       "                    }\n",
       "                }\n",
       "            }, 500);\n",
       "            "
      ],
      "text/plain": [
       "<IPython.core.display.Javascript object>"
      ]
     },
     "metadata": {},
     "output_type": "display_data"
    },
    {
     "data": {
      "application/javascript": [
       "\n",
       "            setTimeout(function() {\n",
       "                var nbb_cell_id = 169;\n",
       "                var nbb_unformatted_code = \"curr_mouse_df = experiment[\\n    (experiment.MouseID == CURRENT_MICE)\\n    & (experiment.Time_Latency_Contact_s != \\\"NO\\\")\\n    & (experiment.Time_Latency_Retrieve_s != \\\"NO\\\")\\n]\\ncurr_mouse_df\";\n",
       "                var nbb_formatted_code = \"curr_mouse_df = experiment[\\n    (experiment.MouseID == CURRENT_MICE)\\n    & (experiment.Time_Latency_Contact_s != \\\"NO\\\")\\n    & (experiment.Time_Latency_Retrieve_s != \\\"NO\\\")\\n]\\ncurr_mouse_df\";\n",
       "                var nbb_cells = Jupyter.notebook.get_cells();\n",
       "                for (var i = 0; i < nbb_cells.length; ++i) {\n",
       "                    if (nbb_cells[i].input_prompt_number == nbb_cell_id) {\n",
       "                        if (nbb_cells[i].get_text() == nbb_unformatted_code) {\n",
       "                             nbb_cells[i].set_text(nbb_formatted_code);\n",
       "                        }\n",
       "                        break;\n",
       "                    }\n",
       "                }\n",
       "            }, 500);\n",
       "            "
      ],
      "text/plain": [
       "<IPython.core.display.Javascript object>"
      ]
     },
     "metadata": {},
     "output_type": "display_data"
    },
    {
     "data": {
      "application/javascript": [
       "\n",
       "            setTimeout(function() {\n",
       "                var nbb_cell_id = 169;\n",
       "                var nbb_unformatted_code = \"curr_mouse_df = experiment[\\n    (experiment.MouseID == CURRENT_MICE)\\n    & (experiment.Time_Latency_Contact_s != \\\"NO\\\")\\n    & (experiment.Time_Latency_Retrieve_s != \\\"NO\\\")\\n]\\ncurr_mouse_df\";\n",
       "                var nbb_formatted_code = \"curr_mouse_df = experiment[\\n    (experiment.MouseID == CURRENT_MICE)\\n    & (experiment.Time_Latency_Contact_s != \\\"NO\\\")\\n    & (experiment.Time_Latency_Retrieve_s != \\\"NO\\\")\\n]\\ncurr_mouse_df\";\n",
       "                var nbb_cells = Jupyter.notebook.get_cells();\n",
       "                for (var i = 0; i < nbb_cells.length; ++i) {\n",
       "                    if (nbb_cells[i].input_prompt_number == nbb_cell_id) {\n",
       "                        if (nbb_cells[i].get_text() == nbb_unformatted_code) {\n",
       "                             nbb_cells[i].set_text(nbb_formatted_code);\n",
       "                        }\n",
       "                        break;\n",
       "                    }\n",
       "                }\n",
       "            }, 500);\n",
       "            "
      ],
      "text/plain": [
       "<IPython.core.display.Javascript object>"
      ]
     },
     "metadata": {},
     "output_type": "display_data"
    },
    {
     "data": {
      "application/javascript": [
       "\n",
       "            setTimeout(function() {\n",
       "                var nbb_cell_id = 169;\n",
       "                var nbb_unformatted_code = \"curr_mouse_df = experiment[\\n    (experiment.MouseID == CURRENT_MICE)\\n    & (experiment.Time_Latency_Contact_s != \\\"NO\\\")\\n    & (experiment.Time_Latency_Retrieve_s != \\\"NO\\\")\\n]\\ncurr_mouse_df\";\n",
       "                var nbb_formatted_code = \"curr_mouse_df = experiment[\\n    (experiment.MouseID == CURRENT_MICE)\\n    & (experiment.Time_Latency_Contact_s != \\\"NO\\\")\\n    & (experiment.Time_Latency_Retrieve_s != \\\"NO\\\")\\n]\\ncurr_mouse_df\";\n",
       "                var nbb_cells = Jupyter.notebook.get_cells();\n",
       "                for (var i = 0; i < nbb_cells.length; ++i) {\n",
       "                    if (nbb_cells[i].input_prompt_number == nbb_cell_id) {\n",
       "                        if (nbb_cells[i].get_text() == nbb_unformatted_code) {\n",
       "                             nbb_cells[i].set_text(nbb_formatted_code);\n",
       "                        }\n",
       "                        break;\n",
       "                    }\n",
       "                }\n",
       "            }, 500);\n",
       "            "
      ],
      "text/plain": [
       "<IPython.core.display.Javascript object>"
      ]
     },
     "metadata": {},
     "output_type": "display_data"
    },
    {
     "data": {
      "application/javascript": [
       "\n",
       "            setTimeout(function() {\n",
       "                var nbb_cell_id = 169;\n",
       "                var nbb_unformatted_code = \"curr_mouse_df = experiment[\\n    (experiment.MouseID == CURRENT_MICE)\\n    & (experiment.Time_Latency_Contact_s != \\\"NO\\\")\\n    & (experiment.Time_Latency_Retrieve_s != \\\"NO\\\")\\n]\\ncurr_mouse_df\";\n",
       "                var nbb_formatted_code = \"curr_mouse_df = experiment[\\n    (experiment.MouseID == CURRENT_MICE)\\n    & (experiment.Time_Latency_Contact_s != \\\"NO\\\")\\n    & (experiment.Time_Latency_Retrieve_s != \\\"NO\\\")\\n]\\ncurr_mouse_df\";\n",
       "                var nbb_cells = Jupyter.notebook.get_cells();\n",
       "                for (var i = 0; i < nbb_cells.length; ++i) {\n",
       "                    if (nbb_cells[i].input_prompt_number == nbb_cell_id) {\n",
       "                        if (nbb_cells[i].get_text() == nbb_unformatted_code) {\n",
       "                             nbb_cells[i].set_text(nbb_formatted_code);\n",
       "                        }\n",
       "                        break;\n",
       "                    }\n",
       "                }\n",
       "            }, 500);\n",
       "            "
      ],
      "text/plain": [
       "<IPython.core.display.Javascript object>"
      ]
     },
     "metadata": {},
     "output_type": "display_data"
    }
   ],
   "source": [
    "curr_mouse_df = experiment[\n",
    "    (experiment.MouseID == CURRENT_MICE)\n",
    "    & (experiment.Time_Latency_Contact_s != \"NO\")\n",
    "    & (experiment.Time_Latency_Retrieve_s != \"NO\")\n",
    "]\n",
    "curr_mouse_df"
   ]
  },
  {
   "cell_type": "code",
   "execution_count": 170,
   "metadata": {},
   "outputs": [
    {
     "data": {
      "application/javascript": [
       "\n",
       "            setTimeout(function() {\n",
       "                var nbb_cell_id = 170;\n",
       "                var nbb_unformatted_code = \"def create_pup_dataset(pup_images: int):\\n    START_PUP_CAPTURE_THRESH = 2\\n    END_PUP_CAPTURE_THRESH = 3\\n\\n    min_trial = curr_mouse_df.head(1).Trial.item()\\n    max_trial = curr_mouse_df.tail(1).Trial.item()\\n\\n    trials_done = []\\n    all_possible_trials = list(curr_mouse_df.Trial)\\n    images_recorded = 0\\n\\n    while images_recorded < pup_images:\\n\\n        trial = random.randint(min_trial, max_trial)\\n        trial_row = curr_mouse_df.loc[curr_mouse_df.Trial == trial]\\n\\n        if len(trials_done) == len(curr_mouse_df):\\n            print(\\\"Insufficient contact group images...\\\")\\n            break\\n        if (trial not in trials_done) and (trial in all_possible_trials):\\n            trial_row = curr_mouse_df[curr_mouse_df.Trial == trial]\\n\\n            start_time = str(trial_row.Start.item())\\n            end_time = str(trial_row.Time_Latency_Contact_s.item())\\n\\n            start_seconds = utils.time_to_sec(start_time) + START_PUP_CAPTURE_THRESH\\n            end_seconds = utils.time_to_sec(end_time) - END_PUP_CAPTURE_THRESH\\n            diff_seconds = end_seconds - start_seconds\\n\\n            future_number_of_images = images_recorded + diff_seconds\\n            # Stop recording excess number of images.\\n            if future_number_of_images > pup_images:\\n                end_seconds = start_seconds + (pup_images - images_recorded)\\n                diff_seconds = end_seconds - start_seconds\\n\\n            print(\\n                f\\\"Starts at {start_seconds} seconds and end at {end_seconds} seconds of interval {diff_seconds} seconds\\\"\\n            )\\n            create_dataset_pipeline(start_seconds, end_seconds, \\\"child-mice\\\", False)\\n\\n            images_recorded += diff_seconds\\n\\n            trials_done.append(trial)  # append unique trials\\n    split_train_test(\\\"child-mice\\\", 0.8)\\n\\n    train_size = len(os.listdir(f\\\"{path_to_data}/train/child-mice\\\"))\\n    test_size = len(os.listdir(f\\\"{path_to_data}/test/child-mice\\\"))\\n\\n    print(\\n        f\\\"Saved all {images_recorded} child image files and train has {train_size} pictures and test has {test_size} pictures!\\\"\\n    )\";\n",
       "                var nbb_formatted_code = \"def create_pup_dataset(pup_images: int):\\n    START_PUP_CAPTURE_THRESH = 2\\n    END_PUP_CAPTURE_THRESH = 3\\n\\n    min_trial = curr_mouse_df.head(1).Trial.item()\\n    max_trial = curr_mouse_df.tail(1).Trial.item()\\n\\n    trials_done = []\\n    all_possible_trials = list(curr_mouse_df.Trial)\\n    images_recorded = 0\\n\\n    while images_recorded < pup_images:\\n\\n        trial = random.randint(min_trial, max_trial)\\n        trial_row = curr_mouse_df.loc[curr_mouse_df.Trial == trial]\\n\\n        if len(trials_done) == len(curr_mouse_df):\\n            print(\\\"Insufficient contact group images...\\\")\\n            break\\n        if (trial not in trials_done) and (trial in all_possible_trials):\\n            trial_row = curr_mouse_df[curr_mouse_df.Trial == trial]\\n\\n            start_time = str(trial_row.Start.item())\\n            end_time = str(trial_row.Time_Latency_Contact_s.item())\\n\\n            start_seconds = utils.time_to_sec(start_time) + START_PUP_CAPTURE_THRESH\\n            end_seconds = utils.time_to_sec(end_time) - END_PUP_CAPTURE_THRESH\\n            diff_seconds = end_seconds - start_seconds\\n\\n            future_number_of_images = images_recorded + diff_seconds\\n            # Stop recording excess number of images.\\n            if future_number_of_images > pup_images:\\n                end_seconds = start_seconds + (pup_images - images_recorded)\\n                diff_seconds = end_seconds - start_seconds\\n\\n            print(\\n                f\\\"Starts at {start_seconds} seconds and end at {end_seconds} seconds of interval {diff_seconds} seconds\\\"\\n            )\\n            create_dataset_pipeline(start_seconds, end_seconds, \\\"child-mice\\\", False)\\n\\n            images_recorded += diff_seconds\\n\\n            trials_done.append(trial)  # append unique trials\\n    split_train_test(\\\"child-mice\\\", 0.8)\\n\\n    train_size = len(os.listdir(f\\\"{path_to_data}/train/child-mice\\\"))\\n    test_size = len(os.listdir(f\\\"{path_to_data}/test/child-mice\\\"))\\n\\n    print(\\n        f\\\"Saved all {images_recorded} child image files and train has {train_size} pictures and test has {test_size} pictures!\\\"\\n    )\";\n",
       "                var nbb_cells = Jupyter.notebook.get_cells();\n",
       "                for (var i = 0; i < nbb_cells.length; ++i) {\n",
       "                    if (nbb_cells[i].input_prompt_number == nbb_cell_id) {\n",
       "                        if (nbb_cells[i].get_text() == nbb_unformatted_code) {\n",
       "                             nbb_cells[i].set_text(nbb_formatted_code);\n",
       "                        }\n",
       "                        break;\n",
       "                    }\n",
       "                }\n",
       "            }, 500);\n",
       "            "
      ],
      "text/plain": [
       "<IPython.core.display.Javascript object>"
      ]
     },
     "metadata": {},
     "output_type": "display_data"
    },
    {
     "data": {
      "application/javascript": [
       "\n",
       "            setTimeout(function() {\n",
       "                var nbb_cell_id = 170;\n",
       "                var nbb_unformatted_code = \"def create_pup_dataset(pup_images: int):\\n    START_PUP_CAPTURE_THRESH = 2\\n    END_PUP_CAPTURE_THRESH = 3\\n\\n    min_trial = curr_mouse_df.head(1).Trial.item()\\n    max_trial = curr_mouse_df.tail(1).Trial.item()\\n\\n    trials_done = []\\n    all_possible_trials = list(curr_mouse_df.Trial)\\n    images_recorded = 0\\n\\n    while images_recorded < pup_images:\\n\\n        trial = random.randint(min_trial, max_trial)\\n        trial_row = curr_mouse_df.loc[curr_mouse_df.Trial == trial]\\n\\n        if len(trials_done) == len(curr_mouse_df):\\n            print(\\\"Insufficient contact group images...\\\")\\n            break\\n        if (trial not in trials_done) and (trial in all_possible_trials):\\n            trial_row = curr_mouse_df[curr_mouse_df.Trial == trial]\\n\\n            start_time = str(trial_row.Start.item())\\n            end_time = str(trial_row.Time_Latency_Contact_s.item())\\n\\n            start_seconds = utils.time_to_sec(start_time) + START_PUP_CAPTURE_THRESH\\n            end_seconds = utils.time_to_sec(end_time) - END_PUP_CAPTURE_THRESH\\n            diff_seconds = end_seconds - start_seconds\\n\\n            future_number_of_images = images_recorded + diff_seconds\\n            # Stop recording excess number of images.\\n            if future_number_of_images > pup_images:\\n                end_seconds = start_seconds + (pup_images - images_recorded)\\n                diff_seconds = end_seconds - start_seconds\\n\\n            print(\\n                f\\\"Starts at {start_seconds} seconds and end at {end_seconds} seconds of interval {diff_seconds} seconds\\\"\\n            )\\n            create_dataset_pipeline(start_seconds, end_seconds, \\\"child-mice\\\", False)\\n\\n            images_recorded += diff_seconds\\n\\n            trials_done.append(trial)  # append unique trials\\n    split_train_test(\\\"child-mice\\\", 0.8)\\n\\n    train_size = len(os.listdir(f\\\"{path_to_data}/train/child-mice\\\"))\\n    test_size = len(os.listdir(f\\\"{path_to_data}/test/child-mice\\\"))\\n\\n    print(\\n        f\\\"Saved all {images_recorded} child image files and train has {train_size} pictures and test has {test_size} pictures!\\\"\\n    )\";\n",
       "                var nbb_formatted_code = \"def create_pup_dataset(pup_images: int):\\n    START_PUP_CAPTURE_THRESH = 2\\n    END_PUP_CAPTURE_THRESH = 3\\n\\n    min_trial = curr_mouse_df.head(1).Trial.item()\\n    max_trial = curr_mouse_df.tail(1).Trial.item()\\n\\n    trials_done = []\\n    all_possible_trials = list(curr_mouse_df.Trial)\\n    images_recorded = 0\\n\\n    while images_recorded < pup_images:\\n\\n        trial = random.randint(min_trial, max_trial)\\n        trial_row = curr_mouse_df.loc[curr_mouse_df.Trial == trial]\\n\\n        if len(trials_done) == len(curr_mouse_df):\\n            print(\\\"Insufficient contact group images...\\\")\\n            break\\n        if (trial not in trials_done) and (trial in all_possible_trials):\\n            trial_row = curr_mouse_df[curr_mouse_df.Trial == trial]\\n\\n            start_time = str(trial_row.Start.item())\\n            end_time = str(trial_row.Time_Latency_Contact_s.item())\\n\\n            start_seconds = utils.time_to_sec(start_time) + START_PUP_CAPTURE_THRESH\\n            end_seconds = utils.time_to_sec(end_time) - END_PUP_CAPTURE_THRESH\\n            diff_seconds = end_seconds - start_seconds\\n\\n            future_number_of_images = images_recorded + diff_seconds\\n            # Stop recording excess number of images.\\n            if future_number_of_images > pup_images:\\n                end_seconds = start_seconds + (pup_images - images_recorded)\\n                diff_seconds = end_seconds - start_seconds\\n\\n            print(\\n                f\\\"Starts at {start_seconds} seconds and end at {end_seconds} seconds of interval {diff_seconds} seconds\\\"\\n            )\\n            create_dataset_pipeline(start_seconds, end_seconds, \\\"child-mice\\\", False)\\n\\n            images_recorded += diff_seconds\\n\\n            trials_done.append(trial)  # append unique trials\\n    split_train_test(\\\"child-mice\\\", 0.8)\\n\\n    train_size = len(os.listdir(f\\\"{path_to_data}/train/child-mice\\\"))\\n    test_size = len(os.listdir(f\\\"{path_to_data}/test/child-mice\\\"))\\n\\n    print(\\n        f\\\"Saved all {images_recorded} child image files and train has {train_size} pictures and test has {test_size} pictures!\\\"\\n    )\";\n",
       "                var nbb_cells = Jupyter.notebook.get_cells();\n",
       "                for (var i = 0; i < nbb_cells.length; ++i) {\n",
       "                    if (nbb_cells[i].input_prompt_number == nbb_cell_id) {\n",
       "                        if (nbb_cells[i].get_text() == nbb_unformatted_code) {\n",
       "                             nbb_cells[i].set_text(nbb_formatted_code);\n",
       "                        }\n",
       "                        break;\n",
       "                    }\n",
       "                }\n",
       "            }, 500);\n",
       "            "
      ],
      "text/plain": [
       "<IPython.core.display.Javascript object>"
      ]
     },
     "metadata": {},
     "output_type": "display_data"
    },
    {
     "data": {
      "application/javascript": [
       "\n",
       "            setTimeout(function() {\n",
       "                var nbb_cell_id = 170;\n",
       "                var nbb_unformatted_code = \"def create_pup_dataset(pup_images: int):\\n    START_PUP_CAPTURE_THRESH = 2\\n    END_PUP_CAPTURE_THRESH = 3\\n\\n    min_trial = curr_mouse_df.head(1).Trial.item()\\n    max_trial = curr_mouse_df.tail(1).Trial.item()\\n\\n    trials_done = []\\n    all_possible_trials = list(curr_mouse_df.Trial)\\n    images_recorded = 0\\n\\n    while images_recorded < pup_images:\\n\\n        trial = random.randint(min_trial, max_trial)\\n        trial_row = curr_mouse_df.loc[curr_mouse_df.Trial == trial]\\n\\n        if len(trials_done) == len(curr_mouse_df):\\n            print(\\\"Insufficient contact group images...\\\")\\n            break\\n        if (trial not in trials_done) and (trial in all_possible_trials):\\n            trial_row = curr_mouse_df[curr_mouse_df.Trial == trial]\\n\\n            start_time = str(trial_row.Start.item())\\n            end_time = str(trial_row.Time_Latency_Contact_s.item())\\n\\n            start_seconds = utils.time_to_sec(start_time) + START_PUP_CAPTURE_THRESH\\n            end_seconds = utils.time_to_sec(end_time) - END_PUP_CAPTURE_THRESH\\n            diff_seconds = end_seconds - start_seconds\\n\\n            future_number_of_images = images_recorded + diff_seconds\\n            # Stop recording excess number of images.\\n            if future_number_of_images > pup_images:\\n                end_seconds = start_seconds + (pup_images - images_recorded)\\n                diff_seconds = end_seconds - start_seconds\\n\\n            print(\\n                f\\\"Starts at {start_seconds} seconds and end at {end_seconds} seconds of interval {diff_seconds} seconds\\\"\\n            )\\n            create_dataset_pipeline(start_seconds, end_seconds, \\\"child-mice\\\", False)\\n\\n            images_recorded += diff_seconds\\n\\n            trials_done.append(trial)  # append unique trials\\n    split_train_test(\\\"child-mice\\\", 0.8)\\n\\n    train_size = len(os.listdir(f\\\"{path_to_data}/train/child-mice\\\"))\\n    test_size = len(os.listdir(f\\\"{path_to_data}/test/child-mice\\\"))\\n\\n    print(\\n        f\\\"Saved all {images_recorded} child image files and train has {train_size} pictures and test has {test_size} pictures!\\\"\\n    )\";\n",
       "                var nbb_formatted_code = \"def create_pup_dataset(pup_images: int):\\n    START_PUP_CAPTURE_THRESH = 2\\n    END_PUP_CAPTURE_THRESH = 3\\n\\n    min_trial = curr_mouse_df.head(1).Trial.item()\\n    max_trial = curr_mouse_df.tail(1).Trial.item()\\n\\n    trials_done = []\\n    all_possible_trials = list(curr_mouse_df.Trial)\\n    images_recorded = 0\\n\\n    while images_recorded < pup_images:\\n\\n        trial = random.randint(min_trial, max_trial)\\n        trial_row = curr_mouse_df.loc[curr_mouse_df.Trial == trial]\\n\\n        if len(trials_done) == len(curr_mouse_df):\\n            print(\\\"Insufficient contact group images...\\\")\\n            break\\n        if (trial not in trials_done) and (trial in all_possible_trials):\\n            trial_row = curr_mouse_df[curr_mouse_df.Trial == trial]\\n\\n            start_time = str(trial_row.Start.item())\\n            end_time = str(trial_row.Time_Latency_Contact_s.item())\\n\\n            start_seconds = utils.time_to_sec(start_time) + START_PUP_CAPTURE_THRESH\\n            end_seconds = utils.time_to_sec(end_time) - END_PUP_CAPTURE_THRESH\\n            diff_seconds = end_seconds - start_seconds\\n\\n            future_number_of_images = images_recorded + diff_seconds\\n            # Stop recording excess number of images.\\n            if future_number_of_images > pup_images:\\n                end_seconds = start_seconds + (pup_images - images_recorded)\\n                diff_seconds = end_seconds - start_seconds\\n\\n            print(\\n                f\\\"Starts at {start_seconds} seconds and end at {end_seconds} seconds of interval {diff_seconds} seconds\\\"\\n            )\\n            create_dataset_pipeline(start_seconds, end_seconds, \\\"child-mice\\\", False)\\n\\n            images_recorded += diff_seconds\\n\\n            trials_done.append(trial)  # append unique trials\\n    split_train_test(\\\"child-mice\\\", 0.8)\\n\\n    train_size = len(os.listdir(f\\\"{path_to_data}/train/child-mice\\\"))\\n    test_size = len(os.listdir(f\\\"{path_to_data}/test/child-mice\\\"))\\n\\n    print(\\n        f\\\"Saved all {images_recorded} child image files and train has {train_size} pictures and test has {test_size} pictures!\\\"\\n    )\";\n",
       "                var nbb_cells = Jupyter.notebook.get_cells();\n",
       "                for (var i = 0; i < nbb_cells.length; ++i) {\n",
       "                    if (nbb_cells[i].input_prompt_number == nbb_cell_id) {\n",
       "                        if (nbb_cells[i].get_text() == nbb_unformatted_code) {\n",
       "                             nbb_cells[i].set_text(nbb_formatted_code);\n",
       "                        }\n",
       "                        break;\n",
       "                    }\n",
       "                }\n",
       "            }, 500);\n",
       "            "
      ],
      "text/plain": [
       "<IPython.core.display.Javascript object>"
      ]
     },
     "metadata": {},
     "output_type": "display_data"
    },
    {
     "data": {
      "application/javascript": [
       "\n",
       "            setTimeout(function() {\n",
       "                var nbb_cell_id = 170;\n",
       "                var nbb_unformatted_code = \"def create_pup_dataset(pup_images: int):\\n    START_PUP_CAPTURE_THRESH = 2\\n    END_PUP_CAPTURE_THRESH = 3\\n\\n    min_trial = curr_mouse_df.head(1).Trial.item()\\n    max_trial = curr_mouse_df.tail(1).Trial.item()\\n\\n    trials_done = []\\n    all_possible_trials = list(curr_mouse_df.Trial)\\n    images_recorded = 0\\n\\n    while images_recorded < pup_images:\\n\\n        trial = random.randint(min_trial, max_trial)\\n        trial_row = curr_mouse_df.loc[curr_mouse_df.Trial == trial]\\n\\n        if len(trials_done) == len(curr_mouse_df):\\n            print(\\\"Insufficient contact group images...\\\")\\n            break\\n        if (trial not in trials_done) and (trial in all_possible_trials):\\n            trial_row = curr_mouse_df[curr_mouse_df.Trial == trial]\\n\\n            start_time = str(trial_row.Start.item())\\n            end_time = str(trial_row.Time_Latency_Contact_s.item())\\n\\n            start_seconds = utils.time_to_sec(start_time) + START_PUP_CAPTURE_THRESH\\n            end_seconds = utils.time_to_sec(end_time) - END_PUP_CAPTURE_THRESH\\n            diff_seconds = end_seconds - start_seconds\\n\\n            future_number_of_images = images_recorded + diff_seconds\\n            # Stop recording excess number of images.\\n            if future_number_of_images > pup_images:\\n                end_seconds = start_seconds + (pup_images - images_recorded)\\n                diff_seconds = end_seconds - start_seconds\\n\\n            print(\\n                f\\\"Starts at {start_seconds} seconds and end at {end_seconds} seconds of interval {diff_seconds} seconds\\\"\\n            )\\n            create_dataset_pipeline(start_seconds, end_seconds, \\\"child-mice\\\", False)\\n\\n            images_recorded += diff_seconds\\n\\n            trials_done.append(trial)  # append unique trials\\n    split_train_test(\\\"child-mice\\\", 0.8)\\n\\n    train_size = len(os.listdir(f\\\"{path_to_data}/train/child-mice\\\"))\\n    test_size = len(os.listdir(f\\\"{path_to_data}/test/child-mice\\\"))\\n\\n    print(\\n        f\\\"Saved all {images_recorded} child image files and train has {train_size} pictures and test has {test_size} pictures!\\\"\\n    )\";\n",
       "                var nbb_formatted_code = \"def create_pup_dataset(pup_images: int):\\n    START_PUP_CAPTURE_THRESH = 2\\n    END_PUP_CAPTURE_THRESH = 3\\n\\n    min_trial = curr_mouse_df.head(1).Trial.item()\\n    max_trial = curr_mouse_df.tail(1).Trial.item()\\n\\n    trials_done = []\\n    all_possible_trials = list(curr_mouse_df.Trial)\\n    images_recorded = 0\\n\\n    while images_recorded < pup_images:\\n\\n        trial = random.randint(min_trial, max_trial)\\n        trial_row = curr_mouse_df.loc[curr_mouse_df.Trial == trial]\\n\\n        if len(trials_done) == len(curr_mouse_df):\\n            print(\\\"Insufficient contact group images...\\\")\\n            break\\n        if (trial not in trials_done) and (trial in all_possible_trials):\\n            trial_row = curr_mouse_df[curr_mouse_df.Trial == trial]\\n\\n            start_time = str(trial_row.Start.item())\\n            end_time = str(trial_row.Time_Latency_Contact_s.item())\\n\\n            start_seconds = utils.time_to_sec(start_time) + START_PUP_CAPTURE_THRESH\\n            end_seconds = utils.time_to_sec(end_time) - END_PUP_CAPTURE_THRESH\\n            diff_seconds = end_seconds - start_seconds\\n\\n            future_number_of_images = images_recorded + diff_seconds\\n            # Stop recording excess number of images.\\n            if future_number_of_images > pup_images:\\n                end_seconds = start_seconds + (pup_images - images_recorded)\\n                diff_seconds = end_seconds - start_seconds\\n\\n            print(\\n                f\\\"Starts at {start_seconds} seconds and end at {end_seconds} seconds of interval {diff_seconds} seconds\\\"\\n            )\\n            create_dataset_pipeline(start_seconds, end_seconds, \\\"child-mice\\\", False)\\n\\n            images_recorded += diff_seconds\\n\\n            trials_done.append(trial)  # append unique trials\\n    split_train_test(\\\"child-mice\\\", 0.8)\\n\\n    train_size = len(os.listdir(f\\\"{path_to_data}/train/child-mice\\\"))\\n    test_size = len(os.listdir(f\\\"{path_to_data}/test/child-mice\\\"))\\n\\n    print(\\n        f\\\"Saved all {images_recorded} child image files and train has {train_size} pictures and test has {test_size} pictures!\\\"\\n    )\";\n",
       "                var nbb_cells = Jupyter.notebook.get_cells();\n",
       "                for (var i = 0; i < nbb_cells.length; ++i) {\n",
       "                    if (nbb_cells[i].input_prompt_number == nbb_cell_id) {\n",
       "                        if (nbb_cells[i].get_text() == nbb_unformatted_code) {\n",
       "                             nbb_cells[i].set_text(nbb_formatted_code);\n",
       "                        }\n",
       "                        break;\n",
       "                    }\n",
       "                }\n",
       "            }, 500);\n",
       "            "
      ],
      "text/plain": [
       "<IPython.core.display.Javascript object>"
      ]
     },
     "metadata": {},
     "output_type": "display_data"
    },
    {
     "data": {
      "application/javascript": [
       "\n",
       "            setTimeout(function() {\n",
       "                var nbb_cell_id = 170;\n",
       "                var nbb_unformatted_code = \"def create_pup_dataset(pup_images: int):\\n    START_PUP_CAPTURE_THRESH = 2\\n    END_PUP_CAPTURE_THRESH = 3\\n\\n    min_trial = curr_mouse_df.head(1).Trial.item()\\n    max_trial = curr_mouse_df.tail(1).Trial.item()\\n\\n    trials_done = []\\n    all_possible_trials = list(curr_mouse_df.Trial)\\n    images_recorded = 0\\n\\n    while images_recorded < pup_images:\\n\\n        trial = random.randint(min_trial, max_trial)\\n        trial_row = curr_mouse_df.loc[curr_mouse_df.Trial == trial]\\n\\n        if len(trials_done) == len(curr_mouse_df):\\n            print(\\\"Insufficient contact group images...\\\")\\n            break\\n        if (trial not in trials_done) and (trial in all_possible_trials):\\n            trial_row = curr_mouse_df[curr_mouse_df.Trial == trial]\\n\\n            start_time = str(trial_row.Start.item())\\n            end_time = str(trial_row.Time_Latency_Contact_s.item())\\n\\n            start_seconds = utils.time_to_sec(start_time) + START_PUP_CAPTURE_THRESH\\n            end_seconds = utils.time_to_sec(end_time) - END_PUP_CAPTURE_THRESH\\n            diff_seconds = end_seconds - start_seconds\\n\\n            future_number_of_images = images_recorded + diff_seconds\\n            # Stop recording excess number of images.\\n            if future_number_of_images > pup_images:\\n                end_seconds = start_seconds + (pup_images - images_recorded)\\n                diff_seconds = end_seconds - start_seconds\\n\\n            print(\\n                f\\\"Starts at {start_seconds} seconds and end at {end_seconds} seconds of interval {diff_seconds} seconds\\\"\\n            )\\n            create_dataset_pipeline(start_seconds, end_seconds, \\\"child-mice\\\", False)\\n\\n            images_recorded += diff_seconds\\n\\n            trials_done.append(trial)  # append unique trials\\n    split_train_test(\\\"child-mice\\\", 0.8)\\n\\n    train_size = len(os.listdir(f\\\"{path_to_data}/train/child-mice\\\"))\\n    test_size = len(os.listdir(f\\\"{path_to_data}/test/child-mice\\\"))\\n\\n    print(\\n        f\\\"Saved all {images_recorded} child image files and train has {train_size} pictures and test has {test_size} pictures!\\\"\\n    )\";\n",
       "                var nbb_formatted_code = \"def create_pup_dataset(pup_images: int):\\n    START_PUP_CAPTURE_THRESH = 2\\n    END_PUP_CAPTURE_THRESH = 3\\n\\n    min_trial = curr_mouse_df.head(1).Trial.item()\\n    max_trial = curr_mouse_df.tail(1).Trial.item()\\n\\n    trials_done = []\\n    all_possible_trials = list(curr_mouse_df.Trial)\\n    images_recorded = 0\\n\\n    while images_recorded < pup_images:\\n\\n        trial = random.randint(min_trial, max_trial)\\n        trial_row = curr_mouse_df.loc[curr_mouse_df.Trial == trial]\\n\\n        if len(trials_done) == len(curr_mouse_df):\\n            print(\\\"Insufficient contact group images...\\\")\\n            break\\n        if (trial not in trials_done) and (trial in all_possible_trials):\\n            trial_row = curr_mouse_df[curr_mouse_df.Trial == trial]\\n\\n            start_time = str(trial_row.Start.item())\\n            end_time = str(trial_row.Time_Latency_Contact_s.item())\\n\\n            start_seconds = utils.time_to_sec(start_time) + START_PUP_CAPTURE_THRESH\\n            end_seconds = utils.time_to_sec(end_time) - END_PUP_CAPTURE_THRESH\\n            diff_seconds = end_seconds - start_seconds\\n\\n            future_number_of_images = images_recorded + diff_seconds\\n            # Stop recording excess number of images.\\n            if future_number_of_images > pup_images:\\n                end_seconds = start_seconds + (pup_images - images_recorded)\\n                diff_seconds = end_seconds - start_seconds\\n\\n            print(\\n                f\\\"Starts at {start_seconds} seconds and end at {end_seconds} seconds of interval {diff_seconds} seconds\\\"\\n            )\\n            create_dataset_pipeline(start_seconds, end_seconds, \\\"child-mice\\\", False)\\n\\n            images_recorded += diff_seconds\\n\\n            trials_done.append(trial)  # append unique trials\\n    split_train_test(\\\"child-mice\\\", 0.8)\\n\\n    train_size = len(os.listdir(f\\\"{path_to_data}/train/child-mice\\\"))\\n    test_size = len(os.listdir(f\\\"{path_to_data}/test/child-mice\\\"))\\n\\n    print(\\n        f\\\"Saved all {images_recorded} child image files and train has {train_size} pictures and test has {test_size} pictures!\\\"\\n    )\";\n",
       "                var nbb_cells = Jupyter.notebook.get_cells();\n",
       "                for (var i = 0; i < nbb_cells.length; ++i) {\n",
       "                    if (nbb_cells[i].input_prompt_number == nbb_cell_id) {\n",
       "                        if (nbb_cells[i].get_text() == nbb_unformatted_code) {\n",
       "                             nbb_cells[i].set_text(nbb_formatted_code);\n",
       "                        }\n",
       "                        break;\n",
       "                    }\n",
       "                }\n",
       "            }, 500);\n",
       "            "
      ],
      "text/plain": [
       "<IPython.core.display.Javascript object>"
      ]
     },
     "metadata": {},
     "output_type": "display_data"
    },
    {
     "data": {
      "application/javascript": [
       "\n",
       "            setTimeout(function() {\n",
       "                var nbb_cell_id = 170;\n",
       "                var nbb_unformatted_code = \"def create_pup_dataset(pup_images: int):\\n    START_PUP_CAPTURE_THRESH = 2\\n    END_PUP_CAPTURE_THRESH = 3\\n\\n    min_trial = curr_mouse_df.head(1).Trial.item()\\n    max_trial = curr_mouse_df.tail(1).Trial.item()\\n\\n    trials_done = []\\n    all_possible_trials = list(curr_mouse_df.Trial)\\n    images_recorded = 0\\n\\n    while images_recorded < pup_images:\\n\\n        trial = random.randint(min_trial, max_trial)\\n        trial_row = curr_mouse_df.loc[curr_mouse_df.Trial == trial]\\n\\n        if len(trials_done) == len(curr_mouse_df):\\n            print(\\\"Insufficient contact group images...\\\")\\n            break\\n        if (trial not in trials_done) and (trial in all_possible_trials):\\n            trial_row = curr_mouse_df[curr_mouse_df.Trial == trial]\\n\\n            start_time = str(trial_row.Start.item())\\n            end_time = str(trial_row.Time_Latency_Contact_s.item())\\n\\n            start_seconds = utils.time_to_sec(start_time) + START_PUP_CAPTURE_THRESH\\n            end_seconds = utils.time_to_sec(end_time) - END_PUP_CAPTURE_THRESH\\n            diff_seconds = end_seconds - start_seconds\\n\\n            future_number_of_images = images_recorded + diff_seconds\\n            # Stop recording excess number of images.\\n            if future_number_of_images > pup_images:\\n                end_seconds = start_seconds + (pup_images - images_recorded)\\n                diff_seconds = end_seconds - start_seconds\\n\\n            print(\\n                f\\\"Starts at {start_seconds} seconds and end at {end_seconds} seconds of interval {diff_seconds} seconds\\\"\\n            )\\n            create_dataset_pipeline(start_seconds, end_seconds, \\\"child-mice\\\", False)\\n\\n            images_recorded += diff_seconds\\n\\n            trials_done.append(trial)  # append unique trials\\n    split_train_test(\\\"child-mice\\\", 0.8)\\n\\n    train_size = len(os.listdir(f\\\"{path_to_data}/train/child-mice\\\"))\\n    test_size = len(os.listdir(f\\\"{path_to_data}/test/child-mice\\\"))\\n\\n    print(\\n        f\\\"Saved all {images_recorded} child image files and train has {train_size} pictures and test has {test_size} pictures!\\\"\\n    )\";\n",
       "                var nbb_formatted_code = \"def create_pup_dataset(pup_images: int):\\n    START_PUP_CAPTURE_THRESH = 2\\n    END_PUP_CAPTURE_THRESH = 3\\n\\n    min_trial = curr_mouse_df.head(1).Trial.item()\\n    max_trial = curr_mouse_df.tail(1).Trial.item()\\n\\n    trials_done = []\\n    all_possible_trials = list(curr_mouse_df.Trial)\\n    images_recorded = 0\\n\\n    while images_recorded < pup_images:\\n\\n        trial = random.randint(min_trial, max_trial)\\n        trial_row = curr_mouse_df.loc[curr_mouse_df.Trial == trial]\\n\\n        if len(trials_done) == len(curr_mouse_df):\\n            print(\\\"Insufficient contact group images...\\\")\\n            break\\n        if (trial not in trials_done) and (trial in all_possible_trials):\\n            trial_row = curr_mouse_df[curr_mouse_df.Trial == trial]\\n\\n            start_time = str(trial_row.Start.item())\\n            end_time = str(trial_row.Time_Latency_Contact_s.item())\\n\\n            start_seconds = utils.time_to_sec(start_time) + START_PUP_CAPTURE_THRESH\\n            end_seconds = utils.time_to_sec(end_time) - END_PUP_CAPTURE_THRESH\\n            diff_seconds = end_seconds - start_seconds\\n\\n            future_number_of_images = images_recorded + diff_seconds\\n            # Stop recording excess number of images.\\n            if future_number_of_images > pup_images:\\n                end_seconds = start_seconds + (pup_images - images_recorded)\\n                diff_seconds = end_seconds - start_seconds\\n\\n            print(\\n                f\\\"Starts at {start_seconds} seconds and end at {end_seconds} seconds of interval {diff_seconds} seconds\\\"\\n            )\\n            create_dataset_pipeline(start_seconds, end_seconds, \\\"child-mice\\\", False)\\n\\n            images_recorded += diff_seconds\\n\\n            trials_done.append(trial)  # append unique trials\\n    split_train_test(\\\"child-mice\\\", 0.8)\\n\\n    train_size = len(os.listdir(f\\\"{path_to_data}/train/child-mice\\\"))\\n    test_size = len(os.listdir(f\\\"{path_to_data}/test/child-mice\\\"))\\n\\n    print(\\n        f\\\"Saved all {images_recorded} child image files and train has {train_size} pictures and test has {test_size} pictures!\\\"\\n    )\";\n",
       "                var nbb_cells = Jupyter.notebook.get_cells();\n",
       "                for (var i = 0; i < nbb_cells.length; ++i) {\n",
       "                    if (nbb_cells[i].input_prompt_number == nbb_cell_id) {\n",
       "                        if (nbb_cells[i].get_text() == nbb_unformatted_code) {\n",
       "                             nbb_cells[i].set_text(nbb_formatted_code);\n",
       "                        }\n",
       "                        break;\n",
       "                    }\n",
       "                }\n",
       "            }, 500);\n",
       "            "
      ],
      "text/plain": [
       "<IPython.core.display.Javascript object>"
      ]
     },
     "metadata": {},
     "output_type": "display_data"
    }
   ],
   "source": [
    "def create_pup_dataset(pup_images: int):\n",
    "    START_PUP_CAPTURE_THRESH = 2\n",
    "    END_PUP_CAPTURE_THRESH = 3\n",
    "\n",
    "    min_trial = curr_mouse_df.head(1).Trial.item()\n",
    "    max_trial = curr_mouse_df.tail(1).Trial.item()\n",
    "\n",
    "    trials_done = []\n",
    "    all_possible_trials = list(curr_mouse_df.Trial)\n",
    "    images_recorded = 0\n",
    "\n",
    "    while images_recorded < pup_images:\n",
    "\n",
    "        trial = random.randint(min_trial, max_trial)\n",
    "        trial_row = curr_mouse_df.loc[curr_mouse_df.Trial == trial]\n",
    "\n",
    "        if len(trials_done) == len(curr_mouse_df):\n",
    "            print(\"Insufficient contact group images...\")\n",
    "            break\n",
    "        if (trial not in trials_done) and (trial in all_possible_trials):\n",
    "            trial_row = curr_mouse_df[curr_mouse_df.Trial == trial]\n",
    "\n",
    "            start_time = str(trial_row.Start.item())\n",
    "            end_time = str(trial_row.Time_Latency_Contact_s.item())\n",
    "\n",
    "            start_seconds = utils.time_to_sec(start_time) + START_PUP_CAPTURE_THRESH\n",
    "            end_seconds = utils.time_to_sec(end_time) - END_PUP_CAPTURE_THRESH\n",
    "            diff_seconds = end_seconds - start_seconds\n",
    "\n",
    "            future_number_of_images = images_recorded + diff_seconds\n",
    "            # Stop recording excess number of images.\n",
    "            if future_number_of_images > pup_images:\n",
    "                end_seconds = start_seconds + (pup_images - images_recorded)\n",
    "                diff_seconds = end_seconds - start_seconds\n",
    "\n",
    "            print(\n",
    "                f\"Starts at {start_seconds} seconds and end at {end_seconds} seconds of interval {diff_seconds} seconds\"\n",
    "            )\n",
    "            create_dataset_pipeline(start_seconds, end_seconds, \"child-mice\", False)\n",
    "\n",
    "            images_recorded += diff_seconds\n",
    "\n",
    "            trials_done.append(trial)  # append unique trials\n",
    "    split_train_test(\"child-mice\", 0.8)\n",
    "\n",
    "    train_size = len(os.listdir(f\"{path_to_data}/train/child-mice\"))\n",
    "    test_size = len(os.listdir(f\"{path_to_data}/test/child-mice\"))\n",
    "\n",
    "    print(\n",
    "        f\"Saved all {images_recorded} child image files and train has {train_size} pictures and test has {test_size} pictures!\"\n",
    "    )"
   ]
  },
  {
   "cell_type": "code",
   "execution_count": 171,
   "metadata": {},
   "outputs": [
    {
     "data": {
      "application/javascript": [
       "\n",
       "            setTimeout(function() {\n",
       "                var nbb_cell_id = 171;\n",
       "                var nbb_unformatted_code = \"def create_final_parent_pup_dataset(images: int, create_parent: bool, create_child: bool):\\n    try:\\n        if create_child:\\n            utils.remove_all_files(f\\\"{path_to_data}/train/child-mice\\\")\\n            utils.remove_all_files(f\\\"{path_to_data}/test/child-mice\\\")\\n            create_pup_dataset(images)\\n        if create_parent:\\n            utils.remove_all_files(f\\\"{path_to_data}/train/parent-mice\\\")\\n            utils.remove_all_files(f\\\"{path_to_data}/test/parent-mice\\\")\\n            create_parent_dataset(images)\\n    except:\\n        var = traceback.format_exc()\\n        print(var)\";\n",
       "                var nbb_formatted_code = \"def create_final_parent_pup_dataset(\\n    images: int, create_parent: bool, create_child: bool\\n):\\n    try:\\n        if create_child:\\n            utils.remove_all_files(f\\\"{path_to_data}/train/child-mice\\\")\\n            utils.remove_all_files(f\\\"{path_to_data}/test/child-mice\\\")\\n            create_pup_dataset(images)\\n        if create_parent:\\n            utils.remove_all_files(f\\\"{path_to_data}/train/parent-mice\\\")\\n            utils.remove_all_files(f\\\"{path_to_data}/test/parent-mice\\\")\\n            create_parent_dataset(images)\\n    except:\\n        var = traceback.format_exc()\\n        print(var)\";\n",
       "                var nbb_cells = Jupyter.notebook.get_cells();\n",
       "                for (var i = 0; i < nbb_cells.length; ++i) {\n",
       "                    if (nbb_cells[i].input_prompt_number == nbb_cell_id) {\n",
       "                        if (nbb_cells[i].get_text() == nbb_unformatted_code) {\n",
       "                             nbb_cells[i].set_text(nbb_formatted_code);\n",
       "                        }\n",
       "                        break;\n",
       "                    }\n",
       "                }\n",
       "            }, 500);\n",
       "            "
      ],
      "text/plain": [
       "<IPython.core.display.Javascript object>"
      ]
     },
     "metadata": {},
     "output_type": "display_data"
    },
    {
     "data": {
      "application/javascript": [
       "\n",
       "            setTimeout(function() {\n",
       "                var nbb_cell_id = 171;\n",
       "                var nbb_unformatted_code = \"def create_final_parent_pup_dataset(images: int, create_parent: bool, create_child: bool):\\n    try:\\n        if create_child:\\n            utils.remove_all_files(f\\\"{path_to_data}/train/child-mice\\\")\\n            utils.remove_all_files(f\\\"{path_to_data}/test/child-mice\\\")\\n            create_pup_dataset(images)\\n        if create_parent:\\n            utils.remove_all_files(f\\\"{path_to_data}/train/parent-mice\\\")\\n            utils.remove_all_files(f\\\"{path_to_data}/test/parent-mice\\\")\\n            create_parent_dataset(images)\\n    except:\\n        var = traceback.format_exc()\\n        print(var)\";\n",
       "                var nbb_formatted_code = \"def create_final_parent_pup_dataset(\\n    images: int, create_parent: bool, create_child: bool\\n):\\n    try:\\n        if create_child:\\n            utils.remove_all_files(f\\\"{path_to_data}/train/child-mice\\\")\\n            utils.remove_all_files(f\\\"{path_to_data}/test/child-mice\\\")\\n            create_pup_dataset(images)\\n        if create_parent:\\n            utils.remove_all_files(f\\\"{path_to_data}/train/parent-mice\\\")\\n            utils.remove_all_files(f\\\"{path_to_data}/test/parent-mice\\\")\\n            create_parent_dataset(images)\\n    except:\\n        var = traceback.format_exc()\\n        print(var)\";\n",
       "                var nbb_cells = Jupyter.notebook.get_cells();\n",
       "                for (var i = 0; i < nbb_cells.length; ++i) {\n",
       "                    if (nbb_cells[i].input_prompt_number == nbb_cell_id) {\n",
       "                        if (nbb_cells[i].get_text() == nbb_unformatted_code) {\n",
       "                             nbb_cells[i].set_text(nbb_formatted_code);\n",
       "                        }\n",
       "                        break;\n",
       "                    }\n",
       "                }\n",
       "            }, 500);\n",
       "            "
      ],
      "text/plain": [
       "<IPython.core.display.Javascript object>"
      ]
     },
     "metadata": {},
     "output_type": "display_data"
    },
    {
     "data": {
      "application/javascript": [
       "\n",
       "            setTimeout(function() {\n",
       "                var nbb_cell_id = 171;\n",
       "                var nbb_unformatted_code = \"def create_final_parent_pup_dataset(images: int, create_parent: bool, create_child: bool):\\n    try:\\n        if create_child:\\n            utils.remove_all_files(f\\\"{path_to_data}/train/child-mice\\\")\\n            utils.remove_all_files(f\\\"{path_to_data}/test/child-mice\\\")\\n            create_pup_dataset(images)\\n        if create_parent:\\n            utils.remove_all_files(f\\\"{path_to_data}/train/parent-mice\\\")\\n            utils.remove_all_files(f\\\"{path_to_data}/test/parent-mice\\\")\\n            create_parent_dataset(images)\\n    except:\\n        var = traceback.format_exc()\\n        print(var)\";\n",
       "                var nbb_formatted_code = \"def create_final_parent_pup_dataset(\\n    images: int, create_parent: bool, create_child: bool\\n):\\n    try:\\n        if create_child:\\n            utils.remove_all_files(f\\\"{path_to_data}/train/child-mice\\\")\\n            utils.remove_all_files(f\\\"{path_to_data}/test/child-mice\\\")\\n            create_pup_dataset(images)\\n        if create_parent:\\n            utils.remove_all_files(f\\\"{path_to_data}/train/parent-mice\\\")\\n            utils.remove_all_files(f\\\"{path_to_data}/test/parent-mice\\\")\\n            create_parent_dataset(images)\\n    except:\\n        var = traceback.format_exc()\\n        print(var)\";\n",
       "                var nbb_cells = Jupyter.notebook.get_cells();\n",
       "                for (var i = 0; i < nbb_cells.length; ++i) {\n",
       "                    if (nbb_cells[i].input_prompt_number == nbb_cell_id) {\n",
       "                        if (nbb_cells[i].get_text() == nbb_unformatted_code) {\n",
       "                             nbb_cells[i].set_text(nbb_formatted_code);\n",
       "                        }\n",
       "                        break;\n",
       "                    }\n",
       "                }\n",
       "            }, 500);\n",
       "            "
      ],
      "text/plain": [
       "<IPython.core.display.Javascript object>"
      ]
     },
     "metadata": {},
     "output_type": "display_data"
    },
    {
     "data": {
      "application/javascript": [
       "\n",
       "            setTimeout(function() {\n",
       "                var nbb_cell_id = 171;\n",
       "                var nbb_unformatted_code = \"def create_final_parent_pup_dataset(images: int, create_parent: bool, create_child: bool):\\n    try:\\n        if create_child:\\n            utils.remove_all_files(f\\\"{path_to_data}/train/child-mice\\\")\\n            utils.remove_all_files(f\\\"{path_to_data}/test/child-mice\\\")\\n            create_pup_dataset(images)\\n        if create_parent:\\n            utils.remove_all_files(f\\\"{path_to_data}/train/parent-mice\\\")\\n            utils.remove_all_files(f\\\"{path_to_data}/test/parent-mice\\\")\\n            create_parent_dataset(images)\\n    except:\\n        var = traceback.format_exc()\\n        print(var)\";\n",
       "                var nbb_formatted_code = \"def create_final_parent_pup_dataset(\\n    images: int, create_parent: bool, create_child: bool\\n):\\n    try:\\n        if create_child:\\n            utils.remove_all_files(f\\\"{path_to_data}/train/child-mice\\\")\\n            utils.remove_all_files(f\\\"{path_to_data}/test/child-mice\\\")\\n            create_pup_dataset(images)\\n        if create_parent:\\n            utils.remove_all_files(f\\\"{path_to_data}/train/parent-mice\\\")\\n            utils.remove_all_files(f\\\"{path_to_data}/test/parent-mice\\\")\\n            create_parent_dataset(images)\\n    except:\\n        var = traceback.format_exc()\\n        print(var)\";\n",
       "                var nbb_cells = Jupyter.notebook.get_cells();\n",
       "                for (var i = 0; i < nbb_cells.length; ++i) {\n",
       "                    if (nbb_cells[i].input_prompt_number == nbb_cell_id) {\n",
       "                        if (nbb_cells[i].get_text() == nbb_unformatted_code) {\n",
       "                             nbb_cells[i].set_text(nbb_formatted_code);\n",
       "                        }\n",
       "                        break;\n",
       "                    }\n",
       "                }\n",
       "            }, 500);\n",
       "            "
      ],
      "text/plain": [
       "<IPython.core.display.Javascript object>"
      ]
     },
     "metadata": {},
     "output_type": "display_data"
    },
    {
     "data": {
      "application/javascript": [
       "\n",
       "            setTimeout(function() {\n",
       "                var nbb_cell_id = 171;\n",
       "                var nbb_unformatted_code = \"def create_final_parent_pup_dataset(images: int, create_parent: bool, create_child: bool):\\n    try:\\n        if create_child:\\n            utils.remove_all_files(f\\\"{path_to_data}/train/child-mice\\\")\\n            utils.remove_all_files(f\\\"{path_to_data}/test/child-mice\\\")\\n            create_pup_dataset(images)\\n        if create_parent:\\n            utils.remove_all_files(f\\\"{path_to_data}/train/parent-mice\\\")\\n            utils.remove_all_files(f\\\"{path_to_data}/test/parent-mice\\\")\\n            create_parent_dataset(images)\\n    except:\\n        var = traceback.format_exc()\\n        print(var)\";\n",
       "                var nbb_formatted_code = \"def create_final_parent_pup_dataset(\\n    images: int, create_parent: bool, create_child: bool\\n):\\n    try:\\n        if create_child:\\n            utils.remove_all_files(f\\\"{path_to_data}/train/child-mice\\\")\\n            utils.remove_all_files(f\\\"{path_to_data}/test/child-mice\\\")\\n            create_pup_dataset(images)\\n        if create_parent:\\n            utils.remove_all_files(f\\\"{path_to_data}/train/parent-mice\\\")\\n            utils.remove_all_files(f\\\"{path_to_data}/test/parent-mice\\\")\\n            create_parent_dataset(images)\\n    except:\\n        var = traceback.format_exc()\\n        print(var)\";\n",
       "                var nbb_cells = Jupyter.notebook.get_cells();\n",
       "                for (var i = 0; i < nbb_cells.length; ++i) {\n",
       "                    if (nbb_cells[i].input_prompt_number == nbb_cell_id) {\n",
       "                        if (nbb_cells[i].get_text() == nbb_unformatted_code) {\n",
       "                             nbb_cells[i].set_text(nbb_formatted_code);\n",
       "                        }\n",
       "                        break;\n",
       "                    }\n",
       "                }\n",
       "            }, 500);\n",
       "            "
      ],
      "text/plain": [
       "<IPython.core.display.Javascript object>"
      ]
     },
     "metadata": {},
     "output_type": "display_data"
    },
    {
     "data": {
      "application/javascript": [
       "\n",
       "            setTimeout(function() {\n",
       "                var nbb_cell_id = 171;\n",
       "                var nbb_unformatted_code = \"def create_final_parent_pup_dataset(images: int, create_parent: bool, create_child: bool):\\n    try:\\n        if create_child:\\n            utils.remove_all_files(f\\\"{path_to_data}/train/child-mice\\\")\\n            utils.remove_all_files(f\\\"{path_to_data}/test/child-mice\\\")\\n            create_pup_dataset(images)\\n        if create_parent:\\n            utils.remove_all_files(f\\\"{path_to_data}/train/parent-mice\\\")\\n            utils.remove_all_files(f\\\"{path_to_data}/test/parent-mice\\\")\\n            create_parent_dataset(images)\\n    except:\\n        var = traceback.format_exc()\\n        print(var)\";\n",
       "                var nbb_formatted_code = \"def create_final_parent_pup_dataset(\\n    images: int, create_parent: bool, create_child: bool\\n):\\n    try:\\n        if create_child:\\n            utils.remove_all_files(f\\\"{path_to_data}/train/child-mice\\\")\\n            utils.remove_all_files(f\\\"{path_to_data}/test/child-mice\\\")\\n            create_pup_dataset(images)\\n        if create_parent:\\n            utils.remove_all_files(f\\\"{path_to_data}/train/parent-mice\\\")\\n            utils.remove_all_files(f\\\"{path_to_data}/test/parent-mice\\\")\\n            create_parent_dataset(images)\\n    except:\\n        var = traceback.format_exc()\\n        print(var)\";\n",
       "                var nbb_cells = Jupyter.notebook.get_cells();\n",
       "                for (var i = 0; i < nbb_cells.length; ++i) {\n",
       "                    if (nbb_cells[i].input_prompt_number == nbb_cell_id) {\n",
       "                        if (nbb_cells[i].get_text() == nbb_unformatted_code) {\n",
       "                             nbb_cells[i].set_text(nbb_formatted_code);\n",
       "                        }\n",
       "                        break;\n",
       "                    }\n",
       "                }\n",
       "            }, 500);\n",
       "            "
      ],
      "text/plain": [
       "<IPython.core.display.Javascript object>"
      ]
     },
     "metadata": {},
     "output_type": "display_data"
    }
   ],
   "source": [
    "def create_final_parent_pup_dataset(images: int, create_parent: bool, create_child: bool):\n",
    "    try:\n",
    "        if create_child:\n",
    "            utils.remove_all_files(f\"{path_to_data}/train/child-mice\")\n",
    "            utils.remove_all_files(f\"{path_to_data}/test/child-mice\")\n",
    "            create_pup_dataset(images)\n",
    "        if create_parent:\n",
    "            utils.remove_all_files(f\"{path_to_data}/train/parent-mice\")\n",
    "            utils.remove_all_files(f\"{path_to_data}/test/parent-mice\")\n",
    "            create_parent_dataset(images)\n",
    "    except:\n",
    "        var = traceback.format_exc()\n",
    "        print(var)\n"
   ]
  },
  {
   "cell_type": "code",
   "execution_count": 172,
   "metadata": {},
   "outputs": [
    {
     "name": "stdout",
     "output_type": "stream",
     "text": [
      "Starts at 8 seconds and end at 48 seconds of interval 40 seconds\n",
      "Saved image as PrL-3-26e64fbc-813d-43be-9506-71679c15d80b at timestamp 00:08\n",
      "Saved image as PrL-3-b8948324-012a-4904-affc-315383f0a4b0 at timestamp 00:09\n",
      "Saved image as PrL-3-9fc594a7-59ca-4700-bd5b-024990c42bf4 at timestamp 00:10\n",
      "Saved image as PrL-3-87aafcd3-1624-4ea9-9386-aad3b069b8c8 at timestamp 00:11\n",
      "Saved image as PrL-3-debe3f45-a562-40f3-9fc8-e79a91d76b99 at timestamp 00:12\n",
      "Saved image as PrL-3-d7ab7ffd-bad1-4ad6-8906-acd72e6fc88a at timestamp 00:13\n",
      "Saved image as PrL-3-b4fa4160-d7dc-42b3-bd66-4d4b5b4cdbcd at timestamp 00:14\n",
      "Saved image as PrL-3-83bd96d7-f326-4345-b6d4-f9c40db7b938 at timestamp 00:15\n",
      "Saved image as PrL-3-3dc46c29-5359-4126-a5c5-d5664412e7d2 at timestamp 00:16\n",
      "Saved image as PrL-3-6c1bc0a9-8e9b-4cc6-9f60-ae67a4ee134e at timestamp 00:17\n",
      "Saved image as PrL-3-71ff4012-bcc5-4805-90c9-3e93202e08c6 at timestamp 00:18\n",
      "Saved image as PrL-3-95213449-e685-4a14-a64c-ce14c4dc9a37 at timestamp 00:19\n",
      "Saved image as PrL-3-c672272e-965b-4be2-bd85-7b6af60dd0d0 at timestamp 00:20\n",
      "Saved image as PrL-3-a05c5cb6-e01f-4277-abf6-981ad27f8866 at timestamp 00:21\n",
      "Saved image as PrL-3-e5382ec0-970d-4c64-88b0-33f1408c95b6 at timestamp 00:22\n",
      "Saved image as PrL-3-f4f5f45f-c075-485c-8134-acb220bf4cc7 at timestamp 00:23\n",
      "Saved image as PrL-3-a76b3b21-2b26-43c3-90b1-59278cb9ec91 at timestamp 00:24\n",
      "Saved image as PrL-3-d5335ea4-b56c-41b3-bf2a-36da8995f191 at timestamp 00:25\n",
      "Saved image as PrL-3-7a25c60c-216b-4193-9677-b7047fb25b45 at timestamp 00:26\n",
      "Saved image as PrL-3-d6e79643-0041-4056-8581-8313e681d525 at timestamp 00:27\n",
      "Saved image as PrL-3-a8898f55-f67e-4e77-b872-d7a4e0a60a81 at timestamp 00:28\n",
      "Saved image as PrL-3-6aef7dbf-f443-41b4-aa39-ec8c6d7607db at timestamp 00:29\n",
      "Saved image as PrL-3-0c23843d-8d14-476f-8b23-4999ccae54d1 at timestamp 00:30\n",
      "Saved image as PrL-3-ff336e70-f4a6-4bf8-a361-d560918dc779 at timestamp 00:31\n",
      "Saved image as PrL-3-9f5e1b49-5f18-4d36-8d52-9c555f0ae455 at timestamp 00:32\n",
      "Saved image as PrL-3-2e7fefb3-fab4-4ab7-befc-45d6b9976232 at timestamp 00:33\n",
      "Saved image as PrL-3-d99f9f63-1612-470f-b36d-9ec1e6ef9dc1 at timestamp 00:34\n",
      "Saved image as PrL-3-7eac3f49-0759-4b1e-9a9a-ef9164e3dccb at timestamp 00:35\n",
      "Saved image as PrL-3-63d6ab38-8263-4afd-9091-81cc28d60dcc at timestamp 00:36\n",
      "Saved image as PrL-3-c2557903-70ab-4940-a93b-32fea96c3a39 at timestamp 00:37\n",
      "Saved image as PrL-3-b7243972-e84b-40fa-a6cd-271b81c5ea8e at timestamp 00:38\n",
      "Saved image as PrL-3-429fb940-1b91-4417-8525-290386b3a77a at timestamp 00:39\n",
      "Saved image as PrL-3-9e4fa86c-fcbb-4d06-a861-a20f1ac2d8a3 at timestamp 00:40\n",
      "Saved image as PrL-3-65143920-ae1b-4856-baa5-ef4dd548d7ed at timestamp 00:41\n",
      "Saved image as PrL-3-8fd06c02-f369-4867-a582-f630eb835424 at timestamp 00:42\n",
      "Saved image as PrL-3-15fcce3d-3c19-47da-82c8-57b3e665d3bd at timestamp 00:43\n",
      "Saved image as PrL-3-7f5cf0df-3d47-495d-bb1b-226138c47497 at timestamp 00:44\n",
      "Saved image as PrL-3-4d4440d4-de78-404e-b05b-54772a7300b2 at timestamp 00:45\n",
      "Saved image as PrL-3-e56a8fc0-11cb-4661-96bb-5471f0e8705f at timestamp 00:46\n",
      "Saved image as PrL-3-91f88344-039d-4b75-a5db-d007894d2087 at timestamp 00:47\n",
      "Saved all 40 child image files and train has 32 pictures and test has 8 pictures!\n"
     ]
    },
    {
     "data": {
      "application/javascript": [
       "\n",
       "            setTimeout(function() {\n",
       "                var nbb_cell_id = 172;\n",
       "                var nbb_unformatted_code = \"create_final_parent_pup_dataset(40, create_parent=False, create_child=True)\";\n",
       "                var nbb_formatted_code = \"create_final_parent_pup_dataset(40, create_parent=False, create_child=True)\";\n",
       "                var nbb_cells = Jupyter.notebook.get_cells();\n",
       "                for (var i = 0; i < nbb_cells.length; ++i) {\n",
       "                    if (nbb_cells[i].input_prompt_number == nbb_cell_id) {\n",
       "                        if (nbb_cells[i].get_text() == nbb_unformatted_code) {\n",
       "                             nbb_cells[i].set_text(nbb_formatted_code);\n",
       "                        }\n",
       "                        break;\n",
       "                    }\n",
       "                }\n",
       "            }, 500);\n",
       "            "
      ],
      "text/plain": [
       "<IPython.core.display.Javascript object>"
      ]
     },
     "metadata": {},
     "output_type": "display_data"
    },
    {
     "data": {
      "application/javascript": [
       "\n",
       "            setTimeout(function() {\n",
       "                var nbb_cell_id = 172;\n",
       "                var nbb_unformatted_code = \"create_final_parent_pup_dataset(40, create_parent=False, create_child=True)\";\n",
       "                var nbb_formatted_code = \"create_final_parent_pup_dataset(40, create_parent=False, create_child=True)\";\n",
       "                var nbb_cells = Jupyter.notebook.get_cells();\n",
       "                for (var i = 0; i < nbb_cells.length; ++i) {\n",
       "                    if (nbb_cells[i].input_prompt_number == nbb_cell_id) {\n",
       "                        if (nbb_cells[i].get_text() == nbb_unformatted_code) {\n",
       "                             nbb_cells[i].set_text(nbb_formatted_code);\n",
       "                        }\n",
       "                        break;\n",
       "                    }\n",
       "                }\n",
       "            }, 500);\n",
       "            "
      ],
      "text/plain": [
       "<IPython.core.display.Javascript object>"
      ]
     },
     "metadata": {},
     "output_type": "display_data"
    },
    {
     "data": {
      "application/javascript": [
       "\n",
       "            setTimeout(function() {\n",
       "                var nbb_cell_id = 172;\n",
       "                var nbb_unformatted_code = \"create_final_parent_pup_dataset(40, create_parent=False, create_child=True)\";\n",
       "                var nbb_formatted_code = \"create_final_parent_pup_dataset(40, create_parent=False, create_child=True)\";\n",
       "                var nbb_cells = Jupyter.notebook.get_cells();\n",
       "                for (var i = 0; i < nbb_cells.length; ++i) {\n",
       "                    if (nbb_cells[i].input_prompt_number == nbb_cell_id) {\n",
       "                        if (nbb_cells[i].get_text() == nbb_unformatted_code) {\n",
       "                             nbb_cells[i].set_text(nbb_formatted_code);\n",
       "                        }\n",
       "                        break;\n",
       "                    }\n",
       "                }\n",
       "            }, 500);\n",
       "            "
      ],
      "text/plain": [
       "<IPython.core.display.Javascript object>"
      ]
     },
     "metadata": {},
     "output_type": "display_data"
    },
    {
     "data": {
      "application/javascript": [
       "\n",
       "            setTimeout(function() {\n",
       "                var nbb_cell_id = 172;\n",
       "                var nbb_unformatted_code = \"create_final_parent_pup_dataset(40, create_parent=False, create_child=True)\";\n",
       "                var nbb_formatted_code = \"create_final_parent_pup_dataset(40, create_parent=False, create_child=True)\";\n",
       "                var nbb_cells = Jupyter.notebook.get_cells();\n",
       "                for (var i = 0; i < nbb_cells.length; ++i) {\n",
       "                    if (nbb_cells[i].input_prompt_number == nbb_cell_id) {\n",
       "                        if (nbb_cells[i].get_text() == nbb_unformatted_code) {\n",
       "                             nbb_cells[i].set_text(nbb_formatted_code);\n",
       "                        }\n",
       "                        break;\n",
       "                    }\n",
       "                }\n",
       "            }, 500);\n",
       "            "
      ],
      "text/plain": [
       "<IPython.core.display.Javascript object>"
      ]
     },
     "metadata": {},
     "output_type": "display_data"
    },
    {
     "data": {
      "application/javascript": [
       "\n",
       "            setTimeout(function() {\n",
       "                var nbb_cell_id = 172;\n",
       "                var nbb_unformatted_code = \"create_final_parent_pup_dataset(40, create_parent=False, create_child=True)\";\n",
       "                var nbb_formatted_code = \"create_final_parent_pup_dataset(40, create_parent=False, create_child=True)\";\n",
       "                var nbb_cells = Jupyter.notebook.get_cells();\n",
       "                for (var i = 0; i < nbb_cells.length; ++i) {\n",
       "                    if (nbb_cells[i].input_prompt_number == nbb_cell_id) {\n",
       "                        if (nbb_cells[i].get_text() == nbb_unformatted_code) {\n",
       "                             nbb_cells[i].set_text(nbb_formatted_code);\n",
       "                        }\n",
       "                        break;\n",
       "                    }\n",
       "                }\n",
       "            }, 500);\n",
       "            "
      ],
      "text/plain": [
       "<IPython.core.display.Javascript object>"
      ]
     },
     "metadata": {},
     "output_type": "display_data"
    },
    {
     "data": {
      "application/javascript": [
       "\n",
       "            setTimeout(function() {\n",
       "                var nbb_cell_id = 172;\n",
       "                var nbb_unformatted_code = \"create_final_parent_pup_dataset(40, create_parent=False, create_child=True)\";\n",
       "                var nbb_formatted_code = \"create_final_parent_pup_dataset(40, create_parent=False, create_child=True)\";\n",
       "                var nbb_cells = Jupyter.notebook.get_cells();\n",
       "                for (var i = 0; i < nbb_cells.length; ++i) {\n",
       "                    if (nbb_cells[i].input_prompt_number == nbb_cell_id) {\n",
       "                        if (nbb_cells[i].get_text() == nbb_unformatted_code) {\n",
       "                             nbb_cells[i].set_text(nbb_formatted_code);\n",
       "                        }\n",
       "                        break;\n",
       "                    }\n",
       "                }\n",
       "            }, 500);\n",
       "            "
      ],
      "text/plain": [
       "<IPython.core.display.Javascript object>"
      ]
     },
     "metadata": {},
     "output_type": "display_data"
    }
   ],
   "source": [
    "# create_final_parent_pup_dataset(40, create_parent=False, create_child=True)"
   ]
  }
 ],
 "metadata": {
  "kernelspec": {
   "display_name": "Python deep-route",
   "language": "python",
   "name": "deep-route"
  },
  "language_info": {
   "codemirror_mode": {
    "name": "ipython",
    "version": 3
   },
   "file_extension": ".py",
   "mimetype": "text/x-python",
   "name": "python",
   "nbconvert_exporter": "python",
   "pygments_lexer": "ipython3",
   "version": "3.8.10"
  }
 },
 "nbformat": 4,
 "nbformat_minor": 4
}
