{
 "cells": [
  {
   "cell_type": "code",
   "execution_count": 12,
   "id": "d33e84cf",
   "metadata": {},
   "outputs": [
    {
     "name": "stdout",
     "output_type": "stream",
     "text": [
      "The autoreload extension is already loaded. To reload it, use:\n",
      "  %reload_ext autoreload\n"
     ]
    },
    {
     "data": {
      "application/javascript": [
       "\n",
       "            setTimeout(function() {\n",
       "                var nbb_cell_id = 12;\n",
       "                var nbb_unformatted_code = \"import cv2\\nimport os\\nimport warnings\\nimport tensorflow as tf\\nfrom object_detection.utils import label_map_util\\nfrom object_detection.utils import visualization_utils as viz_utils\\nfrom object_detection.builders import model_builder\\nfrom object_detection.utils import config_util\\nimport platform\\nimport numpy as np\\nfrom utils import plot_image\\n\\nwarnings.filterwarnings(\\\"ignore\\\")\\n%load_ext autoreload\\n%autoreload 2\\n\\n%matplotlib inline\\n%reload_ext nb_black\\n%config IPCompleter.greedy=True\";\n",
       "                var nbb_formatted_code = \"import cv2\\nimport os\\nimport warnings\\nimport tensorflow as tf\\nfrom object_detection.utils import label_map_util\\nfrom object_detection.utils import visualization_utils as viz_utils\\nfrom object_detection.builders import model_builder\\nfrom object_detection.utils import config_util\\nimport platform\\nimport numpy as np\\nfrom utils import plot_image\\n\\nwarnings.filterwarnings(\\\"ignore\\\")\\n%load_ext autoreload\\n%autoreload 2\\n\\n%matplotlib inline\\n%reload_ext nb_black\\n%config IPCompleter.greedy=True\";\n",
       "                var nbb_cells = Jupyter.notebook.get_cells();\n",
       "                for (var i = 0; i < nbb_cells.length; ++i) {\n",
       "                    if (nbb_cells[i].input_prompt_number == nbb_cell_id) {\n",
       "                        if (nbb_cells[i].get_text() == nbb_unformatted_code) {\n",
       "                             nbb_cells[i].set_text(nbb_formatted_code);\n",
       "                        }\n",
       "                        break;\n",
       "                    }\n",
       "                }\n",
       "            }, 500);\n",
       "            "
      ],
      "text/plain": [
       "<IPython.core.display.Javascript object>"
      ]
     },
     "metadata": {},
     "output_type": "display_data"
    },
    {
     "data": {
      "application/javascript": [
       "\n",
       "            setTimeout(function() {\n",
       "                var nbb_cell_id = 12;\n",
       "                var nbb_unformatted_code = \"import cv2\\nimport os\\nimport warnings\\nimport tensorflow as tf\\nfrom object_detection.utils import label_map_util\\nfrom object_detection.utils import visualization_utils as viz_utils\\nfrom object_detection.builders import model_builder\\nfrom object_detection.utils import config_util\\nimport platform\\nimport numpy as np\\nfrom utils import plot_image\\n\\nwarnings.filterwarnings(\\\"ignore\\\")\\n%load_ext autoreload\\n%autoreload 2\\n\\n%matplotlib inline\\n%reload_ext nb_black\\n%config IPCompleter.greedy=True\";\n",
       "                var nbb_formatted_code = \"import cv2\\nimport os\\nimport warnings\\nimport tensorflow as tf\\nfrom object_detection.utils import label_map_util\\nfrom object_detection.utils import visualization_utils as viz_utils\\nfrom object_detection.builders import model_builder\\nfrom object_detection.utils import config_util\\nimport platform\\nimport numpy as np\\nfrom utils import plot_image\\n\\nwarnings.filterwarnings(\\\"ignore\\\")\\n%load_ext autoreload\\n%autoreload 2\\n\\n%matplotlib inline\\n%reload_ext nb_black\\n%config IPCompleter.greedy=True\";\n",
       "                var nbb_cells = Jupyter.notebook.get_cells();\n",
       "                for (var i = 0; i < nbb_cells.length; ++i) {\n",
       "                    if (nbb_cells[i].input_prompt_number == nbb_cell_id) {\n",
       "                        if (nbb_cells[i].get_text() == nbb_unformatted_code) {\n",
       "                             nbb_cells[i].set_text(nbb_formatted_code);\n",
       "                        }\n",
       "                        break;\n",
       "                    }\n",
       "                }\n",
       "            }, 500);\n",
       "            "
      ],
      "text/plain": [
       "<IPython.core.display.Javascript object>"
      ]
     },
     "metadata": {},
     "output_type": "display_data"
    }
   ],
   "source": [
    "import cv2\n",
    "import os\n",
    "import warnings\n",
    "import tensorflow as tf\n",
    "from object_detection.utils import label_map_util\n",
    "from object_detection.utils import visualization_utils as viz_utils\n",
    "from object_detection.builders import model_builder\n",
    "from object_detection.utils import config_util\n",
    "import platform\n",
    "import numpy as np\n",
    "from utils import plot_image\n",
    "\n",
    "warnings.filterwarnings(\"ignore\")\n",
    "%load_ext autoreload\n",
    "%autoreload 2\n",
    "\n",
    "%matplotlib inline\n",
    "%reload_ext nb_black\n",
    "%config IPCompleter.greedy=True"
   ]
  },
  {
   "cell_type": "code",
   "execution_count": 13,
   "id": "30feaf26",
   "metadata": {},
   "outputs": [
    {
     "data": {
      "application/javascript": [
       "\n",
       "            setTimeout(function() {\n",
       "                var nbb_cell_id = 13;\n",
       "                var nbb_unformatted_code = \"CUSTOM_MODEL_NAME = \\\"my_ssd_mobnet\\\"\\nPRETRAINED_MODEL_NAME = \\\"ssd_mobilenet_v2_fpnlite_320x320_coco17_tpu-8\\\"\\nPRETRAINED_MODEL = \\\"http://download.tensorflow.org/models/object_detection/tf2/20200711/ssd_mobilenet_v2_fpnlite_320x320_coco17_tpu-8.tar.gz\\\"\\nTF_RECORD_SCRIPT_NAME = \\\"generate_tfrecord.py\\\"\\nLABEL_MAP_NAME = \\\"label_map.pbtxt\\\"\\ncurrent_os = platform.system()\";\n",
       "                var nbb_formatted_code = \"CUSTOM_MODEL_NAME = \\\"my_ssd_mobnet\\\"\\nPRETRAINED_MODEL_NAME = \\\"ssd_mobilenet_v2_fpnlite_320x320_coco17_tpu-8\\\"\\nPRETRAINED_MODEL = \\\"http://download.tensorflow.org/models/object_detection/tf2/20200711/ssd_mobilenet_v2_fpnlite_320x320_coco17_tpu-8.tar.gz\\\"\\nTF_RECORD_SCRIPT_NAME = \\\"generate_tfrecord.py\\\"\\nLABEL_MAP_NAME = \\\"label_map.pbtxt\\\"\\ncurrent_os = platform.system()\";\n",
       "                var nbb_cells = Jupyter.notebook.get_cells();\n",
       "                for (var i = 0; i < nbb_cells.length; ++i) {\n",
       "                    if (nbb_cells[i].input_prompt_number == nbb_cell_id) {\n",
       "                        if (nbb_cells[i].get_text() == nbb_unformatted_code) {\n",
       "                             nbb_cells[i].set_text(nbb_formatted_code);\n",
       "                        }\n",
       "                        break;\n",
       "                    }\n",
       "                }\n",
       "            }, 500);\n",
       "            "
      ],
      "text/plain": [
       "<IPython.core.display.Javascript object>"
      ]
     },
     "metadata": {},
     "output_type": "display_data"
    },
    {
     "data": {
      "application/javascript": [
       "\n",
       "            setTimeout(function() {\n",
       "                var nbb_cell_id = 13;\n",
       "                var nbb_unformatted_code = \"CUSTOM_MODEL_NAME = \\\"my_ssd_mobnet\\\"\\nPRETRAINED_MODEL_NAME = \\\"ssd_mobilenet_v2_fpnlite_320x320_coco17_tpu-8\\\"\\nPRETRAINED_MODEL = \\\"http://download.tensorflow.org/models/object_detection/tf2/20200711/ssd_mobilenet_v2_fpnlite_320x320_coco17_tpu-8.tar.gz\\\"\\nTF_RECORD_SCRIPT_NAME = \\\"generate_tfrecord.py\\\"\\nLABEL_MAP_NAME = \\\"label_map.pbtxt\\\"\\ncurrent_os = platform.system()\";\n",
       "                var nbb_formatted_code = \"CUSTOM_MODEL_NAME = \\\"my_ssd_mobnet\\\"\\nPRETRAINED_MODEL_NAME = \\\"ssd_mobilenet_v2_fpnlite_320x320_coco17_tpu-8\\\"\\nPRETRAINED_MODEL = \\\"http://download.tensorflow.org/models/object_detection/tf2/20200711/ssd_mobilenet_v2_fpnlite_320x320_coco17_tpu-8.tar.gz\\\"\\nTF_RECORD_SCRIPT_NAME = \\\"generate_tfrecord.py\\\"\\nLABEL_MAP_NAME = \\\"label_map.pbtxt\\\"\\ncurrent_os = platform.system()\";\n",
       "                var nbb_cells = Jupyter.notebook.get_cells();\n",
       "                for (var i = 0; i < nbb_cells.length; ++i) {\n",
       "                    if (nbb_cells[i].input_prompt_number == nbb_cell_id) {\n",
       "                        if (nbb_cells[i].get_text() == nbb_unformatted_code) {\n",
       "                             nbb_cells[i].set_text(nbb_formatted_code);\n",
       "                        }\n",
       "                        break;\n",
       "                    }\n",
       "                }\n",
       "            }, 500);\n",
       "            "
      ],
      "text/plain": [
       "<IPython.core.display.Javascript object>"
      ]
     },
     "metadata": {},
     "output_type": "display_data"
    }
   ],
   "source": [
    "CUSTOM_MODEL_NAME = \"my_ssd_mobnet\"\n",
    "PRETRAINED_MODEL_NAME = \"ssd_mobilenet_v2_fpnlite_320x320_coco17_tpu-8\"\n",
    "PRETRAINED_MODEL = \"http://download.tensorflow.org/models/object_detection/tf2/20200711/ssd_mobilenet_v2_fpnlite_320x320_coco17_tpu-8.tar.gz\"\n",
    "TF_RECORD_SCRIPT_NAME = \"generate_tfrecord.py\"\n",
    "LABEL_MAP_NAME = \"label_map.pbtxt\"\n",
    "current_os = platform.system()"
   ]
  },
  {
   "cell_type": "code",
   "execution_count": 14,
   "id": "25ba7455",
   "metadata": {},
   "outputs": [
    {
     "data": {
      "application/javascript": [
       "\n",
       "            setTimeout(function() {\n",
       "                var nbb_cell_id = 14;\n",
       "                var nbb_unformatted_code = \"parent_directory = os.path.dirname(os.getcwd())\\npaths = {\\n    \\\"SRC_PATH\\\": os.path.join(parent_directory, \\\"src\\\"),\\n    \\\"DATA_PATH\\\": os.path.join(parent_directory, \\\"data\\\"),\\n    \\\"APIMODEL_PATH\\\": os.path.join(parent_directory, \\\"api_models\\\"),\\n    \\\"MODEL_PATH\\\": os.path.join(parent_directory, \\\"my_models\\\"),\\n    \\\"PRETRAINED_MODEL_PATH\\\": os.path.join(parent_directory, \\\"pre-trained-models\\\"),\\n    \\\"CHECKPOINT_PATH\\\": os.path.join(parent_directory, \\\"my_models\\\", CUSTOM_MODEL_NAME),\\n    \\\"OUTPUT_PATH\\\": os.path.join(\\n        parent_directory, \\\"my_models\\\", CUSTOM_MODEL_NAME, \\\"export\\\"\\n    ),\\n    \\\"TFJS_PATH\\\": os.path.join(\\n        parent_directory, \\\"my_models\\\", CUSTOM_MODEL_NAME, \\\"tfjsexport\\\"\\n    ),\\n    \\\"TFLITE_PATH\\\": os.path.join(\\n        parent_directory, \\\"my_models\\\", CUSTOM_MODEL_NAME, \\\"tfliteexport\\\"\\n    ),\\n    \\\"PROTOC_PATH\\\": os.path.join(parent_directory, \\\"protoc\\\"),\\n    \\\"VIDEOS_PATH\\\": os.path.join(parent_directory, \\\"videos\\\"),\\n}\\nmice = [\\n    \\\"PrL-2\\\",\\n    \\\"PrL-3\\\",\\n    \\\"PrL-4\\\",\\n    \\\"PrL-5\\\",\\n    \\\"PrL-8\\\",\\n    \\\"PrL-9\\\",\\n    \\\"PrL-10\\\",\\n    \\\"PrL-16\\\",\\n    \\\"PrL-19\\\",\\n]\";\n",
       "                var nbb_formatted_code = \"parent_directory = os.path.dirname(os.getcwd())\\npaths = {\\n    \\\"SRC_PATH\\\": os.path.join(parent_directory, \\\"src\\\"),\\n    \\\"DATA_PATH\\\": os.path.join(parent_directory, \\\"data\\\"),\\n    \\\"APIMODEL_PATH\\\": os.path.join(parent_directory, \\\"api_models\\\"),\\n    \\\"MODEL_PATH\\\": os.path.join(parent_directory, \\\"my_models\\\"),\\n    \\\"PRETRAINED_MODEL_PATH\\\": os.path.join(parent_directory, \\\"pre-trained-models\\\"),\\n    \\\"CHECKPOINT_PATH\\\": os.path.join(parent_directory, \\\"my_models\\\", CUSTOM_MODEL_NAME),\\n    \\\"OUTPUT_PATH\\\": os.path.join(\\n        parent_directory, \\\"my_models\\\", CUSTOM_MODEL_NAME, \\\"export\\\"\\n    ),\\n    \\\"TFJS_PATH\\\": os.path.join(\\n        parent_directory, \\\"my_models\\\", CUSTOM_MODEL_NAME, \\\"tfjsexport\\\"\\n    ),\\n    \\\"TFLITE_PATH\\\": os.path.join(\\n        parent_directory, \\\"my_models\\\", CUSTOM_MODEL_NAME, \\\"tfliteexport\\\"\\n    ),\\n    \\\"PROTOC_PATH\\\": os.path.join(parent_directory, \\\"protoc\\\"),\\n    \\\"VIDEOS_PATH\\\": os.path.join(parent_directory, \\\"videos\\\"),\\n}\\nmice = [\\n    \\\"PrL-2\\\",\\n    \\\"PrL-3\\\",\\n    \\\"PrL-4\\\",\\n    \\\"PrL-5\\\",\\n    \\\"PrL-8\\\",\\n    \\\"PrL-9\\\",\\n    \\\"PrL-10\\\",\\n    \\\"PrL-16\\\",\\n    \\\"PrL-19\\\",\\n]\";\n",
       "                var nbb_cells = Jupyter.notebook.get_cells();\n",
       "                for (var i = 0; i < nbb_cells.length; ++i) {\n",
       "                    if (nbb_cells[i].input_prompt_number == nbb_cell_id) {\n",
       "                        if (nbb_cells[i].get_text() == nbb_unformatted_code) {\n",
       "                             nbb_cells[i].set_text(nbb_formatted_code);\n",
       "                        }\n",
       "                        break;\n",
       "                    }\n",
       "                }\n",
       "            }, 500);\n",
       "            "
      ],
      "text/plain": [
       "<IPython.core.display.Javascript object>"
      ]
     },
     "metadata": {},
     "output_type": "display_data"
    },
    {
     "data": {
      "application/javascript": [
       "\n",
       "            setTimeout(function() {\n",
       "                var nbb_cell_id = 14;\n",
       "                var nbb_unformatted_code = \"parent_directory = os.path.dirname(os.getcwd())\\npaths = {\\n    \\\"SRC_PATH\\\": os.path.join(parent_directory, \\\"src\\\"),\\n    \\\"DATA_PATH\\\": os.path.join(parent_directory, \\\"data\\\"),\\n    \\\"APIMODEL_PATH\\\": os.path.join(parent_directory, \\\"api_models\\\"),\\n    \\\"MODEL_PATH\\\": os.path.join(parent_directory, \\\"my_models\\\"),\\n    \\\"PRETRAINED_MODEL_PATH\\\": os.path.join(parent_directory, \\\"pre-trained-models\\\"),\\n    \\\"CHECKPOINT_PATH\\\": os.path.join(parent_directory, \\\"my_models\\\", CUSTOM_MODEL_NAME),\\n    \\\"OUTPUT_PATH\\\": os.path.join(\\n        parent_directory, \\\"my_models\\\", CUSTOM_MODEL_NAME, \\\"export\\\"\\n    ),\\n    \\\"TFJS_PATH\\\": os.path.join(\\n        parent_directory, \\\"my_models\\\", CUSTOM_MODEL_NAME, \\\"tfjsexport\\\"\\n    ),\\n    \\\"TFLITE_PATH\\\": os.path.join(\\n        parent_directory, \\\"my_models\\\", CUSTOM_MODEL_NAME, \\\"tfliteexport\\\"\\n    ),\\n    \\\"PROTOC_PATH\\\": os.path.join(parent_directory, \\\"protoc\\\"),\\n    \\\"VIDEOS_PATH\\\": os.path.join(parent_directory, \\\"videos\\\"),\\n}\\nmice = [\\n    \\\"PrL-2\\\",\\n    \\\"PrL-3\\\",\\n    \\\"PrL-4\\\",\\n    \\\"PrL-5\\\",\\n    \\\"PrL-8\\\",\\n    \\\"PrL-9\\\",\\n    \\\"PrL-10\\\",\\n    \\\"PrL-16\\\",\\n    \\\"PrL-19\\\",\\n]\";\n",
       "                var nbb_formatted_code = \"parent_directory = os.path.dirname(os.getcwd())\\npaths = {\\n    \\\"SRC_PATH\\\": os.path.join(parent_directory, \\\"src\\\"),\\n    \\\"DATA_PATH\\\": os.path.join(parent_directory, \\\"data\\\"),\\n    \\\"APIMODEL_PATH\\\": os.path.join(parent_directory, \\\"api_models\\\"),\\n    \\\"MODEL_PATH\\\": os.path.join(parent_directory, \\\"my_models\\\"),\\n    \\\"PRETRAINED_MODEL_PATH\\\": os.path.join(parent_directory, \\\"pre-trained-models\\\"),\\n    \\\"CHECKPOINT_PATH\\\": os.path.join(parent_directory, \\\"my_models\\\", CUSTOM_MODEL_NAME),\\n    \\\"OUTPUT_PATH\\\": os.path.join(\\n        parent_directory, \\\"my_models\\\", CUSTOM_MODEL_NAME, \\\"export\\\"\\n    ),\\n    \\\"TFJS_PATH\\\": os.path.join(\\n        parent_directory, \\\"my_models\\\", CUSTOM_MODEL_NAME, \\\"tfjsexport\\\"\\n    ),\\n    \\\"TFLITE_PATH\\\": os.path.join(\\n        parent_directory, \\\"my_models\\\", CUSTOM_MODEL_NAME, \\\"tfliteexport\\\"\\n    ),\\n    \\\"PROTOC_PATH\\\": os.path.join(parent_directory, \\\"protoc\\\"),\\n    \\\"VIDEOS_PATH\\\": os.path.join(parent_directory, \\\"videos\\\"),\\n}\\nmice = [\\n    \\\"PrL-2\\\",\\n    \\\"PrL-3\\\",\\n    \\\"PrL-4\\\",\\n    \\\"PrL-5\\\",\\n    \\\"PrL-8\\\",\\n    \\\"PrL-9\\\",\\n    \\\"PrL-10\\\",\\n    \\\"PrL-16\\\",\\n    \\\"PrL-19\\\",\\n]\";\n",
       "                var nbb_cells = Jupyter.notebook.get_cells();\n",
       "                for (var i = 0; i < nbb_cells.length; ++i) {\n",
       "                    if (nbb_cells[i].input_prompt_number == nbb_cell_id) {\n",
       "                        if (nbb_cells[i].get_text() == nbb_unformatted_code) {\n",
       "                             nbb_cells[i].set_text(nbb_formatted_code);\n",
       "                        }\n",
       "                        break;\n",
       "                    }\n",
       "                }\n",
       "            }, 500);\n",
       "            "
      ],
      "text/plain": [
       "<IPython.core.display.Javascript object>"
      ]
     },
     "metadata": {},
     "output_type": "display_data"
    }
   ],
   "source": [
    "parent_directory = os.path.dirname(os.getcwd())\n",
    "paths = {\n",
    "    \"SRC_PATH\": os.path.join(parent_directory, \"src\"),\n",
    "    \"DATA_PATH\": os.path.join(parent_directory, \"data\"),\n",
    "    \"APIMODEL_PATH\": os.path.join(parent_directory, \"api_models\"),\n",
    "    \"MODEL_PATH\": os.path.join(parent_directory, \"my_models\"),\n",
    "    \"PRETRAINED_MODEL_PATH\": os.path.join(parent_directory, \"pre-trained-models\"),\n",
    "    \"CHECKPOINT_PATH\": os.path.join(parent_directory, \"my_models\", CUSTOM_MODEL_NAME),\n",
    "    \"OUTPUT_PATH\": os.path.join(\n",
    "        parent_directory, \"my_models\", CUSTOM_MODEL_NAME, \"export\"\n",
    "    ),\n",
    "    \"TFJS_PATH\": os.path.join(\n",
    "        parent_directory, \"my_models\", CUSTOM_MODEL_NAME, \"tfjsexport\"\n",
    "    ),\n",
    "    \"TFLITE_PATH\": os.path.join(\n",
    "        parent_directory, \"my_models\", CUSTOM_MODEL_NAME, \"tfliteexport\"\n",
    "    ),\n",
    "    \"PROTOC_PATH\": os.path.join(parent_directory, \"protoc\"),\n",
    "    \"VIDEOS_PATH\": os.path.join(parent_directory, \"videos\"),\n",
    "}\n",
    "mice = [\n",
    "    \"PrL-2\",\n",
    "    \"PrL-3\",\n",
    "    \"PrL-4\",\n",
    "    \"PrL-5\",\n",
    "    \"PrL-8\",\n",
    "    \"PrL-9\",\n",
    "    \"PrL-10\",\n",
    "    \"PrL-16\",\n",
    "    \"PrL-19\",\n",
    "]"
   ]
  },
  {
   "cell_type": "code",
   "execution_count": 15,
   "id": "fc0c20d2",
   "metadata": {},
   "outputs": [
    {
     "data": {
      "application/javascript": [
       "\n",
       "            setTimeout(function() {\n",
       "                var nbb_cell_id = 15;\n",
       "                var nbb_unformatted_code = \"files = {\\n    \\\"PIPELINE_CONFIG\\\": os.path.join(\\n        parent_directory, \\\"my_models\\\", CUSTOM_MODEL_NAME, \\\"pipeline.config\\\"\\n    ),\\n    \\\"TF_RECORD_SCRIPT\\\": os.path.join(paths[\\\"DATA_PATH\\\"], TF_RECORD_SCRIPT_NAME),\\n    \\\"LABELMAP\\\": os.path.join(paths[\\\"DATA_PATH\\\"], LABEL_MAP_NAME),\\n}\";\n",
       "                var nbb_formatted_code = \"files = {\\n    \\\"PIPELINE_CONFIG\\\": os.path.join(\\n        parent_directory, \\\"my_models\\\", CUSTOM_MODEL_NAME, \\\"pipeline.config\\\"\\n    ),\\n    \\\"TF_RECORD_SCRIPT\\\": os.path.join(paths[\\\"DATA_PATH\\\"], TF_RECORD_SCRIPT_NAME),\\n    \\\"LABELMAP\\\": os.path.join(paths[\\\"DATA_PATH\\\"], LABEL_MAP_NAME),\\n}\";\n",
       "                var nbb_cells = Jupyter.notebook.get_cells();\n",
       "                for (var i = 0; i < nbb_cells.length; ++i) {\n",
       "                    if (nbb_cells[i].input_prompt_number == nbb_cell_id) {\n",
       "                        if (nbb_cells[i].get_text() == nbb_unformatted_code) {\n",
       "                             nbb_cells[i].set_text(nbb_formatted_code);\n",
       "                        }\n",
       "                        break;\n",
       "                    }\n",
       "                }\n",
       "            }, 500);\n",
       "            "
      ],
      "text/plain": [
       "<IPython.core.display.Javascript object>"
      ]
     },
     "metadata": {},
     "output_type": "display_data"
    },
    {
     "data": {
      "application/javascript": [
       "\n",
       "            setTimeout(function() {\n",
       "                var nbb_cell_id = 15;\n",
       "                var nbb_unformatted_code = \"files = {\\n    \\\"PIPELINE_CONFIG\\\": os.path.join(\\n        parent_directory, \\\"my_models\\\", CUSTOM_MODEL_NAME, \\\"pipeline.config\\\"\\n    ),\\n    \\\"TF_RECORD_SCRIPT\\\": os.path.join(paths[\\\"DATA_PATH\\\"], TF_RECORD_SCRIPT_NAME),\\n    \\\"LABELMAP\\\": os.path.join(paths[\\\"DATA_PATH\\\"], LABEL_MAP_NAME),\\n}\";\n",
       "                var nbb_formatted_code = \"files = {\\n    \\\"PIPELINE_CONFIG\\\": os.path.join(\\n        parent_directory, \\\"my_models\\\", CUSTOM_MODEL_NAME, \\\"pipeline.config\\\"\\n    ),\\n    \\\"TF_RECORD_SCRIPT\\\": os.path.join(paths[\\\"DATA_PATH\\\"], TF_RECORD_SCRIPT_NAME),\\n    \\\"LABELMAP\\\": os.path.join(paths[\\\"DATA_PATH\\\"], LABEL_MAP_NAME),\\n}\";\n",
       "                var nbb_cells = Jupyter.notebook.get_cells();\n",
       "                for (var i = 0; i < nbb_cells.length; ++i) {\n",
       "                    if (nbb_cells[i].input_prompt_number == nbb_cell_id) {\n",
       "                        if (nbb_cells[i].get_text() == nbb_unformatted_code) {\n",
       "                             nbb_cells[i].set_text(nbb_formatted_code);\n",
       "                        }\n",
       "                        break;\n",
       "                    }\n",
       "                }\n",
       "            }, 500);\n",
       "            "
      ],
      "text/plain": [
       "<IPython.core.display.Javascript object>"
      ]
     },
     "metadata": {},
     "output_type": "display_data"
    }
   ],
   "source": [
    "files = {\n",
    "    \"PIPELINE_CONFIG\": os.path.join(\n",
    "        parent_directory, \"my_models\", CUSTOM_MODEL_NAME, \"pipeline.config\"\n",
    "    ),\n",
    "    \"TF_RECORD_SCRIPT\": os.path.join(paths[\"DATA_PATH\"], TF_RECORD_SCRIPT_NAME),\n",
    "    \"LABELMAP\": os.path.join(paths[\"DATA_PATH\"], LABEL_MAP_NAME),\n",
    "}"
   ]
  },
  {
   "cell_type": "code",
   "execution_count": 16,
   "id": "a86d366b",
   "metadata": {},
   "outputs": [
    {
     "data": {
      "application/javascript": [
       "\n",
       "            setTimeout(function() {\n",
       "                var nbb_cell_id = 16;\n",
       "                var nbb_unformatted_code = \"# Load pipeline config and build a detection model\\nconfigs = config_util.get_configs_from_pipeline_file(files[\\\"PIPELINE_CONFIG\\\"])\\ndetection_model = model_builder.build(model_config=configs[\\\"model\\\"], is_training=False)\\n\\n# Restore checkpoint\\nckpt = tf.compat.v2.train.Checkpoint(model=detection_model)\\nckpt.restore(os.path.join(paths[\\\"CHECKPOINT_PATH\\\"], \\\"ckpt-3\\\")).expect_partial()\\n\\n\\n@tf.function\\ndef detect_fn(image):\\n    image, shapes = detection_model.preprocess(image)\\n    prediction_dict = detection_model.predict(image, shapes)\\n    detections = detection_model.postprocess(prediction_dict, shapes)\\n    return detections\";\n",
       "                var nbb_formatted_code = \"# Load pipeline config and build a detection model\\nconfigs = config_util.get_configs_from_pipeline_file(files[\\\"PIPELINE_CONFIG\\\"])\\ndetection_model = model_builder.build(model_config=configs[\\\"model\\\"], is_training=False)\\n\\n# Restore checkpoint\\nckpt = tf.compat.v2.train.Checkpoint(model=detection_model)\\nckpt.restore(os.path.join(paths[\\\"CHECKPOINT_PATH\\\"], \\\"ckpt-3\\\")).expect_partial()\\n\\n\\n@tf.function\\ndef detect_fn(image):\\n    image, shapes = detection_model.preprocess(image)\\n    prediction_dict = detection_model.predict(image, shapes)\\n    detections = detection_model.postprocess(prediction_dict, shapes)\\n    return detections\";\n",
       "                var nbb_cells = Jupyter.notebook.get_cells();\n",
       "                for (var i = 0; i < nbb_cells.length; ++i) {\n",
       "                    if (nbb_cells[i].input_prompt_number == nbb_cell_id) {\n",
       "                        if (nbb_cells[i].get_text() == nbb_unformatted_code) {\n",
       "                             nbb_cells[i].set_text(nbb_formatted_code);\n",
       "                        }\n",
       "                        break;\n",
       "                    }\n",
       "                }\n",
       "            }, 500);\n",
       "            "
      ],
      "text/plain": [
       "<IPython.core.display.Javascript object>"
      ]
     },
     "metadata": {},
     "output_type": "display_data"
    },
    {
     "data": {
      "application/javascript": [
       "\n",
       "            setTimeout(function() {\n",
       "                var nbb_cell_id = 16;\n",
       "                var nbb_unformatted_code = \"# Load pipeline config and build a detection model\\nconfigs = config_util.get_configs_from_pipeline_file(files[\\\"PIPELINE_CONFIG\\\"])\\ndetection_model = model_builder.build(model_config=configs[\\\"model\\\"], is_training=False)\\n\\n# Restore checkpoint\\nckpt = tf.compat.v2.train.Checkpoint(model=detection_model)\\nckpt.restore(os.path.join(paths[\\\"CHECKPOINT_PATH\\\"], \\\"ckpt-3\\\")).expect_partial()\\n\\n\\n@tf.function\\ndef detect_fn(image):\\n    image, shapes = detection_model.preprocess(image)\\n    prediction_dict = detection_model.predict(image, shapes)\\n    detections = detection_model.postprocess(prediction_dict, shapes)\\n    return detections\";\n",
       "                var nbb_formatted_code = \"# Load pipeline config and build a detection model\\nconfigs = config_util.get_configs_from_pipeline_file(files[\\\"PIPELINE_CONFIG\\\"])\\ndetection_model = model_builder.build(model_config=configs[\\\"model\\\"], is_training=False)\\n\\n# Restore checkpoint\\nckpt = tf.compat.v2.train.Checkpoint(model=detection_model)\\nckpt.restore(os.path.join(paths[\\\"CHECKPOINT_PATH\\\"], \\\"ckpt-3\\\")).expect_partial()\\n\\n\\n@tf.function\\ndef detect_fn(image):\\n    image, shapes = detection_model.preprocess(image)\\n    prediction_dict = detection_model.predict(image, shapes)\\n    detections = detection_model.postprocess(prediction_dict, shapes)\\n    return detections\";\n",
       "                var nbb_cells = Jupyter.notebook.get_cells();\n",
       "                for (var i = 0; i < nbb_cells.length; ++i) {\n",
       "                    if (nbb_cells[i].input_prompt_number == nbb_cell_id) {\n",
       "                        if (nbb_cells[i].get_text() == nbb_unformatted_code) {\n",
       "                             nbb_cells[i].set_text(nbb_formatted_code);\n",
       "                        }\n",
       "                        break;\n",
       "                    }\n",
       "                }\n",
       "            }, 500);\n",
       "            "
      ],
      "text/plain": [
       "<IPython.core.display.Javascript object>"
      ]
     },
     "metadata": {},
     "output_type": "display_data"
    }
   ],
   "source": [
    "# Load pipeline config and build a detection model\n",
    "configs = config_util.get_configs_from_pipeline_file(files[\"PIPELINE_CONFIG\"])\n",
    "detection_model = model_builder.build(model_config=configs[\"model\"], is_training=False)\n",
    "\n",
    "# Restore checkpoint\n",
    "ckpt = tf.compat.v2.train.Checkpoint(model=detection_model)\n",
    "ckpt.restore(os.path.join(paths[\"CHECKPOINT_PATH\"], \"ckpt-3\")).expect_partial()\n",
    "\n",
    "\n",
    "@tf.function\n",
    "def detect_fn(image):\n",
    "    image, shapes = detection_model.preprocess(image)\n",
    "    prediction_dict = detection_model.predict(image, shapes)\n",
    "    detections = detection_model.postprocess(prediction_dict, shapes)\n",
    "    return detections"
   ]
  },
  {
   "cell_type": "code",
   "execution_count": 17,
   "id": "e80b7b51",
   "metadata": {},
   "outputs": [
    {
     "data": {
      "text/plain": [
       "{1: {'id': 1, 'name': 'parent-mice'}, 2: {'id': 2, 'name': 'child-mice'}}"
      ]
     },
     "execution_count": 17,
     "metadata": {},
     "output_type": "execute_result"
    },
    {
     "data": {
      "application/javascript": [
       "\n",
       "            setTimeout(function() {\n",
       "                var nbb_cell_id = 17;\n",
       "                var nbb_unformatted_code = \"category_index = label_map_util.create_category_index_from_labelmap(files[\\\"LABELMAP\\\"])\\ncategory_index\";\n",
       "                var nbb_formatted_code = \"category_index = label_map_util.create_category_index_from_labelmap(files[\\\"LABELMAP\\\"])\\ncategory_index\";\n",
       "                var nbb_cells = Jupyter.notebook.get_cells();\n",
       "                for (var i = 0; i < nbb_cells.length; ++i) {\n",
       "                    if (nbb_cells[i].input_prompt_number == nbb_cell_id) {\n",
       "                        if (nbb_cells[i].get_text() == nbb_unformatted_code) {\n",
       "                             nbb_cells[i].set_text(nbb_formatted_code);\n",
       "                        }\n",
       "                        break;\n",
       "                    }\n",
       "                }\n",
       "            }, 500);\n",
       "            "
      ],
      "text/plain": [
       "<IPython.core.display.Javascript object>"
      ]
     },
     "metadata": {},
     "output_type": "display_data"
    },
    {
     "data": {
      "application/javascript": [
       "\n",
       "            setTimeout(function() {\n",
       "                var nbb_cell_id = 17;\n",
       "                var nbb_unformatted_code = \"category_index = label_map_util.create_category_index_from_labelmap(files[\\\"LABELMAP\\\"])\\ncategory_index\";\n",
       "                var nbb_formatted_code = \"category_index = label_map_util.create_category_index_from_labelmap(files[\\\"LABELMAP\\\"])\\ncategory_index\";\n",
       "                var nbb_cells = Jupyter.notebook.get_cells();\n",
       "                for (var i = 0; i < nbb_cells.length; ++i) {\n",
       "                    if (nbb_cells[i].input_prompt_number == nbb_cell_id) {\n",
       "                        if (nbb_cells[i].get_text() == nbb_unformatted_code) {\n",
       "                             nbb_cells[i].set_text(nbb_formatted_code);\n",
       "                        }\n",
       "                        break;\n",
       "                    }\n",
       "                }\n",
       "            }, 500);\n",
       "            "
      ],
      "text/plain": [
       "<IPython.core.display.Javascript object>"
      ]
     },
     "metadata": {},
     "output_type": "display_data"
    }
   ],
   "source": [
    "category_index = label_map_util.create_category_index_from_labelmap(files[\"LABELMAP\"])\n",
    "category_index"
   ]
  },
  {
   "cell_type": "code",
   "execution_count": 18,
   "id": "0e7d1c9f",
   "metadata": {
    "scrolled": true
   },
   "outputs": [
    {
     "data": {
      "application/javascript": [
       "\n",
       "            setTimeout(function() {\n",
       "                var nbb_cell_id = 18;\n",
       "                var nbb_unformatted_code = \"IMAGE_PATH = (\\n    f'{paths[\\\"DATA_PATH\\\"]}/train/parent_PrL-4-0f93312b-0d14-4741-baa5-a82fe96d695f.jpg'\\n)\";\n",
       "                var nbb_formatted_code = \"IMAGE_PATH = (\\n    f'{paths[\\\"DATA_PATH\\\"]}/train/parent_PrL-4-0f93312b-0d14-4741-baa5-a82fe96d695f.jpg'\\n)\";\n",
       "                var nbb_cells = Jupyter.notebook.get_cells();\n",
       "                for (var i = 0; i < nbb_cells.length; ++i) {\n",
       "                    if (nbb_cells[i].input_prompt_number == nbb_cell_id) {\n",
       "                        if (nbb_cells[i].get_text() == nbb_unformatted_code) {\n",
       "                             nbb_cells[i].set_text(nbb_formatted_code);\n",
       "                        }\n",
       "                        break;\n",
       "                    }\n",
       "                }\n",
       "            }, 500);\n",
       "            "
      ],
      "text/plain": [
       "<IPython.core.display.Javascript object>"
      ]
     },
     "metadata": {},
     "output_type": "display_data"
    },
    {
     "data": {
      "application/javascript": [
       "\n",
       "            setTimeout(function() {\n",
       "                var nbb_cell_id = 18;\n",
       "                var nbb_unformatted_code = \"IMAGE_PATH = (\\n    f'{paths[\\\"DATA_PATH\\\"]}/train/parent_PrL-4-0f93312b-0d14-4741-baa5-a82fe96d695f.jpg'\\n)\";\n",
       "                var nbb_formatted_code = \"IMAGE_PATH = (\\n    f'{paths[\\\"DATA_PATH\\\"]}/train/parent_PrL-4-0f93312b-0d14-4741-baa5-a82fe96d695f.jpg'\\n)\";\n",
       "                var nbb_cells = Jupyter.notebook.get_cells();\n",
       "                for (var i = 0; i < nbb_cells.length; ++i) {\n",
       "                    if (nbb_cells[i].input_prompt_number == nbb_cell_id) {\n",
       "                        if (nbb_cells[i].get_text() == nbb_unformatted_code) {\n",
       "                             nbb_cells[i].set_text(nbb_formatted_code);\n",
       "                        }\n",
       "                        break;\n",
       "                    }\n",
       "                }\n",
       "            }, 500);\n",
       "            "
      ],
      "text/plain": [
       "<IPython.core.display.Javascript object>"
      ]
     },
     "metadata": {},
     "output_type": "display_data"
    }
   ],
   "source": [
    "IMAGE_PATH = (\n",
    "    f'{paths[\"DATA_PATH\"]}/train/parent_PrL-4-0f93312b-0d14-4741-baa5-a82fe96d695f.jpg'\n",
    ")"
   ]
  },
  {
   "cell_type": "code",
   "execution_count": 19,
   "id": "7075e87a",
   "metadata": {},
   "outputs": [
    {
     "data": {
      "application/javascript": [
       "\n",
       "            setTimeout(function() {\n",
       "                var nbb_cell_id = 19;\n",
       "                var nbb_unformatted_code = \"def sharpen_image(img):\\n    kernel = np.array([[-1, -1, -1], [-1, 9, -1], [-1, -1, -1]])\\n    im = cv2.filter2D(img, -1, kernel)\\n    return im\";\n",
       "                var nbb_formatted_code = \"def sharpen_image(img):\\n    kernel = np.array([[-1, -1, -1], [-1, 9, -1], [-1, -1, -1]])\\n    im = cv2.filter2D(img, -1, kernel)\\n    return im\";\n",
       "                var nbb_cells = Jupyter.notebook.get_cells();\n",
       "                for (var i = 0; i < nbb_cells.length; ++i) {\n",
       "                    if (nbb_cells[i].input_prompt_number == nbb_cell_id) {\n",
       "                        if (nbb_cells[i].get_text() == nbb_unformatted_code) {\n",
       "                             nbb_cells[i].set_text(nbb_formatted_code);\n",
       "                        }\n",
       "                        break;\n",
       "                    }\n",
       "                }\n",
       "            }, 500);\n",
       "            "
      ],
      "text/plain": [
       "<IPython.core.display.Javascript object>"
      ]
     },
     "metadata": {},
     "output_type": "display_data"
    },
    {
     "data": {
      "application/javascript": [
       "\n",
       "            setTimeout(function() {\n",
       "                var nbb_cell_id = 19;\n",
       "                var nbb_unformatted_code = \"def sharpen_image(img):\\n    kernel = np.array([[-1, -1, -1], [-1, 9, -1], [-1, -1, -1]])\\n    im = cv2.filter2D(img, -1, kernel)\\n    return im\";\n",
       "                var nbb_formatted_code = \"def sharpen_image(img):\\n    kernel = np.array([[-1, -1, -1], [-1, 9, -1], [-1, -1, -1]])\\n    im = cv2.filter2D(img, -1, kernel)\\n    return im\";\n",
       "                var nbb_cells = Jupyter.notebook.get_cells();\n",
       "                for (var i = 0; i < nbb_cells.length; ++i) {\n",
       "                    if (nbb_cells[i].input_prompt_number == nbb_cell_id) {\n",
       "                        if (nbb_cells[i].get_text() == nbb_unformatted_code) {\n",
       "                             nbb_cells[i].set_text(nbb_formatted_code);\n",
       "                        }\n",
       "                        break;\n",
       "                    }\n",
       "                }\n",
       "            }, 500);\n",
       "            "
      ],
      "text/plain": [
       "<IPython.core.display.Javascript object>"
      ]
     },
     "metadata": {},
     "output_type": "display_data"
    }
   ],
   "source": [
    "def sharpen_image(img):\n",
    "    kernel = np.array([[-1, -1, -1], [-1, 9, -1], [-1, -1, -1]])\n",
    "    im = cv2.filter2D(img, -1, kernel)\n",
    "    return im"
   ]
  },
  {
   "cell_type": "code",
   "execution_count": 20,
   "id": "6cc0e9c4",
   "metadata": {},
   "outputs": [
    {
     "data": {
      "text/plain": [
       "True"
      ]
     },
     "execution_count": 20,
     "metadata": {},
     "output_type": "execute_result"
    },
    {
     "data": {
      "application/javascript": [
       "\n",
       "            setTimeout(function() {\n",
       "                var nbb_cell_id = 20;\n",
       "                var nbb_unformatted_code = \"0.5 not in range(0, 1)\";\n",
       "                var nbb_formatted_code = \"0.5 not in range(0, 1)\";\n",
       "                var nbb_cells = Jupyter.notebook.get_cells();\n",
       "                for (var i = 0; i < nbb_cells.length; ++i) {\n",
       "                    if (nbb_cells[i].input_prompt_number == nbb_cell_id) {\n",
       "                        if (nbb_cells[i].get_text() == nbb_unformatted_code) {\n",
       "                             nbb_cells[i].set_text(nbb_formatted_code);\n",
       "                        }\n",
       "                        break;\n",
       "                    }\n",
       "                }\n",
       "            }, 500);\n",
       "            "
      ],
      "text/plain": [
       "<IPython.core.display.Javascript object>"
      ]
     },
     "metadata": {},
     "output_type": "display_data"
    },
    {
     "data": {
      "application/javascript": [
       "\n",
       "            setTimeout(function() {\n",
       "                var nbb_cell_id = 20;\n",
       "                var nbb_unformatted_code = \"0.5 not in range(0, 1)\";\n",
       "                var nbb_formatted_code = \"0.5 not in range(0, 1)\";\n",
       "                var nbb_cells = Jupyter.notebook.get_cells();\n",
       "                for (var i = 0; i < nbb_cells.length; ++i) {\n",
       "                    if (nbb_cells[i].input_prompt_number == nbb_cell_id) {\n",
       "                        if (nbb_cells[i].get_text() == nbb_unformatted_code) {\n",
       "                             nbb_cells[i].set_text(nbb_formatted_code);\n",
       "                        }\n",
       "                        break;\n",
       "                    }\n",
       "                }\n",
       "            }, 500);\n",
       "            "
      ],
      "text/plain": [
       "<IPython.core.display.Javascript object>"
      ]
     },
     "metadata": {},
     "output_type": "display_data"
    }
   ],
   "source": [
    "0.5 not in range(0, 1)"
   ]
  },
  {
   "cell_type": "code",
   "execution_count": 21,
   "id": "3bda504e",
   "metadata": {},
   "outputs": [
    {
     "data": {
      "application/javascript": [
       "\n",
       "            setTimeout(function() {\n",
       "                var nbb_cell_id = 21;\n",
       "                var nbb_unformatted_code = \"def detect_pup_mouse(image_np: np.ndarray, min_thresh=0.3):\\n    if min_thresh < 0 or min_thresh > 1:\\n        raise ValueError(\\\"min_thresh score should be between 0 and 1 inclusive\\\")\\n    input_tensor = tf.convert_to_tensor(np.expand_dims(image_np, 0), dtype=tf.float32)\\n    detections = detect_fn(input_tensor)\\n\\n    num_detections = int(detections.pop(\\\"num_detections\\\"))\\n    detections = {\\n        key: np.asarray(value[0, :num_detections]) for key, value in detections.items()\\n    }\\n    detections[\\\"num_detections\\\"] = num_detections\\n\\n    # detection_classes should be ints.\\n    detections[\\\"detection_classes\\\"] = detections[\\\"detection_classes\\\"].astype(np.int64)\\n\\n    label_id_offset = 1\\n    image_np_with_detections = image_np.copy()\\n\\n    viz_utils.visualize_boxes_and_labels_on_image_array(\\n        image_np_with_detections,\\n        detections[\\\"detection_boxes\\\"],\\n        detections[\\\"detection_classes\\\"] + label_id_offset,\\n        detections[\\\"detection_scores\\\"],\\n        category_index,\\n        use_normalized_coordinates=True,\\n        max_boxes_to_draw=2,\\n        min_score_thresh=min_thresh,\\n        agnostic_mode=False,\\n    )\\n    return detections, image_np_with_detections\";\n",
       "                var nbb_formatted_code = \"def detect_pup_mouse(image_np: np.ndarray, min_thresh=0.3):\\n    if min_thresh < 0 or min_thresh > 1:\\n        raise ValueError(\\\"min_thresh score should be between 0 and 1 inclusive\\\")\\n    input_tensor = tf.convert_to_tensor(np.expand_dims(image_np, 0), dtype=tf.float32)\\n    detections = detect_fn(input_tensor)\\n\\n    num_detections = int(detections.pop(\\\"num_detections\\\"))\\n    detections = {\\n        key: np.asarray(value[0, :num_detections]) for key, value in detections.items()\\n    }\\n    detections[\\\"num_detections\\\"] = num_detections\\n\\n    # detection_classes should be ints.\\n    detections[\\\"detection_classes\\\"] = detections[\\\"detection_classes\\\"].astype(np.int64)\\n\\n    label_id_offset = 1\\n    image_np_with_detections = image_np.copy()\\n\\n    viz_utils.visualize_boxes_and_labels_on_image_array(\\n        image_np_with_detections,\\n        detections[\\\"detection_boxes\\\"],\\n        detections[\\\"detection_classes\\\"] + label_id_offset,\\n        detections[\\\"detection_scores\\\"],\\n        category_index,\\n        use_normalized_coordinates=True,\\n        max_boxes_to_draw=2,\\n        min_score_thresh=min_thresh,\\n        agnostic_mode=False,\\n    )\\n    return detections, image_np_with_detections\";\n",
       "                var nbb_cells = Jupyter.notebook.get_cells();\n",
       "                for (var i = 0; i < nbb_cells.length; ++i) {\n",
       "                    if (nbb_cells[i].input_prompt_number == nbb_cell_id) {\n",
       "                        if (nbb_cells[i].get_text() == nbb_unformatted_code) {\n",
       "                             nbb_cells[i].set_text(nbb_formatted_code);\n",
       "                        }\n",
       "                        break;\n",
       "                    }\n",
       "                }\n",
       "            }, 500);\n",
       "            "
      ],
      "text/plain": [
       "<IPython.core.display.Javascript object>"
      ]
     },
     "metadata": {},
     "output_type": "display_data"
    },
    {
     "data": {
      "application/javascript": [
       "\n",
       "            setTimeout(function() {\n",
       "                var nbb_cell_id = 21;\n",
       "                var nbb_unformatted_code = \"def detect_pup_mouse(image_np: np.ndarray, min_thresh=0.3):\\n    if min_thresh < 0 or min_thresh > 1:\\n        raise ValueError(\\\"min_thresh score should be between 0 and 1 inclusive\\\")\\n    input_tensor = tf.convert_to_tensor(np.expand_dims(image_np, 0), dtype=tf.float32)\\n    detections = detect_fn(input_tensor)\\n\\n    num_detections = int(detections.pop(\\\"num_detections\\\"))\\n    detections = {\\n        key: np.asarray(value[0, :num_detections]) for key, value in detections.items()\\n    }\\n    detections[\\\"num_detections\\\"] = num_detections\\n\\n    # detection_classes should be ints.\\n    detections[\\\"detection_classes\\\"] = detections[\\\"detection_classes\\\"].astype(np.int64)\\n\\n    label_id_offset = 1\\n    image_np_with_detections = image_np.copy()\\n\\n    viz_utils.visualize_boxes_and_labels_on_image_array(\\n        image_np_with_detections,\\n        detections[\\\"detection_boxes\\\"],\\n        detections[\\\"detection_classes\\\"] + label_id_offset,\\n        detections[\\\"detection_scores\\\"],\\n        category_index,\\n        use_normalized_coordinates=True,\\n        max_boxes_to_draw=2,\\n        min_score_thresh=min_thresh,\\n        agnostic_mode=False,\\n    )\\n    return detections, image_np_with_detections\";\n",
       "                var nbb_formatted_code = \"def detect_pup_mouse(image_np: np.ndarray, min_thresh=0.3):\\n    if min_thresh < 0 or min_thresh > 1:\\n        raise ValueError(\\\"min_thresh score should be between 0 and 1 inclusive\\\")\\n    input_tensor = tf.convert_to_tensor(np.expand_dims(image_np, 0), dtype=tf.float32)\\n    detections = detect_fn(input_tensor)\\n\\n    num_detections = int(detections.pop(\\\"num_detections\\\"))\\n    detections = {\\n        key: np.asarray(value[0, :num_detections]) for key, value in detections.items()\\n    }\\n    detections[\\\"num_detections\\\"] = num_detections\\n\\n    # detection_classes should be ints.\\n    detections[\\\"detection_classes\\\"] = detections[\\\"detection_classes\\\"].astype(np.int64)\\n\\n    label_id_offset = 1\\n    image_np_with_detections = image_np.copy()\\n\\n    viz_utils.visualize_boxes_and_labels_on_image_array(\\n        image_np_with_detections,\\n        detections[\\\"detection_boxes\\\"],\\n        detections[\\\"detection_classes\\\"] + label_id_offset,\\n        detections[\\\"detection_scores\\\"],\\n        category_index,\\n        use_normalized_coordinates=True,\\n        max_boxes_to_draw=2,\\n        min_score_thresh=min_thresh,\\n        agnostic_mode=False,\\n    )\\n    return detections, image_np_with_detections\";\n",
       "                var nbb_cells = Jupyter.notebook.get_cells();\n",
       "                for (var i = 0; i < nbb_cells.length; ++i) {\n",
       "                    if (nbb_cells[i].input_prompt_number == nbb_cell_id) {\n",
       "                        if (nbb_cells[i].get_text() == nbb_unformatted_code) {\n",
       "                             nbb_cells[i].set_text(nbb_formatted_code);\n",
       "                        }\n",
       "                        break;\n",
       "                    }\n",
       "                }\n",
       "            }, 500);\n",
       "            "
      ],
      "text/plain": [
       "<IPython.core.display.Javascript object>"
      ]
     },
     "metadata": {},
     "output_type": "display_data"
    }
   ],
   "source": [
    "def detect_pup_mouse(image_np: np.ndarray, min_thresh=0.3):\n",
    "    if min_thresh < 0 or min_thresh > 1:\n",
    "        raise ValueError(\"min_thresh score should be between 0 and 1 inclusive\")\n",
    "    input_tensor = tf.convert_to_tensor(np.expand_dims(image_np, 0), dtype=tf.float32)\n",
    "    detections = detect_fn(input_tensor)\n",
    "\n",
    "    num_detections = int(detections.pop(\"num_detections\"))\n",
    "    detections = {\n",
    "        key: np.asarray(value[0, :num_detections]) for key, value in detections.items()\n",
    "    }\n",
    "    detections[\"num_detections\"] = num_detections\n",
    "\n",
    "    # detection_classes should be ints.\n",
    "    detections[\"detection_classes\"] = detections[\"detection_classes\"].astype(np.int64)\n",
    "\n",
    "    label_id_offset = 1\n",
    "    image_np_with_detections = image_np.copy()\n",
    "\n",
    "    viz_utils.visualize_boxes_and_labels_on_image_array(\n",
    "        image_np_with_detections,\n",
    "        detections[\"detection_boxes\"],\n",
    "        detections[\"detection_classes\"] + label_id_offset,\n",
    "        detections[\"detection_scores\"],\n",
    "        category_index,\n",
    "        use_normalized_coordinates=True,\n",
    "        max_boxes_to_draw=2,\n",
    "        min_score_thresh=min_thresh,\n",
    "        agnostic_mode=False,\n",
    "    )\n",
    "    return detections, image_np_with_detections"
   ]
  },
  {
   "cell_type": "code",
   "execution_count": 22,
   "id": "a0818805",
   "metadata": {},
   "outputs": [
    {
     "data": {
      "application/javascript": [
       "\n",
       "            setTimeout(function() {\n",
       "                var nbb_cell_id = 22;\n",
       "                var nbb_unformatted_code = \"watch_video = True\\ncap = cv2.VideoCapture(f'{paths[\\\"VIDEOS_PATH\\\"]}/PrL-9.mp4')\\nwidth = int(cap.get(cv2.CAP_PROP_FRAME_WIDTH))\\nheight = int(cap.get(cv2.CAP_PROP_FRAME_HEIGHT))\\n\\nwhile watch_video and cap.isOpened():\\n    ret, frame = cap.read()\\n    \\n    if not ret:\\n        break\\n    #     image_np = np.array(frame)\\n\\n    #     detections, image_np_with_detections = detect_pup_mouse(image_np)\\n\\n    #     cv2.imshow(\\\"object detection\\\", cv2.resize(image_np_with_detections, (800, 600)))\\n\\n    client_key_press = cv2.waitKey(1) & 0xFF\\n\\n    cv2.imshow(\\\"object detection\\\", cv2.resize(frame, (800, 600)))\\n    # end video stream by escape key\\n    if client_key_press == 27:\\n        break\\ncap.release()  # Important: release current active webcam or stream in order for other instance of webcam\\ncv2.destroyAllWindows()\\nif platform == \\\"darwin\\\":\\n    cv2.waitKey(1)\";\n",
       "                var nbb_formatted_code = \"watch_video = True\\ncap = cv2.VideoCapture(f'{paths[\\\"VIDEOS_PATH\\\"]}/PrL-9.mp4')\\nwidth = int(cap.get(cv2.CAP_PROP_FRAME_WIDTH))\\nheight = int(cap.get(cv2.CAP_PROP_FRAME_HEIGHT))\\n\\nwhile watch_video and cap.isOpened():\\n    ret, frame = cap.read()\\n\\n    if not ret:\\n        break\\n    #     image_np = np.array(frame)\\n\\n    #     detections, image_np_with_detections = detect_pup_mouse(image_np)\\n\\n    #     cv2.imshow(\\\"object detection\\\", cv2.resize(image_np_with_detections, (800, 600)))\\n\\n    client_key_press = cv2.waitKey(1) & 0xFF\\n\\n    cv2.imshow(\\\"object detection\\\", cv2.resize(frame, (800, 600)))\\n    # end video stream by escape key\\n    if client_key_press == 27:\\n        break\\ncap.release()  # Important: release current active webcam or stream in order for other instance of webcam\\ncv2.destroyAllWindows()\\nif platform == \\\"darwin\\\":\\n    cv2.waitKey(1)\";\n",
       "                var nbb_cells = Jupyter.notebook.get_cells();\n",
       "                for (var i = 0; i < nbb_cells.length; ++i) {\n",
       "                    if (nbb_cells[i].input_prompt_number == nbb_cell_id) {\n",
       "                        if (nbb_cells[i].get_text() == nbb_unformatted_code) {\n",
       "                             nbb_cells[i].set_text(nbb_formatted_code);\n",
       "                        }\n",
       "                        break;\n",
       "                    }\n",
       "                }\n",
       "            }, 500);\n",
       "            "
      ],
      "text/plain": [
       "<IPython.core.display.Javascript object>"
      ]
     },
     "metadata": {},
     "output_type": "display_data"
    },
    {
     "data": {
      "application/javascript": [
       "\n",
       "            setTimeout(function() {\n",
       "                var nbb_cell_id = 22;\n",
       "                var nbb_unformatted_code = \"watch_video = True\\ncap = cv2.VideoCapture(f'{paths[\\\"VIDEOS_PATH\\\"]}/PrL-9.mp4')\\nwidth = int(cap.get(cv2.CAP_PROP_FRAME_WIDTH))\\nheight = int(cap.get(cv2.CAP_PROP_FRAME_HEIGHT))\\n\\nwhile watch_video and cap.isOpened():\\n    ret, frame = cap.read()\\n    \\n    if not ret:\\n        break\\n    #     image_np = np.array(frame)\\n\\n    #     detections, image_np_with_detections = detect_pup_mouse(image_np)\\n\\n    #     cv2.imshow(\\\"object detection\\\", cv2.resize(image_np_with_detections, (800, 600)))\\n\\n    client_key_press = cv2.waitKey(1) & 0xFF\\n\\n    cv2.imshow(\\\"object detection\\\", cv2.resize(frame, (800, 600)))\\n    # end video stream by escape key\\n    if client_key_press == 27:\\n        break\\ncap.release()  # Important: release current active webcam or stream in order for other instance of webcam\\ncv2.destroyAllWindows()\\nif platform == \\\"darwin\\\":\\n    cv2.waitKey(1)\";\n",
       "                var nbb_formatted_code = \"watch_video = True\\ncap = cv2.VideoCapture(f'{paths[\\\"VIDEOS_PATH\\\"]}/PrL-9.mp4')\\nwidth = int(cap.get(cv2.CAP_PROP_FRAME_WIDTH))\\nheight = int(cap.get(cv2.CAP_PROP_FRAME_HEIGHT))\\n\\nwhile watch_video and cap.isOpened():\\n    ret, frame = cap.read()\\n\\n    if not ret:\\n        break\\n    #     image_np = np.array(frame)\\n\\n    #     detections, image_np_with_detections = detect_pup_mouse(image_np)\\n\\n    #     cv2.imshow(\\\"object detection\\\", cv2.resize(image_np_with_detections, (800, 600)))\\n\\n    client_key_press = cv2.waitKey(1) & 0xFF\\n\\n    cv2.imshow(\\\"object detection\\\", cv2.resize(frame, (800, 600)))\\n    # end video stream by escape key\\n    if client_key_press == 27:\\n        break\\ncap.release()  # Important: release current active webcam or stream in order for other instance of webcam\\ncv2.destroyAllWindows()\\nif platform == \\\"darwin\\\":\\n    cv2.waitKey(1)\";\n",
       "                var nbb_cells = Jupyter.notebook.get_cells();\n",
       "                for (var i = 0; i < nbb_cells.length; ++i) {\n",
       "                    if (nbb_cells[i].input_prompt_number == nbb_cell_id) {\n",
       "                        if (nbb_cells[i].get_text() == nbb_unformatted_code) {\n",
       "                             nbb_cells[i].set_text(nbb_formatted_code);\n",
       "                        }\n",
       "                        break;\n",
       "                    }\n",
       "                }\n",
       "            }, 500);\n",
       "            "
      ],
      "text/plain": [
       "<IPython.core.display.Javascript object>"
      ]
     },
     "metadata": {},
     "output_type": "display_data"
    }
   ],
   "source": [
    "watch_video = True\n",
    "cap = cv2.VideoCapture(f'{paths[\"VIDEOS_PATH\"]}/PrL-9.mp4')\n",
    "width = int(cap.get(cv2.CAP_PROP_FRAME_WIDTH))\n",
    "height = int(cap.get(cv2.CAP_PROP_FRAME_HEIGHT))\n",
    "\n",
    "while watch_video and cap.isOpened():\n",
    "    ret, frame = cap.read()\n",
    "\n",
    "    if not ret:\n",
    "        break\n",
    "    #     image_np = np.array(frame)\n",
    "\n",
    "    #     detections, image_np_with_detections = detect_pup_mouse(image_np)\n",
    "\n",
    "    #     cv2.imshow(\"object detection\", cv2.resize(image_np_with_detections, (800, 600)))\n",
    "\n",
    "    client_key_press = cv2.waitKey(1) & 0xFF\n",
    "\n",
    "    cv2.imshow(\"object detection\", cv2.resize(frame, (800, 600)))\n",
    "    # end video stream by escape key\n",
    "    if client_key_press == 27:\n",
    "        break\n",
    "cap.release()  # Important: release current active webcam or stream in order for other instance of webcam\n",
    "cv2.destroyAllWindows()\n",
    "if platform == \"darwin\":\n",
    "    cv2.waitKey(1)"
   ]
  }
 ],
 "metadata": {
  "kernelspec": {
   "display_name": "Python3 dr",
   "language": "python",
   "name": "dr"
  },
  "language_info": {
   "codemirror_mode": {
    "name": "ipython",
    "version": 3
   },
   "file_extension": ".py",
   "mimetype": "text/x-python",
   "name": "python",
   "nbconvert_exporter": "python",
   "pygments_lexer": "ipython3",
   "version": "3.8.10"
  }
 },
 "nbformat": 4,
 "nbformat_minor": 5
}
