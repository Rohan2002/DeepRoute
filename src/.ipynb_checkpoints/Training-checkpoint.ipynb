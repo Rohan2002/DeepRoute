{
 "cells": [
  {
   "cell_type": "code",
   "execution_count": 213,
   "id": "93992dab",
   "metadata": {},
   "outputs": [
    {
     "name": "stdout",
     "output_type": "stream",
     "text": [
      "The autoreload extension is already loaded. To reload it, use:\n",
      "  %reload_ext autoreload\n"
     ]
    },
    {
     "data": {
      "application/javascript": [
       "\n",
       "            setTimeout(function() {\n",
       "                var nbb_cell_id = 213;\n",
       "                var nbb_unformatted_code = \"import os\\nimport warnings\\nimport platform\\nimport tensorflow as tf\\nfrom object_detection.utils import config_util\\nfrom object_detection.protos import pipeline_pb2\\nfrom google.protobuf import text_format\\n\\nwarnings.filterwarnings(\\\"ignore\\\")\\n%load_ext autoreload\\n%autoreload 2\\n\\n%reload_ext nb_black\\n%config IPCompleter.greedy=True\";\n",
       "                var nbb_formatted_code = \"import os\\nimport warnings\\nimport platform\\nimport tensorflow as tf\\nfrom object_detection.utils import config_util\\nfrom object_detection.protos import pipeline_pb2\\nfrom google.protobuf import text_format\\n\\nwarnings.filterwarnings(\\\"ignore\\\")\\n%load_ext autoreload\\n%autoreload 2\\n\\n%reload_ext nb_black\\n%config IPCompleter.greedy=True\";\n",
       "                var nbb_cells = Jupyter.notebook.get_cells();\n",
       "                for (var i = 0; i < nbb_cells.length; ++i) {\n",
       "                    if (nbb_cells[i].input_prompt_number == nbb_cell_id) {\n",
       "                        if (nbb_cells[i].get_text() == nbb_unformatted_code) {\n",
       "                             nbb_cells[i].set_text(nbb_formatted_code);\n",
       "                        }\n",
       "                        break;\n",
       "                    }\n",
       "                }\n",
       "            }, 500);\n",
       "            "
      ],
      "text/plain": [
       "<IPython.core.display.Javascript object>"
      ]
     },
     "metadata": {},
     "output_type": "display_data"
    },
    {
     "data": {
      "application/javascript": [
       "\n",
       "            setTimeout(function() {\n",
       "                var nbb_cell_id = 213;\n",
       "                var nbb_unformatted_code = \"import os\\nimport warnings\\nimport platform\\nimport tensorflow as tf\\nfrom object_detection.utils import config_util\\nfrom object_detection.protos import pipeline_pb2\\nfrom google.protobuf import text_format\\n\\nwarnings.filterwarnings(\\\"ignore\\\")\\n%load_ext autoreload\\n%autoreload 2\\n\\n%reload_ext nb_black\\n%config IPCompleter.greedy=True\";\n",
       "                var nbb_formatted_code = \"import os\\nimport warnings\\nimport platform\\nimport tensorflow as tf\\nfrom object_detection.utils import config_util\\nfrom object_detection.protos import pipeline_pb2\\nfrom google.protobuf import text_format\\n\\nwarnings.filterwarnings(\\\"ignore\\\")\\n%load_ext autoreload\\n%autoreload 2\\n\\n%reload_ext nb_black\\n%config IPCompleter.greedy=True\";\n",
       "                var nbb_cells = Jupyter.notebook.get_cells();\n",
       "                for (var i = 0; i < nbb_cells.length; ++i) {\n",
       "                    if (nbb_cells[i].input_prompt_number == nbb_cell_id) {\n",
       "                        if (nbb_cells[i].get_text() == nbb_unformatted_code) {\n",
       "                             nbb_cells[i].set_text(nbb_formatted_code);\n",
       "                        }\n",
       "                        break;\n",
       "                    }\n",
       "                }\n",
       "            }, 500);\n",
       "            "
      ],
      "text/plain": [
       "<IPython.core.display.Javascript object>"
      ]
     },
     "metadata": {},
     "output_type": "display_data"
    },
    {
     "data": {
      "application/javascript": [
       "\n",
       "            setTimeout(function() {\n",
       "                var nbb_cell_id = 213;\n",
       "                var nbb_unformatted_code = \"import os\\nimport warnings\\nimport platform\\nimport tensorflow as tf\\nfrom object_detection.utils import config_util\\nfrom object_detection.protos import pipeline_pb2\\nfrom google.protobuf import text_format\\n\\nwarnings.filterwarnings(\\\"ignore\\\")\\n%load_ext autoreload\\n%autoreload 2\\n\\n%reload_ext nb_black\\n%config IPCompleter.greedy=True\";\n",
       "                var nbb_formatted_code = \"import os\\nimport warnings\\nimport platform\\nimport tensorflow as tf\\nfrom object_detection.utils import config_util\\nfrom object_detection.protos import pipeline_pb2\\nfrom google.protobuf import text_format\\n\\nwarnings.filterwarnings(\\\"ignore\\\")\\n%load_ext autoreload\\n%autoreload 2\\n\\n%reload_ext nb_black\\n%config IPCompleter.greedy=True\";\n",
       "                var nbb_cells = Jupyter.notebook.get_cells();\n",
       "                for (var i = 0; i < nbb_cells.length; ++i) {\n",
       "                    if (nbb_cells[i].input_prompt_number == nbb_cell_id) {\n",
       "                        if (nbb_cells[i].get_text() == nbb_unformatted_code) {\n",
       "                             nbb_cells[i].set_text(nbb_formatted_code);\n",
       "                        }\n",
       "                        break;\n",
       "                    }\n",
       "                }\n",
       "            }, 500);\n",
       "            "
      ],
      "text/plain": [
       "<IPython.core.display.Javascript object>"
      ]
     },
     "metadata": {},
     "output_type": "display_data"
    },
    {
     "data": {
      "application/javascript": [
       "\n",
       "            setTimeout(function() {\n",
       "                var nbb_cell_id = 213;\n",
       "                var nbb_unformatted_code = \"import os\\nimport warnings\\nimport platform\\nimport tensorflow as tf\\nfrom object_detection.utils import config_util\\nfrom object_detection.protos import pipeline_pb2\\nfrom google.protobuf import text_format\\n\\nwarnings.filterwarnings(\\\"ignore\\\")\\n%load_ext autoreload\\n%autoreload 2\\n\\n%reload_ext nb_black\\n%config IPCompleter.greedy=True\";\n",
       "                var nbb_formatted_code = \"import os\\nimport warnings\\nimport platform\\nimport tensorflow as tf\\nfrom object_detection.utils import config_util\\nfrom object_detection.protos import pipeline_pb2\\nfrom google.protobuf import text_format\\n\\nwarnings.filterwarnings(\\\"ignore\\\")\\n%load_ext autoreload\\n%autoreload 2\\n\\n%reload_ext nb_black\\n%config IPCompleter.greedy=True\";\n",
       "                var nbb_cells = Jupyter.notebook.get_cells();\n",
       "                for (var i = 0; i < nbb_cells.length; ++i) {\n",
       "                    if (nbb_cells[i].input_prompt_number == nbb_cell_id) {\n",
       "                        if (nbb_cells[i].get_text() == nbb_unformatted_code) {\n",
       "                             nbb_cells[i].set_text(nbb_formatted_code);\n",
       "                        }\n",
       "                        break;\n",
       "                    }\n",
       "                }\n",
       "            }, 500);\n",
       "            "
      ],
      "text/plain": [
       "<IPython.core.display.Javascript object>"
      ]
     },
     "metadata": {},
     "output_type": "display_data"
    },
    {
     "data": {
      "application/javascript": [
       "\n",
       "            setTimeout(function() {\n",
       "                var nbb_cell_id = 213;\n",
       "                var nbb_unformatted_code = \"import os\\nimport warnings\\nimport platform\\nimport tensorflow as tf\\nfrom object_detection.utils import config_util\\nfrom object_detection.protos import pipeline_pb2\\nfrom google.protobuf import text_format\\n\\nwarnings.filterwarnings(\\\"ignore\\\")\\n%load_ext autoreload\\n%autoreload 2\\n\\n%reload_ext nb_black\\n%config IPCompleter.greedy=True\";\n",
       "                var nbb_formatted_code = \"import os\\nimport warnings\\nimport platform\\nimport tensorflow as tf\\nfrom object_detection.utils import config_util\\nfrom object_detection.protos import pipeline_pb2\\nfrom google.protobuf import text_format\\n\\nwarnings.filterwarnings(\\\"ignore\\\")\\n%load_ext autoreload\\n%autoreload 2\\n\\n%reload_ext nb_black\\n%config IPCompleter.greedy=True\";\n",
       "                var nbb_cells = Jupyter.notebook.get_cells();\n",
       "                for (var i = 0; i < nbb_cells.length; ++i) {\n",
       "                    if (nbb_cells[i].input_prompt_number == nbb_cell_id) {\n",
       "                        if (nbb_cells[i].get_text() == nbb_unformatted_code) {\n",
       "                             nbb_cells[i].set_text(nbb_formatted_code);\n",
       "                        }\n",
       "                        break;\n",
       "                    }\n",
       "                }\n",
       "            }, 500);\n",
       "            "
      ],
      "text/plain": [
       "<IPython.core.display.Javascript object>"
      ]
     },
     "metadata": {},
     "output_type": "display_data"
    },
    {
     "data": {
      "application/javascript": [
       "\n",
       "            setTimeout(function() {\n",
       "                var nbb_cell_id = 213;\n",
       "                var nbb_unformatted_code = \"import os\\nimport warnings\\nimport platform\\nimport tensorflow as tf\\nfrom object_detection.utils import config_util\\nfrom object_detection.protos import pipeline_pb2\\nfrom google.protobuf import text_format\\n\\nwarnings.filterwarnings(\\\"ignore\\\")\\n%load_ext autoreload\\n%autoreload 2\\n\\n%reload_ext nb_black\\n%config IPCompleter.greedy=True\";\n",
       "                var nbb_formatted_code = \"import os\\nimport warnings\\nimport platform\\nimport tensorflow as tf\\nfrom object_detection.utils import config_util\\nfrom object_detection.protos import pipeline_pb2\\nfrom google.protobuf import text_format\\n\\nwarnings.filterwarnings(\\\"ignore\\\")\\n%load_ext autoreload\\n%autoreload 2\\n\\n%reload_ext nb_black\\n%config IPCompleter.greedy=True\";\n",
       "                var nbb_cells = Jupyter.notebook.get_cells();\n",
       "                for (var i = 0; i < nbb_cells.length; ++i) {\n",
       "                    if (nbb_cells[i].input_prompt_number == nbb_cell_id) {\n",
       "                        if (nbb_cells[i].get_text() == nbb_unformatted_code) {\n",
       "                             nbb_cells[i].set_text(nbb_formatted_code);\n",
       "                        }\n",
       "                        break;\n",
       "                    }\n",
       "                }\n",
       "            }, 500);\n",
       "            "
      ],
      "text/plain": [
       "<IPython.core.display.Javascript object>"
      ]
     },
     "metadata": {},
     "output_type": "display_data"
    },
    {
     "data": {
      "application/javascript": [
       "\n",
       "            setTimeout(function() {\n",
       "                var nbb_cell_id = 213;\n",
       "                var nbb_unformatted_code = \"import os\\nimport warnings\\nimport platform\\nimport tensorflow as tf\\nfrom object_detection.utils import config_util\\nfrom object_detection.protos import pipeline_pb2\\nfrom google.protobuf import text_format\\n\\nwarnings.filterwarnings(\\\"ignore\\\")\\n%load_ext autoreload\\n%autoreload 2\\n\\n%reload_ext nb_black\\n%config IPCompleter.greedy=True\";\n",
       "                var nbb_formatted_code = \"import os\\nimport warnings\\nimport platform\\nimport tensorflow as tf\\nfrom object_detection.utils import config_util\\nfrom object_detection.protos import pipeline_pb2\\nfrom google.protobuf import text_format\\n\\nwarnings.filterwarnings(\\\"ignore\\\")\\n%load_ext autoreload\\n%autoreload 2\\n\\n%reload_ext nb_black\\n%config IPCompleter.greedy=True\";\n",
       "                var nbb_cells = Jupyter.notebook.get_cells();\n",
       "                for (var i = 0; i < nbb_cells.length; ++i) {\n",
       "                    if (nbb_cells[i].input_prompt_number == nbb_cell_id) {\n",
       "                        if (nbb_cells[i].get_text() == nbb_unformatted_code) {\n",
       "                             nbb_cells[i].set_text(nbb_formatted_code);\n",
       "                        }\n",
       "                        break;\n",
       "                    }\n",
       "                }\n",
       "            }, 500);\n",
       "            "
      ],
      "text/plain": [
       "<IPython.core.display.Javascript object>"
      ]
     },
     "metadata": {},
     "output_type": "display_data"
    },
    {
     "data": {
      "application/javascript": [
       "\n",
       "            setTimeout(function() {\n",
       "                var nbb_cell_id = 213;\n",
       "                var nbb_unformatted_code = \"import os\\nimport warnings\\nimport platform\\nimport tensorflow as tf\\nfrom object_detection.utils import config_util\\nfrom object_detection.protos import pipeline_pb2\\nfrom google.protobuf import text_format\\n\\nwarnings.filterwarnings(\\\"ignore\\\")\\n%load_ext autoreload\\n%autoreload 2\\n\\n%reload_ext nb_black\\n%config IPCompleter.greedy=True\";\n",
       "                var nbb_formatted_code = \"import os\\nimport warnings\\nimport platform\\nimport tensorflow as tf\\nfrom object_detection.utils import config_util\\nfrom object_detection.protos import pipeline_pb2\\nfrom google.protobuf import text_format\\n\\nwarnings.filterwarnings(\\\"ignore\\\")\\n%load_ext autoreload\\n%autoreload 2\\n\\n%reload_ext nb_black\\n%config IPCompleter.greedy=True\";\n",
       "                var nbb_cells = Jupyter.notebook.get_cells();\n",
       "                for (var i = 0; i < nbb_cells.length; ++i) {\n",
       "                    if (nbb_cells[i].input_prompt_number == nbb_cell_id) {\n",
       "                        if (nbb_cells[i].get_text() == nbb_unformatted_code) {\n",
       "                             nbb_cells[i].set_text(nbb_formatted_code);\n",
       "                        }\n",
       "                        break;\n",
       "                    }\n",
       "                }\n",
       "            }, 500);\n",
       "            "
      ],
      "text/plain": [
       "<IPython.core.display.Javascript object>"
      ]
     },
     "metadata": {},
     "output_type": "display_data"
    },
    {
     "data": {
      "application/javascript": [
       "\n",
       "            setTimeout(function() {\n",
       "                var nbb_cell_id = 213;\n",
       "                var nbb_unformatted_code = \"import os\\nimport warnings\\nimport platform\\nimport tensorflow as tf\\nfrom object_detection.utils import config_util\\nfrom object_detection.protos import pipeline_pb2\\nfrom google.protobuf import text_format\\n\\nwarnings.filterwarnings(\\\"ignore\\\")\\n%load_ext autoreload\\n%autoreload 2\\n\\n%reload_ext nb_black\\n%config IPCompleter.greedy=True\";\n",
       "                var nbb_formatted_code = \"import os\\nimport warnings\\nimport platform\\nimport tensorflow as tf\\nfrom object_detection.utils import config_util\\nfrom object_detection.protos import pipeline_pb2\\nfrom google.protobuf import text_format\\n\\nwarnings.filterwarnings(\\\"ignore\\\")\\n%load_ext autoreload\\n%autoreload 2\\n\\n%reload_ext nb_black\\n%config IPCompleter.greedy=True\";\n",
       "                var nbb_cells = Jupyter.notebook.get_cells();\n",
       "                for (var i = 0; i < nbb_cells.length; ++i) {\n",
       "                    if (nbb_cells[i].input_prompt_number == nbb_cell_id) {\n",
       "                        if (nbb_cells[i].get_text() == nbb_unformatted_code) {\n",
       "                             nbb_cells[i].set_text(nbb_formatted_code);\n",
       "                        }\n",
       "                        break;\n",
       "                    }\n",
       "                }\n",
       "            }, 500);\n",
       "            "
      ],
      "text/plain": [
       "<IPython.core.display.Javascript object>"
      ]
     },
     "metadata": {},
     "output_type": "display_data"
    },
    {
     "data": {
      "application/javascript": [
       "\n",
       "            setTimeout(function() {\n",
       "                var nbb_cell_id = 213;\n",
       "                var nbb_unformatted_code = \"import os\\nimport warnings\\nimport platform\\nimport tensorflow as tf\\nfrom object_detection.utils import config_util\\nfrom object_detection.protos import pipeline_pb2\\nfrom google.protobuf import text_format\\n\\nwarnings.filterwarnings(\\\"ignore\\\")\\n%load_ext autoreload\\n%autoreload 2\\n\\n%reload_ext nb_black\\n%config IPCompleter.greedy=True\";\n",
       "                var nbb_formatted_code = \"import os\\nimport warnings\\nimport platform\\nimport tensorflow as tf\\nfrom object_detection.utils import config_util\\nfrom object_detection.protos import pipeline_pb2\\nfrom google.protobuf import text_format\\n\\nwarnings.filterwarnings(\\\"ignore\\\")\\n%load_ext autoreload\\n%autoreload 2\\n\\n%reload_ext nb_black\\n%config IPCompleter.greedy=True\";\n",
       "                var nbb_cells = Jupyter.notebook.get_cells();\n",
       "                for (var i = 0; i < nbb_cells.length; ++i) {\n",
       "                    if (nbb_cells[i].input_prompt_number == nbb_cell_id) {\n",
       "                        if (nbb_cells[i].get_text() == nbb_unformatted_code) {\n",
       "                             nbb_cells[i].set_text(nbb_formatted_code);\n",
       "                        }\n",
       "                        break;\n",
       "                    }\n",
       "                }\n",
       "            }, 500);\n",
       "            "
      ],
      "text/plain": [
       "<IPython.core.display.Javascript object>"
      ]
     },
     "metadata": {},
     "output_type": "display_data"
    }
   ],
   "source": [
    "import os\n",
    "import warnings\n",
    "import platform\n",
    "import tensorflow as tf\n",
    "from object_detection.utils import config_util\n",
    "from object_detection.protos import pipeline_pb2\n",
    "from google.protobuf import text_format\n",
    "\n",
    "warnings.filterwarnings(\"ignore\")\n",
    "%load_ext autoreload\n",
    "%autoreload 2\n",
    "\n",
    "%reload_ext nb_black\n",
    "%config IPCompleter.greedy=True"
   ]
  },
  {
   "cell_type": "code",
   "execution_count": 214,
   "id": "fe0a7e6f",
   "metadata": {},
   "outputs": [
    {
     "data": {
      "application/javascript": [
       "\n",
       "            setTimeout(function() {\n",
       "                var nbb_cell_id = 214;\n",
       "                var nbb_unformatted_code = \"CUSTOM_MODEL_NAME = \\\"my_efficient_net\\\"\\nPRETRAINED_MODEL_NAME = \\\"efficientdet_d4_coco17_tpu-32\\\"\\nPRETRAINED_MODEL = \\\"http://download.tensorflow.org/models/object_detection/tf2/20200711/efficientdet_d4_coco17_tpu-32.tar.gz\\\"\\nTF_RECORD_SCRIPT_NAME = \\\"generate_tfrecord.py\\\"\\nLABEL_MAP_NAME = \\\"label_map.pbtxt\\\"\\ncurrent_os = platform.system()\";\n",
       "                var nbb_formatted_code = \"CUSTOM_MODEL_NAME = \\\"my_efficient_net\\\"\\nPRETRAINED_MODEL_NAME = \\\"efficientdet_d4_coco17_tpu-32\\\"\\nPRETRAINED_MODEL = \\\"http://download.tensorflow.org/models/object_detection/tf2/20200711/efficientdet_d4_coco17_tpu-32.tar.gz\\\"\\nTF_RECORD_SCRIPT_NAME = \\\"generate_tfrecord.py\\\"\\nLABEL_MAP_NAME = \\\"label_map.pbtxt\\\"\\ncurrent_os = platform.system()\";\n",
       "                var nbb_cells = Jupyter.notebook.get_cells();\n",
       "                for (var i = 0; i < nbb_cells.length; ++i) {\n",
       "                    if (nbb_cells[i].input_prompt_number == nbb_cell_id) {\n",
       "                        if (nbb_cells[i].get_text() == nbb_unformatted_code) {\n",
       "                             nbb_cells[i].set_text(nbb_formatted_code);\n",
       "                        }\n",
       "                        break;\n",
       "                    }\n",
       "                }\n",
       "            }, 500);\n",
       "            "
      ],
      "text/plain": [
       "<IPython.core.display.Javascript object>"
      ]
     },
     "metadata": {},
     "output_type": "display_data"
    },
    {
     "data": {
      "application/javascript": [
       "\n",
       "            setTimeout(function() {\n",
       "                var nbb_cell_id = 214;\n",
       "                var nbb_unformatted_code = \"CUSTOM_MODEL_NAME = \\\"my_efficient_net\\\"\\nPRETRAINED_MODEL_NAME = \\\"efficientdet_d4_coco17_tpu-32\\\"\\nPRETRAINED_MODEL = \\\"http://download.tensorflow.org/models/object_detection/tf2/20200711/efficientdet_d4_coco17_tpu-32.tar.gz\\\"\\nTF_RECORD_SCRIPT_NAME = \\\"generate_tfrecord.py\\\"\\nLABEL_MAP_NAME = \\\"label_map.pbtxt\\\"\\ncurrent_os = platform.system()\";\n",
       "                var nbb_formatted_code = \"CUSTOM_MODEL_NAME = \\\"my_efficient_net\\\"\\nPRETRAINED_MODEL_NAME = \\\"efficientdet_d4_coco17_tpu-32\\\"\\nPRETRAINED_MODEL = \\\"http://download.tensorflow.org/models/object_detection/tf2/20200711/efficientdet_d4_coco17_tpu-32.tar.gz\\\"\\nTF_RECORD_SCRIPT_NAME = \\\"generate_tfrecord.py\\\"\\nLABEL_MAP_NAME = \\\"label_map.pbtxt\\\"\\ncurrent_os = platform.system()\";\n",
       "                var nbb_cells = Jupyter.notebook.get_cells();\n",
       "                for (var i = 0; i < nbb_cells.length; ++i) {\n",
       "                    if (nbb_cells[i].input_prompt_number == nbb_cell_id) {\n",
       "                        if (nbb_cells[i].get_text() == nbb_unformatted_code) {\n",
       "                             nbb_cells[i].set_text(nbb_formatted_code);\n",
       "                        }\n",
       "                        break;\n",
       "                    }\n",
       "                }\n",
       "            }, 500);\n",
       "            "
      ],
      "text/plain": [
       "<IPython.core.display.Javascript object>"
      ]
     },
     "metadata": {},
     "output_type": "display_data"
    },
    {
     "data": {
      "application/javascript": [
       "\n",
       "            setTimeout(function() {\n",
       "                var nbb_cell_id = 214;\n",
       "                var nbb_unformatted_code = \"CUSTOM_MODEL_NAME = \\\"my_efficient_net\\\"\\nPRETRAINED_MODEL_NAME = \\\"efficientdet_d4_coco17_tpu-32\\\"\\nPRETRAINED_MODEL = \\\"http://download.tensorflow.org/models/object_detection/tf2/20200711/efficientdet_d4_coco17_tpu-32.tar.gz\\\"\\nTF_RECORD_SCRIPT_NAME = \\\"generate_tfrecord.py\\\"\\nLABEL_MAP_NAME = \\\"label_map.pbtxt\\\"\\ncurrent_os = platform.system()\";\n",
       "                var nbb_formatted_code = \"CUSTOM_MODEL_NAME = \\\"my_efficient_net\\\"\\nPRETRAINED_MODEL_NAME = \\\"efficientdet_d4_coco17_tpu-32\\\"\\nPRETRAINED_MODEL = \\\"http://download.tensorflow.org/models/object_detection/tf2/20200711/efficientdet_d4_coco17_tpu-32.tar.gz\\\"\\nTF_RECORD_SCRIPT_NAME = \\\"generate_tfrecord.py\\\"\\nLABEL_MAP_NAME = \\\"label_map.pbtxt\\\"\\ncurrent_os = platform.system()\";\n",
       "                var nbb_cells = Jupyter.notebook.get_cells();\n",
       "                for (var i = 0; i < nbb_cells.length; ++i) {\n",
       "                    if (nbb_cells[i].input_prompt_number == nbb_cell_id) {\n",
       "                        if (nbb_cells[i].get_text() == nbb_unformatted_code) {\n",
       "                             nbb_cells[i].set_text(nbb_formatted_code);\n",
       "                        }\n",
       "                        break;\n",
       "                    }\n",
       "                }\n",
       "            }, 500);\n",
       "            "
      ],
      "text/plain": [
       "<IPython.core.display.Javascript object>"
      ]
     },
     "metadata": {},
     "output_type": "display_data"
    },
    {
     "data": {
      "application/javascript": [
       "\n",
       "            setTimeout(function() {\n",
       "                var nbb_cell_id = 214;\n",
       "                var nbb_unformatted_code = \"CUSTOM_MODEL_NAME = \\\"my_efficient_net\\\"\\nPRETRAINED_MODEL_NAME = \\\"efficientdet_d4_coco17_tpu-32\\\"\\nPRETRAINED_MODEL = \\\"http://download.tensorflow.org/models/object_detection/tf2/20200711/efficientdet_d4_coco17_tpu-32.tar.gz\\\"\\nTF_RECORD_SCRIPT_NAME = \\\"generate_tfrecord.py\\\"\\nLABEL_MAP_NAME = \\\"label_map.pbtxt\\\"\\ncurrent_os = platform.system()\";\n",
       "                var nbb_formatted_code = \"CUSTOM_MODEL_NAME = \\\"my_efficient_net\\\"\\nPRETRAINED_MODEL_NAME = \\\"efficientdet_d4_coco17_tpu-32\\\"\\nPRETRAINED_MODEL = \\\"http://download.tensorflow.org/models/object_detection/tf2/20200711/efficientdet_d4_coco17_tpu-32.tar.gz\\\"\\nTF_RECORD_SCRIPT_NAME = \\\"generate_tfrecord.py\\\"\\nLABEL_MAP_NAME = \\\"label_map.pbtxt\\\"\\ncurrent_os = platform.system()\";\n",
       "                var nbb_cells = Jupyter.notebook.get_cells();\n",
       "                for (var i = 0; i < nbb_cells.length; ++i) {\n",
       "                    if (nbb_cells[i].input_prompt_number == nbb_cell_id) {\n",
       "                        if (nbb_cells[i].get_text() == nbb_unformatted_code) {\n",
       "                             nbb_cells[i].set_text(nbb_formatted_code);\n",
       "                        }\n",
       "                        break;\n",
       "                    }\n",
       "                }\n",
       "            }, 500);\n",
       "            "
      ],
      "text/plain": [
       "<IPython.core.display.Javascript object>"
      ]
     },
     "metadata": {},
     "output_type": "display_data"
    },
    {
     "data": {
      "application/javascript": [
       "\n",
       "            setTimeout(function() {\n",
       "                var nbb_cell_id = 214;\n",
       "                var nbb_unformatted_code = \"CUSTOM_MODEL_NAME = \\\"my_efficient_net\\\"\\nPRETRAINED_MODEL_NAME = \\\"efficientdet_d4_coco17_tpu-32\\\"\\nPRETRAINED_MODEL = \\\"http://download.tensorflow.org/models/object_detection/tf2/20200711/efficientdet_d4_coco17_tpu-32.tar.gz\\\"\\nTF_RECORD_SCRIPT_NAME = \\\"generate_tfrecord.py\\\"\\nLABEL_MAP_NAME = \\\"label_map.pbtxt\\\"\\ncurrent_os = platform.system()\";\n",
       "                var nbb_formatted_code = \"CUSTOM_MODEL_NAME = \\\"my_efficient_net\\\"\\nPRETRAINED_MODEL_NAME = \\\"efficientdet_d4_coco17_tpu-32\\\"\\nPRETRAINED_MODEL = \\\"http://download.tensorflow.org/models/object_detection/tf2/20200711/efficientdet_d4_coco17_tpu-32.tar.gz\\\"\\nTF_RECORD_SCRIPT_NAME = \\\"generate_tfrecord.py\\\"\\nLABEL_MAP_NAME = \\\"label_map.pbtxt\\\"\\ncurrent_os = platform.system()\";\n",
       "                var nbb_cells = Jupyter.notebook.get_cells();\n",
       "                for (var i = 0; i < nbb_cells.length; ++i) {\n",
       "                    if (nbb_cells[i].input_prompt_number == nbb_cell_id) {\n",
       "                        if (nbb_cells[i].get_text() == nbb_unformatted_code) {\n",
       "                             nbb_cells[i].set_text(nbb_formatted_code);\n",
       "                        }\n",
       "                        break;\n",
       "                    }\n",
       "                }\n",
       "            }, 500);\n",
       "            "
      ],
      "text/plain": [
       "<IPython.core.display.Javascript object>"
      ]
     },
     "metadata": {},
     "output_type": "display_data"
    },
    {
     "data": {
      "application/javascript": [
       "\n",
       "            setTimeout(function() {\n",
       "                var nbb_cell_id = 214;\n",
       "                var nbb_unformatted_code = \"CUSTOM_MODEL_NAME = \\\"my_efficient_net\\\"\\nPRETRAINED_MODEL_NAME = \\\"efficientdet_d4_coco17_tpu-32\\\"\\nPRETRAINED_MODEL = \\\"http://download.tensorflow.org/models/object_detection/tf2/20200711/efficientdet_d4_coco17_tpu-32.tar.gz\\\"\\nTF_RECORD_SCRIPT_NAME = \\\"generate_tfrecord.py\\\"\\nLABEL_MAP_NAME = \\\"label_map.pbtxt\\\"\\ncurrent_os = platform.system()\";\n",
       "                var nbb_formatted_code = \"CUSTOM_MODEL_NAME = \\\"my_efficient_net\\\"\\nPRETRAINED_MODEL_NAME = \\\"efficientdet_d4_coco17_tpu-32\\\"\\nPRETRAINED_MODEL = \\\"http://download.tensorflow.org/models/object_detection/tf2/20200711/efficientdet_d4_coco17_tpu-32.tar.gz\\\"\\nTF_RECORD_SCRIPT_NAME = \\\"generate_tfrecord.py\\\"\\nLABEL_MAP_NAME = \\\"label_map.pbtxt\\\"\\ncurrent_os = platform.system()\";\n",
       "                var nbb_cells = Jupyter.notebook.get_cells();\n",
       "                for (var i = 0; i < nbb_cells.length; ++i) {\n",
       "                    if (nbb_cells[i].input_prompt_number == nbb_cell_id) {\n",
       "                        if (nbb_cells[i].get_text() == nbb_unformatted_code) {\n",
       "                             nbb_cells[i].set_text(nbb_formatted_code);\n",
       "                        }\n",
       "                        break;\n",
       "                    }\n",
       "                }\n",
       "            }, 500);\n",
       "            "
      ],
      "text/plain": [
       "<IPython.core.display.Javascript object>"
      ]
     },
     "metadata": {},
     "output_type": "display_data"
    },
    {
     "data": {
      "application/javascript": [
       "\n",
       "            setTimeout(function() {\n",
       "                var nbb_cell_id = 214;\n",
       "                var nbb_unformatted_code = \"CUSTOM_MODEL_NAME = \\\"my_efficient_net\\\"\\nPRETRAINED_MODEL_NAME = \\\"efficientdet_d4_coco17_tpu-32\\\"\\nPRETRAINED_MODEL = \\\"http://download.tensorflow.org/models/object_detection/tf2/20200711/efficientdet_d4_coco17_tpu-32.tar.gz\\\"\\nTF_RECORD_SCRIPT_NAME = \\\"generate_tfrecord.py\\\"\\nLABEL_MAP_NAME = \\\"label_map.pbtxt\\\"\\ncurrent_os = platform.system()\";\n",
       "                var nbb_formatted_code = \"CUSTOM_MODEL_NAME = \\\"my_efficient_net\\\"\\nPRETRAINED_MODEL_NAME = \\\"efficientdet_d4_coco17_tpu-32\\\"\\nPRETRAINED_MODEL = \\\"http://download.tensorflow.org/models/object_detection/tf2/20200711/efficientdet_d4_coco17_tpu-32.tar.gz\\\"\\nTF_RECORD_SCRIPT_NAME = \\\"generate_tfrecord.py\\\"\\nLABEL_MAP_NAME = \\\"label_map.pbtxt\\\"\\ncurrent_os = platform.system()\";\n",
       "                var nbb_cells = Jupyter.notebook.get_cells();\n",
       "                for (var i = 0; i < nbb_cells.length; ++i) {\n",
       "                    if (nbb_cells[i].input_prompt_number == nbb_cell_id) {\n",
       "                        if (nbb_cells[i].get_text() == nbb_unformatted_code) {\n",
       "                             nbb_cells[i].set_text(nbb_formatted_code);\n",
       "                        }\n",
       "                        break;\n",
       "                    }\n",
       "                }\n",
       "            }, 500);\n",
       "            "
      ],
      "text/plain": [
       "<IPython.core.display.Javascript object>"
      ]
     },
     "metadata": {},
     "output_type": "display_data"
    },
    {
     "data": {
      "application/javascript": [
       "\n",
       "            setTimeout(function() {\n",
       "                var nbb_cell_id = 214;\n",
       "                var nbb_unformatted_code = \"CUSTOM_MODEL_NAME = \\\"my_efficient_net\\\"\\nPRETRAINED_MODEL_NAME = \\\"efficientdet_d4_coco17_tpu-32\\\"\\nPRETRAINED_MODEL = \\\"http://download.tensorflow.org/models/object_detection/tf2/20200711/efficientdet_d4_coco17_tpu-32.tar.gz\\\"\\nTF_RECORD_SCRIPT_NAME = \\\"generate_tfrecord.py\\\"\\nLABEL_MAP_NAME = \\\"label_map.pbtxt\\\"\\ncurrent_os = platform.system()\";\n",
       "                var nbb_formatted_code = \"CUSTOM_MODEL_NAME = \\\"my_efficient_net\\\"\\nPRETRAINED_MODEL_NAME = \\\"efficientdet_d4_coco17_tpu-32\\\"\\nPRETRAINED_MODEL = \\\"http://download.tensorflow.org/models/object_detection/tf2/20200711/efficientdet_d4_coco17_tpu-32.tar.gz\\\"\\nTF_RECORD_SCRIPT_NAME = \\\"generate_tfrecord.py\\\"\\nLABEL_MAP_NAME = \\\"label_map.pbtxt\\\"\\ncurrent_os = platform.system()\";\n",
       "                var nbb_cells = Jupyter.notebook.get_cells();\n",
       "                for (var i = 0; i < nbb_cells.length; ++i) {\n",
       "                    if (nbb_cells[i].input_prompt_number == nbb_cell_id) {\n",
       "                        if (nbb_cells[i].get_text() == nbb_unformatted_code) {\n",
       "                             nbb_cells[i].set_text(nbb_formatted_code);\n",
       "                        }\n",
       "                        break;\n",
       "                    }\n",
       "                }\n",
       "            }, 500);\n",
       "            "
      ],
      "text/plain": [
       "<IPython.core.display.Javascript object>"
      ]
     },
     "metadata": {},
     "output_type": "display_data"
    },
    {
     "data": {
      "application/javascript": [
       "\n",
       "            setTimeout(function() {\n",
       "                var nbb_cell_id = 214;\n",
       "                var nbb_unformatted_code = \"CUSTOM_MODEL_NAME = \\\"my_efficient_net\\\"\\nPRETRAINED_MODEL_NAME = \\\"efficientdet_d4_coco17_tpu-32\\\"\\nPRETRAINED_MODEL = \\\"http://download.tensorflow.org/models/object_detection/tf2/20200711/efficientdet_d4_coco17_tpu-32.tar.gz\\\"\\nTF_RECORD_SCRIPT_NAME = \\\"generate_tfrecord.py\\\"\\nLABEL_MAP_NAME = \\\"label_map.pbtxt\\\"\\ncurrent_os = platform.system()\";\n",
       "                var nbb_formatted_code = \"CUSTOM_MODEL_NAME = \\\"my_efficient_net\\\"\\nPRETRAINED_MODEL_NAME = \\\"efficientdet_d4_coco17_tpu-32\\\"\\nPRETRAINED_MODEL = \\\"http://download.tensorflow.org/models/object_detection/tf2/20200711/efficientdet_d4_coco17_tpu-32.tar.gz\\\"\\nTF_RECORD_SCRIPT_NAME = \\\"generate_tfrecord.py\\\"\\nLABEL_MAP_NAME = \\\"label_map.pbtxt\\\"\\ncurrent_os = platform.system()\";\n",
       "                var nbb_cells = Jupyter.notebook.get_cells();\n",
       "                for (var i = 0; i < nbb_cells.length; ++i) {\n",
       "                    if (nbb_cells[i].input_prompt_number == nbb_cell_id) {\n",
       "                        if (nbb_cells[i].get_text() == nbb_unformatted_code) {\n",
       "                             nbb_cells[i].set_text(nbb_formatted_code);\n",
       "                        }\n",
       "                        break;\n",
       "                    }\n",
       "                }\n",
       "            }, 500);\n",
       "            "
      ],
      "text/plain": [
       "<IPython.core.display.Javascript object>"
      ]
     },
     "metadata": {},
     "output_type": "display_data"
    },
    {
     "data": {
      "application/javascript": [
       "\n",
       "            setTimeout(function() {\n",
       "                var nbb_cell_id = 214;\n",
       "                var nbb_unformatted_code = \"CUSTOM_MODEL_NAME = \\\"my_efficient_net\\\"\\nPRETRAINED_MODEL_NAME = \\\"efficientdet_d4_coco17_tpu-32\\\"\\nPRETRAINED_MODEL = \\\"http://download.tensorflow.org/models/object_detection/tf2/20200711/efficientdet_d4_coco17_tpu-32.tar.gz\\\"\\nTF_RECORD_SCRIPT_NAME = \\\"generate_tfrecord.py\\\"\\nLABEL_MAP_NAME = \\\"label_map.pbtxt\\\"\\ncurrent_os = platform.system()\";\n",
       "                var nbb_formatted_code = \"CUSTOM_MODEL_NAME = \\\"my_efficient_net\\\"\\nPRETRAINED_MODEL_NAME = \\\"efficientdet_d4_coco17_tpu-32\\\"\\nPRETRAINED_MODEL = \\\"http://download.tensorflow.org/models/object_detection/tf2/20200711/efficientdet_d4_coco17_tpu-32.tar.gz\\\"\\nTF_RECORD_SCRIPT_NAME = \\\"generate_tfrecord.py\\\"\\nLABEL_MAP_NAME = \\\"label_map.pbtxt\\\"\\ncurrent_os = platform.system()\";\n",
       "                var nbb_cells = Jupyter.notebook.get_cells();\n",
       "                for (var i = 0; i < nbb_cells.length; ++i) {\n",
       "                    if (nbb_cells[i].input_prompt_number == nbb_cell_id) {\n",
       "                        if (nbb_cells[i].get_text() == nbb_unformatted_code) {\n",
       "                             nbb_cells[i].set_text(nbb_formatted_code);\n",
       "                        }\n",
       "                        break;\n",
       "                    }\n",
       "                }\n",
       "            }, 500);\n",
       "            "
      ],
      "text/plain": [
       "<IPython.core.display.Javascript object>"
      ]
     },
     "metadata": {},
     "output_type": "display_data"
    }
   ],
   "source": [
    "CUSTOM_MODEL_NAME = \"my_efficient_net\"\n",
    "PRETRAINED_MODEL_NAME = \"efficientdet_d4_coco17_tpu-32\"\n",
    "PRETRAINED_MODEL = \"http://download.tensorflow.org/models/object_detection/tf2/20200711/efficientdet_d4_coco17_tpu-32.tar.gz\"\n",
    "TF_RECORD_SCRIPT_NAME = \"generate_tfrecord.py\"\n",
    "LABEL_MAP_NAME = \"label_map.pbtxt\"\n",
    "current_os = platform.system()"
   ]
  },
  {
   "cell_type": "code",
   "execution_count": 215,
   "id": "c7dd56b5",
   "metadata": {},
   "outputs": [
    {
     "data": {
      "application/javascript": [
       "\n",
       "            setTimeout(function() {\n",
       "                var nbb_cell_id = 215;\n",
       "                var nbb_unformatted_code = \"labels = [{\\\"name\\\": \\\"parent-mice\\\", \\\"id\\\": 1}, {\\\"name\\\": \\\"child-mice\\\", \\\"id\\\": 2}]\";\n",
       "                var nbb_formatted_code = \"labels = [{\\\"name\\\": \\\"parent-mice\\\", \\\"id\\\": 1}, {\\\"name\\\": \\\"child-mice\\\", \\\"id\\\": 2}]\";\n",
       "                var nbb_cells = Jupyter.notebook.get_cells();\n",
       "                for (var i = 0; i < nbb_cells.length; ++i) {\n",
       "                    if (nbb_cells[i].input_prompt_number == nbb_cell_id) {\n",
       "                        if (nbb_cells[i].get_text() == nbb_unformatted_code) {\n",
       "                             nbb_cells[i].set_text(nbb_formatted_code);\n",
       "                        }\n",
       "                        break;\n",
       "                    }\n",
       "                }\n",
       "            }, 500);\n",
       "            "
      ],
      "text/plain": [
       "<IPython.core.display.Javascript object>"
      ]
     },
     "metadata": {},
     "output_type": "display_data"
    },
    {
     "data": {
      "application/javascript": [
       "\n",
       "            setTimeout(function() {\n",
       "                var nbb_cell_id = 215;\n",
       "                var nbb_unformatted_code = \"labels = [{\\\"name\\\": \\\"parent-mice\\\", \\\"id\\\": 1}, {\\\"name\\\": \\\"child-mice\\\", \\\"id\\\": 2}]\";\n",
       "                var nbb_formatted_code = \"labels = [{\\\"name\\\": \\\"parent-mice\\\", \\\"id\\\": 1}, {\\\"name\\\": \\\"child-mice\\\", \\\"id\\\": 2}]\";\n",
       "                var nbb_cells = Jupyter.notebook.get_cells();\n",
       "                for (var i = 0; i < nbb_cells.length; ++i) {\n",
       "                    if (nbb_cells[i].input_prompt_number == nbb_cell_id) {\n",
       "                        if (nbb_cells[i].get_text() == nbb_unformatted_code) {\n",
       "                             nbb_cells[i].set_text(nbb_formatted_code);\n",
       "                        }\n",
       "                        break;\n",
       "                    }\n",
       "                }\n",
       "            }, 500);\n",
       "            "
      ],
      "text/plain": [
       "<IPython.core.display.Javascript object>"
      ]
     },
     "metadata": {},
     "output_type": "display_data"
    },
    {
     "data": {
      "application/javascript": [
       "\n",
       "            setTimeout(function() {\n",
       "                var nbb_cell_id = 215;\n",
       "                var nbb_unformatted_code = \"labels = [{\\\"name\\\": \\\"parent-mice\\\", \\\"id\\\": 1}, {\\\"name\\\": \\\"child-mice\\\", \\\"id\\\": 2}]\";\n",
       "                var nbb_formatted_code = \"labels = [{\\\"name\\\": \\\"parent-mice\\\", \\\"id\\\": 1}, {\\\"name\\\": \\\"child-mice\\\", \\\"id\\\": 2}]\";\n",
       "                var nbb_cells = Jupyter.notebook.get_cells();\n",
       "                for (var i = 0; i < nbb_cells.length; ++i) {\n",
       "                    if (nbb_cells[i].input_prompt_number == nbb_cell_id) {\n",
       "                        if (nbb_cells[i].get_text() == nbb_unformatted_code) {\n",
       "                             nbb_cells[i].set_text(nbb_formatted_code);\n",
       "                        }\n",
       "                        break;\n",
       "                    }\n",
       "                }\n",
       "            }, 500);\n",
       "            "
      ],
      "text/plain": [
       "<IPython.core.display.Javascript object>"
      ]
     },
     "metadata": {},
     "output_type": "display_data"
    },
    {
     "data": {
      "application/javascript": [
       "\n",
       "            setTimeout(function() {\n",
       "                var nbb_cell_id = 215;\n",
       "                var nbb_unformatted_code = \"labels = [{\\\"name\\\": \\\"parent-mice\\\", \\\"id\\\": 1}, {\\\"name\\\": \\\"child-mice\\\", \\\"id\\\": 2}]\";\n",
       "                var nbb_formatted_code = \"labels = [{\\\"name\\\": \\\"parent-mice\\\", \\\"id\\\": 1}, {\\\"name\\\": \\\"child-mice\\\", \\\"id\\\": 2}]\";\n",
       "                var nbb_cells = Jupyter.notebook.get_cells();\n",
       "                for (var i = 0; i < nbb_cells.length; ++i) {\n",
       "                    if (nbb_cells[i].input_prompt_number == nbb_cell_id) {\n",
       "                        if (nbb_cells[i].get_text() == nbb_unformatted_code) {\n",
       "                             nbb_cells[i].set_text(nbb_formatted_code);\n",
       "                        }\n",
       "                        break;\n",
       "                    }\n",
       "                }\n",
       "            }, 500);\n",
       "            "
      ],
      "text/plain": [
       "<IPython.core.display.Javascript object>"
      ]
     },
     "metadata": {},
     "output_type": "display_data"
    },
    {
     "data": {
      "application/javascript": [
       "\n",
       "            setTimeout(function() {\n",
       "                var nbb_cell_id = 215;\n",
       "                var nbb_unformatted_code = \"labels = [{\\\"name\\\": \\\"parent-mice\\\", \\\"id\\\": 1}, {\\\"name\\\": \\\"child-mice\\\", \\\"id\\\": 2}]\";\n",
       "                var nbb_formatted_code = \"labels = [{\\\"name\\\": \\\"parent-mice\\\", \\\"id\\\": 1}, {\\\"name\\\": \\\"child-mice\\\", \\\"id\\\": 2}]\";\n",
       "                var nbb_cells = Jupyter.notebook.get_cells();\n",
       "                for (var i = 0; i < nbb_cells.length; ++i) {\n",
       "                    if (nbb_cells[i].input_prompt_number == nbb_cell_id) {\n",
       "                        if (nbb_cells[i].get_text() == nbb_unformatted_code) {\n",
       "                             nbb_cells[i].set_text(nbb_formatted_code);\n",
       "                        }\n",
       "                        break;\n",
       "                    }\n",
       "                }\n",
       "            }, 500);\n",
       "            "
      ],
      "text/plain": [
       "<IPython.core.display.Javascript object>"
      ]
     },
     "metadata": {},
     "output_type": "display_data"
    },
    {
     "data": {
      "application/javascript": [
       "\n",
       "            setTimeout(function() {\n",
       "                var nbb_cell_id = 215;\n",
       "                var nbb_unformatted_code = \"labels = [{\\\"name\\\": \\\"parent-mice\\\", \\\"id\\\": 1}, {\\\"name\\\": \\\"child-mice\\\", \\\"id\\\": 2}]\";\n",
       "                var nbb_formatted_code = \"labels = [{\\\"name\\\": \\\"parent-mice\\\", \\\"id\\\": 1}, {\\\"name\\\": \\\"child-mice\\\", \\\"id\\\": 2}]\";\n",
       "                var nbb_cells = Jupyter.notebook.get_cells();\n",
       "                for (var i = 0; i < nbb_cells.length; ++i) {\n",
       "                    if (nbb_cells[i].input_prompt_number == nbb_cell_id) {\n",
       "                        if (nbb_cells[i].get_text() == nbb_unformatted_code) {\n",
       "                             nbb_cells[i].set_text(nbb_formatted_code);\n",
       "                        }\n",
       "                        break;\n",
       "                    }\n",
       "                }\n",
       "            }, 500);\n",
       "            "
      ],
      "text/plain": [
       "<IPython.core.display.Javascript object>"
      ]
     },
     "metadata": {},
     "output_type": "display_data"
    },
    {
     "data": {
      "application/javascript": [
       "\n",
       "            setTimeout(function() {\n",
       "                var nbb_cell_id = 215;\n",
       "                var nbb_unformatted_code = \"labels = [{\\\"name\\\": \\\"parent-mice\\\", \\\"id\\\": 1}, {\\\"name\\\": \\\"child-mice\\\", \\\"id\\\": 2}]\";\n",
       "                var nbb_formatted_code = \"labels = [{\\\"name\\\": \\\"parent-mice\\\", \\\"id\\\": 1}, {\\\"name\\\": \\\"child-mice\\\", \\\"id\\\": 2}]\";\n",
       "                var nbb_cells = Jupyter.notebook.get_cells();\n",
       "                for (var i = 0; i < nbb_cells.length; ++i) {\n",
       "                    if (nbb_cells[i].input_prompt_number == nbb_cell_id) {\n",
       "                        if (nbb_cells[i].get_text() == nbb_unformatted_code) {\n",
       "                             nbb_cells[i].set_text(nbb_formatted_code);\n",
       "                        }\n",
       "                        break;\n",
       "                    }\n",
       "                }\n",
       "            }, 500);\n",
       "            "
      ],
      "text/plain": [
       "<IPython.core.display.Javascript object>"
      ]
     },
     "metadata": {},
     "output_type": "display_data"
    },
    {
     "data": {
      "application/javascript": [
       "\n",
       "            setTimeout(function() {\n",
       "                var nbb_cell_id = 215;\n",
       "                var nbb_unformatted_code = \"labels = [{\\\"name\\\": \\\"parent-mice\\\", \\\"id\\\": 1}, {\\\"name\\\": \\\"child-mice\\\", \\\"id\\\": 2}]\";\n",
       "                var nbb_formatted_code = \"labels = [{\\\"name\\\": \\\"parent-mice\\\", \\\"id\\\": 1}, {\\\"name\\\": \\\"child-mice\\\", \\\"id\\\": 2}]\";\n",
       "                var nbb_cells = Jupyter.notebook.get_cells();\n",
       "                for (var i = 0; i < nbb_cells.length; ++i) {\n",
       "                    if (nbb_cells[i].input_prompt_number == nbb_cell_id) {\n",
       "                        if (nbb_cells[i].get_text() == nbb_unformatted_code) {\n",
       "                             nbb_cells[i].set_text(nbb_formatted_code);\n",
       "                        }\n",
       "                        break;\n",
       "                    }\n",
       "                }\n",
       "            }, 500);\n",
       "            "
      ],
      "text/plain": [
       "<IPython.core.display.Javascript object>"
      ]
     },
     "metadata": {},
     "output_type": "display_data"
    },
    {
     "data": {
      "application/javascript": [
       "\n",
       "            setTimeout(function() {\n",
       "                var nbb_cell_id = 215;\n",
       "                var nbb_unformatted_code = \"labels = [{\\\"name\\\": \\\"parent-mice\\\", \\\"id\\\": 1}, {\\\"name\\\": \\\"child-mice\\\", \\\"id\\\": 2}]\";\n",
       "                var nbb_formatted_code = \"labels = [{\\\"name\\\": \\\"parent-mice\\\", \\\"id\\\": 1}, {\\\"name\\\": \\\"child-mice\\\", \\\"id\\\": 2}]\";\n",
       "                var nbb_cells = Jupyter.notebook.get_cells();\n",
       "                for (var i = 0; i < nbb_cells.length; ++i) {\n",
       "                    if (nbb_cells[i].input_prompt_number == nbb_cell_id) {\n",
       "                        if (nbb_cells[i].get_text() == nbb_unformatted_code) {\n",
       "                             nbb_cells[i].set_text(nbb_formatted_code);\n",
       "                        }\n",
       "                        break;\n",
       "                    }\n",
       "                }\n",
       "            }, 500);\n",
       "            "
      ],
      "text/plain": [
       "<IPython.core.display.Javascript object>"
      ]
     },
     "metadata": {},
     "output_type": "display_data"
    },
    {
     "data": {
      "application/javascript": [
       "\n",
       "            setTimeout(function() {\n",
       "                var nbb_cell_id = 215;\n",
       "                var nbb_unformatted_code = \"labels = [{\\\"name\\\": \\\"parent-mice\\\", \\\"id\\\": 1}, {\\\"name\\\": \\\"child-mice\\\", \\\"id\\\": 2}]\";\n",
       "                var nbb_formatted_code = \"labels = [{\\\"name\\\": \\\"parent-mice\\\", \\\"id\\\": 1}, {\\\"name\\\": \\\"child-mice\\\", \\\"id\\\": 2}]\";\n",
       "                var nbb_cells = Jupyter.notebook.get_cells();\n",
       "                for (var i = 0; i < nbb_cells.length; ++i) {\n",
       "                    if (nbb_cells[i].input_prompt_number == nbb_cell_id) {\n",
       "                        if (nbb_cells[i].get_text() == nbb_unformatted_code) {\n",
       "                             nbb_cells[i].set_text(nbb_formatted_code);\n",
       "                        }\n",
       "                        break;\n",
       "                    }\n",
       "                }\n",
       "            }, 500);\n",
       "            "
      ],
      "text/plain": [
       "<IPython.core.display.Javascript object>"
      ]
     },
     "metadata": {},
     "output_type": "display_data"
    }
   ],
   "source": [
    "labels = [{\"name\": \"parent-mice\", \"id\": 1}, {\"name\": \"child-mice\", \"id\": 2}]"
   ]
  },
  {
   "cell_type": "code",
   "execution_count": 216,
   "id": "ab081487",
   "metadata": {},
   "outputs": [
    {
     "data": {
      "application/javascript": [
       "\n",
       "            setTimeout(function() {\n",
       "                var nbb_cell_id = 216;\n",
       "                var nbb_unformatted_code = \"parent_directory = os.path.dirname(os.getcwd())\\npaths = {\\n    \\\"SRC_PATH\\\": os.path.join(parent_directory, \\\"src\\\"),\\n    \\\"DATA_PATH\\\": os.path.join(parent_directory, \\\"data\\\"),\\n    \\\"APIMODEL_PATH\\\": os.path.join(parent_directory, \\\"api_models\\\"),\\n    \\\"MODEL_PATH\\\": os.path.join(parent_directory, \\\"my_models\\\"),\\n    \\\"PRETRAINED_MODEL_PATH\\\": os.path.join(parent_directory, \\\"pre-trained-models\\\"),\\n    \\\"CHECKPOINT_PATH\\\": os.path.join(parent_directory, \\\"my_models\\\", CUSTOM_MODEL_NAME),\\n    \\\"OUTPUT_PATH\\\": os.path.join(\\n        parent_directory, \\\"my_models\\\", CUSTOM_MODEL_NAME, \\\"export\\\"\\n    ),\\n    \\\"TFJS_PATH\\\": os.path.join(\\n        parent_directory, \\\"my_models\\\", CUSTOM_MODEL_NAME, \\\"tfjsexport\\\"\\n    ),\\n    \\\"TFLITE_PATH\\\": os.path.join(\\n        parent_directory, \\\"my_models\\\", CUSTOM_MODEL_NAME, \\\"tfliteexport\\\"\\n    ),\\n    \\\"PROTOC_PATH\\\": os.path.join(parent_directory, \\\"protoc\\\"),\\n}\";\n",
       "                var nbb_formatted_code = \"parent_directory = os.path.dirname(os.getcwd())\\npaths = {\\n    \\\"SRC_PATH\\\": os.path.join(parent_directory, \\\"src\\\"),\\n    \\\"DATA_PATH\\\": os.path.join(parent_directory, \\\"data\\\"),\\n    \\\"APIMODEL_PATH\\\": os.path.join(parent_directory, \\\"api_models\\\"),\\n    \\\"MODEL_PATH\\\": os.path.join(parent_directory, \\\"my_models\\\"),\\n    \\\"PRETRAINED_MODEL_PATH\\\": os.path.join(parent_directory, \\\"pre-trained-models\\\"),\\n    \\\"CHECKPOINT_PATH\\\": os.path.join(parent_directory, \\\"my_models\\\", CUSTOM_MODEL_NAME),\\n    \\\"OUTPUT_PATH\\\": os.path.join(\\n        parent_directory, \\\"my_models\\\", CUSTOM_MODEL_NAME, \\\"export\\\"\\n    ),\\n    \\\"TFJS_PATH\\\": os.path.join(\\n        parent_directory, \\\"my_models\\\", CUSTOM_MODEL_NAME, \\\"tfjsexport\\\"\\n    ),\\n    \\\"TFLITE_PATH\\\": os.path.join(\\n        parent_directory, \\\"my_models\\\", CUSTOM_MODEL_NAME, \\\"tfliteexport\\\"\\n    ),\\n    \\\"PROTOC_PATH\\\": os.path.join(parent_directory, \\\"protoc\\\"),\\n}\";\n",
       "                var nbb_cells = Jupyter.notebook.get_cells();\n",
       "                for (var i = 0; i < nbb_cells.length; ++i) {\n",
       "                    if (nbb_cells[i].input_prompt_number == nbb_cell_id) {\n",
       "                        if (nbb_cells[i].get_text() == nbb_unformatted_code) {\n",
       "                             nbb_cells[i].set_text(nbb_formatted_code);\n",
       "                        }\n",
       "                        break;\n",
       "                    }\n",
       "                }\n",
       "            }, 500);\n",
       "            "
      ],
      "text/plain": [
       "<IPython.core.display.Javascript object>"
      ]
     },
     "metadata": {},
     "output_type": "display_data"
    },
    {
     "data": {
      "application/javascript": [
       "\n",
       "            setTimeout(function() {\n",
       "                var nbb_cell_id = 216;\n",
       "                var nbb_unformatted_code = \"parent_directory = os.path.dirname(os.getcwd())\\npaths = {\\n    \\\"SRC_PATH\\\": os.path.join(parent_directory, \\\"src\\\"),\\n    \\\"DATA_PATH\\\": os.path.join(parent_directory, \\\"data\\\"),\\n    \\\"APIMODEL_PATH\\\": os.path.join(parent_directory, \\\"api_models\\\"),\\n    \\\"MODEL_PATH\\\": os.path.join(parent_directory, \\\"my_models\\\"),\\n    \\\"PRETRAINED_MODEL_PATH\\\": os.path.join(parent_directory, \\\"pre-trained-models\\\"),\\n    \\\"CHECKPOINT_PATH\\\": os.path.join(parent_directory, \\\"my_models\\\", CUSTOM_MODEL_NAME),\\n    \\\"OUTPUT_PATH\\\": os.path.join(\\n        parent_directory, \\\"my_models\\\", CUSTOM_MODEL_NAME, \\\"export\\\"\\n    ),\\n    \\\"TFJS_PATH\\\": os.path.join(\\n        parent_directory, \\\"my_models\\\", CUSTOM_MODEL_NAME, \\\"tfjsexport\\\"\\n    ),\\n    \\\"TFLITE_PATH\\\": os.path.join(\\n        parent_directory, \\\"my_models\\\", CUSTOM_MODEL_NAME, \\\"tfliteexport\\\"\\n    ),\\n    \\\"PROTOC_PATH\\\": os.path.join(parent_directory, \\\"protoc\\\"),\\n}\";\n",
       "                var nbb_formatted_code = \"parent_directory = os.path.dirname(os.getcwd())\\npaths = {\\n    \\\"SRC_PATH\\\": os.path.join(parent_directory, \\\"src\\\"),\\n    \\\"DATA_PATH\\\": os.path.join(parent_directory, \\\"data\\\"),\\n    \\\"APIMODEL_PATH\\\": os.path.join(parent_directory, \\\"api_models\\\"),\\n    \\\"MODEL_PATH\\\": os.path.join(parent_directory, \\\"my_models\\\"),\\n    \\\"PRETRAINED_MODEL_PATH\\\": os.path.join(parent_directory, \\\"pre-trained-models\\\"),\\n    \\\"CHECKPOINT_PATH\\\": os.path.join(parent_directory, \\\"my_models\\\", CUSTOM_MODEL_NAME),\\n    \\\"OUTPUT_PATH\\\": os.path.join(\\n        parent_directory, \\\"my_models\\\", CUSTOM_MODEL_NAME, \\\"export\\\"\\n    ),\\n    \\\"TFJS_PATH\\\": os.path.join(\\n        parent_directory, \\\"my_models\\\", CUSTOM_MODEL_NAME, \\\"tfjsexport\\\"\\n    ),\\n    \\\"TFLITE_PATH\\\": os.path.join(\\n        parent_directory, \\\"my_models\\\", CUSTOM_MODEL_NAME, \\\"tfliteexport\\\"\\n    ),\\n    \\\"PROTOC_PATH\\\": os.path.join(parent_directory, \\\"protoc\\\"),\\n}\";\n",
       "                var nbb_cells = Jupyter.notebook.get_cells();\n",
       "                for (var i = 0; i < nbb_cells.length; ++i) {\n",
       "                    if (nbb_cells[i].input_prompt_number == nbb_cell_id) {\n",
       "                        if (nbb_cells[i].get_text() == nbb_unformatted_code) {\n",
       "                             nbb_cells[i].set_text(nbb_formatted_code);\n",
       "                        }\n",
       "                        break;\n",
       "                    }\n",
       "                }\n",
       "            }, 500);\n",
       "            "
      ],
      "text/plain": [
       "<IPython.core.display.Javascript object>"
      ]
     },
     "metadata": {},
     "output_type": "display_data"
    },
    {
     "data": {
      "application/javascript": [
       "\n",
       "            setTimeout(function() {\n",
       "                var nbb_cell_id = 216;\n",
       "                var nbb_unformatted_code = \"parent_directory = os.path.dirname(os.getcwd())\\npaths = {\\n    \\\"SRC_PATH\\\": os.path.join(parent_directory, \\\"src\\\"),\\n    \\\"DATA_PATH\\\": os.path.join(parent_directory, \\\"data\\\"),\\n    \\\"APIMODEL_PATH\\\": os.path.join(parent_directory, \\\"api_models\\\"),\\n    \\\"MODEL_PATH\\\": os.path.join(parent_directory, \\\"my_models\\\"),\\n    \\\"PRETRAINED_MODEL_PATH\\\": os.path.join(parent_directory, \\\"pre-trained-models\\\"),\\n    \\\"CHECKPOINT_PATH\\\": os.path.join(parent_directory, \\\"my_models\\\", CUSTOM_MODEL_NAME),\\n    \\\"OUTPUT_PATH\\\": os.path.join(\\n        parent_directory, \\\"my_models\\\", CUSTOM_MODEL_NAME, \\\"export\\\"\\n    ),\\n    \\\"TFJS_PATH\\\": os.path.join(\\n        parent_directory, \\\"my_models\\\", CUSTOM_MODEL_NAME, \\\"tfjsexport\\\"\\n    ),\\n    \\\"TFLITE_PATH\\\": os.path.join(\\n        parent_directory, \\\"my_models\\\", CUSTOM_MODEL_NAME, \\\"tfliteexport\\\"\\n    ),\\n    \\\"PROTOC_PATH\\\": os.path.join(parent_directory, \\\"protoc\\\"),\\n}\";\n",
       "                var nbb_formatted_code = \"parent_directory = os.path.dirname(os.getcwd())\\npaths = {\\n    \\\"SRC_PATH\\\": os.path.join(parent_directory, \\\"src\\\"),\\n    \\\"DATA_PATH\\\": os.path.join(parent_directory, \\\"data\\\"),\\n    \\\"APIMODEL_PATH\\\": os.path.join(parent_directory, \\\"api_models\\\"),\\n    \\\"MODEL_PATH\\\": os.path.join(parent_directory, \\\"my_models\\\"),\\n    \\\"PRETRAINED_MODEL_PATH\\\": os.path.join(parent_directory, \\\"pre-trained-models\\\"),\\n    \\\"CHECKPOINT_PATH\\\": os.path.join(parent_directory, \\\"my_models\\\", CUSTOM_MODEL_NAME),\\n    \\\"OUTPUT_PATH\\\": os.path.join(\\n        parent_directory, \\\"my_models\\\", CUSTOM_MODEL_NAME, \\\"export\\\"\\n    ),\\n    \\\"TFJS_PATH\\\": os.path.join(\\n        parent_directory, \\\"my_models\\\", CUSTOM_MODEL_NAME, \\\"tfjsexport\\\"\\n    ),\\n    \\\"TFLITE_PATH\\\": os.path.join(\\n        parent_directory, \\\"my_models\\\", CUSTOM_MODEL_NAME, \\\"tfliteexport\\\"\\n    ),\\n    \\\"PROTOC_PATH\\\": os.path.join(parent_directory, \\\"protoc\\\"),\\n}\";\n",
       "                var nbb_cells = Jupyter.notebook.get_cells();\n",
       "                for (var i = 0; i < nbb_cells.length; ++i) {\n",
       "                    if (nbb_cells[i].input_prompt_number == nbb_cell_id) {\n",
       "                        if (nbb_cells[i].get_text() == nbb_unformatted_code) {\n",
       "                             nbb_cells[i].set_text(nbb_formatted_code);\n",
       "                        }\n",
       "                        break;\n",
       "                    }\n",
       "                }\n",
       "            }, 500);\n",
       "            "
      ],
      "text/plain": [
       "<IPython.core.display.Javascript object>"
      ]
     },
     "metadata": {},
     "output_type": "display_data"
    },
    {
     "data": {
      "application/javascript": [
       "\n",
       "            setTimeout(function() {\n",
       "                var nbb_cell_id = 216;\n",
       "                var nbb_unformatted_code = \"parent_directory = os.path.dirname(os.getcwd())\\npaths = {\\n    \\\"SRC_PATH\\\": os.path.join(parent_directory, \\\"src\\\"),\\n    \\\"DATA_PATH\\\": os.path.join(parent_directory, \\\"data\\\"),\\n    \\\"APIMODEL_PATH\\\": os.path.join(parent_directory, \\\"api_models\\\"),\\n    \\\"MODEL_PATH\\\": os.path.join(parent_directory, \\\"my_models\\\"),\\n    \\\"PRETRAINED_MODEL_PATH\\\": os.path.join(parent_directory, \\\"pre-trained-models\\\"),\\n    \\\"CHECKPOINT_PATH\\\": os.path.join(parent_directory, \\\"my_models\\\", CUSTOM_MODEL_NAME),\\n    \\\"OUTPUT_PATH\\\": os.path.join(\\n        parent_directory, \\\"my_models\\\", CUSTOM_MODEL_NAME, \\\"export\\\"\\n    ),\\n    \\\"TFJS_PATH\\\": os.path.join(\\n        parent_directory, \\\"my_models\\\", CUSTOM_MODEL_NAME, \\\"tfjsexport\\\"\\n    ),\\n    \\\"TFLITE_PATH\\\": os.path.join(\\n        parent_directory, \\\"my_models\\\", CUSTOM_MODEL_NAME, \\\"tfliteexport\\\"\\n    ),\\n    \\\"PROTOC_PATH\\\": os.path.join(parent_directory, \\\"protoc\\\"),\\n}\";\n",
       "                var nbb_formatted_code = \"parent_directory = os.path.dirname(os.getcwd())\\npaths = {\\n    \\\"SRC_PATH\\\": os.path.join(parent_directory, \\\"src\\\"),\\n    \\\"DATA_PATH\\\": os.path.join(parent_directory, \\\"data\\\"),\\n    \\\"APIMODEL_PATH\\\": os.path.join(parent_directory, \\\"api_models\\\"),\\n    \\\"MODEL_PATH\\\": os.path.join(parent_directory, \\\"my_models\\\"),\\n    \\\"PRETRAINED_MODEL_PATH\\\": os.path.join(parent_directory, \\\"pre-trained-models\\\"),\\n    \\\"CHECKPOINT_PATH\\\": os.path.join(parent_directory, \\\"my_models\\\", CUSTOM_MODEL_NAME),\\n    \\\"OUTPUT_PATH\\\": os.path.join(\\n        parent_directory, \\\"my_models\\\", CUSTOM_MODEL_NAME, \\\"export\\\"\\n    ),\\n    \\\"TFJS_PATH\\\": os.path.join(\\n        parent_directory, \\\"my_models\\\", CUSTOM_MODEL_NAME, \\\"tfjsexport\\\"\\n    ),\\n    \\\"TFLITE_PATH\\\": os.path.join(\\n        parent_directory, \\\"my_models\\\", CUSTOM_MODEL_NAME, \\\"tfliteexport\\\"\\n    ),\\n    \\\"PROTOC_PATH\\\": os.path.join(parent_directory, \\\"protoc\\\"),\\n}\";\n",
       "                var nbb_cells = Jupyter.notebook.get_cells();\n",
       "                for (var i = 0; i < nbb_cells.length; ++i) {\n",
       "                    if (nbb_cells[i].input_prompt_number == nbb_cell_id) {\n",
       "                        if (nbb_cells[i].get_text() == nbb_unformatted_code) {\n",
       "                             nbb_cells[i].set_text(nbb_formatted_code);\n",
       "                        }\n",
       "                        break;\n",
       "                    }\n",
       "                }\n",
       "            }, 500);\n",
       "            "
      ],
      "text/plain": [
       "<IPython.core.display.Javascript object>"
      ]
     },
     "metadata": {},
     "output_type": "display_data"
    },
    {
     "data": {
      "application/javascript": [
       "\n",
       "            setTimeout(function() {\n",
       "                var nbb_cell_id = 216;\n",
       "                var nbb_unformatted_code = \"parent_directory = os.path.dirname(os.getcwd())\\npaths = {\\n    \\\"SRC_PATH\\\": os.path.join(parent_directory, \\\"src\\\"),\\n    \\\"DATA_PATH\\\": os.path.join(parent_directory, \\\"data\\\"),\\n    \\\"APIMODEL_PATH\\\": os.path.join(parent_directory, \\\"api_models\\\"),\\n    \\\"MODEL_PATH\\\": os.path.join(parent_directory, \\\"my_models\\\"),\\n    \\\"PRETRAINED_MODEL_PATH\\\": os.path.join(parent_directory, \\\"pre-trained-models\\\"),\\n    \\\"CHECKPOINT_PATH\\\": os.path.join(parent_directory, \\\"my_models\\\", CUSTOM_MODEL_NAME),\\n    \\\"OUTPUT_PATH\\\": os.path.join(\\n        parent_directory, \\\"my_models\\\", CUSTOM_MODEL_NAME, \\\"export\\\"\\n    ),\\n    \\\"TFJS_PATH\\\": os.path.join(\\n        parent_directory, \\\"my_models\\\", CUSTOM_MODEL_NAME, \\\"tfjsexport\\\"\\n    ),\\n    \\\"TFLITE_PATH\\\": os.path.join(\\n        parent_directory, \\\"my_models\\\", CUSTOM_MODEL_NAME, \\\"tfliteexport\\\"\\n    ),\\n    \\\"PROTOC_PATH\\\": os.path.join(parent_directory, \\\"protoc\\\"),\\n}\";\n",
       "                var nbb_formatted_code = \"parent_directory = os.path.dirname(os.getcwd())\\npaths = {\\n    \\\"SRC_PATH\\\": os.path.join(parent_directory, \\\"src\\\"),\\n    \\\"DATA_PATH\\\": os.path.join(parent_directory, \\\"data\\\"),\\n    \\\"APIMODEL_PATH\\\": os.path.join(parent_directory, \\\"api_models\\\"),\\n    \\\"MODEL_PATH\\\": os.path.join(parent_directory, \\\"my_models\\\"),\\n    \\\"PRETRAINED_MODEL_PATH\\\": os.path.join(parent_directory, \\\"pre-trained-models\\\"),\\n    \\\"CHECKPOINT_PATH\\\": os.path.join(parent_directory, \\\"my_models\\\", CUSTOM_MODEL_NAME),\\n    \\\"OUTPUT_PATH\\\": os.path.join(\\n        parent_directory, \\\"my_models\\\", CUSTOM_MODEL_NAME, \\\"export\\\"\\n    ),\\n    \\\"TFJS_PATH\\\": os.path.join(\\n        parent_directory, \\\"my_models\\\", CUSTOM_MODEL_NAME, \\\"tfjsexport\\\"\\n    ),\\n    \\\"TFLITE_PATH\\\": os.path.join(\\n        parent_directory, \\\"my_models\\\", CUSTOM_MODEL_NAME, \\\"tfliteexport\\\"\\n    ),\\n    \\\"PROTOC_PATH\\\": os.path.join(parent_directory, \\\"protoc\\\"),\\n}\";\n",
       "                var nbb_cells = Jupyter.notebook.get_cells();\n",
       "                for (var i = 0; i < nbb_cells.length; ++i) {\n",
       "                    if (nbb_cells[i].input_prompt_number == nbb_cell_id) {\n",
       "                        if (nbb_cells[i].get_text() == nbb_unformatted_code) {\n",
       "                             nbb_cells[i].set_text(nbb_formatted_code);\n",
       "                        }\n",
       "                        break;\n",
       "                    }\n",
       "                }\n",
       "            }, 500);\n",
       "            "
      ],
      "text/plain": [
       "<IPython.core.display.Javascript object>"
      ]
     },
     "metadata": {},
     "output_type": "display_data"
    },
    {
     "data": {
      "application/javascript": [
       "\n",
       "            setTimeout(function() {\n",
       "                var nbb_cell_id = 216;\n",
       "                var nbb_unformatted_code = \"parent_directory = os.path.dirname(os.getcwd())\\npaths = {\\n    \\\"SRC_PATH\\\": os.path.join(parent_directory, \\\"src\\\"),\\n    \\\"DATA_PATH\\\": os.path.join(parent_directory, \\\"data\\\"),\\n    \\\"APIMODEL_PATH\\\": os.path.join(parent_directory, \\\"api_models\\\"),\\n    \\\"MODEL_PATH\\\": os.path.join(parent_directory, \\\"my_models\\\"),\\n    \\\"PRETRAINED_MODEL_PATH\\\": os.path.join(parent_directory, \\\"pre-trained-models\\\"),\\n    \\\"CHECKPOINT_PATH\\\": os.path.join(parent_directory, \\\"my_models\\\", CUSTOM_MODEL_NAME),\\n    \\\"OUTPUT_PATH\\\": os.path.join(\\n        parent_directory, \\\"my_models\\\", CUSTOM_MODEL_NAME, \\\"export\\\"\\n    ),\\n    \\\"TFJS_PATH\\\": os.path.join(\\n        parent_directory, \\\"my_models\\\", CUSTOM_MODEL_NAME, \\\"tfjsexport\\\"\\n    ),\\n    \\\"TFLITE_PATH\\\": os.path.join(\\n        parent_directory, \\\"my_models\\\", CUSTOM_MODEL_NAME, \\\"tfliteexport\\\"\\n    ),\\n    \\\"PROTOC_PATH\\\": os.path.join(parent_directory, \\\"protoc\\\"),\\n}\";\n",
       "                var nbb_formatted_code = \"parent_directory = os.path.dirname(os.getcwd())\\npaths = {\\n    \\\"SRC_PATH\\\": os.path.join(parent_directory, \\\"src\\\"),\\n    \\\"DATA_PATH\\\": os.path.join(parent_directory, \\\"data\\\"),\\n    \\\"APIMODEL_PATH\\\": os.path.join(parent_directory, \\\"api_models\\\"),\\n    \\\"MODEL_PATH\\\": os.path.join(parent_directory, \\\"my_models\\\"),\\n    \\\"PRETRAINED_MODEL_PATH\\\": os.path.join(parent_directory, \\\"pre-trained-models\\\"),\\n    \\\"CHECKPOINT_PATH\\\": os.path.join(parent_directory, \\\"my_models\\\", CUSTOM_MODEL_NAME),\\n    \\\"OUTPUT_PATH\\\": os.path.join(\\n        parent_directory, \\\"my_models\\\", CUSTOM_MODEL_NAME, \\\"export\\\"\\n    ),\\n    \\\"TFJS_PATH\\\": os.path.join(\\n        parent_directory, \\\"my_models\\\", CUSTOM_MODEL_NAME, \\\"tfjsexport\\\"\\n    ),\\n    \\\"TFLITE_PATH\\\": os.path.join(\\n        parent_directory, \\\"my_models\\\", CUSTOM_MODEL_NAME, \\\"tfliteexport\\\"\\n    ),\\n    \\\"PROTOC_PATH\\\": os.path.join(parent_directory, \\\"protoc\\\"),\\n}\";\n",
       "                var nbb_cells = Jupyter.notebook.get_cells();\n",
       "                for (var i = 0; i < nbb_cells.length; ++i) {\n",
       "                    if (nbb_cells[i].input_prompt_number == nbb_cell_id) {\n",
       "                        if (nbb_cells[i].get_text() == nbb_unformatted_code) {\n",
       "                             nbb_cells[i].set_text(nbb_formatted_code);\n",
       "                        }\n",
       "                        break;\n",
       "                    }\n",
       "                }\n",
       "            }, 500);\n",
       "            "
      ],
      "text/plain": [
       "<IPython.core.display.Javascript object>"
      ]
     },
     "metadata": {},
     "output_type": "display_data"
    },
    {
     "data": {
      "application/javascript": [
       "\n",
       "            setTimeout(function() {\n",
       "                var nbb_cell_id = 216;\n",
       "                var nbb_unformatted_code = \"parent_directory = os.path.dirname(os.getcwd())\\npaths = {\\n    \\\"SRC_PATH\\\": os.path.join(parent_directory, \\\"src\\\"),\\n    \\\"DATA_PATH\\\": os.path.join(parent_directory, \\\"data\\\"),\\n    \\\"APIMODEL_PATH\\\": os.path.join(parent_directory, \\\"api_models\\\"),\\n    \\\"MODEL_PATH\\\": os.path.join(parent_directory, \\\"my_models\\\"),\\n    \\\"PRETRAINED_MODEL_PATH\\\": os.path.join(parent_directory, \\\"pre-trained-models\\\"),\\n    \\\"CHECKPOINT_PATH\\\": os.path.join(parent_directory, \\\"my_models\\\", CUSTOM_MODEL_NAME),\\n    \\\"OUTPUT_PATH\\\": os.path.join(\\n        parent_directory, \\\"my_models\\\", CUSTOM_MODEL_NAME, \\\"export\\\"\\n    ),\\n    \\\"TFJS_PATH\\\": os.path.join(\\n        parent_directory, \\\"my_models\\\", CUSTOM_MODEL_NAME, \\\"tfjsexport\\\"\\n    ),\\n    \\\"TFLITE_PATH\\\": os.path.join(\\n        parent_directory, \\\"my_models\\\", CUSTOM_MODEL_NAME, \\\"tfliteexport\\\"\\n    ),\\n    \\\"PROTOC_PATH\\\": os.path.join(parent_directory, \\\"protoc\\\"),\\n}\";\n",
       "                var nbb_formatted_code = \"parent_directory = os.path.dirname(os.getcwd())\\npaths = {\\n    \\\"SRC_PATH\\\": os.path.join(parent_directory, \\\"src\\\"),\\n    \\\"DATA_PATH\\\": os.path.join(parent_directory, \\\"data\\\"),\\n    \\\"APIMODEL_PATH\\\": os.path.join(parent_directory, \\\"api_models\\\"),\\n    \\\"MODEL_PATH\\\": os.path.join(parent_directory, \\\"my_models\\\"),\\n    \\\"PRETRAINED_MODEL_PATH\\\": os.path.join(parent_directory, \\\"pre-trained-models\\\"),\\n    \\\"CHECKPOINT_PATH\\\": os.path.join(parent_directory, \\\"my_models\\\", CUSTOM_MODEL_NAME),\\n    \\\"OUTPUT_PATH\\\": os.path.join(\\n        parent_directory, \\\"my_models\\\", CUSTOM_MODEL_NAME, \\\"export\\\"\\n    ),\\n    \\\"TFJS_PATH\\\": os.path.join(\\n        parent_directory, \\\"my_models\\\", CUSTOM_MODEL_NAME, \\\"tfjsexport\\\"\\n    ),\\n    \\\"TFLITE_PATH\\\": os.path.join(\\n        parent_directory, \\\"my_models\\\", CUSTOM_MODEL_NAME, \\\"tfliteexport\\\"\\n    ),\\n    \\\"PROTOC_PATH\\\": os.path.join(parent_directory, \\\"protoc\\\"),\\n}\";\n",
       "                var nbb_cells = Jupyter.notebook.get_cells();\n",
       "                for (var i = 0; i < nbb_cells.length; ++i) {\n",
       "                    if (nbb_cells[i].input_prompt_number == nbb_cell_id) {\n",
       "                        if (nbb_cells[i].get_text() == nbb_unformatted_code) {\n",
       "                             nbb_cells[i].set_text(nbb_formatted_code);\n",
       "                        }\n",
       "                        break;\n",
       "                    }\n",
       "                }\n",
       "            }, 500);\n",
       "            "
      ],
      "text/plain": [
       "<IPython.core.display.Javascript object>"
      ]
     },
     "metadata": {},
     "output_type": "display_data"
    },
    {
     "data": {
      "application/javascript": [
       "\n",
       "            setTimeout(function() {\n",
       "                var nbb_cell_id = 216;\n",
       "                var nbb_unformatted_code = \"parent_directory = os.path.dirname(os.getcwd())\\npaths = {\\n    \\\"SRC_PATH\\\": os.path.join(parent_directory, \\\"src\\\"),\\n    \\\"DATA_PATH\\\": os.path.join(parent_directory, \\\"data\\\"),\\n    \\\"APIMODEL_PATH\\\": os.path.join(parent_directory, \\\"api_models\\\"),\\n    \\\"MODEL_PATH\\\": os.path.join(parent_directory, \\\"my_models\\\"),\\n    \\\"PRETRAINED_MODEL_PATH\\\": os.path.join(parent_directory, \\\"pre-trained-models\\\"),\\n    \\\"CHECKPOINT_PATH\\\": os.path.join(parent_directory, \\\"my_models\\\", CUSTOM_MODEL_NAME),\\n    \\\"OUTPUT_PATH\\\": os.path.join(\\n        parent_directory, \\\"my_models\\\", CUSTOM_MODEL_NAME, \\\"export\\\"\\n    ),\\n    \\\"TFJS_PATH\\\": os.path.join(\\n        parent_directory, \\\"my_models\\\", CUSTOM_MODEL_NAME, \\\"tfjsexport\\\"\\n    ),\\n    \\\"TFLITE_PATH\\\": os.path.join(\\n        parent_directory, \\\"my_models\\\", CUSTOM_MODEL_NAME, \\\"tfliteexport\\\"\\n    ),\\n    \\\"PROTOC_PATH\\\": os.path.join(parent_directory, \\\"protoc\\\"),\\n}\";\n",
       "                var nbb_formatted_code = \"parent_directory = os.path.dirname(os.getcwd())\\npaths = {\\n    \\\"SRC_PATH\\\": os.path.join(parent_directory, \\\"src\\\"),\\n    \\\"DATA_PATH\\\": os.path.join(parent_directory, \\\"data\\\"),\\n    \\\"APIMODEL_PATH\\\": os.path.join(parent_directory, \\\"api_models\\\"),\\n    \\\"MODEL_PATH\\\": os.path.join(parent_directory, \\\"my_models\\\"),\\n    \\\"PRETRAINED_MODEL_PATH\\\": os.path.join(parent_directory, \\\"pre-trained-models\\\"),\\n    \\\"CHECKPOINT_PATH\\\": os.path.join(parent_directory, \\\"my_models\\\", CUSTOM_MODEL_NAME),\\n    \\\"OUTPUT_PATH\\\": os.path.join(\\n        parent_directory, \\\"my_models\\\", CUSTOM_MODEL_NAME, \\\"export\\\"\\n    ),\\n    \\\"TFJS_PATH\\\": os.path.join(\\n        parent_directory, \\\"my_models\\\", CUSTOM_MODEL_NAME, \\\"tfjsexport\\\"\\n    ),\\n    \\\"TFLITE_PATH\\\": os.path.join(\\n        parent_directory, \\\"my_models\\\", CUSTOM_MODEL_NAME, \\\"tfliteexport\\\"\\n    ),\\n    \\\"PROTOC_PATH\\\": os.path.join(parent_directory, \\\"protoc\\\"),\\n}\";\n",
       "                var nbb_cells = Jupyter.notebook.get_cells();\n",
       "                for (var i = 0; i < nbb_cells.length; ++i) {\n",
       "                    if (nbb_cells[i].input_prompt_number == nbb_cell_id) {\n",
       "                        if (nbb_cells[i].get_text() == nbb_unformatted_code) {\n",
       "                             nbb_cells[i].set_text(nbb_formatted_code);\n",
       "                        }\n",
       "                        break;\n",
       "                    }\n",
       "                }\n",
       "            }, 500);\n",
       "            "
      ],
      "text/plain": [
       "<IPython.core.display.Javascript object>"
      ]
     },
     "metadata": {},
     "output_type": "display_data"
    },
    {
     "data": {
      "application/javascript": [
       "\n",
       "            setTimeout(function() {\n",
       "                var nbb_cell_id = 216;\n",
       "                var nbb_unformatted_code = \"parent_directory = os.path.dirname(os.getcwd())\\npaths = {\\n    \\\"SRC_PATH\\\": os.path.join(parent_directory, \\\"src\\\"),\\n    \\\"DATA_PATH\\\": os.path.join(parent_directory, \\\"data\\\"),\\n    \\\"APIMODEL_PATH\\\": os.path.join(parent_directory, \\\"api_models\\\"),\\n    \\\"MODEL_PATH\\\": os.path.join(parent_directory, \\\"my_models\\\"),\\n    \\\"PRETRAINED_MODEL_PATH\\\": os.path.join(parent_directory, \\\"pre-trained-models\\\"),\\n    \\\"CHECKPOINT_PATH\\\": os.path.join(parent_directory, \\\"my_models\\\", CUSTOM_MODEL_NAME),\\n    \\\"OUTPUT_PATH\\\": os.path.join(\\n        parent_directory, \\\"my_models\\\", CUSTOM_MODEL_NAME, \\\"export\\\"\\n    ),\\n    \\\"TFJS_PATH\\\": os.path.join(\\n        parent_directory, \\\"my_models\\\", CUSTOM_MODEL_NAME, \\\"tfjsexport\\\"\\n    ),\\n    \\\"TFLITE_PATH\\\": os.path.join(\\n        parent_directory, \\\"my_models\\\", CUSTOM_MODEL_NAME, \\\"tfliteexport\\\"\\n    ),\\n    \\\"PROTOC_PATH\\\": os.path.join(parent_directory, \\\"protoc\\\"),\\n}\";\n",
       "                var nbb_formatted_code = \"parent_directory = os.path.dirname(os.getcwd())\\npaths = {\\n    \\\"SRC_PATH\\\": os.path.join(parent_directory, \\\"src\\\"),\\n    \\\"DATA_PATH\\\": os.path.join(parent_directory, \\\"data\\\"),\\n    \\\"APIMODEL_PATH\\\": os.path.join(parent_directory, \\\"api_models\\\"),\\n    \\\"MODEL_PATH\\\": os.path.join(parent_directory, \\\"my_models\\\"),\\n    \\\"PRETRAINED_MODEL_PATH\\\": os.path.join(parent_directory, \\\"pre-trained-models\\\"),\\n    \\\"CHECKPOINT_PATH\\\": os.path.join(parent_directory, \\\"my_models\\\", CUSTOM_MODEL_NAME),\\n    \\\"OUTPUT_PATH\\\": os.path.join(\\n        parent_directory, \\\"my_models\\\", CUSTOM_MODEL_NAME, \\\"export\\\"\\n    ),\\n    \\\"TFJS_PATH\\\": os.path.join(\\n        parent_directory, \\\"my_models\\\", CUSTOM_MODEL_NAME, \\\"tfjsexport\\\"\\n    ),\\n    \\\"TFLITE_PATH\\\": os.path.join(\\n        parent_directory, \\\"my_models\\\", CUSTOM_MODEL_NAME, \\\"tfliteexport\\\"\\n    ),\\n    \\\"PROTOC_PATH\\\": os.path.join(parent_directory, \\\"protoc\\\"),\\n}\";\n",
       "                var nbb_cells = Jupyter.notebook.get_cells();\n",
       "                for (var i = 0; i < nbb_cells.length; ++i) {\n",
       "                    if (nbb_cells[i].input_prompt_number == nbb_cell_id) {\n",
       "                        if (nbb_cells[i].get_text() == nbb_unformatted_code) {\n",
       "                             nbb_cells[i].set_text(nbb_formatted_code);\n",
       "                        }\n",
       "                        break;\n",
       "                    }\n",
       "                }\n",
       "            }, 500);\n",
       "            "
      ],
      "text/plain": [
       "<IPython.core.display.Javascript object>"
      ]
     },
     "metadata": {},
     "output_type": "display_data"
    },
    {
     "data": {
      "application/javascript": [
       "\n",
       "            setTimeout(function() {\n",
       "                var nbb_cell_id = 216;\n",
       "                var nbb_unformatted_code = \"parent_directory = os.path.dirname(os.getcwd())\\npaths = {\\n    \\\"SRC_PATH\\\": os.path.join(parent_directory, \\\"src\\\"),\\n    \\\"DATA_PATH\\\": os.path.join(parent_directory, \\\"data\\\"),\\n    \\\"APIMODEL_PATH\\\": os.path.join(parent_directory, \\\"api_models\\\"),\\n    \\\"MODEL_PATH\\\": os.path.join(parent_directory, \\\"my_models\\\"),\\n    \\\"PRETRAINED_MODEL_PATH\\\": os.path.join(parent_directory, \\\"pre-trained-models\\\"),\\n    \\\"CHECKPOINT_PATH\\\": os.path.join(parent_directory, \\\"my_models\\\", CUSTOM_MODEL_NAME),\\n    \\\"OUTPUT_PATH\\\": os.path.join(\\n        parent_directory, \\\"my_models\\\", CUSTOM_MODEL_NAME, \\\"export\\\"\\n    ),\\n    \\\"TFJS_PATH\\\": os.path.join(\\n        parent_directory, \\\"my_models\\\", CUSTOM_MODEL_NAME, \\\"tfjsexport\\\"\\n    ),\\n    \\\"TFLITE_PATH\\\": os.path.join(\\n        parent_directory, \\\"my_models\\\", CUSTOM_MODEL_NAME, \\\"tfliteexport\\\"\\n    ),\\n    \\\"PROTOC_PATH\\\": os.path.join(parent_directory, \\\"protoc\\\"),\\n}\";\n",
       "                var nbb_formatted_code = \"parent_directory = os.path.dirname(os.getcwd())\\npaths = {\\n    \\\"SRC_PATH\\\": os.path.join(parent_directory, \\\"src\\\"),\\n    \\\"DATA_PATH\\\": os.path.join(parent_directory, \\\"data\\\"),\\n    \\\"APIMODEL_PATH\\\": os.path.join(parent_directory, \\\"api_models\\\"),\\n    \\\"MODEL_PATH\\\": os.path.join(parent_directory, \\\"my_models\\\"),\\n    \\\"PRETRAINED_MODEL_PATH\\\": os.path.join(parent_directory, \\\"pre-trained-models\\\"),\\n    \\\"CHECKPOINT_PATH\\\": os.path.join(parent_directory, \\\"my_models\\\", CUSTOM_MODEL_NAME),\\n    \\\"OUTPUT_PATH\\\": os.path.join(\\n        parent_directory, \\\"my_models\\\", CUSTOM_MODEL_NAME, \\\"export\\\"\\n    ),\\n    \\\"TFJS_PATH\\\": os.path.join(\\n        parent_directory, \\\"my_models\\\", CUSTOM_MODEL_NAME, \\\"tfjsexport\\\"\\n    ),\\n    \\\"TFLITE_PATH\\\": os.path.join(\\n        parent_directory, \\\"my_models\\\", CUSTOM_MODEL_NAME, \\\"tfliteexport\\\"\\n    ),\\n    \\\"PROTOC_PATH\\\": os.path.join(parent_directory, \\\"protoc\\\"),\\n}\";\n",
       "                var nbb_cells = Jupyter.notebook.get_cells();\n",
       "                for (var i = 0; i < nbb_cells.length; ++i) {\n",
       "                    if (nbb_cells[i].input_prompt_number == nbb_cell_id) {\n",
       "                        if (nbb_cells[i].get_text() == nbb_unformatted_code) {\n",
       "                             nbb_cells[i].set_text(nbb_formatted_code);\n",
       "                        }\n",
       "                        break;\n",
       "                    }\n",
       "                }\n",
       "            }, 500);\n",
       "            "
      ],
      "text/plain": [
       "<IPython.core.display.Javascript object>"
      ]
     },
     "metadata": {},
     "output_type": "display_data"
    }
   ],
   "source": [
    "parent_directory = os.path.dirname(os.getcwd())\n",
    "paths = {\n",
    "    \"SRC_PATH\": os.path.join(parent_directory, \"src\"),\n",
    "    \"DATA_PATH\": os.path.join(parent_directory, \"data\"),\n",
    "    \"APIMODEL_PATH\": os.path.join(parent_directory, \"api_models\"),\n",
    "    \"MODEL_PATH\": os.path.join(parent_directory, \"my_models\"),\n",
    "    \"PRETRAINED_MODEL_PATH\": os.path.join(parent_directory, \"pre-trained-models\"),\n",
    "    \"CHECKPOINT_PATH\": os.path.join(parent_directory, \"my_models\", CUSTOM_MODEL_NAME),\n",
    "    \"OUTPUT_PATH\": os.path.join(\n",
    "        parent_directory, \"my_models\", CUSTOM_MODEL_NAME, \"export\"\n",
    "    ),\n",
    "    \"TFJS_PATH\": os.path.join(\n",
    "        parent_directory, \"my_models\", CUSTOM_MODEL_NAME, \"tfjsexport\"\n",
    "    ),\n",
    "    \"TFLITE_PATH\": os.path.join(\n",
    "        parent_directory, \"my_models\", CUSTOM_MODEL_NAME, \"tfliteexport\"\n",
    "    ),\n",
    "    \"PROTOC_PATH\": os.path.join(parent_directory, \"protoc\"),\n",
    "}"
   ]
  },
  {
   "cell_type": "code",
   "execution_count": 217,
   "id": "c62152f3",
   "metadata": {},
   "outputs": [
    {
     "data": {
      "application/javascript": [
       "\n",
       "            setTimeout(function() {\n",
       "                var nbb_cell_id = 217;\n",
       "                var nbb_unformatted_code = \"files = {\\n    \\\"PIPELINE_CONFIG\\\": os.path.join(\\n        parent_directory, \\\"my_models\\\", CUSTOM_MODEL_NAME, \\\"pipeline.config\\\"\\n    ),\\n    \\\"TF_RECORD_SCRIPT\\\": os.path.join(paths[\\\"DATA_PATH\\\"], TF_RECORD_SCRIPT_NAME),\\n    \\\"LABELMAP\\\": os.path.join(paths[\\\"DATA_PATH\\\"], LABEL_MAP_NAME),\\n}\";\n",
       "                var nbb_formatted_code = \"files = {\\n    \\\"PIPELINE_CONFIG\\\": os.path.join(\\n        parent_directory, \\\"my_models\\\", CUSTOM_MODEL_NAME, \\\"pipeline.config\\\"\\n    ),\\n    \\\"TF_RECORD_SCRIPT\\\": os.path.join(paths[\\\"DATA_PATH\\\"], TF_RECORD_SCRIPT_NAME),\\n    \\\"LABELMAP\\\": os.path.join(paths[\\\"DATA_PATH\\\"], LABEL_MAP_NAME),\\n}\";\n",
       "                var nbb_cells = Jupyter.notebook.get_cells();\n",
       "                for (var i = 0; i < nbb_cells.length; ++i) {\n",
       "                    if (nbb_cells[i].input_prompt_number == nbb_cell_id) {\n",
       "                        if (nbb_cells[i].get_text() == nbb_unformatted_code) {\n",
       "                             nbb_cells[i].set_text(nbb_formatted_code);\n",
       "                        }\n",
       "                        break;\n",
       "                    }\n",
       "                }\n",
       "            }, 500);\n",
       "            "
      ],
      "text/plain": [
       "<IPython.core.display.Javascript object>"
      ]
     },
     "metadata": {},
     "output_type": "display_data"
    },
    {
     "data": {
      "application/javascript": [
       "\n",
       "            setTimeout(function() {\n",
       "                var nbb_cell_id = 217;\n",
       "                var nbb_unformatted_code = \"files = {\\n    \\\"PIPELINE_CONFIG\\\": os.path.join(\\n        parent_directory, \\\"my_models\\\", CUSTOM_MODEL_NAME, \\\"pipeline.config\\\"\\n    ),\\n    \\\"TF_RECORD_SCRIPT\\\": os.path.join(paths[\\\"DATA_PATH\\\"], TF_RECORD_SCRIPT_NAME),\\n    \\\"LABELMAP\\\": os.path.join(paths[\\\"DATA_PATH\\\"], LABEL_MAP_NAME),\\n}\";\n",
       "                var nbb_formatted_code = \"files = {\\n    \\\"PIPELINE_CONFIG\\\": os.path.join(\\n        parent_directory, \\\"my_models\\\", CUSTOM_MODEL_NAME, \\\"pipeline.config\\\"\\n    ),\\n    \\\"TF_RECORD_SCRIPT\\\": os.path.join(paths[\\\"DATA_PATH\\\"], TF_RECORD_SCRIPT_NAME),\\n    \\\"LABELMAP\\\": os.path.join(paths[\\\"DATA_PATH\\\"], LABEL_MAP_NAME),\\n}\";\n",
       "                var nbb_cells = Jupyter.notebook.get_cells();\n",
       "                for (var i = 0; i < nbb_cells.length; ++i) {\n",
       "                    if (nbb_cells[i].input_prompt_number == nbb_cell_id) {\n",
       "                        if (nbb_cells[i].get_text() == nbb_unformatted_code) {\n",
       "                             nbb_cells[i].set_text(nbb_formatted_code);\n",
       "                        }\n",
       "                        break;\n",
       "                    }\n",
       "                }\n",
       "            }, 500);\n",
       "            "
      ],
      "text/plain": [
       "<IPython.core.display.Javascript object>"
      ]
     },
     "metadata": {},
     "output_type": "display_data"
    },
    {
     "data": {
      "application/javascript": [
       "\n",
       "            setTimeout(function() {\n",
       "                var nbb_cell_id = 217;\n",
       "                var nbb_unformatted_code = \"files = {\\n    \\\"PIPELINE_CONFIG\\\": os.path.join(\\n        parent_directory, \\\"my_models\\\", CUSTOM_MODEL_NAME, \\\"pipeline.config\\\"\\n    ),\\n    \\\"TF_RECORD_SCRIPT\\\": os.path.join(paths[\\\"DATA_PATH\\\"], TF_RECORD_SCRIPT_NAME),\\n    \\\"LABELMAP\\\": os.path.join(paths[\\\"DATA_PATH\\\"], LABEL_MAP_NAME),\\n}\";\n",
       "                var nbb_formatted_code = \"files = {\\n    \\\"PIPELINE_CONFIG\\\": os.path.join(\\n        parent_directory, \\\"my_models\\\", CUSTOM_MODEL_NAME, \\\"pipeline.config\\\"\\n    ),\\n    \\\"TF_RECORD_SCRIPT\\\": os.path.join(paths[\\\"DATA_PATH\\\"], TF_RECORD_SCRIPT_NAME),\\n    \\\"LABELMAP\\\": os.path.join(paths[\\\"DATA_PATH\\\"], LABEL_MAP_NAME),\\n}\";\n",
       "                var nbb_cells = Jupyter.notebook.get_cells();\n",
       "                for (var i = 0; i < nbb_cells.length; ++i) {\n",
       "                    if (nbb_cells[i].input_prompt_number == nbb_cell_id) {\n",
       "                        if (nbb_cells[i].get_text() == nbb_unformatted_code) {\n",
       "                             nbb_cells[i].set_text(nbb_formatted_code);\n",
       "                        }\n",
       "                        break;\n",
       "                    }\n",
       "                }\n",
       "            }, 500);\n",
       "            "
      ],
      "text/plain": [
       "<IPython.core.display.Javascript object>"
      ]
     },
     "metadata": {},
     "output_type": "display_data"
    },
    {
     "data": {
      "application/javascript": [
       "\n",
       "            setTimeout(function() {\n",
       "                var nbb_cell_id = 217;\n",
       "                var nbb_unformatted_code = \"files = {\\n    \\\"PIPELINE_CONFIG\\\": os.path.join(\\n        parent_directory, \\\"my_models\\\", CUSTOM_MODEL_NAME, \\\"pipeline.config\\\"\\n    ),\\n    \\\"TF_RECORD_SCRIPT\\\": os.path.join(paths[\\\"DATA_PATH\\\"], TF_RECORD_SCRIPT_NAME),\\n    \\\"LABELMAP\\\": os.path.join(paths[\\\"DATA_PATH\\\"], LABEL_MAP_NAME),\\n}\";\n",
       "                var nbb_formatted_code = \"files = {\\n    \\\"PIPELINE_CONFIG\\\": os.path.join(\\n        parent_directory, \\\"my_models\\\", CUSTOM_MODEL_NAME, \\\"pipeline.config\\\"\\n    ),\\n    \\\"TF_RECORD_SCRIPT\\\": os.path.join(paths[\\\"DATA_PATH\\\"], TF_RECORD_SCRIPT_NAME),\\n    \\\"LABELMAP\\\": os.path.join(paths[\\\"DATA_PATH\\\"], LABEL_MAP_NAME),\\n}\";\n",
       "                var nbb_cells = Jupyter.notebook.get_cells();\n",
       "                for (var i = 0; i < nbb_cells.length; ++i) {\n",
       "                    if (nbb_cells[i].input_prompt_number == nbb_cell_id) {\n",
       "                        if (nbb_cells[i].get_text() == nbb_unformatted_code) {\n",
       "                             nbb_cells[i].set_text(nbb_formatted_code);\n",
       "                        }\n",
       "                        break;\n",
       "                    }\n",
       "                }\n",
       "            }, 500);\n",
       "            "
      ],
      "text/plain": [
       "<IPython.core.display.Javascript object>"
      ]
     },
     "metadata": {},
     "output_type": "display_data"
    },
    {
     "data": {
      "application/javascript": [
       "\n",
       "            setTimeout(function() {\n",
       "                var nbb_cell_id = 217;\n",
       "                var nbb_unformatted_code = \"files = {\\n    \\\"PIPELINE_CONFIG\\\": os.path.join(\\n        parent_directory, \\\"my_models\\\", CUSTOM_MODEL_NAME, \\\"pipeline.config\\\"\\n    ),\\n    \\\"TF_RECORD_SCRIPT\\\": os.path.join(paths[\\\"DATA_PATH\\\"], TF_RECORD_SCRIPT_NAME),\\n    \\\"LABELMAP\\\": os.path.join(paths[\\\"DATA_PATH\\\"], LABEL_MAP_NAME),\\n}\";\n",
       "                var nbb_formatted_code = \"files = {\\n    \\\"PIPELINE_CONFIG\\\": os.path.join(\\n        parent_directory, \\\"my_models\\\", CUSTOM_MODEL_NAME, \\\"pipeline.config\\\"\\n    ),\\n    \\\"TF_RECORD_SCRIPT\\\": os.path.join(paths[\\\"DATA_PATH\\\"], TF_RECORD_SCRIPT_NAME),\\n    \\\"LABELMAP\\\": os.path.join(paths[\\\"DATA_PATH\\\"], LABEL_MAP_NAME),\\n}\";\n",
       "                var nbb_cells = Jupyter.notebook.get_cells();\n",
       "                for (var i = 0; i < nbb_cells.length; ++i) {\n",
       "                    if (nbb_cells[i].input_prompt_number == nbb_cell_id) {\n",
       "                        if (nbb_cells[i].get_text() == nbb_unformatted_code) {\n",
       "                             nbb_cells[i].set_text(nbb_formatted_code);\n",
       "                        }\n",
       "                        break;\n",
       "                    }\n",
       "                }\n",
       "            }, 500);\n",
       "            "
      ],
      "text/plain": [
       "<IPython.core.display.Javascript object>"
      ]
     },
     "metadata": {},
     "output_type": "display_data"
    },
    {
     "data": {
      "application/javascript": [
       "\n",
       "            setTimeout(function() {\n",
       "                var nbb_cell_id = 217;\n",
       "                var nbb_unformatted_code = \"files = {\\n    \\\"PIPELINE_CONFIG\\\": os.path.join(\\n        parent_directory, \\\"my_models\\\", CUSTOM_MODEL_NAME, \\\"pipeline.config\\\"\\n    ),\\n    \\\"TF_RECORD_SCRIPT\\\": os.path.join(paths[\\\"DATA_PATH\\\"], TF_RECORD_SCRIPT_NAME),\\n    \\\"LABELMAP\\\": os.path.join(paths[\\\"DATA_PATH\\\"], LABEL_MAP_NAME),\\n}\";\n",
       "                var nbb_formatted_code = \"files = {\\n    \\\"PIPELINE_CONFIG\\\": os.path.join(\\n        parent_directory, \\\"my_models\\\", CUSTOM_MODEL_NAME, \\\"pipeline.config\\\"\\n    ),\\n    \\\"TF_RECORD_SCRIPT\\\": os.path.join(paths[\\\"DATA_PATH\\\"], TF_RECORD_SCRIPT_NAME),\\n    \\\"LABELMAP\\\": os.path.join(paths[\\\"DATA_PATH\\\"], LABEL_MAP_NAME),\\n}\";\n",
       "                var nbb_cells = Jupyter.notebook.get_cells();\n",
       "                for (var i = 0; i < nbb_cells.length; ++i) {\n",
       "                    if (nbb_cells[i].input_prompt_number == nbb_cell_id) {\n",
       "                        if (nbb_cells[i].get_text() == nbb_unformatted_code) {\n",
       "                             nbb_cells[i].set_text(nbb_formatted_code);\n",
       "                        }\n",
       "                        break;\n",
       "                    }\n",
       "                }\n",
       "            }, 500);\n",
       "            "
      ],
      "text/plain": [
       "<IPython.core.display.Javascript object>"
      ]
     },
     "metadata": {},
     "output_type": "display_data"
    },
    {
     "data": {
      "application/javascript": [
       "\n",
       "            setTimeout(function() {\n",
       "                var nbb_cell_id = 217;\n",
       "                var nbb_unformatted_code = \"files = {\\n    \\\"PIPELINE_CONFIG\\\": os.path.join(\\n        parent_directory, \\\"my_models\\\", CUSTOM_MODEL_NAME, \\\"pipeline.config\\\"\\n    ),\\n    \\\"TF_RECORD_SCRIPT\\\": os.path.join(paths[\\\"DATA_PATH\\\"], TF_RECORD_SCRIPT_NAME),\\n    \\\"LABELMAP\\\": os.path.join(paths[\\\"DATA_PATH\\\"], LABEL_MAP_NAME),\\n}\";\n",
       "                var nbb_formatted_code = \"files = {\\n    \\\"PIPELINE_CONFIG\\\": os.path.join(\\n        parent_directory, \\\"my_models\\\", CUSTOM_MODEL_NAME, \\\"pipeline.config\\\"\\n    ),\\n    \\\"TF_RECORD_SCRIPT\\\": os.path.join(paths[\\\"DATA_PATH\\\"], TF_RECORD_SCRIPT_NAME),\\n    \\\"LABELMAP\\\": os.path.join(paths[\\\"DATA_PATH\\\"], LABEL_MAP_NAME),\\n}\";\n",
       "                var nbb_cells = Jupyter.notebook.get_cells();\n",
       "                for (var i = 0; i < nbb_cells.length; ++i) {\n",
       "                    if (nbb_cells[i].input_prompt_number == nbb_cell_id) {\n",
       "                        if (nbb_cells[i].get_text() == nbb_unformatted_code) {\n",
       "                             nbb_cells[i].set_text(nbb_formatted_code);\n",
       "                        }\n",
       "                        break;\n",
       "                    }\n",
       "                }\n",
       "            }, 500);\n",
       "            "
      ],
      "text/plain": [
       "<IPython.core.display.Javascript object>"
      ]
     },
     "metadata": {},
     "output_type": "display_data"
    },
    {
     "data": {
      "application/javascript": [
       "\n",
       "            setTimeout(function() {\n",
       "                var nbb_cell_id = 217;\n",
       "                var nbb_unformatted_code = \"files = {\\n    \\\"PIPELINE_CONFIG\\\": os.path.join(\\n        parent_directory, \\\"my_models\\\", CUSTOM_MODEL_NAME, \\\"pipeline.config\\\"\\n    ),\\n    \\\"TF_RECORD_SCRIPT\\\": os.path.join(paths[\\\"DATA_PATH\\\"], TF_RECORD_SCRIPT_NAME),\\n    \\\"LABELMAP\\\": os.path.join(paths[\\\"DATA_PATH\\\"], LABEL_MAP_NAME),\\n}\";\n",
       "                var nbb_formatted_code = \"files = {\\n    \\\"PIPELINE_CONFIG\\\": os.path.join(\\n        parent_directory, \\\"my_models\\\", CUSTOM_MODEL_NAME, \\\"pipeline.config\\\"\\n    ),\\n    \\\"TF_RECORD_SCRIPT\\\": os.path.join(paths[\\\"DATA_PATH\\\"], TF_RECORD_SCRIPT_NAME),\\n    \\\"LABELMAP\\\": os.path.join(paths[\\\"DATA_PATH\\\"], LABEL_MAP_NAME),\\n}\";\n",
       "                var nbb_cells = Jupyter.notebook.get_cells();\n",
       "                for (var i = 0; i < nbb_cells.length; ++i) {\n",
       "                    if (nbb_cells[i].input_prompt_number == nbb_cell_id) {\n",
       "                        if (nbb_cells[i].get_text() == nbb_unformatted_code) {\n",
       "                             nbb_cells[i].set_text(nbb_formatted_code);\n",
       "                        }\n",
       "                        break;\n",
       "                    }\n",
       "                }\n",
       "            }, 500);\n",
       "            "
      ],
      "text/plain": [
       "<IPython.core.display.Javascript object>"
      ]
     },
     "metadata": {},
     "output_type": "display_data"
    },
    {
     "data": {
      "application/javascript": [
       "\n",
       "            setTimeout(function() {\n",
       "                var nbb_cell_id = 217;\n",
       "                var nbb_unformatted_code = \"files = {\\n    \\\"PIPELINE_CONFIG\\\": os.path.join(\\n        parent_directory, \\\"my_models\\\", CUSTOM_MODEL_NAME, \\\"pipeline.config\\\"\\n    ),\\n    \\\"TF_RECORD_SCRIPT\\\": os.path.join(paths[\\\"DATA_PATH\\\"], TF_RECORD_SCRIPT_NAME),\\n    \\\"LABELMAP\\\": os.path.join(paths[\\\"DATA_PATH\\\"], LABEL_MAP_NAME),\\n}\";\n",
       "                var nbb_formatted_code = \"files = {\\n    \\\"PIPELINE_CONFIG\\\": os.path.join(\\n        parent_directory, \\\"my_models\\\", CUSTOM_MODEL_NAME, \\\"pipeline.config\\\"\\n    ),\\n    \\\"TF_RECORD_SCRIPT\\\": os.path.join(paths[\\\"DATA_PATH\\\"], TF_RECORD_SCRIPT_NAME),\\n    \\\"LABELMAP\\\": os.path.join(paths[\\\"DATA_PATH\\\"], LABEL_MAP_NAME),\\n}\";\n",
       "                var nbb_cells = Jupyter.notebook.get_cells();\n",
       "                for (var i = 0; i < nbb_cells.length; ++i) {\n",
       "                    if (nbb_cells[i].input_prompt_number == nbb_cell_id) {\n",
       "                        if (nbb_cells[i].get_text() == nbb_unformatted_code) {\n",
       "                             nbb_cells[i].set_text(nbb_formatted_code);\n",
       "                        }\n",
       "                        break;\n",
       "                    }\n",
       "                }\n",
       "            }, 500);\n",
       "            "
      ],
      "text/plain": [
       "<IPython.core.display.Javascript object>"
      ]
     },
     "metadata": {},
     "output_type": "display_data"
    },
    {
     "data": {
      "application/javascript": [
       "\n",
       "            setTimeout(function() {\n",
       "                var nbb_cell_id = 217;\n",
       "                var nbb_unformatted_code = \"files = {\\n    \\\"PIPELINE_CONFIG\\\": os.path.join(\\n        parent_directory, \\\"my_models\\\", CUSTOM_MODEL_NAME, \\\"pipeline.config\\\"\\n    ),\\n    \\\"TF_RECORD_SCRIPT\\\": os.path.join(paths[\\\"DATA_PATH\\\"], TF_RECORD_SCRIPT_NAME),\\n    \\\"LABELMAP\\\": os.path.join(paths[\\\"DATA_PATH\\\"], LABEL_MAP_NAME),\\n}\";\n",
       "                var nbb_formatted_code = \"files = {\\n    \\\"PIPELINE_CONFIG\\\": os.path.join(\\n        parent_directory, \\\"my_models\\\", CUSTOM_MODEL_NAME, \\\"pipeline.config\\\"\\n    ),\\n    \\\"TF_RECORD_SCRIPT\\\": os.path.join(paths[\\\"DATA_PATH\\\"], TF_RECORD_SCRIPT_NAME),\\n    \\\"LABELMAP\\\": os.path.join(paths[\\\"DATA_PATH\\\"], LABEL_MAP_NAME),\\n}\";\n",
       "                var nbb_cells = Jupyter.notebook.get_cells();\n",
       "                for (var i = 0; i < nbb_cells.length; ++i) {\n",
       "                    if (nbb_cells[i].input_prompt_number == nbb_cell_id) {\n",
       "                        if (nbb_cells[i].get_text() == nbb_unformatted_code) {\n",
       "                             nbb_cells[i].set_text(nbb_formatted_code);\n",
       "                        }\n",
       "                        break;\n",
       "                    }\n",
       "                }\n",
       "            }, 500);\n",
       "            "
      ],
      "text/plain": [
       "<IPython.core.display.Javascript object>"
      ]
     },
     "metadata": {},
     "output_type": "display_data"
    }
   ],
   "source": [
    "files = {\n",
    "    \"PIPELINE_CONFIG\": os.path.join(\n",
    "        parent_directory, \"my_models\", CUSTOM_MODEL_NAME, \"pipeline.config\"\n",
    "    ),\n",
    "    \"TF_RECORD_SCRIPT\": os.path.join(paths[\"DATA_PATH\"], TF_RECORD_SCRIPT_NAME),\n",
    "    \"LABELMAP\": os.path.join(paths[\"DATA_PATH\"], LABEL_MAP_NAME),\n",
    "}"
   ]
  },
  {
   "cell_type": "code",
   "execution_count": 218,
   "id": "57f383e0",
   "metadata": {},
   "outputs": [
    {
     "data": {
      "application/javascript": [
       "\n",
       "            setTimeout(function() {\n",
       "                var nbb_cell_id = 218;\n",
       "                var nbb_unformatted_code = \"for path in paths.values():\\n    if not os.path.exists(path):\\n        if os.name == \\\"posix\\\":\\n            !mkdir -p {path}\\n        if os.name == \\\"nt\\\":\\n            !mkdir {path}\";\n",
       "                var nbb_formatted_code = \"for path in paths.values():\\n    if not os.path.exists(path):\\n        if os.name == \\\"posix\\\":\\n            !mkdir -p {path}\\n        if os.name == \\\"nt\\\":\\n            !mkdir {path}\";\n",
       "                var nbb_cells = Jupyter.notebook.get_cells();\n",
       "                for (var i = 0; i < nbb_cells.length; ++i) {\n",
       "                    if (nbb_cells[i].input_prompt_number == nbb_cell_id) {\n",
       "                        if (nbb_cells[i].get_text() == nbb_unformatted_code) {\n",
       "                             nbb_cells[i].set_text(nbb_formatted_code);\n",
       "                        }\n",
       "                        break;\n",
       "                    }\n",
       "                }\n",
       "            }, 500);\n",
       "            "
      ],
      "text/plain": [
       "<IPython.core.display.Javascript object>"
      ]
     },
     "metadata": {},
     "output_type": "display_data"
    },
    {
     "data": {
      "application/javascript": [
       "\n",
       "            setTimeout(function() {\n",
       "                var nbb_cell_id = 218;\n",
       "                var nbb_unformatted_code = \"for path in paths.values():\\n    if not os.path.exists(path):\\n        if os.name == \\\"posix\\\":\\n            !mkdir -p {path}\\n        if os.name == \\\"nt\\\":\\n            !mkdir {path}\";\n",
       "                var nbb_formatted_code = \"for path in paths.values():\\n    if not os.path.exists(path):\\n        if os.name == \\\"posix\\\":\\n            !mkdir -p {path}\\n        if os.name == \\\"nt\\\":\\n            !mkdir {path}\";\n",
       "                var nbb_cells = Jupyter.notebook.get_cells();\n",
       "                for (var i = 0; i < nbb_cells.length; ++i) {\n",
       "                    if (nbb_cells[i].input_prompt_number == nbb_cell_id) {\n",
       "                        if (nbb_cells[i].get_text() == nbb_unformatted_code) {\n",
       "                             nbb_cells[i].set_text(nbb_formatted_code);\n",
       "                        }\n",
       "                        break;\n",
       "                    }\n",
       "                }\n",
       "            }, 500);\n",
       "            "
      ],
      "text/plain": [
       "<IPython.core.display.Javascript object>"
      ]
     },
     "metadata": {},
     "output_type": "display_data"
    },
    {
     "data": {
      "application/javascript": [
       "\n",
       "            setTimeout(function() {\n",
       "                var nbb_cell_id = 218;\n",
       "                var nbb_unformatted_code = \"for path in paths.values():\\n    if not os.path.exists(path):\\n        if os.name == \\\"posix\\\":\\n            !mkdir -p {path}\\n        if os.name == \\\"nt\\\":\\n            !mkdir {path}\";\n",
       "                var nbb_formatted_code = \"for path in paths.values():\\n    if not os.path.exists(path):\\n        if os.name == \\\"posix\\\":\\n            !mkdir -p {path}\\n        if os.name == \\\"nt\\\":\\n            !mkdir {path}\";\n",
       "                var nbb_cells = Jupyter.notebook.get_cells();\n",
       "                for (var i = 0; i < nbb_cells.length; ++i) {\n",
       "                    if (nbb_cells[i].input_prompt_number == nbb_cell_id) {\n",
       "                        if (nbb_cells[i].get_text() == nbb_unformatted_code) {\n",
       "                             nbb_cells[i].set_text(nbb_formatted_code);\n",
       "                        }\n",
       "                        break;\n",
       "                    }\n",
       "                }\n",
       "            }, 500);\n",
       "            "
      ],
      "text/plain": [
       "<IPython.core.display.Javascript object>"
      ]
     },
     "metadata": {},
     "output_type": "display_data"
    },
    {
     "data": {
      "application/javascript": [
       "\n",
       "            setTimeout(function() {\n",
       "                var nbb_cell_id = 218;\n",
       "                var nbb_unformatted_code = \"for path in paths.values():\\n    if not os.path.exists(path):\\n        if os.name == \\\"posix\\\":\\n            !mkdir -p {path}\\n        if os.name == \\\"nt\\\":\\n            !mkdir {path}\";\n",
       "                var nbb_formatted_code = \"for path in paths.values():\\n    if not os.path.exists(path):\\n        if os.name == \\\"posix\\\":\\n            !mkdir -p {path}\\n        if os.name == \\\"nt\\\":\\n            !mkdir {path}\";\n",
       "                var nbb_cells = Jupyter.notebook.get_cells();\n",
       "                for (var i = 0; i < nbb_cells.length; ++i) {\n",
       "                    if (nbb_cells[i].input_prompt_number == nbb_cell_id) {\n",
       "                        if (nbb_cells[i].get_text() == nbb_unformatted_code) {\n",
       "                             nbb_cells[i].set_text(nbb_formatted_code);\n",
       "                        }\n",
       "                        break;\n",
       "                    }\n",
       "                }\n",
       "            }, 500);\n",
       "            "
      ],
      "text/plain": [
       "<IPython.core.display.Javascript object>"
      ]
     },
     "metadata": {},
     "output_type": "display_data"
    },
    {
     "data": {
      "application/javascript": [
       "\n",
       "            setTimeout(function() {\n",
       "                var nbb_cell_id = 218;\n",
       "                var nbb_unformatted_code = \"for path in paths.values():\\n    if not os.path.exists(path):\\n        if os.name == \\\"posix\\\":\\n            !mkdir -p {path}\\n        if os.name == \\\"nt\\\":\\n            !mkdir {path}\";\n",
       "                var nbb_formatted_code = \"for path in paths.values():\\n    if not os.path.exists(path):\\n        if os.name == \\\"posix\\\":\\n            !mkdir -p {path}\\n        if os.name == \\\"nt\\\":\\n            !mkdir {path}\";\n",
       "                var nbb_cells = Jupyter.notebook.get_cells();\n",
       "                for (var i = 0; i < nbb_cells.length; ++i) {\n",
       "                    if (nbb_cells[i].input_prompt_number == nbb_cell_id) {\n",
       "                        if (nbb_cells[i].get_text() == nbb_unformatted_code) {\n",
       "                             nbb_cells[i].set_text(nbb_formatted_code);\n",
       "                        }\n",
       "                        break;\n",
       "                    }\n",
       "                }\n",
       "            }, 500);\n",
       "            "
      ],
      "text/plain": [
       "<IPython.core.display.Javascript object>"
      ]
     },
     "metadata": {},
     "output_type": "display_data"
    },
    {
     "data": {
      "application/javascript": [
       "\n",
       "            setTimeout(function() {\n",
       "                var nbb_cell_id = 218;\n",
       "                var nbb_unformatted_code = \"for path in paths.values():\\n    if not os.path.exists(path):\\n        if os.name == \\\"posix\\\":\\n            !mkdir -p {path}\\n        if os.name == \\\"nt\\\":\\n            !mkdir {path}\";\n",
       "                var nbb_formatted_code = \"for path in paths.values():\\n    if not os.path.exists(path):\\n        if os.name == \\\"posix\\\":\\n            !mkdir -p {path}\\n        if os.name == \\\"nt\\\":\\n            !mkdir {path}\";\n",
       "                var nbb_cells = Jupyter.notebook.get_cells();\n",
       "                for (var i = 0; i < nbb_cells.length; ++i) {\n",
       "                    if (nbb_cells[i].input_prompt_number == nbb_cell_id) {\n",
       "                        if (nbb_cells[i].get_text() == nbb_unformatted_code) {\n",
       "                             nbb_cells[i].set_text(nbb_formatted_code);\n",
       "                        }\n",
       "                        break;\n",
       "                    }\n",
       "                }\n",
       "            }, 500);\n",
       "            "
      ],
      "text/plain": [
       "<IPython.core.display.Javascript object>"
      ]
     },
     "metadata": {},
     "output_type": "display_data"
    },
    {
     "data": {
      "application/javascript": [
       "\n",
       "            setTimeout(function() {\n",
       "                var nbb_cell_id = 218;\n",
       "                var nbb_unformatted_code = \"for path in paths.values():\\n    if not os.path.exists(path):\\n        if os.name == \\\"posix\\\":\\n            !mkdir -p {path}\\n        if os.name == \\\"nt\\\":\\n            !mkdir {path}\";\n",
       "                var nbb_formatted_code = \"for path in paths.values():\\n    if not os.path.exists(path):\\n        if os.name == \\\"posix\\\":\\n            !mkdir -p {path}\\n        if os.name == \\\"nt\\\":\\n            !mkdir {path}\";\n",
       "                var nbb_cells = Jupyter.notebook.get_cells();\n",
       "                for (var i = 0; i < nbb_cells.length; ++i) {\n",
       "                    if (nbb_cells[i].input_prompt_number == nbb_cell_id) {\n",
       "                        if (nbb_cells[i].get_text() == nbb_unformatted_code) {\n",
       "                             nbb_cells[i].set_text(nbb_formatted_code);\n",
       "                        }\n",
       "                        break;\n",
       "                    }\n",
       "                }\n",
       "            }, 500);\n",
       "            "
      ],
      "text/plain": [
       "<IPython.core.display.Javascript object>"
      ]
     },
     "metadata": {},
     "output_type": "display_data"
    },
    {
     "data": {
      "application/javascript": [
       "\n",
       "            setTimeout(function() {\n",
       "                var nbb_cell_id = 218;\n",
       "                var nbb_unformatted_code = \"for path in paths.values():\\n    if not os.path.exists(path):\\n        if os.name == \\\"posix\\\":\\n            !mkdir -p {path}\\n        if os.name == \\\"nt\\\":\\n            !mkdir {path}\";\n",
       "                var nbb_formatted_code = \"for path in paths.values():\\n    if not os.path.exists(path):\\n        if os.name == \\\"posix\\\":\\n            !mkdir -p {path}\\n        if os.name == \\\"nt\\\":\\n            !mkdir {path}\";\n",
       "                var nbb_cells = Jupyter.notebook.get_cells();\n",
       "                for (var i = 0; i < nbb_cells.length; ++i) {\n",
       "                    if (nbb_cells[i].input_prompt_number == nbb_cell_id) {\n",
       "                        if (nbb_cells[i].get_text() == nbb_unformatted_code) {\n",
       "                             nbb_cells[i].set_text(nbb_formatted_code);\n",
       "                        }\n",
       "                        break;\n",
       "                    }\n",
       "                }\n",
       "            }, 500);\n",
       "            "
      ],
      "text/plain": [
       "<IPython.core.display.Javascript object>"
      ]
     },
     "metadata": {},
     "output_type": "display_data"
    },
    {
     "data": {
      "application/javascript": [
       "\n",
       "            setTimeout(function() {\n",
       "                var nbb_cell_id = 218;\n",
       "                var nbb_unformatted_code = \"for path in paths.values():\\n    if not os.path.exists(path):\\n        if os.name == \\\"posix\\\":\\n            !mkdir -p {path}\\n        if os.name == \\\"nt\\\":\\n            !mkdir {path}\";\n",
       "                var nbb_formatted_code = \"for path in paths.values():\\n    if not os.path.exists(path):\\n        if os.name == \\\"posix\\\":\\n            !mkdir -p {path}\\n        if os.name == \\\"nt\\\":\\n            !mkdir {path}\";\n",
       "                var nbb_cells = Jupyter.notebook.get_cells();\n",
       "                for (var i = 0; i < nbb_cells.length; ++i) {\n",
       "                    if (nbb_cells[i].input_prompt_number == nbb_cell_id) {\n",
       "                        if (nbb_cells[i].get_text() == nbb_unformatted_code) {\n",
       "                             nbb_cells[i].set_text(nbb_formatted_code);\n",
       "                        }\n",
       "                        break;\n",
       "                    }\n",
       "                }\n",
       "            }, 500);\n",
       "            "
      ],
      "text/plain": [
       "<IPython.core.display.Javascript object>"
      ]
     },
     "metadata": {},
     "output_type": "display_data"
    },
    {
     "data": {
      "application/javascript": [
       "\n",
       "            setTimeout(function() {\n",
       "                var nbb_cell_id = 218;\n",
       "                var nbb_unformatted_code = \"for path in paths.values():\\n    if not os.path.exists(path):\\n        if os.name == \\\"posix\\\":\\n            !mkdir -p {path}\\n        if os.name == \\\"nt\\\":\\n            !mkdir {path}\";\n",
       "                var nbb_formatted_code = \"for path in paths.values():\\n    if not os.path.exists(path):\\n        if os.name == \\\"posix\\\":\\n            !mkdir -p {path}\\n        if os.name == \\\"nt\\\":\\n            !mkdir {path}\";\n",
       "                var nbb_cells = Jupyter.notebook.get_cells();\n",
       "                for (var i = 0; i < nbb_cells.length; ++i) {\n",
       "                    if (nbb_cells[i].input_prompt_number == nbb_cell_id) {\n",
       "                        if (nbb_cells[i].get_text() == nbb_unformatted_code) {\n",
       "                             nbb_cells[i].set_text(nbb_formatted_code);\n",
       "                        }\n",
       "                        break;\n",
       "                    }\n",
       "                }\n",
       "            }, 500);\n",
       "            "
      ],
      "text/plain": [
       "<IPython.core.display.Javascript object>"
      ]
     },
     "metadata": {},
     "output_type": "display_data"
    }
   ],
   "source": [
    "for path in paths.values():\n",
    "    if not os.path.exists(path):\n",
    "        if os.name == \"posix\":\n",
    "            !mkdir -p {path}\n",
    "        if os.name == \"nt\":\n",
    "            !mkdir {path}"
   ]
  },
  {
   "cell_type": "code",
   "execution_count": 219,
   "id": "b6ad7ab1",
   "metadata": {},
   "outputs": [
    {
     "name": "stdout",
     "output_type": "stream",
     "text": [
      "fatal: destination path 'models' already exists and is not an empty directory.\r\n"
     ]
    },
    {
     "data": {
      "application/javascript": [
       "\n",
       "            setTimeout(function() {\n",
       "                var nbb_cell_id = 219;\n",
       "                var nbb_unformatted_code = \"if not os.path.exists(\\n    os.path.join(paths[\\\"APIMODEL_PATH\\\"], \\\"research\\\", \\\"object_detection\\\")\\n):\\n    !cd {paths['APIMODEL_PATH']} && git clone https://github.com/tensorflow/models\";\n",
       "                var nbb_formatted_code = \"if not os.path.exists(\\n    os.path.join(paths[\\\"APIMODEL_PATH\\\"], \\\"research\\\", \\\"object_detection\\\")\\n):\\n    !cd {paths['APIMODEL_PATH']} && git clone https://github.com/tensorflow/models\";\n",
       "                var nbb_cells = Jupyter.notebook.get_cells();\n",
       "                for (var i = 0; i < nbb_cells.length; ++i) {\n",
       "                    if (nbb_cells[i].input_prompt_number == nbb_cell_id) {\n",
       "                        if (nbb_cells[i].get_text() == nbb_unformatted_code) {\n",
       "                             nbb_cells[i].set_text(nbb_formatted_code);\n",
       "                        }\n",
       "                        break;\n",
       "                    }\n",
       "                }\n",
       "            }, 500);\n",
       "            "
      ],
      "text/plain": [
       "<IPython.core.display.Javascript object>"
      ]
     },
     "metadata": {},
     "output_type": "display_data"
    },
    {
     "data": {
      "application/javascript": [
       "\n",
       "            setTimeout(function() {\n",
       "                var nbb_cell_id = 219;\n",
       "                var nbb_unformatted_code = \"if not os.path.exists(\\n    os.path.join(paths[\\\"APIMODEL_PATH\\\"], \\\"research\\\", \\\"object_detection\\\")\\n):\\n    !cd {paths['APIMODEL_PATH']} && git clone https://github.com/tensorflow/models\";\n",
       "                var nbb_formatted_code = \"if not os.path.exists(\\n    os.path.join(paths[\\\"APIMODEL_PATH\\\"], \\\"research\\\", \\\"object_detection\\\")\\n):\\n    !cd {paths['APIMODEL_PATH']} && git clone https://github.com/tensorflow/models\";\n",
       "                var nbb_cells = Jupyter.notebook.get_cells();\n",
       "                for (var i = 0; i < nbb_cells.length; ++i) {\n",
       "                    if (nbb_cells[i].input_prompt_number == nbb_cell_id) {\n",
       "                        if (nbb_cells[i].get_text() == nbb_unformatted_code) {\n",
       "                             nbb_cells[i].set_text(nbb_formatted_code);\n",
       "                        }\n",
       "                        break;\n",
       "                    }\n",
       "                }\n",
       "            }, 500);\n",
       "            "
      ],
      "text/plain": [
       "<IPython.core.display.Javascript object>"
      ]
     },
     "metadata": {},
     "output_type": "display_data"
    },
    {
     "data": {
      "application/javascript": [
       "\n",
       "            setTimeout(function() {\n",
       "                var nbb_cell_id = 219;\n",
       "                var nbb_unformatted_code = \"if not os.path.exists(\\n    os.path.join(paths[\\\"APIMODEL_PATH\\\"], \\\"research\\\", \\\"object_detection\\\")\\n):\\n    !cd {paths['APIMODEL_PATH']} && git clone https://github.com/tensorflow/models\";\n",
       "                var nbb_formatted_code = \"if not os.path.exists(\\n    os.path.join(paths[\\\"APIMODEL_PATH\\\"], \\\"research\\\", \\\"object_detection\\\")\\n):\\n    !cd {paths['APIMODEL_PATH']} && git clone https://github.com/tensorflow/models\";\n",
       "                var nbb_cells = Jupyter.notebook.get_cells();\n",
       "                for (var i = 0; i < nbb_cells.length; ++i) {\n",
       "                    if (nbb_cells[i].input_prompt_number == nbb_cell_id) {\n",
       "                        if (nbb_cells[i].get_text() == nbb_unformatted_code) {\n",
       "                             nbb_cells[i].set_text(nbb_formatted_code);\n",
       "                        }\n",
       "                        break;\n",
       "                    }\n",
       "                }\n",
       "            }, 500);\n",
       "            "
      ],
      "text/plain": [
       "<IPython.core.display.Javascript object>"
      ]
     },
     "metadata": {},
     "output_type": "display_data"
    },
    {
     "data": {
      "application/javascript": [
       "\n",
       "            setTimeout(function() {\n",
       "                var nbb_cell_id = 219;\n",
       "                var nbb_unformatted_code = \"if not os.path.exists(\\n    os.path.join(paths[\\\"APIMODEL_PATH\\\"], \\\"research\\\", \\\"object_detection\\\")\\n):\\n    !cd {paths['APIMODEL_PATH']} && git clone https://github.com/tensorflow/models\";\n",
       "                var nbb_formatted_code = \"if not os.path.exists(\\n    os.path.join(paths[\\\"APIMODEL_PATH\\\"], \\\"research\\\", \\\"object_detection\\\")\\n):\\n    !cd {paths['APIMODEL_PATH']} && git clone https://github.com/tensorflow/models\";\n",
       "                var nbb_cells = Jupyter.notebook.get_cells();\n",
       "                for (var i = 0; i < nbb_cells.length; ++i) {\n",
       "                    if (nbb_cells[i].input_prompt_number == nbb_cell_id) {\n",
       "                        if (nbb_cells[i].get_text() == nbb_unformatted_code) {\n",
       "                             nbb_cells[i].set_text(nbb_formatted_code);\n",
       "                        }\n",
       "                        break;\n",
       "                    }\n",
       "                }\n",
       "            }, 500);\n",
       "            "
      ],
      "text/plain": [
       "<IPython.core.display.Javascript object>"
      ]
     },
     "metadata": {},
     "output_type": "display_data"
    },
    {
     "data": {
      "application/javascript": [
       "\n",
       "            setTimeout(function() {\n",
       "                var nbb_cell_id = 219;\n",
       "                var nbb_unformatted_code = \"if not os.path.exists(\\n    os.path.join(paths[\\\"APIMODEL_PATH\\\"], \\\"research\\\", \\\"object_detection\\\")\\n):\\n    !cd {paths['APIMODEL_PATH']} && git clone https://github.com/tensorflow/models\";\n",
       "                var nbb_formatted_code = \"if not os.path.exists(\\n    os.path.join(paths[\\\"APIMODEL_PATH\\\"], \\\"research\\\", \\\"object_detection\\\")\\n):\\n    !cd {paths['APIMODEL_PATH']} && git clone https://github.com/tensorflow/models\";\n",
       "                var nbb_cells = Jupyter.notebook.get_cells();\n",
       "                for (var i = 0; i < nbb_cells.length; ++i) {\n",
       "                    if (nbb_cells[i].input_prompt_number == nbb_cell_id) {\n",
       "                        if (nbb_cells[i].get_text() == nbb_unformatted_code) {\n",
       "                             nbb_cells[i].set_text(nbb_formatted_code);\n",
       "                        }\n",
       "                        break;\n",
       "                    }\n",
       "                }\n",
       "            }, 500);\n",
       "            "
      ],
      "text/plain": [
       "<IPython.core.display.Javascript object>"
      ]
     },
     "metadata": {},
     "output_type": "display_data"
    },
    {
     "data": {
      "application/javascript": [
       "\n",
       "            setTimeout(function() {\n",
       "                var nbb_cell_id = 219;\n",
       "                var nbb_unformatted_code = \"if not os.path.exists(\\n    os.path.join(paths[\\\"APIMODEL_PATH\\\"], \\\"research\\\", \\\"object_detection\\\")\\n):\\n    !cd {paths['APIMODEL_PATH']} && git clone https://github.com/tensorflow/models\";\n",
       "                var nbb_formatted_code = \"if not os.path.exists(\\n    os.path.join(paths[\\\"APIMODEL_PATH\\\"], \\\"research\\\", \\\"object_detection\\\")\\n):\\n    !cd {paths['APIMODEL_PATH']} && git clone https://github.com/tensorflow/models\";\n",
       "                var nbb_cells = Jupyter.notebook.get_cells();\n",
       "                for (var i = 0; i < nbb_cells.length; ++i) {\n",
       "                    if (nbb_cells[i].input_prompt_number == nbb_cell_id) {\n",
       "                        if (nbb_cells[i].get_text() == nbb_unformatted_code) {\n",
       "                             nbb_cells[i].set_text(nbb_formatted_code);\n",
       "                        }\n",
       "                        break;\n",
       "                    }\n",
       "                }\n",
       "            }, 500);\n",
       "            "
      ],
      "text/plain": [
       "<IPython.core.display.Javascript object>"
      ]
     },
     "metadata": {},
     "output_type": "display_data"
    },
    {
     "data": {
      "application/javascript": [
       "\n",
       "            setTimeout(function() {\n",
       "                var nbb_cell_id = 219;\n",
       "                var nbb_unformatted_code = \"if not os.path.exists(\\n    os.path.join(paths[\\\"APIMODEL_PATH\\\"], \\\"research\\\", \\\"object_detection\\\")\\n):\\n    !cd {paths['APIMODEL_PATH']} && git clone https://github.com/tensorflow/models\";\n",
       "                var nbb_formatted_code = \"if not os.path.exists(\\n    os.path.join(paths[\\\"APIMODEL_PATH\\\"], \\\"research\\\", \\\"object_detection\\\")\\n):\\n    !cd {paths['APIMODEL_PATH']} && git clone https://github.com/tensorflow/models\";\n",
       "                var nbb_cells = Jupyter.notebook.get_cells();\n",
       "                for (var i = 0; i < nbb_cells.length; ++i) {\n",
       "                    if (nbb_cells[i].input_prompt_number == nbb_cell_id) {\n",
       "                        if (nbb_cells[i].get_text() == nbb_unformatted_code) {\n",
       "                             nbb_cells[i].set_text(nbb_formatted_code);\n",
       "                        }\n",
       "                        break;\n",
       "                    }\n",
       "                }\n",
       "            }, 500);\n",
       "            "
      ],
      "text/plain": [
       "<IPython.core.display.Javascript object>"
      ]
     },
     "metadata": {},
     "output_type": "display_data"
    },
    {
     "data": {
      "application/javascript": [
       "\n",
       "            setTimeout(function() {\n",
       "                var nbb_cell_id = 219;\n",
       "                var nbb_unformatted_code = \"if not os.path.exists(\\n    os.path.join(paths[\\\"APIMODEL_PATH\\\"], \\\"research\\\", \\\"object_detection\\\")\\n):\\n    !cd {paths['APIMODEL_PATH']} && git clone https://github.com/tensorflow/models\";\n",
       "                var nbb_formatted_code = \"if not os.path.exists(\\n    os.path.join(paths[\\\"APIMODEL_PATH\\\"], \\\"research\\\", \\\"object_detection\\\")\\n):\\n    !cd {paths['APIMODEL_PATH']} && git clone https://github.com/tensorflow/models\";\n",
       "                var nbb_cells = Jupyter.notebook.get_cells();\n",
       "                for (var i = 0; i < nbb_cells.length; ++i) {\n",
       "                    if (nbb_cells[i].input_prompt_number == nbb_cell_id) {\n",
       "                        if (nbb_cells[i].get_text() == nbb_unformatted_code) {\n",
       "                             nbb_cells[i].set_text(nbb_formatted_code);\n",
       "                        }\n",
       "                        break;\n",
       "                    }\n",
       "                }\n",
       "            }, 500);\n",
       "            "
      ],
      "text/plain": [
       "<IPython.core.display.Javascript object>"
      ]
     },
     "metadata": {},
     "output_type": "display_data"
    },
    {
     "data": {
      "application/javascript": [
       "\n",
       "            setTimeout(function() {\n",
       "                var nbb_cell_id = 219;\n",
       "                var nbb_unformatted_code = \"if not os.path.exists(\\n    os.path.join(paths[\\\"APIMODEL_PATH\\\"], \\\"research\\\", \\\"object_detection\\\")\\n):\\n    !cd {paths['APIMODEL_PATH']} && git clone https://github.com/tensorflow/models\";\n",
       "                var nbb_formatted_code = \"if not os.path.exists(\\n    os.path.join(paths[\\\"APIMODEL_PATH\\\"], \\\"research\\\", \\\"object_detection\\\")\\n):\\n    !cd {paths['APIMODEL_PATH']} && git clone https://github.com/tensorflow/models\";\n",
       "                var nbb_cells = Jupyter.notebook.get_cells();\n",
       "                for (var i = 0; i < nbb_cells.length; ++i) {\n",
       "                    if (nbb_cells[i].input_prompt_number == nbb_cell_id) {\n",
       "                        if (nbb_cells[i].get_text() == nbb_unformatted_code) {\n",
       "                             nbb_cells[i].set_text(nbb_formatted_code);\n",
       "                        }\n",
       "                        break;\n",
       "                    }\n",
       "                }\n",
       "            }, 500);\n",
       "            "
      ],
      "text/plain": [
       "<IPython.core.display.Javascript object>"
      ]
     },
     "metadata": {},
     "output_type": "display_data"
    },
    {
     "data": {
      "application/javascript": [
       "\n",
       "            setTimeout(function() {\n",
       "                var nbb_cell_id = 219;\n",
       "                var nbb_unformatted_code = \"if not os.path.exists(\\n    os.path.join(paths[\\\"APIMODEL_PATH\\\"], \\\"research\\\", \\\"object_detection\\\")\\n):\\n    !cd {paths['APIMODEL_PATH']} && git clone https://github.com/tensorflow/models\";\n",
       "                var nbb_formatted_code = \"if not os.path.exists(\\n    os.path.join(paths[\\\"APIMODEL_PATH\\\"], \\\"research\\\", \\\"object_detection\\\")\\n):\\n    !cd {paths['APIMODEL_PATH']} && git clone https://github.com/tensorflow/models\";\n",
       "                var nbb_cells = Jupyter.notebook.get_cells();\n",
       "                for (var i = 0; i < nbb_cells.length; ++i) {\n",
       "                    if (nbb_cells[i].input_prompt_number == nbb_cell_id) {\n",
       "                        if (nbb_cells[i].get_text() == nbb_unformatted_code) {\n",
       "                             nbb_cells[i].set_text(nbb_formatted_code);\n",
       "                        }\n",
       "                        break;\n",
       "                    }\n",
       "                }\n",
       "            }, 500);\n",
       "            "
      ],
      "text/plain": [
       "<IPython.core.display.Javascript object>"
      ]
     },
     "metadata": {},
     "output_type": "display_data"
    }
   ],
   "source": [
    "if not os.path.exists(\n",
    "    os.path.join(paths[\"APIMODEL_PATH\"], \"research\", \"object_detection\")\n",
    "):\n",
    "    !cd {paths['APIMODEL_PATH']} && git clone https://github.com/tensorflow/models"
   ]
  },
  {
   "cell_type": "code",
   "execution_count": 220,
   "id": "5d5dfbd5",
   "metadata": {},
   "outputs": [
    {
     "data": {
      "application/javascript": [
       "\n",
       "            setTimeout(function() {\n",
       "                var nbb_cell_id = 220;\n",
       "                var nbb_unformatted_code = \"# if os.name == \\\"posix\\\":\\n#     !wget {PRETRAINED_MODEL}\\n#     !mv {PRETRAINED_MODEL_NAME+'.tar.gz'} {paths['PRETRAINED_MODEL_PATH']}\\n#     !cd {paths['PRETRAINED_MODEL_PATH']} && tar -zxvf {PRETRAINED_MODEL_NAME+'.tar.gz'}\\n# if os.name == \\\"nt\\\":\\n#     wget.download(PRETRAINED_MODEL)\\n#     !move {PRETRAINED_MODEL_NAME+'.tar.gz'} {paths['PRETRAINED_MODEL_PATH']}\\n#     !cd {paths['PRETRAINED_MODEL_PATH']} && tar -zxvf {PRETRAINED_MODEL_NAME+'.tar.gz'}\";\n",
       "                var nbb_formatted_code = \"# if os.name == \\\"posix\\\":\\n#     !wget {PRETRAINED_MODEL}\\n#     !mv {PRETRAINED_MODEL_NAME+'.tar.gz'} {paths['PRETRAINED_MODEL_PATH']}\\n#     !cd {paths['PRETRAINED_MODEL_PATH']} && tar -zxvf {PRETRAINED_MODEL_NAME+'.tar.gz'}\\n# if os.name == \\\"nt\\\":\\n#     wget.download(PRETRAINED_MODEL)\\n#     !move {PRETRAINED_MODEL_NAME+'.tar.gz'} {paths['PRETRAINED_MODEL_PATH']}\\n#     !cd {paths['PRETRAINED_MODEL_PATH']} && tar -zxvf {PRETRAINED_MODEL_NAME+'.tar.gz'}\";\n",
       "                var nbb_cells = Jupyter.notebook.get_cells();\n",
       "                for (var i = 0; i < nbb_cells.length; ++i) {\n",
       "                    if (nbb_cells[i].input_prompt_number == nbb_cell_id) {\n",
       "                        if (nbb_cells[i].get_text() == nbb_unformatted_code) {\n",
       "                             nbb_cells[i].set_text(nbb_formatted_code);\n",
       "                        }\n",
       "                        break;\n",
       "                    }\n",
       "                }\n",
       "            }, 500);\n",
       "            "
      ],
      "text/plain": [
       "<IPython.core.display.Javascript object>"
      ]
     },
     "metadata": {},
     "output_type": "display_data"
    },
    {
     "data": {
      "application/javascript": [
       "\n",
       "            setTimeout(function() {\n",
       "                var nbb_cell_id = 220;\n",
       "                var nbb_unformatted_code = \"# if os.name == \\\"posix\\\":\\n#     !wget {PRETRAINED_MODEL}\\n#     !mv {PRETRAINED_MODEL_NAME+'.tar.gz'} {paths['PRETRAINED_MODEL_PATH']}\\n#     !cd {paths['PRETRAINED_MODEL_PATH']} && tar -zxvf {PRETRAINED_MODEL_NAME+'.tar.gz'}\\n# if os.name == \\\"nt\\\":\\n#     wget.download(PRETRAINED_MODEL)\\n#     !move {PRETRAINED_MODEL_NAME+'.tar.gz'} {paths['PRETRAINED_MODEL_PATH']}\\n#     !cd {paths['PRETRAINED_MODEL_PATH']} && tar -zxvf {PRETRAINED_MODEL_NAME+'.tar.gz'}\";\n",
       "                var nbb_formatted_code = \"# if os.name == \\\"posix\\\":\\n#     !wget {PRETRAINED_MODEL}\\n#     !mv {PRETRAINED_MODEL_NAME+'.tar.gz'} {paths['PRETRAINED_MODEL_PATH']}\\n#     !cd {paths['PRETRAINED_MODEL_PATH']} && tar -zxvf {PRETRAINED_MODEL_NAME+'.tar.gz'}\\n# if os.name == \\\"nt\\\":\\n#     wget.download(PRETRAINED_MODEL)\\n#     !move {PRETRAINED_MODEL_NAME+'.tar.gz'} {paths['PRETRAINED_MODEL_PATH']}\\n#     !cd {paths['PRETRAINED_MODEL_PATH']} && tar -zxvf {PRETRAINED_MODEL_NAME+'.tar.gz'}\";\n",
       "                var nbb_cells = Jupyter.notebook.get_cells();\n",
       "                for (var i = 0; i < nbb_cells.length; ++i) {\n",
       "                    if (nbb_cells[i].input_prompt_number == nbb_cell_id) {\n",
       "                        if (nbb_cells[i].get_text() == nbb_unformatted_code) {\n",
       "                             nbb_cells[i].set_text(nbb_formatted_code);\n",
       "                        }\n",
       "                        break;\n",
       "                    }\n",
       "                }\n",
       "            }, 500);\n",
       "            "
      ],
      "text/plain": [
       "<IPython.core.display.Javascript object>"
      ]
     },
     "metadata": {},
     "output_type": "display_data"
    },
    {
     "data": {
      "application/javascript": [
       "\n",
       "            setTimeout(function() {\n",
       "                var nbb_cell_id = 220;\n",
       "                var nbb_unformatted_code = \"# if os.name == \\\"posix\\\":\\n#     !wget {PRETRAINED_MODEL}\\n#     !mv {PRETRAINED_MODEL_NAME+'.tar.gz'} {paths['PRETRAINED_MODEL_PATH']}\\n#     !cd {paths['PRETRAINED_MODEL_PATH']} && tar -zxvf {PRETRAINED_MODEL_NAME+'.tar.gz'}\\n# if os.name == \\\"nt\\\":\\n#     wget.download(PRETRAINED_MODEL)\\n#     !move {PRETRAINED_MODEL_NAME+'.tar.gz'} {paths['PRETRAINED_MODEL_PATH']}\\n#     !cd {paths['PRETRAINED_MODEL_PATH']} && tar -zxvf {PRETRAINED_MODEL_NAME+'.tar.gz'}\";\n",
       "                var nbb_formatted_code = \"# if os.name == \\\"posix\\\":\\n#     !wget {PRETRAINED_MODEL}\\n#     !mv {PRETRAINED_MODEL_NAME+'.tar.gz'} {paths['PRETRAINED_MODEL_PATH']}\\n#     !cd {paths['PRETRAINED_MODEL_PATH']} && tar -zxvf {PRETRAINED_MODEL_NAME+'.tar.gz'}\\n# if os.name == \\\"nt\\\":\\n#     wget.download(PRETRAINED_MODEL)\\n#     !move {PRETRAINED_MODEL_NAME+'.tar.gz'} {paths['PRETRAINED_MODEL_PATH']}\\n#     !cd {paths['PRETRAINED_MODEL_PATH']} && tar -zxvf {PRETRAINED_MODEL_NAME+'.tar.gz'}\";\n",
       "                var nbb_cells = Jupyter.notebook.get_cells();\n",
       "                for (var i = 0; i < nbb_cells.length; ++i) {\n",
       "                    if (nbb_cells[i].input_prompt_number == nbb_cell_id) {\n",
       "                        if (nbb_cells[i].get_text() == nbb_unformatted_code) {\n",
       "                             nbb_cells[i].set_text(nbb_formatted_code);\n",
       "                        }\n",
       "                        break;\n",
       "                    }\n",
       "                }\n",
       "            }, 500);\n",
       "            "
      ],
      "text/plain": [
       "<IPython.core.display.Javascript object>"
      ]
     },
     "metadata": {},
     "output_type": "display_data"
    },
    {
     "data": {
      "application/javascript": [
       "\n",
       "            setTimeout(function() {\n",
       "                var nbb_cell_id = 220;\n",
       "                var nbb_unformatted_code = \"# if os.name == \\\"posix\\\":\\n#     !wget {PRETRAINED_MODEL}\\n#     !mv {PRETRAINED_MODEL_NAME+'.tar.gz'} {paths['PRETRAINED_MODEL_PATH']}\\n#     !cd {paths['PRETRAINED_MODEL_PATH']} && tar -zxvf {PRETRAINED_MODEL_NAME+'.tar.gz'}\\n# if os.name == \\\"nt\\\":\\n#     wget.download(PRETRAINED_MODEL)\\n#     !move {PRETRAINED_MODEL_NAME+'.tar.gz'} {paths['PRETRAINED_MODEL_PATH']}\\n#     !cd {paths['PRETRAINED_MODEL_PATH']} && tar -zxvf {PRETRAINED_MODEL_NAME+'.tar.gz'}\";\n",
       "                var nbb_formatted_code = \"# if os.name == \\\"posix\\\":\\n#     !wget {PRETRAINED_MODEL}\\n#     !mv {PRETRAINED_MODEL_NAME+'.tar.gz'} {paths['PRETRAINED_MODEL_PATH']}\\n#     !cd {paths['PRETRAINED_MODEL_PATH']} && tar -zxvf {PRETRAINED_MODEL_NAME+'.tar.gz'}\\n# if os.name == \\\"nt\\\":\\n#     wget.download(PRETRAINED_MODEL)\\n#     !move {PRETRAINED_MODEL_NAME+'.tar.gz'} {paths['PRETRAINED_MODEL_PATH']}\\n#     !cd {paths['PRETRAINED_MODEL_PATH']} && tar -zxvf {PRETRAINED_MODEL_NAME+'.tar.gz'}\";\n",
       "                var nbb_cells = Jupyter.notebook.get_cells();\n",
       "                for (var i = 0; i < nbb_cells.length; ++i) {\n",
       "                    if (nbb_cells[i].input_prompt_number == nbb_cell_id) {\n",
       "                        if (nbb_cells[i].get_text() == nbb_unformatted_code) {\n",
       "                             nbb_cells[i].set_text(nbb_formatted_code);\n",
       "                        }\n",
       "                        break;\n",
       "                    }\n",
       "                }\n",
       "            }, 500);\n",
       "            "
      ],
      "text/plain": [
       "<IPython.core.display.Javascript object>"
      ]
     },
     "metadata": {},
     "output_type": "display_data"
    },
    {
     "data": {
      "application/javascript": [
       "\n",
       "            setTimeout(function() {\n",
       "                var nbb_cell_id = 220;\n",
       "                var nbb_unformatted_code = \"# if os.name == \\\"posix\\\":\\n#     !wget {PRETRAINED_MODEL}\\n#     !mv {PRETRAINED_MODEL_NAME+'.tar.gz'} {paths['PRETRAINED_MODEL_PATH']}\\n#     !cd {paths['PRETRAINED_MODEL_PATH']} && tar -zxvf {PRETRAINED_MODEL_NAME+'.tar.gz'}\\n# if os.name == \\\"nt\\\":\\n#     wget.download(PRETRAINED_MODEL)\\n#     !move {PRETRAINED_MODEL_NAME+'.tar.gz'} {paths['PRETRAINED_MODEL_PATH']}\\n#     !cd {paths['PRETRAINED_MODEL_PATH']} && tar -zxvf {PRETRAINED_MODEL_NAME+'.tar.gz'}\";\n",
       "                var nbb_formatted_code = \"# if os.name == \\\"posix\\\":\\n#     !wget {PRETRAINED_MODEL}\\n#     !mv {PRETRAINED_MODEL_NAME+'.tar.gz'} {paths['PRETRAINED_MODEL_PATH']}\\n#     !cd {paths['PRETRAINED_MODEL_PATH']} && tar -zxvf {PRETRAINED_MODEL_NAME+'.tar.gz'}\\n# if os.name == \\\"nt\\\":\\n#     wget.download(PRETRAINED_MODEL)\\n#     !move {PRETRAINED_MODEL_NAME+'.tar.gz'} {paths['PRETRAINED_MODEL_PATH']}\\n#     !cd {paths['PRETRAINED_MODEL_PATH']} && tar -zxvf {PRETRAINED_MODEL_NAME+'.tar.gz'}\";\n",
       "                var nbb_cells = Jupyter.notebook.get_cells();\n",
       "                for (var i = 0; i < nbb_cells.length; ++i) {\n",
       "                    if (nbb_cells[i].input_prompt_number == nbb_cell_id) {\n",
       "                        if (nbb_cells[i].get_text() == nbb_unformatted_code) {\n",
       "                             nbb_cells[i].set_text(nbb_formatted_code);\n",
       "                        }\n",
       "                        break;\n",
       "                    }\n",
       "                }\n",
       "            }, 500);\n",
       "            "
      ],
      "text/plain": [
       "<IPython.core.display.Javascript object>"
      ]
     },
     "metadata": {},
     "output_type": "display_data"
    },
    {
     "data": {
      "application/javascript": [
       "\n",
       "            setTimeout(function() {\n",
       "                var nbb_cell_id = 220;\n",
       "                var nbb_unformatted_code = \"# if os.name == \\\"posix\\\":\\n#     !wget {PRETRAINED_MODEL}\\n#     !mv {PRETRAINED_MODEL_NAME+'.tar.gz'} {paths['PRETRAINED_MODEL_PATH']}\\n#     !cd {paths['PRETRAINED_MODEL_PATH']} && tar -zxvf {PRETRAINED_MODEL_NAME+'.tar.gz'}\\n# if os.name == \\\"nt\\\":\\n#     wget.download(PRETRAINED_MODEL)\\n#     !move {PRETRAINED_MODEL_NAME+'.tar.gz'} {paths['PRETRAINED_MODEL_PATH']}\\n#     !cd {paths['PRETRAINED_MODEL_PATH']} && tar -zxvf {PRETRAINED_MODEL_NAME+'.tar.gz'}\";\n",
       "                var nbb_formatted_code = \"# if os.name == \\\"posix\\\":\\n#     !wget {PRETRAINED_MODEL}\\n#     !mv {PRETRAINED_MODEL_NAME+'.tar.gz'} {paths['PRETRAINED_MODEL_PATH']}\\n#     !cd {paths['PRETRAINED_MODEL_PATH']} && tar -zxvf {PRETRAINED_MODEL_NAME+'.tar.gz'}\\n# if os.name == \\\"nt\\\":\\n#     wget.download(PRETRAINED_MODEL)\\n#     !move {PRETRAINED_MODEL_NAME+'.tar.gz'} {paths['PRETRAINED_MODEL_PATH']}\\n#     !cd {paths['PRETRAINED_MODEL_PATH']} && tar -zxvf {PRETRAINED_MODEL_NAME+'.tar.gz'}\";\n",
       "                var nbb_cells = Jupyter.notebook.get_cells();\n",
       "                for (var i = 0; i < nbb_cells.length; ++i) {\n",
       "                    if (nbb_cells[i].input_prompt_number == nbb_cell_id) {\n",
       "                        if (nbb_cells[i].get_text() == nbb_unformatted_code) {\n",
       "                             nbb_cells[i].set_text(nbb_formatted_code);\n",
       "                        }\n",
       "                        break;\n",
       "                    }\n",
       "                }\n",
       "            }, 500);\n",
       "            "
      ],
      "text/plain": [
       "<IPython.core.display.Javascript object>"
      ]
     },
     "metadata": {},
     "output_type": "display_data"
    },
    {
     "data": {
      "application/javascript": [
       "\n",
       "            setTimeout(function() {\n",
       "                var nbb_cell_id = 220;\n",
       "                var nbb_unformatted_code = \"# if os.name == \\\"posix\\\":\\n#     !wget {PRETRAINED_MODEL}\\n#     !mv {PRETRAINED_MODEL_NAME+'.tar.gz'} {paths['PRETRAINED_MODEL_PATH']}\\n#     !cd {paths['PRETRAINED_MODEL_PATH']} && tar -zxvf {PRETRAINED_MODEL_NAME+'.tar.gz'}\\n# if os.name == \\\"nt\\\":\\n#     wget.download(PRETRAINED_MODEL)\\n#     !move {PRETRAINED_MODEL_NAME+'.tar.gz'} {paths['PRETRAINED_MODEL_PATH']}\\n#     !cd {paths['PRETRAINED_MODEL_PATH']} && tar -zxvf {PRETRAINED_MODEL_NAME+'.tar.gz'}\";\n",
       "                var nbb_formatted_code = \"# if os.name == \\\"posix\\\":\\n#     !wget {PRETRAINED_MODEL}\\n#     !mv {PRETRAINED_MODEL_NAME+'.tar.gz'} {paths['PRETRAINED_MODEL_PATH']}\\n#     !cd {paths['PRETRAINED_MODEL_PATH']} && tar -zxvf {PRETRAINED_MODEL_NAME+'.tar.gz'}\\n# if os.name == \\\"nt\\\":\\n#     wget.download(PRETRAINED_MODEL)\\n#     !move {PRETRAINED_MODEL_NAME+'.tar.gz'} {paths['PRETRAINED_MODEL_PATH']}\\n#     !cd {paths['PRETRAINED_MODEL_PATH']} && tar -zxvf {PRETRAINED_MODEL_NAME+'.tar.gz'}\";\n",
       "                var nbb_cells = Jupyter.notebook.get_cells();\n",
       "                for (var i = 0; i < nbb_cells.length; ++i) {\n",
       "                    if (nbb_cells[i].input_prompt_number == nbb_cell_id) {\n",
       "                        if (nbb_cells[i].get_text() == nbb_unformatted_code) {\n",
       "                             nbb_cells[i].set_text(nbb_formatted_code);\n",
       "                        }\n",
       "                        break;\n",
       "                    }\n",
       "                }\n",
       "            }, 500);\n",
       "            "
      ],
      "text/plain": [
       "<IPython.core.display.Javascript object>"
      ]
     },
     "metadata": {},
     "output_type": "display_data"
    },
    {
     "data": {
      "application/javascript": [
       "\n",
       "            setTimeout(function() {\n",
       "                var nbb_cell_id = 220;\n",
       "                var nbb_unformatted_code = \"# if os.name == \\\"posix\\\":\\n#     !wget {PRETRAINED_MODEL}\\n#     !mv {PRETRAINED_MODEL_NAME+'.tar.gz'} {paths['PRETRAINED_MODEL_PATH']}\\n#     !cd {paths['PRETRAINED_MODEL_PATH']} && tar -zxvf {PRETRAINED_MODEL_NAME+'.tar.gz'}\\n# if os.name == \\\"nt\\\":\\n#     wget.download(PRETRAINED_MODEL)\\n#     !move {PRETRAINED_MODEL_NAME+'.tar.gz'} {paths['PRETRAINED_MODEL_PATH']}\\n#     !cd {paths['PRETRAINED_MODEL_PATH']} && tar -zxvf {PRETRAINED_MODEL_NAME+'.tar.gz'}\";\n",
       "                var nbb_formatted_code = \"# if os.name == \\\"posix\\\":\\n#     !wget {PRETRAINED_MODEL}\\n#     !mv {PRETRAINED_MODEL_NAME+'.tar.gz'} {paths['PRETRAINED_MODEL_PATH']}\\n#     !cd {paths['PRETRAINED_MODEL_PATH']} && tar -zxvf {PRETRAINED_MODEL_NAME+'.tar.gz'}\\n# if os.name == \\\"nt\\\":\\n#     wget.download(PRETRAINED_MODEL)\\n#     !move {PRETRAINED_MODEL_NAME+'.tar.gz'} {paths['PRETRAINED_MODEL_PATH']}\\n#     !cd {paths['PRETRAINED_MODEL_PATH']} && tar -zxvf {PRETRAINED_MODEL_NAME+'.tar.gz'}\";\n",
       "                var nbb_cells = Jupyter.notebook.get_cells();\n",
       "                for (var i = 0; i < nbb_cells.length; ++i) {\n",
       "                    if (nbb_cells[i].input_prompt_number == nbb_cell_id) {\n",
       "                        if (nbb_cells[i].get_text() == nbb_unformatted_code) {\n",
       "                             nbb_cells[i].set_text(nbb_formatted_code);\n",
       "                        }\n",
       "                        break;\n",
       "                    }\n",
       "                }\n",
       "            }, 500);\n",
       "            "
      ],
      "text/plain": [
       "<IPython.core.display.Javascript object>"
      ]
     },
     "metadata": {},
     "output_type": "display_data"
    },
    {
     "data": {
      "application/javascript": [
       "\n",
       "            setTimeout(function() {\n",
       "                var nbb_cell_id = 220;\n",
       "                var nbb_unformatted_code = \"# if os.name == \\\"posix\\\":\\n#     !wget {PRETRAINED_MODEL}\\n#     !mv {PRETRAINED_MODEL_NAME+'.tar.gz'} {paths['PRETRAINED_MODEL_PATH']}\\n#     !cd {paths['PRETRAINED_MODEL_PATH']} && tar -zxvf {PRETRAINED_MODEL_NAME+'.tar.gz'}\\n# if os.name == \\\"nt\\\":\\n#     wget.download(PRETRAINED_MODEL)\\n#     !move {PRETRAINED_MODEL_NAME+'.tar.gz'} {paths['PRETRAINED_MODEL_PATH']}\\n#     !cd {paths['PRETRAINED_MODEL_PATH']} && tar -zxvf {PRETRAINED_MODEL_NAME+'.tar.gz'}\";\n",
       "                var nbb_formatted_code = \"# if os.name == \\\"posix\\\":\\n#     !wget {PRETRAINED_MODEL}\\n#     !mv {PRETRAINED_MODEL_NAME+'.tar.gz'} {paths['PRETRAINED_MODEL_PATH']}\\n#     !cd {paths['PRETRAINED_MODEL_PATH']} && tar -zxvf {PRETRAINED_MODEL_NAME+'.tar.gz'}\\n# if os.name == \\\"nt\\\":\\n#     wget.download(PRETRAINED_MODEL)\\n#     !move {PRETRAINED_MODEL_NAME+'.tar.gz'} {paths['PRETRAINED_MODEL_PATH']}\\n#     !cd {paths['PRETRAINED_MODEL_PATH']} && tar -zxvf {PRETRAINED_MODEL_NAME+'.tar.gz'}\";\n",
       "                var nbb_cells = Jupyter.notebook.get_cells();\n",
       "                for (var i = 0; i < nbb_cells.length; ++i) {\n",
       "                    if (nbb_cells[i].input_prompt_number == nbb_cell_id) {\n",
       "                        if (nbb_cells[i].get_text() == nbb_unformatted_code) {\n",
       "                             nbb_cells[i].set_text(nbb_formatted_code);\n",
       "                        }\n",
       "                        break;\n",
       "                    }\n",
       "                }\n",
       "            }, 500);\n",
       "            "
      ],
      "text/plain": [
       "<IPython.core.display.Javascript object>"
      ]
     },
     "metadata": {},
     "output_type": "display_data"
    },
    {
     "data": {
      "application/javascript": [
       "\n",
       "            setTimeout(function() {\n",
       "                var nbb_cell_id = 220;\n",
       "                var nbb_unformatted_code = \"# if os.name == \\\"posix\\\":\\n#     !wget {PRETRAINED_MODEL}\\n#     !mv {PRETRAINED_MODEL_NAME+'.tar.gz'} {paths['PRETRAINED_MODEL_PATH']}\\n#     !cd {paths['PRETRAINED_MODEL_PATH']} && tar -zxvf {PRETRAINED_MODEL_NAME+'.tar.gz'}\\n# if os.name == \\\"nt\\\":\\n#     wget.download(PRETRAINED_MODEL)\\n#     !move {PRETRAINED_MODEL_NAME+'.tar.gz'} {paths['PRETRAINED_MODEL_PATH']}\\n#     !cd {paths['PRETRAINED_MODEL_PATH']} && tar -zxvf {PRETRAINED_MODEL_NAME+'.tar.gz'}\";\n",
       "                var nbb_formatted_code = \"# if os.name == \\\"posix\\\":\\n#     !wget {PRETRAINED_MODEL}\\n#     !mv {PRETRAINED_MODEL_NAME+'.tar.gz'} {paths['PRETRAINED_MODEL_PATH']}\\n#     !cd {paths['PRETRAINED_MODEL_PATH']} && tar -zxvf {PRETRAINED_MODEL_NAME+'.tar.gz'}\\n# if os.name == \\\"nt\\\":\\n#     wget.download(PRETRAINED_MODEL)\\n#     !move {PRETRAINED_MODEL_NAME+'.tar.gz'} {paths['PRETRAINED_MODEL_PATH']}\\n#     !cd {paths['PRETRAINED_MODEL_PATH']} && tar -zxvf {PRETRAINED_MODEL_NAME+'.tar.gz'}\";\n",
       "                var nbb_cells = Jupyter.notebook.get_cells();\n",
       "                for (var i = 0; i < nbb_cells.length; ++i) {\n",
       "                    if (nbb_cells[i].input_prompt_number == nbb_cell_id) {\n",
       "                        if (nbb_cells[i].get_text() == nbb_unformatted_code) {\n",
       "                             nbb_cells[i].set_text(nbb_formatted_code);\n",
       "                        }\n",
       "                        break;\n",
       "                    }\n",
       "                }\n",
       "            }, 500);\n",
       "            "
      ],
      "text/plain": [
       "<IPython.core.display.Javascript object>"
      ]
     },
     "metadata": {},
     "output_type": "display_data"
    }
   ],
   "source": [
    "# if os.name == \"posix\":\n",
    "#     !wget {PRETRAINED_MODEL}\n",
    "#     !mv {PRETRAINED_MODEL_NAME+'.tar.gz'} {paths['PRETRAINED_MODEL_PATH']}\n",
    "#     !cd {paths['PRETRAINED_MODEL_PATH']} && tar -zxvf {PRETRAINED_MODEL_NAME+'.tar.gz'}\n",
    "# if os.name == \"nt\":\n",
    "#     wget.download(PRETRAINED_MODEL)\n",
    "#     !move {PRETRAINED_MODEL_NAME+'.tar.gz'} {paths['PRETRAINED_MODEL_PATH']}\n",
    "#     !cd {paths['PRETRAINED_MODEL_PATH']} && tar -zxvf {PRETRAINED_MODEL_NAME+'.tar.gz'}"
   ]
  },
  {
   "cell_type": "code",
   "execution_count": 221,
   "id": "fc93b84f",
   "metadata": {},
   "outputs": [
    {
     "data": {
      "application/javascript": [
       "\n",
       "            setTimeout(function() {\n",
       "                var nbb_cell_id = 221;\n",
       "                var nbb_unformatted_code = \"# Install Tensorflow Object Detection\\nif current_os == \\\"Linux\\\":\\n    !apt-get install protobuf-compiler\\n    !cd {f'{paths['APIMODEL_PATH']}/models/research'} && protoc object_detection/protos/*.proto --python_out=. && cp object_detection/packages/tf2/setup.py . && python -m pip install {.}\\nif current_os == \\\"Windows\\\":\\n    url = \\\"https://github.com/protocolbuffers/protobuf/releases/download/v3.15.6/protoc-3.15.6-win64.zip\\\"\\n    wget.download(url)\\n    !move protoc-3.15.6-win64.zip {paths['PROTOC_PATH']}\\n    !cd {paths['PROTOC_PATH']} && tar -xf protoc-3.15.6-win64.zip\\n    os.environ[\\\"PATH\\\"] += os.pathsep + os.path.abspath(\\n        os.path.join(paths[\\\"PROTOC_PATH\\\"], \\\"bin\\\")\\n    )\\n    !cd Tensorflow/models/research && protoc object_detection/protos/*.proto --python_out=. && copy object_detection\\\\\\\\packages\\\\\\\\tf2\\\\\\\\setup.py setup.py && python setup.py build && python setup.py install\\n    !cd Tensorflow/models/research/slim && pip install -e {.}\\nif current_os == \\\"Darwin\\\":\\n    api_model = f'{paths[\\\"APIMODEL_PATH\\\"]}/models/research'\\n    #!brew install protobuf-compiler\\n    # !cd {api_model} && protoc object_detection/protos/*.proto --python_out=. && cp object_detection/packages/tf2/setup.py . && python -m pip install .\";\n",
       "                var nbb_formatted_code = \"# Install Tensorflow Object Detection\\nif current_os == \\\"Linux\\\":\\n    !apt-get install protobuf-compiler\\n    !cd {f'{paths['APIMODEL_PATH']}/models/research'} && protoc object_detection/protos/*.proto --python_out=. && cp object_detection/packages/tf2/setup.py . && python -m pip install {.}\\nif current_os == \\\"Windows\\\":\\n    url = \\\"https://github.com/protocolbuffers/protobuf/releases/download/v3.15.6/protoc-3.15.6-win64.zip\\\"\\n    wget.download(url)\\n    !move protoc-3.15.6-win64.zip {paths['PROTOC_PATH']}\\n    !cd {paths['PROTOC_PATH']} && tar -xf protoc-3.15.6-win64.zip\\n    os.environ[\\\"PATH\\\"] += os.pathsep + os.path.abspath(\\n        os.path.join(paths[\\\"PROTOC_PATH\\\"], \\\"bin\\\")\\n    )\\n    !cd Tensorflow/models/research && protoc object_detection/protos/*.proto --python_out=. && copy object_detection\\\\\\\\packages\\\\\\\\tf2\\\\\\\\setup.py setup.py && python setup.py build && python setup.py install\\n    !cd Tensorflow/models/research/slim && pip install -e {.}\\nif current_os == \\\"Darwin\\\":\\n    api_model = f'{paths[\\\"APIMODEL_PATH\\\"]}/models/research'\\n    #!brew install protobuf-compiler\\n    # !cd {api_model} && protoc object_detection/protos/*.proto --python_out=. && cp object_detection/packages/tf2/setup.py . && python -m pip install .\";\n",
       "                var nbb_cells = Jupyter.notebook.get_cells();\n",
       "                for (var i = 0; i < nbb_cells.length; ++i) {\n",
       "                    if (nbb_cells[i].input_prompt_number == nbb_cell_id) {\n",
       "                        if (nbb_cells[i].get_text() == nbb_unformatted_code) {\n",
       "                             nbb_cells[i].set_text(nbb_formatted_code);\n",
       "                        }\n",
       "                        break;\n",
       "                    }\n",
       "                }\n",
       "            }, 500);\n",
       "            "
      ],
      "text/plain": [
       "<IPython.core.display.Javascript object>"
      ]
     },
     "metadata": {},
     "output_type": "display_data"
    },
    {
     "data": {
      "application/javascript": [
       "\n",
       "            setTimeout(function() {\n",
       "                var nbb_cell_id = 221;\n",
       "                var nbb_unformatted_code = \"# Install Tensorflow Object Detection\\nif current_os == \\\"Linux\\\":\\n    !apt-get install protobuf-compiler\\n    !cd {f'{paths['APIMODEL_PATH']}/models/research'} && protoc object_detection/protos/*.proto --python_out=. && cp object_detection/packages/tf2/setup.py . && python -m pip install {.}\\nif current_os == \\\"Windows\\\":\\n    url = \\\"https://github.com/protocolbuffers/protobuf/releases/download/v3.15.6/protoc-3.15.6-win64.zip\\\"\\n    wget.download(url)\\n    !move protoc-3.15.6-win64.zip {paths['PROTOC_PATH']}\\n    !cd {paths['PROTOC_PATH']} && tar -xf protoc-3.15.6-win64.zip\\n    os.environ[\\\"PATH\\\"] += os.pathsep + os.path.abspath(\\n        os.path.join(paths[\\\"PROTOC_PATH\\\"], \\\"bin\\\")\\n    )\\n    !cd Tensorflow/models/research && protoc object_detection/protos/*.proto --python_out=. && copy object_detection\\\\\\\\packages\\\\\\\\tf2\\\\\\\\setup.py setup.py && python setup.py build && python setup.py install\\n    !cd Tensorflow/models/research/slim && pip install -e {.}\\nif current_os == \\\"Darwin\\\":\\n    api_model = f'{paths[\\\"APIMODEL_PATH\\\"]}/models/research'\\n    #!brew install protobuf-compiler\\n    # !cd {api_model} && protoc object_detection/protos/*.proto --python_out=. && cp object_detection/packages/tf2/setup.py . && python -m pip install .\";\n",
       "                var nbb_formatted_code = \"# Install Tensorflow Object Detection\\nif current_os == \\\"Linux\\\":\\n    !apt-get install protobuf-compiler\\n    !cd {f'{paths['APIMODEL_PATH']}/models/research'} && protoc object_detection/protos/*.proto --python_out=. && cp object_detection/packages/tf2/setup.py . && python -m pip install {.}\\nif current_os == \\\"Windows\\\":\\n    url = \\\"https://github.com/protocolbuffers/protobuf/releases/download/v3.15.6/protoc-3.15.6-win64.zip\\\"\\n    wget.download(url)\\n    !move protoc-3.15.6-win64.zip {paths['PROTOC_PATH']}\\n    !cd {paths['PROTOC_PATH']} && tar -xf protoc-3.15.6-win64.zip\\n    os.environ[\\\"PATH\\\"] += os.pathsep + os.path.abspath(\\n        os.path.join(paths[\\\"PROTOC_PATH\\\"], \\\"bin\\\")\\n    )\\n    !cd Tensorflow/models/research && protoc object_detection/protos/*.proto --python_out=. && copy object_detection\\\\\\\\packages\\\\\\\\tf2\\\\\\\\setup.py setup.py && python setup.py build && python setup.py install\\n    !cd Tensorflow/models/research/slim && pip install -e {.}\\nif current_os == \\\"Darwin\\\":\\n    api_model = f'{paths[\\\"APIMODEL_PATH\\\"]}/models/research'\\n    #!brew install protobuf-compiler\\n    # !cd {api_model} && protoc object_detection/protos/*.proto --python_out=. && cp object_detection/packages/tf2/setup.py . && python -m pip install .\";\n",
       "                var nbb_cells = Jupyter.notebook.get_cells();\n",
       "                for (var i = 0; i < nbb_cells.length; ++i) {\n",
       "                    if (nbb_cells[i].input_prompt_number == nbb_cell_id) {\n",
       "                        if (nbb_cells[i].get_text() == nbb_unformatted_code) {\n",
       "                             nbb_cells[i].set_text(nbb_formatted_code);\n",
       "                        }\n",
       "                        break;\n",
       "                    }\n",
       "                }\n",
       "            }, 500);\n",
       "            "
      ],
      "text/plain": [
       "<IPython.core.display.Javascript object>"
      ]
     },
     "metadata": {},
     "output_type": "display_data"
    },
    {
     "data": {
      "application/javascript": [
       "\n",
       "            setTimeout(function() {\n",
       "                var nbb_cell_id = 221;\n",
       "                var nbb_unformatted_code = \"# Install Tensorflow Object Detection\\nif current_os == \\\"Linux\\\":\\n    !apt-get install protobuf-compiler\\n    !cd {f'{paths['APIMODEL_PATH']}/models/research'} && protoc object_detection/protos/*.proto --python_out=. && cp object_detection/packages/tf2/setup.py . && python -m pip install {.}\\nif current_os == \\\"Windows\\\":\\n    url = \\\"https://github.com/protocolbuffers/protobuf/releases/download/v3.15.6/protoc-3.15.6-win64.zip\\\"\\n    wget.download(url)\\n    !move protoc-3.15.6-win64.zip {paths['PROTOC_PATH']}\\n    !cd {paths['PROTOC_PATH']} && tar -xf protoc-3.15.6-win64.zip\\n    os.environ[\\\"PATH\\\"] += os.pathsep + os.path.abspath(\\n        os.path.join(paths[\\\"PROTOC_PATH\\\"], \\\"bin\\\")\\n    )\\n    !cd Tensorflow/models/research && protoc object_detection/protos/*.proto --python_out=. && copy object_detection\\\\\\\\packages\\\\\\\\tf2\\\\\\\\setup.py setup.py && python setup.py build && python setup.py install\\n    !cd Tensorflow/models/research/slim && pip install -e {.}\\nif current_os == \\\"Darwin\\\":\\n    api_model = f'{paths[\\\"APIMODEL_PATH\\\"]}/models/research'\\n    #!brew install protobuf-compiler\\n    # !cd {api_model} && protoc object_detection/protos/*.proto --python_out=. && cp object_detection/packages/tf2/setup.py . && python -m pip install .\";\n",
       "                var nbb_formatted_code = \"# Install Tensorflow Object Detection\\nif current_os == \\\"Linux\\\":\\n    !apt-get install protobuf-compiler\\n    !cd {f'{paths['APIMODEL_PATH']}/models/research'} && protoc object_detection/protos/*.proto --python_out=. && cp object_detection/packages/tf2/setup.py . && python -m pip install {.}\\nif current_os == \\\"Windows\\\":\\n    url = \\\"https://github.com/protocolbuffers/protobuf/releases/download/v3.15.6/protoc-3.15.6-win64.zip\\\"\\n    wget.download(url)\\n    !move protoc-3.15.6-win64.zip {paths['PROTOC_PATH']}\\n    !cd {paths['PROTOC_PATH']} && tar -xf protoc-3.15.6-win64.zip\\n    os.environ[\\\"PATH\\\"] += os.pathsep + os.path.abspath(\\n        os.path.join(paths[\\\"PROTOC_PATH\\\"], \\\"bin\\\")\\n    )\\n    !cd Tensorflow/models/research && protoc object_detection/protos/*.proto --python_out=. && copy object_detection\\\\\\\\packages\\\\\\\\tf2\\\\\\\\setup.py setup.py && python setup.py build && python setup.py install\\n    !cd Tensorflow/models/research/slim && pip install -e {.}\\nif current_os == \\\"Darwin\\\":\\n    api_model = f'{paths[\\\"APIMODEL_PATH\\\"]}/models/research'\\n    #!brew install protobuf-compiler\\n    # !cd {api_model} && protoc object_detection/protos/*.proto --python_out=. && cp object_detection/packages/tf2/setup.py . && python -m pip install .\";\n",
       "                var nbb_cells = Jupyter.notebook.get_cells();\n",
       "                for (var i = 0; i < nbb_cells.length; ++i) {\n",
       "                    if (nbb_cells[i].input_prompt_number == nbb_cell_id) {\n",
       "                        if (nbb_cells[i].get_text() == nbb_unformatted_code) {\n",
       "                             nbb_cells[i].set_text(nbb_formatted_code);\n",
       "                        }\n",
       "                        break;\n",
       "                    }\n",
       "                }\n",
       "            }, 500);\n",
       "            "
      ],
      "text/plain": [
       "<IPython.core.display.Javascript object>"
      ]
     },
     "metadata": {},
     "output_type": "display_data"
    },
    {
     "data": {
      "application/javascript": [
       "\n",
       "            setTimeout(function() {\n",
       "                var nbb_cell_id = 221;\n",
       "                var nbb_unformatted_code = \"# Install Tensorflow Object Detection\\nif current_os == \\\"Linux\\\":\\n    !apt-get install protobuf-compiler\\n    !cd {f'{paths['APIMODEL_PATH']}/models/research'} && protoc object_detection/protos/*.proto --python_out=. && cp object_detection/packages/tf2/setup.py . && python -m pip install {.}\\nif current_os == \\\"Windows\\\":\\n    url = \\\"https://github.com/protocolbuffers/protobuf/releases/download/v3.15.6/protoc-3.15.6-win64.zip\\\"\\n    wget.download(url)\\n    !move protoc-3.15.6-win64.zip {paths['PROTOC_PATH']}\\n    !cd {paths['PROTOC_PATH']} && tar -xf protoc-3.15.6-win64.zip\\n    os.environ[\\\"PATH\\\"] += os.pathsep + os.path.abspath(\\n        os.path.join(paths[\\\"PROTOC_PATH\\\"], \\\"bin\\\")\\n    )\\n    !cd Tensorflow/models/research && protoc object_detection/protos/*.proto --python_out=. && copy object_detection\\\\\\\\packages\\\\\\\\tf2\\\\\\\\setup.py setup.py && python setup.py build && python setup.py install\\n    !cd Tensorflow/models/research/slim && pip install -e {.}\\nif current_os == \\\"Darwin\\\":\\n    api_model = f'{paths[\\\"APIMODEL_PATH\\\"]}/models/research'\\n    #!brew install protobuf-compiler\\n    # !cd {api_model} && protoc object_detection/protos/*.proto --python_out=. && cp object_detection/packages/tf2/setup.py . && python -m pip install .\";\n",
       "                var nbb_formatted_code = \"# Install Tensorflow Object Detection\\nif current_os == \\\"Linux\\\":\\n    !apt-get install protobuf-compiler\\n    !cd {f'{paths['APIMODEL_PATH']}/models/research'} && protoc object_detection/protos/*.proto --python_out=. && cp object_detection/packages/tf2/setup.py . && python -m pip install {.}\\nif current_os == \\\"Windows\\\":\\n    url = \\\"https://github.com/protocolbuffers/protobuf/releases/download/v3.15.6/protoc-3.15.6-win64.zip\\\"\\n    wget.download(url)\\n    !move protoc-3.15.6-win64.zip {paths['PROTOC_PATH']}\\n    !cd {paths['PROTOC_PATH']} && tar -xf protoc-3.15.6-win64.zip\\n    os.environ[\\\"PATH\\\"] += os.pathsep + os.path.abspath(\\n        os.path.join(paths[\\\"PROTOC_PATH\\\"], \\\"bin\\\")\\n    )\\n    !cd Tensorflow/models/research && protoc object_detection/protos/*.proto --python_out=. && copy object_detection\\\\\\\\packages\\\\\\\\tf2\\\\\\\\setup.py setup.py && python setup.py build && python setup.py install\\n    !cd Tensorflow/models/research/slim && pip install -e {.}\\nif current_os == \\\"Darwin\\\":\\n    api_model = f'{paths[\\\"APIMODEL_PATH\\\"]}/models/research'\\n    #!brew install protobuf-compiler\\n    # !cd {api_model} && protoc object_detection/protos/*.proto --python_out=. && cp object_detection/packages/tf2/setup.py . && python -m pip install .\";\n",
       "                var nbb_cells = Jupyter.notebook.get_cells();\n",
       "                for (var i = 0; i < nbb_cells.length; ++i) {\n",
       "                    if (nbb_cells[i].input_prompt_number == nbb_cell_id) {\n",
       "                        if (nbb_cells[i].get_text() == nbb_unformatted_code) {\n",
       "                             nbb_cells[i].set_text(nbb_formatted_code);\n",
       "                        }\n",
       "                        break;\n",
       "                    }\n",
       "                }\n",
       "            }, 500);\n",
       "            "
      ],
      "text/plain": [
       "<IPython.core.display.Javascript object>"
      ]
     },
     "metadata": {},
     "output_type": "display_data"
    },
    {
     "data": {
      "application/javascript": [
       "\n",
       "            setTimeout(function() {\n",
       "                var nbb_cell_id = 221;\n",
       "                var nbb_unformatted_code = \"# Install Tensorflow Object Detection\\nif current_os == \\\"Linux\\\":\\n    !apt-get install protobuf-compiler\\n    !cd {f'{paths['APIMODEL_PATH']}/models/research'} && protoc object_detection/protos/*.proto --python_out=. && cp object_detection/packages/tf2/setup.py . && python -m pip install {.}\\nif current_os == \\\"Windows\\\":\\n    url = \\\"https://github.com/protocolbuffers/protobuf/releases/download/v3.15.6/protoc-3.15.6-win64.zip\\\"\\n    wget.download(url)\\n    !move protoc-3.15.6-win64.zip {paths['PROTOC_PATH']}\\n    !cd {paths['PROTOC_PATH']} && tar -xf protoc-3.15.6-win64.zip\\n    os.environ[\\\"PATH\\\"] += os.pathsep + os.path.abspath(\\n        os.path.join(paths[\\\"PROTOC_PATH\\\"], \\\"bin\\\")\\n    )\\n    !cd Tensorflow/models/research && protoc object_detection/protos/*.proto --python_out=. && copy object_detection\\\\\\\\packages\\\\\\\\tf2\\\\\\\\setup.py setup.py && python setup.py build && python setup.py install\\n    !cd Tensorflow/models/research/slim && pip install -e {.}\\nif current_os == \\\"Darwin\\\":\\n    api_model = f'{paths[\\\"APIMODEL_PATH\\\"]}/models/research'\\n    #!brew install protobuf-compiler\\n    # !cd {api_model} && protoc object_detection/protos/*.proto --python_out=. && cp object_detection/packages/tf2/setup.py . && python -m pip install .\";\n",
       "                var nbb_formatted_code = \"# Install Tensorflow Object Detection\\nif current_os == \\\"Linux\\\":\\n    !apt-get install protobuf-compiler\\n    !cd {f'{paths['APIMODEL_PATH']}/models/research'} && protoc object_detection/protos/*.proto --python_out=. && cp object_detection/packages/tf2/setup.py . && python -m pip install {.}\\nif current_os == \\\"Windows\\\":\\n    url = \\\"https://github.com/protocolbuffers/protobuf/releases/download/v3.15.6/protoc-3.15.6-win64.zip\\\"\\n    wget.download(url)\\n    !move protoc-3.15.6-win64.zip {paths['PROTOC_PATH']}\\n    !cd {paths['PROTOC_PATH']} && tar -xf protoc-3.15.6-win64.zip\\n    os.environ[\\\"PATH\\\"] += os.pathsep + os.path.abspath(\\n        os.path.join(paths[\\\"PROTOC_PATH\\\"], \\\"bin\\\")\\n    )\\n    !cd Tensorflow/models/research && protoc object_detection/protos/*.proto --python_out=. && copy object_detection\\\\\\\\packages\\\\\\\\tf2\\\\\\\\setup.py setup.py && python setup.py build && python setup.py install\\n    !cd Tensorflow/models/research/slim && pip install -e {.}\\nif current_os == \\\"Darwin\\\":\\n    api_model = f'{paths[\\\"APIMODEL_PATH\\\"]}/models/research'\\n    #!brew install protobuf-compiler\\n    # !cd {api_model} && protoc object_detection/protos/*.proto --python_out=. && cp object_detection/packages/tf2/setup.py . && python -m pip install .\";\n",
       "                var nbb_cells = Jupyter.notebook.get_cells();\n",
       "                for (var i = 0; i < nbb_cells.length; ++i) {\n",
       "                    if (nbb_cells[i].input_prompt_number == nbb_cell_id) {\n",
       "                        if (nbb_cells[i].get_text() == nbb_unformatted_code) {\n",
       "                             nbb_cells[i].set_text(nbb_formatted_code);\n",
       "                        }\n",
       "                        break;\n",
       "                    }\n",
       "                }\n",
       "            }, 500);\n",
       "            "
      ],
      "text/plain": [
       "<IPython.core.display.Javascript object>"
      ]
     },
     "metadata": {},
     "output_type": "display_data"
    },
    {
     "data": {
      "application/javascript": [
       "\n",
       "            setTimeout(function() {\n",
       "                var nbb_cell_id = 221;\n",
       "                var nbb_unformatted_code = \"# Install Tensorflow Object Detection\\nif current_os == \\\"Linux\\\":\\n    !apt-get install protobuf-compiler\\n    !cd {f'{paths['APIMODEL_PATH']}/models/research'} && protoc object_detection/protos/*.proto --python_out=. && cp object_detection/packages/tf2/setup.py . && python -m pip install {.}\\nif current_os == \\\"Windows\\\":\\n    url = \\\"https://github.com/protocolbuffers/protobuf/releases/download/v3.15.6/protoc-3.15.6-win64.zip\\\"\\n    wget.download(url)\\n    !move protoc-3.15.6-win64.zip {paths['PROTOC_PATH']}\\n    !cd {paths['PROTOC_PATH']} && tar -xf protoc-3.15.6-win64.zip\\n    os.environ[\\\"PATH\\\"] += os.pathsep + os.path.abspath(\\n        os.path.join(paths[\\\"PROTOC_PATH\\\"], \\\"bin\\\")\\n    )\\n    !cd Tensorflow/models/research && protoc object_detection/protos/*.proto --python_out=. && copy object_detection\\\\\\\\packages\\\\\\\\tf2\\\\\\\\setup.py setup.py && python setup.py build && python setup.py install\\n    !cd Tensorflow/models/research/slim && pip install -e {.}\\nif current_os == \\\"Darwin\\\":\\n    api_model = f'{paths[\\\"APIMODEL_PATH\\\"]}/models/research'\\n    #!brew install protobuf-compiler\\n    # !cd {api_model} && protoc object_detection/protos/*.proto --python_out=. && cp object_detection/packages/tf2/setup.py . && python -m pip install .\";\n",
       "                var nbb_formatted_code = \"# Install Tensorflow Object Detection\\nif current_os == \\\"Linux\\\":\\n    !apt-get install protobuf-compiler\\n    !cd {f'{paths['APIMODEL_PATH']}/models/research'} && protoc object_detection/protos/*.proto --python_out=. && cp object_detection/packages/tf2/setup.py . && python -m pip install {.}\\nif current_os == \\\"Windows\\\":\\n    url = \\\"https://github.com/protocolbuffers/protobuf/releases/download/v3.15.6/protoc-3.15.6-win64.zip\\\"\\n    wget.download(url)\\n    !move protoc-3.15.6-win64.zip {paths['PROTOC_PATH']}\\n    !cd {paths['PROTOC_PATH']} && tar -xf protoc-3.15.6-win64.zip\\n    os.environ[\\\"PATH\\\"] += os.pathsep + os.path.abspath(\\n        os.path.join(paths[\\\"PROTOC_PATH\\\"], \\\"bin\\\")\\n    )\\n    !cd Tensorflow/models/research && protoc object_detection/protos/*.proto --python_out=. && copy object_detection\\\\\\\\packages\\\\\\\\tf2\\\\\\\\setup.py setup.py && python setup.py build && python setup.py install\\n    !cd Tensorflow/models/research/slim && pip install -e {.}\\nif current_os == \\\"Darwin\\\":\\n    api_model = f'{paths[\\\"APIMODEL_PATH\\\"]}/models/research'\\n    #!brew install protobuf-compiler\\n    # !cd {api_model} && protoc object_detection/protos/*.proto --python_out=. && cp object_detection/packages/tf2/setup.py . && python -m pip install .\";\n",
       "                var nbb_cells = Jupyter.notebook.get_cells();\n",
       "                for (var i = 0; i < nbb_cells.length; ++i) {\n",
       "                    if (nbb_cells[i].input_prompt_number == nbb_cell_id) {\n",
       "                        if (nbb_cells[i].get_text() == nbb_unformatted_code) {\n",
       "                             nbb_cells[i].set_text(nbb_formatted_code);\n",
       "                        }\n",
       "                        break;\n",
       "                    }\n",
       "                }\n",
       "            }, 500);\n",
       "            "
      ],
      "text/plain": [
       "<IPython.core.display.Javascript object>"
      ]
     },
     "metadata": {},
     "output_type": "display_data"
    },
    {
     "data": {
      "application/javascript": [
       "\n",
       "            setTimeout(function() {\n",
       "                var nbb_cell_id = 221;\n",
       "                var nbb_unformatted_code = \"# Install Tensorflow Object Detection\\nif current_os == \\\"Linux\\\":\\n    !apt-get install protobuf-compiler\\n    !cd {f'{paths['APIMODEL_PATH']}/models/research'} && protoc object_detection/protos/*.proto --python_out=. && cp object_detection/packages/tf2/setup.py . && python -m pip install {.}\\nif current_os == \\\"Windows\\\":\\n    url = \\\"https://github.com/protocolbuffers/protobuf/releases/download/v3.15.6/protoc-3.15.6-win64.zip\\\"\\n    wget.download(url)\\n    !move protoc-3.15.6-win64.zip {paths['PROTOC_PATH']}\\n    !cd {paths['PROTOC_PATH']} && tar -xf protoc-3.15.6-win64.zip\\n    os.environ[\\\"PATH\\\"] += os.pathsep + os.path.abspath(\\n        os.path.join(paths[\\\"PROTOC_PATH\\\"], \\\"bin\\\")\\n    )\\n    !cd Tensorflow/models/research && protoc object_detection/protos/*.proto --python_out=. && copy object_detection\\\\\\\\packages\\\\\\\\tf2\\\\\\\\setup.py setup.py && python setup.py build && python setup.py install\\n    !cd Tensorflow/models/research/slim && pip install -e {.}\\nif current_os == \\\"Darwin\\\":\\n    api_model = f'{paths[\\\"APIMODEL_PATH\\\"]}/models/research'\\n    #!brew install protobuf-compiler\\n    # !cd {api_model} && protoc object_detection/protos/*.proto --python_out=. && cp object_detection/packages/tf2/setup.py . && python -m pip install .\";\n",
       "                var nbb_formatted_code = \"# Install Tensorflow Object Detection\\nif current_os == \\\"Linux\\\":\\n    !apt-get install protobuf-compiler\\n    !cd {f'{paths['APIMODEL_PATH']}/models/research'} && protoc object_detection/protos/*.proto --python_out=. && cp object_detection/packages/tf2/setup.py . && python -m pip install {.}\\nif current_os == \\\"Windows\\\":\\n    url = \\\"https://github.com/protocolbuffers/protobuf/releases/download/v3.15.6/protoc-3.15.6-win64.zip\\\"\\n    wget.download(url)\\n    !move protoc-3.15.6-win64.zip {paths['PROTOC_PATH']}\\n    !cd {paths['PROTOC_PATH']} && tar -xf protoc-3.15.6-win64.zip\\n    os.environ[\\\"PATH\\\"] += os.pathsep + os.path.abspath(\\n        os.path.join(paths[\\\"PROTOC_PATH\\\"], \\\"bin\\\")\\n    )\\n    !cd Tensorflow/models/research && protoc object_detection/protos/*.proto --python_out=. && copy object_detection\\\\\\\\packages\\\\\\\\tf2\\\\\\\\setup.py setup.py && python setup.py build && python setup.py install\\n    !cd Tensorflow/models/research/slim && pip install -e {.}\\nif current_os == \\\"Darwin\\\":\\n    api_model = f'{paths[\\\"APIMODEL_PATH\\\"]}/models/research'\\n    #!brew install protobuf-compiler\\n    # !cd {api_model} && protoc object_detection/protos/*.proto --python_out=. && cp object_detection/packages/tf2/setup.py . && python -m pip install .\";\n",
       "                var nbb_cells = Jupyter.notebook.get_cells();\n",
       "                for (var i = 0; i < nbb_cells.length; ++i) {\n",
       "                    if (nbb_cells[i].input_prompt_number == nbb_cell_id) {\n",
       "                        if (nbb_cells[i].get_text() == nbb_unformatted_code) {\n",
       "                             nbb_cells[i].set_text(nbb_formatted_code);\n",
       "                        }\n",
       "                        break;\n",
       "                    }\n",
       "                }\n",
       "            }, 500);\n",
       "            "
      ],
      "text/plain": [
       "<IPython.core.display.Javascript object>"
      ]
     },
     "metadata": {},
     "output_type": "display_data"
    },
    {
     "data": {
      "application/javascript": [
       "\n",
       "            setTimeout(function() {\n",
       "                var nbb_cell_id = 221;\n",
       "                var nbb_unformatted_code = \"# Install Tensorflow Object Detection\\nif current_os == \\\"Linux\\\":\\n    !apt-get install protobuf-compiler\\n    !cd {f'{paths['APIMODEL_PATH']}/models/research'} && protoc object_detection/protos/*.proto --python_out=. && cp object_detection/packages/tf2/setup.py . && python -m pip install {.}\\nif current_os == \\\"Windows\\\":\\n    url = \\\"https://github.com/protocolbuffers/protobuf/releases/download/v3.15.6/protoc-3.15.6-win64.zip\\\"\\n    wget.download(url)\\n    !move protoc-3.15.6-win64.zip {paths['PROTOC_PATH']}\\n    !cd {paths['PROTOC_PATH']} && tar -xf protoc-3.15.6-win64.zip\\n    os.environ[\\\"PATH\\\"] += os.pathsep + os.path.abspath(\\n        os.path.join(paths[\\\"PROTOC_PATH\\\"], \\\"bin\\\")\\n    )\\n    !cd Tensorflow/models/research && protoc object_detection/protos/*.proto --python_out=. && copy object_detection\\\\\\\\packages\\\\\\\\tf2\\\\\\\\setup.py setup.py && python setup.py build && python setup.py install\\n    !cd Tensorflow/models/research/slim && pip install -e {.}\\nif current_os == \\\"Darwin\\\":\\n    api_model = f'{paths[\\\"APIMODEL_PATH\\\"]}/models/research'\\n    #!brew install protobuf-compiler\\n    # !cd {api_model} && protoc object_detection/protos/*.proto --python_out=. && cp object_detection/packages/tf2/setup.py . && python -m pip install .\";\n",
       "                var nbb_formatted_code = \"# Install Tensorflow Object Detection\\nif current_os == \\\"Linux\\\":\\n    !apt-get install protobuf-compiler\\n    !cd {f'{paths['APIMODEL_PATH']}/models/research'} && protoc object_detection/protos/*.proto --python_out=. && cp object_detection/packages/tf2/setup.py . && python -m pip install {.}\\nif current_os == \\\"Windows\\\":\\n    url = \\\"https://github.com/protocolbuffers/protobuf/releases/download/v3.15.6/protoc-3.15.6-win64.zip\\\"\\n    wget.download(url)\\n    !move protoc-3.15.6-win64.zip {paths['PROTOC_PATH']}\\n    !cd {paths['PROTOC_PATH']} && tar -xf protoc-3.15.6-win64.zip\\n    os.environ[\\\"PATH\\\"] += os.pathsep + os.path.abspath(\\n        os.path.join(paths[\\\"PROTOC_PATH\\\"], \\\"bin\\\")\\n    )\\n    !cd Tensorflow/models/research && protoc object_detection/protos/*.proto --python_out=. && copy object_detection\\\\\\\\packages\\\\\\\\tf2\\\\\\\\setup.py setup.py && python setup.py build && python setup.py install\\n    !cd Tensorflow/models/research/slim && pip install -e {.}\\nif current_os == \\\"Darwin\\\":\\n    api_model = f'{paths[\\\"APIMODEL_PATH\\\"]}/models/research'\\n    #!brew install protobuf-compiler\\n    # !cd {api_model} && protoc object_detection/protos/*.proto --python_out=. && cp object_detection/packages/tf2/setup.py . && python -m pip install .\";\n",
       "                var nbb_cells = Jupyter.notebook.get_cells();\n",
       "                for (var i = 0; i < nbb_cells.length; ++i) {\n",
       "                    if (nbb_cells[i].input_prompt_number == nbb_cell_id) {\n",
       "                        if (nbb_cells[i].get_text() == nbb_unformatted_code) {\n",
       "                             nbb_cells[i].set_text(nbb_formatted_code);\n",
       "                        }\n",
       "                        break;\n",
       "                    }\n",
       "                }\n",
       "            }, 500);\n",
       "            "
      ],
      "text/plain": [
       "<IPython.core.display.Javascript object>"
      ]
     },
     "metadata": {},
     "output_type": "display_data"
    },
    {
     "data": {
      "application/javascript": [
       "\n",
       "            setTimeout(function() {\n",
       "                var nbb_cell_id = 221;\n",
       "                var nbb_unformatted_code = \"# Install Tensorflow Object Detection\\nif current_os == \\\"Linux\\\":\\n    !apt-get install protobuf-compiler\\n    !cd {f'{paths['APIMODEL_PATH']}/models/research'} && protoc object_detection/protos/*.proto --python_out=. && cp object_detection/packages/tf2/setup.py . && python -m pip install {.}\\nif current_os == \\\"Windows\\\":\\n    url = \\\"https://github.com/protocolbuffers/protobuf/releases/download/v3.15.6/protoc-3.15.6-win64.zip\\\"\\n    wget.download(url)\\n    !move protoc-3.15.6-win64.zip {paths['PROTOC_PATH']}\\n    !cd {paths['PROTOC_PATH']} && tar -xf protoc-3.15.6-win64.zip\\n    os.environ[\\\"PATH\\\"] += os.pathsep + os.path.abspath(\\n        os.path.join(paths[\\\"PROTOC_PATH\\\"], \\\"bin\\\")\\n    )\\n    !cd Tensorflow/models/research && protoc object_detection/protos/*.proto --python_out=. && copy object_detection\\\\\\\\packages\\\\\\\\tf2\\\\\\\\setup.py setup.py && python setup.py build && python setup.py install\\n    !cd Tensorflow/models/research/slim && pip install -e {.}\\nif current_os == \\\"Darwin\\\":\\n    api_model = f'{paths[\\\"APIMODEL_PATH\\\"]}/models/research'\\n    #!brew install protobuf-compiler\\n    # !cd {api_model} && protoc object_detection/protos/*.proto --python_out=. && cp object_detection/packages/tf2/setup.py . && python -m pip install .\";\n",
       "                var nbb_formatted_code = \"# Install Tensorflow Object Detection\\nif current_os == \\\"Linux\\\":\\n    !apt-get install protobuf-compiler\\n    !cd {f'{paths['APIMODEL_PATH']}/models/research'} && protoc object_detection/protos/*.proto --python_out=. && cp object_detection/packages/tf2/setup.py . && python -m pip install {.}\\nif current_os == \\\"Windows\\\":\\n    url = \\\"https://github.com/protocolbuffers/protobuf/releases/download/v3.15.6/protoc-3.15.6-win64.zip\\\"\\n    wget.download(url)\\n    !move protoc-3.15.6-win64.zip {paths['PROTOC_PATH']}\\n    !cd {paths['PROTOC_PATH']} && tar -xf protoc-3.15.6-win64.zip\\n    os.environ[\\\"PATH\\\"] += os.pathsep + os.path.abspath(\\n        os.path.join(paths[\\\"PROTOC_PATH\\\"], \\\"bin\\\")\\n    )\\n    !cd Tensorflow/models/research && protoc object_detection/protos/*.proto --python_out=. && copy object_detection\\\\\\\\packages\\\\\\\\tf2\\\\\\\\setup.py setup.py && python setup.py build && python setup.py install\\n    !cd Tensorflow/models/research/slim && pip install -e {.}\\nif current_os == \\\"Darwin\\\":\\n    api_model = f'{paths[\\\"APIMODEL_PATH\\\"]}/models/research'\\n    #!brew install protobuf-compiler\\n    # !cd {api_model} && protoc object_detection/protos/*.proto --python_out=. && cp object_detection/packages/tf2/setup.py . && python -m pip install .\";\n",
       "                var nbb_cells = Jupyter.notebook.get_cells();\n",
       "                for (var i = 0; i < nbb_cells.length; ++i) {\n",
       "                    if (nbb_cells[i].input_prompt_number == nbb_cell_id) {\n",
       "                        if (nbb_cells[i].get_text() == nbb_unformatted_code) {\n",
       "                             nbb_cells[i].set_text(nbb_formatted_code);\n",
       "                        }\n",
       "                        break;\n",
       "                    }\n",
       "                }\n",
       "            }, 500);\n",
       "            "
      ],
      "text/plain": [
       "<IPython.core.display.Javascript object>"
      ]
     },
     "metadata": {},
     "output_type": "display_data"
    },
    {
     "data": {
      "application/javascript": [
       "\n",
       "            setTimeout(function() {\n",
       "                var nbb_cell_id = 221;\n",
       "                var nbb_unformatted_code = \"# Install Tensorflow Object Detection\\nif current_os == \\\"Linux\\\":\\n    !apt-get install protobuf-compiler\\n    !cd {f'{paths['APIMODEL_PATH']}/models/research'} && protoc object_detection/protos/*.proto --python_out=. && cp object_detection/packages/tf2/setup.py . && python -m pip install {.}\\nif current_os == \\\"Windows\\\":\\n    url = \\\"https://github.com/protocolbuffers/protobuf/releases/download/v3.15.6/protoc-3.15.6-win64.zip\\\"\\n    wget.download(url)\\n    !move protoc-3.15.6-win64.zip {paths['PROTOC_PATH']}\\n    !cd {paths['PROTOC_PATH']} && tar -xf protoc-3.15.6-win64.zip\\n    os.environ[\\\"PATH\\\"] += os.pathsep + os.path.abspath(\\n        os.path.join(paths[\\\"PROTOC_PATH\\\"], \\\"bin\\\")\\n    )\\n    !cd Tensorflow/models/research && protoc object_detection/protos/*.proto --python_out=. && copy object_detection\\\\\\\\packages\\\\\\\\tf2\\\\\\\\setup.py setup.py && python setup.py build && python setup.py install\\n    !cd Tensorflow/models/research/slim && pip install -e {.}\\nif current_os == \\\"Darwin\\\":\\n    api_model = f'{paths[\\\"APIMODEL_PATH\\\"]}/models/research'\\n    #!brew install protobuf-compiler\\n    # !cd {api_model} && protoc object_detection/protos/*.proto --python_out=. && cp object_detection/packages/tf2/setup.py . && python -m pip install .\";\n",
       "                var nbb_formatted_code = \"# Install Tensorflow Object Detection\\nif current_os == \\\"Linux\\\":\\n    !apt-get install protobuf-compiler\\n    !cd {f'{paths['APIMODEL_PATH']}/models/research'} && protoc object_detection/protos/*.proto --python_out=. && cp object_detection/packages/tf2/setup.py . && python -m pip install {.}\\nif current_os == \\\"Windows\\\":\\n    url = \\\"https://github.com/protocolbuffers/protobuf/releases/download/v3.15.6/protoc-3.15.6-win64.zip\\\"\\n    wget.download(url)\\n    !move protoc-3.15.6-win64.zip {paths['PROTOC_PATH']}\\n    !cd {paths['PROTOC_PATH']} && tar -xf protoc-3.15.6-win64.zip\\n    os.environ[\\\"PATH\\\"] += os.pathsep + os.path.abspath(\\n        os.path.join(paths[\\\"PROTOC_PATH\\\"], \\\"bin\\\")\\n    )\\n    !cd Tensorflow/models/research && protoc object_detection/protos/*.proto --python_out=. && copy object_detection\\\\\\\\packages\\\\\\\\tf2\\\\\\\\setup.py setup.py && python setup.py build && python setup.py install\\n    !cd Tensorflow/models/research/slim && pip install -e {.}\\nif current_os == \\\"Darwin\\\":\\n    api_model = f'{paths[\\\"APIMODEL_PATH\\\"]}/models/research'\\n    #!brew install protobuf-compiler\\n    # !cd {api_model} && protoc object_detection/protos/*.proto --python_out=. && cp object_detection/packages/tf2/setup.py . && python -m pip install .\";\n",
       "                var nbb_cells = Jupyter.notebook.get_cells();\n",
       "                for (var i = 0; i < nbb_cells.length; ++i) {\n",
       "                    if (nbb_cells[i].input_prompt_number == nbb_cell_id) {\n",
       "                        if (nbb_cells[i].get_text() == nbb_unformatted_code) {\n",
       "                             nbb_cells[i].set_text(nbb_formatted_code);\n",
       "                        }\n",
       "                        break;\n",
       "                    }\n",
       "                }\n",
       "            }, 500);\n",
       "            "
      ],
      "text/plain": [
       "<IPython.core.display.Javascript object>"
      ]
     },
     "metadata": {},
     "output_type": "display_data"
    }
   ],
   "source": [
    "# Install Tensorflow Object Detection\n",
    "if current_os == \"Linux\":\n",
    "    !apt-get install protobuf-compiler\n",
    "    !cd {f'{paths['APIMODEL_PATH']}/models/research'} && protoc object_detection/protos/*.proto --python_out=. && cp object_detection/packages/tf2/setup.py . && python -m pip install {.}\n",
    "if current_os == \"Windows\":\n",
    "    url = \"https://github.com/protocolbuffers/protobuf/releases/download/v3.15.6/protoc-3.15.6-win64.zip\"\n",
    "    wget.download(url)\n",
    "    !move protoc-3.15.6-win64.zip {paths['PROTOC_PATH']}\n",
    "    !cd {paths['PROTOC_PATH']} && tar -xf protoc-3.15.6-win64.zip\n",
    "    os.environ[\"PATH\"] += os.pathsep + os.path.abspath(\n",
    "        os.path.join(paths[\"PROTOC_PATH\"], \"bin\")\n",
    "    )\n",
    "    !cd Tensorflow/models/research && protoc object_detection/protos/*.proto --python_out=. && copy object_detection\\\\packages\\\\tf2\\\\setup.py setup.py && python setup.py build && python setup.py install\n",
    "    !cd Tensorflow/models/research/slim && pip install -e {.}\n",
    "if current_os == \"Darwin\":\n",
    "    api_model = f'{paths[\"APIMODEL_PATH\"]}/models/research'\n",
    "    #!brew install protobuf-compiler\n",
    "    # !cd {api_model} && protoc object_detection/protos/*.proto --python_out=. && cp object_detection/packages/tf2/setup.py . && python -m pip install ."
   ]
  },
  {
   "cell_type": "code",
   "execution_count": 222,
   "id": "a6482b50",
   "metadata": {},
   "outputs": [
    {
     "data": {
      "application/javascript": [
       "\n",
       "            setTimeout(function() {\n",
       "                var nbb_cell_id = 222;\n",
       "                var nbb_unformatted_code = \"path_to_train = f'{paths[\\\"DATA_PATH\\\"]}/train'\\npath_to_test = f'{paths[\\\"DATA_PATH\\\"]}/test'\\npath_to_labels = f'{paths[\\\"DATA_PATH\\\"]}/{LABEL_MAP_NAME}'\";\n",
       "                var nbb_formatted_code = \"path_to_train = f'{paths[\\\"DATA_PATH\\\"]}/train'\\npath_to_test = f'{paths[\\\"DATA_PATH\\\"]}/test'\\npath_to_labels = f'{paths[\\\"DATA_PATH\\\"]}/{LABEL_MAP_NAME}'\";\n",
       "                var nbb_cells = Jupyter.notebook.get_cells();\n",
       "                for (var i = 0; i < nbb_cells.length; ++i) {\n",
       "                    if (nbb_cells[i].input_prompt_number == nbb_cell_id) {\n",
       "                        if (nbb_cells[i].get_text() == nbb_unformatted_code) {\n",
       "                             nbb_cells[i].set_text(nbb_formatted_code);\n",
       "                        }\n",
       "                        break;\n",
       "                    }\n",
       "                }\n",
       "            }, 500);\n",
       "            "
      ],
      "text/plain": [
       "<IPython.core.display.Javascript object>"
      ]
     },
     "metadata": {},
     "output_type": "display_data"
    },
    {
     "data": {
      "application/javascript": [
       "\n",
       "            setTimeout(function() {\n",
       "                var nbb_cell_id = 222;\n",
       "                var nbb_unformatted_code = \"path_to_train = f'{paths[\\\"DATA_PATH\\\"]}/train'\\npath_to_test = f'{paths[\\\"DATA_PATH\\\"]}/test'\\npath_to_labels = f'{paths[\\\"DATA_PATH\\\"]}/{LABEL_MAP_NAME}'\";\n",
       "                var nbb_formatted_code = \"path_to_train = f'{paths[\\\"DATA_PATH\\\"]}/train'\\npath_to_test = f'{paths[\\\"DATA_PATH\\\"]}/test'\\npath_to_labels = f'{paths[\\\"DATA_PATH\\\"]}/{LABEL_MAP_NAME}'\";\n",
       "                var nbb_cells = Jupyter.notebook.get_cells();\n",
       "                for (var i = 0; i < nbb_cells.length; ++i) {\n",
       "                    if (nbb_cells[i].input_prompt_number == nbb_cell_id) {\n",
       "                        if (nbb_cells[i].get_text() == nbb_unformatted_code) {\n",
       "                             nbb_cells[i].set_text(nbb_formatted_code);\n",
       "                        }\n",
       "                        break;\n",
       "                    }\n",
       "                }\n",
       "            }, 500);\n",
       "            "
      ],
      "text/plain": [
       "<IPython.core.display.Javascript object>"
      ]
     },
     "metadata": {},
     "output_type": "display_data"
    },
    {
     "data": {
      "application/javascript": [
       "\n",
       "            setTimeout(function() {\n",
       "                var nbb_cell_id = 222;\n",
       "                var nbb_unformatted_code = \"path_to_train = f'{paths[\\\"DATA_PATH\\\"]}/train'\\npath_to_test = f'{paths[\\\"DATA_PATH\\\"]}/test'\\npath_to_labels = f'{paths[\\\"DATA_PATH\\\"]}/{LABEL_MAP_NAME}'\";\n",
       "                var nbb_formatted_code = \"path_to_train = f'{paths[\\\"DATA_PATH\\\"]}/train'\\npath_to_test = f'{paths[\\\"DATA_PATH\\\"]}/test'\\npath_to_labels = f'{paths[\\\"DATA_PATH\\\"]}/{LABEL_MAP_NAME}'\";\n",
       "                var nbb_cells = Jupyter.notebook.get_cells();\n",
       "                for (var i = 0; i < nbb_cells.length; ++i) {\n",
       "                    if (nbb_cells[i].input_prompt_number == nbb_cell_id) {\n",
       "                        if (nbb_cells[i].get_text() == nbb_unformatted_code) {\n",
       "                             nbb_cells[i].set_text(nbb_formatted_code);\n",
       "                        }\n",
       "                        break;\n",
       "                    }\n",
       "                }\n",
       "            }, 500);\n",
       "            "
      ],
      "text/plain": [
       "<IPython.core.display.Javascript object>"
      ]
     },
     "metadata": {},
     "output_type": "display_data"
    },
    {
     "data": {
      "application/javascript": [
       "\n",
       "            setTimeout(function() {\n",
       "                var nbb_cell_id = 222;\n",
       "                var nbb_unformatted_code = \"path_to_train = f'{paths[\\\"DATA_PATH\\\"]}/train'\\npath_to_test = f'{paths[\\\"DATA_PATH\\\"]}/test'\\npath_to_labels = f'{paths[\\\"DATA_PATH\\\"]}/{LABEL_MAP_NAME}'\";\n",
       "                var nbb_formatted_code = \"path_to_train = f'{paths[\\\"DATA_PATH\\\"]}/train'\\npath_to_test = f'{paths[\\\"DATA_PATH\\\"]}/test'\\npath_to_labels = f'{paths[\\\"DATA_PATH\\\"]}/{LABEL_MAP_NAME}'\";\n",
       "                var nbb_cells = Jupyter.notebook.get_cells();\n",
       "                for (var i = 0; i < nbb_cells.length; ++i) {\n",
       "                    if (nbb_cells[i].input_prompt_number == nbb_cell_id) {\n",
       "                        if (nbb_cells[i].get_text() == nbb_unformatted_code) {\n",
       "                             nbb_cells[i].set_text(nbb_formatted_code);\n",
       "                        }\n",
       "                        break;\n",
       "                    }\n",
       "                }\n",
       "            }, 500);\n",
       "            "
      ],
      "text/plain": [
       "<IPython.core.display.Javascript object>"
      ]
     },
     "metadata": {},
     "output_type": "display_data"
    },
    {
     "data": {
      "application/javascript": [
       "\n",
       "            setTimeout(function() {\n",
       "                var nbb_cell_id = 222;\n",
       "                var nbb_unformatted_code = \"path_to_train = f'{paths[\\\"DATA_PATH\\\"]}/train'\\npath_to_test = f'{paths[\\\"DATA_PATH\\\"]}/test'\\npath_to_labels = f'{paths[\\\"DATA_PATH\\\"]}/{LABEL_MAP_NAME}'\";\n",
       "                var nbb_formatted_code = \"path_to_train = f'{paths[\\\"DATA_PATH\\\"]}/train'\\npath_to_test = f'{paths[\\\"DATA_PATH\\\"]}/test'\\npath_to_labels = f'{paths[\\\"DATA_PATH\\\"]}/{LABEL_MAP_NAME}'\";\n",
       "                var nbb_cells = Jupyter.notebook.get_cells();\n",
       "                for (var i = 0; i < nbb_cells.length; ++i) {\n",
       "                    if (nbb_cells[i].input_prompt_number == nbb_cell_id) {\n",
       "                        if (nbb_cells[i].get_text() == nbb_unformatted_code) {\n",
       "                             nbb_cells[i].set_text(nbb_formatted_code);\n",
       "                        }\n",
       "                        break;\n",
       "                    }\n",
       "                }\n",
       "            }, 500);\n",
       "            "
      ],
      "text/plain": [
       "<IPython.core.display.Javascript object>"
      ]
     },
     "metadata": {},
     "output_type": "display_data"
    },
    {
     "data": {
      "application/javascript": [
       "\n",
       "            setTimeout(function() {\n",
       "                var nbb_cell_id = 222;\n",
       "                var nbb_unformatted_code = \"path_to_train = f'{paths[\\\"DATA_PATH\\\"]}/train'\\npath_to_test = f'{paths[\\\"DATA_PATH\\\"]}/test'\\npath_to_labels = f'{paths[\\\"DATA_PATH\\\"]}/{LABEL_MAP_NAME}'\";\n",
       "                var nbb_formatted_code = \"path_to_train = f'{paths[\\\"DATA_PATH\\\"]}/train'\\npath_to_test = f'{paths[\\\"DATA_PATH\\\"]}/test'\\npath_to_labels = f'{paths[\\\"DATA_PATH\\\"]}/{LABEL_MAP_NAME}'\";\n",
       "                var nbb_cells = Jupyter.notebook.get_cells();\n",
       "                for (var i = 0; i < nbb_cells.length; ++i) {\n",
       "                    if (nbb_cells[i].input_prompt_number == nbb_cell_id) {\n",
       "                        if (nbb_cells[i].get_text() == nbb_unformatted_code) {\n",
       "                             nbb_cells[i].set_text(nbb_formatted_code);\n",
       "                        }\n",
       "                        break;\n",
       "                    }\n",
       "                }\n",
       "            }, 500);\n",
       "            "
      ],
      "text/plain": [
       "<IPython.core.display.Javascript object>"
      ]
     },
     "metadata": {},
     "output_type": "display_data"
    },
    {
     "data": {
      "application/javascript": [
       "\n",
       "            setTimeout(function() {\n",
       "                var nbb_cell_id = 222;\n",
       "                var nbb_unformatted_code = \"path_to_train = f'{paths[\\\"DATA_PATH\\\"]}/train'\\npath_to_test = f'{paths[\\\"DATA_PATH\\\"]}/test'\\npath_to_labels = f'{paths[\\\"DATA_PATH\\\"]}/{LABEL_MAP_NAME}'\";\n",
       "                var nbb_formatted_code = \"path_to_train = f'{paths[\\\"DATA_PATH\\\"]}/train'\\npath_to_test = f'{paths[\\\"DATA_PATH\\\"]}/test'\\npath_to_labels = f'{paths[\\\"DATA_PATH\\\"]}/{LABEL_MAP_NAME}'\";\n",
       "                var nbb_cells = Jupyter.notebook.get_cells();\n",
       "                for (var i = 0; i < nbb_cells.length; ++i) {\n",
       "                    if (nbb_cells[i].input_prompt_number == nbb_cell_id) {\n",
       "                        if (nbb_cells[i].get_text() == nbb_unformatted_code) {\n",
       "                             nbb_cells[i].set_text(nbb_formatted_code);\n",
       "                        }\n",
       "                        break;\n",
       "                    }\n",
       "                }\n",
       "            }, 500);\n",
       "            "
      ],
      "text/plain": [
       "<IPython.core.display.Javascript object>"
      ]
     },
     "metadata": {},
     "output_type": "display_data"
    },
    {
     "data": {
      "application/javascript": [
       "\n",
       "            setTimeout(function() {\n",
       "                var nbb_cell_id = 222;\n",
       "                var nbb_unformatted_code = \"path_to_train = f'{paths[\\\"DATA_PATH\\\"]}/train'\\npath_to_test = f'{paths[\\\"DATA_PATH\\\"]}/test'\\npath_to_labels = f'{paths[\\\"DATA_PATH\\\"]}/{LABEL_MAP_NAME}'\";\n",
       "                var nbb_formatted_code = \"path_to_train = f'{paths[\\\"DATA_PATH\\\"]}/train'\\npath_to_test = f'{paths[\\\"DATA_PATH\\\"]}/test'\\npath_to_labels = f'{paths[\\\"DATA_PATH\\\"]}/{LABEL_MAP_NAME}'\";\n",
       "                var nbb_cells = Jupyter.notebook.get_cells();\n",
       "                for (var i = 0; i < nbb_cells.length; ++i) {\n",
       "                    if (nbb_cells[i].input_prompt_number == nbb_cell_id) {\n",
       "                        if (nbb_cells[i].get_text() == nbb_unformatted_code) {\n",
       "                             nbb_cells[i].set_text(nbb_formatted_code);\n",
       "                        }\n",
       "                        break;\n",
       "                    }\n",
       "                }\n",
       "            }, 500);\n",
       "            "
      ],
      "text/plain": [
       "<IPython.core.display.Javascript object>"
      ]
     },
     "metadata": {},
     "output_type": "display_data"
    },
    {
     "data": {
      "application/javascript": [
       "\n",
       "            setTimeout(function() {\n",
       "                var nbb_cell_id = 222;\n",
       "                var nbb_unformatted_code = \"path_to_train = f'{paths[\\\"DATA_PATH\\\"]}/train'\\npath_to_test = f'{paths[\\\"DATA_PATH\\\"]}/test'\\npath_to_labels = f'{paths[\\\"DATA_PATH\\\"]}/{LABEL_MAP_NAME}'\";\n",
       "                var nbb_formatted_code = \"path_to_train = f'{paths[\\\"DATA_PATH\\\"]}/train'\\npath_to_test = f'{paths[\\\"DATA_PATH\\\"]}/test'\\npath_to_labels = f'{paths[\\\"DATA_PATH\\\"]}/{LABEL_MAP_NAME}'\";\n",
       "                var nbb_cells = Jupyter.notebook.get_cells();\n",
       "                for (var i = 0; i < nbb_cells.length; ++i) {\n",
       "                    if (nbb_cells[i].input_prompt_number == nbb_cell_id) {\n",
       "                        if (nbb_cells[i].get_text() == nbb_unformatted_code) {\n",
       "                             nbb_cells[i].set_text(nbb_formatted_code);\n",
       "                        }\n",
       "                        break;\n",
       "                    }\n",
       "                }\n",
       "            }, 500);\n",
       "            "
      ],
      "text/plain": [
       "<IPython.core.display.Javascript object>"
      ]
     },
     "metadata": {},
     "output_type": "display_data"
    },
    {
     "data": {
      "application/javascript": [
       "\n",
       "            setTimeout(function() {\n",
       "                var nbb_cell_id = 222;\n",
       "                var nbb_unformatted_code = \"path_to_train = f'{paths[\\\"DATA_PATH\\\"]}/train'\\npath_to_test = f'{paths[\\\"DATA_PATH\\\"]}/test'\\npath_to_labels = f'{paths[\\\"DATA_PATH\\\"]}/{LABEL_MAP_NAME}'\";\n",
       "                var nbb_formatted_code = \"path_to_train = f'{paths[\\\"DATA_PATH\\\"]}/train'\\npath_to_test = f'{paths[\\\"DATA_PATH\\\"]}/test'\\npath_to_labels = f'{paths[\\\"DATA_PATH\\\"]}/{LABEL_MAP_NAME}'\";\n",
       "                var nbb_cells = Jupyter.notebook.get_cells();\n",
       "                for (var i = 0; i < nbb_cells.length; ++i) {\n",
       "                    if (nbb_cells[i].input_prompt_number == nbb_cell_id) {\n",
       "                        if (nbb_cells[i].get_text() == nbb_unformatted_code) {\n",
       "                             nbb_cells[i].set_text(nbb_formatted_code);\n",
       "                        }\n",
       "                        break;\n",
       "                    }\n",
       "                }\n",
       "            }, 500);\n",
       "            "
      ],
      "text/plain": [
       "<IPython.core.display.Javascript object>"
      ]
     },
     "metadata": {},
     "output_type": "display_data"
    }
   ],
   "source": [
    "path_to_train = f'{paths[\"DATA_PATH\"]}/train'\n",
    "path_to_test = f'{paths[\"DATA_PATH\"]}/test'\n",
    "path_to_labels = f'{paths[\"DATA_PATH\"]}/{LABEL_MAP_NAME}'"
   ]
  },
  {
   "cell_type": "code",
   "execution_count": 223,
   "id": "6161f59d",
   "metadata": {},
   "outputs": [
    {
     "data": {
      "application/javascript": [
       "\n",
       "            setTimeout(function() {\n",
       "                var nbb_cell_id = 223;\n",
       "                var nbb_unformatted_code = \"# !python3 generate_tfrecord.py -x {path_to_train} -l {path_to_labels} -o {os.path.join(paths[\\\"DATA_PATH\\\"], 'train.record')}\\n# !python3 generate_tfrecord.py -x {path_to_test} -l {path_to_labels} -o {os.path.join(paths[\\\"DATA_PATH\\\"], 'test.record')}\";\n",
       "                var nbb_formatted_code = \"# !python3 generate_tfrecord.py -x {path_to_train} -l {path_to_labels} -o {os.path.join(paths[\\\"DATA_PATH\\\"], 'train.record')}\\n# !python3 generate_tfrecord.py -x {path_to_test} -l {path_to_labels} -o {os.path.join(paths[\\\"DATA_PATH\\\"], 'test.record')}\";\n",
       "                var nbb_cells = Jupyter.notebook.get_cells();\n",
       "                for (var i = 0; i < nbb_cells.length; ++i) {\n",
       "                    if (nbb_cells[i].input_prompt_number == nbb_cell_id) {\n",
       "                        if (nbb_cells[i].get_text() == nbb_unformatted_code) {\n",
       "                             nbb_cells[i].set_text(nbb_formatted_code);\n",
       "                        }\n",
       "                        break;\n",
       "                    }\n",
       "                }\n",
       "            }, 500);\n",
       "            "
      ],
      "text/plain": [
       "<IPython.core.display.Javascript object>"
      ]
     },
     "metadata": {},
     "output_type": "display_data"
    },
    {
     "data": {
      "application/javascript": [
       "\n",
       "            setTimeout(function() {\n",
       "                var nbb_cell_id = 223;\n",
       "                var nbb_unformatted_code = \"# !python3 generate_tfrecord.py -x {path_to_train} -l {path_to_labels} -o {os.path.join(paths[\\\"DATA_PATH\\\"], 'train.record')}\\n# !python3 generate_tfrecord.py -x {path_to_test} -l {path_to_labels} -o {os.path.join(paths[\\\"DATA_PATH\\\"], 'test.record')}\";\n",
       "                var nbb_formatted_code = \"# !python3 generate_tfrecord.py -x {path_to_train} -l {path_to_labels} -o {os.path.join(paths[\\\"DATA_PATH\\\"], 'train.record')}\\n# !python3 generate_tfrecord.py -x {path_to_test} -l {path_to_labels} -o {os.path.join(paths[\\\"DATA_PATH\\\"], 'test.record')}\";\n",
       "                var nbb_cells = Jupyter.notebook.get_cells();\n",
       "                for (var i = 0; i < nbb_cells.length; ++i) {\n",
       "                    if (nbb_cells[i].input_prompt_number == nbb_cell_id) {\n",
       "                        if (nbb_cells[i].get_text() == nbb_unformatted_code) {\n",
       "                             nbb_cells[i].set_text(nbb_formatted_code);\n",
       "                        }\n",
       "                        break;\n",
       "                    }\n",
       "                }\n",
       "            }, 500);\n",
       "            "
      ],
      "text/plain": [
       "<IPython.core.display.Javascript object>"
      ]
     },
     "metadata": {},
     "output_type": "display_data"
    },
    {
     "data": {
      "application/javascript": [
       "\n",
       "            setTimeout(function() {\n",
       "                var nbb_cell_id = 223;\n",
       "                var nbb_unformatted_code = \"# !python3 generate_tfrecord.py -x {path_to_train} -l {path_to_labels} -o {os.path.join(paths[\\\"DATA_PATH\\\"], 'train.record')}\\n# !python3 generate_tfrecord.py -x {path_to_test} -l {path_to_labels} -o {os.path.join(paths[\\\"DATA_PATH\\\"], 'test.record')}\";\n",
       "                var nbb_formatted_code = \"# !python3 generate_tfrecord.py -x {path_to_train} -l {path_to_labels} -o {os.path.join(paths[\\\"DATA_PATH\\\"], 'train.record')}\\n# !python3 generate_tfrecord.py -x {path_to_test} -l {path_to_labels} -o {os.path.join(paths[\\\"DATA_PATH\\\"], 'test.record')}\";\n",
       "                var nbb_cells = Jupyter.notebook.get_cells();\n",
       "                for (var i = 0; i < nbb_cells.length; ++i) {\n",
       "                    if (nbb_cells[i].input_prompt_number == nbb_cell_id) {\n",
       "                        if (nbb_cells[i].get_text() == nbb_unformatted_code) {\n",
       "                             nbb_cells[i].set_text(nbb_formatted_code);\n",
       "                        }\n",
       "                        break;\n",
       "                    }\n",
       "                }\n",
       "            }, 500);\n",
       "            "
      ],
      "text/plain": [
       "<IPython.core.display.Javascript object>"
      ]
     },
     "metadata": {},
     "output_type": "display_data"
    },
    {
     "data": {
      "application/javascript": [
       "\n",
       "            setTimeout(function() {\n",
       "                var nbb_cell_id = 223;\n",
       "                var nbb_unformatted_code = \"# !python3 generate_tfrecord.py -x {path_to_train} -l {path_to_labels} -o {os.path.join(paths[\\\"DATA_PATH\\\"], 'train.record')}\\n# !python3 generate_tfrecord.py -x {path_to_test} -l {path_to_labels} -o {os.path.join(paths[\\\"DATA_PATH\\\"], 'test.record')}\";\n",
       "                var nbb_formatted_code = \"# !python3 generate_tfrecord.py -x {path_to_train} -l {path_to_labels} -o {os.path.join(paths[\\\"DATA_PATH\\\"], 'train.record')}\\n# !python3 generate_tfrecord.py -x {path_to_test} -l {path_to_labels} -o {os.path.join(paths[\\\"DATA_PATH\\\"], 'test.record')}\";\n",
       "                var nbb_cells = Jupyter.notebook.get_cells();\n",
       "                for (var i = 0; i < nbb_cells.length; ++i) {\n",
       "                    if (nbb_cells[i].input_prompt_number == nbb_cell_id) {\n",
       "                        if (nbb_cells[i].get_text() == nbb_unformatted_code) {\n",
       "                             nbb_cells[i].set_text(nbb_formatted_code);\n",
       "                        }\n",
       "                        break;\n",
       "                    }\n",
       "                }\n",
       "            }, 500);\n",
       "            "
      ],
      "text/plain": [
       "<IPython.core.display.Javascript object>"
      ]
     },
     "metadata": {},
     "output_type": "display_data"
    },
    {
     "data": {
      "application/javascript": [
       "\n",
       "            setTimeout(function() {\n",
       "                var nbb_cell_id = 223;\n",
       "                var nbb_unformatted_code = \"# !python3 generate_tfrecord.py -x {path_to_train} -l {path_to_labels} -o {os.path.join(paths[\\\"DATA_PATH\\\"], 'train.record')}\\n# !python3 generate_tfrecord.py -x {path_to_test} -l {path_to_labels} -o {os.path.join(paths[\\\"DATA_PATH\\\"], 'test.record')}\";\n",
       "                var nbb_formatted_code = \"# !python3 generate_tfrecord.py -x {path_to_train} -l {path_to_labels} -o {os.path.join(paths[\\\"DATA_PATH\\\"], 'train.record')}\\n# !python3 generate_tfrecord.py -x {path_to_test} -l {path_to_labels} -o {os.path.join(paths[\\\"DATA_PATH\\\"], 'test.record')}\";\n",
       "                var nbb_cells = Jupyter.notebook.get_cells();\n",
       "                for (var i = 0; i < nbb_cells.length; ++i) {\n",
       "                    if (nbb_cells[i].input_prompt_number == nbb_cell_id) {\n",
       "                        if (nbb_cells[i].get_text() == nbb_unformatted_code) {\n",
       "                             nbb_cells[i].set_text(nbb_formatted_code);\n",
       "                        }\n",
       "                        break;\n",
       "                    }\n",
       "                }\n",
       "            }, 500);\n",
       "            "
      ],
      "text/plain": [
       "<IPython.core.display.Javascript object>"
      ]
     },
     "metadata": {},
     "output_type": "display_data"
    },
    {
     "data": {
      "application/javascript": [
       "\n",
       "            setTimeout(function() {\n",
       "                var nbb_cell_id = 223;\n",
       "                var nbb_unformatted_code = \"# !python3 generate_tfrecord.py -x {path_to_train} -l {path_to_labels} -o {os.path.join(paths[\\\"DATA_PATH\\\"], 'train.record')}\\n# !python3 generate_tfrecord.py -x {path_to_test} -l {path_to_labels} -o {os.path.join(paths[\\\"DATA_PATH\\\"], 'test.record')}\";\n",
       "                var nbb_formatted_code = \"# !python3 generate_tfrecord.py -x {path_to_train} -l {path_to_labels} -o {os.path.join(paths[\\\"DATA_PATH\\\"], 'train.record')}\\n# !python3 generate_tfrecord.py -x {path_to_test} -l {path_to_labels} -o {os.path.join(paths[\\\"DATA_PATH\\\"], 'test.record')}\";\n",
       "                var nbb_cells = Jupyter.notebook.get_cells();\n",
       "                for (var i = 0; i < nbb_cells.length; ++i) {\n",
       "                    if (nbb_cells[i].input_prompt_number == nbb_cell_id) {\n",
       "                        if (nbb_cells[i].get_text() == nbb_unformatted_code) {\n",
       "                             nbb_cells[i].set_text(nbb_formatted_code);\n",
       "                        }\n",
       "                        break;\n",
       "                    }\n",
       "                }\n",
       "            }, 500);\n",
       "            "
      ],
      "text/plain": [
       "<IPython.core.display.Javascript object>"
      ]
     },
     "metadata": {},
     "output_type": "display_data"
    },
    {
     "data": {
      "application/javascript": [
       "\n",
       "            setTimeout(function() {\n",
       "                var nbb_cell_id = 223;\n",
       "                var nbb_unformatted_code = \"# !python3 generate_tfrecord.py -x {path_to_train} -l {path_to_labels} -o {os.path.join(paths[\\\"DATA_PATH\\\"], 'train.record')}\\n# !python3 generate_tfrecord.py -x {path_to_test} -l {path_to_labels} -o {os.path.join(paths[\\\"DATA_PATH\\\"], 'test.record')}\";\n",
       "                var nbb_formatted_code = \"# !python3 generate_tfrecord.py -x {path_to_train} -l {path_to_labels} -o {os.path.join(paths[\\\"DATA_PATH\\\"], 'train.record')}\\n# !python3 generate_tfrecord.py -x {path_to_test} -l {path_to_labels} -o {os.path.join(paths[\\\"DATA_PATH\\\"], 'test.record')}\";\n",
       "                var nbb_cells = Jupyter.notebook.get_cells();\n",
       "                for (var i = 0; i < nbb_cells.length; ++i) {\n",
       "                    if (nbb_cells[i].input_prompt_number == nbb_cell_id) {\n",
       "                        if (nbb_cells[i].get_text() == nbb_unformatted_code) {\n",
       "                             nbb_cells[i].set_text(nbb_formatted_code);\n",
       "                        }\n",
       "                        break;\n",
       "                    }\n",
       "                }\n",
       "            }, 500);\n",
       "            "
      ],
      "text/plain": [
       "<IPython.core.display.Javascript object>"
      ]
     },
     "metadata": {},
     "output_type": "display_data"
    },
    {
     "data": {
      "application/javascript": [
       "\n",
       "            setTimeout(function() {\n",
       "                var nbb_cell_id = 223;\n",
       "                var nbb_unformatted_code = \"# !python3 generate_tfrecord.py -x {path_to_train} -l {path_to_labels} -o {os.path.join(paths[\\\"DATA_PATH\\\"], 'train.record')}\\n# !python3 generate_tfrecord.py -x {path_to_test} -l {path_to_labels} -o {os.path.join(paths[\\\"DATA_PATH\\\"], 'test.record')}\";\n",
       "                var nbb_formatted_code = \"# !python3 generate_tfrecord.py -x {path_to_train} -l {path_to_labels} -o {os.path.join(paths[\\\"DATA_PATH\\\"], 'train.record')}\\n# !python3 generate_tfrecord.py -x {path_to_test} -l {path_to_labels} -o {os.path.join(paths[\\\"DATA_PATH\\\"], 'test.record')}\";\n",
       "                var nbb_cells = Jupyter.notebook.get_cells();\n",
       "                for (var i = 0; i < nbb_cells.length; ++i) {\n",
       "                    if (nbb_cells[i].input_prompt_number == nbb_cell_id) {\n",
       "                        if (nbb_cells[i].get_text() == nbb_unformatted_code) {\n",
       "                             nbb_cells[i].set_text(nbb_formatted_code);\n",
       "                        }\n",
       "                        break;\n",
       "                    }\n",
       "                }\n",
       "            }, 500);\n",
       "            "
      ],
      "text/plain": [
       "<IPython.core.display.Javascript object>"
      ]
     },
     "metadata": {},
     "output_type": "display_data"
    },
    {
     "data": {
      "application/javascript": [
       "\n",
       "            setTimeout(function() {\n",
       "                var nbb_cell_id = 223;\n",
       "                var nbb_unformatted_code = \"# !python3 generate_tfrecord.py -x {path_to_train} -l {path_to_labels} -o {os.path.join(paths[\\\"DATA_PATH\\\"], 'train.record')}\\n# !python3 generate_tfrecord.py -x {path_to_test} -l {path_to_labels} -o {os.path.join(paths[\\\"DATA_PATH\\\"], 'test.record')}\";\n",
       "                var nbb_formatted_code = \"# !python3 generate_tfrecord.py -x {path_to_train} -l {path_to_labels} -o {os.path.join(paths[\\\"DATA_PATH\\\"], 'train.record')}\\n# !python3 generate_tfrecord.py -x {path_to_test} -l {path_to_labels} -o {os.path.join(paths[\\\"DATA_PATH\\\"], 'test.record')}\";\n",
       "                var nbb_cells = Jupyter.notebook.get_cells();\n",
       "                for (var i = 0; i < nbb_cells.length; ++i) {\n",
       "                    if (nbb_cells[i].input_prompt_number == nbb_cell_id) {\n",
       "                        if (nbb_cells[i].get_text() == nbb_unformatted_code) {\n",
       "                             nbb_cells[i].set_text(nbb_formatted_code);\n",
       "                        }\n",
       "                        break;\n",
       "                    }\n",
       "                }\n",
       "            }, 500);\n",
       "            "
      ],
      "text/plain": [
       "<IPython.core.display.Javascript object>"
      ]
     },
     "metadata": {},
     "output_type": "display_data"
    },
    {
     "data": {
      "application/javascript": [
       "\n",
       "            setTimeout(function() {\n",
       "                var nbb_cell_id = 223;\n",
       "                var nbb_unformatted_code = \"# !python3 generate_tfrecord.py -x {path_to_train} -l {path_to_labels} -o {os.path.join(paths[\\\"DATA_PATH\\\"], 'train.record')}\\n# !python3 generate_tfrecord.py -x {path_to_test} -l {path_to_labels} -o {os.path.join(paths[\\\"DATA_PATH\\\"], 'test.record')}\";\n",
       "                var nbb_formatted_code = \"# !python3 generate_tfrecord.py -x {path_to_train} -l {path_to_labels} -o {os.path.join(paths[\\\"DATA_PATH\\\"], 'train.record')}\\n# !python3 generate_tfrecord.py -x {path_to_test} -l {path_to_labels} -o {os.path.join(paths[\\\"DATA_PATH\\\"], 'test.record')}\";\n",
       "                var nbb_cells = Jupyter.notebook.get_cells();\n",
       "                for (var i = 0; i < nbb_cells.length; ++i) {\n",
       "                    if (nbb_cells[i].input_prompt_number == nbb_cell_id) {\n",
       "                        if (nbb_cells[i].get_text() == nbb_unformatted_code) {\n",
       "                             nbb_cells[i].set_text(nbb_formatted_code);\n",
       "                        }\n",
       "                        break;\n",
       "                    }\n",
       "                }\n",
       "            }, 500);\n",
       "            "
      ],
      "text/plain": [
       "<IPython.core.display.Javascript object>"
      ]
     },
     "metadata": {},
     "output_type": "display_data"
    }
   ],
   "source": [
    "# !python3 generate_tfrecord.py -x {path_to_train} -l {path_to_labels} -o {os.path.join(paths[\"DATA_PATH\"], 'train.record')}\n",
    "# !python3 generate_tfrecord.py -x {path_to_test} -l {path_to_labels} -o {os.path.join(paths[\"DATA_PATH\"], 'test.record')}"
   ]
  },
  {
   "cell_type": "code",
   "execution_count": 224,
   "id": "c07f7d2c",
   "metadata": {},
   "outputs": [
    {
     "data": {
      "application/javascript": [
       "\n",
       "            setTimeout(function() {\n",
       "                var nbb_cell_id = 224;\n",
       "                var nbb_unformatted_code = \"if os.name == \\\"posix\\\":\\n    !cp {os.path.join(paths['PRETRAINED_MODEL_PATH'], PRETRAINED_MODEL_NAME, 'pipeline.config')} {os.path.join(paths['CHECKPOINT_PATH'])}\\nif os.name == \\\"nt\\\":\\n    !copy {os.path.join(paths['PRETRAINED_MODEL_PATH'], PRETRAINED_MODEL_NAME, 'pipeline.config')} {os.path.join(paths['CHECKPOINT_PATH'])}\";\n",
       "                var nbb_formatted_code = \"if os.name == \\\"posix\\\":\\n    !cp {os.path.join(paths['PRETRAINED_MODEL_PATH'], PRETRAINED_MODEL_NAME, 'pipeline.config')} {os.path.join(paths['CHECKPOINT_PATH'])}\\nif os.name == \\\"nt\\\":\\n    !copy {os.path.join(paths['PRETRAINED_MODEL_PATH'], PRETRAINED_MODEL_NAME, 'pipeline.config')} {os.path.join(paths['CHECKPOINT_PATH'])}\";\n",
       "                var nbb_cells = Jupyter.notebook.get_cells();\n",
       "                for (var i = 0; i < nbb_cells.length; ++i) {\n",
       "                    if (nbb_cells[i].input_prompt_number == nbb_cell_id) {\n",
       "                        if (nbb_cells[i].get_text() == nbb_unformatted_code) {\n",
       "                             nbb_cells[i].set_text(nbb_formatted_code);\n",
       "                        }\n",
       "                        break;\n",
       "                    }\n",
       "                }\n",
       "            }, 500);\n",
       "            "
      ],
      "text/plain": [
       "<IPython.core.display.Javascript object>"
      ]
     },
     "metadata": {},
     "output_type": "display_data"
    },
    {
     "data": {
      "application/javascript": [
       "\n",
       "            setTimeout(function() {\n",
       "                var nbb_cell_id = 224;\n",
       "                var nbb_unformatted_code = \"if os.name == \\\"posix\\\":\\n    !cp {os.path.join(paths['PRETRAINED_MODEL_PATH'], PRETRAINED_MODEL_NAME, 'pipeline.config')} {os.path.join(paths['CHECKPOINT_PATH'])}\\nif os.name == \\\"nt\\\":\\n    !copy {os.path.join(paths['PRETRAINED_MODEL_PATH'], PRETRAINED_MODEL_NAME, 'pipeline.config')} {os.path.join(paths['CHECKPOINT_PATH'])}\";\n",
       "                var nbb_formatted_code = \"if os.name == \\\"posix\\\":\\n    !cp {os.path.join(paths['PRETRAINED_MODEL_PATH'], PRETRAINED_MODEL_NAME, 'pipeline.config')} {os.path.join(paths['CHECKPOINT_PATH'])}\\nif os.name == \\\"nt\\\":\\n    !copy {os.path.join(paths['PRETRAINED_MODEL_PATH'], PRETRAINED_MODEL_NAME, 'pipeline.config')} {os.path.join(paths['CHECKPOINT_PATH'])}\";\n",
       "                var nbb_cells = Jupyter.notebook.get_cells();\n",
       "                for (var i = 0; i < nbb_cells.length; ++i) {\n",
       "                    if (nbb_cells[i].input_prompt_number == nbb_cell_id) {\n",
       "                        if (nbb_cells[i].get_text() == nbb_unformatted_code) {\n",
       "                             nbb_cells[i].set_text(nbb_formatted_code);\n",
       "                        }\n",
       "                        break;\n",
       "                    }\n",
       "                }\n",
       "            }, 500);\n",
       "            "
      ],
      "text/plain": [
       "<IPython.core.display.Javascript object>"
      ]
     },
     "metadata": {},
     "output_type": "display_data"
    },
    {
     "data": {
      "application/javascript": [
       "\n",
       "            setTimeout(function() {\n",
       "                var nbb_cell_id = 224;\n",
       "                var nbb_unformatted_code = \"if os.name == \\\"posix\\\":\\n    !cp {os.path.join(paths['PRETRAINED_MODEL_PATH'], PRETRAINED_MODEL_NAME, 'pipeline.config')} {os.path.join(paths['CHECKPOINT_PATH'])}\\nif os.name == \\\"nt\\\":\\n    !copy {os.path.join(paths['PRETRAINED_MODEL_PATH'], PRETRAINED_MODEL_NAME, 'pipeline.config')} {os.path.join(paths['CHECKPOINT_PATH'])}\";\n",
       "                var nbb_formatted_code = \"if os.name == \\\"posix\\\":\\n    !cp {os.path.join(paths['PRETRAINED_MODEL_PATH'], PRETRAINED_MODEL_NAME, 'pipeline.config')} {os.path.join(paths['CHECKPOINT_PATH'])}\\nif os.name == \\\"nt\\\":\\n    !copy {os.path.join(paths['PRETRAINED_MODEL_PATH'], PRETRAINED_MODEL_NAME, 'pipeline.config')} {os.path.join(paths['CHECKPOINT_PATH'])}\";\n",
       "                var nbb_cells = Jupyter.notebook.get_cells();\n",
       "                for (var i = 0; i < nbb_cells.length; ++i) {\n",
       "                    if (nbb_cells[i].input_prompt_number == nbb_cell_id) {\n",
       "                        if (nbb_cells[i].get_text() == nbb_unformatted_code) {\n",
       "                             nbb_cells[i].set_text(nbb_formatted_code);\n",
       "                        }\n",
       "                        break;\n",
       "                    }\n",
       "                }\n",
       "            }, 500);\n",
       "            "
      ],
      "text/plain": [
       "<IPython.core.display.Javascript object>"
      ]
     },
     "metadata": {},
     "output_type": "display_data"
    },
    {
     "data": {
      "application/javascript": [
       "\n",
       "            setTimeout(function() {\n",
       "                var nbb_cell_id = 224;\n",
       "                var nbb_unformatted_code = \"if os.name == \\\"posix\\\":\\n    !cp {os.path.join(paths['PRETRAINED_MODEL_PATH'], PRETRAINED_MODEL_NAME, 'pipeline.config')} {os.path.join(paths['CHECKPOINT_PATH'])}\\nif os.name == \\\"nt\\\":\\n    !copy {os.path.join(paths['PRETRAINED_MODEL_PATH'], PRETRAINED_MODEL_NAME, 'pipeline.config')} {os.path.join(paths['CHECKPOINT_PATH'])}\";\n",
       "                var nbb_formatted_code = \"if os.name == \\\"posix\\\":\\n    !cp {os.path.join(paths['PRETRAINED_MODEL_PATH'], PRETRAINED_MODEL_NAME, 'pipeline.config')} {os.path.join(paths['CHECKPOINT_PATH'])}\\nif os.name == \\\"nt\\\":\\n    !copy {os.path.join(paths['PRETRAINED_MODEL_PATH'], PRETRAINED_MODEL_NAME, 'pipeline.config')} {os.path.join(paths['CHECKPOINT_PATH'])}\";\n",
       "                var nbb_cells = Jupyter.notebook.get_cells();\n",
       "                for (var i = 0; i < nbb_cells.length; ++i) {\n",
       "                    if (nbb_cells[i].input_prompt_number == nbb_cell_id) {\n",
       "                        if (nbb_cells[i].get_text() == nbb_unformatted_code) {\n",
       "                             nbb_cells[i].set_text(nbb_formatted_code);\n",
       "                        }\n",
       "                        break;\n",
       "                    }\n",
       "                }\n",
       "            }, 500);\n",
       "            "
      ],
      "text/plain": [
       "<IPython.core.display.Javascript object>"
      ]
     },
     "metadata": {},
     "output_type": "display_data"
    },
    {
     "data": {
      "application/javascript": [
       "\n",
       "            setTimeout(function() {\n",
       "                var nbb_cell_id = 224;\n",
       "                var nbb_unformatted_code = \"if os.name == \\\"posix\\\":\\n    !cp {os.path.join(paths['PRETRAINED_MODEL_PATH'], PRETRAINED_MODEL_NAME, 'pipeline.config')} {os.path.join(paths['CHECKPOINT_PATH'])}\\nif os.name == \\\"nt\\\":\\n    !copy {os.path.join(paths['PRETRAINED_MODEL_PATH'], PRETRAINED_MODEL_NAME, 'pipeline.config')} {os.path.join(paths['CHECKPOINT_PATH'])}\";\n",
       "                var nbb_formatted_code = \"if os.name == \\\"posix\\\":\\n    !cp {os.path.join(paths['PRETRAINED_MODEL_PATH'], PRETRAINED_MODEL_NAME, 'pipeline.config')} {os.path.join(paths['CHECKPOINT_PATH'])}\\nif os.name == \\\"nt\\\":\\n    !copy {os.path.join(paths['PRETRAINED_MODEL_PATH'], PRETRAINED_MODEL_NAME, 'pipeline.config')} {os.path.join(paths['CHECKPOINT_PATH'])}\";\n",
       "                var nbb_cells = Jupyter.notebook.get_cells();\n",
       "                for (var i = 0; i < nbb_cells.length; ++i) {\n",
       "                    if (nbb_cells[i].input_prompt_number == nbb_cell_id) {\n",
       "                        if (nbb_cells[i].get_text() == nbb_unformatted_code) {\n",
       "                             nbb_cells[i].set_text(nbb_formatted_code);\n",
       "                        }\n",
       "                        break;\n",
       "                    }\n",
       "                }\n",
       "            }, 500);\n",
       "            "
      ],
      "text/plain": [
       "<IPython.core.display.Javascript object>"
      ]
     },
     "metadata": {},
     "output_type": "display_data"
    },
    {
     "data": {
      "application/javascript": [
       "\n",
       "            setTimeout(function() {\n",
       "                var nbb_cell_id = 224;\n",
       "                var nbb_unformatted_code = \"if os.name == \\\"posix\\\":\\n    !cp {os.path.join(paths['PRETRAINED_MODEL_PATH'], PRETRAINED_MODEL_NAME, 'pipeline.config')} {os.path.join(paths['CHECKPOINT_PATH'])}\\nif os.name == \\\"nt\\\":\\n    !copy {os.path.join(paths['PRETRAINED_MODEL_PATH'], PRETRAINED_MODEL_NAME, 'pipeline.config')} {os.path.join(paths['CHECKPOINT_PATH'])}\";\n",
       "                var nbb_formatted_code = \"if os.name == \\\"posix\\\":\\n    !cp {os.path.join(paths['PRETRAINED_MODEL_PATH'], PRETRAINED_MODEL_NAME, 'pipeline.config')} {os.path.join(paths['CHECKPOINT_PATH'])}\\nif os.name == \\\"nt\\\":\\n    !copy {os.path.join(paths['PRETRAINED_MODEL_PATH'], PRETRAINED_MODEL_NAME, 'pipeline.config')} {os.path.join(paths['CHECKPOINT_PATH'])}\";\n",
       "                var nbb_cells = Jupyter.notebook.get_cells();\n",
       "                for (var i = 0; i < nbb_cells.length; ++i) {\n",
       "                    if (nbb_cells[i].input_prompt_number == nbb_cell_id) {\n",
       "                        if (nbb_cells[i].get_text() == nbb_unformatted_code) {\n",
       "                             nbb_cells[i].set_text(nbb_formatted_code);\n",
       "                        }\n",
       "                        break;\n",
       "                    }\n",
       "                }\n",
       "            }, 500);\n",
       "            "
      ],
      "text/plain": [
       "<IPython.core.display.Javascript object>"
      ]
     },
     "metadata": {},
     "output_type": "display_data"
    },
    {
     "data": {
      "application/javascript": [
       "\n",
       "            setTimeout(function() {\n",
       "                var nbb_cell_id = 224;\n",
       "                var nbb_unformatted_code = \"if os.name == \\\"posix\\\":\\n    !cp {os.path.join(paths['PRETRAINED_MODEL_PATH'], PRETRAINED_MODEL_NAME, 'pipeline.config')} {os.path.join(paths['CHECKPOINT_PATH'])}\\nif os.name == \\\"nt\\\":\\n    !copy {os.path.join(paths['PRETRAINED_MODEL_PATH'], PRETRAINED_MODEL_NAME, 'pipeline.config')} {os.path.join(paths['CHECKPOINT_PATH'])}\";\n",
       "                var nbb_formatted_code = \"if os.name == \\\"posix\\\":\\n    !cp {os.path.join(paths['PRETRAINED_MODEL_PATH'], PRETRAINED_MODEL_NAME, 'pipeline.config')} {os.path.join(paths['CHECKPOINT_PATH'])}\\nif os.name == \\\"nt\\\":\\n    !copy {os.path.join(paths['PRETRAINED_MODEL_PATH'], PRETRAINED_MODEL_NAME, 'pipeline.config')} {os.path.join(paths['CHECKPOINT_PATH'])}\";\n",
       "                var nbb_cells = Jupyter.notebook.get_cells();\n",
       "                for (var i = 0; i < nbb_cells.length; ++i) {\n",
       "                    if (nbb_cells[i].input_prompt_number == nbb_cell_id) {\n",
       "                        if (nbb_cells[i].get_text() == nbb_unformatted_code) {\n",
       "                             nbb_cells[i].set_text(nbb_formatted_code);\n",
       "                        }\n",
       "                        break;\n",
       "                    }\n",
       "                }\n",
       "            }, 500);\n",
       "            "
      ],
      "text/plain": [
       "<IPython.core.display.Javascript object>"
      ]
     },
     "metadata": {},
     "output_type": "display_data"
    },
    {
     "data": {
      "application/javascript": [
       "\n",
       "            setTimeout(function() {\n",
       "                var nbb_cell_id = 224;\n",
       "                var nbb_unformatted_code = \"if os.name == \\\"posix\\\":\\n    !cp {os.path.join(paths['PRETRAINED_MODEL_PATH'], PRETRAINED_MODEL_NAME, 'pipeline.config')} {os.path.join(paths['CHECKPOINT_PATH'])}\\nif os.name == \\\"nt\\\":\\n    !copy {os.path.join(paths['PRETRAINED_MODEL_PATH'], PRETRAINED_MODEL_NAME, 'pipeline.config')} {os.path.join(paths['CHECKPOINT_PATH'])}\";\n",
       "                var nbb_formatted_code = \"if os.name == \\\"posix\\\":\\n    !cp {os.path.join(paths['PRETRAINED_MODEL_PATH'], PRETRAINED_MODEL_NAME, 'pipeline.config')} {os.path.join(paths['CHECKPOINT_PATH'])}\\nif os.name == \\\"nt\\\":\\n    !copy {os.path.join(paths['PRETRAINED_MODEL_PATH'], PRETRAINED_MODEL_NAME, 'pipeline.config')} {os.path.join(paths['CHECKPOINT_PATH'])}\";\n",
       "                var nbb_cells = Jupyter.notebook.get_cells();\n",
       "                for (var i = 0; i < nbb_cells.length; ++i) {\n",
       "                    if (nbb_cells[i].input_prompt_number == nbb_cell_id) {\n",
       "                        if (nbb_cells[i].get_text() == nbb_unformatted_code) {\n",
       "                             nbb_cells[i].set_text(nbb_formatted_code);\n",
       "                        }\n",
       "                        break;\n",
       "                    }\n",
       "                }\n",
       "            }, 500);\n",
       "            "
      ],
      "text/plain": [
       "<IPython.core.display.Javascript object>"
      ]
     },
     "metadata": {},
     "output_type": "display_data"
    },
    {
     "data": {
      "application/javascript": [
       "\n",
       "            setTimeout(function() {\n",
       "                var nbb_cell_id = 224;\n",
       "                var nbb_unformatted_code = \"if os.name == \\\"posix\\\":\\n    !cp {os.path.join(paths['PRETRAINED_MODEL_PATH'], PRETRAINED_MODEL_NAME, 'pipeline.config')} {os.path.join(paths['CHECKPOINT_PATH'])}\\nif os.name == \\\"nt\\\":\\n    !copy {os.path.join(paths['PRETRAINED_MODEL_PATH'], PRETRAINED_MODEL_NAME, 'pipeline.config')} {os.path.join(paths['CHECKPOINT_PATH'])}\";\n",
       "                var nbb_formatted_code = \"if os.name == \\\"posix\\\":\\n    !cp {os.path.join(paths['PRETRAINED_MODEL_PATH'], PRETRAINED_MODEL_NAME, 'pipeline.config')} {os.path.join(paths['CHECKPOINT_PATH'])}\\nif os.name == \\\"nt\\\":\\n    !copy {os.path.join(paths['PRETRAINED_MODEL_PATH'], PRETRAINED_MODEL_NAME, 'pipeline.config')} {os.path.join(paths['CHECKPOINT_PATH'])}\";\n",
       "                var nbb_cells = Jupyter.notebook.get_cells();\n",
       "                for (var i = 0; i < nbb_cells.length; ++i) {\n",
       "                    if (nbb_cells[i].input_prompt_number == nbb_cell_id) {\n",
       "                        if (nbb_cells[i].get_text() == nbb_unformatted_code) {\n",
       "                             nbb_cells[i].set_text(nbb_formatted_code);\n",
       "                        }\n",
       "                        break;\n",
       "                    }\n",
       "                }\n",
       "            }, 500);\n",
       "            "
      ],
      "text/plain": [
       "<IPython.core.display.Javascript object>"
      ]
     },
     "metadata": {},
     "output_type": "display_data"
    },
    {
     "data": {
      "application/javascript": [
       "\n",
       "            setTimeout(function() {\n",
       "                var nbb_cell_id = 224;\n",
       "                var nbb_unformatted_code = \"if os.name == \\\"posix\\\":\\n    !cp {os.path.join(paths['PRETRAINED_MODEL_PATH'], PRETRAINED_MODEL_NAME, 'pipeline.config')} {os.path.join(paths['CHECKPOINT_PATH'])}\\nif os.name == \\\"nt\\\":\\n    !copy {os.path.join(paths['PRETRAINED_MODEL_PATH'], PRETRAINED_MODEL_NAME, 'pipeline.config')} {os.path.join(paths['CHECKPOINT_PATH'])}\";\n",
       "                var nbb_formatted_code = \"if os.name == \\\"posix\\\":\\n    !cp {os.path.join(paths['PRETRAINED_MODEL_PATH'], PRETRAINED_MODEL_NAME, 'pipeline.config')} {os.path.join(paths['CHECKPOINT_PATH'])}\\nif os.name == \\\"nt\\\":\\n    !copy {os.path.join(paths['PRETRAINED_MODEL_PATH'], PRETRAINED_MODEL_NAME, 'pipeline.config')} {os.path.join(paths['CHECKPOINT_PATH'])}\";\n",
       "                var nbb_cells = Jupyter.notebook.get_cells();\n",
       "                for (var i = 0; i < nbb_cells.length; ++i) {\n",
       "                    if (nbb_cells[i].input_prompt_number == nbb_cell_id) {\n",
       "                        if (nbb_cells[i].get_text() == nbb_unformatted_code) {\n",
       "                             nbb_cells[i].set_text(nbb_formatted_code);\n",
       "                        }\n",
       "                        break;\n",
       "                    }\n",
       "                }\n",
       "            }, 500);\n",
       "            "
      ],
      "text/plain": [
       "<IPython.core.display.Javascript object>"
      ]
     },
     "metadata": {},
     "output_type": "display_data"
    }
   ],
   "source": [
    "if os.name == \"posix\":\n",
    "    !cp {os.path.join(paths['PRETRAINED_MODEL_PATH'], PRETRAINED_MODEL_NAME, 'pipeline.config')} {os.path.join(paths['CHECKPOINT_PATH'])}\n",
    "if os.name == \"nt\":\n",
    "    !copy {os.path.join(paths['PRETRAINED_MODEL_PATH'], PRETRAINED_MODEL_NAME, 'pipeline.config')} {os.path.join(paths['CHECKPOINT_PATH'])}"
   ]
  },
  {
   "cell_type": "code",
   "execution_count": 225,
   "id": "9a123bcc",
   "metadata": {
    "scrolled": false
   },
   "outputs": [
    {
     "data": {
      "text/plain": [
       "{'model': ssd {\n",
       "   num_classes: 90\n",
       "   image_resizer {\n",
       "     keep_aspect_ratio_resizer {\n",
       "       min_dimension: 1024\n",
       "       max_dimension: 1024\n",
       "       pad_to_max_dimension: true\n",
       "     }\n",
       "   }\n",
       "   feature_extractor {\n",
       "     type: \"ssd_efficientnet-b4_bifpn_keras\"\n",
       "     conv_hyperparams {\n",
       "       regularizer {\n",
       "         l2_regularizer {\n",
       "           weight: 3.9999998989515007e-05\n",
       "         }\n",
       "       }\n",
       "       initializer {\n",
       "         truncated_normal_initializer {\n",
       "           mean: 0.0\n",
       "           stddev: 0.029999999329447746\n",
       "         }\n",
       "       }\n",
       "       activation: SWISH\n",
       "       batch_norm {\n",
       "         decay: 0.9900000095367432\n",
       "         scale: true\n",
       "         epsilon: 0.0010000000474974513\n",
       "       }\n",
       "       force_use_bias: true\n",
       "     }\n",
       "     bifpn {\n",
       "       min_level: 3\n",
       "       max_level: 7\n",
       "       num_iterations: 7\n",
       "       num_filters: 224\n",
       "     }\n",
       "   }\n",
       "   box_coder {\n",
       "     faster_rcnn_box_coder {\n",
       "       y_scale: 1.0\n",
       "       x_scale: 1.0\n",
       "       height_scale: 1.0\n",
       "       width_scale: 1.0\n",
       "     }\n",
       "   }\n",
       "   matcher {\n",
       "     argmax_matcher {\n",
       "       matched_threshold: 0.5\n",
       "       unmatched_threshold: 0.5\n",
       "       ignore_thresholds: false\n",
       "       negatives_lower_than_unmatched: true\n",
       "       force_match_for_each_row: true\n",
       "       use_matmul_gather: true\n",
       "     }\n",
       "   }\n",
       "   similarity_calculator {\n",
       "     iou_similarity {\n",
       "     }\n",
       "   }\n",
       "   box_predictor {\n",
       "     weight_shared_convolutional_box_predictor {\n",
       "       conv_hyperparams {\n",
       "         regularizer {\n",
       "           l2_regularizer {\n",
       "             weight: 3.9999998989515007e-05\n",
       "           }\n",
       "         }\n",
       "         initializer {\n",
       "           random_normal_initializer {\n",
       "             mean: 0.0\n",
       "             stddev: 0.009999999776482582\n",
       "           }\n",
       "         }\n",
       "         activation: SWISH\n",
       "         batch_norm {\n",
       "           decay: 0.9900000095367432\n",
       "           scale: true\n",
       "           epsilon: 0.0010000000474974513\n",
       "         }\n",
       "         force_use_bias: true\n",
       "       }\n",
       "       depth: 224\n",
       "       num_layers_before_predictor: 4\n",
       "       kernel_size: 3\n",
       "       class_prediction_bias_init: -4.599999904632568\n",
       "       use_depthwise: true\n",
       "     }\n",
       "   }\n",
       "   anchor_generator {\n",
       "     multiscale_anchor_generator {\n",
       "       min_level: 3\n",
       "       max_level: 7\n",
       "       anchor_scale: 4.0\n",
       "       aspect_ratios: 1.0\n",
       "       aspect_ratios: 2.0\n",
       "       aspect_ratios: 0.5\n",
       "       scales_per_octave: 3\n",
       "     }\n",
       "   }\n",
       "   post_processing {\n",
       "     batch_non_max_suppression {\n",
       "       score_threshold: 9.99999993922529e-09\n",
       "       iou_threshold: 0.5\n",
       "       max_detections_per_class: 100\n",
       "       max_total_detections: 100\n",
       "     }\n",
       "     score_converter: SIGMOID\n",
       "   }\n",
       "   normalize_loss_by_num_matches: true\n",
       "   loss {\n",
       "     localization_loss {\n",
       "       weighted_smooth_l1 {\n",
       "       }\n",
       "     }\n",
       "     classification_loss {\n",
       "       weighted_sigmoid_focal {\n",
       "         gamma: 1.5\n",
       "         alpha: 0.25\n",
       "       }\n",
       "     }\n",
       "     classification_weight: 1.0\n",
       "     localization_weight: 1.0\n",
       "   }\n",
       "   encode_background_as_zeros: true\n",
       "   normalize_loc_loss_by_codesize: true\n",
       "   inplace_batchnorm_update: true\n",
       "   freeze_batchnorm: false\n",
       "   add_background_class: false\n",
       " },\n",
       " 'train_config': batch_size: 128\n",
       " data_augmentation_options {\n",
       "   random_horizontal_flip {\n",
       "   }\n",
       " }\n",
       " data_augmentation_options {\n",
       "   random_scale_crop_and_pad_to_square {\n",
       "     output_size: 1024\n",
       "     scale_min: 0.10000000149011612\n",
       "     scale_max: 2.0\n",
       "   }\n",
       " }\n",
       " sync_replicas: true\n",
       " optimizer {\n",
       "   momentum_optimizer {\n",
       "     learning_rate {\n",
       "       cosine_decay_learning_rate {\n",
       "         learning_rate_base: 0.07999999821186066\n",
       "         total_steps: 300000\n",
       "         warmup_learning_rate: 0.0010000000474974513\n",
       "         warmup_steps: 2500\n",
       "       }\n",
       "     }\n",
       "     momentum_optimizer_value: 0.8999999761581421\n",
       "   }\n",
       "   use_moving_average: false\n",
       " }\n",
       " fine_tune_checkpoint: \"PATH_TO_BE_CONFIGURED\"\n",
       " num_steps: 300000\n",
       " startup_delay_steps: 0.0\n",
       " replicas_to_aggregate: 8\n",
       " max_number_of_boxes: 100\n",
       " unpad_groundtruth_tensors: false\n",
       " fine_tune_checkpoint_type: \"classification\"\n",
       " use_bfloat16: true\n",
       " fine_tune_checkpoint_version: V2,\n",
       " 'train_input_config': label_map_path: \"PATH_TO_BE_CONFIGURED/label_map.txt\"\n",
       " tf_record_input_reader {\n",
       "   input_path: \"PATH_TO_BE_CONFIGURED/train2017-?????-of-00256.tfrecord\"\n",
       " },\n",
       " 'eval_config': metrics_set: \"coco_detection_metrics\"\n",
       " use_moving_averages: false\n",
       " batch_size: 1,\n",
       " 'eval_input_configs': [label_map_path: \"PATH_TO_BE_CONFIGURED/label_map.txt\"\n",
       " shuffle: false\n",
       " num_epochs: 1\n",
       " tf_record_input_reader {\n",
       "   input_path: \"PATH_TO_BE_CONFIGURED/val2017-?????-of-00032.tfrecord\"\n",
       " }\n",
       " ],\n",
       " 'eval_input_config': label_map_path: \"PATH_TO_BE_CONFIGURED/label_map.txt\"\n",
       " shuffle: false\n",
       " num_epochs: 1\n",
       " tf_record_input_reader {\n",
       "   input_path: \"PATH_TO_BE_CONFIGURED/val2017-?????-of-00032.tfrecord\"\n",
       " }}"
      ]
     },
     "execution_count": 225,
     "metadata": {},
     "output_type": "execute_result"
    },
    {
     "data": {
      "application/javascript": [
       "\n",
       "            setTimeout(function() {\n",
       "                var nbb_cell_id = 225;\n",
       "                var nbb_unformatted_code = \"config = config_util.get_configs_from_pipeline_file(files[\\\"PIPELINE_CONFIG\\\"])\\nconfig\";\n",
       "                var nbb_formatted_code = \"config = config_util.get_configs_from_pipeline_file(files[\\\"PIPELINE_CONFIG\\\"])\\nconfig\";\n",
       "                var nbb_cells = Jupyter.notebook.get_cells();\n",
       "                for (var i = 0; i < nbb_cells.length; ++i) {\n",
       "                    if (nbb_cells[i].input_prompt_number == nbb_cell_id) {\n",
       "                        if (nbb_cells[i].get_text() == nbb_unformatted_code) {\n",
       "                             nbb_cells[i].set_text(nbb_formatted_code);\n",
       "                        }\n",
       "                        break;\n",
       "                    }\n",
       "                }\n",
       "            }, 500);\n",
       "            "
      ],
      "text/plain": [
       "<IPython.core.display.Javascript object>"
      ]
     },
     "metadata": {},
     "output_type": "display_data"
    },
    {
     "data": {
      "application/javascript": [
       "\n",
       "            setTimeout(function() {\n",
       "                var nbb_cell_id = 225;\n",
       "                var nbb_unformatted_code = \"config = config_util.get_configs_from_pipeline_file(files[\\\"PIPELINE_CONFIG\\\"])\\nconfig\";\n",
       "                var nbb_formatted_code = \"config = config_util.get_configs_from_pipeline_file(files[\\\"PIPELINE_CONFIG\\\"])\\nconfig\";\n",
       "                var nbb_cells = Jupyter.notebook.get_cells();\n",
       "                for (var i = 0; i < nbb_cells.length; ++i) {\n",
       "                    if (nbb_cells[i].input_prompt_number == nbb_cell_id) {\n",
       "                        if (nbb_cells[i].get_text() == nbb_unformatted_code) {\n",
       "                             nbb_cells[i].set_text(nbb_formatted_code);\n",
       "                        }\n",
       "                        break;\n",
       "                    }\n",
       "                }\n",
       "            }, 500);\n",
       "            "
      ],
      "text/plain": [
       "<IPython.core.display.Javascript object>"
      ]
     },
     "metadata": {},
     "output_type": "display_data"
    },
    {
     "data": {
      "application/javascript": [
       "\n",
       "            setTimeout(function() {\n",
       "                var nbb_cell_id = 225;\n",
       "                var nbb_unformatted_code = \"config = config_util.get_configs_from_pipeline_file(files[\\\"PIPELINE_CONFIG\\\"])\\nconfig\";\n",
       "                var nbb_formatted_code = \"config = config_util.get_configs_from_pipeline_file(files[\\\"PIPELINE_CONFIG\\\"])\\nconfig\";\n",
       "                var nbb_cells = Jupyter.notebook.get_cells();\n",
       "                for (var i = 0; i < nbb_cells.length; ++i) {\n",
       "                    if (nbb_cells[i].input_prompt_number == nbb_cell_id) {\n",
       "                        if (nbb_cells[i].get_text() == nbb_unformatted_code) {\n",
       "                             nbb_cells[i].set_text(nbb_formatted_code);\n",
       "                        }\n",
       "                        break;\n",
       "                    }\n",
       "                }\n",
       "            }, 500);\n",
       "            "
      ],
      "text/plain": [
       "<IPython.core.display.Javascript object>"
      ]
     },
     "metadata": {},
     "output_type": "display_data"
    },
    {
     "data": {
      "application/javascript": [
       "\n",
       "            setTimeout(function() {\n",
       "                var nbb_cell_id = 225;\n",
       "                var nbb_unformatted_code = \"config = config_util.get_configs_from_pipeline_file(files[\\\"PIPELINE_CONFIG\\\"])\\nconfig\";\n",
       "                var nbb_formatted_code = \"config = config_util.get_configs_from_pipeline_file(files[\\\"PIPELINE_CONFIG\\\"])\\nconfig\";\n",
       "                var nbb_cells = Jupyter.notebook.get_cells();\n",
       "                for (var i = 0; i < nbb_cells.length; ++i) {\n",
       "                    if (nbb_cells[i].input_prompt_number == nbb_cell_id) {\n",
       "                        if (nbb_cells[i].get_text() == nbb_unformatted_code) {\n",
       "                             nbb_cells[i].set_text(nbb_formatted_code);\n",
       "                        }\n",
       "                        break;\n",
       "                    }\n",
       "                }\n",
       "            }, 500);\n",
       "            "
      ],
      "text/plain": [
       "<IPython.core.display.Javascript object>"
      ]
     },
     "metadata": {},
     "output_type": "display_data"
    },
    {
     "data": {
      "application/javascript": [
       "\n",
       "            setTimeout(function() {\n",
       "                var nbb_cell_id = 225;\n",
       "                var nbb_unformatted_code = \"config = config_util.get_configs_from_pipeline_file(files[\\\"PIPELINE_CONFIG\\\"])\\nconfig\";\n",
       "                var nbb_formatted_code = \"config = config_util.get_configs_from_pipeline_file(files[\\\"PIPELINE_CONFIG\\\"])\\nconfig\";\n",
       "                var nbb_cells = Jupyter.notebook.get_cells();\n",
       "                for (var i = 0; i < nbb_cells.length; ++i) {\n",
       "                    if (nbb_cells[i].input_prompt_number == nbb_cell_id) {\n",
       "                        if (nbb_cells[i].get_text() == nbb_unformatted_code) {\n",
       "                             nbb_cells[i].set_text(nbb_formatted_code);\n",
       "                        }\n",
       "                        break;\n",
       "                    }\n",
       "                }\n",
       "            }, 500);\n",
       "            "
      ],
      "text/plain": [
       "<IPython.core.display.Javascript object>"
      ]
     },
     "metadata": {},
     "output_type": "display_data"
    },
    {
     "data": {
      "application/javascript": [
       "\n",
       "            setTimeout(function() {\n",
       "                var nbb_cell_id = 225;\n",
       "                var nbb_unformatted_code = \"config = config_util.get_configs_from_pipeline_file(files[\\\"PIPELINE_CONFIG\\\"])\\nconfig\";\n",
       "                var nbb_formatted_code = \"config = config_util.get_configs_from_pipeline_file(files[\\\"PIPELINE_CONFIG\\\"])\\nconfig\";\n",
       "                var nbb_cells = Jupyter.notebook.get_cells();\n",
       "                for (var i = 0; i < nbb_cells.length; ++i) {\n",
       "                    if (nbb_cells[i].input_prompt_number == nbb_cell_id) {\n",
       "                        if (nbb_cells[i].get_text() == nbb_unformatted_code) {\n",
       "                             nbb_cells[i].set_text(nbb_formatted_code);\n",
       "                        }\n",
       "                        break;\n",
       "                    }\n",
       "                }\n",
       "            }, 500);\n",
       "            "
      ],
      "text/plain": [
       "<IPython.core.display.Javascript object>"
      ]
     },
     "metadata": {},
     "output_type": "display_data"
    },
    {
     "data": {
      "application/javascript": [
       "\n",
       "            setTimeout(function() {\n",
       "                var nbb_cell_id = 225;\n",
       "                var nbb_unformatted_code = \"config = config_util.get_configs_from_pipeline_file(files[\\\"PIPELINE_CONFIG\\\"])\\nconfig\";\n",
       "                var nbb_formatted_code = \"config = config_util.get_configs_from_pipeline_file(files[\\\"PIPELINE_CONFIG\\\"])\\nconfig\";\n",
       "                var nbb_cells = Jupyter.notebook.get_cells();\n",
       "                for (var i = 0; i < nbb_cells.length; ++i) {\n",
       "                    if (nbb_cells[i].input_prompt_number == nbb_cell_id) {\n",
       "                        if (nbb_cells[i].get_text() == nbb_unformatted_code) {\n",
       "                             nbb_cells[i].set_text(nbb_formatted_code);\n",
       "                        }\n",
       "                        break;\n",
       "                    }\n",
       "                }\n",
       "            }, 500);\n",
       "            "
      ],
      "text/plain": [
       "<IPython.core.display.Javascript object>"
      ]
     },
     "metadata": {},
     "output_type": "display_data"
    },
    {
     "data": {
      "application/javascript": [
       "\n",
       "            setTimeout(function() {\n",
       "                var nbb_cell_id = 225;\n",
       "                var nbb_unformatted_code = \"config = config_util.get_configs_from_pipeline_file(files[\\\"PIPELINE_CONFIG\\\"])\\nconfig\";\n",
       "                var nbb_formatted_code = \"config = config_util.get_configs_from_pipeline_file(files[\\\"PIPELINE_CONFIG\\\"])\\nconfig\";\n",
       "                var nbb_cells = Jupyter.notebook.get_cells();\n",
       "                for (var i = 0; i < nbb_cells.length; ++i) {\n",
       "                    if (nbb_cells[i].input_prompt_number == nbb_cell_id) {\n",
       "                        if (nbb_cells[i].get_text() == nbb_unformatted_code) {\n",
       "                             nbb_cells[i].set_text(nbb_formatted_code);\n",
       "                        }\n",
       "                        break;\n",
       "                    }\n",
       "                }\n",
       "            }, 500);\n",
       "            "
      ],
      "text/plain": [
       "<IPython.core.display.Javascript object>"
      ]
     },
     "metadata": {},
     "output_type": "display_data"
    },
    {
     "data": {
      "application/javascript": [
       "\n",
       "            setTimeout(function() {\n",
       "                var nbb_cell_id = 225;\n",
       "                var nbb_unformatted_code = \"config = config_util.get_configs_from_pipeline_file(files[\\\"PIPELINE_CONFIG\\\"])\\nconfig\";\n",
       "                var nbb_formatted_code = \"config = config_util.get_configs_from_pipeline_file(files[\\\"PIPELINE_CONFIG\\\"])\\nconfig\";\n",
       "                var nbb_cells = Jupyter.notebook.get_cells();\n",
       "                for (var i = 0; i < nbb_cells.length; ++i) {\n",
       "                    if (nbb_cells[i].input_prompt_number == nbb_cell_id) {\n",
       "                        if (nbb_cells[i].get_text() == nbb_unformatted_code) {\n",
       "                             nbb_cells[i].set_text(nbb_formatted_code);\n",
       "                        }\n",
       "                        break;\n",
       "                    }\n",
       "                }\n",
       "            }, 500);\n",
       "            "
      ],
      "text/plain": [
       "<IPython.core.display.Javascript object>"
      ]
     },
     "metadata": {},
     "output_type": "display_data"
    },
    {
     "data": {
      "application/javascript": [
       "\n",
       "            setTimeout(function() {\n",
       "                var nbb_cell_id = 225;\n",
       "                var nbb_unformatted_code = \"config = config_util.get_configs_from_pipeline_file(files[\\\"PIPELINE_CONFIG\\\"])\\nconfig\";\n",
       "                var nbb_formatted_code = \"config = config_util.get_configs_from_pipeline_file(files[\\\"PIPELINE_CONFIG\\\"])\\nconfig\";\n",
       "                var nbb_cells = Jupyter.notebook.get_cells();\n",
       "                for (var i = 0; i < nbb_cells.length; ++i) {\n",
       "                    if (nbb_cells[i].input_prompt_number == nbb_cell_id) {\n",
       "                        if (nbb_cells[i].get_text() == nbb_unformatted_code) {\n",
       "                             nbb_cells[i].set_text(nbb_formatted_code);\n",
       "                        }\n",
       "                        break;\n",
       "                    }\n",
       "                }\n",
       "            }, 500);\n",
       "            "
      ],
      "text/plain": [
       "<IPython.core.display.Javascript object>"
      ]
     },
     "metadata": {},
     "output_type": "display_data"
    }
   ],
   "source": [
    "config = config_util.get_configs_from_pipeline_file(files[\"PIPELINE_CONFIG\"])\n",
    "config"
   ]
  },
  {
   "cell_type": "code",
   "execution_count": 226,
   "id": "16baa8f3",
   "metadata": {},
   "outputs": [
    {
     "data": {
      "application/javascript": [
       "\n",
       "            setTimeout(function() {\n",
       "                var nbb_cell_id = 226;\n",
       "                var nbb_unformatted_code = \"pipeline_config = pipeline_pb2.TrainEvalPipelineConfig()\\nwith tf.io.gfile.GFile(files[\\\"PIPELINE_CONFIG\\\"], \\\"r\\\") as f:\\n    proto_str = f.read()\\n    text_format.Merge(proto_str, pipeline_config)\";\n",
       "                var nbb_formatted_code = \"pipeline_config = pipeline_pb2.TrainEvalPipelineConfig()\\nwith tf.io.gfile.GFile(files[\\\"PIPELINE_CONFIG\\\"], \\\"r\\\") as f:\\n    proto_str = f.read()\\n    text_format.Merge(proto_str, pipeline_config)\";\n",
       "                var nbb_cells = Jupyter.notebook.get_cells();\n",
       "                for (var i = 0; i < nbb_cells.length; ++i) {\n",
       "                    if (nbb_cells[i].input_prompt_number == nbb_cell_id) {\n",
       "                        if (nbb_cells[i].get_text() == nbb_unformatted_code) {\n",
       "                             nbb_cells[i].set_text(nbb_formatted_code);\n",
       "                        }\n",
       "                        break;\n",
       "                    }\n",
       "                }\n",
       "            }, 500);\n",
       "            "
      ],
      "text/plain": [
       "<IPython.core.display.Javascript object>"
      ]
     },
     "metadata": {},
     "output_type": "display_data"
    },
    {
     "data": {
      "application/javascript": [
       "\n",
       "            setTimeout(function() {\n",
       "                var nbb_cell_id = 226;\n",
       "                var nbb_unformatted_code = \"pipeline_config = pipeline_pb2.TrainEvalPipelineConfig()\\nwith tf.io.gfile.GFile(files[\\\"PIPELINE_CONFIG\\\"], \\\"r\\\") as f:\\n    proto_str = f.read()\\n    text_format.Merge(proto_str, pipeline_config)\";\n",
       "                var nbb_formatted_code = \"pipeline_config = pipeline_pb2.TrainEvalPipelineConfig()\\nwith tf.io.gfile.GFile(files[\\\"PIPELINE_CONFIG\\\"], \\\"r\\\") as f:\\n    proto_str = f.read()\\n    text_format.Merge(proto_str, pipeline_config)\";\n",
       "                var nbb_cells = Jupyter.notebook.get_cells();\n",
       "                for (var i = 0; i < nbb_cells.length; ++i) {\n",
       "                    if (nbb_cells[i].input_prompt_number == nbb_cell_id) {\n",
       "                        if (nbb_cells[i].get_text() == nbb_unformatted_code) {\n",
       "                             nbb_cells[i].set_text(nbb_formatted_code);\n",
       "                        }\n",
       "                        break;\n",
       "                    }\n",
       "                }\n",
       "            }, 500);\n",
       "            "
      ],
      "text/plain": [
       "<IPython.core.display.Javascript object>"
      ]
     },
     "metadata": {},
     "output_type": "display_data"
    },
    {
     "data": {
      "application/javascript": [
       "\n",
       "            setTimeout(function() {\n",
       "                var nbb_cell_id = 226;\n",
       "                var nbb_unformatted_code = \"pipeline_config = pipeline_pb2.TrainEvalPipelineConfig()\\nwith tf.io.gfile.GFile(files[\\\"PIPELINE_CONFIG\\\"], \\\"r\\\") as f:\\n    proto_str = f.read()\\n    text_format.Merge(proto_str, pipeline_config)\";\n",
       "                var nbb_formatted_code = \"pipeline_config = pipeline_pb2.TrainEvalPipelineConfig()\\nwith tf.io.gfile.GFile(files[\\\"PIPELINE_CONFIG\\\"], \\\"r\\\") as f:\\n    proto_str = f.read()\\n    text_format.Merge(proto_str, pipeline_config)\";\n",
       "                var nbb_cells = Jupyter.notebook.get_cells();\n",
       "                for (var i = 0; i < nbb_cells.length; ++i) {\n",
       "                    if (nbb_cells[i].input_prompt_number == nbb_cell_id) {\n",
       "                        if (nbb_cells[i].get_text() == nbb_unformatted_code) {\n",
       "                             nbb_cells[i].set_text(nbb_formatted_code);\n",
       "                        }\n",
       "                        break;\n",
       "                    }\n",
       "                }\n",
       "            }, 500);\n",
       "            "
      ],
      "text/plain": [
       "<IPython.core.display.Javascript object>"
      ]
     },
     "metadata": {},
     "output_type": "display_data"
    },
    {
     "data": {
      "application/javascript": [
       "\n",
       "            setTimeout(function() {\n",
       "                var nbb_cell_id = 226;\n",
       "                var nbb_unformatted_code = \"pipeline_config = pipeline_pb2.TrainEvalPipelineConfig()\\nwith tf.io.gfile.GFile(files[\\\"PIPELINE_CONFIG\\\"], \\\"r\\\") as f:\\n    proto_str = f.read()\\n    text_format.Merge(proto_str, pipeline_config)\";\n",
       "                var nbb_formatted_code = \"pipeline_config = pipeline_pb2.TrainEvalPipelineConfig()\\nwith tf.io.gfile.GFile(files[\\\"PIPELINE_CONFIG\\\"], \\\"r\\\") as f:\\n    proto_str = f.read()\\n    text_format.Merge(proto_str, pipeline_config)\";\n",
       "                var nbb_cells = Jupyter.notebook.get_cells();\n",
       "                for (var i = 0; i < nbb_cells.length; ++i) {\n",
       "                    if (nbb_cells[i].input_prompt_number == nbb_cell_id) {\n",
       "                        if (nbb_cells[i].get_text() == nbb_unformatted_code) {\n",
       "                             nbb_cells[i].set_text(nbb_formatted_code);\n",
       "                        }\n",
       "                        break;\n",
       "                    }\n",
       "                }\n",
       "            }, 500);\n",
       "            "
      ],
      "text/plain": [
       "<IPython.core.display.Javascript object>"
      ]
     },
     "metadata": {},
     "output_type": "display_data"
    },
    {
     "data": {
      "application/javascript": [
       "\n",
       "            setTimeout(function() {\n",
       "                var nbb_cell_id = 226;\n",
       "                var nbb_unformatted_code = \"pipeline_config = pipeline_pb2.TrainEvalPipelineConfig()\\nwith tf.io.gfile.GFile(files[\\\"PIPELINE_CONFIG\\\"], \\\"r\\\") as f:\\n    proto_str = f.read()\\n    text_format.Merge(proto_str, pipeline_config)\";\n",
       "                var nbb_formatted_code = \"pipeline_config = pipeline_pb2.TrainEvalPipelineConfig()\\nwith tf.io.gfile.GFile(files[\\\"PIPELINE_CONFIG\\\"], \\\"r\\\") as f:\\n    proto_str = f.read()\\n    text_format.Merge(proto_str, pipeline_config)\";\n",
       "                var nbb_cells = Jupyter.notebook.get_cells();\n",
       "                for (var i = 0; i < nbb_cells.length; ++i) {\n",
       "                    if (nbb_cells[i].input_prompt_number == nbb_cell_id) {\n",
       "                        if (nbb_cells[i].get_text() == nbb_unformatted_code) {\n",
       "                             nbb_cells[i].set_text(nbb_formatted_code);\n",
       "                        }\n",
       "                        break;\n",
       "                    }\n",
       "                }\n",
       "            }, 500);\n",
       "            "
      ],
      "text/plain": [
       "<IPython.core.display.Javascript object>"
      ]
     },
     "metadata": {},
     "output_type": "display_data"
    },
    {
     "data": {
      "application/javascript": [
       "\n",
       "            setTimeout(function() {\n",
       "                var nbb_cell_id = 226;\n",
       "                var nbb_unformatted_code = \"pipeline_config = pipeline_pb2.TrainEvalPipelineConfig()\\nwith tf.io.gfile.GFile(files[\\\"PIPELINE_CONFIG\\\"], \\\"r\\\") as f:\\n    proto_str = f.read()\\n    text_format.Merge(proto_str, pipeline_config)\";\n",
       "                var nbb_formatted_code = \"pipeline_config = pipeline_pb2.TrainEvalPipelineConfig()\\nwith tf.io.gfile.GFile(files[\\\"PIPELINE_CONFIG\\\"], \\\"r\\\") as f:\\n    proto_str = f.read()\\n    text_format.Merge(proto_str, pipeline_config)\";\n",
       "                var nbb_cells = Jupyter.notebook.get_cells();\n",
       "                for (var i = 0; i < nbb_cells.length; ++i) {\n",
       "                    if (nbb_cells[i].input_prompt_number == nbb_cell_id) {\n",
       "                        if (nbb_cells[i].get_text() == nbb_unformatted_code) {\n",
       "                             nbb_cells[i].set_text(nbb_formatted_code);\n",
       "                        }\n",
       "                        break;\n",
       "                    }\n",
       "                }\n",
       "            }, 500);\n",
       "            "
      ],
      "text/plain": [
       "<IPython.core.display.Javascript object>"
      ]
     },
     "metadata": {},
     "output_type": "display_data"
    },
    {
     "data": {
      "application/javascript": [
       "\n",
       "            setTimeout(function() {\n",
       "                var nbb_cell_id = 226;\n",
       "                var nbb_unformatted_code = \"pipeline_config = pipeline_pb2.TrainEvalPipelineConfig()\\nwith tf.io.gfile.GFile(files[\\\"PIPELINE_CONFIG\\\"], \\\"r\\\") as f:\\n    proto_str = f.read()\\n    text_format.Merge(proto_str, pipeline_config)\";\n",
       "                var nbb_formatted_code = \"pipeline_config = pipeline_pb2.TrainEvalPipelineConfig()\\nwith tf.io.gfile.GFile(files[\\\"PIPELINE_CONFIG\\\"], \\\"r\\\") as f:\\n    proto_str = f.read()\\n    text_format.Merge(proto_str, pipeline_config)\";\n",
       "                var nbb_cells = Jupyter.notebook.get_cells();\n",
       "                for (var i = 0; i < nbb_cells.length; ++i) {\n",
       "                    if (nbb_cells[i].input_prompt_number == nbb_cell_id) {\n",
       "                        if (nbb_cells[i].get_text() == nbb_unformatted_code) {\n",
       "                             nbb_cells[i].set_text(nbb_formatted_code);\n",
       "                        }\n",
       "                        break;\n",
       "                    }\n",
       "                }\n",
       "            }, 500);\n",
       "            "
      ],
      "text/plain": [
       "<IPython.core.display.Javascript object>"
      ]
     },
     "metadata": {},
     "output_type": "display_data"
    },
    {
     "data": {
      "application/javascript": [
       "\n",
       "            setTimeout(function() {\n",
       "                var nbb_cell_id = 226;\n",
       "                var nbb_unformatted_code = \"pipeline_config = pipeline_pb2.TrainEvalPipelineConfig()\\nwith tf.io.gfile.GFile(files[\\\"PIPELINE_CONFIG\\\"], \\\"r\\\") as f:\\n    proto_str = f.read()\\n    text_format.Merge(proto_str, pipeline_config)\";\n",
       "                var nbb_formatted_code = \"pipeline_config = pipeline_pb2.TrainEvalPipelineConfig()\\nwith tf.io.gfile.GFile(files[\\\"PIPELINE_CONFIG\\\"], \\\"r\\\") as f:\\n    proto_str = f.read()\\n    text_format.Merge(proto_str, pipeline_config)\";\n",
       "                var nbb_cells = Jupyter.notebook.get_cells();\n",
       "                for (var i = 0; i < nbb_cells.length; ++i) {\n",
       "                    if (nbb_cells[i].input_prompt_number == nbb_cell_id) {\n",
       "                        if (nbb_cells[i].get_text() == nbb_unformatted_code) {\n",
       "                             nbb_cells[i].set_text(nbb_formatted_code);\n",
       "                        }\n",
       "                        break;\n",
       "                    }\n",
       "                }\n",
       "            }, 500);\n",
       "            "
      ],
      "text/plain": [
       "<IPython.core.display.Javascript object>"
      ]
     },
     "metadata": {},
     "output_type": "display_data"
    },
    {
     "data": {
      "application/javascript": [
       "\n",
       "            setTimeout(function() {\n",
       "                var nbb_cell_id = 226;\n",
       "                var nbb_unformatted_code = \"pipeline_config = pipeline_pb2.TrainEvalPipelineConfig()\\nwith tf.io.gfile.GFile(files[\\\"PIPELINE_CONFIG\\\"], \\\"r\\\") as f:\\n    proto_str = f.read()\\n    text_format.Merge(proto_str, pipeline_config)\";\n",
       "                var nbb_formatted_code = \"pipeline_config = pipeline_pb2.TrainEvalPipelineConfig()\\nwith tf.io.gfile.GFile(files[\\\"PIPELINE_CONFIG\\\"], \\\"r\\\") as f:\\n    proto_str = f.read()\\n    text_format.Merge(proto_str, pipeline_config)\";\n",
       "                var nbb_cells = Jupyter.notebook.get_cells();\n",
       "                for (var i = 0; i < nbb_cells.length; ++i) {\n",
       "                    if (nbb_cells[i].input_prompt_number == nbb_cell_id) {\n",
       "                        if (nbb_cells[i].get_text() == nbb_unformatted_code) {\n",
       "                             nbb_cells[i].set_text(nbb_formatted_code);\n",
       "                        }\n",
       "                        break;\n",
       "                    }\n",
       "                }\n",
       "            }, 500);\n",
       "            "
      ],
      "text/plain": [
       "<IPython.core.display.Javascript object>"
      ]
     },
     "metadata": {},
     "output_type": "display_data"
    },
    {
     "data": {
      "application/javascript": [
       "\n",
       "            setTimeout(function() {\n",
       "                var nbb_cell_id = 226;\n",
       "                var nbb_unformatted_code = \"pipeline_config = pipeline_pb2.TrainEvalPipelineConfig()\\nwith tf.io.gfile.GFile(files[\\\"PIPELINE_CONFIG\\\"], \\\"r\\\") as f:\\n    proto_str = f.read()\\n    text_format.Merge(proto_str, pipeline_config)\";\n",
       "                var nbb_formatted_code = \"pipeline_config = pipeline_pb2.TrainEvalPipelineConfig()\\nwith tf.io.gfile.GFile(files[\\\"PIPELINE_CONFIG\\\"], \\\"r\\\") as f:\\n    proto_str = f.read()\\n    text_format.Merge(proto_str, pipeline_config)\";\n",
       "                var nbb_cells = Jupyter.notebook.get_cells();\n",
       "                for (var i = 0; i < nbb_cells.length; ++i) {\n",
       "                    if (nbb_cells[i].input_prompt_number == nbb_cell_id) {\n",
       "                        if (nbb_cells[i].get_text() == nbb_unformatted_code) {\n",
       "                             nbb_cells[i].set_text(nbb_formatted_code);\n",
       "                        }\n",
       "                        break;\n",
       "                    }\n",
       "                }\n",
       "            }, 500);\n",
       "            "
      ],
      "text/plain": [
       "<IPython.core.display.Javascript object>"
      ]
     },
     "metadata": {},
     "output_type": "display_data"
    }
   ],
   "source": [
    "pipeline_config = pipeline_pb2.TrainEvalPipelineConfig()\n",
    "with tf.io.gfile.GFile(files[\"PIPELINE_CONFIG\"], \"r\") as f:\n",
    "    proto_str = f.read()\n",
    "    text_format.Merge(proto_str, pipeline_config)"
   ]
  },
  {
   "cell_type": "code",
   "execution_count": 227,
   "id": "700fc869",
   "metadata": {},
   "outputs": [
    {
     "data": {
      "application/javascript": [
       "\n",
       "            setTimeout(function() {\n",
       "                var nbb_cell_id = 227;\n",
       "                var nbb_unformatted_code = \"pipeline_config.model.ssd.num_classes = len(labels)\\npipeline_config.train_config.batch_size = 4\\npipeline_config.train_config.fine_tune_checkpoint = os.path.join(\\n    paths[\\\"PRETRAINED_MODEL_PATH\\\"], PRETRAINED_MODEL_NAME, \\\"checkpoint\\\", \\\"ckpt-0\\\"\\n)\\npipeline_config.train_config.fine_tune_checkpoint_type = \\\"detection\\\"\\npipeline_config.train_input_reader.label_map_path = files[\\\"LABELMAP\\\"]\\npipeline_config.train_input_reader.tf_record_input_reader.input_path[:] = [\\n    os.path.join(paths[\\\"DATA_PATH\\\"], \\\"train.record\\\")\\n]\\npipeline_config.eval_input_reader[0].label_map_path = files[\\\"LABELMAP\\\"]\\npipeline_config.eval_input_reader[0].tf_record_input_reader.input_path[:] = [\\n    os.path.join(paths[\\\"DATA_PATH\\\"], \\\"test.record\\\")\\n]\";\n",
       "                var nbb_formatted_code = \"pipeline_config.model.ssd.num_classes = len(labels)\\npipeline_config.train_config.batch_size = 4\\npipeline_config.train_config.fine_tune_checkpoint = os.path.join(\\n    paths[\\\"PRETRAINED_MODEL_PATH\\\"], PRETRAINED_MODEL_NAME, \\\"checkpoint\\\", \\\"ckpt-0\\\"\\n)\\npipeline_config.train_config.fine_tune_checkpoint_type = \\\"detection\\\"\\npipeline_config.train_input_reader.label_map_path = files[\\\"LABELMAP\\\"]\\npipeline_config.train_input_reader.tf_record_input_reader.input_path[:] = [\\n    os.path.join(paths[\\\"DATA_PATH\\\"], \\\"train.record\\\")\\n]\\npipeline_config.eval_input_reader[0].label_map_path = files[\\\"LABELMAP\\\"]\\npipeline_config.eval_input_reader[0].tf_record_input_reader.input_path[:] = [\\n    os.path.join(paths[\\\"DATA_PATH\\\"], \\\"test.record\\\")\\n]\";\n",
       "                var nbb_cells = Jupyter.notebook.get_cells();\n",
       "                for (var i = 0; i < nbb_cells.length; ++i) {\n",
       "                    if (nbb_cells[i].input_prompt_number == nbb_cell_id) {\n",
       "                        if (nbb_cells[i].get_text() == nbb_unformatted_code) {\n",
       "                             nbb_cells[i].set_text(nbb_formatted_code);\n",
       "                        }\n",
       "                        break;\n",
       "                    }\n",
       "                }\n",
       "            }, 500);\n",
       "            "
      ],
      "text/plain": [
       "<IPython.core.display.Javascript object>"
      ]
     },
     "metadata": {},
     "output_type": "display_data"
    },
    {
     "data": {
      "application/javascript": [
       "\n",
       "            setTimeout(function() {\n",
       "                var nbb_cell_id = 227;\n",
       "                var nbb_unformatted_code = \"pipeline_config.model.ssd.num_classes = len(labels)\\npipeline_config.train_config.batch_size = 4\\npipeline_config.train_config.fine_tune_checkpoint = os.path.join(\\n    paths[\\\"PRETRAINED_MODEL_PATH\\\"], PRETRAINED_MODEL_NAME, \\\"checkpoint\\\", \\\"ckpt-0\\\"\\n)\\npipeline_config.train_config.fine_tune_checkpoint_type = \\\"detection\\\"\\npipeline_config.train_input_reader.label_map_path = files[\\\"LABELMAP\\\"]\\npipeline_config.train_input_reader.tf_record_input_reader.input_path[:] = [\\n    os.path.join(paths[\\\"DATA_PATH\\\"], \\\"train.record\\\")\\n]\\npipeline_config.eval_input_reader[0].label_map_path = files[\\\"LABELMAP\\\"]\\npipeline_config.eval_input_reader[0].tf_record_input_reader.input_path[:] = [\\n    os.path.join(paths[\\\"DATA_PATH\\\"], \\\"test.record\\\")\\n]\";\n",
       "                var nbb_formatted_code = \"pipeline_config.model.ssd.num_classes = len(labels)\\npipeline_config.train_config.batch_size = 4\\npipeline_config.train_config.fine_tune_checkpoint = os.path.join(\\n    paths[\\\"PRETRAINED_MODEL_PATH\\\"], PRETRAINED_MODEL_NAME, \\\"checkpoint\\\", \\\"ckpt-0\\\"\\n)\\npipeline_config.train_config.fine_tune_checkpoint_type = \\\"detection\\\"\\npipeline_config.train_input_reader.label_map_path = files[\\\"LABELMAP\\\"]\\npipeline_config.train_input_reader.tf_record_input_reader.input_path[:] = [\\n    os.path.join(paths[\\\"DATA_PATH\\\"], \\\"train.record\\\")\\n]\\npipeline_config.eval_input_reader[0].label_map_path = files[\\\"LABELMAP\\\"]\\npipeline_config.eval_input_reader[0].tf_record_input_reader.input_path[:] = [\\n    os.path.join(paths[\\\"DATA_PATH\\\"], \\\"test.record\\\")\\n]\";\n",
       "                var nbb_cells = Jupyter.notebook.get_cells();\n",
       "                for (var i = 0; i < nbb_cells.length; ++i) {\n",
       "                    if (nbb_cells[i].input_prompt_number == nbb_cell_id) {\n",
       "                        if (nbb_cells[i].get_text() == nbb_unformatted_code) {\n",
       "                             nbb_cells[i].set_text(nbb_formatted_code);\n",
       "                        }\n",
       "                        break;\n",
       "                    }\n",
       "                }\n",
       "            }, 500);\n",
       "            "
      ],
      "text/plain": [
       "<IPython.core.display.Javascript object>"
      ]
     },
     "metadata": {},
     "output_type": "display_data"
    },
    {
     "data": {
      "application/javascript": [
       "\n",
       "            setTimeout(function() {\n",
       "                var nbb_cell_id = 227;\n",
       "                var nbb_unformatted_code = \"pipeline_config.model.ssd.num_classes = len(labels)\\npipeline_config.train_config.batch_size = 4\\npipeline_config.train_config.fine_tune_checkpoint = os.path.join(\\n    paths[\\\"PRETRAINED_MODEL_PATH\\\"], PRETRAINED_MODEL_NAME, \\\"checkpoint\\\", \\\"ckpt-0\\\"\\n)\\npipeline_config.train_config.fine_tune_checkpoint_type = \\\"detection\\\"\\npipeline_config.train_input_reader.label_map_path = files[\\\"LABELMAP\\\"]\\npipeline_config.train_input_reader.tf_record_input_reader.input_path[:] = [\\n    os.path.join(paths[\\\"DATA_PATH\\\"], \\\"train.record\\\")\\n]\\npipeline_config.eval_input_reader[0].label_map_path = files[\\\"LABELMAP\\\"]\\npipeline_config.eval_input_reader[0].tf_record_input_reader.input_path[:] = [\\n    os.path.join(paths[\\\"DATA_PATH\\\"], \\\"test.record\\\")\\n]\";\n",
       "                var nbb_formatted_code = \"pipeline_config.model.ssd.num_classes = len(labels)\\npipeline_config.train_config.batch_size = 4\\npipeline_config.train_config.fine_tune_checkpoint = os.path.join(\\n    paths[\\\"PRETRAINED_MODEL_PATH\\\"], PRETRAINED_MODEL_NAME, \\\"checkpoint\\\", \\\"ckpt-0\\\"\\n)\\npipeline_config.train_config.fine_tune_checkpoint_type = \\\"detection\\\"\\npipeline_config.train_input_reader.label_map_path = files[\\\"LABELMAP\\\"]\\npipeline_config.train_input_reader.tf_record_input_reader.input_path[:] = [\\n    os.path.join(paths[\\\"DATA_PATH\\\"], \\\"train.record\\\")\\n]\\npipeline_config.eval_input_reader[0].label_map_path = files[\\\"LABELMAP\\\"]\\npipeline_config.eval_input_reader[0].tf_record_input_reader.input_path[:] = [\\n    os.path.join(paths[\\\"DATA_PATH\\\"], \\\"test.record\\\")\\n]\";\n",
       "                var nbb_cells = Jupyter.notebook.get_cells();\n",
       "                for (var i = 0; i < nbb_cells.length; ++i) {\n",
       "                    if (nbb_cells[i].input_prompt_number == nbb_cell_id) {\n",
       "                        if (nbb_cells[i].get_text() == nbb_unformatted_code) {\n",
       "                             nbb_cells[i].set_text(nbb_formatted_code);\n",
       "                        }\n",
       "                        break;\n",
       "                    }\n",
       "                }\n",
       "            }, 500);\n",
       "            "
      ],
      "text/plain": [
       "<IPython.core.display.Javascript object>"
      ]
     },
     "metadata": {},
     "output_type": "display_data"
    },
    {
     "data": {
      "application/javascript": [
       "\n",
       "            setTimeout(function() {\n",
       "                var nbb_cell_id = 227;\n",
       "                var nbb_unformatted_code = \"pipeline_config.model.ssd.num_classes = len(labels)\\npipeline_config.train_config.batch_size = 4\\npipeline_config.train_config.fine_tune_checkpoint = os.path.join(\\n    paths[\\\"PRETRAINED_MODEL_PATH\\\"], PRETRAINED_MODEL_NAME, \\\"checkpoint\\\", \\\"ckpt-0\\\"\\n)\\npipeline_config.train_config.fine_tune_checkpoint_type = \\\"detection\\\"\\npipeline_config.train_input_reader.label_map_path = files[\\\"LABELMAP\\\"]\\npipeline_config.train_input_reader.tf_record_input_reader.input_path[:] = [\\n    os.path.join(paths[\\\"DATA_PATH\\\"], \\\"train.record\\\")\\n]\\npipeline_config.eval_input_reader[0].label_map_path = files[\\\"LABELMAP\\\"]\\npipeline_config.eval_input_reader[0].tf_record_input_reader.input_path[:] = [\\n    os.path.join(paths[\\\"DATA_PATH\\\"], \\\"test.record\\\")\\n]\";\n",
       "                var nbb_formatted_code = \"pipeline_config.model.ssd.num_classes = len(labels)\\npipeline_config.train_config.batch_size = 4\\npipeline_config.train_config.fine_tune_checkpoint = os.path.join(\\n    paths[\\\"PRETRAINED_MODEL_PATH\\\"], PRETRAINED_MODEL_NAME, \\\"checkpoint\\\", \\\"ckpt-0\\\"\\n)\\npipeline_config.train_config.fine_tune_checkpoint_type = \\\"detection\\\"\\npipeline_config.train_input_reader.label_map_path = files[\\\"LABELMAP\\\"]\\npipeline_config.train_input_reader.tf_record_input_reader.input_path[:] = [\\n    os.path.join(paths[\\\"DATA_PATH\\\"], \\\"train.record\\\")\\n]\\npipeline_config.eval_input_reader[0].label_map_path = files[\\\"LABELMAP\\\"]\\npipeline_config.eval_input_reader[0].tf_record_input_reader.input_path[:] = [\\n    os.path.join(paths[\\\"DATA_PATH\\\"], \\\"test.record\\\")\\n]\";\n",
       "                var nbb_cells = Jupyter.notebook.get_cells();\n",
       "                for (var i = 0; i < nbb_cells.length; ++i) {\n",
       "                    if (nbb_cells[i].input_prompt_number == nbb_cell_id) {\n",
       "                        if (nbb_cells[i].get_text() == nbb_unformatted_code) {\n",
       "                             nbb_cells[i].set_text(nbb_formatted_code);\n",
       "                        }\n",
       "                        break;\n",
       "                    }\n",
       "                }\n",
       "            }, 500);\n",
       "            "
      ],
      "text/plain": [
       "<IPython.core.display.Javascript object>"
      ]
     },
     "metadata": {},
     "output_type": "display_data"
    },
    {
     "data": {
      "application/javascript": [
       "\n",
       "            setTimeout(function() {\n",
       "                var nbb_cell_id = 227;\n",
       "                var nbb_unformatted_code = \"pipeline_config.model.ssd.num_classes = len(labels)\\npipeline_config.train_config.batch_size = 4\\npipeline_config.train_config.fine_tune_checkpoint = os.path.join(\\n    paths[\\\"PRETRAINED_MODEL_PATH\\\"], PRETRAINED_MODEL_NAME, \\\"checkpoint\\\", \\\"ckpt-0\\\"\\n)\\npipeline_config.train_config.fine_tune_checkpoint_type = \\\"detection\\\"\\npipeline_config.train_input_reader.label_map_path = files[\\\"LABELMAP\\\"]\\npipeline_config.train_input_reader.tf_record_input_reader.input_path[:] = [\\n    os.path.join(paths[\\\"DATA_PATH\\\"], \\\"train.record\\\")\\n]\\npipeline_config.eval_input_reader[0].label_map_path = files[\\\"LABELMAP\\\"]\\npipeline_config.eval_input_reader[0].tf_record_input_reader.input_path[:] = [\\n    os.path.join(paths[\\\"DATA_PATH\\\"], \\\"test.record\\\")\\n]\";\n",
       "                var nbb_formatted_code = \"pipeline_config.model.ssd.num_classes = len(labels)\\npipeline_config.train_config.batch_size = 4\\npipeline_config.train_config.fine_tune_checkpoint = os.path.join(\\n    paths[\\\"PRETRAINED_MODEL_PATH\\\"], PRETRAINED_MODEL_NAME, \\\"checkpoint\\\", \\\"ckpt-0\\\"\\n)\\npipeline_config.train_config.fine_tune_checkpoint_type = \\\"detection\\\"\\npipeline_config.train_input_reader.label_map_path = files[\\\"LABELMAP\\\"]\\npipeline_config.train_input_reader.tf_record_input_reader.input_path[:] = [\\n    os.path.join(paths[\\\"DATA_PATH\\\"], \\\"train.record\\\")\\n]\\npipeline_config.eval_input_reader[0].label_map_path = files[\\\"LABELMAP\\\"]\\npipeline_config.eval_input_reader[0].tf_record_input_reader.input_path[:] = [\\n    os.path.join(paths[\\\"DATA_PATH\\\"], \\\"test.record\\\")\\n]\";\n",
       "                var nbb_cells = Jupyter.notebook.get_cells();\n",
       "                for (var i = 0; i < nbb_cells.length; ++i) {\n",
       "                    if (nbb_cells[i].input_prompt_number == nbb_cell_id) {\n",
       "                        if (nbb_cells[i].get_text() == nbb_unformatted_code) {\n",
       "                             nbb_cells[i].set_text(nbb_formatted_code);\n",
       "                        }\n",
       "                        break;\n",
       "                    }\n",
       "                }\n",
       "            }, 500);\n",
       "            "
      ],
      "text/plain": [
       "<IPython.core.display.Javascript object>"
      ]
     },
     "metadata": {},
     "output_type": "display_data"
    },
    {
     "data": {
      "application/javascript": [
       "\n",
       "            setTimeout(function() {\n",
       "                var nbb_cell_id = 227;\n",
       "                var nbb_unformatted_code = \"pipeline_config.model.ssd.num_classes = len(labels)\\npipeline_config.train_config.batch_size = 4\\npipeline_config.train_config.fine_tune_checkpoint = os.path.join(\\n    paths[\\\"PRETRAINED_MODEL_PATH\\\"], PRETRAINED_MODEL_NAME, \\\"checkpoint\\\", \\\"ckpt-0\\\"\\n)\\npipeline_config.train_config.fine_tune_checkpoint_type = \\\"detection\\\"\\npipeline_config.train_input_reader.label_map_path = files[\\\"LABELMAP\\\"]\\npipeline_config.train_input_reader.tf_record_input_reader.input_path[:] = [\\n    os.path.join(paths[\\\"DATA_PATH\\\"], \\\"train.record\\\")\\n]\\npipeline_config.eval_input_reader[0].label_map_path = files[\\\"LABELMAP\\\"]\\npipeline_config.eval_input_reader[0].tf_record_input_reader.input_path[:] = [\\n    os.path.join(paths[\\\"DATA_PATH\\\"], \\\"test.record\\\")\\n]\";\n",
       "                var nbb_formatted_code = \"pipeline_config.model.ssd.num_classes = len(labels)\\npipeline_config.train_config.batch_size = 4\\npipeline_config.train_config.fine_tune_checkpoint = os.path.join(\\n    paths[\\\"PRETRAINED_MODEL_PATH\\\"], PRETRAINED_MODEL_NAME, \\\"checkpoint\\\", \\\"ckpt-0\\\"\\n)\\npipeline_config.train_config.fine_tune_checkpoint_type = \\\"detection\\\"\\npipeline_config.train_input_reader.label_map_path = files[\\\"LABELMAP\\\"]\\npipeline_config.train_input_reader.tf_record_input_reader.input_path[:] = [\\n    os.path.join(paths[\\\"DATA_PATH\\\"], \\\"train.record\\\")\\n]\\npipeline_config.eval_input_reader[0].label_map_path = files[\\\"LABELMAP\\\"]\\npipeline_config.eval_input_reader[0].tf_record_input_reader.input_path[:] = [\\n    os.path.join(paths[\\\"DATA_PATH\\\"], \\\"test.record\\\")\\n]\";\n",
       "                var nbb_cells = Jupyter.notebook.get_cells();\n",
       "                for (var i = 0; i < nbb_cells.length; ++i) {\n",
       "                    if (nbb_cells[i].input_prompt_number == nbb_cell_id) {\n",
       "                        if (nbb_cells[i].get_text() == nbb_unformatted_code) {\n",
       "                             nbb_cells[i].set_text(nbb_formatted_code);\n",
       "                        }\n",
       "                        break;\n",
       "                    }\n",
       "                }\n",
       "            }, 500);\n",
       "            "
      ],
      "text/plain": [
       "<IPython.core.display.Javascript object>"
      ]
     },
     "metadata": {},
     "output_type": "display_data"
    },
    {
     "data": {
      "application/javascript": [
       "\n",
       "            setTimeout(function() {\n",
       "                var nbb_cell_id = 227;\n",
       "                var nbb_unformatted_code = \"pipeline_config.model.ssd.num_classes = len(labels)\\npipeline_config.train_config.batch_size = 4\\npipeline_config.train_config.fine_tune_checkpoint = os.path.join(\\n    paths[\\\"PRETRAINED_MODEL_PATH\\\"], PRETRAINED_MODEL_NAME, \\\"checkpoint\\\", \\\"ckpt-0\\\"\\n)\\npipeline_config.train_config.fine_tune_checkpoint_type = \\\"detection\\\"\\npipeline_config.train_input_reader.label_map_path = files[\\\"LABELMAP\\\"]\\npipeline_config.train_input_reader.tf_record_input_reader.input_path[:] = [\\n    os.path.join(paths[\\\"DATA_PATH\\\"], \\\"train.record\\\")\\n]\\npipeline_config.eval_input_reader[0].label_map_path = files[\\\"LABELMAP\\\"]\\npipeline_config.eval_input_reader[0].tf_record_input_reader.input_path[:] = [\\n    os.path.join(paths[\\\"DATA_PATH\\\"], \\\"test.record\\\")\\n]\";\n",
       "                var nbb_formatted_code = \"pipeline_config.model.ssd.num_classes = len(labels)\\npipeline_config.train_config.batch_size = 4\\npipeline_config.train_config.fine_tune_checkpoint = os.path.join(\\n    paths[\\\"PRETRAINED_MODEL_PATH\\\"], PRETRAINED_MODEL_NAME, \\\"checkpoint\\\", \\\"ckpt-0\\\"\\n)\\npipeline_config.train_config.fine_tune_checkpoint_type = \\\"detection\\\"\\npipeline_config.train_input_reader.label_map_path = files[\\\"LABELMAP\\\"]\\npipeline_config.train_input_reader.tf_record_input_reader.input_path[:] = [\\n    os.path.join(paths[\\\"DATA_PATH\\\"], \\\"train.record\\\")\\n]\\npipeline_config.eval_input_reader[0].label_map_path = files[\\\"LABELMAP\\\"]\\npipeline_config.eval_input_reader[0].tf_record_input_reader.input_path[:] = [\\n    os.path.join(paths[\\\"DATA_PATH\\\"], \\\"test.record\\\")\\n]\";\n",
       "                var nbb_cells = Jupyter.notebook.get_cells();\n",
       "                for (var i = 0; i < nbb_cells.length; ++i) {\n",
       "                    if (nbb_cells[i].input_prompt_number == nbb_cell_id) {\n",
       "                        if (nbb_cells[i].get_text() == nbb_unformatted_code) {\n",
       "                             nbb_cells[i].set_text(nbb_formatted_code);\n",
       "                        }\n",
       "                        break;\n",
       "                    }\n",
       "                }\n",
       "            }, 500);\n",
       "            "
      ],
      "text/plain": [
       "<IPython.core.display.Javascript object>"
      ]
     },
     "metadata": {},
     "output_type": "display_data"
    },
    {
     "data": {
      "application/javascript": [
       "\n",
       "            setTimeout(function() {\n",
       "                var nbb_cell_id = 227;\n",
       "                var nbb_unformatted_code = \"pipeline_config.model.ssd.num_classes = len(labels)\\npipeline_config.train_config.batch_size = 4\\npipeline_config.train_config.fine_tune_checkpoint = os.path.join(\\n    paths[\\\"PRETRAINED_MODEL_PATH\\\"], PRETRAINED_MODEL_NAME, \\\"checkpoint\\\", \\\"ckpt-0\\\"\\n)\\npipeline_config.train_config.fine_tune_checkpoint_type = \\\"detection\\\"\\npipeline_config.train_input_reader.label_map_path = files[\\\"LABELMAP\\\"]\\npipeline_config.train_input_reader.tf_record_input_reader.input_path[:] = [\\n    os.path.join(paths[\\\"DATA_PATH\\\"], \\\"train.record\\\")\\n]\\npipeline_config.eval_input_reader[0].label_map_path = files[\\\"LABELMAP\\\"]\\npipeline_config.eval_input_reader[0].tf_record_input_reader.input_path[:] = [\\n    os.path.join(paths[\\\"DATA_PATH\\\"], \\\"test.record\\\")\\n]\";\n",
       "                var nbb_formatted_code = \"pipeline_config.model.ssd.num_classes = len(labels)\\npipeline_config.train_config.batch_size = 4\\npipeline_config.train_config.fine_tune_checkpoint = os.path.join(\\n    paths[\\\"PRETRAINED_MODEL_PATH\\\"], PRETRAINED_MODEL_NAME, \\\"checkpoint\\\", \\\"ckpt-0\\\"\\n)\\npipeline_config.train_config.fine_tune_checkpoint_type = \\\"detection\\\"\\npipeline_config.train_input_reader.label_map_path = files[\\\"LABELMAP\\\"]\\npipeline_config.train_input_reader.tf_record_input_reader.input_path[:] = [\\n    os.path.join(paths[\\\"DATA_PATH\\\"], \\\"train.record\\\")\\n]\\npipeline_config.eval_input_reader[0].label_map_path = files[\\\"LABELMAP\\\"]\\npipeline_config.eval_input_reader[0].tf_record_input_reader.input_path[:] = [\\n    os.path.join(paths[\\\"DATA_PATH\\\"], \\\"test.record\\\")\\n]\";\n",
       "                var nbb_cells = Jupyter.notebook.get_cells();\n",
       "                for (var i = 0; i < nbb_cells.length; ++i) {\n",
       "                    if (nbb_cells[i].input_prompt_number == nbb_cell_id) {\n",
       "                        if (nbb_cells[i].get_text() == nbb_unformatted_code) {\n",
       "                             nbb_cells[i].set_text(nbb_formatted_code);\n",
       "                        }\n",
       "                        break;\n",
       "                    }\n",
       "                }\n",
       "            }, 500);\n",
       "            "
      ],
      "text/plain": [
       "<IPython.core.display.Javascript object>"
      ]
     },
     "metadata": {},
     "output_type": "display_data"
    },
    {
     "data": {
      "application/javascript": [
       "\n",
       "            setTimeout(function() {\n",
       "                var nbb_cell_id = 227;\n",
       "                var nbb_unformatted_code = \"pipeline_config.model.ssd.num_classes = len(labels)\\npipeline_config.train_config.batch_size = 4\\npipeline_config.train_config.fine_tune_checkpoint = os.path.join(\\n    paths[\\\"PRETRAINED_MODEL_PATH\\\"], PRETRAINED_MODEL_NAME, \\\"checkpoint\\\", \\\"ckpt-0\\\"\\n)\\npipeline_config.train_config.fine_tune_checkpoint_type = \\\"detection\\\"\\npipeline_config.train_input_reader.label_map_path = files[\\\"LABELMAP\\\"]\\npipeline_config.train_input_reader.tf_record_input_reader.input_path[:] = [\\n    os.path.join(paths[\\\"DATA_PATH\\\"], \\\"train.record\\\")\\n]\\npipeline_config.eval_input_reader[0].label_map_path = files[\\\"LABELMAP\\\"]\\npipeline_config.eval_input_reader[0].tf_record_input_reader.input_path[:] = [\\n    os.path.join(paths[\\\"DATA_PATH\\\"], \\\"test.record\\\")\\n]\";\n",
       "                var nbb_formatted_code = \"pipeline_config.model.ssd.num_classes = len(labels)\\npipeline_config.train_config.batch_size = 4\\npipeline_config.train_config.fine_tune_checkpoint = os.path.join(\\n    paths[\\\"PRETRAINED_MODEL_PATH\\\"], PRETRAINED_MODEL_NAME, \\\"checkpoint\\\", \\\"ckpt-0\\\"\\n)\\npipeline_config.train_config.fine_tune_checkpoint_type = \\\"detection\\\"\\npipeline_config.train_input_reader.label_map_path = files[\\\"LABELMAP\\\"]\\npipeline_config.train_input_reader.tf_record_input_reader.input_path[:] = [\\n    os.path.join(paths[\\\"DATA_PATH\\\"], \\\"train.record\\\")\\n]\\npipeline_config.eval_input_reader[0].label_map_path = files[\\\"LABELMAP\\\"]\\npipeline_config.eval_input_reader[0].tf_record_input_reader.input_path[:] = [\\n    os.path.join(paths[\\\"DATA_PATH\\\"], \\\"test.record\\\")\\n]\";\n",
       "                var nbb_cells = Jupyter.notebook.get_cells();\n",
       "                for (var i = 0; i < nbb_cells.length; ++i) {\n",
       "                    if (nbb_cells[i].input_prompt_number == nbb_cell_id) {\n",
       "                        if (nbb_cells[i].get_text() == nbb_unformatted_code) {\n",
       "                             nbb_cells[i].set_text(nbb_formatted_code);\n",
       "                        }\n",
       "                        break;\n",
       "                    }\n",
       "                }\n",
       "            }, 500);\n",
       "            "
      ],
      "text/plain": [
       "<IPython.core.display.Javascript object>"
      ]
     },
     "metadata": {},
     "output_type": "display_data"
    },
    {
     "data": {
      "application/javascript": [
       "\n",
       "            setTimeout(function() {\n",
       "                var nbb_cell_id = 227;\n",
       "                var nbb_unformatted_code = \"pipeline_config.model.ssd.num_classes = len(labels)\\npipeline_config.train_config.batch_size = 4\\npipeline_config.train_config.fine_tune_checkpoint = os.path.join(\\n    paths[\\\"PRETRAINED_MODEL_PATH\\\"], PRETRAINED_MODEL_NAME, \\\"checkpoint\\\", \\\"ckpt-0\\\"\\n)\\npipeline_config.train_config.fine_tune_checkpoint_type = \\\"detection\\\"\\npipeline_config.train_input_reader.label_map_path = files[\\\"LABELMAP\\\"]\\npipeline_config.train_input_reader.tf_record_input_reader.input_path[:] = [\\n    os.path.join(paths[\\\"DATA_PATH\\\"], \\\"train.record\\\")\\n]\\npipeline_config.eval_input_reader[0].label_map_path = files[\\\"LABELMAP\\\"]\\npipeline_config.eval_input_reader[0].tf_record_input_reader.input_path[:] = [\\n    os.path.join(paths[\\\"DATA_PATH\\\"], \\\"test.record\\\")\\n]\";\n",
       "                var nbb_formatted_code = \"pipeline_config.model.ssd.num_classes = len(labels)\\npipeline_config.train_config.batch_size = 4\\npipeline_config.train_config.fine_tune_checkpoint = os.path.join(\\n    paths[\\\"PRETRAINED_MODEL_PATH\\\"], PRETRAINED_MODEL_NAME, \\\"checkpoint\\\", \\\"ckpt-0\\\"\\n)\\npipeline_config.train_config.fine_tune_checkpoint_type = \\\"detection\\\"\\npipeline_config.train_input_reader.label_map_path = files[\\\"LABELMAP\\\"]\\npipeline_config.train_input_reader.tf_record_input_reader.input_path[:] = [\\n    os.path.join(paths[\\\"DATA_PATH\\\"], \\\"train.record\\\")\\n]\\npipeline_config.eval_input_reader[0].label_map_path = files[\\\"LABELMAP\\\"]\\npipeline_config.eval_input_reader[0].tf_record_input_reader.input_path[:] = [\\n    os.path.join(paths[\\\"DATA_PATH\\\"], \\\"test.record\\\")\\n]\";\n",
       "                var nbb_cells = Jupyter.notebook.get_cells();\n",
       "                for (var i = 0; i < nbb_cells.length; ++i) {\n",
       "                    if (nbb_cells[i].input_prompt_number == nbb_cell_id) {\n",
       "                        if (nbb_cells[i].get_text() == nbb_unformatted_code) {\n",
       "                             nbb_cells[i].set_text(nbb_formatted_code);\n",
       "                        }\n",
       "                        break;\n",
       "                    }\n",
       "                }\n",
       "            }, 500);\n",
       "            "
      ],
      "text/plain": [
       "<IPython.core.display.Javascript object>"
      ]
     },
     "metadata": {},
     "output_type": "display_data"
    }
   ],
   "source": [
    "pipeline_config.model.ssd.num_classes = len(labels)\n",
    "pipeline_config.train_config.batch_size = 4\n",
    "pipeline_config.train_config.fine_tune_checkpoint = os.path.join(\n",
    "    paths[\"PRETRAINED_MODEL_PATH\"], PRETRAINED_MODEL_NAME, \"checkpoint\", \"ckpt-0\"\n",
    ")\n",
    "pipeline_config.train_config.fine_tune_checkpoint_type = \"detection\"\n",
    "pipeline_config.train_input_reader.label_map_path = files[\"LABELMAP\"]\n",
    "pipeline_config.train_input_reader.tf_record_input_reader.input_path[:] = [\n",
    "    os.path.join(paths[\"DATA_PATH\"], \"train.record\")\n",
    "]\n",
    "pipeline_config.eval_input_reader[0].label_map_path = files[\"LABELMAP\"]\n",
    "pipeline_config.eval_input_reader[0].tf_record_input_reader.input_path[:] = [\n",
    "    os.path.join(paths[\"DATA_PATH\"], \"test.record\")\n",
    "]"
   ]
  },
  {
   "cell_type": "code",
   "execution_count": 228,
   "id": "7e5d7c57",
   "metadata": {},
   "outputs": [
    {
     "data": {
      "application/javascript": [
       "\n",
       "            setTimeout(function() {\n",
       "                var nbb_cell_id = 228;\n",
       "                var nbb_unformatted_code = \"config_text = text_format.MessageToString(pipeline_config)\\nwith tf.io.gfile.GFile(files[\\\"PIPELINE_CONFIG\\\"], \\\"wb\\\") as f:\\n    f.write(config_text)\";\n",
       "                var nbb_formatted_code = \"config_text = text_format.MessageToString(pipeline_config)\\nwith tf.io.gfile.GFile(files[\\\"PIPELINE_CONFIG\\\"], \\\"wb\\\") as f:\\n    f.write(config_text)\";\n",
       "                var nbb_cells = Jupyter.notebook.get_cells();\n",
       "                for (var i = 0; i < nbb_cells.length; ++i) {\n",
       "                    if (nbb_cells[i].input_prompt_number == nbb_cell_id) {\n",
       "                        if (nbb_cells[i].get_text() == nbb_unformatted_code) {\n",
       "                             nbb_cells[i].set_text(nbb_formatted_code);\n",
       "                        }\n",
       "                        break;\n",
       "                    }\n",
       "                }\n",
       "            }, 500);\n",
       "            "
      ],
      "text/plain": [
       "<IPython.core.display.Javascript object>"
      ]
     },
     "metadata": {},
     "output_type": "display_data"
    },
    {
     "data": {
      "application/javascript": [
       "\n",
       "            setTimeout(function() {\n",
       "                var nbb_cell_id = 228;\n",
       "                var nbb_unformatted_code = \"config_text = text_format.MessageToString(pipeline_config)\\nwith tf.io.gfile.GFile(files[\\\"PIPELINE_CONFIG\\\"], \\\"wb\\\") as f:\\n    f.write(config_text)\";\n",
       "                var nbb_formatted_code = \"config_text = text_format.MessageToString(pipeline_config)\\nwith tf.io.gfile.GFile(files[\\\"PIPELINE_CONFIG\\\"], \\\"wb\\\") as f:\\n    f.write(config_text)\";\n",
       "                var nbb_cells = Jupyter.notebook.get_cells();\n",
       "                for (var i = 0; i < nbb_cells.length; ++i) {\n",
       "                    if (nbb_cells[i].input_prompt_number == nbb_cell_id) {\n",
       "                        if (nbb_cells[i].get_text() == nbb_unformatted_code) {\n",
       "                             nbb_cells[i].set_text(nbb_formatted_code);\n",
       "                        }\n",
       "                        break;\n",
       "                    }\n",
       "                }\n",
       "            }, 500);\n",
       "            "
      ],
      "text/plain": [
       "<IPython.core.display.Javascript object>"
      ]
     },
     "metadata": {},
     "output_type": "display_data"
    },
    {
     "data": {
      "application/javascript": [
       "\n",
       "            setTimeout(function() {\n",
       "                var nbb_cell_id = 228;\n",
       "                var nbb_unformatted_code = \"config_text = text_format.MessageToString(pipeline_config)\\nwith tf.io.gfile.GFile(files[\\\"PIPELINE_CONFIG\\\"], \\\"wb\\\") as f:\\n    f.write(config_text)\";\n",
       "                var nbb_formatted_code = \"config_text = text_format.MessageToString(pipeline_config)\\nwith tf.io.gfile.GFile(files[\\\"PIPELINE_CONFIG\\\"], \\\"wb\\\") as f:\\n    f.write(config_text)\";\n",
       "                var nbb_cells = Jupyter.notebook.get_cells();\n",
       "                for (var i = 0; i < nbb_cells.length; ++i) {\n",
       "                    if (nbb_cells[i].input_prompt_number == nbb_cell_id) {\n",
       "                        if (nbb_cells[i].get_text() == nbb_unformatted_code) {\n",
       "                             nbb_cells[i].set_text(nbb_formatted_code);\n",
       "                        }\n",
       "                        break;\n",
       "                    }\n",
       "                }\n",
       "            }, 500);\n",
       "            "
      ],
      "text/plain": [
       "<IPython.core.display.Javascript object>"
      ]
     },
     "metadata": {},
     "output_type": "display_data"
    },
    {
     "data": {
      "application/javascript": [
       "\n",
       "            setTimeout(function() {\n",
       "                var nbb_cell_id = 228;\n",
       "                var nbb_unformatted_code = \"config_text = text_format.MessageToString(pipeline_config)\\nwith tf.io.gfile.GFile(files[\\\"PIPELINE_CONFIG\\\"], \\\"wb\\\") as f:\\n    f.write(config_text)\";\n",
       "                var nbb_formatted_code = \"config_text = text_format.MessageToString(pipeline_config)\\nwith tf.io.gfile.GFile(files[\\\"PIPELINE_CONFIG\\\"], \\\"wb\\\") as f:\\n    f.write(config_text)\";\n",
       "                var nbb_cells = Jupyter.notebook.get_cells();\n",
       "                for (var i = 0; i < nbb_cells.length; ++i) {\n",
       "                    if (nbb_cells[i].input_prompt_number == nbb_cell_id) {\n",
       "                        if (nbb_cells[i].get_text() == nbb_unformatted_code) {\n",
       "                             nbb_cells[i].set_text(nbb_formatted_code);\n",
       "                        }\n",
       "                        break;\n",
       "                    }\n",
       "                }\n",
       "            }, 500);\n",
       "            "
      ],
      "text/plain": [
       "<IPython.core.display.Javascript object>"
      ]
     },
     "metadata": {},
     "output_type": "display_data"
    },
    {
     "data": {
      "application/javascript": [
       "\n",
       "            setTimeout(function() {\n",
       "                var nbb_cell_id = 228;\n",
       "                var nbb_unformatted_code = \"config_text = text_format.MessageToString(pipeline_config)\\nwith tf.io.gfile.GFile(files[\\\"PIPELINE_CONFIG\\\"], \\\"wb\\\") as f:\\n    f.write(config_text)\";\n",
       "                var nbb_formatted_code = \"config_text = text_format.MessageToString(pipeline_config)\\nwith tf.io.gfile.GFile(files[\\\"PIPELINE_CONFIG\\\"], \\\"wb\\\") as f:\\n    f.write(config_text)\";\n",
       "                var nbb_cells = Jupyter.notebook.get_cells();\n",
       "                for (var i = 0; i < nbb_cells.length; ++i) {\n",
       "                    if (nbb_cells[i].input_prompt_number == nbb_cell_id) {\n",
       "                        if (nbb_cells[i].get_text() == nbb_unformatted_code) {\n",
       "                             nbb_cells[i].set_text(nbb_formatted_code);\n",
       "                        }\n",
       "                        break;\n",
       "                    }\n",
       "                }\n",
       "            }, 500);\n",
       "            "
      ],
      "text/plain": [
       "<IPython.core.display.Javascript object>"
      ]
     },
     "metadata": {},
     "output_type": "display_data"
    },
    {
     "data": {
      "application/javascript": [
       "\n",
       "            setTimeout(function() {\n",
       "                var nbb_cell_id = 228;\n",
       "                var nbb_unformatted_code = \"config_text = text_format.MessageToString(pipeline_config)\\nwith tf.io.gfile.GFile(files[\\\"PIPELINE_CONFIG\\\"], \\\"wb\\\") as f:\\n    f.write(config_text)\";\n",
       "                var nbb_formatted_code = \"config_text = text_format.MessageToString(pipeline_config)\\nwith tf.io.gfile.GFile(files[\\\"PIPELINE_CONFIG\\\"], \\\"wb\\\") as f:\\n    f.write(config_text)\";\n",
       "                var nbb_cells = Jupyter.notebook.get_cells();\n",
       "                for (var i = 0; i < nbb_cells.length; ++i) {\n",
       "                    if (nbb_cells[i].input_prompt_number == nbb_cell_id) {\n",
       "                        if (nbb_cells[i].get_text() == nbb_unformatted_code) {\n",
       "                             nbb_cells[i].set_text(nbb_formatted_code);\n",
       "                        }\n",
       "                        break;\n",
       "                    }\n",
       "                }\n",
       "            }, 500);\n",
       "            "
      ],
      "text/plain": [
       "<IPython.core.display.Javascript object>"
      ]
     },
     "metadata": {},
     "output_type": "display_data"
    },
    {
     "data": {
      "application/javascript": [
       "\n",
       "            setTimeout(function() {\n",
       "                var nbb_cell_id = 228;\n",
       "                var nbb_unformatted_code = \"config_text = text_format.MessageToString(pipeline_config)\\nwith tf.io.gfile.GFile(files[\\\"PIPELINE_CONFIG\\\"], \\\"wb\\\") as f:\\n    f.write(config_text)\";\n",
       "                var nbb_formatted_code = \"config_text = text_format.MessageToString(pipeline_config)\\nwith tf.io.gfile.GFile(files[\\\"PIPELINE_CONFIG\\\"], \\\"wb\\\") as f:\\n    f.write(config_text)\";\n",
       "                var nbb_cells = Jupyter.notebook.get_cells();\n",
       "                for (var i = 0; i < nbb_cells.length; ++i) {\n",
       "                    if (nbb_cells[i].input_prompt_number == nbb_cell_id) {\n",
       "                        if (nbb_cells[i].get_text() == nbb_unformatted_code) {\n",
       "                             nbb_cells[i].set_text(nbb_formatted_code);\n",
       "                        }\n",
       "                        break;\n",
       "                    }\n",
       "                }\n",
       "            }, 500);\n",
       "            "
      ],
      "text/plain": [
       "<IPython.core.display.Javascript object>"
      ]
     },
     "metadata": {},
     "output_type": "display_data"
    },
    {
     "data": {
      "application/javascript": [
       "\n",
       "            setTimeout(function() {\n",
       "                var nbb_cell_id = 228;\n",
       "                var nbb_unformatted_code = \"config_text = text_format.MessageToString(pipeline_config)\\nwith tf.io.gfile.GFile(files[\\\"PIPELINE_CONFIG\\\"], \\\"wb\\\") as f:\\n    f.write(config_text)\";\n",
       "                var nbb_formatted_code = \"config_text = text_format.MessageToString(pipeline_config)\\nwith tf.io.gfile.GFile(files[\\\"PIPELINE_CONFIG\\\"], \\\"wb\\\") as f:\\n    f.write(config_text)\";\n",
       "                var nbb_cells = Jupyter.notebook.get_cells();\n",
       "                for (var i = 0; i < nbb_cells.length; ++i) {\n",
       "                    if (nbb_cells[i].input_prompt_number == nbb_cell_id) {\n",
       "                        if (nbb_cells[i].get_text() == nbb_unformatted_code) {\n",
       "                             nbb_cells[i].set_text(nbb_formatted_code);\n",
       "                        }\n",
       "                        break;\n",
       "                    }\n",
       "                }\n",
       "            }, 500);\n",
       "            "
      ],
      "text/plain": [
       "<IPython.core.display.Javascript object>"
      ]
     },
     "metadata": {},
     "output_type": "display_data"
    },
    {
     "data": {
      "application/javascript": [
       "\n",
       "            setTimeout(function() {\n",
       "                var nbb_cell_id = 228;\n",
       "                var nbb_unformatted_code = \"config_text = text_format.MessageToString(pipeline_config)\\nwith tf.io.gfile.GFile(files[\\\"PIPELINE_CONFIG\\\"], \\\"wb\\\") as f:\\n    f.write(config_text)\";\n",
       "                var nbb_formatted_code = \"config_text = text_format.MessageToString(pipeline_config)\\nwith tf.io.gfile.GFile(files[\\\"PIPELINE_CONFIG\\\"], \\\"wb\\\") as f:\\n    f.write(config_text)\";\n",
       "                var nbb_cells = Jupyter.notebook.get_cells();\n",
       "                for (var i = 0; i < nbb_cells.length; ++i) {\n",
       "                    if (nbb_cells[i].input_prompt_number == nbb_cell_id) {\n",
       "                        if (nbb_cells[i].get_text() == nbb_unformatted_code) {\n",
       "                             nbb_cells[i].set_text(nbb_formatted_code);\n",
       "                        }\n",
       "                        break;\n",
       "                    }\n",
       "                }\n",
       "            }, 500);\n",
       "            "
      ],
      "text/plain": [
       "<IPython.core.display.Javascript object>"
      ]
     },
     "metadata": {},
     "output_type": "display_data"
    },
    {
     "data": {
      "application/javascript": [
       "\n",
       "            setTimeout(function() {\n",
       "                var nbb_cell_id = 228;\n",
       "                var nbb_unformatted_code = \"config_text = text_format.MessageToString(pipeline_config)\\nwith tf.io.gfile.GFile(files[\\\"PIPELINE_CONFIG\\\"], \\\"wb\\\") as f:\\n    f.write(config_text)\";\n",
       "                var nbb_formatted_code = \"config_text = text_format.MessageToString(pipeline_config)\\nwith tf.io.gfile.GFile(files[\\\"PIPELINE_CONFIG\\\"], \\\"wb\\\") as f:\\n    f.write(config_text)\";\n",
       "                var nbb_cells = Jupyter.notebook.get_cells();\n",
       "                for (var i = 0; i < nbb_cells.length; ++i) {\n",
       "                    if (nbb_cells[i].input_prompt_number == nbb_cell_id) {\n",
       "                        if (nbb_cells[i].get_text() == nbb_unformatted_code) {\n",
       "                             nbb_cells[i].set_text(nbb_formatted_code);\n",
       "                        }\n",
       "                        break;\n",
       "                    }\n",
       "                }\n",
       "            }, 500);\n",
       "            "
      ],
      "text/plain": [
       "<IPython.core.display.Javascript object>"
      ]
     },
     "metadata": {},
     "output_type": "display_data"
    }
   ],
   "source": [
    "config_text = text_format.MessageToString(pipeline_config)\n",
    "with tf.io.gfile.GFile(files[\"PIPELINE_CONFIG\"], \"wb\") as f:\n",
    "    f.write(config_text)"
   ]
  },
  {
   "cell_type": "code",
   "execution_count": 229,
   "id": "4d2fa8c2",
   "metadata": {},
   "outputs": [
    {
     "data": {
      "text/plain": [
       "{'model': ssd {\n",
       "   num_classes: 2\n",
       "   image_resizer {\n",
       "     keep_aspect_ratio_resizer {\n",
       "       min_dimension: 1024\n",
       "       max_dimension: 1024\n",
       "       pad_to_max_dimension: true\n",
       "     }\n",
       "   }\n",
       "   feature_extractor {\n",
       "     type: \"ssd_efficientnet-b4_bifpn_keras\"\n",
       "     conv_hyperparams {\n",
       "       regularizer {\n",
       "         l2_regularizer {\n",
       "           weight: 3.9999998989515007e-05\n",
       "         }\n",
       "       }\n",
       "       initializer {\n",
       "         truncated_normal_initializer {\n",
       "           mean: 0.0\n",
       "           stddev: 0.029999999329447746\n",
       "         }\n",
       "       }\n",
       "       activation: SWISH\n",
       "       batch_norm {\n",
       "         decay: 0.9900000095367432\n",
       "         scale: true\n",
       "         epsilon: 0.0010000000474974513\n",
       "       }\n",
       "       force_use_bias: true\n",
       "     }\n",
       "     bifpn {\n",
       "       min_level: 3\n",
       "       max_level: 7\n",
       "       num_iterations: 7\n",
       "       num_filters: 224\n",
       "     }\n",
       "   }\n",
       "   box_coder {\n",
       "     faster_rcnn_box_coder {\n",
       "       y_scale: 1.0\n",
       "       x_scale: 1.0\n",
       "       height_scale: 1.0\n",
       "       width_scale: 1.0\n",
       "     }\n",
       "   }\n",
       "   matcher {\n",
       "     argmax_matcher {\n",
       "       matched_threshold: 0.5\n",
       "       unmatched_threshold: 0.5\n",
       "       ignore_thresholds: false\n",
       "       negatives_lower_than_unmatched: true\n",
       "       force_match_for_each_row: true\n",
       "       use_matmul_gather: true\n",
       "     }\n",
       "   }\n",
       "   similarity_calculator {\n",
       "     iou_similarity {\n",
       "     }\n",
       "   }\n",
       "   box_predictor {\n",
       "     weight_shared_convolutional_box_predictor {\n",
       "       conv_hyperparams {\n",
       "         regularizer {\n",
       "           l2_regularizer {\n",
       "             weight: 3.9999998989515007e-05\n",
       "           }\n",
       "         }\n",
       "         initializer {\n",
       "           random_normal_initializer {\n",
       "             mean: 0.0\n",
       "             stddev: 0.009999999776482582\n",
       "           }\n",
       "         }\n",
       "         activation: SWISH\n",
       "         batch_norm {\n",
       "           decay: 0.9900000095367432\n",
       "           scale: true\n",
       "           epsilon: 0.0010000000474974513\n",
       "         }\n",
       "         force_use_bias: true\n",
       "       }\n",
       "       depth: 224\n",
       "       num_layers_before_predictor: 4\n",
       "       kernel_size: 3\n",
       "       class_prediction_bias_init: -4.599999904632568\n",
       "       use_depthwise: true\n",
       "     }\n",
       "   }\n",
       "   anchor_generator {\n",
       "     multiscale_anchor_generator {\n",
       "       min_level: 3\n",
       "       max_level: 7\n",
       "       anchor_scale: 4.0\n",
       "       aspect_ratios: 1.0\n",
       "       aspect_ratios: 2.0\n",
       "       aspect_ratios: 0.5\n",
       "       scales_per_octave: 3\n",
       "     }\n",
       "   }\n",
       "   post_processing {\n",
       "     batch_non_max_suppression {\n",
       "       score_threshold: 9.99999993922529e-09\n",
       "       iou_threshold: 0.5\n",
       "       max_detections_per_class: 100\n",
       "       max_total_detections: 100\n",
       "     }\n",
       "     score_converter: SIGMOID\n",
       "   }\n",
       "   normalize_loss_by_num_matches: true\n",
       "   loss {\n",
       "     localization_loss {\n",
       "       weighted_smooth_l1 {\n",
       "       }\n",
       "     }\n",
       "     classification_loss {\n",
       "       weighted_sigmoid_focal {\n",
       "         gamma: 1.5\n",
       "         alpha: 0.25\n",
       "       }\n",
       "     }\n",
       "     classification_weight: 1.0\n",
       "     localization_weight: 1.0\n",
       "   }\n",
       "   encode_background_as_zeros: true\n",
       "   normalize_loc_loss_by_codesize: true\n",
       "   inplace_batchnorm_update: true\n",
       "   freeze_batchnorm: false\n",
       "   add_background_class: false\n",
       " },\n",
       " 'train_config': batch_size: 4\n",
       " data_augmentation_options {\n",
       "   random_horizontal_flip {\n",
       "   }\n",
       " }\n",
       " data_augmentation_options {\n",
       "   random_scale_crop_and_pad_to_square {\n",
       "     output_size: 1024\n",
       "     scale_min: 0.10000000149011612\n",
       "     scale_max: 2.0\n",
       "   }\n",
       " }\n",
       " sync_replicas: true\n",
       " optimizer {\n",
       "   momentum_optimizer {\n",
       "     learning_rate {\n",
       "       cosine_decay_learning_rate {\n",
       "         learning_rate_base: 0.07999999821186066\n",
       "         total_steps: 300000\n",
       "         warmup_learning_rate: 0.0010000000474974513\n",
       "         warmup_steps: 2500\n",
       "       }\n",
       "     }\n",
       "     momentum_optimizer_value: 0.8999999761581421\n",
       "   }\n",
       "   use_moving_average: false\n",
       " }\n",
       " fine_tune_checkpoint: \"/Users/user/Applications/machine-learning/deeproute/pre-trained-models/efficientdet_d4_coco17_tpu-32/checkpoint/ckpt-0\"\n",
       " num_steps: 300000\n",
       " startup_delay_steps: 0.0\n",
       " replicas_to_aggregate: 8\n",
       " max_number_of_boxes: 100\n",
       " unpad_groundtruth_tensors: false\n",
       " fine_tune_checkpoint_type: \"detection\"\n",
       " use_bfloat16: true\n",
       " fine_tune_checkpoint_version: V2,\n",
       " 'train_input_config': label_map_path: \"/Users/user/Applications/machine-learning/deeproute/data/label_map.pbtxt\"\n",
       " tf_record_input_reader {\n",
       "   input_path: \"/Users/user/Applications/machine-learning/deeproute/data/train.record\"\n",
       " },\n",
       " 'eval_config': metrics_set: \"coco_detection_metrics\"\n",
       " use_moving_averages: false\n",
       " batch_size: 1,\n",
       " 'eval_input_configs': [label_map_path: \"/Users/user/Applications/machine-learning/deeproute/data/label_map.pbtxt\"\n",
       " shuffle: false\n",
       " num_epochs: 1\n",
       " tf_record_input_reader {\n",
       "   input_path: \"/Users/user/Applications/machine-learning/deeproute/data/test.record\"\n",
       " }\n",
       " ],\n",
       " 'eval_input_config': label_map_path: \"/Users/user/Applications/machine-learning/deeproute/data/label_map.pbtxt\"\n",
       " shuffle: false\n",
       " num_epochs: 1\n",
       " tf_record_input_reader {\n",
       "   input_path: \"/Users/user/Applications/machine-learning/deeproute/data/test.record\"\n",
       " }}"
      ]
     },
     "execution_count": 229,
     "metadata": {},
     "output_type": "execute_result"
    },
    {
     "data": {
      "application/javascript": [
       "\n",
       "            setTimeout(function() {\n",
       "                var nbb_cell_id = 229;\n",
       "                var nbb_unformatted_code = \"config = config_util.get_configs_from_pipeline_file(files[\\\"PIPELINE_CONFIG\\\"])\\nconfig\";\n",
       "                var nbb_formatted_code = \"config = config_util.get_configs_from_pipeline_file(files[\\\"PIPELINE_CONFIG\\\"])\\nconfig\";\n",
       "                var nbb_cells = Jupyter.notebook.get_cells();\n",
       "                for (var i = 0; i < nbb_cells.length; ++i) {\n",
       "                    if (nbb_cells[i].input_prompt_number == nbb_cell_id) {\n",
       "                        if (nbb_cells[i].get_text() == nbb_unformatted_code) {\n",
       "                             nbb_cells[i].set_text(nbb_formatted_code);\n",
       "                        }\n",
       "                        break;\n",
       "                    }\n",
       "                }\n",
       "            }, 500);\n",
       "            "
      ],
      "text/plain": [
       "<IPython.core.display.Javascript object>"
      ]
     },
     "metadata": {},
     "output_type": "display_data"
    },
    {
     "data": {
      "application/javascript": [
       "\n",
       "            setTimeout(function() {\n",
       "                var nbb_cell_id = 229;\n",
       "                var nbb_unformatted_code = \"config = config_util.get_configs_from_pipeline_file(files[\\\"PIPELINE_CONFIG\\\"])\\nconfig\";\n",
       "                var nbb_formatted_code = \"config = config_util.get_configs_from_pipeline_file(files[\\\"PIPELINE_CONFIG\\\"])\\nconfig\";\n",
       "                var nbb_cells = Jupyter.notebook.get_cells();\n",
       "                for (var i = 0; i < nbb_cells.length; ++i) {\n",
       "                    if (nbb_cells[i].input_prompt_number == nbb_cell_id) {\n",
       "                        if (nbb_cells[i].get_text() == nbb_unformatted_code) {\n",
       "                             nbb_cells[i].set_text(nbb_formatted_code);\n",
       "                        }\n",
       "                        break;\n",
       "                    }\n",
       "                }\n",
       "            }, 500);\n",
       "            "
      ],
      "text/plain": [
       "<IPython.core.display.Javascript object>"
      ]
     },
     "metadata": {},
     "output_type": "display_data"
    },
    {
     "data": {
      "application/javascript": [
       "\n",
       "            setTimeout(function() {\n",
       "                var nbb_cell_id = 229;\n",
       "                var nbb_unformatted_code = \"config = config_util.get_configs_from_pipeline_file(files[\\\"PIPELINE_CONFIG\\\"])\\nconfig\";\n",
       "                var nbb_formatted_code = \"config = config_util.get_configs_from_pipeline_file(files[\\\"PIPELINE_CONFIG\\\"])\\nconfig\";\n",
       "                var nbb_cells = Jupyter.notebook.get_cells();\n",
       "                for (var i = 0; i < nbb_cells.length; ++i) {\n",
       "                    if (nbb_cells[i].input_prompt_number == nbb_cell_id) {\n",
       "                        if (nbb_cells[i].get_text() == nbb_unformatted_code) {\n",
       "                             nbb_cells[i].set_text(nbb_formatted_code);\n",
       "                        }\n",
       "                        break;\n",
       "                    }\n",
       "                }\n",
       "            }, 500);\n",
       "            "
      ],
      "text/plain": [
       "<IPython.core.display.Javascript object>"
      ]
     },
     "metadata": {},
     "output_type": "display_data"
    },
    {
     "data": {
      "application/javascript": [
       "\n",
       "            setTimeout(function() {\n",
       "                var nbb_cell_id = 229;\n",
       "                var nbb_unformatted_code = \"config = config_util.get_configs_from_pipeline_file(files[\\\"PIPELINE_CONFIG\\\"])\\nconfig\";\n",
       "                var nbb_formatted_code = \"config = config_util.get_configs_from_pipeline_file(files[\\\"PIPELINE_CONFIG\\\"])\\nconfig\";\n",
       "                var nbb_cells = Jupyter.notebook.get_cells();\n",
       "                for (var i = 0; i < nbb_cells.length; ++i) {\n",
       "                    if (nbb_cells[i].input_prompt_number == nbb_cell_id) {\n",
       "                        if (nbb_cells[i].get_text() == nbb_unformatted_code) {\n",
       "                             nbb_cells[i].set_text(nbb_formatted_code);\n",
       "                        }\n",
       "                        break;\n",
       "                    }\n",
       "                }\n",
       "            }, 500);\n",
       "            "
      ],
      "text/plain": [
       "<IPython.core.display.Javascript object>"
      ]
     },
     "metadata": {},
     "output_type": "display_data"
    },
    {
     "data": {
      "application/javascript": [
       "\n",
       "            setTimeout(function() {\n",
       "                var nbb_cell_id = 229;\n",
       "                var nbb_unformatted_code = \"config = config_util.get_configs_from_pipeline_file(files[\\\"PIPELINE_CONFIG\\\"])\\nconfig\";\n",
       "                var nbb_formatted_code = \"config = config_util.get_configs_from_pipeline_file(files[\\\"PIPELINE_CONFIG\\\"])\\nconfig\";\n",
       "                var nbb_cells = Jupyter.notebook.get_cells();\n",
       "                for (var i = 0; i < nbb_cells.length; ++i) {\n",
       "                    if (nbb_cells[i].input_prompt_number == nbb_cell_id) {\n",
       "                        if (nbb_cells[i].get_text() == nbb_unformatted_code) {\n",
       "                             nbb_cells[i].set_text(nbb_formatted_code);\n",
       "                        }\n",
       "                        break;\n",
       "                    }\n",
       "                }\n",
       "            }, 500);\n",
       "            "
      ],
      "text/plain": [
       "<IPython.core.display.Javascript object>"
      ]
     },
     "metadata": {},
     "output_type": "display_data"
    },
    {
     "data": {
      "application/javascript": [
       "\n",
       "            setTimeout(function() {\n",
       "                var nbb_cell_id = 229;\n",
       "                var nbb_unformatted_code = \"config = config_util.get_configs_from_pipeline_file(files[\\\"PIPELINE_CONFIG\\\"])\\nconfig\";\n",
       "                var nbb_formatted_code = \"config = config_util.get_configs_from_pipeline_file(files[\\\"PIPELINE_CONFIG\\\"])\\nconfig\";\n",
       "                var nbb_cells = Jupyter.notebook.get_cells();\n",
       "                for (var i = 0; i < nbb_cells.length; ++i) {\n",
       "                    if (nbb_cells[i].input_prompt_number == nbb_cell_id) {\n",
       "                        if (nbb_cells[i].get_text() == nbb_unformatted_code) {\n",
       "                             nbb_cells[i].set_text(nbb_formatted_code);\n",
       "                        }\n",
       "                        break;\n",
       "                    }\n",
       "                }\n",
       "            }, 500);\n",
       "            "
      ],
      "text/plain": [
       "<IPython.core.display.Javascript object>"
      ]
     },
     "metadata": {},
     "output_type": "display_data"
    },
    {
     "data": {
      "application/javascript": [
       "\n",
       "            setTimeout(function() {\n",
       "                var nbb_cell_id = 229;\n",
       "                var nbb_unformatted_code = \"config = config_util.get_configs_from_pipeline_file(files[\\\"PIPELINE_CONFIG\\\"])\\nconfig\";\n",
       "                var nbb_formatted_code = \"config = config_util.get_configs_from_pipeline_file(files[\\\"PIPELINE_CONFIG\\\"])\\nconfig\";\n",
       "                var nbb_cells = Jupyter.notebook.get_cells();\n",
       "                for (var i = 0; i < nbb_cells.length; ++i) {\n",
       "                    if (nbb_cells[i].input_prompt_number == nbb_cell_id) {\n",
       "                        if (nbb_cells[i].get_text() == nbb_unformatted_code) {\n",
       "                             nbb_cells[i].set_text(nbb_formatted_code);\n",
       "                        }\n",
       "                        break;\n",
       "                    }\n",
       "                }\n",
       "            }, 500);\n",
       "            "
      ],
      "text/plain": [
       "<IPython.core.display.Javascript object>"
      ]
     },
     "metadata": {},
     "output_type": "display_data"
    },
    {
     "data": {
      "application/javascript": [
       "\n",
       "            setTimeout(function() {\n",
       "                var nbb_cell_id = 229;\n",
       "                var nbb_unformatted_code = \"config = config_util.get_configs_from_pipeline_file(files[\\\"PIPELINE_CONFIG\\\"])\\nconfig\";\n",
       "                var nbb_formatted_code = \"config = config_util.get_configs_from_pipeline_file(files[\\\"PIPELINE_CONFIG\\\"])\\nconfig\";\n",
       "                var nbb_cells = Jupyter.notebook.get_cells();\n",
       "                for (var i = 0; i < nbb_cells.length; ++i) {\n",
       "                    if (nbb_cells[i].input_prompt_number == nbb_cell_id) {\n",
       "                        if (nbb_cells[i].get_text() == nbb_unformatted_code) {\n",
       "                             nbb_cells[i].set_text(nbb_formatted_code);\n",
       "                        }\n",
       "                        break;\n",
       "                    }\n",
       "                }\n",
       "            }, 500);\n",
       "            "
      ],
      "text/plain": [
       "<IPython.core.display.Javascript object>"
      ]
     },
     "metadata": {},
     "output_type": "display_data"
    },
    {
     "data": {
      "application/javascript": [
       "\n",
       "            setTimeout(function() {\n",
       "                var nbb_cell_id = 229;\n",
       "                var nbb_unformatted_code = \"config = config_util.get_configs_from_pipeline_file(files[\\\"PIPELINE_CONFIG\\\"])\\nconfig\";\n",
       "                var nbb_formatted_code = \"config = config_util.get_configs_from_pipeline_file(files[\\\"PIPELINE_CONFIG\\\"])\\nconfig\";\n",
       "                var nbb_cells = Jupyter.notebook.get_cells();\n",
       "                for (var i = 0; i < nbb_cells.length; ++i) {\n",
       "                    if (nbb_cells[i].input_prompt_number == nbb_cell_id) {\n",
       "                        if (nbb_cells[i].get_text() == nbb_unformatted_code) {\n",
       "                             nbb_cells[i].set_text(nbb_formatted_code);\n",
       "                        }\n",
       "                        break;\n",
       "                    }\n",
       "                }\n",
       "            }, 500);\n",
       "            "
      ],
      "text/plain": [
       "<IPython.core.display.Javascript object>"
      ]
     },
     "metadata": {},
     "output_type": "display_data"
    },
    {
     "data": {
      "application/javascript": [
       "\n",
       "            setTimeout(function() {\n",
       "                var nbb_cell_id = 229;\n",
       "                var nbb_unformatted_code = \"config = config_util.get_configs_from_pipeline_file(files[\\\"PIPELINE_CONFIG\\\"])\\nconfig\";\n",
       "                var nbb_formatted_code = \"config = config_util.get_configs_from_pipeline_file(files[\\\"PIPELINE_CONFIG\\\"])\\nconfig\";\n",
       "                var nbb_cells = Jupyter.notebook.get_cells();\n",
       "                for (var i = 0; i < nbb_cells.length; ++i) {\n",
       "                    if (nbb_cells[i].input_prompt_number == nbb_cell_id) {\n",
       "                        if (nbb_cells[i].get_text() == nbb_unformatted_code) {\n",
       "                             nbb_cells[i].set_text(nbb_formatted_code);\n",
       "                        }\n",
       "                        break;\n",
       "                    }\n",
       "                }\n",
       "            }, 500);\n",
       "            "
      ],
      "text/plain": [
       "<IPython.core.display.Javascript object>"
      ]
     },
     "metadata": {},
     "output_type": "display_data"
    }
   ],
   "source": [
    "config = config_util.get_configs_from_pipeline_file(files[\"PIPELINE_CONFIG\"])\n",
    "config"
   ]
  },
  {
   "cell_type": "code",
   "execution_count": 230,
   "id": "17da2502",
   "metadata": {},
   "outputs": [
    {
     "data": {
      "application/javascript": [
       "\n",
       "            setTimeout(function() {\n",
       "                var nbb_cell_id = 230;\n",
       "                var nbb_unformatted_code = \"import object_detection\";\n",
       "                var nbb_formatted_code = \"import object_detection\";\n",
       "                var nbb_cells = Jupyter.notebook.get_cells();\n",
       "                for (var i = 0; i < nbb_cells.length; ++i) {\n",
       "                    if (nbb_cells[i].input_prompt_number == nbb_cell_id) {\n",
       "                        if (nbb_cells[i].get_text() == nbb_unformatted_code) {\n",
       "                             nbb_cells[i].set_text(nbb_formatted_code);\n",
       "                        }\n",
       "                        break;\n",
       "                    }\n",
       "                }\n",
       "            }, 500);\n",
       "            "
      ],
      "text/plain": [
       "<IPython.core.display.Javascript object>"
      ]
     },
     "metadata": {},
     "output_type": "display_data"
    },
    {
     "data": {
      "application/javascript": [
       "\n",
       "            setTimeout(function() {\n",
       "                var nbb_cell_id = 230;\n",
       "                var nbb_unformatted_code = \"import object_detection\";\n",
       "                var nbb_formatted_code = \"import object_detection\";\n",
       "                var nbb_cells = Jupyter.notebook.get_cells();\n",
       "                for (var i = 0; i < nbb_cells.length; ++i) {\n",
       "                    if (nbb_cells[i].input_prompt_number == nbb_cell_id) {\n",
       "                        if (nbb_cells[i].get_text() == nbb_unformatted_code) {\n",
       "                             nbb_cells[i].set_text(nbb_formatted_code);\n",
       "                        }\n",
       "                        break;\n",
       "                    }\n",
       "                }\n",
       "            }, 500);\n",
       "            "
      ],
      "text/plain": [
       "<IPython.core.display.Javascript object>"
      ]
     },
     "metadata": {},
     "output_type": "display_data"
    },
    {
     "data": {
      "application/javascript": [
       "\n",
       "            setTimeout(function() {\n",
       "                var nbb_cell_id = 230;\n",
       "                var nbb_unformatted_code = \"import object_detection\";\n",
       "                var nbb_formatted_code = \"import object_detection\";\n",
       "                var nbb_cells = Jupyter.notebook.get_cells();\n",
       "                for (var i = 0; i < nbb_cells.length; ++i) {\n",
       "                    if (nbb_cells[i].input_prompt_number == nbb_cell_id) {\n",
       "                        if (nbb_cells[i].get_text() == nbb_unformatted_code) {\n",
       "                             nbb_cells[i].set_text(nbb_formatted_code);\n",
       "                        }\n",
       "                        break;\n",
       "                    }\n",
       "                }\n",
       "            }, 500);\n",
       "            "
      ],
      "text/plain": [
       "<IPython.core.display.Javascript object>"
      ]
     },
     "metadata": {},
     "output_type": "display_data"
    },
    {
     "data": {
      "application/javascript": [
       "\n",
       "            setTimeout(function() {\n",
       "                var nbb_cell_id = 230;\n",
       "                var nbb_unformatted_code = \"import object_detection\";\n",
       "                var nbb_formatted_code = \"import object_detection\";\n",
       "                var nbb_cells = Jupyter.notebook.get_cells();\n",
       "                for (var i = 0; i < nbb_cells.length; ++i) {\n",
       "                    if (nbb_cells[i].input_prompt_number == nbb_cell_id) {\n",
       "                        if (nbb_cells[i].get_text() == nbb_unformatted_code) {\n",
       "                             nbb_cells[i].set_text(nbb_formatted_code);\n",
       "                        }\n",
       "                        break;\n",
       "                    }\n",
       "                }\n",
       "            }, 500);\n",
       "            "
      ],
      "text/plain": [
       "<IPython.core.display.Javascript object>"
      ]
     },
     "metadata": {},
     "output_type": "display_data"
    },
    {
     "data": {
      "application/javascript": [
       "\n",
       "            setTimeout(function() {\n",
       "                var nbb_cell_id = 230;\n",
       "                var nbb_unformatted_code = \"import object_detection\";\n",
       "                var nbb_formatted_code = \"import object_detection\";\n",
       "                var nbb_cells = Jupyter.notebook.get_cells();\n",
       "                for (var i = 0; i < nbb_cells.length; ++i) {\n",
       "                    if (nbb_cells[i].input_prompt_number == nbb_cell_id) {\n",
       "                        if (nbb_cells[i].get_text() == nbb_unformatted_code) {\n",
       "                             nbb_cells[i].set_text(nbb_formatted_code);\n",
       "                        }\n",
       "                        break;\n",
       "                    }\n",
       "                }\n",
       "            }, 500);\n",
       "            "
      ],
      "text/plain": [
       "<IPython.core.display.Javascript object>"
      ]
     },
     "metadata": {},
     "output_type": "display_data"
    },
    {
     "data": {
      "application/javascript": [
       "\n",
       "            setTimeout(function() {\n",
       "                var nbb_cell_id = 230;\n",
       "                var nbb_unformatted_code = \"import object_detection\";\n",
       "                var nbb_formatted_code = \"import object_detection\";\n",
       "                var nbb_cells = Jupyter.notebook.get_cells();\n",
       "                for (var i = 0; i < nbb_cells.length; ++i) {\n",
       "                    if (nbb_cells[i].input_prompt_number == nbb_cell_id) {\n",
       "                        if (nbb_cells[i].get_text() == nbb_unformatted_code) {\n",
       "                             nbb_cells[i].set_text(nbb_formatted_code);\n",
       "                        }\n",
       "                        break;\n",
       "                    }\n",
       "                }\n",
       "            }, 500);\n",
       "            "
      ],
      "text/plain": [
       "<IPython.core.display.Javascript object>"
      ]
     },
     "metadata": {},
     "output_type": "display_data"
    },
    {
     "data": {
      "application/javascript": [
       "\n",
       "            setTimeout(function() {\n",
       "                var nbb_cell_id = 230;\n",
       "                var nbb_unformatted_code = \"import object_detection\";\n",
       "                var nbb_formatted_code = \"import object_detection\";\n",
       "                var nbb_cells = Jupyter.notebook.get_cells();\n",
       "                for (var i = 0; i < nbb_cells.length; ++i) {\n",
       "                    if (nbb_cells[i].input_prompt_number == nbb_cell_id) {\n",
       "                        if (nbb_cells[i].get_text() == nbb_unformatted_code) {\n",
       "                             nbb_cells[i].set_text(nbb_formatted_code);\n",
       "                        }\n",
       "                        break;\n",
       "                    }\n",
       "                }\n",
       "            }, 500);\n",
       "            "
      ],
      "text/plain": [
       "<IPython.core.display.Javascript object>"
      ]
     },
     "metadata": {},
     "output_type": "display_data"
    },
    {
     "data": {
      "application/javascript": [
       "\n",
       "            setTimeout(function() {\n",
       "                var nbb_cell_id = 230;\n",
       "                var nbb_unformatted_code = \"import object_detection\";\n",
       "                var nbb_formatted_code = \"import object_detection\";\n",
       "                var nbb_cells = Jupyter.notebook.get_cells();\n",
       "                for (var i = 0; i < nbb_cells.length; ++i) {\n",
       "                    if (nbb_cells[i].input_prompt_number == nbb_cell_id) {\n",
       "                        if (nbb_cells[i].get_text() == nbb_unformatted_code) {\n",
       "                             nbb_cells[i].set_text(nbb_formatted_code);\n",
       "                        }\n",
       "                        break;\n",
       "                    }\n",
       "                }\n",
       "            }, 500);\n",
       "            "
      ],
      "text/plain": [
       "<IPython.core.display.Javascript object>"
      ]
     },
     "metadata": {},
     "output_type": "display_data"
    },
    {
     "data": {
      "application/javascript": [
       "\n",
       "            setTimeout(function() {\n",
       "                var nbb_cell_id = 230;\n",
       "                var nbb_unformatted_code = \"import object_detection\";\n",
       "                var nbb_formatted_code = \"import object_detection\";\n",
       "                var nbb_cells = Jupyter.notebook.get_cells();\n",
       "                for (var i = 0; i < nbb_cells.length; ++i) {\n",
       "                    if (nbb_cells[i].input_prompt_number == nbb_cell_id) {\n",
       "                        if (nbb_cells[i].get_text() == nbb_unformatted_code) {\n",
       "                             nbb_cells[i].set_text(nbb_formatted_code);\n",
       "                        }\n",
       "                        break;\n",
       "                    }\n",
       "                }\n",
       "            }, 500);\n",
       "            "
      ],
      "text/plain": [
       "<IPython.core.display.Javascript object>"
      ]
     },
     "metadata": {},
     "output_type": "display_data"
    },
    {
     "data": {
      "application/javascript": [
       "\n",
       "            setTimeout(function() {\n",
       "                var nbb_cell_id = 230;\n",
       "                var nbb_unformatted_code = \"import object_detection\";\n",
       "                var nbb_formatted_code = \"import object_detection\";\n",
       "                var nbb_cells = Jupyter.notebook.get_cells();\n",
       "                for (var i = 0; i < nbb_cells.length; ++i) {\n",
       "                    if (nbb_cells[i].input_prompt_number == nbb_cell_id) {\n",
       "                        if (nbb_cells[i].get_text() == nbb_unformatted_code) {\n",
       "                             nbb_cells[i].set_text(nbb_formatted_code);\n",
       "                        }\n",
       "                        break;\n",
       "                    }\n",
       "                }\n",
       "            }, 500);\n",
       "            "
      ],
      "text/plain": [
       "<IPython.core.display.Javascript object>"
      ]
     },
     "metadata": {},
     "output_type": "display_data"
    }
   ],
   "source": [
    "import object_detection"
   ]
  },
  {
   "cell_type": "code",
   "execution_count": 231,
   "id": "8970fd36",
   "metadata": {},
   "outputs": [
    {
     "name": "stdout",
     "output_type": "stream",
     "text": [
      "python3 /Users/user/Applications/machine-learning/deeproute/api_models/models/research/object_detection/model_main_tf2.py --model_dir=/Users/user/Applications/machine-learning/deeproute/my_models/my_efficient_net --pipeline_config_path=/Users/user/Applications/machine-learning/deeproute/my_models/my_efficient_net/pipeline.config --num_train_steps=2000\n"
     ]
    },
    {
     "data": {
      "application/javascript": [
       "\n",
       "            setTimeout(function() {\n",
       "                var nbb_cell_id = 231;\n",
       "                var nbb_unformatted_code = \"TRAINING_SCRIPT = os.path.join(\\n    paths[\\\"APIMODEL_PATH\\\"],\\n    \\\"models\\\",\\n    \\\"research\\\",\\n    \\\"object_detection\\\",\\n    \\\"model_main_tf2.py\\\",\\n)\\ncommand = (\\n    \\\"python3 {} --model_dir={} --pipeline_config_path={} --num_train_steps=2000\\\".format(\\n        TRAINING_SCRIPT, paths[\\\"CHECKPOINT_PATH\\\"], files[\\\"PIPELINE_CONFIG\\\"]\\n    )\\n)\\nprint(command)\";\n",
       "                var nbb_formatted_code = \"TRAINING_SCRIPT = os.path.join(\\n    paths[\\\"APIMODEL_PATH\\\"],\\n    \\\"models\\\",\\n    \\\"research\\\",\\n    \\\"object_detection\\\",\\n    \\\"model_main_tf2.py\\\",\\n)\\ncommand = (\\n    \\\"python3 {} --model_dir={} --pipeline_config_path={} --num_train_steps=2000\\\".format(\\n        TRAINING_SCRIPT, paths[\\\"CHECKPOINT_PATH\\\"], files[\\\"PIPELINE_CONFIG\\\"]\\n    )\\n)\\nprint(command)\";\n",
       "                var nbb_cells = Jupyter.notebook.get_cells();\n",
       "                for (var i = 0; i < nbb_cells.length; ++i) {\n",
       "                    if (nbb_cells[i].input_prompt_number == nbb_cell_id) {\n",
       "                        if (nbb_cells[i].get_text() == nbb_unformatted_code) {\n",
       "                             nbb_cells[i].set_text(nbb_formatted_code);\n",
       "                        }\n",
       "                        break;\n",
       "                    }\n",
       "                }\n",
       "            }, 500);\n",
       "            "
      ],
      "text/plain": [
       "<IPython.core.display.Javascript object>"
      ]
     },
     "metadata": {},
     "output_type": "display_data"
    },
    {
     "data": {
      "application/javascript": [
       "\n",
       "            setTimeout(function() {\n",
       "                var nbb_cell_id = 231;\n",
       "                var nbb_unformatted_code = \"TRAINING_SCRIPT = os.path.join(\\n    paths[\\\"APIMODEL_PATH\\\"],\\n    \\\"models\\\",\\n    \\\"research\\\",\\n    \\\"object_detection\\\",\\n    \\\"model_main_tf2.py\\\",\\n)\\ncommand = (\\n    \\\"python3 {} --model_dir={} --pipeline_config_path={} --num_train_steps=2000\\\".format(\\n        TRAINING_SCRIPT, paths[\\\"CHECKPOINT_PATH\\\"], files[\\\"PIPELINE_CONFIG\\\"]\\n    )\\n)\\nprint(command)\";\n",
       "                var nbb_formatted_code = \"TRAINING_SCRIPT = os.path.join(\\n    paths[\\\"APIMODEL_PATH\\\"],\\n    \\\"models\\\",\\n    \\\"research\\\",\\n    \\\"object_detection\\\",\\n    \\\"model_main_tf2.py\\\",\\n)\\ncommand = (\\n    \\\"python3 {} --model_dir={} --pipeline_config_path={} --num_train_steps=2000\\\".format(\\n        TRAINING_SCRIPT, paths[\\\"CHECKPOINT_PATH\\\"], files[\\\"PIPELINE_CONFIG\\\"]\\n    )\\n)\\nprint(command)\";\n",
       "                var nbb_cells = Jupyter.notebook.get_cells();\n",
       "                for (var i = 0; i < nbb_cells.length; ++i) {\n",
       "                    if (nbb_cells[i].input_prompt_number == nbb_cell_id) {\n",
       "                        if (nbb_cells[i].get_text() == nbb_unformatted_code) {\n",
       "                             nbb_cells[i].set_text(nbb_formatted_code);\n",
       "                        }\n",
       "                        break;\n",
       "                    }\n",
       "                }\n",
       "            }, 500);\n",
       "            "
      ],
      "text/plain": [
       "<IPython.core.display.Javascript object>"
      ]
     },
     "metadata": {},
     "output_type": "display_data"
    },
    {
     "data": {
      "application/javascript": [
       "\n",
       "            setTimeout(function() {\n",
       "                var nbb_cell_id = 231;\n",
       "                var nbb_unformatted_code = \"TRAINING_SCRIPT = os.path.join(\\n    paths[\\\"APIMODEL_PATH\\\"],\\n    \\\"models\\\",\\n    \\\"research\\\",\\n    \\\"object_detection\\\",\\n    \\\"model_main_tf2.py\\\",\\n)\\ncommand = (\\n    \\\"python3 {} --model_dir={} --pipeline_config_path={} --num_train_steps=2000\\\".format(\\n        TRAINING_SCRIPT, paths[\\\"CHECKPOINT_PATH\\\"], files[\\\"PIPELINE_CONFIG\\\"]\\n    )\\n)\\nprint(command)\";\n",
       "                var nbb_formatted_code = \"TRAINING_SCRIPT = os.path.join(\\n    paths[\\\"APIMODEL_PATH\\\"],\\n    \\\"models\\\",\\n    \\\"research\\\",\\n    \\\"object_detection\\\",\\n    \\\"model_main_tf2.py\\\",\\n)\\ncommand = (\\n    \\\"python3 {} --model_dir={} --pipeline_config_path={} --num_train_steps=2000\\\".format(\\n        TRAINING_SCRIPT, paths[\\\"CHECKPOINT_PATH\\\"], files[\\\"PIPELINE_CONFIG\\\"]\\n    )\\n)\\nprint(command)\";\n",
       "                var nbb_cells = Jupyter.notebook.get_cells();\n",
       "                for (var i = 0; i < nbb_cells.length; ++i) {\n",
       "                    if (nbb_cells[i].input_prompt_number == nbb_cell_id) {\n",
       "                        if (nbb_cells[i].get_text() == nbb_unformatted_code) {\n",
       "                             nbb_cells[i].set_text(nbb_formatted_code);\n",
       "                        }\n",
       "                        break;\n",
       "                    }\n",
       "                }\n",
       "            }, 500);\n",
       "            "
      ],
      "text/plain": [
       "<IPython.core.display.Javascript object>"
      ]
     },
     "metadata": {},
     "output_type": "display_data"
    },
    {
     "data": {
      "application/javascript": [
       "\n",
       "            setTimeout(function() {\n",
       "                var nbb_cell_id = 231;\n",
       "                var nbb_unformatted_code = \"TRAINING_SCRIPT = os.path.join(\\n    paths[\\\"APIMODEL_PATH\\\"],\\n    \\\"models\\\",\\n    \\\"research\\\",\\n    \\\"object_detection\\\",\\n    \\\"model_main_tf2.py\\\",\\n)\\ncommand = (\\n    \\\"python3 {} --model_dir={} --pipeline_config_path={} --num_train_steps=2000\\\".format(\\n        TRAINING_SCRIPT, paths[\\\"CHECKPOINT_PATH\\\"], files[\\\"PIPELINE_CONFIG\\\"]\\n    )\\n)\\nprint(command)\";\n",
       "                var nbb_formatted_code = \"TRAINING_SCRIPT = os.path.join(\\n    paths[\\\"APIMODEL_PATH\\\"],\\n    \\\"models\\\",\\n    \\\"research\\\",\\n    \\\"object_detection\\\",\\n    \\\"model_main_tf2.py\\\",\\n)\\ncommand = (\\n    \\\"python3 {} --model_dir={} --pipeline_config_path={} --num_train_steps=2000\\\".format(\\n        TRAINING_SCRIPT, paths[\\\"CHECKPOINT_PATH\\\"], files[\\\"PIPELINE_CONFIG\\\"]\\n    )\\n)\\nprint(command)\";\n",
       "                var nbb_cells = Jupyter.notebook.get_cells();\n",
       "                for (var i = 0; i < nbb_cells.length; ++i) {\n",
       "                    if (nbb_cells[i].input_prompt_number == nbb_cell_id) {\n",
       "                        if (nbb_cells[i].get_text() == nbb_unformatted_code) {\n",
       "                             nbb_cells[i].set_text(nbb_formatted_code);\n",
       "                        }\n",
       "                        break;\n",
       "                    }\n",
       "                }\n",
       "            }, 500);\n",
       "            "
      ],
      "text/plain": [
       "<IPython.core.display.Javascript object>"
      ]
     },
     "metadata": {},
     "output_type": "display_data"
    },
    {
     "data": {
      "application/javascript": [
       "\n",
       "            setTimeout(function() {\n",
       "                var nbb_cell_id = 231;\n",
       "                var nbb_unformatted_code = \"TRAINING_SCRIPT = os.path.join(\\n    paths[\\\"APIMODEL_PATH\\\"],\\n    \\\"models\\\",\\n    \\\"research\\\",\\n    \\\"object_detection\\\",\\n    \\\"model_main_tf2.py\\\",\\n)\\ncommand = (\\n    \\\"python3 {} --model_dir={} --pipeline_config_path={} --num_train_steps=2000\\\".format(\\n        TRAINING_SCRIPT, paths[\\\"CHECKPOINT_PATH\\\"], files[\\\"PIPELINE_CONFIG\\\"]\\n    )\\n)\\nprint(command)\";\n",
       "                var nbb_formatted_code = \"TRAINING_SCRIPT = os.path.join(\\n    paths[\\\"APIMODEL_PATH\\\"],\\n    \\\"models\\\",\\n    \\\"research\\\",\\n    \\\"object_detection\\\",\\n    \\\"model_main_tf2.py\\\",\\n)\\ncommand = (\\n    \\\"python3 {} --model_dir={} --pipeline_config_path={} --num_train_steps=2000\\\".format(\\n        TRAINING_SCRIPT, paths[\\\"CHECKPOINT_PATH\\\"], files[\\\"PIPELINE_CONFIG\\\"]\\n    )\\n)\\nprint(command)\";\n",
       "                var nbb_cells = Jupyter.notebook.get_cells();\n",
       "                for (var i = 0; i < nbb_cells.length; ++i) {\n",
       "                    if (nbb_cells[i].input_prompt_number == nbb_cell_id) {\n",
       "                        if (nbb_cells[i].get_text() == nbb_unformatted_code) {\n",
       "                             nbb_cells[i].set_text(nbb_formatted_code);\n",
       "                        }\n",
       "                        break;\n",
       "                    }\n",
       "                }\n",
       "            }, 500);\n",
       "            "
      ],
      "text/plain": [
       "<IPython.core.display.Javascript object>"
      ]
     },
     "metadata": {},
     "output_type": "display_data"
    },
    {
     "data": {
      "application/javascript": [
       "\n",
       "            setTimeout(function() {\n",
       "                var nbb_cell_id = 231;\n",
       "                var nbb_unformatted_code = \"TRAINING_SCRIPT = os.path.join(\\n    paths[\\\"APIMODEL_PATH\\\"],\\n    \\\"models\\\",\\n    \\\"research\\\",\\n    \\\"object_detection\\\",\\n    \\\"model_main_tf2.py\\\",\\n)\\ncommand = (\\n    \\\"python3 {} --model_dir={} --pipeline_config_path={} --num_train_steps=2000\\\".format(\\n        TRAINING_SCRIPT, paths[\\\"CHECKPOINT_PATH\\\"], files[\\\"PIPELINE_CONFIG\\\"]\\n    )\\n)\\nprint(command)\";\n",
       "                var nbb_formatted_code = \"TRAINING_SCRIPT = os.path.join(\\n    paths[\\\"APIMODEL_PATH\\\"],\\n    \\\"models\\\",\\n    \\\"research\\\",\\n    \\\"object_detection\\\",\\n    \\\"model_main_tf2.py\\\",\\n)\\ncommand = (\\n    \\\"python3 {} --model_dir={} --pipeline_config_path={} --num_train_steps=2000\\\".format(\\n        TRAINING_SCRIPT, paths[\\\"CHECKPOINT_PATH\\\"], files[\\\"PIPELINE_CONFIG\\\"]\\n    )\\n)\\nprint(command)\";\n",
       "                var nbb_cells = Jupyter.notebook.get_cells();\n",
       "                for (var i = 0; i < nbb_cells.length; ++i) {\n",
       "                    if (nbb_cells[i].input_prompt_number == nbb_cell_id) {\n",
       "                        if (nbb_cells[i].get_text() == nbb_unformatted_code) {\n",
       "                             nbb_cells[i].set_text(nbb_formatted_code);\n",
       "                        }\n",
       "                        break;\n",
       "                    }\n",
       "                }\n",
       "            }, 500);\n",
       "            "
      ],
      "text/plain": [
       "<IPython.core.display.Javascript object>"
      ]
     },
     "metadata": {},
     "output_type": "display_data"
    },
    {
     "data": {
      "application/javascript": [
       "\n",
       "            setTimeout(function() {\n",
       "                var nbb_cell_id = 231;\n",
       "                var nbb_unformatted_code = \"TRAINING_SCRIPT = os.path.join(\\n    paths[\\\"APIMODEL_PATH\\\"],\\n    \\\"models\\\",\\n    \\\"research\\\",\\n    \\\"object_detection\\\",\\n    \\\"model_main_tf2.py\\\",\\n)\\ncommand = (\\n    \\\"python3 {} --model_dir={} --pipeline_config_path={} --num_train_steps=2000\\\".format(\\n        TRAINING_SCRIPT, paths[\\\"CHECKPOINT_PATH\\\"], files[\\\"PIPELINE_CONFIG\\\"]\\n    )\\n)\\nprint(command)\";\n",
       "                var nbb_formatted_code = \"TRAINING_SCRIPT = os.path.join(\\n    paths[\\\"APIMODEL_PATH\\\"],\\n    \\\"models\\\",\\n    \\\"research\\\",\\n    \\\"object_detection\\\",\\n    \\\"model_main_tf2.py\\\",\\n)\\ncommand = (\\n    \\\"python3 {} --model_dir={} --pipeline_config_path={} --num_train_steps=2000\\\".format(\\n        TRAINING_SCRIPT, paths[\\\"CHECKPOINT_PATH\\\"], files[\\\"PIPELINE_CONFIG\\\"]\\n    )\\n)\\nprint(command)\";\n",
       "                var nbb_cells = Jupyter.notebook.get_cells();\n",
       "                for (var i = 0; i < nbb_cells.length; ++i) {\n",
       "                    if (nbb_cells[i].input_prompt_number == nbb_cell_id) {\n",
       "                        if (nbb_cells[i].get_text() == nbb_unformatted_code) {\n",
       "                             nbb_cells[i].set_text(nbb_formatted_code);\n",
       "                        }\n",
       "                        break;\n",
       "                    }\n",
       "                }\n",
       "            }, 500);\n",
       "            "
      ],
      "text/plain": [
       "<IPython.core.display.Javascript object>"
      ]
     },
     "metadata": {},
     "output_type": "display_data"
    },
    {
     "data": {
      "application/javascript": [
       "\n",
       "            setTimeout(function() {\n",
       "                var nbb_cell_id = 231;\n",
       "                var nbb_unformatted_code = \"TRAINING_SCRIPT = os.path.join(\\n    paths[\\\"APIMODEL_PATH\\\"],\\n    \\\"models\\\",\\n    \\\"research\\\",\\n    \\\"object_detection\\\",\\n    \\\"model_main_tf2.py\\\",\\n)\\ncommand = (\\n    \\\"python3 {} --model_dir={} --pipeline_config_path={} --num_train_steps=2000\\\".format(\\n        TRAINING_SCRIPT, paths[\\\"CHECKPOINT_PATH\\\"], files[\\\"PIPELINE_CONFIG\\\"]\\n    )\\n)\\nprint(command)\";\n",
       "                var nbb_formatted_code = \"TRAINING_SCRIPT = os.path.join(\\n    paths[\\\"APIMODEL_PATH\\\"],\\n    \\\"models\\\",\\n    \\\"research\\\",\\n    \\\"object_detection\\\",\\n    \\\"model_main_tf2.py\\\",\\n)\\ncommand = (\\n    \\\"python3 {} --model_dir={} --pipeline_config_path={} --num_train_steps=2000\\\".format(\\n        TRAINING_SCRIPT, paths[\\\"CHECKPOINT_PATH\\\"], files[\\\"PIPELINE_CONFIG\\\"]\\n    )\\n)\\nprint(command)\";\n",
       "                var nbb_cells = Jupyter.notebook.get_cells();\n",
       "                for (var i = 0; i < nbb_cells.length; ++i) {\n",
       "                    if (nbb_cells[i].input_prompt_number == nbb_cell_id) {\n",
       "                        if (nbb_cells[i].get_text() == nbb_unformatted_code) {\n",
       "                             nbb_cells[i].set_text(nbb_formatted_code);\n",
       "                        }\n",
       "                        break;\n",
       "                    }\n",
       "                }\n",
       "            }, 500);\n",
       "            "
      ],
      "text/plain": [
       "<IPython.core.display.Javascript object>"
      ]
     },
     "metadata": {},
     "output_type": "display_data"
    },
    {
     "data": {
      "application/javascript": [
       "\n",
       "            setTimeout(function() {\n",
       "                var nbb_cell_id = 231;\n",
       "                var nbb_unformatted_code = \"TRAINING_SCRIPT = os.path.join(\\n    paths[\\\"APIMODEL_PATH\\\"],\\n    \\\"models\\\",\\n    \\\"research\\\",\\n    \\\"object_detection\\\",\\n    \\\"model_main_tf2.py\\\",\\n)\\ncommand = (\\n    \\\"python3 {} --model_dir={} --pipeline_config_path={} --num_train_steps=2000\\\".format(\\n        TRAINING_SCRIPT, paths[\\\"CHECKPOINT_PATH\\\"], files[\\\"PIPELINE_CONFIG\\\"]\\n    )\\n)\\nprint(command)\";\n",
       "                var nbb_formatted_code = \"TRAINING_SCRIPT = os.path.join(\\n    paths[\\\"APIMODEL_PATH\\\"],\\n    \\\"models\\\",\\n    \\\"research\\\",\\n    \\\"object_detection\\\",\\n    \\\"model_main_tf2.py\\\",\\n)\\ncommand = (\\n    \\\"python3 {} --model_dir={} --pipeline_config_path={} --num_train_steps=2000\\\".format(\\n        TRAINING_SCRIPT, paths[\\\"CHECKPOINT_PATH\\\"], files[\\\"PIPELINE_CONFIG\\\"]\\n    )\\n)\\nprint(command)\";\n",
       "                var nbb_cells = Jupyter.notebook.get_cells();\n",
       "                for (var i = 0; i < nbb_cells.length; ++i) {\n",
       "                    if (nbb_cells[i].input_prompt_number == nbb_cell_id) {\n",
       "                        if (nbb_cells[i].get_text() == nbb_unformatted_code) {\n",
       "                             nbb_cells[i].set_text(nbb_formatted_code);\n",
       "                        }\n",
       "                        break;\n",
       "                    }\n",
       "                }\n",
       "            }, 500);\n",
       "            "
      ],
      "text/plain": [
       "<IPython.core.display.Javascript object>"
      ]
     },
     "metadata": {},
     "output_type": "display_data"
    },
    {
     "data": {
      "application/javascript": [
       "\n",
       "            setTimeout(function() {\n",
       "                var nbb_cell_id = 231;\n",
       "                var nbb_unformatted_code = \"TRAINING_SCRIPT = os.path.join(\\n    paths[\\\"APIMODEL_PATH\\\"],\\n    \\\"models\\\",\\n    \\\"research\\\",\\n    \\\"object_detection\\\",\\n    \\\"model_main_tf2.py\\\",\\n)\\ncommand = (\\n    \\\"python3 {} --model_dir={} --pipeline_config_path={} --num_train_steps=2000\\\".format(\\n        TRAINING_SCRIPT, paths[\\\"CHECKPOINT_PATH\\\"], files[\\\"PIPELINE_CONFIG\\\"]\\n    )\\n)\\nprint(command)\";\n",
       "                var nbb_formatted_code = \"TRAINING_SCRIPT = os.path.join(\\n    paths[\\\"APIMODEL_PATH\\\"],\\n    \\\"models\\\",\\n    \\\"research\\\",\\n    \\\"object_detection\\\",\\n    \\\"model_main_tf2.py\\\",\\n)\\ncommand = (\\n    \\\"python3 {} --model_dir={} --pipeline_config_path={} --num_train_steps=2000\\\".format(\\n        TRAINING_SCRIPT, paths[\\\"CHECKPOINT_PATH\\\"], files[\\\"PIPELINE_CONFIG\\\"]\\n    )\\n)\\nprint(command)\";\n",
       "                var nbb_cells = Jupyter.notebook.get_cells();\n",
       "                for (var i = 0; i < nbb_cells.length; ++i) {\n",
       "                    if (nbb_cells[i].input_prompt_number == nbb_cell_id) {\n",
       "                        if (nbb_cells[i].get_text() == nbb_unformatted_code) {\n",
       "                             nbb_cells[i].set_text(nbb_formatted_code);\n",
       "                        }\n",
       "                        break;\n",
       "                    }\n",
       "                }\n",
       "            }, 500);\n",
       "            "
      ],
      "text/plain": [
       "<IPython.core.display.Javascript object>"
      ]
     },
     "metadata": {},
     "output_type": "display_data"
    }
   ],
   "source": [
    "TRAINING_SCRIPT = os.path.join(\n",
    "    paths[\"APIMODEL_PATH\"],\n",
    "    \"models\",\n",
    "    \"research\",\n",
    "    \"object_detection\",\n",
    "    \"model_main_tf2.py\",\n",
    ")\n",
    "command = (\n",
    "    \"python3 {} --model_dir={} --pipeline_config_path={} --num_train_steps=2000\".format(\n",
    "        TRAINING_SCRIPT, paths[\"CHECKPOINT_PATH\"], files[\"PIPELINE_CONFIG\"]\n",
    "    )\n",
    ")\n",
    "print(command)"
   ]
  }
 ],
 "metadata": {
  "kernelspec": {
   "display_name": "Python deep-route",
   "language": "python",
   "name": "deep-route"
  },
  "language_info": {
   "codemirror_mode": {
    "name": "ipython",
    "version": 3
   },
   "file_extension": ".py",
   "mimetype": "text/x-python",
   "name": "python",
   "nbconvert_exporter": "python",
   "pygments_lexer": "ipython3",
   "version": "3.8.10"
  }
 },
 "nbformat": 4,
 "nbformat_minor": 5
}
