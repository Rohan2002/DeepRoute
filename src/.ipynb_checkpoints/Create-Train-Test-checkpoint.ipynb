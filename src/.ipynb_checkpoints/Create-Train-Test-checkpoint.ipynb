{
 "cells": [
  {
   "cell_type": "code",
   "execution_count": 154,
   "metadata": {},
   "outputs": [
    {
     "name": "stdout",
     "output_type": "stream",
     "text": [
      "The autoreload extension is already loaded. To reload it, use:\n",
      "  %reload_ext autoreload\n"
     ]
    },
    {
     "data": {
      "application/javascript": [
       "\n",
       "            setTimeout(function() {\n",
       "                var nbb_cell_id = 154;\n",
       "                var nbb_unformatted_code = \"import warnings\\n\\nwarnings.filterwarnings(\\\"ignore\\\")\\n\\nimport os\\nimport shutil\\nimport platform\\nimport cv2\\nimport pandas as pd\\nimport random\\nimport math\\nimport uuid\\nimport sys\\nimport traceback\\nimport utils\\n\\n%load_ext autoreload\\n%autoreload 2\\n\\n%reload_ext nb_black\\n%config IPCompleter.greedy=True\";\n",
       "                var nbb_formatted_code = \"import warnings\\n\\nwarnings.filterwarnings(\\\"ignore\\\")\\n\\nimport os\\nimport shutil\\nimport platform\\nimport cv2\\nimport pandas as pd\\nimport random\\nimport math\\nimport uuid\\nimport sys\\nimport traceback\\nimport utils\\n\\n%load_ext autoreload\\n%autoreload 2\\n\\n%reload_ext nb_black\\n%config IPCompleter.greedy=True\";\n",
       "                var nbb_cells = Jupyter.notebook.get_cells();\n",
       "                for (var i = 0; i < nbb_cells.length; ++i) {\n",
       "                    if (nbb_cells[i].input_prompt_number == nbb_cell_id) {\n",
       "                        if (nbb_cells[i].get_text() == nbb_unformatted_code) {\n",
       "                             nbb_cells[i].set_text(nbb_formatted_code);\n",
       "                        }\n",
       "                        break;\n",
       "                    }\n",
       "                }\n",
       "            }, 500);\n",
       "            "
      ],
      "text/plain": [
       "<IPython.core.display.Javascript object>"
      ]
     },
     "metadata": {},
     "output_type": "display_data"
    },
    {
     "data": {
      "application/javascript": [
       "\n",
       "            setTimeout(function() {\n",
       "                var nbb_cell_id = 154;\n",
       "                var nbb_unformatted_code = \"import warnings\\n\\nwarnings.filterwarnings(\\\"ignore\\\")\\n\\nimport os\\nimport shutil\\nimport platform\\nimport cv2\\nimport pandas as pd\\nimport random\\nimport math\\nimport uuid\\nimport sys\\nimport traceback\\nimport utils\\n\\n%load_ext autoreload\\n%autoreload 2\\n\\n%reload_ext nb_black\\n%config IPCompleter.greedy=True\";\n",
       "                var nbb_formatted_code = \"import warnings\\n\\nwarnings.filterwarnings(\\\"ignore\\\")\\n\\nimport os\\nimport shutil\\nimport platform\\nimport cv2\\nimport pandas as pd\\nimport random\\nimport math\\nimport uuid\\nimport sys\\nimport traceback\\nimport utils\\n\\n%load_ext autoreload\\n%autoreload 2\\n\\n%reload_ext nb_black\\n%config IPCompleter.greedy=True\";\n",
       "                var nbb_cells = Jupyter.notebook.get_cells();\n",
       "                for (var i = 0; i < nbb_cells.length; ++i) {\n",
       "                    if (nbb_cells[i].input_prompt_number == nbb_cell_id) {\n",
       "                        if (nbb_cells[i].get_text() == nbb_unformatted_code) {\n",
       "                             nbb_cells[i].set_text(nbb_formatted_code);\n",
       "                        }\n",
       "                        break;\n",
       "                    }\n",
       "                }\n",
       "            }, 500);\n",
       "            "
      ],
      "text/plain": [
       "<IPython.core.display.Javascript object>"
      ]
     },
     "metadata": {},
     "output_type": "display_data"
    },
    {
     "data": {
      "application/javascript": [
       "\n",
       "            setTimeout(function() {\n",
       "                var nbb_cell_id = 154;\n",
       "                var nbb_unformatted_code = \"import warnings\\n\\nwarnings.filterwarnings(\\\"ignore\\\")\\n\\nimport os\\nimport shutil\\nimport platform\\nimport cv2\\nimport pandas as pd\\nimport random\\nimport math\\nimport uuid\\nimport sys\\nimport traceback\\nimport utils\\n\\n%load_ext autoreload\\n%autoreload 2\\n\\n%reload_ext nb_black\\n%config IPCompleter.greedy=True\";\n",
       "                var nbb_formatted_code = \"import warnings\\n\\nwarnings.filterwarnings(\\\"ignore\\\")\\n\\nimport os\\nimport shutil\\nimport platform\\nimport cv2\\nimport pandas as pd\\nimport random\\nimport math\\nimport uuid\\nimport sys\\nimport traceback\\nimport utils\\n\\n%load_ext autoreload\\n%autoreload 2\\n\\n%reload_ext nb_black\\n%config IPCompleter.greedy=True\";\n",
       "                var nbb_cells = Jupyter.notebook.get_cells();\n",
       "                for (var i = 0; i < nbb_cells.length; ++i) {\n",
       "                    if (nbb_cells[i].input_prompt_number == nbb_cell_id) {\n",
       "                        if (nbb_cells[i].get_text() == nbb_unformatted_code) {\n",
       "                             nbb_cells[i].set_text(nbb_formatted_code);\n",
       "                        }\n",
       "                        break;\n",
       "                    }\n",
       "                }\n",
       "            }, 500);\n",
       "            "
      ],
      "text/plain": [
       "<IPython.core.display.Javascript object>"
      ]
     },
     "metadata": {},
     "output_type": "display_data"
    },
    {
     "data": {
      "application/javascript": [
       "\n",
       "            setTimeout(function() {\n",
       "                var nbb_cell_id = 154;\n",
       "                var nbb_unformatted_code = \"import warnings\\n\\nwarnings.filterwarnings(\\\"ignore\\\")\\n\\nimport os\\nimport shutil\\nimport platform\\nimport cv2\\nimport pandas as pd\\nimport random\\nimport math\\nimport uuid\\nimport sys\\nimport traceback\\nimport utils\\n\\n%load_ext autoreload\\n%autoreload 2\\n\\n%reload_ext nb_black\\n%config IPCompleter.greedy=True\";\n",
       "                var nbb_formatted_code = \"import warnings\\n\\nwarnings.filterwarnings(\\\"ignore\\\")\\n\\nimport os\\nimport shutil\\nimport platform\\nimport cv2\\nimport pandas as pd\\nimport random\\nimport math\\nimport uuid\\nimport sys\\nimport traceback\\nimport utils\\n\\n%load_ext autoreload\\n%autoreload 2\\n\\n%reload_ext nb_black\\n%config IPCompleter.greedy=True\";\n",
       "                var nbb_cells = Jupyter.notebook.get_cells();\n",
       "                for (var i = 0; i < nbb_cells.length; ++i) {\n",
       "                    if (nbb_cells[i].input_prompt_number == nbb_cell_id) {\n",
       "                        if (nbb_cells[i].get_text() == nbb_unformatted_code) {\n",
       "                             nbb_cells[i].set_text(nbb_formatted_code);\n",
       "                        }\n",
       "                        break;\n",
       "                    }\n",
       "                }\n",
       "            }, 500);\n",
       "            "
      ],
      "text/plain": [
       "<IPython.core.display.Javascript object>"
      ]
     },
     "metadata": {},
     "output_type": "display_data"
    },
    {
     "data": {
      "application/javascript": [
       "\n",
       "            setTimeout(function() {\n",
       "                var nbb_cell_id = 154;\n",
       "                var nbb_unformatted_code = \"import warnings\\n\\nwarnings.filterwarnings(\\\"ignore\\\")\\n\\nimport os\\nimport shutil\\nimport platform\\nimport cv2\\nimport pandas as pd\\nimport random\\nimport math\\nimport uuid\\nimport sys\\nimport traceback\\nimport utils\\n\\n%load_ext autoreload\\n%autoreload 2\\n\\n%reload_ext nb_black\\n%config IPCompleter.greedy=True\";\n",
       "                var nbb_formatted_code = \"import warnings\\n\\nwarnings.filterwarnings(\\\"ignore\\\")\\n\\nimport os\\nimport shutil\\nimport platform\\nimport cv2\\nimport pandas as pd\\nimport random\\nimport math\\nimport uuid\\nimport sys\\nimport traceback\\nimport utils\\n\\n%load_ext autoreload\\n%autoreload 2\\n\\n%reload_ext nb_black\\n%config IPCompleter.greedy=True\";\n",
       "                var nbb_cells = Jupyter.notebook.get_cells();\n",
       "                for (var i = 0; i < nbb_cells.length; ++i) {\n",
       "                    if (nbb_cells[i].input_prompt_number == nbb_cell_id) {\n",
       "                        if (nbb_cells[i].get_text() == nbb_unformatted_code) {\n",
       "                             nbb_cells[i].set_text(nbb_formatted_code);\n",
       "                        }\n",
       "                        break;\n",
       "                    }\n",
       "                }\n",
       "            }, 500);\n",
       "            "
      ],
      "text/plain": [
       "<IPython.core.display.Javascript object>"
      ]
     },
     "metadata": {},
     "output_type": "display_data"
    }
   ],
   "source": [
    "import warnings\n",
    "\n",
    "warnings.filterwarnings(\"ignore\")\n",
    "\n",
    "import os\n",
    "import shutil\n",
    "import platform\n",
    "import cv2\n",
    "import pandas as pd\n",
    "import random\n",
    "import math\n",
    "import uuid\n",
    "import sys\n",
    "import traceback\n",
    "import utils\n",
    "\n",
    "%load_ext autoreload\n",
    "%autoreload 2\n",
    "\n",
    "%reload_ext nb_black\n",
    "%config IPCompleter.greedy=True"
   ]
  },
  {
   "cell_type": "code",
   "execution_count": 125,
   "metadata": {},
   "outputs": [
    {
     "data": {
      "application/javascript": [
       "\n",
       "            setTimeout(function() {\n",
       "                var nbb_cell_id = 125;\n",
       "                var nbb_unformatted_code = \"CURRENT_MICE = \\\"PrL-16\\\"\\nparent_directory = os.path.dirname(os.getcwd())\\npath_to_videos = os.path.join(parent_directory, \\\"videos\\\")\\npath_to_data = os.path.join(parent_directory, \\\"data\\\")\\n\\nmice = [\\n    \\\"PrL-2\\\",\\n    \\\"PrL-3\\\",\\n    \\\"PrL-4\\\",\\n    \\\"PrL-5\\\",\\n    \\\"PrL-8\\\",\\n    \\\"PrL-9\\\",\\n    \\\"PrL-10\\\",\\n    \\\"PrL-16\\\",\\n    \\\"PrL-19\\\",\\n]\\nlabels = [\\\"parent-mice\\\", \\\"child-mice\\\"]\";\n",
       "                var nbb_formatted_code = \"CURRENT_MICE = \\\"PrL-16\\\"\\nparent_directory = os.path.dirname(os.getcwd())\\npath_to_videos = os.path.join(parent_directory, \\\"videos\\\")\\npath_to_data = os.path.join(parent_directory, \\\"data\\\")\\n\\nmice = [\\n    \\\"PrL-2\\\",\\n    \\\"PrL-3\\\",\\n    \\\"PrL-4\\\",\\n    \\\"PrL-5\\\",\\n    \\\"PrL-8\\\",\\n    \\\"PrL-9\\\",\\n    \\\"PrL-10\\\",\\n    \\\"PrL-16\\\",\\n    \\\"PrL-19\\\",\\n]\\nlabels = [\\\"parent-mice\\\", \\\"child-mice\\\"]\";\n",
       "                var nbb_cells = Jupyter.notebook.get_cells();\n",
       "                for (var i = 0; i < nbb_cells.length; ++i) {\n",
       "                    if (nbb_cells[i].input_prompt_number == nbb_cell_id) {\n",
       "                        if (nbb_cells[i].get_text() == nbb_unformatted_code) {\n",
       "                             nbb_cells[i].set_text(nbb_formatted_code);\n",
       "                        }\n",
       "                        break;\n",
       "                    }\n",
       "                }\n",
       "            }, 500);\n",
       "            "
      ],
      "text/plain": [
       "<IPython.core.display.Javascript object>"
      ]
     },
     "metadata": {},
     "output_type": "display_data"
    },
    {
     "data": {
      "application/javascript": [
       "\n",
       "            setTimeout(function() {\n",
       "                var nbb_cell_id = 125;\n",
       "                var nbb_unformatted_code = \"CURRENT_MICE = \\\"PrL-16\\\"\\nparent_directory = os.path.dirname(os.getcwd())\\npath_to_videos = os.path.join(parent_directory, \\\"videos\\\")\\npath_to_data = os.path.join(parent_directory, \\\"data\\\")\\n\\nmice = [\\n    \\\"PrL-2\\\",\\n    \\\"PrL-3\\\",\\n    \\\"PrL-4\\\",\\n    \\\"PrL-5\\\",\\n    \\\"PrL-8\\\",\\n    \\\"PrL-9\\\",\\n    \\\"PrL-10\\\",\\n    \\\"PrL-16\\\",\\n    \\\"PrL-19\\\",\\n]\\nlabels = [\\\"parent-mice\\\", \\\"child-mice\\\"]\";\n",
       "                var nbb_formatted_code = \"CURRENT_MICE = \\\"PrL-16\\\"\\nparent_directory = os.path.dirname(os.getcwd())\\npath_to_videos = os.path.join(parent_directory, \\\"videos\\\")\\npath_to_data = os.path.join(parent_directory, \\\"data\\\")\\n\\nmice = [\\n    \\\"PrL-2\\\",\\n    \\\"PrL-3\\\",\\n    \\\"PrL-4\\\",\\n    \\\"PrL-5\\\",\\n    \\\"PrL-8\\\",\\n    \\\"PrL-9\\\",\\n    \\\"PrL-10\\\",\\n    \\\"PrL-16\\\",\\n    \\\"PrL-19\\\",\\n]\\nlabels = [\\\"parent-mice\\\", \\\"child-mice\\\"]\";\n",
       "                var nbb_cells = Jupyter.notebook.get_cells();\n",
       "                for (var i = 0; i < nbb_cells.length; ++i) {\n",
       "                    if (nbb_cells[i].input_prompt_number == nbb_cell_id) {\n",
       "                        if (nbb_cells[i].get_text() == nbb_unformatted_code) {\n",
       "                             nbb_cells[i].set_text(nbb_formatted_code);\n",
       "                        }\n",
       "                        break;\n",
       "                    }\n",
       "                }\n",
       "            }, 500);\n",
       "            "
      ],
      "text/plain": [
       "<IPython.core.display.Javascript object>"
      ]
     },
     "metadata": {},
     "output_type": "display_data"
    },
    {
     "data": {
      "application/javascript": [
       "\n",
       "            setTimeout(function() {\n",
       "                var nbb_cell_id = 125;\n",
       "                var nbb_unformatted_code = \"CURRENT_MICE = \\\"PrL-16\\\"\\nparent_directory = os.path.dirname(os.getcwd())\\npath_to_videos = os.path.join(parent_directory, \\\"videos\\\")\\npath_to_data = os.path.join(parent_directory, \\\"data\\\")\\n\\nmice = [\\n    \\\"PrL-2\\\",\\n    \\\"PrL-3\\\",\\n    \\\"PrL-4\\\",\\n    \\\"PrL-5\\\",\\n    \\\"PrL-8\\\",\\n    \\\"PrL-9\\\",\\n    \\\"PrL-10\\\",\\n    \\\"PrL-16\\\",\\n    \\\"PrL-19\\\",\\n]\\nlabels = [\\\"parent-mice\\\", \\\"child-mice\\\"]\";\n",
       "                var nbb_formatted_code = \"CURRENT_MICE = \\\"PrL-16\\\"\\nparent_directory = os.path.dirname(os.getcwd())\\npath_to_videos = os.path.join(parent_directory, \\\"videos\\\")\\npath_to_data = os.path.join(parent_directory, \\\"data\\\")\\n\\nmice = [\\n    \\\"PrL-2\\\",\\n    \\\"PrL-3\\\",\\n    \\\"PrL-4\\\",\\n    \\\"PrL-5\\\",\\n    \\\"PrL-8\\\",\\n    \\\"PrL-9\\\",\\n    \\\"PrL-10\\\",\\n    \\\"PrL-16\\\",\\n    \\\"PrL-19\\\",\\n]\\nlabels = [\\\"parent-mice\\\", \\\"child-mice\\\"]\";\n",
       "                var nbb_cells = Jupyter.notebook.get_cells();\n",
       "                for (var i = 0; i < nbb_cells.length; ++i) {\n",
       "                    if (nbb_cells[i].input_prompt_number == nbb_cell_id) {\n",
       "                        if (nbb_cells[i].get_text() == nbb_unformatted_code) {\n",
       "                             nbb_cells[i].set_text(nbb_formatted_code);\n",
       "                        }\n",
       "                        break;\n",
       "                    }\n",
       "                }\n",
       "            }, 500);\n",
       "            "
      ],
      "text/plain": [
       "<IPython.core.display.Javascript object>"
      ]
     },
     "metadata": {},
     "output_type": "display_data"
    }
   ],
   "source": [
    "CURRENT_MICE = \"PrL-16\"\n",
    "parent_directory = os.path.dirname(os.getcwd())\n",
    "path_to_videos = os.path.join(parent_directory, \"videos\")\n",
    "path_to_data = os.path.join(parent_directory, \"data\")\n",
    "\n",
    "mice = [\n",
    "    \"PrL-2\",\n",
    "    \"PrL-3\",\n",
    "    \"PrL-4\",\n",
    "    \"PrL-5\",\n",
    "    \"PrL-8\",\n",
    "    \"PrL-9\",\n",
    "    \"PrL-10\",\n",
    "    \"PrL-16\",\n",
    "    \"PrL-19\",\n",
    "]\n",
    "labels = [\"parent-mice\", \"child-mice\"]"
   ]
  },
  {
   "cell_type": "code",
   "execution_count": 126,
   "metadata": {},
   "outputs": [
    {
     "data": {
      "application/javascript": [
       "\n",
       "            setTimeout(function() {\n",
       "                var nbb_cell_id = 126;\n",
       "                var nbb_unformatted_code = \"mice_df = pd.DataFrame(mice, columns=[\\\"Mice\\\"])\";\n",
       "                var nbb_formatted_code = \"mice_df = pd.DataFrame(mice, columns=[\\\"Mice\\\"])\";\n",
       "                var nbb_cells = Jupyter.notebook.get_cells();\n",
       "                for (var i = 0; i < nbb_cells.length; ++i) {\n",
       "                    if (nbb_cells[i].input_prompt_number == nbb_cell_id) {\n",
       "                        if (nbb_cells[i].get_text() == nbb_unformatted_code) {\n",
       "                             nbb_cells[i].set_text(nbb_formatted_code);\n",
       "                        }\n",
       "                        break;\n",
       "                    }\n",
       "                }\n",
       "            }, 500);\n",
       "            "
      ],
      "text/plain": [
       "<IPython.core.display.Javascript object>"
      ]
     },
     "metadata": {},
     "output_type": "display_data"
    },
    {
     "data": {
      "application/javascript": [
       "\n",
       "            setTimeout(function() {\n",
       "                var nbb_cell_id = 126;\n",
       "                var nbb_unformatted_code = \"mice_df = pd.DataFrame(mice, columns=[\\\"Mice\\\"])\";\n",
       "                var nbb_formatted_code = \"mice_df = pd.DataFrame(mice, columns=[\\\"Mice\\\"])\";\n",
       "                var nbb_cells = Jupyter.notebook.get_cells();\n",
       "                for (var i = 0; i < nbb_cells.length; ++i) {\n",
       "                    if (nbb_cells[i].input_prompt_number == nbb_cell_id) {\n",
       "                        if (nbb_cells[i].get_text() == nbb_unformatted_code) {\n",
       "                             nbb_cells[i].set_text(nbb_formatted_code);\n",
       "                        }\n",
       "                        break;\n",
       "                    }\n",
       "                }\n",
       "            }, 500);\n",
       "            "
      ],
      "text/plain": [
       "<IPython.core.display.Javascript object>"
      ]
     },
     "metadata": {},
     "output_type": "display_data"
    },
    {
     "data": {
      "application/javascript": [
       "\n",
       "            setTimeout(function() {\n",
       "                var nbb_cell_id = 126;\n",
       "                var nbb_unformatted_code = \"mice_df = pd.DataFrame(mice, columns=[\\\"Mice\\\"])\";\n",
       "                var nbb_formatted_code = \"mice_df = pd.DataFrame(mice, columns=[\\\"Mice\\\"])\";\n",
       "                var nbb_cells = Jupyter.notebook.get_cells();\n",
       "                for (var i = 0; i < nbb_cells.length; ++i) {\n",
       "                    if (nbb_cells[i].input_prompt_number == nbb_cell_id) {\n",
       "                        if (nbb_cells[i].get_text() == nbb_unformatted_code) {\n",
       "                             nbb_cells[i].set_text(nbb_formatted_code);\n",
       "                        }\n",
       "                        break;\n",
       "                    }\n",
       "                }\n",
       "            }, 500);\n",
       "            "
      ],
      "text/plain": [
       "<IPython.core.display.Javascript object>"
      ]
     },
     "metadata": {},
     "output_type": "display_data"
    }
   ],
   "source": [
    "mice_df = pd.DataFrame(mice, columns=[\"Mice\"])"
   ]
  },
  {
   "cell_type": "code",
   "execution_count": 127,
   "metadata": {},
   "outputs": [
    {
     "data": {
      "application/javascript": [
       "\n",
       "            setTimeout(function() {\n",
       "                var nbb_cell_id = 127;\n",
       "                var nbb_unformatted_code = \"def get_video_data(mice: str):\\n    video_file_path = f\\\"{path_to_videos}/{mice}.mp4\\\"\\n\\n    if not os.path.isfile(video_file_path):\\n        raise FileNotFoundError(f\\\"{mice}.mp4 does not exist!\\\")\\n\\n    videoCaptureInstance = cv2.VideoCapture(video_file_path)\\n    fps = videoCaptureInstance.get(cv2.CAP_PROP_FPS)\\n    frames = videoCaptureInstance.get(cv2.CAP_PROP_FRAME_COUNT)\\n    return pd.Series([fps, frames])\";\n",
       "                var nbb_formatted_code = \"def get_video_data(mice: str):\\n    video_file_path = f\\\"{path_to_videos}/{mice}.mp4\\\"\\n\\n    if not os.path.isfile(video_file_path):\\n        raise FileNotFoundError(f\\\"{mice}.mp4 does not exist!\\\")\\n\\n    videoCaptureInstance = cv2.VideoCapture(video_file_path)\\n    fps = videoCaptureInstance.get(cv2.CAP_PROP_FPS)\\n    frames = videoCaptureInstance.get(cv2.CAP_PROP_FRAME_COUNT)\\n    return pd.Series([fps, frames])\";\n",
       "                var nbb_cells = Jupyter.notebook.get_cells();\n",
       "                for (var i = 0; i < nbb_cells.length; ++i) {\n",
       "                    if (nbb_cells[i].input_prompt_number == nbb_cell_id) {\n",
       "                        if (nbb_cells[i].get_text() == nbb_unformatted_code) {\n",
       "                             nbb_cells[i].set_text(nbb_formatted_code);\n",
       "                        }\n",
       "                        break;\n",
       "                    }\n",
       "                }\n",
       "            }, 500);\n",
       "            "
      ],
      "text/plain": [
       "<IPython.core.display.Javascript object>"
      ]
     },
     "metadata": {},
     "output_type": "display_data"
    },
    {
     "data": {
      "application/javascript": [
       "\n",
       "            setTimeout(function() {\n",
       "                var nbb_cell_id = 127;\n",
       "                var nbb_unformatted_code = \"def get_video_data(mice: str):\\n    video_file_path = f\\\"{path_to_videos}/{mice}.mp4\\\"\\n\\n    if not os.path.isfile(video_file_path):\\n        raise FileNotFoundError(f\\\"{mice}.mp4 does not exist!\\\")\\n\\n    videoCaptureInstance = cv2.VideoCapture(video_file_path)\\n    fps = videoCaptureInstance.get(cv2.CAP_PROP_FPS)\\n    frames = videoCaptureInstance.get(cv2.CAP_PROP_FRAME_COUNT)\\n    return pd.Series([fps, frames])\";\n",
       "                var nbb_formatted_code = \"def get_video_data(mice: str):\\n    video_file_path = f\\\"{path_to_videos}/{mice}.mp4\\\"\\n\\n    if not os.path.isfile(video_file_path):\\n        raise FileNotFoundError(f\\\"{mice}.mp4 does not exist!\\\")\\n\\n    videoCaptureInstance = cv2.VideoCapture(video_file_path)\\n    fps = videoCaptureInstance.get(cv2.CAP_PROP_FPS)\\n    frames = videoCaptureInstance.get(cv2.CAP_PROP_FRAME_COUNT)\\n    return pd.Series([fps, frames])\";\n",
       "                var nbb_cells = Jupyter.notebook.get_cells();\n",
       "                for (var i = 0; i < nbb_cells.length; ++i) {\n",
       "                    if (nbb_cells[i].input_prompt_number == nbb_cell_id) {\n",
       "                        if (nbb_cells[i].get_text() == nbb_unformatted_code) {\n",
       "                             nbb_cells[i].set_text(nbb_formatted_code);\n",
       "                        }\n",
       "                        break;\n",
       "                    }\n",
       "                }\n",
       "            }, 500);\n",
       "            "
      ],
      "text/plain": [
       "<IPython.core.display.Javascript object>"
      ]
     },
     "metadata": {},
     "output_type": "display_data"
    },
    {
     "data": {
      "application/javascript": [
       "\n",
       "            setTimeout(function() {\n",
       "                var nbb_cell_id = 127;\n",
       "                var nbb_unformatted_code = \"def get_video_data(mice: str):\\n    video_file_path = f\\\"{path_to_videos}/{mice}.mp4\\\"\\n\\n    if not os.path.isfile(video_file_path):\\n        raise FileNotFoundError(f\\\"{mice}.mp4 does not exist!\\\")\\n\\n    videoCaptureInstance = cv2.VideoCapture(video_file_path)\\n    fps = videoCaptureInstance.get(cv2.CAP_PROP_FPS)\\n    frames = videoCaptureInstance.get(cv2.CAP_PROP_FRAME_COUNT)\\n    return pd.Series([fps, frames])\";\n",
       "                var nbb_formatted_code = \"def get_video_data(mice: str):\\n    video_file_path = f\\\"{path_to_videos}/{mice}.mp4\\\"\\n\\n    if not os.path.isfile(video_file_path):\\n        raise FileNotFoundError(f\\\"{mice}.mp4 does not exist!\\\")\\n\\n    videoCaptureInstance = cv2.VideoCapture(video_file_path)\\n    fps = videoCaptureInstance.get(cv2.CAP_PROP_FPS)\\n    frames = videoCaptureInstance.get(cv2.CAP_PROP_FRAME_COUNT)\\n    return pd.Series([fps, frames])\";\n",
       "                var nbb_cells = Jupyter.notebook.get_cells();\n",
       "                for (var i = 0; i < nbb_cells.length; ++i) {\n",
       "                    if (nbb_cells[i].input_prompt_number == nbb_cell_id) {\n",
       "                        if (nbb_cells[i].get_text() == nbb_unformatted_code) {\n",
       "                             nbb_cells[i].set_text(nbb_formatted_code);\n",
       "                        }\n",
       "                        break;\n",
       "                    }\n",
       "                }\n",
       "            }, 500);\n",
       "            "
      ],
      "text/plain": [
       "<IPython.core.display.Javascript object>"
      ]
     },
     "metadata": {},
     "output_type": "display_data"
    }
   ],
   "source": [
    "def get_video_data(mice: str):\n",
    "    video_file_path = f\"{path_to_videos}/{mice}.mp4\"\n",
    "\n",
    "    if not os.path.isfile(video_file_path):\n",
    "        raise FileNotFoundError(f\"{mice}.mp4 does not exist!\")\n",
    "\n",
    "    videoCaptureInstance = cv2.VideoCapture(video_file_path)\n",
    "    fps = videoCaptureInstance.get(cv2.CAP_PROP_FPS)\n",
    "    frames = videoCaptureInstance.get(cv2.CAP_PROP_FRAME_COUNT)\n",
    "    return pd.Series([fps, frames])"
   ]
  },
  {
   "cell_type": "code",
   "execution_count": 128,
   "metadata": {},
   "outputs": [
    {
     "data": {
      "text/html": [
       "<div>\n",
       "<style scoped>\n",
       "    .dataframe tbody tr th:only-of-type {\n",
       "        vertical-align: middle;\n",
       "    }\n",
       "\n",
       "    .dataframe tbody tr th {\n",
       "        vertical-align: top;\n",
       "    }\n",
       "\n",
       "    .dataframe thead th {\n",
       "        text-align: right;\n",
       "    }\n",
       "</style>\n",
       "<table border=\"1\" class=\"dataframe\">\n",
       "  <thead>\n",
       "    <tr style=\"text-align: right;\">\n",
       "      <th></th>\n",
       "      <th>Mice</th>\n",
       "      <th>video_fps</th>\n",
       "      <th>total_video_frames</th>\n",
       "    </tr>\n",
       "  </thead>\n",
       "  <tbody>\n",
       "    <tr>\n",
       "      <th>0</th>\n",
       "      <td>PrL-2</td>\n",
       "      <td>30.00003</td>\n",
       "      <td>83713.0</td>\n",
       "    </tr>\n",
       "    <tr>\n",
       "      <th>1</th>\n",
       "      <td>PrL-3</td>\n",
       "      <td>30.00003</td>\n",
       "      <td>40655.0</td>\n",
       "    </tr>\n",
       "    <tr>\n",
       "      <th>2</th>\n",
       "      <td>PrL-4</td>\n",
       "      <td>30.00003</td>\n",
       "      <td>48634.0</td>\n",
       "    </tr>\n",
       "    <tr>\n",
       "      <th>3</th>\n",
       "      <td>PrL-5</td>\n",
       "      <td>30.00003</td>\n",
       "      <td>46981.0</td>\n",
       "    </tr>\n",
       "    <tr>\n",
       "      <th>4</th>\n",
       "      <td>PrL-8</td>\n",
       "      <td>30.00003</td>\n",
       "      <td>48489.0</td>\n",
       "    </tr>\n",
       "  </tbody>\n",
       "</table>\n",
       "</div>"
      ],
      "text/plain": [
       "    Mice  video_fps  total_video_frames\n",
       "0  PrL-2   30.00003             83713.0\n",
       "1  PrL-3   30.00003             40655.0\n",
       "2  PrL-4   30.00003             48634.0\n",
       "3  PrL-5   30.00003             46981.0\n",
       "4  PrL-8   30.00003             48489.0"
      ]
     },
     "execution_count": 128,
     "metadata": {},
     "output_type": "execute_result"
    },
    {
     "data": {
      "application/javascript": [
       "\n",
       "            setTimeout(function() {\n",
       "                var nbb_cell_id = 128;\n",
       "                var nbb_unformatted_code = \"mice_df[[\\\"video_fps\\\", \\\"total_video_frames\\\"]] = mice_df[\\\"Mice\\\"].apply(\\n    lambda mice: get_video_data(mice)\\n)\\nmice_df.head()\";\n",
       "                var nbb_formatted_code = \"mice_df[[\\\"video_fps\\\", \\\"total_video_frames\\\"]] = mice_df[\\\"Mice\\\"].apply(\\n    lambda mice: get_video_data(mice)\\n)\\nmice_df.head()\";\n",
       "                var nbb_cells = Jupyter.notebook.get_cells();\n",
       "                for (var i = 0; i < nbb_cells.length; ++i) {\n",
       "                    if (nbb_cells[i].input_prompt_number == nbb_cell_id) {\n",
       "                        if (nbb_cells[i].get_text() == nbb_unformatted_code) {\n",
       "                             nbb_cells[i].set_text(nbb_formatted_code);\n",
       "                        }\n",
       "                        break;\n",
       "                    }\n",
       "                }\n",
       "            }, 500);\n",
       "            "
      ],
      "text/plain": [
       "<IPython.core.display.Javascript object>"
      ]
     },
     "metadata": {},
     "output_type": "display_data"
    },
    {
     "data": {
      "application/javascript": [
       "\n",
       "            setTimeout(function() {\n",
       "                var nbb_cell_id = 128;\n",
       "                var nbb_unformatted_code = \"mice_df[[\\\"video_fps\\\", \\\"total_video_frames\\\"]] = mice_df[\\\"Mice\\\"].apply(\\n    lambda mice: get_video_data(mice)\\n)\\nmice_df.head()\";\n",
       "                var nbb_formatted_code = \"mice_df[[\\\"video_fps\\\", \\\"total_video_frames\\\"]] = mice_df[\\\"Mice\\\"].apply(\\n    lambda mice: get_video_data(mice)\\n)\\nmice_df.head()\";\n",
       "                var nbb_cells = Jupyter.notebook.get_cells();\n",
       "                for (var i = 0; i < nbb_cells.length; ++i) {\n",
       "                    if (nbb_cells[i].input_prompt_number == nbb_cell_id) {\n",
       "                        if (nbb_cells[i].get_text() == nbb_unformatted_code) {\n",
       "                             nbb_cells[i].set_text(nbb_formatted_code);\n",
       "                        }\n",
       "                        break;\n",
       "                    }\n",
       "                }\n",
       "            }, 500);\n",
       "            "
      ],
      "text/plain": [
       "<IPython.core.display.Javascript object>"
      ]
     },
     "metadata": {},
     "output_type": "display_data"
    },
    {
     "data": {
      "application/javascript": [
       "\n",
       "            setTimeout(function() {\n",
       "                var nbb_cell_id = 128;\n",
       "                var nbb_unformatted_code = \"mice_df[[\\\"video_fps\\\", \\\"total_video_frames\\\"]] = mice_df[\\\"Mice\\\"].apply(\\n    lambda mice: get_video_data(mice)\\n)\\nmice_df.head()\";\n",
       "                var nbb_formatted_code = \"mice_df[[\\\"video_fps\\\", \\\"total_video_frames\\\"]] = mice_df[\\\"Mice\\\"].apply(\\n    lambda mice: get_video_data(mice)\\n)\\nmice_df.head()\";\n",
       "                var nbb_cells = Jupyter.notebook.get_cells();\n",
       "                for (var i = 0; i < nbb_cells.length; ++i) {\n",
       "                    if (nbb_cells[i].input_prompt_number == nbb_cell_id) {\n",
       "                        if (nbb_cells[i].get_text() == nbb_unformatted_code) {\n",
       "                             nbb_cells[i].set_text(nbb_formatted_code);\n",
       "                        }\n",
       "                        break;\n",
       "                    }\n",
       "                }\n",
       "            }, 500);\n",
       "            "
      ],
      "text/plain": [
       "<IPython.core.display.Javascript object>"
      ]
     },
     "metadata": {},
     "output_type": "display_data"
    }
   ],
   "source": [
    "mice_df[[\"video_fps\", \"total_video_frames\"]] = mice_df[\"Mice\"].apply(\n",
    "    lambda mice: get_video_data(mice)\n",
    ")\n",
    "mice_df.head()"
   ]
  },
  {
   "cell_type": "code",
   "execution_count": 129,
   "metadata": {},
   "outputs": [
    {
     "data": {
      "text/html": [
       "<div>\n",
       "<style scoped>\n",
       "    .dataframe tbody tr th:only-of-type {\n",
       "        vertical-align: middle;\n",
       "    }\n",
       "\n",
       "    .dataframe tbody tr th {\n",
       "        vertical-align: top;\n",
       "    }\n",
       "\n",
       "    .dataframe thead th {\n",
       "        text-align: right;\n",
       "    }\n",
       "</style>\n",
       "<table border=\"1\" class=\"dataframe\">\n",
       "  <thead>\n",
       "    <tr style=\"text-align: right;\">\n",
       "      <th></th>\n",
       "      <th>Mice</th>\n",
       "      <th>video_fps</th>\n",
       "      <th>total_video_frames</th>\n",
       "    </tr>\n",
       "  </thead>\n",
       "  <tbody>\n",
       "    <tr>\n",
       "      <th>7</th>\n",
       "      <td>PrL-16</td>\n",
       "      <td>30.00003</td>\n",
       "      <td>41131.0</td>\n",
       "    </tr>\n",
       "  </tbody>\n",
       "</table>\n",
       "</div>"
      ],
      "text/plain": [
       "     Mice  video_fps  total_video_frames\n",
       "7  PrL-16   30.00003             41131.0"
      ]
     },
     "execution_count": 129,
     "metadata": {},
     "output_type": "execute_result"
    },
    {
     "data": {
      "application/javascript": [
       "\n",
       "            setTimeout(function() {\n",
       "                var nbb_cell_id = 129;\n",
       "                var nbb_unformatted_code = \"mice_row = mice_df[mice_df.Mice == CURRENT_MICE]\\nmice_row\";\n",
       "                var nbb_formatted_code = \"mice_row = mice_df[mice_df.Mice == CURRENT_MICE]\\nmice_row\";\n",
       "                var nbb_cells = Jupyter.notebook.get_cells();\n",
       "                for (var i = 0; i < nbb_cells.length; ++i) {\n",
       "                    if (nbb_cells[i].input_prompt_number == nbb_cell_id) {\n",
       "                        if (nbb_cells[i].get_text() == nbb_unformatted_code) {\n",
       "                             nbb_cells[i].set_text(nbb_formatted_code);\n",
       "                        }\n",
       "                        break;\n",
       "                    }\n",
       "                }\n",
       "            }, 500);\n",
       "            "
      ],
      "text/plain": [
       "<IPython.core.display.Javascript object>"
      ]
     },
     "metadata": {},
     "output_type": "display_data"
    },
    {
     "data": {
      "application/javascript": [
       "\n",
       "            setTimeout(function() {\n",
       "                var nbb_cell_id = 129;\n",
       "                var nbb_unformatted_code = \"mice_row = mice_df[mice_df.Mice == CURRENT_MICE]\\nmice_row\";\n",
       "                var nbb_formatted_code = \"mice_row = mice_df[mice_df.Mice == CURRENT_MICE]\\nmice_row\";\n",
       "                var nbb_cells = Jupyter.notebook.get_cells();\n",
       "                for (var i = 0; i < nbb_cells.length; ++i) {\n",
       "                    if (nbb_cells[i].input_prompt_number == nbb_cell_id) {\n",
       "                        if (nbb_cells[i].get_text() == nbb_unformatted_code) {\n",
       "                             nbb_cells[i].set_text(nbb_formatted_code);\n",
       "                        }\n",
       "                        break;\n",
       "                    }\n",
       "                }\n",
       "            }, 500);\n",
       "            "
      ],
      "text/plain": [
       "<IPython.core.display.Javascript object>"
      ]
     },
     "metadata": {},
     "output_type": "display_data"
    },
    {
     "data": {
      "application/javascript": [
       "\n",
       "            setTimeout(function() {\n",
       "                var nbb_cell_id = 129;\n",
       "                var nbb_unformatted_code = \"mice_row = mice_df[mice_df.Mice == CURRENT_MICE]\\nmice_row\";\n",
       "                var nbb_formatted_code = \"mice_row = mice_df[mice_df.Mice == CURRENT_MICE]\\nmice_row\";\n",
       "                var nbb_cells = Jupyter.notebook.get_cells();\n",
       "                for (var i = 0; i < nbb_cells.length; ++i) {\n",
       "                    if (nbb_cells[i].input_prompt_number == nbb_cell_id) {\n",
       "                        if (nbb_cells[i].get_text() == nbb_unformatted_code) {\n",
       "                             nbb_cells[i].set_text(nbb_formatted_code);\n",
       "                        }\n",
       "                        break;\n",
       "                    }\n",
       "                }\n",
       "            }, 500);\n",
       "            "
      ],
      "text/plain": [
       "<IPython.core.display.Javascript object>"
      ]
     },
     "metadata": {},
     "output_type": "display_data"
    }
   ],
   "source": [
    "mice_row = mice_df[mice_df.Mice == CURRENT_MICE]\n",
    "mice_row"
   ]
  },
  {
   "cell_type": "code",
   "execution_count": 130,
   "metadata": {},
   "outputs": [
    {
     "data": {
      "application/javascript": [
       "\n",
       "            setTimeout(function() {\n",
       "                var nbb_cell_id = 130;\n",
       "                var nbb_unformatted_code = \"def create_images_from_video(start_seconds: int, end_seconds: int, class_label: str):\\n\\n    if class_label not in labels:\\n        raise ValueError(\\\"Enter a valid class label!\\\")\\n    if CURRENT_MICE not in mice:\\n        raise ValueError(\\\"Enter a valid mice!\\\")\\n\\n    if not os.path.isdir(f\\\"{path_to_data}/{class_label}\\\"):\\n        os.mkdir(f\\\"{path_to_data}/{class_label}\\\")\\n\\n    frame_rate = math.floor(mice_row[\\\"video_fps\\\"].item())\\n\\n    video_file_path = f\\\"{path_to_videos}/{CURRENT_MICE}.mp4\\\"\\n    videoCaptureInstance = cv2.VideoCapture(video_file_path)\\n\\n    start_frame = start_seconds * frame_rate\\n    seconds = start_seconds\\n    try:\\n        while seconds != end_seconds:\\n            ret, frame = videoCaptureInstance.read()\\n            if not ret:\\n                raise BufferError(\\n                    \\\"Unexpected error occurred with reading image due to bad video file!\\\"\\n                )\\n                break\\n\\n            # Record frame every 1 second\\n            if start_frame % frame_rate == 0:\\n                filename = f\\\"{CURRENT_MICE}-{uuid.uuid4()}\\\"\\n                filepath = f\\\"{path_to_data}/{class_label}/{filename}.jpg\\\"\\n                cv2.imwrite(filepath, frame)\\n\\n                print(\\n                    f\\\"Saved image as {filename} at timestamp {utils.sec_to_time(seconds)}\\\"\\n                )\\n                seconds += 1\\n            client_key_press = cv2.waitKey(1) & 0xFF\\n\\n            # end video stream by escape key\\n            if client_key_press == 27:\\n                break\\n            start_frame += 1\\n\\n        videoCaptureInstance.release()\\n\\n        if platform.system() == \\\"Darwin\\\":\\n            cv2.waitKey(1)\\n\\n    except cv2.error:\\n        print(\\n            \\\"Unexpected error occurred with reading image and error code is\\\",\\n            cv2.error.code,\\n        )\";\n",
       "                var nbb_formatted_code = \"def create_images_from_video(start_seconds: int, end_seconds: int, class_label: str):\\n\\n    if class_label not in labels:\\n        raise ValueError(\\\"Enter a valid class label!\\\")\\n    if CURRENT_MICE not in mice:\\n        raise ValueError(\\\"Enter a valid mice!\\\")\\n\\n    if not os.path.isdir(f\\\"{path_to_data}/{class_label}\\\"):\\n        os.mkdir(f\\\"{path_to_data}/{class_label}\\\")\\n\\n    frame_rate = math.floor(mice_row[\\\"video_fps\\\"].item())\\n\\n    video_file_path = f\\\"{path_to_videos}/{CURRENT_MICE}.mp4\\\"\\n    videoCaptureInstance = cv2.VideoCapture(video_file_path)\\n\\n    start_frame = start_seconds * frame_rate\\n    seconds = start_seconds\\n    try:\\n        while seconds != end_seconds:\\n            ret, frame = videoCaptureInstance.read()\\n            if not ret:\\n                raise BufferError(\\n                    \\\"Unexpected error occurred with reading image due to bad video file!\\\"\\n                )\\n                break\\n\\n            # Record frame every 1 second\\n            if start_frame % frame_rate == 0:\\n                filename = f\\\"{CURRENT_MICE}-{uuid.uuid4()}\\\"\\n                filepath = f\\\"{path_to_data}/{class_label}/{filename}.jpg\\\"\\n                cv2.imwrite(filepath, frame)\\n\\n                print(\\n                    f\\\"Saved image as {filename} at timestamp {utils.sec_to_time(seconds)}\\\"\\n                )\\n                seconds += 1\\n            client_key_press = cv2.waitKey(1) & 0xFF\\n\\n            # end video stream by escape key\\n            if client_key_press == 27:\\n                break\\n            start_frame += 1\\n\\n        videoCaptureInstance.release()\\n\\n        if platform.system() == \\\"Darwin\\\":\\n            cv2.waitKey(1)\\n\\n    except cv2.error:\\n        print(\\n            \\\"Unexpected error occurred with reading image and error code is\\\",\\n            cv2.error.code,\\n        )\";\n",
       "                var nbb_cells = Jupyter.notebook.get_cells();\n",
       "                for (var i = 0; i < nbb_cells.length; ++i) {\n",
       "                    if (nbb_cells[i].input_prompt_number == nbb_cell_id) {\n",
       "                        if (nbb_cells[i].get_text() == nbb_unformatted_code) {\n",
       "                             nbb_cells[i].set_text(nbb_formatted_code);\n",
       "                        }\n",
       "                        break;\n",
       "                    }\n",
       "                }\n",
       "            }, 500);\n",
       "            "
      ],
      "text/plain": [
       "<IPython.core.display.Javascript object>"
      ]
     },
     "metadata": {},
     "output_type": "display_data"
    },
    {
     "data": {
      "application/javascript": [
       "\n",
       "            setTimeout(function() {\n",
       "                var nbb_cell_id = 130;\n",
       "                var nbb_unformatted_code = \"def create_images_from_video(start_seconds: int, end_seconds: int, class_label: str):\\n\\n    if class_label not in labels:\\n        raise ValueError(\\\"Enter a valid class label!\\\")\\n    if CURRENT_MICE not in mice:\\n        raise ValueError(\\\"Enter a valid mice!\\\")\\n\\n    if not os.path.isdir(f\\\"{path_to_data}/{class_label}\\\"):\\n        os.mkdir(f\\\"{path_to_data}/{class_label}\\\")\\n\\n    frame_rate = math.floor(mice_row[\\\"video_fps\\\"].item())\\n\\n    video_file_path = f\\\"{path_to_videos}/{CURRENT_MICE}.mp4\\\"\\n    videoCaptureInstance = cv2.VideoCapture(video_file_path)\\n\\n    start_frame = start_seconds * frame_rate\\n    seconds = start_seconds\\n    try:\\n        while seconds != end_seconds:\\n            ret, frame = videoCaptureInstance.read()\\n            if not ret:\\n                raise BufferError(\\n                    \\\"Unexpected error occurred with reading image due to bad video file!\\\"\\n                )\\n                break\\n\\n            # Record frame every 1 second\\n            if start_frame % frame_rate == 0:\\n                filename = f\\\"{CURRENT_MICE}-{uuid.uuid4()}\\\"\\n                filepath = f\\\"{path_to_data}/{class_label}/{filename}.jpg\\\"\\n                cv2.imwrite(filepath, frame)\\n\\n                print(\\n                    f\\\"Saved image as {filename} at timestamp {utils.sec_to_time(seconds)}\\\"\\n                )\\n                seconds += 1\\n            client_key_press = cv2.waitKey(1) & 0xFF\\n\\n            # end video stream by escape key\\n            if client_key_press == 27:\\n                break\\n            start_frame += 1\\n\\n        videoCaptureInstance.release()\\n\\n        if platform.system() == \\\"Darwin\\\":\\n            cv2.waitKey(1)\\n\\n    except cv2.error:\\n        print(\\n            \\\"Unexpected error occurred with reading image and error code is\\\",\\n            cv2.error.code,\\n        )\";\n",
       "                var nbb_formatted_code = \"def create_images_from_video(start_seconds: int, end_seconds: int, class_label: str):\\n\\n    if class_label not in labels:\\n        raise ValueError(\\\"Enter a valid class label!\\\")\\n    if CURRENT_MICE not in mice:\\n        raise ValueError(\\\"Enter a valid mice!\\\")\\n\\n    if not os.path.isdir(f\\\"{path_to_data}/{class_label}\\\"):\\n        os.mkdir(f\\\"{path_to_data}/{class_label}\\\")\\n\\n    frame_rate = math.floor(mice_row[\\\"video_fps\\\"].item())\\n\\n    video_file_path = f\\\"{path_to_videos}/{CURRENT_MICE}.mp4\\\"\\n    videoCaptureInstance = cv2.VideoCapture(video_file_path)\\n\\n    start_frame = start_seconds * frame_rate\\n    seconds = start_seconds\\n    try:\\n        while seconds != end_seconds:\\n            ret, frame = videoCaptureInstance.read()\\n            if not ret:\\n                raise BufferError(\\n                    \\\"Unexpected error occurred with reading image due to bad video file!\\\"\\n                )\\n                break\\n\\n            # Record frame every 1 second\\n            if start_frame % frame_rate == 0:\\n                filename = f\\\"{CURRENT_MICE}-{uuid.uuid4()}\\\"\\n                filepath = f\\\"{path_to_data}/{class_label}/{filename}.jpg\\\"\\n                cv2.imwrite(filepath, frame)\\n\\n                print(\\n                    f\\\"Saved image as {filename} at timestamp {utils.sec_to_time(seconds)}\\\"\\n                )\\n                seconds += 1\\n            client_key_press = cv2.waitKey(1) & 0xFF\\n\\n            # end video stream by escape key\\n            if client_key_press == 27:\\n                break\\n            start_frame += 1\\n\\n        videoCaptureInstance.release()\\n\\n        if platform.system() == \\\"Darwin\\\":\\n            cv2.waitKey(1)\\n\\n    except cv2.error:\\n        print(\\n            \\\"Unexpected error occurred with reading image and error code is\\\",\\n            cv2.error.code,\\n        )\";\n",
       "                var nbb_cells = Jupyter.notebook.get_cells();\n",
       "                for (var i = 0; i < nbb_cells.length; ++i) {\n",
       "                    if (nbb_cells[i].input_prompt_number == nbb_cell_id) {\n",
       "                        if (nbb_cells[i].get_text() == nbb_unformatted_code) {\n",
       "                             nbb_cells[i].set_text(nbb_formatted_code);\n",
       "                        }\n",
       "                        break;\n",
       "                    }\n",
       "                }\n",
       "            }, 500);\n",
       "            "
      ],
      "text/plain": [
       "<IPython.core.display.Javascript object>"
      ]
     },
     "metadata": {},
     "output_type": "display_data"
    },
    {
     "data": {
      "application/javascript": [
       "\n",
       "            setTimeout(function() {\n",
       "                var nbb_cell_id = 130;\n",
       "                var nbb_unformatted_code = \"def create_images_from_video(start_seconds: int, end_seconds: int, class_label: str):\\n\\n    if class_label not in labels:\\n        raise ValueError(\\\"Enter a valid class label!\\\")\\n    if CURRENT_MICE not in mice:\\n        raise ValueError(\\\"Enter a valid mice!\\\")\\n\\n    if not os.path.isdir(f\\\"{path_to_data}/{class_label}\\\"):\\n        os.mkdir(f\\\"{path_to_data}/{class_label}\\\")\\n\\n    frame_rate = math.floor(mice_row[\\\"video_fps\\\"].item())\\n\\n    video_file_path = f\\\"{path_to_videos}/{CURRENT_MICE}.mp4\\\"\\n    videoCaptureInstance = cv2.VideoCapture(video_file_path)\\n\\n    start_frame = start_seconds * frame_rate\\n    seconds = start_seconds\\n    try:\\n        while seconds != end_seconds:\\n            ret, frame = videoCaptureInstance.read()\\n            if not ret:\\n                raise BufferError(\\n                    \\\"Unexpected error occurred with reading image due to bad video file!\\\"\\n                )\\n                break\\n\\n            # Record frame every 1 second\\n            if start_frame % frame_rate == 0:\\n                filename = f\\\"{CURRENT_MICE}-{uuid.uuid4()}\\\"\\n                filepath = f\\\"{path_to_data}/{class_label}/{filename}.jpg\\\"\\n                cv2.imwrite(filepath, frame)\\n\\n                print(\\n                    f\\\"Saved image as {filename} at timestamp {utils.sec_to_time(seconds)}\\\"\\n                )\\n                seconds += 1\\n            client_key_press = cv2.waitKey(1) & 0xFF\\n\\n            # end video stream by escape key\\n            if client_key_press == 27:\\n                break\\n            start_frame += 1\\n\\n        videoCaptureInstance.release()\\n\\n        if platform.system() == \\\"Darwin\\\":\\n            cv2.waitKey(1)\\n\\n    except cv2.error:\\n        print(\\n            \\\"Unexpected error occurred with reading image and error code is\\\",\\n            cv2.error.code,\\n        )\";\n",
       "                var nbb_formatted_code = \"def create_images_from_video(start_seconds: int, end_seconds: int, class_label: str):\\n\\n    if class_label not in labels:\\n        raise ValueError(\\\"Enter a valid class label!\\\")\\n    if CURRENT_MICE not in mice:\\n        raise ValueError(\\\"Enter a valid mice!\\\")\\n\\n    if not os.path.isdir(f\\\"{path_to_data}/{class_label}\\\"):\\n        os.mkdir(f\\\"{path_to_data}/{class_label}\\\")\\n\\n    frame_rate = math.floor(mice_row[\\\"video_fps\\\"].item())\\n\\n    video_file_path = f\\\"{path_to_videos}/{CURRENT_MICE}.mp4\\\"\\n    videoCaptureInstance = cv2.VideoCapture(video_file_path)\\n\\n    start_frame = start_seconds * frame_rate\\n    seconds = start_seconds\\n    try:\\n        while seconds != end_seconds:\\n            ret, frame = videoCaptureInstance.read()\\n            if not ret:\\n                raise BufferError(\\n                    \\\"Unexpected error occurred with reading image due to bad video file!\\\"\\n                )\\n                break\\n\\n            # Record frame every 1 second\\n            if start_frame % frame_rate == 0:\\n                filename = f\\\"{CURRENT_MICE}-{uuid.uuid4()}\\\"\\n                filepath = f\\\"{path_to_data}/{class_label}/{filename}.jpg\\\"\\n                cv2.imwrite(filepath, frame)\\n\\n                print(\\n                    f\\\"Saved image as {filename} at timestamp {utils.sec_to_time(seconds)}\\\"\\n                )\\n                seconds += 1\\n            client_key_press = cv2.waitKey(1) & 0xFF\\n\\n            # end video stream by escape key\\n            if client_key_press == 27:\\n                break\\n            start_frame += 1\\n\\n        videoCaptureInstance.release()\\n\\n        if platform.system() == \\\"Darwin\\\":\\n            cv2.waitKey(1)\\n\\n    except cv2.error:\\n        print(\\n            \\\"Unexpected error occurred with reading image and error code is\\\",\\n            cv2.error.code,\\n        )\";\n",
       "                var nbb_cells = Jupyter.notebook.get_cells();\n",
       "                for (var i = 0; i < nbb_cells.length; ++i) {\n",
       "                    if (nbb_cells[i].input_prompt_number == nbb_cell_id) {\n",
       "                        if (nbb_cells[i].get_text() == nbb_unformatted_code) {\n",
       "                             nbb_cells[i].set_text(nbb_formatted_code);\n",
       "                        }\n",
       "                        break;\n",
       "                    }\n",
       "                }\n",
       "            }, 500);\n",
       "            "
      ],
      "text/plain": [
       "<IPython.core.display.Javascript object>"
      ]
     },
     "metadata": {},
     "output_type": "display_data"
    }
   ],
   "source": [
    "def create_images_from_video(start_seconds: int, end_seconds: int, class_label: str):\n",
    "\n",
    "    if class_label not in labels:\n",
    "        raise ValueError(\"Enter a valid class label!\")\n",
    "    if CURRENT_MICE not in mice:\n",
    "        raise ValueError(\"Enter a valid mice!\")\n",
    "\n",
    "    if not os.path.isdir(f\"{path_to_data}/{class_label}\"):\n",
    "        os.mkdir(f\"{path_to_data}/{class_label}\")\n",
    "\n",
    "    frame_rate = math.floor(mice_row[\"video_fps\"].item())\n",
    "\n",
    "    video_file_path = f\"{path_to_videos}/{CURRENT_MICE}.mp4\"\n",
    "    videoCaptureInstance = cv2.VideoCapture(video_file_path)\n",
    "\n",
    "    start_frame = start_seconds * frame_rate\n",
    "    seconds = start_seconds\n",
    "    try:\n",
    "        while seconds != end_seconds:\n",
    "            ret, frame = videoCaptureInstance.read()\n",
    "            if not ret:\n",
    "                raise BufferError(\n",
    "                    \"Unexpected error occurred with reading image due to bad video file!\"\n",
    "                )\n",
    "                break\n",
    "\n",
    "            # Record frame every 1 second\n",
    "            if start_frame % frame_rate == 0:\n",
    "                filename = f\"{CURRENT_MICE}-{uuid.uuid4()}\"\n",
    "                filepath = f\"{path_to_data}/{class_label}/{filename}.jpg\"\n",
    "                cv2.imwrite(filepath, frame)\n",
    "\n",
    "                print(\n",
    "                    f\"Saved image as {filename} at timestamp {utils.sec_to_time(seconds)}\"\n",
    "                )\n",
    "                seconds += 1\n",
    "            client_key_press = cv2.waitKey(1) & 0xFF\n",
    "\n",
    "            # end video stream by escape key\n",
    "            if client_key_press == 27:\n",
    "                break\n",
    "            start_frame += 1\n",
    "\n",
    "        videoCaptureInstance.release()\n",
    "\n",
    "        if platform.system() == \"Darwin\":\n",
    "            cv2.waitKey(1)\n",
    "\n",
    "    except cv2.error:\n",
    "        print(\n",
    "            \"Unexpected error occurred with reading image and error code is\",\n",
    "            cv2.error.code,\n",
    "        )"
   ]
  },
  {
   "cell_type": "code",
   "execution_count": 133,
   "metadata": {},
   "outputs": [
    {
     "data": {
      "application/javascript": [
       "\n",
       "            setTimeout(function() {\n",
       "                var nbb_cell_id = 133;\n",
       "                var nbb_unformatted_code = \"def split_train_test(class_label: str, split_ratio: float):\\n\\n    if class_label not in labels:\\n        raise ValueError(\\\"Enter a valid class label!\\\")\\n\\n    split_ratio = split_ratio\\n    all_mice_files = os.listdir(f\\\"{path_to_data}/{class_label}\\\")\\n    random.shuffle(all_mice_files)\\n    train_size = len(all_mice_files) * split_ratio\\n    files_moved = 0\\n\\n    for mice in all_mice_files:\\n        if files_moved < train_size:\\n            shutil.move(\\n                f\\\"{path_to_data}/{class_label}/{mice}\\\",\\n                f\\\"{path_to_data}/train/{class_label}\\\",\\n            )\\n        else:\\n            shutil.move(\\n                f\\\"{path_to_data}/{class_label}/{mice}\\\",\\n                f\\\"{path_to_data}/test/{class_label}\\\",\\n            )\\n        files_moved += 1\\n    if len(os.listdir(f\\\"{path_to_data}/{class_label}\\\")) == 0:\\n        shutil.rmtree(f\\\"{path_to_data}/{class_label}\\\")\";\n",
       "                var nbb_formatted_code = \"def split_train_test(class_label: str, split_ratio: float):\\n\\n    if class_label not in labels:\\n        raise ValueError(\\\"Enter a valid class label!\\\")\\n\\n    split_ratio = split_ratio\\n    all_mice_files = os.listdir(f\\\"{path_to_data}/{class_label}\\\")\\n    random.shuffle(all_mice_files)\\n    train_size = len(all_mice_files) * split_ratio\\n    files_moved = 0\\n\\n    for mice in all_mice_files:\\n        if files_moved < train_size:\\n            shutil.move(\\n                f\\\"{path_to_data}/{class_label}/{mice}\\\",\\n                f\\\"{path_to_data}/train/{class_label}\\\",\\n            )\\n        else:\\n            shutil.move(\\n                f\\\"{path_to_data}/{class_label}/{mice}\\\",\\n                f\\\"{path_to_data}/test/{class_label}\\\",\\n            )\\n        files_moved += 1\\n    if len(os.listdir(f\\\"{path_to_data}/{class_label}\\\")) == 0:\\n        shutil.rmtree(f\\\"{path_to_data}/{class_label}\\\")\";\n",
       "                var nbb_cells = Jupyter.notebook.get_cells();\n",
       "                for (var i = 0; i < nbb_cells.length; ++i) {\n",
       "                    if (nbb_cells[i].input_prompt_number == nbb_cell_id) {\n",
       "                        if (nbb_cells[i].get_text() == nbb_unformatted_code) {\n",
       "                             nbb_cells[i].set_text(nbb_formatted_code);\n",
       "                        }\n",
       "                        break;\n",
       "                    }\n",
       "                }\n",
       "            }, 500);\n",
       "            "
      ],
      "text/plain": [
       "<IPython.core.display.Javascript object>"
      ]
     },
     "metadata": {},
     "output_type": "display_data"
    },
    {
     "data": {
      "application/javascript": [
       "\n",
       "            setTimeout(function() {\n",
       "                var nbb_cell_id = 133;\n",
       "                var nbb_unformatted_code = \"def split_train_test(class_label: str, split_ratio: float):\\n\\n    if class_label not in labels:\\n        raise ValueError(\\\"Enter a valid class label!\\\")\\n\\n    split_ratio = split_ratio\\n    all_mice_files = os.listdir(f\\\"{path_to_data}/{class_label}\\\")\\n    random.shuffle(all_mice_files)\\n    train_size = len(all_mice_files) * split_ratio\\n    files_moved = 0\\n\\n    for mice in all_mice_files:\\n        if files_moved < train_size:\\n            shutil.move(\\n                f\\\"{path_to_data}/{class_label}/{mice}\\\",\\n                f\\\"{path_to_data}/train/{class_label}\\\",\\n            )\\n        else:\\n            shutil.move(\\n                f\\\"{path_to_data}/{class_label}/{mice}\\\",\\n                f\\\"{path_to_data}/test/{class_label}\\\",\\n            )\\n        files_moved += 1\\n    if len(os.listdir(f\\\"{path_to_data}/{class_label}\\\")) == 0:\\n        shutil.rmtree(f\\\"{path_to_data}/{class_label}\\\")\";\n",
       "                var nbb_formatted_code = \"def split_train_test(class_label: str, split_ratio: float):\\n\\n    if class_label not in labels:\\n        raise ValueError(\\\"Enter a valid class label!\\\")\\n\\n    split_ratio = split_ratio\\n    all_mice_files = os.listdir(f\\\"{path_to_data}/{class_label}\\\")\\n    random.shuffle(all_mice_files)\\n    train_size = len(all_mice_files) * split_ratio\\n    files_moved = 0\\n\\n    for mice in all_mice_files:\\n        if files_moved < train_size:\\n            shutil.move(\\n                f\\\"{path_to_data}/{class_label}/{mice}\\\",\\n                f\\\"{path_to_data}/train/{class_label}\\\",\\n            )\\n        else:\\n            shutil.move(\\n                f\\\"{path_to_data}/{class_label}/{mice}\\\",\\n                f\\\"{path_to_data}/test/{class_label}\\\",\\n            )\\n        files_moved += 1\\n    if len(os.listdir(f\\\"{path_to_data}/{class_label}\\\")) == 0:\\n        shutil.rmtree(f\\\"{path_to_data}/{class_label}\\\")\";\n",
       "                var nbb_cells = Jupyter.notebook.get_cells();\n",
       "                for (var i = 0; i < nbb_cells.length; ++i) {\n",
       "                    if (nbb_cells[i].input_prompt_number == nbb_cell_id) {\n",
       "                        if (nbb_cells[i].get_text() == nbb_unformatted_code) {\n",
       "                             nbb_cells[i].set_text(nbb_formatted_code);\n",
       "                        }\n",
       "                        break;\n",
       "                    }\n",
       "                }\n",
       "            }, 500);\n",
       "            "
      ],
      "text/plain": [
       "<IPython.core.display.Javascript object>"
      ]
     },
     "metadata": {},
     "output_type": "display_data"
    },
    {
     "data": {
      "application/javascript": [
       "\n",
       "            setTimeout(function() {\n",
       "                var nbb_cell_id = 133;\n",
       "                var nbb_unformatted_code = \"def split_train_test(class_label: str, split_ratio: float):\\n\\n    if class_label not in labels:\\n        raise ValueError(\\\"Enter a valid class label!\\\")\\n\\n    split_ratio = split_ratio\\n    all_mice_files = os.listdir(f\\\"{path_to_data}/{class_label}\\\")\\n    random.shuffle(all_mice_files)\\n    train_size = len(all_mice_files) * split_ratio\\n    files_moved = 0\\n\\n    for mice in all_mice_files:\\n        if files_moved < train_size:\\n            shutil.move(\\n                f\\\"{path_to_data}/{class_label}/{mice}\\\",\\n                f\\\"{path_to_data}/train/{class_label}\\\",\\n            )\\n        else:\\n            shutil.move(\\n                f\\\"{path_to_data}/{class_label}/{mice}\\\",\\n                f\\\"{path_to_data}/test/{class_label}\\\",\\n            )\\n        files_moved += 1\\n    if len(os.listdir(f\\\"{path_to_data}/{class_label}\\\")) == 0:\\n        shutil.rmtree(f\\\"{path_to_data}/{class_label}\\\")\";\n",
       "                var nbb_formatted_code = \"def split_train_test(class_label: str, split_ratio: float):\\n\\n    if class_label not in labels:\\n        raise ValueError(\\\"Enter a valid class label!\\\")\\n\\n    split_ratio = split_ratio\\n    all_mice_files = os.listdir(f\\\"{path_to_data}/{class_label}\\\")\\n    random.shuffle(all_mice_files)\\n    train_size = len(all_mice_files) * split_ratio\\n    files_moved = 0\\n\\n    for mice in all_mice_files:\\n        if files_moved < train_size:\\n            shutil.move(\\n                f\\\"{path_to_data}/{class_label}/{mice}\\\",\\n                f\\\"{path_to_data}/train/{class_label}\\\",\\n            )\\n        else:\\n            shutil.move(\\n                f\\\"{path_to_data}/{class_label}/{mice}\\\",\\n                f\\\"{path_to_data}/test/{class_label}\\\",\\n            )\\n        files_moved += 1\\n    if len(os.listdir(f\\\"{path_to_data}/{class_label}\\\")) == 0:\\n        shutil.rmtree(f\\\"{path_to_data}/{class_label}\\\")\";\n",
       "                var nbb_cells = Jupyter.notebook.get_cells();\n",
       "                for (var i = 0; i < nbb_cells.length; ++i) {\n",
       "                    if (nbb_cells[i].input_prompt_number == nbb_cell_id) {\n",
       "                        if (nbb_cells[i].get_text() == nbb_unformatted_code) {\n",
       "                             nbb_cells[i].set_text(nbb_formatted_code);\n",
       "                        }\n",
       "                        break;\n",
       "                    }\n",
       "                }\n",
       "            }, 500);\n",
       "            "
      ],
      "text/plain": [
       "<IPython.core.display.Javascript object>"
      ]
     },
     "metadata": {},
     "output_type": "display_data"
    }
   ],
   "source": [
    "def split_train_test(class_label: str, split_ratio: float):\n",
    "\n",
    "    if class_label not in labels:\n",
    "        raise ValueError(\"Enter a valid class label!\")\n",
    "\n",
    "    split_ratio = split_ratio\n",
    "    all_mice_files = os.listdir(f\"{path_to_data}/{class_label}\")\n",
    "    random.shuffle(all_mice_files)\n",
    "    train_size = len(all_mice_files) * split_ratio\n",
    "    files_moved = 0\n",
    "\n",
    "    for mice in all_mice_files:\n",
    "        if files_moved < train_size:\n",
    "            shutil.move(\n",
    "                f\"{path_to_data}/{class_label}/{mice}\",\n",
    "                f\"{path_to_data}/train/{class_label}\",\n",
    "            )\n",
    "        else:\n",
    "            shutil.move(\n",
    "                f\"{path_to_data}/{class_label}/{mice}\",\n",
    "                f\"{path_to_data}/test/{class_label}\",\n",
    "            )\n",
    "        files_moved += 1\n",
    "    if len(os.listdir(f\"{path_to_data}/{class_label}\")) == 0:\n",
    "        shutil.rmtree(f\"{path_to_data}/{class_label}\")"
   ]
  },
  {
   "cell_type": "code",
   "execution_count": 148,
   "metadata": {},
   "outputs": [
    {
     "data": {
      "application/javascript": [
       "\n",
       "            setTimeout(function() {\n",
       "                var nbb_cell_id = 148;\n",
       "                var nbb_unformatted_code = \"def create_dataset_pipeline(\\n    start_seconds, end_seconds, class_label: str, split=True, split_ratio=0.8\\n):\\n    try:\\n        create_images_from_video(start_seconds, end_seconds, class_label)\\n        if split:\\n            if len(os.listdir(f\\\"{path_to_data}/{class_label}\\\")) != 0:\\n                split_train_test(class_label, split_ratio)\\n            else:\\n                sys.exit(\\n                    f\\\"{path_to_data}/{class_label} is empty and that means frames from videos were not captured successfully!\\\"\\n                )\\n        else:\\n            pass\\n    except:\\n        var = traceback.format_exc()\\n        print(var)\";\n",
       "                var nbb_formatted_code = \"def create_dataset_pipeline(\\n    start_seconds, end_seconds, class_label: str, split=True, split_ratio=0.8\\n):\\n    try:\\n        create_images_from_video(start_seconds, end_seconds, class_label)\\n        if split:\\n            if len(os.listdir(f\\\"{path_to_data}/{class_label}\\\")) != 0:\\n                split_train_test(class_label, split_ratio)\\n            else:\\n                sys.exit(\\n                    f\\\"{path_to_data}/{class_label} is empty and that means frames from videos were not captured successfully!\\\"\\n                )\\n        else:\\n            pass\\n    except:\\n        var = traceback.format_exc()\\n        print(var)\";\n",
       "                var nbb_cells = Jupyter.notebook.get_cells();\n",
       "                for (var i = 0; i < nbb_cells.length; ++i) {\n",
       "                    if (nbb_cells[i].input_prompt_number == nbb_cell_id) {\n",
       "                        if (nbb_cells[i].get_text() == nbb_unformatted_code) {\n",
       "                             nbb_cells[i].set_text(nbb_formatted_code);\n",
       "                        }\n",
       "                        break;\n",
       "                    }\n",
       "                }\n",
       "            }, 500);\n",
       "            "
      ],
      "text/plain": [
       "<IPython.core.display.Javascript object>"
      ]
     },
     "metadata": {},
     "output_type": "display_data"
    },
    {
     "data": {
      "application/javascript": [
       "\n",
       "            setTimeout(function() {\n",
       "                var nbb_cell_id = 148;\n",
       "                var nbb_unformatted_code = \"def create_dataset_pipeline(\\n    start_seconds, end_seconds, class_label: str, split=True, split_ratio=0.8\\n):\\n    try:\\n        create_images_from_video(start_seconds, end_seconds, class_label)\\n        if split:\\n            if len(os.listdir(f\\\"{path_to_data}/{class_label}\\\")) != 0:\\n                split_train_test(class_label, split_ratio)\\n            else:\\n                sys.exit(\\n                    f\\\"{path_to_data}/{class_label} is empty and that means frames from videos were not captured successfully!\\\"\\n                )\\n        else:\\n            pass\\n    except:\\n        var = traceback.format_exc()\\n        print(var)\";\n",
       "                var nbb_formatted_code = \"def create_dataset_pipeline(\\n    start_seconds, end_seconds, class_label: str, split=True, split_ratio=0.8\\n):\\n    try:\\n        create_images_from_video(start_seconds, end_seconds, class_label)\\n        if split:\\n            if len(os.listdir(f\\\"{path_to_data}/{class_label}\\\")) != 0:\\n                split_train_test(class_label, split_ratio)\\n            else:\\n                sys.exit(\\n                    f\\\"{path_to_data}/{class_label} is empty and that means frames from videos were not captured successfully!\\\"\\n                )\\n        else:\\n            pass\\n    except:\\n        var = traceback.format_exc()\\n        print(var)\";\n",
       "                var nbb_cells = Jupyter.notebook.get_cells();\n",
       "                for (var i = 0; i < nbb_cells.length; ++i) {\n",
       "                    if (nbb_cells[i].input_prompt_number == nbb_cell_id) {\n",
       "                        if (nbb_cells[i].get_text() == nbb_unformatted_code) {\n",
       "                             nbb_cells[i].set_text(nbb_formatted_code);\n",
       "                        }\n",
       "                        break;\n",
       "                    }\n",
       "                }\n",
       "            }, 500);\n",
       "            "
      ],
      "text/plain": [
       "<IPython.core.display.Javascript object>"
      ]
     },
     "metadata": {},
     "output_type": "display_data"
    },
    {
     "data": {
      "application/javascript": [
       "\n",
       "            setTimeout(function() {\n",
       "                var nbb_cell_id = 148;\n",
       "                var nbb_unformatted_code = \"def create_dataset_pipeline(\\n    start_seconds, end_seconds, class_label: str, split=True, split_ratio=0.8\\n):\\n    try:\\n        create_images_from_video(start_seconds, end_seconds, class_label)\\n        if split:\\n            if len(os.listdir(f\\\"{path_to_data}/{class_label}\\\")) != 0:\\n                split_train_test(class_label, split_ratio)\\n            else:\\n                sys.exit(\\n                    f\\\"{path_to_data}/{class_label} is empty and that means frames from videos were not captured successfully!\\\"\\n                )\\n        else:\\n            pass\\n    except:\\n        var = traceback.format_exc()\\n        print(var)\";\n",
       "                var nbb_formatted_code = \"def create_dataset_pipeline(\\n    start_seconds, end_seconds, class_label: str, split=True, split_ratio=0.8\\n):\\n    try:\\n        create_images_from_video(start_seconds, end_seconds, class_label)\\n        if split:\\n            if len(os.listdir(f\\\"{path_to_data}/{class_label}\\\")) != 0:\\n                split_train_test(class_label, split_ratio)\\n            else:\\n                sys.exit(\\n                    f\\\"{path_to_data}/{class_label} is empty and that means frames from videos were not captured successfully!\\\"\\n                )\\n        else:\\n            pass\\n    except:\\n        var = traceback.format_exc()\\n        print(var)\";\n",
       "                var nbb_cells = Jupyter.notebook.get_cells();\n",
       "                for (var i = 0; i < nbb_cells.length; ++i) {\n",
       "                    if (nbb_cells[i].input_prompt_number == nbb_cell_id) {\n",
       "                        if (nbb_cells[i].get_text() == nbb_unformatted_code) {\n",
       "                             nbb_cells[i].set_text(nbb_formatted_code);\n",
       "                        }\n",
       "                        break;\n",
       "                    }\n",
       "                }\n",
       "            }, 500);\n",
       "            "
      ],
      "text/plain": [
       "<IPython.core.display.Javascript object>"
      ]
     },
     "metadata": {},
     "output_type": "display_data"
    }
   ],
   "source": [
    "def create_dataset_pipeline(\n",
    "    start_seconds, end_seconds, class_label: str, split=True, split_ratio=0.8\n",
    "):\n",
    "    try:\n",
    "        create_images_from_video(start_seconds, end_seconds, class_label)\n",
    "        if split:\n",
    "            if len(os.listdir(f\"{path_to_data}/{class_label}\")) != 0:\n",
    "                split_train_test(class_label, split_ratio)\n",
    "            else:\n",
    "                sys.exit(\n",
    "                    f\"{path_to_data}/{class_label} is empty and that means frames from videos were not captured successfully!\"\n",
    "                )\n",
    "        else:\n",
    "            pass\n",
    "    except:\n",
    "        var = traceback.format_exc()\n",
    "        print(var)"
   ]
  },
  {
   "cell_type": "code",
   "execution_count": 149,
   "metadata": {},
   "outputs": [
    {
     "data": {
      "application/javascript": [
       "\n",
       "            setTimeout(function() {\n",
       "                var nbb_cell_id = 149;\n",
       "                var nbb_unformatted_code = \"# start = floor(Total frames / frame_rate) - (ignore last trial(120 seconds) + 30 second threshold)\\ndef create_parent_dataset(parent_images):\\n    frame_rate = math.floor(mice_row[\\\"video_fps\\\"].item())\\n    start_seconds = random.randint(\\n        0, (mice_row[\\\"total_video_frames\\\"].item() // frame_rate) - 150\\n    )\\n    end_seconds = start_seconds + parent_images\\n    create_dataset_pipeline(start_seconds, end_seconds, \\\"parent-mice\\\")\\n\\n    train_size = len(os.listdir(f\\\"{path_to_data}/train/parent-mice\\\"))\\n    test_size = len(os.listdir(f\\\"{path_to_data}/test/parent-mice\\\"))\\n\\n    print(\\n        f\\\"Saved all {parent_images} parent image files and train has {train_size} pictures and test has {test_size} pictures!\\\"\\n    )\";\n",
       "                var nbb_formatted_code = \"# start = floor(Total frames / frame_rate) - (ignore last trial(120 seconds) + 30 second threshold)\\ndef create_parent_dataset(parent_images):\\n    frame_rate = math.floor(mice_row[\\\"video_fps\\\"].item())\\n    start_seconds = random.randint(\\n        0, (mice_row[\\\"total_video_frames\\\"].item() // frame_rate) - 150\\n    )\\n    end_seconds = start_seconds + parent_images\\n    create_dataset_pipeline(start_seconds, end_seconds, \\\"parent-mice\\\")\\n\\n    train_size = len(os.listdir(f\\\"{path_to_data}/train/parent-mice\\\"))\\n    test_size = len(os.listdir(f\\\"{path_to_data}/test/parent-mice\\\"))\\n\\n    print(\\n        f\\\"Saved all {parent_images} parent image files and train has {train_size} pictures and test has {test_size} pictures!\\\"\\n    )\";\n",
       "                var nbb_cells = Jupyter.notebook.get_cells();\n",
       "                for (var i = 0; i < nbb_cells.length; ++i) {\n",
       "                    if (nbb_cells[i].input_prompt_number == nbb_cell_id) {\n",
       "                        if (nbb_cells[i].get_text() == nbb_unformatted_code) {\n",
       "                             nbb_cells[i].set_text(nbb_formatted_code);\n",
       "                        }\n",
       "                        break;\n",
       "                    }\n",
       "                }\n",
       "            }, 500);\n",
       "            "
      ],
      "text/plain": [
       "<IPython.core.display.Javascript object>"
      ]
     },
     "metadata": {},
     "output_type": "display_data"
    },
    {
     "data": {
      "application/javascript": [
       "\n",
       "            setTimeout(function() {\n",
       "                var nbb_cell_id = 149;\n",
       "                var nbb_unformatted_code = \"# start = floor(Total frames / frame_rate) - (ignore last trial(120 seconds) + 30 second threshold)\\ndef create_parent_dataset(parent_images):\\n    frame_rate = math.floor(mice_row[\\\"video_fps\\\"].item())\\n    start_seconds = random.randint(\\n        0, (mice_row[\\\"total_video_frames\\\"].item() // frame_rate) - 150\\n    )\\n    end_seconds = start_seconds + parent_images\\n    create_dataset_pipeline(start_seconds, end_seconds, \\\"parent-mice\\\")\\n\\n    train_size = len(os.listdir(f\\\"{path_to_data}/train/parent-mice\\\"))\\n    test_size = len(os.listdir(f\\\"{path_to_data}/test/parent-mice\\\"))\\n\\n    print(\\n        f\\\"Saved all {parent_images} parent image files and train has {train_size} pictures and test has {test_size} pictures!\\\"\\n    )\";\n",
       "                var nbb_formatted_code = \"# start = floor(Total frames / frame_rate) - (ignore last trial(120 seconds) + 30 second threshold)\\ndef create_parent_dataset(parent_images):\\n    frame_rate = math.floor(mice_row[\\\"video_fps\\\"].item())\\n    start_seconds = random.randint(\\n        0, (mice_row[\\\"total_video_frames\\\"].item() // frame_rate) - 150\\n    )\\n    end_seconds = start_seconds + parent_images\\n    create_dataset_pipeline(start_seconds, end_seconds, \\\"parent-mice\\\")\\n\\n    train_size = len(os.listdir(f\\\"{path_to_data}/train/parent-mice\\\"))\\n    test_size = len(os.listdir(f\\\"{path_to_data}/test/parent-mice\\\"))\\n\\n    print(\\n        f\\\"Saved all {parent_images} parent image files and train has {train_size} pictures and test has {test_size} pictures!\\\"\\n    )\";\n",
       "                var nbb_cells = Jupyter.notebook.get_cells();\n",
       "                for (var i = 0; i < nbb_cells.length; ++i) {\n",
       "                    if (nbb_cells[i].input_prompt_number == nbb_cell_id) {\n",
       "                        if (nbb_cells[i].get_text() == nbb_unformatted_code) {\n",
       "                             nbb_cells[i].set_text(nbb_formatted_code);\n",
       "                        }\n",
       "                        break;\n",
       "                    }\n",
       "                }\n",
       "            }, 500);\n",
       "            "
      ],
      "text/plain": [
       "<IPython.core.display.Javascript object>"
      ]
     },
     "metadata": {},
     "output_type": "display_data"
    },
    {
     "data": {
      "application/javascript": [
       "\n",
       "            setTimeout(function() {\n",
       "                var nbb_cell_id = 149;\n",
       "                var nbb_unformatted_code = \"# start = floor(Total frames / frame_rate) - (ignore last trial(120 seconds) + 30 second threshold)\\ndef create_parent_dataset(parent_images):\\n    frame_rate = math.floor(mice_row[\\\"video_fps\\\"].item())\\n    start_seconds = random.randint(\\n        0, (mice_row[\\\"total_video_frames\\\"].item() // frame_rate) - 150\\n    )\\n    end_seconds = start_seconds + parent_images\\n    create_dataset_pipeline(start_seconds, end_seconds, \\\"parent-mice\\\")\\n\\n    train_size = len(os.listdir(f\\\"{path_to_data}/train/parent-mice\\\"))\\n    test_size = len(os.listdir(f\\\"{path_to_data}/test/parent-mice\\\"))\\n\\n    print(\\n        f\\\"Saved all {parent_images} parent image files and train has {train_size} pictures and test has {test_size} pictures!\\\"\\n    )\";\n",
       "                var nbb_formatted_code = \"# start = floor(Total frames / frame_rate) - (ignore last trial(120 seconds) + 30 second threshold)\\ndef create_parent_dataset(parent_images):\\n    frame_rate = math.floor(mice_row[\\\"video_fps\\\"].item())\\n    start_seconds = random.randint(\\n        0, (mice_row[\\\"total_video_frames\\\"].item() // frame_rate) - 150\\n    )\\n    end_seconds = start_seconds + parent_images\\n    create_dataset_pipeline(start_seconds, end_seconds, \\\"parent-mice\\\")\\n\\n    train_size = len(os.listdir(f\\\"{path_to_data}/train/parent-mice\\\"))\\n    test_size = len(os.listdir(f\\\"{path_to_data}/test/parent-mice\\\"))\\n\\n    print(\\n        f\\\"Saved all {parent_images} parent image files and train has {train_size} pictures and test has {test_size} pictures!\\\"\\n    )\";\n",
       "                var nbb_cells = Jupyter.notebook.get_cells();\n",
       "                for (var i = 0; i < nbb_cells.length; ++i) {\n",
       "                    if (nbb_cells[i].input_prompt_number == nbb_cell_id) {\n",
       "                        if (nbb_cells[i].get_text() == nbb_unformatted_code) {\n",
       "                             nbb_cells[i].set_text(nbb_formatted_code);\n",
       "                        }\n",
       "                        break;\n",
       "                    }\n",
       "                }\n",
       "            }, 500);\n",
       "            "
      ],
      "text/plain": [
       "<IPython.core.display.Javascript object>"
      ]
     },
     "metadata": {},
     "output_type": "display_data"
    }
   ],
   "source": [
    "# start = floor(Total frames / frame_rate) - (ignore last trial(120 seconds) + 30 second threshold)\n",
    "def create_parent_dataset(parent_images):\n",
    "    frame_rate = math.floor(mice_row[\"video_fps\"].item())\n",
    "    start_seconds = random.randint(\n",
    "        0, (mice_row[\"total_video_frames\"].item() // frame_rate) - 150\n",
    "    )\n",
    "    end_seconds = start_seconds + parent_images\n",
    "    create_dataset_pipeline(start_seconds, end_seconds, \"parent-mice\")\n",
    "\n",
    "    train_size = len(os.listdir(f\"{path_to_data}/train/parent-mice\"))\n",
    "    test_size = len(os.listdir(f\"{path_to_data}/test/parent-mice\"))\n",
    "\n",
    "    print(\n",
    "        f\"Saved all {parent_images} parent image files and train has {train_size} pictures and test has {test_size} pictures!\"\n",
    "    )"
   ]
  },
  {
   "cell_type": "code",
   "execution_count": 136,
   "metadata": {},
   "outputs": [
    {
     "data": {
      "text/html": [
       "<div>\n",
       "<style scoped>\n",
       "    .dataframe tbody tr th:only-of-type {\n",
       "        vertical-align: middle;\n",
       "    }\n",
       "\n",
       "    .dataframe tbody tr th {\n",
       "        vertical-align: top;\n",
       "    }\n",
       "\n",
       "    .dataframe thead th {\n",
       "        text-align: right;\n",
       "    }\n",
       "</style>\n",
       "<table border=\"1\" class=\"dataframe\">\n",
       "  <thead>\n",
       "    <tr style=\"text-align: right;\">\n",
       "      <th></th>\n",
       "      <th>Group</th>\n",
       "      <th>Cohort</th>\n",
       "      <th>MouseID</th>\n",
       "      <th>Virus</th>\n",
       "      <th>Trial</th>\n",
       "      <th>Laser</th>\n",
       "      <th>Start</th>\n",
       "      <th>Time_Latency_Contact_s</th>\n",
       "      <th>Latency_Contact_s</th>\n",
       "      <th>Time_Latency_Retrieve_s</th>\n",
       "      <th>Latency_Retrieve_s</th>\n",
       "      <th>Retrieved</th>\n",
       "    </tr>\n",
       "  </thead>\n",
       "  <tbody>\n",
       "    <tr>\n",
       "      <th>0</th>\n",
       "      <td>Control</td>\n",
       "      <td>1</td>\n",
       "      <td>PrL-10</td>\n",
       "      <td>mCherry</td>\n",
       "      <td>1</td>\n",
       "      <td>OFF</td>\n",
       "      <td>0:13</td>\n",
       "      <td>0:27</td>\n",
       "      <td>14.0</td>\n",
       "      <td>NO</td>\n",
       "      <td>120</td>\n",
       "      <td>0</td>\n",
       "    </tr>\n",
       "    <tr>\n",
       "      <th>1</th>\n",
       "      <td>Control</td>\n",
       "      <td>1</td>\n",
       "      <td>PrL-10</td>\n",
       "      <td>mCherry</td>\n",
       "      <td>2</td>\n",
       "      <td>ON</td>\n",
       "      <td>2:38</td>\n",
       "      <td>2:57</td>\n",
       "      <td>19.0</td>\n",
       "      <td>NO</td>\n",
       "      <td>120</td>\n",
       "      <td>0</td>\n",
       "    </tr>\n",
       "    <tr>\n",
       "      <th>2</th>\n",
       "      <td>Control</td>\n",
       "      <td>1</td>\n",
       "      <td>PrL-10</td>\n",
       "      <td>mCherry</td>\n",
       "      <td>3</td>\n",
       "      <td>OFF</td>\n",
       "      <td>5:00</td>\n",
       "      <td>6:11</td>\n",
       "      <td>71.0</td>\n",
       "      <td>NO</td>\n",
       "      <td>120</td>\n",
       "      <td>0</td>\n",
       "    </tr>\n",
       "    <tr>\n",
       "      <th>3</th>\n",
       "      <td>Control</td>\n",
       "      <td>1</td>\n",
       "      <td>PrL-10</td>\n",
       "      <td>mCherry</td>\n",
       "      <td>4</td>\n",
       "      <td>ON</td>\n",
       "      <td>7:19</td>\n",
       "      <td>8:27</td>\n",
       "      <td>68.0</td>\n",
       "      <td>NO</td>\n",
       "      <td>120</td>\n",
       "      <td>0</td>\n",
       "    </tr>\n",
       "    <tr>\n",
       "      <th>4</th>\n",
       "      <td>Control</td>\n",
       "      <td>1</td>\n",
       "      <td>PrL-10</td>\n",
       "      <td>mCherry</td>\n",
       "      <td>5</td>\n",
       "      <td>OFF</td>\n",
       "      <td>9:37</td>\n",
       "      <td>NO</td>\n",
       "      <td>120.0</td>\n",
       "      <td>NO</td>\n",
       "      <td>120</td>\n",
       "      <td>0</td>\n",
       "    </tr>\n",
       "  </tbody>\n",
       "</table>\n",
       "</div>"
      ],
      "text/plain": [
       "     Group  Cohort MouseID    Virus  Trial Laser Start Time_Latency_Contact_s  \\\n",
       "0  Control       1  PrL-10  mCherry      1   OFF  0:13                   0:27   \n",
       "1  Control       1  PrL-10  mCherry      2    ON  2:38                   2:57   \n",
       "2  Control       1  PrL-10  mCherry      3   OFF  5:00                   6:11   \n",
       "3  Control       1  PrL-10  mCherry      4    ON  7:19                   8:27   \n",
       "4  Control       1  PrL-10  mCherry      5   OFF  9:37                     NO   \n",
       "\n",
       "   Latency_Contact_s Time_Latency_Retrieve_s  Latency_Retrieve_s  Retrieved  \n",
       "0               14.0                      NO                 120          0  \n",
       "1               19.0                      NO                 120          0  \n",
       "2               71.0                      NO                 120          0  \n",
       "3               68.0                      NO                 120          0  \n",
       "4              120.0                      NO                 120          0  "
      ]
     },
     "execution_count": 136,
     "metadata": {},
     "output_type": "execute_result"
    },
    {
     "data": {
      "application/javascript": [
       "\n",
       "            setTimeout(function() {\n",
       "                var nbb_cell_id = 136;\n",
       "                var nbb_unformatted_code = \"experiment = pd.read_csv(f\\\"{parent_directory}/experiment_new.csv\\\")\\nexperiment.head()\";\n",
       "                var nbb_formatted_code = \"experiment = pd.read_csv(f\\\"{parent_directory}/experiment_new.csv\\\")\\nexperiment.head()\";\n",
       "                var nbb_cells = Jupyter.notebook.get_cells();\n",
       "                for (var i = 0; i < nbb_cells.length; ++i) {\n",
       "                    if (nbb_cells[i].input_prompt_number == nbb_cell_id) {\n",
       "                        if (nbb_cells[i].get_text() == nbb_unformatted_code) {\n",
       "                             nbb_cells[i].set_text(nbb_formatted_code);\n",
       "                        }\n",
       "                        break;\n",
       "                    }\n",
       "                }\n",
       "            }, 500);\n",
       "            "
      ],
      "text/plain": [
       "<IPython.core.display.Javascript object>"
      ]
     },
     "metadata": {},
     "output_type": "display_data"
    },
    {
     "data": {
      "application/javascript": [
       "\n",
       "            setTimeout(function() {\n",
       "                var nbb_cell_id = 136;\n",
       "                var nbb_unformatted_code = \"experiment = pd.read_csv(f\\\"{parent_directory}/experiment_new.csv\\\")\\nexperiment.head()\";\n",
       "                var nbb_formatted_code = \"experiment = pd.read_csv(f\\\"{parent_directory}/experiment_new.csv\\\")\\nexperiment.head()\";\n",
       "                var nbb_cells = Jupyter.notebook.get_cells();\n",
       "                for (var i = 0; i < nbb_cells.length; ++i) {\n",
       "                    if (nbb_cells[i].input_prompt_number == nbb_cell_id) {\n",
       "                        if (nbb_cells[i].get_text() == nbb_unformatted_code) {\n",
       "                             nbb_cells[i].set_text(nbb_formatted_code);\n",
       "                        }\n",
       "                        break;\n",
       "                    }\n",
       "                }\n",
       "            }, 500);\n",
       "            "
      ],
      "text/plain": [
       "<IPython.core.display.Javascript object>"
      ]
     },
     "metadata": {},
     "output_type": "display_data"
    },
    {
     "data": {
      "application/javascript": [
       "\n",
       "            setTimeout(function() {\n",
       "                var nbb_cell_id = 136;\n",
       "                var nbb_unformatted_code = \"experiment = pd.read_csv(f\\\"{parent_directory}/experiment_new.csv\\\")\\nexperiment.head()\";\n",
       "                var nbb_formatted_code = \"experiment = pd.read_csv(f\\\"{parent_directory}/experiment_new.csv\\\")\\nexperiment.head()\";\n",
       "                var nbb_cells = Jupyter.notebook.get_cells();\n",
       "                for (var i = 0; i < nbb_cells.length; ++i) {\n",
       "                    if (nbb_cells[i].input_prompt_number == nbb_cell_id) {\n",
       "                        if (nbb_cells[i].get_text() == nbb_unformatted_code) {\n",
       "                             nbb_cells[i].set_text(nbb_formatted_code);\n",
       "                        }\n",
       "                        break;\n",
       "                    }\n",
       "                }\n",
       "            }, 500);\n",
       "            "
      ],
      "text/plain": [
       "<IPython.core.display.Javascript object>"
      ]
     },
     "metadata": {},
     "output_type": "display_data"
    }
   ],
   "source": [
    "experiment = pd.read_csv(f\"{parent_directory}/experiment_new.csv\")\n",
    "experiment.head()"
   ]
  },
  {
   "cell_type": "code",
   "execution_count": 137,
   "metadata": {},
   "outputs": [
    {
     "data": {
      "text/html": [
       "<div>\n",
       "<style scoped>\n",
       "    .dataframe tbody tr th:only-of-type {\n",
       "        vertical-align: middle;\n",
       "    }\n",
       "\n",
       "    .dataframe tbody tr th {\n",
       "        vertical-align: top;\n",
       "    }\n",
       "\n",
       "    .dataframe thead th {\n",
       "        text-align: right;\n",
       "    }\n",
       "</style>\n",
       "<table border=\"1\" class=\"dataframe\">\n",
       "  <thead>\n",
       "    <tr style=\"text-align: right;\">\n",
       "      <th></th>\n",
       "      <th>Group</th>\n",
       "      <th>Cohort</th>\n",
       "      <th>MouseID</th>\n",
       "      <th>Virus</th>\n",
       "      <th>Trial</th>\n",
       "      <th>Laser</th>\n",
       "      <th>Start</th>\n",
       "      <th>Time_Latency_Contact_s</th>\n",
       "      <th>Latency_Contact_s</th>\n",
       "      <th>Time_Latency_Retrieve_s</th>\n",
       "      <th>Latency_Retrieve_s</th>\n",
       "      <th>Retrieved</th>\n",
       "    </tr>\n",
       "  </thead>\n",
       "  <tbody>\n",
       "    <tr>\n",
       "      <th>67</th>\n",
       "      <td>Control</td>\n",
       "      <td>2</td>\n",
       "      <td>PrL-16</td>\n",
       "      <td>mCherry</td>\n",
       "      <td>2</td>\n",
       "      <td>ON</td>\n",
       "      <td>2:18</td>\n",
       "      <td>2:40</td>\n",
       "      <td>22.0</td>\n",
       "      <td>2:48</td>\n",
       "      <td>30</td>\n",
       "      <td>1</td>\n",
       "    </tr>\n",
       "    <tr>\n",
       "      <th>68</th>\n",
       "      <td>Control</td>\n",
       "      <td>2</td>\n",
       "      <td>PrL-16</td>\n",
       "      <td>mCherry</td>\n",
       "      <td>3</td>\n",
       "      <td>OFF</td>\n",
       "      <td>4:33</td>\n",
       "      <td>4:40</td>\n",
       "      <td>7.0</td>\n",
       "      <td>4:45</td>\n",
       "      <td>12</td>\n",
       "      <td>1</td>\n",
       "    </tr>\n",
       "    <tr>\n",
       "      <th>69</th>\n",
       "      <td>Control</td>\n",
       "      <td>2</td>\n",
       "      <td>PrL-16</td>\n",
       "      <td>mCherry</td>\n",
       "      <td>4</td>\n",
       "      <td>ON</td>\n",
       "      <td>6:41</td>\n",
       "      <td>6:54</td>\n",
       "      <td>13.0</td>\n",
       "      <td>6:59</td>\n",
       "      <td>18</td>\n",
       "      <td>1</td>\n",
       "    </tr>\n",
       "    <tr>\n",
       "      <th>70</th>\n",
       "      <td>Control</td>\n",
       "      <td>2</td>\n",
       "      <td>PrL-16</td>\n",
       "      <td>mCherry</td>\n",
       "      <td>5</td>\n",
       "      <td>OFF</td>\n",
       "      <td>9:06</td>\n",
       "      <td>9:24</td>\n",
       "      <td>18.0</td>\n",
       "      <td>9:29</td>\n",
       "      <td>13</td>\n",
       "      <td>1</td>\n",
       "    </tr>\n",
       "    <tr>\n",
       "      <th>71</th>\n",
       "      <td>Control</td>\n",
       "      <td>2</td>\n",
       "      <td>PrL-16</td>\n",
       "      <td>mCherry</td>\n",
       "      <td>6</td>\n",
       "      <td>ON</td>\n",
       "      <td>11:15</td>\n",
       "      <td>12:00</td>\n",
       "      <td>45.0</td>\n",
       "      <td>12:08</td>\n",
       "      <td>53</td>\n",
       "      <td>1</td>\n",
       "    </tr>\n",
       "    <tr>\n",
       "      <th>73</th>\n",
       "      <td>Control</td>\n",
       "      <td>2</td>\n",
       "      <td>PrL-16</td>\n",
       "      <td>mCherry</td>\n",
       "      <td>8</td>\n",
       "      <td>ON</td>\n",
       "      <td>15:38</td>\n",
       "      <td>15:45</td>\n",
       "      <td>7.0</td>\n",
       "      <td>15:48</td>\n",
       "      <td>10</td>\n",
       "      <td>1</td>\n",
       "    </tr>\n",
       "    <tr>\n",
       "      <th>74</th>\n",
       "      <td>Control</td>\n",
       "      <td>2</td>\n",
       "      <td>PrL-16</td>\n",
       "      <td>mCherry</td>\n",
       "      <td>9</td>\n",
       "      <td>OFF</td>\n",
       "      <td>17:53</td>\n",
       "      <td>18:08</td>\n",
       "      <td>15.0</td>\n",
       "      <td>18:17</td>\n",
       "      <td>24</td>\n",
       "      <td>1</td>\n",
       "    </tr>\n",
       "    <tr>\n",
       "      <th>75</th>\n",
       "      <td>Control</td>\n",
       "      <td>2</td>\n",
       "      <td>PrL-16</td>\n",
       "      <td>mCherry</td>\n",
       "      <td>10</td>\n",
       "      <td>ON</td>\n",
       "      <td>20:03</td>\n",
       "      <td>20:20</td>\n",
       "      <td>17.0</td>\n",
       "      <td>20:27</td>\n",
       "      <td>24</td>\n",
       "      <td>1</td>\n",
       "    </tr>\n",
       "  </tbody>\n",
       "</table>\n",
       "</div>"
      ],
      "text/plain": [
       "      Group  Cohort MouseID    Virus  Trial Laser  Start  \\\n",
       "67  Control       2  PrL-16  mCherry      2    ON   2:18   \n",
       "68  Control       2  PrL-16  mCherry      3   OFF   4:33   \n",
       "69  Control       2  PrL-16  mCherry      4    ON   6:41   \n",
       "70  Control       2  PrL-16  mCherry      5   OFF   9:06   \n",
       "71  Control       2  PrL-16  mCherry      6    ON  11:15   \n",
       "73  Control       2  PrL-16  mCherry      8    ON  15:38   \n",
       "74  Control       2  PrL-16  mCherry      9   OFF  17:53   \n",
       "75  Control       2  PrL-16  mCherry     10    ON  20:03   \n",
       "\n",
       "   Time_Latency_Contact_s  Latency_Contact_s Time_Latency_Retrieve_s  \\\n",
       "67                   2:40               22.0                    2:48   \n",
       "68                   4:40                7.0                    4:45   \n",
       "69                   6:54               13.0                    6:59   \n",
       "70                   9:24               18.0                    9:29   \n",
       "71                  12:00               45.0                   12:08   \n",
       "73                  15:45                7.0                   15:48   \n",
       "74                  18:08               15.0                   18:17   \n",
       "75                  20:20               17.0                   20:27   \n",
       "\n",
       "    Latency_Retrieve_s  Retrieved  \n",
       "67                  30          1  \n",
       "68                  12          1  \n",
       "69                  18          1  \n",
       "70                  13          1  \n",
       "71                  53          1  \n",
       "73                  10          1  \n",
       "74                  24          1  \n",
       "75                  24          1  "
      ]
     },
     "execution_count": 137,
     "metadata": {},
     "output_type": "execute_result"
    },
    {
     "data": {
      "application/javascript": [
       "\n",
       "            setTimeout(function() {\n",
       "                var nbb_cell_id = 137;\n",
       "                var nbb_unformatted_code = \"curr_mouse_df = experiment[\\n    (experiment.MouseID == CURRENT_MICE)\\n    & (experiment.Time_Latency_Contact_s != \\\"NO\\\")\\n    & (experiment.Time_Latency_Retrieve_s != \\\"NO\\\")\\n]\\ncurr_mouse_df\";\n",
       "                var nbb_formatted_code = \"curr_mouse_df = experiment[\\n    (experiment.MouseID == CURRENT_MICE)\\n    & (experiment.Time_Latency_Contact_s != \\\"NO\\\")\\n    & (experiment.Time_Latency_Retrieve_s != \\\"NO\\\")\\n]\\ncurr_mouse_df\";\n",
       "                var nbb_cells = Jupyter.notebook.get_cells();\n",
       "                for (var i = 0; i < nbb_cells.length; ++i) {\n",
       "                    if (nbb_cells[i].input_prompt_number == nbb_cell_id) {\n",
       "                        if (nbb_cells[i].get_text() == nbb_unformatted_code) {\n",
       "                             nbb_cells[i].set_text(nbb_formatted_code);\n",
       "                        }\n",
       "                        break;\n",
       "                    }\n",
       "                }\n",
       "            }, 500);\n",
       "            "
      ],
      "text/plain": [
       "<IPython.core.display.Javascript object>"
      ]
     },
     "metadata": {},
     "output_type": "display_data"
    },
    {
     "data": {
      "application/javascript": [
       "\n",
       "            setTimeout(function() {\n",
       "                var nbb_cell_id = 137;\n",
       "                var nbb_unformatted_code = \"curr_mouse_df = experiment[\\n    (experiment.MouseID == CURRENT_MICE)\\n    & (experiment.Time_Latency_Contact_s != \\\"NO\\\")\\n    & (experiment.Time_Latency_Retrieve_s != \\\"NO\\\")\\n]\\ncurr_mouse_df\";\n",
       "                var nbb_formatted_code = \"curr_mouse_df = experiment[\\n    (experiment.MouseID == CURRENT_MICE)\\n    & (experiment.Time_Latency_Contact_s != \\\"NO\\\")\\n    & (experiment.Time_Latency_Retrieve_s != \\\"NO\\\")\\n]\\ncurr_mouse_df\";\n",
       "                var nbb_cells = Jupyter.notebook.get_cells();\n",
       "                for (var i = 0; i < nbb_cells.length; ++i) {\n",
       "                    if (nbb_cells[i].input_prompt_number == nbb_cell_id) {\n",
       "                        if (nbb_cells[i].get_text() == nbb_unformatted_code) {\n",
       "                             nbb_cells[i].set_text(nbb_formatted_code);\n",
       "                        }\n",
       "                        break;\n",
       "                    }\n",
       "                }\n",
       "            }, 500);\n",
       "            "
      ],
      "text/plain": [
       "<IPython.core.display.Javascript object>"
      ]
     },
     "metadata": {},
     "output_type": "display_data"
    },
    {
     "data": {
      "application/javascript": [
       "\n",
       "            setTimeout(function() {\n",
       "                var nbb_cell_id = 137;\n",
       "                var nbb_unformatted_code = \"curr_mouse_df = experiment[\\n    (experiment.MouseID == CURRENT_MICE)\\n    & (experiment.Time_Latency_Contact_s != \\\"NO\\\")\\n    & (experiment.Time_Latency_Retrieve_s != \\\"NO\\\")\\n]\\ncurr_mouse_df\";\n",
       "                var nbb_formatted_code = \"curr_mouse_df = experiment[\\n    (experiment.MouseID == CURRENT_MICE)\\n    & (experiment.Time_Latency_Contact_s != \\\"NO\\\")\\n    & (experiment.Time_Latency_Retrieve_s != \\\"NO\\\")\\n]\\ncurr_mouse_df\";\n",
       "                var nbb_cells = Jupyter.notebook.get_cells();\n",
       "                for (var i = 0; i < nbb_cells.length; ++i) {\n",
       "                    if (nbb_cells[i].input_prompt_number == nbb_cell_id) {\n",
       "                        if (nbb_cells[i].get_text() == nbb_unformatted_code) {\n",
       "                             nbb_cells[i].set_text(nbb_formatted_code);\n",
       "                        }\n",
       "                        break;\n",
       "                    }\n",
       "                }\n",
       "            }, 500);\n",
       "            "
      ],
      "text/plain": [
       "<IPython.core.display.Javascript object>"
      ]
     },
     "metadata": {},
     "output_type": "display_data"
    }
   ],
   "source": [
    "curr_mouse_df = experiment[\n",
    "    (experiment.MouseID == CURRENT_MICE)\n",
    "    & (experiment.Time_Latency_Contact_s != \"NO\")\n",
    "    & (experiment.Time_Latency_Retrieve_s != \"NO\")\n",
    "]\n",
    "curr_mouse_df"
   ]
  },
  {
   "cell_type": "code",
   "execution_count": 152,
   "metadata": {},
   "outputs": [
    {
     "data": {
      "application/javascript": [
       "\n",
       "            setTimeout(function() {\n",
       "                var nbb_cell_id = 152;\n",
       "                var nbb_unformatted_code = \"def create_pup_dataset(pup_images: int):\\n    START_PUP_CAPTURE_THRESH = 1\\n    END_PUP_CAPTURE_THRESH = 2\\n\\n    min_trial = curr_mouse_df.head(1).Trial.item()\\n    max_trial = curr_mouse_df.tail(1).Trial.item()\\n\\n    trials_done = []\\n    all_possible_trials = list(curr_mouse_df.Trial)\\n    images_recorded = 0\\n\\n    while images_recorded < pup_images:\\n\\n        trial = random.randint(min_trial, max_trial)\\n        trial_row = curr_mouse_df.loc[curr_mouse_df.Trial == trial]\\n\\n        if len(trials_done) == len(curr_mouse_df):\\n            print(\\\"Insufficient contact group images...\\\")\\n            break\\n        if (trial not in trials_done) and (trial in all_possible_trials):\\n            trial_row = curr_mouse_df[curr_mouse_df.Trial == trial]\\n\\n            start_time = str(trial_row.Start.item())\\n            end_time = str(trial_row.Time_Latency_Contact_s.item())\\n\\n            start_seconds = utils.time_to_sec(start_time) + START_PUP_CAPTURE_THRESH\\n            end_seconds = utils.time_to_sec(end_time) - END_PUP_CAPTURE_THRESH\\n            diff_seconds = end_seconds - start_seconds\\n\\n            future_number_of_images = images_recorded + diff_seconds\\n            # Stop recording excess number of images.\\n            if future_number_of_images > pup_images:\\n                end_seconds = start_seconds + (pup_images - images_recorded)\\n                diff_seconds = end_seconds - start_seconds\\n\\n            print(\\n                f\\\"Starts at {start_seconds} seconds and end at {end_seconds} seconds of interval {diff_seconds} seconds\\\"\\n            )\\n            create_dataset_pipeline(start_seconds, end_seconds, \\\"child-mice\\\", False)\\n\\n            images_recorded += diff_seconds\\n\\n            trials_done.append(trial)  # append unique trials\\n    split_train_test(\\\"child-mice\\\", 0.8)\\n\\n    train_size = len(os.listdir(f\\\"{path_to_data}/train/child-mice\\\"))\\n    test_size = len(os.listdir(f\\\"{path_to_data}/test/child-mice\\\"))\\n\\n    print(\\n        f\\\"Saved all {images_recorded} child image files and train has {train_size} pictures and test has {test_size} pictures!\\\"\\n    )\";\n",
       "                var nbb_formatted_code = \"def create_pup_dataset(pup_images: int):\\n    START_PUP_CAPTURE_THRESH = 1\\n    END_PUP_CAPTURE_THRESH = 2\\n\\n    min_trial = curr_mouse_df.head(1).Trial.item()\\n    max_trial = curr_mouse_df.tail(1).Trial.item()\\n\\n    trials_done = []\\n    all_possible_trials = list(curr_mouse_df.Trial)\\n    images_recorded = 0\\n\\n    while images_recorded < pup_images:\\n\\n        trial = random.randint(min_trial, max_trial)\\n        trial_row = curr_mouse_df.loc[curr_mouse_df.Trial == trial]\\n\\n        if len(trials_done) == len(curr_mouse_df):\\n            print(\\\"Insufficient contact group images...\\\")\\n            break\\n        if (trial not in trials_done) and (trial in all_possible_trials):\\n            trial_row = curr_mouse_df[curr_mouse_df.Trial == trial]\\n\\n            start_time = str(trial_row.Start.item())\\n            end_time = str(trial_row.Time_Latency_Contact_s.item())\\n\\n            start_seconds = utils.time_to_sec(start_time) + START_PUP_CAPTURE_THRESH\\n            end_seconds = utils.time_to_sec(end_time) - END_PUP_CAPTURE_THRESH\\n            diff_seconds = end_seconds - start_seconds\\n\\n            future_number_of_images = images_recorded + diff_seconds\\n            # Stop recording excess number of images.\\n            if future_number_of_images > pup_images:\\n                end_seconds = start_seconds + (pup_images - images_recorded)\\n                diff_seconds = end_seconds - start_seconds\\n\\n            print(\\n                f\\\"Starts at {start_seconds} seconds and end at {end_seconds} seconds of interval {diff_seconds} seconds\\\"\\n            )\\n            create_dataset_pipeline(start_seconds, end_seconds, \\\"child-mice\\\", False)\\n\\n            images_recorded += diff_seconds\\n\\n            trials_done.append(trial)  # append unique trials\\n    split_train_test(\\\"child-mice\\\", 0.8)\\n\\n    train_size = len(os.listdir(f\\\"{path_to_data}/train/child-mice\\\"))\\n    test_size = len(os.listdir(f\\\"{path_to_data}/test/child-mice\\\"))\\n\\n    print(\\n        f\\\"Saved all {images_recorded} child image files and train has {train_size} pictures and test has {test_size} pictures!\\\"\\n    )\";\n",
       "                var nbb_cells = Jupyter.notebook.get_cells();\n",
       "                for (var i = 0; i < nbb_cells.length; ++i) {\n",
       "                    if (nbb_cells[i].input_prompt_number == nbb_cell_id) {\n",
       "                        if (nbb_cells[i].get_text() == nbb_unformatted_code) {\n",
       "                             nbb_cells[i].set_text(nbb_formatted_code);\n",
       "                        }\n",
       "                        break;\n",
       "                    }\n",
       "                }\n",
       "            }, 500);\n",
       "            "
      ],
      "text/plain": [
       "<IPython.core.display.Javascript object>"
      ]
     },
     "metadata": {},
     "output_type": "display_data"
    },
    {
     "data": {
      "application/javascript": [
       "\n",
       "            setTimeout(function() {\n",
       "                var nbb_cell_id = 152;\n",
       "                var nbb_unformatted_code = \"def create_pup_dataset(pup_images: int):\\n    START_PUP_CAPTURE_THRESH = 1\\n    END_PUP_CAPTURE_THRESH = 2\\n\\n    min_trial = curr_mouse_df.head(1).Trial.item()\\n    max_trial = curr_mouse_df.tail(1).Trial.item()\\n\\n    trials_done = []\\n    all_possible_trials = list(curr_mouse_df.Trial)\\n    images_recorded = 0\\n\\n    while images_recorded < pup_images:\\n\\n        trial = random.randint(min_trial, max_trial)\\n        trial_row = curr_mouse_df.loc[curr_mouse_df.Trial == trial]\\n\\n        if len(trials_done) == len(curr_mouse_df):\\n            print(\\\"Insufficient contact group images...\\\")\\n            break\\n        if (trial not in trials_done) and (trial in all_possible_trials):\\n            trial_row = curr_mouse_df[curr_mouse_df.Trial == trial]\\n\\n            start_time = str(trial_row.Start.item())\\n            end_time = str(trial_row.Time_Latency_Contact_s.item())\\n\\n            start_seconds = utils.time_to_sec(start_time) + START_PUP_CAPTURE_THRESH\\n            end_seconds = utils.time_to_sec(end_time) - END_PUP_CAPTURE_THRESH\\n            diff_seconds = end_seconds - start_seconds\\n\\n            future_number_of_images = images_recorded + diff_seconds\\n            # Stop recording excess number of images.\\n            if future_number_of_images > pup_images:\\n                end_seconds = start_seconds + (pup_images - images_recorded)\\n                diff_seconds = end_seconds - start_seconds\\n\\n            print(\\n                f\\\"Starts at {start_seconds} seconds and end at {end_seconds} seconds of interval {diff_seconds} seconds\\\"\\n            )\\n            create_dataset_pipeline(start_seconds, end_seconds, \\\"child-mice\\\", False)\\n\\n            images_recorded += diff_seconds\\n\\n            trials_done.append(trial)  # append unique trials\\n    split_train_test(\\\"child-mice\\\", 0.8)\\n\\n    train_size = len(os.listdir(f\\\"{path_to_data}/train/child-mice\\\"))\\n    test_size = len(os.listdir(f\\\"{path_to_data}/test/child-mice\\\"))\\n\\n    print(\\n        f\\\"Saved all {images_recorded} child image files and train has {train_size} pictures and test has {test_size} pictures!\\\"\\n    )\";\n",
       "                var nbb_formatted_code = \"def create_pup_dataset(pup_images: int):\\n    START_PUP_CAPTURE_THRESH = 1\\n    END_PUP_CAPTURE_THRESH = 2\\n\\n    min_trial = curr_mouse_df.head(1).Trial.item()\\n    max_trial = curr_mouse_df.tail(1).Trial.item()\\n\\n    trials_done = []\\n    all_possible_trials = list(curr_mouse_df.Trial)\\n    images_recorded = 0\\n\\n    while images_recorded < pup_images:\\n\\n        trial = random.randint(min_trial, max_trial)\\n        trial_row = curr_mouse_df.loc[curr_mouse_df.Trial == trial]\\n\\n        if len(trials_done) == len(curr_mouse_df):\\n            print(\\\"Insufficient contact group images...\\\")\\n            break\\n        if (trial not in trials_done) and (trial in all_possible_trials):\\n            trial_row = curr_mouse_df[curr_mouse_df.Trial == trial]\\n\\n            start_time = str(trial_row.Start.item())\\n            end_time = str(trial_row.Time_Latency_Contact_s.item())\\n\\n            start_seconds = utils.time_to_sec(start_time) + START_PUP_CAPTURE_THRESH\\n            end_seconds = utils.time_to_sec(end_time) - END_PUP_CAPTURE_THRESH\\n            diff_seconds = end_seconds - start_seconds\\n\\n            future_number_of_images = images_recorded + diff_seconds\\n            # Stop recording excess number of images.\\n            if future_number_of_images > pup_images:\\n                end_seconds = start_seconds + (pup_images - images_recorded)\\n                diff_seconds = end_seconds - start_seconds\\n\\n            print(\\n                f\\\"Starts at {start_seconds} seconds and end at {end_seconds} seconds of interval {diff_seconds} seconds\\\"\\n            )\\n            create_dataset_pipeline(start_seconds, end_seconds, \\\"child-mice\\\", False)\\n\\n            images_recorded += diff_seconds\\n\\n            trials_done.append(trial)  # append unique trials\\n    split_train_test(\\\"child-mice\\\", 0.8)\\n\\n    train_size = len(os.listdir(f\\\"{path_to_data}/train/child-mice\\\"))\\n    test_size = len(os.listdir(f\\\"{path_to_data}/test/child-mice\\\"))\\n\\n    print(\\n        f\\\"Saved all {images_recorded} child image files and train has {train_size} pictures and test has {test_size} pictures!\\\"\\n    )\";\n",
       "                var nbb_cells = Jupyter.notebook.get_cells();\n",
       "                for (var i = 0; i < nbb_cells.length; ++i) {\n",
       "                    if (nbb_cells[i].input_prompt_number == nbb_cell_id) {\n",
       "                        if (nbb_cells[i].get_text() == nbb_unformatted_code) {\n",
       "                             nbb_cells[i].set_text(nbb_formatted_code);\n",
       "                        }\n",
       "                        break;\n",
       "                    }\n",
       "                }\n",
       "            }, 500);\n",
       "            "
      ],
      "text/plain": [
       "<IPython.core.display.Javascript object>"
      ]
     },
     "metadata": {},
     "output_type": "display_data"
    },
    {
     "data": {
      "application/javascript": [
       "\n",
       "            setTimeout(function() {\n",
       "                var nbb_cell_id = 152;\n",
       "                var nbb_unformatted_code = \"def create_pup_dataset(pup_images: int):\\n    START_PUP_CAPTURE_THRESH = 1\\n    END_PUP_CAPTURE_THRESH = 2\\n\\n    min_trial = curr_mouse_df.head(1).Trial.item()\\n    max_trial = curr_mouse_df.tail(1).Trial.item()\\n\\n    trials_done = []\\n    all_possible_trials = list(curr_mouse_df.Trial)\\n    images_recorded = 0\\n\\n    while images_recorded < pup_images:\\n\\n        trial = random.randint(min_trial, max_trial)\\n        trial_row = curr_mouse_df.loc[curr_mouse_df.Trial == trial]\\n\\n        if len(trials_done) == len(curr_mouse_df):\\n            print(\\\"Insufficient contact group images...\\\")\\n            break\\n        if (trial not in trials_done) and (trial in all_possible_trials):\\n            trial_row = curr_mouse_df[curr_mouse_df.Trial == trial]\\n\\n            start_time = str(trial_row.Start.item())\\n            end_time = str(trial_row.Time_Latency_Contact_s.item())\\n\\n            start_seconds = utils.time_to_sec(start_time) + START_PUP_CAPTURE_THRESH\\n            end_seconds = utils.time_to_sec(end_time) - END_PUP_CAPTURE_THRESH\\n            diff_seconds = end_seconds - start_seconds\\n\\n            future_number_of_images = images_recorded + diff_seconds\\n            # Stop recording excess number of images.\\n            if future_number_of_images > pup_images:\\n                end_seconds = start_seconds + (pup_images - images_recorded)\\n                diff_seconds = end_seconds - start_seconds\\n\\n            print(\\n                f\\\"Starts at {start_seconds} seconds and end at {end_seconds} seconds of interval {diff_seconds} seconds\\\"\\n            )\\n            create_dataset_pipeline(start_seconds, end_seconds, \\\"child-mice\\\", False)\\n\\n            images_recorded += diff_seconds\\n\\n            trials_done.append(trial)  # append unique trials\\n    split_train_test(\\\"child-mice\\\", 0.8)\\n\\n    train_size = len(os.listdir(f\\\"{path_to_data}/train/child-mice\\\"))\\n    test_size = len(os.listdir(f\\\"{path_to_data}/test/child-mice\\\"))\\n\\n    print(\\n        f\\\"Saved all {images_recorded} child image files and train has {train_size} pictures and test has {test_size} pictures!\\\"\\n    )\";\n",
       "                var nbb_formatted_code = \"def create_pup_dataset(pup_images: int):\\n    START_PUP_CAPTURE_THRESH = 1\\n    END_PUP_CAPTURE_THRESH = 2\\n\\n    min_trial = curr_mouse_df.head(1).Trial.item()\\n    max_trial = curr_mouse_df.tail(1).Trial.item()\\n\\n    trials_done = []\\n    all_possible_trials = list(curr_mouse_df.Trial)\\n    images_recorded = 0\\n\\n    while images_recorded < pup_images:\\n\\n        trial = random.randint(min_trial, max_trial)\\n        trial_row = curr_mouse_df.loc[curr_mouse_df.Trial == trial]\\n\\n        if len(trials_done) == len(curr_mouse_df):\\n            print(\\\"Insufficient contact group images...\\\")\\n            break\\n        if (trial not in trials_done) and (trial in all_possible_trials):\\n            trial_row = curr_mouse_df[curr_mouse_df.Trial == trial]\\n\\n            start_time = str(trial_row.Start.item())\\n            end_time = str(trial_row.Time_Latency_Contact_s.item())\\n\\n            start_seconds = utils.time_to_sec(start_time) + START_PUP_CAPTURE_THRESH\\n            end_seconds = utils.time_to_sec(end_time) - END_PUP_CAPTURE_THRESH\\n            diff_seconds = end_seconds - start_seconds\\n\\n            future_number_of_images = images_recorded + diff_seconds\\n            # Stop recording excess number of images.\\n            if future_number_of_images > pup_images:\\n                end_seconds = start_seconds + (pup_images - images_recorded)\\n                diff_seconds = end_seconds - start_seconds\\n\\n            print(\\n                f\\\"Starts at {start_seconds} seconds and end at {end_seconds} seconds of interval {diff_seconds} seconds\\\"\\n            )\\n            create_dataset_pipeline(start_seconds, end_seconds, \\\"child-mice\\\", False)\\n\\n            images_recorded += diff_seconds\\n\\n            trials_done.append(trial)  # append unique trials\\n    split_train_test(\\\"child-mice\\\", 0.8)\\n\\n    train_size = len(os.listdir(f\\\"{path_to_data}/train/child-mice\\\"))\\n    test_size = len(os.listdir(f\\\"{path_to_data}/test/child-mice\\\"))\\n\\n    print(\\n        f\\\"Saved all {images_recorded} child image files and train has {train_size} pictures and test has {test_size} pictures!\\\"\\n    )\";\n",
       "                var nbb_cells = Jupyter.notebook.get_cells();\n",
       "                for (var i = 0; i < nbb_cells.length; ++i) {\n",
       "                    if (nbb_cells[i].input_prompt_number == nbb_cell_id) {\n",
       "                        if (nbb_cells[i].get_text() == nbb_unformatted_code) {\n",
       "                             nbb_cells[i].set_text(nbb_formatted_code);\n",
       "                        }\n",
       "                        break;\n",
       "                    }\n",
       "                }\n",
       "            }, 500);\n",
       "            "
      ],
      "text/plain": [
       "<IPython.core.display.Javascript object>"
      ]
     },
     "metadata": {},
     "output_type": "display_data"
    }
   ],
   "source": [
    "def create_pup_dataset(pup_images: int):\n",
    "    START_PUP_CAPTURE_THRESH = 1\n",
    "    END_PUP_CAPTURE_THRESH = 2\n",
    "\n",
    "    min_trial = curr_mouse_df.head(1).Trial.item()\n",
    "    max_trial = curr_mouse_df.tail(1).Trial.item()\n",
    "\n",
    "    trials_done = []\n",
    "    all_possible_trials = list(curr_mouse_df.Trial)\n",
    "    images_recorded = 0\n",
    "\n",
    "    while images_recorded < pup_images:\n",
    "\n",
    "        trial = random.randint(min_trial, max_trial)\n",
    "        trial_row = curr_mouse_df.loc[curr_mouse_df.Trial == trial]\n",
    "\n",
    "        if len(trials_done) == len(curr_mouse_df):\n",
    "            print(\"Insufficient contact group images...\")\n",
    "            break\n",
    "        if (trial not in trials_done) and (trial in all_possible_trials):\n",
    "            trial_row = curr_mouse_df[curr_mouse_df.Trial == trial]\n",
    "\n",
    "            start_time = str(trial_row.Start.item())\n",
    "            end_time = str(trial_row.Time_Latency_Contact_s.item())\n",
    "\n",
    "            start_seconds = utils.time_to_sec(start_time) + START_PUP_CAPTURE_THRESH\n",
    "            end_seconds = utils.time_to_sec(end_time) - END_PUP_CAPTURE_THRESH\n",
    "            diff_seconds = end_seconds - start_seconds\n",
    "\n",
    "            future_number_of_images = images_recorded + diff_seconds\n",
    "            # Stop recording excess number of images.\n",
    "            if future_number_of_images > pup_images:\n",
    "                end_seconds = start_seconds + (pup_images - images_recorded)\n",
    "                diff_seconds = end_seconds - start_seconds\n",
    "\n",
    "            print(\n",
    "                f\"Starts at {start_seconds} seconds and end at {end_seconds} seconds of interval {diff_seconds} seconds\"\n",
    "            )\n",
    "            create_dataset_pipeline(start_seconds, end_seconds, \"child-mice\", False)\n",
    "\n",
    "            images_recorded += diff_seconds\n",
    "\n",
    "            trials_done.append(trial)  # append unique trials\n",
    "    split_train_test(\"child-mice\", 0.8)\n",
    "\n",
    "    train_size = len(os.listdir(f\"{path_to_data}/train/child-mice\"))\n",
    "    test_size = len(os.listdir(f\"{path_to_data}/test/child-mice\"))\n",
    "\n",
    "    print(\n",
    "        f\"Saved all {images_recorded} child image files and train has {train_size} pictures and test has {test_size} pictures!\"\n",
    "    )"
   ]
  },
  {
   "cell_type": "code",
   "execution_count": 155,
   "metadata": {},
   "outputs": [
    {
     "name": "stdout",
     "output_type": "stream",
     "text": [
      "Saved image as PrL-16-20f4eaa4-25e8-4454-a9f9-14bebd20339a at timestamp 04:49\n",
      "Saved image as PrL-16-7d6b896b-1650-44ca-a481-d137f425b5d9 at timestamp 04:50\n",
      "Saved image as PrL-16-1d509383-42c3-4ac9-a60b-5a145ad88f0d at timestamp 04:51\n",
      "Saved image as PrL-16-7fb33265-0709-4891-9f1f-c2cf6c958fba at timestamp 04:52\n",
      "Saved image as PrL-16-5a96bdfa-b0aa-470a-920e-798d7352d357 at timestamp 04:53\n",
      "Saved image as PrL-16-9caba19a-0c2d-4455-835b-911882e54da6 at timestamp 04:54\n",
      "Saved image as PrL-16-22557807-6d8e-47ff-a1e0-50ea42683763 at timestamp 04:55\n",
      "Saved image as PrL-16-d98daef0-3389-4643-9f7a-96b8ba00e039 at timestamp 04:56\n",
      "Saved image as PrL-16-041e58de-6b3b-46cd-ab30-ce30b5a96201 at timestamp 04:57\n",
      "Saved image as PrL-16-e8055fd4-a9a7-4287-9f4a-1260e9fc1dac at timestamp 04:58\n",
      "Saved image as PrL-16-0609f2f2-ae5c-42b1-a401-c5bd2c3544a3 at timestamp 04:59\n",
      "Saved image as PrL-16-272cb4b3-0d5e-4d99-aa90-7aadaa643dd9 at timestamp 05:00\n",
      "Saved image as PrL-16-acee501d-fe00-4c38-ab54-0aa867ce3f20 at timestamp 05:01\n",
      "Saved image as PrL-16-4ad3758c-31bb-4aac-82fb-24eb182bf447 at timestamp 05:02\n",
      "Saved image as PrL-16-5ffc3ab5-c9f7-408b-82e3-4b215e7be3a9 at timestamp 05:03\n",
      "Saved image as PrL-16-57e3508f-3c75-4a15-affe-ba07d74ef77e at timestamp 05:04\n",
      "Saved image as PrL-16-e915902d-5549-4a4f-a011-ca6f29077f89 at timestamp 05:05\n",
      "Saved image as PrL-16-c543c537-33e2-4800-8902-cc9a67e4de89 at timestamp 05:06\n",
      "Saved image as PrL-16-a851ed2b-ad84-4aea-8eee-cccc37ba33ca at timestamp 05:07\n",
      "Saved image as PrL-16-1dc1f5df-cfa4-4622-aa80-b88534fa2b72 at timestamp 05:08\n",
      "Saved image as PrL-16-0e1db5fa-1141-41b6-a6f4-407706afb43f at timestamp 05:09\n",
      "Saved image as PrL-16-4439d55f-9ac1-4d53-9be7-7a2c387d5d82 at timestamp 05:10\n",
      "Saved image as PrL-16-fdda7d12-5e64-4b4e-8b10-f1de83850873 at timestamp 05:11\n",
      "Saved image as PrL-16-b8efbfb4-ea63-4fb2-838a-041bf0e87a25 at timestamp 05:12\n",
      "Saved image as PrL-16-7e2c7e9a-6747-4d56-9eb5-dc3da2b8012b at timestamp 05:13\n",
      "Saved image as PrL-16-194dd8ee-c0cd-4220-8f6a-7956d0efb09d at timestamp 05:14\n",
      "Saved image as PrL-16-147edb43-1d51-4248-8404-dade5151280d at timestamp 05:15\n",
      "Saved image as PrL-16-8702f1b2-d3c3-4849-b523-13d63c36fbe6 at timestamp 05:16\n",
      "Saved image as PrL-16-58f0c90d-274f-4e52-aa87-5d3846e11b3f at timestamp 05:17\n",
      "Saved image as PrL-16-46a6f054-7a1b-4db7-82a6-56effaa48b46 at timestamp 05:18\n",
      "Saved image as PrL-16-5d76eb7e-b44e-430f-b858-732dc4eab5f0 at timestamp 05:19\n",
      "Saved image as PrL-16-33023cd8-4ffe-4a65-ae60-1f4cc8c73232 at timestamp 05:20\n",
      "Saved image as PrL-16-e8369693-10ce-44f8-87d3-e235a8ef44d0 at timestamp 05:21\n",
      "Saved image as PrL-16-a7ec1d05-6d78-4c54-ae9d-28c370dbc395 at timestamp 05:22\n",
      "Saved image as PrL-16-34574c96-be6f-4b0c-863d-c173e41438ae at timestamp 05:23\n",
      "Saved image as PrL-16-f52acd0f-757e-4fe2-97a1-b95a09e318d1 at timestamp 05:24\n",
      "Saved image as PrL-16-bb760af5-d69d-4f6e-8e67-e070658edaf2 at timestamp 05:25\n",
      "Saved image as PrL-16-53ed2694-5ea2-46f7-944e-3894e1040dac at timestamp 05:26\n",
      "Saved image as PrL-16-76d00b9d-4768-4f02-ad37-61b875304371 at timestamp 05:27\n",
      "Saved image as PrL-16-33d5c49d-fd47-44cc-b425-7b2365a47832 at timestamp 05:28\n",
      "Saved all 40 parent image files and train has 32 pictures and test has 8 pictures!\n",
      "Starts at 1074 seconds and end at 1086 seconds of interval 12 seconds\n",
      "Saved image as PrL-16-8bca458d-14d3-4a30-89d0-aa455a951fd8 at timestamp 17:54\n",
      "Saved image as PrL-16-9674a3ef-46e8-4ca7-90ce-0971481939f8 at timestamp 17:55\n",
      "Saved image as PrL-16-d23f71b4-6508-4b5a-b388-6b0b9036ba51 at timestamp 17:56\n",
      "Saved image as PrL-16-e8ca0a85-af35-4825-9ab4-d39073c5395e at timestamp 17:57\n",
      "Saved image as PrL-16-69e42517-398f-4be3-aed0-a8221aa4bb3b at timestamp 17:58\n",
      "Saved image as PrL-16-83b32cf2-86f2-4102-b2e3-1004b8e71eb5 at timestamp 17:59\n",
      "Saved image as PrL-16-499580a0-45a5-4904-b8bc-99365d857735 at timestamp 18:00\n",
      "Saved image as PrL-16-8dd4ad01-6df0-4a29-af89-a46d5bb64282 at timestamp 18:01\n",
      "Saved image as PrL-16-bd0e5078-fa3f-4f5b-bdac-204b4415a9d8 at timestamp 18:02\n",
      "Saved image as PrL-16-f0aecaea-3210-45c0-96db-144bece8e187 at timestamp 18:03\n",
      "Saved image as PrL-16-01a6f7a1-37d0-44db-a9b1-6f4fb9b96ef0 at timestamp 18:04\n",
      "Saved image as PrL-16-8fc33f79-d7f4-4419-8e3e-75300e64998c at timestamp 18:05\n",
      "Starts at 547 seconds and end at 562 seconds of interval 15 seconds\n",
      "Saved image as PrL-16-3791a0e9-259b-4fc1-b7bb-0d2f34680e33 at timestamp 09:07\n",
      "Saved image as PrL-16-21f6aacd-6bbc-40a1-827b-9960a4d7ddc1 at timestamp 09:08\n",
      "Saved image as PrL-16-c5b42d39-4f12-4273-8286-784eba41fc1a at timestamp 09:09\n",
      "Saved image as PrL-16-1682dde8-d271-44ec-9470-e25b5f5a6ab4 at timestamp 09:10\n",
      "Saved image as PrL-16-14c99d9d-cd67-4d14-abba-8d92230fdeeb at timestamp 09:11\n",
      "Saved image as PrL-16-e5a1ad51-44b4-4761-bdfb-06bbcc5da12d at timestamp 09:12\n",
      "Saved image as PrL-16-ea684cd3-5875-41b4-a5e2-3ddc052daedf at timestamp 09:13\n",
      "Saved image as PrL-16-f3380482-678c-4cbf-a80e-6a7a9c0e7f01 at timestamp 09:14\n",
      "Saved image as PrL-16-bff8e10c-e4a8-4c09-bf5f-7e80af8f25cd at timestamp 09:15\n",
      "Saved image as PrL-16-d11a6844-3a7c-4346-94c5-7a273bc90292 at timestamp 09:16\n",
      "Saved image as PrL-16-9a088977-b12d-47a4-92d7-35c0c43e089d at timestamp 09:17\n",
      "Saved image as PrL-16-0818b7a0-dc92-4dbb-a564-116c98510269 at timestamp 09:18\n",
      "Saved image as PrL-16-3458a195-f9bf-493b-a272-2ee22757e492 at timestamp 09:19\n",
      "Saved image as PrL-16-46f4ca53-63d0-4eb4-abcd-bf00f22feca6 at timestamp 09:20\n",
      "Saved image as PrL-16-1f749c01-0a81-4b24-ac79-ee93c024bcd4 at timestamp 09:21\n",
      "Starts at 676 seconds and end at 689 seconds of interval 13 seconds\n",
      "Saved image as PrL-16-beff9d91-76df-4f3f-abce-b7c59e771b69 at timestamp 11:16\n",
      "Saved image as PrL-16-ca613548-b0d3-4147-a924-c71f91abce00 at timestamp 11:17\n",
      "Saved image as PrL-16-cf1223bf-972b-45eb-873a-ecc88cfe47bf at timestamp 11:18\n",
      "Saved image as PrL-16-6e0e0cb4-cbbe-41df-ab05-22654774903f at timestamp 11:19\n",
      "Saved image as PrL-16-ccf6ef73-2e8e-4eaf-9979-d694f7254be1 at timestamp 11:20\n",
      "Saved image as PrL-16-760001b3-05c0-4348-b18c-ec1f9d1c5175 at timestamp 11:21\n",
      "Saved image as PrL-16-0da76cb5-25b3-4ac2-b1f6-39078a890e41 at timestamp 11:22\n",
      "Saved image as PrL-16-b81f1cd6-780f-4a6d-89b5-6f8c1ab0295d at timestamp 11:23\n",
      "Saved image as PrL-16-7722baa7-89f4-42da-b694-9286551a7e4f at timestamp 11:24\n",
      "Saved image as PrL-16-1026e0c5-58ab-40c2-a6a3-6e256baa1541 at timestamp 11:25\n",
      "Saved image as PrL-16-11ef8afd-6a13-4d6f-bfc7-c77855118513 at timestamp 11:26\n",
      "Saved image as PrL-16-3366ae62-c2a5-44d6-9fee-73cb65d56e52 at timestamp 11:27\n",
      "Saved image as PrL-16-848a0c99-a5fd-4d78-8641-09fb2ab42dfc at timestamp 11:28\n",
      "Saved all 40 child image files and train has 32 pictures and test has 8 pictures!\n"
     ]
    },
    {
     "data": {
      "application/javascript": [
       "\n",
       "            setTimeout(function() {\n",
       "                var nbb_cell_id = 155;\n",
       "                var nbb_unformatted_code = \"def create_final_parent_pup_dataset(images:int, create:bool):\\n    try:\\n        if create:\\n            utils.remove_all_files(f'{path_to_data}/train/child-mice')\\n            utils.remove_all_files(f'{path_to_data}/test/child-mice')\\n            utils.remove_all_files(f'{path_to_data}/train/parent-mice')\\n            utils.remove_all_files(f'{path_to_data}/test/parent-mice')\\n            create_parent_dataset(images)\\n            create_pup_dataset(images)\\n    except:\\n        var = traceback.format_exc()\\n        print(var)\\ncreate_final_parent_pup_dataset(40, True)\";\n",
       "                var nbb_formatted_code = \"def create_final_parent_pup_dataset(images: int, create: bool):\\n    try:\\n        if create:\\n            utils.remove_all_files(f\\\"{path_to_data}/train/child-mice\\\")\\n            utils.remove_all_files(f\\\"{path_to_data}/test/child-mice\\\")\\n            utils.remove_all_files(f\\\"{path_to_data}/train/parent-mice\\\")\\n            utils.remove_all_files(f\\\"{path_to_data}/test/parent-mice\\\")\\n            create_parent_dataset(images)\\n            create_pup_dataset(images)\\n    except:\\n        var = traceback.format_exc()\\n        print(var)\\n\\n\\ncreate_final_parent_pup_dataset(40, True)\";\n",
       "                var nbb_cells = Jupyter.notebook.get_cells();\n",
       "                for (var i = 0; i < nbb_cells.length; ++i) {\n",
       "                    if (nbb_cells[i].input_prompt_number == nbb_cell_id) {\n",
       "                        if (nbb_cells[i].get_text() == nbb_unformatted_code) {\n",
       "                             nbb_cells[i].set_text(nbb_formatted_code);\n",
       "                        }\n",
       "                        break;\n",
       "                    }\n",
       "                }\n",
       "            }, 500);\n",
       "            "
      ],
      "text/plain": [
       "<IPython.core.display.Javascript object>"
      ]
     },
     "metadata": {},
     "output_type": "display_data"
    },
    {
     "data": {
      "application/javascript": [
       "\n",
       "            setTimeout(function() {\n",
       "                var nbb_cell_id = 155;\n",
       "                var nbb_unformatted_code = \"def create_final_parent_pup_dataset(images:int, create:bool):\\n    try:\\n        if create:\\n            utils.remove_all_files(f'{path_to_data}/train/child-mice')\\n            utils.remove_all_files(f'{path_to_data}/test/child-mice')\\n            utils.remove_all_files(f'{path_to_data}/train/parent-mice')\\n            utils.remove_all_files(f'{path_to_data}/test/parent-mice')\\n            create_parent_dataset(images)\\n            create_pup_dataset(images)\\n    except:\\n        var = traceback.format_exc()\\n        print(var)\\ncreate_final_parent_pup_dataset(40, True)\";\n",
       "                var nbb_formatted_code = \"def create_final_parent_pup_dataset(images: int, create: bool):\\n    try:\\n        if create:\\n            utils.remove_all_files(f\\\"{path_to_data}/train/child-mice\\\")\\n            utils.remove_all_files(f\\\"{path_to_data}/test/child-mice\\\")\\n            utils.remove_all_files(f\\\"{path_to_data}/train/parent-mice\\\")\\n            utils.remove_all_files(f\\\"{path_to_data}/test/parent-mice\\\")\\n            create_parent_dataset(images)\\n            create_pup_dataset(images)\\n    except:\\n        var = traceback.format_exc()\\n        print(var)\\n\\n\\ncreate_final_parent_pup_dataset(40, True)\";\n",
       "                var nbb_cells = Jupyter.notebook.get_cells();\n",
       "                for (var i = 0; i < nbb_cells.length; ++i) {\n",
       "                    if (nbb_cells[i].input_prompt_number == nbb_cell_id) {\n",
       "                        if (nbb_cells[i].get_text() == nbb_unformatted_code) {\n",
       "                             nbb_cells[i].set_text(nbb_formatted_code);\n",
       "                        }\n",
       "                        break;\n",
       "                    }\n",
       "                }\n",
       "            }, 500);\n",
       "            "
      ],
      "text/plain": [
       "<IPython.core.display.Javascript object>"
      ]
     },
     "metadata": {},
     "output_type": "display_data"
    },
    {
     "data": {
      "application/javascript": [
       "\n",
       "            setTimeout(function() {\n",
       "                var nbb_cell_id = 155;\n",
       "                var nbb_unformatted_code = \"def create_final_parent_pup_dataset(images:int, create:bool):\\n    try:\\n        if create:\\n            utils.remove_all_files(f'{path_to_data}/train/child-mice')\\n            utils.remove_all_files(f'{path_to_data}/test/child-mice')\\n            utils.remove_all_files(f'{path_to_data}/train/parent-mice')\\n            utils.remove_all_files(f'{path_to_data}/test/parent-mice')\\n            create_parent_dataset(images)\\n            create_pup_dataset(images)\\n    except:\\n        var = traceback.format_exc()\\n        print(var)\\ncreate_final_parent_pup_dataset(40, True)\";\n",
       "                var nbb_formatted_code = \"def create_final_parent_pup_dataset(images: int, create: bool):\\n    try:\\n        if create:\\n            utils.remove_all_files(f\\\"{path_to_data}/train/child-mice\\\")\\n            utils.remove_all_files(f\\\"{path_to_data}/test/child-mice\\\")\\n            utils.remove_all_files(f\\\"{path_to_data}/train/parent-mice\\\")\\n            utils.remove_all_files(f\\\"{path_to_data}/test/parent-mice\\\")\\n            create_parent_dataset(images)\\n            create_pup_dataset(images)\\n    except:\\n        var = traceback.format_exc()\\n        print(var)\\n\\n\\ncreate_final_parent_pup_dataset(40, True)\";\n",
       "                var nbb_cells = Jupyter.notebook.get_cells();\n",
       "                for (var i = 0; i < nbb_cells.length; ++i) {\n",
       "                    if (nbb_cells[i].input_prompt_number == nbb_cell_id) {\n",
       "                        if (nbb_cells[i].get_text() == nbb_unformatted_code) {\n",
       "                             nbb_cells[i].set_text(nbb_formatted_code);\n",
       "                        }\n",
       "                        break;\n",
       "                    }\n",
       "                }\n",
       "            }, 500);\n",
       "            "
      ],
      "text/plain": [
       "<IPython.core.display.Javascript object>"
      ]
     },
     "metadata": {},
     "output_type": "display_data"
    },
    {
     "data": {
      "application/javascript": [
       "\n",
       "            setTimeout(function() {\n",
       "                var nbb_cell_id = 155;\n",
       "                var nbb_unformatted_code = \"def create_final_parent_pup_dataset(images:int, create:bool):\\n    try:\\n        if create:\\n            utils.remove_all_files(f'{path_to_data}/train/child-mice')\\n            utils.remove_all_files(f'{path_to_data}/test/child-mice')\\n            utils.remove_all_files(f'{path_to_data}/train/parent-mice')\\n            utils.remove_all_files(f'{path_to_data}/test/parent-mice')\\n            create_parent_dataset(images)\\n            create_pup_dataset(images)\\n    except:\\n        var = traceback.format_exc()\\n        print(var)\\ncreate_final_parent_pup_dataset(40, True)\";\n",
       "                var nbb_formatted_code = \"def create_final_parent_pup_dataset(images: int, create: bool):\\n    try:\\n        if create:\\n            utils.remove_all_files(f\\\"{path_to_data}/train/child-mice\\\")\\n            utils.remove_all_files(f\\\"{path_to_data}/test/child-mice\\\")\\n            utils.remove_all_files(f\\\"{path_to_data}/train/parent-mice\\\")\\n            utils.remove_all_files(f\\\"{path_to_data}/test/parent-mice\\\")\\n            create_parent_dataset(images)\\n            create_pup_dataset(images)\\n    except:\\n        var = traceback.format_exc()\\n        print(var)\\n\\n\\ncreate_final_parent_pup_dataset(40, True)\";\n",
       "                var nbb_cells = Jupyter.notebook.get_cells();\n",
       "                for (var i = 0; i < nbb_cells.length; ++i) {\n",
       "                    if (nbb_cells[i].input_prompt_number == nbb_cell_id) {\n",
       "                        if (nbb_cells[i].get_text() == nbb_unformatted_code) {\n",
       "                             nbb_cells[i].set_text(nbb_formatted_code);\n",
       "                        }\n",
       "                        break;\n",
       "                    }\n",
       "                }\n",
       "            }, 500);\n",
       "            "
      ],
      "text/plain": [
       "<IPython.core.display.Javascript object>"
      ]
     },
     "metadata": {},
     "output_type": "display_data"
    },
    {
     "data": {
      "application/javascript": [
       "\n",
       "            setTimeout(function() {\n",
       "                var nbb_cell_id = 155;\n",
       "                var nbb_unformatted_code = \"def create_final_parent_pup_dataset(images:int, create:bool):\\n    try:\\n        if create:\\n            utils.remove_all_files(f'{path_to_data}/train/child-mice')\\n            utils.remove_all_files(f'{path_to_data}/test/child-mice')\\n            utils.remove_all_files(f'{path_to_data}/train/parent-mice')\\n            utils.remove_all_files(f'{path_to_data}/test/parent-mice')\\n            create_parent_dataset(images)\\n            create_pup_dataset(images)\\n    except:\\n        var = traceback.format_exc()\\n        print(var)\\ncreate_final_parent_pup_dataset(40, True)\";\n",
       "                var nbb_formatted_code = \"def create_final_parent_pup_dataset(images: int, create: bool):\\n    try:\\n        if create:\\n            utils.remove_all_files(f\\\"{path_to_data}/train/child-mice\\\")\\n            utils.remove_all_files(f\\\"{path_to_data}/test/child-mice\\\")\\n            utils.remove_all_files(f\\\"{path_to_data}/train/parent-mice\\\")\\n            utils.remove_all_files(f\\\"{path_to_data}/test/parent-mice\\\")\\n            create_parent_dataset(images)\\n            create_pup_dataset(images)\\n    except:\\n        var = traceback.format_exc()\\n        print(var)\\n\\n\\ncreate_final_parent_pup_dataset(40, True)\";\n",
       "                var nbb_cells = Jupyter.notebook.get_cells();\n",
       "                for (var i = 0; i < nbb_cells.length; ++i) {\n",
       "                    if (nbb_cells[i].input_prompt_number == nbb_cell_id) {\n",
       "                        if (nbb_cells[i].get_text() == nbb_unformatted_code) {\n",
       "                             nbb_cells[i].set_text(nbb_formatted_code);\n",
       "                        }\n",
       "                        break;\n",
       "                    }\n",
       "                }\n",
       "            }, 500);\n",
       "            "
      ],
      "text/plain": [
       "<IPython.core.display.Javascript object>"
      ]
     },
     "metadata": {},
     "output_type": "display_data"
    }
   ],
   "source": [
    "def create_final_parent_pup_dataset(images: int, create: bool):\n",
    "    try:\n",
    "        if create:\n",
    "            utils.remove_all_files(f\"{path_to_data}/train/child-mice\")\n",
    "            utils.remove_all_files(f\"{path_to_data}/test/child-mice\")\n",
    "            utils.remove_all_files(f\"{path_to_data}/train/parent-mice\")\n",
    "            utils.remove_all_files(f\"{path_to_data}/test/parent-mice\")\n",
    "            create_parent_dataset(images)\n",
    "            create_pup_dataset(images)\n",
    "    except:\n",
    "        var = traceback.format_exc()\n",
    "        print(var)\n",
    "\n",
    "\n",
    "create_final_parent_pup_dataset(40, True)"
   ]
  }
 ],
 "metadata": {
  "kernelspec": {
   "display_name": "Python deep-route",
   "language": "python",
   "name": "deep-route"
  },
  "language_info": {
   "codemirror_mode": {
    "name": "ipython",
    "version": 3
   },
   "file_extension": ".py",
   "mimetype": "text/x-python",
   "name": "python",
   "nbconvert_exporter": "python",
   "pygments_lexer": "ipython3",
   "version": "3.8.10"
  }
 },
 "nbformat": 4,
 "nbformat_minor": 4
}
