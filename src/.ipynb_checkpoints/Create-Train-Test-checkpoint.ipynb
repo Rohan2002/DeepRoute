{
 "cells": [
  {
   "cell_type": "code",
   "execution_count": 66,
   "metadata": {},
   "outputs": [
    {
     "name": "stdout",
     "output_type": "stream",
     "text": [
      "The autoreload extension is already loaded. To reload it, use:\n",
      "  %reload_ext autoreload\n"
     ]
    },
    {
     "data": {
      "application/javascript": [
       "\n",
       "            setTimeout(function() {\n",
       "                var nbb_cell_id = 66;\n",
       "                var nbb_unformatted_code = \"import warnings\\n\\nwarnings.filterwarnings(\\\"ignore\\\")\\n\\nimport os\\nimport shutil\\nimport platform\\nimport cv2\\nimport random\\nimport math\\nimport uuid\\nimport pandas as pd\\nimport sys\\nimport traceback\\nimport utils\\n\\n%load_ext autoreload\\n%autoreload 2\\n\\n%reload_ext nb_black\\n%config IPCompleter.greedy=True\";\n",
       "                var nbb_formatted_code = \"import warnings\\n\\nwarnings.filterwarnings(\\\"ignore\\\")\\n\\nimport os\\nimport shutil\\nimport platform\\nimport cv2\\nimport random\\nimport math\\nimport uuid\\nimport pandas as pd\\nimport sys\\nimport traceback\\nimport utils\\n\\n%load_ext autoreload\\n%autoreload 2\\n\\n%reload_ext nb_black\\n%config IPCompleter.greedy=True\";\n",
       "                var nbb_cells = Jupyter.notebook.get_cells();\n",
       "                for (var i = 0; i < nbb_cells.length; ++i) {\n",
       "                    if (nbb_cells[i].input_prompt_number == nbb_cell_id) {\n",
       "                        if (nbb_cells[i].get_text() == nbb_unformatted_code) {\n",
       "                             nbb_cells[i].set_text(nbb_formatted_code);\n",
       "                        }\n",
       "                        break;\n",
       "                    }\n",
       "                }\n",
       "            }, 500);\n",
       "            "
      ],
      "text/plain": [
       "<IPython.core.display.Javascript object>"
      ]
     },
     "metadata": {},
     "output_type": "display_data"
    },
    {
     "data": {
      "application/javascript": [
       "\n",
       "            setTimeout(function() {\n",
       "                var nbb_cell_id = 66;\n",
       "                var nbb_unformatted_code = \"import warnings\\n\\nwarnings.filterwarnings(\\\"ignore\\\")\\n\\nimport os\\nimport shutil\\nimport platform\\nimport cv2\\nimport random\\nimport math\\nimport uuid\\nimport pandas as pd\\nimport sys\\nimport traceback\\nimport utils\\n\\n%load_ext autoreload\\n%autoreload 2\\n\\n%reload_ext nb_black\\n%config IPCompleter.greedy=True\";\n",
       "                var nbb_formatted_code = \"import warnings\\n\\nwarnings.filterwarnings(\\\"ignore\\\")\\n\\nimport os\\nimport shutil\\nimport platform\\nimport cv2\\nimport random\\nimport math\\nimport uuid\\nimport pandas as pd\\nimport sys\\nimport traceback\\nimport utils\\n\\n%load_ext autoreload\\n%autoreload 2\\n\\n%reload_ext nb_black\\n%config IPCompleter.greedy=True\";\n",
       "                var nbb_cells = Jupyter.notebook.get_cells();\n",
       "                for (var i = 0; i < nbb_cells.length; ++i) {\n",
       "                    if (nbb_cells[i].input_prompt_number == nbb_cell_id) {\n",
       "                        if (nbb_cells[i].get_text() == nbb_unformatted_code) {\n",
       "                             nbb_cells[i].set_text(nbb_formatted_code);\n",
       "                        }\n",
       "                        break;\n",
       "                    }\n",
       "                }\n",
       "            }, 500);\n",
       "            "
      ],
      "text/plain": [
       "<IPython.core.display.Javascript object>"
      ]
     },
     "metadata": {},
     "output_type": "display_data"
    },
    {
     "data": {
      "application/javascript": [
       "\n",
       "            setTimeout(function() {\n",
       "                var nbb_cell_id = 66;\n",
       "                var nbb_unformatted_code = \"import warnings\\n\\nwarnings.filterwarnings(\\\"ignore\\\")\\n\\nimport os\\nimport shutil\\nimport platform\\nimport cv2\\nimport random\\nimport math\\nimport uuid\\nimport pandas as pd\\nimport sys\\nimport traceback\\nimport utils\\n\\n%load_ext autoreload\\n%autoreload 2\\n\\n%reload_ext nb_black\\n%config IPCompleter.greedy=True\";\n",
       "                var nbb_formatted_code = \"import warnings\\n\\nwarnings.filterwarnings(\\\"ignore\\\")\\n\\nimport os\\nimport shutil\\nimport platform\\nimport cv2\\nimport random\\nimport math\\nimport uuid\\nimport pandas as pd\\nimport sys\\nimport traceback\\nimport utils\\n\\n%load_ext autoreload\\n%autoreload 2\\n\\n%reload_ext nb_black\\n%config IPCompleter.greedy=True\";\n",
       "                var nbb_cells = Jupyter.notebook.get_cells();\n",
       "                for (var i = 0; i < nbb_cells.length; ++i) {\n",
       "                    if (nbb_cells[i].input_prompt_number == nbb_cell_id) {\n",
       "                        if (nbb_cells[i].get_text() == nbb_unformatted_code) {\n",
       "                             nbb_cells[i].set_text(nbb_formatted_code);\n",
       "                        }\n",
       "                        break;\n",
       "                    }\n",
       "                }\n",
       "            }, 500);\n",
       "            "
      ],
      "text/plain": [
       "<IPython.core.display.Javascript object>"
      ]
     },
     "metadata": {},
     "output_type": "display_data"
    },
    {
     "data": {
      "application/javascript": [
       "\n",
       "            setTimeout(function() {\n",
       "                var nbb_cell_id = 66;\n",
       "                var nbb_unformatted_code = \"import warnings\\n\\nwarnings.filterwarnings(\\\"ignore\\\")\\n\\nimport os\\nimport shutil\\nimport platform\\nimport cv2\\nimport random\\nimport math\\nimport uuid\\nimport pandas as pd\\nimport sys\\nimport traceback\\nimport utils\\n\\n%load_ext autoreload\\n%autoreload 2\\n\\n%reload_ext nb_black\\n%config IPCompleter.greedy=True\";\n",
       "                var nbb_formatted_code = \"import warnings\\n\\nwarnings.filterwarnings(\\\"ignore\\\")\\n\\nimport os\\nimport shutil\\nimport platform\\nimport cv2\\nimport random\\nimport math\\nimport uuid\\nimport pandas as pd\\nimport sys\\nimport traceback\\nimport utils\\n\\n%load_ext autoreload\\n%autoreload 2\\n\\n%reload_ext nb_black\\n%config IPCompleter.greedy=True\";\n",
       "                var nbb_cells = Jupyter.notebook.get_cells();\n",
       "                for (var i = 0; i < nbb_cells.length; ++i) {\n",
       "                    if (nbb_cells[i].input_prompt_number == nbb_cell_id) {\n",
       "                        if (nbb_cells[i].get_text() == nbb_unformatted_code) {\n",
       "                             nbb_cells[i].set_text(nbb_formatted_code);\n",
       "                        }\n",
       "                        break;\n",
       "                    }\n",
       "                }\n",
       "            }, 500);\n",
       "            "
      ],
      "text/plain": [
       "<IPython.core.display.Javascript object>"
      ]
     },
     "metadata": {},
     "output_type": "display_data"
    },
    {
     "data": {
      "application/javascript": [
       "\n",
       "            setTimeout(function() {\n",
       "                var nbb_cell_id = 66;\n",
       "                var nbb_unformatted_code = \"import warnings\\n\\nwarnings.filterwarnings(\\\"ignore\\\")\\n\\nimport os\\nimport shutil\\nimport platform\\nimport cv2\\nimport random\\nimport math\\nimport uuid\\nimport pandas as pd\\nimport sys\\nimport traceback\\nimport utils\\n\\n%load_ext autoreload\\n%autoreload 2\\n\\n%reload_ext nb_black\\n%config IPCompleter.greedy=True\";\n",
       "                var nbb_formatted_code = \"import warnings\\n\\nwarnings.filterwarnings(\\\"ignore\\\")\\n\\nimport os\\nimport shutil\\nimport platform\\nimport cv2\\nimport random\\nimport math\\nimport uuid\\nimport pandas as pd\\nimport sys\\nimport traceback\\nimport utils\\n\\n%load_ext autoreload\\n%autoreload 2\\n\\n%reload_ext nb_black\\n%config IPCompleter.greedy=True\";\n",
       "                var nbb_cells = Jupyter.notebook.get_cells();\n",
       "                for (var i = 0; i < nbb_cells.length; ++i) {\n",
       "                    if (nbb_cells[i].input_prompt_number == nbb_cell_id) {\n",
       "                        if (nbb_cells[i].get_text() == nbb_unformatted_code) {\n",
       "                             nbb_cells[i].set_text(nbb_formatted_code);\n",
       "                        }\n",
       "                        break;\n",
       "                    }\n",
       "                }\n",
       "            }, 500);\n",
       "            "
      ],
      "text/plain": [
       "<IPython.core.display.Javascript object>"
      ]
     },
     "metadata": {},
     "output_type": "display_data"
    },
    {
     "data": {
      "application/javascript": [
       "\n",
       "            setTimeout(function() {\n",
       "                var nbb_cell_id = 66;\n",
       "                var nbb_unformatted_code = \"import warnings\\n\\nwarnings.filterwarnings(\\\"ignore\\\")\\n\\nimport os\\nimport shutil\\nimport platform\\nimport cv2\\nimport random\\nimport math\\nimport uuid\\nimport pandas as pd\\nimport sys\\nimport traceback\\nimport utils\\n\\n%load_ext autoreload\\n%autoreload 2\\n\\n%reload_ext nb_black\\n%config IPCompleter.greedy=True\";\n",
       "                var nbb_formatted_code = \"import warnings\\n\\nwarnings.filterwarnings(\\\"ignore\\\")\\n\\nimport os\\nimport shutil\\nimport platform\\nimport cv2\\nimport random\\nimport math\\nimport uuid\\nimport pandas as pd\\nimport sys\\nimport traceback\\nimport utils\\n\\n%load_ext autoreload\\n%autoreload 2\\n\\n%reload_ext nb_black\\n%config IPCompleter.greedy=True\";\n",
       "                var nbb_cells = Jupyter.notebook.get_cells();\n",
       "                for (var i = 0; i < nbb_cells.length; ++i) {\n",
       "                    if (nbb_cells[i].input_prompt_number == nbb_cell_id) {\n",
       "                        if (nbb_cells[i].get_text() == nbb_unformatted_code) {\n",
       "                             nbb_cells[i].set_text(nbb_formatted_code);\n",
       "                        }\n",
       "                        break;\n",
       "                    }\n",
       "                }\n",
       "            }, 500);\n",
       "            "
      ],
      "text/plain": [
       "<IPython.core.display.Javascript object>"
      ]
     },
     "metadata": {},
     "output_type": "display_data"
    }
   ],
   "source": [
    "import warnings\n",
    "\n",
    "warnings.filterwarnings(\"ignore\")\n",
    "\n",
    "import os\n",
    "import shutil\n",
    "import platform\n",
    "import cv2\n",
    "import random\n",
    "import math\n",
    "import uuid\n",
    "import pandas as pd\n",
    "import sys\n",
    "import traceback\n",
    "import utils\n",
    "\n",
    "%load_ext autoreload\n",
    "%autoreload 2\n",
    "\n",
    "%reload_ext nb_black\n",
    "%config IPCompleter.greedy=True"
   ]
  },
  {
   "cell_type": "code",
   "execution_count": 67,
   "metadata": {},
   "outputs": [
    {
     "data": {
      "application/javascript": [
       "\n",
       "            setTimeout(function() {\n",
       "                var nbb_cell_id = 67;\n",
       "                var nbb_unformatted_code = \"CURRENT_MICE = \\\"PrL-4\\\"\\nparent_directory = os.path.dirname(os.getcwd())\\npath_to_videos = os.path.join(parent_directory, \\\"videos\\\")\\npath_to_data = os.path.join(parent_directory, \\\"data\\\")\\n\\nmice = [\\n    \\\"PrL-2\\\",\\n    \\\"PrL-3\\\",\\n    \\\"PrL-4\\\",\\n    \\\"PrL-5\\\",\\n    \\\"PrL-8\\\",\\n    \\\"PrL-9\\\",\\n    \\\"PrL-10\\\",\\n    \\\"PrL-16\\\",\\n    \\\"PrL-19\\\",\\n]\\nlabels = [\\\"parent-mice\\\", \\\"child-mice\\\"]\";\n",
       "                var nbb_formatted_code = \"CURRENT_MICE = \\\"PrL-4\\\"\\nparent_directory = os.path.dirname(os.getcwd())\\npath_to_videos = os.path.join(parent_directory, \\\"videos\\\")\\npath_to_data = os.path.join(parent_directory, \\\"data\\\")\\n\\nmice = [\\n    \\\"PrL-2\\\",\\n    \\\"PrL-3\\\",\\n    \\\"PrL-4\\\",\\n    \\\"PrL-5\\\",\\n    \\\"PrL-8\\\",\\n    \\\"PrL-9\\\",\\n    \\\"PrL-10\\\",\\n    \\\"PrL-16\\\",\\n    \\\"PrL-19\\\",\\n]\\nlabels = [\\\"parent-mice\\\", \\\"child-mice\\\"]\";\n",
       "                var nbb_cells = Jupyter.notebook.get_cells();\n",
       "                for (var i = 0; i < nbb_cells.length; ++i) {\n",
       "                    if (nbb_cells[i].input_prompt_number == nbb_cell_id) {\n",
       "                        if (nbb_cells[i].get_text() == nbb_unformatted_code) {\n",
       "                             nbb_cells[i].set_text(nbb_formatted_code);\n",
       "                        }\n",
       "                        break;\n",
       "                    }\n",
       "                }\n",
       "            }, 500);\n",
       "            "
      ],
      "text/plain": [
       "<IPython.core.display.Javascript object>"
      ]
     },
     "metadata": {},
     "output_type": "display_data"
    },
    {
     "data": {
      "application/javascript": [
       "\n",
       "            setTimeout(function() {\n",
       "                var nbb_cell_id = 67;\n",
       "                var nbb_unformatted_code = \"CURRENT_MICE = \\\"PrL-4\\\"\\nparent_directory = os.path.dirname(os.getcwd())\\npath_to_videos = os.path.join(parent_directory, \\\"videos\\\")\\npath_to_data = os.path.join(parent_directory, \\\"data\\\")\\n\\nmice = [\\n    \\\"PrL-2\\\",\\n    \\\"PrL-3\\\",\\n    \\\"PrL-4\\\",\\n    \\\"PrL-5\\\",\\n    \\\"PrL-8\\\",\\n    \\\"PrL-9\\\",\\n    \\\"PrL-10\\\",\\n    \\\"PrL-16\\\",\\n    \\\"PrL-19\\\",\\n]\\nlabels = [\\\"parent-mice\\\", \\\"child-mice\\\"]\";\n",
       "                var nbb_formatted_code = \"CURRENT_MICE = \\\"PrL-4\\\"\\nparent_directory = os.path.dirname(os.getcwd())\\npath_to_videos = os.path.join(parent_directory, \\\"videos\\\")\\npath_to_data = os.path.join(parent_directory, \\\"data\\\")\\n\\nmice = [\\n    \\\"PrL-2\\\",\\n    \\\"PrL-3\\\",\\n    \\\"PrL-4\\\",\\n    \\\"PrL-5\\\",\\n    \\\"PrL-8\\\",\\n    \\\"PrL-9\\\",\\n    \\\"PrL-10\\\",\\n    \\\"PrL-16\\\",\\n    \\\"PrL-19\\\",\\n]\\nlabels = [\\\"parent-mice\\\", \\\"child-mice\\\"]\";\n",
       "                var nbb_cells = Jupyter.notebook.get_cells();\n",
       "                for (var i = 0; i < nbb_cells.length; ++i) {\n",
       "                    if (nbb_cells[i].input_prompt_number == nbb_cell_id) {\n",
       "                        if (nbb_cells[i].get_text() == nbb_unformatted_code) {\n",
       "                             nbb_cells[i].set_text(nbb_formatted_code);\n",
       "                        }\n",
       "                        break;\n",
       "                    }\n",
       "                }\n",
       "            }, 500);\n",
       "            "
      ],
      "text/plain": [
       "<IPython.core.display.Javascript object>"
      ]
     },
     "metadata": {},
     "output_type": "display_data"
    },
    {
     "data": {
      "application/javascript": [
       "\n",
       "            setTimeout(function() {\n",
       "                var nbb_cell_id = 67;\n",
       "                var nbb_unformatted_code = \"CURRENT_MICE = \\\"PrL-4\\\"\\nparent_directory = os.path.dirname(os.getcwd())\\npath_to_videos = os.path.join(parent_directory, \\\"videos\\\")\\npath_to_data = os.path.join(parent_directory, \\\"data\\\")\\n\\nmice = [\\n    \\\"PrL-2\\\",\\n    \\\"PrL-3\\\",\\n    \\\"PrL-4\\\",\\n    \\\"PrL-5\\\",\\n    \\\"PrL-8\\\",\\n    \\\"PrL-9\\\",\\n    \\\"PrL-10\\\",\\n    \\\"PrL-16\\\",\\n    \\\"PrL-19\\\",\\n]\\nlabels = [\\\"parent-mice\\\", \\\"child-mice\\\"]\";\n",
       "                var nbb_formatted_code = \"CURRENT_MICE = \\\"PrL-4\\\"\\nparent_directory = os.path.dirname(os.getcwd())\\npath_to_videos = os.path.join(parent_directory, \\\"videos\\\")\\npath_to_data = os.path.join(parent_directory, \\\"data\\\")\\n\\nmice = [\\n    \\\"PrL-2\\\",\\n    \\\"PrL-3\\\",\\n    \\\"PrL-4\\\",\\n    \\\"PrL-5\\\",\\n    \\\"PrL-8\\\",\\n    \\\"PrL-9\\\",\\n    \\\"PrL-10\\\",\\n    \\\"PrL-16\\\",\\n    \\\"PrL-19\\\",\\n]\\nlabels = [\\\"parent-mice\\\", \\\"child-mice\\\"]\";\n",
       "                var nbb_cells = Jupyter.notebook.get_cells();\n",
       "                for (var i = 0; i < nbb_cells.length; ++i) {\n",
       "                    if (nbb_cells[i].input_prompt_number == nbb_cell_id) {\n",
       "                        if (nbb_cells[i].get_text() == nbb_unformatted_code) {\n",
       "                             nbb_cells[i].set_text(nbb_formatted_code);\n",
       "                        }\n",
       "                        break;\n",
       "                    }\n",
       "                }\n",
       "            }, 500);\n",
       "            "
      ],
      "text/plain": [
       "<IPython.core.display.Javascript object>"
      ]
     },
     "metadata": {},
     "output_type": "display_data"
    },
    {
     "data": {
      "application/javascript": [
       "\n",
       "            setTimeout(function() {\n",
       "                var nbb_cell_id = 67;\n",
       "                var nbb_unformatted_code = \"CURRENT_MICE = \\\"PrL-4\\\"\\nparent_directory = os.path.dirname(os.getcwd())\\npath_to_videos = os.path.join(parent_directory, \\\"videos\\\")\\npath_to_data = os.path.join(parent_directory, \\\"data\\\")\\n\\nmice = [\\n    \\\"PrL-2\\\",\\n    \\\"PrL-3\\\",\\n    \\\"PrL-4\\\",\\n    \\\"PrL-5\\\",\\n    \\\"PrL-8\\\",\\n    \\\"PrL-9\\\",\\n    \\\"PrL-10\\\",\\n    \\\"PrL-16\\\",\\n    \\\"PrL-19\\\",\\n]\\nlabels = [\\\"parent-mice\\\", \\\"child-mice\\\"]\";\n",
       "                var nbb_formatted_code = \"CURRENT_MICE = \\\"PrL-4\\\"\\nparent_directory = os.path.dirname(os.getcwd())\\npath_to_videos = os.path.join(parent_directory, \\\"videos\\\")\\npath_to_data = os.path.join(parent_directory, \\\"data\\\")\\n\\nmice = [\\n    \\\"PrL-2\\\",\\n    \\\"PrL-3\\\",\\n    \\\"PrL-4\\\",\\n    \\\"PrL-5\\\",\\n    \\\"PrL-8\\\",\\n    \\\"PrL-9\\\",\\n    \\\"PrL-10\\\",\\n    \\\"PrL-16\\\",\\n    \\\"PrL-19\\\",\\n]\\nlabels = [\\\"parent-mice\\\", \\\"child-mice\\\"]\";\n",
       "                var nbb_cells = Jupyter.notebook.get_cells();\n",
       "                for (var i = 0; i < nbb_cells.length; ++i) {\n",
       "                    if (nbb_cells[i].input_prompt_number == nbb_cell_id) {\n",
       "                        if (nbb_cells[i].get_text() == nbb_unformatted_code) {\n",
       "                             nbb_cells[i].set_text(nbb_formatted_code);\n",
       "                        }\n",
       "                        break;\n",
       "                    }\n",
       "                }\n",
       "            }, 500);\n",
       "            "
      ],
      "text/plain": [
       "<IPython.core.display.Javascript object>"
      ]
     },
     "metadata": {},
     "output_type": "display_data"
    },
    {
     "data": {
      "application/javascript": [
       "\n",
       "            setTimeout(function() {\n",
       "                var nbb_cell_id = 67;\n",
       "                var nbb_unformatted_code = \"CURRENT_MICE = \\\"PrL-4\\\"\\nparent_directory = os.path.dirname(os.getcwd())\\npath_to_videos = os.path.join(parent_directory, \\\"videos\\\")\\npath_to_data = os.path.join(parent_directory, \\\"data\\\")\\n\\nmice = [\\n    \\\"PrL-2\\\",\\n    \\\"PrL-3\\\",\\n    \\\"PrL-4\\\",\\n    \\\"PrL-5\\\",\\n    \\\"PrL-8\\\",\\n    \\\"PrL-9\\\",\\n    \\\"PrL-10\\\",\\n    \\\"PrL-16\\\",\\n    \\\"PrL-19\\\",\\n]\\nlabels = [\\\"parent-mice\\\", \\\"child-mice\\\"]\";\n",
       "                var nbb_formatted_code = \"CURRENT_MICE = \\\"PrL-4\\\"\\nparent_directory = os.path.dirname(os.getcwd())\\npath_to_videos = os.path.join(parent_directory, \\\"videos\\\")\\npath_to_data = os.path.join(parent_directory, \\\"data\\\")\\n\\nmice = [\\n    \\\"PrL-2\\\",\\n    \\\"PrL-3\\\",\\n    \\\"PrL-4\\\",\\n    \\\"PrL-5\\\",\\n    \\\"PrL-8\\\",\\n    \\\"PrL-9\\\",\\n    \\\"PrL-10\\\",\\n    \\\"PrL-16\\\",\\n    \\\"PrL-19\\\",\\n]\\nlabels = [\\\"parent-mice\\\", \\\"child-mice\\\"]\";\n",
       "                var nbb_cells = Jupyter.notebook.get_cells();\n",
       "                for (var i = 0; i < nbb_cells.length; ++i) {\n",
       "                    if (nbb_cells[i].input_prompt_number == nbb_cell_id) {\n",
       "                        if (nbb_cells[i].get_text() == nbb_unformatted_code) {\n",
       "                             nbb_cells[i].set_text(nbb_formatted_code);\n",
       "                        }\n",
       "                        break;\n",
       "                    }\n",
       "                }\n",
       "            }, 500);\n",
       "            "
      ],
      "text/plain": [
       "<IPython.core.display.Javascript object>"
      ]
     },
     "metadata": {},
     "output_type": "display_data"
    },
    {
     "data": {
      "application/javascript": [
       "\n",
       "            setTimeout(function() {\n",
       "                var nbb_cell_id = 67;\n",
       "                var nbb_unformatted_code = \"CURRENT_MICE = \\\"PrL-4\\\"\\nparent_directory = os.path.dirname(os.getcwd())\\npath_to_videos = os.path.join(parent_directory, \\\"videos\\\")\\npath_to_data = os.path.join(parent_directory, \\\"data\\\")\\n\\nmice = [\\n    \\\"PrL-2\\\",\\n    \\\"PrL-3\\\",\\n    \\\"PrL-4\\\",\\n    \\\"PrL-5\\\",\\n    \\\"PrL-8\\\",\\n    \\\"PrL-9\\\",\\n    \\\"PrL-10\\\",\\n    \\\"PrL-16\\\",\\n    \\\"PrL-19\\\",\\n]\\nlabels = [\\\"parent-mice\\\", \\\"child-mice\\\"]\";\n",
       "                var nbb_formatted_code = \"CURRENT_MICE = \\\"PrL-4\\\"\\nparent_directory = os.path.dirname(os.getcwd())\\npath_to_videos = os.path.join(parent_directory, \\\"videos\\\")\\npath_to_data = os.path.join(parent_directory, \\\"data\\\")\\n\\nmice = [\\n    \\\"PrL-2\\\",\\n    \\\"PrL-3\\\",\\n    \\\"PrL-4\\\",\\n    \\\"PrL-5\\\",\\n    \\\"PrL-8\\\",\\n    \\\"PrL-9\\\",\\n    \\\"PrL-10\\\",\\n    \\\"PrL-16\\\",\\n    \\\"PrL-19\\\",\\n]\\nlabels = [\\\"parent-mice\\\", \\\"child-mice\\\"]\";\n",
       "                var nbb_cells = Jupyter.notebook.get_cells();\n",
       "                for (var i = 0; i < nbb_cells.length; ++i) {\n",
       "                    if (nbb_cells[i].input_prompt_number == nbb_cell_id) {\n",
       "                        if (nbb_cells[i].get_text() == nbb_unformatted_code) {\n",
       "                             nbb_cells[i].set_text(nbb_formatted_code);\n",
       "                        }\n",
       "                        break;\n",
       "                    }\n",
       "                }\n",
       "            }, 500);\n",
       "            "
      ],
      "text/plain": [
       "<IPython.core.display.Javascript object>"
      ]
     },
     "metadata": {},
     "output_type": "display_data"
    }
   ],
   "source": [
    "CURRENT_MICE = \"PrL-4\"\n",
    "parent_directory = os.path.dirname(os.getcwd())\n",
    "path_to_videos = os.path.join(parent_directory, \"videos\")\n",
    "path_to_data = os.path.join(parent_directory, \"data\")\n",
    "\n",
    "mice = [\n",
    "    \"PrL-2\",\n",
    "    \"PrL-3\",\n",
    "    \"PrL-4\",\n",
    "    \"PrL-5\",\n",
    "    \"PrL-8\",\n",
    "    \"PrL-9\",\n",
    "    \"PrL-10\",\n",
    "    \"PrL-16\",\n",
    "    \"PrL-19\",\n",
    "]\n",
    "labels = [\"parent-mice\", \"child-mice\"]"
   ]
  },
  {
   "cell_type": "code",
   "execution_count": 68,
   "metadata": {},
   "outputs": [
    {
     "data": {
      "application/javascript": [
       "\n",
       "            setTimeout(function() {\n",
       "                var nbb_cell_id = 68;\n",
       "                var nbb_unformatted_code = \"mice_df = pd.DataFrame(mice, columns=[\\\"Mice\\\"])\";\n",
       "                var nbb_formatted_code = \"mice_df = pd.DataFrame(mice, columns=[\\\"Mice\\\"])\";\n",
       "                var nbb_cells = Jupyter.notebook.get_cells();\n",
       "                for (var i = 0; i < nbb_cells.length; ++i) {\n",
       "                    if (nbb_cells[i].input_prompt_number == nbb_cell_id) {\n",
       "                        if (nbb_cells[i].get_text() == nbb_unformatted_code) {\n",
       "                             nbb_cells[i].set_text(nbb_formatted_code);\n",
       "                        }\n",
       "                        break;\n",
       "                    }\n",
       "                }\n",
       "            }, 500);\n",
       "            "
      ],
      "text/plain": [
       "<IPython.core.display.Javascript object>"
      ]
     },
     "metadata": {},
     "output_type": "display_data"
    },
    {
     "data": {
      "application/javascript": [
       "\n",
       "            setTimeout(function() {\n",
       "                var nbb_cell_id = 68;\n",
       "                var nbb_unformatted_code = \"mice_df = pd.DataFrame(mice, columns=[\\\"Mice\\\"])\";\n",
       "                var nbb_formatted_code = \"mice_df = pd.DataFrame(mice, columns=[\\\"Mice\\\"])\";\n",
       "                var nbb_cells = Jupyter.notebook.get_cells();\n",
       "                for (var i = 0; i < nbb_cells.length; ++i) {\n",
       "                    if (nbb_cells[i].input_prompt_number == nbb_cell_id) {\n",
       "                        if (nbb_cells[i].get_text() == nbb_unformatted_code) {\n",
       "                             nbb_cells[i].set_text(nbb_formatted_code);\n",
       "                        }\n",
       "                        break;\n",
       "                    }\n",
       "                }\n",
       "            }, 500);\n",
       "            "
      ],
      "text/plain": [
       "<IPython.core.display.Javascript object>"
      ]
     },
     "metadata": {},
     "output_type": "display_data"
    },
    {
     "data": {
      "application/javascript": [
       "\n",
       "            setTimeout(function() {\n",
       "                var nbb_cell_id = 68;\n",
       "                var nbb_unformatted_code = \"mice_df = pd.DataFrame(mice, columns=[\\\"Mice\\\"])\";\n",
       "                var nbb_formatted_code = \"mice_df = pd.DataFrame(mice, columns=[\\\"Mice\\\"])\";\n",
       "                var nbb_cells = Jupyter.notebook.get_cells();\n",
       "                for (var i = 0; i < nbb_cells.length; ++i) {\n",
       "                    if (nbb_cells[i].input_prompt_number == nbb_cell_id) {\n",
       "                        if (nbb_cells[i].get_text() == nbb_unformatted_code) {\n",
       "                             nbb_cells[i].set_text(nbb_formatted_code);\n",
       "                        }\n",
       "                        break;\n",
       "                    }\n",
       "                }\n",
       "            }, 500);\n",
       "            "
      ],
      "text/plain": [
       "<IPython.core.display.Javascript object>"
      ]
     },
     "metadata": {},
     "output_type": "display_data"
    },
    {
     "data": {
      "application/javascript": [
       "\n",
       "            setTimeout(function() {\n",
       "                var nbb_cell_id = 68;\n",
       "                var nbb_unformatted_code = \"mice_df = pd.DataFrame(mice, columns=[\\\"Mice\\\"])\";\n",
       "                var nbb_formatted_code = \"mice_df = pd.DataFrame(mice, columns=[\\\"Mice\\\"])\";\n",
       "                var nbb_cells = Jupyter.notebook.get_cells();\n",
       "                for (var i = 0; i < nbb_cells.length; ++i) {\n",
       "                    if (nbb_cells[i].input_prompt_number == nbb_cell_id) {\n",
       "                        if (nbb_cells[i].get_text() == nbb_unformatted_code) {\n",
       "                             nbb_cells[i].set_text(nbb_formatted_code);\n",
       "                        }\n",
       "                        break;\n",
       "                    }\n",
       "                }\n",
       "            }, 500);\n",
       "            "
      ],
      "text/plain": [
       "<IPython.core.display.Javascript object>"
      ]
     },
     "metadata": {},
     "output_type": "display_data"
    },
    {
     "data": {
      "application/javascript": [
       "\n",
       "            setTimeout(function() {\n",
       "                var nbb_cell_id = 68;\n",
       "                var nbb_unformatted_code = \"mice_df = pd.DataFrame(mice, columns=[\\\"Mice\\\"])\";\n",
       "                var nbb_formatted_code = \"mice_df = pd.DataFrame(mice, columns=[\\\"Mice\\\"])\";\n",
       "                var nbb_cells = Jupyter.notebook.get_cells();\n",
       "                for (var i = 0; i < nbb_cells.length; ++i) {\n",
       "                    if (nbb_cells[i].input_prompt_number == nbb_cell_id) {\n",
       "                        if (nbb_cells[i].get_text() == nbb_unformatted_code) {\n",
       "                             nbb_cells[i].set_text(nbb_formatted_code);\n",
       "                        }\n",
       "                        break;\n",
       "                    }\n",
       "                }\n",
       "            }, 500);\n",
       "            "
      ],
      "text/plain": [
       "<IPython.core.display.Javascript object>"
      ]
     },
     "metadata": {},
     "output_type": "display_data"
    },
    {
     "data": {
      "application/javascript": [
       "\n",
       "            setTimeout(function() {\n",
       "                var nbb_cell_id = 68;\n",
       "                var nbb_unformatted_code = \"mice_df = pd.DataFrame(mice, columns=[\\\"Mice\\\"])\";\n",
       "                var nbb_formatted_code = \"mice_df = pd.DataFrame(mice, columns=[\\\"Mice\\\"])\";\n",
       "                var nbb_cells = Jupyter.notebook.get_cells();\n",
       "                for (var i = 0; i < nbb_cells.length; ++i) {\n",
       "                    if (nbb_cells[i].input_prompt_number == nbb_cell_id) {\n",
       "                        if (nbb_cells[i].get_text() == nbb_unformatted_code) {\n",
       "                             nbb_cells[i].set_text(nbb_formatted_code);\n",
       "                        }\n",
       "                        break;\n",
       "                    }\n",
       "                }\n",
       "            }, 500);\n",
       "            "
      ],
      "text/plain": [
       "<IPython.core.display.Javascript object>"
      ]
     },
     "metadata": {},
     "output_type": "display_data"
    }
   ],
   "source": [
    "mice_df = pd.DataFrame(mice, columns=[\"Mice\"])"
   ]
  },
  {
   "cell_type": "code",
   "execution_count": 69,
   "metadata": {},
   "outputs": [
    {
     "data": {
      "application/javascript": [
       "\n",
       "            setTimeout(function() {\n",
       "                var nbb_cell_id = 69;\n",
       "                var nbb_unformatted_code = \"def get_video_data(mice: str):\\n    video_file_path = f\\\"{path_to_videos}/{mice}.mp4\\\"\\n\\n    if not os.path.isfile(video_file_path):\\n        raise FileNotFoundError(f\\\"{mice}.mp4 does not exist!\\\")\\n\\n    videoCaptureInstance = cv2.VideoCapture(video_file_path)\\n    fps = videoCaptureInstance.get(cv2.CAP_PROP_FPS)\\n    frames = videoCaptureInstance.get(cv2.CAP_PROP_FRAME_COUNT)\\n    return pd.Series([fps, frames])\";\n",
       "                var nbb_formatted_code = \"def get_video_data(mice: str):\\n    video_file_path = f\\\"{path_to_videos}/{mice}.mp4\\\"\\n\\n    if not os.path.isfile(video_file_path):\\n        raise FileNotFoundError(f\\\"{mice}.mp4 does not exist!\\\")\\n\\n    videoCaptureInstance = cv2.VideoCapture(video_file_path)\\n    fps = videoCaptureInstance.get(cv2.CAP_PROP_FPS)\\n    frames = videoCaptureInstance.get(cv2.CAP_PROP_FRAME_COUNT)\\n    return pd.Series([fps, frames])\";\n",
       "                var nbb_cells = Jupyter.notebook.get_cells();\n",
       "                for (var i = 0; i < nbb_cells.length; ++i) {\n",
       "                    if (nbb_cells[i].input_prompt_number == nbb_cell_id) {\n",
       "                        if (nbb_cells[i].get_text() == nbb_unformatted_code) {\n",
       "                             nbb_cells[i].set_text(nbb_formatted_code);\n",
       "                        }\n",
       "                        break;\n",
       "                    }\n",
       "                }\n",
       "            }, 500);\n",
       "            "
      ],
      "text/plain": [
       "<IPython.core.display.Javascript object>"
      ]
     },
     "metadata": {},
     "output_type": "display_data"
    },
    {
     "data": {
      "application/javascript": [
       "\n",
       "            setTimeout(function() {\n",
       "                var nbb_cell_id = 69;\n",
       "                var nbb_unformatted_code = \"def get_video_data(mice: str):\\n    video_file_path = f\\\"{path_to_videos}/{mice}.mp4\\\"\\n\\n    if not os.path.isfile(video_file_path):\\n        raise FileNotFoundError(f\\\"{mice}.mp4 does not exist!\\\")\\n\\n    videoCaptureInstance = cv2.VideoCapture(video_file_path)\\n    fps = videoCaptureInstance.get(cv2.CAP_PROP_FPS)\\n    frames = videoCaptureInstance.get(cv2.CAP_PROP_FRAME_COUNT)\\n    return pd.Series([fps, frames])\";\n",
       "                var nbb_formatted_code = \"def get_video_data(mice: str):\\n    video_file_path = f\\\"{path_to_videos}/{mice}.mp4\\\"\\n\\n    if not os.path.isfile(video_file_path):\\n        raise FileNotFoundError(f\\\"{mice}.mp4 does not exist!\\\")\\n\\n    videoCaptureInstance = cv2.VideoCapture(video_file_path)\\n    fps = videoCaptureInstance.get(cv2.CAP_PROP_FPS)\\n    frames = videoCaptureInstance.get(cv2.CAP_PROP_FRAME_COUNT)\\n    return pd.Series([fps, frames])\";\n",
       "                var nbb_cells = Jupyter.notebook.get_cells();\n",
       "                for (var i = 0; i < nbb_cells.length; ++i) {\n",
       "                    if (nbb_cells[i].input_prompt_number == nbb_cell_id) {\n",
       "                        if (nbb_cells[i].get_text() == nbb_unformatted_code) {\n",
       "                             nbb_cells[i].set_text(nbb_formatted_code);\n",
       "                        }\n",
       "                        break;\n",
       "                    }\n",
       "                }\n",
       "            }, 500);\n",
       "            "
      ],
      "text/plain": [
       "<IPython.core.display.Javascript object>"
      ]
     },
     "metadata": {},
     "output_type": "display_data"
    },
    {
     "data": {
      "application/javascript": [
       "\n",
       "            setTimeout(function() {\n",
       "                var nbb_cell_id = 69;\n",
       "                var nbb_unformatted_code = \"def get_video_data(mice: str):\\n    video_file_path = f\\\"{path_to_videos}/{mice}.mp4\\\"\\n\\n    if not os.path.isfile(video_file_path):\\n        raise FileNotFoundError(f\\\"{mice}.mp4 does not exist!\\\")\\n\\n    videoCaptureInstance = cv2.VideoCapture(video_file_path)\\n    fps = videoCaptureInstance.get(cv2.CAP_PROP_FPS)\\n    frames = videoCaptureInstance.get(cv2.CAP_PROP_FRAME_COUNT)\\n    return pd.Series([fps, frames])\";\n",
       "                var nbb_formatted_code = \"def get_video_data(mice: str):\\n    video_file_path = f\\\"{path_to_videos}/{mice}.mp4\\\"\\n\\n    if not os.path.isfile(video_file_path):\\n        raise FileNotFoundError(f\\\"{mice}.mp4 does not exist!\\\")\\n\\n    videoCaptureInstance = cv2.VideoCapture(video_file_path)\\n    fps = videoCaptureInstance.get(cv2.CAP_PROP_FPS)\\n    frames = videoCaptureInstance.get(cv2.CAP_PROP_FRAME_COUNT)\\n    return pd.Series([fps, frames])\";\n",
       "                var nbb_cells = Jupyter.notebook.get_cells();\n",
       "                for (var i = 0; i < nbb_cells.length; ++i) {\n",
       "                    if (nbb_cells[i].input_prompt_number == nbb_cell_id) {\n",
       "                        if (nbb_cells[i].get_text() == nbb_unformatted_code) {\n",
       "                             nbb_cells[i].set_text(nbb_formatted_code);\n",
       "                        }\n",
       "                        break;\n",
       "                    }\n",
       "                }\n",
       "            }, 500);\n",
       "            "
      ],
      "text/plain": [
       "<IPython.core.display.Javascript object>"
      ]
     },
     "metadata": {},
     "output_type": "display_data"
    },
    {
     "data": {
      "application/javascript": [
       "\n",
       "            setTimeout(function() {\n",
       "                var nbb_cell_id = 69;\n",
       "                var nbb_unformatted_code = \"def get_video_data(mice: str):\\n    video_file_path = f\\\"{path_to_videos}/{mice}.mp4\\\"\\n\\n    if not os.path.isfile(video_file_path):\\n        raise FileNotFoundError(f\\\"{mice}.mp4 does not exist!\\\")\\n\\n    videoCaptureInstance = cv2.VideoCapture(video_file_path)\\n    fps = videoCaptureInstance.get(cv2.CAP_PROP_FPS)\\n    frames = videoCaptureInstance.get(cv2.CAP_PROP_FRAME_COUNT)\\n    return pd.Series([fps, frames])\";\n",
       "                var nbb_formatted_code = \"def get_video_data(mice: str):\\n    video_file_path = f\\\"{path_to_videos}/{mice}.mp4\\\"\\n\\n    if not os.path.isfile(video_file_path):\\n        raise FileNotFoundError(f\\\"{mice}.mp4 does not exist!\\\")\\n\\n    videoCaptureInstance = cv2.VideoCapture(video_file_path)\\n    fps = videoCaptureInstance.get(cv2.CAP_PROP_FPS)\\n    frames = videoCaptureInstance.get(cv2.CAP_PROP_FRAME_COUNT)\\n    return pd.Series([fps, frames])\";\n",
       "                var nbb_cells = Jupyter.notebook.get_cells();\n",
       "                for (var i = 0; i < nbb_cells.length; ++i) {\n",
       "                    if (nbb_cells[i].input_prompt_number == nbb_cell_id) {\n",
       "                        if (nbb_cells[i].get_text() == nbb_unformatted_code) {\n",
       "                             nbb_cells[i].set_text(nbb_formatted_code);\n",
       "                        }\n",
       "                        break;\n",
       "                    }\n",
       "                }\n",
       "            }, 500);\n",
       "            "
      ],
      "text/plain": [
       "<IPython.core.display.Javascript object>"
      ]
     },
     "metadata": {},
     "output_type": "display_data"
    },
    {
     "data": {
      "application/javascript": [
       "\n",
       "            setTimeout(function() {\n",
       "                var nbb_cell_id = 69;\n",
       "                var nbb_unformatted_code = \"def get_video_data(mice: str):\\n    video_file_path = f\\\"{path_to_videos}/{mice}.mp4\\\"\\n\\n    if not os.path.isfile(video_file_path):\\n        raise FileNotFoundError(f\\\"{mice}.mp4 does not exist!\\\")\\n\\n    videoCaptureInstance = cv2.VideoCapture(video_file_path)\\n    fps = videoCaptureInstance.get(cv2.CAP_PROP_FPS)\\n    frames = videoCaptureInstance.get(cv2.CAP_PROP_FRAME_COUNT)\\n    return pd.Series([fps, frames])\";\n",
       "                var nbb_formatted_code = \"def get_video_data(mice: str):\\n    video_file_path = f\\\"{path_to_videos}/{mice}.mp4\\\"\\n\\n    if not os.path.isfile(video_file_path):\\n        raise FileNotFoundError(f\\\"{mice}.mp4 does not exist!\\\")\\n\\n    videoCaptureInstance = cv2.VideoCapture(video_file_path)\\n    fps = videoCaptureInstance.get(cv2.CAP_PROP_FPS)\\n    frames = videoCaptureInstance.get(cv2.CAP_PROP_FRAME_COUNT)\\n    return pd.Series([fps, frames])\";\n",
       "                var nbb_cells = Jupyter.notebook.get_cells();\n",
       "                for (var i = 0; i < nbb_cells.length; ++i) {\n",
       "                    if (nbb_cells[i].input_prompt_number == nbb_cell_id) {\n",
       "                        if (nbb_cells[i].get_text() == nbb_unformatted_code) {\n",
       "                             nbb_cells[i].set_text(nbb_formatted_code);\n",
       "                        }\n",
       "                        break;\n",
       "                    }\n",
       "                }\n",
       "            }, 500);\n",
       "            "
      ],
      "text/plain": [
       "<IPython.core.display.Javascript object>"
      ]
     },
     "metadata": {},
     "output_type": "display_data"
    },
    {
     "data": {
      "application/javascript": [
       "\n",
       "            setTimeout(function() {\n",
       "                var nbb_cell_id = 69;\n",
       "                var nbb_unformatted_code = \"def get_video_data(mice: str):\\n    video_file_path = f\\\"{path_to_videos}/{mice}.mp4\\\"\\n\\n    if not os.path.isfile(video_file_path):\\n        raise FileNotFoundError(f\\\"{mice}.mp4 does not exist!\\\")\\n\\n    videoCaptureInstance = cv2.VideoCapture(video_file_path)\\n    fps = videoCaptureInstance.get(cv2.CAP_PROP_FPS)\\n    frames = videoCaptureInstance.get(cv2.CAP_PROP_FRAME_COUNT)\\n    return pd.Series([fps, frames])\";\n",
       "                var nbb_formatted_code = \"def get_video_data(mice: str):\\n    video_file_path = f\\\"{path_to_videos}/{mice}.mp4\\\"\\n\\n    if not os.path.isfile(video_file_path):\\n        raise FileNotFoundError(f\\\"{mice}.mp4 does not exist!\\\")\\n\\n    videoCaptureInstance = cv2.VideoCapture(video_file_path)\\n    fps = videoCaptureInstance.get(cv2.CAP_PROP_FPS)\\n    frames = videoCaptureInstance.get(cv2.CAP_PROP_FRAME_COUNT)\\n    return pd.Series([fps, frames])\";\n",
       "                var nbb_cells = Jupyter.notebook.get_cells();\n",
       "                for (var i = 0; i < nbb_cells.length; ++i) {\n",
       "                    if (nbb_cells[i].input_prompt_number == nbb_cell_id) {\n",
       "                        if (nbb_cells[i].get_text() == nbb_unformatted_code) {\n",
       "                             nbb_cells[i].set_text(nbb_formatted_code);\n",
       "                        }\n",
       "                        break;\n",
       "                    }\n",
       "                }\n",
       "            }, 500);\n",
       "            "
      ],
      "text/plain": [
       "<IPython.core.display.Javascript object>"
      ]
     },
     "metadata": {},
     "output_type": "display_data"
    }
   ],
   "source": [
    "def get_video_data(mice: str):\n",
    "    video_file_path = f\"{path_to_videos}/{mice}.mp4\"\n",
    "\n",
    "    if not os.path.isfile(video_file_path):\n",
    "        raise FileNotFoundError(f\"{mice}.mp4 does not exist!\")\n",
    "\n",
    "    videoCaptureInstance = cv2.VideoCapture(video_file_path)\n",
    "    fps = videoCaptureInstance.get(cv2.CAP_PROP_FPS)\n",
    "    frames = videoCaptureInstance.get(cv2.CAP_PROP_FRAME_COUNT)\n",
    "    return pd.Series([fps, frames])"
   ]
  },
  {
   "cell_type": "code",
   "execution_count": 70,
   "metadata": {},
   "outputs": [
    {
     "data": {
      "text/html": [
       "<div>\n",
       "<style scoped>\n",
       "    .dataframe tbody tr th:only-of-type {\n",
       "        vertical-align: middle;\n",
       "    }\n",
       "\n",
       "    .dataframe tbody tr th {\n",
       "        vertical-align: top;\n",
       "    }\n",
       "\n",
       "    .dataframe thead th {\n",
       "        text-align: right;\n",
       "    }\n",
       "</style>\n",
       "<table border=\"1\" class=\"dataframe\">\n",
       "  <thead>\n",
       "    <tr style=\"text-align: right;\">\n",
       "      <th></th>\n",
       "      <th>Mice</th>\n",
       "      <th>video_fps</th>\n",
       "      <th>total_video_frames</th>\n",
       "    </tr>\n",
       "  </thead>\n",
       "  <tbody>\n",
       "    <tr>\n",
       "      <th>0</th>\n",
       "      <td>PrL-2</td>\n",
       "      <td>30.00003</td>\n",
       "      <td>83713.0</td>\n",
       "    </tr>\n",
       "    <tr>\n",
       "      <th>1</th>\n",
       "      <td>PrL-3</td>\n",
       "      <td>30.00003</td>\n",
       "      <td>40655.0</td>\n",
       "    </tr>\n",
       "    <tr>\n",
       "      <th>2</th>\n",
       "      <td>PrL-4</td>\n",
       "      <td>30.00003</td>\n",
       "      <td>48634.0</td>\n",
       "    </tr>\n",
       "    <tr>\n",
       "      <th>3</th>\n",
       "      <td>PrL-5</td>\n",
       "      <td>30.00003</td>\n",
       "      <td>46981.0</td>\n",
       "    </tr>\n",
       "    <tr>\n",
       "      <th>4</th>\n",
       "      <td>PrL-8</td>\n",
       "      <td>30.00003</td>\n",
       "      <td>48489.0</td>\n",
       "    </tr>\n",
       "  </tbody>\n",
       "</table>\n",
       "</div>"
      ],
      "text/plain": [
       "    Mice  video_fps  total_video_frames\n",
       "0  PrL-2   30.00003             83713.0\n",
       "1  PrL-3   30.00003             40655.0\n",
       "2  PrL-4   30.00003             48634.0\n",
       "3  PrL-5   30.00003             46981.0\n",
       "4  PrL-8   30.00003             48489.0"
      ]
     },
     "execution_count": 70,
     "metadata": {},
     "output_type": "execute_result"
    },
    {
     "data": {
      "application/javascript": [
       "\n",
       "            setTimeout(function() {\n",
       "                var nbb_cell_id = 70;\n",
       "                var nbb_unformatted_code = \"mice_df[[\\\"video_fps\\\", \\\"total_video_frames\\\"]] = mice_df[\\\"Mice\\\"].apply(\\n    lambda mice: get_video_data(mice)\\n)\\nmice_df.head()\";\n",
       "                var nbb_formatted_code = \"mice_df[[\\\"video_fps\\\", \\\"total_video_frames\\\"]] = mice_df[\\\"Mice\\\"].apply(\\n    lambda mice: get_video_data(mice)\\n)\\nmice_df.head()\";\n",
       "                var nbb_cells = Jupyter.notebook.get_cells();\n",
       "                for (var i = 0; i < nbb_cells.length; ++i) {\n",
       "                    if (nbb_cells[i].input_prompt_number == nbb_cell_id) {\n",
       "                        if (nbb_cells[i].get_text() == nbb_unformatted_code) {\n",
       "                             nbb_cells[i].set_text(nbb_formatted_code);\n",
       "                        }\n",
       "                        break;\n",
       "                    }\n",
       "                }\n",
       "            }, 500);\n",
       "            "
      ],
      "text/plain": [
       "<IPython.core.display.Javascript object>"
      ]
     },
     "metadata": {},
     "output_type": "display_data"
    },
    {
     "data": {
      "application/javascript": [
       "\n",
       "            setTimeout(function() {\n",
       "                var nbb_cell_id = 70;\n",
       "                var nbb_unformatted_code = \"mice_df[[\\\"video_fps\\\", \\\"total_video_frames\\\"]] = mice_df[\\\"Mice\\\"].apply(\\n    lambda mice: get_video_data(mice)\\n)\\nmice_df.head()\";\n",
       "                var nbb_formatted_code = \"mice_df[[\\\"video_fps\\\", \\\"total_video_frames\\\"]] = mice_df[\\\"Mice\\\"].apply(\\n    lambda mice: get_video_data(mice)\\n)\\nmice_df.head()\";\n",
       "                var nbb_cells = Jupyter.notebook.get_cells();\n",
       "                for (var i = 0; i < nbb_cells.length; ++i) {\n",
       "                    if (nbb_cells[i].input_prompt_number == nbb_cell_id) {\n",
       "                        if (nbb_cells[i].get_text() == nbb_unformatted_code) {\n",
       "                             nbb_cells[i].set_text(nbb_formatted_code);\n",
       "                        }\n",
       "                        break;\n",
       "                    }\n",
       "                }\n",
       "            }, 500);\n",
       "            "
      ],
      "text/plain": [
       "<IPython.core.display.Javascript object>"
      ]
     },
     "metadata": {},
     "output_type": "display_data"
    },
    {
     "data": {
      "application/javascript": [
       "\n",
       "            setTimeout(function() {\n",
       "                var nbb_cell_id = 70;\n",
       "                var nbb_unformatted_code = \"mice_df[[\\\"video_fps\\\", \\\"total_video_frames\\\"]] = mice_df[\\\"Mice\\\"].apply(\\n    lambda mice: get_video_data(mice)\\n)\\nmice_df.head()\";\n",
       "                var nbb_formatted_code = \"mice_df[[\\\"video_fps\\\", \\\"total_video_frames\\\"]] = mice_df[\\\"Mice\\\"].apply(\\n    lambda mice: get_video_data(mice)\\n)\\nmice_df.head()\";\n",
       "                var nbb_cells = Jupyter.notebook.get_cells();\n",
       "                for (var i = 0; i < nbb_cells.length; ++i) {\n",
       "                    if (nbb_cells[i].input_prompt_number == nbb_cell_id) {\n",
       "                        if (nbb_cells[i].get_text() == nbb_unformatted_code) {\n",
       "                             nbb_cells[i].set_text(nbb_formatted_code);\n",
       "                        }\n",
       "                        break;\n",
       "                    }\n",
       "                }\n",
       "            }, 500);\n",
       "            "
      ],
      "text/plain": [
       "<IPython.core.display.Javascript object>"
      ]
     },
     "metadata": {},
     "output_type": "display_data"
    },
    {
     "data": {
      "application/javascript": [
       "\n",
       "            setTimeout(function() {\n",
       "                var nbb_cell_id = 70;\n",
       "                var nbb_unformatted_code = \"mice_df[[\\\"video_fps\\\", \\\"total_video_frames\\\"]] = mice_df[\\\"Mice\\\"].apply(\\n    lambda mice: get_video_data(mice)\\n)\\nmice_df.head()\";\n",
       "                var nbb_formatted_code = \"mice_df[[\\\"video_fps\\\", \\\"total_video_frames\\\"]] = mice_df[\\\"Mice\\\"].apply(\\n    lambda mice: get_video_data(mice)\\n)\\nmice_df.head()\";\n",
       "                var nbb_cells = Jupyter.notebook.get_cells();\n",
       "                for (var i = 0; i < nbb_cells.length; ++i) {\n",
       "                    if (nbb_cells[i].input_prompt_number == nbb_cell_id) {\n",
       "                        if (nbb_cells[i].get_text() == nbb_unformatted_code) {\n",
       "                             nbb_cells[i].set_text(nbb_formatted_code);\n",
       "                        }\n",
       "                        break;\n",
       "                    }\n",
       "                }\n",
       "            }, 500);\n",
       "            "
      ],
      "text/plain": [
       "<IPython.core.display.Javascript object>"
      ]
     },
     "metadata": {},
     "output_type": "display_data"
    },
    {
     "data": {
      "application/javascript": [
       "\n",
       "            setTimeout(function() {\n",
       "                var nbb_cell_id = 70;\n",
       "                var nbb_unformatted_code = \"mice_df[[\\\"video_fps\\\", \\\"total_video_frames\\\"]] = mice_df[\\\"Mice\\\"].apply(\\n    lambda mice: get_video_data(mice)\\n)\\nmice_df.head()\";\n",
       "                var nbb_formatted_code = \"mice_df[[\\\"video_fps\\\", \\\"total_video_frames\\\"]] = mice_df[\\\"Mice\\\"].apply(\\n    lambda mice: get_video_data(mice)\\n)\\nmice_df.head()\";\n",
       "                var nbb_cells = Jupyter.notebook.get_cells();\n",
       "                for (var i = 0; i < nbb_cells.length; ++i) {\n",
       "                    if (nbb_cells[i].input_prompt_number == nbb_cell_id) {\n",
       "                        if (nbb_cells[i].get_text() == nbb_unformatted_code) {\n",
       "                             nbb_cells[i].set_text(nbb_formatted_code);\n",
       "                        }\n",
       "                        break;\n",
       "                    }\n",
       "                }\n",
       "            }, 500);\n",
       "            "
      ],
      "text/plain": [
       "<IPython.core.display.Javascript object>"
      ]
     },
     "metadata": {},
     "output_type": "display_data"
    },
    {
     "data": {
      "application/javascript": [
       "\n",
       "            setTimeout(function() {\n",
       "                var nbb_cell_id = 70;\n",
       "                var nbb_unformatted_code = \"mice_df[[\\\"video_fps\\\", \\\"total_video_frames\\\"]] = mice_df[\\\"Mice\\\"].apply(\\n    lambda mice: get_video_data(mice)\\n)\\nmice_df.head()\";\n",
       "                var nbb_formatted_code = \"mice_df[[\\\"video_fps\\\", \\\"total_video_frames\\\"]] = mice_df[\\\"Mice\\\"].apply(\\n    lambda mice: get_video_data(mice)\\n)\\nmice_df.head()\";\n",
       "                var nbb_cells = Jupyter.notebook.get_cells();\n",
       "                for (var i = 0; i < nbb_cells.length; ++i) {\n",
       "                    if (nbb_cells[i].input_prompt_number == nbb_cell_id) {\n",
       "                        if (nbb_cells[i].get_text() == nbb_unformatted_code) {\n",
       "                             nbb_cells[i].set_text(nbb_formatted_code);\n",
       "                        }\n",
       "                        break;\n",
       "                    }\n",
       "                }\n",
       "            }, 500);\n",
       "            "
      ],
      "text/plain": [
       "<IPython.core.display.Javascript object>"
      ]
     },
     "metadata": {},
     "output_type": "display_data"
    }
   ],
   "source": [
    "mice_df[[\"video_fps\", \"total_video_frames\"]] = mice_df[\"Mice\"].apply(\n",
    "    lambda mice: get_video_data(mice)\n",
    ")\n",
    "mice_df.head()"
   ]
  },
  {
   "cell_type": "code",
   "execution_count": 71,
   "metadata": {},
   "outputs": [
    {
     "data": {
      "text/html": [
       "<div>\n",
       "<style scoped>\n",
       "    .dataframe tbody tr th:only-of-type {\n",
       "        vertical-align: middle;\n",
       "    }\n",
       "\n",
       "    .dataframe tbody tr th {\n",
       "        vertical-align: top;\n",
       "    }\n",
       "\n",
       "    .dataframe thead th {\n",
       "        text-align: right;\n",
       "    }\n",
       "</style>\n",
       "<table border=\"1\" class=\"dataframe\">\n",
       "  <thead>\n",
       "    <tr style=\"text-align: right;\">\n",
       "      <th></th>\n",
       "      <th>Mice</th>\n",
       "      <th>video_fps</th>\n",
       "      <th>total_video_frames</th>\n",
       "    </tr>\n",
       "  </thead>\n",
       "  <tbody>\n",
       "    <tr>\n",
       "      <th>2</th>\n",
       "      <td>PrL-4</td>\n",
       "      <td>30.00003</td>\n",
       "      <td>48634.0</td>\n",
       "    </tr>\n",
       "  </tbody>\n",
       "</table>\n",
       "</div>"
      ],
      "text/plain": [
       "    Mice  video_fps  total_video_frames\n",
       "2  PrL-4   30.00003             48634.0"
      ]
     },
     "execution_count": 71,
     "metadata": {},
     "output_type": "execute_result"
    },
    {
     "data": {
      "application/javascript": [
       "\n",
       "            setTimeout(function() {\n",
       "                var nbb_cell_id = 71;\n",
       "                var nbb_unformatted_code = \"mice_row = mice_df[mice_df.Mice == CURRENT_MICE]\\nmice_row\";\n",
       "                var nbb_formatted_code = \"mice_row = mice_df[mice_df.Mice == CURRENT_MICE]\\nmice_row\";\n",
       "                var nbb_cells = Jupyter.notebook.get_cells();\n",
       "                for (var i = 0; i < nbb_cells.length; ++i) {\n",
       "                    if (nbb_cells[i].input_prompt_number == nbb_cell_id) {\n",
       "                        if (nbb_cells[i].get_text() == nbb_unformatted_code) {\n",
       "                             nbb_cells[i].set_text(nbb_formatted_code);\n",
       "                        }\n",
       "                        break;\n",
       "                    }\n",
       "                }\n",
       "            }, 500);\n",
       "            "
      ],
      "text/plain": [
       "<IPython.core.display.Javascript object>"
      ]
     },
     "metadata": {},
     "output_type": "display_data"
    },
    {
     "data": {
      "application/javascript": [
       "\n",
       "            setTimeout(function() {\n",
       "                var nbb_cell_id = 71;\n",
       "                var nbb_unformatted_code = \"mice_row = mice_df[mice_df.Mice == CURRENT_MICE]\\nmice_row\";\n",
       "                var nbb_formatted_code = \"mice_row = mice_df[mice_df.Mice == CURRENT_MICE]\\nmice_row\";\n",
       "                var nbb_cells = Jupyter.notebook.get_cells();\n",
       "                for (var i = 0; i < nbb_cells.length; ++i) {\n",
       "                    if (nbb_cells[i].input_prompt_number == nbb_cell_id) {\n",
       "                        if (nbb_cells[i].get_text() == nbb_unformatted_code) {\n",
       "                             nbb_cells[i].set_text(nbb_formatted_code);\n",
       "                        }\n",
       "                        break;\n",
       "                    }\n",
       "                }\n",
       "            }, 500);\n",
       "            "
      ],
      "text/plain": [
       "<IPython.core.display.Javascript object>"
      ]
     },
     "metadata": {},
     "output_type": "display_data"
    },
    {
     "data": {
      "application/javascript": [
       "\n",
       "            setTimeout(function() {\n",
       "                var nbb_cell_id = 71;\n",
       "                var nbb_unformatted_code = \"mice_row = mice_df[mice_df.Mice == CURRENT_MICE]\\nmice_row\";\n",
       "                var nbb_formatted_code = \"mice_row = mice_df[mice_df.Mice == CURRENT_MICE]\\nmice_row\";\n",
       "                var nbb_cells = Jupyter.notebook.get_cells();\n",
       "                for (var i = 0; i < nbb_cells.length; ++i) {\n",
       "                    if (nbb_cells[i].input_prompt_number == nbb_cell_id) {\n",
       "                        if (nbb_cells[i].get_text() == nbb_unformatted_code) {\n",
       "                             nbb_cells[i].set_text(nbb_formatted_code);\n",
       "                        }\n",
       "                        break;\n",
       "                    }\n",
       "                }\n",
       "            }, 500);\n",
       "            "
      ],
      "text/plain": [
       "<IPython.core.display.Javascript object>"
      ]
     },
     "metadata": {},
     "output_type": "display_data"
    },
    {
     "data": {
      "application/javascript": [
       "\n",
       "            setTimeout(function() {\n",
       "                var nbb_cell_id = 71;\n",
       "                var nbb_unformatted_code = \"mice_row = mice_df[mice_df.Mice == CURRENT_MICE]\\nmice_row\";\n",
       "                var nbb_formatted_code = \"mice_row = mice_df[mice_df.Mice == CURRENT_MICE]\\nmice_row\";\n",
       "                var nbb_cells = Jupyter.notebook.get_cells();\n",
       "                for (var i = 0; i < nbb_cells.length; ++i) {\n",
       "                    if (nbb_cells[i].input_prompt_number == nbb_cell_id) {\n",
       "                        if (nbb_cells[i].get_text() == nbb_unformatted_code) {\n",
       "                             nbb_cells[i].set_text(nbb_formatted_code);\n",
       "                        }\n",
       "                        break;\n",
       "                    }\n",
       "                }\n",
       "            }, 500);\n",
       "            "
      ],
      "text/plain": [
       "<IPython.core.display.Javascript object>"
      ]
     },
     "metadata": {},
     "output_type": "display_data"
    },
    {
     "data": {
      "application/javascript": [
       "\n",
       "            setTimeout(function() {\n",
       "                var nbb_cell_id = 71;\n",
       "                var nbb_unformatted_code = \"mice_row = mice_df[mice_df.Mice == CURRENT_MICE]\\nmice_row\";\n",
       "                var nbb_formatted_code = \"mice_row = mice_df[mice_df.Mice == CURRENT_MICE]\\nmice_row\";\n",
       "                var nbb_cells = Jupyter.notebook.get_cells();\n",
       "                for (var i = 0; i < nbb_cells.length; ++i) {\n",
       "                    if (nbb_cells[i].input_prompt_number == nbb_cell_id) {\n",
       "                        if (nbb_cells[i].get_text() == nbb_unformatted_code) {\n",
       "                             nbb_cells[i].set_text(nbb_formatted_code);\n",
       "                        }\n",
       "                        break;\n",
       "                    }\n",
       "                }\n",
       "            }, 500);\n",
       "            "
      ],
      "text/plain": [
       "<IPython.core.display.Javascript object>"
      ]
     },
     "metadata": {},
     "output_type": "display_data"
    },
    {
     "data": {
      "application/javascript": [
       "\n",
       "            setTimeout(function() {\n",
       "                var nbb_cell_id = 71;\n",
       "                var nbb_unformatted_code = \"mice_row = mice_df[mice_df.Mice == CURRENT_MICE]\\nmice_row\";\n",
       "                var nbb_formatted_code = \"mice_row = mice_df[mice_df.Mice == CURRENT_MICE]\\nmice_row\";\n",
       "                var nbb_cells = Jupyter.notebook.get_cells();\n",
       "                for (var i = 0; i < nbb_cells.length; ++i) {\n",
       "                    if (nbb_cells[i].input_prompt_number == nbb_cell_id) {\n",
       "                        if (nbb_cells[i].get_text() == nbb_unformatted_code) {\n",
       "                             nbb_cells[i].set_text(nbb_formatted_code);\n",
       "                        }\n",
       "                        break;\n",
       "                    }\n",
       "                }\n",
       "            }, 500);\n",
       "            "
      ],
      "text/plain": [
       "<IPython.core.display.Javascript object>"
      ]
     },
     "metadata": {},
     "output_type": "display_data"
    }
   ],
   "source": [
    "mice_row = mice_df[mice_df.Mice == CURRENT_MICE]\n",
    "mice_row"
   ]
  },
  {
   "cell_type": "code",
   "execution_count": 72,
   "metadata": {},
   "outputs": [
    {
     "data": {
      "application/javascript": [
       "\n",
       "            setTimeout(function() {\n",
       "                var nbb_cell_id = 72;\n",
       "                var nbb_unformatted_code = \"def create_images_from_video(start_seconds: int, end_seconds: int, class_label: str):\\n\\n    if class_label not in labels:\\n        raise ValueError(\\\"Enter a valid class label!\\\")\\n    if CURRENT_MICE not in mice:\\n        raise ValueError(\\\"Enter a valid mice!\\\")\\n\\n    if not os.path.isdir(f\\\"{path_to_data}/{class_label}\\\"):\\n        os.makedirs(f\\\"{path_to_data}/{class_label}\\\")\\n        print(f\\\"made directory... at {path_to_data}/{class_label}\\\")\\n\\n    frame_rate = math.floor(mice_row[\\\"video_fps\\\"].item())\\n\\n    video_file_path = f\\\"{path_to_videos}/{CURRENT_MICE}.mp4\\\"\\n    videoCaptureInstance = cv2.VideoCapture(video_file_path)\\n\\n    start_frame = start_seconds * frame_rate\\n    seconds = start_seconds\\n    try:\\n        while seconds != end_seconds:\\n            ret, frame = videoCaptureInstance.read()\\n            if not ret:\\n                raise BufferError(\\n                    \\\"Unexpected error occurred with reading image due to bad video file!\\\"\\n                )\\n                break\\n\\n            # Record frame every 1 second\\n            if start_frame % frame_rate == 0:\\n                filename = f\\\"{CURRENT_MICE}-{uuid.uuid4()}\\\"\\n                filepath = f\\\"{path_to_data}/{class_label}/{filename}.jpg\\\"\\n                cv2.imwrite(filepath, frame)\\n\\n                print(\\n                    f\\\"Saved image as {filename} at timestamp {utils.sec_to_time(seconds)}\\\"\\n                )\\n                seconds += 1\\n            client_key_press = cv2.waitKey(1) & 0xFF\\n\\n            # end video stream by escape key\\n            if client_key_press == 27:\\n                break\\n            start_frame += 1\\n\\n        videoCaptureInstance.release()\\n\\n        if platform.system() == \\\"Darwin\\\":\\n            cv2.waitKey(1)\\n\\n    except cv2.error:\\n        print(\\n            \\\"Unexpected error occurred with reading image and error code is\\\",\\n            cv2.error.code,\\n        )\";\n",
       "                var nbb_formatted_code = \"def create_images_from_video(start_seconds: int, end_seconds: int, class_label: str):\\n\\n    if class_label not in labels:\\n        raise ValueError(\\\"Enter a valid class label!\\\")\\n    if CURRENT_MICE not in mice:\\n        raise ValueError(\\\"Enter a valid mice!\\\")\\n\\n    if not os.path.isdir(f\\\"{path_to_data}/{class_label}\\\"):\\n        os.makedirs(f\\\"{path_to_data}/{class_label}\\\")\\n        print(f\\\"made directory... at {path_to_data}/{class_label}\\\")\\n\\n    frame_rate = math.floor(mice_row[\\\"video_fps\\\"].item())\\n\\n    video_file_path = f\\\"{path_to_videos}/{CURRENT_MICE}.mp4\\\"\\n    videoCaptureInstance = cv2.VideoCapture(video_file_path)\\n\\n    start_frame = start_seconds * frame_rate\\n    seconds = start_seconds\\n    try:\\n        while seconds != end_seconds:\\n            ret, frame = videoCaptureInstance.read()\\n            if not ret:\\n                raise BufferError(\\n                    \\\"Unexpected error occurred with reading image due to bad video file!\\\"\\n                )\\n                break\\n\\n            # Record frame every 1 second\\n            if start_frame % frame_rate == 0:\\n                filename = f\\\"{CURRENT_MICE}-{uuid.uuid4()}\\\"\\n                filepath = f\\\"{path_to_data}/{class_label}/{filename}.jpg\\\"\\n                cv2.imwrite(filepath, frame)\\n\\n                print(\\n                    f\\\"Saved image as {filename} at timestamp {utils.sec_to_time(seconds)}\\\"\\n                )\\n                seconds += 1\\n            client_key_press = cv2.waitKey(1) & 0xFF\\n\\n            # end video stream by escape key\\n            if client_key_press == 27:\\n                break\\n            start_frame += 1\\n\\n        videoCaptureInstance.release()\\n\\n        if platform.system() == \\\"Darwin\\\":\\n            cv2.waitKey(1)\\n\\n    except cv2.error:\\n        print(\\n            \\\"Unexpected error occurred with reading image and error code is\\\",\\n            cv2.error.code,\\n        )\";\n",
       "                var nbb_cells = Jupyter.notebook.get_cells();\n",
       "                for (var i = 0; i < nbb_cells.length; ++i) {\n",
       "                    if (nbb_cells[i].input_prompt_number == nbb_cell_id) {\n",
       "                        if (nbb_cells[i].get_text() == nbb_unformatted_code) {\n",
       "                             nbb_cells[i].set_text(nbb_formatted_code);\n",
       "                        }\n",
       "                        break;\n",
       "                    }\n",
       "                }\n",
       "            }, 500);\n",
       "            "
      ],
      "text/plain": [
       "<IPython.core.display.Javascript object>"
      ]
     },
     "metadata": {},
     "output_type": "display_data"
    },
    {
     "data": {
      "application/javascript": [
       "\n",
       "            setTimeout(function() {\n",
       "                var nbb_cell_id = 72;\n",
       "                var nbb_unformatted_code = \"def create_images_from_video(start_seconds: int, end_seconds: int, class_label: str):\\n\\n    if class_label not in labels:\\n        raise ValueError(\\\"Enter a valid class label!\\\")\\n    if CURRENT_MICE not in mice:\\n        raise ValueError(\\\"Enter a valid mice!\\\")\\n\\n    if not os.path.isdir(f\\\"{path_to_data}/{class_label}\\\"):\\n        os.makedirs(f\\\"{path_to_data}/{class_label}\\\")\\n        print(f\\\"made directory... at {path_to_data}/{class_label}\\\")\\n\\n    frame_rate = math.floor(mice_row[\\\"video_fps\\\"].item())\\n\\n    video_file_path = f\\\"{path_to_videos}/{CURRENT_MICE}.mp4\\\"\\n    videoCaptureInstance = cv2.VideoCapture(video_file_path)\\n\\n    start_frame = start_seconds * frame_rate\\n    seconds = start_seconds\\n    try:\\n        while seconds != end_seconds:\\n            ret, frame = videoCaptureInstance.read()\\n            if not ret:\\n                raise BufferError(\\n                    \\\"Unexpected error occurred with reading image due to bad video file!\\\"\\n                )\\n                break\\n\\n            # Record frame every 1 second\\n            if start_frame % frame_rate == 0:\\n                filename = f\\\"{CURRENT_MICE}-{uuid.uuid4()}\\\"\\n                filepath = f\\\"{path_to_data}/{class_label}/{filename}.jpg\\\"\\n                cv2.imwrite(filepath, frame)\\n\\n                print(\\n                    f\\\"Saved image as {filename} at timestamp {utils.sec_to_time(seconds)}\\\"\\n                )\\n                seconds += 1\\n            client_key_press = cv2.waitKey(1) & 0xFF\\n\\n            # end video stream by escape key\\n            if client_key_press == 27:\\n                break\\n            start_frame += 1\\n\\n        videoCaptureInstance.release()\\n\\n        if platform.system() == \\\"Darwin\\\":\\n            cv2.waitKey(1)\\n\\n    except cv2.error:\\n        print(\\n            \\\"Unexpected error occurred with reading image and error code is\\\",\\n            cv2.error.code,\\n        )\";\n",
       "                var nbb_formatted_code = \"def create_images_from_video(start_seconds: int, end_seconds: int, class_label: str):\\n\\n    if class_label not in labels:\\n        raise ValueError(\\\"Enter a valid class label!\\\")\\n    if CURRENT_MICE not in mice:\\n        raise ValueError(\\\"Enter a valid mice!\\\")\\n\\n    if not os.path.isdir(f\\\"{path_to_data}/{class_label}\\\"):\\n        os.makedirs(f\\\"{path_to_data}/{class_label}\\\")\\n        print(f\\\"made directory... at {path_to_data}/{class_label}\\\")\\n\\n    frame_rate = math.floor(mice_row[\\\"video_fps\\\"].item())\\n\\n    video_file_path = f\\\"{path_to_videos}/{CURRENT_MICE}.mp4\\\"\\n    videoCaptureInstance = cv2.VideoCapture(video_file_path)\\n\\n    start_frame = start_seconds * frame_rate\\n    seconds = start_seconds\\n    try:\\n        while seconds != end_seconds:\\n            ret, frame = videoCaptureInstance.read()\\n            if not ret:\\n                raise BufferError(\\n                    \\\"Unexpected error occurred with reading image due to bad video file!\\\"\\n                )\\n                break\\n\\n            # Record frame every 1 second\\n            if start_frame % frame_rate == 0:\\n                filename = f\\\"{CURRENT_MICE}-{uuid.uuid4()}\\\"\\n                filepath = f\\\"{path_to_data}/{class_label}/{filename}.jpg\\\"\\n                cv2.imwrite(filepath, frame)\\n\\n                print(\\n                    f\\\"Saved image as {filename} at timestamp {utils.sec_to_time(seconds)}\\\"\\n                )\\n                seconds += 1\\n            client_key_press = cv2.waitKey(1) & 0xFF\\n\\n            # end video stream by escape key\\n            if client_key_press == 27:\\n                break\\n            start_frame += 1\\n\\n        videoCaptureInstance.release()\\n\\n        if platform.system() == \\\"Darwin\\\":\\n            cv2.waitKey(1)\\n\\n    except cv2.error:\\n        print(\\n            \\\"Unexpected error occurred with reading image and error code is\\\",\\n            cv2.error.code,\\n        )\";\n",
       "                var nbb_cells = Jupyter.notebook.get_cells();\n",
       "                for (var i = 0; i < nbb_cells.length; ++i) {\n",
       "                    if (nbb_cells[i].input_prompt_number == nbb_cell_id) {\n",
       "                        if (nbb_cells[i].get_text() == nbb_unformatted_code) {\n",
       "                             nbb_cells[i].set_text(nbb_formatted_code);\n",
       "                        }\n",
       "                        break;\n",
       "                    }\n",
       "                }\n",
       "            }, 500);\n",
       "            "
      ],
      "text/plain": [
       "<IPython.core.display.Javascript object>"
      ]
     },
     "metadata": {},
     "output_type": "display_data"
    },
    {
     "data": {
      "application/javascript": [
       "\n",
       "            setTimeout(function() {\n",
       "                var nbb_cell_id = 72;\n",
       "                var nbb_unformatted_code = \"def create_images_from_video(start_seconds: int, end_seconds: int, class_label: str):\\n\\n    if class_label not in labels:\\n        raise ValueError(\\\"Enter a valid class label!\\\")\\n    if CURRENT_MICE not in mice:\\n        raise ValueError(\\\"Enter a valid mice!\\\")\\n\\n    if not os.path.isdir(f\\\"{path_to_data}/{class_label}\\\"):\\n        os.makedirs(f\\\"{path_to_data}/{class_label}\\\")\\n        print(f\\\"made directory... at {path_to_data}/{class_label}\\\")\\n\\n    frame_rate = math.floor(mice_row[\\\"video_fps\\\"].item())\\n\\n    video_file_path = f\\\"{path_to_videos}/{CURRENT_MICE}.mp4\\\"\\n    videoCaptureInstance = cv2.VideoCapture(video_file_path)\\n\\n    start_frame = start_seconds * frame_rate\\n    seconds = start_seconds\\n    try:\\n        while seconds != end_seconds:\\n            ret, frame = videoCaptureInstance.read()\\n            if not ret:\\n                raise BufferError(\\n                    \\\"Unexpected error occurred with reading image due to bad video file!\\\"\\n                )\\n                break\\n\\n            # Record frame every 1 second\\n            if start_frame % frame_rate == 0:\\n                filename = f\\\"{CURRENT_MICE}-{uuid.uuid4()}\\\"\\n                filepath = f\\\"{path_to_data}/{class_label}/{filename}.jpg\\\"\\n                cv2.imwrite(filepath, frame)\\n\\n                print(\\n                    f\\\"Saved image as {filename} at timestamp {utils.sec_to_time(seconds)}\\\"\\n                )\\n                seconds += 1\\n            client_key_press = cv2.waitKey(1) & 0xFF\\n\\n            # end video stream by escape key\\n            if client_key_press == 27:\\n                break\\n            start_frame += 1\\n\\n        videoCaptureInstance.release()\\n\\n        if platform.system() == \\\"Darwin\\\":\\n            cv2.waitKey(1)\\n\\n    except cv2.error:\\n        print(\\n            \\\"Unexpected error occurred with reading image and error code is\\\",\\n            cv2.error.code,\\n        )\";\n",
       "                var nbb_formatted_code = \"def create_images_from_video(start_seconds: int, end_seconds: int, class_label: str):\\n\\n    if class_label not in labels:\\n        raise ValueError(\\\"Enter a valid class label!\\\")\\n    if CURRENT_MICE not in mice:\\n        raise ValueError(\\\"Enter a valid mice!\\\")\\n\\n    if not os.path.isdir(f\\\"{path_to_data}/{class_label}\\\"):\\n        os.makedirs(f\\\"{path_to_data}/{class_label}\\\")\\n        print(f\\\"made directory... at {path_to_data}/{class_label}\\\")\\n\\n    frame_rate = math.floor(mice_row[\\\"video_fps\\\"].item())\\n\\n    video_file_path = f\\\"{path_to_videos}/{CURRENT_MICE}.mp4\\\"\\n    videoCaptureInstance = cv2.VideoCapture(video_file_path)\\n\\n    start_frame = start_seconds * frame_rate\\n    seconds = start_seconds\\n    try:\\n        while seconds != end_seconds:\\n            ret, frame = videoCaptureInstance.read()\\n            if not ret:\\n                raise BufferError(\\n                    \\\"Unexpected error occurred with reading image due to bad video file!\\\"\\n                )\\n                break\\n\\n            # Record frame every 1 second\\n            if start_frame % frame_rate == 0:\\n                filename = f\\\"{CURRENT_MICE}-{uuid.uuid4()}\\\"\\n                filepath = f\\\"{path_to_data}/{class_label}/{filename}.jpg\\\"\\n                cv2.imwrite(filepath, frame)\\n\\n                print(\\n                    f\\\"Saved image as {filename} at timestamp {utils.sec_to_time(seconds)}\\\"\\n                )\\n                seconds += 1\\n            client_key_press = cv2.waitKey(1) & 0xFF\\n\\n            # end video stream by escape key\\n            if client_key_press == 27:\\n                break\\n            start_frame += 1\\n\\n        videoCaptureInstance.release()\\n\\n        if platform.system() == \\\"Darwin\\\":\\n            cv2.waitKey(1)\\n\\n    except cv2.error:\\n        print(\\n            \\\"Unexpected error occurred with reading image and error code is\\\",\\n            cv2.error.code,\\n        )\";\n",
       "                var nbb_cells = Jupyter.notebook.get_cells();\n",
       "                for (var i = 0; i < nbb_cells.length; ++i) {\n",
       "                    if (nbb_cells[i].input_prompt_number == nbb_cell_id) {\n",
       "                        if (nbb_cells[i].get_text() == nbb_unformatted_code) {\n",
       "                             nbb_cells[i].set_text(nbb_formatted_code);\n",
       "                        }\n",
       "                        break;\n",
       "                    }\n",
       "                }\n",
       "            }, 500);\n",
       "            "
      ],
      "text/plain": [
       "<IPython.core.display.Javascript object>"
      ]
     },
     "metadata": {},
     "output_type": "display_data"
    },
    {
     "data": {
      "application/javascript": [
       "\n",
       "            setTimeout(function() {\n",
       "                var nbb_cell_id = 72;\n",
       "                var nbb_unformatted_code = \"def create_images_from_video(start_seconds: int, end_seconds: int, class_label: str):\\n\\n    if class_label not in labels:\\n        raise ValueError(\\\"Enter a valid class label!\\\")\\n    if CURRENT_MICE not in mice:\\n        raise ValueError(\\\"Enter a valid mice!\\\")\\n\\n    if not os.path.isdir(f\\\"{path_to_data}/{class_label}\\\"):\\n        os.makedirs(f\\\"{path_to_data}/{class_label}\\\")\\n        print(f\\\"made directory... at {path_to_data}/{class_label}\\\")\\n\\n    frame_rate = math.floor(mice_row[\\\"video_fps\\\"].item())\\n\\n    video_file_path = f\\\"{path_to_videos}/{CURRENT_MICE}.mp4\\\"\\n    videoCaptureInstance = cv2.VideoCapture(video_file_path)\\n\\n    start_frame = start_seconds * frame_rate\\n    seconds = start_seconds\\n    try:\\n        while seconds != end_seconds:\\n            ret, frame = videoCaptureInstance.read()\\n            if not ret:\\n                raise BufferError(\\n                    \\\"Unexpected error occurred with reading image due to bad video file!\\\"\\n                )\\n                break\\n\\n            # Record frame every 1 second\\n            if start_frame % frame_rate == 0:\\n                filename = f\\\"{CURRENT_MICE}-{uuid.uuid4()}\\\"\\n                filepath = f\\\"{path_to_data}/{class_label}/{filename}.jpg\\\"\\n                cv2.imwrite(filepath, frame)\\n\\n                print(\\n                    f\\\"Saved image as {filename} at timestamp {utils.sec_to_time(seconds)}\\\"\\n                )\\n                seconds += 1\\n            client_key_press = cv2.waitKey(1) & 0xFF\\n\\n            # end video stream by escape key\\n            if client_key_press == 27:\\n                break\\n            start_frame += 1\\n\\n        videoCaptureInstance.release()\\n\\n        if platform.system() == \\\"Darwin\\\":\\n            cv2.waitKey(1)\\n\\n    except cv2.error:\\n        print(\\n            \\\"Unexpected error occurred with reading image and error code is\\\",\\n            cv2.error.code,\\n        )\";\n",
       "                var nbb_formatted_code = \"def create_images_from_video(start_seconds: int, end_seconds: int, class_label: str):\\n\\n    if class_label not in labels:\\n        raise ValueError(\\\"Enter a valid class label!\\\")\\n    if CURRENT_MICE not in mice:\\n        raise ValueError(\\\"Enter a valid mice!\\\")\\n\\n    if not os.path.isdir(f\\\"{path_to_data}/{class_label}\\\"):\\n        os.makedirs(f\\\"{path_to_data}/{class_label}\\\")\\n        print(f\\\"made directory... at {path_to_data}/{class_label}\\\")\\n\\n    frame_rate = math.floor(mice_row[\\\"video_fps\\\"].item())\\n\\n    video_file_path = f\\\"{path_to_videos}/{CURRENT_MICE}.mp4\\\"\\n    videoCaptureInstance = cv2.VideoCapture(video_file_path)\\n\\n    start_frame = start_seconds * frame_rate\\n    seconds = start_seconds\\n    try:\\n        while seconds != end_seconds:\\n            ret, frame = videoCaptureInstance.read()\\n            if not ret:\\n                raise BufferError(\\n                    \\\"Unexpected error occurred with reading image due to bad video file!\\\"\\n                )\\n                break\\n\\n            # Record frame every 1 second\\n            if start_frame % frame_rate == 0:\\n                filename = f\\\"{CURRENT_MICE}-{uuid.uuid4()}\\\"\\n                filepath = f\\\"{path_to_data}/{class_label}/{filename}.jpg\\\"\\n                cv2.imwrite(filepath, frame)\\n\\n                print(\\n                    f\\\"Saved image as {filename} at timestamp {utils.sec_to_time(seconds)}\\\"\\n                )\\n                seconds += 1\\n            client_key_press = cv2.waitKey(1) & 0xFF\\n\\n            # end video stream by escape key\\n            if client_key_press == 27:\\n                break\\n            start_frame += 1\\n\\n        videoCaptureInstance.release()\\n\\n        if platform.system() == \\\"Darwin\\\":\\n            cv2.waitKey(1)\\n\\n    except cv2.error:\\n        print(\\n            \\\"Unexpected error occurred with reading image and error code is\\\",\\n            cv2.error.code,\\n        )\";\n",
       "                var nbb_cells = Jupyter.notebook.get_cells();\n",
       "                for (var i = 0; i < nbb_cells.length; ++i) {\n",
       "                    if (nbb_cells[i].input_prompt_number == nbb_cell_id) {\n",
       "                        if (nbb_cells[i].get_text() == nbb_unformatted_code) {\n",
       "                             nbb_cells[i].set_text(nbb_formatted_code);\n",
       "                        }\n",
       "                        break;\n",
       "                    }\n",
       "                }\n",
       "            }, 500);\n",
       "            "
      ],
      "text/plain": [
       "<IPython.core.display.Javascript object>"
      ]
     },
     "metadata": {},
     "output_type": "display_data"
    },
    {
     "data": {
      "application/javascript": [
       "\n",
       "            setTimeout(function() {\n",
       "                var nbb_cell_id = 72;\n",
       "                var nbb_unformatted_code = \"def create_images_from_video(start_seconds: int, end_seconds: int, class_label: str):\\n\\n    if class_label not in labels:\\n        raise ValueError(\\\"Enter a valid class label!\\\")\\n    if CURRENT_MICE not in mice:\\n        raise ValueError(\\\"Enter a valid mice!\\\")\\n\\n    if not os.path.isdir(f\\\"{path_to_data}/{class_label}\\\"):\\n        os.makedirs(f\\\"{path_to_data}/{class_label}\\\")\\n        print(f\\\"made directory... at {path_to_data}/{class_label}\\\")\\n\\n    frame_rate = math.floor(mice_row[\\\"video_fps\\\"].item())\\n\\n    video_file_path = f\\\"{path_to_videos}/{CURRENT_MICE}.mp4\\\"\\n    videoCaptureInstance = cv2.VideoCapture(video_file_path)\\n\\n    start_frame = start_seconds * frame_rate\\n    seconds = start_seconds\\n    try:\\n        while seconds != end_seconds:\\n            ret, frame = videoCaptureInstance.read()\\n            if not ret:\\n                raise BufferError(\\n                    \\\"Unexpected error occurred with reading image due to bad video file!\\\"\\n                )\\n                break\\n\\n            # Record frame every 1 second\\n            if start_frame % frame_rate == 0:\\n                filename = f\\\"{CURRENT_MICE}-{uuid.uuid4()}\\\"\\n                filepath = f\\\"{path_to_data}/{class_label}/{filename}.jpg\\\"\\n                cv2.imwrite(filepath, frame)\\n\\n                print(\\n                    f\\\"Saved image as {filename} at timestamp {utils.sec_to_time(seconds)}\\\"\\n                )\\n                seconds += 1\\n            client_key_press = cv2.waitKey(1) & 0xFF\\n\\n            # end video stream by escape key\\n            if client_key_press == 27:\\n                break\\n            start_frame += 1\\n\\n        videoCaptureInstance.release()\\n\\n        if platform.system() == \\\"Darwin\\\":\\n            cv2.waitKey(1)\\n\\n    except cv2.error:\\n        print(\\n            \\\"Unexpected error occurred with reading image and error code is\\\",\\n            cv2.error.code,\\n        )\";\n",
       "                var nbb_formatted_code = \"def create_images_from_video(start_seconds: int, end_seconds: int, class_label: str):\\n\\n    if class_label not in labels:\\n        raise ValueError(\\\"Enter a valid class label!\\\")\\n    if CURRENT_MICE not in mice:\\n        raise ValueError(\\\"Enter a valid mice!\\\")\\n\\n    if not os.path.isdir(f\\\"{path_to_data}/{class_label}\\\"):\\n        os.makedirs(f\\\"{path_to_data}/{class_label}\\\")\\n        print(f\\\"made directory... at {path_to_data}/{class_label}\\\")\\n\\n    frame_rate = math.floor(mice_row[\\\"video_fps\\\"].item())\\n\\n    video_file_path = f\\\"{path_to_videos}/{CURRENT_MICE}.mp4\\\"\\n    videoCaptureInstance = cv2.VideoCapture(video_file_path)\\n\\n    start_frame = start_seconds * frame_rate\\n    seconds = start_seconds\\n    try:\\n        while seconds != end_seconds:\\n            ret, frame = videoCaptureInstance.read()\\n            if not ret:\\n                raise BufferError(\\n                    \\\"Unexpected error occurred with reading image due to bad video file!\\\"\\n                )\\n                break\\n\\n            # Record frame every 1 second\\n            if start_frame % frame_rate == 0:\\n                filename = f\\\"{CURRENT_MICE}-{uuid.uuid4()}\\\"\\n                filepath = f\\\"{path_to_data}/{class_label}/{filename}.jpg\\\"\\n                cv2.imwrite(filepath, frame)\\n\\n                print(\\n                    f\\\"Saved image as {filename} at timestamp {utils.sec_to_time(seconds)}\\\"\\n                )\\n                seconds += 1\\n            client_key_press = cv2.waitKey(1) & 0xFF\\n\\n            # end video stream by escape key\\n            if client_key_press == 27:\\n                break\\n            start_frame += 1\\n\\n        videoCaptureInstance.release()\\n\\n        if platform.system() == \\\"Darwin\\\":\\n            cv2.waitKey(1)\\n\\n    except cv2.error:\\n        print(\\n            \\\"Unexpected error occurred with reading image and error code is\\\",\\n            cv2.error.code,\\n        )\";\n",
       "                var nbb_cells = Jupyter.notebook.get_cells();\n",
       "                for (var i = 0; i < nbb_cells.length; ++i) {\n",
       "                    if (nbb_cells[i].input_prompt_number == nbb_cell_id) {\n",
       "                        if (nbb_cells[i].get_text() == nbb_unformatted_code) {\n",
       "                             nbb_cells[i].set_text(nbb_formatted_code);\n",
       "                        }\n",
       "                        break;\n",
       "                    }\n",
       "                }\n",
       "            }, 500);\n",
       "            "
      ],
      "text/plain": [
       "<IPython.core.display.Javascript object>"
      ]
     },
     "metadata": {},
     "output_type": "display_data"
    },
    {
     "data": {
      "application/javascript": [
       "\n",
       "            setTimeout(function() {\n",
       "                var nbb_cell_id = 72;\n",
       "                var nbb_unformatted_code = \"def create_images_from_video(start_seconds: int, end_seconds: int, class_label: str):\\n\\n    if class_label not in labels:\\n        raise ValueError(\\\"Enter a valid class label!\\\")\\n    if CURRENT_MICE not in mice:\\n        raise ValueError(\\\"Enter a valid mice!\\\")\\n\\n    if not os.path.isdir(f\\\"{path_to_data}/{class_label}\\\"):\\n        os.makedirs(f\\\"{path_to_data}/{class_label}\\\")\\n        print(f\\\"made directory... at {path_to_data}/{class_label}\\\")\\n\\n    frame_rate = math.floor(mice_row[\\\"video_fps\\\"].item())\\n\\n    video_file_path = f\\\"{path_to_videos}/{CURRENT_MICE}.mp4\\\"\\n    videoCaptureInstance = cv2.VideoCapture(video_file_path)\\n\\n    start_frame = start_seconds * frame_rate\\n    seconds = start_seconds\\n    try:\\n        while seconds != end_seconds:\\n            ret, frame = videoCaptureInstance.read()\\n            if not ret:\\n                raise BufferError(\\n                    \\\"Unexpected error occurred with reading image due to bad video file!\\\"\\n                )\\n                break\\n\\n            # Record frame every 1 second\\n            if start_frame % frame_rate == 0:\\n                filename = f\\\"{CURRENT_MICE}-{uuid.uuid4()}\\\"\\n                filepath = f\\\"{path_to_data}/{class_label}/{filename}.jpg\\\"\\n                cv2.imwrite(filepath, frame)\\n\\n                print(\\n                    f\\\"Saved image as {filename} at timestamp {utils.sec_to_time(seconds)}\\\"\\n                )\\n                seconds += 1\\n            client_key_press = cv2.waitKey(1) & 0xFF\\n\\n            # end video stream by escape key\\n            if client_key_press == 27:\\n                break\\n            start_frame += 1\\n\\n        videoCaptureInstance.release()\\n\\n        if platform.system() == \\\"Darwin\\\":\\n            cv2.waitKey(1)\\n\\n    except cv2.error:\\n        print(\\n            \\\"Unexpected error occurred with reading image and error code is\\\",\\n            cv2.error.code,\\n        )\";\n",
       "                var nbb_formatted_code = \"def create_images_from_video(start_seconds: int, end_seconds: int, class_label: str):\\n\\n    if class_label not in labels:\\n        raise ValueError(\\\"Enter a valid class label!\\\")\\n    if CURRENT_MICE not in mice:\\n        raise ValueError(\\\"Enter a valid mice!\\\")\\n\\n    if not os.path.isdir(f\\\"{path_to_data}/{class_label}\\\"):\\n        os.makedirs(f\\\"{path_to_data}/{class_label}\\\")\\n        print(f\\\"made directory... at {path_to_data}/{class_label}\\\")\\n\\n    frame_rate = math.floor(mice_row[\\\"video_fps\\\"].item())\\n\\n    video_file_path = f\\\"{path_to_videos}/{CURRENT_MICE}.mp4\\\"\\n    videoCaptureInstance = cv2.VideoCapture(video_file_path)\\n\\n    start_frame = start_seconds * frame_rate\\n    seconds = start_seconds\\n    try:\\n        while seconds != end_seconds:\\n            ret, frame = videoCaptureInstance.read()\\n            if not ret:\\n                raise BufferError(\\n                    \\\"Unexpected error occurred with reading image due to bad video file!\\\"\\n                )\\n                break\\n\\n            # Record frame every 1 second\\n            if start_frame % frame_rate == 0:\\n                filename = f\\\"{CURRENT_MICE}-{uuid.uuid4()}\\\"\\n                filepath = f\\\"{path_to_data}/{class_label}/{filename}.jpg\\\"\\n                cv2.imwrite(filepath, frame)\\n\\n                print(\\n                    f\\\"Saved image as {filename} at timestamp {utils.sec_to_time(seconds)}\\\"\\n                )\\n                seconds += 1\\n            client_key_press = cv2.waitKey(1) & 0xFF\\n\\n            # end video stream by escape key\\n            if client_key_press == 27:\\n                break\\n            start_frame += 1\\n\\n        videoCaptureInstance.release()\\n\\n        if platform.system() == \\\"Darwin\\\":\\n            cv2.waitKey(1)\\n\\n    except cv2.error:\\n        print(\\n            \\\"Unexpected error occurred with reading image and error code is\\\",\\n            cv2.error.code,\\n        )\";\n",
       "                var nbb_cells = Jupyter.notebook.get_cells();\n",
       "                for (var i = 0; i < nbb_cells.length; ++i) {\n",
       "                    if (nbb_cells[i].input_prompt_number == nbb_cell_id) {\n",
       "                        if (nbb_cells[i].get_text() == nbb_unformatted_code) {\n",
       "                             nbb_cells[i].set_text(nbb_formatted_code);\n",
       "                        }\n",
       "                        break;\n",
       "                    }\n",
       "                }\n",
       "            }, 500);\n",
       "            "
      ],
      "text/plain": [
       "<IPython.core.display.Javascript object>"
      ]
     },
     "metadata": {},
     "output_type": "display_data"
    }
   ],
   "source": [
    "def create_images_from_video(start_seconds: int, end_seconds: int, class_label: str):\n",
    "\n",
    "    if class_label not in labels:\n",
    "        raise ValueError(\"Enter a valid class label!\")\n",
    "    if CURRENT_MICE not in mice:\n",
    "        raise ValueError(\"Enter a valid mice!\")\n",
    "\n",
    "    if not os.path.isdir(f\"{path_to_data}/{class_label}\"):\n",
    "        os.mkdir(f\"{path_to_data}/{class_label}\")\n",
    "        print(f\"made directory... at {path_to_data}/{class_label}\")\n",
    "\n",
    "    frame_rate = math.floor(mice_row[\"video_fps\"].item())\n",
    "\n",
    "    video_file_path = f\"{path_to_videos}/{CURRENT_MICE}.mp4\"\n",
    "    videoCaptureInstance = cv2.VideoCapture(video_file_path)\n",
    "\n",
    "    start_frame = start_seconds * frame_rate\n",
    "    seconds = start_seconds\n",
    "    try:\n",
    "        while seconds != end_seconds:\n",
    "            ret, frame = videoCaptureInstance.read()\n",
    "            if not ret:\n",
    "                raise BufferError(\n",
    "                    \"Unexpected error occurred with reading image due to bad video file!\"\n",
    "                )\n",
    "                break\n",
    "\n",
    "            # Record frame every 1 second\n",
    "            if start_frame % frame_rate == 0:\n",
    "                filename = f\"{CURRENT_MICE}-{uuid.uuid4()}\"\n",
    "                filepath = f\"{path_to_data}/{class_label}/{filename}.jpg\"\n",
    "                cv2.imwrite(filepath, frame)\n",
    "\n",
    "                print(\n",
    "                    f\"Saved image as {filename} at timestamp {utils.sec_to_time(seconds)}\"\n",
    "                )\n",
    "                seconds += 1\n",
    "            client_key_press = cv2.waitKey(1) & 0xFF\n",
    "\n",
    "            # end video stream by escape key\n",
    "            if client_key_press == 27:\n",
    "                break\n",
    "            start_frame += 1\n",
    "\n",
    "        videoCaptureInstance.release()\n",
    "\n",
    "        if platform.system() == \"Darwin\":\n",
    "            cv2.waitKey(1)\n",
    "\n",
    "    except cv2.error:\n",
    "        print(\n",
    "            \"Unexpected error occurred with reading image and error code is\",\n",
    "            cv2.error.code,\n",
    "        )"
   ]
  },
  {
   "cell_type": "code",
   "execution_count": 73,
   "metadata": {},
   "outputs": [
    {
     "data": {
      "application/javascript": [
       "\n",
       "            setTimeout(function() {\n",
       "                var nbb_cell_id = 73;\n",
       "                var nbb_unformatted_code = \"def split_train_test(class_label: str, split_ratio: float):\\n\\n    if class_label not in labels:\\n        raise ValueError(\\\"Enter a valid class label!\\\")\\n\\n    split_ratio = split_ratio\\n    all_mice_files = os.listdir(f\\\"{path_to_data}/{class_label}\\\")\\n    random.shuffle(all_mice_files)\\n    train_size = len(all_mice_files) * split_ratio\\n    files_moved = 0\\n\\n    for mice in all_mice_files:\\n        if files_moved < train_size:\\n            shutil.move(\\n                f\\\"{path_to_data}/{class_label}/{mice}\\\",\\n                f\\\"{path_to_data}/train/{class_label}\\\",\\n            )\\n        else:\\n            shutil.move(\\n                f\\\"{path_to_data}/{class_label}/{mice}\\\",\\n                f\\\"{path_to_data}/test/{class_label}\\\",\\n            )\\n        files_moved += 1\\n    if len(os.listdir(f\\\"{path_to_data}/{class_label}\\\")) == 0:\\n        shutil.rmtree(f\\\"{path_to_data}/{class_label}\\\")\";\n",
       "                var nbb_formatted_code = \"def split_train_test(class_label: str, split_ratio: float):\\n\\n    if class_label not in labels:\\n        raise ValueError(\\\"Enter a valid class label!\\\")\\n\\n    split_ratio = split_ratio\\n    all_mice_files = os.listdir(f\\\"{path_to_data}/{class_label}\\\")\\n    random.shuffle(all_mice_files)\\n    train_size = len(all_mice_files) * split_ratio\\n    files_moved = 0\\n\\n    for mice in all_mice_files:\\n        if files_moved < train_size:\\n            shutil.move(\\n                f\\\"{path_to_data}/{class_label}/{mice}\\\",\\n                f\\\"{path_to_data}/train/{class_label}\\\",\\n            )\\n        else:\\n            shutil.move(\\n                f\\\"{path_to_data}/{class_label}/{mice}\\\",\\n                f\\\"{path_to_data}/test/{class_label}\\\",\\n            )\\n        files_moved += 1\\n    if len(os.listdir(f\\\"{path_to_data}/{class_label}\\\")) == 0:\\n        shutil.rmtree(f\\\"{path_to_data}/{class_label}\\\")\";\n",
       "                var nbb_cells = Jupyter.notebook.get_cells();\n",
       "                for (var i = 0; i < nbb_cells.length; ++i) {\n",
       "                    if (nbb_cells[i].input_prompt_number == nbb_cell_id) {\n",
       "                        if (nbb_cells[i].get_text() == nbb_unformatted_code) {\n",
       "                             nbb_cells[i].set_text(nbb_formatted_code);\n",
       "                        }\n",
       "                        break;\n",
       "                    }\n",
       "                }\n",
       "            }, 500);\n",
       "            "
      ],
      "text/plain": [
       "<IPython.core.display.Javascript object>"
      ]
     },
     "metadata": {},
     "output_type": "display_data"
    },
    {
     "data": {
      "application/javascript": [
       "\n",
       "            setTimeout(function() {\n",
       "                var nbb_cell_id = 73;\n",
       "                var nbb_unformatted_code = \"def split_train_test(class_label: str, split_ratio: float):\\n\\n    if class_label not in labels:\\n        raise ValueError(\\\"Enter a valid class label!\\\")\\n\\n    split_ratio = split_ratio\\n    all_mice_files = os.listdir(f\\\"{path_to_data}/{class_label}\\\")\\n    random.shuffle(all_mice_files)\\n    train_size = len(all_mice_files) * split_ratio\\n    files_moved = 0\\n\\n    for mice in all_mice_files:\\n        if files_moved < train_size:\\n            shutil.move(\\n                f\\\"{path_to_data}/{class_label}/{mice}\\\",\\n                f\\\"{path_to_data}/train/{class_label}\\\",\\n            )\\n        else:\\n            shutil.move(\\n                f\\\"{path_to_data}/{class_label}/{mice}\\\",\\n                f\\\"{path_to_data}/test/{class_label}\\\",\\n            )\\n        files_moved += 1\\n    if len(os.listdir(f\\\"{path_to_data}/{class_label}\\\")) == 0:\\n        shutil.rmtree(f\\\"{path_to_data}/{class_label}\\\")\";\n",
       "                var nbb_formatted_code = \"def split_train_test(class_label: str, split_ratio: float):\\n\\n    if class_label not in labels:\\n        raise ValueError(\\\"Enter a valid class label!\\\")\\n\\n    split_ratio = split_ratio\\n    all_mice_files = os.listdir(f\\\"{path_to_data}/{class_label}\\\")\\n    random.shuffle(all_mice_files)\\n    train_size = len(all_mice_files) * split_ratio\\n    files_moved = 0\\n\\n    for mice in all_mice_files:\\n        if files_moved < train_size:\\n            shutil.move(\\n                f\\\"{path_to_data}/{class_label}/{mice}\\\",\\n                f\\\"{path_to_data}/train/{class_label}\\\",\\n            )\\n        else:\\n            shutil.move(\\n                f\\\"{path_to_data}/{class_label}/{mice}\\\",\\n                f\\\"{path_to_data}/test/{class_label}\\\",\\n            )\\n        files_moved += 1\\n    if len(os.listdir(f\\\"{path_to_data}/{class_label}\\\")) == 0:\\n        shutil.rmtree(f\\\"{path_to_data}/{class_label}\\\")\";\n",
       "                var nbb_cells = Jupyter.notebook.get_cells();\n",
       "                for (var i = 0; i < nbb_cells.length; ++i) {\n",
       "                    if (nbb_cells[i].input_prompt_number == nbb_cell_id) {\n",
       "                        if (nbb_cells[i].get_text() == nbb_unformatted_code) {\n",
       "                             nbb_cells[i].set_text(nbb_formatted_code);\n",
       "                        }\n",
       "                        break;\n",
       "                    }\n",
       "                }\n",
       "            }, 500);\n",
       "            "
      ],
      "text/plain": [
       "<IPython.core.display.Javascript object>"
      ]
     },
     "metadata": {},
     "output_type": "display_data"
    },
    {
     "data": {
      "application/javascript": [
       "\n",
       "            setTimeout(function() {\n",
       "                var nbb_cell_id = 73;\n",
       "                var nbb_unformatted_code = \"def split_train_test(class_label: str, split_ratio: float):\\n\\n    if class_label not in labels:\\n        raise ValueError(\\\"Enter a valid class label!\\\")\\n\\n    split_ratio = split_ratio\\n    all_mice_files = os.listdir(f\\\"{path_to_data}/{class_label}\\\")\\n    random.shuffle(all_mice_files)\\n    train_size = len(all_mice_files) * split_ratio\\n    files_moved = 0\\n\\n    for mice in all_mice_files:\\n        if files_moved < train_size:\\n            shutil.move(\\n                f\\\"{path_to_data}/{class_label}/{mice}\\\",\\n                f\\\"{path_to_data}/train/{class_label}\\\",\\n            )\\n        else:\\n            shutil.move(\\n                f\\\"{path_to_data}/{class_label}/{mice}\\\",\\n                f\\\"{path_to_data}/test/{class_label}\\\",\\n            )\\n        files_moved += 1\\n    if len(os.listdir(f\\\"{path_to_data}/{class_label}\\\")) == 0:\\n        shutil.rmtree(f\\\"{path_to_data}/{class_label}\\\")\";\n",
       "                var nbb_formatted_code = \"def split_train_test(class_label: str, split_ratio: float):\\n\\n    if class_label not in labels:\\n        raise ValueError(\\\"Enter a valid class label!\\\")\\n\\n    split_ratio = split_ratio\\n    all_mice_files = os.listdir(f\\\"{path_to_data}/{class_label}\\\")\\n    random.shuffle(all_mice_files)\\n    train_size = len(all_mice_files) * split_ratio\\n    files_moved = 0\\n\\n    for mice in all_mice_files:\\n        if files_moved < train_size:\\n            shutil.move(\\n                f\\\"{path_to_data}/{class_label}/{mice}\\\",\\n                f\\\"{path_to_data}/train/{class_label}\\\",\\n            )\\n        else:\\n            shutil.move(\\n                f\\\"{path_to_data}/{class_label}/{mice}\\\",\\n                f\\\"{path_to_data}/test/{class_label}\\\",\\n            )\\n        files_moved += 1\\n    if len(os.listdir(f\\\"{path_to_data}/{class_label}\\\")) == 0:\\n        shutil.rmtree(f\\\"{path_to_data}/{class_label}\\\")\";\n",
       "                var nbb_cells = Jupyter.notebook.get_cells();\n",
       "                for (var i = 0; i < nbb_cells.length; ++i) {\n",
       "                    if (nbb_cells[i].input_prompt_number == nbb_cell_id) {\n",
       "                        if (nbb_cells[i].get_text() == nbb_unformatted_code) {\n",
       "                             nbb_cells[i].set_text(nbb_formatted_code);\n",
       "                        }\n",
       "                        break;\n",
       "                    }\n",
       "                }\n",
       "            }, 500);\n",
       "            "
      ],
      "text/plain": [
       "<IPython.core.display.Javascript object>"
      ]
     },
     "metadata": {},
     "output_type": "display_data"
    },
    {
     "data": {
      "application/javascript": [
       "\n",
       "            setTimeout(function() {\n",
       "                var nbb_cell_id = 73;\n",
       "                var nbb_unformatted_code = \"def split_train_test(class_label: str, split_ratio: float):\\n\\n    if class_label not in labels:\\n        raise ValueError(\\\"Enter a valid class label!\\\")\\n\\n    split_ratio = split_ratio\\n    all_mice_files = os.listdir(f\\\"{path_to_data}/{class_label}\\\")\\n    random.shuffle(all_mice_files)\\n    train_size = len(all_mice_files) * split_ratio\\n    files_moved = 0\\n\\n    for mice in all_mice_files:\\n        if files_moved < train_size:\\n            shutil.move(\\n                f\\\"{path_to_data}/{class_label}/{mice}\\\",\\n                f\\\"{path_to_data}/train/{class_label}\\\",\\n            )\\n        else:\\n            shutil.move(\\n                f\\\"{path_to_data}/{class_label}/{mice}\\\",\\n                f\\\"{path_to_data}/test/{class_label}\\\",\\n            )\\n        files_moved += 1\\n    if len(os.listdir(f\\\"{path_to_data}/{class_label}\\\")) == 0:\\n        shutil.rmtree(f\\\"{path_to_data}/{class_label}\\\")\";\n",
       "                var nbb_formatted_code = \"def split_train_test(class_label: str, split_ratio: float):\\n\\n    if class_label not in labels:\\n        raise ValueError(\\\"Enter a valid class label!\\\")\\n\\n    split_ratio = split_ratio\\n    all_mice_files = os.listdir(f\\\"{path_to_data}/{class_label}\\\")\\n    random.shuffle(all_mice_files)\\n    train_size = len(all_mice_files) * split_ratio\\n    files_moved = 0\\n\\n    for mice in all_mice_files:\\n        if files_moved < train_size:\\n            shutil.move(\\n                f\\\"{path_to_data}/{class_label}/{mice}\\\",\\n                f\\\"{path_to_data}/train/{class_label}\\\",\\n            )\\n        else:\\n            shutil.move(\\n                f\\\"{path_to_data}/{class_label}/{mice}\\\",\\n                f\\\"{path_to_data}/test/{class_label}\\\",\\n            )\\n        files_moved += 1\\n    if len(os.listdir(f\\\"{path_to_data}/{class_label}\\\")) == 0:\\n        shutil.rmtree(f\\\"{path_to_data}/{class_label}\\\")\";\n",
       "                var nbb_cells = Jupyter.notebook.get_cells();\n",
       "                for (var i = 0; i < nbb_cells.length; ++i) {\n",
       "                    if (nbb_cells[i].input_prompt_number == nbb_cell_id) {\n",
       "                        if (nbb_cells[i].get_text() == nbb_unformatted_code) {\n",
       "                             nbb_cells[i].set_text(nbb_formatted_code);\n",
       "                        }\n",
       "                        break;\n",
       "                    }\n",
       "                }\n",
       "            }, 500);\n",
       "            "
      ],
      "text/plain": [
       "<IPython.core.display.Javascript object>"
      ]
     },
     "metadata": {},
     "output_type": "display_data"
    },
    {
     "data": {
      "application/javascript": [
       "\n",
       "            setTimeout(function() {\n",
       "                var nbb_cell_id = 73;\n",
       "                var nbb_unformatted_code = \"def split_train_test(class_label: str, split_ratio: float):\\n\\n    if class_label not in labels:\\n        raise ValueError(\\\"Enter a valid class label!\\\")\\n\\n    split_ratio = split_ratio\\n    all_mice_files = os.listdir(f\\\"{path_to_data}/{class_label}\\\")\\n    random.shuffle(all_mice_files)\\n    train_size = len(all_mice_files) * split_ratio\\n    files_moved = 0\\n\\n    for mice in all_mice_files:\\n        if files_moved < train_size:\\n            shutil.move(\\n                f\\\"{path_to_data}/{class_label}/{mice}\\\",\\n                f\\\"{path_to_data}/train/{class_label}\\\",\\n            )\\n        else:\\n            shutil.move(\\n                f\\\"{path_to_data}/{class_label}/{mice}\\\",\\n                f\\\"{path_to_data}/test/{class_label}\\\",\\n            )\\n        files_moved += 1\\n    if len(os.listdir(f\\\"{path_to_data}/{class_label}\\\")) == 0:\\n        shutil.rmtree(f\\\"{path_to_data}/{class_label}\\\")\";\n",
       "                var nbb_formatted_code = \"def split_train_test(class_label: str, split_ratio: float):\\n\\n    if class_label not in labels:\\n        raise ValueError(\\\"Enter a valid class label!\\\")\\n\\n    split_ratio = split_ratio\\n    all_mice_files = os.listdir(f\\\"{path_to_data}/{class_label}\\\")\\n    random.shuffle(all_mice_files)\\n    train_size = len(all_mice_files) * split_ratio\\n    files_moved = 0\\n\\n    for mice in all_mice_files:\\n        if files_moved < train_size:\\n            shutil.move(\\n                f\\\"{path_to_data}/{class_label}/{mice}\\\",\\n                f\\\"{path_to_data}/train/{class_label}\\\",\\n            )\\n        else:\\n            shutil.move(\\n                f\\\"{path_to_data}/{class_label}/{mice}\\\",\\n                f\\\"{path_to_data}/test/{class_label}\\\",\\n            )\\n        files_moved += 1\\n    if len(os.listdir(f\\\"{path_to_data}/{class_label}\\\")) == 0:\\n        shutil.rmtree(f\\\"{path_to_data}/{class_label}\\\")\";\n",
       "                var nbb_cells = Jupyter.notebook.get_cells();\n",
       "                for (var i = 0; i < nbb_cells.length; ++i) {\n",
       "                    if (nbb_cells[i].input_prompt_number == nbb_cell_id) {\n",
       "                        if (nbb_cells[i].get_text() == nbb_unformatted_code) {\n",
       "                             nbb_cells[i].set_text(nbb_formatted_code);\n",
       "                        }\n",
       "                        break;\n",
       "                    }\n",
       "                }\n",
       "            }, 500);\n",
       "            "
      ],
      "text/plain": [
       "<IPython.core.display.Javascript object>"
      ]
     },
     "metadata": {},
     "output_type": "display_data"
    },
    {
     "data": {
      "application/javascript": [
       "\n",
       "            setTimeout(function() {\n",
       "                var nbb_cell_id = 73;\n",
       "                var nbb_unformatted_code = \"def split_train_test(class_label: str, split_ratio: float):\\n\\n    if class_label not in labels:\\n        raise ValueError(\\\"Enter a valid class label!\\\")\\n\\n    split_ratio = split_ratio\\n    all_mice_files = os.listdir(f\\\"{path_to_data}/{class_label}\\\")\\n    random.shuffle(all_mice_files)\\n    train_size = len(all_mice_files) * split_ratio\\n    files_moved = 0\\n\\n    for mice in all_mice_files:\\n        if files_moved < train_size:\\n            shutil.move(\\n                f\\\"{path_to_data}/{class_label}/{mice}\\\",\\n                f\\\"{path_to_data}/train/{class_label}\\\",\\n            )\\n        else:\\n            shutil.move(\\n                f\\\"{path_to_data}/{class_label}/{mice}\\\",\\n                f\\\"{path_to_data}/test/{class_label}\\\",\\n            )\\n        files_moved += 1\\n    if len(os.listdir(f\\\"{path_to_data}/{class_label}\\\")) == 0:\\n        shutil.rmtree(f\\\"{path_to_data}/{class_label}\\\")\";\n",
       "                var nbb_formatted_code = \"def split_train_test(class_label: str, split_ratio: float):\\n\\n    if class_label not in labels:\\n        raise ValueError(\\\"Enter a valid class label!\\\")\\n\\n    split_ratio = split_ratio\\n    all_mice_files = os.listdir(f\\\"{path_to_data}/{class_label}\\\")\\n    random.shuffle(all_mice_files)\\n    train_size = len(all_mice_files) * split_ratio\\n    files_moved = 0\\n\\n    for mice in all_mice_files:\\n        if files_moved < train_size:\\n            shutil.move(\\n                f\\\"{path_to_data}/{class_label}/{mice}\\\",\\n                f\\\"{path_to_data}/train/{class_label}\\\",\\n            )\\n        else:\\n            shutil.move(\\n                f\\\"{path_to_data}/{class_label}/{mice}\\\",\\n                f\\\"{path_to_data}/test/{class_label}\\\",\\n            )\\n        files_moved += 1\\n    if len(os.listdir(f\\\"{path_to_data}/{class_label}\\\")) == 0:\\n        shutil.rmtree(f\\\"{path_to_data}/{class_label}\\\")\";\n",
       "                var nbb_cells = Jupyter.notebook.get_cells();\n",
       "                for (var i = 0; i < nbb_cells.length; ++i) {\n",
       "                    if (nbb_cells[i].input_prompt_number == nbb_cell_id) {\n",
       "                        if (nbb_cells[i].get_text() == nbb_unformatted_code) {\n",
       "                             nbb_cells[i].set_text(nbb_formatted_code);\n",
       "                        }\n",
       "                        break;\n",
       "                    }\n",
       "                }\n",
       "            }, 500);\n",
       "            "
      ],
      "text/plain": [
       "<IPython.core.display.Javascript object>"
      ]
     },
     "metadata": {},
     "output_type": "display_data"
    }
   ],
   "source": [
    "def split_train_test(class_label: str, split_ratio: float):\n",
    "\n",
    "    if class_label not in labels:\n",
    "        raise ValueError(\"Enter a valid class label!\")\n",
    "\n",
    "    split_ratio = split_ratio\n",
    "    all_mice_files = os.listdir(f\"{path_to_data}/{class_label}\")\n",
    "    random.shuffle(all_mice_files)\n",
    "    train_size = len(all_mice_files) * split_ratio\n",
    "    files_moved = 0\n",
    "\n",
    "    for mice in all_mice_files:\n",
    "        if files_moved < train_size:\n",
    "            shutil.move(\n",
    "                f\"{path_to_data}/{class_label}/{mice}\",\n",
    "                f\"{path_to_data}/train/{class_label}\",\n",
    "            )\n",
    "        else:\n",
    "            shutil.move(\n",
    "                f\"{path_to_data}/{class_label}/{mice}\",\n",
    "                f\"{path_to_data}/test/{class_label}\",\n",
    "            )\n",
    "        files_moved += 1\n",
    "    if len(os.listdir(f\"{path_to_data}/{class_label}\")) == 0:\n",
    "        shutil.rmtree(f\"{path_to_data}/{class_label}\")"
   ]
  },
  {
   "cell_type": "code",
   "execution_count": 74,
   "metadata": {},
   "outputs": [
    {
     "data": {
      "application/javascript": [
       "\n",
       "            setTimeout(function() {\n",
       "                var nbb_cell_id = 74;\n",
       "                var nbb_unformatted_code = \"def create_dataset_pipeline(\\n    start_seconds, end_seconds, class_label: str, split=True, split_ratio=0.8\\n):\\n    try:\\n        create_images_from_video(start_seconds, end_seconds, class_label)\\n        if split:\\n            if len(os.listdir(f\\\"{path_to_data}/{class_label}\\\")) != 0:\\n                split_train_test(class_label, split_ratio)\\n            else:\\n                sys.exit(\\n                    f\\\"{path_to_data}/{class_label} is empty and that means frames from videos were not captured successfully!\\\"\\n                )\\n        else:\\n            pass\\n    except:\\n        var = traceback.format_exc()\\n        print(var)\";\n",
       "                var nbb_formatted_code = \"def create_dataset_pipeline(\\n    start_seconds, end_seconds, class_label: str, split=True, split_ratio=0.8\\n):\\n    try:\\n        create_images_from_video(start_seconds, end_seconds, class_label)\\n        if split:\\n            if len(os.listdir(f\\\"{path_to_data}/{class_label}\\\")) != 0:\\n                split_train_test(class_label, split_ratio)\\n            else:\\n                sys.exit(\\n                    f\\\"{path_to_data}/{class_label} is empty and that means frames from videos were not captured successfully!\\\"\\n                )\\n        else:\\n            pass\\n    except:\\n        var = traceback.format_exc()\\n        print(var)\";\n",
       "                var nbb_cells = Jupyter.notebook.get_cells();\n",
       "                for (var i = 0; i < nbb_cells.length; ++i) {\n",
       "                    if (nbb_cells[i].input_prompt_number == nbb_cell_id) {\n",
       "                        if (nbb_cells[i].get_text() == nbb_unformatted_code) {\n",
       "                             nbb_cells[i].set_text(nbb_formatted_code);\n",
       "                        }\n",
       "                        break;\n",
       "                    }\n",
       "                }\n",
       "            }, 500);\n",
       "            "
      ],
      "text/plain": [
       "<IPython.core.display.Javascript object>"
      ]
     },
     "metadata": {},
     "output_type": "display_data"
    },
    {
     "data": {
      "application/javascript": [
       "\n",
       "            setTimeout(function() {\n",
       "                var nbb_cell_id = 74;\n",
       "                var nbb_unformatted_code = \"def create_dataset_pipeline(\\n    start_seconds, end_seconds, class_label: str, split=True, split_ratio=0.8\\n):\\n    try:\\n        create_images_from_video(start_seconds, end_seconds, class_label)\\n        if split:\\n            if len(os.listdir(f\\\"{path_to_data}/{class_label}\\\")) != 0:\\n                split_train_test(class_label, split_ratio)\\n            else:\\n                sys.exit(\\n                    f\\\"{path_to_data}/{class_label} is empty and that means frames from videos were not captured successfully!\\\"\\n                )\\n        else:\\n            pass\\n    except:\\n        var = traceback.format_exc()\\n        print(var)\";\n",
       "                var nbb_formatted_code = \"def create_dataset_pipeline(\\n    start_seconds, end_seconds, class_label: str, split=True, split_ratio=0.8\\n):\\n    try:\\n        create_images_from_video(start_seconds, end_seconds, class_label)\\n        if split:\\n            if len(os.listdir(f\\\"{path_to_data}/{class_label}\\\")) != 0:\\n                split_train_test(class_label, split_ratio)\\n            else:\\n                sys.exit(\\n                    f\\\"{path_to_data}/{class_label} is empty and that means frames from videos were not captured successfully!\\\"\\n                )\\n        else:\\n            pass\\n    except:\\n        var = traceback.format_exc()\\n        print(var)\";\n",
       "                var nbb_cells = Jupyter.notebook.get_cells();\n",
       "                for (var i = 0; i < nbb_cells.length; ++i) {\n",
       "                    if (nbb_cells[i].input_prompt_number == nbb_cell_id) {\n",
       "                        if (nbb_cells[i].get_text() == nbb_unformatted_code) {\n",
       "                             nbb_cells[i].set_text(nbb_formatted_code);\n",
       "                        }\n",
       "                        break;\n",
       "                    }\n",
       "                }\n",
       "            }, 500);\n",
       "            "
      ],
      "text/plain": [
       "<IPython.core.display.Javascript object>"
      ]
     },
     "metadata": {},
     "output_type": "display_data"
    },
    {
     "data": {
      "application/javascript": [
       "\n",
       "            setTimeout(function() {\n",
       "                var nbb_cell_id = 74;\n",
       "                var nbb_unformatted_code = \"def create_dataset_pipeline(\\n    start_seconds, end_seconds, class_label: str, split=True, split_ratio=0.8\\n):\\n    try:\\n        create_images_from_video(start_seconds, end_seconds, class_label)\\n        if split:\\n            if len(os.listdir(f\\\"{path_to_data}/{class_label}\\\")) != 0:\\n                split_train_test(class_label, split_ratio)\\n            else:\\n                sys.exit(\\n                    f\\\"{path_to_data}/{class_label} is empty and that means frames from videos were not captured successfully!\\\"\\n                )\\n        else:\\n            pass\\n    except:\\n        var = traceback.format_exc()\\n        print(var)\";\n",
       "                var nbb_formatted_code = \"def create_dataset_pipeline(\\n    start_seconds, end_seconds, class_label: str, split=True, split_ratio=0.8\\n):\\n    try:\\n        create_images_from_video(start_seconds, end_seconds, class_label)\\n        if split:\\n            if len(os.listdir(f\\\"{path_to_data}/{class_label}\\\")) != 0:\\n                split_train_test(class_label, split_ratio)\\n            else:\\n                sys.exit(\\n                    f\\\"{path_to_data}/{class_label} is empty and that means frames from videos were not captured successfully!\\\"\\n                )\\n        else:\\n            pass\\n    except:\\n        var = traceback.format_exc()\\n        print(var)\";\n",
       "                var nbb_cells = Jupyter.notebook.get_cells();\n",
       "                for (var i = 0; i < nbb_cells.length; ++i) {\n",
       "                    if (nbb_cells[i].input_prompt_number == nbb_cell_id) {\n",
       "                        if (nbb_cells[i].get_text() == nbb_unformatted_code) {\n",
       "                             nbb_cells[i].set_text(nbb_formatted_code);\n",
       "                        }\n",
       "                        break;\n",
       "                    }\n",
       "                }\n",
       "            }, 500);\n",
       "            "
      ],
      "text/plain": [
       "<IPython.core.display.Javascript object>"
      ]
     },
     "metadata": {},
     "output_type": "display_data"
    },
    {
     "data": {
      "application/javascript": [
       "\n",
       "            setTimeout(function() {\n",
       "                var nbb_cell_id = 74;\n",
       "                var nbb_unformatted_code = \"def create_dataset_pipeline(\\n    start_seconds, end_seconds, class_label: str, split=True, split_ratio=0.8\\n):\\n    try:\\n        create_images_from_video(start_seconds, end_seconds, class_label)\\n        if split:\\n            if len(os.listdir(f\\\"{path_to_data}/{class_label}\\\")) != 0:\\n                split_train_test(class_label, split_ratio)\\n            else:\\n                sys.exit(\\n                    f\\\"{path_to_data}/{class_label} is empty and that means frames from videos were not captured successfully!\\\"\\n                )\\n        else:\\n            pass\\n    except:\\n        var = traceback.format_exc()\\n        print(var)\";\n",
       "                var nbb_formatted_code = \"def create_dataset_pipeline(\\n    start_seconds, end_seconds, class_label: str, split=True, split_ratio=0.8\\n):\\n    try:\\n        create_images_from_video(start_seconds, end_seconds, class_label)\\n        if split:\\n            if len(os.listdir(f\\\"{path_to_data}/{class_label}\\\")) != 0:\\n                split_train_test(class_label, split_ratio)\\n            else:\\n                sys.exit(\\n                    f\\\"{path_to_data}/{class_label} is empty and that means frames from videos were not captured successfully!\\\"\\n                )\\n        else:\\n            pass\\n    except:\\n        var = traceback.format_exc()\\n        print(var)\";\n",
       "                var nbb_cells = Jupyter.notebook.get_cells();\n",
       "                for (var i = 0; i < nbb_cells.length; ++i) {\n",
       "                    if (nbb_cells[i].input_prompt_number == nbb_cell_id) {\n",
       "                        if (nbb_cells[i].get_text() == nbb_unformatted_code) {\n",
       "                             nbb_cells[i].set_text(nbb_formatted_code);\n",
       "                        }\n",
       "                        break;\n",
       "                    }\n",
       "                }\n",
       "            }, 500);\n",
       "            "
      ],
      "text/plain": [
       "<IPython.core.display.Javascript object>"
      ]
     },
     "metadata": {},
     "output_type": "display_data"
    },
    {
     "data": {
      "application/javascript": [
       "\n",
       "            setTimeout(function() {\n",
       "                var nbb_cell_id = 74;\n",
       "                var nbb_unformatted_code = \"def create_dataset_pipeline(\\n    start_seconds, end_seconds, class_label: str, split=True, split_ratio=0.8\\n):\\n    try:\\n        create_images_from_video(start_seconds, end_seconds, class_label)\\n        if split:\\n            if len(os.listdir(f\\\"{path_to_data}/{class_label}\\\")) != 0:\\n                split_train_test(class_label, split_ratio)\\n            else:\\n                sys.exit(\\n                    f\\\"{path_to_data}/{class_label} is empty and that means frames from videos were not captured successfully!\\\"\\n                )\\n        else:\\n            pass\\n    except:\\n        var = traceback.format_exc()\\n        print(var)\";\n",
       "                var nbb_formatted_code = \"def create_dataset_pipeline(\\n    start_seconds, end_seconds, class_label: str, split=True, split_ratio=0.8\\n):\\n    try:\\n        create_images_from_video(start_seconds, end_seconds, class_label)\\n        if split:\\n            if len(os.listdir(f\\\"{path_to_data}/{class_label}\\\")) != 0:\\n                split_train_test(class_label, split_ratio)\\n            else:\\n                sys.exit(\\n                    f\\\"{path_to_data}/{class_label} is empty and that means frames from videos were not captured successfully!\\\"\\n                )\\n        else:\\n            pass\\n    except:\\n        var = traceback.format_exc()\\n        print(var)\";\n",
       "                var nbb_cells = Jupyter.notebook.get_cells();\n",
       "                for (var i = 0; i < nbb_cells.length; ++i) {\n",
       "                    if (nbb_cells[i].input_prompt_number == nbb_cell_id) {\n",
       "                        if (nbb_cells[i].get_text() == nbb_unformatted_code) {\n",
       "                             nbb_cells[i].set_text(nbb_formatted_code);\n",
       "                        }\n",
       "                        break;\n",
       "                    }\n",
       "                }\n",
       "            }, 500);\n",
       "            "
      ],
      "text/plain": [
       "<IPython.core.display.Javascript object>"
      ]
     },
     "metadata": {},
     "output_type": "display_data"
    },
    {
     "data": {
      "application/javascript": [
       "\n",
       "            setTimeout(function() {\n",
       "                var nbb_cell_id = 74;\n",
       "                var nbb_unformatted_code = \"def create_dataset_pipeline(\\n    start_seconds, end_seconds, class_label: str, split=True, split_ratio=0.8\\n):\\n    try:\\n        create_images_from_video(start_seconds, end_seconds, class_label)\\n        if split:\\n            if len(os.listdir(f\\\"{path_to_data}/{class_label}\\\")) != 0:\\n                split_train_test(class_label, split_ratio)\\n            else:\\n                sys.exit(\\n                    f\\\"{path_to_data}/{class_label} is empty and that means frames from videos were not captured successfully!\\\"\\n                )\\n        else:\\n            pass\\n    except:\\n        var = traceback.format_exc()\\n        print(var)\";\n",
       "                var nbb_formatted_code = \"def create_dataset_pipeline(\\n    start_seconds, end_seconds, class_label: str, split=True, split_ratio=0.8\\n):\\n    try:\\n        create_images_from_video(start_seconds, end_seconds, class_label)\\n        if split:\\n            if len(os.listdir(f\\\"{path_to_data}/{class_label}\\\")) != 0:\\n                split_train_test(class_label, split_ratio)\\n            else:\\n                sys.exit(\\n                    f\\\"{path_to_data}/{class_label} is empty and that means frames from videos were not captured successfully!\\\"\\n                )\\n        else:\\n            pass\\n    except:\\n        var = traceback.format_exc()\\n        print(var)\";\n",
       "                var nbb_cells = Jupyter.notebook.get_cells();\n",
       "                for (var i = 0; i < nbb_cells.length; ++i) {\n",
       "                    if (nbb_cells[i].input_prompt_number == nbb_cell_id) {\n",
       "                        if (nbb_cells[i].get_text() == nbb_unformatted_code) {\n",
       "                             nbb_cells[i].set_text(nbb_formatted_code);\n",
       "                        }\n",
       "                        break;\n",
       "                    }\n",
       "                }\n",
       "            }, 500);\n",
       "            "
      ],
      "text/plain": [
       "<IPython.core.display.Javascript object>"
      ]
     },
     "metadata": {},
     "output_type": "display_data"
    }
   ],
   "source": [
    "def create_dataset_pipeline(\n",
    "    start_seconds, end_seconds, class_label: str, split=True, split_ratio=0.8\n",
    "):\n",
    "    try:\n",
    "        create_images_from_video(start_seconds, end_seconds, class_label)\n",
    "        if split:\n",
    "            if len(os.listdir(f\"{path_to_data}/{class_label}\")) != 0:\n",
    "                split_train_test(class_label, split_ratio)\n",
    "            else:\n",
    "                sys.exit(\n",
    "                    f\"{path_to_data}/{class_label} is empty and that means frames from videos were not captured successfully!\"\n",
    "                )\n",
    "        else:\n",
    "            pass\n",
    "    except:\n",
    "        var = traceback.format_exc()\n",
    "        print(var)"
   ]
  },
  {
   "cell_type": "code",
   "execution_count": 75,
   "metadata": {},
   "outputs": [
    {
     "data": {
      "application/javascript": [
       "\n",
       "            setTimeout(function() {\n",
       "                var nbb_cell_id = 75;\n",
       "                var nbb_unformatted_code = \"# start = floor(Total frames / frame_rate) - (ignore last trial(120 seconds) + 30 second threshold)\\ndef create_parent_dataset(parent_images):\\n    frame_rate = math.floor(mice_row[\\\"video_fps\\\"].item())\\n    start_seconds = random.randint(\\n        0, (mice_row[\\\"total_video_frames\\\"].item() // frame_rate) - 150\\n    )\\n    end_seconds = start_seconds + parent_images\\n    create_dataset_pipeline(start_seconds, end_seconds, \\\"parent-mice\\\")\\n\\n    train_size = len(os.listdir(f\\\"{path_to_data}/train/parent-mice\\\"))\\n    test_size = len(os.listdir(f\\\"{path_to_data}/test/parent-mice\\\"))\\n\\n    print(\\n        f\\\"Saved all {parent_images} parent image files and train has {train_size} pictures and test has {test_size} pictures!\\\"\\n    )\";\n",
       "                var nbb_formatted_code = \"# start = floor(Total frames / frame_rate) - (ignore last trial(120 seconds) + 30 second threshold)\\ndef create_parent_dataset(parent_images):\\n    frame_rate = math.floor(mice_row[\\\"video_fps\\\"].item())\\n    start_seconds = random.randint(\\n        0, (mice_row[\\\"total_video_frames\\\"].item() // frame_rate) - 150\\n    )\\n    end_seconds = start_seconds + parent_images\\n    create_dataset_pipeline(start_seconds, end_seconds, \\\"parent-mice\\\")\\n\\n    train_size = len(os.listdir(f\\\"{path_to_data}/train/parent-mice\\\"))\\n    test_size = len(os.listdir(f\\\"{path_to_data}/test/parent-mice\\\"))\\n\\n    print(\\n        f\\\"Saved all {parent_images} parent image files and train has {train_size} pictures and test has {test_size} pictures!\\\"\\n    )\";\n",
       "                var nbb_cells = Jupyter.notebook.get_cells();\n",
       "                for (var i = 0; i < nbb_cells.length; ++i) {\n",
       "                    if (nbb_cells[i].input_prompt_number == nbb_cell_id) {\n",
       "                        if (nbb_cells[i].get_text() == nbb_unformatted_code) {\n",
       "                             nbb_cells[i].set_text(nbb_formatted_code);\n",
       "                        }\n",
       "                        break;\n",
       "                    }\n",
       "                }\n",
       "            }, 500);\n",
       "            "
      ],
      "text/plain": [
       "<IPython.core.display.Javascript object>"
      ]
     },
     "metadata": {},
     "output_type": "display_data"
    },
    {
     "data": {
      "application/javascript": [
       "\n",
       "            setTimeout(function() {\n",
       "                var nbb_cell_id = 75;\n",
       "                var nbb_unformatted_code = \"# start = floor(Total frames / frame_rate) - (ignore last trial(120 seconds) + 30 second threshold)\\ndef create_parent_dataset(parent_images):\\n    frame_rate = math.floor(mice_row[\\\"video_fps\\\"].item())\\n    start_seconds = random.randint(\\n        0, (mice_row[\\\"total_video_frames\\\"].item() // frame_rate) - 150\\n    )\\n    end_seconds = start_seconds + parent_images\\n    create_dataset_pipeline(start_seconds, end_seconds, \\\"parent-mice\\\")\\n\\n    train_size = len(os.listdir(f\\\"{path_to_data}/train/parent-mice\\\"))\\n    test_size = len(os.listdir(f\\\"{path_to_data}/test/parent-mice\\\"))\\n\\n    print(\\n        f\\\"Saved all {parent_images} parent image files and train has {train_size} pictures and test has {test_size} pictures!\\\"\\n    )\";\n",
       "                var nbb_formatted_code = \"# start = floor(Total frames / frame_rate) - (ignore last trial(120 seconds) + 30 second threshold)\\ndef create_parent_dataset(parent_images):\\n    frame_rate = math.floor(mice_row[\\\"video_fps\\\"].item())\\n    start_seconds = random.randint(\\n        0, (mice_row[\\\"total_video_frames\\\"].item() // frame_rate) - 150\\n    )\\n    end_seconds = start_seconds + parent_images\\n    create_dataset_pipeline(start_seconds, end_seconds, \\\"parent-mice\\\")\\n\\n    train_size = len(os.listdir(f\\\"{path_to_data}/train/parent-mice\\\"))\\n    test_size = len(os.listdir(f\\\"{path_to_data}/test/parent-mice\\\"))\\n\\n    print(\\n        f\\\"Saved all {parent_images} parent image files and train has {train_size} pictures and test has {test_size} pictures!\\\"\\n    )\";\n",
       "                var nbb_cells = Jupyter.notebook.get_cells();\n",
       "                for (var i = 0; i < nbb_cells.length; ++i) {\n",
       "                    if (nbb_cells[i].input_prompt_number == nbb_cell_id) {\n",
       "                        if (nbb_cells[i].get_text() == nbb_unformatted_code) {\n",
       "                             nbb_cells[i].set_text(nbb_formatted_code);\n",
       "                        }\n",
       "                        break;\n",
       "                    }\n",
       "                }\n",
       "            }, 500);\n",
       "            "
      ],
      "text/plain": [
       "<IPython.core.display.Javascript object>"
      ]
     },
     "metadata": {},
     "output_type": "display_data"
    },
    {
     "data": {
      "application/javascript": [
       "\n",
       "            setTimeout(function() {\n",
       "                var nbb_cell_id = 75;\n",
       "                var nbb_unformatted_code = \"# start = floor(Total frames / frame_rate) - (ignore last trial(120 seconds) + 30 second threshold)\\ndef create_parent_dataset(parent_images):\\n    frame_rate = math.floor(mice_row[\\\"video_fps\\\"].item())\\n    start_seconds = random.randint(\\n        0, (mice_row[\\\"total_video_frames\\\"].item() // frame_rate) - 150\\n    )\\n    end_seconds = start_seconds + parent_images\\n    create_dataset_pipeline(start_seconds, end_seconds, \\\"parent-mice\\\")\\n\\n    train_size = len(os.listdir(f\\\"{path_to_data}/train/parent-mice\\\"))\\n    test_size = len(os.listdir(f\\\"{path_to_data}/test/parent-mice\\\"))\\n\\n    print(\\n        f\\\"Saved all {parent_images} parent image files and train has {train_size} pictures and test has {test_size} pictures!\\\"\\n    )\";\n",
       "                var nbb_formatted_code = \"# start = floor(Total frames / frame_rate) - (ignore last trial(120 seconds) + 30 second threshold)\\ndef create_parent_dataset(parent_images):\\n    frame_rate = math.floor(mice_row[\\\"video_fps\\\"].item())\\n    start_seconds = random.randint(\\n        0, (mice_row[\\\"total_video_frames\\\"].item() // frame_rate) - 150\\n    )\\n    end_seconds = start_seconds + parent_images\\n    create_dataset_pipeline(start_seconds, end_seconds, \\\"parent-mice\\\")\\n\\n    train_size = len(os.listdir(f\\\"{path_to_data}/train/parent-mice\\\"))\\n    test_size = len(os.listdir(f\\\"{path_to_data}/test/parent-mice\\\"))\\n\\n    print(\\n        f\\\"Saved all {parent_images} parent image files and train has {train_size} pictures and test has {test_size} pictures!\\\"\\n    )\";\n",
       "                var nbb_cells = Jupyter.notebook.get_cells();\n",
       "                for (var i = 0; i < nbb_cells.length; ++i) {\n",
       "                    if (nbb_cells[i].input_prompt_number == nbb_cell_id) {\n",
       "                        if (nbb_cells[i].get_text() == nbb_unformatted_code) {\n",
       "                             nbb_cells[i].set_text(nbb_formatted_code);\n",
       "                        }\n",
       "                        break;\n",
       "                    }\n",
       "                }\n",
       "            }, 500);\n",
       "            "
      ],
      "text/plain": [
       "<IPython.core.display.Javascript object>"
      ]
     },
     "metadata": {},
     "output_type": "display_data"
    },
    {
     "data": {
      "application/javascript": [
       "\n",
       "            setTimeout(function() {\n",
       "                var nbb_cell_id = 75;\n",
       "                var nbb_unformatted_code = \"# start = floor(Total frames / frame_rate) - (ignore last trial(120 seconds) + 30 second threshold)\\ndef create_parent_dataset(parent_images):\\n    frame_rate = math.floor(mice_row[\\\"video_fps\\\"].item())\\n    start_seconds = random.randint(\\n        0, (mice_row[\\\"total_video_frames\\\"].item() // frame_rate) - 150\\n    )\\n    end_seconds = start_seconds + parent_images\\n    create_dataset_pipeline(start_seconds, end_seconds, \\\"parent-mice\\\")\\n\\n    train_size = len(os.listdir(f\\\"{path_to_data}/train/parent-mice\\\"))\\n    test_size = len(os.listdir(f\\\"{path_to_data}/test/parent-mice\\\"))\\n\\n    print(\\n        f\\\"Saved all {parent_images} parent image files and train has {train_size} pictures and test has {test_size} pictures!\\\"\\n    )\";\n",
       "                var nbb_formatted_code = \"# start = floor(Total frames / frame_rate) - (ignore last trial(120 seconds) + 30 second threshold)\\ndef create_parent_dataset(parent_images):\\n    frame_rate = math.floor(mice_row[\\\"video_fps\\\"].item())\\n    start_seconds = random.randint(\\n        0, (mice_row[\\\"total_video_frames\\\"].item() // frame_rate) - 150\\n    )\\n    end_seconds = start_seconds + parent_images\\n    create_dataset_pipeline(start_seconds, end_seconds, \\\"parent-mice\\\")\\n\\n    train_size = len(os.listdir(f\\\"{path_to_data}/train/parent-mice\\\"))\\n    test_size = len(os.listdir(f\\\"{path_to_data}/test/parent-mice\\\"))\\n\\n    print(\\n        f\\\"Saved all {parent_images} parent image files and train has {train_size} pictures and test has {test_size} pictures!\\\"\\n    )\";\n",
       "                var nbb_cells = Jupyter.notebook.get_cells();\n",
       "                for (var i = 0; i < nbb_cells.length; ++i) {\n",
       "                    if (nbb_cells[i].input_prompt_number == nbb_cell_id) {\n",
       "                        if (nbb_cells[i].get_text() == nbb_unformatted_code) {\n",
       "                             nbb_cells[i].set_text(nbb_formatted_code);\n",
       "                        }\n",
       "                        break;\n",
       "                    }\n",
       "                }\n",
       "            }, 500);\n",
       "            "
      ],
      "text/plain": [
       "<IPython.core.display.Javascript object>"
      ]
     },
     "metadata": {},
     "output_type": "display_data"
    },
    {
     "data": {
      "application/javascript": [
       "\n",
       "            setTimeout(function() {\n",
       "                var nbb_cell_id = 75;\n",
       "                var nbb_unformatted_code = \"# start = floor(Total frames / frame_rate) - (ignore last trial(120 seconds) + 30 second threshold)\\ndef create_parent_dataset(parent_images):\\n    frame_rate = math.floor(mice_row[\\\"video_fps\\\"].item())\\n    start_seconds = random.randint(\\n        0, (mice_row[\\\"total_video_frames\\\"].item() // frame_rate) - 150\\n    )\\n    end_seconds = start_seconds + parent_images\\n    create_dataset_pipeline(start_seconds, end_seconds, \\\"parent-mice\\\")\\n\\n    train_size = len(os.listdir(f\\\"{path_to_data}/train/parent-mice\\\"))\\n    test_size = len(os.listdir(f\\\"{path_to_data}/test/parent-mice\\\"))\\n\\n    print(\\n        f\\\"Saved all {parent_images} parent image files and train has {train_size} pictures and test has {test_size} pictures!\\\"\\n    )\";\n",
       "                var nbb_formatted_code = \"# start = floor(Total frames / frame_rate) - (ignore last trial(120 seconds) + 30 second threshold)\\ndef create_parent_dataset(parent_images):\\n    frame_rate = math.floor(mice_row[\\\"video_fps\\\"].item())\\n    start_seconds = random.randint(\\n        0, (mice_row[\\\"total_video_frames\\\"].item() // frame_rate) - 150\\n    )\\n    end_seconds = start_seconds + parent_images\\n    create_dataset_pipeline(start_seconds, end_seconds, \\\"parent-mice\\\")\\n\\n    train_size = len(os.listdir(f\\\"{path_to_data}/train/parent-mice\\\"))\\n    test_size = len(os.listdir(f\\\"{path_to_data}/test/parent-mice\\\"))\\n\\n    print(\\n        f\\\"Saved all {parent_images} parent image files and train has {train_size} pictures and test has {test_size} pictures!\\\"\\n    )\";\n",
       "                var nbb_cells = Jupyter.notebook.get_cells();\n",
       "                for (var i = 0; i < nbb_cells.length; ++i) {\n",
       "                    if (nbb_cells[i].input_prompt_number == nbb_cell_id) {\n",
       "                        if (nbb_cells[i].get_text() == nbb_unformatted_code) {\n",
       "                             nbb_cells[i].set_text(nbb_formatted_code);\n",
       "                        }\n",
       "                        break;\n",
       "                    }\n",
       "                }\n",
       "            }, 500);\n",
       "            "
      ],
      "text/plain": [
       "<IPython.core.display.Javascript object>"
      ]
     },
     "metadata": {},
     "output_type": "display_data"
    },
    {
     "data": {
      "application/javascript": [
       "\n",
       "            setTimeout(function() {\n",
       "                var nbb_cell_id = 75;\n",
       "                var nbb_unformatted_code = \"# start = floor(Total frames / frame_rate) - (ignore last trial(120 seconds) + 30 second threshold)\\ndef create_parent_dataset(parent_images):\\n    frame_rate = math.floor(mice_row[\\\"video_fps\\\"].item())\\n    start_seconds = random.randint(\\n        0, (mice_row[\\\"total_video_frames\\\"].item() // frame_rate) - 150\\n    )\\n    end_seconds = start_seconds + parent_images\\n    create_dataset_pipeline(start_seconds, end_seconds, \\\"parent-mice\\\")\\n\\n    train_size = len(os.listdir(f\\\"{path_to_data}/train/parent-mice\\\"))\\n    test_size = len(os.listdir(f\\\"{path_to_data}/test/parent-mice\\\"))\\n\\n    print(\\n        f\\\"Saved all {parent_images} parent image files and train has {train_size} pictures and test has {test_size} pictures!\\\"\\n    )\";\n",
       "                var nbb_formatted_code = \"# start = floor(Total frames / frame_rate) - (ignore last trial(120 seconds) + 30 second threshold)\\ndef create_parent_dataset(parent_images):\\n    frame_rate = math.floor(mice_row[\\\"video_fps\\\"].item())\\n    start_seconds = random.randint(\\n        0, (mice_row[\\\"total_video_frames\\\"].item() // frame_rate) - 150\\n    )\\n    end_seconds = start_seconds + parent_images\\n    create_dataset_pipeline(start_seconds, end_seconds, \\\"parent-mice\\\")\\n\\n    train_size = len(os.listdir(f\\\"{path_to_data}/train/parent-mice\\\"))\\n    test_size = len(os.listdir(f\\\"{path_to_data}/test/parent-mice\\\"))\\n\\n    print(\\n        f\\\"Saved all {parent_images} parent image files and train has {train_size} pictures and test has {test_size} pictures!\\\"\\n    )\";\n",
       "                var nbb_cells = Jupyter.notebook.get_cells();\n",
       "                for (var i = 0; i < nbb_cells.length; ++i) {\n",
       "                    if (nbb_cells[i].input_prompt_number == nbb_cell_id) {\n",
       "                        if (nbb_cells[i].get_text() == nbb_unformatted_code) {\n",
       "                             nbb_cells[i].set_text(nbb_formatted_code);\n",
       "                        }\n",
       "                        break;\n",
       "                    }\n",
       "                }\n",
       "            }, 500);\n",
       "            "
      ],
      "text/plain": [
       "<IPython.core.display.Javascript object>"
      ]
     },
     "metadata": {},
     "output_type": "display_data"
    }
   ],
   "source": [
    "# start = floor(Total frames / frame_rate) - (ignore last trial(120 seconds) + 30 second threshold)\n",
    "def create_parent_dataset(parent_images):\n",
    "    frame_rate = math.floor(mice_row[\"video_fps\"].item())\n",
    "    start_seconds = random.randint(\n",
    "        0, (mice_row[\"total_video_frames\"].item() // frame_rate) - 150\n",
    "    )\n",
    "    end_seconds = start_seconds + parent_images\n",
    "    create_dataset_pipeline(start_seconds, end_seconds, \"parent-mice\")\n",
    "\n",
    "    train_size = len(os.listdir(f\"{path_to_data}/train/parent-mice\"))\n",
    "    test_size = len(os.listdir(f\"{path_to_data}/test/parent-mice\"))\n",
    "\n",
    "    print(\n",
    "        f\"Saved all {parent_images} parent image files and train has {train_size} pictures and test has {test_size} pictures!\"\n",
    "    )"
   ]
  },
  {
   "cell_type": "code",
   "execution_count": 76,
   "metadata": {},
   "outputs": [
    {
     "data": {
      "text/html": [
       "<div>\n",
       "<style scoped>\n",
       "    .dataframe tbody tr th:only-of-type {\n",
       "        vertical-align: middle;\n",
       "    }\n",
       "\n",
       "    .dataframe tbody tr th {\n",
       "        vertical-align: top;\n",
       "    }\n",
       "\n",
       "    .dataframe thead th {\n",
       "        text-align: right;\n",
       "    }\n",
       "</style>\n",
       "<table border=\"1\" class=\"dataframe\">\n",
       "  <thead>\n",
       "    <tr style=\"text-align: right;\">\n",
       "      <th></th>\n",
       "      <th>Group</th>\n",
       "      <th>Cohort</th>\n",
       "      <th>MouseID</th>\n",
       "      <th>Virus</th>\n",
       "      <th>Trial</th>\n",
       "      <th>Laser</th>\n",
       "      <th>Start</th>\n",
       "      <th>Time_Latency_Contact_s</th>\n",
       "      <th>Latency_Contact_s</th>\n",
       "      <th>Time_Latency_Retrieve_s</th>\n",
       "      <th>Latency_Retrieve_s</th>\n",
       "      <th>Retrieved</th>\n",
       "    </tr>\n",
       "  </thead>\n",
       "  <tbody>\n",
       "    <tr>\n",
       "      <th>0</th>\n",
       "      <td>Control</td>\n",
       "      <td>1</td>\n",
       "      <td>PrL-10</td>\n",
       "      <td>mCherry</td>\n",
       "      <td>1</td>\n",
       "      <td>OFF</td>\n",
       "      <td>0:13</td>\n",
       "      <td>0:27</td>\n",
       "      <td>14.0</td>\n",
       "      <td>NO</td>\n",
       "      <td>120</td>\n",
       "      <td>0</td>\n",
       "    </tr>\n",
       "    <tr>\n",
       "      <th>1</th>\n",
       "      <td>Control</td>\n",
       "      <td>1</td>\n",
       "      <td>PrL-10</td>\n",
       "      <td>mCherry</td>\n",
       "      <td>2</td>\n",
       "      <td>ON</td>\n",
       "      <td>2:38</td>\n",
       "      <td>2:57</td>\n",
       "      <td>19.0</td>\n",
       "      <td>NO</td>\n",
       "      <td>120</td>\n",
       "      <td>0</td>\n",
       "    </tr>\n",
       "    <tr>\n",
       "      <th>2</th>\n",
       "      <td>Control</td>\n",
       "      <td>1</td>\n",
       "      <td>PrL-10</td>\n",
       "      <td>mCherry</td>\n",
       "      <td>3</td>\n",
       "      <td>OFF</td>\n",
       "      <td>5:00</td>\n",
       "      <td>6:11</td>\n",
       "      <td>71.0</td>\n",
       "      <td>NO</td>\n",
       "      <td>120</td>\n",
       "      <td>0</td>\n",
       "    </tr>\n",
       "    <tr>\n",
       "      <th>3</th>\n",
       "      <td>Control</td>\n",
       "      <td>1</td>\n",
       "      <td>PrL-10</td>\n",
       "      <td>mCherry</td>\n",
       "      <td>4</td>\n",
       "      <td>ON</td>\n",
       "      <td>7:19</td>\n",
       "      <td>8:27</td>\n",
       "      <td>68.0</td>\n",
       "      <td>NO</td>\n",
       "      <td>120</td>\n",
       "      <td>0</td>\n",
       "    </tr>\n",
       "    <tr>\n",
       "      <th>4</th>\n",
       "      <td>Control</td>\n",
       "      <td>1</td>\n",
       "      <td>PrL-10</td>\n",
       "      <td>mCherry</td>\n",
       "      <td>5</td>\n",
       "      <td>OFF</td>\n",
       "      <td>9:37</td>\n",
       "      <td>NO</td>\n",
       "      <td>120.0</td>\n",
       "      <td>NO</td>\n",
       "      <td>120</td>\n",
       "      <td>0</td>\n",
       "    </tr>\n",
       "  </tbody>\n",
       "</table>\n",
       "</div>"
      ],
      "text/plain": [
       "     Group  Cohort MouseID    Virus  Trial Laser Start Time_Latency_Contact_s  \\\n",
       "0  Control       1  PrL-10  mCherry      1   OFF  0:13                   0:27   \n",
       "1  Control       1  PrL-10  mCherry      2    ON  2:38                   2:57   \n",
       "2  Control       1  PrL-10  mCherry      3   OFF  5:00                   6:11   \n",
       "3  Control       1  PrL-10  mCherry      4    ON  7:19                   8:27   \n",
       "4  Control       1  PrL-10  mCherry      5   OFF  9:37                     NO   \n",
       "\n",
       "   Latency_Contact_s Time_Latency_Retrieve_s  Latency_Retrieve_s  Retrieved  \n",
       "0               14.0                      NO                 120          0  \n",
       "1               19.0                      NO                 120          0  \n",
       "2               71.0                      NO                 120          0  \n",
       "3               68.0                      NO                 120          0  \n",
       "4              120.0                      NO                 120          0  "
      ]
     },
     "execution_count": 76,
     "metadata": {},
     "output_type": "execute_result"
    },
    {
     "data": {
      "application/javascript": [
       "\n",
       "            setTimeout(function() {\n",
       "                var nbb_cell_id = 76;\n",
       "                var nbb_unformatted_code = \"experiment = pd.read_csv(f\\\"{parent_directory}/experiment_new.csv\\\")\\nexperiment.head()\";\n",
       "                var nbb_formatted_code = \"experiment = pd.read_csv(f\\\"{parent_directory}/experiment_new.csv\\\")\\nexperiment.head()\";\n",
       "                var nbb_cells = Jupyter.notebook.get_cells();\n",
       "                for (var i = 0; i < nbb_cells.length; ++i) {\n",
       "                    if (nbb_cells[i].input_prompt_number == nbb_cell_id) {\n",
       "                        if (nbb_cells[i].get_text() == nbb_unformatted_code) {\n",
       "                             nbb_cells[i].set_text(nbb_formatted_code);\n",
       "                        }\n",
       "                        break;\n",
       "                    }\n",
       "                }\n",
       "            }, 500);\n",
       "            "
      ],
      "text/plain": [
       "<IPython.core.display.Javascript object>"
      ]
     },
     "metadata": {},
     "output_type": "display_data"
    },
    {
     "data": {
      "application/javascript": [
       "\n",
       "            setTimeout(function() {\n",
       "                var nbb_cell_id = 76;\n",
       "                var nbb_unformatted_code = \"experiment = pd.read_csv(f\\\"{parent_directory}/experiment_new.csv\\\")\\nexperiment.head()\";\n",
       "                var nbb_formatted_code = \"experiment = pd.read_csv(f\\\"{parent_directory}/experiment_new.csv\\\")\\nexperiment.head()\";\n",
       "                var nbb_cells = Jupyter.notebook.get_cells();\n",
       "                for (var i = 0; i < nbb_cells.length; ++i) {\n",
       "                    if (nbb_cells[i].input_prompt_number == nbb_cell_id) {\n",
       "                        if (nbb_cells[i].get_text() == nbb_unformatted_code) {\n",
       "                             nbb_cells[i].set_text(nbb_formatted_code);\n",
       "                        }\n",
       "                        break;\n",
       "                    }\n",
       "                }\n",
       "            }, 500);\n",
       "            "
      ],
      "text/plain": [
       "<IPython.core.display.Javascript object>"
      ]
     },
     "metadata": {},
     "output_type": "display_data"
    },
    {
     "data": {
      "application/javascript": [
       "\n",
       "            setTimeout(function() {\n",
       "                var nbb_cell_id = 76;\n",
       "                var nbb_unformatted_code = \"experiment = pd.read_csv(f\\\"{parent_directory}/experiment_new.csv\\\")\\nexperiment.head()\";\n",
       "                var nbb_formatted_code = \"experiment = pd.read_csv(f\\\"{parent_directory}/experiment_new.csv\\\")\\nexperiment.head()\";\n",
       "                var nbb_cells = Jupyter.notebook.get_cells();\n",
       "                for (var i = 0; i < nbb_cells.length; ++i) {\n",
       "                    if (nbb_cells[i].input_prompt_number == nbb_cell_id) {\n",
       "                        if (nbb_cells[i].get_text() == nbb_unformatted_code) {\n",
       "                             nbb_cells[i].set_text(nbb_formatted_code);\n",
       "                        }\n",
       "                        break;\n",
       "                    }\n",
       "                }\n",
       "            }, 500);\n",
       "            "
      ],
      "text/plain": [
       "<IPython.core.display.Javascript object>"
      ]
     },
     "metadata": {},
     "output_type": "display_data"
    },
    {
     "data": {
      "application/javascript": [
       "\n",
       "            setTimeout(function() {\n",
       "                var nbb_cell_id = 76;\n",
       "                var nbb_unformatted_code = \"experiment = pd.read_csv(f\\\"{parent_directory}/experiment_new.csv\\\")\\nexperiment.head()\";\n",
       "                var nbb_formatted_code = \"experiment = pd.read_csv(f\\\"{parent_directory}/experiment_new.csv\\\")\\nexperiment.head()\";\n",
       "                var nbb_cells = Jupyter.notebook.get_cells();\n",
       "                for (var i = 0; i < nbb_cells.length; ++i) {\n",
       "                    if (nbb_cells[i].input_prompt_number == nbb_cell_id) {\n",
       "                        if (nbb_cells[i].get_text() == nbb_unformatted_code) {\n",
       "                             nbb_cells[i].set_text(nbb_formatted_code);\n",
       "                        }\n",
       "                        break;\n",
       "                    }\n",
       "                }\n",
       "            }, 500);\n",
       "            "
      ],
      "text/plain": [
       "<IPython.core.display.Javascript object>"
      ]
     },
     "metadata": {},
     "output_type": "display_data"
    },
    {
     "data": {
      "application/javascript": [
       "\n",
       "            setTimeout(function() {\n",
       "                var nbb_cell_id = 76;\n",
       "                var nbb_unformatted_code = \"experiment = pd.read_csv(f\\\"{parent_directory}/experiment_new.csv\\\")\\nexperiment.head()\";\n",
       "                var nbb_formatted_code = \"experiment = pd.read_csv(f\\\"{parent_directory}/experiment_new.csv\\\")\\nexperiment.head()\";\n",
       "                var nbb_cells = Jupyter.notebook.get_cells();\n",
       "                for (var i = 0; i < nbb_cells.length; ++i) {\n",
       "                    if (nbb_cells[i].input_prompt_number == nbb_cell_id) {\n",
       "                        if (nbb_cells[i].get_text() == nbb_unformatted_code) {\n",
       "                             nbb_cells[i].set_text(nbb_formatted_code);\n",
       "                        }\n",
       "                        break;\n",
       "                    }\n",
       "                }\n",
       "            }, 500);\n",
       "            "
      ],
      "text/plain": [
       "<IPython.core.display.Javascript object>"
      ]
     },
     "metadata": {},
     "output_type": "display_data"
    },
    {
     "data": {
      "application/javascript": [
       "\n",
       "            setTimeout(function() {\n",
       "                var nbb_cell_id = 76;\n",
       "                var nbb_unformatted_code = \"experiment = pd.read_csv(f\\\"{parent_directory}/experiment_new.csv\\\")\\nexperiment.head()\";\n",
       "                var nbb_formatted_code = \"experiment = pd.read_csv(f\\\"{parent_directory}/experiment_new.csv\\\")\\nexperiment.head()\";\n",
       "                var nbb_cells = Jupyter.notebook.get_cells();\n",
       "                for (var i = 0; i < nbb_cells.length; ++i) {\n",
       "                    if (nbb_cells[i].input_prompt_number == nbb_cell_id) {\n",
       "                        if (nbb_cells[i].get_text() == nbb_unformatted_code) {\n",
       "                             nbb_cells[i].set_text(nbb_formatted_code);\n",
       "                        }\n",
       "                        break;\n",
       "                    }\n",
       "                }\n",
       "            }, 500);\n",
       "            "
      ],
      "text/plain": [
       "<IPython.core.display.Javascript object>"
      ]
     },
     "metadata": {},
     "output_type": "display_data"
    }
   ],
   "source": [
    "experiment = pd.read_csv(f\"{parent_directory}/experiment_new.csv\")\n",
    "experiment.head()"
   ]
  },
  {
   "cell_type": "code",
   "execution_count": 77,
   "metadata": {},
   "outputs": [
    {
     "data": {
      "text/html": [
       "<div>\n",
       "<style scoped>\n",
       "    .dataframe tbody tr th:only-of-type {\n",
       "        vertical-align: middle;\n",
       "    }\n",
       "\n",
       "    .dataframe tbody tr th {\n",
       "        vertical-align: top;\n",
       "    }\n",
       "\n",
       "    .dataframe thead th {\n",
       "        text-align: right;\n",
       "    }\n",
       "</style>\n",
       "<table border=\"1\" class=\"dataframe\">\n",
       "  <thead>\n",
       "    <tr style=\"text-align: right;\">\n",
       "      <th></th>\n",
       "      <th>Group</th>\n",
       "      <th>Cohort</th>\n",
       "      <th>MouseID</th>\n",
       "      <th>Virus</th>\n",
       "      <th>Trial</th>\n",
       "      <th>Laser</th>\n",
       "      <th>Start</th>\n",
       "      <th>Time_Latency_Contact_s</th>\n",
       "      <th>Latency_Contact_s</th>\n",
       "      <th>Time_Latency_Retrieve_s</th>\n",
       "      <th>Latency_Retrieve_s</th>\n",
       "      <th>Retrieved</th>\n",
       "    </tr>\n",
       "  </thead>\n",
       "  <tbody>\n",
       "    <tr>\n",
       "      <th>26</th>\n",
       "      <td>PrL-1</td>\n",
       "      <td>1</td>\n",
       "      <td>PrL-4</td>\n",
       "      <td>ChR2</td>\n",
       "      <td>1</td>\n",
       "      <td>OFF</td>\n",
       "      <td>0:06</td>\n",
       "      <td>0:18</td>\n",
       "      <td>12.0</td>\n",
       "      <td>0:43</td>\n",
       "      <td>37</td>\n",
       "      <td>1</td>\n",
       "    </tr>\n",
       "    <tr>\n",
       "      <th>27</th>\n",
       "      <td>PrL-1</td>\n",
       "      <td>1</td>\n",
       "      <td>PrL-4</td>\n",
       "      <td>ChR2</td>\n",
       "      <td>2</td>\n",
       "      <td>ON</td>\n",
       "      <td>2:15</td>\n",
       "      <td>2:19</td>\n",
       "      <td>4.0</td>\n",
       "      <td>2:24</td>\n",
       "      <td>9</td>\n",
       "      <td>1</td>\n",
       "    </tr>\n",
       "    <tr>\n",
       "      <th>28</th>\n",
       "      <td>PrL-1</td>\n",
       "      <td>1</td>\n",
       "      <td>PrL-4</td>\n",
       "      <td>ChR2</td>\n",
       "      <td>3</td>\n",
       "      <td>OFF</td>\n",
       "      <td>4:25</td>\n",
       "      <td>4:35</td>\n",
       "      <td>10.0</td>\n",
       "      <td>4:41</td>\n",
       "      <td>16</td>\n",
       "      <td>1</td>\n",
       "    </tr>\n",
       "    <tr>\n",
       "      <th>29</th>\n",
       "      <td>PrL-1</td>\n",
       "      <td>1</td>\n",
       "      <td>PrL-4</td>\n",
       "      <td>ChR2</td>\n",
       "      <td>4</td>\n",
       "      <td>ON</td>\n",
       "      <td>6:33</td>\n",
       "      <td>6:41</td>\n",
       "      <td>8.0</td>\n",
       "      <td>6:46</td>\n",
       "      <td>13</td>\n",
       "      <td>1</td>\n",
       "    </tr>\n",
       "    <tr>\n",
       "      <th>30</th>\n",
       "      <td>PrL-1</td>\n",
       "      <td>1</td>\n",
       "      <td>PrL-4</td>\n",
       "      <td>ChR2</td>\n",
       "      <td>5</td>\n",
       "      <td>OFF</td>\n",
       "      <td>9:06</td>\n",
       "      <td>9:36</td>\n",
       "      <td>30.0</td>\n",
       "      <td>9:42</td>\n",
       "      <td>36</td>\n",
       "      <td>1</td>\n",
       "    </tr>\n",
       "    <tr>\n",
       "      <th>31</th>\n",
       "      <td>PrL-1</td>\n",
       "      <td>1</td>\n",
       "      <td>PrL-4</td>\n",
       "      <td>ChR2</td>\n",
       "      <td>6</td>\n",
       "      <td>ON</td>\n",
       "      <td>11:15</td>\n",
       "      <td>12:01</td>\n",
       "      <td>46.0</td>\n",
       "      <td>12:05</td>\n",
       "      <td>50</td>\n",
       "      <td>1</td>\n",
       "    </tr>\n",
       "    <tr>\n",
       "      <th>33</th>\n",
       "      <td>PrL-1</td>\n",
       "      <td>1</td>\n",
       "      <td>PrL-4</td>\n",
       "      <td>ChR2</td>\n",
       "      <td>8</td>\n",
       "      <td>ON</td>\n",
       "      <td>16:07</td>\n",
       "      <td>16:13</td>\n",
       "      <td>5.0</td>\n",
       "      <td>16:17</td>\n",
       "      <td>10</td>\n",
       "      <td>1</td>\n",
       "    </tr>\n",
       "    <tr>\n",
       "      <th>35</th>\n",
       "      <td>PrL-1</td>\n",
       "      <td>1</td>\n",
       "      <td>PrL-4</td>\n",
       "      <td>ChR2</td>\n",
       "      <td>10</td>\n",
       "      <td>ON</td>\n",
       "      <td>20:32</td>\n",
       "      <td>20:37</td>\n",
       "      <td>5.0</td>\n",
       "      <td>20:40</td>\n",
       "      <td>8</td>\n",
       "      <td>1</td>\n",
       "    </tr>\n",
       "  </tbody>\n",
       "</table>\n",
       "</div>"
      ],
      "text/plain": [
       "    Group  Cohort MouseID Virus  Trial Laser  Start Time_Latency_Contact_s  \\\n",
       "26  PrL-1       1   PrL-4  ChR2      1   OFF   0:06                   0:18   \n",
       "27  PrL-1       1   PrL-4  ChR2      2    ON   2:15                   2:19   \n",
       "28  PrL-1       1   PrL-4  ChR2      3   OFF   4:25                   4:35   \n",
       "29  PrL-1       1   PrL-4  ChR2      4    ON   6:33                   6:41   \n",
       "30  PrL-1       1   PrL-4  ChR2      5   OFF   9:06                   9:36   \n",
       "31  PrL-1       1   PrL-4  ChR2      6    ON  11:15                  12:01   \n",
       "33  PrL-1       1   PrL-4  ChR2      8    ON  16:07                  16:13   \n",
       "35  PrL-1       1   PrL-4  ChR2     10    ON  20:32                  20:37   \n",
       "\n",
       "    Latency_Contact_s Time_Latency_Retrieve_s  Latency_Retrieve_s  Retrieved  \n",
       "26               12.0                    0:43                  37          1  \n",
       "27                4.0                    2:24                   9          1  \n",
       "28               10.0                    4:41                  16          1  \n",
       "29                8.0                    6:46                  13          1  \n",
       "30               30.0                    9:42                  36          1  \n",
       "31               46.0                   12:05                  50          1  \n",
       "33                5.0                   16:17                  10          1  \n",
       "35                5.0                   20:40                   8          1  "
      ]
     },
     "execution_count": 77,
     "metadata": {},
     "output_type": "execute_result"
    },
    {
     "data": {
      "application/javascript": [
       "\n",
       "            setTimeout(function() {\n",
       "                var nbb_cell_id = 77;\n",
       "                var nbb_unformatted_code = \"curr_mouse_df = experiment[\\n    (experiment.MouseID == CURRENT_MICE)\\n    & (experiment.Time_Latency_Contact_s != \\\"NO\\\")\\n    & (experiment.Time_Latency_Retrieve_s != \\\"NO\\\")\\n]\\ncurr_mouse_df\";\n",
       "                var nbb_formatted_code = \"curr_mouse_df = experiment[\\n    (experiment.MouseID == CURRENT_MICE)\\n    & (experiment.Time_Latency_Contact_s != \\\"NO\\\")\\n    & (experiment.Time_Latency_Retrieve_s != \\\"NO\\\")\\n]\\ncurr_mouse_df\";\n",
       "                var nbb_cells = Jupyter.notebook.get_cells();\n",
       "                for (var i = 0; i < nbb_cells.length; ++i) {\n",
       "                    if (nbb_cells[i].input_prompt_number == nbb_cell_id) {\n",
       "                        if (nbb_cells[i].get_text() == nbb_unformatted_code) {\n",
       "                             nbb_cells[i].set_text(nbb_formatted_code);\n",
       "                        }\n",
       "                        break;\n",
       "                    }\n",
       "                }\n",
       "            }, 500);\n",
       "            "
      ],
      "text/plain": [
       "<IPython.core.display.Javascript object>"
      ]
     },
     "metadata": {},
     "output_type": "display_data"
    },
    {
     "data": {
      "application/javascript": [
       "\n",
       "            setTimeout(function() {\n",
       "                var nbb_cell_id = 77;\n",
       "                var nbb_unformatted_code = \"curr_mouse_df = experiment[\\n    (experiment.MouseID == CURRENT_MICE)\\n    & (experiment.Time_Latency_Contact_s != \\\"NO\\\")\\n    & (experiment.Time_Latency_Retrieve_s != \\\"NO\\\")\\n]\\ncurr_mouse_df\";\n",
       "                var nbb_formatted_code = \"curr_mouse_df = experiment[\\n    (experiment.MouseID == CURRENT_MICE)\\n    & (experiment.Time_Latency_Contact_s != \\\"NO\\\")\\n    & (experiment.Time_Latency_Retrieve_s != \\\"NO\\\")\\n]\\ncurr_mouse_df\";\n",
       "                var nbb_cells = Jupyter.notebook.get_cells();\n",
       "                for (var i = 0; i < nbb_cells.length; ++i) {\n",
       "                    if (nbb_cells[i].input_prompt_number == nbb_cell_id) {\n",
       "                        if (nbb_cells[i].get_text() == nbb_unformatted_code) {\n",
       "                             nbb_cells[i].set_text(nbb_formatted_code);\n",
       "                        }\n",
       "                        break;\n",
       "                    }\n",
       "                }\n",
       "            }, 500);\n",
       "            "
      ],
      "text/plain": [
       "<IPython.core.display.Javascript object>"
      ]
     },
     "metadata": {},
     "output_type": "display_data"
    },
    {
     "data": {
      "application/javascript": [
       "\n",
       "            setTimeout(function() {\n",
       "                var nbb_cell_id = 77;\n",
       "                var nbb_unformatted_code = \"curr_mouse_df = experiment[\\n    (experiment.MouseID == CURRENT_MICE)\\n    & (experiment.Time_Latency_Contact_s != \\\"NO\\\")\\n    & (experiment.Time_Latency_Retrieve_s != \\\"NO\\\")\\n]\\ncurr_mouse_df\";\n",
       "                var nbb_formatted_code = \"curr_mouse_df = experiment[\\n    (experiment.MouseID == CURRENT_MICE)\\n    & (experiment.Time_Latency_Contact_s != \\\"NO\\\")\\n    & (experiment.Time_Latency_Retrieve_s != \\\"NO\\\")\\n]\\ncurr_mouse_df\";\n",
       "                var nbb_cells = Jupyter.notebook.get_cells();\n",
       "                for (var i = 0; i < nbb_cells.length; ++i) {\n",
       "                    if (nbb_cells[i].input_prompt_number == nbb_cell_id) {\n",
       "                        if (nbb_cells[i].get_text() == nbb_unformatted_code) {\n",
       "                             nbb_cells[i].set_text(nbb_formatted_code);\n",
       "                        }\n",
       "                        break;\n",
       "                    }\n",
       "                }\n",
       "            }, 500);\n",
       "            "
      ],
      "text/plain": [
       "<IPython.core.display.Javascript object>"
      ]
     },
     "metadata": {},
     "output_type": "display_data"
    },
    {
     "data": {
      "application/javascript": [
       "\n",
       "            setTimeout(function() {\n",
       "                var nbb_cell_id = 77;\n",
       "                var nbb_unformatted_code = \"curr_mouse_df = experiment[\\n    (experiment.MouseID == CURRENT_MICE)\\n    & (experiment.Time_Latency_Contact_s != \\\"NO\\\")\\n    & (experiment.Time_Latency_Retrieve_s != \\\"NO\\\")\\n]\\ncurr_mouse_df\";\n",
       "                var nbb_formatted_code = \"curr_mouse_df = experiment[\\n    (experiment.MouseID == CURRENT_MICE)\\n    & (experiment.Time_Latency_Contact_s != \\\"NO\\\")\\n    & (experiment.Time_Latency_Retrieve_s != \\\"NO\\\")\\n]\\ncurr_mouse_df\";\n",
       "                var nbb_cells = Jupyter.notebook.get_cells();\n",
       "                for (var i = 0; i < nbb_cells.length; ++i) {\n",
       "                    if (nbb_cells[i].input_prompt_number == nbb_cell_id) {\n",
       "                        if (nbb_cells[i].get_text() == nbb_unformatted_code) {\n",
       "                             nbb_cells[i].set_text(nbb_formatted_code);\n",
       "                        }\n",
       "                        break;\n",
       "                    }\n",
       "                }\n",
       "            }, 500);\n",
       "            "
      ],
      "text/plain": [
       "<IPython.core.display.Javascript object>"
      ]
     },
     "metadata": {},
     "output_type": "display_data"
    },
    {
     "data": {
      "application/javascript": [
       "\n",
       "            setTimeout(function() {\n",
       "                var nbb_cell_id = 77;\n",
       "                var nbb_unformatted_code = \"curr_mouse_df = experiment[\\n    (experiment.MouseID == CURRENT_MICE)\\n    & (experiment.Time_Latency_Contact_s != \\\"NO\\\")\\n    & (experiment.Time_Latency_Retrieve_s != \\\"NO\\\")\\n]\\ncurr_mouse_df\";\n",
       "                var nbb_formatted_code = \"curr_mouse_df = experiment[\\n    (experiment.MouseID == CURRENT_MICE)\\n    & (experiment.Time_Latency_Contact_s != \\\"NO\\\")\\n    & (experiment.Time_Latency_Retrieve_s != \\\"NO\\\")\\n]\\ncurr_mouse_df\";\n",
       "                var nbb_cells = Jupyter.notebook.get_cells();\n",
       "                for (var i = 0; i < nbb_cells.length; ++i) {\n",
       "                    if (nbb_cells[i].input_prompt_number == nbb_cell_id) {\n",
       "                        if (nbb_cells[i].get_text() == nbb_unformatted_code) {\n",
       "                             nbb_cells[i].set_text(nbb_formatted_code);\n",
       "                        }\n",
       "                        break;\n",
       "                    }\n",
       "                }\n",
       "            }, 500);\n",
       "            "
      ],
      "text/plain": [
       "<IPython.core.display.Javascript object>"
      ]
     },
     "metadata": {},
     "output_type": "display_data"
    },
    {
     "data": {
      "application/javascript": [
       "\n",
       "            setTimeout(function() {\n",
       "                var nbb_cell_id = 77;\n",
       "                var nbb_unformatted_code = \"curr_mouse_df = experiment[\\n    (experiment.MouseID == CURRENT_MICE)\\n    & (experiment.Time_Latency_Contact_s != \\\"NO\\\")\\n    & (experiment.Time_Latency_Retrieve_s != \\\"NO\\\")\\n]\\ncurr_mouse_df\";\n",
       "                var nbb_formatted_code = \"curr_mouse_df = experiment[\\n    (experiment.MouseID == CURRENT_MICE)\\n    & (experiment.Time_Latency_Contact_s != \\\"NO\\\")\\n    & (experiment.Time_Latency_Retrieve_s != \\\"NO\\\")\\n]\\ncurr_mouse_df\";\n",
       "                var nbb_cells = Jupyter.notebook.get_cells();\n",
       "                for (var i = 0; i < nbb_cells.length; ++i) {\n",
       "                    if (nbb_cells[i].input_prompt_number == nbb_cell_id) {\n",
       "                        if (nbb_cells[i].get_text() == nbb_unformatted_code) {\n",
       "                             nbb_cells[i].set_text(nbb_formatted_code);\n",
       "                        }\n",
       "                        break;\n",
       "                    }\n",
       "                }\n",
       "            }, 500);\n",
       "            "
      ],
      "text/plain": [
       "<IPython.core.display.Javascript object>"
      ]
     },
     "metadata": {},
     "output_type": "display_data"
    }
   ],
   "source": [
    "curr_mouse_df = experiment[\n",
    "    (experiment.MouseID == CURRENT_MICE)\n",
    "    & (experiment.Time_Latency_Contact_s != \"NO\")\n",
    "    & (experiment.Time_Latency_Retrieve_s != \"NO\")\n",
    "]\n",
    "curr_mouse_df"
   ]
  },
  {
   "cell_type": "code",
   "execution_count": 78,
   "metadata": {},
   "outputs": [
    {
     "data": {
      "application/javascript": [
       "\n",
       "            setTimeout(function() {\n",
       "                var nbb_cell_id = 78;\n",
       "                var nbb_unformatted_code = \"def create_pup_dataset(pup_images: int):\\n    START_PUP_CAPTURE_THRESH = 1\\n    END_PUP_CAPTURE_THRESH = 1\\n\\n    min_trial = curr_mouse_df.head(1).Trial.item()\\n    max_trial = curr_mouse_df.tail(1).Trial.item()\\n\\n    trials_done = []\\n    all_possible_trials = list(curr_mouse_df.Trial)\\n    images_recorded = 0\\n\\n    while images_recorded < pup_images:\\n\\n        trial = random.randint(min_trial, max_trial)\\n        trial_row = curr_mouse_df.loc[curr_mouse_df.Trial == trial]\\n\\n        if len(trials_done) == len(curr_mouse_df):\\n            print(\\\"Insufficient contact group images...\\\")\\n            break\\n        if (trial not in trials_done) and (trial in all_possible_trials):\\n            trial_row = curr_mouse_df[curr_mouse_df.Trial == trial]\\n\\n            start_time = str(trial_row.Start.item())\\n            end_time = str(trial_row.Time_Latency_Contact_s.item())\\n\\n            start_seconds = utils.time_to_sec(start_time) + START_PUP_CAPTURE_THRESH\\n            end_seconds = utils.time_to_sec(end_time) - END_PUP_CAPTURE_THRESH\\n            diff_seconds = end_seconds - start_seconds\\n\\n            future_number_of_images = images_recorded + diff_seconds\\n            # Stop recording excess number of images.\\n            if future_number_of_images > pup_images:\\n                end_seconds = start_seconds + (pup_images - images_recorded)\\n                diff_seconds = end_seconds - start_seconds\\n\\n            print(\\n                f\\\"Starts at {start_seconds} seconds and end at {end_seconds} seconds of interval {diff_seconds} seconds\\\"\\n            )\\n            create_dataset_pipeline(start_seconds, end_seconds, \\\"child-mice\\\", False)\\n\\n            images_recorded += diff_seconds\\n\\n            trials_done.append(trial)  # append unique trials\\n    split_train_test(\\\"child-mice\\\", 0.8)\\n\\n    train_size = len(os.listdir(f\\\"{path_to_data}/train/child-mice\\\"))\\n    test_size = len(os.listdir(f\\\"{path_to_data}/test/child-mice\\\"))\\n\\n    print(\\n        f\\\"Saved all {images_recorded} child image files and train has {train_size} pictures and test has {test_size} pictures!\\\"\\n    )\";\n",
       "                var nbb_formatted_code = \"def create_pup_dataset(pup_images: int):\\n    START_PUP_CAPTURE_THRESH = 1\\n    END_PUP_CAPTURE_THRESH = 1\\n\\n    min_trial = curr_mouse_df.head(1).Trial.item()\\n    max_trial = curr_mouse_df.tail(1).Trial.item()\\n\\n    trials_done = []\\n    all_possible_trials = list(curr_mouse_df.Trial)\\n    images_recorded = 0\\n\\n    while images_recorded < pup_images:\\n\\n        trial = random.randint(min_trial, max_trial)\\n        trial_row = curr_mouse_df.loc[curr_mouse_df.Trial == trial]\\n\\n        if len(trials_done) == len(curr_mouse_df):\\n            print(\\\"Insufficient contact group images...\\\")\\n            break\\n        if (trial not in trials_done) and (trial in all_possible_trials):\\n            trial_row = curr_mouse_df[curr_mouse_df.Trial == trial]\\n\\n            start_time = str(trial_row.Start.item())\\n            end_time = str(trial_row.Time_Latency_Contact_s.item())\\n\\n            start_seconds = utils.time_to_sec(start_time) + START_PUP_CAPTURE_THRESH\\n            end_seconds = utils.time_to_sec(end_time) - END_PUP_CAPTURE_THRESH\\n            diff_seconds = end_seconds - start_seconds\\n\\n            future_number_of_images = images_recorded + diff_seconds\\n            # Stop recording excess number of images.\\n            if future_number_of_images > pup_images:\\n                end_seconds = start_seconds + (pup_images - images_recorded)\\n                diff_seconds = end_seconds - start_seconds\\n\\n            print(\\n                f\\\"Starts at {start_seconds} seconds and end at {end_seconds} seconds of interval {diff_seconds} seconds\\\"\\n            )\\n            create_dataset_pipeline(start_seconds, end_seconds, \\\"child-mice\\\", False)\\n\\n            images_recorded += diff_seconds\\n\\n            trials_done.append(trial)  # append unique trials\\n    split_train_test(\\\"child-mice\\\", 0.8)\\n\\n    train_size = len(os.listdir(f\\\"{path_to_data}/train/child-mice\\\"))\\n    test_size = len(os.listdir(f\\\"{path_to_data}/test/child-mice\\\"))\\n\\n    print(\\n        f\\\"Saved all {images_recorded} child image files and train has {train_size} pictures and test has {test_size} pictures!\\\"\\n    )\";\n",
       "                var nbb_cells = Jupyter.notebook.get_cells();\n",
       "                for (var i = 0; i < nbb_cells.length; ++i) {\n",
       "                    if (nbb_cells[i].input_prompt_number == nbb_cell_id) {\n",
       "                        if (nbb_cells[i].get_text() == nbb_unformatted_code) {\n",
       "                             nbb_cells[i].set_text(nbb_formatted_code);\n",
       "                        }\n",
       "                        break;\n",
       "                    }\n",
       "                }\n",
       "            }, 500);\n",
       "            "
      ],
      "text/plain": [
       "<IPython.core.display.Javascript object>"
      ]
     },
     "metadata": {},
     "output_type": "display_data"
    },
    {
     "data": {
      "application/javascript": [
       "\n",
       "            setTimeout(function() {\n",
       "                var nbb_cell_id = 78;\n",
       "                var nbb_unformatted_code = \"def create_pup_dataset(pup_images: int):\\n    START_PUP_CAPTURE_THRESH = 1\\n    END_PUP_CAPTURE_THRESH = 1\\n\\n    min_trial = curr_mouse_df.head(1).Trial.item()\\n    max_trial = curr_mouse_df.tail(1).Trial.item()\\n\\n    trials_done = []\\n    all_possible_trials = list(curr_mouse_df.Trial)\\n    images_recorded = 0\\n\\n    while images_recorded < pup_images:\\n\\n        trial = random.randint(min_trial, max_trial)\\n        trial_row = curr_mouse_df.loc[curr_mouse_df.Trial == trial]\\n\\n        if len(trials_done) == len(curr_mouse_df):\\n            print(\\\"Insufficient contact group images...\\\")\\n            break\\n        if (trial not in trials_done) and (trial in all_possible_trials):\\n            trial_row = curr_mouse_df[curr_mouse_df.Trial == trial]\\n\\n            start_time = str(trial_row.Start.item())\\n            end_time = str(trial_row.Time_Latency_Contact_s.item())\\n\\n            start_seconds = utils.time_to_sec(start_time) + START_PUP_CAPTURE_THRESH\\n            end_seconds = utils.time_to_sec(end_time) - END_PUP_CAPTURE_THRESH\\n            diff_seconds = end_seconds - start_seconds\\n\\n            future_number_of_images = images_recorded + diff_seconds\\n            # Stop recording excess number of images.\\n            if future_number_of_images > pup_images:\\n                end_seconds = start_seconds + (pup_images - images_recorded)\\n                diff_seconds = end_seconds - start_seconds\\n\\n            print(\\n                f\\\"Starts at {start_seconds} seconds and end at {end_seconds} seconds of interval {diff_seconds} seconds\\\"\\n            )\\n            create_dataset_pipeline(start_seconds, end_seconds, \\\"child-mice\\\", False)\\n\\n            images_recorded += diff_seconds\\n\\n            trials_done.append(trial)  # append unique trials\\n    split_train_test(\\\"child-mice\\\", 0.8)\\n\\n    train_size = len(os.listdir(f\\\"{path_to_data}/train/child-mice\\\"))\\n    test_size = len(os.listdir(f\\\"{path_to_data}/test/child-mice\\\"))\\n\\n    print(\\n        f\\\"Saved all {images_recorded} child image files and train has {train_size} pictures and test has {test_size} pictures!\\\"\\n    )\";\n",
       "                var nbb_formatted_code = \"def create_pup_dataset(pup_images: int):\\n    START_PUP_CAPTURE_THRESH = 1\\n    END_PUP_CAPTURE_THRESH = 1\\n\\n    min_trial = curr_mouse_df.head(1).Trial.item()\\n    max_trial = curr_mouse_df.tail(1).Trial.item()\\n\\n    trials_done = []\\n    all_possible_trials = list(curr_mouse_df.Trial)\\n    images_recorded = 0\\n\\n    while images_recorded < pup_images:\\n\\n        trial = random.randint(min_trial, max_trial)\\n        trial_row = curr_mouse_df.loc[curr_mouse_df.Trial == trial]\\n\\n        if len(trials_done) == len(curr_mouse_df):\\n            print(\\\"Insufficient contact group images...\\\")\\n            break\\n        if (trial not in trials_done) and (trial in all_possible_trials):\\n            trial_row = curr_mouse_df[curr_mouse_df.Trial == trial]\\n\\n            start_time = str(trial_row.Start.item())\\n            end_time = str(trial_row.Time_Latency_Contact_s.item())\\n\\n            start_seconds = utils.time_to_sec(start_time) + START_PUP_CAPTURE_THRESH\\n            end_seconds = utils.time_to_sec(end_time) - END_PUP_CAPTURE_THRESH\\n            diff_seconds = end_seconds - start_seconds\\n\\n            future_number_of_images = images_recorded + diff_seconds\\n            # Stop recording excess number of images.\\n            if future_number_of_images > pup_images:\\n                end_seconds = start_seconds + (pup_images - images_recorded)\\n                diff_seconds = end_seconds - start_seconds\\n\\n            print(\\n                f\\\"Starts at {start_seconds} seconds and end at {end_seconds} seconds of interval {diff_seconds} seconds\\\"\\n            )\\n            create_dataset_pipeline(start_seconds, end_seconds, \\\"child-mice\\\", False)\\n\\n            images_recorded += diff_seconds\\n\\n            trials_done.append(trial)  # append unique trials\\n    split_train_test(\\\"child-mice\\\", 0.8)\\n\\n    train_size = len(os.listdir(f\\\"{path_to_data}/train/child-mice\\\"))\\n    test_size = len(os.listdir(f\\\"{path_to_data}/test/child-mice\\\"))\\n\\n    print(\\n        f\\\"Saved all {images_recorded} child image files and train has {train_size} pictures and test has {test_size} pictures!\\\"\\n    )\";\n",
       "                var nbb_cells = Jupyter.notebook.get_cells();\n",
       "                for (var i = 0; i < nbb_cells.length; ++i) {\n",
       "                    if (nbb_cells[i].input_prompt_number == nbb_cell_id) {\n",
       "                        if (nbb_cells[i].get_text() == nbb_unformatted_code) {\n",
       "                             nbb_cells[i].set_text(nbb_formatted_code);\n",
       "                        }\n",
       "                        break;\n",
       "                    }\n",
       "                }\n",
       "            }, 500);\n",
       "            "
      ],
      "text/plain": [
       "<IPython.core.display.Javascript object>"
      ]
     },
     "metadata": {},
     "output_type": "display_data"
    },
    {
     "data": {
      "application/javascript": [
       "\n",
       "            setTimeout(function() {\n",
       "                var nbb_cell_id = 78;\n",
       "                var nbb_unformatted_code = \"def create_pup_dataset(pup_images: int):\\n    START_PUP_CAPTURE_THRESH = 1\\n    END_PUP_CAPTURE_THRESH = 1\\n\\n    min_trial = curr_mouse_df.head(1).Trial.item()\\n    max_trial = curr_mouse_df.tail(1).Trial.item()\\n\\n    trials_done = []\\n    all_possible_trials = list(curr_mouse_df.Trial)\\n    images_recorded = 0\\n\\n    while images_recorded < pup_images:\\n\\n        trial = random.randint(min_trial, max_trial)\\n        trial_row = curr_mouse_df.loc[curr_mouse_df.Trial == trial]\\n\\n        if len(trials_done) == len(curr_mouse_df):\\n            print(\\\"Insufficient contact group images...\\\")\\n            break\\n        if (trial not in trials_done) and (trial in all_possible_trials):\\n            trial_row = curr_mouse_df[curr_mouse_df.Trial == trial]\\n\\n            start_time = str(trial_row.Start.item())\\n            end_time = str(trial_row.Time_Latency_Contact_s.item())\\n\\n            start_seconds = utils.time_to_sec(start_time) + START_PUP_CAPTURE_THRESH\\n            end_seconds = utils.time_to_sec(end_time) - END_PUP_CAPTURE_THRESH\\n            diff_seconds = end_seconds - start_seconds\\n\\n            future_number_of_images = images_recorded + diff_seconds\\n            # Stop recording excess number of images.\\n            if future_number_of_images > pup_images:\\n                end_seconds = start_seconds + (pup_images - images_recorded)\\n                diff_seconds = end_seconds - start_seconds\\n\\n            print(\\n                f\\\"Starts at {start_seconds} seconds and end at {end_seconds} seconds of interval {diff_seconds} seconds\\\"\\n            )\\n            create_dataset_pipeline(start_seconds, end_seconds, \\\"child-mice\\\", False)\\n\\n            images_recorded += diff_seconds\\n\\n            trials_done.append(trial)  # append unique trials\\n    split_train_test(\\\"child-mice\\\", 0.8)\\n\\n    train_size = len(os.listdir(f\\\"{path_to_data}/train/child-mice\\\"))\\n    test_size = len(os.listdir(f\\\"{path_to_data}/test/child-mice\\\"))\\n\\n    print(\\n        f\\\"Saved all {images_recorded} child image files and train has {train_size} pictures and test has {test_size} pictures!\\\"\\n    )\";\n",
       "                var nbb_formatted_code = \"def create_pup_dataset(pup_images: int):\\n    START_PUP_CAPTURE_THRESH = 1\\n    END_PUP_CAPTURE_THRESH = 1\\n\\n    min_trial = curr_mouse_df.head(1).Trial.item()\\n    max_trial = curr_mouse_df.tail(1).Trial.item()\\n\\n    trials_done = []\\n    all_possible_trials = list(curr_mouse_df.Trial)\\n    images_recorded = 0\\n\\n    while images_recorded < pup_images:\\n\\n        trial = random.randint(min_trial, max_trial)\\n        trial_row = curr_mouse_df.loc[curr_mouse_df.Trial == trial]\\n\\n        if len(trials_done) == len(curr_mouse_df):\\n            print(\\\"Insufficient contact group images...\\\")\\n            break\\n        if (trial not in trials_done) and (trial in all_possible_trials):\\n            trial_row = curr_mouse_df[curr_mouse_df.Trial == trial]\\n\\n            start_time = str(trial_row.Start.item())\\n            end_time = str(trial_row.Time_Latency_Contact_s.item())\\n\\n            start_seconds = utils.time_to_sec(start_time) + START_PUP_CAPTURE_THRESH\\n            end_seconds = utils.time_to_sec(end_time) - END_PUP_CAPTURE_THRESH\\n            diff_seconds = end_seconds - start_seconds\\n\\n            future_number_of_images = images_recorded + diff_seconds\\n            # Stop recording excess number of images.\\n            if future_number_of_images > pup_images:\\n                end_seconds = start_seconds + (pup_images - images_recorded)\\n                diff_seconds = end_seconds - start_seconds\\n\\n            print(\\n                f\\\"Starts at {start_seconds} seconds and end at {end_seconds} seconds of interval {diff_seconds} seconds\\\"\\n            )\\n            create_dataset_pipeline(start_seconds, end_seconds, \\\"child-mice\\\", False)\\n\\n            images_recorded += diff_seconds\\n\\n            trials_done.append(trial)  # append unique trials\\n    split_train_test(\\\"child-mice\\\", 0.8)\\n\\n    train_size = len(os.listdir(f\\\"{path_to_data}/train/child-mice\\\"))\\n    test_size = len(os.listdir(f\\\"{path_to_data}/test/child-mice\\\"))\\n\\n    print(\\n        f\\\"Saved all {images_recorded} child image files and train has {train_size} pictures and test has {test_size} pictures!\\\"\\n    )\";\n",
       "                var nbb_cells = Jupyter.notebook.get_cells();\n",
       "                for (var i = 0; i < nbb_cells.length; ++i) {\n",
       "                    if (nbb_cells[i].input_prompt_number == nbb_cell_id) {\n",
       "                        if (nbb_cells[i].get_text() == nbb_unformatted_code) {\n",
       "                             nbb_cells[i].set_text(nbb_formatted_code);\n",
       "                        }\n",
       "                        break;\n",
       "                    }\n",
       "                }\n",
       "            }, 500);\n",
       "            "
      ],
      "text/plain": [
       "<IPython.core.display.Javascript object>"
      ]
     },
     "metadata": {},
     "output_type": "display_data"
    },
    {
     "data": {
      "application/javascript": [
       "\n",
       "            setTimeout(function() {\n",
       "                var nbb_cell_id = 78;\n",
       "                var nbb_unformatted_code = \"def create_pup_dataset(pup_images: int):\\n    START_PUP_CAPTURE_THRESH = 1\\n    END_PUP_CAPTURE_THRESH = 1\\n\\n    min_trial = curr_mouse_df.head(1).Trial.item()\\n    max_trial = curr_mouse_df.tail(1).Trial.item()\\n\\n    trials_done = []\\n    all_possible_trials = list(curr_mouse_df.Trial)\\n    images_recorded = 0\\n\\n    while images_recorded < pup_images:\\n\\n        trial = random.randint(min_trial, max_trial)\\n        trial_row = curr_mouse_df.loc[curr_mouse_df.Trial == trial]\\n\\n        if len(trials_done) == len(curr_mouse_df):\\n            print(\\\"Insufficient contact group images...\\\")\\n            break\\n        if (trial not in trials_done) and (trial in all_possible_trials):\\n            trial_row = curr_mouse_df[curr_mouse_df.Trial == trial]\\n\\n            start_time = str(trial_row.Start.item())\\n            end_time = str(trial_row.Time_Latency_Contact_s.item())\\n\\n            start_seconds = utils.time_to_sec(start_time) + START_PUP_CAPTURE_THRESH\\n            end_seconds = utils.time_to_sec(end_time) - END_PUP_CAPTURE_THRESH\\n            diff_seconds = end_seconds - start_seconds\\n\\n            future_number_of_images = images_recorded + diff_seconds\\n            # Stop recording excess number of images.\\n            if future_number_of_images > pup_images:\\n                end_seconds = start_seconds + (pup_images - images_recorded)\\n                diff_seconds = end_seconds - start_seconds\\n\\n            print(\\n                f\\\"Starts at {start_seconds} seconds and end at {end_seconds} seconds of interval {diff_seconds} seconds\\\"\\n            )\\n            create_dataset_pipeline(start_seconds, end_seconds, \\\"child-mice\\\", False)\\n\\n            images_recorded += diff_seconds\\n\\n            trials_done.append(trial)  # append unique trials\\n    split_train_test(\\\"child-mice\\\", 0.8)\\n\\n    train_size = len(os.listdir(f\\\"{path_to_data}/train/child-mice\\\"))\\n    test_size = len(os.listdir(f\\\"{path_to_data}/test/child-mice\\\"))\\n\\n    print(\\n        f\\\"Saved all {images_recorded} child image files and train has {train_size} pictures and test has {test_size} pictures!\\\"\\n    )\";\n",
       "                var nbb_formatted_code = \"def create_pup_dataset(pup_images: int):\\n    START_PUP_CAPTURE_THRESH = 1\\n    END_PUP_CAPTURE_THRESH = 1\\n\\n    min_trial = curr_mouse_df.head(1).Trial.item()\\n    max_trial = curr_mouse_df.tail(1).Trial.item()\\n\\n    trials_done = []\\n    all_possible_trials = list(curr_mouse_df.Trial)\\n    images_recorded = 0\\n\\n    while images_recorded < pup_images:\\n\\n        trial = random.randint(min_trial, max_trial)\\n        trial_row = curr_mouse_df.loc[curr_mouse_df.Trial == trial]\\n\\n        if len(trials_done) == len(curr_mouse_df):\\n            print(\\\"Insufficient contact group images...\\\")\\n            break\\n        if (trial not in trials_done) and (trial in all_possible_trials):\\n            trial_row = curr_mouse_df[curr_mouse_df.Trial == trial]\\n\\n            start_time = str(trial_row.Start.item())\\n            end_time = str(trial_row.Time_Latency_Contact_s.item())\\n\\n            start_seconds = utils.time_to_sec(start_time) + START_PUP_CAPTURE_THRESH\\n            end_seconds = utils.time_to_sec(end_time) - END_PUP_CAPTURE_THRESH\\n            diff_seconds = end_seconds - start_seconds\\n\\n            future_number_of_images = images_recorded + diff_seconds\\n            # Stop recording excess number of images.\\n            if future_number_of_images > pup_images:\\n                end_seconds = start_seconds + (pup_images - images_recorded)\\n                diff_seconds = end_seconds - start_seconds\\n\\n            print(\\n                f\\\"Starts at {start_seconds} seconds and end at {end_seconds} seconds of interval {diff_seconds} seconds\\\"\\n            )\\n            create_dataset_pipeline(start_seconds, end_seconds, \\\"child-mice\\\", False)\\n\\n            images_recorded += diff_seconds\\n\\n            trials_done.append(trial)  # append unique trials\\n    split_train_test(\\\"child-mice\\\", 0.8)\\n\\n    train_size = len(os.listdir(f\\\"{path_to_data}/train/child-mice\\\"))\\n    test_size = len(os.listdir(f\\\"{path_to_data}/test/child-mice\\\"))\\n\\n    print(\\n        f\\\"Saved all {images_recorded} child image files and train has {train_size} pictures and test has {test_size} pictures!\\\"\\n    )\";\n",
       "                var nbb_cells = Jupyter.notebook.get_cells();\n",
       "                for (var i = 0; i < nbb_cells.length; ++i) {\n",
       "                    if (nbb_cells[i].input_prompt_number == nbb_cell_id) {\n",
       "                        if (nbb_cells[i].get_text() == nbb_unformatted_code) {\n",
       "                             nbb_cells[i].set_text(nbb_formatted_code);\n",
       "                        }\n",
       "                        break;\n",
       "                    }\n",
       "                }\n",
       "            }, 500);\n",
       "            "
      ],
      "text/plain": [
       "<IPython.core.display.Javascript object>"
      ]
     },
     "metadata": {},
     "output_type": "display_data"
    },
    {
     "data": {
      "application/javascript": [
       "\n",
       "            setTimeout(function() {\n",
       "                var nbb_cell_id = 78;\n",
       "                var nbb_unformatted_code = \"def create_pup_dataset(pup_images: int):\\n    START_PUP_CAPTURE_THRESH = 1\\n    END_PUP_CAPTURE_THRESH = 1\\n\\n    min_trial = curr_mouse_df.head(1).Trial.item()\\n    max_trial = curr_mouse_df.tail(1).Trial.item()\\n\\n    trials_done = []\\n    all_possible_trials = list(curr_mouse_df.Trial)\\n    images_recorded = 0\\n\\n    while images_recorded < pup_images:\\n\\n        trial = random.randint(min_trial, max_trial)\\n        trial_row = curr_mouse_df.loc[curr_mouse_df.Trial == trial]\\n\\n        if len(trials_done) == len(curr_mouse_df):\\n            print(\\\"Insufficient contact group images...\\\")\\n            break\\n        if (trial not in trials_done) and (trial in all_possible_trials):\\n            trial_row = curr_mouse_df[curr_mouse_df.Trial == trial]\\n\\n            start_time = str(trial_row.Start.item())\\n            end_time = str(trial_row.Time_Latency_Contact_s.item())\\n\\n            start_seconds = utils.time_to_sec(start_time) + START_PUP_CAPTURE_THRESH\\n            end_seconds = utils.time_to_sec(end_time) - END_PUP_CAPTURE_THRESH\\n            diff_seconds = end_seconds - start_seconds\\n\\n            future_number_of_images = images_recorded + diff_seconds\\n            # Stop recording excess number of images.\\n            if future_number_of_images > pup_images:\\n                end_seconds = start_seconds + (pup_images - images_recorded)\\n                diff_seconds = end_seconds - start_seconds\\n\\n            print(\\n                f\\\"Starts at {start_seconds} seconds and end at {end_seconds} seconds of interval {diff_seconds} seconds\\\"\\n            )\\n            create_dataset_pipeline(start_seconds, end_seconds, \\\"child-mice\\\", False)\\n\\n            images_recorded += diff_seconds\\n\\n            trials_done.append(trial)  # append unique trials\\n    split_train_test(\\\"child-mice\\\", 0.8)\\n\\n    train_size = len(os.listdir(f\\\"{path_to_data}/train/child-mice\\\"))\\n    test_size = len(os.listdir(f\\\"{path_to_data}/test/child-mice\\\"))\\n\\n    print(\\n        f\\\"Saved all {images_recorded} child image files and train has {train_size} pictures and test has {test_size} pictures!\\\"\\n    )\";\n",
       "                var nbb_formatted_code = \"def create_pup_dataset(pup_images: int):\\n    START_PUP_CAPTURE_THRESH = 1\\n    END_PUP_CAPTURE_THRESH = 1\\n\\n    min_trial = curr_mouse_df.head(1).Trial.item()\\n    max_trial = curr_mouse_df.tail(1).Trial.item()\\n\\n    trials_done = []\\n    all_possible_trials = list(curr_mouse_df.Trial)\\n    images_recorded = 0\\n\\n    while images_recorded < pup_images:\\n\\n        trial = random.randint(min_trial, max_trial)\\n        trial_row = curr_mouse_df.loc[curr_mouse_df.Trial == trial]\\n\\n        if len(trials_done) == len(curr_mouse_df):\\n            print(\\\"Insufficient contact group images...\\\")\\n            break\\n        if (trial not in trials_done) and (trial in all_possible_trials):\\n            trial_row = curr_mouse_df[curr_mouse_df.Trial == trial]\\n\\n            start_time = str(trial_row.Start.item())\\n            end_time = str(trial_row.Time_Latency_Contact_s.item())\\n\\n            start_seconds = utils.time_to_sec(start_time) + START_PUP_CAPTURE_THRESH\\n            end_seconds = utils.time_to_sec(end_time) - END_PUP_CAPTURE_THRESH\\n            diff_seconds = end_seconds - start_seconds\\n\\n            future_number_of_images = images_recorded + diff_seconds\\n            # Stop recording excess number of images.\\n            if future_number_of_images > pup_images:\\n                end_seconds = start_seconds + (pup_images - images_recorded)\\n                diff_seconds = end_seconds - start_seconds\\n\\n            print(\\n                f\\\"Starts at {start_seconds} seconds and end at {end_seconds} seconds of interval {diff_seconds} seconds\\\"\\n            )\\n            create_dataset_pipeline(start_seconds, end_seconds, \\\"child-mice\\\", False)\\n\\n            images_recorded += diff_seconds\\n\\n            trials_done.append(trial)  # append unique trials\\n    split_train_test(\\\"child-mice\\\", 0.8)\\n\\n    train_size = len(os.listdir(f\\\"{path_to_data}/train/child-mice\\\"))\\n    test_size = len(os.listdir(f\\\"{path_to_data}/test/child-mice\\\"))\\n\\n    print(\\n        f\\\"Saved all {images_recorded} child image files and train has {train_size} pictures and test has {test_size} pictures!\\\"\\n    )\";\n",
       "                var nbb_cells = Jupyter.notebook.get_cells();\n",
       "                for (var i = 0; i < nbb_cells.length; ++i) {\n",
       "                    if (nbb_cells[i].input_prompt_number == nbb_cell_id) {\n",
       "                        if (nbb_cells[i].get_text() == nbb_unformatted_code) {\n",
       "                             nbb_cells[i].set_text(nbb_formatted_code);\n",
       "                        }\n",
       "                        break;\n",
       "                    }\n",
       "                }\n",
       "            }, 500);\n",
       "            "
      ],
      "text/plain": [
       "<IPython.core.display.Javascript object>"
      ]
     },
     "metadata": {},
     "output_type": "display_data"
    },
    {
     "data": {
      "application/javascript": [
       "\n",
       "            setTimeout(function() {\n",
       "                var nbb_cell_id = 78;\n",
       "                var nbb_unformatted_code = \"def create_pup_dataset(pup_images: int):\\n    START_PUP_CAPTURE_THRESH = 1\\n    END_PUP_CAPTURE_THRESH = 1\\n\\n    min_trial = curr_mouse_df.head(1).Trial.item()\\n    max_trial = curr_mouse_df.tail(1).Trial.item()\\n\\n    trials_done = []\\n    all_possible_trials = list(curr_mouse_df.Trial)\\n    images_recorded = 0\\n\\n    while images_recorded < pup_images:\\n\\n        trial = random.randint(min_trial, max_trial)\\n        trial_row = curr_mouse_df.loc[curr_mouse_df.Trial == trial]\\n\\n        if len(trials_done) == len(curr_mouse_df):\\n            print(\\\"Insufficient contact group images...\\\")\\n            break\\n        if (trial not in trials_done) and (trial in all_possible_trials):\\n            trial_row = curr_mouse_df[curr_mouse_df.Trial == trial]\\n\\n            start_time = str(trial_row.Start.item())\\n            end_time = str(trial_row.Time_Latency_Contact_s.item())\\n\\n            start_seconds = utils.time_to_sec(start_time) + START_PUP_CAPTURE_THRESH\\n            end_seconds = utils.time_to_sec(end_time) - END_PUP_CAPTURE_THRESH\\n            diff_seconds = end_seconds - start_seconds\\n\\n            future_number_of_images = images_recorded + diff_seconds\\n            # Stop recording excess number of images.\\n            if future_number_of_images > pup_images:\\n                end_seconds = start_seconds + (pup_images - images_recorded)\\n                diff_seconds = end_seconds - start_seconds\\n\\n            print(\\n                f\\\"Starts at {start_seconds} seconds and end at {end_seconds} seconds of interval {diff_seconds} seconds\\\"\\n            )\\n            create_dataset_pipeline(start_seconds, end_seconds, \\\"child-mice\\\", False)\\n\\n            images_recorded += diff_seconds\\n\\n            trials_done.append(trial)  # append unique trials\\n    split_train_test(\\\"child-mice\\\", 0.8)\\n\\n    train_size = len(os.listdir(f\\\"{path_to_data}/train/child-mice\\\"))\\n    test_size = len(os.listdir(f\\\"{path_to_data}/test/child-mice\\\"))\\n\\n    print(\\n        f\\\"Saved all {images_recorded} child image files and train has {train_size} pictures and test has {test_size} pictures!\\\"\\n    )\";\n",
       "                var nbb_formatted_code = \"def create_pup_dataset(pup_images: int):\\n    START_PUP_CAPTURE_THRESH = 1\\n    END_PUP_CAPTURE_THRESH = 1\\n\\n    min_trial = curr_mouse_df.head(1).Trial.item()\\n    max_trial = curr_mouse_df.tail(1).Trial.item()\\n\\n    trials_done = []\\n    all_possible_trials = list(curr_mouse_df.Trial)\\n    images_recorded = 0\\n\\n    while images_recorded < pup_images:\\n\\n        trial = random.randint(min_trial, max_trial)\\n        trial_row = curr_mouse_df.loc[curr_mouse_df.Trial == trial]\\n\\n        if len(trials_done) == len(curr_mouse_df):\\n            print(\\\"Insufficient contact group images...\\\")\\n            break\\n        if (trial not in trials_done) and (trial in all_possible_trials):\\n            trial_row = curr_mouse_df[curr_mouse_df.Trial == trial]\\n\\n            start_time = str(trial_row.Start.item())\\n            end_time = str(trial_row.Time_Latency_Contact_s.item())\\n\\n            start_seconds = utils.time_to_sec(start_time) + START_PUP_CAPTURE_THRESH\\n            end_seconds = utils.time_to_sec(end_time) - END_PUP_CAPTURE_THRESH\\n            diff_seconds = end_seconds - start_seconds\\n\\n            future_number_of_images = images_recorded + diff_seconds\\n            # Stop recording excess number of images.\\n            if future_number_of_images > pup_images:\\n                end_seconds = start_seconds + (pup_images - images_recorded)\\n                diff_seconds = end_seconds - start_seconds\\n\\n            print(\\n                f\\\"Starts at {start_seconds} seconds and end at {end_seconds} seconds of interval {diff_seconds} seconds\\\"\\n            )\\n            create_dataset_pipeline(start_seconds, end_seconds, \\\"child-mice\\\", False)\\n\\n            images_recorded += diff_seconds\\n\\n            trials_done.append(trial)  # append unique trials\\n    split_train_test(\\\"child-mice\\\", 0.8)\\n\\n    train_size = len(os.listdir(f\\\"{path_to_data}/train/child-mice\\\"))\\n    test_size = len(os.listdir(f\\\"{path_to_data}/test/child-mice\\\"))\\n\\n    print(\\n        f\\\"Saved all {images_recorded} child image files and train has {train_size} pictures and test has {test_size} pictures!\\\"\\n    )\";\n",
       "                var nbb_cells = Jupyter.notebook.get_cells();\n",
       "                for (var i = 0; i < nbb_cells.length; ++i) {\n",
       "                    if (nbb_cells[i].input_prompt_number == nbb_cell_id) {\n",
       "                        if (nbb_cells[i].get_text() == nbb_unformatted_code) {\n",
       "                             nbb_cells[i].set_text(nbb_formatted_code);\n",
       "                        }\n",
       "                        break;\n",
       "                    }\n",
       "                }\n",
       "            }, 500);\n",
       "            "
      ],
      "text/plain": [
       "<IPython.core.display.Javascript object>"
      ]
     },
     "metadata": {},
     "output_type": "display_data"
    }
   ],
   "source": [
    "def create_pup_dataset(pup_images: int):\n",
    "    START_PUP_CAPTURE_THRESH = 1\n",
    "    END_PUP_CAPTURE_THRESH = 1\n",
    "\n",
    "    min_trial = curr_mouse_df.head(1).Trial.item()\n",
    "    max_trial = curr_mouse_df.tail(1).Trial.item()\n",
    "\n",
    "    trials_done = []\n",
    "    all_possible_trials = list(curr_mouse_df.Trial)\n",
    "    images_recorded = 0\n",
    "\n",
    "    while images_recorded < pup_images:\n",
    "\n",
    "        trial = random.randint(min_trial, max_trial)\n",
    "        trial_row = curr_mouse_df.loc[curr_mouse_df.Trial == trial]\n",
    "\n",
    "        if len(trials_done) == len(curr_mouse_df):\n",
    "            print(\"Insufficient contact group images...\")\n",
    "            break\n",
    "        if (trial not in trials_done) and (trial in all_possible_trials):\n",
    "            trial_row = curr_mouse_df[curr_mouse_df.Trial == trial]\n",
    "\n",
    "            start_time = str(trial_row.Start.item())\n",
    "            end_time = str(trial_row.Time_Latency_Contact_s.item())\n",
    "\n",
    "            start_seconds = utils.time_to_sec(start_time) + START_PUP_CAPTURE_THRESH\n",
    "            end_seconds = utils.time_to_sec(end_time) - END_PUP_CAPTURE_THRESH\n",
    "            diff_seconds = end_seconds - start_seconds\n",
    "\n",
    "            future_number_of_images = images_recorded + diff_seconds\n",
    "            # Stop recording excess number of images.\n",
    "            if future_number_of_images > pup_images:\n",
    "                end_seconds = start_seconds + (pup_images - images_recorded)\n",
    "                diff_seconds = end_seconds - start_seconds\n",
    "\n",
    "            print(\n",
    "                f\"Starts at {start_seconds} seconds and end at {end_seconds} seconds of interval {diff_seconds} seconds\"\n",
    "            )\n",
    "            create_dataset_pipeline(start_seconds, end_seconds, \"child-mice\", False)\n",
    "\n",
    "            images_recorded += diff_seconds\n",
    "\n",
    "            trials_done.append(trial)  # append unique trials\n",
    "    split_train_test(\"child-mice\", 0.8)\n",
    "\n",
    "    train_size = len(os.listdir(f\"{path_to_data}/train/child-mice\"))\n",
    "    test_size = len(os.listdir(f\"{path_to_data}/test/child-mice\"))\n",
    "\n",
    "    print(\n",
    "        f\"Saved all {images_recorded} child image files and train has {train_size} pictures and test has {test_size} pictures!\"\n",
    "    )"
   ]
  },
  {
   "cell_type": "code",
   "execution_count": 79,
   "metadata": {},
   "outputs": [
    {
     "data": {
      "application/javascript": [
       "\n",
       "            setTimeout(function() {\n",
       "                var nbb_cell_id = 79;\n",
       "                var nbb_unformatted_code = \"def create_final_parent_pup_dataset(images: int, create_parent: bool, create_child: bool):\\n    try:\\n        if create_child:\\n            utils.remove_all_files(f\\\"{path_to_data}/train/child-mice\\\")\\n            utils.remove_all_files(f\\\"{path_to_data}/test/child-mice\\\")\\n            create_pup_dataset(images)\\n        if create_parent:\\n            utils.remove_all_files(f\\\"{path_to_data}/train/parent-mice\\\")\\n            utils.remove_all_files(f\\\"{path_to_data}/test/parent-mice\\\")\\n            create_parent_dataset(images)\\n    except:\\n        var = traceback.format_exc()\\n        print(var)\";\n",
       "                var nbb_formatted_code = \"def create_final_parent_pup_dataset(\\n    images: int, create_parent: bool, create_child: bool\\n):\\n    try:\\n        if create_child:\\n            utils.remove_all_files(f\\\"{path_to_data}/train/child-mice\\\")\\n            utils.remove_all_files(f\\\"{path_to_data}/test/child-mice\\\")\\n            create_pup_dataset(images)\\n        if create_parent:\\n            utils.remove_all_files(f\\\"{path_to_data}/train/parent-mice\\\")\\n            utils.remove_all_files(f\\\"{path_to_data}/test/parent-mice\\\")\\n            create_parent_dataset(images)\\n    except:\\n        var = traceback.format_exc()\\n        print(var)\";\n",
       "                var nbb_cells = Jupyter.notebook.get_cells();\n",
       "                for (var i = 0; i < nbb_cells.length; ++i) {\n",
       "                    if (nbb_cells[i].input_prompt_number == nbb_cell_id) {\n",
       "                        if (nbb_cells[i].get_text() == nbb_unformatted_code) {\n",
       "                             nbb_cells[i].set_text(nbb_formatted_code);\n",
       "                        }\n",
       "                        break;\n",
       "                    }\n",
       "                }\n",
       "            }, 500);\n",
       "            "
      ],
      "text/plain": [
       "<IPython.core.display.Javascript object>"
      ]
     },
     "metadata": {},
     "output_type": "display_data"
    },
    {
     "data": {
      "application/javascript": [
       "\n",
       "            setTimeout(function() {\n",
       "                var nbb_cell_id = 79;\n",
       "                var nbb_unformatted_code = \"def create_final_parent_pup_dataset(images: int, create_parent: bool, create_child: bool):\\n    try:\\n        if create_child:\\n            utils.remove_all_files(f\\\"{path_to_data}/train/child-mice\\\")\\n            utils.remove_all_files(f\\\"{path_to_data}/test/child-mice\\\")\\n            create_pup_dataset(images)\\n        if create_parent:\\n            utils.remove_all_files(f\\\"{path_to_data}/train/parent-mice\\\")\\n            utils.remove_all_files(f\\\"{path_to_data}/test/parent-mice\\\")\\n            create_parent_dataset(images)\\n    except:\\n        var = traceback.format_exc()\\n        print(var)\";\n",
       "                var nbb_formatted_code = \"def create_final_parent_pup_dataset(\\n    images: int, create_parent: bool, create_child: bool\\n):\\n    try:\\n        if create_child:\\n            utils.remove_all_files(f\\\"{path_to_data}/train/child-mice\\\")\\n            utils.remove_all_files(f\\\"{path_to_data}/test/child-mice\\\")\\n            create_pup_dataset(images)\\n        if create_parent:\\n            utils.remove_all_files(f\\\"{path_to_data}/train/parent-mice\\\")\\n            utils.remove_all_files(f\\\"{path_to_data}/test/parent-mice\\\")\\n            create_parent_dataset(images)\\n    except:\\n        var = traceback.format_exc()\\n        print(var)\";\n",
       "                var nbb_cells = Jupyter.notebook.get_cells();\n",
       "                for (var i = 0; i < nbb_cells.length; ++i) {\n",
       "                    if (nbb_cells[i].input_prompt_number == nbb_cell_id) {\n",
       "                        if (nbb_cells[i].get_text() == nbb_unformatted_code) {\n",
       "                             nbb_cells[i].set_text(nbb_formatted_code);\n",
       "                        }\n",
       "                        break;\n",
       "                    }\n",
       "                }\n",
       "            }, 500);\n",
       "            "
      ],
      "text/plain": [
       "<IPython.core.display.Javascript object>"
      ]
     },
     "metadata": {},
     "output_type": "display_data"
    },
    {
     "data": {
      "application/javascript": [
       "\n",
       "            setTimeout(function() {\n",
       "                var nbb_cell_id = 79;\n",
       "                var nbb_unformatted_code = \"def create_final_parent_pup_dataset(images: int, create_parent: bool, create_child: bool):\\n    try:\\n        if create_child:\\n            utils.remove_all_files(f\\\"{path_to_data}/train/child-mice\\\")\\n            utils.remove_all_files(f\\\"{path_to_data}/test/child-mice\\\")\\n            create_pup_dataset(images)\\n        if create_parent:\\n            utils.remove_all_files(f\\\"{path_to_data}/train/parent-mice\\\")\\n            utils.remove_all_files(f\\\"{path_to_data}/test/parent-mice\\\")\\n            create_parent_dataset(images)\\n    except:\\n        var = traceback.format_exc()\\n        print(var)\";\n",
       "                var nbb_formatted_code = \"def create_final_parent_pup_dataset(\\n    images: int, create_parent: bool, create_child: bool\\n):\\n    try:\\n        if create_child:\\n            utils.remove_all_files(f\\\"{path_to_data}/train/child-mice\\\")\\n            utils.remove_all_files(f\\\"{path_to_data}/test/child-mice\\\")\\n            create_pup_dataset(images)\\n        if create_parent:\\n            utils.remove_all_files(f\\\"{path_to_data}/train/parent-mice\\\")\\n            utils.remove_all_files(f\\\"{path_to_data}/test/parent-mice\\\")\\n            create_parent_dataset(images)\\n    except:\\n        var = traceback.format_exc()\\n        print(var)\";\n",
       "                var nbb_cells = Jupyter.notebook.get_cells();\n",
       "                for (var i = 0; i < nbb_cells.length; ++i) {\n",
       "                    if (nbb_cells[i].input_prompt_number == nbb_cell_id) {\n",
       "                        if (nbb_cells[i].get_text() == nbb_unformatted_code) {\n",
       "                             nbb_cells[i].set_text(nbb_formatted_code);\n",
       "                        }\n",
       "                        break;\n",
       "                    }\n",
       "                }\n",
       "            }, 500);\n",
       "            "
      ],
      "text/plain": [
       "<IPython.core.display.Javascript object>"
      ]
     },
     "metadata": {},
     "output_type": "display_data"
    },
    {
     "data": {
      "application/javascript": [
       "\n",
       "            setTimeout(function() {\n",
       "                var nbb_cell_id = 79;\n",
       "                var nbb_unformatted_code = \"def create_final_parent_pup_dataset(images: int, create_parent: bool, create_child: bool):\\n    try:\\n        if create_child:\\n            utils.remove_all_files(f\\\"{path_to_data}/train/child-mice\\\")\\n            utils.remove_all_files(f\\\"{path_to_data}/test/child-mice\\\")\\n            create_pup_dataset(images)\\n        if create_parent:\\n            utils.remove_all_files(f\\\"{path_to_data}/train/parent-mice\\\")\\n            utils.remove_all_files(f\\\"{path_to_data}/test/parent-mice\\\")\\n            create_parent_dataset(images)\\n    except:\\n        var = traceback.format_exc()\\n        print(var)\";\n",
       "                var nbb_formatted_code = \"def create_final_parent_pup_dataset(\\n    images: int, create_parent: bool, create_child: bool\\n):\\n    try:\\n        if create_child:\\n            utils.remove_all_files(f\\\"{path_to_data}/train/child-mice\\\")\\n            utils.remove_all_files(f\\\"{path_to_data}/test/child-mice\\\")\\n            create_pup_dataset(images)\\n        if create_parent:\\n            utils.remove_all_files(f\\\"{path_to_data}/train/parent-mice\\\")\\n            utils.remove_all_files(f\\\"{path_to_data}/test/parent-mice\\\")\\n            create_parent_dataset(images)\\n    except:\\n        var = traceback.format_exc()\\n        print(var)\";\n",
       "                var nbb_cells = Jupyter.notebook.get_cells();\n",
       "                for (var i = 0; i < nbb_cells.length; ++i) {\n",
       "                    if (nbb_cells[i].input_prompt_number == nbb_cell_id) {\n",
       "                        if (nbb_cells[i].get_text() == nbb_unformatted_code) {\n",
       "                             nbb_cells[i].set_text(nbb_formatted_code);\n",
       "                        }\n",
       "                        break;\n",
       "                    }\n",
       "                }\n",
       "            }, 500);\n",
       "            "
      ],
      "text/plain": [
       "<IPython.core.display.Javascript object>"
      ]
     },
     "metadata": {},
     "output_type": "display_data"
    },
    {
     "data": {
      "application/javascript": [
       "\n",
       "            setTimeout(function() {\n",
       "                var nbb_cell_id = 79;\n",
       "                var nbb_unformatted_code = \"def create_final_parent_pup_dataset(images: int, create_parent: bool, create_child: bool):\\n    try:\\n        if create_child:\\n            utils.remove_all_files(f\\\"{path_to_data}/train/child-mice\\\")\\n            utils.remove_all_files(f\\\"{path_to_data}/test/child-mice\\\")\\n            create_pup_dataset(images)\\n        if create_parent:\\n            utils.remove_all_files(f\\\"{path_to_data}/train/parent-mice\\\")\\n            utils.remove_all_files(f\\\"{path_to_data}/test/parent-mice\\\")\\n            create_parent_dataset(images)\\n    except:\\n        var = traceback.format_exc()\\n        print(var)\";\n",
       "                var nbb_formatted_code = \"def create_final_parent_pup_dataset(\\n    images: int, create_parent: bool, create_child: bool\\n):\\n    try:\\n        if create_child:\\n            utils.remove_all_files(f\\\"{path_to_data}/train/child-mice\\\")\\n            utils.remove_all_files(f\\\"{path_to_data}/test/child-mice\\\")\\n            create_pup_dataset(images)\\n        if create_parent:\\n            utils.remove_all_files(f\\\"{path_to_data}/train/parent-mice\\\")\\n            utils.remove_all_files(f\\\"{path_to_data}/test/parent-mice\\\")\\n            create_parent_dataset(images)\\n    except:\\n        var = traceback.format_exc()\\n        print(var)\";\n",
       "                var nbb_cells = Jupyter.notebook.get_cells();\n",
       "                for (var i = 0; i < nbb_cells.length; ++i) {\n",
       "                    if (nbb_cells[i].input_prompt_number == nbb_cell_id) {\n",
       "                        if (nbb_cells[i].get_text() == nbb_unformatted_code) {\n",
       "                             nbb_cells[i].set_text(nbb_formatted_code);\n",
       "                        }\n",
       "                        break;\n",
       "                    }\n",
       "                }\n",
       "            }, 500);\n",
       "            "
      ],
      "text/plain": [
       "<IPython.core.display.Javascript object>"
      ]
     },
     "metadata": {},
     "output_type": "display_data"
    },
    {
     "data": {
      "application/javascript": [
       "\n",
       "            setTimeout(function() {\n",
       "                var nbb_cell_id = 79;\n",
       "                var nbb_unformatted_code = \"def create_final_parent_pup_dataset(images: int, create_parent: bool, create_child: bool):\\n    try:\\n        if create_child:\\n            utils.remove_all_files(f\\\"{path_to_data}/train/child-mice\\\")\\n            utils.remove_all_files(f\\\"{path_to_data}/test/child-mice\\\")\\n            create_pup_dataset(images)\\n        if create_parent:\\n            utils.remove_all_files(f\\\"{path_to_data}/train/parent-mice\\\")\\n            utils.remove_all_files(f\\\"{path_to_data}/test/parent-mice\\\")\\n            create_parent_dataset(images)\\n    except:\\n        var = traceback.format_exc()\\n        print(var)\";\n",
       "                var nbb_formatted_code = \"def create_final_parent_pup_dataset(\\n    images: int, create_parent: bool, create_child: bool\\n):\\n    try:\\n        if create_child:\\n            utils.remove_all_files(f\\\"{path_to_data}/train/child-mice\\\")\\n            utils.remove_all_files(f\\\"{path_to_data}/test/child-mice\\\")\\n            create_pup_dataset(images)\\n        if create_parent:\\n            utils.remove_all_files(f\\\"{path_to_data}/train/parent-mice\\\")\\n            utils.remove_all_files(f\\\"{path_to_data}/test/parent-mice\\\")\\n            create_parent_dataset(images)\\n    except:\\n        var = traceback.format_exc()\\n        print(var)\";\n",
       "                var nbb_cells = Jupyter.notebook.get_cells();\n",
       "                for (var i = 0; i < nbb_cells.length; ++i) {\n",
       "                    if (nbb_cells[i].input_prompt_number == nbb_cell_id) {\n",
       "                        if (nbb_cells[i].get_text() == nbb_unformatted_code) {\n",
       "                             nbb_cells[i].set_text(nbb_formatted_code);\n",
       "                        }\n",
       "                        break;\n",
       "                    }\n",
       "                }\n",
       "            }, 500);\n",
       "            "
      ],
      "text/plain": [
       "<IPython.core.display.Javascript object>"
      ]
     },
     "metadata": {},
     "output_type": "display_data"
    }
   ],
   "source": [
    "def create_final_parent_pup_dataset(images: int, create_parent: bool, create_child: bool):\n",
    "    try:\n",
    "        if create_child:\n",
    "            utils.remove_all_files(f\"{path_to_data}/train/child-mice\")\n",
    "            utils.remove_all_files(f\"{path_to_data}/test/child-mice\")\n",
    "            create_pup_dataset(images)\n",
    "        if create_parent:\n",
    "            utils.remove_all_files(f\"{path_to_data}/train/parent-mice\")\n",
    "            utils.remove_all_files(f\"{path_to_data}/test/parent-mice\")\n",
    "            create_parent_dataset(images)\n",
    "    except:\n",
    "        var = traceback.format_exc()\n",
    "        print(var)\n"
   ]
  },
  {
   "cell_type": "code",
   "execution_count": 82,
   "metadata": {},
   "outputs": [
    {
     "data": {
      "application/javascript": [
       "\n",
       "            setTimeout(function() {\n",
       "                var nbb_cell_id = 82;\n",
       "                var nbb_unformatted_code = \"os.mkdir(\\\"/Users/user/Applications/machine-learning/deeproute/data/child-mice\\\")\";\n",
       "                var nbb_formatted_code = \"os.mkdir(\\\"/Users/user/Applications/machine-learning/deeproute/data/child-mice\\\")\";\n",
       "                var nbb_cells = Jupyter.notebook.get_cells();\n",
       "                for (var i = 0; i < nbb_cells.length; ++i) {\n",
       "                    if (nbb_cells[i].input_prompt_number == nbb_cell_id) {\n",
       "                        if (nbb_cells[i].get_text() == nbb_unformatted_code) {\n",
       "                             nbb_cells[i].set_text(nbb_formatted_code);\n",
       "                        }\n",
       "                        break;\n",
       "                    }\n",
       "                }\n",
       "            }, 500);\n",
       "            "
      ],
      "text/plain": [
       "<IPython.core.display.Javascript object>"
      ]
     },
     "metadata": {},
     "output_type": "display_data"
    },
    {
     "data": {
      "application/javascript": [
       "\n",
       "            setTimeout(function() {\n",
       "                var nbb_cell_id = 82;\n",
       "                var nbb_unformatted_code = \"os.mkdir(\\\"/Users/user/Applications/machine-learning/deeproute/data/child-mice\\\")\";\n",
       "                var nbb_formatted_code = \"os.mkdir(\\\"/Users/user/Applications/machine-learning/deeproute/data/child-mice\\\")\";\n",
       "                var nbb_cells = Jupyter.notebook.get_cells();\n",
       "                for (var i = 0; i < nbb_cells.length; ++i) {\n",
       "                    if (nbb_cells[i].input_prompt_number == nbb_cell_id) {\n",
       "                        if (nbb_cells[i].get_text() == nbb_unformatted_code) {\n",
       "                             nbb_cells[i].set_text(nbb_formatted_code);\n",
       "                        }\n",
       "                        break;\n",
       "                    }\n",
       "                }\n",
       "            }, 500);\n",
       "            "
      ],
      "text/plain": [
       "<IPython.core.display.Javascript object>"
      ]
     },
     "metadata": {},
     "output_type": "display_data"
    },
    {
     "data": {
      "application/javascript": [
       "\n",
       "            setTimeout(function() {\n",
       "                var nbb_cell_id = 82;\n",
       "                var nbb_unformatted_code = \"os.mkdir(\\\"/Users/user/Applications/machine-learning/deeproute/data/child-mice\\\")\";\n",
       "                var nbb_formatted_code = \"os.mkdir(\\\"/Users/user/Applications/machine-learning/deeproute/data/child-mice\\\")\";\n",
       "                var nbb_cells = Jupyter.notebook.get_cells();\n",
       "                for (var i = 0; i < nbb_cells.length; ++i) {\n",
       "                    if (nbb_cells[i].input_prompt_number == nbb_cell_id) {\n",
       "                        if (nbb_cells[i].get_text() == nbb_unformatted_code) {\n",
       "                             nbb_cells[i].set_text(nbb_formatted_code);\n",
       "                        }\n",
       "                        break;\n",
       "                    }\n",
       "                }\n",
       "            }, 500);\n",
       "            "
      ],
      "text/plain": [
       "<IPython.core.display.Javascript object>"
      ]
     },
     "metadata": {},
     "output_type": "display_data"
    },
    {
     "data": {
      "application/javascript": [
       "\n",
       "            setTimeout(function() {\n",
       "                var nbb_cell_id = 82;\n",
       "                var nbb_unformatted_code = \"os.mkdir(\\\"/Users/user/Applications/machine-learning/deeproute/data/child-mice\\\")\";\n",
       "                var nbb_formatted_code = \"os.mkdir(\\\"/Users/user/Applications/machine-learning/deeproute/data/child-mice\\\")\";\n",
       "                var nbb_cells = Jupyter.notebook.get_cells();\n",
       "                for (var i = 0; i < nbb_cells.length; ++i) {\n",
       "                    if (nbb_cells[i].input_prompt_number == nbb_cell_id) {\n",
       "                        if (nbb_cells[i].get_text() == nbb_unformatted_code) {\n",
       "                             nbb_cells[i].set_text(nbb_formatted_code);\n",
       "                        }\n",
       "                        break;\n",
       "                    }\n",
       "                }\n",
       "            }, 500);\n",
       "            "
      ],
      "text/plain": [
       "<IPython.core.display.Javascript object>"
      ]
     },
     "metadata": {},
     "output_type": "display_data"
    },
    {
     "data": {
      "application/javascript": [
       "\n",
       "            setTimeout(function() {\n",
       "                var nbb_cell_id = 82;\n",
       "                var nbb_unformatted_code = \"os.mkdir(\\\"/Users/user/Applications/machine-learning/deeproute/data/child-mice\\\")\";\n",
       "                var nbb_formatted_code = \"os.mkdir(\\\"/Users/user/Applications/machine-learning/deeproute/data/child-mice\\\")\";\n",
       "                var nbb_cells = Jupyter.notebook.get_cells();\n",
       "                for (var i = 0; i < nbb_cells.length; ++i) {\n",
       "                    if (nbb_cells[i].input_prompt_number == nbb_cell_id) {\n",
       "                        if (nbb_cells[i].get_text() == nbb_unformatted_code) {\n",
       "                             nbb_cells[i].set_text(nbb_formatted_code);\n",
       "                        }\n",
       "                        break;\n",
       "                    }\n",
       "                }\n",
       "            }, 500);\n",
       "            "
      ],
      "text/plain": [
       "<IPython.core.display.Javascript object>"
      ]
     },
     "metadata": {},
     "output_type": "display_data"
    },
    {
     "data": {
      "application/javascript": [
       "\n",
       "            setTimeout(function() {\n",
       "                var nbb_cell_id = 82;\n",
       "                var nbb_unformatted_code = \"os.mkdir(\\\"/Users/user/Applications/machine-learning/deeproute/data/child-mice\\\")\";\n",
       "                var nbb_formatted_code = \"os.mkdir(\\\"/Users/user/Applications/machine-learning/deeproute/data/child-mice\\\")\";\n",
       "                var nbb_cells = Jupyter.notebook.get_cells();\n",
       "                for (var i = 0; i < nbb_cells.length; ++i) {\n",
       "                    if (nbb_cells[i].input_prompt_number == nbb_cell_id) {\n",
       "                        if (nbb_cells[i].get_text() == nbb_unformatted_code) {\n",
       "                             nbb_cells[i].set_text(nbb_formatted_code);\n",
       "                        }\n",
       "                        break;\n",
       "                    }\n",
       "                }\n",
       "            }, 500);\n",
       "            "
      ],
      "text/plain": [
       "<IPython.core.display.Javascript object>"
      ]
     },
     "metadata": {},
     "output_type": "display_data"
    }
   ],
   "source": [
    "os.mkdir(\"/Users/user/Applications/machine-learning/deeproute/data/child-mice\")"
   ]
  },
  {
   "cell_type": "code",
   "execution_count": 80,
   "metadata": {},
   "outputs": [
    {
     "name": "stdout",
     "output_type": "stream",
     "text": [
      "Starts at 394 seconds and end at 400 seconds of interval 6 seconds\n",
      "made directory... at /Users/user/Applications/machine-learning/deeproute/data/child-mice\n",
      "Saved image as PrL-4-c36eb4b5-4b66-43ce-84e4-94f6a844020d at timestamp 06:34\n",
      "Saved image as PrL-4-2cfab2ad-3c04-4f9c-834c-509d28a3bab4 at timestamp 06:35\n",
      "Saved image as PrL-4-dc19a270-5aa4-4262-9c19-0e2e592c70a4 at timestamp 06:36\n",
      "Saved image as PrL-4-bb2493ed-0f0d-440f-8ce2-49d79a798e36 at timestamp 06:37\n",
      "Saved image as PrL-4-e5b44e44-a418-4a8c-a162-a620e502ab97 at timestamp 06:38\n",
      "Saved image as PrL-4-4cfb9b4c-af8d-4975-985d-e9d453714df7 at timestamp 06:39\n",
      "Starts at 676 seconds and end at 710 seconds of interval 34 seconds\n",
      "Saved image as PrL-4-fc57c53f-5c53-433f-aef6-336dbfea789c at timestamp 11:16\n",
      "Saved image as PrL-4-42a9e9f4-daba-4523-bc69-075f9a5a4f80 at timestamp 11:17\n",
      "Saved image as PrL-4-6772802b-4d1f-4ee4-8b10-85e33525e577 at timestamp 11:18\n",
      "Saved image as PrL-4-edee2953-a157-49cd-a77b-e2556d9053b3 at timestamp 11:19\n",
      "Saved image as PrL-4-f3dfeb18-d718-48b5-a0ed-22fe6631e130 at timestamp 11:20\n",
      "Saved image as PrL-4-b4440444-5f66-4d9a-8977-599fb6898cfe at timestamp 11:21\n",
      "Saved image as PrL-4-d7106f9b-7202-476b-9d39-fc1a98131413 at timestamp 11:22\n",
      "Saved image as PrL-4-af22a2b5-ad39-4d82-80fe-93021c83c45f at timestamp 11:23\n",
      "Saved image as PrL-4-bd0e582c-ba1f-46d8-904d-8b7744ae4eec at timestamp 11:24\n",
      "Saved image as PrL-4-8b4ac030-0ecd-431b-ab00-665e8202df82 at timestamp 11:25\n",
      "Saved image as PrL-4-e546b162-35e9-468b-a7f4-a0ad497dedd5 at timestamp 11:26\n",
      "Saved image as PrL-4-eaf4a28d-8eaa-43a8-a48f-ecf0952541ed at timestamp 11:27\n",
      "Saved image as PrL-4-9c1e80df-95e0-4a18-bf92-5db654efa9ab at timestamp 11:28\n",
      "Saved image as PrL-4-e5f6fdc0-4b7f-426d-9fc3-71e4930f0eeb at timestamp 11:29\n",
      "Saved image as PrL-4-c016c996-90a1-4e82-ba7f-47909b6828fe at timestamp 11:30\n",
      "Saved image as PrL-4-63c0ac30-e9a8-4ef8-8bf8-09bb34e4ad87 at timestamp 11:31\n",
      "Saved image as PrL-4-0460682a-5b3b-43ec-94a5-9f019980ad3c at timestamp 11:32\n",
      "Saved image as PrL-4-d9a7dd76-aefb-4f13-a0eb-588e93f44162 at timestamp 11:33\n",
      "Saved image as PrL-4-65617bc0-dab4-4f48-9318-89881bc48007 at timestamp 11:34\n",
      "Saved image as PrL-4-eede9cd0-3e60-481c-a6ef-bea80de4d996 at timestamp 11:35\n",
      "Saved image as PrL-4-a3a309b1-c0a0-4591-b153-57489b2d2fd7 at timestamp 11:36\n",
      "Saved image as PrL-4-1953387b-8518-419d-8196-a753375741b1 at timestamp 11:37\n",
      "Saved image as PrL-4-6d96968f-6078-4fae-ba65-e84357f71283 at timestamp 11:38\n",
      "Saved image as PrL-4-09ec5fe5-c904-46c5-a41c-81487f876a64 at timestamp 11:39\n",
      "Saved image as PrL-4-23498538-37ee-454c-95e1-eb30d8f7cfa5 at timestamp 11:40\n",
      "Saved image as PrL-4-b8a7fb6f-0095-4eb4-9e1a-e18f21fdea62 at timestamp 11:41\n",
      "Saved image as PrL-4-0e3e9a7a-53c9-4445-a5ff-b949ab7c1e2a at timestamp 11:42\n",
      "Saved image as PrL-4-f8ae1ac9-982b-460b-b2a3-b7ecc02e9a8f at timestamp 11:43\n",
      "Saved image as PrL-4-1e436a1b-1a99-455f-8ed6-b62e7962592e at timestamp 11:44\n",
      "Saved image as PrL-4-142bfb7e-1209-47d4-b0ce-b2e417bea6fd at timestamp 11:45\n",
      "Saved image as PrL-4-3721ef85-76b1-45cd-ac4f-8bbff228414b at timestamp 11:46\n",
      "Saved image as PrL-4-fec7adde-b57e-4f62-abd1-640b92d2ed37 at timestamp 11:47\n",
      "Saved image as PrL-4-3529f8c3-62fd-4a85-8c05-d4868b710b9c at timestamp 11:48\n",
      "Saved image as PrL-4-e2b90912-2a24-4776-abb9-33b68daa4f01 at timestamp 11:49\n",
      "Traceback (most recent call last):\n",
      "  File \"/var/folders/14/5m83nbys3197kms6ymlkxbqr0000gn/T/ipykernel_40345/2008586477.py\", line 6, in create_final_parent_pup_dataset\n",
      "    create_pup_dataset(images)\n",
      "  File \"/var/folders/14/5m83nbys3197kms6ymlkxbqr0000gn/T/ipykernel_40345/2069469472.py\", line 46, in create_pup_dataset\n",
      "    train_size = len(os.listdir(f\"{path_to_data}/train/child-mice\"))\n",
      "NotADirectoryError: [Errno 20] Not a directory: '/Users/user/Applications/machine-learning/deeproute/data/train/child-mice'\n",
      "\n"
     ]
    },
    {
     "data": {
      "application/javascript": [
       "\n",
       "            setTimeout(function() {\n",
       "                var nbb_cell_id = 80;\n",
       "                var nbb_unformatted_code = \"create_final_parent_pup_dataset(40, create_parent=False, create_child=True)\";\n",
       "                var nbb_formatted_code = \"create_final_parent_pup_dataset(40, create_parent=False, create_child=True)\";\n",
       "                var nbb_cells = Jupyter.notebook.get_cells();\n",
       "                for (var i = 0; i < nbb_cells.length; ++i) {\n",
       "                    if (nbb_cells[i].input_prompt_number == nbb_cell_id) {\n",
       "                        if (nbb_cells[i].get_text() == nbb_unformatted_code) {\n",
       "                             nbb_cells[i].set_text(nbb_formatted_code);\n",
       "                        }\n",
       "                        break;\n",
       "                    }\n",
       "                }\n",
       "            }, 500);\n",
       "            "
      ],
      "text/plain": [
       "<IPython.core.display.Javascript object>"
      ]
     },
     "metadata": {},
     "output_type": "display_data"
    },
    {
     "data": {
      "application/javascript": [
       "\n",
       "            setTimeout(function() {\n",
       "                var nbb_cell_id = 80;\n",
       "                var nbb_unformatted_code = \"create_final_parent_pup_dataset(40, create_parent=False, create_child=True)\";\n",
       "                var nbb_formatted_code = \"create_final_parent_pup_dataset(40, create_parent=False, create_child=True)\";\n",
       "                var nbb_cells = Jupyter.notebook.get_cells();\n",
       "                for (var i = 0; i < nbb_cells.length; ++i) {\n",
       "                    if (nbb_cells[i].input_prompt_number == nbb_cell_id) {\n",
       "                        if (nbb_cells[i].get_text() == nbb_unformatted_code) {\n",
       "                             nbb_cells[i].set_text(nbb_formatted_code);\n",
       "                        }\n",
       "                        break;\n",
       "                    }\n",
       "                }\n",
       "            }, 500);\n",
       "            "
      ],
      "text/plain": [
       "<IPython.core.display.Javascript object>"
      ]
     },
     "metadata": {},
     "output_type": "display_data"
    },
    {
     "data": {
      "application/javascript": [
       "\n",
       "            setTimeout(function() {\n",
       "                var nbb_cell_id = 80;\n",
       "                var nbb_unformatted_code = \"create_final_parent_pup_dataset(40, create_parent=False, create_child=True)\";\n",
       "                var nbb_formatted_code = \"create_final_parent_pup_dataset(40, create_parent=False, create_child=True)\";\n",
       "                var nbb_cells = Jupyter.notebook.get_cells();\n",
       "                for (var i = 0; i < nbb_cells.length; ++i) {\n",
       "                    if (nbb_cells[i].input_prompt_number == nbb_cell_id) {\n",
       "                        if (nbb_cells[i].get_text() == nbb_unformatted_code) {\n",
       "                             nbb_cells[i].set_text(nbb_formatted_code);\n",
       "                        }\n",
       "                        break;\n",
       "                    }\n",
       "                }\n",
       "            }, 500);\n",
       "            "
      ],
      "text/plain": [
       "<IPython.core.display.Javascript object>"
      ]
     },
     "metadata": {},
     "output_type": "display_data"
    },
    {
     "data": {
      "application/javascript": [
       "\n",
       "            setTimeout(function() {\n",
       "                var nbb_cell_id = 80;\n",
       "                var nbb_unformatted_code = \"create_final_parent_pup_dataset(40, create_parent=False, create_child=True)\";\n",
       "                var nbb_formatted_code = \"create_final_parent_pup_dataset(40, create_parent=False, create_child=True)\";\n",
       "                var nbb_cells = Jupyter.notebook.get_cells();\n",
       "                for (var i = 0; i < nbb_cells.length; ++i) {\n",
       "                    if (nbb_cells[i].input_prompt_number == nbb_cell_id) {\n",
       "                        if (nbb_cells[i].get_text() == nbb_unformatted_code) {\n",
       "                             nbb_cells[i].set_text(nbb_formatted_code);\n",
       "                        }\n",
       "                        break;\n",
       "                    }\n",
       "                }\n",
       "            }, 500);\n",
       "            "
      ],
      "text/plain": [
       "<IPython.core.display.Javascript object>"
      ]
     },
     "metadata": {},
     "output_type": "display_data"
    },
    {
     "data": {
      "application/javascript": [
       "\n",
       "            setTimeout(function() {\n",
       "                var nbb_cell_id = 80;\n",
       "                var nbb_unformatted_code = \"create_final_parent_pup_dataset(40, create_parent=False, create_child=True)\";\n",
       "                var nbb_formatted_code = \"create_final_parent_pup_dataset(40, create_parent=False, create_child=True)\";\n",
       "                var nbb_cells = Jupyter.notebook.get_cells();\n",
       "                for (var i = 0; i < nbb_cells.length; ++i) {\n",
       "                    if (nbb_cells[i].input_prompt_number == nbb_cell_id) {\n",
       "                        if (nbb_cells[i].get_text() == nbb_unformatted_code) {\n",
       "                             nbb_cells[i].set_text(nbb_formatted_code);\n",
       "                        }\n",
       "                        break;\n",
       "                    }\n",
       "                }\n",
       "            }, 500);\n",
       "            "
      ],
      "text/plain": [
       "<IPython.core.display.Javascript object>"
      ]
     },
     "metadata": {},
     "output_type": "display_data"
    },
    {
     "data": {
      "application/javascript": [
       "\n",
       "            setTimeout(function() {\n",
       "                var nbb_cell_id = 80;\n",
       "                var nbb_unformatted_code = \"create_final_parent_pup_dataset(40, create_parent=False, create_child=True)\";\n",
       "                var nbb_formatted_code = \"create_final_parent_pup_dataset(40, create_parent=False, create_child=True)\";\n",
       "                var nbb_cells = Jupyter.notebook.get_cells();\n",
       "                for (var i = 0; i < nbb_cells.length; ++i) {\n",
       "                    if (nbb_cells[i].input_prompt_number == nbb_cell_id) {\n",
       "                        if (nbb_cells[i].get_text() == nbb_unformatted_code) {\n",
       "                             nbb_cells[i].set_text(nbb_formatted_code);\n",
       "                        }\n",
       "                        break;\n",
       "                    }\n",
       "                }\n",
       "            }, 500);\n",
       "            "
      ],
      "text/plain": [
       "<IPython.core.display.Javascript object>"
      ]
     },
     "metadata": {},
     "output_type": "display_data"
    }
   ],
   "source": [
    "create_final_parent_pup_dataset(40, create_parent=False, create_child=True)"
   ]
  }
 ],
 "metadata": {
  "kernelspec": {
   "display_name": "Python3 dr",
   "language": "python",
   "name": "dr"
  },
  "language_info": {
   "codemirror_mode": {
    "name": "ipython",
    "version": 3
   },
   "file_extension": ".py",
   "mimetype": "text/x-python",
   "name": "python",
   "nbconvert_exporter": "python",
   "pygments_lexer": "ipython3",
   "version": "3.8.10"
  }
 },
 "nbformat": 4,
 "nbformat_minor": 4
}
