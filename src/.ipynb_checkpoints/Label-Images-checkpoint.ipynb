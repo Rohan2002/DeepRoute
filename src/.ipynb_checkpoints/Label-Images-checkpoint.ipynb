{
 "cells": [
  {
   "cell_type": "code",
   "execution_count": 2,
   "id": "2005da1e",
   "metadata": {},
   "outputs": [
    {
     "data": {
      "application/javascript": [
       "\n",
       "            setTimeout(function() {\n",
       "                var nbb_cell_id = 2;\n",
       "                var nbb_unformatted_code = \"import os\\nimport warnings\\n\\nwarnings.filterwarnings(\\\"ignore\\\")\\n%load_ext autoreload\\n%autoreload 2\\n\\n%reload_ext nb_black\\n%config IPCompleter.greedy=True\";\n",
       "                var nbb_formatted_code = \"import os\\nimport warnings\\n\\nwarnings.filterwarnings(\\\"ignore\\\")\\n%load_ext autoreload\\n%autoreload 2\\n\\n%reload_ext nb_black\\n%config IPCompleter.greedy=True\";\n",
       "                var nbb_cells = Jupyter.notebook.get_cells();\n",
       "                for (var i = 0; i < nbb_cells.length; ++i) {\n",
       "                    if (nbb_cells[i].input_prompt_number == nbb_cell_id) {\n",
       "                        if (nbb_cells[i].get_text() == nbb_unformatted_code) {\n",
       "                             nbb_cells[i].set_text(nbb_formatted_code);\n",
       "                        }\n",
       "                        break;\n",
       "                    }\n",
       "                }\n",
       "            }, 500);\n",
       "            "
      ],
      "text/plain": [
       "<IPython.core.display.Javascript object>"
      ]
     },
     "metadata": {},
     "output_type": "display_data"
    }
   ],
   "source": [
    "import os\n",
    "import warnings\n",
    "\n",
    "warnings.filterwarnings(\"ignore\")\n",
    "%load_ext autoreload\n",
    "%autoreload 2\n",
    "\n",
    "%reload_ext nb_black\n",
    "%config IPCompleter.greedy=True"
   ]
  },
  {
   "cell_type": "code",
   "execution_count": 19,
   "id": "c228f514",
   "metadata": {},
   "outputs": [
    {
     "data": {
      "application/javascript": [
       "\n",
       "            setTimeout(function() {\n",
       "                var nbb_cell_id = 19;\n",
       "                var nbb_unformatted_code = \"parent_directory = os.path.dirname(os.getcwd())\\npath_to_labelimg = f\\\"{parent_directory}/labelimg/labelImg\\\"\\npath_to_labels = f\\\"{parent_directory}/data/label_map.pbtxt\\\"\\n\\n# Train-Test\\npath_to_parent_train = f\\\"{parent_directory}/data/train/parent-mice\\\"\\npath_to_child_train = f\\\"{parent_directory}/data/train/child-mice\\\"\\npath_to_parent_test = f\\\"{parent_directory}/data/test/parent-mice\\\"\\npath_to_child_test = f\\\"{parent_directory}/data/test/child-mice\\\"\";\n",
       "                var nbb_formatted_code = \"parent_directory = os.path.dirname(os.getcwd())\\npath_to_labelimg = f\\\"{parent_directory}/labelimg/labelImg\\\"\\npath_to_labels = f\\\"{parent_directory}/data/label_map.pbtxt\\\"\\n\\n# Train-Test\\npath_to_parent_train = f\\\"{parent_directory}/data/train/parent-mice\\\"\\npath_to_child_train = f\\\"{parent_directory}/data/train/child-mice\\\"\\npath_to_parent_test = f\\\"{parent_directory}/data/test/parent-mice\\\"\\npath_to_child_test = f\\\"{parent_directory}/data/test/child-mice\\\"\";\n",
       "                var nbb_cells = Jupyter.notebook.get_cells();\n",
       "                for (var i = 0; i < nbb_cells.length; ++i) {\n",
       "                    if (nbb_cells[i].input_prompt_number == nbb_cell_id) {\n",
       "                        if (nbb_cells[i].get_text() == nbb_unformatted_code) {\n",
       "                             nbb_cells[i].set_text(nbb_formatted_code);\n",
       "                        }\n",
       "                        break;\n",
       "                    }\n",
       "                }\n",
       "            }, 500);\n",
       "            "
      ],
      "text/plain": [
       "<IPython.core.display.Javascript object>"
      ]
     },
     "metadata": {},
     "output_type": "display_data"
    }
   ],
   "source": [
    "parent_directory = os.path.dirname(os.getcwd())\n",
    "path_to_labelimg = f\"{parent_directory}/labelimg/labelImg\"\n",
    "path_to_labels = f\"{parent_directory}/data/label_map.pbtxt\"\n",
    "\n",
    "# Train-Test\n",
    "path_to_parent_train = f\"{parent_directory}/data/train/parent-mice\"\n",
    "path_to_child_train = f\"{parent_directory}/data/train/child-mice\"\n",
    "path_to_parent_test = f\"{parent_directory}/data/test/parent-mice\"\n",
    "path_to_child_test = f\"{parent_directory}/data/test/child-mice\""
   ]
  },
  {
   "cell_type": "code",
   "execution_count": 11,
   "id": "76513f5d",
   "metadata": {},
   "outputs": [
    {
     "data": {
      "text/plain": [
       "'/Users/user/Applications/machine-learning/deeproute/labelimg/labelImg'"
      ]
     },
     "execution_count": 11,
     "metadata": {},
     "output_type": "execute_result"
    },
    {
     "data": {
      "application/javascript": [
       "\n",
       "            setTimeout(function() {\n",
       "                var nbb_cell_id = 11;\n",
       "                var nbb_unformatted_code = \"path_to_labelimg\";\n",
       "                var nbb_formatted_code = \"path_to_labelimg\";\n",
       "                var nbb_cells = Jupyter.notebook.get_cells();\n",
       "                for (var i = 0; i < nbb_cells.length; ++i) {\n",
       "                    if (nbb_cells[i].input_prompt_number == nbb_cell_id) {\n",
       "                        if (nbb_cells[i].get_text() == nbb_unformatted_code) {\n",
       "                             nbb_cells[i].set_text(nbb_formatted_code);\n",
       "                        }\n",
       "                        break;\n",
       "                    }\n",
       "                }\n",
       "            }, 500);\n",
       "            "
      ],
      "text/plain": [
       "<IPython.core.display.Javascript object>"
      ]
     },
     "metadata": {},
     "output_type": "display_data"
    }
   ],
   "source": [
    "path_to_labelimg"
   ]
  },
  {
   "cell_type": "code",
   "execution_count": 4,
   "id": "0e80021e",
   "metadata": {},
   "outputs": [
    {
     "data": {
      "application/javascript": [
       "\n",
       "            setTimeout(function() {\n",
       "                var nbb_cell_id = 4;\n",
       "                var nbb_unformatted_code = \"download = False\\ndef download_exec_labelimg():\\n    path_to_labelimg = f\\\"{parent_directory}/labelimg/labelImg\\\"\\n\\n    if not os.path.isdir(path_to_labelimg):\\n        os.mkdir(path_to_labelimg)\\n        !git clone https://github.com/tzutalin/labelImg.git {path_to_labelimg}\\n        !pip3 install pyqt5 lxml\\n\\n    if platform.system() == \\\"Darwin\\\":\\n        !cd {path_to_labelimg} && make qt5py3\\n    if platform.system() == \\\"Windows\\\":\\n        !cd {path_to_labelimg} && pyrcc4 -o libs/resources.py resources.qrc\\n    path_to_labelimg = f\\\"{parent_directory}/labelimg/labelImg\\\"\\n\\nif download:\\n    download_exec_labelimg()\";\n",
       "                var nbb_formatted_code = \"download = False\\n\\n\\ndef download_exec_labelimg():\\n    path_to_labelimg = f\\\"{parent_directory}/labelimg/labelImg\\\"\\n\\n    if not os.path.isdir(path_to_labelimg):\\n        os.mkdir(path_to_labelimg)\\n        !git clone https://github.com/tzutalin/labelImg.git {path_to_labelimg}\\n        !pip3 install pyqt5 lxml\\n\\n    if platform.system() == \\\"Darwin\\\":\\n        !cd {path_to_labelimg} && make qt5py3\\n    if platform.system() == \\\"Windows\\\":\\n        !cd {path_to_labelimg} && pyrcc4 -o libs/resources.py resources.qrc\\n    path_to_labelimg = f\\\"{parent_directory}/labelimg/labelImg\\\"\\n\\n\\nif download:\\n    download_exec_labelimg()\";\n",
       "                var nbb_cells = Jupyter.notebook.get_cells();\n",
       "                for (var i = 0; i < nbb_cells.length; ++i) {\n",
       "                    if (nbb_cells[i].input_prompt_number == nbb_cell_id) {\n",
       "                        if (nbb_cells[i].get_text() == nbb_unformatted_code) {\n",
       "                             nbb_cells[i].set_text(nbb_formatted_code);\n",
       "                        }\n",
       "                        break;\n",
       "                    }\n",
       "                }\n",
       "            }, 500);\n",
       "            "
      ],
      "text/plain": [
       "<IPython.core.display.Javascript object>"
      ]
     },
     "metadata": {},
     "output_type": "display_data"
    }
   ],
   "source": [
    "download = False\n",
    "\n",
    "\n",
    "def download_exec_labelimg():\n",
    "    \n",
    "    if not os.path.isdir(path_to_labelimg):\n",
    "        os.mkdir(path_to_labelimg)\n",
    "        !git clone https://github.com/tzutalin/labelImg.git {path_to_labelimg}\n",
    "        !pip3 install pyqt5 lxml\n",
    "\n",
    "    if platform.system() == \"Darwin\":\n",
    "        !cd {path_to_labelimg} && make qt5py3\n",
    "    if platform.system() == \"Windows\":\n",
    "        !cd {path_to_labelimg} && pyrcc4 -o libs/resources.py resources.qrc\n",
    "    path_to_labelimg = f\"{parent_directory}/labelimg/labelImg\"\n",
    "\n",
    "\n",
    "if download:\n",
    "    download_exec_labelimg()"
   ]
  },
  {
   "cell_type": "code",
   "execution_count": 18,
   "id": "252f39c1",
   "metadata": {},
   "outputs": [
    {
     "name": "stdout",
     "output_type": "stream",
     "text": [
      "labelImg.py:965: DeprecationWarning: an integer is required (got type float).  Implicit conversion to integers using __int__ is deprecated, and may be removed in a future version of Python.\n",
      "  bar.setValue(bar.value() + bar.singleStep() * units)\n",
      "Image:/Users/user/Applications/machine-learning/deeproute/data/test/child-mice/PrL-3-6c1bc0a9-8e9b-4cc6-9f60-ae67a4ee134e.jpg -> Annotation:/Users/user/Applications/machine-learning/deeproute/data/test/child-mice/PrL-3-6c1bc0a9-8e9b-4cc6-9f60-ae67a4ee134e.xml\n",
      "Image:/Users/user/Applications/machine-learning/deeproute/data/test/child-mice/PrL-3-7a25c60c-216b-4193-9677-b7047fb25b45.jpg -> Annotation:/Users/user/Applications/machine-learning/deeproute/data/test/child-mice/PrL-3-7a25c60c-216b-4193-9677-b7047fb25b45.xml\n",
      "Image:/Users/user/Applications/machine-learning/deeproute/data/test/child-mice/PrL-3-7a25c60c-216b-4193-9677-b7047fb25b45.jpg -> Annotation:/Users/user/Applications/machine-learning/deeproute/data/test/child-mice/PrL-3-7a25c60c-216b-4193-9677-b7047fb25b45.xml\n",
      "Image:/Users/user/Applications/machine-learning/deeproute/data/test/child-mice/PrL-3-63d6ab38-8263-4afd-9091-81cc28d60dcc.jpg -> Annotation:/Users/user/Applications/machine-learning/deeproute/data/test/child-mice/PrL-3-63d6ab38-8263-4afd-9091-81cc28d60dcc.xml\n",
      "Image:/Users/user/Applications/machine-learning/deeproute/data/test/child-mice/PrL-3-65143920-ae1b-4856-baa5-ef4dd548d7ed.jpg -> Annotation:/Users/user/Applications/machine-learning/deeproute/data/test/child-mice/PrL-3-65143920-ae1b-4856-baa5-ef4dd548d7ed.xml\n",
      "Image:/Users/user/Applications/machine-learning/deeproute/data/test/child-mice/PrL-3-95213449-e685-4a14-a64c-ce14c4dc9a37.jpg -> Annotation:/Users/user/Applications/machine-learning/deeproute/data/test/child-mice/PrL-3-95213449-e685-4a14-a64c-ce14c4dc9a37.xml\n",
      "Image:/Users/user/Applications/machine-learning/deeproute/data/test/child-mice/PrL-3-b7243972-e84b-40fa-a6cd-271b81c5ea8e.jpg -> Annotation:/Users/user/Applications/machine-learning/deeproute/data/test/child-mice/PrL-3-b7243972-e84b-40fa-a6cd-271b81c5ea8e.xml\n",
      "Image:/Users/user/Applications/machine-learning/deeproute/data/test/child-mice/PrL-3-d5335ea4-b56c-41b3-bf2a-36da8995f191.jpg -> Annotation:/Users/user/Applications/machine-learning/deeproute/data/test/child-mice/PrL-3-d5335ea4-b56c-41b3-bf2a-36da8995f191.xml\n",
      "Image:/Users/user/Applications/machine-learning/deeproute/data/test/child-mice/PrL-3-e56a8fc0-11cb-4661-96bb-5471f0e8705f.jpg -> Annotation:/Users/user/Applications/machine-learning/deeproute/data/test/child-mice/PrL-3-e56a8fc0-11cb-4661-96bb-5471f0e8705f.xml\n"
     ]
    },
    {
     "data": {
      "application/javascript": [
       "\n",
       "            setTimeout(function() {\n",
       "                var nbb_cell_id = 18;\n",
       "                var nbb_unformatted_code = \"! cd {path_to_labelimg} && python3 labelImg.py {path_to_child_test}\";\n",
       "                var nbb_formatted_code = \"! cd {path_to_labelimg} && python3 labelImg.py {path_to_child_test}\";\n",
       "                var nbb_cells = Jupyter.notebook.get_cells();\n",
       "                for (var i = 0; i < nbb_cells.length; ++i) {\n",
       "                    if (nbb_cells[i].input_prompt_number == nbb_cell_id) {\n",
       "                        if (nbb_cells[i].get_text() == nbb_unformatted_code) {\n",
       "                             nbb_cells[i].set_text(nbb_formatted_code);\n",
       "                        }\n",
       "                        break;\n",
       "                    }\n",
       "                }\n",
       "            }, 500);\n",
       "            "
      ],
      "text/plain": [
       "<IPython.core.display.Javascript object>"
      ]
     },
     "metadata": {},
     "output_type": "display_data"
    }
   ],
   "source": [
    "! cd {path_to_labelimg} && python3 labelImg.py {path_to_child_test}"
   ]
  },
  {
   "cell_type": "code",
   "execution_count": 20,
   "id": "6dff6721",
   "metadata": {},
   "outputs": [
    {
     "data": {
      "application/javascript": [
       "\n",
       "            setTimeout(function() {\n",
       "                var nbb_cell_id = 20;\n",
       "                var nbb_unformatted_code = \"labels = [{'name':'parent-mice','id':1}, {'name':'child-mice','id':2}]\\nwith open(path_to_labels, 'w') as f:\\n    for label in labels:\\n        f.write('item { \\\\n')\\n        f.write('\\\\tname:\\\\'{}\\\\'\\\\n'.format(label['name']))\\n        f.write('\\\\tid:{}\\\\n'.format(label['id']))\\n        f.write('}\\\\n')\";\n",
       "                var nbb_formatted_code = \"labels = [{\\\"name\\\": \\\"parent-mice\\\", \\\"id\\\": 1}, {\\\"name\\\": \\\"child-mice\\\", \\\"id\\\": 2}]\\nwith open(path_to_labels, \\\"w\\\") as f:\\n    for label in labels:\\n        f.write(\\\"item { \\\\n\\\")\\n        f.write(\\\"\\\\tname:'{}'\\\\n\\\".format(label[\\\"name\\\"]))\\n        f.write(\\\"\\\\tid:{}\\\\n\\\".format(label[\\\"id\\\"]))\\n        f.write(\\\"}\\\\n\\\")\";\n",
       "                var nbb_cells = Jupyter.notebook.get_cells();\n",
       "                for (var i = 0; i < nbb_cells.length; ++i) {\n",
       "                    if (nbb_cells[i].input_prompt_number == nbb_cell_id) {\n",
       "                        if (nbb_cells[i].get_text() == nbb_unformatted_code) {\n",
       "                             nbb_cells[i].set_text(nbb_formatted_code);\n",
       "                        }\n",
       "                        break;\n",
       "                    }\n",
       "                }\n",
       "            }, 500);\n",
       "            "
      ],
      "text/plain": [
       "<IPython.core.display.Javascript object>"
      ]
     },
     "metadata": {},
     "output_type": "display_data"
    }
   ],
   "source": [
    "labels = [{\"name\": \"parent-mice\", \"id\": 1}, {\"name\": \"child-mice\", \"id\": 2}]\n",
    "with open(path_to_labels, \"w\") as f:\n",
    "    for label in labels:\n",
    "        f.write(\"item { \\n\")\n",
    "        f.write(\"\\tname:'{}'\\n\".format(label[\"name\"]))\n",
    "        f.write(\"\\tid:{}\\n\".format(label[\"id\"]))\n",
    "        f.write(\"}\\n\")"
   ]
  }
 ],
 "metadata": {
  "kernelspec": {
   "display_name": "Python deep-route",
   "language": "python",
   "name": "deep-route"
  },
  "language_info": {
   "codemirror_mode": {
    "name": "ipython",
    "version": 3
   },
   "file_extension": ".py",
   "mimetype": "text/x-python",
   "name": "python",
   "nbconvert_exporter": "python",
   "pygments_lexer": "ipython3",
   "version": "3.8.10"
  }
 },
 "nbformat": 4,
 "nbformat_minor": 5
}
