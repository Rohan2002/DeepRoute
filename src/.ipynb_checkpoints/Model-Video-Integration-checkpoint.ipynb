{
 "cells": [
  {
   "cell_type": "code",
   "execution_count": 30,
   "metadata": {},
   "outputs": [
    {
     "name": "stdout",
     "output_type": "stream",
     "text": [
      "The autoreload extension is already loaded. To reload it, use:\n",
      "  %reload_ext autoreload\n"
     ]
    },
    {
     "data": {
      "application/javascript": [
       "\n",
       "            setTimeout(function() {\n",
       "                var nbb_cell_id = 30;\n",
       "                var nbb_unformatted_code = \"import cv2\\nimport os\\nimport warnings\\nimport tensorflow as tf\\nfrom object_detection.utils import label_map_util\\nfrom object_detection.utils import visualization_utils as viz_utils\\nfrom object_detection.builders import model_builder\\nfrom object_detection.utils import config_util\\nimport platform\\nimport numpy as np\\nfrom matplotlib.pyplot import imshow\\n\\nwarnings.filterwarnings(\\\"ignore\\\")\\n%load_ext autoreload\\n%autoreload 2\\n\\n%reload_ext nb_black\\n%config IPCompleter.greedy=True\";\n",
       "                var nbb_formatted_code = \"import cv2\\nimport os\\nimport warnings\\nimport tensorflow as tf\\nfrom object_detection.utils import label_map_util\\nfrom object_detection.utils import visualization_utils as viz_utils\\nfrom object_detection.builders import model_builder\\nfrom object_detection.utils import config_util\\nimport platform\\nimport numpy as np\\nfrom matplotlib.pyplot import imshow\\n\\nwarnings.filterwarnings(\\\"ignore\\\")\\n%load_ext autoreload\\n%autoreload 2\\n\\n%reload_ext nb_black\\n%config IPCompleter.greedy=True\";\n",
       "                var nbb_cells = Jupyter.notebook.get_cells();\n",
       "                for (var i = 0; i < nbb_cells.length; ++i) {\n",
       "                    if (nbb_cells[i].input_prompt_number == nbb_cell_id) {\n",
       "                        if (nbb_cells[i].get_text() == nbb_unformatted_code) {\n",
       "                             nbb_cells[i].set_text(nbb_formatted_code);\n",
       "                        }\n",
       "                        break;\n",
       "                    }\n",
       "                }\n",
       "            }, 500);\n",
       "            "
      ],
      "text/plain": [
       "<IPython.core.display.Javascript object>"
      ]
     },
     "metadata": {},
     "output_type": "display_data"
    },
    {
     "data": {
      "application/javascript": [
       "\n",
       "            setTimeout(function() {\n",
       "                var nbb_cell_id = 30;\n",
       "                var nbb_unformatted_code = \"import cv2\\nimport os\\nimport warnings\\nimport tensorflow as tf\\nfrom object_detection.utils import label_map_util\\nfrom object_detection.utils import visualization_utils as viz_utils\\nfrom object_detection.builders import model_builder\\nfrom object_detection.utils import config_util\\nimport platform\\nimport numpy as np\\nfrom matplotlib.pyplot import imshow\\n\\nwarnings.filterwarnings(\\\"ignore\\\")\\n%load_ext autoreload\\n%autoreload 2\\n\\n%reload_ext nb_black\\n%config IPCompleter.greedy=True\";\n",
       "                var nbb_formatted_code = \"import cv2\\nimport os\\nimport warnings\\nimport tensorflow as tf\\nfrom object_detection.utils import label_map_util\\nfrom object_detection.utils import visualization_utils as viz_utils\\nfrom object_detection.builders import model_builder\\nfrom object_detection.utils import config_util\\nimport platform\\nimport numpy as np\\nfrom matplotlib.pyplot import imshow\\n\\nwarnings.filterwarnings(\\\"ignore\\\")\\n%load_ext autoreload\\n%autoreload 2\\n\\n%reload_ext nb_black\\n%config IPCompleter.greedy=True\";\n",
       "                var nbb_cells = Jupyter.notebook.get_cells();\n",
       "                for (var i = 0; i < nbb_cells.length; ++i) {\n",
       "                    if (nbb_cells[i].input_prompt_number == nbb_cell_id) {\n",
       "                        if (nbb_cells[i].get_text() == nbb_unformatted_code) {\n",
       "                             nbb_cells[i].set_text(nbb_formatted_code);\n",
       "                        }\n",
       "                        break;\n",
       "                    }\n",
       "                }\n",
       "            }, 500);\n",
       "            "
      ],
      "text/plain": [
       "<IPython.core.display.Javascript object>"
      ]
     },
     "metadata": {},
     "output_type": "display_data"
    },
    {
     "data": {
      "application/javascript": [
       "\n",
       "            setTimeout(function() {\n",
       "                var nbb_cell_id = 30;\n",
       "                var nbb_unformatted_code = \"import cv2\\nimport os\\nimport warnings\\nimport tensorflow as tf\\nfrom object_detection.utils import label_map_util\\nfrom object_detection.utils import visualization_utils as viz_utils\\nfrom object_detection.builders import model_builder\\nfrom object_detection.utils import config_util\\nimport platform\\nimport numpy as np\\nfrom matplotlib.pyplot import imshow\\n\\nwarnings.filterwarnings(\\\"ignore\\\")\\n%load_ext autoreload\\n%autoreload 2\\n\\n%reload_ext nb_black\\n%config IPCompleter.greedy=True\";\n",
       "                var nbb_formatted_code = \"import cv2\\nimport os\\nimport warnings\\nimport tensorflow as tf\\nfrom object_detection.utils import label_map_util\\nfrom object_detection.utils import visualization_utils as viz_utils\\nfrom object_detection.builders import model_builder\\nfrom object_detection.utils import config_util\\nimport platform\\nimport numpy as np\\nfrom matplotlib.pyplot import imshow\\n\\nwarnings.filterwarnings(\\\"ignore\\\")\\n%load_ext autoreload\\n%autoreload 2\\n\\n%reload_ext nb_black\\n%config IPCompleter.greedy=True\";\n",
       "                var nbb_cells = Jupyter.notebook.get_cells();\n",
       "                for (var i = 0; i < nbb_cells.length; ++i) {\n",
       "                    if (nbb_cells[i].input_prompt_number == nbb_cell_id) {\n",
       "                        if (nbb_cells[i].get_text() == nbb_unformatted_code) {\n",
       "                             nbb_cells[i].set_text(nbb_formatted_code);\n",
       "                        }\n",
       "                        break;\n",
       "                    }\n",
       "                }\n",
       "            }, 500);\n",
       "            "
      ],
      "text/plain": [
       "<IPython.core.display.Javascript object>"
      ]
     },
     "metadata": {},
     "output_type": "display_data"
    },
    {
     "data": {
      "application/javascript": [
       "\n",
       "            setTimeout(function() {\n",
       "                var nbb_cell_id = 30;\n",
       "                var nbb_unformatted_code = \"import cv2\\nimport os\\nimport warnings\\nimport tensorflow as tf\\nfrom object_detection.utils import label_map_util\\nfrom object_detection.utils import visualization_utils as viz_utils\\nfrom object_detection.builders import model_builder\\nfrom object_detection.utils import config_util\\nimport platform\\nimport numpy as np\\nfrom matplotlib.pyplot import imshow\\n\\nwarnings.filterwarnings(\\\"ignore\\\")\\n%load_ext autoreload\\n%autoreload 2\\n\\n%reload_ext nb_black\\n%config IPCompleter.greedy=True\";\n",
       "                var nbb_formatted_code = \"import cv2\\nimport os\\nimport warnings\\nimport tensorflow as tf\\nfrom object_detection.utils import label_map_util\\nfrom object_detection.utils import visualization_utils as viz_utils\\nfrom object_detection.builders import model_builder\\nfrom object_detection.utils import config_util\\nimport platform\\nimport numpy as np\\nfrom matplotlib.pyplot import imshow\\n\\nwarnings.filterwarnings(\\\"ignore\\\")\\n%load_ext autoreload\\n%autoreload 2\\n\\n%reload_ext nb_black\\n%config IPCompleter.greedy=True\";\n",
       "                var nbb_cells = Jupyter.notebook.get_cells();\n",
       "                for (var i = 0; i < nbb_cells.length; ++i) {\n",
       "                    if (nbb_cells[i].input_prompt_number == nbb_cell_id) {\n",
       "                        if (nbb_cells[i].get_text() == nbb_unformatted_code) {\n",
       "                             nbb_cells[i].set_text(nbb_formatted_code);\n",
       "                        }\n",
       "                        break;\n",
       "                    }\n",
       "                }\n",
       "            }, 500);\n",
       "            "
      ],
      "text/plain": [
       "<IPython.core.display.Javascript object>"
      ]
     },
     "metadata": {},
     "output_type": "display_data"
    },
    {
     "data": {
      "application/javascript": [
       "\n",
       "            setTimeout(function() {\n",
       "                var nbb_cell_id = 30;\n",
       "                var nbb_unformatted_code = \"import cv2\\nimport os\\nimport warnings\\nimport tensorflow as tf\\nfrom object_detection.utils import label_map_util\\nfrom object_detection.utils import visualization_utils as viz_utils\\nfrom object_detection.builders import model_builder\\nfrom object_detection.utils import config_util\\nimport platform\\nimport numpy as np\\nfrom matplotlib.pyplot import imshow\\n\\nwarnings.filterwarnings(\\\"ignore\\\")\\n%load_ext autoreload\\n%autoreload 2\\n\\n%reload_ext nb_black\\n%config IPCompleter.greedy=True\";\n",
       "                var nbb_formatted_code = \"import cv2\\nimport os\\nimport warnings\\nimport tensorflow as tf\\nfrom object_detection.utils import label_map_util\\nfrom object_detection.utils import visualization_utils as viz_utils\\nfrom object_detection.builders import model_builder\\nfrom object_detection.utils import config_util\\nimport platform\\nimport numpy as np\\nfrom matplotlib.pyplot import imshow\\n\\nwarnings.filterwarnings(\\\"ignore\\\")\\n%load_ext autoreload\\n%autoreload 2\\n\\n%reload_ext nb_black\\n%config IPCompleter.greedy=True\";\n",
       "                var nbb_cells = Jupyter.notebook.get_cells();\n",
       "                for (var i = 0; i < nbb_cells.length; ++i) {\n",
       "                    if (nbb_cells[i].input_prompt_number == nbb_cell_id) {\n",
       "                        if (nbb_cells[i].get_text() == nbb_unformatted_code) {\n",
       "                             nbb_cells[i].set_text(nbb_formatted_code);\n",
       "                        }\n",
       "                        break;\n",
       "                    }\n",
       "                }\n",
       "            }, 500);\n",
       "            "
      ],
      "text/plain": [
       "<IPython.core.display.Javascript object>"
      ]
     },
     "metadata": {},
     "output_type": "display_data"
    },
    {
     "data": {
      "application/javascript": [
       "\n",
       "            setTimeout(function() {\n",
       "                var nbb_cell_id = 30;\n",
       "                var nbb_unformatted_code = \"import cv2\\nimport os\\nimport warnings\\nimport tensorflow as tf\\nfrom object_detection.utils import label_map_util\\nfrom object_detection.utils import visualization_utils as viz_utils\\nfrom object_detection.builders import model_builder\\nfrom object_detection.utils import config_util\\nimport platform\\nimport numpy as np\\nfrom matplotlib.pyplot import imshow\\n\\nwarnings.filterwarnings(\\\"ignore\\\")\\n%load_ext autoreload\\n%autoreload 2\\n\\n%reload_ext nb_black\\n%config IPCompleter.greedy=True\";\n",
       "                var nbb_formatted_code = \"import cv2\\nimport os\\nimport warnings\\nimport tensorflow as tf\\nfrom object_detection.utils import label_map_util\\nfrom object_detection.utils import visualization_utils as viz_utils\\nfrom object_detection.builders import model_builder\\nfrom object_detection.utils import config_util\\nimport platform\\nimport numpy as np\\nfrom matplotlib.pyplot import imshow\\n\\nwarnings.filterwarnings(\\\"ignore\\\")\\n%load_ext autoreload\\n%autoreload 2\\n\\n%reload_ext nb_black\\n%config IPCompleter.greedy=True\";\n",
       "                var nbb_cells = Jupyter.notebook.get_cells();\n",
       "                for (var i = 0; i < nbb_cells.length; ++i) {\n",
       "                    if (nbb_cells[i].input_prompt_number == nbb_cell_id) {\n",
       "                        if (nbb_cells[i].get_text() == nbb_unformatted_code) {\n",
       "                             nbb_cells[i].set_text(nbb_formatted_code);\n",
       "                        }\n",
       "                        break;\n",
       "                    }\n",
       "                }\n",
       "            }, 500);\n",
       "            "
      ],
      "text/plain": [
       "<IPython.core.display.Javascript object>"
      ]
     },
     "metadata": {},
     "output_type": "display_data"
    },
    {
     "data": {
      "application/javascript": [
       "\n",
       "            setTimeout(function() {\n",
       "                var nbb_cell_id = 30;\n",
       "                var nbb_unformatted_code = \"import cv2\\nimport os\\nimport warnings\\nimport tensorflow as tf\\nfrom object_detection.utils import label_map_util\\nfrom object_detection.utils import visualization_utils as viz_utils\\nfrom object_detection.builders import model_builder\\nfrom object_detection.utils import config_util\\nimport platform\\nimport numpy as np\\nfrom matplotlib.pyplot import imshow\\n\\nwarnings.filterwarnings(\\\"ignore\\\")\\n%load_ext autoreload\\n%autoreload 2\\n\\n%reload_ext nb_black\\n%config IPCompleter.greedy=True\";\n",
       "                var nbb_formatted_code = \"import cv2\\nimport os\\nimport warnings\\nimport tensorflow as tf\\nfrom object_detection.utils import label_map_util\\nfrom object_detection.utils import visualization_utils as viz_utils\\nfrom object_detection.builders import model_builder\\nfrom object_detection.utils import config_util\\nimport platform\\nimport numpy as np\\nfrom matplotlib.pyplot import imshow\\n\\nwarnings.filterwarnings(\\\"ignore\\\")\\n%load_ext autoreload\\n%autoreload 2\\n\\n%reload_ext nb_black\\n%config IPCompleter.greedy=True\";\n",
       "                var nbb_cells = Jupyter.notebook.get_cells();\n",
       "                for (var i = 0; i < nbb_cells.length; ++i) {\n",
       "                    if (nbb_cells[i].input_prompt_number == nbb_cell_id) {\n",
       "                        if (nbb_cells[i].get_text() == nbb_unformatted_code) {\n",
       "                             nbb_cells[i].set_text(nbb_formatted_code);\n",
       "                        }\n",
       "                        break;\n",
       "                    }\n",
       "                }\n",
       "            }, 500);\n",
       "            "
      ],
      "text/plain": [
       "<IPython.core.display.Javascript object>"
      ]
     },
     "metadata": {},
     "output_type": "display_data"
    }
   ],
   "source": [
    "import cv2\n",
    "import os\n",
    "import warnings\n",
    "import tensorflow as tf\n",
    "from object_detection.utils import label_map_util\n",
    "from object_detection.utils import visualization_utils as viz_utils\n",
    "from object_detection.builders import model_builder\n",
    "from object_detection.utils import config_util\n",
    "import platform\n",
    "import numpy as np\n",
    "from matplotlib.pyplot import imshow\n",
    "\n",
    "warnings.filterwarnings(\"ignore\")\n",
    "%load_ext autoreload\n",
    "%autoreload 2\n",
    "\n",
    "%reload_ext nb_black\n",
    "%config IPCompleter.greedy=True"
   ]
  },
  {
   "cell_type": "code",
   "execution_count": 17,
   "metadata": {},
   "outputs": [
    {
     "data": {
      "application/javascript": [
       "\n",
       "            setTimeout(function() {\n",
       "                var nbb_cell_id = 17;\n",
       "                var nbb_unformatted_code = \"CUSTOM_MODEL_NAME = \\\"my_ssd_mobnet\\\"\\nPRETRAINED_MODEL_NAME = \\\"ssd_mobilenet_v2_fpnlite_320x320_coco17_tpu-8\\\"\\nPRETRAINED_MODEL = \\\"http://download.tensorflow.org/models/object_detection/tf2/20200711/ssd_mobilenet_v2_fpnlite_320x320_coco17_tpu-8.tar.gz\\\"\\nTF_RECORD_SCRIPT_NAME = \\\"generate_tfrecord.py\\\"\\nLABEL_MAP_NAME = \\\"label_map.pbtxt\\\"\\ncurrent_os = platform.system()\";\n",
       "                var nbb_formatted_code = \"CUSTOM_MODEL_NAME = \\\"my_ssd_mobnet\\\"\\nPRETRAINED_MODEL_NAME = \\\"ssd_mobilenet_v2_fpnlite_320x320_coco17_tpu-8\\\"\\nPRETRAINED_MODEL = \\\"http://download.tensorflow.org/models/object_detection/tf2/20200711/ssd_mobilenet_v2_fpnlite_320x320_coco17_tpu-8.tar.gz\\\"\\nTF_RECORD_SCRIPT_NAME = \\\"generate_tfrecord.py\\\"\\nLABEL_MAP_NAME = \\\"label_map.pbtxt\\\"\\ncurrent_os = platform.system()\";\n",
       "                var nbb_cells = Jupyter.notebook.get_cells();\n",
       "                for (var i = 0; i < nbb_cells.length; ++i) {\n",
       "                    if (nbb_cells[i].input_prompt_number == nbb_cell_id) {\n",
       "                        if (nbb_cells[i].get_text() == nbb_unformatted_code) {\n",
       "                             nbb_cells[i].set_text(nbb_formatted_code);\n",
       "                        }\n",
       "                        break;\n",
       "                    }\n",
       "                }\n",
       "            }, 500);\n",
       "            "
      ],
      "text/plain": [
       "<IPython.core.display.Javascript object>"
      ]
     },
     "metadata": {},
     "output_type": "display_data"
    },
    {
     "data": {
      "application/javascript": [
       "\n",
       "            setTimeout(function() {\n",
       "                var nbb_cell_id = 17;\n",
       "                var nbb_unformatted_code = \"CUSTOM_MODEL_NAME = \\\"my_ssd_mobnet\\\"\\nPRETRAINED_MODEL_NAME = \\\"ssd_mobilenet_v2_fpnlite_320x320_coco17_tpu-8\\\"\\nPRETRAINED_MODEL = \\\"http://download.tensorflow.org/models/object_detection/tf2/20200711/ssd_mobilenet_v2_fpnlite_320x320_coco17_tpu-8.tar.gz\\\"\\nTF_RECORD_SCRIPT_NAME = \\\"generate_tfrecord.py\\\"\\nLABEL_MAP_NAME = \\\"label_map.pbtxt\\\"\\ncurrent_os = platform.system()\";\n",
       "                var nbb_formatted_code = \"CUSTOM_MODEL_NAME = \\\"my_ssd_mobnet\\\"\\nPRETRAINED_MODEL_NAME = \\\"ssd_mobilenet_v2_fpnlite_320x320_coco17_tpu-8\\\"\\nPRETRAINED_MODEL = \\\"http://download.tensorflow.org/models/object_detection/tf2/20200711/ssd_mobilenet_v2_fpnlite_320x320_coco17_tpu-8.tar.gz\\\"\\nTF_RECORD_SCRIPT_NAME = \\\"generate_tfrecord.py\\\"\\nLABEL_MAP_NAME = \\\"label_map.pbtxt\\\"\\ncurrent_os = platform.system()\";\n",
       "                var nbb_cells = Jupyter.notebook.get_cells();\n",
       "                for (var i = 0; i < nbb_cells.length; ++i) {\n",
       "                    if (nbb_cells[i].input_prompt_number == nbb_cell_id) {\n",
       "                        if (nbb_cells[i].get_text() == nbb_unformatted_code) {\n",
       "                             nbb_cells[i].set_text(nbb_formatted_code);\n",
       "                        }\n",
       "                        break;\n",
       "                    }\n",
       "                }\n",
       "            }, 500);\n",
       "            "
      ],
      "text/plain": [
       "<IPython.core.display.Javascript object>"
      ]
     },
     "metadata": {},
     "output_type": "display_data"
    },
    {
     "data": {
      "application/javascript": [
       "\n",
       "            setTimeout(function() {\n",
       "                var nbb_cell_id = 17;\n",
       "                var nbb_unformatted_code = \"CUSTOM_MODEL_NAME = \\\"my_ssd_mobnet\\\"\\nPRETRAINED_MODEL_NAME = \\\"ssd_mobilenet_v2_fpnlite_320x320_coco17_tpu-8\\\"\\nPRETRAINED_MODEL = \\\"http://download.tensorflow.org/models/object_detection/tf2/20200711/ssd_mobilenet_v2_fpnlite_320x320_coco17_tpu-8.tar.gz\\\"\\nTF_RECORD_SCRIPT_NAME = \\\"generate_tfrecord.py\\\"\\nLABEL_MAP_NAME = \\\"label_map.pbtxt\\\"\\ncurrent_os = platform.system()\";\n",
       "                var nbb_formatted_code = \"CUSTOM_MODEL_NAME = \\\"my_ssd_mobnet\\\"\\nPRETRAINED_MODEL_NAME = \\\"ssd_mobilenet_v2_fpnlite_320x320_coco17_tpu-8\\\"\\nPRETRAINED_MODEL = \\\"http://download.tensorflow.org/models/object_detection/tf2/20200711/ssd_mobilenet_v2_fpnlite_320x320_coco17_tpu-8.tar.gz\\\"\\nTF_RECORD_SCRIPT_NAME = \\\"generate_tfrecord.py\\\"\\nLABEL_MAP_NAME = \\\"label_map.pbtxt\\\"\\ncurrent_os = platform.system()\";\n",
       "                var nbb_cells = Jupyter.notebook.get_cells();\n",
       "                for (var i = 0; i < nbb_cells.length; ++i) {\n",
       "                    if (nbb_cells[i].input_prompt_number == nbb_cell_id) {\n",
       "                        if (nbb_cells[i].get_text() == nbb_unformatted_code) {\n",
       "                             nbb_cells[i].set_text(nbb_formatted_code);\n",
       "                        }\n",
       "                        break;\n",
       "                    }\n",
       "                }\n",
       "            }, 500);\n",
       "            "
      ],
      "text/plain": [
       "<IPython.core.display.Javascript object>"
      ]
     },
     "metadata": {},
     "output_type": "display_data"
    }
   ],
   "source": [
    "CUSTOM_MODEL_NAME = \"my_ssd_mobnet\"\n",
    "PRETRAINED_MODEL_NAME = \"ssd_mobilenet_v2_fpnlite_320x320_coco17_tpu-8\"\n",
    "PRETRAINED_MODEL = \"http://download.tensorflow.org/models/object_detection/tf2/20200711/ssd_mobilenet_v2_fpnlite_320x320_coco17_tpu-8.tar.gz\"\n",
    "TF_RECORD_SCRIPT_NAME = \"generate_tfrecord.py\"\n",
    "LABEL_MAP_NAME = \"label_map.pbtxt\"\n",
    "current_os = platform.system()"
   ]
  },
  {
   "cell_type": "code",
   "execution_count": 18,
   "metadata": {},
   "outputs": [
    {
     "data": {
      "application/javascript": [
       "\n",
       "            setTimeout(function() {\n",
       "                var nbb_cell_id = 18;\n",
       "                var nbb_unformatted_code = \"\\nparent_directory = os.path.dirname(os.getcwd())\\npaths = {\\n    \\\"SRC_PATH\\\": os.path.join(parent_directory, \\\"src\\\"),\\n    \\\"DATA_PATH\\\": os.path.join(parent_directory, \\\"data\\\"),\\n    \\\"APIMODEL_PATH\\\": os.path.join(parent_directory, \\\"api_models\\\"),\\n    \\\"MODEL_PATH\\\": os.path.join(parent_directory, \\\"my_models\\\"),\\n    \\\"PRETRAINED_MODEL_PATH\\\": os.path.join(parent_directory, \\\"pre-trained-models\\\"),\\n    \\\"CHECKPOINT_PATH\\\": os.path.join(parent_directory, \\\"my_models\\\", CUSTOM_MODEL_NAME),\\n    \\\"OUTPUT_PATH\\\": os.path.join(\\n        parent_directory, \\\"my_models\\\", CUSTOM_MODEL_NAME, \\\"export\\\"\\n    ),\\n    \\\"TFJS_PATH\\\": os.path.join(\\n        parent_directory, \\\"my_models\\\", CUSTOM_MODEL_NAME, \\\"tfjsexport\\\"\\n    ),\\n    \\\"TFLITE_PATH\\\": os.path.join(\\n        parent_directory, \\\"my_models\\\", CUSTOM_MODEL_NAME, \\\"tfliteexport\\\"\\n    ),\\n    \\\"PROTOC_PATH\\\": os.path.join(parent_directory, \\\"protoc\\\"),\\n    \\\"VIDEOS_PATH\\\": os.path.join(parent_directory, \\\"videos\\\"),\\n}\\nmice = [\\n    \\\"PrL-2\\\",\\n    \\\"PrL-3\\\",\\n    \\\"PrL-4\\\",\\n    \\\"PrL-5\\\",\\n    \\\"PrL-8\\\",\\n    \\\"PrL-9\\\",\\n    \\\"PrL-10\\\",\\n    \\\"PrL-16\\\",\\n    \\\"PrL-19\\\",\\n]\";\n",
       "                var nbb_formatted_code = \"parent_directory = os.path.dirname(os.getcwd())\\npaths = {\\n    \\\"SRC_PATH\\\": os.path.join(parent_directory, \\\"src\\\"),\\n    \\\"DATA_PATH\\\": os.path.join(parent_directory, \\\"data\\\"),\\n    \\\"APIMODEL_PATH\\\": os.path.join(parent_directory, \\\"api_models\\\"),\\n    \\\"MODEL_PATH\\\": os.path.join(parent_directory, \\\"my_models\\\"),\\n    \\\"PRETRAINED_MODEL_PATH\\\": os.path.join(parent_directory, \\\"pre-trained-models\\\"),\\n    \\\"CHECKPOINT_PATH\\\": os.path.join(parent_directory, \\\"my_models\\\", CUSTOM_MODEL_NAME),\\n    \\\"OUTPUT_PATH\\\": os.path.join(\\n        parent_directory, \\\"my_models\\\", CUSTOM_MODEL_NAME, \\\"export\\\"\\n    ),\\n    \\\"TFJS_PATH\\\": os.path.join(\\n        parent_directory, \\\"my_models\\\", CUSTOM_MODEL_NAME, \\\"tfjsexport\\\"\\n    ),\\n    \\\"TFLITE_PATH\\\": os.path.join(\\n        parent_directory, \\\"my_models\\\", CUSTOM_MODEL_NAME, \\\"tfliteexport\\\"\\n    ),\\n    \\\"PROTOC_PATH\\\": os.path.join(parent_directory, \\\"protoc\\\"),\\n    \\\"VIDEOS_PATH\\\": os.path.join(parent_directory, \\\"videos\\\"),\\n}\\nmice = [\\n    \\\"PrL-2\\\",\\n    \\\"PrL-3\\\",\\n    \\\"PrL-4\\\",\\n    \\\"PrL-5\\\",\\n    \\\"PrL-8\\\",\\n    \\\"PrL-9\\\",\\n    \\\"PrL-10\\\",\\n    \\\"PrL-16\\\",\\n    \\\"PrL-19\\\",\\n]\";\n",
       "                var nbb_cells = Jupyter.notebook.get_cells();\n",
       "                for (var i = 0; i < nbb_cells.length; ++i) {\n",
       "                    if (nbb_cells[i].input_prompt_number == nbb_cell_id) {\n",
       "                        if (nbb_cells[i].get_text() == nbb_unformatted_code) {\n",
       "                             nbb_cells[i].set_text(nbb_formatted_code);\n",
       "                        }\n",
       "                        break;\n",
       "                    }\n",
       "                }\n",
       "            }, 500);\n",
       "            "
      ],
      "text/plain": [
       "<IPython.core.display.Javascript object>"
      ]
     },
     "metadata": {},
     "output_type": "display_data"
    },
    {
     "data": {
      "application/javascript": [
       "\n",
       "            setTimeout(function() {\n",
       "                var nbb_cell_id = 18;\n",
       "                var nbb_unformatted_code = \"\\nparent_directory = os.path.dirname(os.getcwd())\\npaths = {\\n    \\\"SRC_PATH\\\": os.path.join(parent_directory, \\\"src\\\"),\\n    \\\"DATA_PATH\\\": os.path.join(parent_directory, \\\"data\\\"),\\n    \\\"APIMODEL_PATH\\\": os.path.join(parent_directory, \\\"api_models\\\"),\\n    \\\"MODEL_PATH\\\": os.path.join(parent_directory, \\\"my_models\\\"),\\n    \\\"PRETRAINED_MODEL_PATH\\\": os.path.join(parent_directory, \\\"pre-trained-models\\\"),\\n    \\\"CHECKPOINT_PATH\\\": os.path.join(parent_directory, \\\"my_models\\\", CUSTOM_MODEL_NAME),\\n    \\\"OUTPUT_PATH\\\": os.path.join(\\n        parent_directory, \\\"my_models\\\", CUSTOM_MODEL_NAME, \\\"export\\\"\\n    ),\\n    \\\"TFJS_PATH\\\": os.path.join(\\n        parent_directory, \\\"my_models\\\", CUSTOM_MODEL_NAME, \\\"tfjsexport\\\"\\n    ),\\n    \\\"TFLITE_PATH\\\": os.path.join(\\n        parent_directory, \\\"my_models\\\", CUSTOM_MODEL_NAME, \\\"tfliteexport\\\"\\n    ),\\n    \\\"PROTOC_PATH\\\": os.path.join(parent_directory, \\\"protoc\\\"),\\n    \\\"VIDEOS_PATH\\\": os.path.join(parent_directory, \\\"videos\\\"),\\n}\\nmice = [\\n    \\\"PrL-2\\\",\\n    \\\"PrL-3\\\",\\n    \\\"PrL-4\\\",\\n    \\\"PrL-5\\\",\\n    \\\"PrL-8\\\",\\n    \\\"PrL-9\\\",\\n    \\\"PrL-10\\\",\\n    \\\"PrL-16\\\",\\n    \\\"PrL-19\\\",\\n]\";\n",
       "                var nbb_formatted_code = \"parent_directory = os.path.dirname(os.getcwd())\\npaths = {\\n    \\\"SRC_PATH\\\": os.path.join(parent_directory, \\\"src\\\"),\\n    \\\"DATA_PATH\\\": os.path.join(parent_directory, \\\"data\\\"),\\n    \\\"APIMODEL_PATH\\\": os.path.join(parent_directory, \\\"api_models\\\"),\\n    \\\"MODEL_PATH\\\": os.path.join(parent_directory, \\\"my_models\\\"),\\n    \\\"PRETRAINED_MODEL_PATH\\\": os.path.join(parent_directory, \\\"pre-trained-models\\\"),\\n    \\\"CHECKPOINT_PATH\\\": os.path.join(parent_directory, \\\"my_models\\\", CUSTOM_MODEL_NAME),\\n    \\\"OUTPUT_PATH\\\": os.path.join(\\n        parent_directory, \\\"my_models\\\", CUSTOM_MODEL_NAME, \\\"export\\\"\\n    ),\\n    \\\"TFJS_PATH\\\": os.path.join(\\n        parent_directory, \\\"my_models\\\", CUSTOM_MODEL_NAME, \\\"tfjsexport\\\"\\n    ),\\n    \\\"TFLITE_PATH\\\": os.path.join(\\n        parent_directory, \\\"my_models\\\", CUSTOM_MODEL_NAME, \\\"tfliteexport\\\"\\n    ),\\n    \\\"PROTOC_PATH\\\": os.path.join(parent_directory, \\\"protoc\\\"),\\n    \\\"VIDEOS_PATH\\\": os.path.join(parent_directory, \\\"videos\\\"),\\n}\\nmice = [\\n    \\\"PrL-2\\\",\\n    \\\"PrL-3\\\",\\n    \\\"PrL-4\\\",\\n    \\\"PrL-5\\\",\\n    \\\"PrL-8\\\",\\n    \\\"PrL-9\\\",\\n    \\\"PrL-10\\\",\\n    \\\"PrL-16\\\",\\n    \\\"PrL-19\\\",\\n]\";\n",
       "                var nbb_cells = Jupyter.notebook.get_cells();\n",
       "                for (var i = 0; i < nbb_cells.length; ++i) {\n",
       "                    if (nbb_cells[i].input_prompt_number == nbb_cell_id) {\n",
       "                        if (nbb_cells[i].get_text() == nbb_unformatted_code) {\n",
       "                             nbb_cells[i].set_text(nbb_formatted_code);\n",
       "                        }\n",
       "                        break;\n",
       "                    }\n",
       "                }\n",
       "            }, 500);\n",
       "            "
      ],
      "text/plain": [
       "<IPython.core.display.Javascript object>"
      ]
     },
     "metadata": {},
     "output_type": "display_data"
    },
    {
     "data": {
      "application/javascript": [
       "\n",
       "            setTimeout(function() {\n",
       "                var nbb_cell_id = 18;\n",
       "                var nbb_unformatted_code = \"\\nparent_directory = os.path.dirname(os.getcwd())\\npaths = {\\n    \\\"SRC_PATH\\\": os.path.join(parent_directory, \\\"src\\\"),\\n    \\\"DATA_PATH\\\": os.path.join(parent_directory, \\\"data\\\"),\\n    \\\"APIMODEL_PATH\\\": os.path.join(parent_directory, \\\"api_models\\\"),\\n    \\\"MODEL_PATH\\\": os.path.join(parent_directory, \\\"my_models\\\"),\\n    \\\"PRETRAINED_MODEL_PATH\\\": os.path.join(parent_directory, \\\"pre-trained-models\\\"),\\n    \\\"CHECKPOINT_PATH\\\": os.path.join(parent_directory, \\\"my_models\\\", CUSTOM_MODEL_NAME),\\n    \\\"OUTPUT_PATH\\\": os.path.join(\\n        parent_directory, \\\"my_models\\\", CUSTOM_MODEL_NAME, \\\"export\\\"\\n    ),\\n    \\\"TFJS_PATH\\\": os.path.join(\\n        parent_directory, \\\"my_models\\\", CUSTOM_MODEL_NAME, \\\"tfjsexport\\\"\\n    ),\\n    \\\"TFLITE_PATH\\\": os.path.join(\\n        parent_directory, \\\"my_models\\\", CUSTOM_MODEL_NAME, \\\"tfliteexport\\\"\\n    ),\\n    \\\"PROTOC_PATH\\\": os.path.join(parent_directory, \\\"protoc\\\"),\\n    \\\"VIDEOS_PATH\\\": os.path.join(parent_directory, \\\"videos\\\"),\\n}\\nmice = [\\n    \\\"PrL-2\\\",\\n    \\\"PrL-3\\\",\\n    \\\"PrL-4\\\",\\n    \\\"PrL-5\\\",\\n    \\\"PrL-8\\\",\\n    \\\"PrL-9\\\",\\n    \\\"PrL-10\\\",\\n    \\\"PrL-16\\\",\\n    \\\"PrL-19\\\",\\n]\";\n",
       "                var nbb_formatted_code = \"parent_directory = os.path.dirname(os.getcwd())\\npaths = {\\n    \\\"SRC_PATH\\\": os.path.join(parent_directory, \\\"src\\\"),\\n    \\\"DATA_PATH\\\": os.path.join(parent_directory, \\\"data\\\"),\\n    \\\"APIMODEL_PATH\\\": os.path.join(parent_directory, \\\"api_models\\\"),\\n    \\\"MODEL_PATH\\\": os.path.join(parent_directory, \\\"my_models\\\"),\\n    \\\"PRETRAINED_MODEL_PATH\\\": os.path.join(parent_directory, \\\"pre-trained-models\\\"),\\n    \\\"CHECKPOINT_PATH\\\": os.path.join(parent_directory, \\\"my_models\\\", CUSTOM_MODEL_NAME),\\n    \\\"OUTPUT_PATH\\\": os.path.join(\\n        parent_directory, \\\"my_models\\\", CUSTOM_MODEL_NAME, \\\"export\\\"\\n    ),\\n    \\\"TFJS_PATH\\\": os.path.join(\\n        parent_directory, \\\"my_models\\\", CUSTOM_MODEL_NAME, \\\"tfjsexport\\\"\\n    ),\\n    \\\"TFLITE_PATH\\\": os.path.join(\\n        parent_directory, \\\"my_models\\\", CUSTOM_MODEL_NAME, \\\"tfliteexport\\\"\\n    ),\\n    \\\"PROTOC_PATH\\\": os.path.join(parent_directory, \\\"protoc\\\"),\\n    \\\"VIDEOS_PATH\\\": os.path.join(parent_directory, \\\"videos\\\"),\\n}\\nmice = [\\n    \\\"PrL-2\\\",\\n    \\\"PrL-3\\\",\\n    \\\"PrL-4\\\",\\n    \\\"PrL-5\\\",\\n    \\\"PrL-8\\\",\\n    \\\"PrL-9\\\",\\n    \\\"PrL-10\\\",\\n    \\\"PrL-16\\\",\\n    \\\"PrL-19\\\",\\n]\";\n",
       "                var nbb_cells = Jupyter.notebook.get_cells();\n",
       "                for (var i = 0; i < nbb_cells.length; ++i) {\n",
       "                    if (nbb_cells[i].input_prompt_number == nbb_cell_id) {\n",
       "                        if (nbb_cells[i].get_text() == nbb_unformatted_code) {\n",
       "                             nbb_cells[i].set_text(nbb_formatted_code);\n",
       "                        }\n",
       "                        break;\n",
       "                    }\n",
       "                }\n",
       "            }, 500);\n",
       "            "
      ],
      "text/plain": [
       "<IPython.core.display.Javascript object>"
      ]
     },
     "metadata": {},
     "output_type": "display_data"
    }
   ],
   "source": [
    "parent_directory = os.path.dirname(os.getcwd())\n",
    "paths = {\n",
    "    \"SRC_PATH\": os.path.join(parent_directory, \"src\"),\n",
    "    \"DATA_PATH\": os.path.join(parent_directory, \"data\"),\n",
    "    \"APIMODEL_PATH\": os.path.join(parent_directory, \"api_models\"),\n",
    "    \"MODEL_PATH\": os.path.join(parent_directory, \"my_models\"),\n",
    "    \"PRETRAINED_MODEL_PATH\": os.path.join(parent_directory, \"pre-trained-models\"),\n",
    "    \"CHECKPOINT_PATH\": os.path.join(parent_directory, \"my_models\", CUSTOM_MODEL_NAME),\n",
    "    \"OUTPUT_PATH\": os.path.join(\n",
    "        parent_directory, \"my_models\", CUSTOM_MODEL_NAME, \"export\"\n",
    "    ),\n",
    "    \"TFJS_PATH\": os.path.join(\n",
    "        parent_directory, \"my_models\", CUSTOM_MODEL_NAME, \"tfjsexport\"\n",
    "    ),\n",
    "    \"TFLITE_PATH\": os.path.join(\n",
    "        parent_directory, \"my_models\", CUSTOM_MODEL_NAME, \"tfliteexport\"\n",
    "    ),\n",
    "    \"PROTOC_PATH\": os.path.join(parent_directory, \"protoc\"),\n",
    "    \"VIDEOS_PATH\": os.path.join(parent_directory, \"videos\"),\n",
    "}\n",
    "mice = [\n",
    "    \"PrL-2\",\n",
    "    \"PrL-3\",\n",
    "    \"PrL-4\",\n",
    "    \"PrL-5\",\n",
    "    \"PrL-8\",\n",
    "    \"PrL-9\",\n",
    "    \"PrL-10\",\n",
    "    \"PrL-16\",\n",
    "    \"PrL-19\",\n",
    "]"
   ]
  },
  {
   "cell_type": "code",
   "execution_count": 19,
   "metadata": {},
   "outputs": [
    {
     "data": {
      "application/javascript": [
       "\n",
       "            setTimeout(function() {\n",
       "                var nbb_cell_id = 19;\n",
       "                var nbb_unformatted_code = \"files = {\\n    \\\"PIPELINE_CONFIG\\\": os.path.join(\\n        parent_directory, \\\"my_models\\\", CUSTOM_MODEL_NAME, \\\"pipeline.config\\\"\\n    ),\\n    \\\"TF_RECORD_SCRIPT\\\": os.path.join(paths[\\\"DATA_PATH\\\"], TF_RECORD_SCRIPT_NAME),\\n    \\\"LABELMAP\\\": os.path.join(paths[\\\"DATA_PATH\\\"], LABEL_MAP_NAME),\\n}\";\n",
       "                var nbb_formatted_code = \"files = {\\n    \\\"PIPELINE_CONFIG\\\": os.path.join(\\n        parent_directory, \\\"my_models\\\", CUSTOM_MODEL_NAME, \\\"pipeline.config\\\"\\n    ),\\n    \\\"TF_RECORD_SCRIPT\\\": os.path.join(paths[\\\"DATA_PATH\\\"], TF_RECORD_SCRIPT_NAME),\\n    \\\"LABELMAP\\\": os.path.join(paths[\\\"DATA_PATH\\\"], LABEL_MAP_NAME),\\n}\";\n",
       "                var nbb_cells = Jupyter.notebook.get_cells();\n",
       "                for (var i = 0; i < nbb_cells.length; ++i) {\n",
       "                    if (nbb_cells[i].input_prompt_number == nbb_cell_id) {\n",
       "                        if (nbb_cells[i].get_text() == nbb_unformatted_code) {\n",
       "                             nbb_cells[i].set_text(nbb_formatted_code);\n",
       "                        }\n",
       "                        break;\n",
       "                    }\n",
       "                }\n",
       "            }, 500);\n",
       "            "
      ],
      "text/plain": [
       "<IPython.core.display.Javascript object>"
      ]
     },
     "metadata": {},
     "output_type": "display_data"
    },
    {
     "data": {
      "application/javascript": [
       "\n",
       "            setTimeout(function() {\n",
       "                var nbb_cell_id = 19;\n",
       "                var nbb_unformatted_code = \"files = {\\n    \\\"PIPELINE_CONFIG\\\": os.path.join(\\n        parent_directory, \\\"my_models\\\", CUSTOM_MODEL_NAME, \\\"pipeline.config\\\"\\n    ),\\n    \\\"TF_RECORD_SCRIPT\\\": os.path.join(paths[\\\"DATA_PATH\\\"], TF_RECORD_SCRIPT_NAME),\\n    \\\"LABELMAP\\\": os.path.join(paths[\\\"DATA_PATH\\\"], LABEL_MAP_NAME),\\n}\";\n",
       "                var nbb_formatted_code = \"files = {\\n    \\\"PIPELINE_CONFIG\\\": os.path.join(\\n        parent_directory, \\\"my_models\\\", CUSTOM_MODEL_NAME, \\\"pipeline.config\\\"\\n    ),\\n    \\\"TF_RECORD_SCRIPT\\\": os.path.join(paths[\\\"DATA_PATH\\\"], TF_RECORD_SCRIPT_NAME),\\n    \\\"LABELMAP\\\": os.path.join(paths[\\\"DATA_PATH\\\"], LABEL_MAP_NAME),\\n}\";\n",
       "                var nbb_cells = Jupyter.notebook.get_cells();\n",
       "                for (var i = 0; i < nbb_cells.length; ++i) {\n",
       "                    if (nbb_cells[i].input_prompt_number == nbb_cell_id) {\n",
       "                        if (nbb_cells[i].get_text() == nbb_unformatted_code) {\n",
       "                             nbb_cells[i].set_text(nbb_formatted_code);\n",
       "                        }\n",
       "                        break;\n",
       "                    }\n",
       "                }\n",
       "            }, 500);\n",
       "            "
      ],
      "text/plain": [
       "<IPython.core.display.Javascript object>"
      ]
     },
     "metadata": {},
     "output_type": "display_data"
    },
    {
     "data": {
      "application/javascript": [
       "\n",
       "            setTimeout(function() {\n",
       "                var nbb_cell_id = 19;\n",
       "                var nbb_unformatted_code = \"files = {\\n    \\\"PIPELINE_CONFIG\\\": os.path.join(\\n        parent_directory, \\\"my_models\\\", CUSTOM_MODEL_NAME, \\\"pipeline.config\\\"\\n    ),\\n    \\\"TF_RECORD_SCRIPT\\\": os.path.join(paths[\\\"DATA_PATH\\\"], TF_RECORD_SCRIPT_NAME),\\n    \\\"LABELMAP\\\": os.path.join(paths[\\\"DATA_PATH\\\"], LABEL_MAP_NAME),\\n}\";\n",
       "                var nbb_formatted_code = \"files = {\\n    \\\"PIPELINE_CONFIG\\\": os.path.join(\\n        parent_directory, \\\"my_models\\\", CUSTOM_MODEL_NAME, \\\"pipeline.config\\\"\\n    ),\\n    \\\"TF_RECORD_SCRIPT\\\": os.path.join(paths[\\\"DATA_PATH\\\"], TF_RECORD_SCRIPT_NAME),\\n    \\\"LABELMAP\\\": os.path.join(paths[\\\"DATA_PATH\\\"], LABEL_MAP_NAME),\\n}\";\n",
       "                var nbb_cells = Jupyter.notebook.get_cells();\n",
       "                for (var i = 0; i < nbb_cells.length; ++i) {\n",
       "                    if (nbb_cells[i].input_prompt_number == nbb_cell_id) {\n",
       "                        if (nbb_cells[i].get_text() == nbb_unformatted_code) {\n",
       "                             nbb_cells[i].set_text(nbb_formatted_code);\n",
       "                        }\n",
       "                        break;\n",
       "                    }\n",
       "                }\n",
       "            }, 500);\n",
       "            "
      ],
      "text/plain": [
       "<IPython.core.display.Javascript object>"
      ]
     },
     "metadata": {},
     "output_type": "display_data"
    }
   ],
   "source": [
    "files = {\n",
    "    \"PIPELINE_CONFIG\": os.path.join(\n",
    "        parent_directory, \"my_models\", CUSTOM_MODEL_NAME, \"pipeline.config\"\n",
    "    ),\n",
    "    \"TF_RECORD_SCRIPT\": os.path.join(paths[\"DATA_PATH\"], TF_RECORD_SCRIPT_NAME),\n",
    "    \"LABELMAP\": os.path.join(paths[\"DATA_PATH\"], LABEL_MAP_NAME),\n",
    "}"
   ]
  },
  {
   "cell_type": "code",
   "execution_count": 21,
   "metadata": {},
   "outputs": [
    {
     "data": {
      "application/javascript": [
       "\n",
       "            setTimeout(function() {\n",
       "                var nbb_cell_id = 21;\n",
       "                var nbb_unformatted_code = \"# Load pipeline config and build a detection model\\nconfigs = config_util.get_configs_from_pipeline_file(files[\\\"PIPELINE_CONFIG\\\"])\\ndetection_model = model_builder.build(model_config=configs[\\\"model\\\"], is_training=False)\\n\\n# Restore checkpoint\\nckpt = tf.compat.v2.train.Checkpoint(model=detection_model)\\nckpt.restore(os.path.join(paths[\\\"CHECKPOINT_PATH\\\"], \\\"ckpt-3\\\")).expect_partial()\\n\\n\\n@tf.function\\ndef detect_fn(image):\\n    image, shapes = detection_model.preprocess(image)\\n    prediction_dict = detection_model.predict(image, shapes)\\n    detections = detection_model.postprocess(prediction_dict, shapes)\\n    return detections\";\n",
       "                var nbb_formatted_code = \"# Load pipeline config and build a detection model\\nconfigs = config_util.get_configs_from_pipeline_file(files[\\\"PIPELINE_CONFIG\\\"])\\ndetection_model = model_builder.build(model_config=configs[\\\"model\\\"], is_training=False)\\n\\n# Restore checkpoint\\nckpt = tf.compat.v2.train.Checkpoint(model=detection_model)\\nckpt.restore(os.path.join(paths[\\\"CHECKPOINT_PATH\\\"], \\\"ckpt-3\\\")).expect_partial()\\n\\n\\n@tf.function\\ndef detect_fn(image):\\n    image, shapes = detection_model.preprocess(image)\\n    prediction_dict = detection_model.predict(image, shapes)\\n    detections = detection_model.postprocess(prediction_dict, shapes)\\n    return detections\";\n",
       "                var nbb_cells = Jupyter.notebook.get_cells();\n",
       "                for (var i = 0; i < nbb_cells.length; ++i) {\n",
       "                    if (nbb_cells[i].input_prompt_number == nbb_cell_id) {\n",
       "                        if (nbb_cells[i].get_text() == nbb_unformatted_code) {\n",
       "                             nbb_cells[i].set_text(nbb_formatted_code);\n",
       "                        }\n",
       "                        break;\n",
       "                    }\n",
       "                }\n",
       "            }, 500);\n",
       "            "
      ],
      "text/plain": [
       "<IPython.core.display.Javascript object>"
      ]
     },
     "metadata": {},
     "output_type": "display_data"
    },
    {
     "data": {
      "application/javascript": [
       "\n",
       "            setTimeout(function() {\n",
       "                var nbb_cell_id = 21;\n",
       "                var nbb_unformatted_code = \"# Load pipeline config and build a detection model\\nconfigs = config_util.get_configs_from_pipeline_file(files[\\\"PIPELINE_CONFIG\\\"])\\ndetection_model = model_builder.build(model_config=configs[\\\"model\\\"], is_training=False)\\n\\n# Restore checkpoint\\nckpt = tf.compat.v2.train.Checkpoint(model=detection_model)\\nckpt.restore(os.path.join(paths[\\\"CHECKPOINT_PATH\\\"], \\\"ckpt-3\\\")).expect_partial()\\n\\n\\n@tf.function\\ndef detect_fn(image):\\n    image, shapes = detection_model.preprocess(image)\\n    prediction_dict = detection_model.predict(image, shapes)\\n    detections = detection_model.postprocess(prediction_dict, shapes)\\n    return detections\";\n",
       "                var nbb_formatted_code = \"# Load pipeline config and build a detection model\\nconfigs = config_util.get_configs_from_pipeline_file(files[\\\"PIPELINE_CONFIG\\\"])\\ndetection_model = model_builder.build(model_config=configs[\\\"model\\\"], is_training=False)\\n\\n# Restore checkpoint\\nckpt = tf.compat.v2.train.Checkpoint(model=detection_model)\\nckpt.restore(os.path.join(paths[\\\"CHECKPOINT_PATH\\\"], \\\"ckpt-3\\\")).expect_partial()\\n\\n\\n@tf.function\\ndef detect_fn(image):\\n    image, shapes = detection_model.preprocess(image)\\n    prediction_dict = detection_model.predict(image, shapes)\\n    detections = detection_model.postprocess(prediction_dict, shapes)\\n    return detections\";\n",
       "                var nbb_cells = Jupyter.notebook.get_cells();\n",
       "                for (var i = 0; i < nbb_cells.length; ++i) {\n",
       "                    if (nbb_cells[i].input_prompt_number == nbb_cell_id) {\n",
       "                        if (nbb_cells[i].get_text() == nbb_unformatted_code) {\n",
       "                             nbb_cells[i].set_text(nbb_formatted_code);\n",
       "                        }\n",
       "                        break;\n",
       "                    }\n",
       "                }\n",
       "            }, 500);\n",
       "            "
      ],
      "text/plain": [
       "<IPython.core.display.Javascript object>"
      ]
     },
     "metadata": {},
     "output_type": "display_data"
    },
    {
     "data": {
      "application/javascript": [
       "\n",
       "            setTimeout(function() {\n",
       "                var nbb_cell_id = 21;\n",
       "                var nbb_unformatted_code = \"# Load pipeline config and build a detection model\\nconfigs = config_util.get_configs_from_pipeline_file(files[\\\"PIPELINE_CONFIG\\\"])\\ndetection_model = model_builder.build(model_config=configs[\\\"model\\\"], is_training=False)\\n\\n# Restore checkpoint\\nckpt = tf.compat.v2.train.Checkpoint(model=detection_model)\\nckpt.restore(os.path.join(paths[\\\"CHECKPOINT_PATH\\\"], \\\"ckpt-3\\\")).expect_partial()\\n\\n\\n@tf.function\\ndef detect_fn(image):\\n    image, shapes = detection_model.preprocess(image)\\n    prediction_dict = detection_model.predict(image, shapes)\\n    detections = detection_model.postprocess(prediction_dict, shapes)\\n    return detections\";\n",
       "                var nbb_formatted_code = \"# Load pipeline config and build a detection model\\nconfigs = config_util.get_configs_from_pipeline_file(files[\\\"PIPELINE_CONFIG\\\"])\\ndetection_model = model_builder.build(model_config=configs[\\\"model\\\"], is_training=False)\\n\\n# Restore checkpoint\\nckpt = tf.compat.v2.train.Checkpoint(model=detection_model)\\nckpt.restore(os.path.join(paths[\\\"CHECKPOINT_PATH\\\"], \\\"ckpt-3\\\")).expect_partial()\\n\\n\\n@tf.function\\ndef detect_fn(image):\\n    image, shapes = detection_model.preprocess(image)\\n    prediction_dict = detection_model.predict(image, shapes)\\n    detections = detection_model.postprocess(prediction_dict, shapes)\\n    return detections\";\n",
       "                var nbb_cells = Jupyter.notebook.get_cells();\n",
       "                for (var i = 0; i < nbb_cells.length; ++i) {\n",
       "                    if (nbb_cells[i].input_prompt_number == nbb_cell_id) {\n",
       "                        if (nbb_cells[i].get_text() == nbb_unformatted_code) {\n",
       "                             nbb_cells[i].set_text(nbb_formatted_code);\n",
       "                        }\n",
       "                        break;\n",
       "                    }\n",
       "                }\n",
       "            }, 500);\n",
       "            "
      ],
      "text/plain": [
       "<IPython.core.display.Javascript object>"
      ]
     },
     "metadata": {},
     "output_type": "display_data"
    }
   ],
   "source": [
    "# Load pipeline config and build a detection model\n",
    "configs = config_util.get_configs_from_pipeline_file(files[\"PIPELINE_CONFIG\"])\n",
    "detection_model = model_builder.build(model_config=configs[\"model\"], is_training=False)\n",
    "\n",
    "# Restore checkpoint\n",
    "ckpt = tf.compat.v2.train.Checkpoint(model=detection_model)\n",
    "ckpt.restore(os.path.join(paths[\"CHECKPOINT_PATH\"], \"ckpt-3\")).expect_partial()\n",
    "\n",
    "\n",
    "@tf.function\n",
    "def detect_fn(image):\n",
    "    image, shapes = detection_model.preprocess(image)\n",
    "    prediction_dict = detection_model.predict(image, shapes)\n",
    "    detections = detection_model.postprocess(prediction_dict, shapes)\n",
    "    return detections"
   ]
  },
  {
   "cell_type": "code",
   "execution_count": 29,
   "metadata": {},
   "outputs": [
    {
     "data": {
      "application/javascript": [
       "\n",
       "            setTimeout(function() {\n",
       "                var nbb_cell_id = 29;\n",
       "                var nbb_unformatted_code = \"img_path = (\\n    f'{paths[\\\"DATA_PATH\\\"]}/train/child_PrL-3-d99f9f63-1612-470f-b36d-9ec1e6ef9dc1.jpg'\\n)\\npil_im = Image.open(img_path, \\\"r\\\")\\npil_im.show()\";\n",
       "                var nbb_formatted_code = \"img_path = (\\n    f'{paths[\\\"DATA_PATH\\\"]}/train/child_PrL-3-d99f9f63-1612-470f-b36d-9ec1e6ef9dc1.jpg'\\n)\\npil_im = Image.open(img_path, \\\"r\\\")\\npil_im.show()\";\n",
       "                var nbb_cells = Jupyter.notebook.get_cells();\n",
       "                for (var i = 0; i < nbb_cells.length; ++i) {\n",
       "                    if (nbb_cells[i].input_prompt_number == nbb_cell_id) {\n",
       "                        if (nbb_cells[i].get_text() == nbb_unformatted_code) {\n",
       "                             nbb_cells[i].set_text(nbb_formatted_code);\n",
       "                        }\n",
       "                        break;\n",
       "                    }\n",
       "                }\n",
       "            }, 500);\n",
       "            "
      ],
      "text/plain": [
       "<IPython.core.display.Javascript object>"
      ]
     },
     "metadata": {},
     "output_type": "display_data"
    },
    {
     "data": {
      "application/javascript": [
       "\n",
       "            setTimeout(function() {\n",
       "                var nbb_cell_id = 29;\n",
       "                var nbb_unformatted_code = \"img_path = (\\n    f'{paths[\\\"DATA_PATH\\\"]}/train/child_PrL-3-d99f9f63-1612-470f-b36d-9ec1e6ef9dc1.jpg'\\n)\\npil_im = Image.open(img_path, \\\"r\\\")\\npil_im.show()\";\n",
       "                var nbb_formatted_code = \"img_path = (\\n    f'{paths[\\\"DATA_PATH\\\"]}/train/child_PrL-3-d99f9f63-1612-470f-b36d-9ec1e6ef9dc1.jpg'\\n)\\npil_im = Image.open(img_path, \\\"r\\\")\\npil_im.show()\";\n",
       "                var nbb_cells = Jupyter.notebook.get_cells();\n",
       "                for (var i = 0; i < nbb_cells.length; ++i) {\n",
       "                    if (nbb_cells[i].input_prompt_number == nbb_cell_id) {\n",
       "                        if (nbb_cells[i].get_text() == nbb_unformatted_code) {\n",
       "                             nbb_cells[i].set_text(nbb_formatted_code);\n",
       "                        }\n",
       "                        break;\n",
       "                    }\n",
       "                }\n",
       "            }, 500);\n",
       "            "
      ],
      "text/plain": [
       "<IPython.core.display.Javascript object>"
      ]
     },
     "metadata": {},
     "output_type": "display_data"
    },
    {
     "data": {
      "application/javascript": [
       "\n",
       "            setTimeout(function() {\n",
       "                var nbb_cell_id = 29;\n",
       "                var nbb_unformatted_code = \"img_path = (\\n    f'{paths[\\\"DATA_PATH\\\"]}/train/child_PrL-3-d99f9f63-1612-470f-b36d-9ec1e6ef9dc1.jpg'\\n)\\npil_im = Image.open(img_path, \\\"r\\\")\\npil_im.show()\";\n",
       "                var nbb_formatted_code = \"img_path = (\\n    f'{paths[\\\"DATA_PATH\\\"]}/train/child_PrL-3-d99f9f63-1612-470f-b36d-9ec1e6ef9dc1.jpg'\\n)\\npil_im = Image.open(img_path, \\\"r\\\")\\npil_im.show()\";\n",
       "                var nbb_cells = Jupyter.notebook.get_cells();\n",
       "                for (var i = 0; i < nbb_cells.length; ++i) {\n",
       "                    if (nbb_cells[i].input_prompt_number == nbb_cell_id) {\n",
       "                        if (nbb_cells[i].get_text() == nbb_unformatted_code) {\n",
       "                             nbb_cells[i].set_text(nbb_formatted_code);\n",
       "                        }\n",
       "                        break;\n",
       "                    }\n",
       "                }\n",
       "            }, 500);\n",
       "            "
      ],
      "text/plain": [
       "<IPython.core.display.Javascript object>"
      ]
     },
     "metadata": {},
     "output_type": "display_data"
    },
    {
     "data": {
      "application/javascript": [
       "\n",
       "            setTimeout(function() {\n",
       "                var nbb_cell_id = 29;\n",
       "                var nbb_unformatted_code = \"img_path = (\\n    f'{paths[\\\"DATA_PATH\\\"]}/train/child_PrL-3-d99f9f63-1612-470f-b36d-9ec1e6ef9dc1.jpg'\\n)\\npil_im = Image.open(img_path, \\\"r\\\")\\npil_im.show()\";\n",
       "                var nbb_formatted_code = \"img_path = (\\n    f'{paths[\\\"DATA_PATH\\\"]}/train/child_PrL-3-d99f9f63-1612-470f-b36d-9ec1e6ef9dc1.jpg'\\n)\\npil_im = Image.open(img_path, \\\"r\\\")\\npil_im.show()\";\n",
       "                var nbb_cells = Jupyter.notebook.get_cells();\n",
       "                for (var i = 0; i < nbb_cells.length; ++i) {\n",
       "                    if (nbb_cells[i].input_prompt_number == nbb_cell_id) {\n",
       "                        if (nbb_cells[i].get_text() == nbb_unformatted_code) {\n",
       "                             nbb_cells[i].set_text(nbb_formatted_code);\n",
       "                        }\n",
       "                        break;\n",
       "                    }\n",
       "                }\n",
       "            }, 500);\n",
       "            "
      ],
      "text/plain": [
       "<IPython.core.display.Javascript object>"
      ]
     },
     "metadata": {},
     "output_type": "display_data"
    },
    {
     "data": {
      "application/javascript": [
       "\n",
       "            setTimeout(function() {\n",
       "                var nbb_cell_id = 29;\n",
       "                var nbb_unformatted_code = \"img_path = (\\n    f'{paths[\\\"DATA_PATH\\\"]}/train/child_PrL-3-d99f9f63-1612-470f-b36d-9ec1e6ef9dc1.jpg'\\n)\\npil_im = Image.open(img_path, \\\"r\\\")\\npil_im.show()\";\n",
       "                var nbb_formatted_code = \"img_path = (\\n    f'{paths[\\\"DATA_PATH\\\"]}/train/child_PrL-3-d99f9f63-1612-470f-b36d-9ec1e6ef9dc1.jpg'\\n)\\npil_im = Image.open(img_path, \\\"r\\\")\\npil_im.show()\";\n",
       "                var nbb_cells = Jupyter.notebook.get_cells();\n",
       "                for (var i = 0; i < nbb_cells.length; ++i) {\n",
       "                    if (nbb_cells[i].input_prompt_number == nbb_cell_id) {\n",
       "                        if (nbb_cells[i].get_text() == nbb_unformatted_code) {\n",
       "                             nbb_cells[i].set_text(nbb_formatted_code);\n",
       "                        }\n",
       "                        break;\n",
       "                    }\n",
       "                }\n",
       "            }, 500);\n",
       "            "
      ],
      "text/plain": [
       "<IPython.core.display.Javascript object>"
      ]
     },
     "metadata": {},
     "output_type": "display_data"
    },
    {
     "data": {
      "application/javascript": [
       "\n",
       "            setTimeout(function() {\n",
       "                var nbb_cell_id = 29;\n",
       "                var nbb_unformatted_code = \"img_path = (\\n    f'{paths[\\\"DATA_PATH\\\"]}/train/child_PrL-3-d99f9f63-1612-470f-b36d-9ec1e6ef9dc1.jpg'\\n)\\npil_im = Image.open(img_path, \\\"r\\\")\\npil_im.show()\";\n",
       "                var nbb_formatted_code = \"img_path = (\\n    f'{paths[\\\"DATA_PATH\\\"]}/train/child_PrL-3-d99f9f63-1612-470f-b36d-9ec1e6ef9dc1.jpg'\\n)\\npil_im = Image.open(img_path, \\\"r\\\")\\npil_im.show()\";\n",
       "                var nbb_cells = Jupyter.notebook.get_cells();\n",
       "                for (var i = 0; i < nbb_cells.length; ++i) {\n",
       "                    if (nbb_cells[i].input_prompt_number == nbb_cell_id) {\n",
       "                        if (nbb_cells[i].get_text() == nbb_unformatted_code) {\n",
       "                             nbb_cells[i].set_text(nbb_formatted_code);\n",
       "                        }\n",
       "                        break;\n",
       "                    }\n",
       "                }\n",
       "            }, 500);\n",
       "            "
      ],
      "text/plain": [
       "<IPython.core.display.Javascript object>"
      ]
     },
     "metadata": {},
     "output_type": "display_data"
    }
   ],
   "source": [
    "img_path = (\n",
    "    f'{paths[\"DATA_PATH\"]}/train/child_PrL-3-d99f9f63-1612-470f-b36d-9ec1e6ef9dc1.jpg'\n",
    ")\n",
    "pil_im = Image.open(img_path, \"r\")\n",
    "pil_im.show()"
   ]
  }
 ],
 "metadata": {
  "kernelspec": {
   "display_name": "Python3 dr",
   "language": "python",
   "name": "dr"
  },
  "language_info": {
   "codemirror_mode": {
    "name": "ipython",
    "version": 3
   },
   "file_extension": ".py",
   "mimetype": "text/x-python",
   "name": "python",
   "nbconvert_exporter": "python",
   "pygments_lexer": "ipython3",
   "version": "3.8.10"
  }
 },
 "nbformat": 4,
 "nbformat_minor": 5
}
