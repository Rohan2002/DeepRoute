{
 "cells": [
  {
   "cell_type": "code",
   "execution_count": 2,
   "id": "e016d36c",
   "metadata": {},
   "outputs": [
    {
     "data": {
      "application/javascript": [
       "\n",
       "            setTimeout(function() {\n",
       "                var nbb_cell_id = 2;\n",
       "                var nbb_unformatted_code = \"import os\\nimport warnings\\n\\nwarnings.filterwarnings(\\\"ignore\\\")\\n%load_ext autoreload\\n%autoreload 2\\n\\n%reload_ext nb_black\\n%config IPCompleter.greedy=True\";\n",
       "                var nbb_formatted_code = \"import os\\nimport warnings\\n\\nwarnings.filterwarnings(\\\"ignore\\\")\\n%load_ext autoreload\\n%autoreload 2\\n\\n%reload_ext nb_black\\n%config IPCompleter.greedy=True\";\n",
       "                var nbb_cells = Jupyter.notebook.get_cells();\n",
       "                for (var i = 0; i < nbb_cells.length; ++i) {\n",
       "                    if (nbb_cells[i].input_prompt_number == nbb_cell_id) {\n",
       "                        if (nbb_cells[i].get_text() == nbb_unformatted_code) {\n",
       "                             nbb_cells[i].set_text(nbb_formatted_code);\n",
       "                        }\n",
       "                        break;\n",
       "                    }\n",
       "                }\n",
       "            }, 500);\n",
       "            "
      ],
      "text/plain": [
       "<IPython.core.display.Javascript object>"
      ]
     },
     "metadata": {},
     "output_type": "display_data"
    }
   ],
   "source": [
    "import os\n",
    "import warnings\n",
    "\n",
    "warnings.filterwarnings(\"ignore\")\n",
    "%load_ext autoreload\n",
    "%autoreload 2\n",
    "\n",
    "%reload_ext nb_black\n",
    "%config IPCompleter.greedy=True"
   ]
  },
  {
   "cell_type": "code",
   "execution_count": 19,
   "id": "6b27c76e",
   "metadata": {},
   "outputs": [
    {
     "data": {
      "application/javascript": [
       "\n",
       "            setTimeout(function() {\n",
       "                var nbb_cell_id = 19;\n",
       "                var nbb_unformatted_code = \"parent_directory = os.path.dirname(os.getcwd())\\npath_to_labelimg = f\\\"{parent_directory}/labelimg/labelImg\\\"\\npath_to_labels = f\\\"{parent_directory}/data/label_map.pbtxt\\\"\\n\\n# Train-Test\\npath_to_parent_train = f\\\"{parent_directory}/data/train/parent-mice\\\"\\npath_to_child_train = f\\\"{parent_directory}/data/train/child-mice\\\"\\npath_to_parent_test = f\\\"{parent_directory}/data/test/parent-mice\\\"\\npath_to_child_test = f\\\"{parent_directory}/data/test/child-mice\\\"\";\n",
       "                var nbb_formatted_code = \"parent_directory = os.path.dirname(os.getcwd())\\npath_to_labelimg = f\\\"{parent_directory}/labelimg/labelImg\\\"\\npath_to_labels = f\\\"{parent_directory}/data/label_map.pbtxt\\\"\\n\\n# Train-Test\\npath_to_parent_train = f\\\"{parent_directory}/data/train/parent-mice\\\"\\npath_to_child_train = f\\\"{parent_directory}/data/train/child-mice\\\"\\npath_to_parent_test = f\\\"{parent_directory}/data/test/parent-mice\\\"\\npath_to_child_test = f\\\"{parent_directory}/data/test/child-mice\\\"\";\n",
       "                var nbb_cells = Jupyter.notebook.get_cells();\n",
       "                for (var i = 0; i < nbb_cells.length; ++i) {\n",
       "                    if (nbb_cells[i].input_prompt_number == nbb_cell_id) {\n",
       "                        if (nbb_cells[i].get_text() == nbb_unformatted_code) {\n",
       "                             nbb_cells[i].set_text(nbb_formatted_code);\n",
       "                        }\n",
       "                        break;\n",
       "                    }\n",
       "                }\n",
       "            }, 500);\n",
       "            "
      ],
      "text/plain": [
       "<IPython.core.display.Javascript object>"
      ]
     },
     "metadata": {},
     "output_type": "display_data"
    }
   ],
   "source": [
    "parent_directory = os.path.dirname(os.getcwd())\n",
    "path_to_labelimg = f\"{parent_directory}/labelimg/labelImg\"\n",
    "path_to_labels = f\"{parent_directory}/data/label_map.pbtxt\"\n",
    "\n",
    "# Train-Test\n",
    "path_to_parent_train = f\"{parent_directory}/data/train/parent-mice\"\n",
    "path_to_child_train = f\"{parent_directory}/data/train/child-mice\"\n",
    "path_to_parent_test = f\"{parent_directory}/data/test/parent-mice\"\n",
    "path_to_child_test = f\"{parent_directory}/data/test/child-mice\""
   ]
  },
  {
   "cell_type": "code",
   "execution_count": 11,
   "id": "5ba43565",
   "metadata": {},
   "outputs": [
    {
     "data": {
      "text/plain": [
       "'/Users/user/Applications/machine-learning/deeproute/labelimg/labelImg'"
      ]
     },
     "execution_count": 11,
     "metadata": {},
     "output_type": "execute_result"
    },
    {
     "data": {
      "application/javascript": [
       "\n",
       "            setTimeout(function() {\n",
       "                var nbb_cell_id = 11;\n",
       "                var nbb_unformatted_code = \"path_to_labelimg\";\n",
       "                var nbb_formatted_code = \"path_to_labelimg\";\n",
       "                var nbb_cells = Jupyter.notebook.get_cells();\n",
       "                for (var i = 0; i < nbb_cells.length; ++i) {\n",
       "                    if (nbb_cells[i].input_prompt_number == nbb_cell_id) {\n",
       "                        if (nbb_cells[i].get_text() == nbb_unformatted_code) {\n",
       "                             nbb_cells[i].set_text(nbb_formatted_code);\n",
       "                        }\n",
       "                        break;\n",
       "                    }\n",
       "                }\n",
       "            }, 500);\n",
       "            "
      ],
      "text/plain": [
       "<IPython.core.display.Javascript object>"
      ]
     },
     "metadata": {},
     "output_type": "display_data"
    }
   ],
   "source": [
    "path_to_labelimg"
   ]
  },
  {
   "cell_type": "code",
   "execution_count": 4,
   "id": "13be85b6",
   "metadata": {},
   "outputs": [
    {
     "data": {
      "application/javascript": [
       "\n",
       "            setTimeout(function() {\n",
       "                var nbb_cell_id = 4;\n",
       "                var nbb_unformatted_code = \"download = False\\ndef download_exec_labelimg():\\n    path_to_labelimg = f\\\"{parent_directory}/labelimg/labelImg\\\"\\n\\n    if not os.path.isdir(path_to_labelimg):\\n        os.mkdir(path_to_labelimg)\\n        !git clone https://github.com/tzutalin/labelImg.git {path_to_labelimg}\\n        !pip3 install pyqt5 lxml\\n\\n    if platform.system() == \\\"Darwin\\\":\\n        !cd {path_to_labelimg} && make qt5py3\\n    if platform.system() == \\\"Windows\\\":\\n        !cd {path_to_labelimg} && pyrcc4 -o libs/resources.py resources.qrc\\n    path_to_labelimg = f\\\"{parent_directory}/labelimg/labelImg\\\"\\n\\nif download:\\n    download_exec_labelimg()\";\n",
       "                var nbb_formatted_code = \"download = False\\n\\n\\ndef download_exec_labelimg():\\n    path_to_labelimg = f\\\"{parent_directory}/labelimg/labelImg\\\"\\n\\n    if not os.path.isdir(path_to_labelimg):\\n        os.mkdir(path_to_labelimg)\\n        !git clone https://github.com/tzutalin/labelImg.git {path_to_labelimg}\\n        !pip3 install pyqt5 lxml\\n\\n    if platform.system() == \\\"Darwin\\\":\\n        !cd {path_to_labelimg} && make qt5py3\\n    if platform.system() == \\\"Windows\\\":\\n        !cd {path_to_labelimg} && pyrcc4 -o libs/resources.py resources.qrc\\n    path_to_labelimg = f\\\"{parent_directory}/labelimg/labelImg\\\"\\n\\n\\nif download:\\n    download_exec_labelimg()\";\n",
       "                var nbb_cells = Jupyter.notebook.get_cells();\n",
       "                for (var i = 0; i < nbb_cells.length; ++i) {\n",
       "                    if (nbb_cells[i].input_prompt_number == nbb_cell_id) {\n",
       "                        if (nbb_cells[i].get_text() == nbb_unformatted_code) {\n",
       "                             nbb_cells[i].set_text(nbb_formatted_code);\n",
       "                        }\n",
       "                        break;\n",
       "                    }\n",
       "                }\n",
       "            }, 500);\n",
       "            "
      ],
      "text/plain": [
       "<IPython.core.display.Javascript object>"
      ]
     },
     "metadata": {},
     "output_type": "display_data"
    }
   ],
   "source": [
    "download = False\n",
    "\n",
    "\n",
    "def download_exec_labelimg():\n",
    "    \n",
    "    if not os.path.isdir(path_to_labelimg):\n",
    "        os.mkdir(path_to_labelimg)\n",
    "        !git clone https://github.com/tzutalin/labelImg.git {path_to_labelimg}\n",
    "        !pip3 install pyqt5 lxml\n",
    "\n",
    "    if platform.system() == \"Darwin\":\n",
    "        !cd {path_to_labelimg} && make qt5py3\n",
    "    if platform.system() == \"Windows\":\n",
    "        !cd {path_to_labelimg} && pyrcc4 -o libs/resources.py resources.qrc\n",
    "    path_to_labelimg = f\"{parent_directory}/labelimg/labelImg\"\n",
    "\n",
    "\n",
    "if download:\n",
    "    download_exec_labelimg()"
   ]
  },
  {
   "cell_type": "code",
   "execution_count": 22,
   "id": "5083a0bb",
   "metadata": {},
   "outputs": [
    {
     "name": "stdout",
     "output_type": "stream",
     "text": [
      "Cancel creation.\n",
      "Image:/Users/user/Applications/machine-learning/deeproute/data/train/child-mice/child_PrL-3-0c23843d-8d14-476f-8b23-4999ccae54d1.jpg -> Annotation:/Users/user/Applications/machine-learning/deeproute/data/train/child-mice/child_PrL-3-0c23843d-8d14-476f-8b23-4999ccae54d1.xml\n",
      "Image:/Users/user/Applications/machine-learning/deeproute/data/train/child-mice/child_PrL-3-2e7fefb3-fab4-4ab7-befc-45d6b9976232.jpg -> Annotation:/Users/user/Applications/machine-learning/deeproute/data/train/child-mice/child_PrL-3-2e7fefb3-fab4-4ab7-befc-45d6b9976232.xml\n",
      "Image:/Users/user/Applications/machine-learning/deeproute/data/train/child-mice/child_PrL-3-3dc46c29-5359-4126-a5c5-d5664412e7d2.jpg -> Annotation:/Users/user/Applications/machine-learning/deeproute/data/train/child-mice/child_PrL-3-3dc46c29-5359-4126-a5c5-d5664412e7d2.xml\n",
      "Image:/Users/user/Applications/machine-learning/deeproute/data/train/child-mice/child_PrL-3-4d4440d4-de78-404e-b05b-54772a7300b2.jpg -> Annotation:/Users/user/Applications/machine-learning/deeproute/data/train/child-mice/child_PrL-3-4d4440d4-de78-404e-b05b-54772a7300b2.xml\n",
      "Cancel creation.\n",
      "Image:/Users/user/Applications/machine-learning/deeproute/data/train/child-mice/child_PrL-3-6aef7dbf-f443-41b4-aa39-ec8c6d7607db.jpg -> Annotation:/Users/user/Applications/machine-learning/deeproute/data/train/child-mice/child_PrL-3-6aef7dbf-f443-41b4-aa39-ec8c6d7607db.xml\n",
      "Image:/Users/user/Applications/machine-learning/deeproute/data/train/child-mice/child_PrL-3-7eac3f49-0759-4b1e-9a9a-ef9164e3dccb.jpg -> Annotation:/Users/user/Applications/machine-learning/deeproute/data/train/child-mice/child_PrL-3-7eac3f49-0759-4b1e-9a9a-ef9164e3dccb.xml\n",
      "Image:/Users/user/Applications/machine-learning/deeproute/data/train/child-mice/child_PrL-3-7f5cf0df-3d47-495d-bb1b-226138c47497.jpg -> Annotation:/Users/user/Applications/machine-learning/deeproute/data/train/child-mice/child_PrL-3-7f5cf0df-3d47-495d-bb1b-226138c47497.xml\n",
      "Image:/Users/user/Applications/machine-learning/deeproute/data/train/child-mice/child_PrL-3-8fd06c02-f369-4867-a582-f630eb835424.jpg -> Annotation:/Users/user/Applications/machine-learning/deeproute/data/train/child-mice/child_PrL-3-8fd06c02-f369-4867-a582-f630eb835424.xml\n",
      "Image:/Users/user/Applications/machine-learning/deeproute/data/train/child-mice/child_PrL-3-9e4fa86c-fcbb-4d06-a861-a20f1ac2d8a3.jpg -> Annotation:/Users/user/Applications/machine-learning/deeproute/data/train/child-mice/child_PrL-3-9e4fa86c-fcbb-4d06-a861-a20f1ac2d8a3.xml\n",
      "Image:/Users/user/Applications/machine-learning/deeproute/data/train/child-mice/child_PrL-3-9f5e1b49-5f18-4d36-8d52-9c555f0ae455.jpg -> Annotation:/Users/user/Applications/machine-learning/deeproute/data/train/child-mice/child_PrL-3-9f5e1b49-5f18-4d36-8d52-9c555f0ae455.xml\n",
      "Image:/Users/user/Applications/machine-learning/deeproute/data/train/child-mice/child_PrL-3-15fcce3d-3c19-47da-82c8-57b3e665d3bd.jpg -> Annotation:/Users/user/Applications/machine-learning/deeproute/data/train/child-mice/child_PrL-3-15fcce3d-3c19-47da-82c8-57b3e665d3bd.xml\n",
      "Image:/Users/user/Applications/machine-learning/deeproute/data/train/child-mice/child_PrL-3-71ff4012-bcc5-4805-90c9-3e93202e08c6.jpg -> Annotation:/Users/user/Applications/machine-learning/deeproute/data/train/child-mice/child_PrL-3-71ff4012-bcc5-4805-90c9-3e93202e08c6.xml\n",
      "Image:/Users/user/Applications/machine-learning/deeproute/data/train/child-mice/child_PrL-3-83bd96d7-f326-4345-b6d4-f9c40db7b938.jpg -> Annotation:/Users/user/Applications/machine-learning/deeproute/data/train/child-mice/child_PrL-3-83bd96d7-f326-4345-b6d4-f9c40db7b938.xml\n",
      "Image:/Users/user/Applications/machine-learning/deeproute/data/train/child-mice/child_PrL-3-91f88344-039d-4b75-a5db-d007894d2087.jpg -> Annotation:/Users/user/Applications/machine-learning/deeproute/data/train/child-mice/child_PrL-3-91f88344-039d-4b75-a5db-d007894d2087.xml\n",
      "labelImg.py:965: DeprecationWarning: an integer is required (got type float).  Implicit conversion to integers using __int__ is deprecated, and may be removed in a future version of Python.\n",
      "  bar.setValue(bar.value() + bar.singleStep() * units)\n",
      "Image:/Users/user/Applications/machine-learning/deeproute/data/train/child-mice/child_PrL-3-429fb940-1b91-4417-8525-290386b3a77a.jpg -> Annotation:/Users/user/Applications/machine-learning/deeproute/data/train/child-mice/child_PrL-3-429fb940-1b91-4417-8525-290386b3a77a.xml\n",
      "Image:/Users/user/Applications/machine-learning/deeproute/data/train/child-mice/child_PrL-3-a05c5cb6-e01f-4277-abf6-981ad27f8866.jpg -> Annotation:/Users/user/Applications/machine-learning/deeproute/data/train/child-mice/child_PrL-3-a05c5cb6-e01f-4277-abf6-981ad27f8866.xml\n",
      "Image:/Users/user/Applications/machine-learning/deeproute/data/train/child-mice/child_PrL-3-a76b3b21-2b26-43c3-90b1-59278cb9ec91.jpg -> Annotation:/Users/user/Applications/machine-learning/deeproute/data/train/child-mice/child_PrL-3-a76b3b21-2b26-43c3-90b1-59278cb9ec91.xml\n",
      "Image:/Users/user/Applications/machine-learning/deeproute/data/train/child-mice/child_PrL-3-a8898f55-f67e-4e77-b872-d7a4e0a60a81.jpg -> Annotation:/Users/user/Applications/machine-learning/deeproute/data/train/child-mice/child_PrL-3-a8898f55-f67e-4e77-b872-d7a4e0a60a81.xml\n",
      "Image:/Users/user/Applications/machine-learning/deeproute/data/train/child-mice/child_PrL-3-c672272e-965b-4be2-bd85-7b6af60dd0d0.jpg -> Annotation:/Users/user/Applications/machine-learning/deeproute/data/train/child-mice/child_PrL-3-c672272e-965b-4be2-bd85-7b6af60dd0d0.xml\n",
      "Image:/Users/user/Applications/machine-learning/deeproute/data/train/child-mice/child_PrL-3-c2557903-70ab-4940-a93b-32fea96c3a39.jpg -> Annotation:/Users/user/Applications/machine-learning/deeproute/data/train/child-mice/child_PrL-3-c2557903-70ab-4940-a93b-32fea96c3a39.xml\n",
      "Image:/Users/user/Applications/machine-learning/deeproute/data/train/child-mice/child_PrL-3-d6e79643-0041-4056-8581-8313e681d525.jpg -> Annotation:/Users/user/Applications/machine-learning/deeproute/data/train/child-mice/child_PrL-3-d6e79643-0041-4056-8581-8313e681d525.xml\n",
      "Image:/Users/user/Applications/machine-learning/deeproute/data/train/child-mice/child_PrL-3-d99f9f63-1612-470f-b36d-9ec1e6ef9dc1.jpg -> Annotation:/Users/user/Applications/machine-learning/deeproute/data/train/child-mice/child_PrL-3-d99f9f63-1612-470f-b36d-9ec1e6ef9dc1.xml\n",
      "Image:/Users/user/Applications/machine-learning/deeproute/data/train/child-mice/child_PrL-3-e5382ec0-970d-4c64-88b0-33f1408c95b6.jpg -> Annotation:/Users/user/Applications/machine-learning/deeproute/data/train/child-mice/child_PrL-3-e5382ec0-970d-4c64-88b0-33f1408c95b6.xml\n",
      "Image:/Users/user/Applications/machine-learning/deeproute/data/train/child-mice/child_PrL-3-f4f5f45f-c075-485c-8134-acb220bf4cc7.jpg -> Annotation:/Users/user/Applications/machine-learning/deeproute/data/train/child-mice/child_PrL-3-f4f5f45f-c075-485c-8134-acb220bf4cc7.xml\n",
      "Image:/Users/user/Applications/machine-learning/deeproute/data/train/child-mice/child_PrL-3-ff336e70-f4a6-4bf8-a361-d560918dc779.jpg -> Annotation:/Users/user/Applications/machine-learning/deeproute/data/train/child-mice/child_PrL-3-ff336e70-f4a6-4bf8-a361-d560918dc779.xml\n"
     ]
    },
    {
     "data": {
      "application/javascript": [
       "\n",
       "            setTimeout(function() {\n",
       "                var nbb_cell_id = 22;\n",
       "                var nbb_unformatted_code = \"! cd {path_to_labelimg} && python3 labelImg.py {path_to_child_train}\";\n",
       "                var nbb_formatted_code = \"! cd {path_to_labelimg} && python3 labelImg.py {path_to_child_train}\";\n",
       "                var nbb_cells = Jupyter.notebook.get_cells();\n",
       "                for (var i = 0; i < nbb_cells.length; ++i) {\n",
       "                    if (nbb_cells[i].input_prompt_number == nbb_cell_id) {\n",
       "                        if (nbb_cells[i].get_text() == nbb_unformatted_code) {\n",
       "                             nbb_cells[i].set_text(nbb_formatted_code);\n",
       "                        }\n",
       "                        break;\n",
       "                    }\n",
       "                }\n",
       "            }, 500);\n",
       "            "
      ],
      "text/plain": [
       "<IPython.core.display.Javascript object>"
      ]
     },
     "metadata": {},
     "output_type": "display_data"
    }
   ],
   "source": [
    "! cd {path_to_labelimg} && python3 labelImg.py {path_to_child_train}"
   ]
  },
  {
   "cell_type": "code",
   "execution_count": 20,
   "id": "c7f1a6a7",
   "metadata": {},
   "outputs": [
    {
     "data": {
      "application/javascript": [
       "\n",
       "            setTimeout(function() {\n",
       "                var nbb_cell_id = 20;\n",
       "                var nbb_unformatted_code = \"labels = [{'name':'parent-mice','id':1}, {'name':'child-mice','id':2}]\\nwith open(path_to_labels, 'w') as f:\\n    for label in labels:\\n        f.write('item { \\\\n')\\n        f.write('\\\\tname:\\\\'{}\\\\'\\\\n'.format(label['name']))\\n        f.write('\\\\tid:{}\\\\n'.format(label['id']))\\n        f.write('}\\\\n')\";\n",
       "                var nbb_formatted_code = \"labels = [{\\\"name\\\": \\\"parent-mice\\\", \\\"id\\\": 1}, {\\\"name\\\": \\\"child-mice\\\", \\\"id\\\": 2}]\\nwith open(path_to_labels, \\\"w\\\") as f:\\n    for label in labels:\\n        f.write(\\\"item { \\\\n\\\")\\n        f.write(\\\"\\\\tname:'{}'\\\\n\\\".format(label[\\\"name\\\"]))\\n        f.write(\\\"\\\\tid:{}\\\\n\\\".format(label[\\\"id\\\"]))\\n        f.write(\\\"}\\\\n\\\")\";\n",
       "                var nbb_cells = Jupyter.notebook.get_cells();\n",
       "                for (var i = 0; i < nbb_cells.length; ++i) {\n",
       "                    if (nbb_cells[i].input_prompt_number == nbb_cell_id) {\n",
       "                        if (nbb_cells[i].get_text() == nbb_unformatted_code) {\n",
       "                             nbb_cells[i].set_text(nbb_formatted_code);\n",
       "                        }\n",
       "                        break;\n",
       "                    }\n",
       "                }\n",
       "            }, 500);\n",
       "            "
      ],
      "text/plain": [
       "<IPython.core.display.Javascript object>"
      ]
     },
     "metadata": {},
     "output_type": "display_data"
    }
   ],
   "source": [
    "labels = [{\"name\": \"parent-mice\", \"id\": 1}, {\"name\": \"child-mice\", \"id\": 2}]\n",
    "with open(path_to_labels, \"w\") as f:\n",
    "    for label in labels:\n",
    "        f.write(\"item { \\n\")\n",
    "        f.write(\"\\tname:'{}'\\n\".format(label[\"name\"]))\n",
    "        f.write(\"\\tid:{}\\n\".format(label[\"id\"]))\n",
    "        f.write(\"}\\n\")"
   ]
  },
  {
   "cell_type": "code",
   "execution_count": 21,
   "id": "f1a0b6bd",
   "metadata": {},
   "outputs": [
    {
     "name": "stdout",
     "output_type": "stream",
     "text": [
      "/Users/user/Applications/machine-learning/deeproute/src\r\n"
     ]
    },
    {
     "data": {
      "application/javascript": [
       "\n",
       "            setTimeout(function() {\n",
       "                var nbb_cell_id = 21;\n",
       "                var nbb_unformatted_code = \"!pwd\";\n",
       "                var nbb_formatted_code = \"!pwd\";\n",
       "                var nbb_cells = Jupyter.notebook.get_cells();\n",
       "                for (var i = 0; i < nbb_cells.length; ++i) {\n",
       "                    if (nbb_cells[i].input_prompt_number == nbb_cell_id) {\n",
       "                        if (nbb_cells[i].get_text() == nbb_unformatted_code) {\n",
       "                             nbb_cells[i].set_text(nbb_formatted_code);\n",
       "                        }\n",
       "                        break;\n",
       "                    }\n",
       "                }\n",
       "            }, 500);\n",
       "            "
      ],
      "text/plain": [
       "<IPython.core.display.Javascript object>"
      ]
     },
     "metadata": {},
     "output_type": "display_data"
    }
   ],
   "source": [
    "!python3 generate_tfrecord.py -x {os.path.join(paths['IMAGE_PATH'], 'train')} -l {files['LABELMAP']} -o {os.path.join(paths['ANNOTATION_PATH'], 'train.record')} \n",
    "!python {files['TF_RECORD_SCRIPT']} -x {os.path.join(paths['IMAGE_PATH'], 'test')} -l {files['LABELMAP']} -o {os.path.join(paths['ANNOTATION_PATH'], 'test.record')}"
   ]
  }
 ],
 "metadata": {
  "kernelspec": {
   "display_name": "Python deep-route",
   "language": "python",
   "name": "deep-route"
  },
  "language_info": {
   "codemirror_mode": {
    "name": "ipython",
    "version": 3
   },
   "file_extension": ".py",
   "mimetype": "text/x-python",
   "name": "python",
   "nbconvert_exporter": "python",
   "pygments_lexer": "ipython3",
   "version": "3.8.10"
  }
 },
 "nbformat": 4,
 "nbformat_minor": 5
}
