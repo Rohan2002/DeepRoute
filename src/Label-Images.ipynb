{
 "cells": [
  {
   "cell_type": "code",
   "execution_count": 1,
   "id": "2db13690",
   "metadata": {},
   "outputs": [],
   "source": [
    "import os"
   ]
  },
  {
   "cell_type": "code",
   "execution_count": null,
   "id": "69ca4e24",
   "metadata": {},
   "outputs": [],
   "source": [
    "download = False\n",
    "def download_exec_labelimg():\n",
    "    path_to_labelimg = f\"{parent_directory}/labelimg/labelImg\"\n",
    "\n",
    "    if not os.path.isdir(path_to_labelimg):\n",
    "        os.mkdir(path_to_labelimg)\n",
    "        !git clone https://github.com/tzutalin/labelImg.git {path_to_labelimg}\n",
    "        !pip3 install pyqt5 lxml\n",
    "\n",
    "    if platform.system() == \"Darwin\":\n",
    "        !cd {path_to_labelimg} && make qt5py3\n",
    "    if platform.system() == \"Windows\":\n",
    "        !cd {path_to_labelimg} && pyrcc4 -o libs/resources.py resources.qrc\n",
    "    path_to_labelimg = f\"{parent_directory}/labelimg/labelImg\"\n",
    "\n",
    "if download:\n",
    "    download_exec_labelimg()"
   ]
  }
 ],
 "metadata": {
  "kernelspec": {
   "display_name": "Python deep-route",
   "language": "python",
   "name": "deep-route"
  },
  "language_info": {
   "codemirror_mode": {
    "name": "ipython",
    "version": 3
   },
   "file_extension": ".py",
   "mimetype": "text/x-python",
   "name": "python",
   "nbconvert_exporter": "python",
   "pygments_lexer": "ipython3",
   "version": "3.8.10"
  }
 },
 "nbformat": 4,
 "nbformat_minor": 5
}
