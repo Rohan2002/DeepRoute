{
 "cells": [
  {
   "cell_type": "code",
   "execution_count": 1,
   "metadata": {},
   "outputs": [
    {
     "data": {
      "application/javascript": [
       "\n",
       "            setTimeout(function() {\n",
       "                var nbb_cell_id = 1;\n",
       "                var nbb_unformatted_code = \"import os\\nimport platform\\nimport warnings\\n\\nwarnings.filterwarnings(\\\"ignore\\\")\\n%load_ext autoreload\\n%autoreload 2\\n\\n%reload_ext nb_black\\n%config IPCompleter.greedy=True\";\n",
       "                var nbb_formatted_code = \"import os\\nimport platform\\nimport warnings\\n\\nwarnings.filterwarnings(\\\"ignore\\\")\\n%load_ext autoreload\\n%autoreload 2\\n\\n%reload_ext nb_black\\n%config IPCompleter.greedy=True\";\n",
       "                var nbb_cells = Jupyter.notebook.get_cells();\n",
       "                for (var i = 0; i < nbb_cells.length; ++i) {\n",
       "                    if (nbb_cells[i].input_prompt_number == nbb_cell_id) {\n",
       "                        if (nbb_cells[i].get_text() == nbb_unformatted_code) {\n",
       "                             nbb_cells[i].set_text(nbb_formatted_code);\n",
       "                        }\n",
       "                        break;\n",
       "                    }\n",
       "                }\n",
       "            }, 500);\n",
       "            "
      ],
      "text/plain": [
       "<IPython.core.display.Javascript object>"
      ]
     },
     "metadata": {},
     "output_type": "display_data"
    }
   ],
   "source": [
    "import os\n",
    "import platform\n",
    "import warnings\n",
    "\n",
    "warnings.filterwarnings(\"ignore\")\n",
    "%load_ext autoreload\n",
    "%autoreload 2\n",
    "\n",
    "%reload_ext nb_black\n",
    "%config IPCompleter.greedy=True"
   ]
  },
  {
   "cell_type": "code",
   "execution_count": 15,
   "metadata": {},
   "outputs": [
    {
     "data": {
      "application/javascript": [
       "\n",
       "            setTimeout(function() {\n",
       "                var nbb_cell_id = 15;\n",
       "                var nbb_unformatted_code = \"parent_directory = os.path.dirname(os.getcwd())\\npath_to_labelimg = f\\\"{parent_directory}/labelimg/labelImg\\\"\\npath_to_labels = f\\\"{parent_directory}/data/label_map.pbtxt\\\"\\npath_to_data = f\\\"{parent_directory}/data\\\"\\n\\n# Train-Test\\\"\\npath_to_train = f\\\"{parent_directory}/data/train/parent-mice\\\"\\npath_to_test = f\\\"{parent_directory}/data/test/child-mice\\\"\";\n",
       "                var nbb_formatted_code = \"parent_directory = os.path.dirname(os.getcwd())\\npath_to_labelimg = f\\\"{parent_directory}/labelimg/labelImg\\\"\\npath_to_labels = f\\\"{parent_directory}/data/label_map.pbtxt\\\"\\npath_to_data = f\\\"{parent_directory}/data\\\"\\n\\n# Train-Test\\\"\\npath_to_train = f\\\"{parent_directory}/data/train/parent-mice\\\"\\npath_to_test = f\\\"{parent_directory}/data/test/child-mice\\\"\";\n",
       "                var nbb_cells = Jupyter.notebook.get_cells();\n",
       "                for (var i = 0; i < nbb_cells.length; ++i) {\n",
       "                    if (nbb_cells[i].input_prompt_number == nbb_cell_id) {\n",
       "                        if (nbb_cells[i].get_text() == nbb_unformatted_code) {\n",
       "                             nbb_cells[i].set_text(nbb_formatted_code);\n",
       "                        }\n",
       "                        break;\n",
       "                    }\n",
       "                }\n",
       "            }, 500);\n",
       "            "
      ],
      "text/plain": [
       "<IPython.core.display.Javascript object>"
      ]
     },
     "metadata": {},
     "output_type": "display_data"
    }
   ],
   "source": [
    "parent_directory = os.path.dirname(os.getcwd())\n",
    "path_to_labelimg = f\"{parent_directory}/labelimg/labelImg\"\n",
    "path_to_labels = f\"{parent_directory}/data/label_map.pbtxt\"\n",
    "path_to_data = f\"{parent_directory}/data\"\n",
    "\n",
    "# Train-Test\"\n",
    "path_to_train = f\"{parent_directory}/data/train/parent-mice\"\n",
    "path_to_test = f\"{parent_directory}/data/test/child-mice\""
   ]
  },
  {
   "cell_type": "code",
   "execution_count": 3,
   "metadata": {},
   "outputs": [
    {
     "data": {
      "text/plain": [
       "'/Users/user/Applications/machine-learning/deeproute/labelimg/labelImg'"
      ]
     },
     "execution_count": 3,
     "metadata": {},
     "output_type": "execute_result"
    },
    {
     "data": {
      "application/javascript": [
       "\n",
       "            setTimeout(function() {\n",
       "                var nbb_cell_id = 3;\n",
       "                var nbb_unformatted_code = \"path_to_labelimg\";\n",
       "                var nbb_formatted_code = \"path_to_labelimg\";\n",
       "                var nbb_cells = Jupyter.notebook.get_cells();\n",
       "                for (var i = 0; i < nbb_cells.length; ++i) {\n",
       "                    if (nbb_cells[i].input_prompt_number == nbb_cell_id) {\n",
       "                        if (nbb_cells[i].get_text() == nbb_unformatted_code) {\n",
       "                             nbb_cells[i].set_text(nbb_formatted_code);\n",
       "                        }\n",
       "                        break;\n",
       "                    }\n",
       "                }\n",
       "            }, 500);\n",
       "            "
      ],
      "text/plain": [
       "<IPython.core.display.Javascript object>"
      ]
     },
     "metadata": {},
     "output_type": "display_data"
    }
   ],
   "source": [
    "path_to_labelimg"
   ]
  },
  {
   "cell_type": "code",
   "execution_count": 5,
   "metadata": {},
   "outputs": [
    {
     "name": "stdout",
     "output_type": "stream",
     "text": [
      "pyrcc5 -o libs/resources.py resources.qrc\n",
      "make: pyrcc5: No such file or directory\n",
      "make: *** [qt5py3] Error 1\n"
     ]
    },
    {
     "data": {
      "application/javascript": [
       "\n",
       "            setTimeout(function() {\n",
       "                var nbb_cell_id = 5;\n",
       "                var nbb_unformatted_code = \"download = True\\n\\n\\ndef download_exec_labelimg():\\n\\n    if not os.path.isdir(path_to_labelimg):\\n        os.mkdir(path_to_labelimg)\\n        !git clone https://github.com/tzutalin/labelImg.git {path_to_labelimg}\\n        !pip3 install pyqt5 lxml\\n\\n    if platform.system() == \\\"Darwin\\\":\\n        !cd {path_to_labelimg} && make qt5py3\\n    if platform.system() == \\\"Windows\\\":\\n        !cd {path_to_labelimg} && pyrcc4 -o libs/resources.py resources.qrc\\n\\n\\nif download:\\n    download_exec_labelimg()\";\n",
       "                var nbb_formatted_code = \"download = True\\n\\n\\ndef download_exec_labelimg():\\n\\n    if not os.path.isdir(path_to_labelimg):\\n        os.mkdir(path_to_labelimg)\\n        !git clone https://github.com/tzutalin/labelImg.git {path_to_labelimg}\\n        !pip3 install pyqt5 lxml\\n\\n    if platform.system() == \\\"Darwin\\\":\\n        !cd {path_to_labelimg} && make qt5py3\\n    if platform.system() == \\\"Windows\\\":\\n        !cd {path_to_labelimg} && pyrcc4 -o libs/resources.py resources.qrc\\n\\n\\nif download:\\n    download_exec_labelimg()\";\n",
       "                var nbb_cells = Jupyter.notebook.get_cells();\n",
       "                for (var i = 0; i < nbb_cells.length; ++i) {\n",
       "                    if (nbb_cells[i].input_prompt_number == nbb_cell_id) {\n",
       "                        if (nbb_cells[i].get_text() == nbb_unformatted_code) {\n",
       "                             nbb_cells[i].set_text(nbb_formatted_code);\n",
       "                        }\n",
       "                        break;\n",
       "                    }\n",
       "                }\n",
       "            }, 500);\n",
       "            "
      ],
      "text/plain": [
       "<IPython.core.display.Javascript object>"
      ]
     },
     "metadata": {},
     "output_type": "display_data"
    }
   ],
   "source": [
    "download = True\n",
    "\n",
    "\n",
    "def download_exec_labelimg():\n",
    "\n",
    "    if not os.path.isdir(path_to_labelimg):\n",
    "        os.mkdir(path_to_labelimg)\n",
    "        !git clone https://github.com/tzutalin/labelImg.git {path_to_labelimg}\n",
    "        !pip3 install pyqt5 lxml\n",
    "\n",
    "    if platform.system() == \"Darwin\":\n",
    "        !cd {path_to_labelimg} && make qt5py3\n",
    "    if platform.system() == \"Windows\":\n",
    "        !cd {path_to_labelimg} && pyrcc4 -o libs/resources.py resources.qrc\n",
    "\n",
    "\n",
    "if download:\n",
    "    download_exec_labelimg()"
   ]
  },
  {
   "cell_type": "code",
   "execution_count": 16,
   "metadata": {},
   "outputs": [
    {
     "name": "stdout",
     "output_type": "stream",
     "text": [
      "Image:/Users/user/Applications/machine-learning/deeproute/data/test/child-mice/PrL-4-6b4bfb89-a38a-4c83-92fd-888b3734c6a2.jpg -> Annotation:/Users/user/Applications/machine-learning/deeproute/data/test/child-mice/PrL-4-6b4bfb89-a38a-4c83-92fd-888b3734c6a2.xml\n",
      "Image:/Users/user/Applications/machine-learning/deeproute/data/test/child-mice/PrL-4-07e730fb-03c2-4af4-ac3a-a808de5bab6a.jpg -> Annotation:/Users/user/Applications/machine-learning/deeproute/data/test/child-mice/PrL-4-07e730fb-03c2-4af4-ac3a-a808de5bab6a.xml\n",
      "Image:/Users/user/Applications/machine-learning/deeproute/data/test/child-mice/PrL-4-8d10025b-66f3-4cab-a0ec-5734afc6f3d6.jpg -> Annotation:/Users/user/Applications/machine-learning/deeproute/data/test/child-mice/PrL-4-8d10025b-66f3-4cab-a0ec-5734afc6f3d6.xml\n",
      "Image:/Users/user/Applications/machine-learning/deeproute/data/test/child-mice/PrL-4-68dd97f2-e66f-466e-ab86-32bb61f80e03.jpg -> Annotation:/Users/user/Applications/machine-learning/deeproute/data/test/child-mice/PrL-4-68dd97f2-e66f-466e-ab86-32bb61f80e03.xml\n",
      "Image:/Users/user/Applications/machine-learning/deeproute/data/test/child-mice/PrL-4-572fd2db-fa6a-4b05-b694-0acea9cfb79d.jpg -> Annotation:/Users/user/Applications/machine-learning/deeproute/data/test/child-mice/PrL-4-572fd2db-fa6a-4b05-b694-0acea9cfb79d.xml\n",
      "Image:/Users/user/Applications/machine-learning/deeproute/data/test/child-mice/PrL-4-628bced4-f246-479b-ba29-6d47b4f2547d.jpg -> Annotation:/Users/user/Applications/machine-learning/deeproute/data/test/child-mice/PrL-4-628bced4-f246-479b-ba29-6d47b4f2547d.xml\n",
      "Image:/Users/user/Applications/machine-learning/deeproute/data/test/child-mice/PrL-4-4622dd41-59e6-4cd6-aa35-cd576445dfc2.jpg -> Annotation:/Users/user/Applications/machine-learning/deeproute/data/test/child-mice/PrL-4-4622dd41-59e6-4cd6-aa35-cd576445dfc2.xml\n",
      "Image:/Users/user/Applications/machine-learning/deeproute/data/test/child-mice/PrL-4-aa5480f1-2322-4b40-9bf6-171fe44b3180.jpg -> Annotation:/Users/user/Applications/machine-learning/deeproute/data/test/child-mice/PrL-4-aa5480f1-2322-4b40-9bf6-171fe44b3180.xml\n"
     ]
    },
    {
     "data": {
      "application/javascript": [
       "\n",
       "            setTimeout(function() {\n",
       "                var nbb_cell_id = 16;\n",
       "                var nbb_unformatted_code = \"! cd {path_to_labelimg} && python3 labelImg.py {path_to_test}\";\n",
       "                var nbb_formatted_code = \"! cd {path_to_labelimg} && python3 labelImg.py {path_to_test}\";\n",
       "                var nbb_cells = Jupyter.notebook.get_cells();\n",
       "                for (var i = 0; i < nbb_cells.length; ++i) {\n",
       "                    if (nbb_cells[i].input_prompt_number == nbb_cell_id) {\n",
       "                        if (nbb_cells[i].get_text() == nbb_unformatted_code) {\n",
       "                             nbb_cells[i].set_text(nbb_formatted_code);\n",
       "                        }\n",
       "                        break;\n",
       "                    }\n",
       "                }\n",
       "            }, 500);\n",
       "            "
      ],
      "text/plain": [
       "<IPython.core.display.Javascript object>"
      ]
     },
     "metadata": {},
     "output_type": "display_data"
    }
   ],
   "source": [
    "! cd {path_to_labelimg} && python3 labelImg.py {path_to_test}"
   ]
  },
  {
   "cell_type": "code",
   "execution_count": null,
   "metadata": {},
   "outputs": [],
   "source": [
    "labels = [{\"name\": \"parent-mice\", \"id\": 1}, {\"name\": \"child-mice\", \"id\": 2}]\n",
    "with open(path_to_labels, \"w\") as f:\n",
    "    for label in labels:\n",
    "        f.write(\"item { \\n\")\n",
    "        f.write(\"\\tname:'{}'\\n\".format(label[\"name\"]))\n",
    "        f.write(\"\\tid:{}\\n\".format(label[\"id\"]))\n",
    "        f.write(\"}\\n\")"
   ]
  }
 ],
 "metadata": {
  "kernelspec": {
   "display_name": "Python3 dr",
   "language": "python",
   "name": "dr"
  },
  "language_info": {
   "codemirror_mode": {
    "name": "ipython",
    "version": 3
   },
   "file_extension": ".py",
   "mimetype": "text/x-python",
   "name": "python",
   "nbconvert_exporter": "python",
   "pygments_lexer": "ipython3",
   "version": "3.8.10"
  }
 },
 "nbformat": 4,
 "nbformat_minor": 5
}
