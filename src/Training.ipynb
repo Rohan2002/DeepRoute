{
 "cells": [
  {
   "cell_type": "code",
   "execution_count": 213,
   "id": "93992dab",
   "metadata": {},
   "outputs": [
    {
     "name": "stdout",
     "output_type": "stream",
     "text": [
      "The autoreload extension is already loaded. To reload it, use:\n",
      "  %reload_ext autoreload\n"
     ]
    },
    {
     "data": {
      "application/javascript": [
       "\n",
       "            setTimeout(function() {\n",
       "                var nbb_cell_id = 213;\n",
       "                var nbb_unformatted_code = \"import os\\nimport warnings\\nimport platform\\nimport tensorflow as tf\\nfrom object_detection.utils import config_util\\nfrom object_detection.protos import pipeline_pb2\\nfrom google.protobuf import text_format\\n\\nwarnings.filterwarnings(\\\"ignore\\\")\\n%load_ext autoreload\\n%autoreload 2\\n\\n%reload_ext nb_black\\n%config IPCompleter.greedy=True\";\n",
       "                var nbb_formatted_code = \"import os\\nimport warnings\\nimport platform\\nimport tensorflow as tf\\nfrom object_detection.utils import config_util\\nfrom object_detection.protos import pipeline_pb2\\nfrom google.protobuf import text_format\\n\\nwarnings.filterwarnings(\\\"ignore\\\")\\n%load_ext autoreload\\n%autoreload 2\\n\\n%reload_ext nb_black\\n%config IPCompleter.greedy=True\";\n",
       "                var nbb_cells = Jupyter.notebook.get_cells();\n",
       "                for (var i = 0; i < nbb_cells.length; ++i) {\n",
       "                    if (nbb_cells[i].input_prompt_number == nbb_cell_id) {\n",
       "                        if (nbb_cells[i].get_text() == nbb_unformatted_code) {\n",
       "                             nbb_cells[i].set_text(nbb_formatted_code);\n",
       "                        }\n",
       "                        break;\n",
       "                    }\n",
       "                }\n",
       "            }, 500);\n",
       "            "
      ],
      "text/plain": [
       "<IPython.core.display.Javascript object>"
      ]
     },
     "metadata": {},
     "output_type": "display_data"
    },
    {
     "data": {
      "application/javascript": [
       "\n",
       "            setTimeout(function() {\n",
       "                var nbb_cell_id = 213;\n",
       "                var nbb_unformatted_code = \"import os\\nimport warnings\\nimport platform\\nimport tensorflow as tf\\nfrom object_detection.utils import config_util\\nfrom object_detection.protos import pipeline_pb2\\nfrom google.protobuf import text_format\\n\\nwarnings.filterwarnings(\\\"ignore\\\")\\n%load_ext autoreload\\n%autoreload 2\\n\\n%reload_ext nb_black\\n%config IPCompleter.greedy=True\";\n",
       "                var nbb_formatted_code = \"import os\\nimport warnings\\nimport platform\\nimport tensorflow as tf\\nfrom object_detection.utils import config_util\\nfrom object_detection.protos import pipeline_pb2\\nfrom google.protobuf import text_format\\n\\nwarnings.filterwarnings(\\\"ignore\\\")\\n%load_ext autoreload\\n%autoreload 2\\n\\n%reload_ext nb_black\\n%config IPCompleter.greedy=True\";\n",
       "                var nbb_cells = Jupyter.notebook.get_cells();\n",
       "                for (var i = 0; i < nbb_cells.length; ++i) {\n",
       "                    if (nbb_cells[i].input_prompt_number == nbb_cell_id) {\n",
       "                        if (nbb_cells[i].get_text() == nbb_unformatted_code) {\n",
       "                             nbb_cells[i].set_text(nbb_formatted_code);\n",
       "                        }\n",
       "                        break;\n",
       "                    }\n",
       "                }\n",
       "            }, 500);\n",
       "            "
      ],
      "text/plain": [
       "<IPython.core.display.Javascript object>"
      ]
     },
     "metadata": {},
     "output_type": "display_data"
    },
    {
     "data": {
      "application/javascript": [
       "\n",
       "            setTimeout(function() {\n",
       "                var nbb_cell_id = 213;\n",
       "                var nbb_unformatted_code = \"import os\\nimport warnings\\nimport platform\\nimport tensorflow as tf\\nfrom object_detection.utils import config_util\\nfrom object_detection.protos import pipeline_pb2\\nfrom google.protobuf import text_format\\n\\nwarnings.filterwarnings(\\\"ignore\\\")\\n%load_ext autoreload\\n%autoreload 2\\n\\n%reload_ext nb_black\\n%config IPCompleter.greedy=True\";\n",
       "                var nbb_formatted_code = \"import os\\nimport warnings\\nimport platform\\nimport tensorflow as tf\\nfrom object_detection.utils import config_util\\nfrom object_detection.protos import pipeline_pb2\\nfrom google.protobuf import text_format\\n\\nwarnings.filterwarnings(\\\"ignore\\\")\\n%load_ext autoreload\\n%autoreload 2\\n\\n%reload_ext nb_black\\n%config IPCompleter.greedy=True\";\n",
       "                var nbb_cells = Jupyter.notebook.get_cells();\n",
       "                for (var i = 0; i < nbb_cells.length; ++i) {\n",
       "                    if (nbb_cells[i].input_prompt_number == nbb_cell_id) {\n",
       "                        if (nbb_cells[i].get_text() == nbb_unformatted_code) {\n",
       "                             nbb_cells[i].set_text(nbb_formatted_code);\n",
       "                        }\n",
       "                        break;\n",
       "                    }\n",
       "                }\n",
       "            }, 500);\n",
       "            "
      ],
      "text/plain": [
       "<IPython.core.display.Javascript object>"
      ]
     },
     "metadata": {},
     "output_type": "display_data"
    },
    {
     "data": {
      "application/javascript": [
       "\n",
       "            setTimeout(function() {\n",
       "                var nbb_cell_id = 213;\n",
       "                var nbb_unformatted_code = \"import os\\nimport warnings\\nimport platform\\nimport tensorflow as tf\\nfrom object_detection.utils import config_util\\nfrom object_detection.protos import pipeline_pb2\\nfrom google.protobuf import text_format\\n\\nwarnings.filterwarnings(\\\"ignore\\\")\\n%load_ext autoreload\\n%autoreload 2\\n\\n%reload_ext nb_black\\n%config IPCompleter.greedy=True\";\n",
       "                var nbb_formatted_code = \"import os\\nimport warnings\\nimport platform\\nimport tensorflow as tf\\nfrom object_detection.utils import config_util\\nfrom object_detection.protos import pipeline_pb2\\nfrom google.protobuf import text_format\\n\\nwarnings.filterwarnings(\\\"ignore\\\")\\n%load_ext autoreload\\n%autoreload 2\\n\\n%reload_ext nb_black\\n%config IPCompleter.greedy=True\";\n",
       "                var nbb_cells = Jupyter.notebook.get_cells();\n",
       "                for (var i = 0; i < nbb_cells.length; ++i) {\n",
       "                    if (nbb_cells[i].input_prompt_number == nbb_cell_id) {\n",
       "                        if (nbb_cells[i].get_text() == nbb_unformatted_code) {\n",
       "                             nbb_cells[i].set_text(nbb_formatted_code);\n",
       "                        }\n",
       "                        break;\n",
       "                    }\n",
       "                }\n",
       "            }, 500);\n",
       "            "
      ],
      "text/plain": [
       "<IPython.core.display.Javascript object>"
      ]
     },
     "metadata": {},
     "output_type": "display_data"
    },
    {
     "data": {
      "application/javascript": [
       "\n",
       "            setTimeout(function() {\n",
       "                var nbb_cell_id = 213;\n",
       "                var nbb_unformatted_code = \"import os\\nimport warnings\\nimport platform\\nimport tensorflow as tf\\nfrom object_detection.utils import config_util\\nfrom object_detection.protos import pipeline_pb2\\nfrom google.protobuf import text_format\\n\\nwarnings.filterwarnings(\\\"ignore\\\")\\n%load_ext autoreload\\n%autoreload 2\\n\\n%reload_ext nb_black\\n%config IPCompleter.greedy=True\";\n",
       "                var nbb_formatted_code = \"import os\\nimport warnings\\nimport platform\\nimport tensorflow as tf\\nfrom object_detection.utils import config_util\\nfrom object_detection.protos import pipeline_pb2\\nfrom google.protobuf import text_format\\n\\nwarnings.filterwarnings(\\\"ignore\\\")\\n%load_ext autoreload\\n%autoreload 2\\n\\n%reload_ext nb_black\\n%config IPCompleter.greedy=True\";\n",
       "                var nbb_cells = Jupyter.notebook.get_cells();\n",
       "                for (var i = 0; i < nbb_cells.length; ++i) {\n",
       "                    if (nbb_cells[i].input_prompt_number == nbb_cell_id) {\n",
       "                        if (nbb_cells[i].get_text() == nbb_unformatted_code) {\n",
       "                             nbb_cells[i].set_text(nbb_formatted_code);\n",
       "                        }\n",
       "                        break;\n",
       "                    }\n",
       "                }\n",
       "            }, 500);\n",
       "            "
      ],
      "text/plain": [
       "<IPython.core.display.Javascript object>"
      ]
     },
     "metadata": {},
     "output_type": "display_data"
    },
    {
     "data": {
      "application/javascript": [
       "\n",
       "            setTimeout(function() {\n",
       "                var nbb_cell_id = 213;\n",
       "                var nbb_unformatted_code = \"import os\\nimport warnings\\nimport platform\\nimport tensorflow as tf\\nfrom object_detection.utils import config_util\\nfrom object_detection.protos import pipeline_pb2\\nfrom google.protobuf import text_format\\n\\nwarnings.filterwarnings(\\\"ignore\\\")\\n%load_ext autoreload\\n%autoreload 2\\n\\n%reload_ext nb_black\\n%config IPCompleter.greedy=True\";\n",
       "                var nbb_formatted_code = \"import os\\nimport warnings\\nimport platform\\nimport tensorflow as tf\\nfrom object_detection.utils import config_util\\nfrom object_detection.protos import pipeline_pb2\\nfrom google.protobuf import text_format\\n\\nwarnings.filterwarnings(\\\"ignore\\\")\\n%load_ext autoreload\\n%autoreload 2\\n\\n%reload_ext nb_black\\n%config IPCompleter.greedy=True\";\n",
       "                var nbb_cells = Jupyter.notebook.get_cells();\n",
       "                for (var i = 0; i < nbb_cells.length; ++i) {\n",
       "                    if (nbb_cells[i].input_prompt_number == nbb_cell_id) {\n",
       "                        if (nbb_cells[i].get_text() == nbb_unformatted_code) {\n",
       "                             nbb_cells[i].set_text(nbb_formatted_code);\n",
       "                        }\n",
       "                        break;\n",
       "                    }\n",
       "                }\n",
       "            }, 500);\n",
       "            "
      ],
      "text/plain": [
       "<IPython.core.display.Javascript object>"
      ]
     },
     "metadata": {},
     "output_type": "display_data"
    },
    {
     "data": {
      "application/javascript": [
       "\n",
       "            setTimeout(function() {\n",
       "                var nbb_cell_id = 213;\n",
       "                var nbb_unformatted_code = \"import os\\nimport warnings\\nimport platform\\nimport tensorflow as tf\\nfrom object_detection.utils import config_util\\nfrom object_detection.protos import pipeline_pb2\\nfrom google.protobuf import text_format\\n\\nwarnings.filterwarnings(\\\"ignore\\\")\\n%load_ext autoreload\\n%autoreload 2\\n\\n%reload_ext nb_black\\n%config IPCompleter.greedy=True\";\n",
       "                var nbb_formatted_code = \"import os\\nimport warnings\\nimport platform\\nimport tensorflow as tf\\nfrom object_detection.utils import config_util\\nfrom object_detection.protos import pipeline_pb2\\nfrom google.protobuf import text_format\\n\\nwarnings.filterwarnings(\\\"ignore\\\")\\n%load_ext autoreload\\n%autoreload 2\\n\\n%reload_ext nb_black\\n%config IPCompleter.greedy=True\";\n",
       "                var nbb_cells = Jupyter.notebook.get_cells();\n",
       "                for (var i = 0; i < nbb_cells.length; ++i) {\n",
       "                    if (nbb_cells[i].input_prompt_number == nbb_cell_id) {\n",
       "                        if (nbb_cells[i].get_text() == nbb_unformatted_code) {\n",
       "                             nbb_cells[i].set_text(nbb_formatted_code);\n",
       "                        }\n",
       "                        break;\n",
       "                    }\n",
       "                }\n",
       "            }, 500);\n",
       "            "
      ],
      "text/plain": [
       "<IPython.core.display.Javascript object>"
      ]
     },
     "metadata": {},
     "output_type": "display_data"
    },
    {
     "data": {
      "application/javascript": [
       "\n",
       "            setTimeout(function() {\n",
       "                var nbb_cell_id = 213;\n",
       "                var nbb_unformatted_code = \"import os\\nimport warnings\\nimport platform\\nimport tensorflow as tf\\nfrom object_detection.utils import config_util\\nfrom object_detection.protos import pipeline_pb2\\nfrom google.protobuf import text_format\\n\\nwarnings.filterwarnings(\\\"ignore\\\")\\n%load_ext autoreload\\n%autoreload 2\\n\\n%reload_ext nb_black\\n%config IPCompleter.greedy=True\";\n",
       "                var nbb_formatted_code = \"import os\\nimport warnings\\nimport platform\\nimport tensorflow as tf\\nfrom object_detection.utils import config_util\\nfrom object_detection.protos import pipeline_pb2\\nfrom google.protobuf import text_format\\n\\nwarnings.filterwarnings(\\\"ignore\\\")\\n%load_ext autoreload\\n%autoreload 2\\n\\n%reload_ext nb_black\\n%config IPCompleter.greedy=True\";\n",
       "                var nbb_cells = Jupyter.notebook.get_cells();\n",
       "                for (var i = 0; i < nbb_cells.length; ++i) {\n",
       "                    if (nbb_cells[i].input_prompt_number == nbb_cell_id) {\n",
       "                        if (nbb_cells[i].get_text() == nbb_unformatted_code) {\n",
       "                             nbb_cells[i].set_text(nbb_formatted_code);\n",
       "                        }\n",
       "                        break;\n",
       "                    }\n",
       "                }\n",
       "            }, 500);\n",
       "            "
      ],
      "text/plain": [
       "<IPython.core.display.Javascript object>"
      ]
     },
     "metadata": {},
     "output_type": "display_data"
    },
    {
     "data": {
      "application/javascript": [
       "\n",
       "            setTimeout(function() {\n",
       "                var nbb_cell_id = 213;\n",
       "                var nbb_unformatted_code = \"import os\\nimport warnings\\nimport platform\\nimport tensorflow as tf\\nfrom object_detection.utils import config_util\\nfrom object_detection.protos import pipeline_pb2\\nfrom google.protobuf import text_format\\n\\nwarnings.filterwarnings(\\\"ignore\\\")\\n%load_ext autoreload\\n%autoreload 2\\n\\n%reload_ext nb_black\\n%config IPCompleter.greedy=True\";\n",
       "                var nbb_formatted_code = \"import os\\nimport warnings\\nimport platform\\nimport tensorflow as tf\\nfrom object_detection.utils import config_util\\nfrom object_detection.protos import pipeline_pb2\\nfrom google.protobuf import text_format\\n\\nwarnings.filterwarnings(\\\"ignore\\\")\\n%load_ext autoreload\\n%autoreload 2\\n\\n%reload_ext nb_black\\n%config IPCompleter.greedy=True\";\n",
       "                var nbb_cells = Jupyter.notebook.get_cells();\n",
       "                for (var i = 0; i < nbb_cells.length; ++i) {\n",
       "                    if (nbb_cells[i].input_prompt_number == nbb_cell_id) {\n",
       "                        if (nbb_cells[i].get_text() == nbb_unformatted_code) {\n",
       "                             nbb_cells[i].set_text(nbb_formatted_code);\n",
       "                        }\n",
       "                        break;\n",
       "                    }\n",
       "                }\n",
       "            }, 500);\n",
       "            "
      ],
      "text/plain": [
       "<IPython.core.display.Javascript object>"
      ]
     },
     "metadata": {},
     "output_type": "display_data"
    },
    {
     "data": {
      "application/javascript": [
       "\n",
       "            setTimeout(function() {\n",
       "                var nbb_cell_id = 213;\n",
       "                var nbb_unformatted_code = \"import os\\nimport warnings\\nimport platform\\nimport tensorflow as tf\\nfrom object_detection.utils import config_util\\nfrom object_detection.protos import pipeline_pb2\\nfrom google.protobuf import text_format\\n\\nwarnings.filterwarnings(\\\"ignore\\\")\\n%load_ext autoreload\\n%autoreload 2\\n\\n%reload_ext nb_black\\n%config IPCompleter.greedy=True\";\n",
       "                var nbb_formatted_code = \"import os\\nimport warnings\\nimport platform\\nimport tensorflow as tf\\nfrom object_detection.utils import config_util\\nfrom object_detection.protos import pipeline_pb2\\nfrom google.protobuf import text_format\\n\\nwarnings.filterwarnings(\\\"ignore\\\")\\n%load_ext autoreload\\n%autoreload 2\\n\\n%reload_ext nb_black\\n%config IPCompleter.greedy=True\";\n",
       "                var nbb_cells = Jupyter.notebook.get_cells();\n",
       "                for (var i = 0; i < nbb_cells.length; ++i) {\n",
       "                    if (nbb_cells[i].input_prompt_number == nbb_cell_id) {\n",
       "                        if (nbb_cells[i].get_text() == nbb_unformatted_code) {\n",
       "                             nbb_cells[i].set_text(nbb_formatted_code);\n",
       "                        }\n",
       "                        break;\n",
       "                    }\n",
       "                }\n",
       "            }, 500);\n",
       "            "
      ],
      "text/plain": [
       "<IPython.core.display.Javascript object>"
      ]
     },
     "metadata": {},
     "output_type": "display_data"
    }
   ],
   "source": [
    "import os\n",
    "import warnings\n",
    "import platform\n",
    "import tensorflow as tf\n",
    "from object_detection.utils import config_util\n",
    "from object_detection.protos import pipeline_pb2\n",
    "from google.protobuf import text_format\n",
    "\n",
    "warnings.filterwarnings(\"ignore\")\n",
    "%load_ext autoreload\n",
    "%autoreload 2\n",
    "\n",
    "%reload_ext nb_black\n",
    "%config IPCompleter.greedy=True"
   ]
  },
  {
   "cell_type": "code",
   "execution_count": 214,
   "id": "fe0a7e6f",
   "metadata": {},
   "outputs": [
    {
     "data": {
      "application/javascript": [
       "\n",
       "            setTimeout(function() {\n",
       "                var nbb_cell_id = 214;\n",
       "                var nbb_unformatted_code = \"CUSTOM_MODEL_NAME = \\\"my_efficient_net\\\"\\nPRETRAINED_MODEL_NAME = \\\"efficientdet_d4_coco17_tpu-32\\\"\\nPRETRAINED_MODEL = \\\"http://download.tensorflow.org/models/object_detection/tf2/20200711/efficientdet_d4_coco17_tpu-32.tar.gz\\\"\\nTF_RECORD_SCRIPT_NAME = \\\"generate_tfrecord.py\\\"\\nLABEL_MAP_NAME = \\\"label_map.pbtxt\\\"\\ncurrent_os = platform.system()\";\n",
       "                var nbb_formatted_code = \"CUSTOM_MODEL_NAME = \\\"my_efficient_net\\\"\\nPRETRAINED_MODEL_NAME = \\\"efficientdet_d4_coco17_tpu-32\\\"\\nPRETRAINED_MODEL = \\\"http://download.tensorflow.org/models/object_detection/tf2/20200711/efficientdet_d4_coco17_tpu-32.tar.gz\\\"\\nTF_RECORD_SCRIPT_NAME = \\\"generate_tfrecord.py\\\"\\nLABEL_MAP_NAME = \\\"label_map.pbtxt\\\"\\ncurrent_os = platform.system()\";\n",
       "                var nbb_cells = Jupyter.notebook.get_cells();\n",
       "                for (var i = 0; i < nbb_cells.length; ++i) {\n",
       "                    if (nbb_cells[i].input_prompt_number == nbb_cell_id) {\n",
       "                        if (nbb_cells[i].get_text() == nbb_unformatted_code) {\n",
       "                             nbb_cells[i].set_text(nbb_formatted_code);\n",
       "                        }\n",
       "                        break;\n",
       "                    }\n",
       "                }\n",
       "            }, 500);\n",
       "            "
      ],
      "text/plain": [
       "<IPython.core.display.Javascript object>"
      ]
     },
     "metadata": {},
     "output_type": "display_data"
    },
    {
     "data": {
      "application/javascript": [
       "\n",
       "            setTimeout(function() {\n",
       "                var nbb_cell_id = 214;\n",
       "                var nbb_unformatted_code = \"CUSTOM_MODEL_NAME = \\\"my_efficient_net\\\"\\nPRETRAINED_MODEL_NAME = \\\"efficientdet_d4_coco17_tpu-32\\\"\\nPRETRAINED_MODEL = \\\"http://download.tensorflow.org/models/object_detection/tf2/20200711/efficientdet_d4_coco17_tpu-32.tar.gz\\\"\\nTF_RECORD_SCRIPT_NAME = \\\"generate_tfrecord.py\\\"\\nLABEL_MAP_NAME = \\\"label_map.pbtxt\\\"\\ncurrent_os = platform.system()\";\n",
       "                var nbb_formatted_code = \"CUSTOM_MODEL_NAME = \\\"my_efficient_net\\\"\\nPRETRAINED_MODEL_NAME = \\\"efficientdet_d4_coco17_tpu-32\\\"\\nPRETRAINED_MODEL = \\\"http://download.tensorflow.org/models/object_detection/tf2/20200711/efficientdet_d4_coco17_tpu-32.tar.gz\\\"\\nTF_RECORD_SCRIPT_NAME = \\\"generate_tfrecord.py\\\"\\nLABEL_MAP_NAME = \\\"label_map.pbtxt\\\"\\ncurrent_os = platform.system()\";\n",
       "                var nbb_cells = Jupyter.notebook.get_cells();\n",
       "                for (var i = 0; i < nbb_cells.length; ++i) {\n",
       "                    if (nbb_cells[i].input_prompt_number == nbb_cell_id) {\n",
       "                        if (nbb_cells[i].get_text() == nbb_unformatted_code) {\n",
       "                             nbb_cells[i].set_text(nbb_formatted_code);\n",
       "                        }\n",
       "                        break;\n",
       "                    }\n",
       "                }\n",
       "            }, 500);\n",
       "            "
      ],
      "text/plain": [
       "<IPython.core.display.Javascript object>"
      ]
     },
     "metadata": {},
     "output_type": "display_data"
    },
    {
     "data": {
      "application/javascript": [
       "\n",
       "            setTimeout(function() {\n",
       "                var nbb_cell_id = 214;\n",
       "                var nbb_unformatted_code = \"CUSTOM_MODEL_NAME = \\\"my_efficient_net\\\"\\nPRETRAINED_MODEL_NAME = \\\"efficientdet_d4_coco17_tpu-32\\\"\\nPRETRAINED_MODEL = \\\"http://download.tensorflow.org/models/object_detection/tf2/20200711/efficientdet_d4_coco17_tpu-32.tar.gz\\\"\\nTF_RECORD_SCRIPT_NAME = \\\"generate_tfrecord.py\\\"\\nLABEL_MAP_NAME = \\\"label_map.pbtxt\\\"\\ncurrent_os = platform.system()\";\n",
       "                var nbb_formatted_code = \"CUSTOM_MODEL_NAME = \\\"my_efficient_net\\\"\\nPRETRAINED_MODEL_NAME = \\\"efficientdet_d4_coco17_tpu-32\\\"\\nPRETRAINED_MODEL = \\\"http://download.tensorflow.org/models/object_detection/tf2/20200711/efficientdet_d4_coco17_tpu-32.tar.gz\\\"\\nTF_RECORD_SCRIPT_NAME = \\\"generate_tfrecord.py\\\"\\nLABEL_MAP_NAME = \\\"label_map.pbtxt\\\"\\ncurrent_os = platform.system()\";\n",
       "                var nbb_cells = Jupyter.notebook.get_cells();\n",
       "                for (var i = 0; i < nbb_cells.length; ++i) {\n",
       "                    if (nbb_cells[i].input_prompt_number == nbb_cell_id) {\n",
       "                        if (nbb_cells[i].get_text() == nbb_unformatted_code) {\n",
       "                             nbb_cells[i].set_text(nbb_formatted_code);\n",
       "                        }\n",
       "                        break;\n",
       "                    }\n",
       "                }\n",
       "            }, 500);\n",
       "            "
      ],
      "text/plain": [
       "<IPython.core.display.Javascript object>"
      ]
     },
     "metadata": {},
     "output_type": "display_data"
    },
    {
     "data": {
      "application/javascript": [
       "\n",
       "            setTimeout(function() {\n",
       "                var nbb_cell_id = 214;\n",
       "                var nbb_unformatted_code = \"CUSTOM_MODEL_NAME = \\\"my_efficient_net\\\"\\nPRETRAINED_MODEL_NAME = \\\"efficientdet_d4_coco17_tpu-32\\\"\\nPRETRAINED_MODEL = \\\"http://download.tensorflow.org/models/object_detection/tf2/20200711/efficientdet_d4_coco17_tpu-32.tar.gz\\\"\\nTF_RECORD_SCRIPT_NAME = \\\"generate_tfrecord.py\\\"\\nLABEL_MAP_NAME = \\\"label_map.pbtxt\\\"\\ncurrent_os = platform.system()\";\n",
       "                var nbb_formatted_code = \"CUSTOM_MODEL_NAME = \\\"my_efficient_net\\\"\\nPRETRAINED_MODEL_NAME = \\\"efficientdet_d4_coco17_tpu-32\\\"\\nPRETRAINED_MODEL = \\\"http://download.tensorflow.org/models/object_detection/tf2/20200711/efficientdet_d4_coco17_tpu-32.tar.gz\\\"\\nTF_RECORD_SCRIPT_NAME = \\\"generate_tfrecord.py\\\"\\nLABEL_MAP_NAME = \\\"label_map.pbtxt\\\"\\ncurrent_os = platform.system()\";\n",
       "                var nbb_cells = Jupyter.notebook.get_cells();\n",
       "                for (var i = 0; i < nbb_cells.length; ++i) {\n",
       "                    if (nbb_cells[i].input_prompt_number == nbb_cell_id) {\n",
       "                        if (nbb_cells[i].get_text() == nbb_unformatted_code) {\n",
       "                             nbb_cells[i].set_text(nbb_formatted_code);\n",
       "                        }\n",
       "                        break;\n",
       "                    }\n",
       "                }\n",
       "            }, 500);\n",
       "            "
      ],
      "text/plain": [
       "<IPython.core.display.Javascript object>"
      ]
     },
     "metadata": {},
     "output_type": "display_data"
    },
    {
     "data": {
      "application/javascript": [
       "\n",
       "            setTimeout(function() {\n",
       "                var nbb_cell_id = 214;\n",
       "                var nbb_unformatted_code = \"CUSTOM_MODEL_NAME = \\\"my_efficient_net\\\"\\nPRETRAINED_MODEL_NAME = \\\"efficientdet_d4_coco17_tpu-32\\\"\\nPRETRAINED_MODEL = \\\"http://download.tensorflow.org/models/object_detection/tf2/20200711/efficientdet_d4_coco17_tpu-32.tar.gz\\\"\\nTF_RECORD_SCRIPT_NAME = \\\"generate_tfrecord.py\\\"\\nLABEL_MAP_NAME = \\\"label_map.pbtxt\\\"\\ncurrent_os = platform.system()\";\n",
       "                var nbb_formatted_code = \"CUSTOM_MODEL_NAME = \\\"my_efficient_net\\\"\\nPRETRAINED_MODEL_NAME = \\\"efficientdet_d4_coco17_tpu-32\\\"\\nPRETRAINED_MODEL = \\\"http://download.tensorflow.org/models/object_detection/tf2/20200711/efficientdet_d4_coco17_tpu-32.tar.gz\\\"\\nTF_RECORD_SCRIPT_NAME = \\\"generate_tfrecord.py\\\"\\nLABEL_MAP_NAME = \\\"label_map.pbtxt\\\"\\ncurrent_os = platform.system()\";\n",
       "                var nbb_cells = Jupyter.notebook.get_cells();\n",
       "                for (var i = 0; i < nbb_cells.length; ++i) {\n",
       "                    if (nbb_cells[i].input_prompt_number == nbb_cell_id) {\n",
       "                        if (nbb_cells[i].get_text() == nbb_unformatted_code) {\n",
       "                             nbb_cells[i].set_text(nbb_formatted_code);\n",
       "                        }\n",
       "                        break;\n",
       "                    }\n",
       "                }\n",
       "            }, 500);\n",
       "            "
      ],
      "text/plain": [
       "<IPython.core.display.Javascript object>"
      ]
     },
     "metadata": {},
     "output_type": "display_data"
    },
    {
     "data": {
      "application/javascript": [
       "\n",
       "            setTimeout(function() {\n",
       "                var nbb_cell_id = 214;\n",
       "                var nbb_unformatted_code = \"CUSTOM_MODEL_NAME = \\\"my_efficient_net\\\"\\nPRETRAINED_MODEL_NAME = \\\"efficientdet_d4_coco17_tpu-32\\\"\\nPRETRAINED_MODEL = \\\"http://download.tensorflow.org/models/object_detection/tf2/20200711/efficientdet_d4_coco17_tpu-32.tar.gz\\\"\\nTF_RECORD_SCRIPT_NAME = \\\"generate_tfrecord.py\\\"\\nLABEL_MAP_NAME = \\\"label_map.pbtxt\\\"\\ncurrent_os = platform.system()\";\n",
       "                var nbb_formatted_code = \"CUSTOM_MODEL_NAME = \\\"my_efficient_net\\\"\\nPRETRAINED_MODEL_NAME = \\\"efficientdet_d4_coco17_tpu-32\\\"\\nPRETRAINED_MODEL = \\\"http://download.tensorflow.org/models/object_detection/tf2/20200711/efficientdet_d4_coco17_tpu-32.tar.gz\\\"\\nTF_RECORD_SCRIPT_NAME = \\\"generate_tfrecord.py\\\"\\nLABEL_MAP_NAME = \\\"label_map.pbtxt\\\"\\ncurrent_os = platform.system()\";\n",
       "                var nbb_cells = Jupyter.notebook.get_cells();\n",
       "                for (var i = 0; i < nbb_cells.length; ++i) {\n",
       "                    if (nbb_cells[i].input_prompt_number == nbb_cell_id) {\n",
       "                        if (nbb_cells[i].get_text() == nbb_unformatted_code) {\n",
       "                             nbb_cells[i].set_text(nbb_formatted_code);\n",
       "                        }\n",
       "                        break;\n",
       "                    }\n",
       "                }\n",
       "            }, 500);\n",
       "            "
      ],
      "text/plain": [
       "<IPython.core.display.Javascript object>"
      ]
     },
     "metadata": {},
     "output_type": "display_data"
    },
    {
     "data": {
      "application/javascript": [
       "\n",
       "            setTimeout(function() {\n",
       "                var nbb_cell_id = 214;\n",
       "                var nbb_unformatted_code = \"CUSTOM_MODEL_NAME = \\\"my_efficient_net\\\"\\nPRETRAINED_MODEL_NAME = \\\"efficientdet_d4_coco17_tpu-32\\\"\\nPRETRAINED_MODEL = \\\"http://download.tensorflow.org/models/object_detection/tf2/20200711/efficientdet_d4_coco17_tpu-32.tar.gz\\\"\\nTF_RECORD_SCRIPT_NAME = \\\"generate_tfrecord.py\\\"\\nLABEL_MAP_NAME = \\\"label_map.pbtxt\\\"\\ncurrent_os = platform.system()\";\n",
       "                var nbb_formatted_code = \"CUSTOM_MODEL_NAME = \\\"my_efficient_net\\\"\\nPRETRAINED_MODEL_NAME = \\\"efficientdet_d4_coco17_tpu-32\\\"\\nPRETRAINED_MODEL = \\\"http://download.tensorflow.org/models/object_detection/tf2/20200711/efficientdet_d4_coco17_tpu-32.tar.gz\\\"\\nTF_RECORD_SCRIPT_NAME = \\\"generate_tfrecord.py\\\"\\nLABEL_MAP_NAME = \\\"label_map.pbtxt\\\"\\ncurrent_os = platform.system()\";\n",
       "                var nbb_cells = Jupyter.notebook.get_cells();\n",
       "                for (var i = 0; i < nbb_cells.length; ++i) {\n",
       "                    if (nbb_cells[i].input_prompt_number == nbb_cell_id) {\n",
       "                        if (nbb_cells[i].get_text() == nbb_unformatted_code) {\n",
       "                             nbb_cells[i].set_text(nbb_formatted_code);\n",
       "                        }\n",
       "                        break;\n",
       "                    }\n",
       "                }\n",
       "            }, 500);\n",
       "            "
      ],
      "text/plain": [
       "<IPython.core.display.Javascript object>"
      ]
     },
     "metadata": {},
     "output_type": "display_data"
    },
    {
     "data": {
      "application/javascript": [
       "\n",
       "            setTimeout(function() {\n",
       "                var nbb_cell_id = 214;\n",
       "                var nbb_unformatted_code = \"CUSTOM_MODEL_NAME = \\\"my_efficient_net\\\"\\nPRETRAINED_MODEL_NAME = \\\"efficientdet_d4_coco17_tpu-32\\\"\\nPRETRAINED_MODEL = \\\"http://download.tensorflow.org/models/object_detection/tf2/20200711/efficientdet_d4_coco17_tpu-32.tar.gz\\\"\\nTF_RECORD_SCRIPT_NAME = \\\"generate_tfrecord.py\\\"\\nLABEL_MAP_NAME = \\\"label_map.pbtxt\\\"\\ncurrent_os = platform.system()\";\n",
       "                var nbb_formatted_code = \"CUSTOM_MODEL_NAME = \\\"my_efficient_net\\\"\\nPRETRAINED_MODEL_NAME = \\\"efficientdet_d4_coco17_tpu-32\\\"\\nPRETRAINED_MODEL = \\\"http://download.tensorflow.org/models/object_detection/tf2/20200711/efficientdet_d4_coco17_tpu-32.tar.gz\\\"\\nTF_RECORD_SCRIPT_NAME = \\\"generate_tfrecord.py\\\"\\nLABEL_MAP_NAME = \\\"label_map.pbtxt\\\"\\ncurrent_os = platform.system()\";\n",
       "                var nbb_cells = Jupyter.notebook.get_cells();\n",
       "                for (var i = 0; i < nbb_cells.length; ++i) {\n",
       "                    if (nbb_cells[i].input_prompt_number == nbb_cell_id) {\n",
       "                        if (nbb_cells[i].get_text() == nbb_unformatted_code) {\n",
       "                             nbb_cells[i].set_text(nbb_formatted_code);\n",
       "                        }\n",
       "                        break;\n",
       "                    }\n",
       "                }\n",
       "            }, 500);\n",
       "            "
      ],
      "text/plain": [
       "<IPython.core.display.Javascript object>"
      ]
     },
     "metadata": {},
     "output_type": "display_data"
    },
    {
     "data": {
      "application/javascript": [
       "\n",
       "            setTimeout(function() {\n",
       "                var nbb_cell_id = 214;\n",
       "                var nbb_unformatted_code = \"CUSTOM_MODEL_NAME = \\\"my_efficient_net\\\"\\nPRETRAINED_MODEL_NAME = \\\"efficientdet_d4_coco17_tpu-32\\\"\\nPRETRAINED_MODEL = \\\"http://download.tensorflow.org/models/object_detection/tf2/20200711/efficientdet_d4_coco17_tpu-32.tar.gz\\\"\\nTF_RECORD_SCRIPT_NAME = \\\"generate_tfrecord.py\\\"\\nLABEL_MAP_NAME = \\\"label_map.pbtxt\\\"\\ncurrent_os = platform.system()\";\n",
       "                var nbb_formatted_code = \"CUSTOM_MODEL_NAME = \\\"my_efficient_net\\\"\\nPRETRAINED_MODEL_NAME = \\\"efficientdet_d4_coco17_tpu-32\\\"\\nPRETRAINED_MODEL = \\\"http://download.tensorflow.org/models/object_detection/tf2/20200711/efficientdet_d4_coco17_tpu-32.tar.gz\\\"\\nTF_RECORD_SCRIPT_NAME = \\\"generate_tfrecord.py\\\"\\nLABEL_MAP_NAME = \\\"label_map.pbtxt\\\"\\ncurrent_os = platform.system()\";\n",
       "                var nbb_cells = Jupyter.notebook.get_cells();\n",
       "                for (var i = 0; i < nbb_cells.length; ++i) {\n",
       "                    if (nbb_cells[i].input_prompt_number == nbb_cell_id) {\n",
       "                        if (nbb_cells[i].get_text() == nbb_unformatted_code) {\n",
       "                             nbb_cells[i].set_text(nbb_formatted_code);\n",
       "                        }\n",
       "                        break;\n",
       "                    }\n",
       "                }\n",
       "            }, 500);\n",
       "            "
      ],
      "text/plain": [
       "<IPython.core.display.Javascript object>"
      ]
     },
     "metadata": {},
     "output_type": "display_data"
    },
    {
     "data": {
      "application/javascript": [
       "\n",
       "            setTimeout(function() {\n",
       "                var nbb_cell_id = 214;\n",
       "                var nbb_unformatted_code = \"CUSTOM_MODEL_NAME = \\\"my_efficient_net\\\"\\nPRETRAINED_MODEL_NAME = \\\"efficientdet_d4_coco17_tpu-32\\\"\\nPRETRAINED_MODEL = \\\"http://download.tensorflow.org/models/object_detection/tf2/20200711/efficientdet_d4_coco17_tpu-32.tar.gz\\\"\\nTF_RECORD_SCRIPT_NAME = \\\"generate_tfrecord.py\\\"\\nLABEL_MAP_NAME = \\\"label_map.pbtxt\\\"\\ncurrent_os = platform.system()\";\n",
       "                var nbb_formatted_code = \"CUSTOM_MODEL_NAME = \\\"my_efficient_net\\\"\\nPRETRAINED_MODEL_NAME = \\\"efficientdet_d4_coco17_tpu-32\\\"\\nPRETRAINED_MODEL = \\\"http://download.tensorflow.org/models/object_detection/tf2/20200711/efficientdet_d4_coco17_tpu-32.tar.gz\\\"\\nTF_RECORD_SCRIPT_NAME = \\\"generate_tfrecord.py\\\"\\nLABEL_MAP_NAME = \\\"label_map.pbtxt\\\"\\ncurrent_os = platform.system()\";\n",
       "                var nbb_cells = Jupyter.notebook.get_cells();\n",
       "                for (var i = 0; i < nbb_cells.length; ++i) {\n",
       "                    if (nbb_cells[i].input_prompt_number == nbb_cell_id) {\n",
       "                        if (nbb_cells[i].get_text() == nbb_unformatted_code) {\n",
       "                             nbb_cells[i].set_text(nbb_formatted_code);\n",
       "                        }\n",
       "                        break;\n",
       "                    }\n",
       "                }\n",
       "            }, 500);\n",
       "            "
      ],
      "text/plain": [
       "<IPython.core.display.Javascript object>"
      ]
     },
     "metadata": {},
     "output_type": "display_data"
    }
   ],
   "source": [
    "CUSTOM_MODEL_NAME = \"my_efficient_net\"\n",
    "PRETRAINED_MODEL_NAME = \"efficientdet_d4_coco17_tpu-32\"\n",
    "PRETRAINED_MODEL = \"http://download.tensorflow.org/models/object_detection/tf2/20200711/efficientdet_d4_coco17_tpu-32.tar.gz\"\n",
    "TF_RECORD_SCRIPT_NAME = \"generate_tfrecord.py\"\n",
    "LABEL_MAP_NAME = \"label_map.pbtxt\"\n",
    "current_os = platform.system()"
   ]
  },
  {
   "cell_type": "code",
   "execution_count": 215,
   "id": "c7dd56b5",
   "metadata": {},
   "outputs": [
    {
     "data": {
      "application/javascript": [
       "\n",
       "            setTimeout(function() {\n",
       "                var nbb_cell_id = 215;\n",
       "                var nbb_unformatted_code = \"labels = [{\\\"name\\\": \\\"parent-mice\\\", \\\"id\\\": 1}, {\\\"name\\\": \\\"child-mice\\\", \\\"id\\\": 2}]\";\n",
       "                var nbb_formatted_code = \"labels = [{\\\"name\\\": \\\"parent-mice\\\", \\\"id\\\": 1}, {\\\"name\\\": \\\"child-mice\\\", \\\"id\\\": 2}]\";\n",
       "                var nbb_cells = Jupyter.notebook.get_cells();\n",
       "                for (var i = 0; i < nbb_cells.length; ++i) {\n",
       "                    if (nbb_cells[i].input_prompt_number == nbb_cell_id) {\n",
       "                        if (nbb_cells[i].get_text() == nbb_unformatted_code) {\n",
       "                             nbb_cells[i].set_text(nbb_formatted_code);\n",
       "                        }\n",
       "                        break;\n",
       "                    }\n",
       "                }\n",
       "            }, 500);\n",
       "            "
      ],
      "text/plain": [
       "<IPython.core.display.Javascript object>"
      ]
     },
     "metadata": {},
     "output_type": "display_data"
    },
    {
     "data": {
      "application/javascript": [
       "\n",
       "            setTimeout(function() {\n",
       "                var nbb_cell_id = 215;\n",
       "                var nbb_unformatted_code = \"labels = [{\\\"name\\\": \\\"parent-mice\\\", \\\"id\\\": 1}, {\\\"name\\\": \\\"child-mice\\\", \\\"id\\\": 2}]\";\n",
       "                var nbb_formatted_code = \"labels = [{\\\"name\\\": \\\"parent-mice\\\", \\\"id\\\": 1}, {\\\"name\\\": \\\"child-mice\\\", \\\"id\\\": 2}]\";\n",
       "                var nbb_cells = Jupyter.notebook.get_cells();\n",
       "                for (var i = 0; i < nbb_cells.length; ++i) {\n",
       "                    if (nbb_cells[i].input_prompt_number == nbb_cell_id) {\n",
       "                        if (nbb_cells[i].get_text() == nbb_unformatted_code) {\n",
       "                             nbb_cells[i].set_text(nbb_formatted_code);\n",
       "                        }\n",
       "                        break;\n",
       "                    }\n",
       "                }\n",
       "            }, 500);\n",
       "            "
      ],
      "text/plain": [
       "<IPython.core.display.Javascript object>"
      ]
     },
     "metadata": {},
     "output_type": "display_data"
    },
    {
     "data": {
      "application/javascript": [
       "\n",
       "            setTimeout(function() {\n",
       "                var nbb_cell_id = 215;\n",
       "                var nbb_unformatted_code = \"labels = [{\\\"name\\\": \\\"parent-mice\\\", \\\"id\\\": 1}, {\\\"name\\\": \\\"child-mice\\\", \\\"id\\\": 2}]\";\n",
       "                var nbb_formatted_code = \"labels = [{\\\"name\\\": \\\"parent-mice\\\", \\\"id\\\": 1}, {\\\"name\\\": \\\"child-mice\\\", \\\"id\\\": 2}]\";\n",
       "                var nbb_cells = Jupyter.notebook.get_cells();\n",
       "                for (var i = 0; i < nbb_cells.length; ++i) {\n",
       "                    if (nbb_cells[i].input_prompt_number == nbb_cell_id) {\n",
       "                        if (nbb_cells[i].get_text() == nbb_unformatted_code) {\n",
       "                             nbb_cells[i].set_text(nbb_formatted_code);\n",
       "                        }\n",
       "                        break;\n",
       "                    }\n",
       "                }\n",
       "            }, 500);\n",
       "            "
      ],
      "text/plain": [
       "<IPython.core.display.Javascript object>"
      ]
     },
     "metadata": {},
     "output_type": "display_data"
    },
    {
     "data": {
      "application/javascript": [
       "\n",
       "            setTimeout(function() {\n",
       "                var nbb_cell_id = 215;\n",
       "                var nbb_unformatted_code = \"labels = [{\\\"name\\\": \\\"parent-mice\\\", \\\"id\\\": 1}, {\\\"name\\\": \\\"child-mice\\\", \\\"id\\\": 2}]\";\n",
       "                var nbb_formatted_code = \"labels = [{\\\"name\\\": \\\"parent-mice\\\", \\\"id\\\": 1}, {\\\"name\\\": \\\"child-mice\\\", \\\"id\\\": 2}]\";\n",
       "                var nbb_cells = Jupyter.notebook.get_cells();\n",
       "                for (var i = 0; i < nbb_cells.length; ++i) {\n",
       "                    if (nbb_cells[i].input_prompt_number == nbb_cell_id) {\n",
       "                        if (nbb_cells[i].get_text() == nbb_unformatted_code) {\n",
       "                             nbb_cells[i].set_text(nbb_formatted_code);\n",
       "                        }\n",
       "                        break;\n",
       "                    }\n",
       "                }\n",
       "            }, 500);\n",
       "            "
      ],
      "text/plain": [
       "<IPython.core.display.Javascript object>"
      ]
     },
     "metadata": {},
     "output_type": "display_data"
    },
    {
     "data": {
      "application/javascript": [
       "\n",
       "            setTimeout(function() {\n",
       "                var nbb_cell_id = 215;\n",
       "                var nbb_unformatted_code = \"labels = [{\\\"name\\\": \\\"parent-mice\\\", \\\"id\\\": 1}, {\\\"name\\\": \\\"child-mice\\\", \\\"id\\\": 2}]\";\n",
       "                var nbb_formatted_code = \"labels = [{\\\"name\\\": \\\"parent-mice\\\", \\\"id\\\": 1}, {\\\"name\\\": \\\"child-mice\\\", \\\"id\\\": 2}]\";\n",
       "                var nbb_cells = Jupyter.notebook.get_cells();\n",
       "                for (var i = 0; i < nbb_cells.length; ++i) {\n",
       "                    if (nbb_cells[i].input_prompt_number == nbb_cell_id) {\n",
       "                        if (nbb_cells[i].get_text() == nbb_unformatted_code) {\n",
       "                             nbb_cells[i].set_text(nbb_formatted_code);\n",
       "                        }\n",
       "                        break;\n",
       "                    }\n",
       "                }\n",
       "            }, 500);\n",
       "            "
      ],
      "text/plain": [
       "<IPython.core.display.Javascript object>"
      ]
     },
     "metadata": {},
     "output_type": "display_data"
    },
    {
     "data": {
      "application/javascript": [
       "\n",
       "            setTimeout(function() {\n",
       "                var nbb_cell_id = 215;\n",
       "                var nbb_unformatted_code = \"labels = [{\\\"name\\\": \\\"parent-mice\\\", \\\"id\\\": 1}, {\\\"name\\\": \\\"child-mice\\\", \\\"id\\\": 2}]\";\n",
       "                var nbb_formatted_code = \"labels = [{\\\"name\\\": \\\"parent-mice\\\", \\\"id\\\": 1}, {\\\"name\\\": \\\"child-mice\\\", \\\"id\\\": 2}]\";\n",
       "                var nbb_cells = Jupyter.notebook.get_cells();\n",
       "                for (var i = 0; i < nbb_cells.length; ++i) {\n",
       "                    if (nbb_cells[i].input_prompt_number == nbb_cell_id) {\n",
       "                        if (nbb_cells[i].get_text() == nbb_unformatted_code) {\n",
       "                             nbb_cells[i].set_text(nbb_formatted_code);\n",
       "                        }\n",
       "                        break;\n",
       "                    }\n",
       "                }\n",
       "            }, 500);\n",
       "            "
      ],
      "text/plain": [
       "<IPython.core.display.Javascript object>"
      ]
     },
     "metadata": {},
     "output_type": "display_data"
    },
    {
     "data": {
      "application/javascript": [
       "\n",
       "            setTimeout(function() {\n",
       "                var nbb_cell_id = 215;\n",
       "                var nbb_unformatted_code = \"labels = [{\\\"name\\\": \\\"parent-mice\\\", \\\"id\\\": 1}, {\\\"name\\\": \\\"child-mice\\\", \\\"id\\\": 2}]\";\n",
       "                var nbb_formatted_code = \"labels = [{\\\"name\\\": \\\"parent-mice\\\", \\\"id\\\": 1}, {\\\"name\\\": \\\"child-mice\\\", \\\"id\\\": 2}]\";\n",
       "                var nbb_cells = Jupyter.notebook.get_cells();\n",
       "                for (var i = 0; i < nbb_cells.length; ++i) {\n",
       "                    if (nbb_cells[i].input_prompt_number == nbb_cell_id) {\n",
       "                        if (nbb_cells[i].get_text() == nbb_unformatted_code) {\n",
       "                             nbb_cells[i].set_text(nbb_formatted_code);\n",
       "                        }\n",
       "                        break;\n",
       "                    }\n",
       "                }\n",
       "            }, 500);\n",
       "            "
      ],
      "text/plain": [
       "<IPython.core.display.Javascript object>"
      ]
     },
     "metadata": {},
     "output_type": "display_data"
    },
    {
     "data": {
      "application/javascript": [
       "\n",
       "            setTimeout(function() {\n",
       "                var nbb_cell_id = 215;\n",
       "                var nbb_unformatted_code = \"labels = [{\\\"name\\\": \\\"parent-mice\\\", \\\"id\\\": 1}, {\\\"name\\\": \\\"child-mice\\\", \\\"id\\\": 2}]\";\n",
       "                var nbb_formatted_code = \"labels = [{\\\"name\\\": \\\"parent-mice\\\", \\\"id\\\": 1}, {\\\"name\\\": \\\"child-mice\\\", \\\"id\\\": 2}]\";\n",
       "                var nbb_cells = Jupyter.notebook.get_cells();\n",
       "                for (var i = 0; i < nbb_cells.length; ++i) {\n",
       "                    if (nbb_cells[i].input_prompt_number == nbb_cell_id) {\n",
       "                        if (nbb_cells[i].get_text() == nbb_unformatted_code) {\n",
       "                             nbb_cells[i].set_text(nbb_formatted_code);\n",
       "                        }\n",
       "                        break;\n",
       "                    }\n",
       "                }\n",
       "            }, 500);\n",
       "            "
      ],
      "text/plain": [
       "<IPython.core.display.Javascript object>"
      ]
     },
     "metadata": {},
     "output_type": "display_data"
    },
    {
     "data": {
      "application/javascript": [
       "\n",
       "            setTimeout(function() {\n",
       "                var nbb_cell_id = 215;\n",
       "                var nbb_unformatted_code = \"labels = [{\\\"name\\\": \\\"parent-mice\\\", \\\"id\\\": 1}, {\\\"name\\\": \\\"child-mice\\\", \\\"id\\\": 2}]\";\n",
       "                var nbb_formatted_code = \"labels = [{\\\"name\\\": \\\"parent-mice\\\", \\\"id\\\": 1}, {\\\"name\\\": \\\"child-mice\\\", \\\"id\\\": 2}]\";\n",
       "                var nbb_cells = Jupyter.notebook.get_cells();\n",
       "                for (var i = 0; i < nbb_cells.length; ++i) {\n",
       "                    if (nbb_cells[i].input_prompt_number == nbb_cell_id) {\n",
       "                        if (nbb_cells[i].get_text() == nbb_unformatted_code) {\n",
       "                             nbb_cells[i].set_text(nbb_formatted_code);\n",
       "                        }\n",
       "                        break;\n",
       "                    }\n",
       "                }\n",
       "            }, 500);\n",
       "            "
      ],
      "text/plain": [
       "<IPython.core.display.Javascript object>"
      ]
     },
     "metadata": {},
     "output_type": "display_data"
    },
    {
     "data": {
      "application/javascript": [
       "\n",
       "            setTimeout(function() {\n",
       "                var nbb_cell_id = 215;\n",
       "                var nbb_unformatted_code = \"labels = [{\\\"name\\\": \\\"parent-mice\\\", \\\"id\\\": 1}, {\\\"name\\\": \\\"child-mice\\\", \\\"id\\\": 2}]\";\n",
       "                var nbb_formatted_code = \"labels = [{\\\"name\\\": \\\"parent-mice\\\", \\\"id\\\": 1}, {\\\"name\\\": \\\"child-mice\\\", \\\"id\\\": 2}]\";\n",
       "                var nbb_cells = Jupyter.notebook.get_cells();\n",
       "                for (var i = 0; i < nbb_cells.length; ++i) {\n",
       "                    if (nbb_cells[i].input_prompt_number == nbb_cell_id) {\n",
       "                        if (nbb_cells[i].get_text() == nbb_unformatted_code) {\n",
       "                             nbb_cells[i].set_text(nbb_formatted_code);\n",
       "                        }\n",
       "                        break;\n",
       "                    }\n",
       "                }\n",
       "            }, 500);\n",
       "            "
      ],
      "text/plain": [
       "<IPython.core.display.Javascript object>"
      ]
     },
     "metadata": {},
     "output_type": "display_data"
    }
   ],
   "source": [
    "labels = [{\"name\": \"parent-mice\", \"id\": 1}, {\"name\": \"child-mice\", \"id\": 2}]"
   ]
  },
  {
   "cell_type": "code",
   "execution_count": 216,
   "id": "ab081487",
   "metadata": {},
   "outputs": [
    {
     "data": {
      "application/javascript": [
       "\n",
       "            setTimeout(function() {\n",
       "                var nbb_cell_id = 216;\n",
       "                var nbb_unformatted_code = \"parent_directory = os.path.dirname(os.getcwd())\\npaths = {\\n    \\\"SRC_PATH\\\": os.path.join(parent_directory, \\\"src\\\"),\\n    \\\"DATA_PATH\\\": os.path.join(parent_directory, \\\"data\\\"),\\n    \\\"APIMODEL_PATH\\\": os.path.join(parent_directory, \\\"api_models\\\"),\\n    \\\"MODEL_PATH\\\": os.path.join(parent_directory, \\\"my_models\\\"),\\n    \\\"PRETRAINED_MODEL_PATH\\\": os.path.join(parent_directory, \\\"pre-trained-models\\\"),\\n    \\\"CHECKPOINT_PATH\\\": os.path.join(parent_directory, \\\"my_models\\\", CUSTOM_MODEL_NAME),\\n    \\\"OUTPUT_PATH\\\": os.path.join(\\n        parent_directory, \\\"my_models\\\", CUSTOM_MODEL_NAME, \\\"export\\\"\\n    ),\\n    \\\"TFJS_PATH\\\": os.path.join(\\n        parent_directory, \\\"my_models\\\", CUSTOM_MODEL_NAME, \\\"tfjsexport\\\"\\n    ),\\n    \\\"TFLITE_PATH\\\": os.path.join(\\n        parent_directory, \\\"my_models\\\", CUSTOM_MODEL_NAME, \\\"tfliteexport\\\"\\n    ),\\n    \\\"PROTOC_PATH\\\": os.path.join(parent_directory, \\\"protoc\\\"),\\n}\";\n",
       "                var nbb_formatted_code = \"parent_directory = os.path.dirname(os.getcwd())\\npaths = {\\n    \\\"SRC_PATH\\\": os.path.join(parent_directory, \\\"src\\\"),\\n    \\\"DATA_PATH\\\": os.path.join(parent_directory, \\\"data\\\"),\\n    \\\"APIMODEL_PATH\\\": os.path.join(parent_directory, \\\"api_models\\\"),\\n    \\\"MODEL_PATH\\\": os.path.join(parent_directory, \\\"my_models\\\"),\\n    \\\"PRETRAINED_MODEL_PATH\\\": os.path.join(parent_directory, \\\"pre-trained-models\\\"),\\n    \\\"CHECKPOINT_PATH\\\": os.path.join(parent_directory, \\\"my_models\\\", CUSTOM_MODEL_NAME),\\n    \\\"OUTPUT_PATH\\\": os.path.join(\\n        parent_directory, \\\"my_models\\\", CUSTOM_MODEL_NAME, \\\"export\\\"\\n    ),\\n    \\\"TFJS_PATH\\\": os.path.join(\\n        parent_directory, \\\"my_models\\\", CUSTOM_MODEL_NAME, \\\"tfjsexport\\\"\\n    ),\\n    \\\"TFLITE_PATH\\\": os.path.join(\\n        parent_directory, \\\"my_models\\\", CUSTOM_MODEL_NAME, \\\"tfliteexport\\\"\\n    ),\\n    \\\"PROTOC_PATH\\\": os.path.join(parent_directory, \\\"protoc\\\"),\\n}\";\n",
       "                var nbb_cells = Jupyter.notebook.get_cells();\n",
       "                for (var i = 0; i < nbb_cells.length; ++i) {\n",
       "                    if (nbb_cells[i].input_prompt_number == nbb_cell_id) {\n",
       "                        if (nbb_cells[i].get_text() == nbb_unformatted_code) {\n",
       "                             nbb_cells[i].set_text(nbb_formatted_code);\n",
       "                        }\n",
       "                        break;\n",
       "                    }\n",
       "                }\n",
       "            }, 500);\n",
       "            "
      ],
      "text/plain": [
       "<IPython.core.display.Javascript object>"
      ]
     },
     "metadata": {},
     "output_type": "display_data"
    },
    {
     "data": {
      "application/javascript": [
       "\n",
       "            setTimeout(function() {\n",
       "                var nbb_cell_id = 216;\n",
       "                var nbb_unformatted_code = \"parent_directory = os.path.dirname(os.getcwd())\\npaths = {\\n    \\\"SRC_PATH\\\": os.path.join(parent_directory, \\\"src\\\"),\\n    \\\"DATA_PATH\\\": os.path.join(parent_directory, \\\"data\\\"),\\n    \\\"APIMODEL_PATH\\\": os.path.join(parent_directory, \\\"api_models\\\"),\\n    \\\"MODEL_PATH\\\": os.path.join(parent_directory, \\\"my_models\\\"),\\n    \\\"PRETRAINED_MODEL_PATH\\\": os.path.join(parent_directory, \\\"pre-trained-models\\\"),\\n    \\\"CHECKPOINT_PATH\\\": os.path.join(parent_directory, \\\"my_models\\\", CUSTOM_MODEL_NAME),\\n    \\\"OUTPUT_PATH\\\": os.path.join(\\n        parent_directory, \\\"my_models\\\", CUSTOM_MODEL_NAME, \\\"export\\\"\\n    ),\\n    \\\"TFJS_PATH\\\": os.path.join(\\n        parent_directory, \\\"my_models\\\", CUSTOM_MODEL_NAME, \\\"tfjsexport\\\"\\n    ),\\n    \\\"TFLITE_PATH\\\": os.path.join(\\n        parent_directory, \\\"my_models\\\", CUSTOM_MODEL_NAME, \\\"tfliteexport\\\"\\n    ),\\n    \\\"PROTOC_PATH\\\": os.path.join(parent_directory, \\\"protoc\\\"),\\n}\";\n",
       "                var nbb_formatted_code = \"parent_directory = os.path.dirname(os.getcwd())\\npaths = {\\n    \\\"SRC_PATH\\\": os.path.join(parent_directory, \\\"src\\\"),\\n    \\\"DATA_PATH\\\": os.path.join(parent_directory, \\\"data\\\"),\\n    \\\"APIMODEL_PATH\\\": os.path.join(parent_directory, \\\"api_models\\\"),\\n    \\\"MODEL_PATH\\\": os.path.join(parent_directory, \\\"my_models\\\"),\\n    \\\"PRETRAINED_MODEL_PATH\\\": os.path.join(parent_directory, \\\"pre-trained-models\\\"),\\n    \\\"CHECKPOINT_PATH\\\": os.path.join(parent_directory, \\\"my_models\\\", CUSTOM_MODEL_NAME),\\n    \\\"OUTPUT_PATH\\\": os.path.join(\\n        parent_directory, \\\"my_models\\\", CUSTOM_MODEL_NAME, \\\"export\\\"\\n    ),\\n    \\\"TFJS_PATH\\\": os.path.join(\\n        parent_directory, \\\"my_models\\\", CUSTOM_MODEL_NAME, \\\"tfjsexport\\\"\\n    ),\\n    \\\"TFLITE_PATH\\\": os.path.join(\\n        parent_directory, \\\"my_models\\\", CUSTOM_MODEL_NAME, \\\"tfliteexport\\\"\\n    ),\\n    \\\"PROTOC_PATH\\\": os.path.join(parent_directory, \\\"protoc\\\"),\\n}\";\n",
       "                var nbb_cells = Jupyter.notebook.get_cells();\n",
       "                for (var i = 0; i < nbb_cells.length; ++i) {\n",
       "                    if (nbb_cells[i].input_prompt_number == nbb_cell_id) {\n",
       "                        if (nbb_cells[i].get_text() == nbb_unformatted_code) {\n",
       "                             nbb_cells[i].set_text(nbb_formatted_code);\n",
       "                        }\n",
       "                        break;\n",
       "                    }\n",
       "                }\n",
       "            }, 500);\n",
       "            "
      ],
      "text/plain": [
       "<IPython.core.display.Javascript object>"
      ]
     },
     "metadata": {},
     "output_type": "display_data"
    },
    {
     "data": {
      "application/javascript": [
       "\n",
       "            setTimeout(function() {\n",
       "                var nbb_cell_id = 216;\n",
       "                var nbb_unformatted_code = \"parent_directory = os.path.dirname(os.getcwd())\\npaths = {\\n    \\\"SRC_PATH\\\": os.path.join(parent_directory, \\\"src\\\"),\\n    \\\"DATA_PATH\\\": os.path.join(parent_directory, \\\"data\\\"),\\n    \\\"APIMODEL_PATH\\\": os.path.join(parent_directory, \\\"api_models\\\"),\\n    \\\"MODEL_PATH\\\": os.path.join(parent_directory, \\\"my_models\\\"),\\n    \\\"PRETRAINED_MODEL_PATH\\\": os.path.join(parent_directory, \\\"pre-trained-models\\\"),\\n    \\\"CHECKPOINT_PATH\\\": os.path.join(parent_directory, \\\"my_models\\\", CUSTOM_MODEL_NAME),\\n    \\\"OUTPUT_PATH\\\": os.path.join(\\n        parent_directory, \\\"my_models\\\", CUSTOM_MODEL_NAME, \\\"export\\\"\\n    ),\\n    \\\"TFJS_PATH\\\": os.path.join(\\n        parent_directory, \\\"my_models\\\", CUSTOM_MODEL_NAME, \\\"tfjsexport\\\"\\n    ),\\n    \\\"TFLITE_PATH\\\": os.path.join(\\n        parent_directory, \\\"my_models\\\", CUSTOM_MODEL_NAME, \\\"tfliteexport\\\"\\n    ),\\n    \\\"PROTOC_PATH\\\": os.path.join(parent_directory, \\\"protoc\\\"),\\n}\";\n",
       "                var nbb_formatted_code = \"parent_directory = os.path.dirname(os.getcwd())\\npaths = {\\n    \\\"SRC_PATH\\\": os.path.join(parent_directory, \\\"src\\\"),\\n    \\\"DATA_PATH\\\": os.path.join(parent_directory, \\\"data\\\"),\\n    \\\"APIMODEL_PATH\\\": os.path.join(parent_directory, \\\"api_models\\\"),\\n    \\\"MODEL_PATH\\\": os.path.join(parent_directory, \\\"my_models\\\"),\\n    \\\"PRETRAINED_MODEL_PATH\\\": os.path.join(parent_directory, \\\"pre-trained-models\\\"),\\n    \\\"CHECKPOINT_PATH\\\": os.path.join(parent_directory, \\\"my_models\\\", CUSTOM_MODEL_NAME),\\n    \\\"OUTPUT_PATH\\\": os.path.join(\\n        parent_directory, \\\"my_models\\\", CUSTOM_MODEL_NAME, \\\"export\\\"\\n    ),\\n    \\\"TFJS_PATH\\\": os.path.join(\\n        parent_directory, \\\"my_models\\\", CUSTOM_MODEL_NAME, \\\"tfjsexport\\\"\\n    ),\\n    \\\"TFLITE_PATH\\\": os.path.join(\\n        parent_directory, \\\"my_models\\\", CUSTOM_MODEL_NAME, \\\"tfliteexport\\\"\\n    ),\\n    \\\"PROTOC_PATH\\\": os.path.join(parent_directory, \\\"protoc\\\"),\\n}\";\n",
       "                var nbb_cells = Jupyter.notebook.get_cells();\n",
       "                for (var i = 0; i < nbb_cells.length; ++i) {\n",
       "                    if (nbb_cells[i].input_prompt_number == nbb_cell_id) {\n",
       "                        if (nbb_cells[i].get_text() == nbb_unformatted_code) {\n",
       "                             nbb_cells[i].set_text(nbb_formatted_code);\n",
       "                        }\n",
       "                        break;\n",
       "                    }\n",
       "                }\n",
       "            }, 500);\n",
       "            "
      ],
      "text/plain": [
       "<IPython.core.display.Javascript object>"
      ]
     },
     "metadata": {},
     "output_type": "display_data"
    },
    {
     "data": {
      "application/javascript": [
       "\n",
       "            setTimeout(function() {\n",
       "                var nbb_cell_id = 216;\n",
       "                var nbb_unformatted_code = \"parent_directory = os.path.dirname(os.getcwd())\\npaths = {\\n    \\\"SRC_PATH\\\": os.path.join(parent_directory, \\\"src\\\"),\\n    \\\"DATA_PATH\\\": os.path.join(parent_directory, \\\"data\\\"),\\n    \\\"APIMODEL_PATH\\\": os.path.join(parent_directory, \\\"api_models\\\"),\\n    \\\"MODEL_PATH\\\": os.path.join(parent_directory, \\\"my_models\\\"),\\n    \\\"PRETRAINED_MODEL_PATH\\\": os.path.join(parent_directory, \\\"pre-trained-models\\\"),\\n    \\\"CHECKPOINT_PATH\\\": os.path.join(parent_directory, \\\"my_models\\\", CUSTOM_MODEL_NAME),\\n    \\\"OUTPUT_PATH\\\": os.path.join(\\n        parent_directory, \\\"my_models\\\", CUSTOM_MODEL_NAME, \\\"export\\\"\\n    ),\\n    \\\"TFJS_PATH\\\": os.path.join(\\n        parent_directory, \\\"my_models\\\", CUSTOM_MODEL_NAME, \\\"tfjsexport\\\"\\n    ),\\n    \\\"TFLITE_PATH\\\": os.path.join(\\n        parent_directory, \\\"my_models\\\", CUSTOM_MODEL_NAME, \\\"tfliteexport\\\"\\n    ),\\n    \\\"PROTOC_PATH\\\": os.path.join(parent_directory, \\\"protoc\\\"),\\n}\";\n",
       "                var nbb_formatted_code = \"parent_directory = os.path.dirname(os.getcwd())\\npaths = {\\n    \\\"SRC_PATH\\\": os.path.join(parent_directory, \\\"src\\\"),\\n    \\\"DATA_PATH\\\": os.path.join(parent_directory, \\\"data\\\"),\\n    \\\"APIMODEL_PATH\\\": os.path.join(parent_directory, \\\"api_models\\\"),\\n    \\\"MODEL_PATH\\\": os.path.join(parent_directory, \\\"my_models\\\"),\\n    \\\"PRETRAINED_MODEL_PATH\\\": os.path.join(parent_directory, \\\"pre-trained-models\\\"),\\n    \\\"CHECKPOINT_PATH\\\": os.path.join(parent_directory, \\\"my_models\\\", CUSTOM_MODEL_NAME),\\n    \\\"OUTPUT_PATH\\\": os.path.join(\\n        parent_directory, \\\"my_models\\\", CUSTOM_MODEL_NAME, \\\"export\\\"\\n    ),\\n    \\\"TFJS_PATH\\\": os.path.join(\\n        parent_directory, \\\"my_models\\\", CUSTOM_MODEL_NAME, \\\"tfjsexport\\\"\\n    ),\\n    \\\"TFLITE_PATH\\\": os.path.join(\\n        parent_directory, \\\"my_models\\\", CUSTOM_MODEL_NAME, \\\"tfliteexport\\\"\\n    ),\\n    \\\"PROTOC_PATH\\\": os.path.join(parent_directory, \\\"protoc\\\"),\\n}\";\n",
       "                var nbb_cells = Jupyter.notebook.get_cells();\n",
       "                for (var i = 0; i < nbb_cells.length; ++i) {\n",
       "                    if (nbb_cells[i].input_prompt_number == nbb_cell_id) {\n",
       "                        if (nbb_cells[i].get_text() == nbb_unformatted_code) {\n",
       "                             nbb_cells[i].set_text(nbb_formatted_code);\n",
       "                        }\n",
       "                        break;\n",
       "                    }\n",
       "                }\n",
       "            }, 500);\n",
       "            "
      ],
      "text/plain": [
       "<IPython.core.display.Javascript object>"
      ]
     },
     "metadata": {},
     "output_type": "display_data"
    },
    {
     "data": {
      "application/javascript": [
       "\n",
       "            setTimeout(function() {\n",
       "                var nbb_cell_id = 216;\n",
       "                var nbb_unformatted_code = \"parent_directory = os.path.dirname(os.getcwd())\\npaths = {\\n    \\\"SRC_PATH\\\": os.path.join(parent_directory, \\\"src\\\"),\\n    \\\"DATA_PATH\\\": os.path.join(parent_directory, \\\"data\\\"),\\n    \\\"APIMODEL_PATH\\\": os.path.join(parent_directory, \\\"api_models\\\"),\\n    \\\"MODEL_PATH\\\": os.path.join(parent_directory, \\\"my_models\\\"),\\n    \\\"PRETRAINED_MODEL_PATH\\\": os.path.join(parent_directory, \\\"pre-trained-models\\\"),\\n    \\\"CHECKPOINT_PATH\\\": os.path.join(parent_directory, \\\"my_models\\\", CUSTOM_MODEL_NAME),\\n    \\\"OUTPUT_PATH\\\": os.path.join(\\n        parent_directory, \\\"my_models\\\", CUSTOM_MODEL_NAME, \\\"export\\\"\\n    ),\\n    \\\"TFJS_PATH\\\": os.path.join(\\n        parent_directory, \\\"my_models\\\", CUSTOM_MODEL_NAME, \\\"tfjsexport\\\"\\n    ),\\n    \\\"TFLITE_PATH\\\": os.path.join(\\n        parent_directory, \\\"my_models\\\", CUSTOM_MODEL_NAME, \\\"tfliteexport\\\"\\n    ),\\n    \\\"PROTOC_PATH\\\": os.path.join(parent_directory, \\\"protoc\\\"),\\n}\";\n",
       "                var nbb_formatted_code = \"parent_directory = os.path.dirname(os.getcwd())\\npaths = {\\n    \\\"SRC_PATH\\\": os.path.join(parent_directory, \\\"src\\\"),\\n    \\\"DATA_PATH\\\": os.path.join(parent_directory, \\\"data\\\"),\\n    \\\"APIMODEL_PATH\\\": os.path.join(parent_directory, \\\"api_models\\\"),\\n    \\\"MODEL_PATH\\\": os.path.join(parent_directory, \\\"my_models\\\"),\\n    \\\"PRETRAINED_MODEL_PATH\\\": os.path.join(parent_directory, \\\"pre-trained-models\\\"),\\n    \\\"CHECKPOINT_PATH\\\": os.path.join(parent_directory, \\\"my_models\\\", CUSTOM_MODEL_NAME),\\n    \\\"OUTPUT_PATH\\\": os.path.join(\\n        parent_directory, \\\"my_models\\\", CUSTOM_MODEL_NAME, \\\"export\\\"\\n    ),\\n    \\\"TFJS_PATH\\\": os.path.join(\\n        parent_directory, \\\"my_models\\\", CUSTOM_MODEL_NAME, \\\"tfjsexport\\\"\\n    ),\\n    \\\"TFLITE_PATH\\\": os.path.join(\\n        parent_directory, \\\"my_models\\\", CUSTOM_MODEL_NAME, \\\"tfliteexport\\\"\\n    ),\\n    \\\"PROTOC_PATH\\\": os.path.join(parent_directory, \\\"protoc\\\"),\\n}\";\n",
       "                var nbb_cells = Jupyter.notebook.get_cells();\n",
       "                for (var i = 0; i < nbb_cells.length; ++i) {\n",
       "                    if (nbb_cells[i].input_prompt_number == nbb_cell_id) {\n",
       "                        if (nbb_cells[i].get_text() == nbb_unformatted_code) {\n",
       "                             nbb_cells[i].set_text(nbb_formatted_code);\n",
       "                        }\n",
       "                        break;\n",
       "                    }\n",
       "                }\n",
       "            }, 500);\n",
       "            "
      ],
      "text/plain": [
       "<IPython.core.display.Javascript object>"
      ]
     },
     "metadata": {},
     "output_type": "display_data"
    },
    {
     "data": {
      "application/javascript": [
       "\n",
       "            setTimeout(function() {\n",
       "                var nbb_cell_id = 216;\n",
       "                var nbb_unformatted_code = \"parent_directory = os.path.dirname(os.getcwd())\\npaths = {\\n    \\\"SRC_PATH\\\": os.path.join(parent_directory, \\\"src\\\"),\\n    \\\"DATA_PATH\\\": os.path.join(parent_directory, \\\"data\\\"),\\n    \\\"APIMODEL_PATH\\\": os.path.join(parent_directory, \\\"api_models\\\"),\\n    \\\"MODEL_PATH\\\": os.path.join(parent_directory, \\\"my_models\\\"),\\n    \\\"PRETRAINED_MODEL_PATH\\\": os.path.join(parent_directory, \\\"pre-trained-models\\\"),\\n    \\\"CHECKPOINT_PATH\\\": os.path.join(parent_directory, \\\"my_models\\\", CUSTOM_MODEL_NAME),\\n    \\\"OUTPUT_PATH\\\": os.path.join(\\n        parent_directory, \\\"my_models\\\", CUSTOM_MODEL_NAME, \\\"export\\\"\\n    ),\\n    \\\"TFJS_PATH\\\": os.path.join(\\n        parent_directory, \\\"my_models\\\", CUSTOM_MODEL_NAME, \\\"tfjsexport\\\"\\n    ),\\n    \\\"TFLITE_PATH\\\": os.path.join(\\n        parent_directory, \\\"my_models\\\", CUSTOM_MODEL_NAME, \\\"tfliteexport\\\"\\n    ),\\n    \\\"PROTOC_PATH\\\": os.path.join(parent_directory, \\\"protoc\\\"),\\n}\";\n",
       "                var nbb_formatted_code = \"parent_directory = os.path.dirname(os.getcwd())\\npaths = {\\n    \\\"SRC_PATH\\\": os.path.join(parent_directory, \\\"src\\\"),\\n    \\\"DATA_PATH\\\": os.path.join(parent_directory, \\\"data\\\"),\\n    \\\"APIMODEL_PATH\\\": os.path.join(parent_directory, \\\"api_models\\\"),\\n    \\\"MODEL_PATH\\\": os.path.join(parent_directory, \\\"my_models\\\"),\\n    \\\"PRETRAINED_MODEL_PATH\\\": os.path.join(parent_directory, \\\"pre-trained-models\\\"),\\n    \\\"CHECKPOINT_PATH\\\": os.path.join(parent_directory, \\\"my_models\\\", CUSTOM_MODEL_NAME),\\n    \\\"OUTPUT_PATH\\\": os.path.join(\\n        parent_directory, \\\"my_models\\\", CUSTOM_MODEL_NAME, \\\"export\\\"\\n    ),\\n    \\\"TFJS_PATH\\\": os.path.join(\\n        parent_directory, \\\"my_models\\\", CUSTOM_MODEL_NAME, \\\"tfjsexport\\\"\\n    ),\\n    \\\"TFLITE_PATH\\\": os.path.join(\\n        parent_directory, \\\"my_models\\\", CUSTOM_MODEL_NAME, \\\"tfliteexport\\\"\\n    ),\\n    \\\"PROTOC_PATH\\\": os.path.join(parent_directory, \\\"protoc\\\"),\\n}\";\n",
       "                var nbb_cells = Jupyter.notebook.get_cells();\n",
       "                for (var i = 0; i < nbb_cells.length; ++i) {\n",
       "                    if (nbb_cells[i].input_prompt_number == nbb_cell_id) {\n",
       "                        if (nbb_cells[i].get_text() == nbb_unformatted_code) {\n",
       "                             nbb_cells[i].set_text(nbb_formatted_code);\n",
       "                        }\n",
       "                        break;\n",
       "                    }\n",
       "                }\n",
       "            }, 500);\n",
       "            "
      ],
      "text/plain": [
       "<IPython.core.display.Javascript object>"
      ]
     },
     "metadata": {},
     "output_type": "display_data"
    },
    {
     "data": {
      "application/javascript": [
       "\n",
       "            setTimeout(function() {\n",
       "                var nbb_cell_id = 216;\n",
       "                var nbb_unformatted_code = \"parent_directory = os.path.dirname(os.getcwd())\\npaths = {\\n    \\\"SRC_PATH\\\": os.path.join(parent_directory, \\\"src\\\"),\\n    \\\"DATA_PATH\\\": os.path.join(parent_directory, \\\"data\\\"),\\n    \\\"APIMODEL_PATH\\\": os.path.join(parent_directory, \\\"api_models\\\"),\\n    \\\"MODEL_PATH\\\": os.path.join(parent_directory, \\\"my_models\\\"),\\n    \\\"PRETRAINED_MODEL_PATH\\\": os.path.join(parent_directory, \\\"pre-trained-models\\\"),\\n    \\\"CHECKPOINT_PATH\\\": os.path.join(parent_directory, \\\"my_models\\\", CUSTOM_MODEL_NAME),\\n    \\\"OUTPUT_PATH\\\": os.path.join(\\n        parent_directory, \\\"my_models\\\", CUSTOM_MODEL_NAME, \\\"export\\\"\\n    ),\\n    \\\"TFJS_PATH\\\": os.path.join(\\n        parent_directory, \\\"my_models\\\", CUSTOM_MODEL_NAME, \\\"tfjsexport\\\"\\n    ),\\n    \\\"TFLITE_PATH\\\": os.path.join(\\n        parent_directory, \\\"my_models\\\", CUSTOM_MODEL_NAME, \\\"tfliteexport\\\"\\n    ),\\n    \\\"PROTOC_PATH\\\": os.path.join(parent_directory, \\\"protoc\\\"),\\n}\";\n",
       "                var nbb_formatted_code = \"parent_directory = os.path.dirname(os.getcwd())\\npaths = {\\n    \\\"SRC_PATH\\\": os.path.join(parent_directory, \\\"src\\\"),\\n    \\\"DATA_PATH\\\": os.path.join(parent_directory, \\\"data\\\"),\\n    \\\"APIMODEL_PATH\\\": os.path.join(parent_directory, \\\"api_models\\\"),\\n    \\\"MODEL_PATH\\\": os.path.join(parent_directory, \\\"my_models\\\"),\\n    \\\"PRETRAINED_MODEL_PATH\\\": os.path.join(parent_directory, \\\"pre-trained-models\\\"),\\n    \\\"CHECKPOINT_PATH\\\": os.path.join(parent_directory, \\\"my_models\\\", CUSTOM_MODEL_NAME),\\n    \\\"OUTPUT_PATH\\\": os.path.join(\\n        parent_directory, \\\"my_models\\\", CUSTOM_MODEL_NAME, \\\"export\\\"\\n    ),\\n    \\\"TFJS_PATH\\\": os.path.join(\\n        parent_directory, \\\"my_models\\\", CUSTOM_MODEL_NAME, \\\"tfjsexport\\\"\\n    ),\\n    \\\"TFLITE_PATH\\\": os.path.join(\\n        parent_directory, \\\"my_models\\\", CUSTOM_MODEL_NAME, \\\"tfliteexport\\\"\\n    ),\\n    \\\"PROTOC_PATH\\\": os.path.join(parent_directory, \\\"protoc\\\"),\\n}\";\n",
       "                var nbb_cells = Jupyter.notebook.get_cells();\n",
       "                for (var i = 0; i < nbb_cells.length; ++i) {\n",
       "                    if (nbb_cells[i].input_prompt_number == nbb_cell_id) {\n",
       "                        if (nbb_cells[i].get_text() == nbb_unformatted_code) {\n",
       "                             nbb_cells[i].set_text(nbb_formatted_code);\n",
       "                        }\n",
       "                        break;\n",
       "                    }\n",
       "                }\n",
       "            }, 500);\n",
       "            "
      ],
      "text/plain": [
       "<IPython.core.display.Javascript object>"
      ]
     },
     "metadata": {},
     "output_type": "display_data"
    },
    {
     "data": {
      "application/javascript": [
       "\n",
       "            setTimeout(function() {\n",
       "                var nbb_cell_id = 216;\n",
       "                var nbb_unformatted_code = \"parent_directory = os.path.dirname(os.getcwd())\\npaths = {\\n    \\\"SRC_PATH\\\": os.path.join(parent_directory, \\\"src\\\"),\\n    \\\"DATA_PATH\\\": os.path.join(parent_directory, \\\"data\\\"),\\n    \\\"APIMODEL_PATH\\\": os.path.join(parent_directory, \\\"api_models\\\"),\\n    \\\"MODEL_PATH\\\": os.path.join(parent_directory, \\\"my_models\\\"),\\n    \\\"PRETRAINED_MODEL_PATH\\\": os.path.join(parent_directory, \\\"pre-trained-models\\\"),\\n    \\\"CHECKPOINT_PATH\\\": os.path.join(parent_directory, \\\"my_models\\\", CUSTOM_MODEL_NAME),\\n    \\\"OUTPUT_PATH\\\": os.path.join(\\n        parent_directory, \\\"my_models\\\", CUSTOM_MODEL_NAME, \\\"export\\\"\\n    ),\\n    \\\"TFJS_PATH\\\": os.path.join(\\n        parent_directory, \\\"my_models\\\", CUSTOM_MODEL_NAME, \\\"tfjsexport\\\"\\n    ),\\n    \\\"TFLITE_PATH\\\": os.path.join(\\n        parent_directory, \\\"my_models\\\", CUSTOM_MODEL_NAME, \\\"tfliteexport\\\"\\n    ),\\n    \\\"PROTOC_PATH\\\": os.path.join(parent_directory, \\\"protoc\\\"),\\n}\";\n",
       "                var nbb_formatted_code = \"parent_directory = os.path.dirname(os.getcwd())\\npaths = {\\n    \\\"SRC_PATH\\\": os.path.join(parent_directory, \\\"src\\\"),\\n    \\\"DATA_PATH\\\": os.path.join(parent_directory, \\\"data\\\"),\\n    \\\"APIMODEL_PATH\\\": os.path.join(parent_directory, \\\"api_models\\\"),\\n    \\\"MODEL_PATH\\\": os.path.join(parent_directory, \\\"my_models\\\"),\\n    \\\"PRETRAINED_MODEL_PATH\\\": os.path.join(parent_directory, \\\"pre-trained-models\\\"),\\n    \\\"CHECKPOINT_PATH\\\": os.path.join(parent_directory, \\\"my_models\\\", CUSTOM_MODEL_NAME),\\n    \\\"OUTPUT_PATH\\\": os.path.join(\\n        parent_directory, \\\"my_models\\\", CUSTOM_MODEL_NAME, \\\"export\\\"\\n    ),\\n    \\\"TFJS_PATH\\\": os.path.join(\\n        parent_directory, \\\"my_models\\\", CUSTOM_MODEL_NAME, \\\"tfjsexport\\\"\\n    ),\\n    \\\"TFLITE_PATH\\\": os.path.join(\\n        parent_directory, \\\"my_models\\\", CUSTOM_MODEL_NAME, \\\"tfliteexport\\\"\\n    ),\\n    \\\"PROTOC_PATH\\\": os.path.join(parent_directory, \\\"protoc\\\"),\\n}\";\n",
       "                var nbb_cells = Jupyter.notebook.get_cells();\n",
       "                for (var i = 0; i < nbb_cells.length; ++i) {\n",
       "                    if (nbb_cells[i].input_prompt_number == nbb_cell_id) {\n",
       "                        if (nbb_cells[i].get_text() == nbb_unformatted_code) {\n",
       "                             nbb_cells[i].set_text(nbb_formatted_code);\n",
       "                        }\n",
       "                        break;\n",
       "                    }\n",
       "                }\n",
       "            }, 500);\n",
       "            "
      ],
      "text/plain": [
       "<IPython.core.display.Javascript object>"
      ]
     },
     "metadata": {},
     "output_type": "display_data"
    },
    {
     "data": {
      "application/javascript": [
       "\n",
       "            setTimeout(function() {\n",
       "                var nbb_cell_id = 216;\n",
       "                var nbb_unformatted_code = \"parent_directory = os.path.dirname(os.getcwd())\\npaths = {\\n    \\\"SRC_PATH\\\": os.path.join(parent_directory, \\\"src\\\"),\\n    \\\"DATA_PATH\\\": os.path.join(parent_directory, \\\"data\\\"),\\n    \\\"APIMODEL_PATH\\\": os.path.join(parent_directory, \\\"api_models\\\"),\\n    \\\"MODEL_PATH\\\": os.path.join(parent_directory, \\\"my_models\\\"),\\n    \\\"PRETRAINED_MODEL_PATH\\\": os.path.join(parent_directory, \\\"pre-trained-models\\\"),\\n    \\\"CHECKPOINT_PATH\\\": os.path.join(parent_directory, \\\"my_models\\\", CUSTOM_MODEL_NAME),\\n    \\\"OUTPUT_PATH\\\": os.path.join(\\n        parent_directory, \\\"my_models\\\", CUSTOM_MODEL_NAME, \\\"export\\\"\\n    ),\\n    \\\"TFJS_PATH\\\": os.path.join(\\n        parent_directory, \\\"my_models\\\", CUSTOM_MODEL_NAME, \\\"tfjsexport\\\"\\n    ),\\n    \\\"TFLITE_PATH\\\": os.path.join(\\n        parent_directory, \\\"my_models\\\", CUSTOM_MODEL_NAME, \\\"tfliteexport\\\"\\n    ),\\n    \\\"PROTOC_PATH\\\": os.path.join(parent_directory, \\\"protoc\\\"),\\n}\";\n",
       "                var nbb_formatted_code = \"parent_directory = os.path.dirname(os.getcwd())\\npaths = {\\n    \\\"SRC_PATH\\\": os.path.join(parent_directory, \\\"src\\\"),\\n    \\\"DATA_PATH\\\": os.path.join(parent_directory, \\\"data\\\"),\\n    \\\"APIMODEL_PATH\\\": os.path.join(parent_directory, \\\"api_models\\\"),\\n    \\\"MODEL_PATH\\\": os.path.join(parent_directory, \\\"my_models\\\"),\\n    \\\"PRETRAINED_MODEL_PATH\\\": os.path.join(parent_directory, \\\"pre-trained-models\\\"),\\n    \\\"CHECKPOINT_PATH\\\": os.path.join(parent_directory, \\\"my_models\\\", CUSTOM_MODEL_NAME),\\n    \\\"OUTPUT_PATH\\\": os.path.join(\\n        parent_directory, \\\"my_models\\\", CUSTOM_MODEL_NAME, \\\"export\\\"\\n    ),\\n    \\\"TFJS_PATH\\\": os.path.join(\\n        parent_directory, \\\"my_models\\\", CUSTOM_MODEL_NAME, \\\"tfjsexport\\\"\\n    ),\\n    \\\"TFLITE_PATH\\\": os.path.join(\\n        parent_directory, \\\"my_models\\\", CUSTOM_MODEL_NAME, \\\"tfliteexport\\\"\\n    ),\\n    \\\"PROTOC_PATH\\\": os.path.join(parent_directory, \\\"protoc\\\"),\\n}\";\n",
       "                var nbb_cells = Jupyter.notebook.get_cells();\n",
       "                for (var i = 0; i < nbb_cells.length; ++i) {\n",
       "                    if (nbb_cells[i].input_prompt_number == nbb_cell_id) {\n",
       "                        if (nbb_cells[i].get_text() == nbb_unformatted_code) {\n",
       "                             nbb_cells[i].set_text(nbb_formatted_code);\n",
       "                        }\n",
       "                        break;\n",
       "                    }\n",
       "                }\n",
       "            }, 500);\n",
       "            "
      ],
      "text/plain": [
       "<IPython.core.display.Javascript object>"
      ]
     },
     "metadata": {},
     "output_type": "display_data"
    },
    {
     "data": {
      "application/javascript": [
       "\n",
       "            setTimeout(function() {\n",
       "                var nbb_cell_id = 216;\n",
       "                var nbb_unformatted_code = \"parent_directory = os.path.dirname(os.getcwd())\\npaths = {\\n    \\\"SRC_PATH\\\": os.path.join(parent_directory, \\\"src\\\"),\\n    \\\"DATA_PATH\\\": os.path.join(parent_directory, \\\"data\\\"),\\n    \\\"APIMODEL_PATH\\\": os.path.join(parent_directory, \\\"api_models\\\"),\\n    \\\"MODEL_PATH\\\": os.path.join(parent_directory, \\\"my_models\\\"),\\n    \\\"PRETRAINED_MODEL_PATH\\\": os.path.join(parent_directory, \\\"pre-trained-models\\\"),\\n    \\\"CHECKPOINT_PATH\\\": os.path.join(parent_directory, \\\"my_models\\\", CUSTOM_MODEL_NAME),\\n    \\\"OUTPUT_PATH\\\": os.path.join(\\n        parent_directory, \\\"my_models\\\", CUSTOM_MODEL_NAME, \\\"export\\\"\\n    ),\\n    \\\"TFJS_PATH\\\": os.path.join(\\n        parent_directory, \\\"my_models\\\", CUSTOM_MODEL_NAME, \\\"tfjsexport\\\"\\n    ),\\n    \\\"TFLITE_PATH\\\": os.path.join(\\n        parent_directory, \\\"my_models\\\", CUSTOM_MODEL_NAME, \\\"tfliteexport\\\"\\n    ),\\n    \\\"PROTOC_PATH\\\": os.path.join(parent_directory, \\\"protoc\\\"),\\n}\";\n",
       "                var nbb_formatted_code = \"parent_directory = os.path.dirname(os.getcwd())\\npaths = {\\n    \\\"SRC_PATH\\\": os.path.join(parent_directory, \\\"src\\\"),\\n    \\\"DATA_PATH\\\": os.path.join(parent_directory, \\\"data\\\"),\\n    \\\"APIMODEL_PATH\\\": os.path.join(parent_directory, \\\"api_models\\\"),\\n    \\\"MODEL_PATH\\\": os.path.join(parent_directory, \\\"my_models\\\"),\\n    \\\"PRETRAINED_MODEL_PATH\\\": os.path.join(parent_directory, \\\"pre-trained-models\\\"),\\n    \\\"CHECKPOINT_PATH\\\": os.path.join(parent_directory, \\\"my_models\\\", CUSTOM_MODEL_NAME),\\n    \\\"OUTPUT_PATH\\\": os.path.join(\\n        parent_directory, \\\"my_models\\\", CUSTOM_MODEL_NAME, \\\"export\\\"\\n    ),\\n    \\\"TFJS_PATH\\\": os.path.join(\\n        parent_directory, \\\"my_models\\\", CUSTOM_MODEL_NAME, \\\"tfjsexport\\\"\\n    ),\\n    \\\"TFLITE_PATH\\\": os.path.join(\\n        parent_directory, \\\"my_models\\\", CUSTOM_MODEL_NAME, \\\"tfliteexport\\\"\\n    ),\\n    \\\"PROTOC_PATH\\\": os.path.join(parent_directory, \\\"protoc\\\"),\\n}\";\n",
       "                var nbb_cells = Jupyter.notebook.get_cells();\n",
       "                for (var i = 0; i < nbb_cells.length; ++i) {\n",
       "                    if (nbb_cells[i].input_prompt_number == nbb_cell_id) {\n",
       "                        if (nbb_cells[i].get_text() == nbb_unformatted_code) {\n",
       "                             nbb_cells[i].set_text(nbb_formatted_code);\n",
       "                        }\n",
       "                        break;\n",
       "                    }\n",
       "                }\n",
       "            }, 500);\n",
       "            "
      ],
      "text/plain": [
       "<IPython.core.display.Javascript object>"
      ]
     },
     "metadata": {},
     "output_type": "display_data"
    }
   ],
   "source": [
    "parent_directory = os.path.dirname(os.getcwd())\n",
    "paths = {\n",
    "    \"SRC_PATH\": os.path.join(parent_directory, \"src\"),\n",
    "    \"DATA_PATH\": os.path.join(parent_directory, \"data\"),\n",
    "    \"APIMODEL_PATH\": os.path.join(parent_directory, \"api_models\"),\n",
    "    \"MODEL_PATH\": os.path.join(parent_directory, \"my_models\"),\n",
    "    \"PRETRAINED_MODEL_PATH\": os.path.join(parent_directory, \"pre-trained-models\"),\n",
    "    \"CHECKPOINT_PATH\": os.path.join(parent_directory, \"my_models\", CUSTOM_MODEL_NAME),\n",
    "    \"OUTPUT_PATH\": os.path.join(\n",
    "        parent_directory, \"my_models\", CUSTOM_MODEL_NAME, \"export\"\n",
    "    ),\n",
    "    \"TFJS_PATH\": os.path.join(\n",
    "        parent_directory, \"my_models\", CUSTOM_MODEL_NAME, \"tfjsexport\"\n",
    "    ),\n",
    "    \"TFLITE_PATH\": os.path.join(\n",
    "        parent_directory, \"my_models\", CUSTOM_MODEL_NAME, \"tfliteexport\"\n",
    "    ),\n",
    "    \"PROTOC_PATH\": os.path.join(parent_directory, \"protoc\"),\n",
    "}"
   ]
  },
  {
   "cell_type": "code",
   "execution_count": 217,
   "id": "c62152f3",
   "metadata": {},
   "outputs": [
    {
     "data": {
      "application/javascript": [
       "\n",
       "            setTimeout(function() {\n",
       "                var nbb_cell_id = 217;\n",
       "                var nbb_unformatted_code = \"files = {\\n    \\\"PIPELINE_CONFIG\\\": os.path.join(\\n        parent_directory, \\\"my_models\\\", CUSTOM_MODEL_NAME, \\\"pipeline.config\\\"\\n    ),\\n    \\\"TF_RECORD_SCRIPT\\\": os.path.join(paths[\\\"DATA_PATH\\\"], TF_RECORD_SCRIPT_NAME),\\n    \\\"LABELMAP\\\": os.path.join(paths[\\\"DATA_PATH\\\"], LABEL_MAP_NAME),\\n}\";\n",
       "                var nbb_formatted_code = \"files = {\\n    \\\"PIPELINE_CONFIG\\\": os.path.join(\\n        parent_directory, \\\"my_models\\\", CUSTOM_MODEL_NAME, \\\"pipeline.config\\\"\\n    ),\\n    \\\"TF_RECORD_SCRIPT\\\": os.path.join(paths[\\\"DATA_PATH\\\"], TF_RECORD_SCRIPT_NAME),\\n    \\\"LABELMAP\\\": os.path.join(paths[\\\"DATA_PATH\\\"], LABEL_MAP_NAME),\\n}\";\n",
       "                var nbb_cells = Jupyter.notebook.get_cells();\n",
       "                for (var i = 0; i < nbb_cells.length; ++i) {\n",
       "                    if (nbb_cells[i].input_prompt_number == nbb_cell_id) {\n",
       "                        if (nbb_cells[i].get_text() == nbb_unformatted_code) {\n",
       "                             nbb_cells[i].set_text(nbb_formatted_code);\n",
       "                        }\n",
       "                        break;\n",
       "                    }\n",
       "                }\n",
       "            }, 500);\n",
       "            "
      ],
      "text/plain": [
       "<IPython.core.display.Javascript object>"
      ]
     },
     "metadata": {},
     "output_type": "display_data"
    },
    {
     "data": {
      "application/javascript": [
       "\n",
       "            setTimeout(function() {\n",
       "                var nbb_cell_id = 217;\n",
       "                var nbb_unformatted_code = \"files = {\\n    \\\"PIPELINE_CONFIG\\\": os.path.join(\\n        parent_directory, \\\"my_models\\\", CUSTOM_MODEL_NAME, \\\"pipeline.config\\\"\\n    ),\\n    \\\"TF_RECORD_SCRIPT\\\": os.path.join(paths[\\\"DATA_PATH\\\"], TF_RECORD_SCRIPT_NAME),\\n    \\\"LABELMAP\\\": os.path.join(paths[\\\"DATA_PATH\\\"], LABEL_MAP_NAME),\\n}\";\n",
       "                var nbb_formatted_code = \"files = {\\n    \\\"PIPELINE_CONFIG\\\": os.path.join(\\n        parent_directory, \\\"my_models\\\", CUSTOM_MODEL_NAME, \\\"pipeline.config\\\"\\n    ),\\n    \\\"TF_RECORD_SCRIPT\\\": os.path.join(paths[\\\"DATA_PATH\\\"], TF_RECORD_SCRIPT_NAME),\\n    \\\"LABELMAP\\\": os.path.join(paths[\\\"DATA_PATH\\\"], LABEL_MAP_NAME),\\n}\";\n",
       "                var nbb_cells = Jupyter.notebook.get_cells();\n",
       "                for (var i = 0; i < nbb_cells.length; ++i) {\n",
       "                    if (nbb_cells[i].input_prompt_number == nbb_cell_id) {\n",
       "                        if (nbb_cells[i].get_text() == nbb_unformatted_code) {\n",
       "                             nbb_cells[i].set_text(nbb_formatted_code);\n",
       "                        }\n",
       "                        break;\n",
       "                    }\n",
       "                }\n",
       "            }, 500);\n",
       "            "
      ],
      "text/plain": [
       "<IPython.core.display.Javascript object>"
      ]
     },
     "metadata": {},
     "output_type": "display_data"
    },
    {
     "data": {
      "application/javascript": [
       "\n",
       "            setTimeout(function() {\n",
       "                var nbb_cell_id = 217;\n",
       "                var nbb_unformatted_code = \"files = {\\n    \\\"PIPELINE_CONFIG\\\": os.path.join(\\n        parent_directory, \\\"my_models\\\", CUSTOM_MODEL_NAME, \\\"pipeline.config\\\"\\n    ),\\n    \\\"TF_RECORD_SCRIPT\\\": os.path.join(paths[\\\"DATA_PATH\\\"], TF_RECORD_SCRIPT_NAME),\\n    \\\"LABELMAP\\\": os.path.join(paths[\\\"DATA_PATH\\\"], LABEL_MAP_NAME),\\n}\";\n",
       "                var nbb_formatted_code = \"files = {\\n    \\\"PIPELINE_CONFIG\\\": os.path.join(\\n        parent_directory, \\\"my_models\\\", CUSTOM_MODEL_NAME, \\\"pipeline.config\\\"\\n    ),\\n    \\\"TF_RECORD_SCRIPT\\\": os.path.join(paths[\\\"DATA_PATH\\\"], TF_RECORD_SCRIPT_NAME),\\n    \\\"LABELMAP\\\": os.path.join(paths[\\\"DATA_PATH\\\"], LABEL_MAP_NAME),\\n}\";\n",
       "                var nbb_cells = Jupyter.notebook.get_cells();\n",
       "                for (var i = 0; i < nbb_cells.length; ++i) {\n",
       "                    if (nbb_cells[i].input_prompt_number == nbb_cell_id) {\n",
       "                        if (nbb_cells[i].get_text() == nbb_unformatted_code) {\n",
       "                             nbb_cells[i].set_text(nbb_formatted_code);\n",
       "                        }\n",
       "                        break;\n",
       "                    }\n",
       "                }\n",
       "            }, 500);\n",
       "            "
      ],
      "text/plain": [
       "<IPython.core.display.Javascript object>"
      ]
     },
     "metadata": {},
     "output_type": "display_data"
    },
    {
     "data": {
      "application/javascript": [
       "\n",
       "            setTimeout(function() {\n",
       "                var nbb_cell_id = 217;\n",
       "                var nbb_unformatted_code = \"files = {\\n    \\\"PIPELINE_CONFIG\\\": os.path.join(\\n        parent_directory, \\\"my_models\\\", CUSTOM_MODEL_NAME, \\\"pipeline.config\\\"\\n    ),\\n    \\\"TF_RECORD_SCRIPT\\\": os.path.join(paths[\\\"DATA_PATH\\\"], TF_RECORD_SCRIPT_NAME),\\n    \\\"LABELMAP\\\": os.path.join(paths[\\\"DATA_PATH\\\"], LABEL_MAP_NAME),\\n}\";\n",
       "                var nbb_formatted_code = \"files = {\\n    \\\"PIPELINE_CONFIG\\\": os.path.join(\\n        parent_directory, \\\"my_models\\\", CUSTOM_MODEL_NAME, \\\"pipeline.config\\\"\\n    ),\\n    \\\"TF_RECORD_SCRIPT\\\": os.path.join(paths[\\\"DATA_PATH\\\"], TF_RECORD_SCRIPT_NAME),\\n    \\\"LABELMAP\\\": os.path.join(paths[\\\"DATA_PATH\\\"], LABEL_MAP_NAME),\\n}\";\n",
       "                var nbb_cells = Jupyter.notebook.get_cells();\n",
       "                for (var i = 0; i < nbb_cells.length; ++i) {\n",
       "                    if (nbb_cells[i].input_prompt_number == nbb_cell_id) {\n",
       "                        if (nbb_cells[i].get_text() == nbb_unformatted_code) {\n",
       "                             nbb_cells[i].set_text(nbb_formatted_code);\n",
       "                        }\n",
       "                        break;\n",
       "                    }\n",
       "                }\n",
       "            }, 500);\n",
       "            "
      ],
      "text/plain": [
       "<IPython.core.display.Javascript object>"
      ]
     },
     "metadata": {},
     "output_type": "display_data"
    },
    {
     "data": {
      "application/javascript": [
       "\n",
       "            setTimeout(function() {\n",
       "                var nbb_cell_id = 217;\n",
       "                var nbb_unformatted_code = \"files = {\\n    \\\"PIPELINE_CONFIG\\\": os.path.join(\\n        parent_directory, \\\"my_models\\\", CUSTOM_MODEL_NAME, \\\"pipeline.config\\\"\\n    ),\\n    \\\"TF_RECORD_SCRIPT\\\": os.path.join(paths[\\\"DATA_PATH\\\"], TF_RECORD_SCRIPT_NAME),\\n    \\\"LABELMAP\\\": os.path.join(paths[\\\"DATA_PATH\\\"], LABEL_MAP_NAME),\\n}\";\n",
       "                var nbb_formatted_code = \"files = {\\n    \\\"PIPELINE_CONFIG\\\": os.path.join(\\n        parent_directory, \\\"my_models\\\", CUSTOM_MODEL_NAME, \\\"pipeline.config\\\"\\n    ),\\n    \\\"TF_RECORD_SCRIPT\\\": os.path.join(paths[\\\"DATA_PATH\\\"], TF_RECORD_SCRIPT_NAME),\\n    \\\"LABELMAP\\\": os.path.join(paths[\\\"DATA_PATH\\\"], LABEL_MAP_NAME),\\n}\";\n",
       "                var nbb_cells = Jupyter.notebook.get_cells();\n",
       "                for (var i = 0; i < nbb_cells.length; ++i) {\n",
       "                    if (nbb_cells[i].input_prompt_number == nbb_cell_id) {\n",
       "                        if (nbb_cells[i].get_text() == nbb_unformatted_code) {\n",
       "                             nbb_cells[i].set_text(nbb_formatted_code);\n",
       "                        }\n",
       "                        break;\n",
       "                    }\n",
       "                }\n",
       "            }, 500);\n",
       "            "
      ],
      "text/plain": [
       "<IPython.core.display.Javascript object>"
      ]
     },
     "metadata": {},
     "output_type": "display_data"
    },
    {
     "data": {
      "application/javascript": [
       "\n",
       "            setTimeout(function() {\n",
       "                var nbb_cell_id = 217;\n",
       "                var nbb_unformatted_code = \"files = {\\n    \\\"PIPELINE_CONFIG\\\": os.path.join(\\n        parent_directory, \\\"my_models\\\", CUSTOM_MODEL_NAME, \\\"pipeline.config\\\"\\n    ),\\n    \\\"TF_RECORD_SCRIPT\\\": os.path.join(paths[\\\"DATA_PATH\\\"], TF_RECORD_SCRIPT_NAME),\\n    \\\"LABELMAP\\\": os.path.join(paths[\\\"DATA_PATH\\\"], LABEL_MAP_NAME),\\n}\";\n",
       "                var nbb_formatted_code = \"files = {\\n    \\\"PIPELINE_CONFIG\\\": os.path.join(\\n        parent_directory, \\\"my_models\\\", CUSTOM_MODEL_NAME, \\\"pipeline.config\\\"\\n    ),\\n    \\\"TF_RECORD_SCRIPT\\\": os.path.join(paths[\\\"DATA_PATH\\\"], TF_RECORD_SCRIPT_NAME),\\n    \\\"LABELMAP\\\": os.path.join(paths[\\\"DATA_PATH\\\"], LABEL_MAP_NAME),\\n}\";\n",
       "                var nbb_cells = Jupyter.notebook.get_cells();\n",
       "                for (var i = 0; i < nbb_cells.length; ++i) {\n",
       "                    if (nbb_cells[i].input_prompt_number == nbb_cell_id) {\n",
       "                        if (nbb_cells[i].get_text() == nbb_unformatted_code) {\n",
       "                             nbb_cells[i].set_text(nbb_formatted_code);\n",
       "                        }\n",
       "                        break;\n",
       "                    }\n",
       "                }\n",
       "            }, 500);\n",
       "            "
      ],
      "text/plain": [
       "<IPython.core.display.Javascript object>"
      ]
     },
     "metadata": {},
     "output_type": "display_data"
    },
    {
     "data": {
      "application/javascript": [
       "\n",
       "            setTimeout(function() {\n",
       "                var nbb_cell_id = 217;\n",
       "                var nbb_unformatted_code = \"files = {\\n    \\\"PIPELINE_CONFIG\\\": os.path.join(\\n        parent_directory, \\\"my_models\\\", CUSTOM_MODEL_NAME, \\\"pipeline.config\\\"\\n    ),\\n    \\\"TF_RECORD_SCRIPT\\\": os.path.join(paths[\\\"DATA_PATH\\\"], TF_RECORD_SCRIPT_NAME),\\n    \\\"LABELMAP\\\": os.path.join(paths[\\\"DATA_PATH\\\"], LABEL_MAP_NAME),\\n}\";\n",
       "                var nbb_formatted_code = \"files = {\\n    \\\"PIPELINE_CONFIG\\\": os.path.join(\\n        parent_directory, \\\"my_models\\\", CUSTOM_MODEL_NAME, \\\"pipeline.config\\\"\\n    ),\\n    \\\"TF_RECORD_SCRIPT\\\": os.path.join(paths[\\\"DATA_PATH\\\"], TF_RECORD_SCRIPT_NAME),\\n    \\\"LABELMAP\\\": os.path.join(paths[\\\"DATA_PATH\\\"], LABEL_MAP_NAME),\\n}\";\n",
       "                var nbb_cells = Jupyter.notebook.get_cells();\n",
       "                for (var i = 0; i < nbb_cells.length; ++i) {\n",
       "                    if (nbb_cells[i].input_prompt_number == nbb_cell_id) {\n",
       "                        if (nbb_cells[i].get_text() == nbb_unformatted_code) {\n",
       "                             nbb_cells[i].set_text(nbb_formatted_code);\n",
       "                        }\n",
       "                        break;\n",
       "                    }\n",
       "                }\n",
       "            }, 500);\n",
       "            "
      ],
      "text/plain": [
       "<IPython.core.display.Javascript object>"
      ]
     },
     "metadata": {},
     "output_type": "display_data"
    },
    {
     "data": {
      "application/javascript": [
       "\n",
       "            setTimeout(function() {\n",
       "                var nbb_cell_id = 217;\n",
       "                var nbb_unformatted_code = \"files = {\\n    \\\"PIPELINE_CONFIG\\\": os.path.join(\\n        parent_directory, \\\"my_models\\\", CUSTOM_MODEL_NAME, \\\"pipeline.config\\\"\\n    ),\\n    \\\"TF_RECORD_SCRIPT\\\": os.path.join(paths[\\\"DATA_PATH\\\"], TF_RECORD_SCRIPT_NAME),\\n    \\\"LABELMAP\\\": os.path.join(paths[\\\"DATA_PATH\\\"], LABEL_MAP_NAME),\\n}\";\n",
       "                var nbb_formatted_code = \"files = {\\n    \\\"PIPELINE_CONFIG\\\": os.path.join(\\n        parent_directory, \\\"my_models\\\", CUSTOM_MODEL_NAME, \\\"pipeline.config\\\"\\n    ),\\n    \\\"TF_RECORD_SCRIPT\\\": os.path.join(paths[\\\"DATA_PATH\\\"], TF_RECORD_SCRIPT_NAME),\\n    \\\"LABELMAP\\\": os.path.join(paths[\\\"DATA_PATH\\\"], LABEL_MAP_NAME),\\n}\";\n",
       "                var nbb_cells = Jupyter.notebook.get_cells();\n",
       "                for (var i = 0; i < nbb_cells.length; ++i) {\n",
       "                    if (nbb_cells[i].input_prompt_number == nbb_cell_id) {\n",
       "                        if (nbb_cells[i].get_text() == nbb_unformatted_code) {\n",
       "                             nbb_cells[i].set_text(nbb_formatted_code);\n",
       "                        }\n",
       "                        break;\n",
       "                    }\n",
       "                }\n",
       "            }, 500);\n",
       "            "
      ],
      "text/plain": [
       "<IPython.core.display.Javascript object>"
      ]
     },
     "metadata": {},
     "output_type": "display_data"
    },
    {
     "data": {
      "application/javascript": [
       "\n",
       "            setTimeout(function() {\n",
       "                var nbb_cell_id = 217;\n",
       "                var nbb_unformatted_code = \"files = {\\n    \\\"PIPELINE_CONFIG\\\": os.path.join(\\n        parent_directory, \\\"my_models\\\", CUSTOM_MODEL_NAME, \\\"pipeline.config\\\"\\n    ),\\n    \\\"TF_RECORD_SCRIPT\\\": os.path.join(paths[\\\"DATA_PATH\\\"], TF_RECORD_SCRIPT_NAME),\\n    \\\"LABELMAP\\\": os.path.join(paths[\\\"DATA_PATH\\\"], LABEL_MAP_NAME),\\n}\";\n",
       "                var nbb_formatted_code = \"files = {\\n    \\\"PIPELINE_CONFIG\\\": os.path.join(\\n        parent_directory, \\\"my_models\\\", CUSTOM_MODEL_NAME, \\\"pipeline.config\\\"\\n    ),\\n    \\\"TF_RECORD_SCRIPT\\\": os.path.join(paths[\\\"DATA_PATH\\\"], TF_RECORD_SCRIPT_NAME),\\n    \\\"LABELMAP\\\": os.path.join(paths[\\\"DATA_PATH\\\"], LABEL_MAP_NAME),\\n}\";\n",
       "                var nbb_cells = Jupyter.notebook.get_cells();\n",
       "                for (var i = 0; i < nbb_cells.length; ++i) {\n",
       "                    if (nbb_cells[i].input_prompt_number == nbb_cell_id) {\n",
       "                        if (nbb_cells[i].get_text() == nbb_unformatted_code) {\n",
       "                             nbb_cells[i].set_text(nbb_formatted_code);\n",
       "                        }\n",
       "                        break;\n",
       "                    }\n",
       "                }\n",
       "            }, 500);\n",
       "            "
      ],
      "text/plain": [
       "<IPython.core.display.Javascript object>"
      ]
     },
     "metadata": {},
     "output_type": "display_data"
    },
    {
     "data": {
      "application/javascript": [
       "\n",
       "            setTimeout(function() {\n",
       "                var nbb_cell_id = 217;\n",
       "                var nbb_unformatted_code = \"files = {\\n    \\\"PIPELINE_CONFIG\\\": os.path.join(\\n        parent_directory, \\\"my_models\\\", CUSTOM_MODEL_NAME, \\\"pipeline.config\\\"\\n    ),\\n    \\\"TF_RECORD_SCRIPT\\\": os.path.join(paths[\\\"DATA_PATH\\\"], TF_RECORD_SCRIPT_NAME),\\n    \\\"LABELMAP\\\": os.path.join(paths[\\\"DATA_PATH\\\"], LABEL_MAP_NAME),\\n}\";\n",
       "                var nbb_formatted_code = \"files = {\\n    \\\"PIPELINE_CONFIG\\\": os.path.join(\\n        parent_directory, \\\"my_models\\\", CUSTOM_MODEL_NAME, \\\"pipeline.config\\\"\\n    ),\\n    \\\"TF_RECORD_SCRIPT\\\": os.path.join(paths[\\\"DATA_PATH\\\"], TF_RECORD_SCRIPT_NAME),\\n    \\\"LABELMAP\\\": os.path.join(paths[\\\"DATA_PATH\\\"], LABEL_MAP_NAME),\\n}\";\n",
       "                var nbb_cells = Jupyter.notebook.get_cells();\n",
       "                for (var i = 0; i < nbb_cells.length; ++i) {\n",
       "                    if (nbb_cells[i].input_prompt_number == nbb_cell_id) {\n",
       "                        if (nbb_cells[i].get_text() == nbb_unformatted_code) {\n",
       "                             nbb_cells[i].set_text(nbb_formatted_code);\n",
       "                        }\n",
       "                        break;\n",
       "                    }\n",
       "                }\n",
       "            }, 500);\n",
       "            "
      ],
      "text/plain": [
       "<IPython.core.display.Javascript object>"
      ]
     },
     "metadata": {},
     "output_type": "display_data"
    }
   ],
   "source": [
    "files = {\n",
    "    \"PIPELINE_CONFIG\": os.path.join(\n",
    "        parent_directory, \"my_models\", CUSTOM_MODEL_NAME, \"pipeline.config\"\n",
    "    ),\n",
    "    \"TF_RECORD_SCRIPT\": os.path.join(paths[\"DATA_PATH\"], TF_RECORD_SCRIPT_NAME),\n",
    "    \"LABELMAP\": os.path.join(paths[\"DATA_PATH\"], LABEL_MAP_NAME),\n",
    "}"
   ]
  },
  {
   "cell_type": "code",
   "execution_count": 218,
   "id": "57f383e0",
   "metadata": {},
   "outputs": [
    {
     "data": {
      "application/javascript": [
       "\n",
       "            setTimeout(function() {\n",
       "                var nbb_cell_id = 218;\n",
       "                var nbb_unformatted_code = \"for path in paths.values():\\n    if not os.path.exists(path):\\n        if os.name == \\\"posix\\\":\\n            !mkdir -p {path}\\n        if os.name == \\\"nt\\\":\\n            !mkdir {path}\";\n",
       "                var nbb_formatted_code = \"for path in paths.values():\\n    if not os.path.exists(path):\\n        if os.name == \\\"posix\\\":\\n            !mkdir -p {path}\\n        if os.name == \\\"nt\\\":\\n            !mkdir {path}\";\n",
       "                var nbb_cells = Jupyter.notebook.get_cells();\n",
       "                for (var i = 0; i < nbb_cells.length; ++i) {\n",
       "                    if (nbb_cells[i].input_prompt_number == nbb_cell_id) {\n",
       "                        if (nbb_cells[i].get_text() == nbb_unformatted_code) {\n",
       "                             nbb_cells[i].set_text(nbb_formatted_code);\n",
       "                        }\n",
       "                        break;\n",
       "                    }\n",
       "                }\n",
       "            }, 500);\n",
       "            "
      ],
      "text/plain": [
       "<IPython.core.display.Javascript object>"
      ]
     },
     "metadata": {},
     "output_type": "display_data"
    },
    {
     "data": {
      "application/javascript": [
       "\n",
       "            setTimeout(function() {\n",
       "                var nbb_cell_id = 218;\n",
       "                var nbb_unformatted_code = \"for path in paths.values():\\n    if not os.path.exists(path):\\n        if os.name == \\\"posix\\\":\\n            !mkdir -p {path}\\n        if os.name == \\\"nt\\\":\\n            !mkdir {path}\";\n",
       "                var nbb_formatted_code = \"for path in paths.values():\\n    if not os.path.exists(path):\\n        if os.name == \\\"posix\\\":\\n            !mkdir -p {path}\\n        if os.name == \\\"nt\\\":\\n            !mkdir {path}\";\n",
       "                var nbb_cells = Jupyter.notebook.get_cells();\n",
       "                for (var i = 0; i < nbb_cells.length; ++i) {\n",
       "                    if (nbb_cells[i].input_prompt_number == nbb_cell_id) {\n",
       "                        if (nbb_cells[i].get_text() == nbb_unformatted_code) {\n",
       "                             nbb_cells[i].set_text(nbb_formatted_code);\n",
       "                        }\n",
       "                        break;\n",
       "                    }\n",
       "                }\n",
       "            }, 500);\n",
       "            "
      ],
      "text/plain": [
       "<IPython.core.display.Javascript object>"
      ]
     },
     "metadata": {},
     "output_type": "display_data"
    },
    {
     "data": {
      "application/javascript": [
       "\n",
       "            setTimeout(function() {\n",
       "                var nbb_cell_id = 218;\n",
       "                var nbb_unformatted_code = \"for path in paths.values():\\n    if not os.path.exists(path):\\n        if os.name == \\\"posix\\\":\\n            !mkdir -p {path}\\n        if os.name == \\\"nt\\\":\\n            !mkdir {path}\";\n",
       "                var nbb_formatted_code = \"for path in paths.values():\\n    if not os.path.exists(path):\\n        if os.name == \\\"posix\\\":\\n            !mkdir -p {path}\\n        if os.name == \\\"nt\\\":\\n            !mkdir {path}\";\n",
       "                var nbb_cells = Jupyter.notebook.get_cells();\n",
       "                for (var i = 0; i < nbb_cells.length; ++i) {\n",
       "                    if (nbb_cells[i].input_prompt_number == nbb_cell_id) {\n",
       "                        if (nbb_cells[i].get_text() == nbb_unformatted_code) {\n",
       "                             nbb_cells[i].set_text(nbb_formatted_code);\n",
       "                        }\n",
       "                        break;\n",
       "                    }\n",
       "                }\n",
       "            }, 500);\n",
       "            "
      ],
      "text/plain": [
       "<IPython.core.display.Javascript object>"
      ]
     },
     "metadata": {},
     "output_type": "display_data"
    },
    {
     "data": {
      "application/javascript": [
       "\n",
       "            setTimeout(function() {\n",
       "                var nbb_cell_id = 218;\n",
       "                var nbb_unformatted_code = \"for path in paths.values():\\n    if not os.path.exists(path):\\n        if os.name == \\\"posix\\\":\\n            !mkdir -p {path}\\n        if os.name == \\\"nt\\\":\\n            !mkdir {path}\";\n",
       "                var nbb_formatted_code = \"for path in paths.values():\\n    if not os.path.exists(path):\\n        if os.name == \\\"posix\\\":\\n            !mkdir -p {path}\\n        if os.name == \\\"nt\\\":\\n            !mkdir {path}\";\n",
       "                var nbb_cells = Jupyter.notebook.get_cells();\n",
       "                for (var i = 0; i < nbb_cells.length; ++i) {\n",
       "                    if (nbb_cells[i].input_prompt_number == nbb_cell_id) {\n",
       "                        if (nbb_cells[i].get_text() == nbb_unformatted_code) {\n",
       "                             nbb_cells[i].set_text(nbb_formatted_code);\n",
       "                        }\n",
       "                        break;\n",
       "                    }\n",
       "                }\n",
       "            }, 500);\n",
       "            "
      ],
      "text/plain": [
       "<IPython.core.display.Javascript object>"
      ]
     },
     "metadata": {},
     "output_type": "display_data"
    },
    {
     "data": {
      "application/javascript": [
       "\n",
       "            setTimeout(function() {\n",
       "                var nbb_cell_id = 218;\n",
       "                var nbb_unformatted_code = \"for path in paths.values():\\n    if not os.path.exists(path):\\n        if os.name == \\\"posix\\\":\\n            !mkdir -p {path}\\n        if os.name == \\\"nt\\\":\\n            !mkdir {path}\";\n",
       "                var nbb_formatted_code = \"for path in paths.values():\\n    if not os.path.exists(path):\\n        if os.name == \\\"posix\\\":\\n            !mkdir -p {path}\\n        if os.name == \\\"nt\\\":\\n            !mkdir {path}\";\n",
       "                var nbb_cells = Jupyter.notebook.get_cells();\n",
       "                for (var i = 0; i < nbb_cells.length; ++i) {\n",
       "                    if (nbb_cells[i].input_prompt_number == nbb_cell_id) {\n",
       "                        if (nbb_cells[i].get_text() == nbb_unformatted_code) {\n",
       "                             nbb_cells[i].set_text(nbb_formatted_code);\n",
       "                        }\n",
       "                        break;\n",
       "                    }\n",
       "                }\n",
       "            }, 500);\n",
       "            "
      ],
      "text/plain": [
       "<IPython.core.display.Javascript object>"
      ]
     },
     "metadata": {},
     "output_type": "display_data"
    },
    {
     "data": {
      "application/javascript": [
       "\n",
       "            setTimeout(function() {\n",
       "                var nbb_cell_id = 218;\n",
       "                var nbb_unformatted_code = \"for path in paths.values():\\n    if not os.path.exists(path):\\n        if os.name == \\\"posix\\\":\\n            !mkdir -p {path}\\n        if os.name == \\\"nt\\\":\\n            !mkdir {path}\";\n",
       "                var nbb_formatted_code = \"for path in paths.values():\\n    if not os.path.exists(path):\\n        if os.name == \\\"posix\\\":\\n            !mkdir -p {path}\\n        if os.name == \\\"nt\\\":\\n            !mkdir {path}\";\n",
       "                var nbb_cells = Jupyter.notebook.get_cells();\n",
       "                for (var i = 0; i < nbb_cells.length; ++i) {\n",
       "                    if (nbb_cells[i].input_prompt_number == nbb_cell_id) {\n",
       "                        if (nbb_cells[i].get_text() == nbb_unformatted_code) {\n",
       "                             nbb_cells[i].set_text(nbb_formatted_code);\n",
       "                        }\n",
       "                        break;\n",
       "                    }\n",
       "                }\n",
       "            }, 500);\n",
       "            "
      ],
      "text/plain": [
       "<IPython.core.display.Javascript object>"
      ]
     },
     "metadata": {},
     "output_type": "display_data"
    },
    {
     "data": {
      "application/javascript": [
       "\n",
       "            setTimeout(function() {\n",
       "                var nbb_cell_id = 218;\n",
       "                var nbb_unformatted_code = \"for path in paths.values():\\n    if not os.path.exists(path):\\n        if os.name == \\\"posix\\\":\\n            !mkdir -p {path}\\n        if os.name == \\\"nt\\\":\\n            !mkdir {path}\";\n",
       "                var nbb_formatted_code = \"for path in paths.values():\\n    if not os.path.exists(path):\\n        if os.name == \\\"posix\\\":\\n            !mkdir -p {path}\\n        if os.name == \\\"nt\\\":\\n            !mkdir {path}\";\n",
       "                var nbb_cells = Jupyter.notebook.get_cells();\n",
       "                for (var i = 0; i < nbb_cells.length; ++i) {\n",
       "                    if (nbb_cells[i].input_prompt_number == nbb_cell_id) {\n",
       "                        if (nbb_cells[i].get_text() == nbb_unformatted_code) {\n",
       "                             nbb_cells[i].set_text(nbb_formatted_code);\n",
       "                        }\n",
       "                        break;\n",
       "                    }\n",
       "                }\n",
       "            }, 500);\n",
       "            "
      ],
      "text/plain": [
       "<IPython.core.display.Javascript object>"
      ]
     },
     "metadata": {},
     "output_type": "display_data"
    },
    {
     "data": {
      "application/javascript": [
       "\n",
       "            setTimeout(function() {\n",
       "                var nbb_cell_id = 218;\n",
       "                var nbb_unformatted_code = \"for path in paths.values():\\n    if not os.path.exists(path):\\n        if os.name == \\\"posix\\\":\\n            !mkdir -p {path}\\n        if os.name == \\\"nt\\\":\\n            !mkdir {path}\";\n",
       "                var nbb_formatted_code = \"for path in paths.values():\\n    if not os.path.exists(path):\\n        if os.name == \\\"posix\\\":\\n            !mkdir -p {path}\\n        if os.name == \\\"nt\\\":\\n            !mkdir {path}\";\n",
       "                var nbb_cells = Jupyter.notebook.get_cells();\n",
       "                for (var i = 0; i < nbb_cells.length; ++i) {\n",
       "                    if (nbb_cells[i].input_prompt_number == nbb_cell_id) {\n",
       "                        if (nbb_cells[i].get_text() == nbb_unformatted_code) {\n",
       "                             nbb_cells[i].set_text(nbb_formatted_code);\n",
       "                        }\n",
       "                        break;\n",
       "                    }\n",
       "                }\n",
       "            }, 500);\n",
       "            "
      ],
      "text/plain": [
       "<IPython.core.display.Javascript object>"
      ]
     },
     "metadata": {},
     "output_type": "display_data"
    },
    {
     "data": {
      "application/javascript": [
       "\n",
       "            setTimeout(function() {\n",
       "                var nbb_cell_id = 218;\n",
       "                var nbb_unformatted_code = \"for path in paths.values():\\n    if not os.path.exists(path):\\n        if os.name == \\\"posix\\\":\\n            !mkdir -p {path}\\n        if os.name == \\\"nt\\\":\\n            !mkdir {path}\";\n",
       "                var nbb_formatted_code = \"for path in paths.values():\\n    if not os.path.exists(path):\\n        if os.name == \\\"posix\\\":\\n            !mkdir -p {path}\\n        if os.name == \\\"nt\\\":\\n            !mkdir {path}\";\n",
       "                var nbb_cells = Jupyter.notebook.get_cells();\n",
       "                for (var i = 0; i < nbb_cells.length; ++i) {\n",
       "                    if (nbb_cells[i].input_prompt_number == nbb_cell_id) {\n",
       "                        if (nbb_cells[i].get_text() == nbb_unformatted_code) {\n",
       "                             nbb_cells[i].set_text(nbb_formatted_code);\n",
       "                        }\n",
       "                        break;\n",
       "                    }\n",
       "                }\n",
       "            }, 500);\n",
       "            "
      ],
      "text/plain": [
       "<IPython.core.display.Javascript object>"
      ]
     },
     "metadata": {},
     "output_type": "display_data"
    },
    {
     "data": {
      "application/javascript": [
       "\n",
       "            setTimeout(function() {\n",
       "                var nbb_cell_id = 218;\n",
       "                var nbb_unformatted_code = \"for path in paths.values():\\n    if not os.path.exists(path):\\n        if os.name == \\\"posix\\\":\\n            !mkdir -p {path}\\n        if os.name == \\\"nt\\\":\\n            !mkdir {path}\";\n",
       "                var nbb_formatted_code = \"for path in paths.values():\\n    if not os.path.exists(path):\\n        if os.name == \\\"posix\\\":\\n            !mkdir -p {path}\\n        if os.name == \\\"nt\\\":\\n            !mkdir {path}\";\n",
       "                var nbb_cells = Jupyter.notebook.get_cells();\n",
       "                for (var i = 0; i < nbb_cells.length; ++i) {\n",
       "                    if (nbb_cells[i].input_prompt_number == nbb_cell_id) {\n",
       "                        if (nbb_cells[i].get_text() == nbb_unformatted_code) {\n",
       "                             nbb_cells[i].set_text(nbb_formatted_code);\n",
       "                        }\n",
       "                        break;\n",
       "                    }\n",
       "                }\n",
       "            }, 500);\n",
       "            "
      ],
      "text/plain": [
       "<IPython.core.display.Javascript object>"
      ]
     },
     "metadata": {},
     "output_type": "display_data"
    }
   ],
   "source": [
    "for path in paths.values():\n",
    "    if not os.path.exists(path):\n",
    "        if os.name == \"posix\":\n",
    "            !mkdir -p {path}\n",
    "        if os.name == \"nt\":\n",
    "            !mkdir {path}"
   ]
  },
  {
   "cell_type": "code",
   "execution_count": 219,
   "id": "b6ad7ab1",
   "metadata": {},
   "outputs": [
    {
     "name": "stdout",
     "output_type": "stream",
     "text": [
      "fatal: destination path 'models' already exists and is not an empty directory.\r\n"
     ]
    },
    {
     "data": {
      "application/javascript": [
       "\n",
       "            setTimeout(function() {\n",
       "                var nbb_cell_id = 219;\n",
       "                var nbb_unformatted_code = \"if not os.path.exists(\\n    os.path.join(paths[\\\"APIMODEL_PATH\\\"], \\\"research\\\", \\\"object_detection\\\")\\n):\\n    !cd {paths['APIMODEL_PATH']} && git clone https://github.com/tensorflow/models\";\n",
       "                var nbb_formatted_code = \"if not os.path.exists(\\n    os.path.join(paths[\\\"APIMODEL_PATH\\\"], \\\"research\\\", \\\"object_detection\\\")\\n):\\n    !cd {paths['APIMODEL_PATH']} && git clone https://github.com/tensorflow/models\";\n",
       "                var nbb_cells = Jupyter.notebook.get_cells();\n",
       "                for (var i = 0; i < nbb_cells.length; ++i) {\n",
       "                    if (nbb_cells[i].input_prompt_number == nbb_cell_id) {\n",
       "                        if (nbb_cells[i].get_text() == nbb_unformatted_code) {\n",
       "                             nbb_cells[i].set_text(nbb_formatted_code);\n",
       "                        }\n",
       "                        break;\n",
       "                    }\n",
       "                }\n",
       "            }, 500);\n",
       "            "
      ],
      "text/plain": [
       "<IPython.core.display.Javascript object>"
      ]
     },
     "metadata": {},
     "output_type": "display_data"
    },
    {
     "data": {
      "application/javascript": [
       "\n",
       "            setTimeout(function() {\n",
       "                var nbb_cell_id = 219;\n",
       "                var nbb_unformatted_code = \"if not os.path.exists(\\n    os.path.join(paths[\\\"APIMODEL_PATH\\\"], \\\"research\\\", \\\"object_detection\\\")\\n):\\n    !cd {paths['APIMODEL_PATH']} && git clone https://github.com/tensorflow/models\";\n",
       "                var nbb_formatted_code = \"if not os.path.exists(\\n    os.path.join(paths[\\\"APIMODEL_PATH\\\"], \\\"research\\\", \\\"object_detection\\\")\\n):\\n    !cd {paths['APIMODEL_PATH']} && git clone https://github.com/tensorflow/models\";\n",
       "                var nbb_cells = Jupyter.notebook.get_cells();\n",
       "                for (var i = 0; i < nbb_cells.length; ++i) {\n",
       "                    if (nbb_cells[i].input_prompt_number == nbb_cell_id) {\n",
       "                        if (nbb_cells[i].get_text() == nbb_unformatted_code) {\n",
       "                             nbb_cells[i].set_text(nbb_formatted_code);\n",
       "                        }\n",
       "                        break;\n",
       "                    }\n",
       "                }\n",
       "            }, 500);\n",
       "            "
      ],
      "text/plain": [
       "<IPython.core.display.Javascript object>"
      ]
     },
     "metadata": {},
     "output_type": "display_data"
    },
    {
     "data": {
      "application/javascript": [
       "\n",
       "            setTimeout(function() {\n",
       "                var nbb_cell_id = 219;\n",
       "                var nbb_unformatted_code = \"if not os.path.exists(\\n    os.path.join(paths[\\\"APIMODEL_PATH\\\"], \\\"research\\\", \\\"object_detection\\\")\\n):\\n    !cd {paths['APIMODEL_PATH']} && git clone https://github.com/tensorflow/models\";\n",
       "                var nbb_formatted_code = \"if not os.path.exists(\\n    os.path.join(paths[\\\"APIMODEL_PATH\\\"], \\\"research\\\", \\\"object_detection\\\")\\n):\\n    !cd {paths['APIMODEL_PATH']} && git clone https://github.com/tensorflow/models\";\n",
       "                var nbb_cells = Jupyter.notebook.get_cells();\n",
       "                for (var i = 0; i < nbb_cells.length; ++i) {\n",
       "                    if (nbb_cells[i].input_prompt_number == nbb_cell_id) {\n",
       "                        if (nbb_cells[i].get_text() == nbb_unformatted_code) {\n",
       "                             nbb_cells[i].set_text(nbb_formatted_code);\n",
       "                        }\n",
       "                        break;\n",
       "                    }\n",
       "                }\n",
       "            }, 500);\n",
       "            "
      ],
      "text/plain": [
       "<IPython.core.display.Javascript object>"
      ]
     },
     "metadata": {},
     "output_type": "display_data"
    },
    {
     "data": {
      "application/javascript": [
       "\n",
       "            setTimeout(function() {\n",
       "                var nbb_cell_id = 219;\n",
       "                var nbb_unformatted_code = \"if not os.path.exists(\\n    os.path.join(paths[\\\"APIMODEL_PATH\\\"], \\\"research\\\", \\\"object_detection\\\")\\n):\\n    !cd {paths['APIMODEL_PATH']} && git clone https://github.com/tensorflow/models\";\n",
       "                var nbb_formatted_code = \"if not os.path.exists(\\n    os.path.join(paths[\\\"APIMODEL_PATH\\\"], \\\"research\\\", \\\"object_detection\\\")\\n):\\n    !cd {paths['APIMODEL_PATH']} && git clone https://github.com/tensorflow/models\";\n",
       "                var nbb_cells = Jupyter.notebook.get_cells();\n",
       "                for (var i = 0; i < nbb_cells.length; ++i) {\n",
       "                    if (nbb_cells[i].input_prompt_number == nbb_cell_id) {\n",
       "                        if (nbb_cells[i].get_text() == nbb_unformatted_code) {\n",
       "                             nbb_cells[i].set_text(nbb_formatted_code);\n",
       "                        }\n",
       "                        break;\n",
       "                    }\n",
       "                }\n",
       "            }, 500);\n",
       "            "
      ],
      "text/plain": [
       "<IPython.core.display.Javascript object>"
      ]
     },
     "metadata": {},
     "output_type": "display_data"
    },
    {
     "data": {
      "application/javascript": [
       "\n",
       "            setTimeout(function() {\n",
       "                var nbb_cell_id = 219;\n",
       "                var nbb_unformatted_code = \"if not os.path.exists(\\n    os.path.join(paths[\\\"APIMODEL_PATH\\\"], \\\"research\\\", \\\"object_detection\\\")\\n):\\n    !cd {paths['APIMODEL_PATH']} && git clone https://github.com/tensorflow/models\";\n",
       "                var nbb_formatted_code = \"if not os.path.exists(\\n    os.path.join(paths[\\\"APIMODEL_PATH\\\"], \\\"research\\\", \\\"object_detection\\\")\\n):\\n    !cd {paths['APIMODEL_PATH']} && git clone https://github.com/tensorflow/models\";\n",
       "                var nbb_cells = Jupyter.notebook.get_cells();\n",
       "                for (var i = 0; i < nbb_cells.length; ++i) {\n",
       "                    if (nbb_cells[i].input_prompt_number == nbb_cell_id) {\n",
       "                        if (nbb_cells[i].get_text() == nbb_unformatted_code) {\n",
       "                             nbb_cells[i].set_text(nbb_formatted_code);\n",
       "                        }\n",
       "                        break;\n",
       "                    }\n",
       "                }\n",
       "            }, 500);\n",
       "            "
      ],
      "text/plain": [
       "<IPython.core.display.Javascript object>"
      ]
     },
     "metadata": {},
     "output_type": "display_data"
    },
    {
     "data": {
      "application/javascript": [
       "\n",
       "            setTimeout(function() {\n",
       "                var nbb_cell_id = 219;\n",
       "                var nbb_unformatted_code = \"if not os.path.exists(\\n    os.path.join(paths[\\\"APIMODEL_PATH\\\"], \\\"research\\\", \\\"object_detection\\\")\\n):\\n    !cd {paths['APIMODEL_PATH']} && git clone https://github.com/tensorflow/models\";\n",
       "                var nbb_formatted_code = \"if not os.path.exists(\\n    os.path.join(paths[\\\"APIMODEL_PATH\\\"], \\\"research\\\", \\\"object_detection\\\")\\n):\\n    !cd {paths['APIMODEL_PATH']} && git clone https://github.com/tensorflow/models\";\n",
       "                var nbb_cells = Jupyter.notebook.get_cells();\n",
       "                for (var i = 0; i < nbb_cells.length; ++i) {\n",
       "                    if (nbb_cells[i].input_prompt_number == nbb_cell_id) {\n",
       "                        if (nbb_cells[i].get_text() == nbb_unformatted_code) {\n",
       "                             nbb_cells[i].set_text(nbb_formatted_code);\n",
       "                        }\n",
       "                        break;\n",
       "                    }\n",
       "                }\n",
       "            }, 500);\n",
       "            "
      ],
      "text/plain": [
       "<IPython.core.display.Javascript object>"
      ]
     },
     "metadata": {},
     "output_type": "display_data"
    },
    {
     "data": {
      "application/javascript": [
       "\n",
       "            setTimeout(function() {\n",
       "                var nbb_cell_id = 219;\n",
       "                var nbb_unformatted_code = \"if not os.path.exists(\\n    os.path.join(paths[\\\"APIMODEL_PATH\\\"], \\\"research\\\", \\\"object_detection\\\")\\n):\\n    !cd {paths['APIMODEL_PATH']} && git clone https://github.com/tensorflow/models\";\n",
       "                var nbb_formatted_code = \"if not os.path.exists(\\n    os.path.join(paths[\\\"APIMODEL_PATH\\\"], \\\"research\\\", \\\"object_detection\\\")\\n):\\n    !cd {paths['APIMODEL_PATH']} && git clone https://github.com/tensorflow/models\";\n",
       "                var nbb_cells = Jupyter.notebook.get_cells();\n",
       "                for (var i = 0; i < nbb_cells.length; ++i) {\n",
       "                    if (nbb_cells[i].input_prompt_number == nbb_cell_id) {\n",
       "                        if (nbb_cells[i].get_text() == nbb_unformatted_code) {\n",
       "                             nbb_cells[i].set_text(nbb_formatted_code);\n",
       "                        }\n",
       "                        break;\n",
       "                    }\n",
       "                }\n",
       "            }, 500);\n",
       "            "
      ],
      "text/plain": [
       "<IPython.core.display.Javascript object>"
      ]
     },
     "metadata": {},
     "output_type": "display_data"
    },
    {
     "data": {
      "application/javascript": [
       "\n",
       "            setTimeout(function() {\n",
       "                var nbb_cell_id = 219;\n",
       "                var nbb_unformatted_code = \"if not os.path.exists(\\n    os.path.join(paths[\\\"APIMODEL_PATH\\\"], \\\"research\\\", \\\"object_detection\\\")\\n):\\n    !cd {paths['APIMODEL_PATH']} && git clone https://github.com/tensorflow/models\";\n",
       "                var nbb_formatted_code = \"if not os.path.exists(\\n    os.path.join(paths[\\\"APIMODEL_PATH\\\"], \\\"research\\\", \\\"object_detection\\\")\\n):\\n    !cd {paths['APIMODEL_PATH']} && git clone https://github.com/tensorflow/models\";\n",
       "                var nbb_cells = Jupyter.notebook.get_cells();\n",
       "                for (var i = 0; i < nbb_cells.length; ++i) {\n",
       "                    if (nbb_cells[i].input_prompt_number == nbb_cell_id) {\n",
       "                        if (nbb_cells[i].get_text() == nbb_unformatted_code) {\n",
       "                             nbb_cells[i].set_text(nbb_formatted_code);\n",
       "                        }\n",
       "                        break;\n",
       "                    }\n",
       "                }\n",
       "            }, 500);\n",
       "            "
      ],
      "text/plain": [
       "<IPython.core.display.Javascript object>"
      ]
     },
     "metadata": {},
     "output_type": "display_data"
    },
    {
     "data": {
      "application/javascript": [
       "\n",
       "            setTimeout(function() {\n",
       "                var nbb_cell_id = 219;\n",
       "                var nbb_unformatted_code = \"if not os.path.exists(\\n    os.path.join(paths[\\\"APIMODEL_PATH\\\"], \\\"research\\\", \\\"object_detection\\\")\\n):\\n    !cd {paths['APIMODEL_PATH']} && git clone https://github.com/tensorflow/models\";\n",
       "                var nbb_formatted_code = \"if not os.path.exists(\\n    os.path.join(paths[\\\"APIMODEL_PATH\\\"], \\\"research\\\", \\\"object_detection\\\")\\n):\\n    !cd {paths['APIMODEL_PATH']} && git clone https://github.com/tensorflow/models\";\n",
       "                var nbb_cells = Jupyter.notebook.get_cells();\n",
       "                for (var i = 0; i < nbb_cells.length; ++i) {\n",
       "                    if (nbb_cells[i].input_prompt_number == nbb_cell_id) {\n",
       "                        if (nbb_cells[i].get_text() == nbb_unformatted_code) {\n",
       "                             nbb_cells[i].set_text(nbb_formatted_code);\n",
       "                        }\n",
       "                        break;\n",
       "                    }\n",
       "                }\n",
       "            }, 500);\n",
       "            "
      ],
      "text/plain": [
       "<IPython.core.display.Javascript object>"
      ]
     },
     "metadata": {},
     "output_type": "display_data"
    },
    {
     "data": {
      "application/javascript": [
       "\n",
       "            setTimeout(function() {\n",
       "                var nbb_cell_id = 219;\n",
       "                var nbb_unformatted_code = \"if not os.path.exists(\\n    os.path.join(paths[\\\"APIMODEL_PATH\\\"], \\\"research\\\", \\\"object_detection\\\")\\n):\\n    !cd {paths['APIMODEL_PATH']} && git clone https://github.com/tensorflow/models\";\n",
       "                var nbb_formatted_code = \"if not os.path.exists(\\n    os.path.join(paths[\\\"APIMODEL_PATH\\\"], \\\"research\\\", \\\"object_detection\\\")\\n):\\n    !cd {paths['APIMODEL_PATH']} && git clone https://github.com/tensorflow/models\";\n",
       "                var nbb_cells = Jupyter.notebook.get_cells();\n",
       "                for (var i = 0; i < nbb_cells.length; ++i) {\n",
       "                    if (nbb_cells[i].input_prompt_number == nbb_cell_id) {\n",
       "                        if (nbb_cells[i].get_text() == nbb_unformatted_code) {\n",
       "                             nbb_cells[i].set_text(nbb_formatted_code);\n",
       "                        }\n",
       "                        break;\n",
       "                    }\n",
       "                }\n",
       "            }, 500);\n",
       "            "
      ],
      "text/plain": [
       "<IPython.core.display.Javascript object>"
      ]
     },
     "metadata": {},
     "output_type": "display_data"
    }
   ],
   "source": [
    "if not os.path.exists(\n",
    "    os.path.join(paths[\"APIMODEL_PATH\"], \"research\", \"object_detection\")\n",
    "):\n",
    "    !cd {paths['APIMODEL_PATH']} && git clone https://github.com/tensorflow/models"
   ]
  },
  {
   "cell_type": "code",
   "execution_count": 220,
   "id": "b224f80f",
   "metadata": {},
   "outputs": [
    {
     "data": {
      "application/javascript": [
       "\n",
       "            setTimeout(function() {\n",
       "                var nbb_cell_id = 220;\n",
       "                var nbb_unformatted_code = \"# if os.name == \\\"posix\\\":\\n#     !wget {PRETRAINED_MODEL}\\n#     !mv {PRETRAINED_MODEL_NAME+'.tar.gz'} {paths['PRETRAINED_MODEL_PATH']}\\n#     !cd {paths['PRETRAINED_MODEL_PATH']} && tar -zxvf {PRETRAINED_MODEL_NAME+'.tar.gz'}\\n# if os.name == \\\"nt\\\":\\n#     wget.download(PRETRAINED_MODEL)\\n#     !move {PRETRAINED_MODEL_NAME+'.tar.gz'} {paths['PRETRAINED_MODEL_PATH']}\\n#     !cd {paths['PRETRAINED_MODEL_PATH']} && tar -zxvf {PRETRAINED_MODEL_NAME+'.tar.gz'}\";\n",
       "                var nbb_formatted_code = \"# if os.name == \\\"posix\\\":\\n#     !wget {PRETRAINED_MODEL}\\n#     !mv {PRETRAINED_MODEL_NAME+'.tar.gz'} {paths['PRETRAINED_MODEL_PATH']}\\n#     !cd {paths['PRETRAINED_MODEL_PATH']} && tar -zxvf {PRETRAINED_MODEL_NAME+'.tar.gz'}\\n# if os.name == \\\"nt\\\":\\n#     wget.download(PRETRAINED_MODEL)\\n#     !move {PRETRAINED_MODEL_NAME+'.tar.gz'} {paths['PRETRAINED_MODEL_PATH']}\\n#     !cd {paths['PRETRAINED_MODEL_PATH']} && tar -zxvf {PRETRAINED_MODEL_NAME+'.tar.gz'}\";\n",
       "                var nbb_cells = Jupyter.notebook.get_cells();\n",
       "                for (var i = 0; i < nbb_cells.length; ++i) {\n",
       "                    if (nbb_cells[i].input_prompt_number == nbb_cell_id) {\n",
       "                        if (nbb_cells[i].get_text() == nbb_unformatted_code) {\n",
       "                             nbb_cells[i].set_text(nbb_formatted_code);\n",
       "                        }\n",
       "                        break;\n",
       "                    }\n",
       "                }\n",
       "            }, 500);\n",
       "            "
      ],
      "text/plain": [
       "<IPython.core.display.Javascript object>"
      ]
     },
     "metadata": {},
     "output_type": "display_data"
    },
    {
     "data": {
      "application/javascript": [
       "\n",
       "            setTimeout(function() {\n",
       "                var nbb_cell_id = 220;\n",
       "                var nbb_unformatted_code = \"# if os.name == \\\"posix\\\":\\n#     !wget {PRETRAINED_MODEL}\\n#     !mv {PRETRAINED_MODEL_NAME+'.tar.gz'} {paths['PRETRAINED_MODEL_PATH']}\\n#     !cd {paths['PRETRAINED_MODEL_PATH']} && tar -zxvf {PRETRAINED_MODEL_NAME+'.tar.gz'}\\n# if os.name == \\\"nt\\\":\\n#     wget.download(PRETRAINED_MODEL)\\n#     !move {PRETRAINED_MODEL_NAME+'.tar.gz'} {paths['PRETRAINED_MODEL_PATH']}\\n#     !cd {paths['PRETRAINED_MODEL_PATH']} && tar -zxvf {PRETRAINED_MODEL_NAME+'.tar.gz'}\";\n",
       "                var nbb_formatted_code = \"# if os.name == \\\"posix\\\":\\n#     !wget {PRETRAINED_MODEL}\\n#     !mv {PRETRAINED_MODEL_NAME+'.tar.gz'} {paths['PRETRAINED_MODEL_PATH']}\\n#     !cd {paths['PRETRAINED_MODEL_PATH']} && tar -zxvf {PRETRAINED_MODEL_NAME+'.tar.gz'}\\n# if os.name == \\\"nt\\\":\\n#     wget.download(PRETRAINED_MODEL)\\n#     !move {PRETRAINED_MODEL_NAME+'.tar.gz'} {paths['PRETRAINED_MODEL_PATH']}\\n#     !cd {paths['PRETRAINED_MODEL_PATH']} && tar -zxvf {PRETRAINED_MODEL_NAME+'.tar.gz'}\";\n",
       "                var nbb_cells = Jupyter.notebook.get_cells();\n",
       "                for (var i = 0; i < nbb_cells.length; ++i) {\n",
       "                    if (nbb_cells[i].input_prompt_number == nbb_cell_id) {\n",
       "                        if (nbb_cells[i].get_text() == nbb_unformatted_code) {\n",
       "                             nbb_cells[i].set_text(nbb_formatted_code);\n",
       "                        }\n",
       "                        break;\n",
       "                    }\n",
       "                }\n",
       "            }, 500);\n",
       "            "
      ],
      "text/plain": [
       "<IPython.core.display.Javascript object>"
      ]
     },
     "metadata": {},
     "output_type": "display_data"
    },
    {
     "data": {
      "application/javascript": [
       "\n",
       "            setTimeout(function() {\n",
       "                var nbb_cell_id = 220;\n",
       "                var nbb_unformatted_code = \"# if os.name == \\\"posix\\\":\\n#     !wget {PRETRAINED_MODEL}\\n#     !mv {PRETRAINED_MODEL_NAME+'.tar.gz'} {paths['PRETRAINED_MODEL_PATH']}\\n#     !cd {paths['PRETRAINED_MODEL_PATH']} && tar -zxvf {PRETRAINED_MODEL_NAME+'.tar.gz'}\\n# if os.name == \\\"nt\\\":\\n#     wget.download(PRETRAINED_MODEL)\\n#     !move {PRETRAINED_MODEL_NAME+'.tar.gz'} {paths['PRETRAINED_MODEL_PATH']}\\n#     !cd {paths['PRETRAINED_MODEL_PATH']} && tar -zxvf {PRETRAINED_MODEL_NAME+'.tar.gz'}\";\n",
       "                var nbb_formatted_code = \"# if os.name == \\\"posix\\\":\\n#     !wget {PRETRAINED_MODEL}\\n#     !mv {PRETRAINED_MODEL_NAME+'.tar.gz'} {paths['PRETRAINED_MODEL_PATH']}\\n#     !cd {paths['PRETRAINED_MODEL_PATH']} && tar -zxvf {PRETRAINED_MODEL_NAME+'.tar.gz'}\\n# if os.name == \\\"nt\\\":\\n#     wget.download(PRETRAINED_MODEL)\\n#     !move {PRETRAINED_MODEL_NAME+'.tar.gz'} {paths['PRETRAINED_MODEL_PATH']}\\n#     !cd {paths['PRETRAINED_MODEL_PATH']} && tar -zxvf {PRETRAINED_MODEL_NAME+'.tar.gz'}\";\n",
       "                var nbb_cells = Jupyter.notebook.get_cells();\n",
       "                for (var i = 0; i < nbb_cells.length; ++i) {\n",
       "                    if (nbb_cells[i].input_prompt_number == nbb_cell_id) {\n",
       "                        if (nbb_cells[i].get_text() == nbb_unformatted_code) {\n",
       "                             nbb_cells[i].set_text(nbb_formatted_code);\n",
       "                        }\n",
       "                        break;\n",
       "                    }\n",
       "                }\n",
       "            }, 500);\n",
       "            "
      ],
      "text/plain": [
       "<IPython.core.display.Javascript object>"
      ]
     },
     "metadata": {},
     "output_type": "display_data"
    },
    {
     "data": {
      "application/javascript": [
       "\n",
       "            setTimeout(function() {\n",
       "                var nbb_cell_id = 220;\n",
       "                var nbb_unformatted_code = \"# if os.name == \\\"posix\\\":\\n#     !wget {PRETRAINED_MODEL}\\n#     !mv {PRETRAINED_MODEL_NAME+'.tar.gz'} {paths['PRETRAINED_MODEL_PATH']}\\n#     !cd {paths['PRETRAINED_MODEL_PATH']} && tar -zxvf {PRETRAINED_MODEL_NAME+'.tar.gz'}\\n# if os.name == \\\"nt\\\":\\n#     wget.download(PRETRAINED_MODEL)\\n#     !move {PRETRAINED_MODEL_NAME+'.tar.gz'} {paths['PRETRAINED_MODEL_PATH']}\\n#     !cd {paths['PRETRAINED_MODEL_PATH']} && tar -zxvf {PRETRAINED_MODEL_NAME+'.tar.gz'}\";\n",
       "                var nbb_formatted_code = \"# if os.name == \\\"posix\\\":\\n#     !wget {PRETRAINED_MODEL}\\n#     !mv {PRETRAINED_MODEL_NAME+'.tar.gz'} {paths['PRETRAINED_MODEL_PATH']}\\n#     !cd {paths['PRETRAINED_MODEL_PATH']} && tar -zxvf {PRETRAINED_MODEL_NAME+'.tar.gz'}\\n# if os.name == \\\"nt\\\":\\n#     wget.download(PRETRAINED_MODEL)\\n#     !move {PRETRAINED_MODEL_NAME+'.tar.gz'} {paths['PRETRAINED_MODEL_PATH']}\\n#     !cd {paths['PRETRAINED_MODEL_PATH']} && tar -zxvf {PRETRAINED_MODEL_NAME+'.tar.gz'}\";\n",
       "                var nbb_cells = Jupyter.notebook.get_cells();\n",
       "                for (var i = 0; i < nbb_cells.length; ++i) {\n",
       "                    if (nbb_cells[i].input_prompt_number == nbb_cell_id) {\n",
       "                        if (nbb_cells[i].get_text() == nbb_unformatted_code) {\n",
       "                             nbb_cells[i].set_text(nbb_formatted_code);\n",
       "                        }\n",
       "                        break;\n",
       "                    }\n",
       "                }\n",
       "            }, 500);\n",
       "            "
      ],
      "text/plain": [
       "<IPython.core.display.Javascript object>"
      ]
     },
     "metadata": {},
     "output_type": "display_data"
    },
    {
     "data": {
      "application/javascript": [
       "\n",
       "            setTimeout(function() {\n",
       "                var nbb_cell_id = 220;\n",
       "                var nbb_unformatted_code = \"# if os.name == \\\"posix\\\":\\n#     !wget {PRETRAINED_MODEL}\\n#     !mv {PRETRAINED_MODEL_NAME+'.tar.gz'} {paths['PRETRAINED_MODEL_PATH']}\\n#     !cd {paths['PRETRAINED_MODEL_PATH']} && tar -zxvf {PRETRAINED_MODEL_NAME+'.tar.gz'}\\n# if os.name == \\\"nt\\\":\\n#     wget.download(PRETRAINED_MODEL)\\n#     !move {PRETRAINED_MODEL_NAME+'.tar.gz'} {paths['PRETRAINED_MODEL_PATH']}\\n#     !cd {paths['PRETRAINED_MODEL_PATH']} && tar -zxvf {PRETRAINED_MODEL_NAME+'.tar.gz'}\";\n",
       "                var nbb_formatted_code = \"# if os.name == \\\"posix\\\":\\n#     !wget {PRETRAINED_MODEL}\\n#     !mv {PRETRAINED_MODEL_NAME+'.tar.gz'} {paths['PRETRAINED_MODEL_PATH']}\\n#     !cd {paths['PRETRAINED_MODEL_PATH']} && tar -zxvf {PRETRAINED_MODEL_NAME+'.tar.gz'}\\n# if os.name == \\\"nt\\\":\\n#     wget.download(PRETRAINED_MODEL)\\n#     !move {PRETRAINED_MODEL_NAME+'.tar.gz'} {paths['PRETRAINED_MODEL_PATH']}\\n#     !cd {paths['PRETRAINED_MODEL_PATH']} && tar -zxvf {PRETRAINED_MODEL_NAME+'.tar.gz'}\";\n",
       "                var nbb_cells = Jupyter.notebook.get_cells();\n",
       "                for (var i = 0; i < nbb_cells.length; ++i) {\n",
       "                    if (nbb_cells[i].input_prompt_number == nbb_cell_id) {\n",
       "                        if (nbb_cells[i].get_text() == nbb_unformatted_code) {\n",
       "                             nbb_cells[i].set_text(nbb_formatted_code);\n",
       "                        }\n",
       "                        break;\n",
       "                    }\n",
       "                }\n",
       "            }, 500);\n",
       "            "
      ],
      "text/plain": [
       "<IPython.core.display.Javascript object>"
      ]
     },
     "metadata": {},
     "output_type": "display_data"
    },
    {
     "data": {
      "application/javascript": [
       "\n",
       "            setTimeout(function() {\n",
       "                var nbb_cell_id = 220;\n",
       "                var nbb_unformatted_code = \"# if os.name == \\\"posix\\\":\\n#     !wget {PRETRAINED_MODEL}\\n#     !mv {PRETRAINED_MODEL_NAME+'.tar.gz'} {paths['PRETRAINED_MODEL_PATH']}\\n#     !cd {paths['PRETRAINED_MODEL_PATH']} && tar -zxvf {PRETRAINED_MODEL_NAME+'.tar.gz'}\\n# if os.name == \\\"nt\\\":\\n#     wget.download(PRETRAINED_MODEL)\\n#     !move {PRETRAINED_MODEL_NAME+'.tar.gz'} {paths['PRETRAINED_MODEL_PATH']}\\n#     !cd {paths['PRETRAINED_MODEL_PATH']} && tar -zxvf {PRETRAINED_MODEL_NAME+'.tar.gz'}\";\n",
       "                var nbb_formatted_code = \"# if os.name == \\\"posix\\\":\\n#     !wget {PRETRAINED_MODEL}\\n#     !mv {PRETRAINED_MODEL_NAME+'.tar.gz'} {paths['PRETRAINED_MODEL_PATH']}\\n#     !cd {paths['PRETRAINED_MODEL_PATH']} && tar -zxvf {PRETRAINED_MODEL_NAME+'.tar.gz'}\\n# if os.name == \\\"nt\\\":\\n#     wget.download(PRETRAINED_MODEL)\\n#     !move {PRETRAINED_MODEL_NAME+'.tar.gz'} {paths['PRETRAINED_MODEL_PATH']}\\n#     !cd {paths['PRETRAINED_MODEL_PATH']} && tar -zxvf {PRETRAINED_MODEL_NAME+'.tar.gz'}\";\n",
       "                var nbb_cells = Jupyter.notebook.get_cells();\n",
       "                for (var i = 0; i < nbb_cells.length; ++i) {\n",
       "                    if (nbb_cells[i].input_prompt_number == nbb_cell_id) {\n",
       "                        if (nbb_cells[i].get_text() == nbb_unformatted_code) {\n",
       "                             nbb_cells[i].set_text(nbb_formatted_code);\n",
       "                        }\n",
       "                        break;\n",
       "                    }\n",
       "                }\n",
       "            }, 500);\n",
       "            "
      ],
      "text/plain": [
       "<IPython.core.display.Javascript object>"
      ]
     },
     "metadata": {},
     "output_type": "display_data"
    },
    {
     "data": {
      "application/javascript": [
       "\n",
       "            setTimeout(function() {\n",
       "                var nbb_cell_id = 220;\n",
       "                var nbb_unformatted_code = \"# if os.name == \\\"posix\\\":\\n#     !wget {PRETRAINED_MODEL}\\n#     !mv {PRETRAINED_MODEL_NAME+'.tar.gz'} {paths['PRETRAINED_MODEL_PATH']}\\n#     !cd {paths['PRETRAINED_MODEL_PATH']} && tar -zxvf {PRETRAINED_MODEL_NAME+'.tar.gz'}\\n# if os.name == \\\"nt\\\":\\n#     wget.download(PRETRAINED_MODEL)\\n#     !move {PRETRAINED_MODEL_NAME+'.tar.gz'} {paths['PRETRAINED_MODEL_PATH']}\\n#     !cd {paths['PRETRAINED_MODEL_PATH']} && tar -zxvf {PRETRAINED_MODEL_NAME+'.tar.gz'}\";\n",
       "                var nbb_formatted_code = \"# if os.name == \\\"posix\\\":\\n#     !wget {PRETRAINED_MODEL}\\n#     !mv {PRETRAINED_MODEL_NAME+'.tar.gz'} {paths['PRETRAINED_MODEL_PATH']}\\n#     !cd {paths['PRETRAINED_MODEL_PATH']} && tar -zxvf {PRETRAINED_MODEL_NAME+'.tar.gz'}\\n# if os.name == \\\"nt\\\":\\n#     wget.download(PRETRAINED_MODEL)\\n#     !move {PRETRAINED_MODEL_NAME+'.tar.gz'} {paths['PRETRAINED_MODEL_PATH']}\\n#     !cd {paths['PRETRAINED_MODEL_PATH']} && tar -zxvf {PRETRAINED_MODEL_NAME+'.tar.gz'}\";\n",
       "                var nbb_cells = Jupyter.notebook.get_cells();\n",
       "                for (var i = 0; i < nbb_cells.length; ++i) {\n",
       "                    if (nbb_cells[i].input_prompt_number == nbb_cell_id) {\n",
       "                        if (nbb_cells[i].get_text() == nbb_unformatted_code) {\n",
       "                             nbb_cells[i].set_text(nbb_formatted_code);\n",
       "                        }\n",
       "                        break;\n",
       "                    }\n",
       "                }\n",
       "            }, 500);\n",
       "            "
      ],
      "text/plain": [
       "<IPython.core.display.Javascript object>"
      ]
     },
     "metadata": {},
     "output_type": "display_data"
    },
    {
     "data": {
      "application/javascript": [
       "\n",
       "            setTimeout(function() {\n",
       "                var nbb_cell_id = 220;\n",
       "                var nbb_unformatted_code = \"# if os.name == \\\"posix\\\":\\n#     !wget {PRETRAINED_MODEL}\\n#     !mv {PRETRAINED_MODEL_NAME+'.tar.gz'} {paths['PRETRAINED_MODEL_PATH']}\\n#     !cd {paths['PRETRAINED_MODEL_PATH']} && tar -zxvf {PRETRAINED_MODEL_NAME+'.tar.gz'}\\n# if os.name == \\\"nt\\\":\\n#     wget.download(PRETRAINED_MODEL)\\n#     !move {PRETRAINED_MODEL_NAME+'.tar.gz'} {paths['PRETRAINED_MODEL_PATH']}\\n#     !cd {paths['PRETRAINED_MODEL_PATH']} && tar -zxvf {PRETRAINED_MODEL_NAME+'.tar.gz'}\";\n",
       "                var nbb_formatted_code = \"# if os.name == \\\"posix\\\":\\n#     !wget {PRETRAINED_MODEL}\\n#     !mv {PRETRAINED_MODEL_NAME+'.tar.gz'} {paths['PRETRAINED_MODEL_PATH']}\\n#     !cd {paths['PRETRAINED_MODEL_PATH']} && tar -zxvf {PRETRAINED_MODEL_NAME+'.tar.gz'}\\n# if os.name == \\\"nt\\\":\\n#     wget.download(PRETRAINED_MODEL)\\n#     !move {PRETRAINED_MODEL_NAME+'.tar.gz'} {paths['PRETRAINED_MODEL_PATH']}\\n#     !cd {paths['PRETRAINED_MODEL_PATH']} && tar -zxvf {PRETRAINED_MODEL_NAME+'.tar.gz'}\";\n",
       "                var nbb_cells = Jupyter.notebook.get_cells();\n",
       "                for (var i = 0; i < nbb_cells.length; ++i) {\n",
       "                    if (nbb_cells[i].input_prompt_number == nbb_cell_id) {\n",
       "                        if (nbb_cells[i].get_text() == nbb_unformatted_code) {\n",
       "                             nbb_cells[i].set_text(nbb_formatted_code);\n",
       "                        }\n",
       "                        break;\n",
       "                    }\n",
       "                }\n",
       "            }, 500);\n",
       "            "
      ],
      "text/plain": [
       "<IPython.core.display.Javascript object>"
      ]
     },
     "metadata": {},
     "output_type": "display_data"
    },
    {
     "data": {
      "application/javascript": [
       "\n",
       "            setTimeout(function() {\n",
       "                var nbb_cell_id = 220;\n",
       "                var nbb_unformatted_code = \"# if os.name == \\\"posix\\\":\\n#     !wget {PRETRAINED_MODEL}\\n#     !mv {PRETRAINED_MODEL_NAME+'.tar.gz'} {paths['PRETRAINED_MODEL_PATH']}\\n#     !cd {paths['PRETRAINED_MODEL_PATH']} && tar -zxvf {PRETRAINED_MODEL_NAME+'.tar.gz'}\\n# if os.name == \\\"nt\\\":\\n#     wget.download(PRETRAINED_MODEL)\\n#     !move {PRETRAINED_MODEL_NAME+'.tar.gz'} {paths['PRETRAINED_MODEL_PATH']}\\n#     !cd {paths['PRETRAINED_MODEL_PATH']} && tar -zxvf {PRETRAINED_MODEL_NAME+'.tar.gz'}\";\n",
       "                var nbb_formatted_code = \"# if os.name == \\\"posix\\\":\\n#     !wget {PRETRAINED_MODEL}\\n#     !mv {PRETRAINED_MODEL_NAME+'.tar.gz'} {paths['PRETRAINED_MODEL_PATH']}\\n#     !cd {paths['PRETRAINED_MODEL_PATH']} && tar -zxvf {PRETRAINED_MODEL_NAME+'.tar.gz'}\\n# if os.name == \\\"nt\\\":\\n#     wget.download(PRETRAINED_MODEL)\\n#     !move {PRETRAINED_MODEL_NAME+'.tar.gz'} {paths['PRETRAINED_MODEL_PATH']}\\n#     !cd {paths['PRETRAINED_MODEL_PATH']} && tar -zxvf {PRETRAINED_MODEL_NAME+'.tar.gz'}\";\n",
       "                var nbb_cells = Jupyter.notebook.get_cells();\n",
       "                for (var i = 0; i < nbb_cells.length; ++i) {\n",
       "                    if (nbb_cells[i].input_prompt_number == nbb_cell_id) {\n",
       "                        if (nbb_cells[i].get_text() == nbb_unformatted_code) {\n",
       "                             nbb_cells[i].set_text(nbb_formatted_code);\n",
       "                        }\n",
       "                        break;\n",
       "                    }\n",
       "                }\n",
       "            }, 500);\n",
       "            "
      ],
      "text/plain": [
       "<IPython.core.display.Javascript object>"
      ]
     },
     "metadata": {},
     "output_type": "display_data"
    },
    {
     "data": {
      "application/javascript": [
       "\n",
       "            setTimeout(function() {\n",
       "                var nbb_cell_id = 220;\n",
       "                var nbb_unformatted_code = \"# if os.name == \\\"posix\\\":\\n#     !wget {PRETRAINED_MODEL}\\n#     !mv {PRETRAINED_MODEL_NAME+'.tar.gz'} {paths['PRETRAINED_MODEL_PATH']}\\n#     !cd {paths['PRETRAINED_MODEL_PATH']} && tar -zxvf {PRETRAINED_MODEL_NAME+'.tar.gz'}\\n# if os.name == \\\"nt\\\":\\n#     wget.download(PRETRAINED_MODEL)\\n#     !move {PRETRAINED_MODEL_NAME+'.tar.gz'} {paths['PRETRAINED_MODEL_PATH']}\\n#     !cd {paths['PRETRAINED_MODEL_PATH']} && tar -zxvf {PRETRAINED_MODEL_NAME+'.tar.gz'}\";\n",
       "                var nbb_formatted_code = \"# if os.name == \\\"posix\\\":\\n#     !wget {PRETRAINED_MODEL}\\n#     !mv {PRETRAINED_MODEL_NAME+'.tar.gz'} {paths['PRETRAINED_MODEL_PATH']}\\n#     !cd {paths['PRETRAINED_MODEL_PATH']} && tar -zxvf {PRETRAINED_MODEL_NAME+'.tar.gz'}\\n# if os.name == \\\"nt\\\":\\n#     wget.download(PRETRAINED_MODEL)\\n#     !move {PRETRAINED_MODEL_NAME+'.tar.gz'} {paths['PRETRAINED_MODEL_PATH']}\\n#     !cd {paths['PRETRAINED_MODEL_PATH']} && tar -zxvf {PRETRAINED_MODEL_NAME+'.tar.gz'}\";\n",
       "                var nbb_cells = Jupyter.notebook.get_cells();\n",
       "                for (var i = 0; i < nbb_cells.length; ++i) {\n",
       "                    if (nbb_cells[i].input_prompt_number == nbb_cell_id) {\n",
       "                        if (nbb_cells[i].get_text() == nbb_unformatted_code) {\n",
       "                             nbb_cells[i].set_text(nbb_formatted_code);\n",
       "                        }\n",
       "                        break;\n",
       "                    }\n",
       "                }\n",
       "            }, 500);\n",
       "            "
      ],
      "text/plain": [
       "<IPython.core.display.Javascript object>"
      ]
     },
     "metadata": {},
     "output_type": "display_data"
    }
   ],
   "source": [
    "download_model = False\n",
    "if download_model and os.name == \"posix\":\n",
    "    !wget {PRETRAINED_MODEL}\n",
    "    !mv {PRETRAINED_MODEL_NAME+'.tar.gz'} {paths['PRETRAINED_MODEL_PATH']}\n",
    "    !cd {paths['PRETRAINED_MODEL_PATH']} && tar -zxvf {PRETRAINED_MODEL_NAME+'.tar.gz'}\n",
    "if download_model and os.name == \"nt\":\n",
    "    wget.download(PRETRAINED_MODEL)\n",
    "    !move {PRETRAINED_MODEL_NAME+'.tar.gz'} {paths['PRETRAINED_MODEL_PATH']}\n",
    "    !cd {paths['PRETRAINED_MODEL_PATH']} && tar -zxvf {PRETRAINED_MODEL_NAME+'.tar.gz'}"
   ]
  },
  {
   "cell_type": "code",
   "execution_count": 221,
   "id": "fc93b84f",
   "metadata": {},
   "outputs": [
    {
     "data": {
      "application/javascript": [
       "\n",
       "            setTimeout(function() {\n",
       "                var nbb_cell_id = 221;\n",
       "                var nbb_unformatted_code = \"# Install Tensorflow Object Detection\\nif current_os == \\\"Linux\\\":\\n    !apt-get install protobuf-compiler\\n    !cd {f'{paths['APIMODEL_PATH']}/models/research'} && protoc object_detection/protos/*.proto --python_out=. && cp object_detection/packages/tf2/setup.py . && python -m pip install {.}\\nif current_os == \\\"Windows\\\":\\n    url = \\\"https://github.com/protocolbuffers/protobuf/releases/download/v3.15.6/protoc-3.15.6-win64.zip\\\"\\n    wget.download(url)\\n    !move protoc-3.15.6-win64.zip {paths['PROTOC_PATH']}\\n    !cd {paths['PROTOC_PATH']} && tar -xf protoc-3.15.6-win64.zip\\n    os.environ[\\\"PATH\\\"] += os.pathsep + os.path.abspath(\\n        os.path.join(paths[\\\"PROTOC_PATH\\\"], \\\"bin\\\")\\n    )\\n    !cd Tensorflow/models/research && protoc object_detection/protos/*.proto --python_out=. && copy object_detection\\\\\\\\packages\\\\\\\\tf2\\\\\\\\setup.py setup.py && python setup.py build && python setup.py install\\n    !cd Tensorflow/models/research/slim && pip install -e {.}\\nif current_os == \\\"Darwin\\\":\\n    api_model = f'{paths[\\\"APIMODEL_PATH\\\"]}/models/research'\\n    #!brew install protobuf-compiler\\n    # !cd {api_model} && protoc object_detection/protos/*.proto --python_out=. && cp object_detection/packages/tf2/setup.py . && python -m pip install .\";\n",
       "                var nbb_formatted_code = \"# Install Tensorflow Object Detection\\nif current_os == \\\"Linux\\\":\\n    !apt-get install protobuf-compiler\\n    !cd {f'{paths['APIMODEL_PATH']}/models/research'} && protoc object_detection/protos/*.proto --python_out=. && cp object_detection/packages/tf2/setup.py . && python -m pip install {.}\\nif current_os == \\\"Windows\\\":\\n    url = \\\"https://github.com/protocolbuffers/protobuf/releases/download/v3.15.6/protoc-3.15.6-win64.zip\\\"\\n    wget.download(url)\\n    !move protoc-3.15.6-win64.zip {paths['PROTOC_PATH']}\\n    !cd {paths['PROTOC_PATH']} && tar -xf protoc-3.15.6-win64.zip\\n    os.environ[\\\"PATH\\\"] += os.pathsep + os.path.abspath(\\n        os.path.join(paths[\\\"PROTOC_PATH\\\"], \\\"bin\\\")\\n    )\\n    !cd Tensorflow/models/research && protoc object_detection/protos/*.proto --python_out=. && copy object_detection\\\\\\\\packages\\\\\\\\tf2\\\\\\\\setup.py setup.py && python setup.py build && python setup.py install\\n    !cd Tensorflow/models/research/slim && pip install -e {.}\\nif current_os == \\\"Darwin\\\":\\n    api_model = f'{paths[\\\"APIMODEL_PATH\\\"]}/models/research'\\n    #!brew install protobuf-compiler\\n    # !cd {api_model} && protoc object_detection/protos/*.proto --python_out=. && cp object_detection/packages/tf2/setup.py . && python -m pip install .\";\n",
       "                var nbb_cells = Jupyter.notebook.get_cells();\n",
       "                for (var i = 0; i < nbb_cells.length; ++i) {\n",
       "                    if (nbb_cells[i].input_prompt_number == nbb_cell_id) {\n",
       "                        if (nbb_cells[i].get_text() == nbb_unformatted_code) {\n",
       "                             nbb_cells[i].set_text(nbb_formatted_code);\n",
       "                        }\n",
       "                        break;\n",
       "                    }\n",
       "                }\n",
       "            }, 500);\n",
       "            "
      ],
      "text/plain": [
       "<IPython.core.display.Javascript object>"
      ]
     },
     "metadata": {},
     "output_type": "display_data"
    },
    {
     "data": {
      "application/javascript": [
       "\n",
       "            setTimeout(function() {\n",
       "                var nbb_cell_id = 221;\n",
       "                var nbb_unformatted_code = \"# Install Tensorflow Object Detection\\nif current_os == \\\"Linux\\\":\\n    !apt-get install protobuf-compiler\\n    !cd {f'{paths['APIMODEL_PATH']}/models/research'} && protoc object_detection/protos/*.proto --python_out=. && cp object_detection/packages/tf2/setup.py . && python -m pip install {.}\\nif current_os == \\\"Windows\\\":\\n    url = \\\"https://github.com/protocolbuffers/protobuf/releases/download/v3.15.6/protoc-3.15.6-win64.zip\\\"\\n    wget.download(url)\\n    !move protoc-3.15.6-win64.zip {paths['PROTOC_PATH']}\\n    !cd {paths['PROTOC_PATH']} && tar -xf protoc-3.15.6-win64.zip\\n    os.environ[\\\"PATH\\\"] += os.pathsep + os.path.abspath(\\n        os.path.join(paths[\\\"PROTOC_PATH\\\"], \\\"bin\\\")\\n    )\\n    !cd Tensorflow/models/research && protoc object_detection/protos/*.proto --python_out=. && copy object_detection\\\\\\\\packages\\\\\\\\tf2\\\\\\\\setup.py setup.py && python setup.py build && python setup.py install\\n    !cd Tensorflow/models/research/slim && pip install -e {.}\\nif current_os == \\\"Darwin\\\":\\n    api_model = f'{paths[\\\"APIMODEL_PATH\\\"]}/models/research'\\n    #!brew install protobuf-compiler\\n    # !cd {api_model} && protoc object_detection/protos/*.proto --python_out=. && cp object_detection/packages/tf2/setup.py . && python -m pip install .\";\n",
       "                var nbb_formatted_code = \"# Install Tensorflow Object Detection\\nif current_os == \\\"Linux\\\":\\n    !apt-get install protobuf-compiler\\n    !cd {f'{paths['APIMODEL_PATH']}/models/research'} && protoc object_detection/protos/*.proto --python_out=. && cp object_detection/packages/tf2/setup.py . && python -m pip install {.}\\nif current_os == \\\"Windows\\\":\\n    url = \\\"https://github.com/protocolbuffers/protobuf/releases/download/v3.15.6/protoc-3.15.6-win64.zip\\\"\\n    wget.download(url)\\n    !move protoc-3.15.6-win64.zip {paths['PROTOC_PATH']}\\n    !cd {paths['PROTOC_PATH']} && tar -xf protoc-3.15.6-win64.zip\\n    os.environ[\\\"PATH\\\"] += os.pathsep + os.path.abspath(\\n        os.path.join(paths[\\\"PROTOC_PATH\\\"], \\\"bin\\\")\\n    )\\n    !cd Tensorflow/models/research && protoc object_detection/protos/*.proto --python_out=. && copy object_detection\\\\\\\\packages\\\\\\\\tf2\\\\\\\\setup.py setup.py && python setup.py build && python setup.py install\\n    !cd Tensorflow/models/research/slim && pip install -e {.}\\nif current_os == \\\"Darwin\\\":\\n    api_model = f'{paths[\\\"APIMODEL_PATH\\\"]}/models/research'\\n    #!brew install protobuf-compiler\\n    # !cd {api_model} && protoc object_detection/protos/*.proto --python_out=. && cp object_detection/packages/tf2/setup.py . && python -m pip install .\";\n",
       "                var nbb_cells = Jupyter.notebook.get_cells();\n",
       "                for (var i = 0; i < nbb_cells.length; ++i) {\n",
       "                    if (nbb_cells[i].input_prompt_number == nbb_cell_id) {\n",
       "                        if (nbb_cells[i].get_text() == nbb_unformatted_code) {\n",
       "                             nbb_cells[i].set_text(nbb_formatted_code);\n",
       "                        }\n",
       "                        break;\n",
       "                    }\n",
       "                }\n",
       "            }, 500);\n",
       "            "
      ],
      "text/plain": [
       "<IPython.core.display.Javascript object>"
      ]
     },
     "metadata": {},
     "output_type": "display_data"
    },
    {
     "data": {
      "application/javascript": [
       "\n",
       "            setTimeout(function() {\n",
       "                var nbb_cell_id = 221;\n",
       "                var nbb_unformatted_code = \"# Install Tensorflow Object Detection\\nif current_os == \\\"Linux\\\":\\n    !apt-get install protobuf-compiler\\n    !cd {f'{paths['APIMODEL_PATH']}/models/research'} && protoc object_detection/protos/*.proto --python_out=. && cp object_detection/packages/tf2/setup.py . && python -m pip install {.}\\nif current_os == \\\"Windows\\\":\\n    url = \\\"https://github.com/protocolbuffers/protobuf/releases/download/v3.15.6/protoc-3.15.6-win64.zip\\\"\\n    wget.download(url)\\n    !move protoc-3.15.6-win64.zip {paths['PROTOC_PATH']}\\n    !cd {paths['PROTOC_PATH']} && tar -xf protoc-3.15.6-win64.zip\\n    os.environ[\\\"PATH\\\"] += os.pathsep + os.path.abspath(\\n        os.path.join(paths[\\\"PROTOC_PATH\\\"], \\\"bin\\\")\\n    )\\n    !cd Tensorflow/models/research && protoc object_detection/protos/*.proto --python_out=. && copy object_detection\\\\\\\\packages\\\\\\\\tf2\\\\\\\\setup.py setup.py && python setup.py build && python setup.py install\\n    !cd Tensorflow/models/research/slim && pip install -e {.}\\nif current_os == \\\"Darwin\\\":\\n    api_model = f'{paths[\\\"APIMODEL_PATH\\\"]}/models/research'\\n    #!brew install protobuf-compiler\\n    # !cd {api_model} && protoc object_detection/protos/*.proto --python_out=. && cp object_detection/packages/tf2/setup.py . && python -m pip install .\";\n",
       "                var nbb_formatted_code = \"# Install Tensorflow Object Detection\\nif current_os == \\\"Linux\\\":\\n    !apt-get install protobuf-compiler\\n    !cd {f'{paths['APIMODEL_PATH']}/models/research'} && protoc object_detection/protos/*.proto --python_out=. && cp object_detection/packages/tf2/setup.py . && python -m pip install {.}\\nif current_os == \\\"Windows\\\":\\n    url = \\\"https://github.com/protocolbuffers/protobuf/releases/download/v3.15.6/protoc-3.15.6-win64.zip\\\"\\n    wget.download(url)\\n    !move protoc-3.15.6-win64.zip {paths['PROTOC_PATH']}\\n    !cd {paths['PROTOC_PATH']} && tar -xf protoc-3.15.6-win64.zip\\n    os.environ[\\\"PATH\\\"] += os.pathsep + os.path.abspath(\\n        os.path.join(paths[\\\"PROTOC_PATH\\\"], \\\"bin\\\")\\n    )\\n    !cd Tensorflow/models/research && protoc object_detection/protos/*.proto --python_out=. && copy object_detection\\\\\\\\packages\\\\\\\\tf2\\\\\\\\setup.py setup.py && python setup.py build && python setup.py install\\n    !cd Tensorflow/models/research/slim && pip install -e {.}\\nif current_os == \\\"Darwin\\\":\\n    api_model = f'{paths[\\\"APIMODEL_PATH\\\"]}/models/research'\\n    #!brew install protobuf-compiler\\n    # !cd {api_model} && protoc object_detection/protos/*.proto --python_out=. && cp object_detection/packages/tf2/setup.py . && python -m pip install .\";\n",
       "                var nbb_cells = Jupyter.notebook.get_cells();\n",
       "                for (var i = 0; i < nbb_cells.length; ++i) {\n",
       "                    if (nbb_cells[i].input_prompt_number == nbb_cell_id) {\n",
       "                        if (nbb_cells[i].get_text() == nbb_unformatted_code) {\n",
       "                             nbb_cells[i].set_text(nbb_formatted_code);\n",
       "                        }\n",
       "                        break;\n",
       "                    }\n",
       "                }\n",
       "            }, 500);\n",
       "            "
      ],
      "text/plain": [
       "<IPython.core.display.Javascript object>"
      ]
     },
     "metadata": {},
     "output_type": "display_data"
    },
    {
     "data": {
      "application/javascript": [
       "\n",
       "            setTimeout(function() {\n",
       "                var nbb_cell_id = 221;\n",
       "                var nbb_unformatted_code = \"# Install Tensorflow Object Detection\\nif current_os == \\\"Linux\\\":\\n    !apt-get install protobuf-compiler\\n    !cd {f'{paths['APIMODEL_PATH']}/models/research'} && protoc object_detection/protos/*.proto --python_out=. && cp object_detection/packages/tf2/setup.py . && python -m pip install {.}\\nif current_os == \\\"Windows\\\":\\n    url = \\\"https://github.com/protocolbuffers/protobuf/releases/download/v3.15.6/protoc-3.15.6-win64.zip\\\"\\n    wget.download(url)\\n    !move protoc-3.15.6-win64.zip {paths['PROTOC_PATH']}\\n    !cd {paths['PROTOC_PATH']} && tar -xf protoc-3.15.6-win64.zip\\n    os.environ[\\\"PATH\\\"] += os.pathsep + os.path.abspath(\\n        os.path.join(paths[\\\"PROTOC_PATH\\\"], \\\"bin\\\")\\n    )\\n    !cd Tensorflow/models/research && protoc object_detection/protos/*.proto --python_out=. && copy object_detection\\\\\\\\packages\\\\\\\\tf2\\\\\\\\setup.py setup.py && python setup.py build && python setup.py install\\n    !cd Tensorflow/models/research/slim && pip install -e {.}\\nif current_os == \\\"Darwin\\\":\\n    api_model = f'{paths[\\\"APIMODEL_PATH\\\"]}/models/research'\\n    #!brew install protobuf-compiler\\n    # !cd {api_model} && protoc object_detection/protos/*.proto --python_out=. && cp object_detection/packages/tf2/setup.py . && python -m pip install .\";\n",
       "                var nbb_formatted_code = \"# Install Tensorflow Object Detection\\nif current_os == \\\"Linux\\\":\\n    !apt-get install protobuf-compiler\\n    !cd {f'{paths['APIMODEL_PATH']}/models/research'} && protoc object_detection/protos/*.proto --python_out=. && cp object_detection/packages/tf2/setup.py . && python -m pip install {.}\\nif current_os == \\\"Windows\\\":\\n    url = \\\"https://github.com/protocolbuffers/protobuf/releases/download/v3.15.6/protoc-3.15.6-win64.zip\\\"\\n    wget.download(url)\\n    !move protoc-3.15.6-win64.zip {paths['PROTOC_PATH']}\\n    !cd {paths['PROTOC_PATH']} && tar -xf protoc-3.15.6-win64.zip\\n    os.environ[\\\"PATH\\\"] += os.pathsep + os.path.abspath(\\n        os.path.join(paths[\\\"PROTOC_PATH\\\"], \\\"bin\\\")\\n    )\\n    !cd Tensorflow/models/research && protoc object_detection/protos/*.proto --python_out=. && copy object_detection\\\\\\\\packages\\\\\\\\tf2\\\\\\\\setup.py setup.py && python setup.py build && python setup.py install\\n    !cd Tensorflow/models/research/slim && pip install -e {.}\\nif current_os == \\\"Darwin\\\":\\n    api_model = f'{paths[\\\"APIMODEL_PATH\\\"]}/models/research'\\n    #!brew install protobuf-compiler\\n    # !cd {api_model} && protoc object_detection/protos/*.proto --python_out=. && cp object_detection/packages/tf2/setup.py . && python -m pip install .\";\n",
       "                var nbb_cells = Jupyter.notebook.get_cells();\n",
       "                for (var i = 0; i < nbb_cells.length; ++i) {\n",
       "                    if (nbb_cells[i].input_prompt_number == nbb_cell_id) {\n",
       "                        if (nbb_cells[i].get_text() == nbb_unformatted_code) {\n",
       "                             nbb_cells[i].set_text(nbb_formatted_code);\n",
       "                        }\n",
       "                        break;\n",
       "                    }\n",
       "                }\n",
       "            }, 500);\n",
       "            "
      ],
      "text/plain": [
       "<IPython.core.display.Javascript object>"
      ]
     },
     "metadata": {},
     "output_type": "display_data"
    },
    {
     "data": {
      "application/javascript": [
       "\n",
       "            setTimeout(function() {\n",
       "                var nbb_cell_id = 221;\n",
       "                var nbb_unformatted_code = \"# Install Tensorflow Object Detection\\nif current_os == \\\"Linux\\\":\\n    !apt-get install protobuf-compiler\\n    !cd {f'{paths['APIMODEL_PATH']}/models/research'} && protoc object_detection/protos/*.proto --python_out=. && cp object_detection/packages/tf2/setup.py . && python -m pip install {.}\\nif current_os == \\\"Windows\\\":\\n    url = \\\"https://github.com/protocolbuffers/protobuf/releases/download/v3.15.6/protoc-3.15.6-win64.zip\\\"\\n    wget.download(url)\\n    !move protoc-3.15.6-win64.zip {paths['PROTOC_PATH']}\\n    !cd {paths['PROTOC_PATH']} && tar -xf protoc-3.15.6-win64.zip\\n    os.environ[\\\"PATH\\\"] += os.pathsep + os.path.abspath(\\n        os.path.join(paths[\\\"PROTOC_PATH\\\"], \\\"bin\\\")\\n    )\\n    !cd Tensorflow/models/research && protoc object_detection/protos/*.proto --python_out=. && copy object_detection\\\\\\\\packages\\\\\\\\tf2\\\\\\\\setup.py setup.py && python setup.py build && python setup.py install\\n    !cd Tensorflow/models/research/slim && pip install -e {.}\\nif current_os == \\\"Darwin\\\":\\n    api_model = f'{paths[\\\"APIMODEL_PATH\\\"]}/models/research'\\n    #!brew install protobuf-compiler\\n    # !cd {api_model} && protoc object_detection/protos/*.proto --python_out=. && cp object_detection/packages/tf2/setup.py . && python -m pip install .\";\n",
       "                var nbb_formatted_code = \"# Install Tensorflow Object Detection\\nif current_os == \\\"Linux\\\":\\n    !apt-get install protobuf-compiler\\n    !cd {f'{paths['APIMODEL_PATH']}/models/research'} && protoc object_detection/protos/*.proto --python_out=. && cp object_detection/packages/tf2/setup.py . && python -m pip install {.}\\nif current_os == \\\"Windows\\\":\\n    url = \\\"https://github.com/protocolbuffers/protobuf/releases/download/v3.15.6/protoc-3.15.6-win64.zip\\\"\\n    wget.download(url)\\n    !move protoc-3.15.6-win64.zip {paths['PROTOC_PATH']}\\n    !cd {paths['PROTOC_PATH']} && tar -xf protoc-3.15.6-win64.zip\\n    os.environ[\\\"PATH\\\"] += os.pathsep + os.path.abspath(\\n        os.path.join(paths[\\\"PROTOC_PATH\\\"], \\\"bin\\\")\\n    )\\n    !cd Tensorflow/models/research && protoc object_detection/protos/*.proto --python_out=. && copy object_detection\\\\\\\\packages\\\\\\\\tf2\\\\\\\\setup.py setup.py && python setup.py build && python setup.py install\\n    !cd Tensorflow/models/research/slim && pip install -e {.}\\nif current_os == \\\"Darwin\\\":\\n    api_model = f'{paths[\\\"APIMODEL_PATH\\\"]}/models/research'\\n    #!brew install protobuf-compiler\\n    # !cd {api_model} && protoc object_detection/protos/*.proto --python_out=. && cp object_detection/packages/tf2/setup.py . && python -m pip install .\";\n",
       "                var nbb_cells = Jupyter.notebook.get_cells();\n",
       "                for (var i = 0; i < nbb_cells.length; ++i) {\n",
       "                    if (nbb_cells[i].input_prompt_number == nbb_cell_id) {\n",
       "                        if (nbb_cells[i].get_text() == nbb_unformatted_code) {\n",
       "                             nbb_cells[i].set_text(nbb_formatted_code);\n",
       "                        }\n",
       "                        break;\n",
       "                    }\n",
       "                }\n",
       "            }, 500);\n",
       "            "
      ],
      "text/plain": [
       "<IPython.core.display.Javascript object>"
      ]
     },
     "metadata": {},
     "output_type": "display_data"
    },
    {
     "data": {
      "application/javascript": [
       "\n",
       "            setTimeout(function() {\n",
       "                var nbb_cell_id = 221;\n",
       "                var nbb_unformatted_code = \"# Install Tensorflow Object Detection\\nif current_os == \\\"Linux\\\":\\n    !apt-get install protobuf-compiler\\n    !cd {f'{paths['APIMODEL_PATH']}/models/research'} && protoc object_detection/protos/*.proto --python_out=. && cp object_detection/packages/tf2/setup.py . && python -m pip install {.}\\nif current_os == \\\"Windows\\\":\\n    url = \\\"https://github.com/protocolbuffers/protobuf/releases/download/v3.15.6/protoc-3.15.6-win64.zip\\\"\\n    wget.download(url)\\n    !move protoc-3.15.6-win64.zip {paths['PROTOC_PATH']}\\n    !cd {paths['PROTOC_PATH']} && tar -xf protoc-3.15.6-win64.zip\\n    os.environ[\\\"PATH\\\"] += os.pathsep + os.path.abspath(\\n        os.path.join(paths[\\\"PROTOC_PATH\\\"], \\\"bin\\\")\\n    )\\n    !cd Tensorflow/models/research && protoc object_detection/protos/*.proto --python_out=. && copy object_detection\\\\\\\\packages\\\\\\\\tf2\\\\\\\\setup.py setup.py && python setup.py build && python setup.py install\\n    !cd Tensorflow/models/research/slim && pip install -e {.}\\nif current_os == \\\"Darwin\\\":\\n    api_model = f'{paths[\\\"APIMODEL_PATH\\\"]}/models/research'\\n    #!brew install protobuf-compiler\\n    # !cd {api_model} && protoc object_detection/protos/*.proto --python_out=. && cp object_detection/packages/tf2/setup.py . && python -m pip install .\";\n",
       "                var nbb_formatted_code = \"# Install Tensorflow Object Detection\\nif current_os == \\\"Linux\\\":\\n    !apt-get install protobuf-compiler\\n    !cd {f'{paths['APIMODEL_PATH']}/models/research'} && protoc object_detection/protos/*.proto --python_out=. && cp object_detection/packages/tf2/setup.py . && python -m pip install {.}\\nif current_os == \\\"Windows\\\":\\n    url = \\\"https://github.com/protocolbuffers/protobuf/releases/download/v3.15.6/protoc-3.15.6-win64.zip\\\"\\n    wget.download(url)\\n    !move protoc-3.15.6-win64.zip {paths['PROTOC_PATH']}\\n    !cd {paths['PROTOC_PATH']} && tar -xf protoc-3.15.6-win64.zip\\n    os.environ[\\\"PATH\\\"] += os.pathsep + os.path.abspath(\\n        os.path.join(paths[\\\"PROTOC_PATH\\\"], \\\"bin\\\")\\n    )\\n    !cd Tensorflow/models/research && protoc object_detection/protos/*.proto --python_out=. && copy object_detection\\\\\\\\packages\\\\\\\\tf2\\\\\\\\setup.py setup.py && python setup.py build && python setup.py install\\n    !cd Tensorflow/models/research/slim && pip install -e {.}\\nif current_os == \\\"Darwin\\\":\\n    api_model = f'{paths[\\\"APIMODEL_PATH\\\"]}/models/research'\\n    #!brew install protobuf-compiler\\n    # !cd {api_model} && protoc object_detection/protos/*.proto --python_out=. && cp object_detection/packages/tf2/setup.py . && python -m pip install .\";\n",
       "                var nbb_cells = Jupyter.notebook.get_cells();\n",
       "                for (var i = 0; i < nbb_cells.length; ++i) {\n",
       "                    if (nbb_cells[i].input_prompt_number == nbb_cell_id) {\n",
       "                        if (nbb_cells[i].get_text() == nbb_unformatted_code) {\n",
       "                             nbb_cells[i].set_text(nbb_formatted_code);\n",
       "                        }\n",
       "                        break;\n",
       "                    }\n",
       "                }\n",
       "            }, 500);\n",
       "            "
      ],
      "text/plain": [
       "<IPython.core.display.Javascript object>"
      ]
     },
     "metadata": {},
     "output_type": "display_data"
    },
    {
     "data": {
      "application/javascript": [
       "\n",
       "            setTimeout(function() {\n",
       "                var nbb_cell_id = 221;\n",
       "                var nbb_unformatted_code = \"# Install Tensorflow Object Detection\\nif current_os == \\\"Linux\\\":\\n    !apt-get install protobuf-compiler\\n    !cd {f'{paths['APIMODEL_PATH']}/models/research'} && protoc object_detection/protos/*.proto --python_out=. && cp object_detection/packages/tf2/setup.py . && python -m pip install {.}\\nif current_os == \\\"Windows\\\":\\n    url = \\\"https://github.com/protocolbuffers/protobuf/releases/download/v3.15.6/protoc-3.15.6-win64.zip\\\"\\n    wget.download(url)\\n    !move protoc-3.15.6-win64.zip {paths['PROTOC_PATH']}\\n    !cd {paths['PROTOC_PATH']} && tar -xf protoc-3.15.6-win64.zip\\n    os.environ[\\\"PATH\\\"] += os.pathsep + os.path.abspath(\\n        os.path.join(paths[\\\"PROTOC_PATH\\\"], \\\"bin\\\")\\n    )\\n    !cd Tensorflow/models/research && protoc object_detection/protos/*.proto --python_out=. && copy object_detection\\\\\\\\packages\\\\\\\\tf2\\\\\\\\setup.py setup.py && python setup.py build && python setup.py install\\n    !cd Tensorflow/models/research/slim && pip install -e {.}\\nif current_os == \\\"Darwin\\\":\\n    api_model = f'{paths[\\\"APIMODEL_PATH\\\"]}/models/research'\\n    #!brew install protobuf-compiler\\n    # !cd {api_model} && protoc object_detection/protos/*.proto --python_out=. && cp object_detection/packages/tf2/setup.py . && python -m pip install .\";\n",
       "                var nbb_formatted_code = \"# Install Tensorflow Object Detection\\nif current_os == \\\"Linux\\\":\\n    !apt-get install protobuf-compiler\\n    !cd {f'{paths['APIMODEL_PATH']}/models/research'} && protoc object_detection/protos/*.proto --python_out=. && cp object_detection/packages/tf2/setup.py . && python -m pip install {.}\\nif current_os == \\\"Windows\\\":\\n    url = \\\"https://github.com/protocolbuffers/protobuf/releases/download/v3.15.6/protoc-3.15.6-win64.zip\\\"\\n    wget.download(url)\\n    !move protoc-3.15.6-win64.zip {paths['PROTOC_PATH']}\\n    !cd {paths['PROTOC_PATH']} && tar -xf protoc-3.15.6-win64.zip\\n    os.environ[\\\"PATH\\\"] += os.pathsep + os.path.abspath(\\n        os.path.join(paths[\\\"PROTOC_PATH\\\"], \\\"bin\\\")\\n    )\\n    !cd Tensorflow/models/research && protoc object_detection/protos/*.proto --python_out=. && copy object_detection\\\\\\\\packages\\\\\\\\tf2\\\\\\\\setup.py setup.py && python setup.py build && python setup.py install\\n    !cd Tensorflow/models/research/slim && pip install -e {.}\\nif current_os == \\\"Darwin\\\":\\n    api_model = f'{paths[\\\"APIMODEL_PATH\\\"]}/models/research'\\n    #!brew install protobuf-compiler\\n    # !cd {api_model} && protoc object_detection/protos/*.proto --python_out=. && cp object_detection/packages/tf2/setup.py . && python -m pip install .\";\n",
       "                var nbb_cells = Jupyter.notebook.get_cells();\n",
       "                for (var i = 0; i < nbb_cells.length; ++i) {\n",
       "                    if (nbb_cells[i].input_prompt_number == nbb_cell_id) {\n",
       "                        if (nbb_cells[i].get_text() == nbb_unformatted_code) {\n",
       "                             nbb_cells[i].set_text(nbb_formatted_code);\n",
       "                        }\n",
       "                        break;\n",
       "                    }\n",
       "                }\n",
       "            }, 500);\n",
       "            "
      ],
      "text/plain": [
       "<IPython.core.display.Javascript object>"
      ]
     },
     "metadata": {},
     "output_type": "display_data"
    },
    {
     "data": {
      "application/javascript": [
       "\n",
       "            setTimeout(function() {\n",
       "                var nbb_cell_id = 221;\n",
       "                var nbb_unformatted_code = \"# Install Tensorflow Object Detection\\nif current_os == \\\"Linux\\\":\\n    !apt-get install protobuf-compiler\\n    !cd {f'{paths['APIMODEL_PATH']}/models/research'} && protoc object_detection/protos/*.proto --python_out=. && cp object_detection/packages/tf2/setup.py . && python -m pip install {.}\\nif current_os == \\\"Windows\\\":\\n    url = \\\"https://github.com/protocolbuffers/protobuf/releases/download/v3.15.6/protoc-3.15.6-win64.zip\\\"\\n    wget.download(url)\\n    !move protoc-3.15.6-win64.zip {paths['PROTOC_PATH']}\\n    !cd {paths['PROTOC_PATH']} && tar -xf protoc-3.15.6-win64.zip\\n    os.environ[\\\"PATH\\\"] += os.pathsep + os.path.abspath(\\n        os.path.join(paths[\\\"PROTOC_PATH\\\"], \\\"bin\\\")\\n    )\\n    !cd Tensorflow/models/research && protoc object_detection/protos/*.proto --python_out=. && copy object_detection\\\\\\\\packages\\\\\\\\tf2\\\\\\\\setup.py setup.py && python setup.py build && python setup.py install\\n    !cd Tensorflow/models/research/slim && pip install -e {.}\\nif current_os == \\\"Darwin\\\":\\n    api_model = f'{paths[\\\"APIMODEL_PATH\\\"]}/models/research'\\n    #!brew install protobuf-compiler\\n    # !cd {api_model} && protoc object_detection/protos/*.proto --python_out=. && cp object_detection/packages/tf2/setup.py . && python -m pip install .\";\n",
       "                var nbb_formatted_code = \"# Install Tensorflow Object Detection\\nif current_os == \\\"Linux\\\":\\n    !apt-get install protobuf-compiler\\n    !cd {f'{paths['APIMODEL_PATH']}/models/research'} && protoc object_detection/protos/*.proto --python_out=. && cp object_detection/packages/tf2/setup.py . && python -m pip install {.}\\nif current_os == \\\"Windows\\\":\\n    url = \\\"https://github.com/protocolbuffers/protobuf/releases/download/v3.15.6/protoc-3.15.6-win64.zip\\\"\\n    wget.download(url)\\n    !move protoc-3.15.6-win64.zip {paths['PROTOC_PATH']}\\n    !cd {paths['PROTOC_PATH']} && tar -xf protoc-3.15.6-win64.zip\\n    os.environ[\\\"PATH\\\"] += os.pathsep + os.path.abspath(\\n        os.path.join(paths[\\\"PROTOC_PATH\\\"], \\\"bin\\\")\\n    )\\n    !cd Tensorflow/models/research && protoc object_detection/protos/*.proto --python_out=. && copy object_detection\\\\\\\\packages\\\\\\\\tf2\\\\\\\\setup.py setup.py && python setup.py build && python setup.py install\\n    !cd Tensorflow/models/research/slim && pip install -e {.}\\nif current_os == \\\"Darwin\\\":\\n    api_model = f'{paths[\\\"APIMODEL_PATH\\\"]}/models/research'\\n    #!brew install protobuf-compiler\\n    # !cd {api_model} && protoc object_detection/protos/*.proto --python_out=. && cp object_detection/packages/tf2/setup.py . && python -m pip install .\";\n",
       "                var nbb_cells = Jupyter.notebook.get_cells();\n",
       "                for (var i = 0; i < nbb_cells.length; ++i) {\n",
       "                    if (nbb_cells[i].input_prompt_number == nbb_cell_id) {\n",
       "                        if (nbb_cells[i].get_text() == nbb_unformatted_code) {\n",
       "                             nbb_cells[i].set_text(nbb_formatted_code);\n",
       "                        }\n",
       "                        break;\n",
       "                    }\n",
       "                }\n",
       "            }, 500);\n",
       "            "
      ],
      "text/plain": [
       "<IPython.core.display.Javascript object>"
      ]
     },
     "metadata": {},
     "output_type": "display_data"
    },
    {
     "data": {
      "application/javascript": [
       "\n",
       "            setTimeout(function() {\n",
       "                var nbb_cell_id = 221;\n",
       "                var nbb_unformatted_code = \"# Install Tensorflow Object Detection\\nif current_os == \\\"Linux\\\":\\n    !apt-get install protobuf-compiler\\n    !cd {f'{paths['APIMODEL_PATH']}/models/research'} && protoc object_detection/protos/*.proto --python_out=. && cp object_detection/packages/tf2/setup.py . && python -m pip install {.}\\nif current_os == \\\"Windows\\\":\\n    url = \\\"https://github.com/protocolbuffers/protobuf/releases/download/v3.15.6/protoc-3.15.6-win64.zip\\\"\\n    wget.download(url)\\n    !move protoc-3.15.6-win64.zip {paths['PROTOC_PATH']}\\n    !cd {paths['PROTOC_PATH']} && tar -xf protoc-3.15.6-win64.zip\\n    os.environ[\\\"PATH\\\"] += os.pathsep + os.path.abspath(\\n        os.path.join(paths[\\\"PROTOC_PATH\\\"], \\\"bin\\\")\\n    )\\n    !cd Tensorflow/models/research && protoc object_detection/protos/*.proto --python_out=. && copy object_detection\\\\\\\\packages\\\\\\\\tf2\\\\\\\\setup.py setup.py && python setup.py build && python setup.py install\\n    !cd Tensorflow/models/research/slim && pip install -e {.}\\nif current_os == \\\"Darwin\\\":\\n    api_model = f'{paths[\\\"APIMODEL_PATH\\\"]}/models/research'\\n    #!brew install protobuf-compiler\\n    # !cd {api_model} && protoc object_detection/protos/*.proto --python_out=. && cp object_detection/packages/tf2/setup.py . && python -m pip install .\";\n",
       "                var nbb_formatted_code = \"# Install Tensorflow Object Detection\\nif current_os == \\\"Linux\\\":\\n    !apt-get install protobuf-compiler\\n    !cd {f'{paths['APIMODEL_PATH']}/models/research'} && protoc object_detection/protos/*.proto --python_out=. && cp object_detection/packages/tf2/setup.py . && python -m pip install {.}\\nif current_os == \\\"Windows\\\":\\n    url = \\\"https://github.com/protocolbuffers/protobuf/releases/download/v3.15.6/protoc-3.15.6-win64.zip\\\"\\n    wget.download(url)\\n    !move protoc-3.15.6-win64.zip {paths['PROTOC_PATH']}\\n    !cd {paths['PROTOC_PATH']} && tar -xf protoc-3.15.6-win64.zip\\n    os.environ[\\\"PATH\\\"] += os.pathsep + os.path.abspath(\\n        os.path.join(paths[\\\"PROTOC_PATH\\\"], \\\"bin\\\")\\n    )\\n    !cd Tensorflow/models/research && protoc object_detection/protos/*.proto --python_out=. && copy object_detection\\\\\\\\packages\\\\\\\\tf2\\\\\\\\setup.py setup.py && python setup.py build && python setup.py install\\n    !cd Tensorflow/models/research/slim && pip install -e {.}\\nif current_os == \\\"Darwin\\\":\\n    api_model = f'{paths[\\\"APIMODEL_PATH\\\"]}/models/research'\\n    #!brew install protobuf-compiler\\n    # !cd {api_model} && protoc object_detection/protos/*.proto --python_out=. && cp object_detection/packages/tf2/setup.py . && python -m pip install .\";\n",
       "                var nbb_cells = Jupyter.notebook.get_cells();\n",
       "                for (var i = 0; i < nbb_cells.length; ++i) {\n",
       "                    if (nbb_cells[i].input_prompt_number == nbb_cell_id) {\n",
       "                        if (nbb_cells[i].get_text() == nbb_unformatted_code) {\n",
       "                             nbb_cells[i].set_text(nbb_formatted_code);\n",
       "                        }\n",
       "                        break;\n",
       "                    }\n",
       "                }\n",
       "            }, 500);\n",
       "            "
      ],
      "text/plain": [
       "<IPython.core.display.Javascript object>"
      ]
     },
     "metadata": {},
     "output_type": "display_data"
    },
    {
     "data": {
      "application/javascript": [
       "\n",
       "            setTimeout(function() {\n",
       "                var nbb_cell_id = 221;\n",
       "                var nbb_unformatted_code = \"# Install Tensorflow Object Detection\\nif current_os == \\\"Linux\\\":\\n    !apt-get install protobuf-compiler\\n    !cd {f'{paths['APIMODEL_PATH']}/models/research'} && protoc object_detection/protos/*.proto --python_out=. && cp object_detection/packages/tf2/setup.py . && python -m pip install {.}\\nif current_os == \\\"Windows\\\":\\n    url = \\\"https://github.com/protocolbuffers/protobuf/releases/download/v3.15.6/protoc-3.15.6-win64.zip\\\"\\n    wget.download(url)\\n    !move protoc-3.15.6-win64.zip {paths['PROTOC_PATH']}\\n    !cd {paths['PROTOC_PATH']} && tar -xf protoc-3.15.6-win64.zip\\n    os.environ[\\\"PATH\\\"] += os.pathsep + os.path.abspath(\\n        os.path.join(paths[\\\"PROTOC_PATH\\\"], \\\"bin\\\")\\n    )\\n    !cd Tensorflow/models/research && protoc object_detection/protos/*.proto --python_out=. && copy object_detection\\\\\\\\packages\\\\\\\\tf2\\\\\\\\setup.py setup.py && python setup.py build && python setup.py install\\n    !cd Tensorflow/models/research/slim && pip install -e {.}\\nif current_os == \\\"Darwin\\\":\\n    api_model = f'{paths[\\\"APIMODEL_PATH\\\"]}/models/research'\\n    #!brew install protobuf-compiler\\n    # !cd {api_model} && protoc object_detection/protos/*.proto --python_out=. && cp object_detection/packages/tf2/setup.py . && python -m pip install .\";\n",
       "                var nbb_formatted_code = \"# Install Tensorflow Object Detection\\nif current_os == \\\"Linux\\\":\\n    !apt-get install protobuf-compiler\\n    !cd {f'{paths['APIMODEL_PATH']}/models/research'} && protoc object_detection/protos/*.proto --python_out=. && cp object_detection/packages/tf2/setup.py . && python -m pip install {.}\\nif current_os == \\\"Windows\\\":\\n    url = \\\"https://github.com/protocolbuffers/protobuf/releases/download/v3.15.6/protoc-3.15.6-win64.zip\\\"\\n    wget.download(url)\\n    !move protoc-3.15.6-win64.zip {paths['PROTOC_PATH']}\\n    !cd {paths['PROTOC_PATH']} && tar -xf protoc-3.15.6-win64.zip\\n    os.environ[\\\"PATH\\\"] += os.pathsep + os.path.abspath(\\n        os.path.join(paths[\\\"PROTOC_PATH\\\"], \\\"bin\\\")\\n    )\\n    !cd Tensorflow/models/research && protoc object_detection/protos/*.proto --python_out=. && copy object_detection\\\\\\\\packages\\\\\\\\tf2\\\\\\\\setup.py setup.py && python setup.py build && python setup.py install\\n    !cd Tensorflow/models/research/slim && pip install -e {.}\\nif current_os == \\\"Darwin\\\":\\n    api_model = f'{paths[\\\"APIMODEL_PATH\\\"]}/models/research'\\n    #!brew install protobuf-compiler\\n    # !cd {api_model} && protoc object_detection/protos/*.proto --python_out=. && cp object_detection/packages/tf2/setup.py . && python -m pip install .\";\n",
       "                var nbb_cells = Jupyter.notebook.get_cells();\n",
       "                for (var i = 0; i < nbb_cells.length; ++i) {\n",
       "                    if (nbb_cells[i].input_prompt_number == nbb_cell_id) {\n",
       "                        if (nbb_cells[i].get_text() == nbb_unformatted_code) {\n",
       "                             nbb_cells[i].set_text(nbb_formatted_code);\n",
       "                        }\n",
       "                        break;\n",
       "                    }\n",
       "                }\n",
       "            }, 500);\n",
       "            "
      ],
      "text/plain": [
       "<IPython.core.display.Javascript object>"
      ]
     },
     "metadata": {},
     "output_type": "display_data"
    }
   ],
   "source": [
    "# Install Tensorflow Object Detection\n",
    "if current_os == \"Linux\":\n",
    "    !apt-get install protobuf-compiler\n",
    "    !cd {f'{paths['APIMODEL_PATH']}/models/research'} && protoc object_detection/protos/*.proto --python_out=. && cp object_detection/packages/tf2/setup.py . && python -m pip install {.}\n",
    "if current_os == \"Windows\":\n",
    "    url = \"https://github.com/protocolbuffers/protobuf/releases/download/v3.15.6/protoc-3.15.6-win64.zip\"\n",
    "    wget.download(url)\n",
    "    !move protoc-3.15.6-win64.zip {paths['PROTOC_PATH']}\n",
    "    !cd {paths['PROTOC_PATH']} && tar -xf protoc-3.15.6-win64.zip\n",
    "    os.environ[\"PATH\"] += os.pathsep + os.path.abspath(\n",
    "        os.path.join(paths[\"PROTOC_PATH\"], \"bin\")\n",
    "    )\n",
    "    !cd Tensorflow/models/research && protoc object_detection/protos/*.proto --python_out=. && copy object_detection\\\\packages\\\\tf2\\\\setup.py setup.py && python setup.py build && python setup.py install\n",
    "    !cd Tensorflow/models/research/slim && pip install -e {.}\n",
    "if current_os == \"Darwin\":\n",
    "    api_model = f'{paths[\"APIMODEL_PATH\"]}/models/research'\n",
    "    #!brew install protobuf-compiler\n",
    "    # !cd {api_model} && protoc object_detection/protos/*.proto --python_out=. && cp object_detection/packages/tf2/setup.py . && python -m pip install ."
   ]
  },
  {
   "cell_type": "code",
   "execution_count": 222,
   "id": "a6482b50",
   "metadata": {},
   "outputs": [
    {
     "data": {
      "application/javascript": [
       "\n",
       "            setTimeout(function() {\n",
       "                var nbb_cell_id = 222;\n",
       "                var nbb_unformatted_code = \"path_to_train = f'{paths[\\\"DATA_PATH\\\"]}/train'\\npath_to_test = f'{paths[\\\"DATA_PATH\\\"]}/test'\\npath_to_labels = f'{paths[\\\"DATA_PATH\\\"]}/{LABEL_MAP_NAME}'\";\n",
       "                var nbb_formatted_code = \"path_to_train = f'{paths[\\\"DATA_PATH\\\"]}/train'\\npath_to_test = f'{paths[\\\"DATA_PATH\\\"]}/test'\\npath_to_labels = f'{paths[\\\"DATA_PATH\\\"]}/{LABEL_MAP_NAME}'\";\n",
       "                var nbb_cells = Jupyter.notebook.get_cells();\n",
       "                for (var i = 0; i < nbb_cells.length; ++i) {\n",
       "                    if (nbb_cells[i].input_prompt_number == nbb_cell_id) {\n",
       "                        if (nbb_cells[i].get_text() == nbb_unformatted_code) {\n",
       "                             nbb_cells[i].set_text(nbb_formatted_code);\n",
       "                        }\n",
       "                        break;\n",
       "                    }\n",
       "                }\n",
       "            }, 500);\n",
       "            "
      ],
      "text/plain": [
       "<IPython.core.display.Javascript object>"
      ]
     },
     "metadata": {},
     "output_type": "display_data"
    },
    {
     "data": {
      "application/javascript": [
       "\n",
       "            setTimeout(function() {\n",
       "                var nbb_cell_id = 222;\n",
       "                var nbb_unformatted_code = \"path_to_train = f'{paths[\\\"DATA_PATH\\\"]}/train'\\npath_to_test = f'{paths[\\\"DATA_PATH\\\"]}/test'\\npath_to_labels = f'{paths[\\\"DATA_PATH\\\"]}/{LABEL_MAP_NAME}'\";\n",
       "                var nbb_formatted_code = \"path_to_train = f'{paths[\\\"DATA_PATH\\\"]}/train'\\npath_to_test = f'{paths[\\\"DATA_PATH\\\"]}/test'\\npath_to_labels = f'{paths[\\\"DATA_PATH\\\"]}/{LABEL_MAP_NAME}'\";\n",
       "                var nbb_cells = Jupyter.notebook.get_cells();\n",
       "                for (var i = 0; i < nbb_cells.length; ++i) {\n",
       "                    if (nbb_cells[i].input_prompt_number == nbb_cell_id) {\n",
       "                        if (nbb_cells[i].get_text() == nbb_unformatted_code) {\n",
       "                             nbb_cells[i].set_text(nbb_formatted_code);\n",
       "                        }\n",
       "                        break;\n",
       "                    }\n",
       "                }\n",
       "            }, 500);\n",
       "            "
      ],
      "text/plain": [
       "<IPython.core.display.Javascript object>"
      ]
     },
     "metadata": {},
     "output_type": "display_data"
    },
    {
     "data": {
      "application/javascript": [
       "\n",
       "            setTimeout(function() {\n",
       "                var nbb_cell_id = 222;\n",
       "                var nbb_unformatted_code = \"path_to_train = f'{paths[\\\"DATA_PATH\\\"]}/train'\\npath_to_test = f'{paths[\\\"DATA_PATH\\\"]}/test'\\npath_to_labels = f'{paths[\\\"DATA_PATH\\\"]}/{LABEL_MAP_NAME}'\";\n",
       "                var nbb_formatted_code = \"path_to_train = f'{paths[\\\"DATA_PATH\\\"]}/train'\\npath_to_test = f'{paths[\\\"DATA_PATH\\\"]}/test'\\npath_to_labels = f'{paths[\\\"DATA_PATH\\\"]}/{LABEL_MAP_NAME}'\";\n",
       "                var nbb_cells = Jupyter.notebook.get_cells();\n",
       "                for (var i = 0; i < nbb_cells.length; ++i) {\n",
       "                    if (nbb_cells[i].input_prompt_number == nbb_cell_id) {\n",
       "                        if (nbb_cells[i].get_text() == nbb_unformatted_code) {\n",
       "                             nbb_cells[i].set_text(nbb_formatted_code);\n",
       "                        }\n",
       "                        break;\n",
       "                    }\n",
       "                }\n",
       "            }, 500);\n",
       "            "
      ],
      "text/plain": [
       "<IPython.core.display.Javascript object>"
      ]
     },
     "metadata": {},
     "output_type": "display_data"
    },
    {
     "data": {
      "application/javascript": [
       "\n",
       "            setTimeout(function() {\n",
       "                var nbb_cell_id = 222;\n",
       "                var nbb_unformatted_code = \"path_to_train = f'{paths[\\\"DATA_PATH\\\"]}/train'\\npath_to_test = f'{paths[\\\"DATA_PATH\\\"]}/test'\\npath_to_labels = f'{paths[\\\"DATA_PATH\\\"]}/{LABEL_MAP_NAME}'\";\n",
       "                var nbb_formatted_code = \"path_to_train = f'{paths[\\\"DATA_PATH\\\"]}/train'\\npath_to_test = f'{paths[\\\"DATA_PATH\\\"]}/test'\\npath_to_labels = f'{paths[\\\"DATA_PATH\\\"]}/{LABEL_MAP_NAME}'\";\n",
       "                var nbb_cells = Jupyter.notebook.get_cells();\n",
       "                for (var i = 0; i < nbb_cells.length; ++i) {\n",
       "                    if (nbb_cells[i].input_prompt_number == nbb_cell_id) {\n",
       "                        if (nbb_cells[i].get_text() == nbb_unformatted_code) {\n",
       "                             nbb_cells[i].set_text(nbb_formatted_code);\n",
       "                        }\n",
       "                        break;\n",
       "                    }\n",
       "                }\n",
       "            }, 500);\n",
       "            "
      ],
      "text/plain": [
       "<IPython.core.display.Javascript object>"
      ]
     },
     "metadata": {},
     "output_type": "display_data"
    },
    {
     "data": {
      "application/javascript": [
       "\n",
       "            setTimeout(function() {\n",
       "                var nbb_cell_id = 222;\n",
       "                var nbb_unformatted_code = \"path_to_train = f'{paths[\\\"DATA_PATH\\\"]}/train'\\npath_to_test = f'{paths[\\\"DATA_PATH\\\"]}/test'\\npath_to_labels = f'{paths[\\\"DATA_PATH\\\"]}/{LABEL_MAP_NAME}'\";\n",
       "                var nbb_formatted_code = \"path_to_train = f'{paths[\\\"DATA_PATH\\\"]}/train'\\npath_to_test = f'{paths[\\\"DATA_PATH\\\"]}/test'\\npath_to_labels = f'{paths[\\\"DATA_PATH\\\"]}/{LABEL_MAP_NAME}'\";\n",
       "                var nbb_cells = Jupyter.notebook.get_cells();\n",
       "                for (var i = 0; i < nbb_cells.length; ++i) {\n",
       "                    if (nbb_cells[i].input_prompt_number == nbb_cell_id) {\n",
       "                        if (nbb_cells[i].get_text() == nbb_unformatted_code) {\n",
       "                             nbb_cells[i].set_text(nbb_formatted_code);\n",
       "                        }\n",
       "                        break;\n",
       "                    }\n",
       "                }\n",
       "            }, 500);\n",
       "            "
      ],
      "text/plain": [
       "<IPython.core.display.Javascript object>"
      ]
     },
     "metadata": {},
     "output_type": "display_data"
    },
    {
     "data": {
      "application/javascript": [
       "\n",
       "            setTimeout(function() {\n",
       "                var nbb_cell_id = 222;\n",
       "                var nbb_unformatted_code = \"path_to_train = f'{paths[\\\"DATA_PATH\\\"]}/train'\\npath_to_test = f'{paths[\\\"DATA_PATH\\\"]}/test'\\npath_to_labels = f'{paths[\\\"DATA_PATH\\\"]}/{LABEL_MAP_NAME}'\";\n",
       "                var nbb_formatted_code = \"path_to_train = f'{paths[\\\"DATA_PATH\\\"]}/train'\\npath_to_test = f'{paths[\\\"DATA_PATH\\\"]}/test'\\npath_to_labels = f'{paths[\\\"DATA_PATH\\\"]}/{LABEL_MAP_NAME}'\";\n",
       "                var nbb_cells = Jupyter.notebook.get_cells();\n",
       "                for (var i = 0; i < nbb_cells.length; ++i) {\n",
       "                    if (nbb_cells[i].input_prompt_number == nbb_cell_id) {\n",
       "                        if (nbb_cells[i].get_text() == nbb_unformatted_code) {\n",
       "                             nbb_cells[i].set_text(nbb_formatted_code);\n",
       "                        }\n",
       "                        break;\n",
       "                    }\n",
       "                }\n",
       "            }, 500);\n",
       "            "
      ],
      "text/plain": [
       "<IPython.core.display.Javascript object>"
      ]
     },
     "metadata": {},
     "output_type": "display_data"
    },
    {
     "data": {
      "application/javascript": [
       "\n",
       "            setTimeout(function() {\n",
       "                var nbb_cell_id = 222;\n",
       "                var nbb_unformatted_code = \"path_to_train = f'{paths[\\\"DATA_PATH\\\"]}/train'\\npath_to_test = f'{paths[\\\"DATA_PATH\\\"]}/test'\\npath_to_labels = f'{paths[\\\"DATA_PATH\\\"]}/{LABEL_MAP_NAME}'\";\n",
       "                var nbb_formatted_code = \"path_to_train = f'{paths[\\\"DATA_PATH\\\"]}/train'\\npath_to_test = f'{paths[\\\"DATA_PATH\\\"]}/test'\\npath_to_labels = f'{paths[\\\"DATA_PATH\\\"]}/{LABEL_MAP_NAME}'\";\n",
       "                var nbb_cells = Jupyter.notebook.get_cells();\n",
       "                for (var i = 0; i < nbb_cells.length; ++i) {\n",
       "                    if (nbb_cells[i].input_prompt_number == nbb_cell_id) {\n",
       "                        if (nbb_cells[i].get_text() == nbb_unformatted_code) {\n",
       "                             nbb_cells[i].set_text(nbb_formatted_code);\n",
       "                        }\n",
       "                        break;\n",
       "                    }\n",
       "                }\n",
       "            }, 500);\n",
       "            "
      ],
      "text/plain": [
       "<IPython.core.display.Javascript object>"
      ]
     },
     "metadata": {},
     "output_type": "display_data"
    },
    {
     "data": {
      "application/javascript": [
       "\n",
       "            setTimeout(function() {\n",
       "                var nbb_cell_id = 222;\n",
       "                var nbb_unformatted_code = \"path_to_train = f'{paths[\\\"DATA_PATH\\\"]}/train'\\npath_to_test = f'{paths[\\\"DATA_PATH\\\"]}/test'\\npath_to_labels = f'{paths[\\\"DATA_PATH\\\"]}/{LABEL_MAP_NAME}'\";\n",
       "                var nbb_formatted_code = \"path_to_train = f'{paths[\\\"DATA_PATH\\\"]}/train'\\npath_to_test = f'{paths[\\\"DATA_PATH\\\"]}/test'\\npath_to_labels = f'{paths[\\\"DATA_PATH\\\"]}/{LABEL_MAP_NAME}'\";\n",
       "                var nbb_cells = Jupyter.notebook.get_cells();\n",
       "                for (var i = 0; i < nbb_cells.length; ++i) {\n",
       "                    if (nbb_cells[i].input_prompt_number == nbb_cell_id) {\n",
       "                        if (nbb_cells[i].get_text() == nbb_unformatted_code) {\n",
       "                             nbb_cells[i].set_text(nbb_formatted_code);\n",
       "                        }\n",
       "                        break;\n",
       "                    }\n",
       "                }\n",
       "            }, 500);\n",
       "            "
      ],
      "text/plain": [
       "<IPython.core.display.Javascript object>"
      ]
     },
     "metadata": {},
     "output_type": "display_data"
    },
    {
     "data": {
      "application/javascript": [
       "\n",
       "            setTimeout(function() {\n",
       "                var nbb_cell_id = 222;\n",
       "                var nbb_unformatted_code = \"path_to_train = f'{paths[\\\"DATA_PATH\\\"]}/train'\\npath_to_test = f'{paths[\\\"DATA_PATH\\\"]}/test'\\npath_to_labels = f'{paths[\\\"DATA_PATH\\\"]}/{LABEL_MAP_NAME}'\";\n",
       "                var nbb_formatted_code = \"path_to_train = f'{paths[\\\"DATA_PATH\\\"]}/train'\\npath_to_test = f'{paths[\\\"DATA_PATH\\\"]}/test'\\npath_to_labels = f'{paths[\\\"DATA_PATH\\\"]}/{LABEL_MAP_NAME}'\";\n",
       "                var nbb_cells = Jupyter.notebook.get_cells();\n",
       "                for (var i = 0; i < nbb_cells.length; ++i) {\n",
       "                    if (nbb_cells[i].input_prompt_number == nbb_cell_id) {\n",
       "                        if (nbb_cells[i].get_text() == nbb_unformatted_code) {\n",
       "                             nbb_cells[i].set_text(nbb_formatted_code);\n",
       "                        }\n",
       "                        break;\n",
       "                    }\n",
       "                }\n",
       "            }, 500);\n",
       "            "
      ],
      "text/plain": [
       "<IPython.core.display.Javascript object>"
      ]
     },
     "metadata": {},
     "output_type": "display_data"
    },
    {
     "data": {
      "application/javascript": [
       "\n",
       "            setTimeout(function() {\n",
       "                var nbb_cell_id = 222;\n",
       "                var nbb_unformatted_code = \"path_to_train = f'{paths[\\\"DATA_PATH\\\"]}/train'\\npath_to_test = f'{paths[\\\"DATA_PATH\\\"]}/test'\\npath_to_labels = f'{paths[\\\"DATA_PATH\\\"]}/{LABEL_MAP_NAME}'\";\n",
       "                var nbb_formatted_code = \"path_to_train = f'{paths[\\\"DATA_PATH\\\"]}/train'\\npath_to_test = f'{paths[\\\"DATA_PATH\\\"]}/test'\\npath_to_labels = f'{paths[\\\"DATA_PATH\\\"]}/{LABEL_MAP_NAME}'\";\n",
       "                var nbb_cells = Jupyter.notebook.get_cells();\n",
       "                for (var i = 0; i < nbb_cells.length; ++i) {\n",
       "                    if (nbb_cells[i].input_prompt_number == nbb_cell_id) {\n",
       "                        if (nbb_cells[i].get_text() == nbb_unformatted_code) {\n",
       "                             nbb_cells[i].set_text(nbb_formatted_code);\n",
       "                        }\n",
       "                        break;\n",
       "                    }\n",
       "                }\n",
       "            }, 500);\n",
       "            "
      ],
      "text/plain": [
       "<IPython.core.display.Javascript object>"
      ]
     },
     "metadata": {},
     "output_type": "display_data"
    }
   ],
   "source": [
    "path_to_train = f'{paths[\"DATA_PATH\"]}/train'\n",
    "path_to_test = f'{paths[\"DATA_PATH\"]}/test'\n",
    "path_to_labels = f'{paths[\"DATA_PATH\"]}/{LABEL_MAP_NAME}'"
   ]
  },
  {
   "cell_type": "code",
   "execution_count": 223,
   "id": "6161f59d",
   "metadata": {},
   "outputs": [
    {
     "data": {
      "application/javascript": [
       "\n",
       "            setTimeout(function() {\n",
       "                var nbb_cell_id = 223;\n",
       "                var nbb_unformatted_code = \"# !python3 generate_tfrecord.py -x {path_to_train} -l {path_to_labels} -o {os.path.join(paths[\\\"DATA_PATH\\\"], 'train.record')}\\n# !python3 generate_tfrecord.py -x {path_to_test} -l {path_to_labels} -o {os.path.join(paths[\\\"DATA_PATH\\\"], 'test.record')}\";\n",
       "                var nbb_formatted_code = \"# !python3 generate_tfrecord.py -x {path_to_train} -l {path_to_labels} -o {os.path.join(paths[\\\"DATA_PATH\\\"], 'train.record')}\\n# !python3 generate_tfrecord.py -x {path_to_test} -l {path_to_labels} -o {os.path.join(paths[\\\"DATA_PATH\\\"], 'test.record')}\";\n",
       "                var nbb_cells = Jupyter.notebook.get_cells();\n",
       "                for (var i = 0; i < nbb_cells.length; ++i) {\n",
       "                    if (nbb_cells[i].input_prompt_number == nbb_cell_id) {\n",
       "                        if (nbb_cells[i].get_text() == nbb_unformatted_code) {\n",
       "                             nbb_cells[i].set_text(nbb_formatted_code);\n",
       "                        }\n",
       "                        break;\n",
       "                    }\n",
       "                }\n",
       "            }, 500);\n",
       "            "
      ],
      "text/plain": [
       "<IPython.core.display.Javascript object>"
      ]
     },
     "metadata": {},
     "output_type": "display_data"
    },
    {
     "data": {
      "application/javascript": [
       "\n",
       "            setTimeout(function() {\n",
       "                var nbb_cell_id = 223;\n",
       "                var nbb_unformatted_code = \"# !python3 generate_tfrecord.py -x {path_to_train} -l {path_to_labels} -o {os.path.join(paths[\\\"DATA_PATH\\\"], 'train.record')}\\n# !python3 generate_tfrecord.py -x {path_to_test} -l {path_to_labels} -o {os.path.join(paths[\\\"DATA_PATH\\\"], 'test.record')}\";\n",
       "                var nbb_formatted_code = \"# !python3 generate_tfrecord.py -x {path_to_train} -l {path_to_labels} -o {os.path.join(paths[\\\"DATA_PATH\\\"], 'train.record')}\\n# !python3 generate_tfrecord.py -x {path_to_test} -l {path_to_labels} -o {os.path.join(paths[\\\"DATA_PATH\\\"], 'test.record')}\";\n",
       "                var nbb_cells = Jupyter.notebook.get_cells();\n",
       "                for (var i = 0; i < nbb_cells.length; ++i) {\n",
       "                    if (nbb_cells[i].input_prompt_number == nbb_cell_id) {\n",
       "                        if (nbb_cells[i].get_text() == nbb_unformatted_code) {\n",
       "                             nbb_cells[i].set_text(nbb_formatted_code);\n",
       "                        }\n",
       "                        break;\n",
       "                    }\n",
       "                }\n",
       "            }, 500);\n",
       "            "
      ],
      "text/plain": [
       "<IPython.core.display.Javascript object>"
      ]
     },
     "metadata": {},
     "output_type": "display_data"
    },
    {
     "data": {
      "application/javascript": [
       "\n",
       "            setTimeout(function() {\n",
       "                var nbb_cell_id = 223;\n",
       "                var nbb_unformatted_code = \"# !python3 generate_tfrecord.py -x {path_to_train} -l {path_to_labels} -o {os.path.join(paths[\\\"DATA_PATH\\\"], 'train.record')}\\n# !python3 generate_tfrecord.py -x {path_to_test} -l {path_to_labels} -o {os.path.join(paths[\\\"DATA_PATH\\\"], 'test.record')}\";\n",
       "                var nbb_formatted_code = \"# !python3 generate_tfrecord.py -x {path_to_train} -l {path_to_labels} -o {os.path.join(paths[\\\"DATA_PATH\\\"], 'train.record')}\\n# !python3 generate_tfrecord.py -x {path_to_test} -l {path_to_labels} -o {os.path.join(paths[\\\"DATA_PATH\\\"], 'test.record')}\";\n",
       "                var nbb_cells = Jupyter.notebook.get_cells();\n",
       "                for (var i = 0; i < nbb_cells.length; ++i) {\n",
       "                    if (nbb_cells[i].input_prompt_number == nbb_cell_id) {\n",
       "                        if (nbb_cells[i].get_text() == nbb_unformatted_code) {\n",
       "                             nbb_cells[i].set_text(nbb_formatted_code);\n",
       "                        }\n",
       "                        break;\n",
       "                    }\n",
       "                }\n",
       "            }, 500);\n",
       "            "
      ],
      "text/plain": [
       "<IPython.core.display.Javascript object>"
      ]
     },
     "metadata": {},
     "output_type": "display_data"
    },
    {
     "data": {
      "application/javascript": [
       "\n",
       "            setTimeout(function() {\n",
       "                var nbb_cell_id = 223;\n",
       "                var nbb_unformatted_code = \"# !python3 generate_tfrecord.py -x {path_to_train} -l {path_to_labels} -o {os.path.join(paths[\\\"DATA_PATH\\\"], 'train.record')}\\n# !python3 generate_tfrecord.py -x {path_to_test} -l {path_to_labels} -o {os.path.join(paths[\\\"DATA_PATH\\\"], 'test.record')}\";\n",
       "                var nbb_formatted_code = \"# !python3 generate_tfrecord.py -x {path_to_train} -l {path_to_labels} -o {os.path.join(paths[\\\"DATA_PATH\\\"], 'train.record')}\\n# !python3 generate_tfrecord.py -x {path_to_test} -l {path_to_labels} -o {os.path.join(paths[\\\"DATA_PATH\\\"], 'test.record')}\";\n",
       "                var nbb_cells = Jupyter.notebook.get_cells();\n",
       "                for (var i = 0; i < nbb_cells.length; ++i) {\n",
       "                    if (nbb_cells[i].input_prompt_number == nbb_cell_id) {\n",
       "                        if (nbb_cells[i].get_text() == nbb_unformatted_code) {\n",
       "                             nbb_cells[i].set_text(nbb_formatted_code);\n",
       "                        }\n",
       "                        break;\n",
       "                    }\n",
       "                }\n",
       "            }, 500);\n",
       "            "
      ],
      "text/plain": [
       "<IPython.core.display.Javascript object>"
      ]
     },
     "metadata": {},
     "output_type": "display_data"
    },
    {
     "data": {
      "application/javascript": [
       "\n",
       "            setTimeout(function() {\n",
       "                var nbb_cell_id = 223;\n",
       "                var nbb_unformatted_code = \"# !python3 generate_tfrecord.py -x {path_to_train} -l {path_to_labels} -o {os.path.join(paths[\\\"DATA_PATH\\\"], 'train.record')}\\n# !python3 generate_tfrecord.py -x {path_to_test} -l {path_to_labels} -o {os.path.join(paths[\\\"DATA_PATH\\\"], 'test.record')}\";\n",
       "                var nbb_formatted_code = \"# !python3 generate_tfrecord.py -x {path_to_train} -l {path_to_labels} -o {os.path.join(paths[\\\"DATA_PATH\\\"], 'train.record')}\\n# !python3 generate_tfrecord.py -x {path_to_test} -l {path_to_labels} -o {os.path.join(paths[\\\"DATA_PATH\\\"], 'test.record')}\";\n",
       "                var nbb_cells = Jupyter.notebook.get_cells();\n",
       "                for (var i = 0; i < nbb_cells.length; ++i) {\n",
       "                    if (nbb_cells[i].input_prompt_number == nbb_cell_id) {\n",
       "                        if (nbb_cells[i].get_text() == nbb_unformatted_code) {\n",
       "                             nbb_cells[i].set_text(nbb_formatted_code);\n",
       "                        }\n",
       "                        break;\n",
       "                    }\n",
       "                }\n",
       "            }, 500);\n",
       "            "
      ],
      "text/plain": [
       "<IPython.core.display.Javascript object>"
      ]
     },
     "metadata": {},
     "output_type": "display_data"
    },
    {
     "data": {
      "application/javascript": [
       "\n",
       "            setTimeout(function() {\n",
       "                var nbb_cell_id = 223;\n",
       "                var nbb_unformatted_code = \"# !python3 generate_tfrecord.py -x {path_to_train} -l {path_to_labels} -o {os.path.join(paths[\\\"DATA_PATH\\\"], 'train.record')}\\n# !python3 generate_tfrecord.py -x {path_to_test} -l {path_to_labels} -o {os.path.join(paths[\\\"DATA_PATH\\\"], 'test.record')}\";\n",
       "                var nbb_formatted_code = \"# !python3 generate_tfrecord.py -x {path_to_train} -l {path_to_labels} -o {os.path.join(paths[\\\"DATA_PATH\\\"], 'train.record')}\\n# !python3 generate_tfrecord.py -x {path_to_test} -l {path_to_labels} -o {os.path.join(paths[\\\"DATA_PATH\\\"], 'test.record')}\";\n",
       "                var nbb_cells = Jupyter.notebook.get_cells();\n",
       "                for (var i = 0; i < nbb_cells.length; ++i) {\n",
       "                    if (nbb_cells[i].input_prompt_number == nbb_cell_id) {\n",
       "                        if (nbb_cells[i].get_text() == nbb_unformatted_code) {\n",
       "                             nbb_cells[i].set_text(nbb_formatted_code);\n",
       "                        }\n",
       "                        break;\n",
       "                    }\n",
       "                }\n",
       "            }, 500);\n",
       "            "
      ],
      "text/plain": [
       "<IPython.core.display.Javascript object>"
      ]
     },
     "metadata": {},
     "output_type": "display_data"
    },
    {
     "data": {
      "application/javascript": [
       "\n",
       "            setTimeout(function() {\n",
       "                var nbb_cell_id = 223;\n",
       "                var nbb_unformatted_code = \"# !python3 generate_tfrecord.py -x {path_to_train} -l {path_to_labels} -o {os.path.join(paths[\\\"DATA_PATH\\\"], 'train.record')}\\n# !python3 generate_tfrecord.py -x {path_to_test} -l {path_to_labels} -o {os.path.join(paths[\\\"DATA_PATH\\\"], 'test.record')}\";\n",
       "                var nbb_formatted_code = \"# !python3 generate_tfrecord.py -x {path_to_train} -l {path_to_labels} -o {os.path.join(paths[\\\"DATA_PATH\\\"], 'train.record')}\\n# !python3 generate_tfrecord.py -x {path_to_test} -l {path_to_labels} -o {os.path.join(paths[\\\"DATA_PATH\\\"], 'test.record')}\";\n",
       "                var nbb_cells = Jupyter.notebook.get_cells();\n",
       "                for (var i = 0; i < nbb_cells.length; ++i) {\n",
       "                    if (nbb_cells[i].input_prompt_number == nbb_cell_id) {\n",
       "                        if (nbb_cells[i].get_text() == nbb_unformatted_code) {\n",
       "                             nbb_cells[i].set_text(nbb_formatted_code);\n",
       "                        }\n",
       "                        break;\n",
       "                    }\n",
       "                }\n",
       "            }, 500);\n",
       "            "
      ],
      "text/plain": [
       "<IPython.core.display.Javascript object>"
      ]
     },
     "metadata": {},
     "output_type": "display_data"
    },
    {
     "data": {
      "application/javascript": [
       "\n",
       "            setTimeout(function() {\n",
       "                var nbb_cell_id = 223;\n",
       "                var nbb_unformatted_code = \"# !python3 generate_tfrecord.py -x {path_to_train} -l {path_to_labels} -o {os.path.join(paths[\\\"DATA_PATH\\\"], 'train.record')}\\n# !python3 generate_tfrecord.py -x {path_to_test} -l {path_to_labels} -o {os.path.join(paths[\\\"DATA_PATH\\\"], 'test.record')}\";\n",
       "                var nbb_formatted_code = \"# !python3 generate_tfrecord.py -x {path_to_train} -l {path_to_labels} -o {os.path.join(paths[\\\"DATA_PATH\\\"], 'train.record')}\\n# !python3 generate_tfrecord.py -x {path_to_test} -l {path_to_labels} -o {os.path.join(paths[\\\"DATA_PATH\\\"], 'test.record')}\";\n",
       "                var nbb_cells = Jupyter.notebook.get_cells();\n",
       "                for (var i = 0; i < nbb_cells.length; ++i) {\n",
       "                    if (nbb_cells[i].input_prompt_number == nbb_cell_id) {\n",
       "                        if (nbb_cells[i].get_text() == nbb_unformatted_code) {\n",
       "                             nbb_cells[i].set_text(nbb_formatted_code);\n",
       "                        }\n",
       "                        break;\n",
       "                    }\n",
       "                }\n",
       "            }, 500);\n",
       "            "
      ],
      "text/plain": [
       "<IPython.core.display.Javascript object>"
      ]
     },
     "metadata": {},
     "output_type": "display_data"
    },
    {
     "data": {
      "application/javascript": [
       "\n",
       "            setTimeout(function() {\n",
       "                var nbb_cell_id = 223;\n",
       "                var nbb_unformatted_code = \"# !python3 generate_tfrecord.py -x {path_to_train} -l {path_to_labels} -o {os.path.join(paths[\\\"DATA_PATH\\\"], 'train.record')}\\n# !python3 generate_tfrecord.py -x {path_to_test} -l {path_to_labels} -o {os.path.join(paths[\\\"DATA_PATH\\\"], 'test.record')}\";\n",
       "                var nbb_formatted_code = \"# !python3 generate_tfrecord.py -x {path_to_train} -l {path_to_labels} -o {os.path.join(paths[\\\"DATA_PATH\\\"], 'train.record')}\\n# !python3 generate_tfrecord.py -x {path_to_test} -l {path_to_labels} -o {os.path.join(paths[\\\"DATA_PATH\\\"], 'test.record')}\";\n",
       "                var nbb_cells = Jupyter.notebook.get_cells();\n",
       "                for (var i = 0; i < nbb_cells.length; ++i) {\n",
       "                    if (nbb_cells[i].input_prompt_number == nbb_cell_id) {\n",
       "                        if (nbb_cells[i].get_text() == nbb_unformatted_code) {\n",
       "                             nbb_cells[i].set_text(nbb_formatted_code);\n",
       "                        }\n",
       "                        break;\n",
       "                    }\n",
       "                }\n",
       "            }, 500);\n",
       "            "
      ],
      "text/plain": [
       "<IPython.core.display.Javascript object>"
      ]
     },
     "metadata": {},
     "output_type": "display_data"
    },
    {
     "data": {
      "application/javascript": [
       "\n",
       "            setTimeout(function() {\n",
       "                var nbb_cell_id = 223;\n",
       "                var nbb_unformatted_code = \"# !python3 generate_tfrecord.py -x {path_to_train} -l {path_to_labels} -o {os.path.join(paths[\\\"DATA_PATH\\\"], 'train.record')}\\n# !python3 generate_tfrecord.py -x {path_to_test} -l {path_to_labels} -o {os.path.join(paths[\\\"DATA_PATH\\\"], 'test.record')}\";\n",
       "                var nbb_formatted_code = \"# !python3 generate_tfrecord.py -x {path_to_train} -l {path_to_labels} -o {os.path.join(paths[\\\"DATA_PATH\\\"], 'train.record')}\\n# !python3 generate_tfrecord.py -x {path_to_test} -l {path_to_labels} -o {os.path.join(paths[\\\"DATA_PATH\\\"], 'test.record')}\";\n",
       "                var nbb_cells = Jupyter.notebook.get_cells();\n",
       "                for (var i = 0; i < nbb_cells.length; ++i) {\n",
       "                    if (nbb_cells[i].input_prompt_number == nbb_cell_id) {\n",
       "                        if (nbb_cells[i].get_text() == nbb_unformatted_code) {\n",
       "                             nbb_cells[i].set_text(nbb_formatted_code);\n",
       "                        }\n",
       "                        break;\n",
       "                    }\n",
       "                }\n",
       "            }, 500);\n",
       "            "
      ],
      "text/plain": [
       "<IPython.core.display.Javascript object>"
      ]
     },
     "metadata": {},
     "output_type": "display_data"
    }
   ],
   "source": [
    "# !python3 generate_tfrecord.py -x {path_to_train} -l {path_to_labels} -o {os.path.join(paths[\"DATA_PATH\"], 'train.record')}\n",
    "# !python3 generate_tfrecord.py -x {path_to_test} -l {path_to_labels} -o {os.path.join(paths[\"DATA_PATH\"], 'test.record')}"
   ]
  },
  {
   "cell_type": "code",
   "execution_count": 224,
   "id": "c07f7d2c",
   "metadata": {},
   "outputs": [
    {
     "data": {
      "application/javascript": [
       "\n",
       "            setTimeout(function() {\n",
       "                var nbb_cell_id = 224;\n",
       "                var nbb_unformatted_code = \"if os.name == \\\"posix\\\":\\n    !cp {os.path.join(paths['PRETRAINED_MODEL_PATH'], PRETRAINED_MODEL_NAME, 'pipeline.config')} {os.path.join(paths['CHECKPOINT_PATH'])}\\nif os.name == \\\"nt\\\":\\n    !copy {os.path.join(paths['PRETRAINED_MODEL_PATH'], PRETRAINED_MODEL_NAME, 'pipeline.config')} {os.path.join(paths['CHECKPOINT_PATH'])}\";\n",
       "                var nbb_formatted_code = \"if os.name == \\\"posix\\\":\\n    !cp {os.path.join(paths['PRETRAINED_MODEL_PATH'], PRETRAINED_MODEL_NAME, 'pipeline.config')} {os.path.join(paths['CHECKPOINT_PATH'])}\\nif os.name == \\\"nt\\\":\\n    !copy {os.path.join(paths['PRETRAINED_MODEL_PATH'], PRETRAINED_MODEL_NAME, 'pipeline.config')} {os.path.join(paths['CHECKPOINT_PATH'])}\";\n",
       "                var nbb_cells = Jupyter.notebook.get_cells();\n",
       "                for (var i = 0; i < nbb_cells.length; ++i) {\n",
       "                    if (nbb_cells[i].input_prompt_number == nbb_cell_id) {\n",
       "                        if (nbb_cells[i].get_text() == nbb_unformatted_code) {\n",
       "                             nbb_cells[i].set_text(nbb_formatted_code);\n",
       "                        }\n",
       "                        break;\n",
       "                    }\n",
       "                }\n",
       "            }, 500);\n",
       "            "
      ],
      "text/plain": [
       "<IPython.core.display.Javascript object>"
      ]
     },
     "metadata": {},
     "output_type": "display_data"
    },
    {
     "data": {
      "application/javascript": [
       "\n",
       "            setTimeout(function() {\n",
       "                var nbb_cell_id = 224;\n",
       "                var nbb_unformatted_code = \"if os.name == \\\"posix\\\":\\n    !cp {os.path.join(paths['PRETRAINED_MODEL_PATH'], PRETRAINED_MODEL_NAME, 'pipeline.config')} {os.path.join(paths['CHECKPOINT_PATH'])}\\nif os.name == \\\"nt\\\":\\n    !copy {os.path.join(paths['PRETRAINED_MODEL_PATH'], PRETRAINED_MODEL_NAME, 'pipeline.config')} {os.path.join(paths['CHECKPOINT_PATH'])}\";\n",
       "                var nbb_formatted_code = \"if os.name == \\\"posix\\\":\\n    !cp {os.path.join(paths['PRETRAINED_MODEL_PATH'], PRETRAINED_MODEL_NAME, 'pipeline.config')} {os.path.join(paths['CHECKPOINT_PATH'])}\\nif os.name == \\\"nt\\\":\\n    !copy {os.path.join(paths['PRETRAINED_MODEL_PATH'], PRETRAINED_MODEL_NAME, 'pipeline.config')} {os.path.join(paths['CHECKPOINT_PATH'])}\";\n",
       "                var nbb_cells = Jupyter.notebook.get_cells();\n",
       "                for (var i = 0; i < nbb_cells.length; ++i) {\n",
       "                    if (nbb_cells[i].input_prompt_number == nbb_cell_id) {\n",
       "                        if (nbb_cells[i].get_text() == nbb_unformatted_code) {\n",
       "                             nbb_cells[i].set_text(nbb_formatted_code);\n",
       "                        }\n",
       "                        break;\n",
       "                    }\n",
       "                }\n",
       "            }, 500);\n",
       "            "
      ],
      "text/plain": [
       "<IPython.core.display.Javascript object>"
      ]
     },
     "metadata": {},
     "output_type": "display_data"
    },
    {
     "data": {
      "application/javascript": [
       "\n",
       "            setTimeout(function() {\n",
       "                var nbb_cell_id = 224;\n",
       "                var nbb_unformatted_code = \"if os.name == \\\"posix\\\":\\n    !cp {os.path.join(paths['PRETRAINED_MODEL_PATH'], PRETRAINED_MODEL_NAME, 'pipeline.config')} {os.path.join(paths['CHECKPOINT_PATH'])}\\nif os.name == \\\"nt\\\":\\n    !copy {os.path.join(paths['PRETRAINED_MODEL_PATH'], PRETRAINED_MODEL_NAME, 'pipeline.config')} {os.path.join(paths['CHECKPOINT_PATH'])}\";\n",
       "                var nbb_formatted_code = \"if os.name == \\\"posix\\\":\\n    !cp {os.path.join(paths['PRETRAINED_MODEL_PATH'], PRETRAINED_MODEL_NAME, 'pipeline.config')} {os.path.join(paths['CHECKPOINT_PATH'])}\\nif os.name == \\\"nt\\\":\\n    !copy {os.path.join(paths['PRETRAINED_MODEL_PATH'], PRETRAINED_MODEL_NAME, 'pipeline.config')} {os.path.join(paths['CHECKPOINT_PATH'])}\";\n",
       "                var nbb_cells = Jupyter.notebook.get_cells();\n",
       "                for (var i = 0; i < nbb_cells.length; ++i) {\n",
       "                    if (nbb_cells[i].input_prompt_number == nbb_cell_id) {\n",
       "                        if (nbb_cells[i].get_text() == nbb_unformatted_code) {\n",
       "                             nbb_cells[i].set_text(nbb_formatted_code);\n",
       "                        }\n",
       "                        break;\n",
       "                    }\n",
       "                }\n",
       "            }, 500);\n",
       "            "
      ],
      "text/plain": [
       "<IPython.core.display.Javascript object>"
      ]
     },
     "metadata": {},
     "output_type": "display_data"
    },
    {
     "data": {
      "application/javascript": [
       "\n",
       "            setTimeout(function() {\n",
       "                var nbb_cell_id = 224;\n",
       "                var nbb_unformatted_code = \"if os.name == \\\"posix\\\":\\n    !cp {os.path.join(paths['PRETRAINED_MODEL_PATH'], PRETRAINED_MODEL_NAME, 'pipeline.config')} {os.path.join(paths['CHECKPOINT_PATH'])}\\nif os.name == \\\"nt\\\":\\n    !copy {os.path.join(paths['PRETRAINED_MODEL_PATH'], PRETRAINED_MODEL_NAME, 'pipeline.config')} {os.path.join(paths['CHECKPOINT_PATH'])}\";\n",
       "                var nbb_formatted_code = \"if os.name == \\\"posix\\\":\\n    !cp {os.path.join(paths['PRETRAINED_MODEL_PATH'], PRETRAINED_MODEL_NAME, 'pipeline.config')} {os.path.join(paths['CHECKPOINT_PATH'])}\\nif os.name == \\\"nt\\\":\\n    !copy {os.path.join(paths['PRETRAINED_MODEL_PATH'], PRETRAINED_MODEL_NAME, 'pipeline.config')} {os.path.join(paths['CHECKPOINT_PATH'])}\";\n",
       "                var nbb_cells = Jupyter.notebook.get_cells();\n",
       "                for (var i = 0; i < nbb_cells.length; ++i) {\n",
       "                    if (nbb_cells[i].input_prompt_number == nbb_cell_id) {\n",
       "                        if (nbb_cells[i].get_text() == nbb_unformatted_code) {\n",
       "                             nbb_cells[i].set_text(nbb_formatted_code);\n",
       "                        }\n",
       "                        break;\n",
       "                    }\n",
       "                }\n",
       "            }, 500);\n",
       "            "
      ],
      "text/plain": [
       "<IPython.core.display.Javascript object>"
      ]
     },
     "metadata": {},
     "output_type": "display_data"
    },
    {
     "data": {
      "application/javascript": [
       "\n",
       "            setTimeout(function() {\n",
       "                var nbb_cell_id = 224;\n",
       "                var nbb_unformatted_code = \"if os.name == \\\"posix\\\":\\n    !cp {os.path.join(paths['PRETRAINED_MODEL_PATH'], PRETRAINED_MODEL_NAME, 'pipeline.config')} {os.path.join(paths['CHECKPOINT_PATH'])}\\nif os.name == \\\"nt\\\":\\n    !copy {os.path.join(paths['PRETRAINED_MODEL_PATH'], PRETRAINED_MODEL_NAME, 'pipeline.config')} {os.path.join(paths['CHECKPOINT_PATH'])}\";\n",
       "                var nbb_formatted_code = \"if os.name == \\\"posix\\\":\\n    !cp {os.path.join(paths['PRETRAINED_MODEL_PATH'], PRETRAINED_MODEL_NAME, 'pipeline.config')} {os.path.join(paths['CHECKPOINT_PATH'])}\\nif os.name == \\\"nt\\\":\\n    !copy {os.path.join(paths['PRETRAINED_MODEL_PATH'], PRETRAINED_MODEL_NAME, 'pipeline.config')} {os.path.join(paths['CHECKPOINT_PATH'])}\";\n",
       "                var nbb_cells = Jupyter.notebook.get_cells();\n",
       "                for (var i = 0; i < nbb_cells.length; ++i) {\n",
       "                    if (nbb_cells[i].input_prompt_number == nbb_cell_id) {\n",
       "                        if (nbb_cells[i].get_text() == nbb_unformatted_code) {\n",
       "                             nbb_cells[i].set_text(nbb_formatted_code);\n",
       "                        }\n",
       "                        break;\n",
       "                    }\n",
       "                }\n",
       "            }, 500);\n",
       "            "
      ],
      "text/plain": [
       "<IPython.core.display.Javascript object>"
      ]
     },
     "metadata": {},
     "output_type": "display_data"
    },
    {
     "data": {
      "application/javascript": [
       "\n",
       "            setTimeout(function() {\n",
       "                var nbb_cell_id = 224;\n",
       "                var nbb_unformatted_code = \"if os.name == \\\"posix\\\":\\n    !cp {os.path.join(paths['PRETRAINED_MODEL_PATH'], PRETRAINED_MODEL_NAME, 'pipeline.config')} {os.path.join(paths['CHECKPOINT_PATH'])}\\nif os.name == \\\"nt\\\":\\n    !copy {os.path.join(paths['PRETRAINED_MODEL_PATH'], PRETRAINED_MODEL_NAME, 'pipeline.config')} {os.path.join(paths['CHECKPOINT_PATH'])}\";\n",
       "                var nbb_formatted_code = \"if os.name == \\\"posix\\\":\\n    !cp {os.path.join(paths['PRETRAINED_MODEL_PATH'], PRETRAINED_MODEL_NAME, 'pipeline.config')} {os.path.join(paths['CHECKPOINT_PATH'])}\\nif os.name == \\\"nt\\\":\\n    !copy {os.path.join(paths['PRETRAINED_MODEL_PATH'], PRETRAINED_MODEL_NAME, 'pipeline.config')} {os.path.join(paths['CHECKPOINT_PATH'])}\";\n",
       "                var nbb_cells = Jupyter.notebook.get_cells();\n",
       "                for (var i = 0; i < nbb_cells.length; ++i) {\n",
       "                    if (nbb_cells[i].input_prompt_number == nbb_cell_id) {\n",
       "                        if (nbb_cells[i].get_text() == nbb_unformatted_code) {\n",
       "                             nbb_cells[i].set_text(nbb_formatted_code);\n",
       "                        }\n",
       "                        break;\n",
       "                    }\n",
       "                }\n",
       "            }, 500);\n",
       "            "
      ],
      "text/plain": [
       "<IPython.core.display.Javascript object>"
      ]
     },
     "metadata": {},
     "output_type": "display_data"
    },
    {
     "data": {
      "application/javascript": [
       "\n",
       "            setTimeout(function() {\n",
       "                var nbb_cell_id = 224;\n",
       "                var nbb_unformatted_code = \"if os.name == \\\"posix\\\":\\n    !cp {os.path.join(paths['PRETRAINED_MODEL_PATH'], PRETRAINED_MODEL_NAME, 'pipeline.config')} {os.path.join(paths['CHECKPOINT_PATH'])}\\nif os.name == \\\"nt\\\":\\n    !copy {os.path.join(paths['PRETRAINED_MODEL_PATH'], PRETRAINED_MODEL_NAME, 'pipeline.config')} {os.path.join(paths['CHECKPOINT_PATH'])}\";\n",
       "                var nbb_formatted_code = \"if os.name == \\\"posix\\\":\\n    !cp {os.path.join(paths['PRETRAINED_MODEL_PATH'], PRETRAINED_MODEL_NAME, 'pipeline.config')} {os.path.join(paths['CHECKPOINT_PATH'])}\\nif os.name == \\\"nt\\\":\\n    !copy {os.path.join(paths['PRETRAINED_MODEL_PATH'], PRETRAINED_MODEL_NAME, 'pipeline.config')} {os.path.join(paths['CHECKPOINT_PATH'])}\";\n",
       "                var nbb_cells = Jupyter.notebook.get_cells();\n",
       "                for (var i = 0; i < nbb_cells.length; ++i) {\n",
       "                    if (nbb_cells[i].input_prompt_number == nbb_cell_id) {\n",
       "                        if (nbb_cells[i].get_text() == nbb_unformatted_code) {\n",
       "                             nbb_cells[i].set_text(nbb_formatted_code);\n",
       "                        }\n",
       "                        break;\n",
       "                    }\n",
       "                }\n",
       "            }, 500);\n",
       "            "
      ],
      "text/plain": [
       "<IPython.core.display.Javascript object>"
      ]
     },
     "metadata": {},
     "output_type": "display_data"
    },
    {
     "data": {
      "application/javascript": [
       "\n",
       "            setTimeout(function() {\n",
       "                var nbb_cell_id = 224;\n",
       "                var nbb_unformatted_code = \"if os.name == \\\"posix\\\":\\n    !cp {os.path.join(paths['PRETRAINED_MODEL_PATH'], PRETRAINED_MODEL_NAME, 'pipeline.config')} {os.path.join(paths['CHECKPOINT_PATH'])}\\nif os.name == \\\"nt\\\":\\n    !copy {os.path.join(paths['PRETRAINED_MODEL_PATH'], PRETRAINED_MODEL_NAME, 'pipeline.config')} {os.path.join(paths['CHECKPOINT_PATH'])}\";\n",
       "                var nbb_formatted_code = \"if os.name == \\\"posix\\\":\\n    !cp {os.path.join(paths['PRETRAINED_MODEL_PATH'], PRETRAINED_MODEL_NAME, 'pipeline.config')} {os.path.join(paths['CHECKPOINT_PATH'])}\\nif os.name == \\\"nt\\\":\\n    !copy {os.path.join(paths['PRETRAINED_MODEL_PATH'], PRETRAINED_MODEL_NAME, 'pipeline.config')} {os.path.join(paths['CHECKPOINT_PATH'])}\";\n",
       "                var nbb_cells = Jupyter.notebook.get_cells();\n",
       "                for (var i = 0; i < nbb_cells.length; ++i) {\n",
       "                    if (nbb_cells[i].input_prompt_number == nbb_cell_id) {\n",
       "                        if (nbb_cells[i].get_text() == nbb_unformatted_code) {\n",
       "                             nbb_cells[i].set_text(nbb_formatted_code);\n",
       "                        }\n",
       "                        break;\n",
       "                    }\n",
       "                }\n",
       "            }, 500);\n",
       "            "
      ],
      "text/plain": [
       "<IPython.core.display.Javascript object>"
      ]
     },
     "metadata": {},
     "output_type": "display_data"
    },
    {
     "data": {
      "application/javascript": [
       "\n",
       "            setTimeout(function() {\n",
       "                var nbb_cell_id = 224;\n",
       "                var nbb_unformatted_code = \"if os.name == \\\"posix\\\":\\n    !cp {os.path.join(paths['PRETRAINED_MODEL_PATH'], PRETRAINED_MODEL_NAME, 'pipeline.config')} {os.path.join(paths['CHECKPOINT_PATH'])}\\nif os.name == \\\"nt\\\":\\n    !copy {os.path.join(paths['PRETRAINED_MODEL_PATH'], PRETRAINED_MODEL_NAME, 'pipeline.config')} {os.path.join(paths['CHECKPOINT_PATH'])}\";\n",
       "                var nbb_formatted_code = \"if os.name == \\\"posix\\\":\\n    !cp {os.path.join(paths['PRETRAINED_MODEL_PATH'], PRETRAINED_MODEL_NAME, 'pipeline.config')} {os.path.join(paths['CHECKPOINT_PATH'])}\\nif os.name == \\\"nt\\\":\\n    !copy {os.path.join(paths['PRETRAINED_MODEL_PATH'], PRETRAINED_MODEL_NAME, 'pipeline.config')} {os.path.join(paths['CHECKPOINT_PATH'])}\";\n",
       "                var nbb_cells = Jupyter.notebook.get_cells();\n",
       "                for (var i = 0; i < nbb_cells.length; ++i) {\n",
       "                    if (nbb_cells[i].input_prompt_number == nbb_cell_id) {\n",
       "                        if (nbb_cells[i].get_text() == nbb_unformatted_code) {\n",
       "                             nbb_cells[i].set_text(nbb_formatted_code);\n",
       "                        }\n",
       "                        break;\n",
       "                    }\n",
       "                }\n",
       "            }, 500);\n",
       "            "
      ],
      "text/plain": [
       "<IPython.core.display.Javascript object>"
      ]
     },
     "metadata": {},
     "output_type": "display_data"
    },
    {
     "data": {
      "application/javascript": [
       "\n",
       "            setTimeout(function() {\n",
       "                var nbb_cell_id = 224;\n",
       "                var nbb_unformatted_code = \"if os.name == \\\"posix\\\":\\n    !cp {os.path.join(paths['PRETRAINED_MODEL_PATH'], PRETRAINED_MODEL_NAME, 'pipeline.config')} {os.path.join(paths['CHECKPOINT_PATH'])}\\nif os.name == \\\"nt\\\":\\n    !copy {os.path.join(paths['PRETRAINED_MODEL_PATH'], PRETRAINED_MODEL_NAME, 'pipeline.config')} {os.path.join(paths['CHECKPOINT_PATH'])}\";\n",
       "                var nbb_formatted_code = \"if os.name == \\\"posix\\\":\\n    !cp {os.path.join(paths['PRETRAINED_MODEL_PATH'], PRETRAINED_MODEL_NAME, 'pipeline.config')} {os.path.join(paths['CHECKPOINT_PATH'])}\\nif os.name == \\\"nt\\\":\\n    !copy {os.path.join(paths['PRETRAINED_MODEL_PATH'], PRETRAINED_MODEL_NAME, 'pipeline.config')} {os.path.join(paths['CHECKPOINT_PATH'])}\";\n",
       "                var nbb_cells = Jupyter.notebook.get_cells();\n",
       "                for (var i = 0; i < nbb_cells.length; ++i) {\n",
       "                    if (nbb_cells[i].input_prompt_number == nbb_cell_id) {\n",
       "                        if (nbb_cells[i].get_text() == nbb_unformatted_code) {\n",
       "                             nbb_cells[i].set_text(nbb_formatted_code);\n",
       "                        }\n",
       "                        break;\n",
       "                    }\n",
       "                }\n",
       "            }, 500);\n",
       "            "
      ],
      "text/plain": [
       "<IPython.core.display.Javascript object>"
      ]
     },
     "metadata": {},
     "output_type": "display_data"
    }
   ],
   "source": [
    "if os.name == \"posix\":\n",
    "    !cp {os.path.join(paths['PRETRAINED_MODEL_PATH'], PRETRAINED_MODEL_NAME, 'pipeline.config')} {os.path.join(paths['CHECKPOINT_PATH'])}\n",
    "if os.name == \"nt\":\n",
    "    !copy {os.path.join(paths['PRETRAINED_MODEL_PATH'], PRETRAINED_MODEL_NAME, 'pipeline.config')} {os.path.join(paths['CHECKPOINT_PATH'])}"
   ]
  },
  {
   "cell_type": "code",
   "execution_count": 225,
   "id": "9a123bcc",
   "metadata": {
    "scrolled": false
   },
   "outputs": [
    {
     "data": {
      "text/plain": [
       "{'model': ssd {\n",
       "   num_classes: 90\n",
       "   image_resizer {\n",
       "     keep_aspect_ratio_resizer {\n",
       "       min_dimension: 1024\n",
       "       max_dimension: 1024\n",
       "       pad_to_max_dimension: true\n",
       "     }\n",
       "   }\n",
       "   feature_extractor {\n",
       "     type: \"ssd_efficientnet-b4_bifpn_keras\"\n",
       "     conv_hyperparams {\n",
       "       regularizer {\n",
       "         l2_regularizer {\n",
       "           weight: 3.9999998989515007e-05\n",
       "         }\n",
       "       }\n",
       "       initializer {\n",
       "         truncated_normal_initializer {\n",
       "           mean: 0.0\n",
       "           stddev: 0.029999999329447746\n",
       "         }\n",
       "       }\n",
       "       activation: SWISH\n",
       "       batch_norm {\n",
       "         decay: 0.9900000095367432\n",
       "         scale: true\n",
       "         epsilon: 0.0010000000474974513\n",
       "       }\n",
       "       force_use_bias: true\n",
       "     }\n",
       "     bifpn {\n",
       "       min_level: 3\n",
       "       max_level: 7\n",
       "       num_iterations: 7\n",
       "       num_filters: 224\n",
       "     }\n",
       "   }\n",
       "   box_coder {\n",
       "     faster_rcnn_box_coder {\n",
       "       y_scale: 1.0\n",
       "       x_scale: 1.0\n",
       "       height_scale: 1.0\n",
       "       width_scale: 1.0\n",
       "     }\n",
       "   }\n",
       "   matcher {\n",
       "     argmax_matcher {\n",
       "       matched_threshold: 0.5\n",
       "       unmatched_threshold: 0.5\n",
       "       ignore_thresholds: false\n",
       "       negatives_lower_than_unmatched: true\n",
       "       force_match_for_each_row: true\n",
       "       use_matmul_gather: true\n",
       "     }\n",
       "   }\n",
       "   similarity_calculator {\n",
       "     iou_similarity {\n",
       "     }\n",
       "   }\n",
       "   box_predictor {\n",
       "     weight_shared_convolutional_box_predictor {\n",
       "       conv_hyperparams {\n",
       "         regularizer {\n",
       "           l2_regularizer {\n",
       "             weight: 3.9999998989515007e-05\n",
       "           }\n",
       "         }\n",
       "         initializer {\n",
       "           random_normal_initializer {\n",
       "             mean: 0.0\n",
       "             stddev: 0.009999999776482582\n",
       "           }\n",
       "         }\n",
       "         activation: SWISH\n",
       "         batch_norm {\n",
       "           decay: 0.9900000095367432\n",
       "           scale: true\n",
       "           epsilon: 0.0010000000474974513\n",
       "         }\n",
       "         force_use_bias: true\n",
       "       }\n",
       "       depth: 224\n",
       "       num_layers_before_predictor: 4\n",
       "       kernel_size: 3\n",
       "       class_prediction_bias_init: -4.599999904632568\n",
       "       use_depthwise: true\n",
       "     }\n",
       "   }\n",
       "   anchor_generator {\n",
       "     multiscale_anchor_generator {\n",
       "       min_level: 3\n",
       "       max_level: 7\n",
       "       anchor_scale: 4.0\n",
       "       aspect_ratios: 1.0\n",
       "       aspect_ratios: 2.0\n",
       "       aspect_ratios: 0.5\n",
       "       scales_per_octave: 3\n",
       "     }\n",
       "   }\n",
       "   post_processing {\n",
       "     batch_non_max_suppression {\n",
       "       score_threshold: 9.99999993922529e-09\n",
       "       iou_threshold: 0.5\n",
       "       max_detections_per_class: 100\n",
       "       max_total_detections: 100\n",
       "     }\n",
       "     score_converter: SIGMOID\n",
       "   }\n",
       "   normalize_loss_by_num_matches: true\n",
       "   loss {\n",
       "     localization_loss {\n",
       "       weighted_smooth_l1 {\n",
       "       }\n",
       "     }\n",
       "     classification_loss {\n",
       "       weighted_sigmoid_focal {\n",
       "         gamma: 1.5\n",
       "         alpha: 0.25\n",
       "       }\n",
       "     }\n",
       "     classification_weight: 1.0\n",
       "     localization_weight: 1.0\n",
       "   }\n",
       "   encode_background_as_zeros: true\n",
       "   normalize_loc_loss_by_codesize: true\n",
       "   inplace_batchnorm_update: true\n",
       "   freeze_batchnorm: false\n",
       "   add_background_class: false\n",
       " },\n",
       " 'train_config': batch_size: 128\n",
       " data_augmentation_options {\n",
       "   random_horizontal_flip {\n",
       "   }\n",
       " }\n",
       " data_augmentation_options {\n",
       "   random_scale_crop_and_pad_to_square {\n",
       "     output_size: 1024\n",
       "     scale_min: 0.10000000149011612\n",
       "     scale_max: 2.0\n",
       "   }\n",
       " }\n",
       " sync_replicas: true\n",
       " optimizer {\n",
       "   momentum_optimizer {\n",
       "     learning_rate {\n",
       "       cosine_decay_learning_rate {\n",
       "         learning_rate_base: 0.07999999821186066\n",
       "         total_steps: 300000\n",
       "         warmup_learning_rate: 0.0010000000474974513\n",
       "         warmup_steps: 2500\n",
       "       }\n",
       "     }\n",
       "     momentum_optimizer_value: 0.8999999761581421\n",
       "   }\n",
       "   use_moving_average: false\n",
       " }\n",
       " fine_tune_checkpoint: \"PATH_TO_BE_CONFIGURED\"\n",
       " num_steps: 300000\n",
       " startup_delay_steps: 0.0\n",
       " replicas_to_aggregate: 8\n",
       " max_number_of_boxes: 100\n",
       " unpad_groundtruth_tensors: false\n",
       " fine_tune_checkpoint_type: \"classification\"\n",
       " use_bfloat16: true\n",
       " fine_tune_checkpoint_version: V2,\n",
       " 'train_input_config': label_map_path: \"PATH_TO_BE_CONFIGURED/label_map.txt\"\n",
       " tf_record_input_reader {\n",
       "   input_path: \"PATH_TO_BE_CONFIGURED/train2017-?????-of-00256.tfrecord\"\n",
       " },\n",
       " 'eval_config': metrics_set: \"coco_detection_metrics\"\n",
       " use_moving_averages: false\n",
       " batch_size: 1,\n",
       " 'eval_input_configs': [label_map_path: \"PATH_TO_BE_CONFIGURED/label_map.txt\"\n",
       " shuffle: false\n",
       " num_epochs: 1\n",
       " tf_record_input_reader {\n",
       "   input_path: \"PATH_TO_BE_CONFIGURED/val2017-?????-of-00032.tfrecord\"\n",
       " }\n",
       " ],\n",
       " 'eval_input_config': label_map_path: \"PATH_TO_BE_CONFIGURED/label_map.txt\"\n",
       " shuffle: false\n",
       " num_epochs: 1\n",
       " tf_record_input_reader {\n",
       "   input_path: \"PATH_TO_BE_CONFIGURED/val2017-?????-of-00032.tfrecord\"\n",
       " }}"
      ]
     },
     "execution_count": 225,
     "metadata": {},
     "output_type": "execute_result"
    },
    {
     "data": {
      "application/javascript": [
       "\n",
       "            setTimeout(function() {\n",
       "                var nbb_cell_id = 225;\n",
       "                var nbb_unformatted_code = \"config = config_util.get_configs_from_pipeline_file(files[\\\"PIPELINE_CONFIG\\\"])\\nconfig\";\n",
       "                var nbb_formatted_code = \"config = config_util.get_configs_from_pipeline_file(files[\\\"PIPELINE_CONFIG\\\"])\\nconfig\";\n",
       "                var nbb_cells = Jupyter.notebook.get_cells();\n",
       "                for (var i = 0; i < nbb_cells.length; ++i) {\n",
       "                    if (nbb_cells[i].input_prompt_number == nbb_cell_id) {\n",
       "                        if (nbb_cells[i].get_text() == nbb_unformatted_code) {\n",
       "                             nbb_cells[i].set_text(nbb_formatted_code);\n",
       "                        }\n",
       "                        break;\n",
       "                    }\n",
       "                }\n",
       "            }, 500);\n",
       "            "
      ],
      "text/plain": [
       "<IPython.core.display.Javascript object>"
      ]
     },
     "metadata": {},
     "output_type": "display_data"
    },
    {
     "data": {
      "application/javascript": [
       "\n",
       "            setTimeout(function() {\n",
       "                var nbb_cell_id = 225;\n",
       "                var nbb_unformatted_code = \"config = config_util.get_configs_from_pipeline_file(files[\\\"PIPELINE_CONFIG\\\"])\\nconfig\";\n",
       "                var nbb_formatted_code = \"config = config_util.get_configs_from_pipeline_file(files[\\\"PIPELINE_CONFIG\\\"])\\nconfig\";\n",
       "                var nbb_cells = Jupyter.notebook.get_cells();\n",
       "                for (var i = 0; i < nbb_cells.length; ++i) {\n",
       "                    if (nbb_cells[i].input_prompt_number == nbb_cell_id) {\n",
       "                        if (nbb_cells[i].get_text() == nbb_unformatted_code) {\n",
       "                             nbb_cells[i].set_text(nbb_formatted_code);\n",
       "                        }\n",
       "                        break;\n",
       "                    }\n",
       "                }\n",
       "            }, 500);\n",
       "            "
      ],
      "text/plain": [
       "<IPython.core.display.Javascript object>"
      ]
     },
     "metadata": {},
     "output_type": "display_data"
    },
    {
     "data": {
      "application/javascript": [
       "\n",
       "            setTimeout(function() {\n",
       "                var nbb_cell_id = 225;\n",
       "                var nbb_unformatted_code = \"config = config_util.get_configs_from_pipeline_file(files[\\\"PIPELINE_CONFIG\\\"])\\nconfig\";\n",
       "                var nbb_formatted_code = \"config = config_util.get_configs_from_pipeline_file(files[\\\"PIPELINE_CONFIG\\\"])\\nconfig\";\n",
       "                var nbb_cells = Jupyter.notebook.get_cells();\n",
       "                for (var i = 0; i < nbb_cells.length; ++i) {\n",
       "                    if (nbb_cells[i].input_prompt_number == nbb_cell_id) {\n",
       "                        if (nbb_cells[i].get_text() == nbb_unformatted_code) {\n",
       "                             nbb_cells[i].set_text(nbb_formatted_code);\n",
       "                        }\n",
       "                        break;\n",
       "                    }\n",
       "                }\n",
       "            }, 500);\n",
       "            "
      ],
      "text/plain": [
       "<IPython.core.display.Javascript object>"
      ]
     },
     "metadata": {},
     "output_type": "display_data"
    },
    {
     "data": {
      "application/javascript": [
       "\n",
       "            setTimeout(function() {\n",
       "                var nbb_cell_id = 225;\n",
       "                var nbb_unformatted_code = \"config = config_util.get_configs_from_pipeline_file(files[\\\"PIPELINE_CONFIG\\\"])\\nconfig\";\n",
       "                var nbb_formatted_code = \"config = config_util.get_configs_from_pipeline_file(files[\\\"PIPELINE_CONFIG\\\"])\\nconfig\";\n",
       "                var nbb_cells = Jupyter.notebook.get_cells();\n",
       "                for (var i = 0; i < nbb_cells.length; ++i) {\n",
       "                    if (nbb_cells[i].input_prompt_number == nbb_cell_id) {\n",
       "                        if (nbb_cells[i].get_text() == nbb_unformatted_code) {\n",
       "                             nbb_cells[i].set_text(nbb_formatted_code);\n",
       "                        }\n",
       "                        break;\n",
       "                    }\n",
       "                }\n",
       "            }, 500);\n",
       "            "
      ],
      "text/plain": [
       "<IPython.core.display.Javascript object>"
      ]
     },
     "metadata": {},
     "output_type": "display_data"
    },
    {
     "data": {
      "application/javascript": [
       "\n",
       "            setTimeout(function() {\n",
       "                var nbb_cell_id = 225;\n",
       "                var nbb_unformatted_code = \"config = config_util.get_configs_from_pipeline_file(files[\\\"PIPELINE_CONFIG\\\"])\\nconfig\";\n",
       "                var nbb_formatted_code = \"config = config_util.get_configs_from_pipeline_file(files[\\\"PIPELINE_CONFIG\\\"])\\nconfig\";\n",
       "                var nbb_cells = Jupyter.notebook.get_cells();\n",
       "                for (var i = 0; i < nbb_cells.length; ++i) {\n",
       "                    if (nbb_cells[i].input_prompt_number == nbb_cell_id) {\n",
       "                        if (nbb_cells[i].get_text() == nbb_unformatted_code) {\n",
       "                             nbb_cells[i].set_text(nbb_formatted_code);\n",
       "                        }\n",
       "                        break;\n",
       "                    }\n",
       "                }\n",
       "            }, 500);\n",
       "            "
      ],
      "text/plain": [
       "<IPython.core.display.Javascript object>"
      ]
     },
     "metadata": {},
     "output_type": "display_data"
    },
    {
     "data": {
      "application/javascript": [
       "\n",
       "            setTimeout(function() {\n",
       "                var nbb_cell_id = 225;\n",
       "                var nbb_unformatted_code = \"config = config_util.get_configs_from_pipeline_file(files[\\\"PIPELINE_CONFIG\\\"])\\nconfig\";\n",
       "                var nbb_formatted_code = \"config = config_util.get_configs_from_pipeline_file(files[\\\"PIPELINE_CONFIG\\\"])\\nconfig\";\n",
       "                var nbb_cells = Jupyter.notebook.get_cells();\n",
       "                for (var i = 0; i < nbb_cells.length; ++i) {\n",
       "                    if (nbb_cells[i].input_prompt_number == nbb_cell_id) {\n",
       "                        if (nbb_cells[i].get_text() == nbb_unformatted_code) {\n",
       "                             nbb_cells[i].set_text(nbb_formatted_code);\n",
       "                        }\n",
       "                        break;\n",
       "                    }\n",
       "                }\n",
       "            }, 500);\n",
       "            "
      ],
      "text/plain": [
       "<IPython.core.display.Javascript object>"
      ]
     },
     "metadata": {},
     "output_type": "display_data"
    },
    {
     "data": {
      "application/javascript": [
       "\n",
       "            setTimeout(function() {\n",
       "                var nbb_cell_id = 225;\n",
       "                var nbb_unformatted_code = \"config = config_util.get_configs_from_pipeline_file(files[\\\"PIPELINE_CONFIG\\\"])\\nconfig\";\n",
       "                var nbb_formatted_code = \"config = config_util.get_configs_from_pipeline_file(files[\\\"PIPELINE_CONFIG\\\"])\\nconfig\";\n",
       "                var nbb_cells = Jupyter.notebook.get_cells();\n",
       "                for (var i = 0; i < nbb_cells.length; ++i) {\n",
       "                    if (nbb_cells[i].input_prompt_number == nbb_cell_id) {\n",
       "                        if (nbb_cells[i].get_text() == nbb_unformatted_code) {\n",
       "                             nbb_cells[i].set_text(nbb_formatted_code);\n",
       "                        }\n",
       "                        break;\n",
       "                    }\n",
       "                }\n",
       "            }, 500);\n",
       "            "
      ],
      "text/plain": [
       "<IPython.core.display.Javascript object>"
      ]
     },
     "metadata": {},
     "output_type": "display_data"
    },
    {
     "data": {
      "application/javascript": [
       "\n",
       "            setTimeout(function() {\n",
       "                var nbb_cell_id = 225;\n",
       "                var nbb_unformatted_code = \"config = config_util.get_configs_from_pipeline_file(files[\\\"PIPELINE_CONFIG\\\"])\\nconfig\";\n",
       "                var nbb_formatted_code = \"config = config_util.get_configs_from_pipeline_file(files[\\\"PIPELINE_CONFIG\\\"])\\nconfig\";\n",
       "                var nbb_cells = Jupyter.notebook.get_cells();\n",
       "                for (var i = 0; i < nbb_cells.length; ++i) {\n",
       "                    if (nbb_cells[i].input_prompt_number == nbb_cell_id) {\n",
       "                        if (nbb_cells[i].get_text() == nbb_unformatted_code) {\n",
       "                             nbb_cells[i].set_text(nbb_formatted_code);\n",
       "                        }\n",
       "                        break;\n",
       "                    }\n",
       "                }\n",
       "            }, 500);\n",
       "            "
      ],
      "text/plain": [
       "<IPython.core.display.Javascript object>"
      ]
     },
     "metadata": {},
     "output_type": "display_data"
    },
    {
     "data": {
      "application/javascript": [
       "\n",
       "            setTimeout(function() {\n",
       "                var nbb_cell_id = 225;\n",
       "                var nbb_unformatted_code = \"config = config_util.get_configs_from_pipeline_file(files[\\\"PIPELINE_CONFIG\\\"])\\nconfig\";\n",
       "                var nbb_formatted_code = \"config = config_util.get_configs_from_pipeline_file(files[\\\"PIPELINE_CONFIG\\\"])\\nconfig\";\n",
       "                var nbb_cells = Jupyter.notebook.get_cells();\n",
       "                for (var i = 0; i < nbb_cells.length; ++i) {\n",
       "                    if (nbb_cells[i].input_prompt_number == nbb_cell_id) {\n",
       "                        if (nbb_cells[i].get_text() == nbb_unformatted_code) {\n",
       "                             nbb_cells[i].set_text(nbb_formatted_code);\n",
       "                        }\n",
       "                        break;\n",
       "                    }\n",
       "                }\n",
       "            }, 500);\n",
       "            "
      ],
      "text/plain": [
       "<IPython.core.display.Javascript object>"
      ]
     },
     "metadata": {},
     "output_type": "display_data"
    },
    {
     "data": {
      "application/javascript": [
       "\n",
       "            setTimeout(function() {\n",
       "                var nbb_cell_id = 225;\n",
       "                var nbb_unformatted_code = \"config = config_util.get_configs_from_pipeline_file(files[\\\"PIPELINE_CONFIG\\\"])\\nconfig\";\n",
       "                var nbb_formatted_code = \"config = config_util.get_configs_from_pipeline_file(files[\\\"PIPELINE_CONFIG\\\"])\\nconfig\";\n",
       "                var nbb_cells = Jupyter.notebook.get_cells();\n",
       "                for (var i = 0; i < nbb_cells.length; ++i) {\n",
       "                    if (nbb_cells[i].input_prompt_number == nbb_cell_id) {\n",
       "                        if (nbb_cells[i].get_text() == nbb_unformatted_code) {\n",
       "                             nbb_cells[i].set_text(nbb_formatted_code);\n",
       "                        }\n",
       "                        break;\n",
       "                    }\n",
       "                }\n",
       "            }, 500);\n",
       "            "
      ],
      "text/plain": [
       "<IPython.core.display.Javascript object>"
      ]
     },
     "metadata": {},
     "output_type": "display_data"
    }
   ],
   "source": [
    "config = config_util.get_configs_from_pipeline_file(files[\"PIPELINE_CONFIG\"])\n",
    "config"
   ]
  },
  {
   "cell_type": "code",
   "execution_count": 226,
   "id": "16baa8f3",
   "metadata": {},
   "outputs": [
    {
     "data": {
      "application/javascript": [
       "\n",
       "            setTimeout(function() {\n",
       "                var nbb_cell_id = 226;\n",
       "                var nbb_unformatted_code = \"pipeline_config = pipeline_pb2.TrainEvalPipelineConfig()\\nwith tf.io.gfile.GFile(files[\\\"PIPELINE_CONFIG\\\"], \\\"r\\\") as f:\\n    proto_str = f.read()\\n    text_format.Merge(proto_str, pipeline_config)\";\n",
       "                var nbb_formatted_code = \"pipeline_config = pipeline_pb2.TrainEvalPipelineConfig()\\nwith tf.io.gfile.GFile(files[\\\"PIPELINE_CONFIG\\\"], \\\"r\\\") as f:\\n    proto_str = f.read()\\n    text_format.Merge(proto_str, pipeline_config)\";\n",
       "                var nbb_cells = Jupyter.notebook.get_cells();\n",
       "                for (var i = 0; i < nbb_cells.length; ++i) {\n",
       "                    if (nbb_cells[i].input_prompt_number == nbb_cell_id) {\n",
       "                        if (nbb_cells[i].get_text() == nbb_unformatted_code) {\n",
       "                             nbb_cells[i].set_text(nbb_formatted_code);\n",
       "                        }\n",
       "                        break;\n",
       "                    }\n",
       "                }\n",
       "            }, 500);\n",
       "            "
      ],
      "text/plain": [
       "<IPython.core.display.Javascript object>"
      ]
     },
     "metadata": {},
     "output_type": "display_data"
    },
    {
     "data": {
      "application/javascript": [
       "\n",
       "            setTimeout(function() {\n",
       "                var nbb_cell_id = 226;\n",
       "                var nbb_unformatted_code = \"pipeline_config = pipeline_pb2.TrainEvalPipelineConfig()\\nwith tf.io.gfile.GFile(files[\\\"PIPELINE_CONFIG\\\"], \\\"r\\\") as f:\\n    proto_str = f.read()\\n    text_format.Merge(proto_str, pipeline_config)\";\n",
       "                var nbb_formatted_code = \"pipeline_config = pipeline_pb2.TrainEvalPipelineConfig()\\nwith tf.io.gfile.GFile(files[\\\"PIPELINE_CONFIG\\\"], \\\"r\\\") as f:\\n    proto_str = f.read()\\n    text_format.Merge(proto_str, pipeline_config)\";\n",
       "                var nbb_cells = Jupyter.notebook.get_cells();\n",
       "                for (var i = 0; i < nbb_cells.length; ++i) {\n",
       "                    if (nbb_cells[i].input_prompt_number == nbb_cell_id) {\n",
       "                        if (nbb_cells[i].get_text() == nbb_unformatted_code) {\n",
       "                             nbb_cells[i].set_text(nbb_formatted_code);\n",
       "                        }\n",
       "                        break;\n",
       "                    }\n",
       "                }\n",
       "            }, 500);\n",
       "            "
      ],
      "text/plain": [
       "<IPython.core.display.Javascript object>"
      ]
     },
     "metadata": {},
     "output_type": "display_data"
    },
    {
     "data": {
      "application/javascript": [
       "\n",
       "            setTimeout(function() {\n",
       "                var nbb_cell_id = 226;\n",
       "                var nbb_unformatted_code = \"pipeline_config = pipeline_pb2.TrainEvalPipelineConfig()\\nwith tf.io.gfile.GFile(files[\\\"PIPELINE_CONFIG\\\"], \\\"r\\\") as f:\\n    proto_str = f.read()\\n    text_format.Merge(proto_str, pipeline_config)\";\n",
       "                var nbb_formatted_code = \"pipeline_config = pipeline_pb2.TrainEvalPipelineConfig()\\nwith tf.io.gfile.GFile(files[\\\"PIPELINE_CONFIG\\\"], \\\"r\\\") as f:\\n    proto_str = f.read()\\n    text_format.Merge(proto_str, pipeline_config)\";\n",
       "                var nbb_cells = Jupyter.notebook.get_cells();\n",
       "                for (var i = 0; i < nbb_cells.length; ++i) {\n",
       "                    if (nbb_cells[i].input_prompt_number == nbb_cell_id) {\n",
       "                        if (nbb_cells[i].get_text() == nbb_unformatted_code) {\n",
       "                             nbb_cells[i].set_text(nbb_formatted_code);\n",
       "                        }\n",
       "                        break;\n",
       "                    }\n",
       "                }\n",
       "            }, 500);\n",
       "            "
      ],
      "text/plain": [
       "<IPython.core.display.Javascript object>"
      ]
     },
     "metadata": {},
     "output_type": "display_data"
    },
    {
     "data": {
      "application/javascript": [
       "\n",
       "            setTimeout(function() {\n",
       "                var nbb_cell_id = 226;\n",
       "                var nbb_unformatted_code = \"pipeline_config = pipeline_pb2.TrainEvalPipelineConfig()\\nwith tf.io.gfile.GFile(files[\\\"PIPELINE_CONFIG\\\"], \\\"r\\\") as f:\\n    proto_str = f.read()\\n    text_format.Merge(proto_str, pipeline_config)\";\n",
       "                var nbb_formatted_code = \"pipeline_config = pipeline_pb2.TrainEvalPipelineConfig()\\nwith tf.io.gfile.GFile(files[\\\"PIPELINE_CONFIG\\\"], \\\"r\\\") as f:\\n    proto_str = f.read()\\n    text_format.Merge(proto_str, pipeline_config)\";\n",
       "                var nbb_cells = Jupyter.notebook.get_cells();\n",
       "                for (var i = 0; i < nbb_cells.length; ++i) {\n",
       "                    if (nbb_cells[i].input_prompt_number == nbb_cell_id) {\n",
       "                        if (nbb_cells[i].get_text() == nbb_unformatted_code) {\n",
       "                             nbb_cells[i].set_text(nbb_formatted_code);\n",
       "                        }\n",
       "                        break;\n",
       "                    }\n",
       "                }\n",
       "            }, 500);\n",
       "            "
      ],
      "text/plain": [
       "<IPython.core.display.Javascript object>"
      ]
     },
     "metadata": {},
     "output_type": "display_data"
    },
    {
     "data": {
      "application/javascript": [
       "\n",
       "            setTimeout(function() {\n",
       "                var nbb_cell_id = 226;\n",
       "                var nbb_unformatted_code = \"pipeline_config = pipeline_pb2.TrainEvalPipelineConfig()\\nwith tf.io.gfile.GFile(files[\\\"PIPELINE_CONFIG\\\"], \\\"r\\\") as f:\\n    proto_str = f.read()\\n    text_format.Merge(proto_str, pipeline_config)\";\n",
       "                var nbb_formatted_code = \"pipeline_config = pipeline_pb2.TrainEvalPipelineConfig()\\nwith tf.io.gfile.GFile(files[\\\"PIPELINE_CONFIG\\\"], \\\"r\\\") as f:\\n    proto_str = f.read()\\n    text_format.Merge(proto_str, pipeline_config)\";\n",
       "                var nbb_cells = Jupyter.notebook.get_cells();\n",
       "                for (var i = 0; i < nbb_cells.length; ++i) {\n",
       "                    if (nbb_cells[i].input_prompt_number == nbb_cell_id) {\n",
       "                        if (nbb_cells[i].get_text() == nbb_unformatted_code) {\n",
       "                             nbb_cells[i].set_text(nbb_formatted_code);\n",
       "                        }\n",
       "                        break;\n",
       "                    }\n",
       "                }\n",
       "            }, 500);\n",
       "            "
      ],
      "text/plain": [
       "<IPython.core.display.Javascript object>"
      ]
     },
     "metadata": {},
     "output_type": "display_data"
    },
    {
     "data": {
      "application/javascript": [
       "\n",
       "            setTimeout(function() {\n",
       "                var nbb_cell_id = 226;\n",
       "                var nbb_unformatted_code = \"pipeline_config = pipeline_pb2.TrainEvalPipelineConfig()\\nwith tf.io.gfile.GFile(files[\\\"PIPELINE_CONFIG\\\"], \\\"r\\\") as f:\\n    proto_str = f.read()\\n    text_format.Merge(proto_str, pipeline_config)\";\n",
       "                var nbb_formatted_code = \"pipeline_config = pipeline_pb2.TrainEvalPipelineConfig()\\nwith tf.io.gfile.GFile(files[\\\"PIPELINE_CONFIG\\\"], \\\"r\\\") as f:\\n    proto_str = f.read()\\n    text_format.Merge(proto_str, pipeline_config)\";\n",
       "                var nbb_cells = Jupyter.notebook.get_cells();\n",
       "                for (var i = 0; i < nbb_cells.length; ++i) {\n",
       "                    if (nbb_cells[i].input_prompt_number == nbb_cell_id) {\n",
       "                        if (nbb_cells[i].get_text() == nbb_unformatted_code) {\n",
       "                             nbb_cells[i].set_text(nbb_formatted_code);\n",
       "                        }\n",
       "                        break;\n",
       "                    }\n",
       "                }\n",
       "            }, 500);\n",
       "            "
      ],
      "text/plain": [
       "<IPython.core.display.Javascript object>"
      ]
     },
     "metadata": {},
     "output_type": "display_data"
    },
    {
     "data": {
      "application/javascript": [
       "\n",
       "            setTimeout(function() {\n",
       "                var nbb_cell_id = 226;\n",
       "                var nbb_unformatted_code = \"pipeline_config = pipeline_pb2.TrainEvalPipelineConfig()\\nwith tf.io.gfile.GFile(files[\\\"PIPELINE_CONFIG\\\"], \\\"r\\\") as f:\\n    proto_str = f.read()\\n    text_format.Merge(proto_str, pipeline_config)\";\n",
       "                var nbb_formatted_code = \"pipeline_config = pipeline_pb2.TrainEvalPipelineConfig()\\nwith tf.io.gfile.GFile(files[\\\"PIPELINE_CONFIG\\\"], \\\"r\\\") as f:\\n    proto_str = f.read()\\n    text_format.Merge(proto_str, pipeline_config)\";\n",
       "                var nbb_cells = Jupyter.notebook.get_cells();\n",
       "                for (var i = 0; i < nbb_cells.length; ++i) {\n",
       "                    if (nbb_cells[i].input_prompt_number == nbb_cell_id) {\n",
       "                        if (nbb_cells[i].get_text() == nbb_unformatted_code) {\n",
       "                             nbb_cells[i].set_text(nbb_formatted_code);\n",
       "                        }\n",
       "                        break;\n",
       "                    }\n",
       "                }\n",
       "            }, 500);\n",
       "            "
      ],
      "text/plain": [
       "<IPython.core.display.Javascript object>"
      ]
     },
     "metadata": {},
     "output_type": "display_data"
    },
    {
     "data": {
      "application/javascript": [
       "\n",
       "            setTimeout(function() {\n",
       "                var nbb_cell_id = 226;\n",
       "                var nbb_unformatted_code = \"pipeline_config = pipeline_pb2.TrainEvalPipelineConfig()\\nwith tf.io.gfile.GFile(files[\\\"PIPELINE_CONFIG\\\"], \\\"r\\\") as f:\\n    proto_str = f.read()\\n    text_format.Merge(proto_str, pipeline_config)\";\n",
       "                var nbb_formatted_code = \"pipeline_config = pipeline_pb2.TrainEvalPipelineConfig()\\nwith tf.io.gfile.GFile(files[\\\"PIPELINE_CONFIG\\\"], \\\"r\\\") as f:\\n    proto_str = f.read()\\n    text_format.Merge(proto_str, pipeline_config)\";\n",
       "                var nbb_cells = Jupyter.notebook.get_cells();\n",
       "                for (var i = 0; i < nbb_cells.length; ++i) {\n",
       "                    if (nbb_cells[i].input_prompt_number == nbb_cell_id) {\n",
       "                        if (nbb_cells[i].get_text() == nbb_unformatted_code) {\n",
       "                             nbb_cells[i].set_text(nbb_formatted_code);\n",
       "                        }\n",
       "                        break;\n",
       "                    }\n",
       "                }\n",
       "            }, 500);\n",
       "            "
      ],
      "text/plain": [
       "<IPython.core.display.Javascript object>"
      ]
     },
     "metadata": {},
     "output_type": "display_data"
    },
    {
     "data": {
      "application/javascript": [
       "\n",
       "            setTimeout(function() {\n",
       "                var nbb_cell_id = 226;\n",
       "                var nbb_unformatted_code = \"pipeline_config = pipeline_pb2.TrainEvalPipelineConfig()\\nwith tf.io.gfile.GFile(files[\\\"PIPELINE_CONFIG\\\"], \\\"r\\\") as f:\\n    proto_str = f.read()\\n    text_format.Merge(proto_str, pipeline_config)\";\n",
       "                var nbb_formatted_code = \"pipeline_config = pipeline_pb2.TrainEvalPipelineConfig()\\nwith tf.io.gfile.GFile(files[\\\"PIPELINE_CONFIG\\\"], \\\"r\\\") as f:\\n    proto_str = f.read()\\n    text_format.Merge(proto_str, pipeline_config)\";\n",
       "                var nbb_cells = Jupyter.notebook.get_cells();\n",
       "                for (var i = 0; i < nbb_cells.length; ++i) {\n",
       "                    if (nbb_cells[i].input_prompt_number == nbb_cell_id) {\n",
       "                        if (nbb_cells[i].get_text() == nbb_unformatted_code) {\n",
       "                             nbb_cells[i].set_text(nbb_formatted_code);\n",
       "                        }\n",
       "                        break;\n",
       "                    }\n",
       "                }\n",
       "            }, 500);\n",
       "            "
      ],
      "text/plain": [
       "<IPython.core.display.Javascript object>"
      ]
     },
     "metadata": {},
     "output_type": "display_data"
    },
    {
     "data": {
      "application/javascript": [
       "\n",
       "            setTimeout(function() {\n",
       "                var nbb_cell_id = 226;\n",
       "                var nbb_unformatted_code = \"pipeline_config = pipeline_pb2.TrainEvalPipelineConfig()\\nwith tf.io.gfile.GFile(files[\\\"PIPELINE_CONFIG\\\"], \\\"r\\\") as f:\\n    proto_str = f.read()\\n    text_format.Merge(proto_str, pipeline_config)\";\n",
       "                var nbb_formatted_code = \"pipeline_config = pipeline_pb2.TrainEvalPipelineConfig()\\nwith tf.io.gfile.GFile(files[\\\"PIPELINE_CONFIG\\\"], \\\"r\\\") as f:\\n    proto_str = f.read()\\n    text_format.Merge(proto_str, pipeline_config)\";\n",
       "                var nbb_cells = Jupyter.notebook.get_cells();\n",
       "                for (var i = 0; i < nbb_cells.length; ++i) {\n",
       "                    if (nbb_cells[i].input_prompt_number == nbb_cell_id) {\n",
       "                        if (nbb_cells[i].get_text() == nbb_unformatted_code) {\n",
       "                             nbb_cells[i].set_text(nbb_formatted_code);\n",
       "                        }\n",
       "                        break;\n",
       "                    }\n",
       "                }\n",
       "            }, 500);\n",
       "            "
      ],
      "text/plain": [
       "<IPython.core.display.Javascript object>"
      ]
     },
     "metadata": {},
     "output_type": "display_data"
    }
   ],
   "source": [
    "pipeline_config = pipeline_pb2.TrainEvalPipelineConfig()\n",
    "with tf.io.gfile.GFile(files[\"PIPELINE_CONFIG\"], \"r\") as f:\n",
    "    proto_str = f.read()\n",
    "    text_format.Merge(proto_str, pipeline_config)"
   ]
  },
  {
   "cell_type": "code",
   "execution_count": 227,
   "id": "700fc869",
   "metadata": {},
   "outputs": [
    {
     "data": {
      "application/javascript": [
       "\n",
       "            setTimeout(function() {\n",
       "                var nbb_cell_id = 227;\n",
       "                var nbb_unformatted_code = \"pipeline_config.model.ssd.num_classes = len(labels)\\npipeline_config.train_config.batch_size = 4\\npipeline_config.train_config.fine_tune_checkpoint = os.path.join(\\n    paths[\\\"PRETRAINED_MODEL_PATH\\\"], PRETRAINED_MODEL_NAME, \\\"checkpoint\\\", \\\"ckpt-0\\\"\\n)\\npipeline_config.train_config.fine_tune_checkpoint_type = \\\"detection\\\"\\npipeline_config.train_input_reader.label_map_path = files[\\\"LABELMAP\\\"]\\npipeline_config.train_input_reader.tf_record_input_reader.input_path[:] = [\\n    os.path.join(paths[\\\"DATA_PATH\\\"], \\\"train.record\\\")\\n]\\npipeline_config.eval_input_reader[0].label_map_path = files[\\\"LABELMAP\\\"]\\npipeline_config.eval_input_reader[0].tf_record_input_reader.input_path[:] = [\\n    os.path.join(paths[\\\"DATA_PATH\\\"], \\\"test.record\\\")\\n]\";\n",
       "                var nbb_formatted_code = \"pipeline_config.model.ssd.num_classes = len(labels)\\npipeline_config.train_config.batch_size = 4\\npipeline_config.train_config.fine_tune_checkpoint = os.path.join(\\n    paths[\\\"PRETRAINED_MODEL_PATH\\\"], PRETRAINED_MODEL_NAME, \\\"checkpoint\\\", \\\"ckpt-0\\\"\\n)\\npipeline_config.train_config.fine_tune_checkpoint_type = \\\"detection\\\"\\npipeline_config.train_input_reader.label_map_path = files[\\\"LABELMAP\\\"]\\npipeline_config.train_input_reader.tf_record_input_reader.input_path[:] = [\\n    os.path.join(paths[\\\"DATA_PATH\\\"], \\\"train.record\\\")\\n]\\npipeline_config.eval_input_reader[0].label_map_path = files[\\\"LABELMAP\\\"]\\npipeline_config.eval_input_reader[0].tf_record_input_reader.input_path[:] = [\\n    os.path.join(paths[\\\"DATA_PATH\\\"], \\\"test.record\\\")\\n]\";\n",
       "                var nbb_cells = Jupyter.notebook.get_cells();\n",
       "                for (var i = 0; i < nbb_cells.length; ++i) {\n",
       "                    if (nbb_cells[i].input_prompt_number == nbb_cell_id) {\n",
       "                        if (nbb_cells[i].get_text() == nbb_unformatted_code) {\n",
       "                             nbb_cells[i].set_text(nbb_formatted_code);\n",
       "                        }\n",
       "                        break;\n",
       "                    }\n",
       "                }\n",
       "            }, 500);\n",
       "            "
      ],
      "text/plain": [
       "<IPython.core.display.Javascript object>"
      ]
     },
     "metadata": {},
     "output_type": "display_data"
    },
    {
     "data": {
      "application/javascript": [
       "\n",
       "            setTimeout(function() {\n",
       "                var nbb_cell_id = 227;\n",
       "                var nbb_unformatted_code = \"pipeline_config.model.ssd.num_classes = len(labels)\\npipeline_config.train_config.batch_size = 4\\npipeline_config.train_config.fine_tune_checkpoint = os.path.join(\\n    paths[\\\"PRETRAINED_MODEL_PATH\\\"], PRETRAINED_MODEL_NAME, \\\"checkpoint\\\", \\\"ckpt-0\\\"\\n)\\npipeline_config.train_config.fine_tune_checkpoint_type = \\\"detection\\\"\\npipeline_config.train_input_reader.label_map_path = files[\\\"LABELMAP\\\"]\\npipeline_config.train_input_reader.tf_record_input_reader.input_path[:] = [\\n    os.path.join(paths[\\\"DATA_PATH\\\"], \\\"train.record\\\")\\n]\\npipeline_config.eval_input_reader[0].label_map_path = files[\\\"LABELMAP\\\"]\\npipeline_config.eval_input_reader[0].tf_record_input_reader.input_path[:] = [\\n    os.path.join(paths[\\\"DATA_PATH\\\"], \\\"test.record\\\")\\n]\";\n",
       "                var nbb_formatted_code = \"pipeline_config.model.ssd.num_classes = len(labels)\\npipeline_config.train_config.batch_size = 4\\npipeline_config.train_config.fine_tune_checkpoint = os.path.join(\\n    paths[\\\"PRETRAINED_MODEL_PATH\\\"], PRETRAINED_MODEL_NAME, \\\"checkpoint\\\", \\\"ckpt-0\\\"\\n)\\npipeline_config.train_config.fine_tune_checkpoint_type = \\\"detection\\\"\\npipeline_config.train_input_reader.label_map_path = files[\\\"LABELMAP\\\"]\\npipeline_config.train_input_reader.tf_record_input_reader.input_path[:] = [\\n    os.path.join(paths[\\\"DATA_PATH\\\"], \\\"train.record\\\")\\n]\\npipeline_config.eval_input_reader[0].label_map_path = files[\\\"LABELMAP\\\"]\\npipeline_config.eval_input_reader[0].tf_record_input_reader.input_path[:] = [\\n    os.path.join(paths[\\\"DATA_PATH\\\"], \\\"test.record\\\")\\n]\";\n",
       "                var nbb_cells = Jupyter.notebook.get_cells();\n",
       "                for (var i = 0; i < nbb_cells.length; ++i) {\n",
       "                    if (nbb_cells[i].input_prompt_number == nbb_cell_id) {\n",
       "                        if (nbb_cells[i].get_text() == nbb_unformatted_code) {\n",
       "                             nbb_cells[i].set_text(nbb_formatted_code);\n",
       "                        }\n",
       "                        break;\n",
       "                    }\n",
       "                }\n",
       "            }, 500);\n",
       "            "
      ],
      "text/plain": [
       "<IPython.core.display.Javascript object>"
      ]
     },
     "metadata": {},
     "output_type": "display_data"
    },
    {
     "data": {
      "application/javascript": [
       "\n",
       "            setTimeout(function() {\n",
       "                var nbb_cell_id = 227;\n",
       "                var nbb_unformatted_code = \"pipeline_config.model.ssd.num_classes = len(labels)\\npipeline_config.train_config.batch_size = 4\\npipeline_config.train_config.fine_tune_checkpoint = os.path.join(\\n    paths[\\\"PRETRAINED_MODEL_PATH\\\"], PRETRAINED_MODEL_NAME, \\\"checkpoint\\\", \\\"ckpt-0\\\"\\n)\\npipeline_config.train_config.fine_tune_checkpoint_type = \\\"detection\\\"\\npipeline_config.train_input_reader.label_map_path = files[\\\"LABELMAP\\\"]\\npipeline_config.train_input_reader.tf_record_input_reader.input_path[:] = [\\n    os.path.join(paths[\\\"DATA_PATH\\\"], \\\"train.record\\\")\\n]\\npipeline_config.eval_input_reader[0].label_map_path = files[\\\"LABELMAP\\\"]\\npipeline_config.eval_input_reader[0].tf_record_input_reader.input_path[:] = [\\n    os.path.join(paths[\\\"DATA_PATH\\\"], \\\"test.record\\\")\\n]\";\n",
       "                var nbb_formatted_code = \"pipeline_config.model.ssd.num_classes = len(labels)\\npipeline_config.train_config.batch_size = 4\\npipeline_config.train_config.fine_tune_checkpoint = os.path.join(\\n    paths[\\\"PRETRAINED_MODEL_PATH\\\"], PRETRAINED_MODEL_NAME, \\\"checkpoint\\\", \\\"ckpt-0\\\"\\n)\\npipeline_config.train_config.fine_tune_checkpoint_type = \\\"detection\\\"\\npipeline_config.train_input_reader.label_map_path = files[\\\"LABELMAP\\\"]\\npipeline_config.train_input_reader.tf_record_input_reader.input_path[:] = [\\n    os.path.join(paths[\\\"DATA_PATH\\\"], \\\"train.record\\\")\\n]\\npipeline_config.eval_input_reader[0].label_map_path = files[\\\"LABELMAP\\\"]\\npipeline_config.eval_input_reader[0].tf_record_input_reader.input_path[:] = [\\n    os.path.join(paths[\\\"DATA_PATH\\\"], \\\"test.record\\\")\\n]\";\n",
       "                var nbb_cells = Jupyter.notebook.get_cells();\n",
       "                for (var i = 0; i < nbb_cells.length; ++i) {\n",
       "                    if (nbb_cells[i].input_prompt_number == nbb_cell_id) {\n",
       "                        if (nbb_cells[i].get_text() == nbb_unformatted_code) {\n",
       "                             nbb_cells[i].set_text(nbb_formatted_code);\n",
       "                        }\n",
       "                        break;\n",
       "                    }\n",
       "                }\n",
       "            }, 500);\n",
       "            "
      ],
      "text/plain": [
       "<IPython.core.display.Javascript object>"
      ]
     },
     "metadata": {},
     "output_type": "display_data"
    },
    {
     "data": {
      "application/javascript": [
       "\n",
       "            setTimeout(function() {\n",
       "                var nbb_cell_id = 227;\n",
       "                var nbb_unformatted_code = \"pipeline_config.model.ssd.num_classes = len(labels)\\npipeline_config.train_config.batch_size = 4\\npipeline_config.train_config.fine_tune_checkpoint = os.path.join(\\n    paths[\\\"PRETRAINED_MODEL_PATH\\\"], PRETRAINED_MODEL_NAME, \\\"checkpoint\\\", \\\"ckpt-0\\\"\\n)\\npipeline_config.train_config.fine_tune_checkpoint_type = \\\"detection\\\"\\npipeline_config.train_input_reader.label_map_path = files[\\\"LABELMAP\\\"]\\npipeline_config.train_input_reader.tf_record_input_reader.input_path[:] = [\\n    os.path.join(paths[\\\"DATA_PATH\\\"], \\\"train.record\\\")\\n]\\npipeline_config.eval_input_reader[0].label_map_path = files[\\\"LABELMAP\\\"]\\npipeline_config.eval_input_reader[0].tf_record_input_reader.input_path[:] = [\\n    os.path.join(paths[\\\"DATA_PATH\\\"], \\\"test.record\\\")\\n]\";\n",
       "                var nbb_formatted_code = \"pipeline_config.model.ssd.num_classes = len(labels)\\npipeline_config.train_config.batch_size = 4\\npipeline_config.train_config.fine_tune_checkpoint = os.path.join(\\n    paths[\\\"PRETRAINED_MODEL_PATH\\\"], PRETRAINED_MODEL_NAME, \\\"checkpoint\\\", \\\"ckpt-0\\\"\\n)\\npipeline_config.train_config.fine_tune_checkpoint_type = \\\"detection\\\"\\npipeline_config.train_input_reader.label_map_path = files[\\\"LABELMAP\\\"]\\npipeline_config.train_input_reader.tf_record_input_reader.input_path[:] = [\\n    os.path.join(paths[\\\"DATA_PATH\\\"], \\\"train.record\\\")\\n]\\npipeline_config.eval_input_reader[0].label_map_path = files[\\\"LABELMAP\\\"]\\npipeline_config.eval_input_reader[0].tf_record_input_reader.input_path[:] = [\\n    os.path.join(paths[\\\"DATA_PATH\\\"], \\\"test.record\\\")\\n]\";\n",
       "                var nbb_cells = Jupyter.notebook.get_cells();\n",
       "                for (var i = 0; i < nbb_cells.length; ++i) {\n",
       "                    if (nbb_cells[i].input_prompt_number == nbb_cell_id) {\n",
       "                        if (nbb_cells[i].get_text() == nbb_unformatted_code) {\n",
       "                             nbb_cells[i].set_text(nbb_formatted_code);\n",
       "                        }\n",
       "                        break;\n",
       "                    }\n",
       "                }\n",
       "            }, 500);\n",
       "            "
      ],
      "text/plain": [
       "<IPython.core.display.Javascript object>"
      ]
     },
     "metadata": {},
     "output_type": "display_data"
    },
    {
     "data": {
      "application/javascript": [
       "\n",
       "            setTimeout(function() {\n",
       "                var nbb_cell_id = 227;\n",
       "                var nbb_unformatted_code = \"pipeline_config.model.ssd.num_classes = len(labels)\\npipeline_config.train_config.batch_size = 4\\npipeline_config.train_config.fine_tune_checkpoint = os.path.join(\\n    paths[\\\"PRETRAINED_MODEL_PATH\\\"], PRETRAINED_MODEL_NAME, \\\"checkpoint\\\", \\\"ckpt-0\\\"\\n)\\npipeline_config.train_config.fine_tune_checkpoint_type = \\\"detection\\\"\\npipeline_config.train_input_reader.label_map_path = files[\\\"LABELMAP\\\"]\\npipeline_config.train_input_reader.tf_record_input_reader.input_path[:] = [\\n    os.path.join(paths[\\\"DATA_PATH\\\"], \\\"train.record\\\")\\n]\\npipeline_config.eval_input_reader[0].label_map_path = files[\\\"LABELMAP\\\"]\\npipeline_config.eval_input_reader[0].tf_record_input_reader.input_path[:] = [\\n    os.path.join(paths[\\\"DATA_PATH\\\"], \\\"test.record\\\")\\n]\";\n",
       "                var nbb_formatted_code = \"pipeline_config.model.ssd.num_classes = len(labels)\\npipeline_config.train_config.batch_size = 4\\npipeline_config.train_config.fine_tune_checkpoint = os.path.join(\\n    paths[\\\"PRETRAINED_MODEL_PATH\\\"], PRETRAINED_MODEL_NAME, \\\"checkpoint\\\", \\\"ckpt-0\\\"\\n)\\npipeline_config.train_config.fine_tune_checkpoint_type = \\\"detection\\\"\\npipeline_config.train_input_reader.label_map_path = files[\\\"LABELMAP\\\"]\\npipeline_config.train_input_reader.tf_record_input_reader.input_path[:] = [\\n    os.path.join(paths[\\\"DATA_PATH\\\"], \\\"train.record\\\")\\n]\\npipeline_config.eval_input_reader[0].label_map_path = files[\\\"LABELMAP\\\"]\\npipeline_config.eval_input_reader[0].tf_record_input_reader.input_path[:] = [\\n    os.path.join(paths[\\\"DATA_PATH\\\"], \\\"test.record\\\")\\n]\";\n",
       "                var nbb_cells = Jupyter.notebook.get_cells();\n",
       "                for (var i = 0; i < nbb_cells.length; ++i) {\n",
       "                    if (nbb_cells[i].input_prompt_number == nbb_cell_id) {\n",
       "                        if (nbb_cells[i].get_text() == nbb_unformatted_code) {\n",
       "                             nbb_cells[i].set_text(nbb_formatted_code);\n",
       "                        }\n",
       "                        break;\n",
       "                    }\n",
       "                }\n",
       "            }, 500);\n",
       "            "
      ],
      "text/plain": [
       "<IPython.core.display.Javascript object>"
      ]
     },
     "metadata": {},
     "output_type": "display_data"
    },
    {
     "data": {
      "application/javascript": [
       "\n",
       "            setTimeout(function() {\n",
       "                var nbb_cell_id = 227;\n",
       "                var nbb_unformatted_code = \"pipeline_config.model.ssd.num_classes = len(labels)\\npipeline_config.train_config.batch_size = 4\\npipeline_config.train_config.fine_tune_checkpoint = os.path.join(\\n    paths[\\\"PRETRAINED_MODEL_PATH\\\"], PRETRAINED_MODEL_NAME, \\\"checkpoint\\\", \\\"ckpt-0\\\"\\n)\\npipeline_config.train_config.fine_tune_checkpoint_type = \\\"detection\\\"\\npipeline_config.train_input_reader.label_map_path = files[\\\"LABELMAP\\\"]\\npipeline_config.train_input_reader.tf_record_input_reader.input_path[:] = [\\n    os.path.join(paths[\\\"DATA_PATH\\\"], \\\"train.record\\\")\\n]\\npipeline_config.eval_input_reader[0].label_map_path = files[\\\"LABELMAP\\\"]\\npipeline_config.eval_input_reader[0].tf_record_input_reader.input_path[:] = [\\n    os.path.join(paths[\\\"DATA_PATH\\\"], \\\"test.record\\\")\\n]\";\n",
       "                var nbb_formatted_code = \"pipeline_config.model.ssd.num_classes = len(labels)\\npipeline_config.train_config.batch_size = 4\\npipeline_config.train_config.fine_tune_checkpoint = os.path.join(\\n    paths[\\\"PRETRAINED_MODEL_PATH\\\"], PRETRAINED_MODEL_NAME, \\\"checkpoint\\\", \\\"ckpt-0\\\"\\n)\\npipeline_config.train_config.fine_tune_checkpoint_type = \\\"detection\\\"\\npipeline_config.train_input_reader.label_map_path = files[\\\"LABELMAP\\\"]\\npipeline_config.train_input_reader.tf_record_input_reader.input_path[:] = [\\n    os.path.join(paths[\\\"DATA_PATH\\\"], \\\"train.record\\\")\\n]\\npipeline_config.eval_input_reader[0].label_map_path = files[\\\"LABELMAP\\\"]\\npipeline_config.eval_input_reader[0].tf_record_input_reader.input_path[:] = [\\n    os.path.join(paths[\\\"DATA_PATH\\\"], \\\"test.record\\\")\\n]\";\n",
       "                var nbb_cells = Jupyter.notebook.get_cells();\n",
       "                for (var i = 0; i < nbb_cells.length; ++i) {\n",
       "                    if (nbb_cells[i].input_prompt_number == nbb_cell_id) {\n",
       "                        if (nbb_cells[i].get_text() == nbb_unformatted_code) {\n",
       "                             nbb_cells[i].set_text(nbb_formatted_code);\n",
       "                        }\n",
       "                        break;\n",
       "                    }\n",
       "                }\n",
       "            }, 500);\n",
       "            "
      ],
      "text/plain": [
       "<IPython.core.display.Javascript object>"
      ]
     },
     "metadata": {},
     "output_type": "display_data"
    },
    {
     "data": {
      "application/javascript": [
       "\n",
       "            setTimeout(function() {\n",
       "                var nbb_cell_id = 227;\n",
       "                var nbb_unformatted_code = \"pipeline_config.model.ssd.num_classes = len(labels)\\npipeline_config.train_config.batch_size = 4\\npipeline_config.train_config.fine_tune_checkpoint = os.path.join(\\n    paths[\\\"PRETRAINED_MODEL_PATH\\\"], PRETRAINED_MODEL_NAME, \\\"checkpoint\\\", \\\"ckpt-0\\\"\\n)\\npipeline_config.train_config.fine_tune_checkpoint_type = \\\"detection\\\"\\npipeline_config.train_input_reader.label_map_path = files[\\\"LABELMAP\\\"]\\npipeline_config.train_input_reader.tf_record_input_reader.input_path[:] = [\\n    os.path.join(paths[\\\"DATA_PATH\\\"], \\\"train.record\\\")\\n]\\npipeline_config.eval_input_reader[0].label_map_path = files[\\\"LABELMAP\\\"]\\npipeline_config.eval_input_reader[0].tf_record_input_reader.input_path[:] = [\\n    os.path.join(paths[\\\"DATA_PATH\\\"], \\\"test.record\\\")\\n]\";\n",
       "                var nbb_formatted_code = \"pipeline_config.model.ssd.num_classes = len(labels)\\npipeline_config.train_config.batch_size = 4\\npipeline_config.train_config.fine_tune_checkpoint = os.path.join(\\n    paths[\\\"PRETRAINED_MODEL_PATH\\\"], PRETRAINED_MODEL_NAME, \\\"checkpoint\\\", \\\"ckpt-0\\\"\\n)\\npipeline_config.train_config.fine_tune_checkpoint_type = \\\"detection\\\"\\npipeline_config.train_input_reader.label_map_path = files[\\\"LABELMAP\\\"]\\npipeline_config.train_input_reader.tf_record_input_reader.input_path[:] = [\\n    os.path.join(paths[\\\"DATA_PATH\\\"], \\\"train.record\\\")\\n]\\npipeline_config.eval_input_reader[0].label_map_path = files[\\\"LABELMAP\\\"]\\npipeline_config.eval_input_reader[0].tf_record_input_reader.input_path[:] = [\\n    os.path.join(paths[\\\"DATA_PATH\\\"], \\\"test.record\\\")\\n]\";\n",
       "                var nbb_cells = Jupyter.notebook.get_cells();\n",
       "                for (var i = 0; i < nbb_cells.length; ++i) {\n",
       "                    if (nbb_cells[i].input_prompt_number == nbb_cell_id) {\n",
       "                        if (nbb_cells[i].get_text() == nbb_unformatted_code) {\n",
       "                             nbb_cells[i].set_text(nbb_formatted_code);\n",
       "                        }\n",
       "                        break;\n",
       "                    }\n",
       "                }\n",
       "            }, 500);\n",
       "            "
      ],
      "text/plain": [
       "<IPython.core.display.Javascript object>"
      ]
     },
     "metadata": {},
     "output_type": "display_data"
    },
    {
     "data": {
      "application/javascript": [
       "\n",
       "            setTimeout(function() {\n",
       "                var nbb_cell_id = 227;\n",
       "                var nbb_unformatted_code = \"pipeline_config.model.ssd.num_classes = len(labels)\\npipeline_config.train_config.batch_size = 4\\npipeline_config.train_config.fine_tune_checkpoint = os.path.join(\\n    paths[\\\"PRETRAINED_MODEL_PATH\\\"], PRETRAINED_MODEL_NAME, \\\"checkpoint\\\", \\\"ckpt-0\\\"\\n)\\npipeline_config.train_config.fine_tune_checkpoint_type = \\\"detection\\\"\\npipeline_config.train_input_reader.label_map_path = files[\\\"LABELMAP\\\"]\\npipeline_config.train_input_reader.tf_record_input_reader.input_path[:] = [\\n    os.path.join(paths[\\\"DATA_PATH\\\"], \\\"train.record\\\")\\n]\\npipeline_config.eval_input_reader[0].label_map_path = files[\\\"LABELMAP\\\"]\\npipeline_config.eval_input_reader[0].tf_record_input_reader.input_path[:] = [\\n    os.path.join(paths[\\\"DATA_PATH\\\"], \\\"test.record\\\")\\n]\";\n",
       "                var nbb_formatted_code = \"pipeline_config.model.ssd.num_classes = len(labels)\\npipeline_config.train_config.batch_size = 4\\npipeline_config.train_config.fine_tune_checkpoint = os.path.join(\\n    paths[\\\"PRETRAINED_MODEL_PATH\\\"], PRETRAINED_MODEL_NAME, \\\"checkpoint\\\", \\\"ckpt-0\\\"\\n)\\npipeline_config.train_config.fine_tune_checkpoint_type = \\\"detection\\\"\\npipeline_config.train_input_reader.label_map_path = files[\\\"LABELMAP\\\"]\\npipeline_config.train_input_reader.tf_record_input_reader.input_path[:] = [\\n    os.path.join(paths[\\\"DATA_PATH\\\"], \\\"train.record\\\")\\n]\\npipeline_config.eval_input_reader[0].label_map_path = files[\\\"LABELMAP\\\"]\\npipeline_config.eval_input_reader[0].tf_record_input_reader.input_path[:] = [\\n    os.path.join(paths[\\\"DATA_PATH\\\"], \\\"test.record\\\")\\n]\";\n",
       "                var nbb_cells = Jupyter.notebook.get_cells();\n",
       "                for (var i = 0; i < nbb_cells.length; ++i) {\n",
       "                    if (nbb_cells[i].input_prompt_number == nbb_cell_id) {\n",
       "                        if (nbb_cells[i].get_text() == nbb_unformatted_code) {\n",
       "                             nbb_cells[i].set_text(nbb_formatted_code);\n",
       "                        }\n",
       "                        break;\n",
       "                    }\n",
       "                }\n",
       "            }, 500);\n",
       "            "
      ],
      "text/plain": [
       "<IPython.core.display.Javascript object>"
      ]
     },
     "metadata": {},
     "output_type": "display_data"
    },
    {
     "data": {
      "application/javascript": [
       "\n",
       "            setTimeout(function() {\n",
       "                var nbb_cell_id = 227;\n",
       "                var nbb_unformatted_code = \"pipeline_config.model.ssd.num_classes = len(labels)\\npipeline_config.train_config.batch_size = 4\\npipeline_config.train_config.fine_tune_checkpoint = os.path.join(\\n    paths[\\\"PRETRAINED_MODEL_PATH\\\"], PRETRAINED_MODEL_NAME, \\\"checkpoint\\\", \\\"ckpt-0\\\"\\n)\\npipeline_config.train_config.fine_tune_checkpoint_type = \\\"detection\\\"\\npipeline_config.train_input_reader.label_map_path = files[\\\"LABELMAP\\\"]\\npipeline_config.train_input_reader.tf_record_input_reader.input_path[:] = [\\n    os.path.join(paths[\\\"DATA_PATH\\\"], \\\"train.record\\\")\\n]\\npipeline_config.eval_input_reader[0].label_map_path = files[\\\"LABELMAP\\\"]\\npipeline_config.eval_input_reader[0].tf_record_input_reader.input_path[:] = [\\n    os.path.join(paths[\\\"DATA_PATH\\\"], \\\"test.record\\\")\\n]\";\n",
       "                var nbb_formatted_code = \"pipeline_config.model.ssd.num_classes = len(labels)\\npipeline_config.train_config.batch_size = 4\\npipeline_config.train_config.fine_tune_checkpoint = os.path.join(\\n    paths[\\\"PRETRAINED_MODEL_PATH\\\"], PRETRAINED_MODEL_NAME, \\\"checkpoint\\\", \\\"ckpt-0\\\"\\n)\\npipeline_config.train_config.fine_tune_checkpoint_type = \\\"detection\\\"\\npipeline_config.train_input_reader.label_map_path = files[\\\"LABELMAP\\\"]\\npipeline_config.train_input_reader.tf_record_input_reader.input_path[:] = [\\n    os.path.join(paths[\\\"DATA_PATH\\\"], \\\"train.record\\\")\\n]\\npipeline_config.eval_input_reader[0].label_map_path = files[\\\"LABELMAP\\\"]\\npipeline_config.eval_input_reader[0].tf_record_input_reader.input_path[:] = [\\n    os.path.join(paths[\\\"DATA_PATH\\\"], \\\"test.record\\\")\\n]\";\n",
       "                var nbb_cells = Jupyter.notebook.get_cells();\n",
       "                for (var i = 0; i < nbb_cells.length; ++i) {\n",
       "                    if (nbb_cells[i].input_prompt_number == nbb_cell_id) {\n",
       "                        if (nbb_cells[i].get_text() == nbb_unformatted_code) {\n",
       "                             nbb_cells[i].set_text(nbb_formatted_code);\n",
       "                        }\n",
       "                        break;\n",
       "                    }\n",
       "                }\n",
       "            }, 500);\n",
       "            "
      ],
      "text/plain": [
       "<IPython.core.display.Javascript object>"
      ]
     },
     "metadata": {},
     "output_type": "display_data"
    },
    {
     "data": {
      "application/javascript": [
       "\n",
       "            setTimeout(function() {\n",
       "                var nbb_cell_id = 227;\n",
       "                var nbb_unformatted_code = \"pipeline_config.model.ssd.num_classes = len(labels)\\npipeline_config.train_config.batch_size = 4\\npipeline_config.train_config.fine_tune_checkpoint = os.path.join(\\n    paths[\\\"PRETRAINED_MODEL_PATH\\\"], PRETRAINED_MODEL_NAME, \\\"checkpoint\\\", \\\"ckpt-0\\\"\\n)\\npipeline_config.train_config.fine_tune_checkpoint_type = \\\"detection\\\"\\npipeline_config.train_input_reader.label_map_path = files[\\\"LABELMAP\\\"]\\npipeline_config.train_input_reader.tf_record_input_reader.input_path[:] = [\\n    os.path.join(paths[\\\"DATA_PATH\\\"], \\\"train.record\\\")\\n]\\npipeline_config.eval_input_reader[0].label_map_path = files[\\\"LABELMAP\\\"]\\npipeline_config.eval_input_reader[0].tf_record_input_reader.input_path[:] = [\\n    os.path.join(paths[\\\"DATA_PATH\\\"], \\\"test.record\\\")\\n]\";\n",
       "                var nbb_formatted_code = \"pipeline_config.model.ssd.num_classes = len(labels)\\npipeline_config.train_config.batch_size = 4\\npipeline_config.train_config.fine_tune_checkpoint = os.path.join(\\n    paths[\\\"PRETRAINED_MODEL_PATH\\\"], PRETRAINED_MODEL_NAME, \\\"checkpoint\\\", \\\"ckpt-0\\\"\\n)\\npipeline_config.train_config.fine_tune_checkpoint_type = \\\"detection\\\"\\npipeline_config.train_input_reader.label_map_path = files[\\\"LABELMAP\\\"]\\npipeline_config.train_input_reader.tf_record_input_reader.input_path[:] = [\\n    os.path.join(paths[\\\"DATA_PATH\\\"], \\\"train.record\\\")\\n]\\npipeline_config.eval_input_reader[0].label_map_path = files[\\\"LABELMAP\\\"]\\npipeline_config.eval_input_reader[0].tf_record_input_reader.input_path[:] = [\\n    os.path.join(paths[\\\"DATA_PATH\\\"], \\\"test.record\\\")\\n]\";\n",
       "                var nbb_cells = Jupyter.notebook.get_cells();\n",
       "                for (var i = 0; i < nbb_cells.length; ++i) {\n",
       "                    if (nbb_cells[i].input_prompt_number == nbb_cell_id) {\n",
       "                        if (nbb_cells[i].get_text() == nbb_unformatted_code) {\n",
       "                             nbb_cells[i].set_text(nbb_formatted_code);\n",
       "                        }\n",
       "                        break;\n",
       "                    }\n",
       "                }\n",
       "            }, 500);\n",
       "            "
      ],
      "text/plain": [
       "<IPython.core.display.Javascript object>"
      ]
     },
     "metadata": {},
     "output_type": "display_data"
    }
   ],
   "source": [
    "pipeline_config.model.ssd.num_classes = len(labels)\n",
    "pipeline_config.train_config.batch_size = 4\n",
    "pipeline_config.train_config.fine_tune_checkpoint = os.path.join(\n",
    "    paths[\"PRETRAINED_MODEL_PATH\"], PRETRAINED_MODEL_NAME, \"checkpoint\", \"ckpt-0\"\n",
    ")\n",
    "pipeline_config.train_config.fine_tune_checkpoint_type = \"detection\"\n",
    "pipeline_config.train_input_reader.label_map_path = files[\"LABELMAP\"]\n",
    "pipeline_config.train_input_reader.tf_record_input_reader.input_path[:] = [\n",
    "    os.path.join(paths[\"DATA_PATH\"], \"train.record\")\n",
    "]\n",
    "pipeline_config.eval_input_reader[0].label_map_path = files[\"LABELMAP\"]\n",
    "pipeline_config.eval_input_reader[0].tf_record_input_reader.input_path[:] = [\n",
    "    os.path.join(paths[\"DATA_PATH\"], \"test.record\")\n",
    "]"
   ]
  },
  {
   "cell_type": "code",
   "execution_count": 228,
   "id": "7e5d7c57",
   "metadata": {},
   "outputs": [
    {
     "data": {
      "application/javascript": [
       "\n",
       "            setTimeout(function() {\n",
       "                var nbb_cell_id = 228;\n",
       "                var nbb_unformatted_code = \"config_text = text_format.MessageToString(pipeline_config)\\nwith tf.io.gfile.GFile(files[\\\"PIPELINE_CONFIG\\\"], \\\"wb\\\") as f:\\n    f.write(config_text)\";\n",
       "                var nbb_formatted_code = \"config_text = text_format.MessageToString(pipeline_config)\\nwith tf.io.gfile.GFile(files[\\\"PIPELINE_CONFIG\\\"], \\\"wb\\\") as f:\\n    f.write(config_text)\";\n",
       "                var nbb_cells = Jupyter.notebook.get_cells();\n",
       "                for (var i = 0; i < nbb_cells.length; ++i) {\n",
       "                    if (nbb_cells[i].input_prompt_number == nbb_cell_id) {\n",
       "                        if (nbb_cells[i].get_text() == nbb_unformatted_code) {\n",
       "                             nbb_cells[i].set_text(nbb_formatted_code);\n",
       "                        }\n",
       "                        break;\n",
       "                    }\n",
       "                }\n",
       "            }, 500);\n",
       "            "
      ],
      "text/plain": [
       "<IPython.core.display.Javascript object>"
      ]
     },
     "metadata": {},
     "output_type": "display_data"
    },
    {
     "data": {
      "application/javascript": [
       "\n",
       "            setTimeout(function() {\n",
       "                var nbb_cell_id = 228;\n",
       "                var nbb_unformatted_code = \"config_text = text_format.MessageToString(pipeline_config)\\nwith tf.io.gfile.GFile(files[\\\"PIPELINE_CONFIG\\\"], \\\"wb\\\") as f:\\n    f.write(config_text)\";\n",
       "                var nbb_formatted_code = \"config_text = text_format.MessageToString(pipeline_config)\\nwith tf.io.gfile.GFile(files[\\\"PIPELINE_CONFIG\\\"], \\\"wb\\\") as f:\\n    f.write(config_text)\";\n",
       "                var nbb_cells = Jupyter.notebook.get_cells();\n",
       "                for (var i = 0; i < nbb_cells.length; ++i) {\n",
       "                    if (nbb_cells[i].input_prompt_number == nbb_cell_id) {\n",
       "                        if (nbb_cells[i].get_text() == nbb_unformatted_code) {\n",
       "                             nbb_cells[i].set_text(nbb_formatted_code);\n",
       "                        }\n",
       "                        break;\n",
       "                    }\n",
       "                }\n",
       "            }, 500);\n",
       "            "
      ],
      "text/plain": [
       "<IPython.core.display.Javascript object>"
      ]
     },
     "metadata": {},
     "output_type": "display_data"
    },
    {
     "data": {
      "application/javascript": [
       "\n",
       "            setTimeout(function() {\n",
       "                var nbb_cell_id = 228;\n",
       "                var nbb_unformatted_code = \"config_text = text_format.MessageToString(pipeline_config)\\nwith tf.io.gfile.GFile(files[\\\"PIPELINE_CONFIG\\\"], \\\"wb\\\") as f:\\n    f.write(config_text)\";\n",
       "                var nbb_formatted_code = \"config_text = text_format.MessageToString(pipeline_config)\\nwith tf.io.gfile.GFile(files[\\\"PIPELINE_CONFIG\\\"], \\\"wb\\\") as f:\\n    f.write(config_text)\";\n",
       "                var nbb_cells = Jupyter.notebook.get_cells();\n",
       "                for (var i = 0; i < nbb_cells.length; ++i) {\n",
       "                    if (nbb_cells[i].input_prompt_number == nbb_cell_id) {\n",
       "                        if (nbb_cells[i].get_text() == nbb_unformatted_code) {\n",
       "                             nbb_cells[i].set_text(nbb_formatted_code);\n",
       "                        }\n",
       "                        break;\n",
       "                    }\n",
       "                }\n",
       "            }, 500);\n",
       "            "
      ],
      "text/plain": [
       "<IPython.core.display.Javascript object>"
      ]
     },
     "metadata": {},
     "output_type": "display_data"
    },
    {
     "data": {
      "application/javascript": [
       "\n",
       "            setTimeout(function() {\n",
       "                var nbb_cell_id = 228;\n",
       "                var nbb_unformatted_code = \"config_text = text_format.MessageToString(pipeline_config)\\nwith tf.io.gfile.GFile(files[\\\"PIPELINE_CONFIG\\\"], \\\"wb\\\") as f:\\n    f.write(config_text)\";\n",
       "                var nbb_formatted_code = \"config_text = text_format.MessageToString(pipeline_config)\\nwith tf.io.gfile.GFile(files[\\\"PIPELINE_CONFIG\\\"], \\\"wb\\\") as f:\\n    f.write(config_text)\";\n",
       "                var nbb_cells = Jupyter.notebook.get_cells();\n",
       "                for (var i = 0; i < nbb_cells.length; ++i) {\n",
       "                    if (nbb_cells[i].input_prompt_number == nbb_cell_id) {\n",
       "                        if (nbb_cells[i].get_text() == nbb_unformatted_code) {\n",
       "                             nbb_cells[i].set_text(nbb_formatted_code);\n",
       "                        }\n",
       "                        break;\n",
       "                    }\n",
       "                }\n",
       "            }, 500);\n",
       "            "
      ],
      "text/plain": [
       "<IPython.core.display.Javascript object>"
      ]
     },
     "metadata": {},
     "output_type": "display_data"
    },
    {
     "data": {
      "application/javascript": [
       "\n",
       "            setTimeout(function() {\n",
       "                var nbb_cell_id = 228;\n",
       "                var nbb_unformatted_code = \"config_text = text_format.MessageToString(pipeline_config)\\nwith tf.io.gfile.GFile(files[\\\"PIPELINE_CONFIG\\\"], \\\"wb\\\") as f:\\n    f.write(config_text)\";\n",
       "                var nbb_formatted_code = \"config_text = text_format.MessageToString(pipeline_config)\\nwith tf.io.gfile.GFile(files[\\\"PIPELINE_CONFIG\\\"], \\\"wb\\\") as f:\\n    f.write(config_text)\";\n",
       "                var nbb_cells = Jupyter.notebook.get_cells();\n",
       "                for (var i = 0; i < nbb_cells.length; ++i) {\n",
       "                    if (nbb_cells[i].input_prompt_number == nbb_cell_id) {\n",
       "                        if (nbb_cells[i].get_text() == nbb_unformatted_code) {\n",
       "                             nbb_cells[i].set_text(nbb_formatted_code);\n",
       "                        }\n",
       "                        break;\n",
       "                    }\n",
       "                }\n",
       "            }, 500);\n",
       "            "
      ],
      "text/plain": [
       "<IPython.core.display.Javascript object>"
      ]
     },
     "metadata": {},
     "output_type": "display_data"
    },
    {
     "data": {
      "application/javascript": [
       "\n",
       "            setTimeout(function() {\n",
       "                var nbb_cell_id = 228;\n",
       "                var nbb_unformatted_code = \"config_text = text_format.MessageToString(pipeline_config)\\nwith tf.io.gfile.GFile(files[\\\"PIPELINE_CONFIG\\\"], \\\"wb\\\") as f:\\n    f.write(config_text)\";\n",
       "                var nbb_formatted_code = \"config_text = text_format.MessageToString(pipeline_config)\\nwith tf.io.gfile.GFile(files[\\\"PIPELINE_CONFIG\\\"], \\\"wb\\\") as f:\\n    f.write(config_text)\";\n",
       "                var nbb_cells = Jupyter.notebook.get_cells();\n",
       "                for (var i = 0; i < nbb_cells.length; ++i) {\n",
       "                    if (nbb_cells[i].input_prompt_number == nbb_cell_id) {\n",
       "                        if (nbb_cells[i].get_text() == nbb_unformatted_code) {\n",
       "                             nbb_cells[i].set_text(nbb_formatted_code);\n",
       "                        }\n",
       "                        break;\n",
       "                    }\n",
       "                }\n",
       "            }, 500);\n",
       "            "
      ],
      "text/plain": [
       "<IPython.core.display.Javascript object>"
      ]
     },
     "metadata": {},
     "output_type": "display_data"
    },
    {
     "data": {
      "application/javascript": [
       "\n",
       "            setTimeout(function() {\n",
       "                var nbb_cell_id = 228;\n",
       "                var nbb_unformatted_code = \"config_text = text_format.MessageToString(pipeline_config)\\nwith tf.io.gfile.GFile(files[\\\"PIPELINE_CONFIG\\\"], \\\"wb\\\") as f:\\n    f.write(config_text)\";\n",
       "                var nbb_formatted_code = \"config_text = text_format.MessageToString(pipeline_config)\\nwith tf.io.gfile.GFile(files[\\\"PIPELINE_CONFIG\\\"], \\\"wb\\\") as f:\\n    f.write(config_text)\";\n",
       "                var nbb_cells = Jupyter.notebook.get_cells();\n",
       "                for (var i = 0; i < nbb_cells.length; ++i) {\n",
       "                    if (nbb_cells[i].input_prompt_number == nbb_cell_id) {\n",
       "                        if (nbb_cells[i].get_text() == nbb_unformatted_code) {\n",
       "                             nbb_cells[i].set_text(nbb_formatted_code);\n",
       "                        }\n",
       "                        break;\n",
       "                    }\n",
       "                }\n",
       "            }, 500);\n",
       "            "
      ],
      "text/plain": [
       "<IPython.core.display.Javascript object>"
      ]
     },
     "metadata": {},
     "output_type": "display_data"
    },
    {
     "data": {
      "application/javascript": [
       "\n",
       "            setTimeout(function() {\n",
       "                var nbb_cell_id = 228;\n",
       "                var nbb_unformatted_code = \"config_text = text_format.MessageToString(pipeline_config)\\nwith tf.io.gfile.GFile(files[\\\"PIPELINE_CONFIG\\\"], \\\"wb\\\") as f:\\n    f.write(config_text)\";\n",
       "                var nbb_formatted_code = \"config_text = text_format.MessageToString(pipeline_config)\\nwith tf.io.gfile.GFile(files[\\\"PIPELINE_CONFIG\\\"], \\\"wb\\\") as f:\\n    f.write(config_text)\";\n",
       "                var nbb_cells = Jupyter.notebook.get_cells();\n",
       "                for (var i = 0; i < nbb_cells.length; ++i) {\n",
       "                    if (nbb_cells[i].input_prompt_number == nbb_cell_id) {\n",
       "                        if (nbb_cells[i].get_text() == nbb_unformatted_code) {\n",
       "                             nbb_cells[i].set_text(nbb_formatted_code);\n",
       "                        }\n",
       "                        break;\n",
       "                    }\n",
       "                }\n",
       "            }, 500);\n",
       "            "
      ],
      "text/plain": [
       "<IPython.core.display.Javascript object>"
      ]
     },
     "metadata": {},
     "output_type": "display_data"
    },
    {
     "data": {
      "application/javascript": [
       "\n",
       "            setTimeout(function() {\n",
       "                var nbb_cell_id = 228;\n",
       "                var nbb_unformatted_code = \"config_text = text_format.MessageToString(pipeline_config)\\nwith tf.io.gfile.GFile(files[\\\"PIPELINE_CONFIG\\\"], \\\"wb\\\") as f:\\n    f.write(config_text)\";\n",
       "                var nbb_formatted_code = \"config_text = text_format.MessageToString(pipeline_config)\\nwith tf.io.gfile.GFile(files[\\\"PIPELINE_CONFIG\\\"], \\\"wb\\\") as f:\\n    f.write(config_text)\";\n",
       "                var nbb_cells = Jupyter.notebook.get_cells();\n",
       "                for (var i = 0; i < nbb_cells.length; ++i) {\n",
       "                    if (nbb_cells[i].input_prompt_number == nbb_cell_id) {\n",
       "                        if (nbb_cells[i].get_text() == nbb_unformatted_code) {\n",
       "                             nbb_cells[i].set_text(nbb_formatted_code);\n",
       "                        }\n",
       "                        break;\n",
       "                    }\n",
       "                }\n",
       "            }, 500);\n",
       "            "
      ],
      "text/plain": [
       "<IPython.core.display.Javascript object>"
      ]
     },
     "metadata": {},
     "output_type": "display_data"
    },
    {
     "data": {
      "application/javascript": [
       "\n",
       "            setTimeout(function() {\n",
       "                var nbb_cell_id = 228;\n",
       "                var nbb_unformatted_code = \"config_text = text_format.MessageToString(pipeline_config)\\nwith tf.io.gfile.GFile(files[\\\"PIPELINE_CONFIG\\\"], \\\"wb\\\") as f:\\n    f.write(config_text)\";\n",
       "                var nbb_formatted_code = \"config_text = text_format.MessageToString(pipeline_config)\\nwith tf.io.gfile.GFile(files[\\\"PIPELINE_CONFIG\\\"], \\\"wb\\\") as f:\\n    f.write(config_text)\";\n",
       "                var nbb_cells = Jupyter.notebook.get_cells();\n",
       "                for (var i = 0; i < nbb_cells.length; ++i) {\n",
       "                    if (nbb_cells[i].input_prompt_number == nbb_cell_id) {\n",
       "                        if (nbb_cells[i].get_text() == nbb_unformatted_code) {\n",
       "                             nbb_cells[i].set_text(nbb_formatted_code);\n",
       "                        }\n",
       "                        break;\n",
       "                    }\n",
       "                }\n",
       "            }, 500);\n",
       "            "
      ],
      "text/plain": [
       "<IPython.core.display.Javascript object>"
      ]
     },
     "metadata": {},
     "output_type": "display_data"
    }
   ],
   "source": [
    "config_text = text_format.MessageToString(pipeline_config)\n",
    "with tf.io.gfile.GFile(files[\"PIPELINE_CONFIG\"], \"wb\") as f:\n",
    "    f.write(config_text)"
   ]
  },
  {
   "cell_type": "code",
   "execution_count": 229,
   "id": "4d2fa8c2",
   "metadata": {},
   "outputs": [
    {
     "data": {
      "text/plain": [
       "{'model': ssd {\n",
       "   num_classes: 2\n",
       "   image_resizer {\n",
       "     keep_aspect_ratio_resizer {\n",
       "       min_dimension: 1024\n",
       "       max_dimension: 1024\n",
       "       pad_to_max_dimension: true\n",
       "     }\n",
       "   }\n",
       "   feature_extractor {\n",
       "     type: \"ssd_efficientnet-b4_bifpn_keras\"\n",
       "     conv_hyperparams {\n",
       "       regularizer {\n",
       "         l2_regularizer {\n",
       "           weight: 3.9999998989515007e-05\n",
       "         }\n",
       "       }\n",
       "       initializer {\n",
       "         truncated_normal_initializer {\n",
       "           mean: 0.0\n",
       "           stddev: 0.029999999329447746\n",
       "         }\n",
       "       }\n",
       "       activation: SWISH\n",
       "       batch_norm {\n",
       "         decay: 0.9900000095367432\n",
       "         scale: true\n",
       "         epsilon: 0.0010000000474974513\n",
       "       }\n",
       "       force_use_bias: true\n",
       "     }\n",
       "     bifpn {\n",
       "       min_level: 3\n",
       "       max_level: 7\n",
       "       num_iterations: 7\n",
       "       num_filters: 224\n",
       "     }\n",
       "   }\n",
       "   box_coder {\n",
       "     faster_rcnn_box_coder {\n",
       "       y_scale: 1.0\n",
       "       x_scale: 1.0\n",
       "       height_scale: 1.0\n",
       "       width_scale: 1.0\n",
       "     }\n",
       "   }\n",
       "   matcher {\n",
       "     argmax_matcher {\n",
       "       matched_threshold: 0.5\n",
       "       unmatched_threshold: 0.5\n",
       "       ignore_thresholds: false\n",
       "       negatives_lower_than_unmatched: true\n",
       "       force_match_for_each_row: true\n",
       "       use_matmul_gather: true\n",
       "     }\n",
       "   }\n",
       "   similarity_calculator {\n",
       "     iou_similarity {\n",
       "     }\n",
       "   }\n",
       "   box_predictor {\n",
       "     weight_shared_convolutional_box_predictor {\n",
       "       conv_hyperparams {\n",
       "         regularizer {\n",
       "           l2_regularizer {\n",
       "             weight: 3.9999998989515007e-05\n",
       "           }\n",
       "         }\n",
       "         initializer {\n",
       "           random_normal_initializer {\n",
       "             mean: 0.0\n",
       "             stddev: 0.009999999776482582\n",
       "           }\n",
       "         }\n",
       "         activation: SWISH\n",
       "         batch_norm {\n",
       "           decay: 0.9900000095367432\n",
       "           scale: true\n",
       "           epsilon: 0.0010000000474974513\n",
       "         }\n",
       "         force_use_bias: true\n",
       "       }\n",
       "       depth: 224\n",
       "       num_layers_before_predictor: 4\n",
       "       kernel_size: 3\n",
       "       class_prediction_bias_init: -4.599999904632568\n",
       "       use_depthwise: true\n",
       "     }\n",
       "   }\n",
       "   anchor_generator {\n",
       "     multiscale_anchor_generator {\n",
       "       min_level: 3\n",
       "       max_level: 7\n",
       "       anchor_scale: 4.0\n",
       "       aspect_ratios: 1.0\n",
       "       aspect_ratios: 2.0\n",
       "       aspect_ratios: 0.5\n",
       "       scales_per_octave: 3\n",
       "     }\n",
       "   }\n",
       "   post_processing {\n",
       "     batch_non_max_suppression {\n",
       "       score_threshold: 9.99999993922529e-09\n",
       "       iou_threshold: 0.5\n",
       "       max_detections_per_class: 100\n",
       "       max_total_detections: 100\n",
       "     }\n",
       "     score_converter: SIGMOID\n",
       "   }\n",
       "   normalize_loss_by_num_matches: true\n",
       "   loss {\n",
       "     localization_loss {\n",
       "       weighted_smooth_l1 {\n",
       "       }\n",
       "     }\n",
       "     classification_loss {\n",
       "       weighted_sigmoid_focal {\n",
       "         gamma: 1.5\n",
       "         alpha: 0.25\n",
       "       }\n",
       "     }\n",
       "     classification_weight: 1.0\n",
       "     localization_weight: 1.0\n",
       "   }\n",
       "   encode_background_as_zeros: true\n",
       "   normalize_loc_loss_by_codesize: true\n",
       "   inplace_batchnorm_update: true\n",
       "   freeze_batchnorm: false\n",
       "   add_background_class: false\n",
       " },\n",
       " 'train_config': batch_size: 4\n",
       " data_augmentation_options {\n",
       "   random_horizontal_flip {\n",
       "   }\n",
       " }\n",
       " data_augmentation_options {\n",
       "   random_scale_crop_and_pad_to_square {\n",
       "     output_size: 1024\n",
       "     scale_min: 0.10000000149011612\n",
       "     scale_max: 2.0\n",
       "   }\n",
       " }\n",
       " sync_replicas: true\n",
       " optimizer {\n",
       "   momentum_optimizer {\n",
       "     learning_rate {\n",
       "       cosine_decay_learning_rate {\n",
       "         learning_rate_base: 0.07999999821186066\n",
       "         total_steps: 300000\n",
       "         warmup_learning_rate: 0.0010000000474974513\n",
       "         warmup_steps: 2500\n",
       "       }\n",
       "     }\n",
       "     momentum_optimizer_value: 0.8999999761581421\n",
       "   }\n",
       "   use_moving_average: false\n",
       " }\n",
       " fine_tune_checkpoint: \"/Users/user/Applications/machine-learning/deeproute/pre-trained-models/efficientdet_d4_coco17_tpu-32/checkpoint/ckpt-0\"\n",
       " num_steps: 300000\n",
       " startup_delay_steps: 0.0\n",
       " replicas_to_aggregate: 8\n",
       " max_number_of_boxes: 100\n",
       " unpad_groundtruth_tensors: false\n",
       " fine_tune_checkpoint_type: \"detection\"\n",
       " use_bfloat16: true\n",
       " fine_tune_checkpoint_version: V2,\n",
       " 'train_input_config': label_map_path: \"/Users/user/Applications/machine-learning/deeproute/data/label_map.pbtxt\"\n",
       " tf_record_input_reader {\n",
       "   input_path: \"/Users/user/Applications/machine-learning/deeproute/data/train.record\"\n",
       " },\n",
       " 'eval_config': metrics_set: \"coco_detection_metrics\"\n",
       " use_moving_averages: false\n",
       " batch_size: 1,\n",
       " 'eval_input_configs': [label_map_path: \"/Users/user/Applications/machine-learning/deeproute/data/label_map.pbtxt\"\n",
       " shuffle: false\n",
       " num_epochs: 1\n",
       " tf_record_input_reader {\n",
       "   input_path: \"/Users/user/Applications/machine-learning/deeproute/data/test.record\"\n",
       " }\n",
       " ],\n",
       " 'eval_input_config': label_map_path: \"/Users/user/Applications/machine-learning/deeproute/data/label_map.pbtxt\"\n",
       " shuffle: false\n",
       " num_epochs: 1\n",
       " tf_record_input_reader {\n",
       "   input_path: \"/Users/user/Applications/machine-learning/deeproute/data/test.record\"\n",
       " }}"
      ]
     },
     "execution_count": 229,
     "metadata": {},
     "output_type": "execute_result"
    },
    {
     "data": {
      "application/javascript": [
       "\n",
       "            setTimeout(function() {\n",
       "                var nbb_cell_id = 229;\n",
       "                var nbb_unformatted_code = \"config = config_util.get_configs_from_pipeline_file(files[\\\"PIPELINE_CONFIG\\\"])\\nconfig\";\n",
       "                var nbb_formatted_code = \"config = config_util.get_configs_from_pipeline_file(files[\\\"PIPELINE_CONFIG\\\"])\\nconfig\";\n",
       "                var nbb_cells = Jupyter.notebook.get_cells();\n",
       "                for (var i = 0; i < nbb_cells.length; ++i) {\n",
       "                    if (nbb_cells[i].input_prompt_number == nbb_cell_id) {\n",
       "                        if (nbb_cells[i].get_text() == nbb_unformatted_code) {\n",
       "                             nbb_cells[i].set_text(nbb_formatted_code);\n",
       "                        }\n",
       "                        break;\n",
       "                    }\n",
       "                }\n",
       "            }, 500);\n",
       "            "
      ],
      "text/plain": [
       "<IPython.core.display.Javascript object>"
      ]
     },
     "metadata": {},
     "output_type": "display_data"
    },
    {
     "data": {
      "application/javascript": [
       "\n",
       "            setTimeout(function() {\n",
       "                var nbb_cell_id = 229;\n",
       "                var nbb_unformatted_code = \"config = config_util.get_configs_from_pipeline_file(files[\\\"PIPELINE_CONFIG\\\"])\\nconfig\";\n",
       "                var nbb_formatted_code = \"config = config_util.get_configs_from_pipeline_file(files[\\\"PIPELINE_CONFIG\\\"])\\nconfig\";\n",
       "                var nbb_cells = Jupyter.notebook.get_cells();\n",
       "                for (var i = 0; i < nbb_cells.length; ++i) {\n",
       "                    if (nbb_cells[i].input_prompt_number == nbb_cell_id) {\n",
       "                        if (nbb_cells[i].get_text() == nbb_unformatted_code) {\n",
       "                             nbb_cells[i].set_text(nbb_formatted_code);\n",
       "                        }\n",
       "                        break;\n",
       "                    }\n",
       "                }\n",
       "            }, 500);\n",
       "            "
      ],
      "text/plain": [
       "<IPython.core.display.Javascript object>"
      ]
     },
     "metadata": {},
     "output_type": "display_data"
    },
    {
     "data": {
      "application/javascript": [
       "\n",
       "            setTimeout(function() {\n",
       "                var nbb_cell_id = 229;\n",
       "                var nbb_unformatted_code = \"config = config_util.get_configs_from_pipeline_file(files[\\\"PIPELINE_CONFIG\\\"])\\nconfig\";\n",
       "                var nbb_formatted_code = \"config = config_util.get_configs_from_pipeline_file(files[\\\"PIPELINE_CONFIG\\\"])\\nconfig\";\n",
       "                var nbb_cells = Jupyter.notebook.get_cells();\n",
       "                for (var i = 0; i < nbb_cells.length; ++i) {\n",
       "                    if (nbb_cells[i].input_prompt_number == nbb_cell_id) {\n",
       "                        if (nbb_cells[i].get_text() == nbb_unformatted_code) {\n",
       "                             nbb_cells[i].set_text(nbb_formatted_code);\n",
       "                        }\n",
       "                        break;\n",
       "                    }\n",
       "                }\n",
       "            }, 500);\n",
       "            "
      ],
      "text/plain": [
       "<IPython.core.display.Javascript object>"
      ]
     },
     "metadata": {},
     "output_type": "display_data"
    },
    {
     "data": {
      "application/javascript": [
       "\n",
       "            setTimeout(function() {\n",
       "                var nbb_cell_id = 229;\n",
       "                var nbb_unformatted_code = \"config = config_util.get_configs_from_pipeline_file(files[\\\"PIPELINE_CONFIG\\\"])\\nconfig\";\n",
       "                var nbb_formatted_code = \"config = config_util.get_configs_from_pipeline_file(files[\\\"PIPELINE_CONFIG\\\"])\\nconfig\";\n",
       "                var nbb_cells = Jupyter.notebook.get_cells();\n",
       "                for (var i = 0; i < nbb_cells.length; ++i) {\n",
       "                    if (nbb_cells[i].input_prompt_number == nbb_cell_id) {\n",
       "                        if (nbb_cells[i].get_text() == nbb_unformatted_code) {\n",
       "                             nbb_cells[i].set_text(nbb_formatted_code);\n",
       "                        }\n",
       "                        break;\n",
       "                    }\n",
       "                }\n",
       "            }, 500);\n",
       "            "
      ],
      "text/plain": [
       "<IPython.core.display.Javascript object>"
      ]
     },
     "metadata": {},
     "output_type": "display_data"
    },
    {
     "data": {
      "application/javascript": [
       "\n",
       "            setTimeout(function() {\n",
       "                var nbb_cell_id = 229;\n",
       "                var nbb_unformatted_code = \"config = config_util.get_configs_from_pipeline_file(files[\\\"PIPELINE_CONFIG\\\"])\\nconfig\";\n",
       "                var nbb_formatted_code = \"config = config_util.get_configs_from_pipeline_file(files[\\\"PIPELINE_CONFIG\\\"])\\nconfig\";\n",
       "                var nbb_cells = Jupyter.notebook.get_cells();\n",
       "                for (var i = 0; i < nbb_cells.length; ++i) {\n",
       "                    if (nbb_cells[i].input_prompt_number == nbb_cell_id) {\n",
       "                        if (nbb_cells[i].get_text() == nbb_unformatted_code) {\n",
       "                             nbb_cells[i].set_text(nbb_formatted_code);\n",
       "                        }\n",
       "                        break;\n",
       "                    }\n",
       "                }\n",
       "            }, 500);\n",
       "            "
      ],
      "text/plain": [
       "<IPython.core.display.Javascript object>"
      ]
     },
     "metadata": {},
     "output_type": "display_data"
    },
    {
     "data": {
      "application/javascript": [
       "\n",
       "            setTimeout(function() {\n",
       "                var nbb_cell_id = 229;\n",
       "                var nbb_unformatted_code = \"config = config_util.get_configs_from_pipeline_file(files[\\\"PIPELINE_CONFIG\\\"])\\nconfig\";\n",
       "                var nbb_formatted_code = \"config = config_util.get_configs_from_pipeline_file(files[\\\"PIPELINE_CONFIG\\\"])\\nconfig\";\n",
       "                var nbb_cells = Jupyter.notebook.get_cells();\n",
       "                for (var i = 0; i < nbb_cells.length; ++i) {\n",
       "                    if (nbb_cells[i].input_prompt_number == nbb_cell_id) {\n",
       "                        if (nbb_cells[i].get_text() == nbb_unformatted_code) {\n",
       "                             nbb_cells[i].set_text(nbb_formatted_code);\n",
       "                        }\n",
       "                        break;\n",
       "                    }\n",
       "                }\n",
       "            }, 500);\n",
       "            "
      ],
      "text/plain": [
       "<IPython.core.display.Javascript object>"
      ]
     },
     "metadata": {},
     "output_type": "display_data"
    },
    {
     "data": {
      "application/javascript": [
       "\n",
       "            setTimeout(function() {\n",
       "                var nbb_cell_id = 229;\n",
       "                var nbb_unformatted_code = \"config = config_util.get_configs_from_pipeline_file(files[\\\"PIPELINE_CONFIG\\\"])\\nconfig\";\n",
       "                var nbb_formatted_code = \"config = config_util.get_configs_from_pipeline_file(files[\\\"PIPELINE_CONFIG\\\"])\\nconfig\";\n",
       "                var nbb_cells = Jupyter.notebook.get_cells();\n",
       "                for (var i = 0; i < nbb_cells.length; ++i) {\n",
       "                    if (nbb_cells[i].input_prompt_number == nbb_cell_id) {\n",
       "                        if (nbb_cells[i].get_text() == nbb_unformatted_code) {\n",
       "                             nbb_cells[i].set_text(nbb_formatted_code);\n",
       "                        }\n",
       "                        break;\n",
       "                    }\n",
       "                }\n",
       "            }, 500);\n",
       "            "
      ],
      "text/plain": [
       "<IPython.core.display.Javascript object>"
      ]
     },
     "metadata": {},
     "output_type": "display_data"
    },
    {
     "data": {
      "application/javascript": [
       "\n",
       "            setTimeout(function() {\n",
       "                var nbb_cell_id = 229;\n",
       "                var nbb_unformatted_code = \"config = config_util.get_configs_from_pipeline_file(files[\\\"PIPELINE_CONFIG\\\"])\\nconfig\";\n",
       "                var nbb_formatted_code = \"config = config_util.get_configs_from_pipeline_file(files[\\\"PIPELINE_CONFIG\\\"])\\nconfig\";\n",
       "                var nbb_cells = Jupyter.notebook.get_cells();\n",
       "                for (var i = 0; i < nbb_cells.length; ++i) {\n",
       "                    if (nbb_cells[i].input_prompt_number == nbb_cell_id) {\n",
       "                        if (nbb_cells[i].get_text() == nbb_unformatted_code) {\n",
       "                             nbb_cells[i].set_text(nbb_formatted_code);\n",
       "                        }\n",
       "                        break;\n",
       "                    }\n",
       "                }\n",
       "            }, 500);\n",
       "            "
      ],
      "text/plain": [
       "<IPython.core.display.Javascript object>"
      ]
     },
     "metadata": {},
     "output_type": "display_data"
    },
    {
     "data": {
      "application/javascript": [
       "\n",
       "            setTimeout(function() {\n",
       "                var nbb_cell_id = 229;\n",
       "                var nbb_unformatted_code = \"config = config_util.get_configs_from_pipeline_file(files[\\\"PIPELINE_CONFIG\\\"])\\nconfig\";\n",
       "                var nbb_formatted_code = \"config = config_util.get_configs_from_pipeline_file(files[\\\"PIPELINE_CONFIG\\\"])\\nconfig\";\n",
       "                var nbb_cells = Jupyter.notebook.get_cells();\n",
       "                for (var i = 0; i < nbb_cells.length; ++i) {\n",
       "                    if (nbb_cells[i].input_prompt_number == nbb_cell_id) {\n",
       "                        if (nbb_cells[i].get_text() == nbb_unformatted_code) {\n",
       "                             nbb_cells[i].set_text(nbb_formatted_code);\n",
       "                        }\n",
       "                        break;\n",
       "                    }\n",
       "                }\n",
       "            }, 500);\n",
       "            "
      ],
      "text/plain": [
       "<IPython.core.display.Javascript object>"
      ]
     },
     "metadata": {},
     "output_type": "display_data"
    },
    {
     "data": {
      "application/javascript": [
       "\n",
       "            setTimeout(function() {\n",
       "                var nbb_cell_id = 229;\n",
       "                var nbb_unformatted_code = \"config = config_util.get_configs_from_pipeline_file(files[\\\"PIPELINE_CONFIG\\\"])\\nconfig\";\n",
       "                var nbb_formatted_code = \"config = config_util.get_configs_from_pipeline_file(files[\\\"PIPELINE_CONFIG\\\"])\\nconfig\";\n",
       "                var nbb_cells = Jupyter.notebook.get_cells();\n",
       "                for (var i = 0; i < nbb_cells.length; ++i) {\n",
       "                    if (nbb_cells[i].input_prompt_number == nbb_cell_id) {\n",
       "                        if (nbb_cells[i].get_text() == nbb_unformatted_code) {\n",
       "                             nbb_cells[i].set_text(nbb_formatted_code);\n",
       "                        }\n",
       "                        break;\n",
       "                    }\n",
       "                }\n",
       "            }, 500);\n",
       "            "
      ],
      "text/plain": [
       "<IPython.core.display.Javascript object>"
      ]
     },
     "metadata": {},
     "output_type": "display_data"
    }
   ],
   "source": [
    "config = config_util.get_configs_from_pipeline_file(files[\"PIPELINE_CONFIG\"])\n",
    "config"
   ]
  },
  {
   "cell_type": "code",
   "execution_count": 232,
   "id": "17da2502",
   "metadata": {},
   "outputs": [
    {
     "data": {
      "application/javascript": [
       "\n",
       "            setTimeout(function() {\n",
       "                var nbb_cell_id = 232;\n",
       "                var nbb_unformatted_code = \"import object_detection\";\n",
       "                var nbb_formatted_code = \"import object_detection\";\n",
       "                var nbb_cells = Jupyter.notebook.get_cells();\n",
       "                for (var i = 0; i < nbb_cells.length; ++i) {\n",
       "                    if (nbb_cells[i].input_prompt_number == nbb_cell_id) {\n",
       "                        if (nbb_cells[i].get_text() == nbb_unformatted_code) {\n",
       "                             nbb_cells[i].set_text(nbb_formatted_code);\n",
       "                        }\n",
       "                        break;\n",
       "                    }\n",
       "                }\n",
       "            }, 500);\n",
       "            "
      ],
      "text/plain": [
       "<IPython.core.display.Javascript object>"
      ]
     },
     "metadata": {},
     "output_type": "display_data"
    },
    {
     "data": {
      "application/javascript": [
       "\n",
       "            setTimeout(function() {\n",
       "                var nbb_cell_id = 232;\n",
       "                var nbb_unformatted_code = \"import object_detection\";\n",
       "                var nbb_formatted_code = \"import object_detection\";\n",
       "                var nbb_cells = Jupyter.notebook.get_cells();\n",
       "                for (var i = 0; i < nbb_cells.length; ++i) {\n",
       "                    if (nbb_cells[i].input_prompt_number == nbb_cell_id) {\n",
       "                        if (nbb_cells[i].get_text() == nbb_unformatted_code) {\n",
       "                             nbb_cells[i].set_text(nbb_formatted_code);\n",
       "                        }\n",
       "                        break;\n",
       "                    }\n",
       "                }\n",
       "            }, 500);\n",
       "            "
      ],
      "text/plain": [
       "<IPython.core.display.Javascript object>"
      ]
     },
     "metadata": {},
     "output_type": "display_data"
    },
    {
     "data": {
      "application/javascript": [
       "\n",
       "            setTimeout(function() {\n",
       "                var nbb_cell_id = 232;\n",
       "                var nbb_unformatted_code = \"import object_detection\";\n",
       "                var nbb_formatted_code = \"import object_detection\";\n",
       "                var nbb_cells = Jupyter.notebook.get_cells();\n",
       "                for (var i = 0; i < nbb_cells.length; ++i) {\n",
       "                    if (nbb_cells[i].input_prompt_number == nbb_cell_id) {\n",
       "                        if (nbb_cells[i].get_text() == nbb_unformatted_code) {\n",
       "                             nbb_cells[i].set_text(nbb_formatted_code);\n",
       "                        }\n",
       "                        break;\n",
       "                    }\n",
       "                }\n",
       "            }, 500);\n",
       "            "
      ],
      "text/plain": [
       "<IPython.core.display.Javascript object>"
      ]
     },
     "metadata": {},
     "output_type": "display_data"
    },
    {
     "data": {
      "application/javascript": [
       "\n",
       "            setTimeout(function() {\n",
       "                var nbb_cell_id = 232;\n",
       "                var nbb_unformatted_code = \"import object_detection\";\n",
       "                var nbb_formatted_code = \"import object_detection\";\n",
       "                var nbb_cells = Jupyter.notebook.get_cells();\n",
       "                for (var i = 0; i < nbb_cells.length; ++i) {\n",
       "                    if (nbb_cells[i].input_prompt_number == nbb_cell_id) {\n",
       "                        if (nbb_cells[i].get_text() == nbb_unformatted_code) {\n",
       "                             nbb_cells[i].set_text(nbb_formatted_code);\n",
       "                        }\n",
       "                        break;\n",
       "                    }\n",
       "                }\n",
       "            }, 500);\n",
       "            "
      ],
      "text/plain": [
       "<IPython.core.display.Javascript object>"
      ]
     },
     "metadata": {},
     "output_type": "display_data"
    },
    {
     "data": {
      "application/javascript": [
       "\n",
       "            setTimeout(function() {\n",
       "                var nbb_cell_id = 232;\n",
       "                var nbb_unformatted_code = \"import object_detection\";\n",
       "                var nbb_formatted_code = \"import object_detection\";\n",
       "                var nbb_cells = Jupyter.notebook.get_cells();\n",
       "                for (var i = 0; i < nbb_cells.length; ++i) {\n",
       "                    if (nbb_cells[i].input_prompt_number == nbb_cell_id) {\n",
       "                        if (nbb_cells[i].get_text() == nbb_unformatted_code) {\n",
       "                             nbb_cells[i].set_text(nbb_formatted_code);\n",
       "                        }\n",
       "                        break;\n",
       "                    }\n",
       "                }\n",
       "            }, 500);\n",
       "            "
      ],
      "text/plain": [
       "<IPython.core.display.Javascript object>"
      ]
     },
     "metadata": {},
     "output_type": "display_data"
    },
    {
     "data": {
      "application/javascript": [
       "\n",
       "            setTimeout(function() {\n",
       "                var nbb_cell_id = 232;\n",
       "                var nbb_unformatted_code = \"import object_detection\";\n",
       "                var nbb_formatted_code = \"import object_detection\";\n",
       "                var nbb_cells = Jupyter.notebook.get_cells();\n",
       "                for (var i = 0; i < nbb_cells.length; ++i) {\n",
       "                    if (nbb_cells[i].input_prompt_number == nbb_cell_id) {\n",
       "                        if (nbb_cells[i].get_text() == nbb_unformatted_code) {\n",
       "                             nbb_cells[i].set_text(nbb_formatted_code);\n",
       "                        }\n",
       "                        break;\n",
       "                    }\n",
       "                }\n",
       "            }, 500);\n",
       "            "
      ],
      "text/plain": [
       "<IPython.core.display.Javascript object>"
      ]
     },
     "metadata": {},
     "output_type": "display_data"
    },
    {
     "data": {
      "application/javascript": [
       "\n",
       "            setTimeout(function() {\n",
       "                var nbb_cell_id = 232;\n",
       "                var nbb_unformatted_code = \"import object_detection\";\n",
       "                var nbb_formatted_code = \"import object_detection\";\n",
       "                var nbb_cells = Jupyter.notebook.get_cells();\n",
       "                for (var i = 0; i < nbb_cells.length; ++i) {\n",
       "                    if (nbb_cells[i].input_prompt_number == nbb_cell_id) {\n",
       "                        if (nbb_cells[i].get_text() == nbb_unformatted_code) {\n",
       "                             nbb_cells[i].set_text(nbb_formatted_code);\n",
       "                        }\n",
       "                        break;\n",
       "                    }\n",
       "                }\n",
       "            }, 500);\n",
       "            "
      ],
      "text/plain": [
       "<IPython.core.display.Javascript object>"
      ]
     },
     "metadata": {},
     "output_type": "display_data"
    },
    {
     "data": {
      "application/javascript": [
       "\n",
       "            setTimeout(function() {\n",
       "                var nbb_cell_id = 232;\n",
       "                var nbb_unformatted_code = \"import object_detection\";\n",
       "                var nbb_formatted_code = \"import object_detection\";\n",
       "                var nbb_cells = Jupyter.notebook.get_cells();\n",
       "                for (var i = 0; i < nbb_cells.length; ++i) {\n",
       "                    if (nbb_cells[i].input_prompt_number == nbb_cell_id) {\n",
       "                        if (nbb_cells[i].get_text() == nbb_unformatted_code) {\n",
       "                             nbb_cells[i].set_text(nbb_formatted_code);\n",
       "                        }\n",
       "                        break;\n",
       "                    }\n",
       "                }\n",
       "            }, 500);\n",
       "            "
      ],
      "text/plain": [
       "<IPython.core.display.Javascript object>"
      ]
     },
     "metadata": {},
     "output_type": "display_data"
    },
    {
     "data": {
      "application/javascript": [
       "\n",
       "            setTimeout(function() {\n",
       "                var nbb_cell_id = 232;\n",
       "                var nbb_unformatted_code = \"import object_detection\";\n",
       "                var nbb_formatted_code = \"import object_detection\";\n",
       "                var nbb_cells = Jupyter.notebook.get_cells();\n",
       "                for (var i = 0; i < nbb_cells.length; ++i) {\n",
       "                    if (nbb_cells[i].input_prompt_number == nbb_cell_id) {\n",
       "                        if (nbb_cells[i].get_text() == nbb_unformatted_code) {\n",
       "                             nbb_cells[i].set_text(nbb_formatted_code);\n",
       "                        }\n",
       "                        break;\n",
       "                    }\n",
       "                }\n",
       "            }, 500);\n",
       "            "
      ],
      "text/plain": [
       "<IPython.core.display.Javascript object>"
      ]
     },
     "metadata": {},
     "output_type": "display_data"
    },
    {
     "data": {
      "application/javascript": [
       "\n",
       "            setTimeout(function() {\n",
       "                var nbb_cell_id = 232;\n",
       "                var nbb_unformatted_code = \"import object_detection\";\n",
       "                var nbb_formatted_code = \"import object_detection\";\n",
       "                var nbb_cells = Jupyter.notebook.get_cells();\n",
       "                for (var i = 0; i < nbb_cells.length; ++i) {\n",
       "                    if (nbb_cells[i].input_prompt_number == nbb_cell_id) {\n",
       "                        if (nbb_cells[i].get_text() == nbb_unformatted_code) {\n",
       "                             nbb_cells[i].set_text(nbb_formatted_code);\n",
       "                        }\n",
       "                        break;\n",
       "                    }\n",
       "                }\n",
       "            }, 500);\n",
       "            "
      ],
      "text/plain": [
       "<IPython.core.display.Javascript object>"
      ]
     },
     "metadata": {},
     "output_type": "display_data"
    }
   ],
   "source": [
    "import object_detection"
   ]
  },
  {
   "cell_type": "code",
   "execution_count": 233,
   "id": "2ede490f",
   "metadata": {},
   "outputs": [
    {
     "name": "stdout",
     "output_type": "stream",
     "text": [
      "object-detection @ file:///Users/user/Applications/machine-learning/deeproute/api_models/models/research\r\n"
     ]
    },
    {
     "data": {
      "application/javascript": [
       "\n",
       "            setTimeout(function() {\n",
       "                var nbb_cell_id = 233;\n",
       "                var nbb_unformatted_code = \"!pip3 freeze | grep object\";\n",
       "                var nbb_formatted_code = \"!pip3 freeze | grep object\";\n",
       "                var nbb_cells = Jupyter.notebook.get_cells();\n",
       "                for (var i = 0; i < nbb_cells.length; ++i) {\n",
       "                    if (nbb_cells[i].input_prompt_number == nbb_cell_id) {\n",
       "                        if (nbb_cells[i].get_text() == nbb_unformatted_code) {\n",
       "                             nbb_cells[i].set_text(nbb_formatted_code);\n",
       "                        }\n",
       "                        break;\n",
       "                    }\n",
       "                }\n",
       "            }, 500);\n",
       "            "
      ],
      "text/plain": [
       "<IPython.core.display.Javascript object>"
      ]
     },
     "metadata": {},
     "output_type": "display_data"
    },
    {
     "data": {
      "application/javascript": [
       "\n",
       "            setTimeout(function() {\n",
       "                var nbb_cell_id = 233;\n",
       "                var nbb_unformatted_code = \"!pip3 freeze | grep object\";\n",
       "                var nbb_formatted_code = \"!pip3 freeze | grep object\";\n",
       "                var nbb_cells = Jupyter.notebook.get_cells();\n",
       "                for (var i = 0; i < nbb_cells.length; ++i) {\n",
       "                    if (nbb_cells[i].input_prompt_number == nbb_cell_id) {\n",
       "                        if (nbb_cells[i].get_text() == nbb_unformatted_code) {\n",
       "                             nbb_cells[i].set_text(nbb_formatted_code);\n",
       "                        }\n",
       "                        break;\n",
       "                    }\n",
       "                }\n",
       "            }, 500);\n",
       "            "
      ],
      "text/plain": [
       "<IPython.core.display.Javascript object>"
      ]
     },
     "metadata": {},
     "output_type": "display_data"
    },
    {
     "data": {
      "application/javascript": [
       "\n",
       "            setTimeout(function() {\n",
       "                var nbb_cell_id = 233;\n",
       "                var nbb_unformatted_code = \"!pip3 freeze | grep object\";\n",
       "                var nbb_formatted_code = \"!pip3 freeze | grep object\";\n",
       "                var nbb_cells = Jupyter.notebook.get_cells();\n",
       "                for (var i = 0; i < nbb_cells.length; ++i) {\n",
       "                    if (nbb_cells[i].input_prompt_number == nbb_cell_id) {\n",
       "                        if (nbb_cells[i].get_text() == nbb_unformatted_code) {\n",
       "                             nbb_cells[i].set_text(nbb_formatted_code);\n",
       "                        }\n",
       "                        break;\n",
       "                    }\n",
       "                }\n",
       "            }, 500);\n",
       "            "
      ],
      "text/plain": [
       "<IPython.core.display.Javascript object>"
      ]
     },
     "metadata": {},
     "output_type": "display_data"
    },
    {
     "data": {
      "application/javascript": [
       "\n",
       "            setTimeout(function() {\n",
       "                var nbb_cell_id = 233;\n",
       "                var nbb_unformatted_code = \"!pip3 freeze | grep object\";\n",
       "                var nbb_formatted_code = \"!pip3 freeze | grep object\";\n",
       "                var nbb_cells = Jupyter.notebook.get_cells();\n",
       "                for (var i = 0; i < nbb_cells.length; ++i) {\n",
       "                    if (nbb_cells[i].input_prompt_number == nbb_cell_id) {\n",
       "                        if (nbb_cells[i].get_text() == nbb_unformatted_code) {\n",
       "                             nbb_cells[i].set_text(nbb_formatted_code);\n",
       "                        }\n",
       "                        break;\n",
       "                    }\n",
       "                }\n",
       "            }, 500);\n",
       "            "
      ],
      "text/plain": [
       "<IPython.core.display.Javascript object>"
      ]
     },
     "metadata": {},
     "output_type": "display_data"
    },
    {
     "data": {
      "application/javascript": [
       "\n",
       "            setTimeout(function() {\n",
       "                var nbb_cell_id = 233;\n",
       "                var nbb_unformatted_code = \"!pip3 freeze | grep object\";\n",
       "                var nbb_formatted_code = \"!pip3 freeze | grep object\";\n",
       "                var nbb_cells = Jupyter.notebook.get_cells();\n",
       "                for (var i = 0; i < nbb_cells.length; ++i) {\n",
       "                    if (nbb_cells[i].input_prompt_number == nbb_cell_id) {\n",
       "                        if (nbb_cells[i].get_text() == nbb_unformatted_code) {\n",
       "                             nbb_cells[i].set_text(nbb_formatted_code);\n",
       "                        }\n",
       "                        break;\n",
       "                    }\n",
       "                }\n",
       "            }, 500);\n",
       "            "
      ],
      "text/plain": [
       "<IPython.core.display.Javascript object>"
      ]
     },
     "metadata": {},
     "output_type": "display_data"
    },
    {
     "data": {
      "application/javascript": [
       "\n",
       "            setTimeout(function() {\n",
       "                var nbb_cell_id = 233;\n",
       "                var nbb_unformatted_code = \"!pip3 freeze | grep object\";\n",
       "                var nbb_formatted_code = \"!pip3 freeze | grep object\";\n",
       "                var nbb_cells = Jupyter.notebook.get_cells();\n",
       "                for (var i = 0; i < nbb_cells.length; ++i) {\n",
       "                    if (nbb_cells[i].input_prompt_number == nbb_cell_id) {\n",
       "                        if (nbb_cells[i].get_text() == nbb_unformatted_code) {\n",
       "                             nbb_cells[i].set_text(nbb_formatted_code);\n",
       "                        }\n",
       "                        break;\n",
       "                    }\n",
       "                }\n",
       "            }, 500);\n",
       "            "
      ],
      "text/plain": [
       "<IPython.core.display.Javascript object>"
      ]
     },
     "metadata": {},
     "output_type": "display_data"
    },
    {
     "data": {
      "application/javascript": [
       "\n",
       "            setTimeout(function() {\n",
       "                var nbb_cell_id = 233;\n",
       "                var nbb_unformatted_code = \"!pip3 freeze | grep object\";\n",
       "                var nbb_formatted_code = \"!pip3 freeze | grep object\";\n",
       "                var nbb_cells = Jupyter.notebook.get_cells();\n",
       "                for (var i = 0; i < nbb_cells.length; ++i) {\n",
       "                    if (nbb_cells[i].input_prompt_number == nbb_cell_id) {\n",
       "                        if (nbb_cells[i].get_text() == nbb_unformatted_code) {\n",
       "                             nbb_cells[i].set_text(nbb_formatted_code);\n",
       "                        }\n",
       "                        break;\n",
       "                    }\n",
       "                }\n",
       "            }, 500);\n",
       "            "
      ],
      "text/plain": [
       "<IPython.core.display.Javascript object>"
      ]
     },
     "metadata": {},
     "output_type": "display_data"
    },
    {
     "data": {
      "application/javascript": [
       "\n",
       "            setTimeout(function() {\n",
       "                var nbb_cell_id = 233;\n",
       "                var nbb_unformatted_code = \"!pip3 freeze | grep object\";\n",
       "                var nbb_formatted_code = \"!pip3 freeze | grep object\";\n",
       "                var nbb_cells = Jupyter.notebook.get_cells();\n",
       "                for (var i = 0; i < nbb_cells.length; ++i) {\n",
       "                    if (nbb_cells[i].input_prompt_number == nbb_cell_id) {\n",
       "                        if (nbb_cells[i].get_text() == nbb_unformatted_code) {\n",
       "                             nbb_cells[i].set_text(nbb_formatted_code);\n",
       "                        }\n",
       "                        break;\n",
       "                    }\n",
       "                }\n",
       "            }, 500);\n",
       "            "
      ],
      "text/plain": [
       "<IPython.core.display.Javascript object>"
      ]
     },
     "metadata": {},
     "output_type": "display_data"
    },
    {
     "data": {
      "application/javascript": [
       "\n",
       "            setTimeout(function() {\n",
       "                var nbb_cell_id = 233;\n",
       "                var nbb_unformatted_code = \"!pip3 freeze | grep object\";\n",
       "                var nbb_formatted_code = \"!pip3 freeze | grep object\";\n",
       "                var nbb_cells = Jupyter.notebook.get_cells();\n",
       "                for (var i = 0; i < nbb_cells.length; ++i) {\n",
       "                    if (nbb_cells[i].input_prompt_number == nbb_cell_id) {\n",
       "                        if (nbb_cells[i].get_text() == nbb_unformatted_code) {\n",
       "                             nbb_cells[i].set_text(nbb_formatted_code);\n",
       "                        }\n",
       "                        break;\n",
       "                    }\n",
       "                }\n",
       "            }, 500);\n",
       "            "
      ],
      "text/plain": [
       "<IPython.core.display.Javascript object>"
      ]
     },
     "metadata": {},
     "output_type": "display_data"
    },
    {
     "data": {
      "application/javascript": [
       "\n",
       "            setTimeout(function() {\n",
       "                var nbb_cell_id = 233;\n",
       "                var nbb_unformatted_code = \"!pip3 freeze | grep object\";\n",
       "                var nbb_formatted_code = \"!pip3 freeze | grep object\";\n",
       "                var nbb_cells = Jupyter.notebook.get_cells();\n",
       "                for (var i = 0; i < nbb_cells.length; ++i) {\n",
       "                    if (nbb_cells[i].input_prompt_number == nbb_cell_id) {\n",
       "                        if (nbb_cells[i].get_text() == nbb_unformatted_code) {\n",
       "                             nbb_cells[i].set_text(nbb_formatted_code);\n",
       "                        }\n",
       "                        break;\n",
       "                    }\n",
       "                }\n",
       "            }, 500);\n",
       "            "
      ],
      "text/plain": [
       "<IPython.core.display.Javascript object>"
      ]
     },
     "metadata": {},
     "output_type": "display_data"
    }
   ],
   "source": [
    "!pip3 freeze | grep object"
   ]
  },
  {
   "cell_type": "code",
   "execution_count": 234,
   "id": "8b5a55ba",
   "metadata": {},
   "outputs": [
    {
     "name": "stdout",
     "output_type": "stream",
     "text": [
      "absl-py==0.12.0\r\n",
      "apache-beam==2.30.0\r\n",
      "appdirs==1.4.4\r\n",
      "appnope==0.1.2\r\n",
      "argon2-cffi==20.1.0\r\n",
      "astunparse==1.6.3\r\n",
      "async-generator==1.10\r\n",
      "attrs==21.2.0\r\n",
      "avro-python3==1.9.2.1\r\n",
      "backcall==0.2.0\r\n",
      "black==21.6b0\r\n",
      "bleach==3.3.0\r\n",
      "cachetools==4.2.0\r\n",
      "certifi==2020.12.5\r\n",
      "cffi==1.14.5\r\n",
      "chardet==4.0.0\r\n",
      "click==8.0.1\r\n",
      "contextlib2==21.6.0\r\n",
      "crcmod==1.7\r\n",
      "cycler==0.10.0\r\n",
      "Cython==0.29.23\r\n",
      "decorator==5.0.9\r\n",
      "defusedxml==0.7.1\r\n",
      "dill==0.3.1.1\r\n",
      "dm-tree==0.1.6\r\n",
      "docopt==0.6.2\r\n",
      "entrypoints==0.3\r\n",
      "fastavro==1.4.2\r\n",
      "flatbuffers==1.12\r\n",
      "future==0.18.2\r\n",
      "gast==0.4.0\r\n",
      "gin-config==0.4.0\r\n",
      "google-api-core==1.30.0\r\n",
      "google-api-python-client==2.11.0\r\n",
      "google-auth==1.32.1\r\n",
      "google-auth-httplib2==0.1.0\r\n",
      "google-auth-oauthlib==0.4.2\r\n",
      "google-cloud-bigquery==2.20.0\r\n",
      "google-cloud-core==1.7.1\r\n",
      "google-crc32c==1.1.2\r\n",
      "google-pasta==0.2.0\r\n",
      "google-resumable-media==1.3.1\r\n",
      "googleapis-common-protos==1.53.0\r\n",
      "grpcio==1.34.1\r\n",
      "h5py==3.1.0\r\n",
      "hdfs==2.6.0\r\n",
      "httplib2==0.19.1\r\n",
      "idna==2.10\r\n",
      "importlib-resources==5.2.0\r\n",
      "ipykernel==5.5.5\r\n",
      "ipympl==0.7.0\r\n",
      "ipython==7.24.1\r\n",
      "ipython-genutils==0.2.0\r\n",
      "ipywidgets==7.6.3\r\n",
      "jedi==0.18.0\r\n",
      "Jinja2==3.0.1\r\n",
      "joblib==1.0.1\r\n",
      "jsonschema==3.2.0\r\n",
      "jupyter-client==6.1.12\r\n",
      "jupyter-core==4.7.1\r\n",
      "jupyterlab-pygments==0.1.2\r\n",
      "jupyterlab-widgets==1.0.0\r\n",
      "kaggle==1.5.12\r\n",
      "keras-nightly==2.5.0.dev2021032900\r\n",
      "Keras-Preprocessing==1.1.2\r\n",
      "kiwisolver==1.3.1\r\n",
      "lvis==0.5.3\r\n",
      "lxml==4.6.3\r\n",
      "Markdown==3.3.3\r\n",
      "MarkupSafe==2.0.1\r\n",
      "matplotlib==3.4.2\r\n",
      "matplotlib-inline==0.1.2\r\n",
      "mistune==0.8.4\r\n",
      "mkl-fft==1.3.0\r\n",
      "mkl-random @ file:///opt/concourse/worker/volumes/live/54b31a45-1da5-4512-5c3a-93c9ff2af8bc/volume/mkl_random_1618853970587/work\r\n",
      "mkl-service==2.3.0\r\n",
      "mypy-extensions==0.4.3\r\n",
      "nb-black==1.0.7\r\n",
      "nbclient==0.5.3\r\n",
      "nbconvert==6.1.0\r\n",
      "nbformat==5.1.3\r\n",
      "nest-asyncio==1.5.1\r\n",
      "notebook==6.4.0\r\n",
      "numpy==1.19.4\r\n",
      "oauth2client==4.1.3\r\n",
      "oauthlib==3.1.0\r\n",
      "object-detection @ file:///Users/user/Applications/machine-learning/deeproute/api_models/models/research\r\n",
      "opencv-python==4.5.2.54\r\n",
      "opencv-python-headless==4.5.2.54\r\n",
      "opt-einsum==3.3.0\r\n",
      "packaging==20.9\r\n",
      "pandas==1.2.4\r\n",
      "pandocfilters==1.4.3\r\n",
      "parso==0.8.2\r\n",
      "pathspec==0.8.1\r\n",
      "pexpect==4.8.0\r\n",
      "pickleshare==0.7.5\r\n",
      "Pillow==8.2.0\r\n",
      "portalocker==2.0.0\r\n",
      "prometheus-client==0.11.0\r\n",
      "promise==2.3\r\n",
      "prompt-toolkit==3.0.19\r\n",
      "proto-plus==1.19.0\r\n",
      "protobuf==3.14.0\r\n",
      "psutil==5.8.0\r\n",
      "ptyprocess==0.7.0\r\n",
      "py-cpuinfo==8.0.0\r\n",
      "pyarrow==3.0.0\r\n",
      "pyasn1==0.4.8\r\n",
      "pyasn1-modules==0.2.8\r\n",
      "pycocotools==2.0.2\r\n",
      "pycparser==2.20\r\n",
      "pydot==1.4.2\r\n",
      "Pygments==2.9.0\r\n",
      "pymongo==3.11.4\r\n",
      "pyparsing==2.4.7\r\n",
      "PyQt5==5.15.4\r\n",
      "PyQt5-Qt5==5.15.2\r\n",
      "PyQt5-sip==12.9.0\r\n",
      "pyrsistent==0.17.3\r\n",
      "python-dateutil @ file:///home/ktietz/src/ci/python-dateutil_1611928101742/work\r\n",
      "python-slugify==5.0.2\r\n",
      "pytz @ file:///tmp/build/80754af9/pytz_1612215392582/work\r\n",
      "PyYAML==5.4.1\r\n",
      "pyzmq==22.1.0\r\n",
      "regex==2021.4.4\r\n",
      "requests==2.25.1\r\n",
      "requests-oauthlib==1.3.0\r\n",
      "rsa==4.6\r\n",
      "sacrebleu==1.5.1\r\n",
      "scikit-learn==0.24.2\r\n",
      "scipy==1.7.0\r\n",
      "Send2Trash==1.7.1\r\n",
      "sentencepiece==0.1.96\r\n",
      "seqeval==1.2.2\r\n",
      "six==1.15.0\r\n",
      "tensorboard==2.5.0\r\n",
      "tensorboard-data-server==0.6.1\r\n",
      "tensorboard-plugin-wit==1.7.0\r\n",
      "tensorflow==2.5.0\r\n",
      "tensorflow-addons==0.13.0\r\n",
      "tensorflow-datasets==4.3.0\r\n",
      "tensorflow-estimator==2.5.0\r\n",
      "tensorflow-hub==0.12.0\r\n",
      "tensorflow-metadata==1.1.0\r\n",
      "tensorflow-model-optimization==0.6.0\r\n",
      "termcolor==1.1.0\r\n",
      "terminado==0.10.1\r\n",
      "testpath==0.5.0\r\n",
      "text-unidecode==1.3\r\n",
      "tf-models-official==2.5.0\r\n",
      "tf-slim==1.1.0\r\n",
      "threadpoolctl==2.1.0\r\n",
      "toml==0.10.2\r\n",
      "tornado==6.1\r\n",
      "tqdm==4.61.1\r\n",
      "traitlets==5.0.5\r\n",
      "typeguard==2.12.1\r\n",
      "typing-extensions==3.7.4.3\r\n",
      "uritemplate==3.0.1\r\n",
      "urllib3==1.26.2\r\n",
      "wcwidth==0.2.5\r\n",
      "webencodings==0.5.1\r\n",
      "Werkzeug==1.0.1\r\n",
      "widgetsnbextension==3.5.1\r\n",
      "wrapt==1.12.1\r\n",
      "zipp==3.4.1\r\n"
     ]
    },
    {
     "data": {
      "application/javascript": [
       "\n",
       "            setTimeout(function() {\n",
       "                var nbb_cell_id = 234;\n",
       "                var nbb_unformatted_code = \"!pip3 freeze\";\n",
       "                var nbb_formatted_code = \"!pip3 freeze\";\n",
       "                var nbb_cells = Jupyter.notebook.get_cells();\n",
       "                for (var i = 0; i < nbb_cells.length; ++i) {\n",
       "                    if (nbb_cells[i].input_prompt_number == nbb_cell_id) {\n",
       "                        if (nbb_cells[i].get_text() == nbb_unformatted_code) {\n",
       "                             nbb_cells[i].set_text(nbb_formatted_code);\n",
       "                        }\n",
       "                        break;\n",
       "                    }\n",
       "                }\n",
       "            }, 500);\n",
       "            "
      ],
      "text/plain": [
       "<IPython.core.display.Javascript object>"
      ]
     },
     "metadata": {},
     "output_type": "display_data"
    },
    {
     "data": {
      "application/javascript": [
       "\n",
       "            setTimeout(function() {\n",
       "                var nbb_cell_id = 234;\n",
       "                var nbb_unformatted_code = \"!pip3 freeze\";\n",
       "                var nbb_formatted_code = \"!pip3 freeze\";\n",
       "                var nbb_cells = Jupyter.notebook.get_cells();\n",
       "                for (var i = 0; i < nbb_cells.length; ++i) {\n",
       "                    if (nbb_cells[i].input_prompt_number == nbb_cell_id) {\n",
       "                        if (nbb_cells[i].get_text() == nbb_unformatted_code) {\n",
       "                             nbb_cells[i].set_text(nbb_formatted_code);\n",
       "                        }\n",
       "                        break;\n",
       "                    }\n",
       "                }\n",
       "            }, 500);\n",
       "            "
      ],
      "text/plain": [
       "<IPython.core.display.Javascript object>"
      ]
     },
     "metadata": {},
     "output_type": "display_data"
    },
    {
     "data": {
      "application/javascript": [
       "\n",
       "            setTimeout(function() {\n",
       "                var nbb_cell_id = 234;\n",
       "                var nbb_unformatted_code = \"!pip3 freeze\";\n",
       "                var nbb_formatted_code = \"!pip3 freeze\";\n",
       "                var nbb_cells = Jupyter.notebook.get_cells();\n",
       "                for (var i = 0; i < nbb_cells.length; ++i) {\n",
       "                    if (nbb_cells[i].input_prompt_number == nbb_cell_id) {\n",
       "                        if (nbb_cells[i].get_text() == nbb_unformatted_code) {\n",
       "                             nbb_cells[i].set_text(nbb_formatted_code);\n",
       "                        }\n",
       "                        break;\n",
       "                    }\n",
       "                }\n",
       "            }, 500);\n",
       "            "
      ],
      "text/plain": [
       "<IPython.core.display.Javascript object>"
      ]
     },
     "metadata": {},
     "output_type": "display_data"
    },
    {
     "data": {
      "application/javascript": [
       "\n",
       "            setTimeout(function() {\n",
       "                var nbb_cell_id = 234;\n",
       "                var nbb_unformatted_code = \"!pip3 freeze\";\n",
       "                var nbb_formatted_code = \"!pip3 freeze\";\n",
       "                var nbb_cells = Jupyter.notebook.get_cells();\n",
       "                for (var i = 0; i < nbb_cells.length; ++i) {\n",
       "                    if (nbb_cells[i].input_prompt_number == nbb_cell_id) {\n",
       "                        if (nbb_cells[i].get_text() == nbb_unformatted_code) {\n",
       "                             nbb_cells[i].set_text(nbb_formatted_code);\n",
       "                        }\n",
       "                        break;\n",
       "                    }\n",
       "                }\n",
       "            }, 500);\n",
       "            "
      ],
      "text/plain": [
       "<IPython.core.display.Javascript object>"
      ]
     },
     "metadata": {},
     "output_type": "display_data"
    },
    {
     "data": {
      "application/javascript": [
       "\n",
       "            setTimeout(function() {\n",
       "                var nbb_cell_id = 234;\n",
       "                var nbb_unformatted_code = \"!pip3 freeze\";\n",
       "                var nbb_formatted_code = \"!pip3 freeze\";\n",
       "                var nbb_cells = Jupyter.notebook.get_cells();\n",
       "                for (var i = 0; i < nbb_cells.length; ++i) {\n",
       "                    if (nbb_cells[i].input_prompt_number == nbb_cell_id) {\n",
       "                        if (nbb_cells[i].get_text() == nbb_unformatted_code) {\n",
       "                             nbb_cells[i].set_text(nbb_formatted_code);\n",
       "                        }\n",
       "                        break;\n",
       "                    }\n",
       "                }\n",
       "            }, 500);\n",
       "            "
      ],
      "text/plain": [
       "<IPython.core.display.Javascript object>"
      ]
     },
     "metadata": {},
     "output_type": "display_data"
    },
    {
     "data": {
      "application/javascript": [
       "\n",
       "            setTimeout(function() {\n",
       "                var nbb_cell_id = 234;\n",
       "                var nbb_unformatted_code = \"!pip3 freeze\";\n",
       "                var nbb_formatted_code = \"!pip3 freeze\";\n",
       "                var nbb_cells = Jupyter.notebook.get_cells();\n",
       "                for (var i = 0; i < nbb_cells.length; ++i) {\n",
       "                    if (nbb_cells[i].input_prompt_number == nbb_cell_id) {\n",
       "                        if (nbb_cells[i].get_text() == nbb_unformatted_code) {\n",
       "                             nbb_cells[i].set_text(nbb_formatted_code);\n",
       "                        }\n",
       "                        break;\n",
       "                    }\n",
       "                }\n",
       "            }, 500);\n",
       "            "
      ],
      "text/plain": [
       "<IPython.core.display.Javascript object>"
      ]
     },
     "metadata": {},
     "output_type": "display_data"
    },
    {
     "data": {
      "application/javascript": [
       "\n",
       "            setTimeout(function() {\n",
       "                var nbb_cell_id = 234;\n",
       "                var nbb_unformatted_code = \"!pip3 freeze\";\n",
       "                var nbb_formatted_code = \"!pip3 freeze\";\n",
       "                var nbb_cells = Jupyter.notebook.get_cells();\n",
       "                for (var i = 0; i < nbb_cells.length; ++i) {\n",
       "                    if (nbb_cells[i].input_prompt_number == nbb_cell_id) {\n",
       "                        if (nbb_cells[i].get_text() == nbb_unformatted_code) {\n",
       "                             nbb_cells[i].set_text(nbb_formatted_code);\n",
       "                        }\n",
       "                        break;\n",
       "                    }\n",
       "                }\n",
       "            }, 500);\n",
       "            "
      ],
      "text/plain": [
       "<IPython.core.display.Javascript object>"
      ]
     },
     "metadata": {},
     "output_type": "display_data"
    },
    {
     "data": {
      "application/javascript": [
       "\n",
       "            setTimeout(function() {\n",
       "                var nbb_cell_id = 234;\n",
       "                var nbb_unformatted_code = \"!pip3 freeze\";\n",
       "                var nbb_formatted_code = \"!pip3 freeze\";\n",
       "                var nbb_cells = Jupyter.notebook.get_cells();\n",
       "                for (var i = 0; i < nbb_cells.length; ++i) {\n",
       "                    if (nbb_cells[i].input_prompt_number == nbb_cell_id) {\n",
       "                        if (nbb_cells[i].get_text() == nbb_unformatted_code) {\n",
       "                             nbb_cells[i].set_text(nbb_formatted_code);\n",
       "                        }\n",
       "                        break;\n",
       "                    }\n",
       "                }\n",
       "            }, 500);\n",
       "            "
      ],
      "text/plain": [
       "<IPython.core.display.Javascript object>"
      ]
     },
     "metadata": {},
     "output_type": "display_data"
    },
    {
     "data": {
      "application/javascript": [
       "\n",
       "            setTimeout(function() {\n",
       "                var nbb_cell_id = 234;\n",
       "                var nbb_unformatted_code = \"!pip3 freeze\";\n",
       "                var nbb_formatted_code = \"!pip3 freeze\";\n",
       "                var nbb_cells = Jupyter.notebook.get_cells();\n",
       "                for (var i = 0; i < nbb_cells.length; ++i) {\n",
       "                    if (nbb_cells[i].input_prompt_number == nbb_cell_id) {\n",
       "                        if (nbb_cells[i].get_text() == nbb_unformatted_code) {\n",
       "                             nbb_cells[i].set_text(nbb_formatted_code);\n",
       "                        }\n",
       "                        break;\n",
       "                    }\n",
       "                }\n",
       "            }, 500);\n",
       "            "
      ],
      "text/plain": [
       "<IPython.core.display.Javascript object>"
      ]
     },
     "metadata": {},
     "output_type": "display_data"
    },
    {
     "data": {
      "application/javascript": [
       "\n",
       "            setTimeout(function() {\n",
       "                var nbb_cell_id = 234;\n",
       "                var nbb_unformatted_code = \"!pip3 freeze\";\n",
       "                var nbb_formatted_code = \"!pip3 freeze\";\n",
       "                var nbb_cells = Jupyter.notebook.get_cells();\n",
       "                for (var i = 0; i < nbb_cells.length; ++i) {\n",
       "                    if (nbb_cells[i].input_prompt_number == nbb_cell_id) {\n",
       "                        if (nbb_cells[i].get_text() == nbb_unformatted_code) {\n",
       "                             nbb_cells[i].set_text(nbb_formatted_code);\n",
       "                        }\n",
       "                        break;\n",
       "                    }\n",
       "                }\n",
       "            }, 500);\n",
       "            "
      ],
      "text/plain": [
       "<IPython.core.display.Javascript object>"
      ]
     },
     "metadata": {},
     "output_type": "display_data"
    }
   ],
   "source": [
    "!pip3 freeze"
   ]
  },
  {
   "cell_type": "code",
   "execution_count": 231,
   "id": "8970fd36",
   "metadata": {},
   "outputs": [
    {
     "name": "stdout",
     "output_type": "stream",
     "text": [
      "python3 /Users/user/Applications/machine-learning/deeproute/api_models/models/research/object_detection/model_main_tf2.py --model_dir=/Users/user/Applications/machine-learning/deeproute/my_models/my_efficient_net --pipeline_config_path=/Users/user/Applications/machine-learning/deeproute/my_models/my_efficient_net/pipeline.config --num_train_steps=2000\n"
     ]
    },
    {
     "data": {
      "application/javascript": [
       "\n",
       "            setTimeout(function() {\n",
       "                var nbb_cell_id = 231;\n",
       "                var nbb_unformatted_code = \"TRAINING_SCRIPT = os.path.join(\\n    paths[\\\"APIMODEL_PATH\\\"],\\n    \\\"models\\\",\\n    \\\"research\\\",\\n    \\\"object_detection\\\",\\n    \\\"model_main_tf2.py\\\",\\n)\\ncommand = (\\n    \\\"python3 {} --model_dir={} --pipeline_config_path={} --num_train_steps=2000\\\".format(\\n        TRAINING_SCRIPT, paths[\\\"CHECKPOINT_PATH\\\"], files[\\\"PIPELINE_CONFIG\\\"]\\n    )\\n)\\nprint(command)\";\n",
       "                var nbb_formatted_code = \"TRAINING_SCRIPT = os.path.join(\\n    paths[\\\"APIMODEL_PATH\\\"],\\n    \\\"models\\\",\\n    \\\"research\\\",\\n    \\\"object_detection\\\",\\n    \\\"model_main_tf2.py\\\",\\n)\\ncommand = (\\n    \\\"python3 {} --model_dir={} --pipeline_config_path={} --num_train_steps=2000\\\".format(\\n        TRAINING_SCRIPT, paths[\\\"CHECKPOINT_PATH\\\"], files[\\\"PIPELINE_CONFIG\\\"]\\n    )\\n)\\nprint(command)\";\n",
       "                var nbb_cells = Jupyter.notebook.get_cells();\n",
       "                for (var i = 0; i < nbb_cells.length; ++i) {\n",
       "                    if (nbb_cells[i].input_prompt_number == nbb_cell_id) {\n",
       "                        if (nbb_cells[i].get_text() == nbb_unformatted_code) {\n",
       "                             nbb_cells[i].set_text(nbb_formatted_code);\n",
       "                        }\n",
       "                        break;\n",
       "                    }\n",
       "                }\n",
       "            }, 500);\n",
       "            "
      ],
      "text/plain": [
       "<IPython.core.display.Javascript object>"
      ]
     },
     "metadata": {},
     "output_type": "display_data"
    },
    {
     "data": {
      "application/javascript": [
       "\n",
       "            setTimeout(function() {\n",
       "                var nbb_cell_id = 231;\n",
       "                var nbb_unformatted_code = \"TRAINING_SCRIPT = os.path.join(\\n    paths[\\\"APIMODEL_PATH\\\"],\\n    \\\"models\\\",\\n    \\\"research\\\",\\n    \\\"object_detection\\\",\\n    \\\"model_main_tf2.py\\\",\\n)\\ncommand = (\\n    \\\"python3 {} --model_dir={} --pipeline_config_path={} --num_train_steps=2000\\\".format(\\n        TRAINING_SCRIPT, paths[\\\"CHECKPOINT_PATH\\\"], files[\\\"PIPELINE_CONFIG\\\"]\\n    )\\n)\\nprint(command)\";\n",
       "                var nbb_formatted_code = \"TRAINING_SCRIPT = os.path.join(\\n    paths[\\\"APIMODEL_PATH\\\"],\\n    \\\"models\\\",\\n    \\\"research\\\",\\n    \\\"object_detection\\\",\\n    \\\"model_main_tf2.py\\\",\\n)\\ncommand = (\\n    \\\"python3 {} --model_dir={} --pipeline_config_path={} --num_train_steps=2000\\\".format(\\n        TRAINING_SCRIPT, paths[\\\"CHECKPOINT_PATH\\\"], files[\\\"PIPELINE_CONFIG\\\"]\\n    )\\n)\\nprint(command)\";\n",
       "                var nbb_cells = Jupyter.notebook.get_cells();\n",
       "                for (var i = 0; i < nbb_cells.length; ++i) {\n",
       "                    if (nbb_cells[i].input_prompt_number == nbb_cell_id) {\n",
       "                        if (nbb_cells[i].get_text() == nbb_unformatted_code) {\n",
       "                             nbb_cells[i].set_text(nbb_formatted_code);\n",
       "                        }\n",
       "                        break;\n",
       "                    }\n",
       "                }\n",
       "            }, 500);\n",
       "            "
      ],
      "text/plain": [
       "<IPython.core.display.Javascript object>"
      ]
     },
     "metadata": {},
     "output_type": "display_data"
    },
    {
     "data": {
      "application/javascript": [
       "\n",
       "            setTimeout(function() {\n",
       "                var nbb_cell_id = 231;\n",
       "                var nbb_unformatted_code = \"TRAINING_SCRIPT = os.path.join(\\n    paths[\\\"APIMODEL_PATH\\\"],\\n    \\\"models\\\",\\n    \\\"research\\\",\\n    \\\"object_detection\\\",\\n    \\\"model_main_tf2.py\\\",\\n)\\ncommand = (\\n    \\\"python3 {} --model_dir={} --pipeline_config_path={} --num_train_steps=2000\\\".format(\\n        TRAINING_SCRIPT, paths[\\\"CHECKPOINT_PATH\\\"], files[\\\"PIPELINE_CONFIG\\\"]\\n    )\\n)\\nprint(command)\";\n",
       "                var nbb_formatted_code = \"TRAINING_SCRIPT = os.path.join(\\n    paths[\\\"APIMODEL_PATH\\\"],\\n    \\\"models\\\",\\n    \\\"research\\\",\\n    \\\"object_detection\\\",\\n    \\\"model_main_tf2.py\\\",\\n)\\ncommand = (\\n    \\\"python3 {} --model_dir={} --pipeline_config_path={} --num_train_steps=2000\\\".format(\\n        TRAINING_SCRIPT, paths[\\\"CHECKPOINT_PATH\\\"], files[\\\"PIPELINE_CONFIG\\\"]\\n    )\\n)\\nprint(command)\";\n",
       "                var nbb_cells = Jupyter.notebook.get_cells();\n",
       "                for (var i = 0; i < nbb_cells.length; ++i) {\n",
       "                    if (nbb_cells[i].input_prompt_number == nbb_cell_id) {\n",
       "                        if (nbb_cells[i].get_text() == nbb_unformatted_code) {\n",
       "                             nbb_cells[i].set_text(nbb_formatted_code);\n",
       "                        }\n",
       "                        break;\n",
       "                    }\n",
       "                }\n",
       "            }, 500);\n",
       "            "
      ],
      "text/plain": [
       "<IPython.core.display.Javascript object>"
      ]
     },
     "metadata": {},
     "output_type": "display_data"
    },
    {
     "data": {
      "application/javascript": [
       "\n",
       "            setTimeout(function() {\n",
       "                var nbb_cell_id = 231;\n",
       "                var nbb_unformatted_code = \"TRAINING_SCRIPT = os.path.join(\\n    paths[\\\"APIMODEL_PATH\\\"],\\n    \\\"models\\\",\\n    \\\"research\\\",\\n    \\\"object_detection\\\",\\n    \\\"model_main_tf2.py\\\",\\n)\\ncommand = (\\n    \\\"python3 {} --model_dir={} --pipeline_config_path={} --num_train_steps=2000\\\".format(\\n        TRAINING_SCRIPT, paths[\\\"CHECKPOINT_PATH\\\"], files[\\\"PIPELINE_CONFIG\\\"]\\n    )\\n)\\nprint(command)\";\n",
       "                var nbb_formatted_code = \"TRAINING_SCRIPT = os.path.join(\\n    paths[\\\"APIMODEL_PATH\\\"],\\n    \\\"models\\\",\\n    \\\"research\\\",\\n    \\\"object_detection\\\",\\n    \\\"model_main_tf2.py\\\",\\n)\\ncommand = (\\n    \\\"python3 {} --model_dir={} --pipeline_config_path={} --num_train_steps=2000\\\".format(\\n        TRAINING_SCRIPT, paths[\\\"CHECKPOINT_PATH\\\"], files[\\\"PIPELINE_CONFIG\\\"]\\n    )\\n)\\nprint(command)\";\n",
       "                var nbb_cells = Jupyter.notebook.get_cells();\n",
       "                for (var i = 0; i < nbb_cells.length; ++i) {\n",
       "                    if (nbb_cells[i].input_prompt_number == nbb_cell_id) {\n",
       "                        if (nbb_cells[i].get_text() == nbb_unformatted_code) {\n",
       "                             nbb_cells[i].set_text(nbb_formatted_code);\n",
       "                        }\n",
       "                        break;\n",
       "                    }\n",
       "                }\n",
       "            }, 500);\n",
       "            "
      ],
      "text/plain": [
       "<IPython.core.display.Javascript object>"
      ]
     },
     "metadata": {},
     "output_type": "display_data"
    },
    {
     "data": {
      "application/javascript": [
       "\n",
       "            setTimeout(function() {\n",
       "                var nbb_cell_id = 231;\n",
       "                var nbb_unformatted_code = \"TRAINING_SCRIPT = os.path.join(\\n    paths[\\\"APIMODEL_PATH\\\"],\\n    \\\"models\\\",\\n    \\\"research\\\",\\n    \\\"object_detection\\\",\\n    \\\"model_main_tf2.py\\\",\\n)\\ncommand = (\\n    \\\"python3 {} --model_dir={} --pipeline_config_path={} --num_train_steps=2000\\\".format(\\n        TRAINING_SCRIPT, paths[\\\"CHECKPOINT_PATH\\\"], files[\\\"PIPELINE_CONFIG\\\"]\\n    )\\n)\\nprint(command)\";\n",
       "                var nbb_formatted_code = \"TRAINING_SCRIPT = os.path.join(\\n    paths[\\\"APIMODEL_PATH\\\"],\\n    \\\"models\\\",\\n    \\\"research\\\",\\n    \\\"object_detection\\\",\\n    \\\"model_main_tf2.py\\\",\\n)\\ncommand = (\\n    \\\"python3 {} --model_dir={} --pipeline_config_path={} --num_train_steps=2000\\\".format(\\n        TRAINING_SCRIPT, paths[\\\"CHECKPOINT_PATH\\\"], files[\\\"PIPELINE_CONFIG\\\"]\\n    )\\n)\\nprint(command)\";\n",
       "                var nbb_cells = Jupyter.notebook.get_cells();\n",
       "                for (var i = 0; i < nbb_cells.length; ++i) {\n",
       "                    if (nbb_cells[i].input_prompt_number == nbb_cell_id) {\n",
       "                        if (nbb_cells[i].get_text() == nbb_unformatted_code) {\n",
       "                             nbb_cells[i].set_text(nbb_formatted_code);\n",
       "                        }\n",
       "                        break;\n",
       "                    }\n",
       "                }\n",
       "            }, 500);\n",
       "            "
      ],
      "text/plain": [
       "<IPython.core.display.Javascript object>"
      ]
     },
     "metadata": {},
     "output_type": "display_data"
    },
    {
     "data": {
      "application/javascript": [
       "\n",
       "            setTimeout(function() {\n",
       "                var nbb_cell_id = 231;\n",
       "                var nbb_unformatted_code = \"TRAINING_SCRIPT = os.path.join(\\n    paths[\\\"APIMODEL_PATH\\\"],\\n    \\\"models\\\",\\n    \\\"research\\\",\\n    \\\"object_detection\\\",\\n    \\\"model_main_tf2.py\\\",\\n)\\ncommand = (\\n    \\\"python3 {} --model_dir={} --pipeline_config_path={} --num_train_steps=2000\\\".format(\\n        TRAINING_SCRIPT, paths[\\\"CHECKPOINT_PATH\\\"], files[\\\"PIPELINE_CONFIG\\\"]\\n    )\\n)\\nprint(command)\";\n",
       "                var nbb_formatted_code = \"TRAINING_SCRIPT = os.path.join(\\n    paths[\\\"APIMODEL_PATH\\\"],\\n    \\\"models\\\",\\n    \\\"research\\\",\\n    \\\"object_detection\\\",\\n    \\\"model_main_tf2.py\\\",\\n)\\ncommand = (\\n    \\\"python3 {} --model_dir={} --pipeline_config_path={} --num_train_steps=2000\\\".format(\\n        TRAINING_SCRIPT, paths[\\\"CHECKPOINT_PATH\\\"], files[\\\"PIPELINE_CONFIG\\\"]\\n    )\\n)\\nprint(command)\";\n",
       "                var nbb_cells = Jupyter.notebook.get_cells();\n",
       "                for (var i = 0; i < nbb_cells.length; ++i) {\n",
       "                    if (nbb_cells[i].input_prompt_number == nbb_cell_id) {\n",
       "                        if (nbb_cells[i].get_text() == nbb_unformatted_code) {\n",
       "                             nbb_cells[i].set_text(nbb_formatted_code);\n",
       "                        }\n",
       "                        break;\n",
       "                    }\n",
       "                }\n",
       "            }, 500);\n",
       "            "
      ],
      "text/plain": [
       "<IPython.core.display.Javascript object>"
      ]
     },
     "metadata": {},
     "output_type": "display_data"
    },
    {
     "data": {
      "application/javascript": [
       "\n",
       "            setTimeout(function() {\n",
       "                var nbb_cell_id = 231;\n",
       "                var nbb_unformatted_code = \"TRAINING_SCRIPT = os.path.join(\\n    paths[\\\"APIMODEL_PATH\\\"],\\n    \\\"models\\\",\\n    \\\"research\\\",\\n    \\\"object_detection\\\",\\n    \\\"model_main_tf2.py\\\",\\n)\\ncommand = (\\n    \\\"python3 {} --model_dir={} --pipeline_config_path={} --num_train_steps=2000\\\".format(\\n        TRAINING_SCRIPT, paths[\\\"CHECKPOINT_PATH\\\"], files[\\\"PIPELINE_CONFIG\\\"]\\n    )\\n)\\nprint(command)\";\n",
       "                var nbb_formatted_code = \"TRAINING_SCRIPT = os.path.join(\\n    paths[\\\"APIMODEL_PATH\\\"],\\n    \\\"models\\\",\\n    \\\"research\\\",\\n    \\\"object_detection\\\",\\n    \\\"model_main_tf2.py\\\",\\n)\\ncommand = (\\n    \\\"python3 {} --model_dir={} --pipeline_config_path={} --num_train_steps=2000\\\".format(\\n        TRAINING_SCRIPT, paths[\\\"CHECKPOINT_PATH\\\"], files[\\\"PIPELINE_CONFIG\\\"]\\n    )\\n)\\nprint(command)\";\n",
       "                var nbb_cells = Jupyter.notebook.get_cells();\n",
       "                for (var i = 0; i < nbb_cells.length; ++i) {\n",
       "                    if (nbb_cells[i].input_prompt_number == nbb_cell_id) {\n",
       "                        if (nbb_cells[i].get_text() == nbb_unformatted_code) {\n",
       "                             nbb_cells[i].set_text(nbb_formatted_code);\n",
       "                        }\n",
       "                        break;\n",
       "                    }\n",
       "                }\n",
       "            }, 500);\n",
       "            "
      ],
      "text/plain": [
       "<IPython.core.display.Javascript object>"
      ]
     },
     "metadata": {},
     "output_type": "display_data"
    },
    {
     "data": {
      "application/javascript": [
       "\n",
       "            setTimeout(function() {\n",
       "                var nbb_cell_id = 231;\n",
       "                var nbb_unformatted_code = \"TRAINING_SCRIPT = os.path.join(\\n    paths[\\\"APIMODEL_PATH\\\"],\\n    \\\"models\\\",\\n    \\\"research\\\",\\n    \\\"object_detection\\\",\\n    \\\"model_main_tf2.py\\\",\\n)\\ncommand = (\\n    \\\"python3 {} --model_dir={} --pipeline_config_path={} --num_train_steps=2000\\\".format(\\n        TRAINING_SCRIPT, paths[\\\"CHECKPOINT_PATH\\\"], files[\\\"PIPELINE_CONFIG\\\"]\\n    )\\n)\\nprint(command)\";\n",
       "                var nbb_formatted_code = \"TRAINING_SCRIPT = os.path.join(\\n    paths[\\\"APIMODEL_PATH\\\"],\\n    \\\"models\\\",\\n    \\\"research\\\",\\n    \\\"object_detection\\\",\\n    \\\"model_main_tf2.py\\\",\\n)\\ncommand = (\\n    \\\"python3 {} --model_dir={} --pipeline_config_path={} --num_train_steps=2000\\\".format(\\n        TRAINING_SCRIPT, paths[\\\"CHECKPOINT_PATH\\\"], files[\\\"PIPELINE_CONFIG\\\"]\\n    )\\n)\\nprint(command)\";\n",
       "                var nbb_cells = Jupyter.notebook.get_cells();\n",
       "                for (var i = 0; i < nbb_cells.length; ++i) {\n",
       "                    if (nbb_cells[i].input_prompt_number == nbb_cell_id) {\n",
       "                        if (nbb_cells[i].get_text() == nbb_unformatted_code) {\n",
       "                             nbb_cells[i].set_text(nbb_formatted_code);\n",
       "                        }\n",
       "                        break;\n",
       "                    }\n",
       "                }\n",
       "            }, 500);\n",
       "            "
      ],
      "text/plain": [
       "<IPython.core.display.Javascript object>"
      ]
     },
     "metadata": {},
     "output_type": "display_data"
    },
    {
     "data": {
      "application/javascript": [
       "\n",
       "            setTimeout(function() {\n",
       "                var nbb_cell_id = 231;\n",
       "                var nbb_unformatted_code = \"TRAINING_SCRIPT = os.path.join(\\n    paths[\\\"APIMODEL_PATH\\\"],\\n    \\\"models\\\",\\n    \\\"research\\\",\\n    \\\"object_detection\\\",\\n    \\\"model_main_tf2.py\\\",\\n)\\ncommand = (\\n    \\\"python3 {} --model_dir={} --pipeline_config_path={} --num_train_steps=2000\\\".format(\\n        TRAINING_SCRIPT, paths[\\\"CHECKPOINT_PATH\\\"], files[\\\"PIPELINE_CONFIG\\\"]\\n    )\\n)\\nprint(command)\";\n",
       "                var nbb_formatted_code = \"TRAINING_SCRIPT = os.path.join(\\n    paths[\\\"APIMODEL_PATH\\\"],\\n    \\\"models\\\",\\n    \\\"research\\\",\\n    \\\"object_detection\\\",\\n    \\\"model_main_tf2.py\\\",\\n)\\ncommand = (\\n    \\\"python3 {} --model_dir={} --pipeline_config_path={} --num_train_steps=2000\\\".format(\\n        TRAINING_SCRIPT, paths[\\\"CHECKPOINT_PATH\\\"], files[\\\"PIPELINE_CONFIG\\\"]\\n    )\\n)\\nprint(command)\";\n",
       "                var nbb_cells = Jupyter.notebook.get_cells();\n",
       "                for (var i = 0; i < nbb_cells.length; ++i) {\n",
       "                    if (nbb_cells[i].input_prompt_number == nbb_cell_id) {\n",
       "                        if (nbb_cells[i].get_text() == nbb_unformatted_code) {\n",
       "                             nbb_cells[i].set_text(nbb_formatted_code);\n",
       "                        }\n",
       "                        break;\n",
       "                    }\n",
       "                }\n",
       "            }, 500);\n",
       "            "
      ],
      "text/plain": [
       "<IPython.core.display.Javascript object>"
      ]
     },
     "metadata": {},
     "output_type": "display_data"
    },
    {
     "data": {
      "application/javascript": [
       "\n",
       "            setTimeout(function() {\n",
       "                var nbb_cell_id = 231;\n",
       "                var nbb_unformatted_code = \"TRAINING_SCRIPT = os.path.join(\\n    paths[\\\"APIMODEL_PATH\\\"],\\n    \\\"models\\\",\\n    \\\"research\\\",\\n    \\\"object_detection\\\",\\n    \\\"model_main_tf2.py\\\",\\n)\\ncommand = (\\n    \\\"python3 {} --model_dir={} --pipeline_config_path={} --num_train_steps=2000\\\".format(\\n        TRAINING_SCRIPT, paths[\\\"CHECKPOINT_PATH\\\"], files[\\\"PIPELINE_CONFIG\\\"]\\n    )\\n)\\nprint(command)\";\n",
       "                var nbb_formatted_code = \"TRAINING_SCRIPT = os.path.join(\\n    paths[\\\"APIMODEL_PATH\\\"],\\n    \\\"models\\\",\\n    \\\"research\\\",\\n    \\\"object_detection\\\",\\n    \\\"model_main_tf2.py\\\",\\n)\\ncommand = (\\n    \\\"python3 {} --model_dir={} --pipeline_config_path={} --num_train_steps=2000\\\".format(\\n        TRAINING_SCRIPT, paths[\\\"CHECKPOINT_PATH\\\"], files[\\\"PIPELINE_CONFIG\\\"]\\n    )\\n)\\nprint(command)\";\n",
       "                var nbb_cells = Jupyter.notebook.get_cells();\n",
       "                for (var i = 0; i < nbb_cells.length; ++i) {\n",
       "                    if (nbb_cells[i].input_prompt_number == nbb_cell_id) {\n",
       "                        if (nbb_cells[i].get_text() == nbb_unformatted_code) {\n",
       "                             nbb_cells[i].set_text(nbb_formatted_code);\n",
       "                        }\n",
       "                        break;\n",
       "                    }\n",
       "                }\n",
       "            }, 500);\n",
       "            "
      ],
      "text/plain": [
       "<IPython.core.display.Javascript object>"
      ]
     },
     "metadata": {},
     "output_type": "display_data"
    }
   ],
   "source": [
    "TRAINING_SCRIPT = os.path.join(\n",
    "    paths[\"APIMODEL_PATH\"],\n",
    "    \"models\",\n",
    "    \"research\",\n",
    "    \"object_detection\",\n",
    "    \"model_main_tf2.py\",\n",
    ")\n",
    "command = (\n",
    "    \"python3 {} --model_dir={} --pipeline_config_path={} --num_train_steps=2000\".format(\n",
    "        TRAINING_SCRIPT, paths[\"CHECKPOINT_PATH\"], files[\"PIPELINE_CONFIG\"]\n",
    "    )\n",
    ")\n",
    "print(command)"
   ]
  },
  {
   "cell_type": "code",
   "execution_count": 241,
   "id": "fa1046c7",
   "metadata": {},
   "outputs": [
    {
     "data": {
      "application/javascript": [
       "\n",
       "            setTimeout(function() {\n",
       "                var nbb_cell_id = 241;\n",
       "                var nbb_unformatted_code = \"files = f\\\"{parent_directory}/requirements.txt\\\"\\n!touch files && pip3 freeze > {files}\";\n",
       "                var nbb_formatted_code = \"files = f\\\"{parent_directory}/requirements.txt\\\"\\n!touch files && pip3 freeze > {files}\";\n",
       "                var nbb_cells = Jupyter.notebook.get_cells();\n",
       "                for (var i = 0; i < nbb_cells.length; ++i) {\n",
       "                    if (nbb_cells[i].input_prompt_number == nbb_cell_id) {\n",
       "                        if (nbb_cells[i].get_text() == nbb_unformatted_code) {\n",
       "                             nbb_cells[i].set_text(nbb_formatted_code);\n",
       "                        }\n",
       "                        break;\n",
       "                    }\n",
       "                }\n",
       "            }, 500);\n",
       "            "
      ],
      "text/plain": [
       "<IPython.core.display.Javascript object>"
      ]
     },
     "metadata": {},
     "output_type": "display_data"
    },
    {
     "data": {
      "application/javascript": [
       "\n",
       "            setTimeout(function() {\n",
       "                var nbb_cell_id = 241;\n",
       "                var nbb_unformatted_code = \"files = f\\\"{parent_directory}/requirements.txt\\\"\\n!touch files && pip3 freeze > {files}\";\n",
       "                var nbb_formatted_code = \"files = f\\\"{parent_directory}/requirements.txt\\\"\\n!touch files && pip3 freeze > {files}\";\n",
       "                var nbb_cells = Jupyter.notebook.get_cells();\n",
       "                for (var i = 0; i < nbb_cells.length; ++i) {\n",
       "                    if (nbb_cells[i].input_prompt_number == nbb_cell_id) {\n",
       "                        if (nbb_cells[i].get_text() == nbb_unformatted_code) {\n",
       "                             nbb_cells[i].set_text(nbb_formatted_code);\n",
       "                        }\n",
       "                        break;\n",
       "                    }\n",
       "                }\n",
       "            }, 500);\n",
       "            "
      ],
      "text/plain": [
       "<IPython.core.display.Javascript object>"
      ]
     },
     "metadata": {},
     "output_type": "display_data"
    },
    {
     "data": {
      "application/javascript": [
       "\n",
       "            setTimeout(function() {\n",
       "                var nbb_cell_id = 241;\n",
       "                var nbb_unformatted_code = \"files = f\\\"{parent_directory}/requirements.txt\\\"\\n!touch files && pip3 freeze > {files}\";\n",
       "                var nbb_formatted_code = \"files = f\\\"{parent_directory}/requirements.txt\\\"\\n!touch files && pip3 freeze > {files}\";\n",
       "                var nbb_cells = Jupyter.notebook.get_cells();\n",
       "                for (var i = 0; i < nbb_cells.length; ++i) {\n",
       "                    if (nbb_cells[i].input_prompt_number == nbb_cell_id) {\n",
       "                        if (nbb_cells[i].get_text() == nbb_unformatted_code) {\n",
       "                             nbb_cells[i].set_text(nbb_formatted_code);\n",
       "                        }\n",
       "                        break;\n",
       "                    }\n",
       "                }\n",
       "            }, 500);\n",
       "            "
      ],
      "text/plain": [
       "<IPython.core.display.Javascript object>"
      ]
     },
     "metadata": {},
     "output_type": "display_data"
    },
    {
     "data": {
      "application/javascript": [
       "\n",
       "            setTimeout(function() {\n",
       "                var nbb_cell_id = 241;\n",
       "                var nbb_unformatted_code = \"files = f\\\"{parent_directory}/requirements.txt\\\"\\n!touch files && pip3 freeze > {files}\";\n",
       "                var nbb_formatted_code = \"files = f\\\"{parent_directory}/requirements.txt\\\"\\n!touch files && pip3 freeze > {files}\";\n",
       "                var nbb_cells = Jupyter.notebook.get_cells();\n",
       "                for (var i = 0; i < nbb_cells.length; ++i) {\n",
       "                    if (nbb_cells[i].input_prompt_number == nbb_cell_id) {\n",
       "                        if (nbb_cells[i].get_text() == nbb_unformatted_code) {\n",
       "                             nbb_cells[i].set_text(nbb_formatted_code);\n",
       "                        }\n",
       "                        break;\n",
       "                    }\n",
       "                }\n",
       "            }, 500);\n",
       "            "
      ],
      "text/plain": [
       "<IPython.core.display.Javascript object>"
      ]
     },
     "metadata": {},
     "output_type": "display_data"
    },
    {
     "data": {
      "application/javascript": [
       "\n",
       "            setTimeout(function() {\n",
       "                var nbb_cell_id = 241;\n",
       "                var nbb_unformatted_code = \"files = f\\\"{parent_directory}/requirements.txt\\\"\\n!touch files && pip3 freeze > {files}\";\n",
       "                var nbb_formatted_code = \"files = f\\\"{parent_directory}/requirements.txt\\\"\\n!touch files && pip3 freeze > {files}\";\n",
       "                var nbb_cells = Jupyter.notebook.get_cells();\n",
       "                for (var i = 0; i < nbb_cells.length; ++i) {\n",
       "                    if (nbb_cells[i].input_prompt_number == nbb_cell_id) {\n",
       "                        if (nbb_cells[i].get_text() == nbb_unformatted_code) {\n",
       "                             nbb_cells[i].set_text(nbb_formatted_code);\n",
       "                        }\n",
       "                        break;\n",
       "                    }\n",
       "                }\n",
       "            }, 500);\n",
       "            "
      ],
      "text/plain": [
       "<IPython.core.display.Javascript object>"
      ]
     },
     "metadata": {},
     "output_type": "display_data"
    },
    {
     "data": {
      "application/javascript": [
       "\n",
       "            setTimeout(function() {\n",
       "                var nbb_cell_id = 241;\n",
       "                var nbb_unformatted_code = \"files = f\\\"{parent_directory}/requirements.txt\\\"\\n!touch files && pip3 freeze > {files}\";\n",
       "                var nbb_formatted_code = \"files = f\\\"{parent_directory}/requirements.txt\\\"\\n!touch files && pip3 freeze > {files}\";\n",
       "                var nbb_cells = Jupyter.notebook.get_cells();\n",
       "                for (var i = 0; i < nbb_cells.length; ++i) {\n",
       "                    if (nbb_cells[i].input_prompt_number == nbb_cell_id) {\n",
       "                        if (nbb_cells[i].get_text() == nbb_unformatted_code) {\n",
       "                             nbb_cells[i].set_text(nbb_formatted_code);\n",
       "                        }\n",
       "                        break;\n",
       "                    }\n",
       "                }\n",
       "            }, 500);\n",
       "            "
      ],
      "text/plain": [
       "<IPython.core.display.Javascript object>"
      ]
     },
     "metadata": {},
     "output_type": "display_data"
    },
    {
     "data": {
      "application/javascript": [
       "\n",
       "            setTimeout(function() {\n",
       "                var nbb_cell_id = 241;\n",
       "                var nbb_unformatted_code = \"files = f\\\"{parent_directory}/requirements.txt\\\"\\n!touch files && pip3 freeze > {files}\";\n",
       "                var nbb_formatted_code = \"files = f\\\"{parent_directory}/requirements.txt\\\"\\n!touch files && pip3 freeze > {files}\";\n",
       "                var nbb_cells = Jupyter.notebook.get_cells();\n",
       "                for (var i = 0; i < nbb_cells.length; ++i) {\n",
       "                    if (nbb_cells[i].input_prompt_number == nbb_cell_id) {\n",
       "                        if (nbb_cells[i].get_text() == nbb_unformatted_code) {\n",
       "                             nbb_cells[i].set_text(nbb_formatted_code);\n",
       "                        }\n",
       "                        break;\n",
       "                    }\n",
       "                }\n",
       "            }, 500);\n",
       "            "
      ],
      "text/plain": [
       "<IPython.core.display.Javascript object>"
      ]
     },
     "metadata": {},
     "output_type": "display_data"
    },
    {
     "data": {
      "application/javascript": [
       "\n",
       "            setTimeout(function() {\n",
       "                var nbb_cell_id = 241;\n",
       "                var nbb_unformatted_code = \"files = f\\\"{parent_directory}/requirements.txt\\\"\\n!touch files && pip3 freeze > {files}\";\n",
       "                var nbb_formatted_code = \"files = f\\\"{parent_directory}/requirements.txt\\\"\\n!touch files && pip3 freeze > {files}\";\n",
       "                var nbb_cells = Jupyter.notebook.get_cells();\n",
       "                for (var i = 0; i < nbb_cells.length; ++i) {\n",
       "                    if (nbb_cells[i].input_prompt_number == nbb_cell_id) {\n",
       "                        if (nbb_cells[i].get_text() == nbb_unformatted_code) {\n",
       "                             nbb_cells[i].set_text(nbb_formatted_code);\n",
       "                        }\n",
       "                        break;\n",
       "                    }\n",
       "                }\n",
       "            }, 500);\n",
       "            "
      ],
      "text/plain": [
       "<IPython.core.display.Javascript object>"
      ]
     },
     "metadata": {},
     "output_type": "display_data"
    },
    {
     "data": {
      "application/javascript": [
       "\n",
       "            setTimeout(function() {\n",
       "                var nbb_cell_id = 241;\n",
       "                var nbb_unformatted_code = \"files = f\\\"{parent_directory}/requirements.txt\\\"\\n!touch files && pip3 freeze > {files}\";\n",
       "                var nbb_formatted_code = \"files = f\\\"{parent_directory}/requirements.txt\\\"\\n!touch files && pip3 freeze > {files}\";\n",
       "                var nbb_cells = Jupyter.notebook.get_cells();\n",
       "                for (var i = 0; i < nbb_cells.length; ++i) {\n",
       "                    if (nbb_cells[i].input_prompt_number == nbb_cell_id) {\n",
       "                        if (nbb_cells[i].get_text() == nbb_unformatted_code) {\n",
       "                             nbb_cells[i].set_text(nbb_formatted_code);\n",
       "                        }\n",
       "                        break;\n",
       "                    }\n",
       "                }\n",
       "            }, 500);\n",
       "            "
      ],
      "text/plain": [
       "<IPython.core.display.Javascript object>"
      ]
     },
     "metadata": {},
     "output_type": "display_data"
    },
    {
     "data": {
      "application/javascript": [
       "\n",
       "            setTimeout(function() {\n",
       "                var nbb_cell_id = 241;\n",
       "                var nbb_unformatted_code = \"files = f\\\"{parent_directory}/requirements.txt\\\"\\n!touch files && pip3 freeze > {files}\";\n",
       "                var nbb_formatted_code = \"files = f\\\"{parent_directory}/requirements.txt\\\"\\n!touch files && pip3 freeze > {files}\";\n",
       "                var nbb_cells = Jupyter.notebook.get_cells();\n",
       "                for (var i = 0; i < nbb_cells.length; ++i) {\n",
       "                    if (nbb_cells[i].input_prompt_number == nbb_cell_id) {\n",
       "                        if (nbb_cells[i].get_text() == nbb_unformatted_code) {\n",
       "                             nbb_cells[i].set_text(nbb_formatted_code);\n",
       "                        }\n",
       "                        break;\n",
       "                    }\n",
       "                }\n",
       "            }, 500);\n",
       "            "
      ],
      "text/plain": [
       "<IPython.core.display.Javascript object>"
      ]
     },
     "metadata": {},
     "output_type": "display_data"
    }
   ],
   "source": [
    "files = f\"{parent_directory}/requirements.txt\"\n",
    "!touch files && pip3 freeze > {files}"
   ]
  }
 ],
 "metadata": {
  "kernelspec": {
   "display_name": "Python deep-route",
   "language": "python",
   "name": "deep-route"
  },
  "language_info": {
   "codemirror_mode": {
    "name": "ipython",
    "version": 3
   },
   "file_extension": ".py",
   "mimetype": "text/x-python",
   "name": "python",
   "nbconvert_exporter": "python",
   "pygments_lexer": "ipython3",
   "version": "3.8.10"
  }
 },
 "nbformat": 4,
 "nbformat_minor": 5
}
